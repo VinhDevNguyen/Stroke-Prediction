{
 "metadata": {
  "language_info": {
   "codemirror_mode": {
    "name": "ipython",
    "version": 3
   },
   "file_extension": ".py",
   "mimetype": "text/x-python",
   "name": "python",
   "nbconvert_exporter": "python",
   "pygments_lexer": "ipython3",
   "version": "3.8.5"
  },
  "orig_nbformat": 2,
  "kernelspec": {
   "name": "python385jvsc74a57bd01f4e33760a034530d14b2a7b5c7f382bc2049024f7abe4fc2e79344349930bf9",
   "display_name": "Python 3.8.5 64-bit ('Stroke_Env': venv)"
  },
  "metadata": {
   "interpreter": {
    "hash": "dcacb0086e9a4f4eabd41c33bf4faac5ea0a3337ed3f5eff0680afa930572c04"
   }
  }
 },
 "nbformat": 4,
 "nbformat_minor": 2,
 "cells": [
  {
   "source": [
    "## Import package"
   ],
   "cell_type": "markdown",
   "metadata": {}
  },
  {
   "cell_type": "code",
   "execution_count": 1,
   "metadata": {},
   "outputs": [],
   "source": [
    "import pandas as pd\n",
    "import sklearn\n",
    "import matplotlib.pyplot as plt\n",
    "import seaborn as sns\n",
    "import numpy as np\n",
    "from numpy import mean, std\n",
    "from sklearn.linear_model import LinearRegression\n",
    "from sklearn.metrics import f1_score, roc_auc_score, confusion_matrix\n",
    "from sklearn.preprocessing import StandardScaler, OneHotEncoder, LabelEncoder\n",
    "from sklearn.ensemble import RandomForestClassifier\n",
    "from sklearn.pipeline import Pipeline\n",
    "from sklearn.impute import KNNImputer\n",
    "from sklearn.model_selection import train_test_split, RepeatedStratifiedKFold, cross_val_score\n",
    "from imblearn.over_sampling import SMOTE"
   ]
  },
  {
   "source": [
    "## Read dataset"
   ],
   "cell_type": "markdown",
   "metadata": {}
  },
  {
   "cell_type": "code",
   "execution_count": 2,
   "metadata": {},
   "outputs": [
    {
     "output_type": "execute_result",
     "data": {
      "text/plain": [
       "    id  gender   age  hypertension  heart_disease ever_married work_type  \\\n",
       "0   77  Female   NaN           0.0            0.0           No  children   \n",
       "1   84    Male  55.0           0.0            0.0          Yes   Private   \n",
       "2   91  Female  42.0           0.0            0.0           No   Private   \n",
       "3   99  Female  31.0           0.0            0.0           No   Private   \n",
       "4  121  Female  38.0           0.0            0.0          Yes   Private   \n",
       "\n",
       "  Residence_type  avg_glucose_level   bmi smoking_status blood  height  stroke  \n",
       "0        Unknown              85.81  18.6        Unknown     O     NaN       0  \n",
       "1          Urban              89.17   NaN   never smoked     B    1.59       0  \n",
       "2        Unknown              98.53  18.5   never smoked     B     NaN       0  \n",
       "3          Urban             108.89  52.3        Unknown     O    1.24       0  \n",
       "4        Unknown              91.44   NaN        Unknown     O     NaN       0  "
      ],
      "text/html": "<div>\n<style scoped>\n    .dataframe tbody tr th:only-of-type {\n        vertical-align: middle;\n    }\n\n    .dataframe tbody tr th {\n        vertical-align: top;\n    }\n\n    .dataframe thead th {\n        text-align: right;\n    }\n</style>\n<table border=\"1\" class=\"dataframe\">\n  <thead>\n    <tr style=\"text-align: right;\">\n      <th></th>\n      <th>id</th>\n      <th>gender</th>\n      <th>age</th>\n      <th>hypertension</th>\n      <th>heart_disease</th>\n      <th>ever_married</th>\n      <th>work_type</th>\n      <th>Residence_type</th>\n      <th>avg_glucose_level</th>\n      <th>bmi</th>\n      <th>smoking_status</th>\n      <th>blood</th>\n      <th>height</th>\n      <th>stroke</th>\n    </tr>\n  </thead>\n  <tbody>\n    <tr>\n      <th>0</th>\n      <td>77</td>\n      <td>Female</td>\n      <td>NaN</td>\n      <td>0.0</td>\n      <td>0.0</td>\n      <td>No</td>\n      <td>children</td>\n      <td>Unknown</td>\n      <td>85.81</td>\n      <td>18.6</td>\n      <td>Unknown</td>\n      <td>O</td>\n      <td>NaN</td>\n      <td>0</td>\n    </tr>\n    <tr>\n      <th>1</th>\n      <td>84</td>\n      <td>Male</td>\n      <td>55.0</td>\n      <td>0.0</td>\n      <td>0.0</td>\n      <td>Yes</td>\n      <td>Private</td>\n      <td>Urban</td>\n      <td>89.17</td>\n      <td>NaN</td>\n      <td>never smoked</td>\n      <td>B</td>\n      <td>1.59</td>\n      <td>0</td>\n    </tr>\n    <tr>\n      <th>2</th>\n      <td>91</td>\n      <td>Female</td>\n      <td>42.0</td>\n      <td>0.0</td>\n      <td>0.0</td>\n      <td>No</td>\n      <td>Private</td>\n      <td>Unknown</td>\n      <td>98.53</td>\n      <td>18.5</td>\n      <td>never smoked</td>\n      <td>B</td>\n      <td>NaN</td>\n      <td>0</td>\n    </tr>\n    <tr>\n      <th>3</th>\n      <td>99</td>\n      <td>Female</td>\n      <td>31.0</td>\n      <td>0.0</td>\n      <td>0.0</td>\n      <td>No</td>\n      <td>Private</td>\n      <td>Urban</td>\n      <td>108.89</td>\n      <td>52.3</td>\n      <td>Unknown</td>\n      <td>O</td>\n      <td>1.24</td>\n      <td>0</td>\n    </tr>\n    <tr>\n      <th>4</th>\n      <td>121</td>\n      <td>Female</td>\n      <td>38.0</td>\n      <td>0.0</td>\n      <td>0.0</td>\n      <td>Yes</td>\n      <td>Private</td>\n      <td>Unknown</td>\n      <td>91.44</td>\n      <td>NaN</td>\n      <td>Unknown</td>\n      <td>O</td>\n      <td>NaN</td>\n      <td>0</td>\n    </tr>\n  </tbody>\n</table>\n</div>"
     },
     "metadata": {},
     "execution_count": 2
    }
   ],
   "source": [
    "raw_df = pd.read_csv('./Dataset/train.csv')\n",
    "raw_df_test = pd.read_csv('./Dataset/public_test.csv')\n",
    "raw_df.head()"
   ]
  },
  {
   "source": [
    "Drop `id` feature because it's useless"
   ],
   "cell_type": "markdown",
   "metadata": {}
  },
  {
   "cell_type": "code",
   "execution_count": 3,
   "metadata": {},
   "outputs": [
    {
     "output_type": "execute_result",
     "data": {
      "text/plain": [
       "      gender   age  hypertension  heart_disease ever_married work_type  \\\n",
       "0     Female   NaN           0.0            0.0           No  children   \n",
       "1       Male  55.0           0.0            0.0          Yes   Private   \n",
       "2     Female  42.0           0.0            0.0           No   Private   \n",
       "3     Female  31.0           0.0            0.0           No   Private   \n",
       "4     Female  38.0           0.0            0.0          Yes   Private   \n",
       "...      ...   ...           ...            ...          ...       ...   \n",
       "3995    Male  16.0           0.0            0.0           No   Private   \n",
       "3996    Male  47.0           0.0            0.0          Yes   Private   \n",
       "3997   Other  57.0           1.0            0.0          Yes   Private   \n",
       "3998  Female  45.0           0.0            0.0          Yes   Private   \n",
       "3999  Female  53.0           1.0            0.0          Yes   Private   \n",
       "\n",
       "     Residence_type  avg_glucose_level   bmi   smoking_status blood  stroke  \n",
       "0           Unknown              85.81  18.6          Unknown     O       0  \n",
       "1             Urban              89.17   NaN     never smoked     B       0  \n",
       "2           Unknown              98.53  18.5     never smoked     B       0  \n",
       "3             Urban             108.89  52.3          Unknown     O       0  \n",
       "4           Unknown              91.44   NaN          Unknown     O       0  \n",
       "...             ...                ...   ...              ...   ...     ...  \n",
       "3995        Unknown              99.49  22.0          Unknown     B       0  \n",
       "3996          Rural              75.30  25.0  formerly smoked     B       0  \n",
       "3997          Rural             129.54  60.9           smokes    AB       0  \n",
       "3998        Unknown             172.33  45.3  formerly smoked     O       0  \n",
       "3999          Urban              62.55  30.3          Unknown     O       1  \n",
       "\n",
       "[4000 rows x 12 columns]"
      ],
      "text/html": "<div>\n<style scoped>\n    .dataframe tbody tr th:only-of-type {\n        vertical-align: middle;\n    }\n\n    .dataframe tbody tr th {\n        vertical-align: top;\n    }\n\n    .dataframe thead th {\n        text-align: right;\n    }\n</style>\n<table border=\"1\" class=\"dataframe\">\n  <thead>\n    <tr style=\"text-align: right;\">\n      <th></th>\n      <th>gender</th>\n      <th>age</th>\n      <th>hypertension</th>\n      <th>heart_disease</th>\n      <th>ever_married</th>\n      <th>work_type</th>\n      <th>Residence_type</th>\n      <th>avg_glucose_level</th>\n      <th>bmi</th>\n      <th>smoking_status</th>\n      <th>blood</th>\n      <th>stroke</th>\n    </tr>\n  </thead>\n  <tbody>\n    <tr>\n      <th>0</th>\n      <td>Female</td>\n      <td>NaN</td>\n      <td>0.0</td>\n      <td>0.0</td>\n      <td>No</td>\n      <td>children</td>\n      <td>Unknown</td>\n      <td>85.81</td>\n      <td>18.6</td>\n      <td>Unknown</td>\n      <td>O</td>\n      <td>0</td>\n    </tr>\n    <tr>\n      <th>1</th>\n      <td>Male</td>\n      <td>55.0</td>\n      <td>0.0</td>\n      <td>0.0</td>\n      <td>Yes</td>\n      <td>Private</td>\n      <td>Urban</td>\n      <td>89.17</td>\n      <td>NaN</td>\n      <td>never smoked</td>\n      <td>B</td>\n      <td>0</td>\n    </tr>\n    <tr>\n      <th>2</th>\n      <td>Female</td>\n      <td>42.0</td>\n      <td>0.0</td>\n      <td>0.0</td>\n      <td>No</td>\n      <td>Private</td>\n      <td>Unknown</td>\n      <td>98.53</td>\n      <td>18.5</td>\n      <td>never smoked</td>\n      <td>B</td>\n      <td>0</td>\n    </tr>\n    <tr>\n      <th>3</th>\n      <td>Female</td>\n      <td>31.0</td>\n      <td>0.0</td>\n      <td>0.0</td>\n      <td>No</td>\n      <td>Private</td>\n      <td>Urban</td>\n      <td>108.89</td>\n      <td>52.3</td>\n      <td>Unknown</td>\n      <td>O</td>\n      <td>0</td>\n    </tr>\n    <tr>\n      <th>4</th>\n      <td>Female</td>\n      <td>38.0</td>\n      <td>0.0</td>\n      <td>0.0</td>\n      <td>Yes</td>\n      <td>Private</td>\n      <td>Unknown</td>\n      <td>91.44</td>\n      <td>NaN</td>\n      <td>Unknown</td>\n      <td>O</td>\n      <td>0</td>\n    </tr>\n    <tr>\n      <th>...</th>\n      <td>...</td>\n      <td>...</td>\n      <td>...</td>\n      <td>...</td>\n      <td>...</td>\n      <td>...</td>\n      <td>...</td>\n      <td>...</td>\n      <td>...</td>\n      <td>...</td>\n      <td>...</td>\n      <td>...</td>\n    </tr>\n    <tr>\n      <th>3995</th>\n      <td>Male</td>\n      <td>16.0</td>\n      <td>0.0</td>\n      <td>0.0</td>\n      <td>No</td>\n      <td>Private</td>\n      <td>Unknown</td>\n      <td>99.49</td>\n      <td>22.0</td>\n      <td>Unknown</td>\n      <td>B</td>\n      <td>0</td>\n    </tr>\n    <tr>\n      <th>3996</th>\n      <td>Male</td>\n      <td>47.0</td>\n      <td>0.0</td>\n      <td>0.0</td>\n      <td>Yes</td>\n      <td>Private</td>\n      <td>Rural</td>\n      <td>75.30</td>\n      <td>25.0</td>\n      <td>formerly smoked</td>\n      <td>B</td>\n      <td>0</td>\n    </tr>\n    <tr>\n      <th>3997</th>\n      <td>Other</td>\n      <td>57.0</td>\n      <td>1.0</td>\n      <td>0.0</td>\n      <td>Yes</td>\n      <td>Private</td>\n      <td>Rural</td>\n      <td>129.54</td>\n      <td>60.9</td>\n      <td>smokes</td>\n      <td>AB</td>\n      <td>0</td>\n    </tr>\n    <tr>\n      <th>3998</th>\n      <td>Female</td>\n      <td>45.0</td>\n      <td>0.0</td>\n      <td>0.0</td>\n      <td>Yes</td>\n      <td>Private</td>\n      <td>Unknown</td>\n      <td>172.33</td>\n      <td>45.3</td>\n      <td>formerly smoked</td>\n      <td>O</td>\n      <td>0</td>\n    </tr>\n    <tr>\n      <th>3999</th>\n      <td>Female</td>\n      <td>53.0</td>\n      <td>1.0</td>\n      <td>0.0</td>\n      <td>Yes</td>\n      <td>Private</td>\n      <td>Urban</td>\n      <td>62.55</td>\n      <td>30.3</td>\n      <td>Unknown</td>\n      <td>O</td>\n      <td>1</td>\n    </tr>\n  </tbody>\n</table>\n<p>4000 rows × 12 columns</p>\n</div>"
     },
     "metadata": {},
     "execution_count": 3
    }
   ],
   "source": [
    "df = raw_df.copy()\n",
    "df_test = raw_df_test.copy()\n",
    "df.drop(columns=['id', 'height'], inplace=True)\n",
    "df_test.drop(columns=['height'], inplace=True)\n",
    "df"
   ]
  },
  {
   "cell_type": "code",
   "execution_count": 4,
   "metadata": {},
   "outputs": [],
   "source": [
    "def draw_missing_data_table(data):\n",
    "    total = data.isnull().sum().sort_values(ascending=False)\n",
    "    percent = (data.isnull().sum()/data.isnull().count()).sort_values(ascending=False)\n",
    "    missing_data = pd.concat([total, percent], axis=1, keys=['Total', 'Percent'])\n",
    "    return missing_data"
   ]
  },
  {
   "cell_type": "code",
   "execution_count": 5,
   "metadata": {},
   "outputs": [
    {
     "output_type": "execute_result",
     "data": {
      "text/plain": [
       "                   Total  Percent\n",
       "bmi                 1116  0.27900\n",
       "hypertension         230  0.05750\n",
       "avg_glucose_level    171  0.04275\n",
       "age                  107  0.02675\n",
       "heart_disease         90  0.02250\n",
       "blood                 10  0.00250\n",
       "gender                 0  0.00000\n",
       "ever_married           0  0.00000\n",
       "work_type              0  0.00000\n",
       "Residence_type         0  0.00000\n",
       "smoking_status         0  0.00000\n",
       "stroke                 0  0.00000"
      ],
      "text/html": "<div>\n<style scoped>\n    .dataframe tbody tr th:only-of-type {\n        vertical-align: middle;\n    }\n\n    .dataframe tbody tr th {\n        vertical-align: top;\n    }\n\n    .dataframe thead th {\n        text-align: right;\n    }\n</style>\n<table border=\"1\" class=\"dataframe\">\n  <thead>\n    <tr style=\"text-align: right;\">\n      <th></th>\n      <th>Total</th>\n      <th>Percent</th>\n    </tr>\n  </thead>\n  <tbody>\n    <tr>\n      <th>bmi</th>\n      <td>1116</td>\n      <td>0.27900</td>\n    </tr>\n    <tr>\n      <th>hypertension</th>\n      <td>230</td>\n      <td>0.05750</td>\n    </tr>\n    <tr>\n      <th>avg_glucose_level</th>\n      <td>171</td>\n      <td>0.04275</td>\n    </tr>\n    <tr>\n      <th>age</th>\n      <td>107</td>\n      <td>0.02675</td>\n    </tr>\n    <tr>\n      <th>heart_disease</th>\n      <td>90</td>\n      <td>0.02250</td>\n    </tr>\n    <tr>\n      <th>blood</th>\n      <td>10</td>\n      <td>0.00250</td>\n    </tr>\n    <tr>\n      <th>gender</th>\n      <td>0</td>\n      <td>0.00000</td>\n    </tr>\n    <tr>\n      <th>ever_married</th>\n      <td>0</td>\n      <td>0.00000</td>\n    </tr>\n    <tr>\n      <th>work_type</th>\n      <td>0</td>\n      <td>0.00000</td>\n    </tr>\n    <tr>\n      <th>Residence_type</th>\n      <td>0</td>\n      <td>0.00000</td>\n    </tr>\n    <tr>\n      <th>smoking_status</th>\n      <td>0</td>\n      <td>0.00000</td>\n    </tr>\n    <tr>\n      <th>stroke</th>\n      <td>0</td>\n      <td>0.00000</td>\n    </tr>\n  </tbody>\n</table>\n</div>"
     },
     "metadata": {},
     "execution_count": 5
    }
   ],
   "source": [
    "draw_missing_data_table(df)"
   ]
  },
  {
   "cell_type": "code",
   "execution_count": 6,
   "metadata": {},
   "outputs": [
    {
     "output_type": "execute_result",
     "data": {
      "text/plain": [
       "                   Total  Percent\n",
       "heart_disease        134    0.268\n",
       "hypertension          45    0.090\n",
       "bmi                   43    0.086\n",
       "age                   11    0.022\n",
       "avg_glucose_level      6    0.012\n",
       "id                     0    0.000\n",
       "gender                 0    0.000\n",
       "ever_married           0    0.000\n",
       "work_type              0    0.000\n",
       "Residence_type         0    0.000\n",
       "smoking_status         0    0.000\n",
       "blood                  0    0.000"
      ],
      "text/html": "<div>\n<style scoped>\n    .dataframe tbody tr th:only-of-type {\n        vertical-align: middle;\n    }\n\n    .dataframe tbody tr th {\n        vertical-align: top;\n    }\n\n    .dataframe thead th {\n        text-align: right;\n    }\n</style>\n<table border=\"1\" class=\"dataframe\">\n  <thead>\n    <tr style=\"text-align: right;\">\n      <th></th>\n      <th>Total</th>\n      <th>Percent</th>\n    </tr>\n  </thead>\n  <tbody>\n    <tr>\n      <th>heart_disease</th>\n      <td>134</td>\n      <td>0.268</td>\n    </tr>\n    <tr>\n      <th>hypertension</th>\n      <td>45</td>\n      <td>0.090</td>\n    </tr>\n    <tr>\n      <th>bmi</th>\n      <td>43</td>\n      <td>0.086</td>\n    </tr>\n    <tr>\n      <th>age</th>\n      <td>11</td>\n      <td>0.022</td>\n    </tr>\n    <tr>\n      <th>avg_glucose_level</th>\n      <td>6</td>\n      <td>0.012</td>\n    </tr>\n    <tr>\n      <th>id</th>\n      <td>0</td>\n      <td>0.000</td>\n    </tr>\n    <tr>\n      <th>gender</th>\n      <td>0</td>\n      <td>0.000</td>\n    </tr>\n    <tr>\n      <th>ever_married</th>\n      <td>0</td>\n      <td>0.000</td>\n    </tr>\n    <tr>\n      <th>work_type</th>\n      <td>0</td>\n      <td>0.000</td>\n    </tr>\n    <tr>\n      <th>Residence_type</th>\n      <td>0</td>\n      <td>0.000</td>\n    </tr>\n    <tr>\n      <th>smoking_status</th>\n      <td>0</td>\n      <td>0.000</td>\n    </tr>\n    <tr>\n      <th>blood</th>\n      <td>0</td>\n      <td>0.000</td>\n    </tr>\n  </tbody>\n</table>\n</div>"
     },
     "metadata": {},
     "execution_count": 6
    }
   ],
   "source": [
    "draw_missing_data_table(df_test)"
   ]
  },
  {
   "cell_type": "code",
   "execution_count": 7,
   "metadata": {},
   "outputs": [
    {
     "output_type": "execute_result",
     "data": {
      "text/plain": [
       "array(['Unknown', 'Urban', 'Rural'], dtype=object)"
      ]
     },
     "metadata": {},
     "execution_count": 7
    }
   ],
   "source": [
    "df['Residence_type'].unique()"
   ]
  },
  {
   "cell_type": "code",
   "execution_count": 8,
   "metadata": {},
   "outputs": [
    {
     "output_type": "execute_result",
     "data": {
      "text/plain": [
       "array([nan,  0.,  1.])"
      ]
     },
     "metadata": {},
     "execution_count": 8
    }
   ],
   "source": [
    "Residence_type_mapping = {'Unknown': float(\"nan\"), 'Urban': 0, 'Rural': 1}\n",
    "df['Residence_type'] = df['Residence_type'].map(Residence_type_mapping)\n",
    "df['Residence_type'].unique()"
   ]
  },
  {
   "cell_type": "code",
   "execution_count": 9,
   "metadata": {},
   "outputs": [
    {
     "output_type": "execute_result",
     "data": {
      "text/plain": [
       "array(['Urban', 'Rural', 'Unknown'], dtype=object)"
      ]
     },
     "metadata": {},
     "execution_count": 9
    }
   ],
   "source": [
    "df_test['Residence_type'].unique()"
   ]
  },
  {
   "cell_type": "code",
   "execution_count": 10,
   "metadata": {},
   "outputs": [
    {
     "output_type": "execute_result",
     "data": {
      "text/plain": [
       "array([ 0.,  1., nan])"
      ]
     },
     "metadata": {},
     "execution_count": 10
    }
   ],
   "source": [
    "Residence_type_mapping = {'Unknown': float(\"nan\"), 'Urban': 0, 'Rural': 1}\n",
    "df_test['Residence_type'] = df_test['Residence_type'].map(Residence_type_mapping)\n",
    "df_test['Residence_type'].unique()"
   ]
  },
  {
   "cell_type": "code",
   "execution_count": 11,
   "metadata": {},
   "outputs": [
    {
     "output_type": "execute_result",
     "data": {
      "text/plain": [
       "array(['Unknown', 'never smoked', 'smokes', 'formerly smoked'],\n",
       "      dtype=object)"
      ]
     },
     "metadata": {},
     "execution_count": 11
    }
   ],
   "source": [
    "df['smoking_status'].unique()"
   ]
  },
  {
   "cell_type": "code",
   "execution_count": 12,
   "metadata": {},
   "outputs": [
    {
     "output_type": "execute_result",
     "data": {
      "text/plain": [
       "array([nan,  0.,  2.,  1.])"
      ]
     },
     "metadata": {},
     "execution_count": 12
    }
   ],
   "source": [
    "smoking_status_mapping = {'Unknown': float(\"nan\"), 'never smoked': 0, 'smokes': 2, 'formerly smoked': 1}\n",
    "df['smoking_status'] = df['smoking_status'].map(smoking_status_mapping)\n",
    "df['smoking_status'].unique()"
   ]
  },
  {
   "cell_type": "code",
   "execution_count": 13,
   "metadata": {},
   "outputs": [
    {
     "output_type": "execute_result",
     "data": {
      "text/plain": [
       "array(['formerly smoked', 'never smoked', 'Unknown', 'smokes'],\n",
       "      dtype=object)"
      ]
     },
     "metadata": {},
     "execution_count": 13
    }
   ],
   "source": [
    "df_test['smoking_status'].unique()"
   ]
  },
  {
   "cell_type": "code",
   "execution_count": 14,
   "metadata": {},
   "outputs": [
    {
     "output_type": "execute_result",
     "data": {
      "text/plain": [
       "array([ 1.,  0., nan,  2.])"
      ]
     },
     "metadata": {},
     "execution_count": 14
    }
   ],
   "source": [
    "smoking_status_mapping = {'Unknown': float(\"nan\"), 'never smoked': 0, 'smokes': 2, 'formerly smoked': 1}\n",
    "df_test['smoking_status'] = df_test['smoking_status'].map(smoking_status_mapping)\n",
    "df_test['smoking_status'].unique()"
   ]
  },
  {
   "cell_type": "code",
   "execution_count": 15,
   "metadata": {},
   "outputs": [
    {
     "output_type": "execute_result",
     "data": {
      "text/plain": [
       "array(['No', 'Yes'], dtype=object)"
      ]
     },
     "metadata": {},
     "execution_count": 15
    }
   ],
   "source": [
    "df['ever_married'].unique()"
   ]
  },
  {
   "cell_type": "code",
   "execution_count": 16,
   "metadata": {},
   "outputs": [
    {
     "output_type": "execute_result",
     "data": {
      "text/plain": [
       "array([0, 1])"
      ]
     },
     "metadata": {},
     "execution_count": 16
    }
   ],
   "source": [
    "marriage_mapping = {'No': 0, 'Yes': 1}\n",
    "df['ever_married'] = df['ever_married'].map(marriage_mapping)\n",
    "df['ever_married'].unique()"
   ]
  },
  {
   "cell_type": "code",
   "execution_count": 17,
   "metadata": {},
   "outputs": [
    {
     "output_type": "execute_result",
     "data": {
      "text/plain": [
       "array(['No', 'Yes'], dtype=object)"
      ]
     },
     "metadata": {},
     "execution_count": 17
    }
   ],
   "source": [
    "df_test['ever_married'].unique()"
   ]
  },
  {
   "cell_type": "code",
   "execution_count": 18,
   "metadata": {},
   "outputs": [
    {
     "output_type": "execute_result",
     "data": {
      "text/plain": [
       "array([0, 1])"
      ]
     },
     "metadata": {},
     "execution_count": 18
    }
   ],
   "source": [
    "marriage_mapping = {'No': 0, 'Yes': 1}\n",
    "df_test['ever_married'] = df_test['ever_married'].map(marriage_mapping)\n",
    "df_test['ever_married'].unique()"
   ]
  },
  {
   "cell_type": "code",
   "execution_count": 19,
   "metadata": {},
   "outputs": [
    {
     "output_type": "execute_result",
     "data": {
      "text/plain": [
       "                   Total  Percent\n",
       "Residence_type      1987  0.49675\n",
       "smoking_status      1226  0.30650\n",
       "bmi                 1116  0.27900\n",
       "hypertension         230  0.05750\n",
       "avg_glucose_level    171  0.04275\n",
       "age                  107  0.02675\n",
       "heart_disease         90  0.02250\n",
       "blood                 10  0.00250\n",
       "gender                 0  0.00000\n",
       "ever_married           0  0.00000\n",
       "work_type              0  0.00000\n",
       "stroke                 0  0.00000"
      ],
      "text/html": "<div>\n<style scoped>\n    .dataframe tbody tr th:only-of-type {\n        vertical-align: middle;\n    }\n\n    .dataframe tbody tr th {\n        vertical-align: top;\n    }\n\n    .dataframe thead th {\n        text-align: right;\n    }\n</style>\n<table border=\"1\" class=\"dataframe\">\n  <thead>\n    <tr style=\"text-align: right;\">\n      <th></th>\n      <th>Total</th>\n      <th>Percent</th>\n    </tr>\n  </thead>\n  <tbody>\n    <tr>\n      <th>Residence_type</th>\n      <td>1987</td>\n      <td>0.49675</td>\n    </tr>\n    <tr>\n      <th>smoking_status</th>\n      <td>1226</td>\n      <td>0.30650</td>\n    </tr>\n    <tr>\n      <th>bmi</th>\n      <td>1116</td>\n      <td>0.27900</td>\n    </tr>\n    <tr>\n      <th>hypertension</th>\n      <td>230</td>\n      <td>0.05750</td>\n    </tr>\n    <tr>\n      <th>avg_glucose_level</th>\n      <td>171</td>\n      <td>0.04275</td>\n    </tr>\n    <tr>\n      <th>age</th>\n      <td>107</td>\n      <td>0.02675</td>\n    </tr>\n    <tr>\n      <th>heart_disease</th>\n      <td>90</td>\n      <td>0.02250</td>\n    </tr>\n    <tr>\n      <th>blood</th>\n      <td>10</td>\n      <td>0.00250</td>\n    </tr>\n    <tr>\n      <th>gender</th>\n      <td>0</td>\n      <td>0.00000</td>\n    </tr>\n    <tr>\n      <th>ever_married</th>\n      <td>0</td>\n      <td>0.00000</td>\n    </tr>\n    <tr>\n      <th>work_type</th>\n      <td>0</td>\n      <td>0.00000</td>\n    </tr>\n    <tr>\n      <th>stroke</th>\n      <td>0</td>\n      <td>0.00000</td>\n    </tr>\n  </tbody>\n</table>\n</div>"
     },
     "metadata": {},
     "execution_count": 19
    }
   ],
   "source": [
    "draw_missing_data_table(df)"
   ]
  },
  {
   "cell_type": "code",
   "execution_count": 20,
   "metadata": {},
   "outputs": [
    {
     "output_type": "execute_result",
     "data": {
      "text/plain": [
       "      gender  hypertension  heart_disease  ever_married work_type  \\\n",
       "0     Female           0.0            0.0             0  children   \n",
       "1       Male           0.0            0.0             1   Private   \n",
       "2     Female           0.0            0.0             0   Private   \n",
       "3     Female           0.0            0.0             0   Private   \n",
       "4     Female           0.0            0.0             1   Private   \n",
       "...      ...           ...            ...           ...       ...   \n",
       "3995    Male           0.0            0.0             0   Private   \n",
       "3996    Male           0.0            0.0             1   Private   \n",
       "3997   Other           1.0            0.0             1   Private   \n",
       "3998  Female           0.0            0.0             1   Private   \n",
       "3999  Female           1.0            0.0             1   Private   \n",
       "\n",
       "      Residence_type  smoking_status blood  stroke  avg_glucose_level  \\\n",
       "0                NaN             NaN     O       0          -0.452194   \n",
       "1                0.0             0.0     B       0          -0.377598   \n",
       "2                NaN             0.0     B       0          -0.169796   \n",
       "3                0.0             NaN     O       0           0.060208   \n",
       "4                NaN             NaN     O       0          -0.327201   \n",
       "...              ...             ...   ...     ...                ...   \n",
       "3995             NaN             NaN     B       0          -0.148482   \n",
       "3996             1.0             1.0     B       0          -0.685527   \n",
       "3997             1.0             2.0    AB       0           0.518661   \n",
       "3998             NaN             1.0     O       0           1.468647   \n",
       "3999             0.0             NaN     O       1          -0.968592   \n",
       "\n",
       "           bmi       age  \n",
       "0    -1.301803       NaN  \n",
       "1          NaN  0.531985  \n",
       "2    -1.314457 -0.047775  \n",
       "3     2.962504 -0.538341  \n",
       "4          NaN -0.226163  \n",
       "...        ...       ...  \n",
       "3995 -0.871576 -1.207295  \n",
       "3996 -0.491964  0.175210  \n",
       "3997  4.050725  0.621179  \n",
       "3998  2.076743  0.086016  \n",
       "3999  0.178683  0.442792  \n",
       "\n",
       "[4000 rows x 12 columns]"
      ],
      "text/html": "<div>\n<style scoped>\n    .dataframe tbody tr th:only-of-type {\n        vertical-align: middle;\n    }\n\n    .dataframe tbody tr th {\n        vertical-align: top;\n    }\n\n    .dataframe thead th {\n        text-align: right;\n    }\n</style>\n<table border=\"1\" class=\"dataframe\">\n  <thead>\n    <tr style=\"text-align: right;\">\n      <th></th>\n      <th>gender</th>\n      <th>hypertension</th>\n      <th>heart_disease</th>\n      <th>ever_married</th>\n      <th>work_type</th>\n      <th>Residence_type</th>\n      <th>smoking_status</th>\n      <th>blood</th>\n      <th>stroke</th>\n      <th>avg_glucose_level</th>\n      <th>bmi</th>\n      <th>age</th>\n    </tr>\n  </thead>\n  <tbody>\n    <tr>\n      <th>0</th>\n      <td>Female</td>\n      <td>0.0</td>\n      <td>0.0</td>\n      <td>0</td>\n      <td>children</td>\n      <td>NaN</td>\n      <td>NaN</td>\n      <td>O</td>\n      <td>0</td>\n      <td>-0.452194</td>\n      <td>-1.301803</td>\n      <td>NaN</td>\n    </tr>\n    <tr>\n      <th>1</th>\n      <td>Male</td>\n      <td>0.0</td>\n      <td>0.0</td>\n      <td>1</td>\n      <td>Private</td>\n      <td>0.0</td>\n      <td>0.0</td>\n      <td>B</td>\n      <td>0</td>\n      <td>-0.377598</td>\n      <td>NaN</td>\n      <td>0.531985</td>\n    </tr>\n    <tr>\n      <th>2</th>\n      <td>Female</td>\n      <td>0.0</td>\n      <td>0.0</td>\n      <td>0</td>\n      <td>Private</td>\n      <td>NaN</td>\n      <td>0.0</td>\n      <td>B</td>\n      <td>0</td>\n      <td>-0.169796</td>\n      <td>-1.314457</td>\n      <td>-0.047775</td>\n    </tr>\n    <tr>\n      <th>3</th>\n      <td>Female</td>\n      <td>0.0</td>\n      <td>0.0</td>\n      <td>0</td>\n      <td>Private</td>\n      <td>0.0</td>\n      <td>NaN</td>\n      <td>O</td>\n      <td>0</td>\n      <td>0.060208</td>\n      <td>2.962504</td>\n      <td>-0.538341</td>\n    </tr>\n    <tr>\n      <th>4</th>\n      <td>Female</td>\n      <td>0.0</td>\n      <td>0.0</td>\n      <td>1</td>\n      <td>Private</td>\n      <td>NaN</td>\n      <td>NaN</td>\n      <td>O</td>\n      <td>0</td>\n      <td>-0.327201</td>\n      <td>NaN</td>\n      <td>-0.226163</td>\n    </tr>\n    <tr>\n      <th>...</th>\n      <td>...</td>\n      <td>...</td>\n      <td>...</td>\n      <td>...</td>\n      <td>...</td>\n      <td>...</td>\n      <td>...</td>\n      <td>...</td>\n      <td>...</td>\n      <td>...</td>\n      <td>...</td>\n      <td>...</td>\n    </tr>\n    <tr>\n      <th>3995</th>\n      <td>Male</td>\n      <td>0.0</td>\n      <td>0.0</td>\n      <td>0</td>\n      <td>Private</td>\n      <td>NaN</td>\n      <td>NaN</td>\n      <td>B</td>\n      <td>0</td>\n      <td>-0.148482</td>\n      <td>-0.871576</td>\n      <td>-1.207295</td>\n    </tr>\n    <tr>\n      <th>3996</th>\n      <td>Male</td>\n      <td>0.0</td>\n      <td>0.0</td>\n      <td>1</td>\n      <td>Private</td>\n      <td>1.0</td>\n      <td>1.0</td>\n      <td>B</td>\n      <td>0</td>\n      <td>-0.685527</td>\n      <td>-0.491964</td>\n      <td>0.175210</td>\n    </tr>\n    <tr>\n      <th>3997</th>\n      <td>Other</td>\n      <td>1.0</td>\n      <td>0.0</td>\n      <td>1</td>\n      <td>Private</td>\n      <td>1.0</td>\n      <td>2.0</td>\n      <td>AB</td>\n      <td>0</td>\n      <td>0.518661</td>\n      <td>4.050725</td>\n      <td>0.621179</td>\n    </tr>\n    <tr>\n      <th>3998</th>\n      <td>Female</td>\n      <td>0.0</td>\n      <td>0.0</td>\n      <td>1</td>\n      <td>Private</td>\n      <td>NaN</td>\n      <td>1.0</td>\n      <td>O</td>\n      <td>0</td>\n      <td>1.468647</td>\n      <td>2.076743</td>\n      <td>0.086016</td>\n    </tr>\n    <tr>\n      <th>3999</th>\n      <td>Female</td>\n      <td>1.0</td>\n      <td>0.0</td>\n      <td>1</td>\n      <td>Private</td>\n      <td>0.0</td>\n      <td>NaN</td>\n      <td>O</td>\n      <td>1</td>\n      <td>-0.968592</td>\n      <td>0.178683</td>\n      <td>0.442792</td>\n    </tr>\n  </tbody>\n</table>\n<p>4000 rows × 12 columns</p>\n</div>"
     },
     "metadata": {},
     "execution_count": 20
    }
   ],
   "source": [
    "# perform a robust scaler transform of the dataset\n",
    "from sklearn.preprocessing import StandardScaler\n",
    "std_scale = StandardScaler()\n",
    "columns = ['avg_glucose_level','bmi','age']\n",
    "scaled = std_scale.fit_transform(df[columns])\n",
    "scaled = pd.DataFrame(scaled,columns=columns)\n",
    "df=df.drop(columns=columns,axis=1)\n",
    "\n",
    "df = df.reset_index(drop=True)\n",
    "df = df.merge(scaled, left_index=True, right_index=True, how = \"left\")\n",
    "df"
   ]
  },
  {
   "cell_type": "code",
   "execution_count": 21,
   "metadata": {},
   "outputs": [
    {
     "output_type": "execute_result",
     "data": {
      "text/plain": [
       "        id  gender  hypertension  heart_disease  ever_married      work_type  \\\n",
       "0       67  Female           0.0            0.0             0        Private   \n",
       "1      210    Male           0.0            0.0             1  Self-employed   \n",
       "2      242    Male           NaN            0.0             0       children   \n",
       "3      711    Male           0.0            NaN             1        Private   \n",
       "4      724    Male           0.0            0.0             0        Private   \n",
       "..     ...     ...           ...            ...           ...            ...   \n",
       "495  72393  Female           0.0            NaN             1       Govt_job   \n",
       "496  72491    Male           0.0            0.0             1        Private   \n",
       "497  72562  Female           0.0            NaN             1        Private   \n",
       "498  72792  Female           NaN            0.0             1        Private   \n",
       "499  72940  Female           0.0            NaN             0       children   \n",
       "\n",
       "     Residence_type  smoking_status blood  avg_glucose_level       bmi  \\\n",
       "0               0.0             1.0    AB          -0.286363       NaN   \n",
       "1               1.0             0.0     A          -0.316685  0.281740   \n",
       "2               0.0             NaN     O          -0.167832 -1.399360   \n",
       "3               1.0             0.0    AB          -0.286575 -0.830930   \n",
       "4               1.0             0.0     O          -0.523851  1.890275   \n",
       "..              ...             ...   ...                ...       ...   \n",
       "495             1.0             0.0     A          -0.456845 -0.589045   \n",
       "496             0.0             2.0     O          -0.674613  0.015667   \n",
       "497             1.0             0.0    AB          -0.892804  0.451060   \n",
       "498             1.0             0.0    AB          -0.605063       NaN   \n",
       "499             0.0             NaN    AB          -0.075381 -1.387265   \n",
       "\n",
       "          age  \n",
       "0   -1.149266  \n",
       "1    1.692220  \n",
       "2   -1.726443  \n",
       "3    1.692220  \n",
       "4   -1.149266  \n",
       "..        ...  \n",
       "495 -0.882876  \n",
       "496  0.449070  \n",
       "497  0.626663  \n",
       "498  0.449070  \n",
       "499 -1.815239  \n",
       "\n",
       "[500 rows x 12 columns]"
      ],
      "text/html": "<div>\n<style scoped>\n    .dataframe tbody tr th:only-of-type {\n        vertical-align: middle;\n    }\n\n    .dataframe tbody tr th {\n        vertical-align: top;\n    }\n\n    .dataframe thead th {\n        text-align: right;\n    }\n</style>\n<table border=\"1\" class=\"dataframe\">\n  <thead>\n    <tr style=\"text-align: right;\">\n      <th></th>\n      <th>id</th>\n      <th>gender</th>\n      <th>hypertension</th>\n      <th>heart_disease</th>\n      <th>ever_married</th>\n      <th>work_type</th>\n      <th>Residence_type</th>\n      <th>smoking_status</th>\n      <th>blood</th>\n      <th>avg_glucose_level</th>\n      <th>bmi</th>\n      <th>age</th>\n    </tr>\n  </thead>\n  <tbody>\n    <tr>\n      <th>0</th>\n      <td>67</td>\n      <td>Female</td>\n      <td>0.0</td>\n      <td>0.0</td>\n      <td>0</td>\n      <td>Private</td>\n      <td>0.0</td>\n      <td>1.0</td>\n      <td>AB</td>\n      <td>-0.286363</td>\n      <td>NaN</td>\n      <td>-1.149266</td>\n    </tr>\n    <tr>\n      <th>1</th>\n      <td>210</td>\n      <td>Male</td>\n      <td>0.0</td>\n      <td>0.0</td>\n      <td>1</td>\n      <td>Self-employed</td>\n      <td>1.0</td>\n      <td>0.0</td>\n      <td>A</td>\n      <td>-0.316685</td>\n      <td>0.281740</td>\n      <td>1.692220</td>\n    </tr>\n    <tr>\n      <th>2</th>\n      <td>242</td>\n      <td>Male</td>\n      <td>NaN</td>\n      <td>0.0</td>\n      <td>0</td>\n      <td>children</td>\n      <td>0.0</td>\n      <td>NaN</td>\n      <td>O</td>\n      <td>-0.167832</td>\n      <td>-1.399360</td>\n      <td>-1.726443</td>\n    </tr>\n    <tr>\n      <th>3</th>\n      <td>711</td>\n      <td>Male</td>\n      <td>0.0</td>\n      <td>NaN</td>\n      <td>1</td>\n      <td>Private</td>\n      <td>1.0</td>\n      <td>0.0</td>\n      <td>AB</td>\n      <td>-0.286575</td>\n      <td>-0.830930</td>\n      <td>1.692220</td>\n    </tr>\n    <tr>\n      <th>4</th>\n      <td>724</td>\n      <td>Male</td>\n      <td>0.0</td>\n      <td>0.0</td>\n      <td>0</td>\n      <td>Private</td>\n      <td>1.0</td>\n      <td>0.0</td>\n      <td>O</td>\n      <td>-0.523851</td>\n      <td>1.890275</td>\n      <td>-1.149266</td>\n    </tr>\n    <tr>\n      <th>...</th>\n      <td>...</td>\n      <td>...</td>\n      <td>...</td>\n      <td>...</td>\n      <td>...</td>\n      <td>...</td>\n      <td>...</td>\n      <td>...</td>\n      <td>...</td>\n      <td>...</td>\n      <td>...</td>\n      <td>...</td>\n    </tr>\n    <tr>\n      <th>495</th>\n      <td>72393</td>\n      <td>Female</td>\n      <td>0.0</td>\n      <td>NaN</td>\n      <td>1</td>\n      <td>Govt_job</td>\n      <td>1.0</td>\n      <td>0.0</td>\n      <td>A</td>\n      <td>-0.456845</td>\n      <td>-0.589045</td>\n      <td>-0.882876</td>\n    </tr>\n    <tr>\n      <th>496</th>\n      <td>72491</td>\n      <td>Male</td>\n      <td>0.0</td>\n      <td>0.0</td>\n      <td>1</td>\n      <td>Private</td>\n      <td>0.0</td>\n      <td>2.0</td>\n      <td>O</td>\n      <td>-0.674613</td>\n      <td>0.015667</td>\n      <td>0.449070</td>\n    </tr>\n    <tr>\n      <th>497</th>\n      <td>72562</td>\n      <td>Female</td>\n      <td>0.0</td>\n      <td>NaN</td>\n      <td>1</td>\n      <td>Private</td>\n      <td>1.0</td>\n      <td>0.0</td>\n      <td>AB</td>\n      <td>-0.892804</td>\n      <td>0.451060</td>\n      <td>0.626663</td>\n    </tr>\n    <tr>\n      <th>498</th>\n      <td>72792</td>\n      <td>Female</td>\n      <td>NaN</td>\n      <td>0.0</td>\n      <td>1</td>\n      <td>Private</td>\n      <td>1.0</td>\n      <td>0.0</td>\n      <td>AB</td>\n      <td>-0.605063</td>\n      <td>NaN</td>\n      <td>0.449070</td>\n    </tr>\n    <tr>\n      <th>499</th>\n      <td>72940</td>\n      <td>Female</td>\n      <td>0.0</td>\n      <td>NaN</td>\n      <td>0</td>\n      <td>children</td>\n      <td>0.0</td>\n      <td>NaN</td>\n      <td>AB</td>\n      <td>-0.075381</td>\n      <td>-1.387265</td>\n      <td>-1.815239</td>\n    </tr>\n  </tbody>\n</table>\n<p>500 rows × 12 columns</p>\n</div>"
     },
     "metadata": {},
     "execution_count": 21
    }
   ],
   "source": [
    "# perform a robust scaler transform of the dataset\n",
    "from sklearn.preprocessing import StandardScaler\n",
    "std_scale = StandardScaler()\n",
    "columns = ['avg_glucose_level','bmi','age']\n",
    "scaled = std_scale.fit_transform(df_test[columns])\n",
    "scaled = pd.DataFrame(scaled,columns=columns)\n",
    "df_test=df_test.drop(columns=columns,axis=1)\n",
    "\n",
    "df_test = df_test.reset_index(drop=True)\n",
    "df_test = df_test.merge(scaled, left_index=True, right_index=True, how = \"left\")\n",
    "df_test"
   ]
  },
  {
   "cell_type": "code",
   "execution_count": 22,
   "metadata": {},
   "outputs": [
    {
     "output_type": "execute_result",
     "data": {
      "text/plain": [
       "      gender  hypertension  heart_disease  ever_married  work_type  \\\n",
       "0          0           0.0            0.0             0          4   \n",
       "1          1           0.0            0.0             1          2   \n",
       "2          0           0.0            0.0             0          2   \n",
       "3          0           0.0            0.0             0          2   \n",
       "4          0           0.0            0.0             1          2   \n",
       "...      ...           ...            ...           ...        ...   \n",
       "3995       1           0.0            0.0             0          2   \n",
       "3996       1           0.0            0.0             1          2   \n",
       "3997       2           1.0            0.0             1          2   \n",
       "3998       0           0.0            0.0             1          2   \n",
       "3999       0           1.0            0.0             1          2   \n",
       "\n",
       "      Residence_type  smoking_status  blood  stroke  avg_glucose_level  \\\n",
       "0                NaN             NaN      3       0          -0.452194   \n",
       "1                0.0             0.0      2       0          -0.377598   \n",
       "2                NaN             0.0      2       0          -0.169796   \n",
       "3                0.0             NaN      3       0           0.060208   \n",
       "4                NaN             NaN      3       0          -0.327201   \n",
       "...              ...             ...    ...     ...                ...   \n",
       "3995             NaN             NaN      2       0          -0.148482   \n",
       "3996             1.0             1.0      2       0          -0.685527   \n",
       "3997             1.0             2.0      1       0           0.518661   \n",
       "3998             NaN             1.0      3       0           1.468647   \n",
       "3999             0.0             NaN      3       1          -0.968592   \n",
       "\n",
       "           bmi       age  \n",
       "0    -1.301803       NaN  \n",
       "1          NaN  0.531985  \n",
       "2    -1.314457 -0.047775  \n",
       "3     2.962504 -0.538341  \n",
       "4          NaN -0.226163  \n",
       "...        ...       ...  \n",
       "3995 -0.871576 -1.207295  \n",
       "3996 -0.491964  0.175210  \n",
       "3997  4.050725  0.621179  \n",
       "3998  2.076743  0.086016  \n",
       "3999  0.178683  0.442792  \n",
       "\n",
       "[4000 rows x 12 columns]"
      ],
      "text/html": "<div>\n<style scoped>\n    .dataframe tbody tr th:only-of-type {\n        vertical-align: middle;\n    }\n\n    .dataframe tbody tr th {\n        vertical-align: top;\n    }\n\n    .dataframe thead th {\n        text-align: right;\n    }\n</style>\n<table border=\"1\" class=\"dataframe\">\n  <thead>\n    <tr style=\"text-align: right;\">\n      <th></th>\n      <th>gender</th>\n      <th>hypertension</th>\n      <th>heart_disease</th>\n      <th>ever_married</th>\n      <th>work_type</th>\n      <th>Residence_type</th>\n      <th>smoking_status</th>\n      <th>blood</th>\n      <th>stroke</th>\n      <th>avg_glucose_level</th>\n      <th>bmi</th>\n      <th>age</th>\n    </tr>\n  </thead>\n  <tbody>\n    <tr>\n      <th>0</th>\n      <td>0</td>\n      <td>0.0</td>\n      <td>0.0</td>\n      <td>0</td>\n      <td>4</td>\n      <td>NaN</td>\n      <td>NaN</td>\n      <td>3</td>\n      <td>0</td>\n      <td>-0.452194</td>\n      <td>-1.301803</td>\n      <td>NaN</td>\n    </tr>\n    <tr>\n      <th>1</th>\n      <td>1</td>\n      <td>0.0</td>\n      <td>0.0</td>\n      <td>1</td>\n      <td>2</td>\n      <td>0.0</td>\n      <td>0.0</td>\n      <td>2</td>\n      <td>0</td>\n      <td>-0.377598</td>\n      <td>NaN</td>\n      <td>0.531985</td>\n    </tr>\n    <tr>\n      <th>2</th>\n      <td>0</td>\n      <td>0.0</td>\n      <td>0.0</td>\n      <td>0</td>\n      <td>2</td>\n      <td>NaN</td>\n      <td>0.0</td>\n      <td>2</td>\n      <td>0</td>\n      <td>-0.169796</td>\n      <td>-1.314457</td>\n      <td>-0.047775</td>\n    </tr>\n    <tr>\n      <th>3</th>\n      <td>0</td>\n      <td>0.0</td>\n      <td>0.0</td>\n      <td>0</td>\n      <td>2</td>\n      <td>0.0</td>\n      <td>NaN</td>\n      <td>3</td>\n      <td>0</td>\n      <td>0.060208</td>\n      <td>2.962504</td>\n      <td>-0.538341</td>\n    </tr>\n    <tr>\n      <th>4</th>\n      <td>0</td>\n      <td>0.0</td>\n      <td>0.0</td>\n      <td>1</td>\n      <td>2</td>\n      <td>NaN</td>\n      <td>NaN</td>\n      <td>3</td>\n      <td>0</td>\n      <td>-0.327201</td>\n      <td>NaN</td>\n      <td>-0.226163</td>\n    </tr>\n    <tr>\n      <th>...</th>\n      <td>...</td>\n      <td>...</td>\n      <td>...</td>\n      <td>...</td>\n      <td>...</td>\n      <td>...</td>\n      <td>...</td>\n      <td>...</td>\n      <td>...</td>\n      <td>...</td>\n      <td>...</td>\n      <td>...</td>\n    </tr>\n    <tr>\n      <th>3995</th>\n      <td>1</td>\n      <td>0.0</td>\n      <td>0.0</td>\n      <td>0</td>\n      <td>2</td>\n      <td>NaN</td>\n      <td>NaN</td>\n      <td>2</td>\n      <td>0</td>\n      <td>-0.148482</td>\n      <td>-0.871576</td>\n      <td>-1.207295</td>\n    </tr>\n    <tr>\n      <th>3996</th>\n      <td>1</td>\n      <td>0.0</td>\n      <td>0.0</td>\n      <td>1</td>\n      <td>2</td>\n      <td>1.0</td>\n      <td>1.0</td>\n      <td>2</td>\n      <td>0</td>\n      <td>-0.685527</td>\n      <td>-0.491964</td>\n      <td>0.175210</td>\n    </tr>\n    <tr>\n      <th>3997</th>\n      <td>2</td>\n      <td>1.0</td>\n      <td>0.0</td>\n      <td>1</td>\n      <td>2</td>\n      <td>1.0</td>\n      <td>2.0</td>\n      <td>1</td>\n      <td>0</td>\n      <td>0.518661</td>\n      <td>4.050725</td>\n      <td>0.621179</td>\n    </tr>\n    <tr>\n      <th>3998</th>\n      <td>0</td>\n      <td>0.0</td>\n      <td>0.0</td>\n      <td>1</td>\n      <td>2</td>\n      <td>NaN</td>\n      <td>1.0</td>\n      <td>3</td>\n      <td>0</td>\n      <td>1.468647</td>\n      <td>2.076743</td>\n      <td>0.086016</td>\n    </tr>\n    <tr>\n      <th>3999</th>\n      <td>0</td>\n      <td>1.0</td>\n      <td>0.0</td>\n      <td>1</td>\n      <td>2</td>\n      <td>0.0</td>\n      <td>NaN</td>\n      <td>3</td>\n      <td>1</td>\n      <td>-0.968592</td>\n      <td>0.178683</td>\n      <td>0.442792</td>\n    </tr>\n  </tbody>\n</table>\n<p>4000 rows × 12 columns</p>\n</div>"
     },
     "metadata": {},
     "execution_count": 22
    }
   ],
   "source": [
    "le = LabelEncoder()\n",
    "le_feature = ['gender', 'work_type', 'blood']\n",
    "for i in le_feature:\n",
    "    df[i] = le.fit_transform(df[i])\n",
    "df"
   ]
  },
  {
   "cell_type": "code",
   "execution_count": 23,
   "metadata": {},
   "outputs": [
    {
     "output_type": "execute_result",
     "data": {
      "text/plain": [
       "        id  gender  hypertension  heart_disease  ever_married  work_type  \\\n",
       "0       67       0           0.0            0.0             0          2   \n",
       "1      210       1           0.0            0.0             1          3   \n",
       "2      242       1           NaN            0.0             0          4   \n",
       "3      711       1           0.0            NaN             1          2   \n",
       "4      724       1           0.0            0.0             0          2   \n",
       "..     ...     ...           ...            ...           ...        ...   \n",
       "495  72393       0           0.0            NaN             1          0   \n",
       "496  72491       1           0.0            0.0             1          2   \n",
       "497  72562       0           0.0            NaN             1          2   \n",
       "498  72792       0           NaN            0.0             1          2   \n",
       "499  72940       0           0.0            NaN             0          4   \n",
       "\n",
       "     Residence_type  smoking_status  blood  avg_glucose_level       bmi  \\\n",
       "0               0.0             1.0      1          -0.286363       NaN   \n",
       "1               1.0             0.0      0          -0.316685  0.281740   \n",
       "2               0.0             NaN      3          -0.167832 -1.399360   \n",
       "3               1.0             0.0      1          -0.286575 -0.830930   \n",
       "4               1.0             0.0      3          -0.523851  1.890275   \n",
       "..              ...             ...    ...                ...       ...   \n",
       "495             1.0             0.0      0          -0.456845 -0.589045   \n",
       "496             0.0             2.0      3          -0.674613  0.015667   \n",
       "497             1.0             0.0      1          -0.892804  0.451060   \n",
       "498             1.0             0.0      1          -0.605063       NaN   \n",
       "499             0.0             NaN      1          -0.075381 -1.387265   \n",
       "\n",
       "          age  \n",
       "0   -1.149266  \n",
       "1    1.692220  \n",
       "2   -1.726443  \n",
       "3    1.692220  \n",
       "4   -1.149266  \n",
       "..        ...  \n",
       "495 -0.882876  \n",
       "496  0.449070  \n",
       "497  0.626663  \n",
       "498  0.449070  \n",
       "499 -1.815239  \n",
       "\n",
       "[500 rows x 12 columns]"
      ],
      "text/html": "<div>\n<style scoped>\n    .dataframe tbody tr th:only-of-type {\n        vertical-align: middle;\n    }\n\n    .dataframe tbody tr th {\n        vertical-align: top;\n    }\n\n    .dataframe thead th {\n        text-align: right;\n    }\n</style>\n<table border=\"1\" class=\"dataframe\">\n  <thead>\n    <tr style=\"text-align: right;\">\n      <th></th>\n      <th>id</th>\n      <th>gender</th>\n      <th>hypertension</th>\n      <th>heart_disease</th>\n      <th>ever_married</th>\n      <th>work_type</th>\n      <th>Residence_type</th>\n      <th>smoking_status</th>\n      <th>blood</th>\n      <th>avg_glucose_level</th>\n      <th>bmi</th>\n      <th>age</th>\n    </tr>\n  </thead>\n  <tbody>\n    <tr>\n      <th>0</th>\n      <td>67</td>\n      <td>0</td>\n      <td>0.0</td>\n      <td>0.0</td>\n      <td>0</td>\n      <td>2</td>\n      <td>0.0</td>\n      <td>1.0</td>\n      <td>1</td>\n      <td>-0.286363</td>\n      <td>NaN</td>\n      <td>-1.149266</td>\n    </tr>\n    <tr>\n      <th>1</th>\n      <td>210</td>\n      <td>1</td>\n      <td>0.0</td>\n      <td>0.0</td>\n      <td>1</td>\n      <td>3</td>\n      <td>1.0</td>\n      <td>0.0</td>\n      <td>0</td>\n      <td>-0.316685</td>\n      <td>0.281740</td>\n      <td>1.692220</td>\n    </tr>\n    <tr>\n      <th>2</th>\n      <td>242</td>\n      <td>1</td>\n      <td>NaN</td>\n      <td>0.0</td>\n      <td>0</td>\n      <td>4</td>\n      <td>0.0</td>\n      <td>NaN</td>\n      <td>3</td>\n      <td>-0.167832</td>\n      <td>-1.399360</td>\n      <td>-1.726443</td>\n    </tr>\n    <tr>\n      <th>3</th>\n      <td>711</td>\n      <td>1</td>\n      <td>0.0</td>\n      <td>NaN</td>\n      <td>1</td>\n      <td>2</td>\n      <td>1.0</td>\n      <td>0.0</td>\n      <td>1</td>\n      <td>-0.286575</td>\n      <td>-0.830930</td>\n      <td>1.692220</td>\n    </tr>\n    <tr>\n      <th>4</th>\n      <td>724</td>\n      <td>1</td>\n      <td>0.0</td>\n      <td>0.0</td>\n      <td>0</td>\n      <td>2</td>\n      <td>1.0</td>\n      <td>0.0</td>\n      <td>3</td>\n      <td>-0.523851</td>\n      <td>1.890275</td>\n      <td>-1.149266</td>\n    </tr>\n    <tr>\n      <th>...</th>\n      <td>...</td>\n      <td>...</td>\n      <td>...</td>\n      <td>...</td>\n      <td>...</td>\n      <td>...</td>\n      <td>...</td>\n      <td>...</td>\n      <td>...</td>\n      <td>...</td>\n      <td>...</td>\n      <td>...</td>\n    </tr>\n    <tr>\n      <th>495</th>\n      <td>72393</td>\n      <td>0</td>\n      <td>0.0</td>\n      <td>NaN</td>\n      <td>1</td>\n      <td>0</td>\n      <td>1.0</td>\n      <td>0.0</td>\n      <td>0</td>\n      <td>-0.456845</td>\n      <td>-0.589045</td>\n      <td>-0.882876</td>\n    </tr>\n    <tr>\n      <th>496</th>\n      <td>72491</td>\n      <td>1</td>\n      <td>0.0</td>\n      <td>0.0</td>\n      <td>1</td>\n      <td>2</td>\n      <td>0.0</td>\n      <td>2.0</td>\n      <td>3</td>\n      <td>-0.674613</td>\n      <td>0.015667</td>\n      <td>0.449070</td>\n    </tr>\n    <tr>\n      <th>497</th>\n      <td>72562</td>\n      <td>0</td>\n      <td>0.0</td>\n      <td>NaN</td>\n      <td>1</td>\n      <td>2</td>\n      <td>1.0</td>\n      <td>0.0</td>\n      <td>1</td>\n      <td>-0.892804</td>\n      <td>0.451060</td>\n      <td>0.626663</td>\n    </tr>\n    <tr>\n      <th>498</th>\n      <td>72792</td>\n      <td>0</td>\n      <td>NaN</td>\n      <td>0.0</td>\n      <td>1</td>\n      <td>2</td>\n      <td>1.0</td>\n      <td>0.0</td>\n      <td>1</td>\n      <td>-0.605063</td>\n      <td>NaN</td>\n      <td>0.449070</td>\n    </tr>\n    <tr>\n      <th>499</th>\n      <td>72940</td>\n      <td>0</td>\n      <td>0.0</td>\n      <td>NaN</td>\n      <td>0</td>\n      <td>4</td>\n      <td>0.0</td>\n      <td>NaN</td>\n      <td>1</td>\n      <td>-0.075381</td>\n      <td>-1.387265</td>\n      <td>-1.815239</td>\n    </tr>\n  </tbody>\n</table>\n<p>500 rows × 12 columns</p>\n</div>"
     },
     "metadata": {},
     "execution_count": 23
    }
   ],
   "source": [
    "le = LabelEncoder()\n",
    "le_feature = ['gender', 'work_type', 'blood']\n",
    "for i in le_feature:\n",
    "    df_test[i] = le.fit_transform(df_test[i])\n",
    "df_test"
   ]
  },
  {
   "cell_type": "code",
   "execution_count": 24,
   "metadata": {},
   "outputs": [],
   "source": [
    "df.to_csv('./Dataset/processed_train_le.csv', index=False)"
   ]
  },
  {
   "cell_type": "code",
   "execution_count": 25,
   "metadata": {},
   "outputs": [
    {
     "output_type": "stream",
     "name": "stdout",
     "text": [
      "4000\n4000\n"
     ]
    }
   ],
   "source": [
    "X = df.copy()\n",
    "X.drop(columns='stroke', inplace=True)\n",
    "y = df['stroke']\n",
    "print(len(X))\n",
    "print(len(y))"
   ]
  },
  {
   "cell_type": "code",
   "execution_count": 26,
   "metadata": {},
   "outputs": [
    {
     "output_type": "execute_result",
     "data": {
      "text/plain": [
       "array([[ 0.        ,  0.        ,  0.        , ..., -0.45219368,\n",
       "        -1.30180283, -1.57299009],\n",
       "       [ 1.        ,  0.        ,  0.        , ..., -0.37759794,\n",
       "         0.97839914,  0.53198547],\n",
       "       [ 0.        ,  0.        ,  0.        , ..., -0.1697955 ,\n",
       "        -1.31445656, -0.04777474],\n",
       "       ...,\n",
       "       [ 2.        ,  1.        ,  0.        , ...,  0.51866106,\n",
       "         4.05072455,  0.62117935],\n",
       "       [ 0.        ,  0.        ,  0.        , ...,  1.46864675,\n",
       "         2.07674282,  0.08601608],\n",
       "       [ 0.        ,  1.        ,  0.        , ..., -0.96859161,\n",
       "         0.17868347,  0.44279159]])"
      ]
     },
     "metadata": {},
     "execution_count": 26
    }
   ],
   "source": [
    "imputer = KNNImputer()\n",
    "X = imputer.fit_transform(X)\n",
    "X"
   ]
  },
  {
   "cell_type": "code",
   "execution_count": 27,
   "metadata": {},
   "outputs": [
    {
     "output_type": "execute_result",
     "data": {
      "text/plain": [
       "(4000, 11)"
      ]
     },
     "metadata": {},
     "execution_count": 27
    }
   ],
   "source": [
    "X.shape"
   ]
  },
  {
   "cell_type": "code",
   "execution_count": 28,
   "metadata": {},
   "outputs": [],
   "source": [
    "smote = SMOTE()\n",
    "x_smote, y_smote = smote.fit_resample(X, y)"
   ]
  },
  {
   "cell_type": "code",
   "execution_count": 29,
   "metadata": {},
   "outputs": [],
   "source": [
    "x_train, x_test, y_train, y_test = train_test_split(x_smote, y_smote, test_size= 0.2, random_state= 42)"
   ]
  },
  {
   "cell_type": "code",
   "execution_count": 30,
   "metadata": {},
   "outputs": [],
   "source": [
    "X_Test_public = df_test.copy()\n",
    "X_Test_public.drop(columns='id', inplace=True)\n",
    "id_test = df_test['id']"
   ]
  },
  {
   "cell_type": "code",
   "execution_count": 33,
   "metadata": {},
   "outputs": [
    {
     "output_type": "execute_result",
     "data": {
      "text/plain": [
       "array([[ 0.        ,  0.        ,  0.        , ..., -0.28636338,\n",
       "        -0.23105564, -1.14926566],\n",
       "       [ 1.        ,  0.        ,  0.        , ..., -0.31668541,\n",
       "         0.28174032,  1.6922205 ],\n",
       "       [ 1.        ,  0.        ,  0.        , ..., -0.16783181,\n",
       "        -1.39935965, -1.72644254],\n",
       "       ...,\n",
       "       [ 0.        ,  0.        ,  0.        , ..., -0.89280398,\n",
       "         0.45105974,  0.62666319],\n",
       "       [ 0.        ,  0.        ,  0.        , ..., -0.60506276,\n",
       "        -0.05689852,  0.4490703 ],\n",
       "       [ 0.        ,  0.        ,  0.        , ..., -0.07538142,\n",
       "        -1.3872654 , -1.81523898]])"
      ]
     },
     "metadata": {},
     "execution_count": 33
    }
   ],
   "source": [
    "imputer = KNNImputer()\n",
    "X_Test_public = imputer.fit_transform(X_Test_public)\n",
    "X_Test_public"
   ]
  },
  {
   "cell_type": "code",
   "execution_count": 35,
   "metadata": {},
   "outputs": [
    {
     "output_type": "stream",
     "name": "stderr",
     "text": [
      "/mnt/A0320C7B320C58A4/Code/Python/Stroke-prediction/Stroke_Env/lib/python3.8/site-packages/xgboost/sklearn.py:1146: UserWarning: The use of label encoder in XGBClassifier is deprecated and will be removed in a future release. To remove this warning, do the following: 1) Pass option use_label_encoder=False when constructing XGBClassifier object; and 2) Encode your labels (y) as integers starting with 0, i.e. 0, 1, 2, ..., [num_class - 1].\n",
      "  warnings.warn(label_encoder_deprecation_msg, UserWarning)\n",
      "[14:23:27] WARNING: ../src/learner.cc:1095: Starting in XGBoost 1.3.0, the default evaluation metric used with the objective 'binary:logistic' was changed from 'error' to 'logloss'. Explicitly set eval_metric if you'd like to restore the old behavior.\n"
     ]
    },
    {
     "output_type": "execute_result",
     "data": {
      "text/plain": [
       "0.9863370201691607"
      ]
     },
     "metadata": {},
     "execution_count": 35
    }
   ],
   "source": [
    "from xgboost import XGBClassifier\n",
    "model_xgb = XGBClassifier()\n",
    "model_xgb.fit(x_train, y_train)\n",
    "y_xgb_pred = model_xgb.predict(x_test)\n",
    "f1_score(y_test, y_xgb_pred)"
   ]
  },
  {
   "cell_type": "code",
   "execution_count": 36,
   "metadata": {},
   "outputs": [
    {
     "output_type": "execute_result",
     "data": {
      "text/plain": [
       "500"
      ]
     },
     "metadata": {},
     "execution_count": 36
    }
   ],
   "source": [
    "y_pred = model_xgb.predict(X_Test_public)\n",
    "len(y_pred)"
   ]
  },
  {
   "cell_type": "code",
   "execution_count": 37,
   "metadata": {},
   "outputs": [
    {
     "output_type": "execute_result",
     "data": {
      "text/plain": [
       "        id  stroke\n",
       "0       67       0\n",
       "1      210       0\n",
       "2      242       0\n",
       "3      711       0\n",
       "4      724       0\n",
       "..     ...     ...\n",
       "495  72393       0\n",
       "496  72491       1\n",
       "497  72562       0\n",
       "498  72792       0\n",
       "499  72940       0\n",
       "\n",
       "[500 rows x 2 columns]"
      ],
      "text/html": "<div>\n<style scoped>\n    .dataframe tbody tr th:only-of-type {\n        vertical-align: middle;\n    }\n\n    .dataframe tbody tr th {\n        vertical-align: top;\n    }\n\n    .dataframe thead th {\n        text-align: right;\n    }\n</style>\n<table border=\"1\" class=\"dataframe\">\n  <thead>\n    <tr style=\"text-align: right;\">\n      <th></th>\n      <th>id</th>\n      <th>stroke</th>\n    </tr>\n  </thead>\n  <tbody>\n    <tr>\n      <th>0</th>\n      <td>67</td>\n      <td>0</td>\n    </tr>\n    <tr>\n      <th>1</th>\n      <td>210</td>\n      <td>0</td>\n    </tr>\n    <tr>\n      <th>2</th>\n      <td>242</td>\n      <td>0</td>\n    </tr>\n    <tr>\n      <th>3</th>\n      <td>711</td>\n      <td>0</td>\n    </tr>\n    <tr>\n      <th>4</th>\n      <td>724</td>\n      <td>0</td>\n    </tr>\n    <tr>\n      <th>...</th>\n      <td>...</td>\n      <td>...</td>\n    </tr>\n    <tr>\n      <th>495</th>\n      <td>72393</td>\n      <td>0</td>\n    </tr>\n    <tr>\n      <th>496</th>\n      <td>72491</td>\n      <td>1</td>\n    </tr>\n    <tr>\n      <th>497</th>\n      <td>72562</td>\n      <td>0</td>\n    </tr>\n    <tr>\n      <th>498</th>\n      <td>72792</td>\n      <td>0</td>\n    </tr>\n    <tr>\n      <th>499</th>\n      <td>72940</td>\n      <td>0</td>\n    </tr>\n  </tbody>\n</table>\n<p>500 rows × 2 columns</p>\n</div>"
     },
     "metadata": {},
     "execution_count": 37
    }
   ],
   "source": [
    "data_test_submit = {'id': id_test, 'stroke': y_pred}\n",
    "df_test_submit = pd.DataFrame(data= data_test_submit)\n",
    "df_test_submit"
   ]
  },
  {
   "cell_type": "code",
   "execution_count": 38,
   "metadata": {},
   "outputs": [],
   "source": [
    "df_test_submit.to_csv('./Dataset/Submission/xgboost_knn.csv', index= False)"
   ]
  },
  {
   "cell_type": "code",
   "execution_count": 33,
   "metadata": {},
   "outputs": [],
   "source": [
    "# # evaluate each strategy on the dataset\n",
    "# from xgboost import XGBClassifier\n",
    "# results = list()\n",
    "# strategies = [str(i) for i in [1,3]]\n",
    "# for s in strategies:\n",
    "# \t# create the modeling pipeline\n",
    "# \tpipeline = Pipeline(steps=[('i', KNNImputer(n_neighbors=int(s))), ('m', XGBClassifier())])\n",
    "# \t# evaluate the model\n",
    "# \tcv = RepeatedStratifiedKFold(n_splits=10, n_repeats=3, random_state=1)\n",
    "# \tscores = cross_val_score(pipeline, X, y, scoring='accuracy', cv=cv, n_jobs=-1)\n",
    "# \t# store results\n",
    "# \tresults.append(scores)\n",
    "# \tprint('>%s %.3f (%.3f)' % (s, mean(scores), std(scores)))\n",
    "# # plot model performance for comparison\n",
    "# plt.boxplot(results, labels=strategies, showmeans=True)\n",
    "# plt.show()\n"
   ]
  },
  {
   "cell_type": "code",
   "execution_count": 55,
   "metadata": {},
   "outputs": [
    {
     "output_type": "stream",
     "name": "stderr",
     "text": [
      "/mnt/A0320C7B320C58A4/Code/Python/Stroke-prediction/Stroke_Env/lib/python3.8/site-packages/xgboost/sklearn.py:1146: UserWarning: The use of label encoder in XGBClassifier is deprecated and will be removed in a future release. To remove this warning, do the following: 1) Pass option use_label_encoder=False when constructing XGBClassifier object; and 2) Encode your labels (y) as integers starting with 0, i.e. 0, 1, 2, ..., [num_class - 1].\n",
      "  warnings.warn(label_encoder_deprecation_msg, UserWarning)\n",
      "[14:12:39] WARNING: ../src/learner.cc:1095: Starting in XGBoost 1.3.0, the default evaluation metric used with the objective 'binary:logistic' was changed from 'error' to 'logloss'. Explicitly set eval_metric if you'd like to restore the old behavior.\n"
     ]
    }
   ],
   "source": [
    "# # create the modeling pipeline\n",
    "# pipeline = Pipeline(steps=[('i', KNNImputer(n_neighbors=1)), ('m', XGBClassifier())])\n",
    "# # Fit the model\n",
    "# pipeline.fit(x_train, y_train)\n",
    "# # Make prediction\n",
    "# y_pred = pipeline.predict(X_Test)"
   ]
  },
  {
   "cell_type": "code",
   "execution_count": null,
   "metadata": {},
   "outputs": [],
   "source": []
  },
  {
   "cell_type": "code",
   "execution_count": 28,
   "metadata": {},
   "outputs": [
    {
     "output_type": "execute_result",
     "data": {
      "text/plain": [
       "500"
      ]
     },
     "metadata": {},
     "execution_count": 28
    }
   ],
   "source": [
    "len(y_pred)"
   ]
  },
  {
   "cell_type": "code",
   "execution_count": 29,
   "metadata": {},
   "outputs": [
    {
     "output_type": "execute_result",
     "data": {
      "text/plain": [
       "        id  stroke\n",
       "0       67       0\n",
       "1      210       0\n",
       "2      242       0\n",
       "3      711       0\n",
       "4      724       0\n",
       "..     ...     ...\n",
       "495  72393       0\n",
       "496  72491       0\n",
       "497  72562       0\n",
       "498  72792       0\n",
       "499  72940       0\n",
       "\n",
       "[500 rows x 2 columns]"
      ],
      "text/html": "<div>\n<style scoped>\n    .dataframe tbody tr th:only-of-type {\n        vertical-align: middle;\n    }\n\n    .dataframe tbody tr th {\n        vertical-align: top;\n    }\n\n    .dataframe thead th {\n        text-align: right;\n    }\n</style>\n<table border=\"1\" class=\"dataframe\">\n  <thead>\n    <tr style=\"text-align: right;\">\n      <th></th>\n      <th>id</th>\n      <th>stroke</th>\n    </tr>\n  </thead>\n  <tbody>\n    <tr>\n      <th>0</th>\n      <td>67</td>\n      <td>0</td>\n    </tr>\n    <tr>\n      <th>1</th>\n      <td>210</td>\n      <td>0</td>\n    </tr>\n    <tr>\n      <th>2</th>\n      <td>242</td>\n      <td>0</td>\n    </tr>\n    <tr>\n      <th>3</th>\n      <td>711</td>\n      <td>0</td>\n    </tr>\n    <tr>\n      <th>4</th>\n      <td>724</td>\n      <td>0</td>\n    </tr>\n    <tr>\n      <th>...</th>\n      <td>...</td>\n      <td>...</td>\n    </tr>\n    <tr>\n      <th>495</th>\n      <td>72393</td>\n      <td>0</td>\n    </tr>\n    <tr>\n      <th>496</th>\n      <td>72491</td>\n      <td>0</td>\n    </tr>\n    <tr>\n      <th>497</th>\n      <td>72562</td>\n      <td>0</td>\n    </tr>\n    <tr>\n      <th>498</th>\n      <td>72792</td>\n      <td>0</td>\n    </tr>\n    <tr>\n      <th>499</th>\n      <td>72940</td>\n      <td>0</td>\n    </tr>\n  </tbody>\n</table>\n<p>500 rows × 2 columns</p>\n</div>"
     },
     "metadata": {},
     "execution_count": 29
    }
   ],
   "source": [
    "data_test_submit = {'id': id_test, 'stroke': y_pred}\n",
    "df_test_submit = pd.DataFrame(data= data_test_submit)\n",
    "df_test_submit"
   ]
  },
  {
   "cell_type": "code",
   "execution_count": 30,
   "metadata": {},
   "outputs": [],
   "source": [
    "df_test_submit.to_csv('./Dataset/Submission_XGBoost_with_KNN_Imputer_with_1.csv', index= False)"
   ]
  }
 ]
}