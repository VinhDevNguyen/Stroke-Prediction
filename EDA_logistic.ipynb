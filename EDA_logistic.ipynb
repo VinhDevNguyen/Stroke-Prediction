{
 "metadata": {
  "language_info": {
   "codemirror_mode": {
    "name": "ipython",
    "version": 3
   },
   "file_extension": ".py",
   "mimetype": "text/x-python",
   "name": "python",
   "nbconvert_exporter": "python",
   "pygments_lexer": "ipython3",
   "version": "3.8.3"
  },
  "orig_nbformat": 2,
  "kernelspec": {
   "name": "myenv",
   "display_name": "myenv",
   "language": "python"
  }
 },
 "nbformat": 4,
 "nbformat_minor": 2,
 "cells": [
  {
   "source": [
    "# Import package"
   ],
   "cell_type": "markdown",
   "metadata": {}
  },
  {
   "cell_type": "code",
   "execution_count": 4,
   "metadata": {},
   "outputs": [],
   "source": [
    "import pandas as pd\n",
    "import sklearn\n",
    "import matplotlib.pyplot as plt\n",
    "import seaborn as sns\n",
    "import numpy as np\n",
    "from sklearn.linear_model import LinearRegression,LogisticRegression\n",
    "from sklearn.metrics import f1_score, roc_auc_score, confusion_matrix\n",
    "from sklearn.preprocessing import StandardScaler, OneHotEncoder\n",
    "from sklearn.model_selection import train_test_split\n",
    "from imblearn.over_sampling import SMOTE"
   ]
  },
  {
   "cell_type": "code",
   "execution_count": 2,
   "metadata": {},
   "outputs": [],
   "source": [
    "df = pd.read_csv(\"./Dataset/processed_train.csv\")"
   ]
  },
  {
   "cell_type": "code",
   "execution_count": 3,
   "metadata": {},
   "outputs": [
    {
     "output_type": "execute_result",
     "data": {
      "text/plain": [
       "      hypertension  heart_disease  ever_married  stroke  gender_Female  \\\n",
       "0                0              0             0       0              1   \n",
       "1                0              0             1       0              0   \n",
       "2                0              0             0       0              1   \n",
       "3                0              0             1       0              1   \n",
       "4                0              0             0       0              1   \n",
       "...            ...            ...           ...     ...            ...   \n",
       "3904             0              0             1       0              1   \n",
       "3905             0              0             1       0              1   \n",
       "3906             0              0             0       0              0   \n",
       "3907             0              0             1       0              0   \n",
       "3908             1              0             1       1              1   \n",
       "\n",
       "      gender_Male  gender_Other  blood_A  blood_AB  blood_B  ...  \\\n",
       "0               0             0        0         0        0  ...   \n",
       "1               1             0        0         0        1  ...   \n",
       "2               0             0        0         0        1  ...   \n",
       "3               0             0        0         0        0  ...   \n",
       "4               0             0        0         0        1  ...   \n",
       "...           ...           ...      ...       ...      ...  ...   \n",
       "3904            0             0        0         0        0  ...   \n",
       "3905            0             0        0         0        1  ...   \n",
       "3906            1             0        0         0        1  ...   \n",
       "3907            1             0        0         0        1  ...   \n",
       "3908            0             0        0         0        0  ...   \n",
       "\n",
       "      Residence_type_Unknown  Residence_type_Urban  work_type_Govt_job  \\\n",
       "0                          1                     0                   0   \n",
       "1                          0                     1                   0   \n",
       "2                          1                     0                   0   \n",
       "3                          1                     0                   0   \n",
       "4                          0                     1                   0   \n",
       "...                      ...                   ...                 ...   \n",
       "3904                       1                     0                   0   \n",
       "3905                       1                     0                   0   \n",
       "3906                       1                     0                   0   \n",
       "3907                       0                     0                   0   \n",
       "3908                       0                     1                   0   \n",
       "\n",
       "      work_type_Never_worked  work_type_Private  work_type_Self-employed  \\\n",
       "0                          0                  0                        0   \n",
       "1                          0                  1                        0   \n",
       "2                          0                  1                        0   \n",
       "3                          0                  1                        0   \n",
       "4                          0                  1                        0   \n",
       "...                      ...                ...                      ...   \n",
       "3904                       0                  1                        0   \n",
       "3905                       0                  1                        0   \n",
       "3906                       0                  1                        0   \n",
       "3907                       0                  1                        0   \n",
       "3908                       0                  1                        0   \n",
       "\n",
       "      work_type_children  avg_glucose_level       bmi       age  \n",
       "0                      1          -0.454391 -1.632301  0.000364  \n",
       "1                      0          -0.377299  0.528038  0.535819  \n",
       "2                      0          -0.162540 -1.649074 -0.047722  \n",
       "3                      0          -0.325215  0.450906 -0.227273  \n",
       "4                      0          -0.185025 -0.357567 -0.855701  \n",
       "...                  ...                ...       ...       ...  \n",
       "3904                   0          -0.909377  0.528038  0.715369  \n",
       "3905                   0          -0.833202  0.528038  0.401155  \n",
       "3906                   0          -0.140513 -1.062025 -1.214803  \n",
       "3907                   0          -0.695536 -0.558841  0.176717  \n",
       "3908                   0          -0.988076  0.330119  0.446043  \n",
       "\n",
       "[3909 rows x 26 columns]"
      ],
      "text/html": "<div>\n<style scoped>\n    .dataframe tbody tr th:only-of-type {\n        vertical-align: middle;\n    }\n\n    .dataframe tbody tr th {\n        vertical-align: top;\n    }\n\n    .dataframe thead th {\n        text-align: right;\n    }\n</style>\n<table border=\"1\" class=\"dataframe\">\n  <thead>\n    <tr style=\"text-align: right;\">\n      <th></th>\n      <th>hypertension</th>\n      <th>heart_disease</th>\n      <th>ever_married</th>\n      <th>stroke</th>\n      <th>gender_Female</th>\n      <th>gender_Male</th>\n      <th>gender_Other</th>\n      <th>blood_A</th>\n      <th>blood_AB</th>\n      <th>blood_B</th>\n      <th>...</th>\n      <th>Residence_type_Unknown</th>\n      <th>Residence_type_Urban</th>\n      <th>work_type_Govt_job</th>\n      <th>work_type_Never_worked</th>\n      <th>work_type_Private</th>\n      <th>work_type_Self-employed</th>\n      <th>work_type_children</th>\n      <th>avg_glucose_level</th>\n      <th>bmi</th>\n      <th>age</th>\n    </tr>\n  </thead>\n  <tbody>\n    <tr>\n      <th>0</th>\n      <td>0</td>\n      <td>0</td>\n      <td>0</td>\n      <td>0</td>\n      <td>1</td>\n      <td>0</td>\n      <td>0</td>\n      <td>0</td>\n      <td>0</td>\n      <td>0</td>\n      <td>...</td>\n      <td>1</td>\n      <td>0</td>\n      <td>0</td>\n      <td>0</td>\n      <td>0</td>\n      <td>0</td>\n      <td>1</td>\n      <td>-0.454391</td>\n      <td>-1.632301</td>\n      <td>0.000364</td>\n    </tr>\n    <tr>\n      <th>1</th>\n      <td>0</td>\n      <td>0</td>\n      <td>1</td>\n      <td>0</td>\n      <td>0</td>\n      <td>1</td>\n      <td>0</td>\n      <td>0</td>\n      <td>0</td>\n      <td>1</td>\n      <td>...</td>\n      <td>0</td>\n      <td>1</td>\n      <td>0</td>\n      <td>0</td>\n      <td>1</td>\n      <td>0</td>\n      <td>0</td>\n      <td>-0.377299</td>\n      <td>0.528038</td>\n      <td>0.535819</td>\n    </tr>\n    <tr>\n      <th>2</th>\n      <td>0</td>\n      <td>0</td>\n      <td>0</td>\n      <td>0</td>\n      <td>1</td>\n      <td>0</td>\n      <td>0</td>\n      <td>0</td>\n      <td>0</td>\n      <td>1</td>\n      <td>...</td>\n      <td>1</td>\n      <td>0</td>\n      <td>0</td>\n      <td>0</td>\n      <td>1</td>\n      <td>0</td>\n      <td>0</td>\n      <td>-0.162540</td>\n      <td>-1.649074</td>\n      <td>-0.047722</td>\n    </tr>\n    <tr>\n      <th>3</th>\n      <td>0</td>\n      <td>0</td>\n      <td>1</td>\n      <td>0</td>\n      <td>1</td>\n      <td>0</td>\n      <td>0</td>\n      <td>0</td>\n      <td>0</td>\n      <td>0</td>\n      <td>...</td>\n      <td>1</td>\n      <td>0</td>\n      <td>0</td>\n      <td>0</td>\n      <td>1</td>\n      <td>0</td>\n      <td>0</td>\n      <td>-0.325215</td>\n      <td>0.450906</td>\n      <td>-0.227273</td>\n    </tr>\n    <tr>\n      <th>4</th>\n      <td>0</td>\n      <td>0</td>\n      <td>0</td>\n      <td>0</td>\n      <td>1</td>\n      <td>0</td>\n      <td>0</td>\n      <td>0</td>\n      <td>0</td>\n      <td>1</td>\n      <td>...</td>\n      <td>0</td>\n      <td>1</td>\n      <td>0</td>\n      <td>0</td>\n      <td>1</td>\n      <td>0</td>\n      <td>0</td>\n      <td>-0.185025</td>\n      <td>-0.357567</td>\n      <td>-0.855701</td>\n    </tr>\n    <tr>\n      <th>...</th>\n      <td>...</td>\n      <td>...</td>\n      <td>...</td>\n      <td>...</td>\n      <td>...</td>\n      <td>...</td>\n      <td>...</td>\n      <td>...</td>\n      <td>...</td>\n      <td>...</td>\n      <td>...</td>\n      <td>...</td>\n      <td>...</td>\n      <td>...</td>\n      <td>...</td>\n      <td>...</td>\n      <td>...</td>\n      <td>...</td>\n      <td>...</td>\n      <td>...</td>\n      <td>...</td>\n    </tr>\n    <tr>\n      <th>3904</th>\n      <td>0</td>\n      <td>0</td>\n      <td>1</td>\n      <td>0</td>\n      <td>1</td>\n      <td>0</td>\n      <td>0</td>\n      <td>0</td>\n      <td>0</td>\n      <td>0</td>\n      <td>...</td>\n      <td>1</td>\n      <td>0</td>\n      <td>0</td>\n      <td>0</td>\n      <td>1</td>\n      <td>0</td>\n      <td>0</td>\n      <td>-0.909377</td>\n      <td>0.528038</td>\n      <td>0.715369</td>\n    </tr>\n    <tr>\n      <th>3905</th>\n      <td>0</td>\n      <td>0</td>\n      <td>1</td>\n      <td>0</td>\n      <td>1</td>\n      <td>0</td>\n      <td>0</td>\n      <td>0</td>\n      <td>0</td>\n      <td>1</td>\n      <td>...</td>\n      <td>1</td>\n      <td>0</td>\n      <td>0</td>\n      <td>0</td>\n      <td>1</td>\n      <td>0</td>\n      <td>0</td>\n      <td>-0.833202</td>\n      <td>0.528038</td>\n      <td>0.401155</td>\n    </tr>\n    <tr>\n      <th>3906</th>\n      <td>0</td>\n      <td>0</td>\n      <td>0</td>\n      <td>0</td>\n      <td>0</td>\n      <td>1</td>\n      <td>0</td>\n      <td>0</td>\n      <td>0</td>\n      <td>1</td>\n      <td>...</td>\n      <td>1</td>\n      <td>0</td>\n      <td>0</td>\n      <td>0</td>\n      <td>1</td>\n      <td>0</td>\n      <td>0</td>\n      <td>-0.140513</td>\n      <td>-1.062025</td>\n      <td>-1.214803</td>\n    </tr>\n    <tr>\n      <th>3907</th>\n      <td>0</td>\n      <td>0</td>\n      <td>1</td>\n      <td>0</td>\n      <td>0</td>\n      <td>1</td>\n      <td>0</td>\n      <td>0</td>\n      <td>0</td>\n      <td>1</td>\n      <td>...</td>\n      <td>0</td>\n      <td>0</td>\n      <td>0</td>\n      <td>0</td>\n      <td>1</td>\n      <td>0</td>\n      <td>0</td>\n      <td>-0.695536</td>\n      <td>-0.558841</td>\n      <td>0.176717</td>\n    </tr>\n    <tr>\n      <th>3908</th>\n      <td>1</td>\n      <td>0</td>\n      <td>1</td>\n      <td>1</td>\n      <td>1</td>\n      <td>0</td>\n      <td>0</td>\n      <td>0</td>\n      <td>0</td>\n      <td>0</td>\n      <td>...</td>\n      <td>0</td>\n      <td>1</td>\n      <td>0</td>\n      <td>0</td>\n      <td>1</td>\n      <td>0</td>\n      <td>0</td>\n      <td>-0.988076</td>\n      <td>0.330119</td>\n      <td>0.446043</td>\n    </tr>\n  </tbody>\n</table>\n<p>3909 rows × 26 columns</p>\n</div>"
     },
     "metadata": {},
     "execution_count": 3
    }
   ],
   "source": [
    "df"
   ]
  },
  {
   "cell_type": "code",
   "execution_count": 6,
   "metadata": {},
   "outputs": [],
   "source": [
    "x = df.copy()\n",
    "x = x.drop(columns='stroke')\n",
    "y = df['stroke']"
   ]
  },
  {
   "cell_type": "code",
   "execution_count": 7,
   "metadata": {},
   "outputs": [],
   "source": [
    "smote = SMOTE()\n",
    "x_smote, y_smote = smote.fit_resample(x, y)"
   ]
  },
  {
   "cell_type": "code",
   "execution_count": 8,
   "metadata": {},
   "outputs": [],
   "source": [
    "x_train, x_test, y_train, y_test = train_test_split(x_smote, y_smote, test_size= 0.2, random_state= 42)"
   ]
  },
  {
   "cell_type": "code",
   "execution_count": 9,
   "metadata": {},
   "outputs": [
    {
     "output_type": "stream",
     "name": "stdout",
     "text": [
      "6052\n6052\n1514\n1514\n"
     ]
    }
   ],
   "source": [
    "print(len(x_train))\n",
    "print(len(y_train))\n",
    "print(len(x_test))\n",
    "print(len(y_test))"
   ]
  },
  {
   "source": [
    "## Training Model"
   ],
   "cell_type": "markdown",
   "metadata": {}
  },
  {
   "cell_type": "code",
   "execution_count": 13,
   "metadata": {},
   "outputs": [
    {
     "output_type": "execute_result",
     "data": {
      "text/plain": [
       "stroke                            1.000000\n",
       "blood_O                           0.206690\n",
       "age                               0.192354\n",
       "Residence_type_Urban              0.116430\n",
       "avg_glucose_level                 0.102858\n",
       "heart_disease                     0.095742\n",
       "ever_married                      0.087278\n",
       "Residence_type_Rural              0.070189\n",
       "hypertension                      0.064028\n",
       "smoking_status_formerly smoked    0.051671\n",
       "bmi                               0.037239\n",
       "work_type_Self-employed           0.024138\n",
       "work_type_Private                 0.022925\n",
       "work_type_Govt_job                0.017460\n",
       "gender_Male                       0.012944\n",
       "smoking_status_smokes             0.006403\n",
       "gender_Other                      0.001244\n",
       "smoking_status_never smoked      -0.003192\n",
       "work_type_Never_worked           -0.012062\n",
       "gender_Female                    -0.013280\n",
       "blood_A                          -0.037011\n",
       "smoking_status_Unknown           -0.043779\n",
       "blood_B                          -0.047782\n",
       "work_type_children               -0.072987\n",
       "blood_AB                         -0.095569\n",
       "Residence_type_Unknown           -0.161897\n",
       "Name: stroke, dtype: float64"
      ]
     },
     "metadata": {},
     "execution_count": 13
    }
   ],
   "source": [
    "df.corr()['stroke'].sort_values(ascending=False)"
   ]
  },
  {
   "source": [
    "## smoking_status"
   ],
   "cell_type": "markdown",
   "metadata": {}
  },
  {
   "cell_type": "code",
   "execution_count": 16,
   "metadata": {},
   "outputs": [
    {
     "output_type": "execute_result",
     "data": {
      "text/plain": [
       "array([1, 0, 0, ..., 0, 0, 0], dtype=int64)"
      ]
     },
     "metadata": {},
     "execution_count": 16
    }
   ],
   "source": [
    "model_logistic = LogisticRegression(random_state=42)\n",
    "model_logistic.fit(x_train,y_train)\n",
    "y_logistic_pred = model_logistic.predict(x_test)\n",
    "y_logistic_pred\n",
    "\n"
   ]
  },
  {
   "cell_type": "code",
   "execution_count": 17,
   "metadata": {},
   "outputs": [
    {
     "output_type": "execute_result",
     "data": {
      "text/plain": [
       "array([[735,  36],\n",
       "       [ 32, 711]], dtype=int64)"
      ]
     },
     "metadata": {},
     "execution_count": 17
    }
   ],
   "source": [
    "cm = confusion_matrix(y_test, y_logistic_pred)\n",
    "cm"
   ]
  },
  {
   "cell_type": "code",
   "execution_count": 18,
   "metadata": {},
   "outputs": [
    {
     "output_type": "stream",
     "name": "stdout",
     "text": [
      "0.9543624161073826\n0.9550858652575958\n"
     ]
    }
   ],
   "source": [
    "tn = cm[0,0]\n",
    "fp = cm[0,1]\n",
    "tp = cm[1,1]\n",
    "fn = cm[1,0]\n",
    "accuracy  = (tp + tn) / (tp + fp + tn + fn)\n",
    "precision = tp / (tp + fp)\n",
    "recall    = tp / (tp + fn)\n",
    "f1score  = 2 * precision * recall / (precision + recall)\n",
    "print(f1score)\n",
    "print(accuracy)"
   ]
  },
  {
   "cell_type": "code",
   "execution_count": null,
   "metadata": {},
   "outputs": [],
   "source": []
  }
 ]
}