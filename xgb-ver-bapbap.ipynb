{
 "metadata": {
  "language_info": {
   "codemirror_mode": {
    "name": "ipython",
    "version": 3
   },
   "file_extension": ".py",
   "mimetype": "text/x-python",
   "name": "python",
   "nbconvert_exporter": "python",
   "pygments_lexer": "ipython3",
   "version": "3.8.5"
  },
  "orig_nbformat": 2,
  "kernelspec": {
   "name": "python385jvsc74a57bd0ada9fabe7e6e53f306d2de459e56a9ae70b3c90146f086e5031f9817e1f8397e",
   "display_name": "Python 3.8.5 64-bit ('base': conda)"
  },
  "metadata": {
   "interpreter": {
    "hash": "3d57263d244f41070e5356bc23745f0513179ddffa25bc27a4d0a98c6b1d3bb9"
   }
  }
 },
 "nbformat": 4,
 "nbformat_minor": 2,
 "cells": [
  {
   "cell_type": "code",
   "execution_count": 98,
   "metadata": {},
   "outputs": [],
   "source": [
    "import pandas as pd\n",
    "import sklearn\n",
    "import matplotlib.pyplot as plt\n",
    "#import seaborn as sns\n",
    "import numpy as np\n",
    "from sklearn.linear_model import LinearRegression\n",
    "from sklearn.metrics import f1_score, roc_auc_score, confusion_matrix\n",
    "from sklearn.preprocessing import StandardScaler, OneHotEncoder\n",
    "from sklearn.model_selection import train_test_split\n",
    "from imblearn.over_sampling import SMOTE"
   ]
  },
  {
   "cell_type": "code",
   "execution_count": 99,
   "metadata": {},
   "outputs": [],
   "source": [
    " def process_data(path, mean_children, mean_age, mean_bmi, mean_avg):\n",
    "    df = pd.read_csv(path)\n",
    "    df = df.drop([\"height\"], axis=1)\n",
    "\n",
    "    #age\n",
    "    for index, r in df.iterrows():\n",
    "        if np.isnan(r[\"age\"]) == True:\n",
    "            if r[\"work_type\"] == 'children':\n",
    "                df[\"age\"][index] = mean_children\n",
    "            else: df[\"age\"][index] = mean_age\n",
    "    \n",
    "    #bmi\n",
    "    for i in range(len(df['bmi'])):\n",
    "        if df['bmi'][i] >= 45:\n",
    "            df['bmi'][i] = 30.0\n",
    "    df['bmi'] = df['bmi'].fillna(mean_bmi)\n",
    "    \n",
    "    #avg_glicose\n",
    "    df['avg_glucose_level'] = df['avg_glucose_level'].fillna(mean_avg)\n",
    "    df['hypertension'] = df['hypertension'].fillna(0.0)\n",
    "    df['heart_disease'] = df['heart_disease'].fillna(0.0)\n",
    "    df['blood'] = df['blood'].fillna('AB')\n",
    "\n",
    "    #marriage\n",
    "    marriage_mapping = {'No': 0, 'Yes': 1}\n",
    "    df['ever_married'] = df['ever_married'].map(marriage_mapping)\n",
    "\n",
    "    #one_hot encoder for ...\n",
    "    categorical_features_oh = ['gender', 'blood', 'smoking_status', 'Residence_type', 'work_type']\n",
    "    for i in categorical_features_oh:\n",
    "        df[i] = pd.Categorical(df[i])\n",
    "        dfDummies = pd.get_dummies(df[i], prefix= i)\n",
    "        df = pd.concat([df, dfDummies], axis=1)\n",
    "    for i in categorical_features_oh:\n",
    "        df.drop(columns=i, axis=1, inplace=True)\n",
    "    \n",
    "    #normalize\n",
    "    norm_feature = ['age', 'avg_glucose_level', 'bmi']\n",
    "    for i in norm_feature:\n",
    "        max = df[i].to_numpy().max()\n",
    "        min = df[i].to_numpy().min()\n",
    "        n = max - min\n",
    "        for j in range(len(df[i])):\n",
    "            df[i][j] = (df[i][j] - min)/n\n",
    "    \n",
    "    return df"
   ]
  },
  {
   "cell_type": "code",
   "execution_count": 100,
   "metadata": {},
   "outputs": [],
   "source": [
    "df_train = pd.read_csv('./Dataset/train.csv')"
   ]
  },
  {
   "cell_type": "code",
   "execution_count": 101,
   "metadata": {},
   "outputs": [
    {
     "output_type": "stream",
     "name": "stderr",
     "text": [
      "<ipython-input-101-32b1e7f0bea0>:3: SettingWithCopyWarning: \nA value is trying to be set on a copy of a slice from a DataFrame\n\nSee the caveats in the documentation: https://pandas.pydata.org/pandas-docs/stable/user_guide/indexing.html#returning-a-view-versus-a-copy\n  df_train['bmi'][i] = 30.0\n"
     ]
    }
   ],
   "source": [
    "for i in range(len(df_train['bmi'])):\n",
    "    if df_train['bmi'][i] >= 45:\n",
    "        df_train['bmi'][i] = 30.0\n",
    "mean_bmi = np.mean(df_train['bmi'])"
   ]
  },
  {
   "cell_type": "code",
   "execution_count": 102,
   "metadata": {},
   "outputs": [],
   "source": [
    "mean_age = np.mean(df_train[\"age\"])"
   ]
  },
  {
   "cell_type": "code",
   "execution_count": 103,
   "metadata": {},
   "outputs": [],
   "source": [
    "a = df_train[\"age\"].tolist()\n",
    "b = df_train[\"work_type\"].tolist()\n",
    "c = []\n",
    "for i in range(len(a)):\n",
    "    if b[i] == 'children' and np.isnan(a[i]) == False:\n",
    "        c.append(a[i])\n",
    "\n",
    "mean_children = np.mean(c)"
   ]
  },
  {
   "cell_type": "code",
   "execution_count": 104,
   "metadata": {},
   "outputs": [],
   "source": [
    "mean_avg = np.mean(df_train['avg_glucose_level'])"
   ]
  },
  {
   "cell_type": "code",
   "execution_count": 112,
   "metadata": {},
   "outputs": [
    {
     "output_type": "stream",
     "name": "stderr",
     "text": [
      "<ipython-input-99-3d90b008e38e>:9: SettingWithCopyWarning: \n",
      "A value is trying to be set on a copy of a slice from a DataFrame\n",
      "\n",
      "See the caveats in the documentation: https://pandas.pydata.org/pandas-docs/stable/user_guide/indexing.html#returning-a-view-versus-a-copy\n",
      "  df[\"age\"][index] = mean_children\n",
      "<ipython-input-99-3d90b008e38e>:10: SettingWithCopyWarning: \n",
      "A value is trying to be set on a copy of a slice from a DataFrame\n",
      "\n",
      "See the caveats in the documentation: https://pandas.pydata.org/pandas-docs/stable/user_guide/indexing.html#returning-a-view-versus-a-copy\n",
      "  else: df[\"age\"][index] = mean_age\n",
      "<ipython-input-99-3d90b008e38e>:15: SettingWithCopyWarning: \n",
      "A value is trying to be set on a copy of a slice from a DataFrame\n",
      "\n",
      "See the caveats in the documentation: https://pandas.pydata.org/pandas-docs/stable/user_guide/indexing.html#returning-a-view-versus-a-copy\n",
      "  df['bmi'][i] = 30.0\n",
      "<ipython-input-99-3d90b008e38e>:44: SettingWithCopyWarning: \n",
      "A value is trying to be set on a copy of a slice from a DataFrame\n",
      "\n",
      "See the caveats in the documentation: https://pandas.pydata.org/pandas-docs/stable/user_guide/indexing.html#returning-a-view-versus-a-copy\n",
      "  df[i][j] = (df[i][j] - min)/n\n"
     ]
    }
   ],
   "source": [
    "df_train = process_data('./Dataset/train.csv', mean_children, mean_age, mean_bmi, mean_avg)\n",
    "df_train = df_train.drop(['id'], axis=1)"
   ]
  },
  {
   "cell_type": "code",
   "execution_count": 113,
   "metadata": {},
   "outputs": [
    {
     "output_type": "stream",
     "name": "stdout",
     "text": [
      "<class 'pandas.core.frame.DataFrame'>\nRangeIndex: 4000 entries, 0 to 3999\nData columns (total 26 columns):\n #   Column                          Non-Null Count  Dtype  \n---  ------                          --------------  -----  \n 0   age                             4000 non-null   float64\n 1   hypertension                    4000 non-null   float64\n 2   heart_disease                   4000 non-null   float64\n 3   ever_married                    4000 non-null   int64  \n 4   avg_glucose_level               4000 non-null   float64\n 5   bmi                             4000 non-null   float64\n 6   stroke                          4000 non-null   int64  \n 7   gender_Female                   4000 non-null   uint8  \n 8   gender_Male                     4000 non-null   uint8  \n 9   gender_Other                    4000 non-null   uint8  \n 10  blood_A                         4000 non-null   uint8  \n 11  blood_AB                        4000 non-null   uint8  \n 12  blood_B                         4000 non-null   uint8  \n 13  blood_O                         4000 non-null   uint8  \n 14  smoking_status_Unknown          4000 non-null   uint8  \n 15  smoking_status_formerly smoked  4000 non-null   uint8  \n 16  smoking_status_never smoked     4000 non-null   uint8  \n 17  smoking_status_smokes           4000 non-null   uint8  \n 18  Residence_type_Rural            4000 non-null   uint8  \n 19  Residence_type_Unknown          4000 non-null   uint8  \n 20  Residence_type_Urban            4000 non-null   uint8  \n 21  work_type_Govt_job              4000 non-null   uint8  \n 22  work_type_Never_worked          4000 non-null   uint8  \n 23  work_type_Private               4000 non-null   uint8  \n 24  work_type_Self-employed         4000 non-null   uint8  \n 25  work_type_children              4000 non-null   uint8  \ndtypes: float64(5), int64(2), uint8(19)\nmemory usage: 293.1 KB\n"
     ]
    }
   ],
   "source": [
    "df_train.info()"
   ]
  },
  {
   "source": [
    "MODEL"
   ],
   "cell_type": "markdown",
   "metadata": {}
  },
  {
   "cell_type": "code",
   "execution_count": 124,
   "metadata": {},
   "outputs": [],
   "source": [
    "from imblearn.pipeline import Pipeline\n",
    "from imblearn.combine import SMOTETomek\n",
    "from imblearn.under_sampling import TomekLinks\n",
    "from imblearn.over_sampling import SMOTE\n",
    "from sklearn.model_selection import cross_validate\n",
    "from sklearn.model_selection import RepeatedStratifiedKFold\n",
    "import xgboost as xgb"
   ]
  },
  {
   "cell_type": "code",
   "execution_count": 125,
   "metadata": {},
   "outputs": [],
   "source": [
    "x = df_train.drop([\"stroke\"], axis=1).to_numpy()\n",
    "y = df_train[\"stroke\"].to_numpy()\n",
    "# smote = SMOTE()\n",
    "# x_smote, y_smote = smote.fit_resample(x, y)\n",
    "# x_train, x_test, y_train, y_test = train_test_split(x_smote, y_smote, test_size= 0.2, random_state= 42)"
   ]
  },
  {
   "cell_type": "code",
   "execution_count": 120,
   "metadata": {},
   "outputs": [],
   "source": [
    "# model_xgb = xgb.XGBClassifier()\n",
    "# model_xgb.fit(x_train, y_train)\n",
    "# y_xgb_pred = model_xgb.predict(x_test)\n",
    "# f1_score(y_test, y_xgb_pred)"
   ]
  },
  {
   "cell_type": "code",
   "execution_count": 126,
   "metadata": {},
   "outputs": [
    {
     "output_type": "stream",
     "name": "stderr",
     "text": [
      "C:\\Users\\Bap_Bap\\AppData\\Roaming\\Python\\Python38\\site-packages\\xgboost\\sklearn.py:1146: UserWarning: The use of label encoder in XGBClassifier is deprecated and will be removed in a future release. To remove this warning, do the following: 1) Pass option use_label_encoder=False when constructing XGBClassifier object; and 2) Encode your labels (y) as integers starting with 0, i.e. 0, 1, 2, ..., [num_class - 1].\n",
      "  warnings.warn(label_encoder_deprecation_msg, UserWarning)\n",
      "[05:41:57] WARNING: C:/Users/Administrator/workspace/xgboost-win64_release_1.4.0/src/learner.cc:1095: Starting in XGBoost 1.3.0, the default evaluation metric used with the objective 'binary:logistic' was changed from 'error' to 'logloss'. Explicitly set eval_metric if you'd like to restore the old behavior.\n"
     ]
    },
    {
     "output_type": "execute_result",
     "data": {
      "text/plain": [
       "Pipeline(steps=[('r',\n",
       "                 SMOTETomek(tomek=TomekLinks(sampling_strategy='majority'))),\n",
       "                ('m',\n",
       "                 XGBClassifier(base_score=0.5, booster='gbtree',\n",
       "                               colsample_bylevel=1, colsample_bynode=1,\n",
       "                               colsample_bytree=1, gamma=0, gpu_id=-1,\n",
       "                               importance_type='gain',\n",
       "                               interaction_constraints='',\n",
       "                               learning_rate=0.300000012, max_delta_step=0,\n",
       "                               max_depth=6, min_child_weight=1, missing=nan,\n",
       "                               monotone_constraints='()', n_estimators=100,\n",
       "                               n_jobs=4, num_parallel_tree=1, random_state=0,\n",
       "                               reg_alpha=0, reg_lambda=1, scale_pos_weight=1,\n",
       "                               subsample=1, tree_method='exact',\n",
       "                               validate_parameters=1, verbosity=None))])"
      ]
     },
     "metadata": {},
     "execution_count": 126
    }
   ],
   "source": [
    "model_xgb = xgb.XGBClassifier()\n",
    "resample = SMOTETomek(tomek=TomekLinks(sampling_strategy='majority'))\n",
    "pipeline = Pipeline(steps=[('r', resample), ('m', model_xgb)])\n",
    "cv = RepeatedStratifiedKFold(n_splits=10, n_repeats=3, random_state=1)\n",
    "scoring = ['f1']\n",
    "scores2 = cross_validate(pipeline, x, y, scoring=scoring, cv=cv, n_jobs=-1)\n",
    "pipeline.fit(x, y)"
   ]
  },
  {
   "cell_type": "code",
   "execution_count": 127,
   "metadata": {},
   "outputs": [
    {
     "output_type": "execute_result",
     "data": {
      "text/plain": [
       "{'fit_time': array([5.2034266 , 5.30127406, 5.2533648 , 5.16150308, 5.44162488,\n",
       "        5.41216016, 5.34426498, 5.43726707, 8.50427842, 8.39324737,\n",
       "        8.33821011, 8.77958846, 7.28124809, 7.24023581, 7.16623354,\n",
       "        6.54308009, 5.6106863 , 5.65062785, 5.55370688, 5.93752384,\n",
       "        5.57645726, 5.59646368, 5.55638003, 5.67765903, 6.84096742,\n",
       "        6.84094405, 6.8419342 , 6.54191113, 3.4212122 , 3.40806746]),\n",
       " 'score_time': array([0.0159564 , 0.01200438, 0.01994658, 0.01296639, 0.00897622,\n",
       "        0.01296759, 0.01296544, 0.01396441, 0.00900984, 0.00700617,\n",
       "        0.0100019 , 0.3704927 , 0.00800848, 0.01399493, 0.01248646,\n",
       "        0.01247787, 0.01196885, 0.03813767, 0.01097155, 0.01695418,\n",
       "        0.01000428, 0.01203871, 0.01399136, 0.01403141, 0.01897645,\n",
       "        0.02000356, 0.01499581, 0.0100224 , 0.00897622, 0.00897646]),\n",
       " 'test_f1': array([0.21052632, 0.5       , 0.4       , 0.41666667, 0.72      ,\n",
       "        0.46153846, 0.41666667, 0.27272727, 0.4       , 0.4       ,\n",
       "        0.43478261, 0.4516129 , 0.4       , 0.4       , 0.4       ,\n",
       "        0.41666667, 0.42105263, 0.56      , 0.46153846, 0.53333333,\n",
       "        0.4       , 0.41666667, 0.48      , 0.34782609, 0.61538462,\n",
       "        0.41666667, 0.52173913, 0.4       , 0.54545455, 0.4       ])}"
      ]
     },
     "metadata": {},
     "execution_count": 127
    }
   ],
   "source": [
    "scores2"
   ]
  },
  {
   "cell_type": "code",
   "execution_count": 128,
   "metadata": {},
   "outputs": [
    {
     "output_type": "stream",
     "name": "stderr",
     "text": [
      "<ipython-input-99-3d90b008e38e>:10: SettingWithCopyWarning: \nA value is trying to be set on a copy of a slice from a DataFrame\n\nSee the caveats in the documentation: https://pandas.pydata.org/pandas-docs/stable/user_guide/indexing.html#returning-a-view-versus-a-copy\n  else: df[\"age\"][index] = mean_age\n<ipython-input-99-3d90b008e38e>:9: SettingWithCopyWarning: \nA value is trying to be set on a copy of a slice from a DataFrame\n\nSee the caveats in the documentation: https://pandas.pydata.org/pandas-docs/stable/user_guide/indexing.html#returning-a-view-versus-a-copy\n  df[\"age\"][index] = mean_children\n<ipython-input-99-3d90b008e38e>:15: SettingWithCopyWarning: \nA value is trying to be set on a copy of a slice from a DataFrame\n\nSee the caveats in the documentation: https://pandas.pydata.org/pandas-docs/stable/user_guide/indexing.html#returning-a-view-versus-a-copy\n  df['bmi'][i] = 30.0\n<ipython-input-99-3d90b008e38e>:44: SettingWithCopyWarning: \nA value is trying to be set on a copy of a slice from a DataFrame\n\nSee the caveats in the documentation: https://pandas.pydata.org/pandas-docs/stable/user_guide/indexing.html#returning-a-view-versus-a-copy\n  df[i][j] = (df[i][j] - min)/n\n"
     ]
    }
   ],
   "source": [
    "df_test = process_data('./Dataset/public_test.csv', mean_children, mean_age, mean_bmi, mean_avg)"
   ]
  },
  {
   "cell_type": "code",
   "execution_count": 129,
   "metadata": {},
   "outputs": [],
   "source": [
    "id_test = df_test['id'].to_numpy()\n",
    "x_test = df_test.drop(['id'], axis=1).to_numpy()\n",
    "x_test = np.array(x_test)"
   ]
  },
  {
   "cell_type": "code",
   "execution_count": 132,
   "metadata": {},
   "outputs": [],
   "source": [
    "y_xgb_pred_test = pipeline.predict(x_test)\n",
    "data_test_submit = {'id': id_test, 'stroke': y_xgb_pred_test}\n",
    "df_test_submit = pd.DataFrame(data= data_test_submit)\n",
    "df_test_submit\n",
    "df_test_submit.to_csv('./Dataset/Submission.csv', index= False)"
   ]
  },
  {
   "cell_type": "code",
   "execution_count": 123,
   "metadata": {},
   "outputs": [
    {
     "output_type": "execute_result",
     "data": {
      "text/plain": [
       "(500, 25)"
      ]
     },
     "metadata": {},
     "execution_count": 123
    }
   ],
   "source": [
    "x_test.shape"
   ]
  },
  {
   "cell_type": "code",
   "execution_count": null,
   "metadata": {},
   "outputs": [],
   "source": []
  }
 ]
}