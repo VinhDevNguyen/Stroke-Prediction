{
 "metadata": {
  "language_info": {
   "codemirror_mode": {
    "name": "ipython",
    "version": 3
   },
   "file_extension": ".py",
   "mimetype": "text/x-python",
   "name": "python",
   "nbconvert_exporter": "python",
   "pygments_lexer": "ipython3",
   "version": "3.8.3"
  },
  "orig_nbformat": 2,
  "kernelspec": {
   "name": "myenv",
   "display_name": "myenv",
   "language": "python"
  },
  "metadata": {
   "interpreter": {
    "hash": "743122f284083c97ef6c7e4378c6167beb4e19e2ae03e2d7f15fa3b72661eea8"
   }
  }
 },
 "nbformat": 4,
 "nbformat_minor": 2,
 "cells": [
  {
   "cell_type": "code",
   "execution_count": 1,
   "metadata": {},
   "outputs": [],
   "source": [
    "import pandas as pd\n",
    "import sklearn\n",
    "import matplotlib.pyplot as plt\n",
    "import seaborn as sns\n",
    "import numpy as np\n",
    "from numpy import mean, std\n",
    "from sklearn.linear_model import LinearRegression\n",
    "from sklearn.metrics import f1_score, roc_auc_score, confusion_matrix\n",
    "from sklearn.preprocessing import StandardScaler, OneHotEncoder, LabelEncoder\n",
    "from sklearn.ensemble import RandomForestClassifier\n",
    "from sklearn.pipeline import Pipeline\n",
    "from sklearn.impute import KNNImputer\n",
    "from sklearn.neighbors import KNeighborsRegressor\n",
    "from sklearn.model_selection import train_test_split, RepeatedStratifiedKFold, cross_val_score\n",
    "from imblearn.over_sampling import SMOTE"
   ]
  },
  {
   "cell_type": "code",
   "execution_count": 2,
   "metadata": {},
   "outputs": [
    {
     "output_type": "execute_result",
     "data": {
      "text/plain": [
       "      gender   age  hypertension  heart_disease  ever_married work_type  \\\n",
       "0     Female   NaN           0.0            0.0             0  children   \n",
       "1       Male  55.0           0.0            0.0             1   Private   \n",
       "2     Female  42.0           0.0            0.0             0   Private   \n",
       "3     Female  31.0           0.0            0.0             0   Private   \n",
       "4     Female  38.0           0.0            0.0             1   Private   \n",
       "...      ...   ...           ...            ...           ...       ...   \n",
       "3995    Male  16.0           0.0            0.0             0   Private   \n",
       "3996    Male  47.0           0.0            0.0             1   Private   \n",
       "3997   Other  57.0           1.0            0.0             1   Private   \n",
       "3998  Female  45.0           0.0            0.0             1   Private   \n",
       "3999  Female  53.0           1.0            0.0             1   Private   \n",
       "\n",
       "      Residence_type  avg_glucose_level   bmi  smoking_status blood  stroke  \n",
       "0                  0              85.81  18.6               0     O       0  \n",
       "1                  1              89.17   NaN               1     B       0  \n",
       "2                  0              98.53  18.5               1     B       0  \n",
       "3                  1             108.89  52.3               0     O       0  \n",
       "4                  0              91.44   NaN               0     O       0  \n",
       "...              ...                ...   ...             ...   ...     ...  \n",
       "3995               0              99.49  22.0               0     B       0  \n",
       "3996               2              75.30  25.0               2     B       0  \n",
       "3997               2             129.54  60.9               3    AB       0  \n",
       "3998               0             172.33  45.3               2     O       0  \n",
       "3999               1              62.55  30.3               0     O       1  \n",
       "\n",
       "[4000 rows x 12 columns]"
      ],
      "text/html": "<div>\n<style scoped>\n    .dataframe tbody tr th:only-of-type {\n        vertical-align: middle;\n    }\n\n    .dataframe tbody tr th {\n        vertical-align: top;\n    }\n\n    .dataframe thead th {\n        text-align: right;\n    }\n</style>\n<table border=\"1\" class=\"dataframe\">\n  <thead>\n    <tr style=\"text-align: right;\">\n      <th></th>\n      <th>gender</th>\n      <th>age</th>\n      <th>hypertension</th>\n      <th>heart_disease</th>\n      <th>ever_married</th>\n      <th>work_type</th>\n      <th>Residence_type</th>\n      <th>avg_glucose_level</th>\n      <th>bmi</th>\n      <th>smoking_status</th>\n      <th>blood</th>\n      <th>stroke</th>\n    </tr>\n  </thead>\n  <tbody>\n    <tr>\n      <th>0</th>\n      <td>Female</td>\n      <td>NaN</td>\n      <td>0.0</td>\n      <td>0.0</td>\n      <td>0</td>\n      <td>children</td>\n      <td>0</td>\n      <td>85.81</td>\n      <td>18.6</td>\n      <td>0</td>\n      <td>O</td>\n      <td>0</td>\n    </tr>\n    <tr>\n      <th>1</th>\n      <td>Male</td>\n      <td>55.0</td>\n      <td>0.0</td>\n      <td>0.0</td>\n      <td>1</td>\n      <td>Private</td>\n      <td>1</td>\n      <td>89.17</td>\n      <td>NaN</td>\n      <td>1</td>\n      <td>B</td>\n      <td>0</td>\n    </tr>\n    <tr>\n      <th>2</th>\n      <td>Female</td>\n      <td>42.0</td>\n      <td>0.0</td>\n      <td>0.0</td>\n      <td>0</td>\n      <td>Private</td>\n      <td>0</td>\n      <td>98.53</td>\n      <td>18.5</td>\n      <td>1</td>\n      <td>B</td>\n      <td>0</td>\n    </tr>\n    <tr>\n      <th>3</th>\n      <td>Female</td>\n      <td>31.0</td>\n      <td>0.0</td>\n      <td>0.0</td>\n      <td>0</td>\n      <td>Private</td>\n      <td>1</td>\n      <td>108.89</td>\n      <td>52.3</td>\n      <td>0</td>\n      <td>O</td>\n      <td>0</td>\n    </tr>\n    <tr>\n      <th>4</th>\n      <td>Female</td>\n      <td>38.0</td>\n      <td>0.0</td>\n      <td>0.0</td>\n      <td>1</td>\n      <td>Private</td>\n      <td>0</td>\n      <td>91.44</td>\n      <td>NaN</td>\n      <td>0</td>\n      <td>O</td>\n      <td>0</td>\n    </tr>\n    <tr>\n      <th>...</th>\n      <td>...</td>\n      <td>...</td>\n      <td>...</td>\n      <td>...</td>\n      <td>...</td>\n      <td>...</td>\n      <td>...</td>\n      <td>...</td>\n      <td>...</td>\n      <td>...</td>\n      <td>...</td>\n      <td>...</td>\n    </tr>\n    <tr>\n      <th>3995</th>\n      <td>Male</td>\n      <td>16.0</td>\n      <td>0.0</td>\n      <td>0.0</td>\n      <td>0</td>\n      <td>Private</td>\n      <td>0</td>\n      <td>99.49</td>\n      <td>22.0</td>\n      <td>0</td>\n      <td>B</td>\n      <td>0</td>\n    </tr>\n    <tr>\n      <th>3996</th>\n      <td>Male</td>\n      <td>47.0</td>\n      <td>0.0</td>\n      <td>0.0</td>\n      <td>1</td>\n      <td>Private</td>\n      <td>2</td>\n      <td>75.30</td>\n      <td>25.0</td>\n      <td>2</td>\n      <td>B</td>\n      <td>0</td>\n    </tr>\n    <tr>\n      <th>3997</th>\n      <td>Other</td>\n      <td>57.0</td>\n      <td>1.0</td>\n      <td>0.0</td>\n      <td>1</td>\n      <td>Private</td>\n      <td>2</td>\n      <td>129.54</td>\n      <td>60.9</td>\n      <td>3</td>\n      <td>AB</td>\n      <td>0</td>\n    </tr>\n    <tr>\n      <th>3998</th>\n      <td>Female</td>\n      <td>45.0</td>\n      <td>0.0</td>\n      <td>0.0</td>\n      <td>1</td>\n      <td>Private</td>\n      <td>0</td>\n      <td>172.33</td>\n      <td>45.3</td>\n      <td>2</td>\n      <td>O</td>\n      <td>0</td>\n    </tr>\n    <tr>\n      <th>3999</th>\n      <td>Female</td>\n      <td>53.0</td>\n      <td>1.0</td>\n      <td>0.0</td>\n      <td>1</td>\n      <td>Private</td>\n      <td>1</td>\n      <td>62.55</td>\n      <td>30.3</td>\n      <td>0</td>\n      <td>O</td>\n      <td>1</td>\n    </tr>\n  </tbody>\n</table>\n<p>4000 rows × 12 columns</p>\n</div>"
     },
     "metadata": {},
     "execution_count": 2
    }
   ],
   "source": [
    "raw_df = pd.read_csv('./Dataset/Processed_train_le_no_scale.csv')\n",
    "raw_df"
   ]
  },
  {
   "cell_type": "code",
   "execution_count": 3,
   "metadata": {},
   "outputs": [
    {
     "output_type": "execute_result",
     "data": {
      "text/plain": [
       "bmi                  1.000000\n",
       "ever_married         0.330082\n",
       "age                  0.323256\n",
       "smoking_status       0.237721\n",
       "avg_glucose_level    0.175999\n",
       "hypertension         0.173382\n",
       "stroke               0.030560\n",
       "heart_disease        0.028516\n",
       "Residence_type      -0.007816\n",
       "Name: bmi, dtype: float64"
      ]
     },
     "metadata": {},
     "execution_count": 3
    }
   ],
   "source": [
    "raw_df.corr()['bmi'].sort_values(ascending=False)"
   ]
  },
  {
   "cell_type": "code",
   "execution_count": 4,
   "metadata": {},
   "outputs": [
    {
     "output_type": "stream",
     "name": "stdout",
     "text": [
      "<class 'pandas.core.frame.DataFrame'>\nRangeIndex: 4000 entries, 0 to 3999\nData columns (total 12 columns):\n #   Column             Non-Null Count  Dtype  \n---  ------             --------------  -----  \n 0   gender             4000 non-null   object \n 1   age                3893 non-null   float64\n 2   hypertension       3770 non-null   float64\n 3   heart_disease      3910 non-null   float64\n 4   ever_married       4000 non-null   int64  \n 5   work_type          4000 non-null   object \n 6   Residence_type     4000 non-null   int64  \n 7   avg_glucose_level  3829 non-null   float64\n 8   bmi                2884 non-null   float64\n 9   smoking_status     4000 non-null   int64  \n 10  blood              3990 non-null   object \n 11  stroke             4000 non-null   int64  \ndtypes: float64(5), int64(4), object(3)\nmemory usage: 375.1+ KB\n"
     ]
    }
   ],
   "source": [
    "raw_df.info()"
   ]
  },
  {
   "cell_type": "code",
   "execution_count": 5,
   "metadata": {},
   "outputs": [
    {
     "output_type": "execute_result",
     "data": {
      "text/plain": [
       "       age work_type\n",
       "0      NaN  children\n",
       "1     55.0   Private\n",
       "2     42.0   Private\n",
       "3     31.0   Private\n",
       "4     38.0   Private\n",
       "...    ...       ...\n",
       "3995  16.0   Private\n",
       "3996  47.0   Private\n",
       "3997  57.0   Private\n",
       "3998  45.0   Private\n",
       "3999  53.0   Private\n",
       "\n",
       "[4000 rows x 2 columns]"
      ],
      "text/html": "<div>\n<style scoped>\n    .dataframe tbody tr th:only-of-type {\n        vertical-align: middle;\n    }\n\n    .dataframe tbody tr th {\n        vertical-align: top;\n    }\n\n    .dataframe thead th {\n        text-align: right;\n    }\n</style>\n<table border=\"1\" class=\"dataframe\">\n  <thead>\n    <tr style=\"text-align: right;\">\n      <th></th>\n      <th>age</th>\n      <th>work_type</th>\n    </tr>\n  </thead>\n  <tbody>\n    <tr>\n      <th>0</th>\n      <td>NaN</td>\n      <td>children</td>\n    </tr>\n    <tr>\n      <th>1</th>\n      <td>55.0</td>\n      <td>Private</td>\n    </tr>\n    <tr>\n      <th>2</th>\n      <td>42.0</td>\n      <td>Private</td>\n    </tr>\n    <tr>\n      <th>3</th>\n      <td>31.0</td>\n      <td>Private</td>\n    </tr>\n    <tr>\n      <th>4</th>\n      <td>38.0</td>\n      <td>Private</td>\n    </tr>\n    <tr>\n      <th>...</th>\n      <td>...</td>\n      <td>...</td>\n    </tr>\n    <tr>\n      <th>3995</th>\n      <td>16.0</td>\n      <td>Private</td>\n    </tr>\n    <tr>\n      <th>3996</th>\n      <td>47.0</td>\n      <td>Private</td>\n    </tr>\n    <tr>\n      <th>3997</th>\n      <td>57.0</td>\n      <td>Private</td>\n    </tr>\n    <tr>\n      <th>3998</th>\n      <td>45.0</td>\n      <td>Private</td>\n    </tr>\n    <tr>\n      <th>3999</th>\n      <td>53.0</td>\n      <td>Private</td>\n    </tr>\n  </tbody>\n</table>\n<p>4000 rows × 2 columns</p>\n</div>"
     },
     "metadata": {},
     "execution_count": 5
    }
   ],
   "source": [
    "df_age_worktype = raw_df.copy()\n",
    "df_age_worktype = df_age_worktype[['age', 'work_type']]\n",
    "df_age_worktype"
   ]
  },
  {
   "cell_type": "code",
   "execution_count": 6,
   "metadata": {},
   "outputs": [],
   "source": [
    "a = df_age_worktype.loc[df_age_worktype['work_type'] == 'children']['age'].fillna(df_age_worktype.loc[df_age_worktype['work_type'] == 'children']['age'].mean())"
   ]
  },
  {
   "cell_type": "code",
   "execution_count": 7,
   "metadata": {},
   "outputs": [
    {
     "output_type": "execute_result",
     "data": {
      "text/plain": [
       "0        NaN\n",
       "9        8.0\n",
       "21       8.0\n",
       "31      12.0\n",
       "32       3.0\n",
       "        ... \n",
       "3956     4.0\n",
       "3970    14.0\n",
       "3977     5.0\n",
       "3984     2.0\n",
       "3987    14.0\n",
       "Name: age, Length: 539, dtype: float64"
      ]
     },
     "metadata": {},
     "execution_count": 7
    }
   ],
   "source": [
    "df_age_worktype.loc[df_age_worktype['work_type'] == 'children']['age']"
   ]
  },
  {
   "cell_type": "code",
   "execution_count": 8,
   "metadata": {},
   "outputs": [],
   "source": [
    "df_age_worktype['age']= df_age_worktype['age'].fillna(a)"
   ]
  },
  {
   "cell_type": "code",
   "execution_count": 9,
   "metadata": {},
   "outputs": [
    {
     "output_type": "execute_result",
     "data": {
      "text/plain": [
       "            age work_type\n",
       "0      6.816858  children\n",
       "1     55.000000   Private\n",
       "2     42.000000   Private\n",
       "3     31.000000   Private\n",
       "4     38.000000   Private\n",
       "...         ...       ...\n",
       "3995  16.000000   Private\n",
       "3996  47.000000   Private\n",
       "3997  57.000000   Private\n",
       "3998  45.000000   Private\n",
       "3999  53.000000   Private\n",
       "\n",
       "[4000 rows x 2 columns]"
      ],
      "text/html": "<div>\n<style scoped>\n    .dataframe tbody tr th:only-of-type {\n        vertical-align: middle;\n    }\n\n    .dataframe tbody tr th {\n        vertical-align: top;\n    }\n\n    .dataframe thead th {\n        text-align: right;\n    }\n</style>\n<table border=\"1\" class=\"dataframe\">\n  <thead>\n    <tr style=\"text-align: right;\">\n      <th></th>\n      <th>age</th>\n      <th>work_type</th>\n    </tr>\n  </thead>\n  <tbody>\n    <tr>\n      <th>0</th>\n      <td>6.816858</td>\n      <td>children</td>\n    </tr>\n    <tr>\n      <th>1</th>\n      <td>55.000000</td>\n      <td>Private</td>\n    </tr>\n    <tr>\n      <th>2</th>\n      <td>42.000000</td>\n      <td>Private</td>\n    </tr>\n    <tr>\n      <th>3</th>\n      <td>31.000000</td>\n      <td>Private</td>\n    </tr>\n    <tr>\n      <th>4</th>\n      <td>38.000000</td>\n      <td>Private</td>\n    </tr>\n    <tr>\n      <th>...</th>\n      <td>...</td>\n      <td>...</td>\n    </tr>\n    <tr>\n      <th>3995</th>\n      <td>16.000000</td>\n      <td>Private</td>\n    </tr>\n    <tr>\n      <th>3996</th>\n      <td>47.000000</td>\n      <td>Private</td>\n    </tr>\n    <tr>\n      <th>3997</th>\n      <td>57.000000</td>\n      <td>Private</td>\n    </tr>\n    <tr>\n      <th>3998</th>\n      <td>45.000000</td>\n      <td>Private</td>\n    </tr>\n    <tr>\n      <th>3999</th>\n      <td>53.000000</td>\n      <td>Private</td>\n    </tr>\n  </tbody>\n</table>\n<p>4000 rows × 2 columns</p>\n</div>"
     },
     "metadata": {},
     "execution_count": 9
    }
   ],
   "source": [
    "df_age_worktype"
   ]
  },
  {
   "cell_type": "code",
   "execution_count": 10,
   "metadata": {},
   "outputs": [
    {
     "output_type": "execute_result",
     "data": {
      "text/plain": [
       "            age work_type\n",
       "0      6.816858  children\n",
       "1     55.000000   Private\n",
       "2     42.000000   Private\n",
       "3     31.000000   Private\n",
       "4     38.000000   Private\n",
       "...         ...       ...\n",
       "3995  16.000000   Private\n",
       "3996  47.000000   Private\n",
       "3997  57.000000   Private\n",
       "3998  45.000000   Private\n",
       "3999  53.000000   Private\n",
       "\n",
       "[3910 rows x 2 columns]"
      ],
      "text/html": "<div>\n<style scoped>\n    .dataframe tbody tr th:only-of-type {\n        vertical-align: middle;\n    }\n\n    .dataframe tbody tr th {\n        vertical-align: top;\n    }\n\n    .dataframe thead th {\n        text-align: right;\n    }\n</style>\n<table border=\"1\" class=\"dataframe\">\n  <thead>\n    <tr style=\"text-align: right;\">\n      <th></th>\n      <th>age</th>\n      <th>work_type</th>\n    </tr>\n  </thead>\n  <tbody>\n    <tr>\n      <th>0</th>\n      <td>6.816858</td>\n      <td>children</td>\n    </tr>\n    <tr>\n      <th>1</th>\n      <td>55.000000</td>\n      <td>Private</td>\n    </tr>\n    <tr>\n      <th>2</th>\n      <td>42.000000</td>\n      <td>Private</td>\n    </tr>\n    <tr>\n      <th>3</th>\n      <td>31.000000</td>\n      <td>Private</td>\n    </tr>\n    <tr>\n      <th>4</th>\n      <td>38.000000</td>\n      <td>Private</td>\n    </tr>\n    <tr>\n      <th>...</th>\n      <td>...</td>\n      <td>...</td>\n    </tr>\n    <tr>\n      <th>3995</th>\n      <td>16.000000</td>\n      <td>Private</td>\n    </tr>\n    <tr>\n      <th>3996</th>\n      <td>47.000000</td>\n      <td>Private</td>\n    </tr>\n    <tr>\n      <th>3997</th>\n      <td>57.000000</td>\n      <td>Private</td>\n    </tr>\n    <tr>\n      <th>3998</th>\n      <td>45.000000</td>\n      <td>Private</td>\n    </tr>\n    <tr>\n      <th>3999</th>\n      <td>53.000000</td>\n      <td>Private</td>\n    </tr>\n  </tbody>\n</table>\n<p>3910 rows × 2 columns</p>\n</div>"
     },
     "metadata": {},
     "execution_count": 10
    }
   ],
   "source": [
    "df_age_worktype_not_NaN = df_age_worktype.copy()\n",
    "df_age_worktype_not_NaN = df_age_worktype_not_NaN.loc[df_age_worktype['age'].notna()]\n",
    "df_age_worktype_not_NaN"
   ]
  },
  {
   "cell_type": "code",
   "execution_count": 11,
   "metadata": {},
   "outputs": [
    {
     "output_type": "execute_result",
     "data": {
      "text/plain": [
       "           Total  Percent\n",
       "age            0      0.0\n",
       "work_type      0      0.0"
      ],
      "text/html": "<div>\n<style scoped>\n    .dataframe tbody tr th:only-of-type {\n        vertical-align: middle;\n    }\n\n    .dataframe tbody tr th {\n        vertical-align: top;\n    }\n\n    .dataframe thead th {\n        text-align: right;\n    }\n</style>\n<table border=\"1\" class=\"dataframe\">\n  <thead>\n    <tr style=\"text-align: right;\">\n      <th></th>\n      <th>Total</th>\n      <th>Percent</th>\n    </tr>\n  </thead>\n  <tbody>\n    <tr>\n      <th>age</th>\n      <td>0</td>\n      <td>0.0</td>\n    </tr>\n    <tr>\n      <th>work_type</th>\n      <td>0</td>\n      <td>0.0</td>\n    </tr>\n  </tbody>\n</table>\n</div>"
     },
     "metadata": {},
     "execution_count": 11
    }
   ],
   "source": [
    "def draw_missing_data_table(data):\n",
    "    total = data.isnull().sum().sort_values(ascending=False)\n",
    "    percent = (data.isnull().sum()/data.isnull().count()).sort_values(ascending=False)\n",
    "    missing_data = pd.concat([total, percent], axis=1, keys=['Total', 'Percent'])\n",
    "    return missing_data\n",
    "draw_missing_data_table(df_age_worktype_not_NaN)"
   ]
  },
  {
   "cell_type": "code",
   "execution_count": 12,
   "metadata": {},
   "outputs": [
    {
     "output_type": "execute_result",
     "data": {
      "text/plain": [
       "Private          2249\n",
       "Self-employed     610\n",
       "children          539\n",
       "Govt_job          496\n",
       "Never_worked       16\n",
       "Name: work_type, dtype: int64"
      ]
     },
     "metadata": {},
     "execution_count": 12
    }
   ],
   "source": [
    "df_age_worktype_not_NaN['work_type'].value_counts()"
   ]
  },
  {
   "cell_type": "code",
   "execution_count": 13,
   "metadata": {},
   "outputs": [
    {
     "output_type": "execute_result",
     "data": {
      "text/plain": [
       "2    2249\n",
       "3     610\n",
       "4     539\n",
       "0     496\n",
       "1      16\n",
       "Name: work_type, dtype: int64"
      ]
     },
     "metadata": {},
     "execution_count": 13
    }
   ],
   "source": [
    "le = LabelEncoder()\n",
    "df_age_worktype_not_NaN['work_type'] = le.fit_transform(df_age_worktype_not_NaN['work_type'])\n",
    "df_age_worktype_not_NaN['work_type'].value_counts()"
   ]
  },
  {
   "cell_type": "code",
   "execution_count": 14,
   "metadata": {},
   "outputs": [
    {
     "output_type": "execute_result",
     "data": {
      "text/plain": [
       "KNeighborsRegressor()"
      ]
     },
     "metadata": {},
     "execution_count": 14
    }
   ],
   "source": [
    "knn_reg = KNeighborsRegressor()\n",
    "knn_reg.fit(df_age_worktype_not_NaN['work_type'].to_numpy().reshape(-1, 1), df_age_worktype_not_NaN['age'])"
   ]
  },
  {
   "cell_type": "code",
   "execution_count": 15,
   "metadata": {},
   "outputs": [
    {
     "output_type": "execute_result",
     "data": {
      "text/plain": [
       "array([15.4])"
      ]
     },
     "metadata": {},
     "execution_count": 15
    }
   ],
   "source": [
    "knn_reg.predict([[1]])"
   ]
  },
  {
   "cell_type": "code",
   "execution_count": 16,
   "metadata": {},
   "outputs": [
    {
     "output_type": "execute_result",
     "data": {
      "text/plain": [
       "array([4, 2, 0, 3, 1], dtype=int64)"
      ]
     },
     "metadata": {},
     "execution_count": 16
    }
   ],
   "source": [
    "work_type_mapping = {'Private': 2, 'Self-employed': 3, 'children': 4, 'Govt_job': 0, 'Never_worked': 1}\n",
    "df_age_worktype['work_type'] = df_age_worktype['work_type'].map(work_type_mapping)\n",
    "df_age_worktype['work_type'].unique()"
   ]
  },
  {
   "cell_type": "code",
   "execution_count": 17,
   "metadata": {},
   "outputs": [
    {
     "output_type": "execute_result",
     "data": {
      "text/plain": [
       "      age  work_type\n",
       "8     NaN          0\n",
       "60    NaN          0\n",
       "87    NaN          3\n",
       "136   NaN          2\n",
       "139   NaN          2\n",
       "...   ...        ...\n",
       "3424  NaN          2\n",
       "3491  NaN          3\n",
       "3510  NaN          2\n",
       "3829  NaN          3\n",
       "3903  NaN          2\n",
       "\n",
       "[90 rows x 2 columns]"
      ],
      "text/html": "<div>\n<style scoped>\n    .dataframe tbody tr th:only-of-type {\n        vertical-align: middle;\n    }\n\n    .dataframe tbody tr th {\n        vertical-align: top;\n    }\n\n    .dataframe thead th {\n        text-align: right;\n    }\n</style>\n<table border=\"1\" class=\"dataframe\">\n  <thead>\n    <tr style=\"text-align: right;\">\n      <th></th>\n      <th>age</th>\n      <th>work_type</th>\n    </tr>\n  </thead>\n  <tbody>\n    <tr>\n      <th>8</th>\n      <td>NaN</td>\n      <td>0</td>\n    </tr>\n    <tr>\n      <th>60</th>\n      <td>NaN</td>\n      <td>0</td>\n    </tr>\n    <tr>\n      <th>87</th>\n      <td>NaN</td>\n      <td>3</td>\n    </tr>\n    <tr>\n      <th>136</th>\n      <td>NaN</td>\n      <td>2</td>\n    </tr>\n    <tr>\n      <th>139</th>\n      <td>NaN</td>\n      <td>2</td>\n    </tr>\n    <tr>\n      <th>...</th>\n      <td>...</td>\n      <td>...</td>\n    </tr>\n    <tr>\n      <th>3424</th>\n      <td>NaN</td>\n      <td>2</td>\n    </tr>\n    <tr>\n      <th>3491</th>\n      <td>NaN</td>\n      <td>3</td>\n    </tr>\n    <tr>\n      <th>3510</th>\n      <td>NaN</td>\n      <td>2</td>\n    </tr>\n    <tr>\n      <th>3829</th>\n      <td>NaN</td>\n      <td>3</td>\n    </tr>\n    <tr>\n      <th>3903</th>\n      <td>NaN</td>\n      <td>2</td>\n    </tr>\n  </tbody>\n</table>\n<p>90 rows × 2 columns</p>\n</div>"
     },
     "metadata": {},
     "execution_count": 17
    }
   ],
   "source": [
    "df_age_worktype_NaN = df_age_worktype.copy()\n",
    "df_age_worktype_NaN = df_age_worktype_NaN.loc[df_age_worktype['age'].isna()]\n",
    "df_age_worktype_NaN"
   ]
  },
  {
   "cell_type": "code",
   "execution_count": 18,
   "metadata": {},
   "outputs": [
    {
     "output_type": "execute_result",
     "data": {
      "text/plain": [
       "       age  work_type\n",
       "8     39.6          0\n",
       "60    39.6          0\n",
       "87    57.2          3\n",
       "136   37.8          2\n",
       "139   37.8          2\n",
       "...    ...        ...\n",
       "3424  37.8          2\n",
       "3491  57.2          3\n",
       "3510  37.8          2\n",
       "3829  57.2          3\n",
       "3903  37.8          2\n",
       "\n",
       "[90 rows x 2 columns]"
      ],
      "text/html": "<div>\n<style scoped>\n    .dataframe tbody tr th:only-of-type {\n        vertical-align: middle;\n    }\n\n    .dataframe tbody tr th {\n        vertical-align: top;\n    }\n\n    .dataframe thead th {\n        text-align: right;\n    }\n</style>\n<table border=\"1\" class=\"dataframe\">\n  <thead>\n    <tr style=\"text-align: right;\">\n      <th></th>\n      <th>age</th>\n      <th>work_type</th>\n    </tr>\n  </thead>\n  <tbody>\n    <tr>\n      <th>8</th>\n      <td>39.6</td>\n      <td>0</td>\n    </tr>\n    <tr>\n      <th>60</th>\n      <td>39.6</td>\n      <td>0</td>\n    </tr>\n    <tr>\n      <th>87</th>\n      <td>57.2</td>\n      <td>3</td>\n    </tr>\n    <tr>\n      <th>136</th>\n      <td>37.8</td>\n      <td>2</td>\n    </tr>\n    <tr>\n      <th>139</th>\n      <td>37.8</td>\n      <td>2</td>\n    </tr>\n    <tr>\n      <th>...</th>\n      <td>...</td>\n      <td>...</td>\n    </tr>\n    <tr>\n      <th>3424</th>\n      <td>37.8</td>\n      <td>2</td>\n    </tr>\n    <tr>\n      <th>3491</th>\n      <td>57.2</td>\n      <td>3</td>\n    </tr>\n    <tr>\n      <th>3510</th>\n      <td>37.8</td>\n      <td>2</td>\n    </tr>\n    <tr>\n      <th>3829</th>\n      <td>57.2</td>\n      <td>3</td>\n    </tr>\n    <tr>\n      <th>3903</th>\n      <td>37.8</td>\n      <td>2</td>\n    </tr>\n  </tbody>\n</table>\n<p>90 rows × 2 columns</p>\n</div>"
     },
     "metadata": {},
     "execution_count": 18
    }
   ],
   "source": [
    "age_p = [knn_reg.predict([[worktype]])[0] for _,worktype in df_age_worktype_NaN.iloc]\n",
    "df_age_worktype_NaN['age'] = age_p\n",
    "df_age_worktype_NaN"
   ]
  },
  {
   "cell_type": "code",
   "execution_count": 19,
   "metadata": {},
   "outputs": [],
   "source": [
    "a = df_age_worktype_NaN['age']"
   ]
  },
  {
   "cell_type": "code",
   "execution_count": 20,
   "metadata": {},
   "outputs": [],
   "source": [
    "df_age_worktype['age']= df_age_worktype['age'].fillna(a)"
   ]
  },
  {
   "cell_type": "code",
   "execution_count": 21,
   "metadata": {},
   "outputs": [],
   "source": [
    "a = df_age_worktype['age']"
   ]
  },
  {
   "cell_type": "code",
   "execution_count": 22,
   "metadata": {},
   "outputs": [],
   "source": [
    "raw_df.drop(columns='age', inplace=True)\n",
    "raw_df['age'] = a"
   ]
  },
  {
   "cell_type": "code",
   "execution_count": 23,
   "metadata": {},
   "outputs": [],
   "source": [
    "raw_df['age'] = a"
   ]
  },
  {
   "cell_type": "code",
   "execution_count": 24,
   "metadata": {},
   "outputs": [
    {
     "output_type": "execute_result",
     "data": {
      "text/plain": [
       "      gender  hypertension  heart_disease  ever_married work_type  \\\n",
       "0     Female           0.0            0.0             0  children   \n",
       "1       Male           0.0            0.0             1   Private   \n",
       "2     Female           0.0            0.0             0   Private   \n",
       "3     Female           0.0            0.0             0   Private   \n",
       "4     Female           0.0            0.0             1   Private   \n",
       "...      ...           ...            ...           ...       ...   \n",
       "3995    Male           0.0            0.0             0   Private   \n",
       "3996    Male           0.0            0.0             1   Private   \n",
       "3997   Other           1.0            0.0             1   Private   \n",
       "3998  Female           0.0            0.0             1   Private   \n",
       "3999  Female           1.0            0.0             1   Private   \n",
       "\n",
       "      Residence_type  avg_glucose_level   bmi  smoking_status blood  stroke  \\\n",
       "0                  0              85.81  18.6               0     O       0   \n",
       "1                  1              89.17   NaN               1     B       0   \n",
       "2                  0              98.53  18.5               1     B       0   \n",
       "3                  1             108.89  52.3               0     O       0   \n",
       "4                  0              91.44   NaN               0     O       0   \n",
       "...              ...                ...   ...             ...   ...     ...   \n",
       "3995               0              99.49  22.0               0     B       0   \n",
       "3996               2              75.30  25.0               2     B       0   \n",
       "3997               2             129.54  60.9               3    AB       0   \n",
       "3998               0             172.33  45.3               2     O       0   \n",
       "3999               1              62.55  30.3               0     O       1   \n",
       "\n",
       "            age  \n",
       "0      6.816858  \n",
       "1     55.000000  \n",
       "2     42.000000  \n",
       "3     31.000000  \n",
       "4     38.000000  \n",
       "...         ...  \n",
       "3995  16.000000  \n",
       "3996  47.000000  \n",
       "3997  57.000000  \n",
       "3998  45.000000  \n",
       "3999  53.000000  \n",
       "\n",
       "[4000 rows x 12 columns]"
      ],
      "text/html": "<div>\n<style scoped>\n    .dataframe tbody tr th:only-of-type {\n        vertical-align: middle;\n    }\n\n    .dataframe tbody tr th {\n        vertical-align: top;\n    }\n\n    .dataframe thead th {\n        text-align: right;\n    }\n</style>\n<table border=\"1\" class=\"dataframe\">\n  <thead>\n    <tr style=\"text-align: right;\">\n      <th></th>\n      <th>gender</th>\n      <th>hypertension</th>\n      <th>heart_disease</th>\n      <th>ever_married</th>\n      <th>work_type</th>\n      <th>Residence_type</th>\n      <th>avg_glucose_level</th>\n      <th>bmi</th>\n      <th>smoking_status</th>\n      <th>blood</th>\n      <th>stroke</th>\n      <th>age</th>\n    </tr>\n  </thead>\n  <tbody>\n    <tr>\n      <th>0</th>\n      <td>Female</td>\n      <td>0.0</td>\n      <td>0.0</td>\n      <td>0</td>\n      <td>children</td>\n      <td>0</td>\n      <td>85.81</td>\n      <td>18.6</td>\n      <td>0</td>\n      <td>O</td>\n      <td>0</td>\n      <td>6.816858</td>\n    </tr>\n    <tr>\n      <th>1</th>\n      <td>Male</td>\n      <td>0.0</td>\n      <td>0.0</td>\n      <td>1</td>\n      <td>Private</td>\n      <td>1</td>\n      <td>89.17</td>\n      <td>NaN</td>\n      <td>1</td>\n      <td>B</td>\n      <td>0</td>\n      <td>55.000000</td>\n    </tr>\n    <tr>\n      <th>2</th>\n      <td>Female</td>\n      <td>0.0</td>\n      <td>0.0</td>\n      <td>0</td>\n      <td>Private</td>\n      <td>0</td>\n      <td>98.53</td>\n      <td>18.5</td>\n      <td>1</td>\n      <td>B</td>\n      <td>0</td>\n      <td>42.000000</td>\n    </tr>\n    <tr>\n      <th>3</th>\n      <td>Female</td>\n      <td>0.0</td>\n      <td>0.0</td>\n      <td>0</td>\n      <td>Private</td>\n      <td>1</td>\n      <td>108.89</td>\n      <td>52.3</td>\n      <td>0</td>\n      <td>O</td>\n      <td>0</td>\n      <td>31.000000</td>\n    </tr>\n    <tr>\n      <th>4</th>\n      <td>Female</td>\n      <td>0.0</td>\n      <td>0.0</td>\n      <td>1</td>\n      <td>Private</td>\n      <td>0</td>\n      <td>91.44</td>\n      <td>NaN</td>\n      <td>0</td>\n      <td>O</td>\n      <td>0</td>\n      <td>38.000000</td>\n    </tr>\n    <tr>\n      <th>...</th>\n      <td>...</td>\n      <td>...</td>\n      <td>...</td>\n      <td>...</td>\n      <td>...</td>\n      <td>...</td>\n      <td>...</td>\n      <td>...</td>\n      <td>...</td>\n      <td>...</td>\n      <td>...</td>\n      <td>...</td>\n    </tr>\n    <tr>\n      <th>3995</th>\n      <td>Male</td>\n      <td>0.0</td>\n      <td>0.0</td>\n      <td>0</td>\n      <td>Private</td>\n      <td>0</td>\n      <td>99.49</td>\n      <td>22.0</td>\n      <td>0</td>\n      <td>B</td>\n      <td>0</td>\n      <td>16.000000</td>\n    </tr>\n    <tr>\n      <th>3996</th>\n      <td>Male</td>\n      <td>0.0</td>\n      <td>0.0</td>\n      <td>1</td>\n      <td>Private</td>\n      <td>2</td>\n      <td>75.30</td>\n      <td>25.0</td>\n      <td>2</td>\n      <td>B</td>\n      <td>0</td>\n      <td>47.000000</td>\n    </tr>\n    <tr>\n      <th>3997</th>\n      <td>Other</td>\n      <td>1.0</td>\n      <td>0.0</td>\n      <td>1</td>\n      <td>Private</td>\n      <td>2</td>\n      <td>129.54</td>\n      <td>60.9</td>\n      <td>3</td>\n      <td>AB</td>\n      <td>0</td>\n      <td>57.000000</td>\n    </tr>\n    <tr>\n      <th>3998</th>\n      <td>Female</td>\n      <td>0.0</td>\n      <td>0.0</td>\n      <td>1</td>\n      <td>Private</td>\n      <td>0</td>\n      <td>172.33</td>\n      <td>45.3</td>\n      <td>2</td>\n      <td>O</td>\n      <td>0</td>\n      <td>45.000000</td>\n    </tr>\n    <tr>\n      <th>3999</th>\n      <td>Female</td>\n      <td>1.0</td>\n      <td>0.0</td>\n      <td>1</td>\n      <td>Private</td>\n      <td>1</td>\n      <td>62.55</td>\n      <td>30.3</td>\n      <td>0</td>\n      <td>O</td>\n      <td>1</td>\n      <td>53.000000</td>\n    </tr>\n  </tbody>\n</table>\n<p>4000 rows × 12 columns</p>\n</div>"
     },
     "metadata": {},
     "execution_count": 24
    }
   ],
   "source": [
    "raw_df"
   ]
  },
  {
   "cell_type": "code",
   "execution_count": 25,
   "metadata": {},
   "outputs": [],
   "source": [
    "raw_df.to_csv('./Dataset/Precessed_train_le_no_scale_full_age.csv', index=False)"
   ]
  },
  {
   "cell_type": "code",
   "execution_count": 26,
   "metadata": {},
   "outputs": [
    {
     "output_type": "execute_result",
     "data": {
      "text/plain": [
       "      gender  hypertension  heart_disease  ever_married work_type  \\\n",
       "0     Female           0.0            0.0             0  children   \n",
       "1       Male           0.0            0.0             1   Private   \n",
       "2     Female           0.0            0.0             0   Private   \n",
       "3     Female           0.0            0.0             0   Private   \n",
       "4     Female           0.0            0.0             1   Private   \n",
       "...      ...           ...            ...           ...       ...   \n",
       "3995    Male           0.0            0.0             0   Private   \n",
       "3996    Male           0.0            0.0             1   Private   \n",
       "3997   Other           1.0            0.0             1   Private   \n",
       "3998  Female           0.0            0.0             1   Private   \n",
       "3999  Female           1.0            0.0             1   Private   \n",
       "\n",
       "      Residence_type  avg_glucose_level   bmi  smoking_status blood  stroke  \\\n",
       "0                  0              85.81  18.6               0     O       0   \n",
       "1                  1              89.17   NaN               1     B       0   \n",
       "2                  0              98.53  18.5               1     B       0   \n",
       "3                  1             108.89  52.3               0     O       0   \n",
       "4                  0              91.44   NaN               0     O       0   \n",
       "...              ...                ...   ...             ...   ...     ...   \n",
       "3995               0              99.49  22.0               0     B       0   \n",
       "3996               2              75.30  25.0               2     B       0   \n",
       "3997               2             129.54  60.9               3    AB       0   \n",
       "3998               0             172.33  45.3               2     O       0   \n",
       "3999               1              62.55  30.3               0     O       1   \n",
       "\n",
       "      age  \n",
       "0       7  \n",
       "1      55  \n",
       "2      42  \n",
       "3      31  \n",
       "4      38  \n",
       "...   ...  \n",
       "3995   16  \n",
       "3996   47  \n",
       "3997   57  \n",
       "3998   45  \n",
       "3999   53  \n",
       "\n",
       "[4000 rows x 12 columns]"
      ],
      "text/html": "<div>\n<style scoped>\n    .dataframe tbody tr th:only-of-type {\n        vertical-align: middle;\n    }\n\n    .dataframe tbody tr th {\n        vertical-align: top;\n    }\n\n    .dataframe thead th {\n        text-align: right;\n    }\n</style>\n<table border=\"1\" class=\"dataframe\">\n  <thead>\n    <tr style=\"text-align: right;\">\n      <th></th>\n      <th>gender</th>\n      <th>hypertension</th>\n      <th>heart_disease</th>\n      <th>ever_married</th>\n      <th>work_type</th>\n      <th>Residence_type</th>\n      <th>avg_glucose_level</th>\n      <th>bmi</th>\n      <th>smoking_status</th>\n      <th>blood</th>\n      <th>stroke</th>\n      <th>age</th>\n    </tr>\n  </thead>\n  <tbody>\n    <tr>\n      <th>0</th>\n      <td>Female</td>\n      <td>0.0</td>\n      <td>0.0</td>\n      <td>0</td>\n      <td>children</td>\n      <td>0</td>\n      <td>85.81</td>\n      <td>18.6</td>\n      <td>0</td>\n      <td>O</td>\n      <td>0</td>\n      <td>7</td>\n    </tr>\n    <tr>\n      <th>1</th>\n      <td>Male</td>\n      <td>0.0</td>\n      <td>0.0</td>\n      <td>1</td>\n      <td>Private</td>\n      <td>1</td>\n      <td>89.17</td>\n      <td>NaN</td>\n      <td>1</td>\n      <td>B</td>\n      <td>0</td>\n      <td>55</td>\n    </tr>\n    <tr>\n      <th>2</th>\n      <td>Female</td>\n      <td>0.0</td>\n      <td>0.0</td>\n      <td>0</td>\n      <td>Private</td>\n      <td>0</td>\n      <td>98.53</td>\n      <td>18.5</td>\n      <td>1</td>\n      <td>B</td>\n      <td>0</td>\n      <td>42</td>\n    </tr>\n    <tr>\n      <th>3</th>\n      <td>Female</td>\n      <td>0.0</td>\n      <td>0.0</td>\n      <td>0</td>\n      <td>Private</td>\n      <td>1</td>\n      <td>108.89</td>\n      <td>52.3</td>\n      <td>0</td>\n      <td>O</td>\n      <td>0</td>\n      <td>31</td>\n    </tr>\n    <tr>\n      <th>4</th>\n      <td>Female</td>\n      <td>0.0</td>\n      <td>0.0</td>\n      <td>1</td>\n      <td>Private</td>\n      <td>0</td>\n      <td>91.44</td>\n      <td>NaN</td>\n      <td>0</td>\n      <td>O</td>\n      <td>0</td>\n      <td>38</td>\n    </tr>\n    <tr>\n      <th>...</th>\n      <td>...</td>\n      <td>...</td>\n      <td>...</td>\n      <td>...</td>\n      <td>...</td>\n      <td>...</td>\n      <td>...</td>\n      <td>...</td>\n      <td>...</td>\n      <td>...</td>\n      <td>...</td>\n      <td>...</td>\n    </tr>\n    <tr>\n      <th>3995</th>\n      <td>Male</td>\n      <td>0.0</td>\n      <td>0.0</td>\n      <td>0</td>\n      <td>Private</td>\n      <td>0</td>\n      <td>99.49</td>\n      <td>22.0</td>\n      <td>0</td>\n      <td>B</td>\n      <td>0</td>\n      <td>16</td>\n    </tr>\n    <tr>\n      <th>3996</th>\n      <td>Male</td>\n      <td>0.0</td>\n      <td>0.0</td>\n      <td>1</td>\n      <td>Private</td>\n      <td>2</td>\n      <td>75.30</td>\n      <td>25.0</td>\n      <td>2</td>\n      <td>B</td>\n      <td>0</td>\n      <td>47</td>\n    </tr>\n    <tr>\n      <th>3997</th>\n      <td>Other</td>\n      <td>1.0</td>\n      <td>0.0</td>\n      <td>1</td>\n      <td>Private</td>\n      <td>2</td>\n      <td>129.54</td>\n      <td>60.9</td>\n      <td>3</td>\n      <td>AB</td>\n      <td>0</td>\n      <td>57</td>\n    </tr>\n    <tr>\n      <th>3998</th>\n      <td>Female</td>\n      <td>0.0</td>\n      <td>0.0</td>\n      <td>1</td>\n      <td>Private</td>\n      <td>0</td>\n      <td>172.33</td>\n      <td>45.3</td>\n      <td>2</td>\n      <td>O</td>\n      <td>0</td>\n      <td>45</td>\n    </tr>\n    <tr>\n      <th>3999</th>\n      <td>Female</td>\n      <td>1.0</td>\n      <td>0.0</td>\n      <td>1</td>\n      <td>Private</td>\n      <td>1</td>\n      <td>62.55</td>\n      <td>30.3</td>\n      <td>0</td>\n      <td>O</td>\n      <td>1</td>\n      <td>53</td>\n    </tr>\n  </tbody>\n</table>\n<p>4000 rows × 12 columns</p>\n</div>"
     },
     "metadata": {},
     "execution_count": 26
    }
   ],
   "source": [
    "raw_df['age'] = raw_df['age'].round().astype(int)\n",
    "raw_df\n"
   ]
  },
  {
   "cell_type": "code",
   "execution_count": 27,
   "metadata": {},
   "outputs": [
    {
     "output_type": "execute_result",
     "data": {
      "text/plain": [
       "4    997\n",
       "3    962\n",
       "2    711\n",
       "5    707\n",
       "1    623\n",
       "Name: age_bin, dtype: int64"
      ]
     },
     "metadata": {},
     "execution_count": 27
    }
   ],
   "source": [
    "labels = [1,2,3,4,5]\n",
    "raw_df[\"age_bin\"] = pd.cut(raw_df[\"age\"], 5, labels=labels)\n",
    "raw_df['age_bin'].value_counts()"
   ]
  },
  {
   "cell_type": "code",
   "execution_count": 28,
   "metadata": {},
   "outputs": [
    {
     "output_type": "execute_result",
     "data": {
      "text/plain": [
       "      gender  hypertension  heart_disease  ever_married work_type  \\\n",
       "0     Female           0.0            0.0             0  children   \n",
       "1       Male           0.0            0.0             1   Private   \n",
       "2     Female           0.0            0.0             0   Private   \n",
       "3     Female           0.0            0.0             0   Private   \n",
       "4     Female           0.0            0.0             1   Private   \n",
       "...      ...           ...            ...           ...       ...   \n",
       "3995    Male           0.0            0.0             0   Private   \n",
       "3996    Male           0.0            0.0             1   Private   \n",
       "3997   Other           1.0            0.0             1   Private   \n",
       "3998  Female           0.0            0.0             1   Private   \n",
       "3999  Female           1.0            0.0             1   Private   \n",
       "\n",
       "      Residence_type  avg_glucose_level   bmi  smoking_status blood  stroke  \\\n",
       "0                  0              85.81  18.6               0     O       0   \n",
       "1                  1              89.17   NaN               1     B       0   \n",
       "2                  0              98.53  18.5               1     B       0   \n",
       "3                  1             108.89  52.3               0     O       0   \n",
       "4                  0              91.44   NaN               0     O       0   \n",
       "...              ...                ...   ...             ...   ...     ...   \n",
       "3995               0              99.49  22.0               0     B       0   \n",
       "3996               2              75.30  25.0               2     B       0   \n",
       "3997               2             129.54  60.9               3    AB       0   \n",
       "3998               0             172.33  45.3               2     O       0   \n",
       "3999               1              62.55  30.3               0     O       1   \n",
       "\n",
       "      age age_bin  \n",
       "0       7       1  \n",
       "1      55       4  \n",
       "2      42       3  \n",
       "3      31       2  \n",
       "4      38       3  \n",
       "...   ...     ...  \n",
       "3995   16       1  \n",
       "3996   47       3  \n",
       "3997   57       4  \n",
       "3998   45       3  \n",
       "3999   53       4  \n",
       "\n",
       "[4000 rows x 13 columns]"
      ],
      "text/html": "<div>\n<style scoped>\n    .dataframe tbody tr th:only-of-type {\n        vertical-align: middle;\n    }\n\n    .dataframe tbody tr th {\n        vertical-align: top;\n    }\n\n    .dataframe thead th {\n        text-align: right;\n    }\n</style>\n<table border=\"1\" class=\"dataframe\">\n  <thead>\n    <tr style=\"text-align: right;\">\n      <th></th>\n      <th>gender</th>\n      <th>hypertension</th>\n      <th>heart_disease</th>\n      <th>ever_married</th>\n      <th>work_type</th>\n      <th>Residence_type</th>\n      <th>avg_glucose_level</th>\n      <th>bmi</th>\n      <th>smoking_status</th>\n      <th>blood</th>\n      <th>stroke</th>\n      <th>age</th>\n      <th>age_bin</th>\n    </tr>\n  </thead>\n  <tbody>\n    <tr>\n      <th>0</th>\n      <td>Female</td>\n      <td>0.0</td>\n      <td>0.0</td>\n      <td>0</td>\n      <td>children</td>\n      <td>0</td>\n      <td>85.81</td>\n      <td>18.6</td>\n      <td>0</td>\n      <td>O</td>\n      <td>0</td>\n      <td>7</td>\n      <td>1</td>\n    </tr>\n    <tr>\n      <th>1</th>\n      <td>Male</td>\n      <td>0.0</td>\n      <td>0.0</td>\n      <td>1</td>\n      <td>Private</td>\n      <td>1</td>\n      <td>89.17</td>\n      <td>NaN</td>\n      <td>1</td>\n      <td>B</td>\n      <td>0</td>\n      <td>55</td>\n      <td>4</td>\n    </tr>\n    <tr>\n      <th>2</th>\n      <td>Female</td>\n      <td>0.0</td>\n      <td>0.0</td>\n      <td>0</td>\n      <td>Private</td>\n      <td>0</td>\n      <td>98.53</td>\n      <td>18.5</td>\n      <td>1</td>\n      <td>B</td>\n      <td>0</td>\n      <td>42</td>\n      <td>3</td>\n    </tr>\n    <tr>\n      <th>3</th>\n      <td>Female</td>\n      <td>0.0</td>\n      <td>0.0</td>\n      <td>0</td>\n      <td>Private</td>\n      <td>1</td>\n      <td>108.89</td>\n      <td>52.3</td>\n      <td>0</td>\n      <td>O</td>\n      <td>0</td>\n      <td>31</td>\n      <td>2</td>\n    </tr>\n    <tr>\n      <th>4</th>\n      <td>Female</td>\n      <td>0.0</td>\n      <td>0.0</td>\n      <td>1</td>\n      <td>Private</td>\n      <td>0</td>\n      <td>91.44</td>\n      <td>NaN</td>\n      <td>0</td>\n      <td>O</td>\n      <td>0</td>\n      <td>38</td>\n      <td>3</td>\n    </tr>\n    <tr>\n      <th>...</th>\n      <td>...</td>\n      <td>...</td>\n      <td>...</td>\n      <td>...</td>\n      <td>...</td>\n      <td>...</td>\n      <td>...</td>\n      <td>...</td>\n      <td>...</td>\n      <td>...</td>\n      <td>...</td>\n      <td>...</td>\n      <td>...</td>\n    </tr>\n    <tr>\n      <th>3995</th>\n      <td>Male</td>\n      <td>0.0</td>\n      <td>0.0</td>\n      <td>0</td>\n      <td>Private</td>\n      <td>0</td>\n      <td>99.49</td>\n      <td>22.0</td>\n      <td>0</td>\n      <td>B</td>\n      <td>0</td>\n      <td>16</td>\n      <td>1</td>\n    </tr>\n    <tr>\n      <th>3996</th>\n      <td>Male</td>\n      <td>0.0</td>\n      <td>0.0</td>\n      <td>1</td>\n      <td>Private</td>\n      <td>2</td>\n      <td>75.30</td>\n      <td>25.0</td>\n      <td>2</td>\n      <td>B</td>\n      <td>0</td>\n      <td>47</td>\n      <td>3</td>\n    </tr>\n    <tr>\n      <th>3997</th>\n      <td>Other</td>\n      <td>1.0</td>\n      <td>0.0</td>\n      <td>1</td>\n      <td>Private</td>\n      <td>2</td>\n      <td>129.54</td>\n      <td>60.9</td>\n      <td>3</td>\n      <td>AB</td>\n      <td>0</td>\n      <td>57</td>\n      <td>4</td>\n    </tr>\n    <tr>\n      <th>3998</th>\n      <td>Female</td>\n      <td>0.0</td>\n      <td>0.0</td>\n      <td>1</td>\n      <td>Private</td>\n      <td>0</td>\n      <td>172.33</td>\n      <td>45.3</td>\n      <td>2</td>\n      <td>O</td>\n      <td>0</td>\n      <td>45</td>\n      <td>3</td>\n    </tr>\n    <tr>\n      <th>3999</th>\n      <td>Female</td>\n      <td>1.0</td>\n      <td>0.0</td>\n      <td>1</td>\n      <td>Private</td>\n      <td>1</td>\n      <td>62.55</td>\n      <td>30.3</td>\n      <td>0</td>\n      <td>O</td>\n      <td>1</td>\n      <td>53</td>\n      <td>4</td>\n    </tr>\n  </tbody>\n</table>\n<p>4000 rows × 13 columns</p>\n</div>"
     },
     "metadata": {},
     "execution_count": 28
    }
   ],
   "source": [
    "raw_df"
   ]
  },
  {
   "cell_type": "code",
   "execution_count": 29,
   "metadata": {},
   "outputs": [
    {
     "output_type": "execute_result",
     "data": {
      "text/plain": [
       "age_bin\n",
       "1    20.640222\n",
       "2    28.814368\n",
       "3    31.338164\n",
       "4    31.463916\n",
       "5    29.288200\n",
       "Name: bmi, dtype: float64"
      ]
     },
     "metadata": {},
     "execution_count": 29
    }
   ],
   "source": [
    "gb_bmi = raw_df.groupby(\"age_bin\")[\"bmi\"].mean()\n",
    "gb_bmi"
   ]
  },
  {
   "cell_type": "code",
   "execution_count": 30,
   "metadata": {},
   "outputs": [],
   "source": [
    "def impute_bmi(cols):\n",
    "    bmi = cols[0]\n",
    "    age_bin = cols[1]\n",
    "    \n",
    "    if pd.isnull(bmi):\n",
    "        if age_bin == 1:\n",
    "            return 20.640222\n",
    "        elif age_bin == 2:\n",
    "            return 28.814368\n",
    "        elif age_bin == 3:\n",
    "            return 31.338164\n",
    "        elif age_bin == 4:\n",
    "            return 31.463916\n",
    "        elif age_bin == 5:\n",
    "            return 29.288200\n",
    "    else:\n",
    "        return bmi"
   ]
  },
  {
   "cell_type": "code",
   "execution_count": 31,
   "metadata": {},
   "outputs": [
    {
     "output_type": "execute_result",
     "data": {
      "text/plain": [
       "      gender  hypertension  heart_disease  ever_married work_type  \\\n",
       "0     Female           0.0            0.0             0  children   \n",
       "1       Male           0.0            0.0             1   Private   \n",
       "2     Female           0.0            0.0             0   Private   \n",
       "3     Female           0.0            0.0             0   Private   \n",
       "4     Female           0.0            0.0             1   Private   \n",
       "...      ...           ...            ...           ...       ...   \n",
       "3995    Male           0.0            0.0             0   Private   \n",
       "3996    Male           0.0            0.0             1   Private   \n",
       "3997   Other           1.0            0.0             1   Private   \n",
       "3998  Female           0.0            0.0             1   Private   \n",
       "3999  Female           1.0            0.0             1   Private   \n",
       "\n",
       "      Residence_type  avg_glucose_level        bmi  smoking_status blood  \\\n",
       "0                  0              85.81  18.600000               0     O   \n",
       "1                  1              89.17  31.463916               1     B   \n",
       "2                  0              98.53  18.500000               1     B   \n",
       "3                  1             108.89  52.300000               0     O   \n",
       "4                  0              91.44  31.338164               0     O   \n",
       "...              ...                ...        ...             ...   ...   \n",
       "3995               0              99.49  22.000000               0     B   \n",
       "3996               2              75.30  25.000000               2     B   \n",
       "3997               2             129.54  60.900000               3    AB   \n",
       "3998               0             172.33  45.300000               2     O   \n",
       "3999               1              62.55  30.300000               0     O   \n",
       "\n",
       "      stroke  age age_bin  \n",
       "0          0    7       1  \n",
       "1          0   55       4  \n",
       "2          0   42       3  \n",
       "3          0   31       2  \n",
       "4          0   38       3  \n",
       "...      ...  ...     ...  \n",
       "3995       0   16       1  \n",
       "3996       0   47       3  \n",
       "3997       0   57       4  \n",
       "3998       0   45       3  \n",
       "3999       1   53       4  \n",
       "\n",
       "[4000 rows x 13 columns]"
      ],
      "text/html": "<div>\n<style scoped>\n    .dataframe tbody tr th:only-of-type {\n        vertical-align: middle;\n    }\n\n    .dataframe tbody tr th {\n        vertical-align: top;\n    }\n\n    .dataframe thead th {\n        text-align: right;\n    }\n</style>\n<table border=\"1\" class=\"dataframe\">\n  <thead>\n    <tr style=\"text-align: right;\">\n      <th></th>\n      <th>gender</th>\n      <th>hypertension</th>\n      <th>heart_disease</th>\n      <th>ever_married</th>\n      <th>work_type</th>\n      <th>Residence_type</th>\n      <th>avg_glucose_level</th>\n      <th>bmi</th>\n      <th>smoking_status</th>\n      <th>blood</th>\n      <th>stroke</th>\n      <th>age</th>\n      <th>age_bin</th>\n    </tr>\n  </thead>\n  <tbody>\n    <tr>\n      <th>0</th>\n      <td>Female</td>\n      <td>0.0</td>\n      <td>0.0</td>\n      <td>0</td>\n      <td>children</td>\n      <td>0</td>\n      <td>85.81</td>\n      <td>18.600000</td>\n      <td>0</td>\n      <td>O</td>\n      <td>0</td>\n      <td>7</td>\n      <td>1</td>\n    </tr>\n    <tr>\n      <th>1</th>\n      <td>Male</td>\n      <td>0.0</td>\n      <td>0.0</td>\n      <td>1</td>\n      <td>Private</td>\n      <td>1</td>\n      <td>89.17</td>\n      <td>31.463916</td>\n      <td>1</td>\n      <td>B</td>\n      <td>0</td>\n      <td>55</td>\n      <td>4</td>\n    </tr>\n    <tr>\n      <th>2</th>\n      <td>Female</td>\n      <td>0.0</td>\n      <td>0.0</td>\n      <td>0</td>\n      <td>Private</td>\n      <td>0</td>\n      <td>98.53</td>\n      <td>18.500000</td>\n      <td>1</td>\n      <td>B</td>\n      <td>0</td>\n      <td>42</td>\n      <td>3</td>\n    </tr>\n    <tr>\n      <th>3</th>\n      <td>Female</td>\n      <td>0.0</td>\n      <td>0.0</td>\n      <td>0</td>\n      <td>Private</td>\n      <td>1</td>\n      <td>108.89</td>\n      <td>52.300000</td>\n      <td>0</td>\n      <td>O</td>\n      <td>0</td>\n      <td>31</td>\n      <td>2</td>\n    </tr>\n    <tr>\n      <th>4</th>\n      <td>Female</td>\n      <td>0.0</td>\n      <td>0.0</td>\n      <td>1</td>\n      <td>Private</td>\n      <td>0</td>\n      <td>91.44</td>\n      <td>31.338164</td>\n      <td>0</td>\n      <td>O</td>\n      <td>0</td>\n      <td>38</td>\n      <td>3</td>\n    </tr>\n    <tr>\n      <th>...</th>\n      <td>...</td>\n      <td>...</td>\n      <td>...</td>\n      <td>...</td>\n      <td>...</td>\n      <td>...</td>\n      <td>...</td>\n      <td>...</td>\n      <td>...</td>\n      <td>...</td>\n      <td>...</td>\n      <td>...</td>\n      <td>...</td>\n    </tr>\n    <tr>\n      <th>3995</th>\n      <td>Male</td>\n      <td>0.0</td>\n      <td>0.0</td>\n      <td>0</td>\n      <td>Private</td>\n      <td>0</td>\n      <td>99.49</td>\n      <td>22.000000</td>\n      <td>0</td>\n      <td>B</td>\n      <td>0</td>\n      <td>16</td>\n      <td>1</td>\n    </tr>\n    <tr>\n      <th>3996</th>\n      <td>Male</td>\n      <td>0.0</td>\n      <td>0.0</td>\n      <td>1</td>\n      <td>Private</td>\n      <td>2</td>\n      <td>75.30</td>\n      <td>25.000000</td>\n      <td>2</td>\n      <td>B</td>\n      <td>0</td>\n      <td>47</td>\n      <td>3</td>\n    </tr>\n    <tr>\n      <th>3997</th>\n      <td>Other</td>\n      <td>1.0</td>\n      <td>0.0</td>\n      <td>1</td>\n      <td>Private</td>\n      <td>2</td>\n      <td>129.54</td>\n      <td>60.900000</td>\n      <td>3</td>\n      <td>AB</td>\n      <td>0</td>\n      <td>57</td>\n      <td>4</td>\n    </tr>\n    <tr>\n      <th>3998</th>\n      <td>Female</td>\n      <td>0.0</td>\n      <td>0.0</td>\n      <td>1</td>\n      <td>Private</td>\n      <td>0</td>\n      <td>172.33</td>\n      <td>45.300000</td>\n      <td>2</td>\n      <td>O</td>\n      <td>0</td>\n      <td>45</td>\n      <td>3</td>\n    </tr>\n    <tr>\n      <th>3999</th>\n      <td>Female</td>\n      <td>1.0</td>\n      <td>0.0</td>\n      <td>1</td>\n      <td>Private</td>\n      <td>1</td>\n      <td>62.55</td>\n      <td>30.300000</td>\n      <td>0</td>\n      <td>O</td>\n      <td>1</td>\n      <td>53</td>\n      <td>4</td>\n    </tr>\n  </tbody>\n</table>\n<p>4000 rows × 13 columns</p>\n</div>"
     },
     "metadata": {},
     "execution_count": 31
    }
   ],
   "source": [
    "raw_df['bmi'] = raw_df[[\"bmi\",\"age_bin\"]].apply(impute_bmi, axis=1)\n",
    "raw_df"
   ]
  },
  {
   "cell_type": "code",
   "execution_count": 32,
   "metadata": {},
   "outputs": [
    {
     "output_type": "execute_result",
     "data": {
      "text/plain": [
       "                   Total  Percent\n",
       "hypertension         230  0.05750\n",
       "avg_glucose_level    171  0.04275\n",
       "heart_disease         90  0.02250\n",
       "blood                 10  0.00250\n",
       "gender                 0  0.00000\n",
       "ever_married           0  0.00000\n",
       "work_type              0  0.00000\n",
       "Residence_type         0  0.00000\n",
       "bmi                    0  0.00000\n",
       "smoking_status         0  0.00000\n",
       "stroke                 0  0.00000\n",
       "age                    0  0.00000\n",
       "age_bin                0  0.00000"
      ],
      "text/html": "<div>\n<style scoped>\n    .dataframe tbody tr th:only-of-type {\n        vertical-align: middle;\n    }\n\n    .dataframe tbody tr th {\n        vertical-align: top;\n    }\n\n    .dataframe thead th {\n        text-align: right;\n    }\n</style>\n<table border=\"1\" class=\"dataframe\">\n  <thead>\n    <tr style=\"text-align: right;\">\n      <th></th>\n      <th>Total</th>\n      <th>Percent</th>\n    </tr>\n  </thead>\n  <tbody>\n    <tr>\n      <th>hypertension</th>\n      <td>230</td>\n      <td>0.05750</td>\n    </tr>\n    <tr>\n      <th>avg_glucose_level</th>\n      <td>171</td>\n      <td>0.04275</td>\n    </tr>\n    <tr>\n      <th>heart_disease</th>\n      <td>90</td>\n      <td>0.02250</td>\n    </tr>\n    <tr>\n      <th>blood</th>\n      <td>10</td>\n      <td>0.00250</td>\n    </tr>\n    <tr>\n      <th>gender</th>\n      <td>0</td>\n      <td>0.00000</td>\n    </tr>\n    <tr>\n      <th>ever_married</th>\n      <td>0</td>\n      <td>0.00000</td>\n    </tr>\n    <tr>\n      <th>work_type</th>\n      <td>0</td>\n      <td>0.00000</td>\n    </tr>\n    <tr>\n      <th>Residence_type</th>\n      <td>0</td>\n      <td>0.00000</td>\n    </tr>\n    <tr>\n      <th>bmi</th>\n      <td>0</td>\n      <td>0.00000</td>\n    </tr>\n    <tr>\n      <th>smoking_status</th>\n      <td>0</td>\n      <td>0.00000</td>\n    </tr>\n    <tr>\n      <th>stroke</th>\n      <td>0</td>\n      <td>0.00000</td>\n    </tr>\n    <tr>\n      <th>age</th>\n      <td>0</td>\n      <td>0.00000</td>\n    </tr>\n    <tr>\n      <th>age_bin</th>\n      <td>0</td>\n      <td>0.00000</td>\n    </tr>\n  </tbody>\n</table>\n</div>"
     },
     "metadata": {},
     "execution_count": 32
    }
   ],
   "source": [
    "draw_missing_data_table(raw_df)"
   ]
  },
  {
   "cell_type": "code",
   "execution_count": 33,
   "metadata": {},
   "outputs": [
    {
     "output_type": "execute_result",
     "data": {
      "text/plain": [
       "      gender  hypertension  heart_disease  ever_married work_type  \\\n",
       "0     Female           0.0            0.0             0  children   \n",
       "1       Male           0.0            0.0             1   Private   \n",
       "2     Female           0.0            0.0             0   Private   \n",
       "3     Female           0.0            0.0             0   Private   \n",
       "4     Female           0.0            0.0             1   Private   \n",
       "...      ...           ...            ...           ...       ...   \n",
       "3995    Male           0.0            0.0             0   Private   \n",
       "3996    Male           0.0            0.0             1   Private   \n",
       "3997   Other           1.0            0.0             1   Private   \n",
       "3998  Female           0.0            0.0             1   Private   \n",
       "3999  Female           1.0            0.0             1   Private   \n",
       "\n",
       "      Residence_type  avg_glucose_level        bmi  smoking_status blood  \\\n",
       "0                  0              85.81  18.600000               0     O   \n",
       "1                  1              89.17  31.463916               1     B   \n",
       "2                  0              98.53  18.500000               1     B   \n",
       "3                  1             108.89  52.300000               0     O   \n",
       "4                  0              91.44  31.338164               0     O   \n",
       "...              ...                ...        ...             ...   ...   \n",
       "3995               0              99.49  22.000000               0     B   \n",
       "3996               2              75.30  25.000000               2     B   \n",
       "3997               2             129.54  60.900000               3    AB   \n",
       "3998               0             172.33  45.300000               2     O   \n",
       "3999               1              62.55  30.300000               0     O   \n",
       "\n",
       "      stroke  age  \n",
       "0          0    7  \n",
       "1          0   55  \n",
       "2          0   42  \n",
       "3          0   31  \n",
       "4          0   38  \n",
       "...      ...  ...  \n",
       "3995       0   16  \n",
       "3996       0   47  \n",
       "3997       0   57  \n",
       "3998       0   45  \n",
       "3999       1   53  \n",
       "\n",
       "[4000 rows x 12 columns]"
      ],
      "text/html": "<div>\n<style scoped>\n    .dataframe tbody tr th:only-of-type {\n        vertical-align: middle;\n    }\n\n    .dataframe tbody tr th {\n        vertical-align: top;\n    }\n\n    .dataframe thead th {\n        text-align: right;\n    }\n</style>\n<table border=\"1\" class=\"dataframe\">\n  <thead>\n    <tr style=\"text-align: right;\">\n      <th></th>\n      <th>gender</th>\n      <th>hypertension</th>\n      <th>heart_disease</th>\n      <th>ever_married</th>\n      <th>work_type</th>\n      <th>Residence_type</th>\n      <th>avg_glucose_level</th>\n      <th>bmi</th>\n      <th>smoking_status</th>\n      <th>blood</th>\n      <th>stroke</th>\n      <th>age</th>\n    </tr>\n  </thead>\n  <tbody>\n    <tr>\n      <th>0</th>\n      <td>Female</td>\n      <td>0.0</td>\n      <td>0.0</td>\n      <td>0</td>\n      <td>children</td>\n      <td>0</td>\n      <td>85.81</td>\n      <td>18.600000</td>\n      <td>0</td>\n      <td>O</td>\n      <td>0</td>\n      <td>7</td>\n    </tr>\n    <tr>\n      <th>1</th>\n      <td>Male</td>\n      <td>0.0</td>\n      <td>0.0</td>\n      <td>1</td>\n      <td>Private</td>\n      <td>1</td>\n      <td>89.17</td>\n      <td>31.463916</td>\n      <td>1</td>\n      <td>B</td>\n      <td>0</td>\n      <td>55</td>\n    </tr>\n    <tr>\n      <th>2</th>\n      <td>Female</td>\n      <td>0.0</td>\n      <td>0.0</td>\n      <td>0</td>\n      <td>Private</td>\n      <td>0</td>\n      <td>98.53</td>\n      <td>18.500000</td>\n      <td>1</td>\n      <td>B</td>\n      <td>0</td>\n      <td>42</td>\n    </tr>\n    <tr>\n      <th>3</th>\n      <td>Female</td>\n      <td>0.0</td>\n      <td>0.0</td>\n      <td>0</td>\n      <td>Private</td>\n      <td>1</td>\n      <td>108.89</td>\n      <td>52.300000</td>\n      <td>0</td>\n      <td>O</td>\n      <td>0</td>\n      <td>31</td>\n    </tr>\n    <tr>\n      <th>4</th>\n      <td>Female</td>\n      <td>0.0</td>\n      <td>0.0</td>\n      <td>1</td>\n      <td>Private</td>\n      <td>0</td>\n      <td>91.44</td>\n      <td>31.338164</td>\n      <td>0</td>\n      <td>O</td>\n      <td>0</td>\n      <td>38</td>\n    </tr>\n    <tr>\n      <th>...</th>\n      <td>...</td>\n      <td>...</td>\n      <td>...</td>\n      <td>...</td>\n      <td>...</td>\n      <td>...</td>\n      <td>...</td>\n      <td>...</td>\n      <td>...</td>\n      <td>...</td>\n      <td>...</td>\n      <td>...</td>\n    </tr>\n    <tr>\n      <th>3995</th>\n      <td>Male</td>\n      <td>0.0</td>\n      <td>0.0</td>\n      <td>0</td>\n      <td>Private</td>\n      <td>0</td>\n      <td>99.49</td>\n      <td>22.000000</td>\n      <td>0</td>\n      <td>B</td>\n      <td>0</td>\n      <td>16</td>\n    </tr>\n    <tr>\n      <th>3996</th>\n      <td>Male</td>\n      <td>0.0</td>\n      <td>0.0</td>\n      <td>1</td>\n      <td>Private</td>\n      <td>2</td>\n      <td>75.30</td>\n      <td>25.000000</td>\n      <td>2</td>\n      <td>B</td>\n      <td>0</td>\n      <td>47</td>\n    </tr>\n    <tr>\n      <th>3997</th>\n      <td>Other</td>\n      <td>1.0</td>\n      <td>0.0</td>\n      <td>1</td>\n      <td>Private</td>\n      <td>2</td>\n      <td>129.54</td>\n      <td>60.900000</td>\n      <td>3</td>\n      <td>AB</td>\n      <td>0</td>\n      <td>57</td>\n    </tr>\n    <tr>\n      <th>3998</th>\n      <td>Female</td>\n      <td>0.0</td>\n      <td>0.0</td>\n      <td>1</td>\n      <td>Private</td>\n      <td>0</td>\n      <td>172.33</td>\n      <td>45.300000</td>\n      <td>2</td>\n      <td>O</td>\n      <td>0</td>\n      <td>45</td>\n    </tr>\n    <tr>\n      <th>3999</th>\n      <td>Female</td>\n      <td>1.0</td>\n      <td>0.0</td>\n      <td>1</td>\n      <td>Private</td>\n      <td>1</td>\n      <td>62.55</td>\n      <td>30.300000</td>\n      <td>0</td>\n      <td>O</td>\n      <td>1</td>\n      <td>53</td>\n    </tr>\n  </tbody>\n</table>\n<p>4000 rows × 12 columns</p>\n</div>"
     },
     "metadata": {},
     "execution_count": 33
    }
   ],
   "source": [
    "raw_df = raw_df.drop(['age_bin'],axis=1)\n",
    "raw_df"
   ]
  },
  {
   "cell_type": "code",
   "execution_count": 34,
   "metadata": {},
   "outputs": [],
   "source": [
    "def impute_bmi_cate(cols):\n",
    "    #Underweight: 0 (<18.5)\n",
    "    #Normal: 1 (18.5—24.9)\n",
    "    #Overweight: 2 (25.0—29.9)\n",
    "    #Above Obese: 3 (>= 30.0)\n",
    "    bmi = cols[0]\n",
    "    if bmi < 18.5:\n",
    "        return 0\n",
    "    elif bmi <= 24.9:\n",
    "        return 1\n",
    "    elif bmi <= 29.9:\n",
    "        return 2\n",
    "    else:\n",
    "        return 3\n"
   ]
  },
  {
   "cell_type": "code",
   "execution_count": 35,
   "metadata": {},
   "outputs": [
    {
     "output_type": "execute_result",
     "data": {
      "text/plain": [
       "      gender  hypertension  heart_disease  ever_married work_type  \\\n",
       "0     Female           0.0            0.0             0  children   \n",
       "1       Male           0.0            0.0             1   Private   \n",
       "2     Female           0.0            0.0             0   Private   \n",
       "3     Female           0.0            0.0             0   Private   \n",
       "4     Female           0.0            0.0             1   Private   \n",
       "...      ...           ...            ...           ...       ...   \n",
       "3995    Male           0.0            0.0             0   Private   \n",
       "3996    Male           0.0            0.0             1   Private   \n",
       "3997   Other           1.0            0.0             1   Private   \n",
       "3998  Female           0.0            0.0             1   Private   \n",
       "3999  Female           1.0            0.0             1   Private   \n",
       "\n",
       "      Residence_type  avg_glucose_level        bmi  smoking_status blood  \\\n",
       "0                  0              85.81  18.600000               0     O   \n",
       "1                  1              89.17  31.463916               1     B   \n",
       "2                  0              98.53  18.500000               1     B   \n",
       "3                  1             108.89  52.300000               0     O   \n",
       "4                  0              91.44  31.338164               0     O   \n",
       "...              ...                ...        ...             ...   ...   \n",
       "3995               0              99.49  22.000000               0     B   \n",
       "3996               2              75.30  25.000000               2     B   \n",
       "3997               2             129.54  60.900000               3    AB   \n",
       "3998               0             172.33  45.300000               2     O   \n",
       "3999               1              62.55  30.300000               0     O   \n",
       "\n",
       "      stroke  age  bmi_category  \n",
       "0          0    7             1  \n",
       "1          0   55             3  \n",
       "2          0   42             1  \n",
       "3          0   31             3  \n",
       "4          0   38             3  \n",
       "...      ...  ...           ...  \n",
       "3995       0   16             1  \n",
       "3996       0   47             2  \n",
       "3997       0   57             3  \n",
       "3998       0   45             3  \n",
       "3999       1   53             3  \n",
       "\n",
       "[4000 rows x 13 columns]"
      ],
      "text/html": "<div>\n<style scoped>\n    .dataframe tbody tr th:only-of-type {\n        vertical-align: middle;\n    }\n\n    .dataframe tbody tr th {\n        vertical-align: top;\n    }\n\n    .dataframe thead th {\n        text-align: right;\n    }\n</style>\n<table border=\"1\" class=\"dataframe\">\n  <thead>\n    <tr style=\"text-align: right;\">\n      <th></th>\n      <th>gender</th>\n      <th>hypertension</th>\n      <th>heart_disease</th>\n      <th>ever_married</th>\n      <th>work_type</th>\n      <th>Residence_type</th>\n      <th>avg_glucose_level</th>\n      <th>bmi</th>\n      <th>smoking_status</th>\n      <th>blood</th>\n      <th>stroke</th>\n      <th>age</th>\n      <th>bmi_category</th>\n    </tr>\n  </thead>\n  <tbody>\n    <tr>\n      <th>0</th>\n      <td>Female</td>\n      <td>0.0</td>\n      <td>0.0</td>\n      <td>0</td>\n      <td>children</td>\n      <td>0</td>\n      <td>85.81</td>\n      <td>18.600000</td>\n      <td>0</td>\n      <td>O</td>\n      <td>0</td>\n      <td>7</td>\n      <td>1</td>\n    </tr>\n    <tr>\n      <th>1</th>\n      <td>Male</td>\n      <td>0.0</td>\n      <td>0.0</td>\n      <td>1</td>\n      <td>Private</td>\n      <td>1</td>\n      <td>89.17</td>\n      <td>31.463916</td>\n      <td>1</td>\n      <td>B</td>\n      <td>0</td>\n      <td>55</td>\n      <td>3</td>\n    </tr>\n    <tr>\n      <th>2</th>\n      <td>Female</td>\n      <td>0.0</td>\n      <td>0.0</td>\n      <td>0</td>\n      <td>Private</td>\n      <td>0</td>\n      <td>98.53</td>\n      <td>18.500000</td>\n      <td>1</td>\n      <td>B</td>\n      <td>0</td>\n      <td>42</td>\n      <td>1</td>\n    </tr>\n    <tr>\n      <th>3</th>\n      <td>Female</td>\n      <td>0.0</td>\n      <td>0.0</td>\n      <td>0</td>\n      <td>Private</td>\n      <td>1</td>\n      <td>108.89</td>\n      <td>52.300000</td>\n      <td>0</td>\n      <td>O</td>\n      <td>0</td>\n      <td>31</td>\n      <td>3</td>\n    </tr>\n    <tr>\n      <th>4</th>\n      <td>Female</td>\n      <td>0.0</td>\n      <td>0.0</td>\n      <td>1</td>\n      <td>Private</td>\n      <td>0</td>\n      <td>91.44</td>\n      <td>31.338164</td>\n      <td>0</td>\n      <td>O</td>\n      <td>0</td>\n      <td>38</td>\n      <td>3</td>\n    </tr>\n    <tr>\n      <th>...</th>\n      <td>...</td>\n      <td>...</td>\n      <td>...</td>\n      <td>...</td>\n      <td>...</td>\n      <td>...</td>\n      <td>...</td>\n      <td>...</td>\n      <td>...</td>\n      <td>...</td>\n      <td>...</td>\n      <td>...</td>\n      <td>...</td>\n    </tr>\n    <tr>\n      <th>3995</th>\n      <td>Male</td>\n      <td>0.0</td>\n      <td>0.0</td>\n      <td>0</td>\n      <td>Private</td>\n      <td>0</td>\n      <td>99.49</td>\n      <td>22.000000</td>\n      <td>0</td>\n      <td>B</td>\n      <td>0</td>\n      <td>16</td>\n      <td>1</td>\n    </tr>\n    <tr>\n      <th>3996</th>\n      <td>Male</td>\n      <td>0.0</td>\n      <td>0.0</td>\n      <td>1</td>\n      <td>Private</td>\n      <td>2</td>\n      <td>75.30</td>\n      <td>25.000000</td>\n      <td>2</td>\n      <td>B</td>\n      <td>0</td>\n      <td>47</td>\n      <td>2</td>\n    </tr>\n    <tr>\n      <th>3997</th>\n      <td>Other</td>\n      <td>1.0</td>\n      <td>0.0</td>\n      <td>1</td>\n      <td>Private</td>\n      <td>2</td>\n      <td>129.54</td>\n      <td>60.900000</td>\n      <td>3</td>\n      <td>AB</td>\n      <td>0</td>\n      <td>57</td>\n      <td>3</td>\n    </tr>\n    <tr>\n      <th>3998</th>\n      <td>Female</td>\n      <td>0.0</td>\n      <td>0.0</td>\n      <td>1</td>\n      <td>Private</td>\n      <td>0</td>\n      <td>172.33</td>\n      <td>45.300000</td>\n      <td>2</td>\n      <td>O</td>\n      <td>0</td>\n      <td>45</td>\n      <td>3</td>\n    </tr>\n    <tr>\n      <th>3999</th>\n      <td>Female</td>\n      <td>1.0</td>\n      <td>0.0</td>\n      <td>1</td>\n      <td>Private</td>\n      <td>1</td>\n      <td>62.55</td>\n      <td>30.300000</td>\n      <td>0</td>\n      <td>O</td>\n      <td>1</td>\n      <td>53</td>\n      <td>3</td>\n    </tr>\n  </tbody>\n</table>\n<p>4000 rows × 13 columns</p>\n</div>"
     },
     "metadata": {},
     "execution_count": 35
    }
   ],
   "source": [
    "raw_df['bmi_category'] = raw_df[[\"bmi\"]].apply(impute_bmi_cate, axis=1)\n",
    "raw_df"
   ]
  },
  {
   "cell_type": "code",
   "execution_count": 36,
   "metadata": {},
   "outputs": [
    {
     "output_type": "execute_result",
     "data": {
      "text/plain": [
       "                   Total  Percent\n",
       "hypertension         230  0.05750\n",
       "avg_glucose_level    171  0.04275\n",
       "heart_disease         90  0.02250\n",
       "blood                 10  0.00250\n",
       "gender                 0  0.00000\n",
       "ever_married           0  0.00000\n",
       "work_type              0  0.00000\n",
       "Residence_type         0  0.00000\n",
       "bmi                    0  0.00000\n",
       "smoking_status         0  0.00000\n",
       "stroke                 0  0.00000\n",
       "age                    0  0.00000\n",
       "bmi_category           0  0.00000"
      ],
      "text/html": "<div>\n<style scoped>\n    .dataframe tbody tr th:only-of-type {\n        vertical-align: middle;\n    }\n\n    .dataframe tbody tr th {\n        vertical-align: top;\n    }\n\n    .dataframe thead th {\n        text-align: right;\n    }\n</style>\n<table border=\"1\" class=\"dataframe\">\n  <thead>\n    <tr style=\"text-align: right;\">\n      <th></th>\n      <th>Total</th>\n      <th>Percent</th>\n    </tr>\n  </thead>\n  <tbody>\n    <tr>\n      <th>hypertension</th>\n      <td>230</td>\n      <td>0.05750</td>\n    </tr>\n    <tr>\n      <th>avg_glucose_level</th>\n      <td>171</td>\n      <td>0.04275</td>\n    </tr>\n    <tr>\n      <th>heart_disease</th>\n      <td>90</td>\n      <td>0.02250</td>\n    </tr>\n    <tr>\n      <th>blood</th>\n      <td>10</td>\n      <td>0.00250</td>\n    </tr>\n    <tr>\n      <th>gender</th>\n      <td>0</td>\n      <td>0.00000</td>\n    </tr>\n    <tr>\n      <th>ever_married</th>\n      <td>0</td>\n      <td>0.00000</td>\n    </tr>\n    <tr>\n      <th>work_type</th>\n      <td>0</td>\n      <td>0.00000</td>\n    </tr>\n    <tr>\n      <th>Residence_type</th>\n      <td>0</td>\n      <td>0.00000</td>\n    </tr>\n    <tr>\n      <th>bmi</th>\n      <td>0</td>\n      <td>0.00000</td>\n    </tr>\n    <tr>\n      <th>smoking_status</th>\n      <td>0</td>\n      <td>0.00000</td>\n    </tr>\n    <tr>\n      <th>stroke</th>\n      <td>0</td>\n      <td>0.00000</td>\n    </tr>\n    <tr>\n      <th>age</th>\n      <td>0</td>\n      <td>0.00000</td>\n    </tr>\n    <tr>\n      <th>bmi_category</th>\n      <td>0</td>\n      <td>0.00000</td>\n    </tr>\n  </tbody>\n</table>\n</div>"
     },
     "metadata": {},
     "execution_count": 36
    }
   ],
   "source": [
    "draw_missing_data_table(raw_df)"
   ]
  },
  {
   "cell_type": "code",
   "execution_count": 37,
   "metadata": {},
   "outputs": [],
   "source": [
    "raw_df.to_csv('./Dataset/Processed_train_le_no_scale_full_age_BMI.csv', index=False)"
   ]
  },
  {
   "cell_type": "code",
   "execution_count": 38,
   "metadata": {},
   "outputs": [
    {
     "output_type": "execute_result",
     "data": {
      "text/plain": [
       "hypertension         1.000000\n",
       "age                  0.266210\n",
       "ever_married         0.169492\n",
       "bmi                  0.160182\n",
       "avg_glucose_level    0.157735\n",
       "bmi_category         0.146829\n",
       "smoking_status       0.106057\n",
       "heart_disease        0.098219\n",
       "stroke               0.084755\n",
       "Residence_type       0.020742\n",
       "Name: hypertension, dtype: float64"
      ]
     },
     "metadata": {},
     "execution_count": 38
    }
   ],
   "source": [
    "raw_df.corr()['hypertension'].sort_values(ascending=False)"
   ]
  },
  {
   "cell_type": "code",
   "execution_count": 39,
   "metadata": {},
   "outputs": [
    {
     "output_type": "execute_result",
     "data": {
      "text/plain": [
       "   gender  hypertension  heart_disease  ever_married work_type  \\\n",
       "0  Female           0.0              0             0  children   \n",
       "1    Male           0.0              0             1   Private   \n",
       "2  Female           0.0              0             0   Private   \n",
       "3  Female           0.0              0             0   Private   \n",
       "4  Female           0.0              0             1   Private   \n",
       "\n",
       "   Residence_type  avg_glucose_level        bmi  smoking_status blood  stroke  \\\n",
       "0               0              85.81  18.600000               0     O       0   \n",
       "1               1              89.17  31.463916               1     B       0   \n",
       "2               0              98.53  18.500000               1     B       0   \n",
       "3               1             108.89  52.300000               0     O       0   \n",
       "4               0              91.44  31.338164               0     O       0   \n",
       "\n",
       "   age  bmi_category  \n",
       "0    7             1  \n",
       "1   55             3  \n",
       "2   42             1  \n",
       "3   31             3  \n",
       "4   38             3  "
      ],
      "text/html": "<div>\n<style scoped>\n    .dataframe tbody tr th:only-of-type {\n        vertical-align: middle;\n    }\n\n    .dataframe tbody tr th {\n        vertical-align: top;\n    }\n\n    .dataframe thead th {\n        text-align: right;\n    }\n</style>\n<table border=\"1\" class=\"dataframe\">\n  <thead>\n    <tr style=\"text-align: right;\">\n      <th></th>\n      <th>gender</th>\n      <th>hypertension</th>\n      <th>heart_disease</th>\n      <th>ever_married</th>\n      <th>work_type</th>\n      <th>Residence_type</th>\n      <th>avg_glucose_level</th>\n      <th>bmi</th>\n      <th>smoking_status</th>\n      <th>blood</th>\n      <th>stroke</th>\n      <th>age</th>\n      <th>bmi_category</th>\n    </tr>\n  </thead>\n  <tbody>\n    <tr>\n      <th>0</th>\n      <td>Female</td>\n      <td>0.0</td>\n      <td>0</td>\n      <td>0</td>\n      <td>children</td>\n      <td>0</td>\n      <td>85.81</td>\n      <td>18.600000</td>\n      <td>0</td>\n      <td>O</td>\n      <td>0</td>\n      <td>7</td>\n      <td>1</td>\n    </tr>\n    <tr>\n      <th>1</th>\n      <td>Male</td>\n      <td>0.0</td>\n      <td>0</td>\n      <td>1</td>\n      <td>Private</td>\n      <td>1</td>\n      <td>89.17</td>\n      <td>31.463916</td>\n      <td>1</td>\n      <td>B</td>\n      <td>0</td>\n      <td>55</td>\n      <td>3</td>\n    </tr>\n    <tr>\n      <th>2</th>\n      <td>Female</td>\n      <td>0.0</td>\n      <td>0</td>\n      <td>0</td>\n      <td>Private</td>\n      <td>0</td>\n      <td>98.53</td>\n      <td>18.500000</td>\n      <td>1</td>\n      <td>B</td>\n      <td>0</td>\n      <td>42</td>\n      <td>1</td>\n    </tr>\n    <tr>\n      <th>3</th>\n      <td>Female</td>\n      <td>0.0</td>\n      <td>0</td>\n      <td>0</td>\n      <td>Private</td>\n      <td>1</td>\n      <td>108.89</td>\n      <td>52.300000</td>\n      <td>0</td>\n      <td>O</td>\n      <td>0</td>\n      <td>31</td>\n      <td>3</td>\n    </tr>\n    <tr>\n      <th>4</th>\n      <td>Female</td>\n      <td>0.0</td>\n      <td>0</td>\n      <td>1</td>\n      <td>Private</td>\n      <td>0</td>\n      <td>91.44</td>\n      <td>31.338164</td>\n      <td>0</td>\n      <td>O</td>\n      <td>0</td>\n      <td>38</td>\n      <td>3</td>\n    </tr>\n  </tbody>\n</table>\n</div>"
     },
     "metadata": {},
     "execution_count": 39
    }
   ],
   "source": [
    "raw_df['heart_disease'] = raw_df['heart_disease'].fillna(0.0)\n",
    "raw_df['heart_disease'] = raw_df['heart_disease'].astype(int)\n",
    "raw_df.head()"
   ]
  },
  {
   "cell_type": "code",
   "execution_count": 40,
   "metadata": {},
   "outputs": [
    {
     "output_type": "execute_result",
     "data": {
      "text/plain": [
       "   gender  hypertension  heart_disease  ever_married work_type  \\\n",
       "0  Female             0              0             0  children   \n",
       "1    Male             0              0             1   Private   \n",
       "2  Female             0              0             0   Private   \n",
       "3  Female             0              0             0   Private   \n",
       "4  Female             0              0             1   Private   \n",
       "\n",
       "   Residence_type  avg_glucose_level        bmi  smoking_status blood  stroke  \\\n",
       "0               0              85.81  18.600000               0     O       0   \n",
       "1               1              89.17  31.463916               1     B       0   \n",
       "2               0              98.53  18.500000               1     B       0   \n",
       "3               1             108.89  52.300000               0     O       0   \n",
       "4               0              91.44  31.338164               0     O       0   \n",
       "\n",
       "   age  bmi_category  \n",
       "0    7             1  \n",
       "1   55             3  \n",
       "2   42             1  \n",
       "3   31             3  \n",
       "4   38             3  "
      ],
      "text/html": "<div>\n<style scoped>\n    .dataframe tbody tr th:only-of-type {\n        vertical-align: middle;\n    }\n\n    .dataframe tbody tr th {\n        vertical-align: top;\n    }\n\n    .dataframe thead th {\n        text-align: right;\n    }\n</style>\n<table border=\"1\" class=\"dataframe\">\n  <thead>\n    <tr style=\"text-align: right;\">\n      <th></th>\n      <th>gender</th>\n      <th>hypertension</th>\n      <th>heart_disease</th>\n      <th>ever_married</th>\n      <th>work_type</th>\n      <th>Residence_type</th>\n      <th>avg_glucose_level</th>\n      <th>bmi</th>\n      <th>smoking_status</th>\n      <th>blood</th>\n      <th>stroke</th>\n      <th>age</th>\n      <th>bmi_category</th>\n    </tr>\n  </thead>\n  <tbody>\n    <tr>\n      <th>0</th>\n      <td>Female</td>\n      <td>0</td>\n      <td>0</td>\n      <td>0</td>\n      <td>children</td>\n      <td>0</td>\n      <td>85.81</td>\n      <td>18.600000</td>\n      <td>0</td>\n      <td>O</td>\n      <td>0</td>\n      <td>7</td>\n      <td>1</td>\n    </tr>\n    <tr>\n      <th>1</th>\n      <td>Male</td>\n      <td>0</td>\n      <td>0</td>\n      <td>1</td>\n      <td>Private</td>\n      <td>1</td>\n      <td>89.17</td>\n      <td>31.463916</td>\n      <td>1</td>\n      <td>B</td>\n      <td>0</td>\n      <td>55</td>\n      <td>3</td>\n    </tr>\n    <tr>\n      <th>2</th>\n      <td>Female</td>\n      <td>0</td>\n      <td>0</td>\n      <td>0</td>\n      <td>Private</td>\n      <td>0</td>\n      <td>98.53</td>\n      <td>18.500000</td>\n      <td>1</td>\n      <td>B</td>\n      <td>0</td>\n      <td>42</td>\n      <td>1</td>\n    </tr>\n    <tr>\n      <th>3</th>\n      <td>Female</td>\n      <td>0</td>\n      <td>0</td>\n      <td>0</td>\n      <td>Private</td>\n      <td>1</td>\n      <td>108.89</td>\n      <td>52.300000</td>\n      <td>0</td>\n      <td>O</td>\n      <td>0</td>\n      <td>31</td>\n      <td>3</td>\n    </tr>\n    <tr>\n      <th>4</th>\n      <td>Female</td>\n      <td>0</td>\n      <td>0</td>\n      <td>1</td>\n      <td>Private</td>\n      <td>0</td>\n      <td>91.44</td>\n      <td>31.338164</td>\n      <td>0</td>\n      <td>O</td>\n      <td>0</td>\n      <td>38</td>\n      <td>3</td>\n    </tr>\n  </tbody>\n</table>\n</div>"
     },
     "metadata": {},
     "execution_count": 40
    }
   ],
   "source": [
    "raw_df['hypertension'] = raw_df['hypertension'].fillna(0.0)\n",
    "raw_df['hypertension'] = raw_df['hypertension'].astype(int)\n",
    "raw_df.head()"
   ]
  },
  {
   "cell_type": "code",
   "execution_count": 41,
   "metadata": {},
   "outputs": [
    {
     "output_type": "execute_result",
     "data": {
      "text/plain": [
       "   gender  hypertension  heart_disease  ever_married work_type  \\\n",
       "0  Female             0              0             0  children   \n",
       "1    Male             0              0             1   Private   \n",
       "2  Female             0              0             0   Private   \n",
       "3  Female             0              0             0   Private   \n",
       "4  Female             0              0             1   Private   \n",
       "\n",
       "   Residence_type  avg_glucose_level        bmi  smoking_status blood  stroke  \\\n",
       "0               0              85.81  18.600000               0     O       0   \n",
       "1               1              89.17  31.463916               1     B       0   \n",
       "2               0              98.53  18.500000               1     B       0   \n",
       "3               1             108.89  52.300000               0     O       0   \n",
       "4               0              91.44  31.338164               0     O       0   \n",
       "\n",
       "   age  bmi_category  \n",
       "0    7             1  \n",
       "1   55             3  \n",
       "2   42             1  \n",
       "3   31             3  \n",
       "4   38             3  "
      ],
      "text/html": "<div>\n<style scoped>\n    .dataframe tbody tr th:only-of-type {\n        vertical-align: middle;\n    }\n\n    .dataframe tbody tr th {\n        vertical-align: top;\n    }\n\n    .dataframe thead th {\n        text-align: right;\n    }\n</style>\n<table border=\"1\" class=\"dataframe\">\n  <thead>\n    <tr style=\"text-align: right;\">\n      <th></th>\n      <th>gender</th>\n      <th>hypertension</th>\n      <th>heart_disease</th>\n      <th>ever_married</th>\n      <th>work_type</th>\n      <th>Residence_type</th>\n      <th>avg_glucose_level</th>\n      <th>bmi</th>\n      <th>smoking_status</th>\n      <th>blood</th>\n      <th>stroke</th>\n      <th>age</th>\n      <th>bmi_category</th>\n    </tr>\n  </thead>\n  <tbody>\n    <tr>\n      <th>0</th>\n      <td>Female</td>\n      <td>0</td>\n      <td>0</td>\n      <td>0</td>\n      <td>children</td>\n      <td>0</td>\n      <td>85.81</td>\n      <td>18.600000</td>\n      <td>0</td>\n      <td>O</td>\n      <td>0</td>\n      <td>7</td>\n      <td>1</td>\n    </tr>\n    <tr>\n      <th>1</th>\n      <td>Male</td>\n      <td>0</td>\n      <td>0</td>\n      <td>1</td>\n      <td>Private</td>\n      <td>1</td>\n      <td>89.17</td>\n      <td>31.463916</td>\n      <td>1</td>\n      <td>B</td>\n      <td>0</td>\n      <td>55</td>\n      <td>3</td>\n    </tr>\n    <tr>\n      <th>2</th>\n      <td>Female</td>\n      <td>0</td>\n      <td>0</td>\n      <td>0</td>\n      <td>Private</td>\n      <td>0</td>\n      <td>98.53</td>\n      <td>18.500000</td>\n      <td>1</td>\n      <td>B</td>\n      <td>0</td>\n      <td>42</td>\n      <td>1</td>\n    </tr>\n    <tr>\n      <th>3</th>\n      <td>Female</td>\n      <td>0</td>\n      <td>0</td>\n      <td>0</td>\n      <td>Private</td>\n      <td>1</td>\n      <td>108.89</td>\n      <td>52.300000</td>\n      <td>0</td>\n      <td>O</td>\n      <td>0</td>\n      <td>31</td>\n      <td>3</td>\n    </tr>\n    <tr>\n      <th>4</th>\n      <td>Female</td>\n      <td>0</td>\n      <td>0</td>\n      <td>1</td>\n      <td>Private</td>\n      <td>0</td>\n      <td>91.44</td>\n      <td>31.338164</td>\n      <td>0</td>\n      <td>O</td>\n      <td>0</td>\n      <td>38</td>\n      <td>3</td>\n    </tr>\n  </tbody>\n</table>\n</div>"
     },
     "metadata": {},
     "execution_count": 41
    }
   ],
   "source": [
    "raw_df['avg_glucose_level'] = raw_df['avg_glucose_level'].fillna(np.mean(raw_df['avg_glucose_level']))\n",
    "raw_df.head()"
   ]
  },
  {
   "cell_type": "code",
   "execution_count": 42,
   "metadata": {},
   "outputs": [],
   "source": [
    "raw_df['blood'] = raw_df['blood'].fillna('AB')"
   ]
  },
  {
   "cell_type": "code",
   "execution_count": 43,
   "metadata": {},
   "outputs": [
    {
     "output_type": "execute_result",
     "data": {
      "text/plain": [
       "array(['Female', 'Male', 'Other'], dtype=object)"
      ]
     },
     "metadata": {},
     "execution_count": 43
    }
   ],
   "source": [
    "raw_df['gender'].unique()"
   ]
  },
  {
   "cell_type": "code",
   "execution_count": 44,
   "metadata": {},
   "outputs": [
    {
     "output_type": "execute_result",
     "data": {
      "text/plain": [
       "array([1, 0, 2], dtype=int64)"
      ]
     },
     "metadata": {},
     "execution_count": 44
    }
   ],
   "source": [
    "gender_mapping = {'Female': 1, 'Male': 0, 'Other': 2}\n",
    "raw_df['gender'] = raw_df['gender'].map(gender_mapping)\n",
    "raw_df['gender'].unique()"
   ]
  },
  {
   "cell_type": "code",
   "execution_count": 45,
   "metadata": {},
   "outputs": [
    {
     "output_type": "execute_result",
     "data": {
      "text/plain": [
       "array(['children', 'Private', 'Govt_job', 'Self-employed', 'Never_worked'],\n",
       "      dtype=object)"
      ]
     },
     "metadata": {},
     "execution_count": 45
    }
   ],
   "source": [
    "raw_df['work_type'].unique()"
   ]
  },
  {
   "cell_type": "code",
   "execution_count": 46,
   "metadata": {},
   "outputs": [
    {
     "output_type": "execute_result",
     "data": {
      "text/plain": [
       "      gender  hypertension  heart_disease  ever_married work_type  \\\n",
       "0          1             0              0             0  children   \n",
       "1          0             0              0             1   Private   \n",
       "2          1             0              0             0   Private   \n",
       "3          1             0              0             0   Private   \n",
       "4          1             0              0             1   Private   \n",
       "...      ...           ...            ...           ...       ...   \n",
       "3995       0             0              0             0   Private   \n",
       "3996       0             0              0             1   Private   \n",
       "3997       2             1              0             1   Private   \n",
       "3998       1             0              0             1   Private   \n",
       "3999       1             1              0             1   Private   \n",
       "\n",
       "      Residence_type  avg_glucose_level        bmi  smoking_status blood  \\\n",
       "0                  0              85.81  18.600000               0     O   \n",
       "1                  1              89.17  31.463916               1     B   \n",
       "2                  0              98.53  18.500000               1     B   \n",
       "3                  1             108.89  52.300000               0     O   \n",
       "4                  0              91.44  31.338164               0     O   \n",
       "...              ...                ...        ...             ...   ...   \n",
       "3995               0              99.49  22.000000               0     B   \n",
       "3996               2              75.30  25.000000               2     B   \n",
       "3997               2             129.54  60.900000               3    AB   \n",
       "3998               0             172.33  45.300000               2     O   \n",
       "3999               1              62.55  30.300000               0     O   \n",
       "\n",
       "      stroke  age  bmi_category  \n",
       "0          0    7             1  \n",
       "1          0   55             3  \n",
       "2          0   42             1  \n",
       "3          0   31             3  \n",
       "4          0   38             3  \n",
       "...      ...  ...           ...  \n",
       "3995       0   16             1  \n",
       "3996       0   47             2  \n",
       "3997       0   57             3  \n",
       "3998       0   45             3  \n",
       "3999       1   53             3  \n",
       "\n",
       "[4000 rows x 13 columns]"
      ],
      "text/html": "<div>\n<style scoped>\n    .dataframe tbody tr th:only-of-type {\n        vertical-align: middle;\n    }\n\n    .dataframe tbody tr th {\n        vertical-align: top;\n    }\n\n    .dataframe thead th {\n        text-align: right;\n    }\n</style>\n<table border=\"1\" class=\"dataframe\">\n  <thead>\n    <tr style=\"text-align: right;\">\n      <th></th>\n      <th>gender</th>\n      <th>hypertension</th>\n      <th>heart_disease</th>\n      <th>ever_married</th>\n      <th>work_type</th>\n      <th>Residence_type</th>\n      <th>avg_glucose_level</th>\n      <th>bmi</th>\n      <th>smoking_status</th>\n      <th>blood</th>\n      <th>stroke</th>\n      <th>age</th>\n      <th>bmi_category</th>\n    </tr>\n  </thead>\n  <tbody>\n    <tr>\n      <th>0</th>\n      <td>1</td>\n      <td>0</td>\n      <td>0</td>\n      <td>0</td>\n      <td>children</td>\n      <td>0</td>\n      <td>85.81</td>\n      <td>18.600000</td>\n      <td>0</td>\n      <td>O</td>\n      <td>0</td>\n      <td>7</td>\n      <td>1</td>\n    </tr>\n    <tr>\n      <th>1</th>\n      <td>0</td>\n      <td>0</td>\n      <td>0</td>\n      <td>1</td>\n      <td>Private</td>\n      <td>1</td>\n      <td>89.17</td>\n      <td>31.463916</td>\n      <td>1</td>\n      <td>B</td>\n      <td>0</td>\n      <td>55</td>\n      <td>3</td>\n    </tr>\n    <tr>\n      <th>2</th>\n      <td>1</td>\n      <td>0</td>\n      <td>0</td>\n      <td>0</td>\n      <td>Private</td>\n      <td>0</td>\n      <td>98.53</td>\n      <td>18.500000</td>\n      <td>1</td>\n      <td>B</td>\n      <td>0</td>\n      <td>42</td>\n      <td>1</td>\n    </tr>\n    <tr>\n      <th>3</th>\n      <td>1</td>\n      <td>0</td>\n      <td>0</td>\n      <td>0</td>\n      <td>Private</td>\n      <td>1</td>\n      <td>108.89</td>\n      <td>52.300000</td>\n      <td>0</td>\n      <td>O</td>\n      <td>0</td>\n      <td>31</td>\n      <td>3</td>\n    </tr>\n    <tr>\n      <th>4</th>\n      <td>1</td>\n      <td>0</td>\n      <td>0</td>\n      <td>1</td>\n      <td>Private</td>\n      <td>0</td>\n      <td>91.44</td>\n      <td>31.338164</td>\n      <td>0</td>\n      <td>O</td>\n      <td>0</td>\n      <td>38</td>\n      <td>3</td>\n    </tr>\n    <tr>\n      <th>...</th>\n      <td>...</td>\n      <td>...</td>\n      <td>...</td>\n      <td>...</td>\n      <td>...</td>\n      <td>...</td>\n      <td>...</td>\n      <td>...</td>\n      <td>...</td>\n      <td>...</td>\n      <td>...</td>\n      <td>...</td>\n      <td>...</td>\n    </tr>\n    <tr>\n      <th>3995</th>\n      <td>0</td>\n      <td>0</td>\n      <td>0</td>\n      <td>0</td>\n      <td>Private</td>\n      <td>0</td>\n      <td>99.49</td>\n      <td>22.000000</td>\n      <td>0</td>\n      <td>B</td>\n      <td>0</td>\n      <td>16</td>\n      <td>1</td>\n    </tr>\n    <tr>\n      <th>3996</th>\n      <td>0</td>\n      <td>0</td>\n      <td>0</td>\n      <td>1</td>\n      <td>Private</td>\n      <td>2</td>\n      <td>75.30</td>\n      <td>25.000000</td>\n      <td>2</td>\n      <td>B</td>\n      <td>0</td>\n      <td>47</td>\n      <td>2</td>\n    </tr>\n    <tr>\n      <th>3997</th>\n      <td>2</td>\n      <td>1</td>\n      <td>0</td>\n      <td>1</td>\n      <td>Private</td>\n      <td>2</td>\n      <td>129.54</td>\n      <td>60.900000</td>\n      <td>3</td>\n      <td>AB</td>\n      <td>0</td>\n      <td>57</td>\n      <td>3</td>\n    </tr>\n    <tr>\n      <th>3998</th>\n      <td>1</td>\n      <td>0</td>\n      <td>0</td>\n      <td>1</td>\n      <td>Private</td>\n      <td>0</td>\n      <td>172.33</td>\n      <td>45.300000</td>\n      <td>2</td>\n      <td>O</td>\n      <td>0</td>\n      <td>45</td>\n      <td>3</td>\n    </tr>\n    <tr>\n      <th>3999</th>\n      <td>1</td>\n      <td>1</td>\n      <td>0</td>\n      <td>1</td>\n      <td>Private</td>\n      <td>1</td>\n      <td>62.55</td>\n      <td>30.300000</td>\n      <td>0</td>\n      <td>O</td>\n      <td>1</td>\n      <td>53</td>\n      <td>3</td>\n    </tr>\n  </tbody>\n</table>\n<p>4000 rows × 13 columns</p>\n</div>"
     },
     "metadata": {},
     "execution_count": 46
    }
   ],
   "source": [
    "raw_df"
   ]
  },
  {
   "cell_type": "code",
   "execution_count": 47,
   "metadata": {},
   "outputs": [
    {
     "output_type": "execute_result",
     "data": {
      "text/plain": [
       "array([0, 4, 2, 3, 1], dtype=int64)"
      ]
     },
     "metadata": {},
     "execution_count": 47
    }
   ],
   "source": [
    "work_type_mapping = {\"children\": 0, \"Private\": 4, \"Govt_job\": 2, \"Self-employed\": 3, \"Never_worked\": 1}\n",
    "raw_df['work_type'] = raw_df['work_type'].map(work_type_mapping)\n",
    "raw_df['work_type'].unique()"
   ]
  },
  {
   "cell_type": "code",
   "execution_count": 48,
   "metadata": {},
   "outputs": [
    {
     "output_type": "execute_result",
     "data": {
      "text/plain": [
       "array([3, 1, 2, 0], dtype=int64)"
      ]
     },
     "metadata": {},
     "execution_count": 48
    }
   ],
   "source": [
    "blood_mapping = {\"A\": 0, \"AB\": 2, \"O\": 3, \"B\": 1}\n",
    "raw_df['blood'] = raw_df['blood'].map(blood_mapping)\n",
    "raw_df['blood'].unique()"
   ]
  },
  {
   "cell_type": "code",
   "execution_count": 49,
   "metadata": {},
   "outputs": [],
   "source": [
    "from sklearn.preprocessing import StandardScaler\n",
    "std = StandardScaler()\n",
    "columns = ['avg_glucose_level','bmi','age']\n",
    "scaled = std.fit_transform(raw_df[columns])\n",
    "scaled = pd.DataFrame(scaled,columns=columns)\n",
    "raw_df=raw_df.drop(columns=columns,axis=1)\n"
   ]
  },
  {
   "cell_type": "code",
   "execution_count": 50,
   "metadata": {},
   "outputs": [
    {
     "output_type": "execute_result",
     "data": {
      "text/plain": [
       "      gender  hypertension  heart_disease  ever_married  work_type  \\\n",
       "0          1             0              0             0          0   \n",
       "1          0             0              0             1          4   \n",
       "2          1             0              0             0          4   \n",
       "3          1             0              0             0          4   \n",
       "4          1             0              0             1          4   \n",
       "...      ...           ...            ...           ...        ...   \n",
       "3995       0             0              0             0          4   \n",
       "3996       0             0              0             1          4   \n",
       "3997       2             1              0             1          4   \n",
       "3998       1             0              0             1          4   \n",
       "3999       1             1              0             1          4   \n",
       "\n",
       "      Residence_type  smoking_status  blood  stroke  bmi_category  \\\n",
       "0                  0               0      3       0             1   \n",
       "1                  1               1      1       0             3   \n",
       "2                  0               1      1       0             1   \n",
       "3                  1               0      3       0             3   \n",
       "4                  0               0      3       0             3   \n",
       "...              ...             ...    ...     ...           ...   \n",
       "3995               0               0      1       0             1   \n",
       "3996               2               2      1       0             2   \n",
       "3997               2               3      2       0             3   \n",
       "3998               0               2      3       0             3   \n",
       "3999               1               0      3       1             3   \n",
       "\n",
       "      avg_glucose_level       bmi       age  \n",
       "0             -0.462181 -1.472658 -1.611466  \n",
       "1             -0.385937  0.367944  0.542885  \n",
       "2             -0.173546 -1.486966 -0.040585  \n",
       "3              0.061538  3.349223 -0.534290  \n",
       "4             -0.334428  0.349951 -0.220114  \n",
       "...                 ...       ...       ...  \n",
       "3995          -0.151762 -0.986177 -1.207525  \n",
       "3996          -0.700668 -0.556930  0.183827  \n",
       "3997           0.530116  4.579732  0.632650  \n",
       "3998           1.501083  2.347645  0.094062  \n",
       "3999          -0.989984  0.201408  0.453121  \n",
       "\n",
       "[4000 rows x 13 columns]"
      ],
      "text/html": "<div>\n<style scoped>\n    .dataframe tbody tr th:only-of-type {\n        vertical-align: middle;\n    }\n\n    .dataframe tbody tr th {\n        vertical-align: top;\n    }\n\n    .dataframe thead th {\n        text-align: right;\n    }\n</style>\n<table border=\"1\" class=\"dataframe\">\n  <thead>\n    <tr style=\"text-align: right;\">\n      <th></th>\n      <th>gender</th>\n      <th>hypertension</th>\n      <th>heart_disease</th>\n      <th>ever_married</th>\n      <th>work_type</th>\n      <th>Residence_type</th>\n      <th>smoking_status</th>\n      <th>blood</th>\n      <th>stroke</th>\n      <th>bmi_category</th>\n      <th>avg_glucose_level</th>\n      <th>bmi</th>\n      <th>age</th>\n    </tr>\n  </thead>\n  <tbody>\n    <tr>\n      <th>0</th>\n      <td>1</td>\n      <td>0</td>\n      <td>0</td>\n      <td>0</td>\n      <td>0</td>\n      <td>0</td>\n      <td>0</td>\n      <td>3</td>\n      <td>0</td>\n      <td>1</td>\n      <td>-0.462181</td>\n      <td>-1.472658</td>\n      <td>-1.611466</td>\n    </tr>\n    <tr>\n      <th>1</th>\n      <td>0</td>\n      <td>0</td>\n      <td>0</td>\n      <td>1</td>\n      <td>4</td>\n      <td>1</td>\n      <td>1</td>\n      <td>1</td>\n      <td>0</td>\n      <td>3</td>\n      <td>-0.385937</td>\n      <td>0.367944</td>\n      <td>0.542885</td>\n    </tr>\n    <tr>\n      <th>2</th>\n      <td>1</td>\n      <td>0</td>\n      <td>0</td>\n      <td>0</td>\n      <td>4</td>\n      <td>0</td>\n      <td>1</td>\n      <td>1</td>\n      <td>0</td>\n      <td>1</td>\n      <td>-0.173546</td>\n      <td>-1.486966</td>\n      <td>-0.040585</td>\n    </tr>\n    <tr>\n      <th>3</th>\n      <td>1</td>\n      <td>0</td>\n      <td>0</td>\n      <td>0</td>\n      <td>4</td>\n      <td>1</td>\n      <td>0</td>\n      <td>3</td>\n      <td>0</td>\n      <td>3</td>\n      <td>0.061538</td>\n      <td>3.349223</td>\n      <td>-0.534290</td>\n    </tr>\n    <tr>\n      <th>4</th>\n      <td>1</td>\n      <td>0</td>\n      <td>0</td>\n      <td>1</td>\n      <td>4</td>\n      <td>0</td>\n      <td>0</td>\n      <td>3</td>\n      <td>0</td>\n      <td>3</td>\n      <td>-0.334428</td>\n      <td>0.349951</td>\n      <td>-0.220114</td>\n    </tr>\n    <tr>\n      <th>...</th>\n      <td>...</td>\n      <td>...</td>\n      <td>...</td>\n      <td>...</td>\n      <td>...</td>\n      <td>...</td>\n      <td>...</td>\n      <td>...</td>\n      <td>...</td>\n      <td>...</td>\n      <td>...</td>\n      <td>...</td>\n      <td>...</td>\n    </tr>\n    <tr>\n      <th>3995</th>\n      <td>0</td>\n      <td>0</td>\n      <td>0</td>\n      <td>0</td>\n      <td>4</td>\n      <td>0</td>\n      <td>0</td>\n      <td>1</td>\n      <td>0</td>\n      <td>1</td>\n      <td>-0.151762</td>\n      <td>-0.986177</td>\n      <td>-1.207525</td>\n    </tr>\n    <tr>\n      <th>3996</th>\n      <td>0</td>\n      <td>0</td>\n      <td>0</td>\n      <td>1</td>\n      <td>4</td>\n      <td>2</td>\n      <td>2</td>\n      <td>1</td>\n      <td>0</td>\n      <td>2</td>\n      <td>-0.700668</td>\n      <td>-0.556930</td>\n      <td>0.183827</td>\n    </tr>\n    <tr>\n      <th>3997</th>\n      <td>2</td>\n      <td>1</td>\n      <td>0</td>\n      <td>1</td>\n      <td>4</td>\n      <td>2</td>\n      <td>3</td>\n      <td>2</td>\n      <td>0</td>\n      <td>3</td>\n      <td>0.530116</td>\n      <td>4.579732</td>\n      <td>0.632650</td>\n    </tr>\n    <tr>\n      <th>3998</th>\n      <td>1</td>\n      <td>0</td>\n      <td>0</td>\n      <td>1</td>\n      <td>4</td>\n      <td>0</td>\n      <td>2</td>\n      <td>3</td>\n      <td>0</td>\n      <td>3</td>\n      <td>1.501083</td>\n      <td>2.347645</td>\n      <td>0.094062</td>\n    </tr>\n    <tr>\n      <th>3999</th>\n      <td>1</td>\n      <td>1</td>\n      <td>0</td>\n      <td>1</td>\n      <td>4</td>\n      <td>1</td>\n      <td>0</td>\n      <td>3</td>\n      <td>1</td>\n      <td>3</td>\n      <td>-0.989984</td>\n      <td>0.201408</td>\n      <td>0.453121</td>\n    </tr>\n  </tbody>\n</table>\n<p>4000 rows × 13 columns</p>\n</div>"
     },
     "metadata": {},
     "execution_count": 50
    }
   ],
   "source": [
    "raw_df = raw_df.reset_index(drop=True)\n",
    "raw_df = raw_df.merge(scaled, left_index=True, right_index=True, how = \"left\")\n",
    "raw_df"
   ]
  },
  {
   "cell_type": "code",
   "execution_count": 51,
   "metadata": {},
   "outputs": [
    {
     "output_type": "execute_result",
     "data": {
      "text/plain": [
       "      gender  hypertension  heart_disease  ever_married  work_type  \\\n",
       "0          1             0              0             0          0   \n",
       "1          0             0              0             1          4   \n",
       "2          1             0              0             0          4   \n",
       "3          1             0              0             0          4   \n",
       "4          1             0              0             1          4   \n",
       "...      ...           ...            ...           ...        ...   \n",
       "3995       0             0              0             0          4   \n",
       "3996       0             0              0             1          4   \n",
       "3997       2             1              0             1          4   \n",
       "3998       1             0              0             1          4   \n",
       "3999       1             1              0             1          4   \n",
       "\n",
       "      Residence_type  smoking_status  blood  stroke  bmi_category  \\\n",
       "0                  0               0      3       0             1   \n",
       "1                  1               1      1       0             3   \n",
       "2                  0               1      1       0             1   \n",
       "3                  1               0      3       0             3   \n",
       "4                  0               0      3       0             3   \n",
       "...              ...             ...    ...     ...           ...   \n",
       "3995               0               0      1       0             1   \n",
       "3996               2               2      1       0             2   \n",
       "3997               2               3      2       0             3   \n",
       "3998               0               2      3       0             3   \n",
       "3999               1               0      3       1             3   \n",
       "\n",
       "      avg_glucose_level       bmi       age  \n",
       "0             -0.462181 -1.472658 -1.611466  \n",
       "1             -0.385937  0.367944  0.542885  \n",
       "2             -0.173546 -1.486966 -0.040585  \n",
       "3              0.061538  3.349223 -0.534290  \n",
       "4             -0.334428  0.349951 -0.220114  \n",
       "...                 ...       ...       ...  \n",
       "3995          -0.151762 -0.986177 -1.207525  \n",
       "3996          -0.700668 -0.556930  0.183827  \n",
       "3997           0.530116  4.579732  0.632650  \n",
       "3998           1.501083  2.347645  0.094062  \n",
       "3999          -0.989984  0.201408  0.453121  \n",
       "\n",
       "[4000 rows x 13 columns]"
      ],
      "text/html": "<div>\n<style scoped>\n    .dataframe tbody tr th:only-of-type {\n        vertical-align: middle;\n    }\n\n    .dataframe tbody tr th {\n        vertical-align: top;\n    }\n\n    .dataframe thead th {\n        text-align: right;\n    }\n</style>\n<table border=\"1\" class=\"dataframe\">\n  <thead>\n    <tr style=\"text-align: right;\">\n      <th></th>\n      <th>gender</th>\n      <th>hypertension</th>\n      <th>heart_disease</th>\n      <th>ever_married</th>\n      <th>work_type</th>\n      <th>Residence_type</th>\n      <th>smoking_status</th>\n      <th>blood</th>\n      <th>stroke</th>\n      <th>bmi_category</th>\n      <th>avg_glucose_level</th>\n      <th>bmi</th>\n      <th>age</th>\n    </tr>\n  </thead>\n  <tbody>\n    <tr>\n      <th>0</th>\n      <td>1</td>\n      <td>0</td>\n      <td>0</td>\n      <td>0</td>\n      <td>0</td>\n      <td>0</td>\n      <td>0</td>\n      <td>3</td>\n      <td>0</td>\n      <td>1</td>\n      <td>-0.462181</td>\n      <td>-1.472658</td>\n      <td>-1.611466</td>\n    </tr>\n    <tr>\n      <th>1</th>\n      <td>0</td>\n      <td>0</td>\n      <td>0</td>\n      <td>1</td>\n      <td>4</td>\n      <td>1</td>\n      <td>1</td>\n      <td>1</td>\n      <td>0</td>\n      <td>3</td>\n      <td>-0.385937</td>\n      <td>0.367944</td>\n      <td>0.542885</td>\n    </tr>\n    <tr>\n      <th>2</th>\n      <td>1</td>\n      <td>0</td>\n      <td>0</td>\n      <td>0</td>\n      <td>4</td>\n      <td>0</td>\n      <td>1</td>\n      <td>1</td>\n      <td>0</td>\n      <td>1</td>\n      <td>-0.173546</td>\n      <td>-1.486966</td>\n      <td>-0.040585</td>\n    </tr>\n    <tr>\n      <th>3</th>\n      <td>1</td>\n      <td>0</td>\n      <td>0</td>\n      <td>0</td>\n      <td>4</td>\n      <td>1</td>\n      <td>0</td>\n      <td>3</td>\n      <td>0</td>\n      <td>3</td>\n      <td>0.061538</td>\n      <td>3.349223</td>\n      <td>-0.534290</td>\n    </tr>\n    <tr>\n      <th>4</th>\n      <td>1</td>\n      <td>0</td>\n      <td>0</td>\n      <td>1</td>\n      <td>4</td>\n      <td>0</td>\n      <td>0</td>\n      <td>3</td>\n      <td>0</td>\n      <td>3</td>\n      <td>-0.334428</td>\n      <td>0.349951</td>\n      <td>-0.220114</td>\n    </tr>\n    <tr>\n      <th>...</th>\n      <td>...</td>\n      <td>...</td>\n      <td>...</td>\n      <td>...</td>\n      <td>...</td>\n      <td>...</td>\n      <td>...</td>\n      <td>...</td>\n      <td>...</td>\n      <td>...</td>\n      <td>...</td>\n      <td>...</td>\n      <td>...</td>\n    </tr>\n    <tr>\n      <th>3995</th>\n      <td>0</td>\n      <td>0</td>\n      <td>0</td>\n      <td>0</td>\n      <td>4</td>\n      <td>0</td>\n      <td>0</td>\n      <td>1</td>\n      <td>0</td>\n      <td>1</td>\n      <td>-0.151762</td>\n      <td>-0.986177</td>\n      <td>-1.207525</td>\n    </tr>\n    <tr>\n      <th>3996</th>\n      <td>0</td>\n      <td>0</td>\n      <td>0</td>\n      <td>1</td>\n      <td>4</td>\n      <td>2</td>\n      <td>2</td>\n      <td>1</td>\n      <td>0</td>\n      <td>2</td>\n      <td>-0.700668</td>\n      <td>-0.556930</td>\n      <td>0.183827</td>\n    </tr>\n    <tr>\n      <th>3997</th>\n      <td>2</td>\n      <td>1</td>\n      <td>0</td>\n      <td>1</td>\n      <td>4</td>\n      <td>2</td>\n      <td>3</td>\n      <td>2</td>\n      <td>0</td>\n      <td>3</td>\n      <td>0.530116</td>\n      <td>4.579732</td>\n      <td>0.632650</td>\n    </tr>\n    <tr>\n      <th>3998</th>\n      <td>1</td>\n      <td>0</td>\n      <td>0</td>\n      <td>1</td>\n      <td>4</td>\n      <td>0</td>\n      <td>2</td>\n      <td>3</td>\n      <td>0</td>\n      <td>3</td>\n      <td>1.501083</td>\n      <td>2.347645</td>\n      <td>0.094062</td>\n    </tr>\n    <tr>\n      <th>3999</th>\n      <td>1</td>\n      <td>1</td>\n      <td>0</td>\n      <td>1</td>\n      <td>4</td>\n      <td>1</td>\n      <td>0</td>\n      <td>3</td>\n      <td>1</td>\n      <td>3</td>\n      <td>-0.989984</td>\n      <td>0.201408</td>\n      <td>0.453121</td>\n    </tr>\n  </tbody>\n</table>\n<p>4000 rows × 13 columns</p>\n</div>"
     },
     "metadata": {},
     "execution_count": 51
    }
   ],
   "source": [
    "raw_df"
   ]
  },
  {
   "cell_type": "code",
   "execution_count": 52,
   "metadata": {},
   "outputs": [],
   "source": [
    "raw_df.to_csv('./Dataset/le_fillall.csv', index=False)"
   ]
  },
  {
   "cell_type": "code",
   "execution_count": null,
   "metadata": {},
   "outputs": [],
   "source": []
  },
  {
   "source": [
    "# XGBoost"
   ],
   "cell_type": "markdown",
   "metadata": {}
  },
  {
   "cell_type": "code",
   "execution_count": 53,
   "metadata": {},
   "outputs": [],
   "source": [
    "x = raw_df.copy()\n",
    "x = x.drop(columns='stroke')\n",
    "y = raw_df['stroke']"
   ]
  },
  {
   "cell_type": "code",
   "execution_count": 54,
   "metadata": {},
   "outputs": [],
   "source": [
    "smote = SMOTE()\n",
    "x_smote, y_smote = smote.fit_resample(x, y)\n",
    "x_train, x_test, y_train, y_test = train_test_split(x_smote, y_smote, test_size= 0.2, random_state= 42)"
   ]
  },
  {
   "cell_type": "code",
   "execution_count": 55,
   "metadata": {},
   "outputs": [
    {
     "output_type": "stream",
     "name": "stderr",
     "text": [
      "d:\\Bach Khoa\\Machine Learning\\Stroke-Prediction\\Stroke_Env\\lib\\site-packages\\xgboost\\sklearn.py:1146: UserWarning: The use of label encoder in XGBClassifier is deprecated and will be removed in a future release. To remove this warning, do the following: 1) Pass option use_label_encoder=False when constructing XGBClassifier object; and 2) Encode your labels (y) as integers starting with 0, i.e. 0, 1, 2, ..., [num_class - 1].\n",
      "  warnings.warn(label_encoder_deprecation_msg, UserWarning)\n",
      "[01:16:45] WARNING: C:/Users/Administrator/workspace/xgboost-win64_release_1.4.0/src/learner.cc:1095: Starting in XGBoost 1.3.0, the default evaluation metric used with the objective 'binary:logistic' was changed from 'error' to 'logloss'. Explicitly set eval_metric if you'd like to restore the old behavior.\n"
     ]
    },
    {
     "output_type": "execute_result",
     "data": {
      "text/plain": [
       "0.9799612152553329"
      ]
     },
     "metadata": {},
     "execution_count": 55
    }
   ],
   "source": [
    "import xgboost as xgb\n",
    "model_xgb = xgb.XGBClassifier()\n",
    "model_xgb.fit(x_train, y_train)\n",
    "y_xgb_pred = model_xgb.predict(x_test)\n",
    "f1_score(y_test, y_xgb_pred)"
   ]
  },
  {
   "cell_type": "code",
   "execution_count": 57,
   "metadata": {},
   "outputs": [
    {
     "output_type": "execute_result",
     "data": {
      "text/plain": [
       "        id  gender   age  hypertension  heart_disease ever_married  \\\n",
       "0       67  Female  17.0           0.0            0.0           No   \n",
       "1      210    Male  81.0           0.0            0.0          Yes   \n",
       "2      242    Male   4.0           NaN            0.0           No   \n",
       "3      711    Male  81.0           0.0            NaN          Yes   \n",
       "4      724    Male  17.0           0.0            0.0           No   \n",
       "..     ...     ...   ...           ...            ...          ...   \n",
       "495  72393  Female  23.0           0.0            NaN          Yes   \n",
       "496  72491    Male  53.0           0.0            0.0          Yes   \n",
       "497  72562  Female  57.0           0.0            NaN          Yes   \n",
       "498  72792  Female  53.0           NaN            0.0          Yes   \n",
       "499  72940  Female   2.0           0.0            NaN           No   \n",
       "\n",
       "         work_type Residence_type  avg_glucose_level   bmi   smoking_status  \\\n",
       "0          Private          Urban              92.97   NaN  formerly smoked   \n",
       "1    Self-employed          Rural              91.54  31.4     never smoked   \n",
       "2         children          Urban              98.56  17.5          Unknown   \n",
       "3          Private          Rural              92.96  22.2     never smoked   \n",
       "4          Private          Rural              81.77  44.7     never smoked   \n",
       "..             ...            ...                ...   ...              ...   \n",
       "495       Govt_job          Rural              84.93  24.2     never smoked   \n",
       "496        Private          Urban              74.66  29.2           smokes   \n",
       "497        Private          Rural              64.37  32.8     never smoked   \n",
       "498        Private          Rural              77.94   NaN     never smoked   \n",
       "499       children          Urban             102.92  17.6          Unknown   \n",
       "\n",
       "    blood  height  \n",
       "0      AB     NaN  \n",
       "1       A    1.60  \n",
       "2       O     NaN  \n",
       "3      AB     NaN  \n",
       "4       O    1.34  \n",
       "..    ...     ...  \n",
       "495     A    1.82  \n",
       "496     O    1.66  \n",
       "497    AB    1.56  \n",
       "498    AB    1.56  \n",
       "499    AB     NaN  \n",
       "\n",
       "[500 rows x 13 columns]"
      ],
      "text/html": "<div>\n<style scoped>\n    .dataframe tbody tr th:only-of-type {\n        vertical-align: middle;\n    }\n\n    .dataframe tbody tr th {\n        vertical-align: top;\n    }\n\n    .dataframe thead th {\n        text-align: right;\n    }\n</style>\n<table border=\"1\" class=\"dataframe\">\n  <thead>\n    <tr style=\"text-align: right;\">\n      <th></th>\n      <th>id</th>\n      <th>gender</th>\n      <th>age</th>\n      <th>hypertension</th>\n      <th>heart_disease</th>\n      <th>ever_married</th>\n      <th>work_type</th>\n      <th>Residence_type</th>\n      <th>avg_glucose_level</th>\n      <th>bmi</th>\n      <th>smoking_status</th>\n      <th>blood</th>\n      <th>height</th>\n    </tr>\n  </thead>\n  <tbody>\n    <tr>\n      <th>0</th>\n      <td>67</td>\n      <td>Female</td>\n      <td>17.0</td>\n      <td>0.0</td>\n      <td>0.0</td>\n      <td>No</td>\n      <td>Private</td>\n      <td>Urban</td>\n      <td>92.97</td>\n      <td>NaN</td>\n      <td>formerly smoked</td>\n      <td>AB</td>\n      <td>NaN</td>\n    </tr>\n    <tr>\n      <th>1</th>\n      <td>210</td>\n      <td>Male</td>\n      <td>81.0</td>\n      <td>0.0</td>\n      <td>0.0</td>\n      <td>Yes</td>\n      <td>Self-employed</td>\n      <td>Rural</td>\n      <td>91.54</td>\n      <td>31.4</td>\n      <td>never smoked</td>\n      <td>A</td>\n      <td>1.60</td>\n    </tr>\n    <tr>\n      <th>2</th>\n      <td>242</td>\n      <td>Male</td>\n      <td>4.0</td>\n      <td>NaN</td>\n      <td>0.0</td>\n      <td>No</td>\n      <td>children</td>\n      <td>Urban</td>\n      <td>98.56</td>\n      <td>17.5</td>\n      <td>Unknown</td>\n      <td>O</td>\n      <td>NaN</td>\n    </tr>\n    <tr>\n      <th>3</th>\n      <td>711</td>\n      <td>Male</td>\n      <td>81.0</td>\n      <td>0.0</td>\n      <td>NaN</td>\n      <td>Yes</td>\n      <td>Private</td>\n      <td>Rural</td>\n      <td>92.96</td>\n      <td>22.2</td>\n      <td>never smoked</td>\n      <td>AB</td>\n      <td>NaN</td>\n    </tr>\n    <tr>\n      <th>4</th>\n      <td>724</td>\n      <td>Male</td>\n      <td>17.0</td>\n      <td>0.0</td>\n      <td>0.0</td>\n      <td>No</td>\n      <td>Private</td>\n      <td>Rural</td>\n      <td>81.77</td>\n      <td>44.7</td>\n      <td>never smoked</td>\n      <td>O</td>\n      <td>1.34</td>\n    </tr>\n    <tr>\n      <th>...</th>\n      <td>...</td>\n      <td>...</td>\n      <td>...</td>\n      <td>...</td>\n      <td>...</td>\n      <td>...</td>\n      <td>...</td>\n      <td>...</td>\n      <td>...</td>\n      <td>...</td>\n      <td>...</td>\n      <td>...</td>\n      <td>...</td>\n    </tr>\n    <tr>\n      <th>495</th>\n      <td>72393</td>\n      <td>Female</td>\n      <td>23.0</td>\n      <td>0.0</td>\n      <td>NaN</td>\n      <td>Yes</td>\n      <td>Govt_job</td>\n      <td>Rural</td>\n      <td>84.93</td>\n      <td>24.2</td>\n      <td>never smoked</td>\n      <td>A</td>\n      <td>1.82</td>\n    </tr>\n    <tr>\n      <th>496</th>\n      <td>72491</td>\n      <td>Male</td>\n      <td>53.0</td>\n      <td>0.0</td>\n      <td>0.0</td>\n      <td>Yes</td>\n      <td>Private</td>\n      <td>Urban</td>\n      <td>74.66</td>\n      <td>29.2</td>\n      <td>smokes</td>\n      <td>O</td>\n      <td>1.66</td>\n    </tr>\n    <tr>\n      <th>497</th>\n      <td>72562</td>\n      <td>Female</td>\n      <td>57.0</td>\n      <td>0.0</td>\n      <td>NaN</td>\n      <td>Yes</td>\n      <td>Private</td>\n      <td>Rural</td>\n      <td>64.37</td>\n      <td>32.8</td>\n      <td>never smoked</td>\n      <td>AB</td>\n      <td>1.56</td>\n    </tr>\n    <tr>\n      <th>498</th>\n      <td>72792</td>\n      <td>Female</td>\n      <td>53.0</td>\n      <td>NaN</td>\n      <td>0.0</td>\n      <td>Yes</td>\n      <td>Private</td>\n      <td>Rural</td>\n      <td>77.94</td>\n      <td>NaN</td>\n      <td>never smoked</td>\n      <td>AB</td>\n      <td>1.56</td>\n    </tr>\n    <tr>\n      <th>499</th>\n      <td>72940</td>\n      <td>Female</td>\n      <td>2.0</td>\n      <td>0.0</td>\n      <td>NaN</td>\n      <td>No</td>\n      <td>children</td>\n      <td>Urban</td>\n      <td>102.92</td>\n      <td>17.6</td>\n      <td>Unknown</td>\n      <td>AB</td>\n      <td>NaN</td>\n    </tr>\n  </tbody>\n</table>\n<p>500 rows × 13 columns</p>\n</div>"
     },
     "metadata": {},
     "execution_count": 57
    }
   ],
   "source": [
    "public_test = pd.read_csv(\"./Dataset/public_test.csv\")\n",
    "public_test"
   ]
  },
  {
   "cell_type": "code",
   "execution_count": 60,
   "metadata": {},
   "outputs": [],
   "source": [
    "x_public_test = public_test.copy()\n",
    "x_public_test.drop(columns=['id'],inplace=True)\n",
    "id_public_test = public_test['id']"
   ]
  },
  {
   "cell_type": "code",
   "execution_count": 61,
   "metadata": {},
   "outputs": [
    {
     "output_type": "error",
     "ename": "ValueError",
     "evalue": "could not convert string to float: 'Female'",
     "traceback": [
      "\u001b[1;31m---------------------------------------------------------------------------\u001b[0m",
      "\u001b[1;31mValueError\u001b[0m                                Traceback (most recent call last)",
      "\u001b[1;32m<ipython-input-61-d754f663debc>\u001b[0m in \u001b[0;36m<module>\u001b[1;34m\u001b[0m\n\u001b[1;32m----> 1\u001b[1;33m \u001b[0my_predict\u001b[0m \u001b[1;33m=\u001b[0m \u001b[0mmodel_xgb\u001b[0m\u001b[1;33m.\u001b[0m\u001b[0mpredict\u001b[0m\u001b[1;33m(\u001b[0m\u001b[0mx_public_test\u001b[0m\u001b[1;33m)\u001b[0m\u001b[1;33m\u001b[0m\u001b[1;33m\u001b[0m\u001b[0m\n\u001b[0m",
      "\u001b[1;32md:\\Bach Khoa\\Machine Learning\\Stroke-Prediction\\Stroke_Env\\lib\\site-packages\\xgboost\\sklearn.py\u001b[0m in \u001b[0;36mpredict\u001b[1;34m(self, X, output_margin, ntree_limit, validate_features, base_margin, iteration_range)\u001b[0m\n\u001b[0;32m   1207\u001b[0m         \u001b[0miteration_range\u001b[0m\u001b[1;33m:\u001b[0m \u001b[0mOptional\u001b[0m\u001b[1;33m[\u001b[0m\u001b[0mTuple\u001b[0m\u001b[1;33m[\u001b[0m\u001b[0mint\u001b[0m\u001b[1;33m,\u001b[0m \u001b[0mint\u001b[0m\u001b[1;33m]\u001b[0m\u001b[1;33m]\u001b[0m \u001b[1;33m=\u001b[0m \u001b[1;32mNone\u001b[0m\u001b[1;33m,\u001b[0m\u001b[1;33m\u001b[0m\u001b[1;33m\u001b[0m\u001b[0m\n\u001b[0;32m   1208\u001b[0m     ):\n\u001b[1;32m-> 1209\u001b[1;33m         class_probs = super().predict(\n\u001b[0m\u001b[0;32m   1210\u001b[0m             \u001b[0mX\u001b[0m\u001b[1;33m=\u001b[0m\u001b[0mX\u001b[0m\u001b[1;33m,\u001b[0m\u001b[1;33m\u001b[0m\u001b[1;33m\u001b[0m\u001b[0m\n\u001b[0;32m   1211\u001b[0m             \u001b[0moutput_margin\u001b[0m\u001b[1;33m=\u001b[0m\u001b[0moutput_margin\u001b[0m\u001b[1;33m,\u001b[0m\u001b[1;33m\u001b[0m\u001b[1;33m\u001b[0m\u001b[0m\n",
      "\u001b[1;32md:\\Bach Khoa\\Machine Learning\\Stroke-Prediction\\Stroke_Env\\lib\\site-packages\\xgboost\\sklearn.py\u001b[0m in \u001b[0;36mpredict\u001b[1;34m(self, X, output_margin, ntree_limit, validate_features, base_margin, iteration_range)\u001b[0m\n\u001b[0;32m    818\u001b[0m         \u001b[1;32mif\u001b[0m \u001b[0mself\u001b[0m\u001b[1;33m.\u001b[0m\u001b[0m_can_use_inplace_predict\u001b[0m\u001b[1;33m(\u001b[0m\u001b[1;33m)\u001b[0m\u001b[1;33m:\u001b[0m\u001b[1;33m\u001b[0m\u001b[1;33m\u001b[0m\u001b[0m\n\u001b[0;32m    819\u001b[0m             \u001b[1;32mtry\u001b[0m\u001b[1;33m:\u001b[0m\u001b[1;33m\u001b[0m\u001b[1;33m\u001b[0m\u001b[0m\n\u001b[1;32m--> 820\u001b[1;33m                 predts = self.get_booster().inplace_predict(\n\u001b[0m\u001b[0;32m    821\u001b[0m                     \u001b[0mdata\u001b[0m\u001b[1;33m=\u001b[0m\u001b[0mX\u001b[0m\u001b[1;33m,\u001b[0m\u001b[1;33m\u001b[0m\u001b[1;33m\u001b[0m\u001b[0m\n\u001b[0;32m    822\u001b[0m                     \u001b[0miteration_range\u001b[0m\u001b[1;33m=\u001b[0m\u001b[0miteration_range\u001b[0m\u001b[1;33m,\u001b[0m\u001b[1;33m\u001b[0m\u001b[1;33m\u001b[0m\u001b[0m\n",
      "\u001b[1;32md:\\Bach Khoa\\Machine Learning\\Stroke-Prediction\\Stroke_Env\\lib\\site-packages\\xgboost\\core.py\u001b[0m in \u001b[0;36minplace_predict\u001b[1;34m(self, data, iteration_range, predict_type, missing, validate_features, base_margin, strict_shape)\u001b[0m\n\u001b[0;32m   1846\u001b[0m         \u001b[1;32mif\u001b[0m \u001b[0misinstance\u001b[0m\u001b[1;33m(\u001b[0m\u001b[0mdata\u001b[0m\u001b[1;33m,\u001b[0m \u001b[0mnp\u001b[0m\u001b[1;33m.\u001b[0m\u001b[0mndarray\u001b[0m\u001b[1;33m)\u001b[0m\u001b[1;33m:\u001b[0m\u001b[1;33m\u001b[0m\u001b[1;33m\u001b[0m\u001b[0m\n\u001b[0;32m   1847\u001b[0m             \u001b[1;32mfrom\u001b[0m \u001b[1;33m.\u001b[0m\u001b[0mdata\u001b[0m \u001b[1;32mimport\u001b[0m \u001b[0m_ensure_np_dtype\u001b[0m\u001b[1;33m\u001b[0m\u001b[1;33m\u001b[0m\u001b[0m\n\u001b[1;32m-> 1848\u001b[1;33m             \u001b[0mdata\u001b[0m\u001b[1;33m,\u001b[0m \u001b[0m_\u001b[0m \u001b[1;33m=\u001b[0m \u001b[0m_ensure_np_dtype\u001b[0m\u001b[1;33m(\u001b[0m\u001b[0mdata\u001b[0m\u001b[1;33m,\u001b[0m \u001b[0mdata\u001b[0m\u001b[1;33m.\u001b[0m\u001b[0mdtype\u001b[0m\u001b[1;33m)\u001b[0m\u001b[1;33m\u001b[0m\u001b[1;33m\u001b[0m\u001b[0m\n\u001b[0m\u001b[0;32m   1849\u001b[0m             _check_call(\n\u001b[0;32m   1850\u001b[0m                 _LIB.XGBoosterPredictFromDense(\n",
      "\u001b[1;32md:\\Bach Khoa\\Machine Learning\\Stroke-Prediction\\Stroke_Env\\lib\\site-packages\\xgboost\\data.py\u001b[0m in \u001b[0;36m_ensure_np_dtype\u001b[1;34m(data, dtype)\u001b[0m\n\u001b[0;32m    107\u001b[0m \u001b[1;32mdef\u001b[0m \u001b[0m_ensure_np_dtype\u001b[0m\u001b[1;33m(\u001b[0m\u001b[0mdata\u001b[0m\u001b[1;33m,\u001b[0m \u001b[0mdtype\u001b[0m\u001b[1;33m)\u001b[0m\u001b[1;33m:\u001b[0m\u001b[1;33m\u001b[0m\u001b[1;33m\u001b[0m\u001b[0m\n\u001b[0;32m    108\u001b[0m     \u001b[1;32mif\u001b[0m \u001b[0mdata\u001b[0m\u001b[1;33m.\u001b[0m\u001b[0mdtype\u001b[0m\u001b[1;33m.\u001b[0m\u001b[0mhasobject\u001b[0m\u001b[1;33m:\u001b[0m\u001b[1;33m\u001b[0m\u001b[1;33m\u001b[0m\u001b[0m\n\u001b[1;32m--> 109\u001b[1;33m         \u001b[0mdata\u001b[0m \u001b[1;33m=\u001b[0m \u001b[0mdata\u001b[0m\u001b[1;33m.\u001b[0m\u001b[0mastype\u001b[0m\u001b[1;33m(\u001b[0m\u001b[0mnp\u001b[0m\u001b[1;33m.\u001b[0m\u001b[0mfloat32\u001b[0m\u001b[1;33m,\u001b[0m \u001b[0mcopy\u001b[0m\u001b[1;33m=\u001b[0m\u001b[1;32mFalse\u001b[0m\u001b[1;33m)\u001b[0m\u001b[1;33m\u001b[0m\u001b[1;33m\u001b[0m\u001b[0m\n\u001b[0m\u001b[0;32m    110\u001b[0m         \u001b[0mdtype\u001b[0m \u001b[1;33m=\u001b[0m \u001b[0mnp\u001b[0m\u001b[1;33m.\u001b[0m\u001b[0mfloat32\u001b[0m\u001b[1;33m\u001b[0m\u001b[1;33m\u001b[0m\u001b[0m\n\u001b[0;32m    111\u001b[0m     \u001b[1;32mreturn\u001b[0m \u001b[0mdata\u001b[0m\u001b[1;33m,\u001b[0m \u001b[0mdtype\u001b[0m\u001b[1;33m\u001b[0m\u001b[1;33m\u001b[0m\u001b[0m\n",
      "\u001b[1;31mValueError\u001b[0m: could not convert string to float: 'Female'"
     ]
    }
   ],
   "source": [
    "y_predict = model_xgb.predict(x_public_test)"
   ]
  },
  {
   "cell_type": "code",
   "execution_count": null,
   "metadata": {},
   "outputs": [],
   "source": []
  }
 ]
}