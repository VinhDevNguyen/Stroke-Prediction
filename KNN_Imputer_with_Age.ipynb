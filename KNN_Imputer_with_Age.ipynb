{
 "metadata": {
  "language_info": {
   "codemirror_mode": {
    "name": "ipython",
    "version": 3
   },
   "file_extension": ".py",
   "mimetype": "text/x-python",
   "name": "python",
   "nbconvert_exporter": "python",
   "pygments_lexer": "ipython3",
   "version": "3.8.5"
  },
  "orig_nbformat": 2,
  "kernelspec": {
   "name": "python385jvsc74a57bd01f4e33760a034530d14b2a7b5c7f382bc2049024f7abe4fc2e79344349930bf9",
   "display_name": "Python 3.8.5 64-bit ('Stroke_Env': venv)"
  }
 },
 "nbformat": 4,
 "nbformat_minor": 2,
 "cells": [
  {
   "cell_type": "code",
   "execution_count": 1,
   "metadata": {},
   "outputs": [],
   "source": [
    "import pandas as pd\n",
    "import sklearn\n",
    "import matplotlib.pyplot as plt\n",
    "import seaborn as sns\n",
    "import numpy as np\n",
    "from numpy import mean, std\n",
    "from sklearn.linear_model import LinearRegression\n",
    "from sklearn.metrics import f1_score, roc_auc_score, confusion_matrix\n",
    "from sklearn.preprocessing import StandardScaler, OneHotEncoder, LabelEncoder\n",
    "from sklearn.ensemble import RandomForestClassifier\n",
    "from sklearn.pipeline import Pipeline\n",
    "from sklearn.impute import KNNImputer\n",
    "from sklearn.neighbors import KNeighborsRegressor\n",
    "from sklearn.model_selection import train_test_split, RepeatedStratifiedKFold, cross_val_score\n",
    "from imblearn.over_sampling import SMOTE"
   ]
  },
  {
   "cell_type": "code",
   "execution_count": 2,
   "metadata": {},
   "outputs": [
    {
     "output_type": "execute_result",
     "data": {
      "text/plain": [
       "      gender   age  hypertension  heart_disease  ever_married work_type  \\\n",
       "0     Female   NaN           0.0            0.0             0  children   \n",
       "1       Male  55.0           0.0            0.0             1   Private   \n",
       "2     Female  42.0           0.0            0.0             0   Private   \n",
       "3     Female  31.0           0.0            0.0             0   Private   \n",
       "4     Female  38.0           0.0            0.0             1   Private   \n",
       "...      ...   ...           ...            ...           ...       ...   \n",
       "3995    Male  16.0           0.0            0.0             0   Private   \n",
       "3996    Male  47.0           0.0            0.0             1   Private   \n",
       "3997   Other  57.0           1.0            0.0             1   Private   \n",
       "3998  Female  45.0           0.0            0.0             1   Private   \n",
       "3999  Female  53.0           1.0            0.0             1   Private   \n",
       "\n",
       "      Residence_type  avg_glucose_level   bmi  smoking_status blood  stroke  \n",
       "0                NaN              85.81  18.6             NaN     O       0  \n",
       "1                0.0              89.17   NaN             0.0     B       0  \n",
       "2                NaN              98.53  18.5             0.0     B       0  \n",
       "3                0.0             108.89  52.3             NaN     O       0  \n",
       "4                NaN              91.44   NaN             NaN     O       0  \n",
       "...              ...                ...   ...             ...   ...     ...  \n",
       "3995             NaN              99.49  22.0             NaN     B       0  \n",
       "3996             1.0              75.30  25.0             1.0     B       0  \n",
       "3997             1.0             129.54  60.9             2.0    AB       0  \n",
       "3998             NaN             172.33  45.3             1.0     O       0  \n",
       "3999             0.0              62.55  30.3             NaN     O       1  \n",
       "\n",
       "[4000 rows x 12 columns]"
      ],
      "text/html": "<div>\n<style scoped>\n    .dataframe tbody tr th:only-of-type {\n        vertical-align: middle;\n    }\n\n    .dataframe tbody tr th {\n        vertical-align: top;\n    }\n\n    .dataframe thead th {\n        text-align: right;\n    }\n</style>\n<table border=\"1\" class=\"dataframe\">\n  <thead>\n    <tr style=\"text-align: right;\">\n      <th></th>\n      <th>gender</th>\n      <th>age</th>\n      <th>hypertension</th>\n      <th>heart_disease</th>\n      <th>ever_married</th>\n      <th>work_type</th>\n      <th>Residence_type</th>\n      <th>avg_glucose_level</th>\n      <th>bmi</th>\n      <th>smoking_status</th>\n      <th>blood</th>\n      <th>stroke</th>\n    </tr>\n  </thead>\n  <tbody>\n    <tr>\n      <th>0</th>\n      <td>Female</td>\n      <td>NaN</td>\n      <td>0.0</td>\n      <td>0.0</td>\n      <td>0</td>\n      <td>children</td>\n      <td>NaN</td>\n      <td>85.81</td>\n      <td>18.6</td>\n      <td>NaN</td>\n      <td>O</td>\n      <td>0</td>\n    </tr>\n    <tr>\n      <th>1</th>\n      <td>Male</td>\n      <td>55.0</td>\n      <td>0.0</td>\n      <td>0.0</td>\n      <td>1</td>\n      <td>Private</td>\n      <td>0.0</td>\n      <td>89.17</td>\n      <td>NaN</td>\n      <td>0.0</td>\n      <td>B</td>\n      <td>0</td>\n    </tr>\n    <tr>\n      <th>2</th>\n      <td>Female</td>\n      <td>42.0</td>\n      <td>0.0</td>\n      <td>0.0</td>\n      <td>0</td>\n      <td>Private</td>\n      <td>NaN</td>\n      <td>98.53</td>\n      <td>18.5</td>\n      <td>0.0</td>\n      <td>B</td>\n      <td>0</td>\n    </tr>\n    <tr>\n      <th>3</th>\n      <td>Female</td>\n      <td>31.0</td>\n      <td>0.0</td>\n      <td>0.0</td>\n      <td>0</td>\n      <td>Private</td>\n      <td>0.0</td>\n      <td>108.89</td>\n      <td>52.3</td>\n      <td>NaN</td>\n      <td>O</td>\n      <td>0</td>\n    </tr>\n    <tr>\n      <th>4</th>\n      <td>Female</td>\n      <td>38.0</td>\n      <td>0.0</td>\n      <td>0.0</td>\n      <td>1</td>\n      <td>Private</td>\n      <td>NaN</td>\n      <td>91.44</td>\n      <td>NaN</td>\n      <td>NaN</td>\n      <td>O</td>\n      <td>0</td>\n    </tr>\n    <tr>\n      <th>...</th>\n      <td>...</td>\n      <td>...</td>\n      <td>...</td>\n      <td>...</td>\n      <td>...</td>\n      <td>...</td>\n      <td>...</td>\n      <td>...</td>\n      <td>...</td>\n      <td>...</td>\n      <td>...</td>\n      <td>...</td>\n    </tr>\n    <tr>\n      <th>3995</th>\n      <td>Male</td>\n      <td>16.0</td>\n      <td>0.0</td>\n      <td>0.0</td>\n      <td>0</td>\n      <td>Private</td>\n      <td>NaN</td>\n      <td>99.49</td>\n      <td>22.0</td>\n      <td>NaN</td>\n      <td>B</td>\n      <td>0</td>\n    </tr>\n    <tr>\n      <th>3996</th>\n      <td>Male</td>\n      <td>47.0</td>\n      <td>0.0</td>\n      <td>0.0</td>\n      <td>1</td>\n      <td>Private</td>\n      <td>1.0</td>\n      <td>75.30</td>\n      <td>25.0</td>\n      <td>1.0</td>\n      <td>B</td>\n      <td>0</td>\n    </tr>\n    <tr>\n      <th>3997</th>\n      <td>Other</td>\n      <td>57.0</td>\n      <td>1.0</td>\n      <td>0.0</td>\n      <td>1</td>\n      <td>Private</td>\n      <td>1.0</td>\n      <td>129.54</td>\n      <td>60.9</td>\n      <td>2.0</td>\n      <td>AB</td>\n      <td>0</td>\n    </tr>\n    <tr>\n      <th>3998</th>\n      <td>Female</td>\n      <td>45.0</td>\n      <td>0.0</td>\n      <td>0.0</td>\n      <td>1</td>\n      <td>Private</td>\n      <td>NaN</td>\n      <td>172.33</td>\n      <td>45.3</td>\n      <td>1.0</td>\n      <td>O</td>\n      <td>0</td>\n    </tr>\n    <tr>\n      <th>3999</th>\n      <td>Female</td>\n      <td>53.0</td>\n      <td>1.0</td>\n      <td>0.0</td>\n      <td>1</td>\n      <td>Private</td>\n      <td>0.0</td>\n      <td>62.55</td>\n      <td>30.3</td>\n      <td>NaN</td>\n      <td>O</td>\n      <td>1</td>\n    </tr>\n  </tbody>\n</table>\n<p>4000 rows × 12 columns</p>\n</div>"
     },
     "metadata": {},
     "execution_count": 2
    }
   ],
   "source": [
    "raw_df = pd.read_csv('./Dataset/precessed_train_le_no_scale.csv')\n",
    "raw_df"
   ]
  },
  {
   "cell_type": "code",
   "execution_count": 3,
   "metadata": {},
   "outputs": [
    {
     "output_type": "execute_result",
     "data": {
      "text/plain": [
       "bmi                  1.000000\n",
       "ever_married         0.330082\n",
       "age                  0.323256\n",
       "avg_glucose_level    0.175999\n",
       "hypertension         0.173382\n",
       "smoking_status       0.039703\n",
       "stroke               0.030560\n",
       "heart_disease        0.028516\n",
       "Residence_type       0.001294\n",
       "Name: bmi, dtype: float64"
      ]
     },
     "metadata": {},
     "execution_count": 3
    }
   ],
   "source": [
    "raw_df.corr()['bmi'].sort_values(ascending=False)"
   ]
  },
  {
   "cell_type": "code",
   "execution_count": 4,
   "metadata": {},
   "outputs": [
    {
     "output_type": "stream",
     "name": "stdout",
     "text": [
      "<class 'pandas.core.frame.DataFrame'>\nRangeIndex: 4000 entries, 0 to 3999\nData columns (total 12 columns):\n #   Column             Non-Null Count  Dtype  \n---  ------             --------------  -----  \n 0   gender             4000 non-null   object \n 1   age                3893 non-null   float64\n 2   hypertension       3770 non-null   float64\n 3   heart_disease      3910 non-null   float64\n 4   ever_married       4000 non-null   int64  \n 5   work_type          4000 non-null   object \n 6   Residence_type     2013 non-null   float64\n 7   avg_glucose_level  3829 non-null   float64\n 8   bmi                2884 non-null   float64\n 9   smoking_status     2774 non-null   float64\n 10  blood              3990 non-null   object \n 11  stroke             4000 non-null   int64  \ndtypes: float64(7), int64(2), object(3)\nmemory usage: 375.1+ KB\n"
     ]
    }
   ],
   "source": [
    "raw_df.info()"
   ]
  },
  {
   "cell_type": "code",
   "execution_count": 5,
   "metadata": {},
   "outputs": [
    {
     "output_type": "execute_result",
     "data": {
      "text/plain": [
       "       age work_type\n",
       "0      NaN  children\n",
       "1     55.0   Private\n",
       "2     42.0   Private\n",
       "3     31.0   Private\n",
       "4     38.0   Private\n",
       "...    ...       ...\n",
       "3995  16.0   Private\n",
       "3996  47.0   Private\n",
       "3997  57.0   Private\n",
       "3998  45.0   Private\n",
       "3999  53.0   Private\n",
       "\n",
       "[4000 rows x 2 columns]"
      ],
      "text/html": "<div>\n<style scoped>\n    .dataframe tbody tr th:only-of-type {\n        vertical-align: middle;\n    }\n\n    .dataframe tbody tr th {\n        vertical-align: top;\n    }\n\n    .dataframe thead th {\n        text-align: right;\n    }\n</style>\n<table border=\"1\" class=\"dataframe\">\n  <thead>\n    <tr style=\"text-align: right;\">\n      <th></th>\n      <th>age</th>\n      <th>work_type</th>\n    </tr>\n  </thead>\n  <tbody>\n    <tr>\n      <th>0</th>\n      <td>NaN</td>\n      <td>children</td>\n    </tr>\n    <tr>\n      <th>1</th>\n      <td>55.0</td>\n      <td>Private</td>\n    </tr>\n    <tr>\n      <th>2</th>\n      <td>42.0</td>\n      <td>Private</td>\n    </tr>\n    <tr>\n      <th>3</th>\n      <td>31.0</td>\n      <td>Private</td>\n    </tr>\n    <tr>\n      <th>4</th>\n      <td>38.0</td>\n      <td>Private</td>\n    </tr>\n    <tr>\n      <th>...</th>\n      <td>...</td>\n      <td>...</td>\n    </tr>\n    <tr>\n      <th>3995</th>\n      <td>16.0</td>\n      <td>Private</td>\n    </tr>\n    <tr>\n      <th>3996</th>\n      <td>47.0</td>\n      <td>Private</td>\n    </tr>\n    <tr>\n      <th>3997</th>\n      <td>57.0</td>\n      <td>Private</td>\n    </tr>\n    <tr>\n      <th>3998</th>\n      <td>45.0</td>\n      <td>Private</td>\n    </tr>\n    <tr>\n      <th>3999</th>\n      <td>53.0</td>\n      <td>Private</td>\n    </tr>\n  </tbody>\n</table>\n<p>4000 rows × 2 columns</p>\n</div>"
     },
     "metadata": {},
     "execution_count": 5
    }
   ],
   "source": [
    "df_age_worktype = raw_df.copy()\n",
    "df_age_worktype = df_age_worktype[['age', 'work_type']]\n",
    "df_age_worktype"
   ]
  },
  {
   "cell_type": "code",
   "execution_count": 6,
   "metadata": {},
   "outputs": [],
   "source": [
    "a = df_age_worktype.loc[df_age_worktype['work_type'] == 'children']['age'].fillna(df_age_worktype.loc[df_age_worktype['work_type'] == 'children']['age'].mean())"
   ]
  },
  {
   "cell_type": "code",
   "execution_count": 7,
   "metadata": {},
   "outputs": [
    {
     "output_type": "execute_result",
     "data": {
      "text/plain": [
       "0        NaN\n",
       "9        8.0\n",
       "21       8.0\n",
       "31      12.0\n",
       "32       3.0\n",
       "        ... \n",
       "3956     4.0\n",
       "3970    14.0\n",
       "3977     5.0\n",
       "3984     2.0\n",
       "3987    14.0\n",
       "Name: age, Length: 539, dtype: float64"
      ]
     },
     "metadata": {},
     "execution_count": 7
    }
   ],
   "source": [
    "df_age_worktype.loc[df_age_worktype['work_type'] == 'children']['age']"
   ]
  },
  {
   "cell_type": "code",
   "execution_count": 8,
   "metadata": {},
   "outputs": [],
   "source": [
    "df_age_worktype['age']= df_age_worktype['age'].fillna(a)"
   ]
  },
  {
   "cell_type": "code",
   "execution_count": 9,
   "metadata": {},
   "outputs": [
    {
     "output_type": "execute_result",
     "data": {
      "text/plain": [
       "            age work_type\n",
       "0      6.816858  children\n",
       "1     55.000000   Private\n",
       "2     42.000000   Private\n",
       "3     31.000000   Private\n",
       "4     38.000000   Private\n",
       "...         ...       ...\n",
       "3995  16.000000   Private\n",
       "3996  47.000000   Private\n",
       "3997  57.000000   Private\n",
       "3998  45.000000   Private\n",
       "3999  53.000000   Private\n",
       "\n",
       "[4000 rows x 2 columns]"
      ],
      "text/html": "<div>\n<style scoped>\n    .dataframe tbody tr th:only-of-type {\n        vertical-align: middle;\n    }\n\n    .dataframe tbody tr th {\n        vertical-align: top;\n    }\n\n    .dataframe thead th {\n        text-align: right;\n    }\n</style>\n<table border=\"1\" class=\"dataframe\">\n  <thead>\n    <tr style=\"text-align: right;\">\n      <th></th>\n      <th>age</th>\n      <th>work_type</th>\n    </tr>\n  </thead>\n  <tbody>\n    <tr>\n      <th>0</th>\n      <td>6.816858</td>\n      <td>children</td>\n    </tr>\n    <tr>\n      <th>1</th>\n      <td>55.000000</td>\n      <td>Private</td>\n    </tr>\n    <tr>\n      <th>2</th>\n      <td>42.000000</td>\n      <td>Private</td>\n    </tr>\n    <tr>\n      <th>3</th>\n      <td>31.000000</td>\n      <td>Private</td>\n    </tr>\n    <tr>\n      <th>4</th>\n      <td>38.000000</td>\n      <td>Private</td>\n    </tr>\n    <tr>\n      <th>...</th>\n      <td>...</td>\n      <td>...</td>\n    </tr>\n    <tr>\n      <th>3995</th>\n      <td>16.000000</td>\n      <td>Private</td>\n    </tr>\n    <tr>\n      <th>3996</th>\n      <td>47.000000</td>\n      <td>Private</td>\n    </tr>\n    <tr>\n      <th>3997</th>\n      <td>57.000000</td>\n      <td>Private</td>\n    </tr>\n    <tr>\n      <th>3998</th>\n      <td>45.000000</td>\n      <td>Private</td>\n    </tr>\n    <tr>\n      <th>3999</th>\n      <td>53.000000</td>\n      <td>Private</td>\n    </tr>\n  </tbody>\n</table>\n<p>4000 rows × 2 columns</p>\n</div>"
     },
     "metadata": {},
     "execution_count": 9
    }
   ],
   "source": [
    "df_age_worktype"
   ]
  },
  {
   "cell_type": "code",
   "execution_count": 10,
   "metadata": {},
   "outputs": [
    {
     "output_type": "execute_result",
     "data": {
      "text/plain": [
       "            age work_type\n",
       "0      6.816858  children\n",
       "1     55.000000   Private\n",
       "2     42.000000   Private\n",
       "3     31.000000   Private\n",
       "4     38.000000   Private\n",
       "...         ...       ...\n",
       "3995  16.000000   Private\n",
       "3996  47.000000   Private\n",
       "3997  57.000000   Private\n",
       "3998  45.000000   Private\n",
       "3999  53.000000   Private\n",
       "\n",
       "[3910 rows x 2 columns]"
      ],
      "text/html": "<div>\n<style scoped>\n    .dataframe tbody tr th:only-of-type {\n        vertical-align: middle;\n    }\n\n    .dataframe tbody tr th {\n        vertical-align: top;\n    }\n\n    .dataframe thead th {\n        text-align: right;\n    }\n</style>\n<table border=\"1\" class=\"dataframe\">\n  <thead>\n    <tr style=\"text-align: right;\">\n      <th></th>\n      <th>age</th>\n      <th>work_type</th>\n    </tr>\n  </thead>\n  <tbody>\n    <tr>\n      <th>0</th>\n      <td>6.816858</td>\n      <td>children</td>\n    </tr>\n    <tr>\n      <th>1</th>\n      <td>55.000000</td>\n      <td>Private</td>\n    </tr>\n    <tr>\n      <th>2</th>\n      <td>42.000000</td>\n      <td>Private</td>\n    </tr>\n    <tr>\n      <th>3</th>\n      <td>31.000000</td>\n      <td>Private</td>\n    </tr>\n    <tr>\n      <th>4</th>\n      <td>38.000000</td>\n      <td>Private</td>\n    </tr>\n    <tr>\n      <th>...</th>\n      <td>...</td>\n      <td>...</td>\n    </tr>\n    <tr>\n      <th>3995</th>\n      <td>16.000000</td>\n      <td>Private</td>\n    </tr>\n    <tr>\n      <th>3996</th>\n      <td>47.000000</td>\n      <td>Private</td>\n    </tr>\n    <tr>\n      <th>3997</th>\n      <td>57.000000</td>\n      <td>Private</td>\n    </tr>\n    <tr>\n      <th>3998</th>\n      <td>45.000000</td>\n      <td>Private</td>\n    </tr>\n    <tr>\n      <th>3999</th>\n      <td>53.000000</td>\n      <td>Private</td>\n    </tr>\n  </tbody>\n</table>\n<p>3910 rows × 2 columns</p>\n</div>"
     },
     "metadata": {},
     "execution_count": 10
    }
   ],
   "source": [
    "df_age_worktype_not_NaN = df_age_worktype.copy()\n",
    "df_age_worktype_not_NaN = df_age_worktype_not_NaN.loc[df_age_worktype['age'].notna()]\n",
    "df_age_worktype_not_NaN"
   ]
  },
  {
   "cell_type": "code",
   "execution_count": 11,
   "metadata": {},
   "outputs": [
    {
     "output_type": "execute_result",
     "data": {
      "text/plain": [
       "           Total  Percent\n",
       "age            0      0.0\n",
       "work_type      0      0.0"
      ],
      "text/html": "<div>\n<style scoped>\n    .dataframe tbody tr th:only-of-type {\n        vertical-align: middle;\n    }\n\n    .dataframe tbody tr th {\n        vertical-align: top;\n    }\n\n    .dataframe thead th {\n        text-align: right;\n    }\n</style>\n<table border=\"1\" class=\"dataframe\">\n  <thead>\n    <tr style=\"text-align: right;\">\n      <th></th>\n      <th>Total</th>\n      <th>Percent</th>\n    </tr>\n  </thead>\n  <tbody>\n    <tr>\n      <th>age</th>\n      <td>0</td>\n      <td>0.0</td>\n    </tr>\n    <tr>\n      <th>work_type</th>\n      <td>0</td>\n      <td>0.0</td>\n    </tr>\n  </tbody>\n</table>\n</div>"
     },
     "metadata": {},
     "execution_count": 11
    }
   ],
   "source": [
    "def draw_missing_data_table(data):\n",
    "    total = data.isnull().sum().sort_values(ascending=False)\n",
    "    percent = (data.isnull().sum()/data.isnull().count()).sort_values(ascending=False)\n",
    "    missing_data = pd.concat([total, percent], axis=1, keys=['Total', 'Percent'])\n",
    "    return missing_data\n",
    "draw_missing_data_table(df_age_worktype_not_NaN)"
   ]
  },
  {
   "cell_type": "code",
   "execution_count": 12,
   "metadata": {},
   "outputs": [
    {
     "output_type": "execute_result",
     "data": {
      "text/plain": [
       "Private          2249\n",
       "Self-employed     610\n",
       "children          539\n",
       "Govt_job          496\n",
       "Never_worked       16\n",
       "Name: work_type, dtype: int64"
      ]
     },
     "metadata": {},
     "execution_count": 12
    }
   ],
   "source": [
    "df_age_worktype_not_NaN['work_type'].value_counts()"
   ]
  },
  {
   "cell_type": "code",
   "execution_count": 13,
   "metadata": {},
   "outputs": [
    {
     "output_type": "execute_result",
     "data": {
      "text/plain": [
       "2    2249\n",
       "3     610\n",
       "4     539\n",
       "0     496\n",
       "1      16\n",
       "Name: work_type, dtype: int64"
      ]
     },
     "metadata": {},
     "execution_count": 13
    }
   ],
   "source": [
    "le = LabelEncoder()\n",
    "df_age_worktype_not_NaN['work_type'] = le.fit_transform(df_age_worktype_not_NaN['work_type'])\n",
    "df_age_worktype_not_NaN['work_type'].value_counts()"
   ]
  },
  {
   "cell_type": "code",
   "execution_count": 14,
   "metadata": {},
   "outputs": [
    {
     "output_type": "execute_result",
     "data": {
      "text/plain": [
       "KNeighborsRegressor()"
      ]
     },
     "metadata": {},
     "execution_count": 14
    }
   ],
   "source": [
    "knn_reg = KNeighborsRegressor()\n",
    "knn_reg.fit(df_age_worktype_not_NaN['work_type'].to_numpy().reshape(-1, 1), df_age_worktype_not_NaN['age'])"
   ]
  },
  {
   "cell_type": "code",
   "execution_count": 15,
   "metadata": {},
   "outputs": [
    {
     "output_type": "execute_result",
     "data": {
      "text/plain": [
       "array([15.4])"
      ]
     },
     "metadata": {},
     "execution_count": 15
    }
   ],
   "source": [
    "knn_reg.predict([[1]])"
   ]
  },
  {
   "cell_type": "code",
   "execution_count": 16,
   "metadata": {},
   "outputs": [
    {
     "output_type": "execute_result",
     "data": {
      "text/plain": [
       "array([4, 2, 0, 3, 1])"
      ]
     },
     "metadata": {},
     "execution_count": 16
    }
   ],
   "source": [
    "work_type_mapping = {'Private': 2, 'Self-employed': 3, 'children': 4, 'Govt_job': 0, 'Never_worked': 1}\n",
    "df_age_worktype['work_type'] = df_age_worktype['work_type'].map(work_type_mapping)\n",
    "df_age_worktype['work_type'].unique()"
   ]
  },
  {
   "cell_type": "code",
   "execution_count": 19,
   "metadata": {},
   "outputs": [
    {
     "output_type": "execute_result",
     "data": {
      "text/plain": [
       "      age  work_type\n",
       "8     NaN          0\n",
       "60    NaN          0\n",
       "87    NaN          3\n",
       "136   NaN          2\n",
       "139   NaN          2\n",
       "...   ...        ...\n",
       "3424  NaN          2\n",
       "3491  NaN          3\n",
       "3510  NaN          2\n",
       "3829  NaN          3\n",
       "3903  NaN          2\n",
       "\n",
       "[90 rows x 2 columns]"
      ],
      "text/html": "<div>\n<style scoped>\n    .dataframe tbody tr th:only-of-type {\n        vertical-align: middle;\n    }\n\n    .dataframe tbody tr th {\n        vertical-align: top;\n    }\n\n    .dataframe thead th {\n        text-align: right;\n    }\n</style>\n<table border=\"1\" class=\"dataframe\">\n  <thead>\n    <tr style=\"text-align: right;\">\n      <th></th>\n      <th>age</th>\n      <th>work_type</th>\n    </tr>\n  </thead>\n  <tbody>\n    <tr>\n      <th>8</th>\n      <td>NaN</td>\n      <td>0</td>\n    </tr>\n    <tr>\n      <th>60</th>\n      <td>NaN</td>\n      <td>0</td>\n    </tr>\n    <tr>\n      <th>87</th>\n      <td>NaN</td>\n      <td>3</td>\n    </tr>\n    <tr>\n      <th>136</th>\n      <td>NaN</td>\n      <td>2</td>\n    </tr>\n    <tr>\n      <th>139</th>\n      <td>NaN</td>\n      <td>2</td>\n    </tr>\n    <tr>\n      <th>...</th>\n      <td>...</td>\n      <td>...</td>\n    </tr>\n    <tr>\n      <th>3424</th>\n      <td>NaN</td>\n      <td>2</td>\n    </tr>\n    <tr>\n      <th>3491</th>\n      <td>NaN</td>\n      <td>3</td>\n    </tr>\n    <tr>\n      <th>3510</th>\n      <td>NaN</td>\n      <td>2</td>\n    </tr>\n    <tr>\n      <th>3829</th>\n      <td>NaN</td>\n      <td>3</td>\n    </tr>\n    <tr>\n      <th>3903</th>\n      <td>NaN</td>\n      <td>2</td>\n    </tr>\n  </tbody>\n</table>\n<p>90 rows × 2 columns</p>\n</div>"
     },
     "metadata": {},
     "execution_count": 19
    }
   ],
   "source": [
    "df_age_worktype_NaN = df_age_worktype.copy()\n",
    "df_age_worktype_NaN = df_age_worktype_NaN.loc[df_age_worktype['age'].isna()]\n",
    "df_age_worktype_NaN"
   ]
  },
  {
   "cell_type": "code",
   "execution_count": null,
   "metadata": {},
   "outputs": [],
   "source": []
  }
 ]
}