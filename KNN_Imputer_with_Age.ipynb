{
 "metadata": {
  "language_info": {
   "codemirror_mode": {
    "name": "ipython",
    "version": 3
   },
   "file_extension": ".py",
   "mimetype": "text/x-python",
   "name": "python",
   "nbconvert_exporter": "python",
   "pygments_lexer": "ipython3",
   "version": "3.8.5"
  },
  "orig_nbformat": 2,
  "kernelspec": {
   "name": "python385jvsc74a57bd01f4e33760a034530d14b2a7b5c7f382bc2049024f7abe4fc2e79344349930bf9",
   "display_name": "Python 3.8.5 64-bit ('Stroke_Env': venv)"
  },
  "metadata": {
   "interpreter": {
    "hash": "743122f284083c97ef6c7e4378c6167beb4e19e2ae03e2d7f15fa3b72661eea8"
   }
  }
 },
 "nbformat": 4,
 "nbformat_minor": 2,
 "cells": [
  {
   "cell_type": "code",
   "execution_count": 1,
   "metadata": {},
   "outputs": [],
   "source": [
    "import pandas as pd\n",
    "import sklearn\n",
    "import matplotlib.pyplot as plt\n",
    "import seaborn as sns\n",
    "import numpy as np\n",
    "from numpy import mean, std\n",
    "from sklearn.linear_model import LinearRegression\n",
    "from sklearn.metrics import f1_score, roc_auc_score, confusion_matrix\n",
    "from sklearn.preprocessing import StandardScaler, OneHotEncoder, LabelEncoder\n",
    "from sklearn.ensemble import RandomForestClassifier\n",
    "from sklearn.pipeline import Pipeline\n",
    "from sklearn.impute import KNNImputer\n",
    "from sklearn.neighbors import KNeighborsRegressor\n",
    "from sklearn.model_selection import train_test_split, RepeatedStratifiedKFold, cross_val_score\n",
    "from imblearn.over_sampling import SMOTE"
   ]
  },
  {
   "cell_type": "code",
   "execution_count": 2,
   "metadata": {},
   "outputs": [
    {
     "output_type": "execute_result",
     "data": {
      "text/plain": [
       "      gender   age  hypertension  heart_disease  ever_married work_type  \\\n",
       "0     Female   NaN           0.0            0.0             0  children   \n",
       "1       Male  55.0           0.0            0.0             1   Private   \n",
       "2     Female  42.0           0.0            0.0             0   Private   \n",
       "3     Female  31.0           0.0            0.0             0   Private   \n",
       "4     Female  38.0           0.0            0.0             1   Private   \n",
       "...      ...   ...           ...            ...           ...       ...   \n",
       "3995    Male  16.0           0.0            0.0             0   Private   \n",
       "3996    Male  47.0           0.0            0.0             1   Private   \n",
       "3997   Other  57.0           1.0            0.0             1   Private   \n",
       "3998  Female  45.0           0.0            0.0             1   Private   \n",
       "3999  Female  53.0           1.0            0.0             1   Private   \n",
       "\n",
       "      Residence_type  avg_glucose_level   bmi  smoking_status blood  stroke  \n",
       "0                  0              85.81  18.6               0     O       0  \n",
       "1                  1              89.17   NaN               1     B       0  \n",
       "2                  0              98.53  18.5               1     B       0  \n",
       "3                  1             108.89  52.3               0     O       0  \n",
       "4                  0              91.44   NaN               0     O       0  \n",
       "...              ...                ...   ...             ...   ...     ...  \n",
       "3995               0              99.49  22.0               0     B       0  \n",
       "3996               2              75.30  25.0               2     B       0  \n",
       "3997               2             129.54  60.9               3    AB       0  \n",
       "3998               0             172.33  45.3               2     O       0  \n",
       "3999               1              62.55  30.3               0     O       1  \n",
       "\n",
       "[4000 rows x 12 columns]"
      ],
      "text/html": "<div>\n<style scoped>\n    .dataframe tbody tr th:only-of-type {\n        vertical-align: middle;\n    }\n\n    .dataframe tbody tr th {\n        vertical-align: top;\n    }\n\n    .dataframe thead th {\n        text-align: right;\n    }\n</style>\n<table border=\"1\" class=\"dataframe\">\n  <thead>\n    <tr style=\"text-align: right;\">\n      <th></th>\n      <th>gender</th>\n      <th>age</th>\n      <th>hypertension</th>\n      <th>heart_disease</th>\n      <th>ever_married</th>\n      <th>work_type</th>\n      <th>Residence_type</th>\n      <th>avg_glucose_level</th>\n      <th>bmi</th>\n      <th>smoking_status</th>\n      <th>blood</th>\n      <th>stroke</th>\n    </tr>\n  </thead>\n  <tbody>\n    <tr>\n      <th>0</th>\n      <td>Female</td>\n      <td>NaN</td>\n      <td>0.0</td>\n      <td>0.0</td>\n      <td>0</td>\n      <td>children</td>\n      <td>0</td>\n      <td>85.81</td>\n      <td>18.6</td>\n      <td>0</td>\n      <td>O</td>\n      <td>0</td>\n    </tr>\n    <tr>\n      <th>1</th>\n      <td>Male</td>\n      <td>55.0</td>\n      <td>0.0</td>\n      <td>0.0</td>\n      <td>1</td>\n      <td>Private</td>\n      <td>1</td>\n      <td>89.17</td>\n      <td>NaN</td>\n      <td>1</td>\n      <td>B</td>\n      <td>0</td>\n    </tr>\n    <tr>\n      <th>2</th>\n      <td>Female</td>\n      <td>42.0</td>\n      <td>0.0</td>\n      <td>0.0</td>\n      <td>0</td>\n      <td>Private</td>\n      <td>0</td>\n      <td>98.53</td>\n      <td>18.5</td>\n      <td>1</td>\n      <td>B</td>\n      <td>0</td>\n    </tr>\n    <tr>\n      <th>3</th>\n      <td>Female</td>\n      <td>31.0</td>\n      <td>0.0</td>\n      <td>0.0</td>\n      <td>0</td>\n      <td>Private</td>\n      <td>1</td>\n      <td>108.89</td>\n      <td>52.3</td>\n      <td>0</td>\n      <td>O</td>\n      <td>0</td>\n    </tr>\n    <tr>\n      <th>4</th>\n      <td>Female</td>\n      <td>38.0</td>\n      <td>0.0</td>\n      <td>0.0</td>\n      <td>1</td>\n      <td>Private</td>\n      <td>0</td>\n      <td>91.44</td>\n      <td>NaN</td>\n      <td>0</td>\n      <td>O</td>\n      <td>0</td>\n    </tr>\n    <tr>\n      <th>...</th>\n      <td>...</td>\n      <td>...</td>\n      <td>...</td>\n      <td>...</td>\n      <td>...</td>\n      <td>...</td>\n      <td>...</td>\n      <td>...</td>\n      <td>...</td>\n      <td>...</td>\n      <td>...</td>\n      <td>...</td>\n    </tr>\n    <tr>\n      <th>3995</th>\n      <td>Male</td>\n      <td>16.0</td>\n      <td>0.0</td>\n      <td>0.0</td>\n      <td>0</td>\n      <td>Private</td>\n      <td>0</td>\n      <td>99.49</td>\n      <td>22.0</td>\n      <td>0</td>\n      <td>B</td>\n      <td>0</td>\n    </tr>\n    <tr>\n      <th>3996</th>\n      <td>Male</td>\n      <td>47.0</td>\n      <td>0.0</td>\n      <td>0.0</td>\n      <td>1</td>\n      <td>Private</td>\n      <td>2</td>\n      <td>75.30</td>\n      <td>25.0</td>\n      <td>2</td>\n      <td>B</td>\n      <td>0</td>\n    </tr>\n    <tr>\n      <th>3997</th>\n      <td>Other</td>\n      <td>57.0</td>\n      <td>1.0</td>\n      <td>0.0</td>\n      <td>1</td>\n      <td>Private</td>\n      <td>2</td>\n      <td>129.54</td>\n      <td>60.9</td>\n      <td>3</td>\n      <td>AB</td>\n      <td>0</td>\n    </tr>\n    <tr>\n      <th>3998</th>\n      <td>Female</td>\n      <td>45.0</td>\n      <td>0.0</td>\n      <td>0.0</td>\n      <td>1</td>\n      <td>Private</td>\n      <td>0</td>\n      <td>172.33</td>\n      <td>45.3</td>\n      <td>2</td>\n      <td>O</td>\n      <td>0</td>\n    </tr>\n    <tr>\n      <th>3999</th>\n      <td>Female</td>\n      <td>53.0</td>\n      <td>1.0</td>\n      <td>0.0</td>\n      <td>1</td>\n      <td>Private</td>\n      <td>1</td>\n      <td>62.55</td>\n      <td>30.3</td>\n      <td>0</td>\n      <td>O</td>\n      <td>1</td>\n    </tr>\n  </tbody>\n</table>\n<p>4000 rows × 12 columns</p>\n</div>"
     },
     "metadata": {},
     "execution_count": 2
    }
   ],
   "source": [
    "raw_df = pd.read_csv('./Dataset/Processed_train_le_no_scale.csv')\n",
    "raw_df"
   ]
  },
  {
   "cell_type": "code",
   "execution_count": 3,
   "metadata": {},
   "outputs": [
    {
     "output_type": "execute_result",
     "data": {
      "text/plain": [
       "bmi                  1.000000\n",
       "ever_married         0.330082\n",
       "age                  0.323256\n",
       "smoking_status       0.237721\n",
       "avg_glucose_level    0.175999\n",
       "hypertension         0.173382\n",
       "stroke               0.030560\n",
       "heart_disease        0.028516\n",
       "Residence_type      -0.007816\n",
       "Name: bmi, dtype: float64"
      ]
     },
     "metadata": {},
     "execution_count": 3
    }
   ],
   "source": [
    "raw_df.corr()['bmi'].sort_values(ascending=False)"
   ]
  },
  {
   "cell_type": "code",
   "execution_count": 4,
   "metadata": {},
   "outputs": [
    {
     "output_type": "stream",
     "name": "stdout",
     "text": [
      "<class 'pandas.core.frame.DataFrame'>\nRangeIndex: 4000 entries, 0 to 3999\nData columns (total 12 columns):\n #   Column             Non-Null Count  Dtype  \n---  ------             --------------  -----  \n 0   gender             4000 non-null   object \n 1   age                3893 non-null   float64\n 2   hypertension       3770 non-null   float64\n 3   heart_disease      3910 non-null   float64\n 4   ever_married       4000 non-null   int64  \n 5   work_type          4000 non-null   object \n 6   Residence_type     4000 non-null   int64  \n 7   avg_glucose_level  3829 non-null   float64\n 8   bmi                2884 non-null   float64\n 9   smoking_status     4000 non-null   int64  \n 10  blood              3990 non-null   object \n 11  stroke             4000 non-null   int64  \ndtypes: float64(5), int64(4), object(3)\nmemory usage: 375.1+ KB\n"
     ]
    }
   ],
   "source": [
    "raw_df.info()"
   ]
  },
  {
   "cell_type": "code",
   "execution_count": 5,
   "metadata": {},
   "outputs": [
    {
     "output_type": "execute_result",
     "data": {
      "text/plain": [
       "       age work_type\n",
       "0      NaN  children\n",
       "1     55.0   Private\n",
       "2     42.0   Private\n",
       "3     31.0   Private\n",
       "4     38.0   Private\n",
       "...    ...       ...\n",
       "3995  16.0   Private\n",
       "3996  47.0   Private\n",
       "3997  57.0   Private\n",
       "3998  45.0   Private\n",
       "3999  53.0   Private\n",
       "\n",
       "[4000 rows x 2 columns]"
      ],
      "text/html": "<div>\n<style scoped>\n    .dataframe tbody tr th:only-of-type {\n        vertical-align: middle;\n    }\n\n    .dataframe tbody tr th {\n        vertical-align: top;\n    }\n\n    .dataframe thead th {\n        text-align: right;\n    }\n</style>\n<table border=\"1\" class=\"dataframe\">\n  <thead>\n    <tr style=\"text-align: right;\">\n      <th></th>\n      <th>age</th>\n      <th>work_type</th>\n    </tr>\n  </thead>\n  <tbody>\n    <tr>\n      <th>0</th>\n      <td>NaN</td>\n      <td>children</td>\n    </tr>\n    <tr>\n      <th>1</th>\n      <td>55.0</td>\n      <td>Private</td>\n    </tr>\n    <tr>\n      <th>2</th>\n      <td>42.0</td>\n      <td>Private</td>\n    </tr>\n    <tr>\n      <th>3</th>\n      <td>31.0</td>\n      <td>Private</td>\n    </tr>\n    <tr>\n      <th>4</th>\n      <td>38.0</td>\n      <td>Private</td>\n    </tr>\n    <tr>\n      <th>...</th>\n      <td>...</td>\n      <td>...</td>\n    </tr>\n    <tr>\n      <th>3995</th>\n      <td>16.0</td>\n      <td>Private</td>\n    </tr>\n    <tr>\n      <th>3996</th>\n      <td>47.0</td>\n      <td>Private</td>\n    </tr>\n    <tr>\n      <th>3997</th>\n      <td>57.0</td>\n      <td>Private</td>\n    </tr>\n    <tr>\n      <th>3998</th>\n      <td>45.0</td>\n      <td>Private</td>\n    </tr>\n    <tr>\n      <th>3999</th>\n      <td>53.0</td>\n      <td>Private</td>\n    </tr>\n  </tbody>\n</table>\n<p>4000 rows × 2 columns</p>\n</div>"
     },
     "metadata": {},
     "execution_count": 5
    }
   ],
   "source": [
    "df_age_worktype = raw_df.copy()\n",
    "df_age_worktype = df_age_worktype[['age', 'work_type']]\n",
    "df_age_worktype"
   ]
  },
  {
   "cell_type": "code",
   "execution_count": 6,
   "metadata": {},
   "outputs": [],
   "source": [
    "a = df_age_worktype.loc[df_age_worktype['work_type'] == 'children']['age'].fillna(df_age_worktype.loc[df_age_worktype['work_type'] == 'children']['age'].mean())"
   ]
  },
  {
   "cell_type": "code",
   "execution_count": 7,
   "metadata": {},
   "outputs": [
    {
     "output_type": "execute_result",
     "data": {
      "text/plain": [
       "0        NaN\n",
       "9        8.0\n",
       "21       8.0\n",
       "31      12.0\n",
       "32       3.0\n",
       "        ... \n",
       "3956     4.0\n",
       "3970    14.0\n",
       "3977     5.0\n",
       "3984     2.0\n",
       "3987    14.0\n",
       "Name: age, Length: 539, dtype: float64"
      ]
     },
     "metadata": {},
     "execution_count": 7
    }
   ],
   "source": [
    "df_age_worktype.loc[df_age_worktype['work_type'] == 'children']['age']"
   ]
  },
  {
   "cell_type": "code",
   "execution_count": 8,
   "metadata": {},
   "outputs": [],
   "source": [
    "df_age_worktype['age']= df_age_worktype['age'].fillna(a)"
   ]
  },
  {
   "cell_type": "code",
   "execution_count": 9,
   "metadata": {},
   "outputs": [
    {
     "output_type": "execute_result",
     "data": {
      "text/plain": [
       "            age work_type\n",
       "0      6.816858  children\n",
       "1     55.000000   Private\n",
       "2     42.000000   Private\n",
       "3     31.000000   Private\n",
       "4     38.000000   Private\n",
       "...         ...       ...\n",
       "3995  16.000000   Private\n",
       "3996  47.000000   Private\n",
       "3997  57.000000   Private\n",
       "3998  45.000000   Private\n",
       "3999  53.000000   Private\n",
       "\n",
       "[4000 rows x 2 columns]"
      ],
      "text/html": "<div>\n<style scoped>\n    .dataframe tbody tr th:only-of-type {\n        vertical-align: middle;\n    }\n\n    .dataframe tbody tr th {\n        vertical-align: top;\n    }\n\n    .dataframe thead th {\n        text-align: right;\n    }\n</style>\n<table border=\"1\" class=\"dataframe\">\n  <thead>\n    <tr style=\"text-align: right;\">\n      <th></th>\n      <th>age</th>\n      <th>work_type</th>\n    </tr>\n  </thead>\n  <tbody>\n    <tr>\n      <th>0</th>\n      <td>6.816858</td>\n      <td>children</td>\n    </tr>\n    <tr>\n      <th>1</th>\n      <td>55.000000</td>\n      <td>Private</td>\n    </tr>\n    <tr>\n      <th>2</th>\n      <td>42.000000</td>\n      <td>Private</td>\n    </tr>\n    <tr>\n      <th>3</th>\n      <td>31.000000</td>\n      <td>Private</td>\n    </tr>\n    <tr>\n      <th>4</th>\n      <td>38.000000</td>\n      <td>Private</td>\n    </tr>\n    <tr>\n      <th>...</th>\n      <td>...</td>\n      <td>...</td>\n    </tr>\n    <tr>\n      <th>3995</th>\n      <td>16.000000</td>\n      <td>Private</td>\n    </tr>\n    <tr>\n      <th>3996</th>\n      <td>47.000000</td>\n      <td>Private</td>\n    </tr>\n    <tr>\n      <th>3997</th>\n      <td>57.000000</td>\n      <td>Private</td>\n    </tr>\n    <tr>\n      <th>3998</th>\n      <td>45.000000</td>\n      <td>Private</td>\n    </tr>\n    <tr>\n      <th>3999</th>\n      <td>53.000000</td>\n      <td>Private</td>\n    </tr>\n  </tbody>\n</table>\n<p>4000 rows × 2 columns</p>\n</div>"
     },
     "metadata": {},
     "execution_count": 9
    }
   ],
   "source": [
    "df_age_worktype"
   ]
  },
  {
   "cell_type": "code",
   "execution_count": 10,
   "metadata": {},
   "outputs": [
    {
     "output_type": "execute_result",
     "data": {
      "text/plain": [
       "            age work_type\n",
       "0      6.816858  children\n",
       "1     55.000000   Private\n",
       "2     42.000000   Private\n",
       "3     31.000000   Private\n",
       "4     38.000000   Private\n",
       "...         ...       ...\n",
       "3995  16.000000   Private\n",
       "3996  47.000000   Private\n",
       "3997  57.000000   Private\n",
       "3998  45.000000   Private\n",
       "3999  53.000000   Private\n",
       "\n",
       "[3910 rows x 2 columns]"
      ],
      "text/html": "<div>\n<style scoped>\n    .dataframe tbody tr th:only-of-type {\n        vertical-align: middle;\n    }\n\n    .dataframe tbody tr th {\n        vertical-align: top;\n    }\n\n    .dataframe thead th {\n        text-align: right;\n    }\n</style>\n<table border=\"1\" class=\"dataframe\">\n  <thead>\n    <tr style=\"text-align: right;\">\n      <th></th>\n      <th>age</th>\n      <th>work_type</th>\n    </tr>\n  </thead>\n  <tbody>\n    <tr>\n      <th>0</th>\n      <td>6.816858</td>\n      <td>children</td>\n    </tr>\n    <tr>\n      <th>1</th>\n      <td>55.000000</td>\n      <td>Private</td>\n    </tr>\n    <tr>\n      <th>2</th>\n      <td>42.000000</td>\n      <td>Private</td>\n    </tr>\n    <tr>\n      <th>3</th>\n      <td>31.000000</td>\n      <td>Private</td>\n    </tr>\n    <tr>\n      <th>4</th>\n      <td>38.000000</td>\n      <td>Private</td>\n    </tr>\n    <tr>\n      <th>...</th>\n      <td>...</td>\n      <td>...</td>\n    </tr>\n    <tr>\n      <th>3995</th>\n      <td>16.000000</td>\n      <td>Private</td>\n    </tr>\n    <tr>\n      <th>3996</th>\n      <td>47.000000</td>\n      <td>Private</td>\n    </tr>\n    <tr>\n      <th>3997</th>\n      <td>57.000000</td>\n      <td>Private</td>\n    </tr>\n    <tr>\n      <th>3998</th>\n      <td>45.000000</td>\n      <td>Private</td>\n    </tr>\n    <tr>\n      <th>3999</th>\n      <td>53.000000</td>\n      <td>Private</td>\n    </tr>\n  </tbody>\n</table>\n<p>3910 rows × 2 columns</p>\n</div>"
     },
     "metadata": {},
     "execution_count": 10
    }
   ],
   "source": [
    "df_age_worktype_not_NaN = df_age_worktype.copy()\n",
    "df_age_worktype_not_NaN = df_age_worktype_not_NaN.loc[df_age_worktype['age'].notna()]\n",
    "df_age_worktype_not_NaN"
   ]
  },
  {
   "cell_type": "code",
   "execution_count": 11,
   "metadata": {},
   "outputs": [
    {
     "output_type": "execute_result",
     "data": {
      "text/plain": [
       "           Total  Percent\n",
       "age            0      0.0\n",
       "work_type      0      0.0"
      ],
      "text/html": "<div>\n<style scoped>\n    .dataframe tbody tr th:only-of-type {\n        vertical-align: middle;\n    }\n\n    .dataframe tbody tr th {\n        vertical-align: top;\n    }\n\n    .dataframe thead th {\n        text-align: right;\n    }\n</style>\n<table border=\"1\" class=\"dataframe\">\n  <thead>\n    <tr style=\"text-align: right;\">\n      <th></th>\n      <th>Total</th>\n      <th>Percent</th>\n    </tr>\n  </thead>\n  <tbody>\n    <tr>\n      <th>age</th>\n      <td>0</td>\n      <td>0.0</td>\n    </tr>\n    <tr>\n      <th>work_type</th>\n      <td>0</td>\n      <td>0.0</td>\n    </tr>\n  </tbody>\n</table>\n</div>"
     },
     "metadata": {},
     "execution_count": 11
    }
   ],
   "source": [
    "def draw_missing_data_table(data):\n",
    "    total = data.isnull().sum().sort_values(ascending=False)\n",
    "    percent = (data.isnull().sum()/data.isnull().count()).sort_values(ascending=False)\n",
    "    missing_data = pd.concat([total, percent], axis=1, keys=['Total', 'Percent'])\n",
    "    return missing_data\n",
    "draw_missing_data_table(df_age_worktype_not_NaN)"
   ]
  },
  {
   "cell_type": "code",
   "execution_count": 12,
   "metadata": {},
   "outputs": [
    {
     "output_type": "execute_result",
     "data": {
      "text/plain": [
       "Private          2249\n",
       "Self-employed     610\n",
       "children          539\n",
       "Govt_job          496\n",
       "Never_worked       16\n",
       "Name: work_type, dtype: int64"
      ]
     },
     "metadata": {},
     "execution_count": 12
    }
   ],
   "source": [
    "df_age_worktype_not_NaN['work_type'].value_counts()"
   ]
  },
  {
   "cell_type": "code",
   "execution_count": 13,
   "metadata": {},
   "outputs": [
    {
     "output_type": "execute_result",
     "data": {
      "text/plain": [
       "2    2249\n",
       "3     610\n",
       "4     539\n",
       "0     496\n",
       "1      16\n",
       "Name: work_type, dtype: int64"
      ]
     },
     "metadata": {},
     "execution_count": 13
    }
   ],
   "source": [
    "le = LabelEncoder()\n",
    "df_age_worktype_not_NaN['work_type'] = le.fit_transform(df_age_worktype_not_NaN['work_type'])\n",
    "df_age_worktype_not_NaN['work_type'].value_counts()"
   ]
  },
  {
   "cell_type": "code",
   "execution_count": 14,
   "metadata": {},
   "outputs": [
    {
     "output_type": "execute_result",
     "data": {
      "text/plain": [
       "KNeighborsRegressor()"
      ]
     },
     "metadata": {},
     "execution_count": 14
    }
   ],
   "source": [
    "knn_reg = KNeighborsRegressor()\n",
    "knn_reg.fit(df_age_worktype_not_NaN['work_type'].to_numpy().reshape(-1, 1), df_age_worktype_not_NaN['age'])"
   ]
  },
  {
   "cell_type": "code",
   "execution_count": 15,
   "metadata": {},
   "outputs": [
    {
     "output_type": "execute_result",
     "data": {
      "text/plain": [
       "array([15.4])"
      ]
     },
     "metadata": {},
     "execution_count": 15
    }
   ],
   "source": [
    "knn_reg.predict([[1]])"
   ]
  },
  {
   "cell_type": "code",
   "execution_count": 16,
   "metadata": {},
   "outputs": [
    {
     "output_type": "execute_result",
     "data": {
      "text/plain": [
       "array([4, 2, 0, 3, 1])"
      ]
     },
     "metadata": {},
     "execution_count": 16
    }
   ],
   "source": [
    "work_type_mapping = {'Private': 2, 'Self-employed': 3, 'children': 4, 'Govt_job': 0, 'Never_worked': 1}\n",
    "df_age_worktype['work_type'] = df_age_worktype['work_type'].map(work_type_mapping)\n",
    "df_age_worktype['work_type'].unique()"
   ]
  },
  {
   "cell_type": "code",
   "execution_count": 17,
   "metadata": {},
   "outputs": [
    {
     "output_type": "execute_result",
     "data": {
      "text/plain": [
       "      age  work_type\n",
       "8     NaN          0\n",
       "60    NaN          0\n",
       "87    NaN          3\n",
       "136   NaN          2\n",
       "139   NaN          2\n",
       "...   ...        ...\n",
       "3424  NaN          2\n",
       "3491  NaN          3\n",
       "3510  NaN          2\n",
       "3829  NaN          3\n",
       "3903  NaN          2\n",
       "\n",
       "[90 rows x 2 columns]"
      ],
      "text/html": "<div>\n<style scoped>\n    .dataframe tbody tr th:only-of-type {\n        vertical-align: middle;\n    }\n\n    .dataframe tbody tr th {\n        vertical-align: top;\n    }\n\n    .dataframe thead th {\n        text-align: right;\n    }\n</style>\n<table border=\"1\" class=\"dataframe\">\n  <thead>\n    <tr style=\"text-align: right;\">\n      <th></th>\n      <th>age</th>\n      <th>work_type</th>\n    </tr>\n  </thead>\n  <tbody>\n    <tr>\n      <th>8</th>\n      <td>NaN</td>\n      <td>0</td>\n    </tr>\n    <tr>\n      <th>60</th>\n      <td>NaN</td>\n      <td>0</td>\n    </tr>\n    <tr>\n      <th>87</th>\n      <td>NaN</td>\n      <td>3</td>\n    </tr>\n    <tr>\n      <th>136</th>\n      <td>NaN</td>\n      <td>2</td>\n    </tr>\n    <tr>\n      <th>139</th>\n      <td>NaN</td>\n      <td>2</td>\n    </tr>\n    <tr>\n      <th>...</th>\n      <td>...</td>\n      <td>...</td>\n    </tr>\n    <tr>\n      <th>3424</th>\n      <td>NaN</td>\n      <td>2</td>\n    </tr>\n    <tr>\n      <th>3491</th>\n      <td>NaN</td>\n      <td>3</td>\n    </tr>\n    <tr>\n      <th>3510</th>\n      <td>NaN</td>\n      <td>2</td>\n    </tr>\n    <tr>\n      <th>3829</th>\n      <td>NaN</td>\n      <td>3</td>\n    </tr>\n    <tr>\n      <th>3903</th>\n      <td>NaN</td>\n      <td>2</td>\n    </tr>\n  </tbody>\n</table>\n<p>90 rows × 2 columns</p>\n</div>"
     },
     "metadata": {},
     "execution_count": 17
    }
   ],
   "source": [
    "df_age_worktype_NaN = df_age_worktype.copy()\n",
    "df_age_worktype_NaN = df_age_worktype_NaN.loc[df_age_worktype['age'].isna()]\n",
    "df_age_worktype_NaN"
   ]
  },
  {
   "cell_type": "code",
   "execution_count": 18,
   "metadata": {},
   "outputs": [
    {
     "output_type": "execute_result",
     "data": {
      "text/plain": [
       "       age  work_type\n",
       "8     39.6          0\n",
       "60    39.6          0\n",
       "87    57.2          3\n",
       "136   37.8          2\n",
       "139   37.8          2\n",
       "...    ...        ...\n",
       "3424  37.8          2\n",
       "3491  57.2          3\n",
       "3510  37.8          2\n",
       "3829  57.2          3\n",
       "3903  37.8          2\n",
       "\n",
       "[90 rows x 2 columns]"
      ],
      "text/html": "<div>\n<style scoped>\n    .dataframe tbody tr th:only-of-type {\n        vertical-align: middle;\n    }\n\n    .dataframe tbody tr th {\n        vertical-align: top;\n    }\n\n    .dataframe thead th {\n        text-align: right;\n    }\n</style>\n<table border=\"1\" class=\"dataframe\">\n  <thead>\n    <tr style=\"text-align: right;\">\n      <th></th>\n      <th>age</th>\n      <th>work_type</th>\n    </tr>\n  </thead>\n  <tbody>\n    <tr>\n      <th>8</th>\n      <td>39.6</td>\n      <td>0</td>\n    </tr>\n    <tr>\n      <th>60</th>\n      <td>39.6</td>\n      <td>0</td>\n    </tr>\n    <tr>\n      <th>87</th>\n      <td>57.2</td>\n      <td>3</td>\n    </tr>\n    <tr>\n      <th>136</th>\n      <td>37.8</td>\n      <td>2</td>\n    </tr>\n    <tr>\n      <th>139</th>\n      <td>37.8</td>\n      <td>2</td>\n    </tr>\n    <tr>\n      <th>...</th>\n      <td>...</td>\n      <td>...</td>\n    </tr>\n    <tr>\n      <th>3424</th>\n      <td>37.8</td>\n      <td>2</td>\n    </tr>\n    <tr>\n      <th>3491</th>\n      <td>57.2</td>\n      <td>3</td>\n    </tr>\n    <tr>\n      <th>3510</th>\n      <td>37.8</td>\n      <td>2</td>\n    </tr>\n    <tr>\n      <th>3829</th>\n      <td>57.2</td>\n      <td>3</td>\n    </tr>\n    <tr>\n      <th>3903</th>\n      <td>37.8</td>\n      <td>2</td>\n    </tr>\n  </tbody>\n</table>\n<p>90 rows × 2 columns</p>\n</div>"
     },
     "metadata": {},
     "execution_count": 18
    }
   ],
   "source": [
    "age_p = [knn_reg.predict([[worktype]])[0] for _,worktype in df_age_worktype_NaN.iloc]\n",
    "df_age_worktype_NaN['age'] = age_p\n",
    "df_age_worktype_NaN"
   ]
  },
  {
   "cell_type": "code",
   "execution_count": 19,
   "metadata": {},
   "outputs": [],
   "source": [
    "a = df_age_worktype_NaN['age']"
   ]
  },
  {
   "cell_type": "code",
   "execution_count": 20,
   "metadata": {},
   "outputs": [],
   "source": [
    "df_age_worktype['age']= df_age_worktype['age'].fillna(a)"
   ]
  },
  {
   "cell_type": "code",
   "execution_count": 21,
   "metadata": {},
   "outputs": [],
   "source": [
    "a = df_age_worktype['age']"
   ]
  },
  {
   "cell_type": "code",
   "execution_count": 22,
   "metadata": {},
   "outputs": [],
   "source": [
    "raw_df.drop(columns='age', inplace=True)\n",
    "raw_df['age'] = a"
   ]
  },
  {
   "cell_type": "code",
   "execution_count": 23,
   "metadata": {},
   "outputs": [],
   "source": [
    "raw_df['age'] = a"
   ]
  },
  {
   "cell_type": "code",
   "execution_count": 24,
   "metadata": {},
   "outputs": [
    {
     "output_type": "execute_result",
     "data": {
      "text/plain": [
       "      gender  hypertension  heart_disease  ever_married work_type  \\\n",
       "0     Female           0.0            0.0             0  children   \n",
       "1       Male           0.0            0.0             1   Private   \n",
       "2     Female           0.0            0.0             0   Private   \n",
       "3     Female           0.0            0.0             0   Private   \n",
       "4     Female           0.0            0.0             1   Private   \n",
       "...      ...           ...            ...           ...       ...   \n",
       "3995    Male           0.0            0.0             0   Private   \n",
       "3996    Male           0.0            0.0             1   Private   \n",
       "3997   Other           1.0            0.0             1   Private   \n",
       "3998  Female           0.0            0.0             1   Private   \n",
       "3999  Female           1.0            0.0             1   Private   \n",
       "\n",
       "      Residence_type  avg_glucose_level   bmi  smoking_status blood  stroke  \\\n",
       "0                  0              85.81  18.6               0     O       0   \n",
       "1                  1              89.17   NaN               1     B       0   \n",
       "2                  0              98.53  18.5               1     B       0   \n",
       "3                  1             108.89  52.3               0     O       0   \n",
       "4                  0              91.44   NaN               0     O       0   \n",
       "...              ...                ...   ...             ...   ...     ...   \n",
       "3995               0              99.49  22.0               0     B       0   \n",
       "3996               2              75.30  25.0               2     B       0   \n",
       "3997               2             129.54  60.9               3    AB       0   \n",
       "3998               0             172.33  45.3               2     O       0   \n",
       "3999               1              62.55  30.3               0     O       1   \n",
       "\n",
       "            age  \n",
       "0      6.816858  \n",
       "1     55.000000  \n",
       "2     42.000000  \n",
       "3     31.000000  \n",
       "4     38.000000  \n",
       "...         ...  \n",
       "3995  16.000000  \n",
       "3996  47.000000  \n",
       "3997  57.000000  \n",
       "3998  45.000000  \n",
       "3999  53.000000  \n",
       "\n",
       "[4000 rows x 12 columns]"
      ],
      "text/html": "<div>\n<style scoped>\n    .dataframe tbody tr th:only-of-type {\n        vertical-align: middle;\n    }\n\n    .dataframe tbody tr th {\n        vertical-align: top;\n    }\n\n    .dataframe thead th {\n        text-align: right;\n    }\n</style>\n<table border=\"1\" class=\"dataframe\">\n  <thead>\n    <tr style=\"text-align: right;\">\n      <th></th>\n      <th>gender</th>\n      <th>hypertension</th>\n      <th>heart_disease</th>\n      <th>ever_married</th>\n      <th>work_type</th>\n      <th>Residence_type</th>\n      <th>avg_glucose_level</th>\n      <th>bmi</th>\n      <th>smoking_status</th>\n      <th>blood</th>\n      <th>stroke</th>\n      <th>age</th>\n    </tr>\n  </thead>\n  <tbody>\n    <tr>\n      <th>0</th>\n      <td>Female</td>\n      <td>0.0</td>\n      <td>0.0</td>\n      <td>0</td>\n      <td>children</td>\n      <td>0</td>\n      <td>85.81</td>\n      <td>18.6</td>\n      <td>0</td>\n      <td>O</td>\n      <td>0</td>\n      <td>6.816858</td>\n    </tr>\n    <tr>\n      <th>1</th>\n      <td>Male</td>\n      <td>0.0</td>\n      <td>0.0</td>\n      <td>1</td>\n      <td>Private</td>\n      <td>1</td>\n      <td>89.17</td>\n      <td>NaN</td>\n      <td>1</td>\n      <td>B</td>\n      <td>0</td>\n      <td>55.000000</td>\n    </tr>\n    <tr>\n      <th>2</th>\n      <td>Female</td>\n      <td>0.0</td>\n      <td>0.0</td>\n      <td>0</td>\n      <td>Private</td>\n      <td>0</td>\n      <td>98.53</td>\n      <td>18.5</td>\n      <td>1</td>\n      <td>B</td>\n      <td>0</td>\n      <td>42.000000</td>\n    </tr>\n    <tr>\n      <th>3</th>\n      <td>Female</td>\n      <td>0.0</td>\n      <td>0.0</td>\n      <td>0</td>\n      <td>Private</td>\n      <td>1</td>\n      <td>108.89</td>\n      <td>52.3</td>\n      <td>0</td>\n      <td>O</td>\n      <td>0</td>\n      <td>31.000000</td>\n    </tr>\n    <tr>\n      <th>4</th>\n      <td>Female</td>\n      <td>0.0</td>\n      <td>0.0</td>\n      <td>1</td>\n      <td>Private</td>\n      <td>0</td>\n      <td>91.44</td>\n      <td>NaN</td>\n      <td>0</td>\n      <td>O</td>\n      <td>0</td>\n      <td>38.000000</td>\n    </tr>\n    <tr>\n      <th>...</th>\n      <td>...</td>\n      <td>...</td>\n      <td>...</td>\n      <td>...</td>\n      <td>...</td>\n      <td>...</td>\n      <td>...</td>\n      <td>...</td>\n      <td>...</td>\n      <td>...</td>\n      <td>...</td>\n      <td>...</td>\n    </tr>\n    <tr>\n      <th>3995</th>\n      <td>Male</td>\n      <td>0.0</td>\n      <td>0.0</td>\n      <td>0</td>\n      <td>Private</td>\n      <td>0</td>\n      <td>99.49</td>\n      <td>22.0</td>\n      <td>0</td>\n      <td>B</td>\n      <td>0</td>\n      <td>16.000000</td>\n    </tr>\n    <tr>\n      <th>3996</th>\n      <td>Male</td>\n      <td>0.0</td>\n      <td>0.0</td>\n      <td>1</td>\n      <td>Private</td>\n      <td>2</td>\n      <td>75.30</td>\n      <td>25.0</td>\n      <td>2</td>\n      <td>B</td>\n      <td>0</td>\n      <td>47.000000</td>\n    </tr>\n    <tr>\n      <th>3997</th>\n      <td>Other</td>\n      <td>1.0</td>\n      <td>0.0</td>\n      <td>1</td>\n      <td>Private</td>\n      <td>2</td>\n      <td>129.54</td>\n      <td>60.9</td>\n      <td>3</td>\n      <td>AB</td>\n      <td>0</td>\n      <td>57.000000</td>\n    </tr>\n    <tr>\n      <th>3998</th>\n      <td>Female</td>\n      <td>0.0</td>\n      <td>0.0</td>\n      <td>1</td>\n      <td>Private</td>\n      <td>0</td>\n      <td>172.33</td>\n      <td>45.3</td>\n      <td>2</td>\n      <td>O</td>\n      <td>0</td>\n      <td>45.000000</td>\n    </tr>\n    <tr>\n      <th>3999</th>\n      <td>Female</td>\n      <td>1.0</td>\n      <td>0.0</td>\n      <td>1</td>\n      <td>Private</td>\n      <td>1</td>\n      <td>62.55</td>\n      <td>30.3</td>\n      <td>0</td>\n      <td>O</td>\n      <td>1</td>\n      <td>53.000000</td>\n    </tr>\n  </tbody>\n</table>\n<p>4000 rows × 12 columns</p>\n</div>"
     },
     "metadata": {},
     "execution_count": 24
    }
   ],
   "source": [
    "raw_df"
   ]
  },
  {
   "cell_type": "code",
   "execution_count": 25,
   "metadata": {},
   "outputs": [],
   "source": [
    "raw_df.to_csv('./Dataset/Precessed_train_le_no_scale_full_age.csv', index=False)"
   ]
  },
  {
   "cell_type": "code",
   "execution_count": 26,
   "metadata": {},
   "outputs": [
    {
     "output_type": "execute_result",
     "data": {
      "text/plain": [
       "      gender  hypertension  heart_disease  ever_married work_type  \\\n",
       "0     Female           0.0            0.0             0  children   \n",
       "1       Male           0.0            0.0             1   Private   \n",
       "2     Female           0.0            0.0             0   Private   \n",
       "3     Female           0.0            0.0             0   Private   \n",
       "4     Female           0.0            0.0             1   Private   \n",
       "...      ...           ...            ...           ...       ...   \n",
       "3995    Male           0.0            0.0             0   Private   \n",
       "3996    Male           0.0            0.0             1   Private   \n",
       "3997   Other           1.0            0.0             1   Private   \n",
       "3998  Female           0.0            0.0             1   Private   \n",
       "3999  Female           1.0            0.0             1   Private   \n",
       "\n",
       "      Residence_type  avg_glucose_level   bmi  smoking_status blood  stroke  \\\n",
       "0                  0              85.81  18.6               0     O       0   \n",
       "1                  1              89.17   NaN               1     B       0   \n",
       "2                  0              98.53  18.5               1     B       0   \n",
       "3                  1             108.89  52.3               0     O       0   \n",
       "4                  0              91.44   NaN               0     O       0   \n",
       "...              ...                ...   ...             ...   ...     ...   \n",
       "3995               0              99.49  22.0               0     B       0   \n",
       "3996               2              75.30  25.0               2     B       0   \n",
       "3997               2             129.54  60.9               3    AB       0   \n",
       "3998               0             172.33  45.3               2     O       0   \n",
       "3999               1              62.55  30.3               0     O       1   \n",
       "\n",
       "      age  \n",
       "0       7  \n",
       "1      55  \n",
       "2      42  \n",
       "3      31  \n",
       "4      38  \n",
       "...   ...  \n",
       "3995   16  \n",
       "3996   47  \n",
       "3997   57  \n",
       "3998   45  \n",
       "3999   53  \n",
       "\n",
       "[4000 rows x 12 columns]"
      ],
      "text/html": "<div>\n<style scoped>\n    .dataframe tbody tr th:only-of-type {\n        vertical-align: middle;\n    }\n\n    .dataframe tbody tr th {\n        vertical-align: top;\n    }\n\n    .dataframe thead th {\n        text-align: right;\n    }\n</style>\n<table border=\"1\" class=\"dataframe\">\n  <thead>\n    <tr style=\"text-align: right;\">\n      <th></th>\n      <th>gender</th>\n      <th>hypertension</th>\n      <th>heart_disease</th>\n      <th>ever_married</th>\n      <th>work_type</th>\n      <th>Residence_type</th>\n      <th>avg_glucose_level</th>\n      <th>bmi</th>\n      <th>smoking_status</th>\n      <th>blood</th>\n      <th>stroke</th>\n      <th>age</th>\n    </tr>\n  </thead>\n  <tbody>\n    <tr>\n      <th>0</th>\n      <td>Female</td>\n      <td>0.0</td>\n      <td>0.0</td>\n      <td>0</td>\n      <td>children</td>\n      <td>0</td>\n      <td>85.81</td>\n      <td>18.6</td>\n      <td>0</td>\n      <td>O</td>\n      <td>0</td>\n      <td>7</td>\n    </tr>\n    <tr>\n      <th>1</th>\n      <td>Male</td>\n      <td>0.0</td>\n      <td>0.0</td>\n      <td>1</td>\n      <td>Private</td>\n      <td>1</td>\n      <td>89.17</td>\n      <td>NaN</td>\n      <td>1</td>\n      <td>B</td>\n      <td>0</td>\n      <td>55</td>\n    </tr>\n    <tr>\n      <th>2</th>\n      <td>Female</td>\n      <td>0.0</td>\n      <td>0.0</td>\n      <td>0</td>\n      <td>Private</td>\n      <td>0</td>\n      <td>98.53</td>\n      <td>18.5</td>\n      <td>1</td>\n      <td>B</td>\n      <td>0</td>\n      <td>42</td>\n    </tr>\n    <tr>\n      <th>3</th>\n      <td>Female</td>\n      <td>0.0</td>\n      <td>0.0</td>\n      <td>0</td>\n      <td>Private</td>\n      <td>1</td>\n      <td>108.89</td>\n      <td>52.3</td>\n      <td>0</td>\n      <td>O</td>\n      <td>0</td>\n      <td>31</td>\n    </tr>\n    <tr>\n      <th>4</th>\n      <td>Female</td>\n      <td>0.0</td>\n      <td>0.0</td>\n      <td>1</td>\n      <td>Private</td>\n      <td>0</td>\n      <td>91.44</td>\n      <td>NaN</td>\n      <td>0</td>\n      <td>O</td>\n      <td>0</td>\n      <td>38</td>\n    </tr>\n    <tr>\n      <th>...</th>\n      <td>...</td>\n      <td>...</td>\n      <td>...</td>\n      <td>...</td>\n      <td>...</td>\n      <td>...</td>\n      <td>...</td>\n      <td>...</td>\n      <td>...</td>\n      <td>...</td>\n      <td>...</td>\n      <td>...</td>\n    </tr>\n    <tr>\n      <th>3995</th>\n      <td>Male</td>\n      <td>0.0</td>\n      <td>0.0</td>\n      <td>0</td>\n      <td>Private</td>\n      <td>0</td>\n      <td>99.49</td>\n      <td>22.0</td>\n      <td>0</td>\n      <td>B</td>\n      <td>0</td>\n      <td>16</td>\n    </tr>\n    <tr>\n      <th>3996</th>\n      <td>Male</td>\n      <td>0.0</td>\n      <td>0.0</td>\n      <td>1</td>\n      <td>Private</td>\n      <td>2</td>\n      <td>75.30</td>\n      <td>25.0</td>\n      <td>2</td>\n      <td>B</td>\n      <td>0</td>\n      <td>47</td>\n    </tr>\n    <tr>\n      <th>3997</th>\n      <td>Other</td>\n      <td>1.0</td>\n      <td>0.0</td>\n      <td>1</td>\n      <td>Private</td>\n      <td>2</td>\n      <td>129.54</td>\n      <td>60.9</td>\n      <td>3</td>\n      <td>AB</td>\n      <td>0</td>\n      <td>57</td>\n    </tr>\n    <tr>\n      <th>3998</th>\n      <td>Female</td>\n      <td>0.0</td>\n      <td>0.0</td>\n      <td>1</td>\n      <td>Private</td>\n      <td>0</td>\n      <td>172.33</td>\n      <td>45.3</td>\n      <td>2</td>\n      <td>O</td>\n      <td>0</td>\n      <td>45</td>\n    </tr>\n    <tr>\n      <th>3999</th>\n      <td>Female</td>\n      <td>1.0</td>\n      <td>0.0</td>\n      <td>1</td>\n      <td>Private</td>\n      <td>1</td>\n      <td>62.55</td>\n      <td>30.3</td>\n      <td>0</td>\n      <td>O</td>\n      <td>1</td>\n      <td>53</td>\n    </tr>\n  </tbody>\n</table>\n<p>4000 rows × 12 columns</p>\n</div>"
     },
     "metadata": {},
     "execution_count": 26
    }
   ],
   "source": [
    "raw_df['age'] = raw_df['age'].round().astype(int)\n",
    "raw_df\n"
   ]
  },
  {
   "cell_type": "code",
   "execution_count": 27,
   "metadata": {},
   "outputs": [
    {
     "output_type": "execute_result",
     "data": {
      "text/plain": [
       "4    997\n",
       "3    962\n",
       "2    711\n",
       "5    707\n",
       "1    623\n",
       "Name: age_bin, dtype: int64"
      ]
     },
     "metadata": {},
     "execution_count": 27
    }
   ],
   "source": [
    "labels = [1,2,3,4,5]\n",
    "raw_df[\"age_bin\"] = pd.cut(raw_df[\"age\"], 5, labels=labels)\n",
    "raw_df['age_bin'].value_counts()"
   ]
  },
  {
   "cell_type": "code",
   "execution_count": 28,
   "metadata": {},
   "outputs": [
    {
     "output_type": "execute_result",
     "data": {
      "text/plain": [
       "      gender  hypertension  heart_disease  ever_married work_type  \\\n",
       "0     Female           0.0            0.0             0  children   \n",
       "1       Male           0.0            0.0             1   Private   \n",
       "2     Female           0.0            0.0             0   Private   \n",
       "3     Female           0.0            0.0             0   Private   \n",
       "4     Female           0.0            0.0             1   Private   \n",
       "...      ...           ...            ...           ...       ...   \n",
       "3995    Male           0.0            0.0             0   Private   \n",
       "3996    Male           0.0            0.0             1   Private   \n",
       "3997   Other           1.0            0.0             1   Private   \n",
       "3998  Female           0.0            0.0             1   Private   \n",
       "3999  Female           1.0            0.0             1   Private   \n",
       "\n",
       "      Residence_type  avg_glucose_level   bmi  smoking_status blood  stroke  \\\n",
       "0                  0              85.81  18.6               0     O       0   \n",
       "1                  1              89.17   NaN               1     B       0   \n",
       "2                  0              98.53  18.5               1     B       0   \n",
       "3                  1             108.89  52.3               0     O       0   \n",
       "4                  0              91.44   NaN               0     O       0   \n",
       "...              ...                ...   ...             ...   ...     ...   \n",
       "3995               0              99.49  22.0               0     B       0   \n",
       "3996               2              75.30  25.0               2     B       0   \n",
       "3997               2             129.54  60.9               3    AB       0   \n",
       "3998               0             172.33  45.3               2     O       0   \n",
       "3999               1              62.55  30.3               0     O       1   \n",
       "\n",
       "      age age_bin  \n",
       "0       7       1  \n",
       "1      55       4  \n",
       "2      42       3  \n",
       "3      31       2  \n",
       "4      38       3  \n",
       "...   ...     ...  \n",
       "3995   16       1  \n",
       "3996   47       3  \n",
       "3997   57       4  \n",
       "3998   45       3  \n",
       "3999   53       4  \n",
       "\n",
       "[4000 rows x 13 columns]"
      ],
      "text/html": "<div>\n<style scoped>\n    .dataframe tbody tr th:only-of-type {\n        vertical-align: middle;\n    }\n\n    .dataframe tbody tr th {\n        vertical-align: top;\n    }\n\n    .dataframe thead th {\n        text-align: right;\n    }\n</style>\n<table border=\"1\" class=\"dataframe\">\n  <thead>\n    <tr style=\"text-align: right;\">\n      <th></th>\n      <th>gender</th>\n      <th>hypertension</th>\n      <th>heart_disease</th>\n      <th>ever_married</th>\n      <th>work_type</th>\n      <th>Residence_type</th>\n      <th>avg_glucose_level</th>\n      <th>bmi</th>\n      <th>smoking_status</th>\n      <th>blood</th>\n      <th>stroke</th>\n      <th>age</th>\n      <th>age_bin</th>\n    </tr>\n  </thead>\n  <tbody>\n    <tr>\n      <th>0</th>\n      <td>Female</td>\n      <td>0.0</td>\n      <td>0.0</td>\n      <td>0</td>\n      <td>children</td>\n      <td>0</td>\n      <td>85.81</td>\n      <td>18.6</td>\n      <td>0</td>\n      <td>O</td>\n      <td>0</td>\n      <td>7</td>\n      <td>1</td>\n    </tr>\n    <tr>\n      <th>1</th>\n      <td>Male</td>\n      <td>0.0</td>\n      <td>0.0</td>\n      <td>1</td>\n      <td>Private</td>\n      <td>1</td>\n      <td>89.17</td>\n      <td>NaN</td>\n      <td>1</td>\n      <td>B</td>\n      <td>0</td>\n      <td>55</td>\n      <td>4</td>\n    </tr>\n    <tr>\n      <th>2</th>\n      <td>Female</td>\n      <td>0.0</td>\n      <td>0.0</td>\n      <td>0</td>\n      <td>Private</td>\n      <td>0</td>\n      <td>98.53</td>\n      <td>18.5</td>\n      <td>1</td>\n      <td>B</td>\n      <td>0</td>\n      <td>42</td>\n      <td>3</td>\n    </tr>\n    <tr>\n      <th>3</th>\n      <td>Female</td>\n      <td>0.0</td>\n      <td>0.0</td>\n      <td>0</td>\n      <td>Private</td>\n      <td>1</td>\n      <td>108.89</td>\n      <td>52.3</td>\n      <td>0</td>\n      <td>O</td>\n      <td>0</td>\n      <td>31</td>\n      <td>2</td>\n    </tr>\n    <tr>\n      <th>4</th>\n      <td>Female</td>\n      <td>0.0</td>\n      <td>0.0</td>\n      <td>1</td>\n      <td>Private</td>\n      <td>0</td>\n      <td>91.44</td>\n      <td>NaN</td>\n      <td>0</td>\n      <td>O</td>\n      <td>0</td>\n      <td>38</td>\n      <td>3</td>\n    </tr>\n    <tr>\n      <th>...</th>\n      <td>...</td>\n      <td>...</td>\n      <td>...</td>\n      <td>...</td>\n      <td>...</td>\n      <td>...</td>\n      <td>...</td>\n      <td>...</td>\n      <td>...</td>\n      <td>...</td>\n      <td>...</td>\n      <td>...</td>\n      <td>...</td>\n    </tr>\n    <tr>\n      <th>3995</th>\n      <td>Male</td>\n      <td>0.0</td>\n      <td>0.0</td>\n      <td>0</td>\n      <td>Private</td>\n      <td>0</td>\n      <td>99.49</td>\n      <td>22.0</td>\n      <td>0</td>\n      <td>B</td>\n      <td>0</td>\n      <td>16</td>\n      <td>1</td>\n    </tr>\n    <tr>\n      <th>3996</th>\n      <td>Male</td>\n      <td>0.0</td>\n      <td>0.0</td>\n      <td>1</td>\n      <td>Private</td>\n      <td>2</td>\n      <td>75.30</td>\n      <td>25.0</td>\n      <td>2</td>\n      <td>B</td>\n      <td>0</td>\n      <td>47</td>\n      <td>3</td>\n    </tr>\n    <tr>\n      <th>3997</th>\n      <td>Other</td>\n      <td>1.0</td>\n      <td>0.0</td>\n      <td>1</td>\n      <td>Private</td>\n      <td>2</td>\n      <td>129.54</td>\n      <td>60.9</td>\n      <td>3</td>\n      <td>AB</td>\n      <td>0</td>\n      <td>57</td>\n      <td>4</td>\n    </tr>\n    <tr>\n      <th>3998</th>\n      <td>Female</td>\n      <td>0.0</td>\n      <td>0.0</td>\n      <td>1</td>\n      <td>Private</td>\n      <td>0</td>\n      <td>172.33</td>\n      <td>45.3</td>\n      <td>2</td>\n      <td>O</td>\n      <td>0</td>\n      <td>45</td>\n      <td>3</td>\n    </tr>\n    <tr>\n      <th>3999</th>\n      <td>Female</td>\n      <td>1.0</td>\n      <td>0.0</td>\n      <td>1</td>\n      <td>Private</td>\n      <td>1</td>\n      <td>62.55</td>\n      <td>30.3</td>\n      <td>0</td>\n      <td>O</td>\n      <td>1</td>\n      <td>53</td>\n      <td>4</td>\n    </tr>\n  </tbody>\n</table>\n<p>4000 rows × 13 columns</p>\n</div>"
     },
     "metadata": {},
     "execution_count": 28
    }
   ],
   "source": [
    "raw_df"
   ]
  },
  {
   "cell_type": "code",
   "execution_count": 29,
   "metadata": {},
   "outputs": [
    {
     "output_type": "execute_result",
     "data": {
      "text/plain": [
       "age_bin\n",
       "1    20.640222\n",
       "2    28.814368\n",
       "3    31.338164\n",
       "4    31.463916\n",
       "5    29.288200\n",
       "Name: bmi, dtype: float64"
      ]
     },
     "metadata": {},
     "execution_count": 29
    }
   ],
   "source": [
    "gb_bmi = raw_df.groupby(\"age_bin\")[\"bmi\"].mean()\n",
    "gb_bmi"
   ]
  },
  {
   "cell_type": "code",
   "execution_count": 30,
   "metadata": {},
   "outputs": [],
   "source": [
    "def impute_bmi(cols):\n",
    "    bmi = cols[0]\n",
    "    age_bin = cols[1]\n",
    "    \n",
    "    if pd.isnull(bmi):\n",
    "        if age_bin == 1:\n",
    "            return 20.640222\n",
    "        elif age_bin == 2:\n",
    "            return 28.814368\n",
    "        elif age_bin == 3:\n",
    "            return 31.338164\n",
    "        elif age_bin == 4:\n",
    "            return 31.463916\n",
    "        elif age_bin == 5:\n",
    "            return 29.288200\n",
    "    else:\n",
    "        return bmi"
   ]
  },
  {
   "cell_type": "code",
   "execution_count": 31,
   "metadata": {},
   "outputs": [
    {
     "output_type": "execute_result",
     "data": {
      "text/plain": [
       "      gender  hypertension  heart_disease  ever_married work_type  \\\n",
       "0     Female           0.0            0.0             0  children   \n",
       "1       Male           0.0            0.0             1   Private   \n",
       "2     Female           0.0            0.0             0   Private   \n",
       "3     Female           0.0            0.0             0   Private   \n",
       "4     Female           0.0            0.0             1   Private   \n",
       "...      ...           ...            ...           ...       ...   \n",
       "3995    Male           0.0            0.0             0   Private   \n",
       "3996    Male           0.0            0.0             1   Private   \n",
       "3997   Other           1.0            0.0             1   Private   \n",
       "3998  Female           0.0            0.0             1   Private   \n",
       "3999  Female           1.0            0.0             1   Private   \n",
       "\n",
       "      Residence_type  avg_glucose_level        bmi  smoking_status blood  \\\n",
       "0                  0              85.81  18.600000               0     O   \n",
       "1                  1              89.17  31.463916               1     B   \n",
       "2                  0              98.53  18.500000               1     B   \n",
       "3                  1             108.89  52.300000               0     O   \n",
       "4                  0              91.44  31.338164               0     O   \n",
       "...              ...                ...        ...             ...   ...   \n",
       "3995               0              99.49  22.000000               0     B   \n",
       "3996               2              75.30  25.000000               2     B   \n",
       "3997               2             129.54  60.900000               3    AB   \n",
       "3998               0             172.33  45.300000               2     O   \n",
       "3999               1              62.55  30.300000               0     O   \n",
       "\n",
       "      stroke  age age_bin  \n",
       "0          0    7       1  \n",
       "1          0   55       4  \n",
       "2          0   42       3  \n",
       "3          0   31       2  \n",
       "4          0   38       3  \n",
       "...      ...  ...     ...  \n",
       "3995       0   16       1  \n",
       "3996       0   47       3  \n",
       "3997       0   57       4  \n",
       "3998       0   45       3  \n",
       "3999       1   53       4  \n",
       "\n",
       "[4000 rows x 13 columns]"
      ],
      "text/html": "<div>\n<style scoped>\n    .dataframe tbody tr th:only-of-type {\n        vertical-align: middle;\n    }\n\n    .dataframe tbody tr th {\n        vertical-align: top;\n    }\n\n    .dataframe thead th {\n        text-align: right;\n    }\n</style>\n<table border=\"1\" class=\"dataframe\">\n  <thead>\n    <tr style=\"text-align: right;\">\n      <th></th>\n      <th>gender</th>\n      <th>hypertension</th>\n      <th>heart_disease</th>\n      <th>ever_married</th>\n      <th>work_type</th>\n      <th>Residence_type</th>\n      <th>avg_glucose_level</th>\n      <th>bmi</th>\n      <th>smoking_status</th>\n      <th>blood</th>\n      <th>stroke</th>\n      <th>age</th>\n      <th>age_bin</th>\n    </tr>\n  </thead>\n  <tbody>\n    <tr>\n      <th>0</th>\n      <td>Female</td>\n      <td>0.0</td>\n      <td>0.0</td>\n      <td>0</td>\n      <td>children</td>\n      <td>0</td>\n      <td>85.81</td>\n      <td>18.600000</td>\n      <td>0</td>\n      <td>O</td>\n      <td>0</td>\n      <td>7</td>\n      <td>1</td>\n    </tr>\n    <tr>\n      <th>1</th>\n      <td>Male</td>\n      <td>0.0</td>\n      <td>0.0</td>\n      <td>1</td>\n      <td>Private</td>\n      <td>1</td>\n      <td>89.17</td>\n      <td>31.463916</td>\n      <td>1</td>\n      <td>B</td>\n      <td>0</td>\n      <td>55</td>\n      <td>4</td>\n    </tr>\n    <tr>\n      <th>2</th>\n      <td>Female</td>\n      <td>0.0</td>\n      <td>0.0</td>\n      <td>0</td>\n      <td>Private</td>\n      <td>0</td>\n      <td>98.53</td>\n      <td>18.500000</td>\n      <td>1</td>\n      <td>B</td>\n      <td>0</td>\n      <td>42</td>\n      <td>3</td>\n    </tr>\n    <tr>\n      <th>3</th>\n      <td>Female</td>\n      <td>0.0</td>\n      <td>0.0</td>\n      <td>0</td>\n      <td>Private</td>\n      <td>1</td>\n      <td>108.89</td>\n      <td>52.300000</td>\n      <td>0</td>\n      <td>O</td>\n      <td>0</td>\n      <td>31</td>\n      <td>2</td>\n    </tr>\n    <tr>\n      <th>4</th>\n      <td>Female</td>\n      <td>0.0</td>\n      <td>0.0</td>\n      <td>1</td>\n      <td>Private</td>\n      <td>0</td>\n      <td>91.44</td>\n      <td>31.338164</td>\n      <td>0</td>\n      <td>O</td>\n      <td>0</td>\n      <td>38</td>\n      <td>3</td>\n    </tr>\n    <tr>\n      <th>...</th>\n      <td>...</td>\n      <td>...</td>\n      <td>...</td>\n      <td>...</td>\n      <td>...</td>\n      <td>...</td>\n      <td>...</td>\n      <td>...</td>\n      <td>...</td>\n      <td>...</td>\n      <td>...</td>\n      <td>...</td>\n      <td>...</td>\n    </tr>\n    <tr>\n      <th>3995</th>\n      <td>Male</td>\n      <td>0.0</td>\n      <td>0.0</td>\n      <td>0</td>\n      <td>Private</td>\n      <td>0</td>\n      <td>99.49</td>\n      <td>22.000000</td>\n      <td>0</td>\n      <td>B</td>\n      <td>0</td>\n      <td>16</td>\n      <td>1</td>\n    </tr>\n    <tr>\n      <th>3996</th>\n      <td>Male</td>\n      <td>0.0</td>\n      <td>0.0</td>\n      <td>1</td>\n      <td>Private</td>\n      <td>2</td>\n      <td>75.30</td>\n      <td>25.000000</td>\n      <td>2</td>\n      <td>B</td>\n      <td>0</td>\n      <td>47</td>\n      <td>3</td>\n    </tr>\n    <tr>\n      <th>3997</th>\n      <td>Other</td>\n      <td>1.0</td>\n      <td>0.0</td>\n      <td>1</td>\n      <td>Private</td>\n      <td>2</td>\n      <td>129.54</td>\n      <td>60.900000</td>\n      <td>3</td>\n      <td>AB</td>\n      <td>0</td>\n      <td>57</td>\n      <td>4</td>\n    </tr>\n    <tr>\n      <th>3998</th>\n      <td>Female</td>\n      <td>0.0</td>\n      <td>0.0</td>\n      <td>1</td>\n      <td>Private</td>\n      <td>0</td>\n      <td>172.33</td>\n      <td>45.300000</td>\n      <td>2</td>\n      <td>O</td>\n      <td>0</td>\n      <td>45</td>\n      <td>3</td>\n    </tr>\n    <tr>\n      <th>3999</th>\n      <td>Female</td>\n      <td>1.0</td>\n      <td>0.0</td>\n      <td>1</td>\n      <td>Private</td>\n      <td>1</td>\n      <td>62.55</td>\n      <td>30.300000</td>\n      <td>0</td>\n      <td>O</td>\n      <td>1</td>\n      <td>53</td>\n      <td>4</td>\n    </tr>\n  </tbody>\n</table>\n<p>4000 rows × 13 columns</p>\n</div>"
     },
     "metadata": {},
     "execution_count": 31
    }
   ],
   "source": [
    "raw_df['bmi'] = raw_df[[\"bmi\",\"age_bin\"]].apply(impute_bmi, axis=1)\n",
    "raw_df"
   ]
  },
  {
   "cell_type": "code",
   "execution_count": 32,
   "metadata": {},
   "outputs": [
    {
     "output_type": "execute_result",
     "data": {
      "text/plain": [
       "                   Total  Percent\n",
       "hypertension         230  0.05750\n",
       "avg_glucose_level    171  0.04275\n",
       "heart_disease         90  0.02250\n",
       "blood                 10  0.00250\n",
       "gender                 0  0.00000\n",
       "ever_married           0  0.00000\n",
       "work_type              0  0.00000\n",
       "Residence_type         0  0.00000\n",
       "bmi                    0  0.00000\n",
       "smoking_status         0  0.00000\n",
       "stroke                 0  0.00000\n",
       "age                    0  0.00000\n",
       "age_bin                0  0.00000"
      ],
      "text/html": "<div>\n<style scoped>\n    .dataframe tbody tr th:only-of-type {\n        vertical-align: middle;\n    }\n\n    .dataframe tbody tr th {\n        vertical-align: top;\n    }\n\n    .dataframe thead th {\n        text-align: right;\n    }\n</style>\n<table border=\"1\" class=\"dataframe\">\n  <thead>\n    <tr style=\"text-align: right;\">\n      <th></th>\n      <th>Total</th>\n      <th>Percent</th>\n    </tr>\n  </thead>\n  <tbody>\n    <tr>\n      <th>hypertension</th>\n      <td>230</td>\n      <td>0.05750</td>\n    </tr>\n    <tr>\n      <th>avg_glucose_level</th>\n      <td>171</td>\n      <td>0.04275</td>\n    </tr>\n    <tr>\n      <th>heart_disease</th>\n      <td>90</td>\n      <td>0.02250</td>\n    </tr>\n    <tr>\n      <th>blood</th>\n      <td>10</td>\n      <td>0.00250</td>\n    </tr>\n    <tr>\n      <th>gender</th>\n      <td>0</td>\n      <td>0.00000</td>\n    </tr>\n    <tr>\n      <th>ever_married</th>\n      <td>0</td>\n      <td>0.00000</td>\n    </tr>\n    <tr>\n      <th>work_type</th>\n      <td>0</td>\n      <td>0.00000</td>\n    </tr>\n    <tr>\n      <th>Residence_type</th>\n      <td>0</td>\n      <td>0.00000</td>\n    </tr>\n    <tr>\n      <th>bmi</th>\n      <td>0</td>\n      <td>0.00000</td>\n    </tr>\n    <tr>\n      <th>smoking_status</th>\n      <td>0</td>\n      <td>0.00000</td>\n    </tr>\n    <tr>\n      <th>stroke</th>\n      <td>0</td>\n      <td>0.00000</td>\n    </tr>\n    <tr>\n      <th>age</th>\n      <td>0</td>\n      <td>0.00000</td>\n    </tr>\n    <tr>\n      <th>age_bin</th>\n      <td>0</td>\n      <td>0.00000</td>\n    </tr>\n  </tbody>\n</table>\n</div>"
     },
     "metadata": {},
     "execution_count": 32
    }
   ],
   "source": [
    "draw_missing_data_table(raw_df)"
   ]
  },
  {
   "cell_type": "code",
   "execution_count": 33,
   "metadata": {},
   "outputs": [
    {
     "output_type": "execute_result",
     "data": {
      "text/plain": [
       "      gender  hypertension  heart_disease  ever_married work_type  \\\n",
       "0     Female           0.0            0.0             0  children   \n",
       "1       Male           0.0            0.0             1   Private   \n",
       "2     Female           0.0            0.0             0   Private   \n",
       "3     Female           0.0            0.0             0   Private   \n",
       "4     Female           0.0            0.0             1   Private   \n",
       "...      ...           ...            ...           ...       ...   \n",
       "3995    Male           0.0            0.0             0   Private   \n",
       "3996    Male           0.0            0.0             1   Private   \n",
       "3997   Other           1.0            0.0             1   Private   \n",
       "3998  Female           0.0            0.0             1   Private   \n",
       "3999  Female           1.0            0.0             1   Private   \n",
       "\n",
       "      Residence_type  avg_glucose_level        bmi  smoking_status blood  \\\n",
       "0                  0              85.81  18.600000               0     O   \n",
       "1                  1              89.17  31.463916               1     B   \n",
       "2                  0              98.53  18.500000               1     B   \n",
       "3                  1             108.89  52.300000               0     O   \n",
       "4                  0              91.44  31.338164               0     O   \n",
       "...              ...                ...        ...             ...   ...   \n",
       "3995               0              99.49  22.000000               0     B   \n",
       "3996               2              75.30  25.000000               2     B   \n",
       "3997               2             129.54  60.900000               3    AB   \n",
       "3998               0             172.33  45.300000               2     O   \n",
       "3999               1              62.55  30.300000               0     O   \n",
       "\n",
       "      stroke  age  \n",
       "0          0    7  \n",
       "1          0   55  \n",
       "2          0   42  \n",
       "3          0   31  \n",
       "4          0   38  \n",
       "...      ...  ...  \n",
       "3995       0   16  \n",
       "3996       0   47  \n",
       "3997       0   57  \n",
       "3998       0   45  \n",
       "3999       1   53  \n",
       "\n",
       "[4000 rows x 12 columns]"
      ],
      "text/html": "<div>\n<style scoped>\n    .dataframe tbody tr th:only-of-type {\n        vertical-align: middle;\n    }\n\n    .dataframe tbody tr th {\n        vertical-align: top;\n    }\n\n    .dataframe thead th {\n        text-align: right;\n    }\n</style>\n<table border=\"1\" class=\"dataframe\">\n  <thead>\n    <tr style=\"text-align: right;\">\n      <th></th>\n      <th>gender</th>\n      <th>hypertension</th>\n      <th>heart_disease</th>\n      <th>ever_married</th>\n      <th>work_type</th>\n      <th>Residence_type</th>\n      <th>avg_glucose_level</th>\n      <th>bmi</th>\n      <th>smoking_status</th>\n      <th>blood</th>\n      <th>stroke</th>\n      <th>age</th>\n    </tr>\n  </thead>\n  <tbody>\n    <tr>\n      <th>0</th>\n      <td>Female</td>\n      <td>0.0</td>\n      <td>0.0</td>\n      <td>0</td>\n      <td>children</td>\n      <td>0</td>\n      <td>85.81</td>\n      <td>18.600000</td>\n      <td>0</td>\n      <td>O</td>\n      <td>0</td>\n      <td>7</td>\n    </tr>\n    <tr>\n      <th>1</th>\n      <td>Male</td>\n      <td>0.0</td>\n      <td>0.0</td>\n      <td>1</td>\n      <td>Private</td>\n      <td>1</td>\n      <td>89.17</td>\n      <td>31.463916</td>\n      <td>1</td>\n      <td>B</td>\n      <td>0</td>\n      <td>55</td>\n    </tr>\n    <tr>\n      <th>2</th>\n      <td>Female</td>\n      <td>0.0</td>\n      <td>0.0</td>\n      <td>0</td>\n      <td>Private</td>\n      <td>0</td>\n      <td>98.53</td>\n      <td>18.500000</td>\n      <td>1</td>\n      <td>B</td>\n      <td>0</td>\n      <td>42</td>\n    </tr>\n    <tr>\n      <th>3</th>\n      <td>Female</td>\n      <td>0.0</td>\n      <td>0.0</td>\n      <td>0</td>\n      <td>Private</td>\n      <td>1</td>\n      <td>108.89</td>\n      <td>52.300000</td>\n      <td>0</td>\n      <td>O</td>\n      <td>0</td>\n      <td>31</td>\n    </tr>\n    <tr>\n      <th>4</th>\n      <td>Female</td>\n      <td>0.0</td>\n      <td>0.0</td>\n      <td>1</td>\n      <td>Private</td>\n      <td>0</td>\n      <td>91.44</td>\n      <td>31.338164</td>\n      <td>0</td>\n      <td>O</td>\n      <td>0</td>\n      <td>38</td>\n    </tr>\n    <tr>\n      <th>...</th>\n      <td>...</td>\n      <td>...</td>\n      <td>...</td>\n      <td>...</td>\n      <td>...</td>\n      <td>...</td>\n      <td>...</td>\n      <td>...</td>\n      <td>...</td>\n      <td>...</td>\n      <td>...</td>\n      <td>...</td>\n    </tr>\n    <tr>\n      <th>3995</th>\n      <td>Male</td>\n      <td>0.0</td>\n      <td>0.0</td>\n      <td>0</td>\n      <td>Private</td>\n      <td>0</td>\n      <td>99.49</td>\n      <td>22.000000</td>\n      <td>0</td>\n      <td>B</td>\n      <td>0</td>\n      <td>16</td>\n    </tr>\n    <tr>\n      <th>3996</th>\n      <td>Male</td>\n      <td>0.0</td>\n      <td>0.0</td>\n      <td>1</td>\n      <td>Private</td>\n      <td>2</td>\n      <td>75.30</td>\n      <td>25.000000</td>\n      <td>2</td>\n      <td>B</td>\n      <td>0</td>\n      <td>47</td>\n    </tr>\n    <tr>\n      <th>3997</th>\n      <td>Other</td>\n      <td>1.0</td>\n      <td>0.0</td>\n      <td>1</td>\n      <td>Private</td>\n      <td>2</td>\n      <td>129.54</td>\n      <td>60.900000</td>\n      <td>3</td>\n      <td>AB</td>\n      <td>0</td>\n      <td>57</td>\n    </tr>\n    <tr>\n      <th>3998</th>\n      <td>Female</td>\n      <td>0.0</td>\n      <td>0.0</td>\n      <td>1</td>\n      <td>Private</td>\n      <td>0</td>\n      <td>172.33</td>\n      <td>45.300000</td>\n      <td>2</td>\n      <td>O</td>\n      <td>0</td>\n      <td>45</td>\n    </tr>\n    <tr>\n      <th>3999</th>\n      <td>Female</td>\n      <td>1.0</td>\n      <td>0.0</td>\n      <td>1</td>\n      <td>Private</td>\n      <td>1</td>\n      <td>62.55</td>\n      <td>30.300000</td>\n      <td>0</td>\n      <td>O</td>\n      <td>1</td>\n      <td>53</td>\n    </tr>\n  </tbody>\n</table>\n<p>4000 rows × 12 columns</p>\n</div>"
     },
     "metadata": {},
     "execution_count": 33
    }
   ],
   "source": [
    "raw_df = raw_df.drop(['age_bin'],axis=1)\n",
    "raw_df"
   ]
  },
  {
   "cell_type": "code",
   "execution_count": 34,
   "metadata": {},
   "outputs": [],
   "source": [
    "def impute_bmi_cate(cols):\n",
    "    #Underweight: 0 (<18.5)\n",
    "    #Normal: 1 (18.5—24.9)\n",
    "    #Overweight: 2 (25.0—29.9)\n",
    "    #Above Obese: 3 (>= 30.0)\n",
    "    bmi = cols[0]\n",
    "    if bmi < 18.5:\n",
    "        return 0\n",
    "    elif bmi <= 24.9:\n",
    "        return 1\n",
    "    elif bmi <= 29.9:\n",
    "        return 2\n",
    "    else:\n",
    "        return 3\n"
   ]
  },
  {
   "cell_type": "code",
   "execution_count": 35,
   "metadata": {},
   "outputs": [
    {
     "output_type": "execute_result",
     "data": {
      "text/plain": [
       "      gender  hypertension  heart_disease  ever_married work_type  \\\n",
       "0     Female           0.0            0.0             0  children   \n",
       "1       Male           0.0            0.0             1   Private   \n",
       "2     Female           0.0            0.0             0   Private   \n",
       "3     Female           0.0            0.0             0   Private   \n",
       "4     Female           0.0            0.0             1   Private   \n",
       "...      ...           ...            ...           ...       ...   \n",
       "3995    Male           0.0            0.0             0   Private   \n",
       "3996    Male           0.0            0.0             1   Private   \n",
       "3997   Other           1.0            0.0             1   Private   \n",
       "3998  Female           0.0            0.0             1   Private   \n",
       "3999  Female           1.0            0.0             1   Private   \n",
       "\n",
       "      Residence_type  avg_glucose_level        bmi  smoking_status blood  \\\n",
       "0                  0              85.81  18.600000               0     O   \n",
       "1                  1              89.17  31.463916               1     B   \n",
       "2                  0              98.53  18.500000               1     B   \n",
       "3                  1             108.89  52.300000               0     O   \n",
       "4                  0              91.44  31.338164               0     O   \n",
       "...              ...                ...        ...             ...   ...   \n",
       "3995               0              99.49  22.000000               0     B   \n",
       "3996               2              75.30  25.000000               2     B   \n",
       "3997               2             129.54  60.900000               3    AB   \n",
       "3998               0             172.33  45.300000               2     O   \n",
       "3999               1              62.55  30.300000               0     O   \n",
       "\n",
       "      stroke  age  bmi_category  \n",
       "0          0    7             1  \n",
       "1          0   55             3  \n",
       "2          0   42             1  \n",
       "3          0   31             3  \n",
       "4          0   38             3  \n",
       "...      ...  ...           ...  \n",
       "3995       0   16             1  \n",
       "3996       0   47             2  \n",
       "3997       0   57             3  \n",
       "3998       0   45             3  \n",
       "3999       1   53             3  \n",
       "\n",
       "[4000 rows x 13 columns]"
      ],
      "text/html": "<div>\n<style scoped>\n    .dataframe tbody tr th:only-of-type {\n        vertical-align: middle;\n    }\n\n    .dataframe tbody tr th {\n        vertical-align: top;\n    }\n\n    .dataframe thead th {\n        text-align: right;\n    }\n</style>\n<table border=\"1\" class=\"dataframe\">\n  <thead>\n    <tr style=\"text-align: right;\">\n      <th></th>\n      <th>gender</th>\n      <th>hypertension</th>\n      <th>heart_disease</th>\n      <th>ever_married</th>\n      <th>work_type</th>\n      <th>Residence_type</th>\n      <th>avg_glucose_level</th>\n      <th>bmi</th>\n      <th>smoking_status</th>\n      <th>blood</th>\n      <th>stroke</th>\n      <th>age</th>\n      <th>bmi_category</th>\n    </tr>\n  </thead>\n  <tbody>\n    <tr>\n      <th>0</th>\n      <td>Female</td>\n      <td>0.0</td>\n      <td>0.0</td>\n      <td>0</td>\n      <td>children</td>\n      <td>0</td>\n      <td>85.81</td>\n      <td>18.600000</td>\n      <td>0</td>\n      <td>O</td>\n      <td>0</td>\n      <td>7</td>\n      <td>1</td>\n    </tr>\n    <tr>\n      <th>1</th>\n      <td>Male</td>\n      <td>0.0</td>\n      <td>0.0</td>\n      <td>1</td>\n      <td>Private</td>\n      <td>1</td>\n      <td>89.17</td>\n      <td>31.463916</td>\n      <td>1</td>\n      <td>B</td>\n      <td>0</td>\n      <td>55</td>\n      <td>3</td>\n    </tr>\n    <tr>\n      <th>2</th>\n      <td>Female</td>\n      <td>0.0</td>\n      <td>0.0</td>\n      <td>0</td>\n      <td>Private</td>\n      <td>0</td>\n      <td>98.53</td>\n      <td>18.500000</td>\n      <td>1</td>\n      <td>B</td>\n      <td>0</td>\n      <td>42</td>\n      <td>1</td>\n    </tr>\n    <tr>\n      <th>3</th>\n      <td>Female</td>\n      <td>0.0</td>\n      <td>0.0</td>\n      <td>0</td>\n      <td>Private</td>\n      <td>1</td>\n      <td>108.89</td>\n      <td>52.300000</td>\n      <td>0</td>\n      <td>O</td>\n      <td>0</td>\n      <td>31</td>\n      <td>3</td>\n    </tr>\n    <tr>\n      <th>4</th>\n      <td>Female</td>\n      <td>0.0</td>\n      <td>0.0</td>\n      <td>1</td>\n      <td>Private</td>\n      <td>0</td>\n      <td>91.44</td>\n      <td>31.338164</td>\n      <td>0</td>\n      <td>O</td>\n      <td>0</td>\n      <td>38</td>\n      <td>3</td>\n    </tr>\n    <tr>\n      <th>...</th>\n      <td>...</td>\n      <td>...</td>\n      <td>...</td>\n      <td>...</td>\n      <td>...</td>\n      <td>...</td>\n      <td>...</td>\n      <td>...</td>\n      <td>...</td>\n      <td>...</td>\n      <td>...</td>\n      <td>...</td>\n      <td>...</td>\n    </tr>\n    <tr>\n      <th>3995</th>\n      <td>Male</td>\n      <td>0.0</td>\n      <td>0.0</td>\n      <td>0</td>\n      <td>Private</td>\n      <td>0</td>\n      <td>99.49</td>\n      <td>22.000000</td>\n      <td>0</td>\n      <td>B</td>\n      <td>0</td>\n      <td>16</td>\n      <td>1</td>\n    </tr>\n    <tr>\n      <th>3996</th>\n      <td>Male</td>\n      <td>0.0</td>\n      <td>0.0</td>\n      <td>1</td>\n      <td>Private</td>\n      <td>2</td>\n      <td>75.30</td>\n      <td>25.000000</td>\n      <td>2</td>\n      <td>B</td>\n      <td>0</td>\n      <td>47</td>\n      <td>2</td>\n    </tr>\n    <tr>\n      <th>3997</th>\n      <td>Other</td>\n      <td>1.0</td>\n      <td>0.0</td>\n      <td>1</td>\n      <td>Private</td>\n      <td>2</td>\n      <td>129.54</td>\n      <td>60.900000</td>\n      <td>3</td>\n      <td>AB</td>\n      <td>0</td>\n      <td>57</td>\n      <td>3</td>\n    </tr>\n    <tr>\n      <th>3998</th>\n      <td>Female</td>\n      <td>0.0</td>\n      <td>0.0</td>\n      <td>1</td>\n      <td>Private</td>\n      <td>0</td>\n      <td>172.33</td>\n      <td>45.300000</td>\n      <td>2</td>\n      <td>O</td>\n      <td>0</td>\n      <td>45</td>\n      <td>3</td>\n    </tr>\n    <tr>\n      <th>3999</th>\n      <td>Female</td>\n      <td>1.0</td>\n      <td>0.0</td>\n      <td>1</td>\n      <td>Private</td>\n      <td>1</td>\n      <td>62.55</td>\n      <td>30.300000</td>\n      <td>0</td>\n      <td>O</td>\n      <td>1</td>\n      <td>53</td>\n      <td>3</td>\n    </tr>\n  </tbody>\n</table>\n<p>4000 rows × 13 columns</p>\n</div>"
     },
     "metadata": {},
     "execution_count": 35
    }
   ],
   "source": [
    "raw_df['bmi_category'] = raw_df[[\"bmi\"]].apply(impute_bmi_cate, axis=1)\n",
    "raw_df"
   ]
  },
  {
   "cell_type": "code",
   "execution_count": 36,
   "metadata": {},
   "outputs": [
    {
     "output_type": "execute_result",
     "data": {
      "text/plain": [
       "                   Total  Percent\n",
       "hypertension         230  0.05750\n",
       "avg_glucose_level    171  0.04275\n",
       "heart_disease         90  0.02250\n",
       "blood                 10  0.00250\n",
       "gender                 0  0.00000\n",
       "ever_married           0  0.00000\n",
       "work_type              0  0.00000\n",
       "Residence_type         0  0.00000\n",
       "bmi                    0  0.00000\n",
       "smoking_status         0  0.00000\n",
       "stroke                 0  0.00000\n",
       "age                    0  0.00000\n",
       "bmi_category           0  0.00000"
      ],
      "text/html": "<div>\n<style scoped>\n    .dataframe tbody tr th:only-of-type {\n        vertical-align: middle;\n    }\n\n    .dataframe tbody tr th {\n        vertical-align: top;\n    }\n\n    .dataframe thead th {\n        text-align: right;\n    }\n</style>\n<table border=\"1\" class=\"dataframe\">\n  <thead>\n    <tr style=\"text-align: right;\">\n      <th></th>\n      <th>Total</th>\n      <th>Percent</th>\n    </tr>\n  </thead>\n  <tbody>\n    <tr>\n      <th>hypertension</th>\n      <td>230</td>\n      <td>0.05750</td>\n    </tr>\n    <tr>\n      <th>avg_glucose_level</th>\n      <td>171</td>\n      <td>0.04275</td>\n    </tr>\n    <tr>\n      <th>heart_disease</th>\n      <td>90</td>\n      <td>0.02250</td>\n    </tr>\n    <tr>\n      <th>blood</th>\n      <td>10</td>\n      <td>0.00250</td>\n    </tr>\n    <tr>\n      <th>gender</th>\n      <td>0</td>\n      <td>0.00000</td>\n    </tr>\n    <tr>\n      <th>ever_married</th>\n      <td>0</td>\n      <td>0.00000</td>\n    </tr>\n    <tr>\n      <th>work_type</th>\n      <td>0</td>\n      <td>0.00000</td>\n    </tr>\n    <tr>\n      <th>Residence_type</th>\n      <td>0</td>\n      <td>0.00000</td>\n    </tr>\n    <tr>\n      <th>bmi</th>\n      <td>0</td>\n      <td>0.00000</td>\n    </tr>\n    <tr>\n      <th>smoking_status</th>\n      <td>0</td>\n      <td>0.00000</td>\n    </tr>\n    <tr>\n      <th>stroke</th>\n      <td>0</td>\n      <td>0.00000</td>\n    </tr>\n    <tr>\n      <th>age</th>\n      <td>0</td>\n      <td>0.00000</td>\n    </tr>\n    <tr>\n      <th>bmi_category</th>\n      <td>0</td>\n      <td>0.00000</td>\n    </tr>\n  </tbody>\n</table>\n</div>"
     },
     "metadata": {},
     "execution_count": 36
    }
   ],
   "source": [
    "draw_missing_data_table(raw_df)"
   ]
  },
  {
   "cell_type": "code",
   "execution_count": 37,
   "metadata": {},
   "outputs": [],
   "source": [
    "raw_df.to_csv('./Dataset/Processed_train_le_no_scale_full_age_BMI.csv', index=False)"
   ]
  },
  {
   "cell_type": "code",
   "execution_count": 38,
   "metadata": {},
   "outputs": [
    {
     "output_type": "execute_result",
     "data": {
      "text/plain": [
       "hypertension         1.000000\n",
       "age                  0.266210\n",
       "ever_married         0.169492\n",
       "bmi                  0.160182\n",
       "avg_glucose_level    0.157735\n",
       "bmi_category         0.146829\n",
       "smoking_status       0.106057\n",
       "heart_disease        0.098219\n",
       "stroke               0.084755\n",
       "Residence_type       0.020742\n",
       "Name: hypertension, dtype: float64"
      ]
     },
     "metadata": {},
     "execution_count": 38
    }
   ],
   "source": [
    "raw_df.corr()['hypertension'].sort_values(ascending=False)"
   ]
  },
  {
   "cell_type": "code",
   "execution_count": 39,
   "metadata": {},
   "outputs": [
    {
     "output_type": "execute_result",
     "data": {
      "text/plain": [
       "   gender  hypertension  heart_disease  ever_married work_type  \\\n",
       "0  Female           0.0              0             0  children   \n",
       "1    Male           0.0              0             1   Private   \n",
       "2  Female           0.0              0             0   Private   \n",
       "3  Female           0.0              0             0   Private   \n",
       "4  Female           0.0              0             1   Private   \n",
       "\n",
       "   Residence_type  avg_glucose_level        bmi  smoking_status blood  stroke  \\\n",
       "0               0              85.81  18.600000               0     O       0   \n",
       "1               1              89.17  31.463916               1     B       0   \n",
       "2               0              98.53  18.500000               1     B       0   \n",
       "3               1             108.89  52.300000               0     O       0   \n",
       "4               0              91.44  31.338164               0     O       0   \n",
       "\n",
       "   age  bmi_category  \n",
       "0    7             1  \n",
       "1   55             3  \n",
       "2   42             1  \n",
       "3   31             3  \n",
       "4   38             3  "
      ],
      "text/html": "<div>\n<style scoped>\n    .dataframe tbody tr th:only-of-type {\n        vertical-align: middle;\n    }\n\n    .dataframe tbody tr th {\n        vertical-align: top;\n    }\n\n    .dataframe thead th {\n        text-align: right;\n    }\n</style>\n<table border=\"1\" class=\"dataframe\">\n  <thead>\n    <tr style=\"text-align: right;\">\n      <th></th>\n      <th>gender</th>\n      <th>hypertension</th>\n      <th>heart_disease</th>\n      <th>ever_married</th>\n      <th>work_type</th>\n      <th>Residence_type</th>\n      <th>avg_glucose_level</th>\n      <th>bmi</th>\n      <th>smoking_status</th>\n      <th>blood</th>\n      <th>stroke</th>\n      <th>age</th>\n      <th>bmi_category</th>\n    </tr>\n  </thead>\n  <tbody>\n    <tr>\n      <th>0</th>\n      <td>Female</td>\n      <td>0.0</td>\n      <td>0</td>\n      <td>0</td>\n      <td>children</td>\n      <td>0</td>\n      <td>85.81</td>\n      <td>18.600000</td>\n      <td>0</td>\n      <td>O</td>\n      <td>0</td>\n      <td>7</td>\n      <td>1</td>\n    </tr>\n    <tr>\n      <th>1</th>\n      <td>Male</td>\n      <td>0.0</td>\n      <td>0</td>\n      <td>1</td>\n      <td>Private</td>\n      <td>1</td>\n      <td>89.17</td>\n      <td>31.463916</td>\n      <td>1</td>\n      <td>B</td>\n      <td>0</td>\n      <td>55</td>\n      <td>3</td>\n    </tr>\n    <tr>\n      <th>2</th>\n      <td>Female</td>\n      <td>0.0</td>\n      <td>0</td>\n      <td>0</td>\n      <td>Private</td>\n      <td>0</td>\n      <td>98.53</td>\n      <td>18.500000</td>\n      <td>1</td>\n      <td>B</td>\n      <td>0</td>\n      <td>42</td>\n      <td>1</td>\n    </tr>\n    <tr>\n      <th>3</th>\n      <td>Female</td>\n      <td>0.0</td>\n      <td>0</td>\n      <td>0</td>\n      <td>Private</td>\n      <td>1</td>\n      <td>108.89</td>\n      <td>52.300000</td>\n      <td>0</td>\n      <td>O</td>\n      <td>0</td>\n      <td>31</td>\n      <td>3</td>\n    </tr>\n    <tr>\n      <th>4</th>\n      <td>Female</td>\n      <td>0.0</td>\n      <td>0</td>\n      <td>1</td>\n      <td>Private</td>\n      <td>0</td>\n      <td>91.44</td>\n      <td>31.338164</td>\n      <td>0</td>\n      <td>O</td>\n      <td>0</td>\n      <td>38</td>\n      <td>3</td>\n    </tr>\n  </tbody>\n</table>\n</div>"
     },
     "metadata": {},
     "execution_count": 39
    }
   ],
   "source": [
    "raw_df['heart_disease'] = raw_df['heart_disease'].fillna(0.0)\n",
    "raw_df['heart_disease'] = raw_df['heart_disease'].astype(int)\n",
    "raw_df.head()"
   ]
  },
  {
   "cell_type": "code",
   "execution_count": 40,
   "metadata": {},
   "outputs": [
    {
     "output_type": "execute_result",
     "data": {
      "text/plain": [
       "   gender  hypertension  heart_disease  ever_married work_type  \\\n",
       "0  Female             0              0             0  children   \n",
       "1    Male             0              0             1   Private   \n",
       "2  Female             0              0             0   Private   \n",
       "3  Female             0              0             0   Private   \n",
       "4  Female             0              0             1   Private   \n",
       "\n",
       "   Residence_type  avg_glucose_level        bmi  smoking_status blood  stroke  \\\n",
       "0               0              85.81  18.600000               0     O       0   \n",
       "1               1              89.17  31.463916               1     B       0   \n",
       "2               0              98.53  18.500000               1     B       0   \n",
       "3               1             108.89  52.300000               0     O       0   \n",
       "4               0              91.44  31.338164               0     O       0   \n",
       "\n",
       "   age  bmi_category  \n",
       "0    7             1  \n",
       "1   55             3  \n",
       "2   42             1  \n",
       "3   31             3  \n",
       "4   38             3  "
      ],
      "text/html": "<div>\n<style scoped>\n    .dataframe tbody tr th:only-of-type {\n        vertical-align: middle;\n    }\n\n    .dataframe tbody tr th {\n        vertical-align: top;\n    }\n\n    .dataframe thead th {\n        text-align: right;\n    }\n</style>\n<table border=\"1\" class=\"dataframe\">\n  <thead>\n    <tr style=\"text-align: right;\">\n      <th></th>\n      <th>gender</th>\n      <th>hypertension</th>\n      <th>heart_disease</th>\n      <th>ever_married</th>\n      <th>work_type</th>\n      <th>Residence_type</th>\n      <th>avg_glucose_level</th>\n      <th>bmi</th>\n      <th>smoking_status</th>\n      <th>blood</th>\n      <th>stroke</th>\n      <th>age</th>\n      <th>bmi_category</th>\n    </tr>\n  </thead>\n  <tbody>\n    <tr>\n      <th>0</th>\n      <td>Female</td>\n      <td>0</td>\n      <td>0</td>\n      <td>0</td>\n      <td>children</td>\n      <td>0</td>\n      <td>85.81</td>\n      <td>18.600000</td>\n      <td>0</td>\n      <td>O</td>\n      <td>0</td>\n      <td>7</td>\n      <td>1</td>\n    </tr>\n    <tr>\n      <th>1</th>\n      <td>Male</td>\n      <td>0</td>\n      <td>0</td>\n      <td>1</td>\n      <td>Private</td>\n      <td>1</td>\n      <td>89.17</td>\n      <td>31.463916</td>\n      <td>1</td>\n      <td>B</td>\n      <td>0</td>\n      <td>55</td>\n      <td>3</td>\n    </tr>\n    <tr>\n      <th>2</th>\n      <td>Female</td>\n      <td>0</td>\n      <td>0</td>\n      <td>0</td>\n      <td>Private</td>\n      <td>0</td>\n      <td>98.53</td>\n      <td>18.500000</td>\n      <td>1</td>\n      <td>B</td>\n      <td>0</td>\n      <td>42</td>\n      <td>1</td>\n    </tr>\n    <tr>\n      <th>3</th>\n      <td>Female</td>\n      <td>0</td>\n      <td>0</td>\n      <td>0</td>\n      <td>Private</td>\n      <td>1</td>\n      <td>108.89</td>\n      <td>52.300000</td>\n      <td>0</td>\n      <td>O</td>\n      <td>0</td>\n      <td>31</td>\n      <td>3</td>\n    </tr>\n    <tr>\n      <th>4</th>\n      <td>Female</td>\n      <td>0</td>\n      <td>0</td>\n      <td>1</td>\n      <td>Private</td>\n      <td>0</td>\n      <td>91.44</td>\n      <td>31.338164</td>\n      <td>0</td>\n      <td>O</td>\n      <td>0</td>\n      <td>38</td>\n      <td>3</td>\n    </tr>\n  </tbody>\n</table>\n</div>"
     },
     "metadata": {},
     "execution_count": 40
    }
   ],
   "source": [
    "raw_df['hypertension'] = raw_df['hypertension'].fillna(0.0)\n",
    "raw_df['hypertension'] = raw_df['hypertension'].astype(int)\n",
    "raw_df.head()"
   ]
  },
  {
   "cell_type": "code",
   "execution_count": 41,
   "metadata": {},
   "outputs": [
    {
     "output_type": "execute_result",
     "data": {
      "text/plain": [
       "   gender  hypertension  heart_disease  ever_married work_type  \\\n",
       "0  Female             0              0             0  children   \n",
       "1    Male             0              0             1   Private   \n",
       "2  Female             0              0             0   Private   \n",
       "3  Female             0              0             0   Private   \n",
       "4  Female             0              0             1   Private   \n",
       "\n",
       "   Residence_type  avg_glucose_level        bmi  smoking_status blood  stroke  \\\n",
       "0               0              85.81  18.600000               0     O       0   \n",
       "1               1              89.17  31.463916               1     B       0   \n",
       "2               0              98.53  18.500000               1     B       0   \n",
       "3               1             108.89  52.300000               0     O       0   \n",
       "4               0              91.44  31.338164               0     O       0   \n",
       "\n",
       "   age  bmi_category  \n",
       "0    7             1  \n",
       "1   55             3  \n",
       "2   42             1  \n",
       "3   31             3  \n",
       "4   38             3  "
      ],
      "text/html": "<div>\n<style scoped>\n    .dataframe tbody tr th:only-of-type {\n        vertical-align: middle;\n    }\n\n    .dataframe tbody tr th {\n        vertical-align: top;\n    }\n\n    .dataframe thead th {\n        text-align: right;\n    }\n</style>\n<table border=\"1\" class=\"dataframe\">\n  <thead>\n    <tr style=\"text-align: right;\">\n      <th></th>\n      <th>gender</th>\n      <th>hypertension</th>\n      <th>heart_disease</th>\n      <th>ever_married</th>\n      <th>work_type</th>\n      <th>Residence_type</th>\n      <th>avg_glucose_level</th>\n      <th>bmi</th>\n      <th>smoking_status</th>\n      <th>blood</th>\n      <th>stroke</th>\n      <th>age</th>\n      <th>bmi_category</th>\n    </tr>\n  </thead>\n  <tbody>\n    <tr>\n      <th>0</th>\n      <td>Female</td>\n      <td>0</td>\n      <td>0</td>\n      <td>0</td>\n      <td>children</td>\n      <td>0</td>\n      <td>85.81</td>\n      <td>18.600000</td>\n      <td>0</td>\n      <td>O</td>\n      <td>0</td>\n      <td>7</td>\n      <td>1</td>\n    </tr>\n    <tr>\n      <th>1</th>\n      <td>Male</td>\n      <td>0</td>\n      <td>0</td>\n      <td>1</td>\n      <td>Private</td>\n      <td>1</td>\n      <td>89.17</td>\n      <td>31.463916</td>\n      <td>1</td>\n      <td>B</td>\n      <td>0</td>\n      <td>55</td>\n      <td>3</td>\n    </tr>\n    <tr>\n      <th>2</th>\n      <td>Female</td>\n      <td>0</td>\n      <td>0</td>\n      <td>0</td>\n      <td>Private</td>\n      <td>0</td>\n      <td>98.53</td>\n      <td>18.500000</td>\n      <td>1</td>\n      <td>B</td>\n      <td>0</td>\n      <td>42</td>\n      <td>1</td>\n    </tr>\n    <tr>\n      <th>3</th>\n      <td>Female</td>\n      <td>0</td>\n      <td>0</td>\n      <td>0</td>\n      <td>Private</td>\n      <td>1</td>\n      <td>108.89</td>\n      <td>52.300000</td>\n      <td>0</td>\n      <td>O</td>\n      <td>0</td>\n      <td>31</td>\n      <td>3</td>\n    </tr>\n    <tr>\n      <th>4</th>\n      <td>Female</td>\n      <td>0</td>\n      <td>0</td>\n      <td>1</td>\n      <td>Private</td>\n      <td>0</td>\n      <td>91.44</td>\n      <td>31.338164</td>\n      <td>0</td>\n      <td>O</td>\n      <td>0</td>\n      <td>38</td>\n      <td>3</td>\n    </tr>\n  </tbody>\n</table>\n</div>"
     },
     "metadata": {},
     "execution_count": 41
    }
   ],
   "source": [
    "raw_df['avg_glucose_level'] = raw_df['avg_glucose_level'].fillna(np.mean(raw_df['avg_glucose_level']))\n",
    "raw_df.head()"
   ]
  },
  {
   "cell_type": "code",
   "execution_count": 42,
   "metadata": {},
   "outputs": [],
   "source": [
    "raw_df['blood'] = raw_df['blood'].fillna('AB')"
   ]
  },
  {
   "cell_type": "code",
   "execution_count": 43,
   "metadata": {},
   "outputs": [
    {
     "output_type": "execute_result",
     "data": {
      "text/plain": [
       "array(['Female', 'Male', 'Other'], dtype=object)"
      ]
     },
     "metadata": {},
     "execution_count": 43
    }
   ],
   "source": [
    "raw_df['gender'].unique()"
   ]
  },
  {
   "cell_type": "code",
   "execution_count": 44,
   "metadata": {},
   "outputs": [
    {
     "output_type": "execute_result",
     "data": {
      "text/plain": [
       "array([1, 0, 2])"
      ]
     },
     "metadata": {},
     "execution_count": 44
    }
   ],
   "source": [
    "gender_mapping = {'Female': 1, 'Male': 0, 'Other': 2}\n",
    "raw_df['gender'] = raw_df['gender'].map(gender_mapping)\n",
    "raw_df['gender'].unique()"
   ]
  },
  {
   "cell_type": "code",
   "execution_count": 45,
   "metadata": {},
   "outputs": [
    {
     "output_type": "execute_result",
     "data": {
      "text/plain": [
       "array(['children', 'Private', 'Govt_job', 'Self-employed', 'Never_worked'],\n",
       "      dtype=object)"
      ]
     },
     "metadata": {},
     "execution_count": 45
    }
   ],
   "source": [
    "raw_df['work_type'].unique()"
   ]
  },
  {
   "cell_type": "code",
   "execution_count": 55,
   "metadata": {},
   "outputs": [],
   "source": [
    "raw_df.to_csv('./Dataset/le_fillall.csv', index=False)"
   ]
  },
  {
   "cell_type": "code",
   "execution_count": null,
   "metadata": {},
   "outputs": [],
   "source": []
  },
  {
   "source": [
    "XGBoost"
   ],
   "cell_type": "markdown",
   "metadata": {}
  },
  {
   "cell_type": "code",
   "execution_count": 56,
   "metadata": {},
   "outputs": [],
   "source": [
    "x = raw_df.copy()\n",
    "x = x.drop(columns='stroke')\n",
    "y = raw_df['stroke']"
   ]
  },
  {
   "cell_type": "code",
   "execution_count": 59,
   "metadata": {},
   "outputs": [
    {
     "output_type": "error",
     "ename": "ValueError",
     "evalue": "could not convert string to float: 'Female'",
     "traceback": [
      "\u001b[0;31m---------------------------------------------------------------------------\u001b[0m",
      "\u001b[0;31mValueError\u001b[0m                                Traceback (most recent call last)",
      "\u001b[0;32m<ipython-input-59-c5967f012e09>\u001b[0m in \u001b[0;36m<module>\u001b[0;34m\u001b[0m\n\u001b[1;32m      1\u001b[0m \u001b[0msmote\u001b[0m \u001b[0;34m=\u001b[0m \u001b[0mSMOTE\u001b[0m\u001b[0;34m(\u001b[0m\u001b[0;34m)\u001b[0m\u001b[0;34m\u001b[0m\u001b[0;34m\u001b[0m\u001b[0m\n\u001b[0;32m----> 2\u001b[0;31m \u001b[0mx_smote\u001b[0m\u001b[0;34m,\u001b[0m \u001b[0my_smote\u001b[0m \u001b[0;34m=\u001b[0m \u001b[0msmote\u001b[0m\u001b[0;34m.\u001b[0m\u001b[0mfit_resample\u001b[0m\u001b[0;34m(\u001b[0m\u001b[0mx\u001b[0m\u001b[0;34m,\u001b[0m \u001b[0my\u001b[0m\u001b[0;34m)\u001b[0m\u001b[0;34m\u001b[0m\u001b[0;34m\u001b[0m\u001b[0m\n\u001b[0m\u001b[1;32m      3\u001b[0m \u001b[0mx_train\u001b[0m\u001b[0;34m,\u001b[0m \u001b[0mx_test\u001b[0m\u001b[0;34m,\u001b[0m \u001b[0my_train\u001b[0m\u001b[0;34m,\u001b[0m \u001b[0my_test\u001b[0m \u001b[0;34m=\u001b[0m \u001b[0mtrain_test_split\u001b[0m\u001b[0;34m(\u001b[0m\u001b[0mx_smote\u001b[0m\u001b[0;34m,\u001b[0m \u001b[0my_smote\u001b[0m\u001b[0;34m,\u001b[0m \u001b[0mtest_size\u001b[0m\u001b[0;34m=\u001b[0m \u001b[0;36m0.2\u001b[0m\u001b[0;34m,\u001b[0m \u001b[0mrandom_state\u001b[0m\u001b[0;34m=\u001b[0m \u001b[0;36m42\u001b[0m\u001b[0;34m)\u001b[0m\u001b[0;34m\u001b[0m\u001b[0;34m\u001b[0m\u001b[0m\n",
      "\u001b[0;32m/mnt/A0320C7B320C58A4/Code/Python/Stroke-prediction/Stroke_Env/lib/python3.8/site-packages/imblearn/base.py\u001b[0m in \u001b[0;36mfit_resample\u001b[0;34m(self, X, y)\u001b[0m\n\u001b[1;32m     75\u001b[0m         \u001b[0mcheck_classification_targets\u001b[0m\u001b[0;34m(\u001b[0m\u001b[0my\u001b[0m\u001b[0;34m)\u001b[0m\u001b[0;34m\u001b[0m\u001b[0;34m\u001b[0m\u001b[0m\n\u001b[1;32m     76\u001b[0m         \u001b[0marrays_transformer\u001b[0m \u001b[0;34m=\u001b[0m \u001b[0mArraysTransformer\u001b[0m\u001b[0;34m(\u001b[0m\u001b[0mX\u001b[0m\u001b[0;34m,\u001b[0m \u001b[0my\u001b[0m\u001b[0;34m)\u001b[0m\u001b[0;34m\u001b[0m\u001b[0;34m\u001b[0m\u001b[0m\n\u001b[0;32m---> 77\u001b[0;31m         \u001b[0mX\u001b[0m\u001b[0;34m,\u001b[0m \u001b[0my\u001b[0m\u001b[0;34m,\u001b[0m \u001b[0mbinarize_y\u001b[0m \u001b[0;34m=\u001b[0m \u001b[0mself\u001b[0m\u001b[0;34m.\u001b[0m\u001b[0m_check_X_y\u001b[0m\u001b[0;34m(\u001b[0m\u001b[0mX\u001b[0m\u001b[0;34m,\u001b[0m \u001b[0my\u001b[0m\u001b[0;34m)\u001b[0m\u001b[0;34m\u001b[0m\u001b[0;34m\u001b[0m\u001b[0m\n\u001b[0m\u001b[1;32m     78\u001b[0m \u001b[0;34m\u001b[0m\u001b[0m\n\u001b[1;32m     79\u001b[0m         self.sampling_strategy_ = check_sampling_strategy(\n",
      "\u001b[0;32m/mnt/A0320C7B320C58A4/Code/Python/Stroke-prediction/Stroke_Env/lib/python3.8/site-packages/imblearn/base.py\u001b[0m in \u001b[0;36m_check_X_y\u001b[0;34m(self, X, y, accept_sparse)\u001b[0m\n\u001b[1;32m    128\u001b[0m             \u001b[0maccept_sparse\u001b[0m \u001b[0;34m=\u001b[0m \u001b[0;34m[\u001b[0m\u001b[0;34m\"csr\"\u001b[0m\u001b[0;34m,\u001b[0m \u001b[0;34m\"csc\"\u001b[0m\u001b[0;34m]\u001b[0m\u001b[0;34m\u001b[0m\u001b[0;34m\u001b[0m\u001b[0m\n\u001b[1;32m    129\u001b[0m         \u001b[0my\u001b[0m\u001b[0;34m,\u001b[0m \u001b[0mbinarize_y\u001b[0m \u001b[0;34m=\u001b[0m \u001b[0mcheck_target_type\u001b[0m\u001b[0;34m(\u001b[0m\u001b[0my\u001b[0m\u001b[0;34m,\u001b[0m \u001b[0mindicate_one_vs_all\u001b[0m\u001b[0;34m=\u001b[0m\u001b[0;32mTrue\u001b[0m\u001b[0;34m)\u001b[0m\u001b[0;34m\u001b[0m\u001b[0;34m\u001b[0m\u001b[0m\n\u001b[0;32m--> 130\u001b[0;31m         \u001b[0mX\u001b[0m\u001b[0;34m,\u001b[0m \u001b[0my\u001b[0m \u001b[0;34m=\u001b[0m \u001b[0mself\u001b[0m\u001b[0;34m.\u001b[0m\u001b[0m_validate_data\u001b[0m\u001b[0;34m(\u001b[0m\u001b[0mX\u001b[0m\u001b[0;34m,\u001b[0m \u001b[0my\u001b[0m\u001b[0;34m,\u001b[0m \u001b[0mreset\u001b[0m\u001b[0;34m=\u001b[0m\u001b[0;32mTrue\u001b[0m\u001b[0;34m,\u001b[0m \u001b[0maccept_sparse\u001b[0m\u001b[0;34m=\u001b[0m\u001b[0maccept_sparse\u001b[0m\u001b[0;34m)\u001b[0m\u001b[0;34m\u001b[0m\u001b[0;34m\u001b[0m\u001b[0m\n\u001b[0m\u001b[1;32m    131\u001b[0m         \u001b[0;32mreturn\u001b[0m \u001b[0mX\u001b[0m\u001b[0;34m,\u001b[0m \u001b[0my\u001b[0m\u001b[0;34m,\u001b[0m \u001b[0mbinarize_y\u001b[0m\u001b[0;34m\u001b[0m\u001b[0;34m\u001b[0m\u001b[0m\n\u001b[1;32m    132\u001b[0m \u001b[0;34m\u001b[0m\u001b[0m\n",
      "\u001b[0;32m/mnt/A0320C7B320C58A4/Code/Python/Stroke-prediction/Stroke_Env/lib/python3.8/site-packages/sklearn/base.py\u001b[0m in \u001b[0;36m_validate_data\u001b[0;34m(self, X, y, reset, validate_separately, **check_params)\u001b[0m\n\u001b[1;32m    431\u001b[0m                 \u001b[0my\u001b[0m \u001b[0;34m=\u001b[0m \u001b[0mcheck_array\u001b[0m\u001b[0;34m(\u001b[0m\u001b[0my\u001b[0m\u001b[0;34m,\u001b[0m \u001b[0;34m**\u001b[0m\u001b[0mcheck_y_params\u001b[0m\u001b[0;34m)\u001b[0m\u001b[0;34m\u001b[0m\u001b[0;34m\u001b[0m\u001b[0m\n\u001b[1;32m    432\u001b[0m             \u001b[0;32melse\u001b[0m\u001b[0;34m:\u001b[0m\u001b[0;34m\u001b[0m\u001b[0;34m\u001b[0m\u001b[0m\n\u001b[0;32m--> 433\u001b[0;31m                 \u001b[0mX\u001b[0m\u001b[0;34m,\u001b[0m \u001b[0my\u001b[0m \u001b[0;34m=\u001b[0m \u001b[0mcheck_X_y\u001b[0m\u001b[0;34m(\u001b[0m\u001b[0mX\u001b[0m\u001b[0;34m,\u001b[0m \u001b[0my\u001b[0m\u001b[0;34m,\u001b[0m \u001b[0;34m**\u001b[0m\u001b[0mcheck_params\u001b[0m\u001b[0;34m)\u001b[0m\u001b[0;34m\u001b[0m\u001b[0;34m\u001b[0m\u001b[0m\n\u001b[0m\u001b[1;32m    434\u001b[0m             \u001b[0mout\u001b[0m \u001b[0;34m=\u001b[0m \u001b[0mX\u001b[0m\u001b[0;34m,\u001b[0m \u001b[0my\u001b[0m\u001b[0;34m\u001b[0m\u001b[0;34m\u001b[0m\u001b[0m\n\u001b[1;32m    435\u001b[0m \u001b[0;34m\u001b[0m\u001b[0m\n",
      "\u001b[0;32m/mnt/A0320C7B320C58A4/Code/Python/Stroke-prediction/Stroke_Env/lib/python3.8/site-packages/sklearn/utils/validation.py\u001b[0m in \u001b[0;36minner_f\u001b[0;34m(*args, **kwargs)\u001b[0m\n\u001b[1;32m     61\u001b[0m             \u001b[0mextra_args\u001b[0m \u001b[0;34m=\u001b[0m \u001b[0mlen\u001b[0m\u001b[0;34m(\u001b[0m\u001b[0margs\u001b[0m\u001b[0;34m)\u001b[0m \u001b[0;34m-\u001b[0m \u001b[0mlen\u001b[0m\u001b[0;34m(\u001b[0m\u001b[0mall_args\u001b[0m\u001b[0;34m)\u001b[0m\u001b[0;34m\u001b[0m\u001b[0;34m\u001b[0m\u001b[0m\n\u001b[1;32m     62\u001b[0m             \u001b[0;32mif\u001b[0m \u001b[0mextra_args\u001b[0m \u001b[0;34m<=\u001b[0m \u001b[0;36m0\u001b[0m\u001b[0;34m:\u001b[0m\u001b[0;34m\u001b[0m\u001b[0;34m\u001b[0m\u001b[0m\n\u001b[0;32m---> 63\u001b[0;31m                 \u001b[0;32mreturn\u001b[0m \u001b[0mf\u001b[0m\u001b[0;34m(\u001b[0m\u001b[0;34m*\u001b[0m\u001b[0margs\u001b[0m\u001b[0;34m,\u001b[0m \u001b[0;34m**\u001b[0m\u001b[0mkwargs\u001b[0m\u001b[0;34m)\u001b[0m\u001b[0;34m\u001b[0m\u001b[0;34m\u001b[0m\u001b[0m\n\u001b[0m\u001b[1;32m     64\u001b[0m \u001b[0;34m\u001b[0m\u001b[0m\n\u001b[1;32m     65\u001b[0m             \u001b[0;31m# extra_args > 0\u001b[0m\u001b[0;34m\u001b[0m\u001b[0;34m\u001b[0m\u001b[0;34m\u001b[0m\u001b[0m\n",
      "\u001b[0;32m/mnt/A0320C7B320C58A4/Code/Python/Stroke-prediction/Stroke_Env/lib/python3.8/site-packages/sklearn/utils/validation.py\u001b[0m in \u001b[0;36mcheck_X_y\u001b[0;34m(X, y, accept_sparse, accept_large_sparse, dtype, order, copy, force_all_finite, ensure_2d, allow_nd, multi_output, ensure_min_samples, ensure_min_features, y_numeric, estimator)\u001b[0m\n\u001b[1;32m    869\u001b[0m         \u001b[0;32mraise\u001b[0m \u001b[0mValueError\u001b[0m\u001b[0;34m(\u001b[0m\u001b[0;34m\"y cannot be None\"\u001b[0m\u001b[0;34m)\u001b[0m\u001b[0;34m\u001b[0m\u001b[0;34m\u001b[0m\u001b[0m\n\u001b[1;32m    870\u001b[0m \u001b[0;34m\u001b[0m\u001b[0m\n\u001b[0;32m--> 871\u001b[0;31m     X = check_array(X, accept_sparse=accept_sparse,\n\u001b[0m\u001b[1;32m    872\u001b[0m                     \u001b[0maccept_large_sparse\u001b[0m\u001b[0;34m=\u001b[0m\u001b[0maccept_large_sparse\u001b[0m\u001b[0;34m,\u001b[0m\u001b[0;34m\u001b[0m\u001b[0;34m\u001b[0m\u001b[0m\n\u001b[1;32m    873\u001b[0m                     \u001b[0mdtype\u001b[0m\u001b[0;34m=\u001b[0m\u001b[0mdtype\u001b[0m\u001b[0;34m,\u001b[0m \u001b[0morder\u001b[0m\u001b[0;34m=\u001b[0m\u001b[0morder\u001b[0m\u001b[0;34m,\u001b[0m \u001b[0mcopy\u001b[0m\u001b[0;34m=\u001b[0m\u001b[0mcopy\u001b[0m\u001b[0;34m,\u001b[0m\u001b[0;34m\u001b[0m\u001b[0;34m\u001b[0m\u001b[0m\n",
      "\u001b[0;32m/mnt/A0320C7B320C58A4/Code/Python/Stroke-prediction/Stroke_Env/lib/python3.8/site-packages/sklearn/utils/validation.py\u001b[0m in \u001b[0;36minner_f\u001b[0;34m(*args, **kwargs)\u001b[0m\n\u001b[1;32m     61\u001b[0m             \u001b[0mextra_args\u001b[0m \u001b[0;34m=\u001b[0m \u001b[0mlen\u001b[0m\u001b[0;34m(\u001b[0m\u001b[0margs\u001b[0m\u001b[0;34m)\u001b[0m \u001b[0;34m-\u001b[0m \u001b[0mlen\u001b[0m\u001b[0;34m(\u001b[0m\u001b[0mall_args\u001b[0m\u001b[0;34m)\u001b[0m\u001b[0;34m\u001b[0m\u001b[0;34m\u001b[0m\u001b[0m\n\u001b[1;32m     62\u001b[0m             \u001b[0;32mif\u001b[0m \u001b[0mextra_args\u001b[0m \u001b[0;34m<=\u001b[0m \u001b[0;36m0\u001b[0m\u001b[0;34m:\u001b[0m\u001b[0;34m\u001b[0m\u001b[0;34m\u001b[0m\u001b[0m\n\u001b[0;32m---> 63\u001b[0;31m                 \u001b[0;32mreturn\u001b[0m \u001b[0mf\u001b[0m\u001b[0;34m(\u001b[0m\u001b[0;34m*\u001b[0m\u001b[0margs\u001b[0m\u001b[0;34m,\u001b[0m \u001b[0;34m**\u001b[0m\u001b[0mkwargs\u001b[0m\u001b[0;34m)\u001b[0m\u001b[0;34m\u001b[0m\u001b[0;34m\u001b[0m\u001b[0m\n\u001b[0m\u001b[1;32m     64\u001b[0m \u001b[0;34m\u001b[0m\u001b[0m\n\u001b[1;32m     65\u001b[0m             \u001b[0;31m# extra_args > 0\u001b[0m\u001b[0;34m\u001b[0m\u001b[0;34m\u001b[0m\u001b[0;34m\u001b[0m\u001b[0m\n",
      "\u001b[0;32m/mnt/A0320C7B320C58A4/Code/Python/Stroke-prediction/Stroke_Env/lib/python3.8/site-packages/sklearn/utils/validation.py\u001b[0m in \u001b[0;36mcheck_array\u001b[0;34m(array, accept_sparse, accept_large_sparse, dtype, order, copy, force_all_finite, ensure_2d, allow_nd, ensure_min_samples, ensure_min_features, estimator)\u001b[0m\n\u001b[1;32m    671\u001b[0m                     \u001b[0marray\u001b[0m \u001b[0;34m=\u001b[0m \u001b[0marray\u001b[0m\u001b[0;34m.\u001b[0m\u001b[0mastype\u001b[0m\u001b[0;34m(\u001b[0m\u001b[0mdtype\u001b[0m\u001b[0;34m,\u001b[0m \u001b[0mcasting\u001b[0m\u001b[0;34m=\u001b[0m\u001b[0;34m\"unsafe\"\u001b[0m\u001b[0;34m,\u001b[0m \u001b[0mcopy\u001b[0m\u001b[0;34m=\u001b[0m\u001b[0;32mFalse\u001b[0m\u001b[0;34m)\u001b[0m\u001b[0;34m\u001b[0m\u001b[0;34m\u001b[0m\u001b[0m\n\u001b[1;32m    672\u001b[0m                 \u001b[0;32melse\u001b[0m\u001b[0;34m:\u001b[0m\u001b[0;34m\u001b[0m\u001b[0;34m\u001b[0m\u001b[0m\n\u001b[0;32m--> 673\u001b[0;31m                     \u001b[0marray\u001b[0m \u001b[0;34m=\u001b[0m \u001b[0mnp\u001b[0m\u001b[0;34m.\u001b[0m\u001b[0masarray\u001b[0m\u001b[0;34m(\u001b[0m\u001b[0marray\u001b[0m\u001b[0;34m,\u001b[0m \u001b[0morder\u001b[0m\u001b[0;34m=\u001b[0m\u001b[0morder\u001b[0m\u001b[0;34m,\u001b[0m \u001b[0mdtype\u001b[0m\u001b[0;34m=\u001b[0m\u001b[0mdtype\u001b[0m\u001b[0;34m)\u001b[0m\u001b[0;34m\u001b[0m\u001b[0;34m\u001b[0m\u001b[0m\n\u001b[0m\u001b[1;32m    674\u001b[0m             \u001b[0;32mexcept\u001b[0m \u001b[0mComplexWarning\u001b[0m \u001b[0;32mas\u001b[0m \u001b[0mcomplex_warning\u001b[0m\u001b[0;34m:\u001b[0m\u001b[0;34m\u001b[0m\u001b[0;34m\u001b[0m\u001b[0m\n\u001b[1;32m    675\u001b[0m                 raise ValueError(\"Complex data not supported\\n\"\n",
      "\u001b[0;32m/mnt/A0320C7B320C58A4/Code/Python/Stroke-prediction/Stroke_Env/lib/python3.8/site-packages/numpy/core/_asarray.py\u001b[0m in \u001b[0;36masarray\u001b[0;34m(a, dtype, order, like)\u001b[0m\n\u001b[1;32m    100\u001b[0m         \u001b[0;32mreturn\u001b[0m \u001b[0m_asarray_with_like\u001b[0m\u001b[0;34m(\u001b[0m\u001b[0ma\u001b[0m\u001b[0;34m,\u001b[0m \u001b[0mdtype\u001b[0m\u001b[0;34m=\u001b[0m\u001b[0mdtype\u001b[0m\u001b[0;34m,\u001b[0m \u001b[0morder\u001b[0m\u001b[0;34m=\u001b[0m\u001b[0morder\u001b[0m\u001b[0;34m,\u001b[0m \u001b[0mlike\u001b[0m\u001b[0;34m=\u001b[0m\u001b[0mlike\u001b[0m\u001b[0;34m)\u001b[0m\u001b[0;34m\u001b[0m\u001b[0;34m\u001b[0m\u001b[0m\n\u001b[1;32m    101\u001b[0m \u001b[0;34m\u001b[0m\u001b[0m\n\u001b[0;32m--> 102\u001b[0;31m     \u001b[0;32mreturn\u001b[0m \u001b[0marray\u001b[0m\u001b[0;34m(\u001b[0m\u001b[0ma\u001b[0m\u001b[0;34m,\u001b[0m \u001b[0mdtype\u001b[0m\u001b[0;34m,\u001b[0m \u001b[0mcopy\u001b[0m\u001b[0;34m=\u001b[0m\u001b[0;32mFalse\u001b[0m\u001b[0;34m,\u001b[0m \u001b[0morder\u001b[0m\u001b[0;34m=\u001b[0m\u001b[0morder\u001b[0m\u001b[0;34m)\u001b[0m\u001b[0;34m\u001b[0m\u001b[0;34m\u001b[0m\u001b[0m\n\u001b[0m\u001b[1;32m    103\u001b[0m \u001b[0;34m\u001b[0m\u001b[0m\n\u001b[1;32m    104\u001b[0m \u001b[0;34m\u001b[0m\u001b[0m\n",
      "\u001b[0;32m/mnt/A0320C7B320C58A4/Code/Python/Stroke-prediction/Stroke_Env/lib/python3.8/site-packages/pandas/core/generic.py\u001b[0m in \u001b[0;36m__array__\u001b[0;34m(self, dtype)\u001b[0m\n\u001b[1;32m   1897\u001b[0m \u001b[0;34m\u001b[0m\u001b[0m\n\u001b[1;32m   1898\u001b[0m     \u001b[0;32mdef\u001b[0m \u001b[0m__array__\u001b[0m\u001b[0;34m(\u001b[0m\u001b[0mself\u001b[0m\u001b[0;34m,\u001b[0m \u001b[0mdtype\u001b[0m\u001b[0;34m=\u001b[0m\u001b[0;32mNone\u001b[0m\u001b[0;34m)\u001b[0m \u001b[0;34m->\u001b[0m \u001b[0mnp\u001b[0m\u001b[0;34m.\u001b[0m\u001b[0mndarray\u001b[0m\u001b[0;34m:\u001b[0m\u001b[0;34m\u001b[0m\u001b[0;34m\u001b[0m\u001b[0m\n\u001b[0;32m-> 1899\u001b[0;31m         \u001b[0;32mreturn\u001b[0m \u001b[0mnp\u001b[0m\u001b[0;34m.\u001b[0m\u001b[0masarray\u001b[0m\u001b[0;34m(\u001b[0m\u001b[0mself\u001b[0m\u001b[0;34m.\u001b[0m\u001b[0m_values\u001b[0m\u001b[0;34m,\u001b[0m \u001b[0mdtype\u001b[0m\u001b[0;34m=\u001b[0m\u001b[0mdtype\u001b[0m\u001b[0;34m)\u001b[0m\u001b[0;34m\u001b[0m\u001b[0;34m\u001b[0m\u001b[0m\n\u001b[0m\u001b[1;32m   1900\u001b[0m \u001b[0;34m\u001b[0m\u001b[0m\n\u001b[1;32m   1901\u001b[0m     def __array_wrap__(\n",
      "\u001b[0;32m/mnt/A0320C7B320C58A4/Code/Python/Stroke-prediction/Stroke_Env/lib/python3.8/site-packages/numpy/core/_asarray.py\u001b[0m in \u001b[0;36masarray\u001b[0;34m(a, dtype, order, like)\u001b[0m\n\u001b[1;32m    100\u001b[0m         \u001b[0;32mreturn\u001b[0m \u001b[0m_asarray_with_like\u001b[0m\u001b[0;34m(\u001b[0m\u001b[0ma\u001b[0m\u001b[0;34m,\u001b[0m \u001b[0mdtype\u001b[0m\u001b[0;34m=\u001b[0m\u001b[0mdtype\u001b[0m\u001b[0;34m,\u001b[0m \u001b[0morder\u001b[0m\u001b[0;34m=\u001b[0m\u001b[0morder\u001b[0m\u001b[0;34m,\u001b[0m \u001b[0mlike\u001b[0m\u001b[0;34m=\u001b[0m\u001b[0mlike\u001b[0m\u001b[0;34m)\u001b[0m\u001b[0;34m\u001b[0m\u001b[0;34m\u001b[0m\u001b[0m\n\u001b[1;32m    101\u001b[0m \u001b[0;34m\u001b[0m\u001b[0m\n\u001b[0;32m--> 102\u001b[0;31m     \u001b[0;32mreturn\u001b[0m \u001b[0marray\u001b[0m\u001b[0;34m(\u001b[0m\u001b[0ma\u001b[0m\u001b[0;34m,\u001b[0m \u001b[0mdtype\u001b[0m\u001b[0;34m,\u001b[0m \u001b[0mcopy\u001b[0m\u001b[0;34m=\u001b[0m\u001b[0;32mFalse\u001b[0m\u001b[0;34m,\u001b[0m \u001b[0morder\u001b[0m\u001b[0;34m=\u001b[0m\u001b[0morder\u001b[0m\u001b[0;34m)\u001b[0m\u001b[0;34m\u001b[0m\u001b[0;34m\u001b[0m\u001b[0m\n\u001b[0m\u001b[1;32m    103\u001b[0m \u001b[0;34m\u001b[0m\u001b[0m\n\u001b[1;32m    104\u001b[0m \u001b[0;34m\u001b[0m\u001b[0m\n",
      "\u001b[0;31mValueError\u001b[0m: could not convert string to float: 'Female'"
     ]
    }
   ],
   "source": [
    "smote = SMOTE()\n",
    "x_smote, y_smote = smote.fit_resample(x, y)\n",
    "x_train, x_test, y_train, y_test = train_test_split(x_smote, y_smote, test_size= 0.2, random_state= 42)"
   ]
  },
  {
   "cell_type": "code",
   "execution_count": null,
   "metadata": {},
   "outputs": [],
   "source": []
  }
 ]
}