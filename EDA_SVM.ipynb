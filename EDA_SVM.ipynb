{
 "metadata": {
  "language_info": {
   "codemirror_mode": {
    "name": "ipython",
    "version": 3
   },
   "file_extension": ".py",
   "mimetype": "text/x-python",
   "name": "python",
   "nbconvert_exporter": "python",
   "pygments_lexer": "ipython3",
   "version": "3.8.3"
  },
  "orig_nbformat": 2,
  "kernelspec": {
   "name": "myenv",
   "display_name": "myenv",
   "language": "python"
  }
 },
 "nbformat": 4,
 "nbformat_minor": 2,
 "cells": [
  {
   "source": [
    "# Import package"
   ],
   "cell_type": "markdown",
   "metadata": {}
  },
  {
   "cell_type": "code",
   "execution_count": 17,
   "metadata": {},
   "outputs": [],
   "source": [
    "import pandas as pd\n",
    "import sklearn\n",
    "import matplotlib.pyplot as plt\n",
    "import seaborn as sns\n",
    "import numpy as np\n",
    "from sklearn.svm import SVC\n",
    "from sklearn.metrics import f1_score, roc_auc_score, confusion_matrix\n",
    "from sklearn.preprocessing import StandardScaler, OneHotEncoder\n",
    "from sklearn.model_selection import train_test_split\n",
    "from imblearn.over_sampling import SMOTE"
   ]
  },
  {
   "cell_type": "code",
   "execution_count": 18,
   "metadata": {},
   "outputs": [],
   "source": [
    "df = pd.read_csv(\"./Dataset/processed_train.csv\")"
   ]
  },
  {
   "cell_type": "code",
   "execution_count": 19,
   "metadata": {},
   "outputs": [
    {
     "output_type": "execute_result",
     "data": {
      "text/plain": [
       "      hypertension  heart_disease  ever_married  stroke  gender_Female  \\\n",
       "0                0              0             0       0              1   \n",
       "1                0              0             1       0              0   \n",
       "2                0              0             0       0              1   \n",
       "3                0              0             1       0              1   \n",
       "4                0              0             0       0              1   \n",
       "...            ...            ...           ...     ...            ...   \n",
       "3904             0              0             1       0              1   \n",
       "3905             0              0             1       0              1   \n",
       "3906             0              0             0       0              0   \n",
       "3907             0              0             1       0              0   \n",
       "3908             1              0             1       1              1   \n",
       "\n",
       "      gender_Male  gender_Other  blood_A  blood_AB  blood_B  ...  \\\n",
       "0               0             0        0         0        0  ...   \n",
       "1               1             0        0         0        1  ...   \n",
       "2               0             0        0         0        1  ...   \n",
       "3               0             0        0         0        0  ...   \n",
       "4               0             0        0         0        1  ...   \n",
       "...           ...           ...      ...       ...      ...  ...   \n",
       "3904            0             0        0         0        0  ...   \n",
       "3905            0             0        0         0        1  ...   \n",
       "3906            1             0        0         0        1  ...   \n",
       "3907            1             0        0         0        1  ...   \n",
       "3908            0             0        0         0        0  ...   \n",
       "\n",
       "      Residence_type_Unknown  Residence_type_Urban  work_type_Govt_job  \\\n",
       "0                          1                     0                   0   \n",
       "1                          0                     1                   0   \n",
       "2                          1                     0                   0   \n",
       "3                          1                     0                   0   \n",
       "4                          0                     1                   0   \n",
       "...                      ...                   ...                 ...   \n",
       "3904                       1                     0                   0   \n",
       "3905                       1                     0                   0   \n",
       "3906                       1                     0                   0   \n",
       "3907                       0                     0                   0   \n",
       "3908                       0                     1                   0   \n",
       "\n",
       "      work_type_Never_worked  work_type_Private  work_type_Self-employed  \\\n",
       "0                          0                  0                        0   \n",
       "1                          0                  1                        0   \n",
       "2                          0                  1                        0   \n",
       "3                          0                  1                        0   \n",
       "4                          0                  1                        0   \n",
       "...                      ...                ...                      ...   \n",
       "3904                       0                  1                        0   \n",
       "3905                       0                  1                        0   \n",
       "3906                       0                  1                        0   \n",
       "3907                       0                  1                        0   \n",
       "3908                       0                  1                        0   \n",
       "\n",
       "      work_type_children  avg_glucose_level       bmi       age  \n",
       "0                      1          -0.454391 -1.632301  0.000364  \n",
       "1                      0          -0.377299  0.528038  0.535819  \n",
       "2                      0          -0.162540 -1.649074 -0.047722  \n",
       "3                      0          -0.325215  0.450906 -0.227273  \n",
       "4                      0          -0.185025 -0.357567 -0.855701  \n",
       "...                  ...                ...       ...       ...  \n",
       "3904                   0          -0.909377  0.528038  0.715369  \n",
       "3905                   0          -0.833202  0.528038  0.401155  \n",
       "3906                   0          -0.140513 -1.062025 -1.214803  \n",
       "3907                   0          -0.695536 -0.558841  0.176717  \n",
       "3908                   0          -0.988076  0.330119  0.446043  \n",
       "\n",
       "[3909 rows x 26 columns]"
      ],
      "text/html": "<div>\n<style scoped>\n    .dataframe tbody tr th:only-of-type {\n        vertical-align: middle;\n    }\n\n    .dataframe tbody tr th {\n        vertical-align: top;\n    }\n\n    .dataframe thead th {\n        text-align: right;\n    }\n</style>\n<table border=\"1\" class=\"dataframe\">\n  <thead>\n    <tr style=\"text-align: right;\">\n      <th></th>\n      <th>hypertension</th>\n      <th>heart_disease</th>\n      <th>ever_married</th>\n      <th>stroke</th>\n      <th>gender_Female</th>\n      <th>gender_Male</th>\n      <th>gender_Other</th>\n      <th>blood_A</th>\n      <th>blood_AB</th>\n      <th>blood_B</th>\n      <th>...</th>\n      <th>Residence_type_Unknown</th>\n      <th>Residence_type_Urban</th>\n      <th>work_type_Govt_job</th>\n      <th>work_type_Never_worked</th>\n      <th>work_type_Private</th>\n      <th>work_type_Self-employed</th>\n      <th>work_type_children</th>\n      <th>avg_glucose_level</th>\n      <th>bmi</th>\n      <th>age</th>\n    </tr>\n  </thead>\n  <tbody>\n    <tr>\n      <th>0</th>\n      <td>0</td>\n      <td>0</td>\n      <td>0</td>\n      <td>0</td>\n      <td>1</td>\n      <td>0</td>\n      <td>0</td>\n      <td>0</td>\n      <td>0</td>\n      <td>0</td>\n      <td>...</td>\n      <td>1</td>\n      <td>0</td>\n      <td>0</td>\n      <td>0</td>\n      <td>0</td>\n      <td>0</td>\n      <td>1</td>\n      <td>-0.454391</td>\n      <td>-1.632301</td>\n      <td>0.000364</td>\n    </tr>\n    <tr>\n      <th>1</th>\n      <td>0</td>\n      <td>0</td>\n      <td>1</td>\n      <td>0</td>\n      <td>0</td>\n      <td>1</td>\n      <td>0</td>\n      <td>0</td>\n      <td>0</td>\n      <td>1</td>\n      <td>...</td>\n      <td>0</td>\n      <td>1</td>\n      <td>0</td>\n      <td>0</td>\n      <td>1</td>\n      <td>0</td>\n      <td>0</td>\n      <td>-0.377299</td>\n      <td>0.528038</td>\n      <td>0.535819</td>\n    </tr>\n    <tr>\n      <th>2</th>\n      <td>0</td>\n      <td>0</td>\n      <td>0</td>\n      <td>0</td>\n      <td>1</td>\n      <td>0</td>\n      <td>0</td>\n      <td>0</td>\n      <td>0</td>\n      <td>1</td>\n      <td>...</td>\n      <td>1</td>\n      <td>0</td>\n      <td>0</td>\n      <td>0</td>\n      <td>1</td>\n      <td>0</td>\n      <td>0</td>\n      <td>-0.162540</td>\n      <td>-1.649074</td>\n      <td>-0.047722</td>\n    </tr>\n    <tr>\n      <th>3</th>\n      <td>0</td>\n      <td>0</td>\n      <td>1</td>\n      <td>0</td>\n      <td>1</td>\n      <td>0</td>\n      <td>0</td>\n      <td>0</td>\n      <td>0</td>\n      <td>0</td>\n      <td>...</td>\n      <td>1</td>\n      <td>0</td>\n      <td>0</td>\n      <td>0</td>\n      <td>1</td>\n      <td>0</td>\n      <td>0</td>\n      <td>-0.325215</td>\n      <td>0.450906</td>\n      <td>-0.227273</td>\n    </tr>\n    <tr>\n      <th>4</th>\n      <td>0</td>\n      <td>0</td>\n      <td>0</td>\n      <td>0</td>\n      <td>1</td>\n      <td>0</td>\n      <td>0</td>\n      <td>0</td>\n      <td>0</td>\n      <td>1</td>\n      <td>...</td>\n      <td>0</td>\n      <td>1</td>\n      <td>0</td>\n      <td>0</td>\n      <td>1</td>\n      <td>0</td>\n      <td>0</td>\n      <td>-0.185025</td>\n      <td>-0.357567</td>\n      <td>-0.855701</td>\n    </tr>\n    <tr>\n      <th>...</th>\n      <td>...</td>\n      <td>...</td>\n      <td>...</td>\n      <td>...</td>\n      <td>...</td>\n      <td>...</td>\n      <td>...</td>\n      <td>...</td>\n      <td>...</td>\n      <td>...</td>\n      <td>...</td>\n      <td>...</td>\n      <td>...</td>\n      <td>...</td>\n      <td>...</td>\n      <td>...</td>\n      <td>...</td>\n      <td>...</td>\n      <td>...</td>\n      <td>...</td>\n      <td>...</td>\n    </tr>\n    <tr>\n      <th>3904</th>\n      <td>0</td>\n      <td>0</td>\n      <td>1</td>\n      <td>0</td>\n      <td>1</td>\n      <td>0</td>\n      <td>0</td>\n      <td>0</td>\n      <td>0</td>\n      <td>0</td>\n      <td>...</td>\n      <td>1</td>\n      <td>0</td>\n      <td>0</td>\n      <td>0</td>\n      <td>1</td>\n      <td>0</td>\n      <td>0</td>\n      <td>-0.909377</td>\n      <td>0.528038</td>\n      <td>0.715369</td>\n    </tr>\n    <tr>\n      <th>3905</th>\n      <td>0</td>\n      <td>0</td>\n      <td>1</td>\n      <td>0</td>\n      <td>1</td>\n      <td>0</td>\n      <td>0</td>\n      <td>0</td>\n      <td>0</td>\n      <td>1</td>\n      <td>...</td>\n      <td>1</td>\n      <td>0</td>\n      <td>0</td>\n      <td>0</td>\n      <td>1</td>\n      <td>0</td>\n      <td>0</td>\n      <td>-0.833202</td>\n      <td>0.528038</td>\n      <td>0.401155</td>\n    </tr>\n    <tr>\n      <th>3906</th>\n      <td>0</td>\n      <td>0</td>\n      <td>0</td>\n      <td>0</td>\n      <td>0</td>\n      <td>1</td>\n      <td>0</td>\n      <td>0</td>\n      <td>0</td>\n      <td>1</td>\n      <td>...</td>\n      <td>1</td>\n      <td>0</td>\n      <td>0</td>\n      <td>0</td>\n      <td>1</td>\n      <td>0</td>\n      <td>0</td>\n      <td>-0.140513</td>\n      <td>-1.062025</td>\n      <td>-1.214803</td>\n    </tr>\n    <tr>\n      <th>3907</th>\n      <td>0</td>\n      <td>0</td>\n      <td>1</td>\n      <td>0</td>\n      <td>0</td>\n      <td>1</td>\n      <td>0</td>\n      <td>0</td>\n      <td>0</td>\n      <td>1</td>\n      <td>...</td>\n      <td>0</td>\n      <td>0</td>\n      <td>0</td>\n      <td>0</td>\n      <td>1</td>\n      <td>0</td>\n      <td>0</td>\n      <td>-0.695536</td>\n      <td>-0.558841</td>\n      <td>0.176717</td>\n    </tr>\n    <tr>\n      <th>3908</th>\n      <td>1</td>\n      <td>0</td>\n      <td>1</td>\n      <td>1</td>\n      <td>1</td>\n      <td>0</td>\n      <td>0</td>\n      <td>0</td>\n      <td>0</td>\n      <td>0</td>\n      <td>...</td>\n      <td>0</td>\n      <td>1</td>\n      <td>0</td>\n      <td>0</td>\n      <td>1</td>\n      <td>0</td>\n      <td>0</td>\n      <td>-0.988076</td>\n      <td>0.330119</td>\n      <td>0.446043</td>\n    </tr>\n  </tbody>\n</table>\n<p>3909 rows × 26 columns</p>\n</div>"
     },
     "metadata": {},
     "execution_count": 19
    }
   ],
   "source": [
    "df"
   ]
  },
  {
   "cell_type": "code",
   "execution_count": 20,
   "metadata": {},
   "outputs": [],
   "source": [
    "x = df.copy()\n",
    "x = x.drop(columns='stroke')\n",
    "y = df['stroke']"
   ]
  },
  {
   "cell_type": "code",
   "execution_count": 21,
   "metadata": {},
   "outputs": [],
   "source": [
    "smote = SMOTE()\n",
    "x_smote, y_smote = smote.fit_resample(x, y)"
   ]
  },
  {
   "cell_type": "code",
   "execution_count": 22,
   "metadata": {},
   "outputs": [],
   "source": [
    "x_train, x_test, y_train, y_test = train_test_split(x_smote, y_smote, test_size= 0.2, random_state= 42)"
   ]
  },
  {
   "cell_type": "code",
   "execution_count": 23,
   "metadata": {},
   "outputs": [
    {
     "output_type": "stream",
     "name": "stdout",
     "text": [
      "6052\n6052\n1514\n1514\n"
     ]
    }
   ],
   "source": [
    "print(len(x_train))\n",
    "print(len(y_train))\n",
    "print(len(x_test))\n",
    "print(len(y_test))"
   ]
  },
  {
   "source": [
    "## Training Model"
   ],
   "cell_type": "markdown",
   "metadata": {}
  },
  {
   "cell_type": "code",
   "execution_count": 24,
   "metadata": {},
   "outputs": [
    {
     "output_type": "execute_result",
     "data": {
      "text/plain": [
       "stroke                            1.000000\n",
       "blood_O                           0.206690\n",
       "age                               0.192354\n",
       "Residence_type_Urban              0.116430\n",
       "avg_glucose_level                 0.102858\n",
       "heart_disease                     0.095742\n",
       "ever_married                      0.087278\n",
       "Residence_type_Rural              0.070189\n",
       "hypertension                      0.064028\n",
       "smoking_status_formerly smoked    0.051671\n",
       "bmi                               0.037239\n",
       "work_type_Self-employed           0.024138\n",
       "work_type_Private                 0.022925\n",
       "work_type_Govt_job                0.017460\n",
       "gender_Male                       0.012944\n",
       "smoking_status_smokes             0.006403\n",
       "gender_Other                      0.001244\n",
       "smoking_status_never smoked      -0.003192\n",
       "work_type_Never_worked           -0.012062\n",
       "gender_Female                    -0.013280\n",
       "blood_A                          -0.037011\n",
       "smoking_status_Unknown           -0.043779\n",
       "blood_B                          -0.047782\n",
       "work_type_children               -0.072987\n",
       "blood_AB                         -0.095569\n",
       "Residence_type_Unknown           -0.161897\n",
       "Name: stroke, dtype: float64"
      ]
     },
     "metadata": {},
     "execution_count": 24
    }
   ],
   "source": [
    "df.corr()['stroke'].sort_values(ascending=False)"
   ]
  },
  {
   "source": [
    "## Train Svm without Hyper parameter tuning"
   ],
   "cell_type": "markdown",
   "metadata": {}
  },
  {
   "cell_type": "code",
   "execution_count": 46,
   "metadata": {},
   "outputs": [
    {
     "output_type": "execute_result",
     "data": {
      "text/plain": [
       "array([1, 0, 0, ..., 0, 1, 0], dtype=int64)"
      ]
     },
     "metadata": {},
     "execution_count": 46
    }
   ],
   "source": [
    "Svm = SVC()\n",
    "Svm.fit(x_train,y_train)\n",
    "\n",
    "y_Svm_pred = Svm.predict(x_test)\n",
    "y_Svm_pred"
   ]
  },
  {
   "cell_type": "code",
   "execution_count": 47,
   "metadata": {},
   "outputs": [
    {
     "output_type": "execute_result",
     "data": {
      "text/plain": [
       "array([[755,  16],\n",
       "       [ 10, 733]], dtype=int64)"
      ]
     },
     "metadata": {},
     "execution_count": 47
    }
   ],
   "source": [
    "cm = confusion_matrix(y_test, y_Svm_pred)\n",
    "cm"
   ]
  },
  {
   "cell_type": "code",
   "execution_count": 48,
   "metadata": {},
   "outputs": [
    {
     "output_type": "stream",
     "name": "stdout",
     "text": [
      "0.982573726541555\n0.9828269484808454\n"
     ]
    }
   ],
   "source": [
    "tn = cm[0,0]\n",
    "fp = cm[0,1]\n",
    "tp = cm[1,1]\n",
    "fn = cm[1,0]\n",
    "accuracy  = (tp + tn) / (tp + fp + tn + fn)\n",
    "precision = tp / (tp + fp)\n",
    "recall    = tp / (tp + fn)\n",
    "f1score  = 2 * precision * recall / (precision + recall)\n",
    "print(f1score)\n",
    "print(accuracy)"
   ]
  },
  {
   "source": [
    "## Hyper parameter tuning with GridSearchCV"
   ],
   "cell_type": "markdown",
   "metadata": {}
  },
  {
   "cell_type": "code",
   "execution_count": 49,
   "metadata": {},
   "outputs": [],
   "source": [
    "from sklearn.model_selection import RandomizedSearchCV\n",
    "from scipy.stats import reciprocal, uniform\n",
    "param_distributions = {\"C\": uniform(0.001, 1)}\n",
    "rnd_search_cv = RandomizedSearchCV(Svm, param_distributions, n_iter=50, verbose=2, cv=3)\n"
   ]
  },
  {
   "cell_type": "code",
   "execution_count": 50,
   "metadata": {},
   "outputs": [
    {
     "output_type": "stream",
     "name": "stdout",
     "text": [
      "Fitting 3 folds for each of 50 candidates, totalling 150 fits\n",
      "[CV] END ..............................C=0.14456586068757293; total time=   0.6s\n",
      "[CV] END ..............................C=0.14456586068757293; total time=   0.6s\n",
      "[CV] END ..............................C=0.14456586068757293; total time=   0.6s\n",
      "[CV] END ...............................C=0.5576157385554026; total time=   0.4s\n",
      "[CV] END ...............................C=0.5576157385554026; total time=   0.3s\n",
      "[CV] END ...............................C=0.5576157385554026; total time=   0.3s\n",
      "[CV] END ...............................C=0.7013218059111903; total time=   0.3s\n",
      "[CV] END ...............................C=0.7013218059111903; total time=   0.3s\n",
      "[CV] END ...............................C=0.7013218059111903; total time=   0.3s\n",
      "[CV] END ..............................C=0.22552370781927955; total time=   0.5s\n",
      "[CV] END ..............................C=0.22552370781927955; total time=   0.5s\n",
      "[CV] END ..............................C=0.22552370781927955; total time=   0.5s\n",
      "[CV] END ...............................C=0.6367679484788356; total time=   0.3s\n",
      "[CV] END ...............................C=0.6367679484788356; total time=   0.3s\n",
      "[CV] END ...............................C=0.6367679484788356; total time=   0.3s\n",
      "[CV] END ...............................C=0.9143286769475959; total time=   0.3s\n",
      "[CV] END ...............................C=0.9143286769475959; total time=   0.3s\n",
      "[CV] END ...............................C=0.9143286769475959; total time=   0.3s\n",
      "[CV] END ...............................C=0.8082027614760865; total time=   0.3s\n",
      "[CV] END ...............................C=0.8082027614760865; total time=   0.3s\n",
      "[CV] END ...............................C=0.8082027614760865; total time=   0.3s\n",
      "[CV] END ..............................C=0.10486695683174296; total time=   0.6s\n",
      "[CV] END ..............................C=0.10486695683174296; total time=   0.6s\n",
      "[CV] END ..............................C=0.10486695683174296; total time=   0.6s\n",
      "[CV] END ...............................C=0.9760287017601973; total time=   0.3s\n",
      "[CV] END ...............................C=0.9760287017601973; total time=   0.3s\n",
      "[CV] END ...............................C=0.9760287017601973; total time=   0.3s\n",
      "[CV] END ..............................C=0.38430326572749407; total time=   0.4s\n",
      "[CV] END ..............................C=0.38430326572749407; total time=   0.4s\n",
      "[CV] END ..............................C=0.38430326572749407; total time=   0.4s\n",
      "[CV] END ...............................C=0.2715697597930695; total time=   0.4s\n",
      "[CV] END ...............................C=0.2715697597930695; total time=   0.4s\n",
      "[CV] END ...............................C=0.2715697597930695; total time=   0.4s\n",
      "[CV] END ...............................C=0.8785494589165804; total time=   0.3s\n",
      "[CV] END ...............................C=0.8785494589165804; total time=   0.3s\n",
      "[CV] END ...............................C=0.8785494589165804; total time=   0.3s\n",
      "[CV] END ...............................C=0.5136199590835814; total time=   0.4s\n",
      "[CV] END ...............................C=0.5136199590835814; total time=   0.3s\n",
      "[CV] END ...............................C=0.5136199590835814; total time=   0.3s\n",
      "[CV] END ...............................C=0.8329010599896707; total time=   0.3s\n",
      "[CV] END ...............................C=0.8329010599896707; total time=   0.3s\n",
      "[CV] END ...............................C=0.8329010599896707; total time=   0.3s\n",
      "[CV] END ...............................C=0.9466510460528823; total time=   0.3s\n",
      "[CV] END ...............................C=0.9466510460528823; total time=   0.3s\n",
      "[CV] END ...............................C=0.9466510460528823; total time=   0.3s\n",
      "[CV] END ...............................C=0.5250809142422989; total time=   0.3s\n",
      "[CV] END ...............................C=0.5250809142422989; total time=   0.3s\n",
      "[CV] END ...............................C=0.5250809142422989; total time=   0.3s\n",
      "[CV] END ...............................C=0.5710611717187921; total time=   0.3s\n",
      "[CV] END ...............................C=0.5710611717187921; total time=   0.3s\n",
      "[CV] END ...............................C=0.5710611717187921; total time=   0.3s\n",
      "[CV] END ................................C=0.968679877362082; total time=   0.3s\n",
      "[CV] END ................................C=0.968679877362082; total time=   0.2s\n",
      "[CV] END ................................C=0.968679877362082; total time=   0.3s\n",
      "[CV] END ...............................C=0.9839511936185809; total time=   0.3s\n",
      "[CV] END ...............................C=0.9839511936185809; total time=   0.2s\n",
      "[CV] END ...............................C=0.9839511936185809; total time=   0.2s\n",
      "[CV] END ...............................C=0.8363336649230902; total time=   0.3s\n",
      "[CV] END ...............................C=0.8363336649230902; total time=   0.3s\n",
      "[CV] END ...............................C=0.8363336649230902; total time=   0.3s\n",
      "[CV] END ...............................C=0.4553787850016596; total time=   0.4s\n",
      "[CV] END ...............................C=0.4553787850016596; total time=   0.3s\n",
      "[CV] END ...............................C=0.4553787850016596; total time=   0.4s\n",
      "[CV] END ...............................C=0.8967340625078709; total time=   0.3s\n",
      "[CV] END ...............................C=0.8967340625078709; total time=   0.3s\n",
      "[CV] END ...............................C=0.8967340625078709; total time=   0.3s\n",
      "[CV] END ...............................C=0.4342606098659807; total time=   0.3s\n",
      "[CV] END ...............................C=0.4342606098659807; total time=   0.4s\n",
      "[CV] END ...............................C=0.4342606098659807; total time=   0.4s\n",
      "[CV] END ..............................C=0.04671026067591921; total time=   0.9s\n",
      "[CV] END ..............................C=0.04671026067591921; total time=   1.0s\n",
      "[CV] END ..............................C=0.04671026067591921; total time=   1.0s\n",
      "[CV] END ..............................C=0.31401453047386896; total time=   0.6s\n",
      "[CV] END ..............................C=0.31401453047386896; total time=   0.5s\n",
      "[CV] END ..............................C=0.31401453047386896; total time=   0.5s\n",
      "[CV] END ...............................C=0.9723191732548756; total time=   0.4s\n",
      "[CV] END ...............................C=0.9723191732548756; total time=   0.4s\n",
      "[CV] END ...............................C=0.9723191732548756; total time=   0.6s\n",
      "[CV] END ...............................C=0.1358768305441218; total time=   0.8s\n",
      "[CV] END ...............................C=0.1358768305441218; total time=   0.9s\n",
      "[CV] END ...............................C=0.1358768305441218; total time=   0.9s\n",
      "[CV] END ..............................C=0.25030653710519246; total time=   0.7s\n",
      "[CV] END ..............................C=0.25030653710519246; total time=   0.7s\n",
      "[CV] END ..............................C=0.25030653710519246; total time=   0.6s\n",
      "[CV] END ...............................C=0.8330691904891718; total time=   0.4s\n",
      "[CV] END ...............................C=0.8330691904891718; total time=   0.4s\n",
      "[CV] END ...............................C=0.8330691904891718; total time=   0.4s\n",
      "[CV] END ..............................C=0.04810062837029205; total time=   1.0s\n",
      "[CV] END ..............................C=0.04810062837029205; total time=   1.2s\n",
      "[CV] END ..............................C=0.04810062837029205; total time=   1.1s\n",
      "[CV] END ...............................C=0.8688271777255355; total time=   0.3s\n",
      "[CV] END ...............................C=0.8688271777255355; total time=   0.3s\n",
      "[CV] END ...............................C=0.8688271777255355; total time=   0.3s\n",
      "[CV] END ...............................C=0.1938597720922649; total time=   0.6s\n",
      "[CV] END ...............................C=0.1938597720922649; total time=   0.7s\n",
      "[CV] END ...............................C=0.1938597720922649; total time=   0.9s\n",
      "[CV] END ...............................C=0.2169074922937475; total time=   0.7s\n",
      "[CV] END ...............................C=0.2169074922937475; total time=   0.5s\n",
      "[CV] END ...............................C=0.2169074922937475; total time=   0.6s\n",
      "[CV] END ..............................C=0.10965895254703095; total time=   0.9s\n",
      "[CV] END ..............................C=0.10965895254703095; total time=   0.7s\n",
      "[CV] END ..............................C=0.10965895254703095; total time=   0.8s\n",
      "[CV] END ...............................C=0.8395595701154327; total time=   0.4s\n",
      "[CV] END ...............................C=0.8395595701154327; total time=   0.3s\n",
      "[CV] END ...............................C=0.8395595701154327; total time=   0.3s\n",
      "[CV] END ..............................C=0.26890063183730684; total time=   0.5s\n",
      "[CV] END ..............................C=0.26890063183730684; total time=   0.5s\n",
      "[CV] END ..............................C=0.26890063183730684; total time=   0.5s\n",
      "[CV] END ...............................C=0.6256869826840702; total time=   0.3s\n",
      "[CV] END ...............................C=0.6256869826840702; total time=   0.3s\n",
      "[CV] END ...............................C=0.6256869826840702; total time=   0.3s\n",
      "[CV] END ..............................C=0.14387581449626696; total time=   0.6s\n",
      "[CV] END ..............................C=0.14387581449626696; total time=   0.6s\n",
      "[CV] END ..............................C=0.14387581449626696; total time=   0.6s\n",
      "[CV] END ..............................C=0.13413723570704328; total time=   0.6s\n",
      "[CV] END ..............................C=0.13413723570704328; total time=   0.7s\n",
      "[CV] END ..............................C=0.13413723570704328; total time=   0.6s\n",
      "[CV] END ..............................C=0.28444962155276443; total time=   0.4s\n",
      "[CV] END ..............................C=0.28444962155276443; total time=   0.4s\n",
      "[CV] END ..............................C=0.28444962155276443; total time=   0.4s\n",
      "[CV] END ...............................C=0.3952029835905523; total time=   0.4s\n",
      "[CV] END ...............................C=0.3952029835905523; total time=   0.4s\n",
      "[CV] END ...............................C=0.3952029835905523; total time=   0.4s\n",
      "[CV] END ...............................C=0.4578965380745921; total time=   0.3s\n",
      "[CV] END ...............................C=0.4578965380745921; total time=   0.3s\n",
      "[CV] END ...............................C=0.4578965380745921; total time=   0.3s\n",
      "[CV] END ..............................C=0.10980690427190853; total time=   0.7s\n",
      "[CV] END ..............................C=0.10980690427190853; total time=   0.7s\n",
      "[CV] END ..............................C=0.10980690427190853; total time=   0.7s\n",
      "[CV] END ...............................C=0.5238786291601036; total time=   0.3s\n",
      "[CV] END ...............................C=0.5238786291601036; total time=   0.4s\n",
      "[CV] END ...............................C=0.5238786291601036; total time=   0.3s\n",
      "[CV] END ................................C=0.744331084312876; total time=   0.3s\n",
      "[CV] END ................................C=0.744331084312876; total time=   0.3s\n",
      "[CV] END ................................C=0.744331084312876; total time=   0.3s\n",
      "[CV] END ..............................C=0.16266605963842806; total time=   0.6s\n",
      "[CV] END ..............................C=0.16266605963842806; total time=   0.5s\n",
      "[CV] END ..............................C=0.16266605963842806; total time=   0.5s\n",
      "[CV] END ...............................C=0.6436334776550351; total time=   0.3s\n",
      "[CV] END ...............................C=0.6436334776550351; total time=   0.3s\n",
      "[CV] END ...............................C=0.6436334776550351; total time=   0.3s\n",
      "[CV] END ..............................C=0.20196109388524308; total time=   0.5s\n",
      "[CV] END ..............................C=0.20196109388524308; total time=   0.5s\n",
      "[CV] END ..............................C=0.20196109388524308; total time=   0.5s\n",
      "[CV] END ..............................C=0.43639097245106095; total time=   0.3s\n",
      "[CV] END ..............................C=0.43639097245106095; total time=   0.3s\n",
      "[CV] END ..............................C=0.43639097245106095; total time=   0.3s\n",
      "[CV] END ...............................C=0.8345598577661879; total time=   0.2s\n",
      "[CV] END ...............................C=0.8345598577661879; total time=   0.3s\n",
      "[CV] END ...............................C=0.8345598577661879; total time=   0.3s\n"
     ]
    },
    {
     "output_type": "execute_result",
     "data": {
      "text/plain": [
       "RandomizedSearchCV(cv=3, estimator=SVC(), n_iter=50,\n",
       "                   param_distributions={'C': <scipy.stats._distn_infrastructure.rv_frozen object at 0x000002251A7E4BB0>},\n",
       "                   verbose=2)"
      ]
     },
     "metadata": {},
     "execution_count": 50
    }
   ],
   "source": [
    "rnd_search_cv.fit(x_train,y_train)"
   ]
  },
  {
   "cell_type": "code",
   "execution_count": 51,
   "metadata": {},
   "outputs": [
    {
     "output_type": "stream",
     "name": "stdout",
     "text": [
      "{'C': 0.9143286769475959}\nSVC(C=0.9143286769475959)\n"
     ]
    }
   ],
   "source": [
    "print(rnd_search_cv.best_params_)\n",
    "print(rnd_search_cv.best_estimator_)"
   ]
  },
  {
   "cell_type": "code",
   "execution_count": 52,
   "metadata": {},
   "outputs": [
    {
     "output_type": "execute_result",
     "data": {
      "text/plain": [
       "RandomizedSearchCV(cv=3, estimator=SVC(), n_iter=50,\n",
       "                   param_distributions={'C': <scipy.stats._distn_infrastructure.rv_frozen object at 0x000002251A7E4BB0>},\n",
       "                   verbose=2)"
      ]
     },
     "metadata": {},
     "execution_count": 52
    }
   ],
   "source": [
    "rnd_search_cv"
   ]
  },
  {
   "cell_type": "code",
   "execution_count": 53,
   "metadata": {},
   "outputs": [
    {
     "output_type": "execute_result",
     "data": {
      "text/plain": [
       "array([1, 0, 0, ..., 0, 1, 0], dtype=int64)"
      ]
     },
     "metadata": {},
     "execution_count": 53
    }
   ],
   "source": [
    "y_Svm_pred = rnd_search_cv.best_estimator_.predict(x_test)\n",
    "y_Svm_pred"
   ]
  },
  {
   "cell_type": "code",
   "execution_count": 54,
   "metadata": {},
   "outputs": [
    {
     "output_type": "execute_result",
     "data": {
      "text/plain": [
       "array([[754,  17],\n",
       "       [ 10, 733]], dtype=int64)"
      ]
     },
     "metadata": {},
     "execution_count": 54
    }
   ],
   "source": [
    "cm = confusion_matrix(y_test, y_Svm_pred)\n",
    "cm"
   ]
  },
  {
   "cell_type": "code",
   "execution_count": 55,
   "metadata": {},
   "outputs": [
    {
     "output_type": "stream",
     "name": "stdout",
     "text": [
      "0.9819156061620898\n0.9821664464993395\n"
     ]
    }
   ],
   "source": [
    "tn = cm[0,0]\n",
    "fp = cm[0,1]\n",
    "tp = cm[1,1]\n",
    "fn = cm[1,0]\n",
    "accuracy  = (tp + tn) / (tp + fp + tn + fn)\n",
    "precision = tp / (tp + fp)\n",
    "recall    = tp / (tp + fn)\n",
    "f1score  = 2 * precision * recall / (precision + recall)\n",
    "print(f1score)\n",
    "print(accuracy)"
   ]
  },
  {
   "source": [
    "## Lower value\n",
    "# Let's use defaul C and gamma value"
   ],
   "cell_type": "markdown",
   "metadata": {}
  },
  {
   "cell_type": "code",
   "execution_count": null,
   "metadata": {},
   "outputs": [],
   "source": []
  }
 ]
}