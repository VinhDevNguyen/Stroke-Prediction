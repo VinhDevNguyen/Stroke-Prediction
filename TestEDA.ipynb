{
 "metadata": {
  "language_info": {
   "codemirror_mode": {
    "name": "ipython",
    "version": 3
   },
   "file_extension": ".py",
   "mimetype": "text/x-python",
   "name": "python",
   "nbconvert_exporter": "python",
   "pygments_lexer": "ipython3",
   "version": "3.7.6"
  },
  "orig_nbformat": 2,
  "kernelspec": {
   "name": "python376jvsc74a57bd04ce0e62306dd6a5716965d4519ada776f947e6dfc145b604b11307c10277ef29",
   "display_name": "Python 3.7.6 64-bit ('base': conda)"
  }
 },
 "nbformat": 4,
 "nbformat_minor": 2,
 "cells": [
  {
   "cell_type": "code",
   "execution_count": 1,
   "metadata": {},
   "outputs": [],
   "source": [
    "import pandas as pd\n",
    "import sklearn\n",
    "import matplotlib.pyplot as plt\n",
    "import seaborn as sns\n",
    "import numpy as np\n",
    "from sklearn.linear_model import LinearRegression\n",
    "from sklearn.metrics import f1_score\n",
    "from sklearn.preprocessing import StandardScaler, OneHotEncoder\n",
    "from sklearn.model_selection import train_test_split"
   ]
  },
  {
   "cell_type": "code",
   "execution_count": 2,
   "metadata": {},
   "outputs": [
    {
     "output_type": "execute_result",
     "data": {
      "text/plain": [
       "    id  gender   age  hypertension  heart_disease ever_married      work_type  \\\n",
       "0   67  Female  17.0           0.0            0.0           No        Private   \n",
       "1  210    Male  81.0           0.0            0.0          Yes  Self-employed   \n",
       "2  242    Male   4.0           NaN            0.0           No       children   \n",
       "3  711    Male  81.0           0.0            NaN          Yes        Private   \n",
       "4  724    Male  17.0           0.0            0.0           No        Private   \n",
       "\n",
       "  Residence_type  avg_glucose_level   bmi   smoking_status blood  height  \n",
       "0          Urban              92.97   NaN  formerly smoked    AB     NaN  \n",
       "1          Rural              91.54  31.4     never smoked     A    1.60  \n",
       "2          Urban              98.56  17.5          Unknown     O     NaN  \n",
       "3          Rural              92.96  22.2     never smoked    AB     NaN  \n",
       "4          Rural              81.77  44.7     never smoked     O    1.34  "
      ],
      "text/html": "<div>\n<style scoped>\n    .dataframe tbody tr th:only-of-type {\n        vertical-align: middle;\n    }\n\n    .dataframe tbody tr th {\n        vertical-align: top;\n    }\n\n    .dataframe thead th {\n        text-align: right;\n    }\n</style>\n<table border=\"1\" class=\"dataframe\">\n  <thead>\n    <tr style=\"text-align: right;\">\n      <th></th>\n      <th>id</th>\n      <th>gender</th>\n      <th>age</th>\n      <th>hypertension</th>\n      <th>heart_disease</th>\n      <th>ever_married</th>\n      <th>work_type</th>\n      <th>Residence_type</th>\n      <th>avg_glucose_level</th>\n      <th>bmi</th>\n      <th>smoking_status</th>\n      <th>blood</th>\n      <th>height</th>\n    </tr>\n  </thead>\n  <tbody>\n    <tr>\n      <th>0</th>\n      <td>67</td>\n      <td>Female</td>\n      <td>17.0</td>\n      <td>0.0</td>\n      <td>0.0</td>\n      <td>No</td>\n      <td>Private</td>\n      <td>Urban</td>\n      <td>92.97</td>\n      <td>NaN</td>\n      <td>formerly smoked</td>\n      <td>AB</td>\n      <td>NaN</td>\n    </tr>\n    <tr>\n      <th>1</th>\n      <td>210</td>\n      <td>Male</td>\n      <td>81.0</td>\n      <td>0.0</td>\n      <td>0.0</td>\n      <td>Yes</td>\n      <td>Self-employed</td>\n      <td>Rural</td>\n      <td>91.54</td>\n      <td>31.4</td>\n      <td>never smoked</td>\n      <td>A</td>\n      <td>1.60</td>\n    </tr>\n    <tr>\n      <th>2</th>\n      <td>242</td>\n      <td>Male</td>\n      <td>4.0</td>\n      <td>NaN</td>\n      <td>0.0</td>\n      <td>No</td>\n      <td>children</td>\n      <td>Urban</td>\n      <td>98.56</td>\n      <td>17.5</td>\n      <td>Unknown</td>\n      <td>O</td>\n      <td>NaN</td>\n    </tr>\n    <tr>\n      <th>3</th>\n      <td>711</td>\n      <td>Male</td>\n      <td>81.0</td>\n      <td>0.0</td>\n      <td>NaN</td>\n      <td>Yes</td>\n      <td>Private</td>\n      <td>Rural</td>\n      <td>92.96</td>\n      <td>22.2</td>\n      <td>never smoked</td>\n      <td>AB</td>\n      <td>NaN</td>\n    </tr>\n    <tr>\n      <th>4</th>\n      <td>724</td>\n      <td>Male</td>\n      <td>17.0</td>\n      <td>0.0</td>\n      <td>0.0</td>\n      <td>No</td>\n      <td>Private</td>\n      <td>Rural</td>\n      <td>81.77</td>\n      <td>44.7</td>\n      <td>never smoked</td>\n      <td>O</td>\n      <td>1.34</td>\n    </tr>\n  </tbody>\n</table>\n</div>"
     },
     "metadata": {},
     "execution_count": 2
    }
   ],
   "source": [
    "raw_df = pd.read_csv('./Dataset/public_test.csv')\n",
    "raw_df.head()"
   ]
  },
  {
   "source": [
    "### Drop id feature because it's useless"
   ],
   "cell_type": "markdown",
   "metadata": {}
  },
  {
   "cell_type": "code",
   "execution_count": 3,
   "metadata": {},
   "outputs": [
    {
     "output_type": "execute_result",
     "data": {
      "text/plain": [
       "     gender   age  hypertension  heart_disease ever_married      work_type  \\\n",
       "0    Female  17.0           0.0            0.0           No        Private   \n",
       "1      Male  81.0           0.0            0.0          Yes  Self-employed   \n",
       "2      Male   4.0           NaN            0.0           No       children   \n",
       "3      Male  81.0           0.0            NaN          Yes        Private   \n",
       "4      Male  17.0           0.0            0.0           No        Private   \n",
       "..      ...   ...           ...            ...          ...            ...   \n",
       "495  Female  23.0           0.0            NaN          Yes       Govt_job   \n",
       "496    Male  53.0           0.0            0.0          Yes        Private   \n",
       "497  Female  57.0           0.0            NaN          Yes        Private   \n",
       "498  Female  53.0           NaN            0.0          Yes        Private   \n",
       "499  Female   2.0           0.0            NaN           No       children   \n",
       "\n",
       "    Residence_type  avg_glucose_level   bmi   smoking_status blood  height  \n",
       "0            Urban              92.97   NaN  formerly smoked    AB     NaN  \n",
       "1            Rural              91.54  31.4     never smoked     A    1.60  \n",
       "2            Urban              98.56  17.5          Unknown     O     NaN  \n",
       "3            Rural              92.96  22.2     never smoked    AB     NaN  \n",
       "4            Rural              81.77  44.7     never smoked     O    1.34  \n",
       "..             ...                ...   ...              ...   ...     ...  \n",
       "495          Rural              84.93  24.2     never smoked     A    1.82  \n",
       "496          Urban              74.66  29.2           smokes     O    1.66  \n",
       "497          Rural              64.37  32.8     never smoked    AB    1.56  \n",
       "498          Rural              77.94   NaN     never smoked    AB    1.56  \n",
       "499          Urban             102.92  17.6          Unknown    AB     NaN  \n",
       "\n",
       "[500 rows x 12 columns]"
      ],
      "text/html": "<div>\n<style scoped>\n    .dataframe tbody tr th:only-of-type {\n        vertical-align: middle;\n    }\n\n    .dataframe tbody tr th {\n        vertical-align: top;\n    }\n\n    .dataframe thead th {\n        text-align: right;\n    }\n</style>\n<table border=\"1\" class=\"dataframe\">\n  <thead>\n    <tr style=\"text-align: right;\">\n      <th></th>\n      <th>gender</th>\n      <th>age</th>\n      <th>hypertension</th>\n      <th>heart_disease</th>\n      <th>ever_married</th>\n      <th>work_type</th>\n      <th>Residence_type</th>\n      <th>avg_glucose_level</th>\n      <th>bmi</th>\n      <th>smoking_status</th>\n      <th>blood</th>\n      <th>height</th>\n    </tr>\n  </thead>\n  <tbody>\n    <tr>\n      <th>0</th>\n      <td>Female</td>\n      <td>17.0</td>\n      <td>0.0</td>\n      <td>0.0</td>\n      <td>No</td>\n      <td>Private</td>\n      <td>Urban</td>\n      <td>92.97</td>\n      <td>NaN</td>\n      <td>formerly smoked</td>\n      <td>AB</td>\n      <td>NaN</td>\n    </tr>\n    <tr>\n      <th>1</th>\n      <td>Male</td>\n      <td>81.0</td>\n      <td>0.0</td>\n      <td>0.0</td>\n      <td>Yes</td>\n      <td>Self-employed</td>\n      <td>Rural</td>\n      <td>91.54</td>\n      <td>31.4</td>\n      <td>never smoked</td>\n      <td>A</td>\n      <td>1.60</td>\n    </tr>\n    <tr>\n      <th>2</th>\n      <td>Male</td>\n      <td>4.0</td>\n      <td>NaN</td>\n      <td>0.0</td>\n      <td>No</td>\n      <td>children</td>\n      <td>Urban</td>\n      <td>98.56</td>\n      <td>17.5</td>\n      <td>Unknown</td>\n      <td>O</td>\n      <td>NaN</td>\n    </tr>\n    <tr>\n      <th>3</th>\n      <td>Male</td>\n      <td>81.0</td>\n      <td>0.0</td>\n      <td>NaN</td>\n      <td>Yes</td>\n      <td>Private</td>\n      <td>Rural</td>\n      <td>92.96</td>\n      <td>22.2</td>\n      <td>never smoked</td>\n      <td>AB</td>\n      <td>NaN</td>\n    </tr>\n    <tr>\n      <th>4</th>\n      <td>Male</td>\n      <td>17.0</td>\n      <td>0.0</td>\n      <td>0.0</td>\n      <td>No</td>\n      <td>Private</td>\n      <td>Rural</td>\n      <td>81.77</td>\n      <td>44.7</td>\n      <td>never smoked</td>\n      <td>O</td>\n      <td>1.34</td>\n    </tr>\n    <tr>\n      <th>...</th>\n      <td>...</td>\n      <td>...</td>\n      <td>...</td>\n      <td>...</td>\n      <td>...</td>\n      <td>...</td>\n      <td>...</td>\n      <td>...</td>\n      <td>...</td>\n      <td>...</td>\n      <td>...</td>\n      <td>...</td>\n    </tr>\n    <tr>\n      <th>495</th>\n      <td>Female</td>\n      <td>23.0</td>\n      <td>0.0</td>\n      <td>NaN</td>\n      <td>Yes</td>\n      <td>Govt_job</td>\n      <td>Rural</td>\n      <td>84.93</td>\n      <td>24.2</td>\n      <td>never smoked</td>\n      <td>A</td>\n      <td>1.82</td>\n    </tr>\n    <tr>\n      <th>496</th>\n      <td>Male</td>\n      <td>53.0</td>\n      <td>0.0</td>\n      <td>0.0</td>\n      <td>Yes</td>\n      <td>Private</td>\n      <td>Urban</td>\n      <td>74.66</td>\n      <td>29.2</td>\n      <td>smokes</td>\n      <td>O</td>\n      <td>1.66</td>\n    </tr>\n    <tr>\n      <th>497</th>\n      <td>Female</td>\n      <td>57.0</td>\n      <td>0.0</td>\n      <td>NaN</td>\n      <td>Yes</td>\n      <td>Private</td>\n      <td>Rural</td>\n      <td>64.37</td>\n      <td>32.8</td>\n      <td>never smoked</td>\n      <td>AB</td>\n      <td>1.56</td>\n    </tr>\n    <tr>\n      <th>498</th>\n      <td>Female</td>\n      <td>53.0</td>\n      <td>NaN</td>\n      <td>0.0</td>\n      <td>Yes</td>\n      <td>Private</td>\n      <td>Rural</td>\n      <td>77.94</td>\n      <td>NaN</td>\n      <td>never smoked</td>\n      <td>AB</td>\n      <td>1.56</td>\n    </tr>\n    <tr>\n      <th>499</th>\n      <td>Female</td>\n      <td>2.0</td>\n      <td>0.0</td>\n      <td>NaN</td>\n      <td>No</td>\n      <td>children</td>\n      <td>Urban</td>\n      <td>102.92</td>\n      <td>17.6</td>\n      <td>Unknown</td>\n      <td>AB</td>\n      <td>NaN</td>\n    </tr>\n  </tbody>\n</table>\n<p>500 rows × 12 columns</p>\n</div>"
     },
     "metadata": {},
     "execution_count": 3
    }
   ],
   "source": [
    "df = raw_df.copy()\n",
    "df.drop(columns=['id'], inplace=True)\n",
    "df"
   ]
  },
  {
   "source": [
    "## Analyze data"
   ],
   "cell_type": "markdown",
   "metadata": {}
  },
  {
   "cell_type": "code",
   "execution_count": 4,
   "metadata": {},
   "outputs": [
    {
     "output_type": "execute_result",
     "data": {
      "text/plain": [
       "                   count        mean        std    min     25%     50%  \\\n",
       "age                489.0   42.885399  22.546490   0.24  26.000  43.000   \n",
       "hypertension       455.0    0.112088   0.315822   0.00   0.000   0.000   \n",
       "heart_disease      366.0    0.057377   0.232880   0.00   0.000   0.000   \n",
       "avg_glucose_level  494.0  106.475020  47.208236  55.35  76.675  89.415   \n",
       "bmi                457.0   29.070460   8.277457  14.00  23.500  27.900   \n",
       "height             376.0    1.620718   0.154750   0.93   1.520   1.650   \n",
       "\n",
       "                        75%     max  \n",
       "age                 60.0000   82.00  \n",
       "hypertension         0.0000    1.00  \n",
       "heart_disease        0.0000    1.00  \n",
       "avg_glucose_level  115.4075  263.32  \n",
       "bmi                 33.2000   92.00  \n",
       "height               1.7400    1.85  "
      ],
      "text/html": "<div>\n<style scoped>\n    .dataframe tbody tr th:only-of-type {\n        vertical-align: middle;\n    }\n\n    .dataframe tbody tr th {\n        vertical-align: top;\n    }\n\n    .dataframe thead th {\n        text-align: right;\n    }\n</style>\n<table border=\"1\" class=\"dataframe\">\n  <thead>\n    <tr style=\"text-align: right;\">\n      <th></th>\n      <th>count</th>\n      <th>mean</th>\n      <th>std</th>\n      <th>min</th>\n      <th>25%</th>\n      <th>50%</th>\n      <th>75%</th>\n      <th>max</th>\n    </tr>\n  </thead>\n  <tbody>\n    <tr>\n      <th>age</th>\n      <td>489.0</td>\n      <td>42.885399</td>\n      <td>22.546490</td>\n      <td>0.24</td>\n      <td>26.000</td>\n      <td>43.000</td>\n      <td>60.0000</td>\n      <td>82.00</td>\n    </tr>\n    <tr>\n      <th>hypertension</th>\n      <td>455.0</td>\n      <td>0.112088</td>\n      <td>0.315822</td>\n      <td>0.00</td>\n      <td>0.000</td>\n      <td>0.000</td>\n      <td>0.0000</td>\n      <td>1.00</td>\n    </tr>\n    <tr>\n      <th>heart_disease</th>\n      <td>366.0</td>\n      <td>0.057377</td>\n      <td>0.232880</td>\n      <td>0.00</td>\n      <td>0.000</td>\n      <td>0.000</td>\n      <td>0.0000</td>\n      <td>1.00</td>\n    </tr>\n    <tr>\n      <th>avg_glucose_level</th>\n      <td>494.0</td>\n      <td>106.475020</td>\n      <td>47.208236</td>\n      <td>55.35</td>\n      <td>76.675</td>\n      <td>89.415</td>\n      <td>115.4075</td>\n      <td>263.32</td>\n    </tr>\n    <tr>\n      <th>bmi</th>\n      <td>457.0</td>\n      <td>29.070460</td>\n      <td>8.277457</td>\n      <td>14.00</td>\n      <td>23.500</td>\n      <td>27.900</td>\n      <td>33.2000</td>\n      <td>92.00</td>\n    </tr>\n    <tr>\n      <th>height</th>\n      <td>376.0</td>\n      <td>1.620718</td>\n      <td>0.154750</td>\n      <td>0.93</td>\n      <td>1.520</td>\n      <td>1.650</td>\n      <td>1.7400</td>\n      <td>1.85</td>\n    </tr>\n  </tbody>\n</table>\n</div>"
     },
     "metadata": {},
     "execution_count": 4
    }
   ],
   "source": [
    "df.describe().transpose()"
   ]
  },
  {
   "cell_type": "code",
   "execution_count": null,
   "metadata": {},
   "outputs": [],
   "source": [
    "def draw_missing_data_table(data):\n",
    "    total = data.isnull().sum().sort_values(ascending=False)\n",
    "    percent = (data.isnull().sum()/data.isnull().count()).sort_values(ascending=False)\n",
    "    missing_data = pd.concat([total, percent], axis=1, keys=['Total', 'Percent'])\n",
    "    return missing_data\n",
    "\n",
    "def impute_bmi(cols):\n",
    "    bmi = cols[0]\n",
    "    age_bin = cols[1]\n",
    "    \n",
    "    if pd.isnull(bmi):\n",
    "        if age_bin == 1:\n",
    "            return 20.7\n",
    "        elif age_bin == 2:\n",
    "            return 27.7\n",
    "        elif age_bin == 3:\n",
    "            return 29.8\n",
    "        elif age_bin == 4:\n",
    "            return 30.8\n",
    "        elif age_bin == 5:\n",
    "            return 29.0\n",
    "    else:\n",
    "        return bmi"
   ]
  }
 ]
}