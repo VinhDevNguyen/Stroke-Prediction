{
 "metadata": {
  "language_info": {
   "codemirror_mode": {
    "name": "ipython",
    "version": 3
   },
   "file_extension": ".py",
   "mimetype": "text/x-python",
   "name": "python",
   "nbconvert_exporter": "python",
   "pygments_lexer": "ipython3",
   "version": "3.7.6"
  },
  "orig_nbformat": 2,
  "kernelspec": {
   "name": "python376jvsc74a57bd04ce0e62306dd6a5716965d4519ada776f947e6dfc145b604b11307c10277ef29",
   "display_name": "Python 3.7.6 64-bit ('base': conda)"
  }
 },
 "nbformat": 4,
 "nbformat_minor": 2,
 "cells": [
  {
   "cell_type": "code",
   "execution_count": 1,
   "metadata": {},
   "outputs": [],
   "source": [
    "import pandas as pd\n",
    "import sklearn\n",
    "import matplotlib.pyplot as plt\n",
    "import seaborn as sns\n",
    "import numpy as np\n",
    "from sklearn.linear_model import LinearRegression\n",
    "from sklearn.metrics import f1_score\n",
    "from sklearn.preprocessing import StandardScaler, OneHotEncoder\n",
    "from sklearn.model_selection import train_test_split"
   ]
  },
  {
   "cell_type": "code",
   "execution_count": 2,
   "metadata": {},
   "outputs": [
    {
     "output_type": "execute_result",
     "data": {
      "text/plain": [
       "    id  gender   age  hypertension  heart_disease ever_married      work_type  \\\n",
       "0   67  Female  17.0           0.0            0.0           No        Private   \n",
       "1  210    Male  81.0           0.0            0.0          Yes  Self-employed   \n",
       "2  242    Male   4.0           NaN            0.0           No       children   \n",
       "3  711    Male  81.0           0.0            NaN          Yes        Private   \n",
       "4  724    Male  17.0           0.0            0.0           No        Private   \n",
       "\n",
       "  Residence_type  avg_glucose_level   bmi   smoking_status blood  height  \n",
       "0          Urban              92.97   NaN  formerly smoked    AB     NaN  \n",
       "1          Rural              91.54  31.4     never smoked     A    1.60  \n",
       "2          Urban              98.56  17.5          Unknown     O     NaN  \n",
       "3          Rural              92.96  22.2     never smoked    AB     NaN  \n",
       "4          Rural              81.77  44.7     never smoked     O    1.34  "
      ],
      "text/html": "<div>\n<style scoped>\n    .dataframe tbody tr th:only-of-type {\n        vertical-align: middle;\n    }\n\n    .dataframe tbody tr th {\n        vertical-align: top;\n    }\n\n    .dataframe thead th {\n        text-align: right;\n    }\n</style>\n<table border=\"1\" class=\"dataframe\">\n  <thead>\n    <tr style=\"text-align: right;\">\n      <th></th>\n      <th>id</th>\n      <th>gender</th>\n      <th>age</th>\n      <th>hypertension</th>\n      <th>heart_disease</th>\n      <th>ever_married</th>\n      <th>work_type</th>\n      <th>Residence_type</th>\n      <th>avg_glucose_level</th>\n      <th>bmi</th>\n      <th>smoking_status</th>\n      <th>blood</th>\n      <th>height</th>\n    </tr>\n  </thead>\n  <tbody>\n    <tr>\n      <th>0</th>\n      <td>67</td>\n      <td>Female</td>\n      <td>17.0</td>\n      <td>0.0</td>\n      <td>0.0</td>\n      <td>No</td>\n      <td>Private</td>\n      <td>Urban</td>\n      <td>92.97</td>\n      <td>NaN</td>\n      <td>formerly smoked</td>\n      <td>AB</td>\n      <td>NaN</td>\n    </tr>\n    <tr>\n      <th>1</th>\n      <td>210</td>\n      <td>Male</td>\n      <td>81.0</td>\n      <td>0.0</td>\n      <td>0.0</td>\n      <td>Yes</td>\n      <td>Self-employed</td>\n      <td>Rural</td>\n      <td>91.54</td>\n      <td>31.4</td>\n      <td>never smoked</td>\n      <td>A</td>\n      <td>1.60</td>\n    </tr>\n    <tr>\n      <th>2</th>\n      <td>242</td>\n      <td>Male</td>\n      <td>4.0</td>\n      <td>NaN</td>\n      <td>0.0</td>\n      <td>No</td>\n      <td>children</td>\n      <td>Urban</td>\n      <td>98.56</td>\n      <td>17.5</td>\n      <td>Unknown</td>\n      <td>O</td>\n      <td>NaN</td>\n    </tr>\n    <tr>\n      <th>3</th>\n      <td>711</td>\n      <td>Male</td>\n      <td>81.0</td>\n      <td>0.0</td>\n      <td>NaN</td>\n      <td>Yes</td>\n      <td>Private</td>\n      <td>Rural</td>\n      <td>92.96</td>\n      <td>22.2</td>\n      <td>never smoked</td>\n      <td>AB</td>\n      <td>NaN</td>\n    </tr>\n    <tr>\n      <th>4</th>\n      <td>724</td>\n      <td>Male</td>\n      <td>17.0</td>\n      <td>0.0</td>\n      <td>0.0</td>\n      <td>No</td>\n      <td>Private</td>\n      <td>Rural</td>\n      <td>81.77</td>\n      <td>44.7</td>\n      <td>never smoked</td>\n      <td>O</td>\n      <td>1.34</td>\n    </tr>\n  </tbody>\n</table>\n</div>"
     },
     "metadata": {},
     "execution_count": 2
    }
   ],
   "source": [
    "raw_df = pd.read_csv('./Dataset/public_test.csv')\n",
    "raw_df.head()"
   ]
  },
  {
   "source": [
    "### Drop id feature because it's useless"
   ],
   "cell_type": "markdown",
   "metadata": {}
  },
  {
   "cell_type": "code",
   "execution_count": 3,
   "metadata": {},
   "outputs": [
    {
     "output_type": "execute_result",
     "data": {
      "text/plain": [
       "     gender   age  hypertension  heart_disease ever_married      work_type  \\\n",
       "0    Female  17.0           0.0            0.0           No        Private   \n",
       "1      Male  81.0           0.0            0.0          Yes  Self-employed   \n",
       "2      Male   4.0           NaN            0.0           No       children   \n",
       "3      Male  81.0           0.0            NaN          Yes        Private   \n",
       "4      Male  17.0           0.0            0.0           No        Private   \n",
       "..      ...   ...           ...            ...          ...            ...   \n",
       "495  Female  23.0           0.0            NaN          Yes       Govt_job   \n",
       "496    Male  53.0           0.0            0.0          Yes        Private   \n",
       "497  Female  57.0           0.0            NaN          Yes        Private   \n",
       "498  Female  53.0           NaN            0.0          Yes        Private   \n",
       "499  Female   2.0           0.0            NaN           No       children   \n",
       "\n",
       "    Residence_type  avg_glucose_level   bmi   smoking_status blood  height  \n",
       "0            Urban              92.97   NaN  formerly smoked    AB     NaN  \n",
       "1            Rural              91.54  31.4     never smoked     A    1.60  \n",
       "2            Urban              98.56  17.5          Unknown     O     NaN  \n",
       "3            Rural              92.96  22.2     never smoked    AB     NaN  \n",
       "4            Rural              81.77  44.7     never smoked     O    1.34  \n",
       "..             ...                ...   ...              ...   ...     ...  \n",
       "495          Rural              84.93  24.2     never smoked     A    1.82  \n",
       "496          Urban              74.66  29.2           smokes     O    1.66  \n",
       "497          Rural              64.37  32.8     never smoked    AB    1.56  \n",
       "498          Rural              77.94   NaN     never smoked    AB    1.56  \n",
       "499          Urban             102.92  17.6          Unknown    AB     NaN  \n",
       "\n",
       "[500 rows x 12 columns]"
      ],
      "text/html": "<div>\n<style scoped>\n    .dataframe tbody tr th:only-of-type {\n        vertical-align: middle;\n    }\n\n    .dataframe tbody tr th {\n        vertical-align: top;\n    }\n\n    .dataframe thead th {\n        text-align: right;\n    }\n</style>\n<table border=\"1\" class=\"dataframe\">\n  <thead>\n    <tr style=\"text-align: right;\">\n      <th></th>\n      <th>gender</th>\n      <th>age</th>\n      <th>hypertension</th>\n      <th>heart_disease</th>\n      <th>ever_married</th>\n      <th>work_type</th>\n      <th>Residence_type</th>\n      <th>avg_glucose_level</th>\n      <th>bmi</th>\n      <th>smoking_status</th>\n      <th>blood</th>\n      <th>height</th>\n    </tr>\n  </thead>\n  <tbody>\n    <tr>\n      <th>0</th>\n      <td>Female</td>\n      <td>17.0</td>\n      <td>0.0</td>\n      <td>0.0</td>\n      <td>No</td>\n      <td>Private</td>\n      <td>Urban</td>\n      <td>92.97</td>\n      <td>NaN</td>\n      <td>formerly smoked</td>\n      <td>AB</td>\n      <td>NaN</td>\n    </tr>\n    <tr>\n      <th>1</th>\n      <td>Male</td>\n      <td>81.0</td>\n      <td>0.0</td>\n      <td>0.0</td>\n      <td>Yes</td>\n      <td>Self-employed</td>\n      <td>Rural</td>\n      <td>91.54</td>\n      <td>31.4</td>\n      <td>never smoked</td>\n      <td>A</td>\n      <td>1.60</td>\n    </tr>\n    <tr>\n      <th>2</th>\n      <td>Male</td>\n      <td>4.0</td>\n      <td>NaN</td>\n      <td>0.0</td>\n      <td>No</td>\n      <td>children</td>\n      <td>Urban</td>\n      <td>98.56</td>\n      <td>17.5</td>\n      <td>Unknown</td>\n      <td>O</td>\n      <td>NaN</td>\n    </tr>\n    <tr>\n      <th>3</th>\n      <td>Male</td>\n      <td>81.0</td>\n      <td>0.0</td>\n      <td>NaN</td>\n      <td>Yes</td>\n      <td>Private</td>\n      <td>Rural</td>\n      <td>92.96</td>\n      <td>22.2</td>\n      <td>never smoked</td>\n      <td>AB</td>\n      <td>NaN</td>\n    </tr>\n    <tr>\n      <th>4</th>\n      <td>Male</td>\n      <td>17.0</td>\n      <td>0.0</td>\n      <td>0.0</td>\n      <td>No</td>\n      <td>Private</td>\n      <td>Rural</td>\n      <td>81.77</td>\n      <td>44.7</td>\n      <td>never smoked</td>\n      <td>O</td>\n      <td>1.34</td>\n    </tr>\n    <tr>\n      <th>...</th>\n      <td>...</td>\n      <td>...</td>\n      <td>...</td>\n      <td>...</td>\n      <td>...</td>\n      <td>...</td>\n      <td>...</td>\n      <td>...</td>\n      <td>...</td>\n      <td>...</td>\n      <td>...</td>\n      <td>...</td>\n    </tr>\n    <tr>\n      <th>495</th>\n      <td>Female</td>\n      <td>23.0</td>\n      <td>0.0</td>\n      <td>NaN</td>\n      <td>Yes</td>\n      <td>Govt_job</td>\n      <td>Rural</td>\n      <td>84.93</td>\n      <td>24.2</td>\n      <td>never smoked</td>\n      <td>A</td>\n      <td>1.82</td>\n    </tr>\n    <tr>\n      <th>496</th>\n      <td>Male</td>\n      <td>53.0</td>\n      <td>0.0</td>\n      <td>0.0</td>\n      <td>Yes</td>\n      <td>Private</td>\n      <td>Urban</td>\n      <td>74.66</td>\n      <td>29.2</td>\n      <td>smokes</td>\n      <td>O</td>\n      <td>1.66</td>\n    </tr>\n    <tr>\n      <th>497</th>\n      <td>Female</td>\n      <td>57.0</td>\n      <td>0.0</td>\n      <td>NaN</td>\n      <td>Yes</td>\n      <td>Private</td>\n      <td>Rural</td>\n      <td>64.37</td>\n      <td>32.8</td>\n      <td>never smoked</td>\n      <td>AB</td>\n      <td>1.56</td>\n    </tr>\n    <tr>\n      <th>498</th>\n      <td>Female</td>\n      <td>53.0</td>\n      <td>NaN</td>\n      <td>0.0</td>\n      <td>Yes</td>\n      <td>Private</td>\n      <td>Rural</td>\n      <td>77.94</td>\n      <td>NaN</td>\n      <td>never smoked</td>\n      <td>AB</td>\n      <td>1.56</td>\n    </tr>\n    <tr>\n      <th>499</th>\n      <td>Female</td>\n      <td>2.0</td>\n      <td>0.0</td>\n      <td>NaN</td>\n      <td>No</td>\n      <td>children</td>\n      <td>Urban</td>\n      <td>102.92</td>\n      <td>17.6</td>\n      <td>Unknown</td>\n      <td>AB</td>\n      <td>NaN</td>\n    </tr>\n  </tbody>\n</table>\n<p>500 rows × 12 columns</p>\n</div>"
     },
     "metadata": {},
     "execution_count": 3
    }
   ],
   "source": [
    "df = raw_df.copy()\n",
    "df.drop(columns=['id'], inplace=True)\n",
    "df"
   ]
  },
  {
   "source": [
    "## Analyze data"
   ],
   "cell_type": "markdown",
   "metadata": {}
  },
  {
   "cell_type": "code",
   "execution_count": 4,
   "metadata": {},
   "outputs": [
    {
     "output_type": "execute_result",
     "data": {
      "text/plain": [
       "                   count        mean        std    min     25%     50%  \\\n",
       "age                489.0   42.885399  22.546490   0.24  26.000  43.000   \n",
       "hypertension       455.0    0.112088   0.315822   0.00   0.000   0.000   \n",
       "heart_disease      366.0    0.057377   0.232880   0.00   0.000   0.000   \n",
       "avg_glucose_level  494.0  106.475020  47.208236  55.35  76.675  89.415   \n",
       "bmi                457.0   29.070460   8.277457  14.00  23.500  27.900   \n",
       "height             376.0    1.620718   0.154750   0.93   1.520   1.650   \n",
       "\n",
       "                        75%     max  \n",
       "age                 60.0000   82.00  \n",
       "hypertension         0.0000    1.00  \n",
       "heart_disease        0.0000    1.00  \n",
       "avg_glucose_level  115.4075  263.32  \n",
       "bmi                 33.2000   92.00  \n",
       "height               1.7400    1.85  "
      ],
      "text/html": "<div>\n<style scoped>\n    .dataframe tbody tr th:only-of-type {\n        vertical-align: middle;\n    }\n\n    .dataframe tbody tr th {\n        vertical-align: top;\n    }\n\n    .dataframe thead th {\n        text-align: right;\n    }\n</style>\n<table border=\"1\" class=\"dataframe\">\n  <thead>\n    <tr style=\"text-align: right;\">\n      <th></th>\n      <th>count</th>\n      <th>mean</th>\n      <th>std</th>\n      <th>min</th>\n      <th>25%</th>\n      <th>50%</th>\n      <th>75%</th>\n      <th>max</th>\n    </tr>\n  </thead>\n  <tbody>\n    <tr>\n      <th>age</th>\n      <td>489.0</td>\n      <td>42.885399</td>\n      <td>22.546490</td>\n      <td>0.24</td>\n      <td>26.000</td>\n      <td>43.000</td>\n      <td>60.0000</td>\n      <td>82.00</td>\n    </tr>\n    <tr>\n      <th>hypertension</th>\n      <td>455.0</td>\n      <td>0.112088</td>\n      <td>0.315822</td>\n      <td>0.00</td>\n      <td>0.000</td>\n      <td>0.000</td>\n      <td>0.0000</td>\n      <td>1.00</td>\n    </tr>\n    <tr>\n      <th>heart_disease</th>\n      <td>366.0</td>\n      <td>0.057377</td>\n      <td>0.232880</td>\n      <td>0.00</td>\n      <td>0.000</td>\n      <td>0.000</td>\n      <td>0.0000</td>\n      <td>1.00</td>\n    </tr>\n    <tr>\n      <th>avg_glucose_level</th>\n      <td>494.0</td>\n      <td>106.475020</td>\n      <td>47.208236</td>\n      <td>55.35</td>\n      <td>76.675</td>\n      <td>89.415</td>\n      <td>115.4075</td>\n      <td>263.32</td>\n    </tr>\n    <tr>\n      <th>bmi</th>\n      <td>457.0</td>\n      <td>29.070460</td>\n      <td>8.277457</td>\n      <td>14.00</td>\n      <td>23.500</td>\n      <td>27.900</td>\n      <td>33.2000</td>\n      <td>92.00</td>\n    </tr>\n    <tr>\n      <th>height</th>\n      <td>376.0</td>\n      <td>1.620718</td>\n      <td>0.154750</td>\n      <td>0.93</td>\n      <td>1.520</td>\n      <td>1.650</td>\n      <td>1.7400</td>\n      <td>1.85</td>\n    </tr>\n  </tbody>\n</table>\n</div>"
     },
     "metadata": {},
     "execution_count": 4
    }
   ],
   "source": [
    "df.describe().transpose()"
   ]
  },
  {
   "cell_type": "code",
   "execution_count": 5,
   "metadata": {},
   "outputs": [],
   "source": [
    "def draw_missing_data_table(data):\n",
    "    total = data.isnull().sum().sort_values(ascending=False)\n",
    "    percent = (data.isnull().sum()/data.isnull().count()).sort_values(ascending=False)\n",
    "    missing_data = pd.concat([total, percent], axis=1, keys=['Total', 'Percent'])\n",
    "    return missing_data"
   ]
  },
  {
   "cell_type": "code",
   "execution_count": 6,
   "metadata": {},
   "outputs": [
    {
     "output_type": "execute_result",
     "data": {
      "text/plain": [
       "                   Total  Percent\n",
       "heart_disease        134    0.268\n",
       "height               124    0.248\n",
       "hypertension          45    0.090\n",
       "bmi                   43    0.086\n",
       "age                   11    0.022\n",
       "avg_glucose_level      6    0.012\n",
       "blood                  0    0.000\n",
       "smoking_status         0    0.000\n",
       "Residence_type         0    0.000\n",
       "work_type              0    0.000\n",
       "ever_married           0    0.000\n",
       "gender                 0    0.000"
      ],
      "text/html": "<div>\n<style scoped>\n    .dataframe tbody tr th:only-of-type {\n        vertical-align: middle;\n    }\n\n    .dataframe tbody tr th {\n        vertical-align: top;\n    }\n\n    .dataframe thead th {\n        text-align: right;\n    }\n</style>\n<table border=\"1\" class=\"dataframe\">\n  <thead>\n    <tr style=\"text-align: right;\">\n      <th></th>\n      <th>Total</th>\n      <th>Percent</th>\n    </tr>\n  </thead>\n  <tbody>\n    <tr>\n      <th>heart_disease</th>\n      <td>134</td>\n      <td>0.268</td>\n    </tr>\n    <tr>\n      <th>height</th>\n      <td>124</td>\n      <td>0.248</td>\n    </tr>\n    <tr>\n      <th>hypertension</th>\n      <td>45</td>\n      <td>0.090</td>\n    </tr>\n    <tr>\n      <th>bmi</th>\n      <td>43</td>\n      <td>0.086</td>\n    </tr>\n    <tr>\n      <th>age</th>\n      <td>11</td>\n      <td>0.022</td>\n    </tr>\n    <tr>\n      <th>avg_glucose_level</th>\n      <td>6</td>\n      <td>0.012</td>\n    </tr>\n    <tr>\n      <th>blood</th>\n      <td>0</td>\n      <td>0.000</td>\n    </tr>\n    <tr>\n      <th>smoking_status</th>\n      <td>0</td>\n      <td>0.000</td>\n    </tr>\n    <tr>\n      <th>Residence_type</th>\n      <td>0</td>\n      <td>0.000</td>\n    </tr>\n    <tr>\n      <th>work_type</th>\n      <td>0</td>\n      <td>0.000</td>\n    </tr>\n    <tr>\n      <th>ever_married</th>\n      <td>0</td>\n      <td>0.000</td>\n    </tr>\n    <tr>\n      <th>gender</th>\n      <td>0</td>\n      <td>0.000</td>\n    </tr>\n  </tbody>\n</table>\n</div>"
     },
     "metadata": {},
     "execution_count": 6
    }
   ],
   "source": [
    "draw_missing_data_table(df)"
   ]
  },
  {
   "source": [
    "### Fill age with mean"
   ],
   "cell_type": "markdown",
   "metadata": {}
  },
  {
   "cell_type": "code",
   "execution_count": 7,
   "metadata": {},
   "outputs": [],
   "source": [
    "df['age'] = df['age'].fillna(np.mean(df['age']))"
   ]
  },
  {
   "cell_type": "code",
   "execution_count": 8,
   "metadata": {},
   "outputs": [],
   "source": [
    "### Fill bmi with the bmi for that age_bin"
   ]
  },
  {
   "cell_type": "code",
   "execution_count": 9,
   "metadata": {},
   "outputs": [
    {
     "output_type": "execute_result",
     "data": {
      "text/plain": [
       "3    129\n",
       "4    111\n",
       "5     94\n",
       "2     86\n",
       "1     80\n",
       "Name: age_bin, dtype: int64"
      ]
     },
     "metadata": {},
     "execution_count": 9
    }
   ],
   "source": [
    "labels = [1,2,3,4,5]\n",
    "df[\"age_bin\"] = pd.cut(df[\"age\"], 5, labels=labels)\n",
    "df['age_bin'].value_counts()"
   ]
  },
  {
   "cell_type": "code",
   "execution_count": 10,
   "metadata": {},
   "outputs": [
    {
     "output_type": "execute_result",
     "data": {
      "text/plain": [
       "age_bin\n",
       "1    21.190909\n",
       "2    28.552632\n",
       "3    32.482645\n",
       "4    30.884000\n",
       "5    29.695181\n",
       "Name: bmi, dtype: float64"
      ]
     },
     "metadata": {},
     "execution_count": 10
    }
   ],
   "source": [
    "gb_bmi = df.groupby(\"age_bin\")[\"bmi\"].mean()\n",
    "gb_bmi"
   ]
  },
  {
   "cell_type": "code",
   "execution_count": 11,
   "metadata": {},
   "outputs": [],
   "source": [
    "def impute_bmi(cols):\n",
    "    bmi = cols[0]\n",
    "    age_bin = cols[1]\n",
    "    \n",
    "    if pd.isnull(bmi):\n",
    "        if age_bin == 1:\n",
    "            return 21.190909\n",
    "        elif age_bin == 2:\n",
    "            return 28.552632\n",
    "        elif age_bin == 3:\n",
    "            return 32.456890\n",
    "        elif age_bin == 4:\n",
    "            return 30.884000\n",
    "        elif age_bin == 5:\n",
    "            return 29.695181\n",
    "    else:\n",
    "        return bmi"
   ]
  },
  {
   "cell_type": "code",
   "execution_count": 12,
   "metadata": {},
   "outputs": [
    {
     "output_type": "execute_result",
     "data": {
      "text/plain": [
       "                   Total  Percent\n",
       "heart_disease        134    0.268\n",
       "height               124    0.248\n",
       "hypertension          45    0.090\n",
       "bmi                   43    0.086\n",
       "avg_glucose_level      6    0.012\n",
       "age_bin                0    0.000\n",
       "blood                  0    0.000\n",
       "smoking_status         0    0.000\n",
       "Residence_type         0    0.000\n",
       "work_type              0    0.000\n",
       "ever_married           0    0.000\n",
       "age                    0    0.000\n",
       "gender                 0    0.000"
      ],
      "text/html": "<div>\n<style scoped>\n    .dataframe tbody tr th:only-of-type {\n        vertical-align: middle;\n    }\n\n    .dataframe tbody tr th {\n        vertical-align: top;\n    }\n\n    .dataframe thead th {\n        text-align: right;\n    }\n</style>\n<table border=\"1\" class=\"dataframe\">\n  <thead>\n    <tr style=\"text-align: right;\">\n      <th></th>\n      <th>Total</th>\n      <th>Percent</th>\n    </tr>\n  </thead>\n  <tbody>\n    <tr>\n      <th>heart_disease</th>\n      <td>134</td>\n      <td>0.268</td>\n    </tr>\n    <tr>\n      <th>height</th>\n      <td>124</td>\n      <td>0.248</td>\n    </tr>\n    <tr>\n      <th>hypertension</th>\n      <td>45</td>\n      <td>0.090</td>\n    </tr>\n    <tr>\n      <th>bmi</th>\n      <td>43</td>\n      <td>0.086</td>\n    </tr>\n    <tr>\n      <th>avg_glucose_level</th>\n      <td>6</td>\n      <td>0.012</td>\n    </tr>\n    <tr>\n      <th>age_bin</th>\n      <td>0</td>\n      <td>0.000</td>\n    </tr>\n    <tr>\n      <th>blood</th>\n      <td>0</td>\n      <td>0.000</td>\n    </tr>\n    <tr>\n      <th>smoking_status</th>\n      <td>0</td>\n      <td>0.000</td>\n    </tr>\n    <tr>\n      <th>Residence_type</th>\n      <td>0</td>\n      <td>0.000</td>\n    </tr>\n    <tr>\n      <th>work_type</th>\n      <td>0</td>\n      <td>0.000</td>\n    </tr>\n    <tr>\n      <th>ever_married</th>\n      <td>0</td>\n      <td>0.000</td>\n    </tr>\n    <tr>\n      <th>age</th>\n      <td>0</td>\n      <td>0.000</td>\n    </tr>\n    <tr>\n      <th>gender</th>\n      <td>0</td>\n      <td>0.000</td>\n    </tr>\n  </tbody>\n</table>\n</div>"
     },
     "metadata": {},
     "execution_count": 12
    }
   ],
   "source": [
    "draw_missing_data_table(df)"
   ]
  },
  {
   "cell_type": "code",
   "execution_count": 13,
   "metadata": {},
   "outputs": [
    {
     "output_type": "execute_result",
     "data": {
      "text/plain": [
       "0      28.552632\n",
       "1      31.400000\n",
       "2      17.500000\n",
       "3      22.200000\n",
       "4      44.700000\n",
       "         ...    \n",
       "495    24.200000\n",
       "496    29.200000\n",
       "497    32.800000\n",
       "498    30.884000\n",
       "499    17.600000\n",
       "Name: bmi, Length: 500, dtype: float64"
      ]
     },
     "metadata": {},
     "execution_count": 13
    }
   ],
   "source": [
    "df[\"bmi\"] = df[[\"bmi\",\"age_bin\"]].apply(impute_bmi, axis=1)\n",
    "df['bmi']"
   ]
  },
  {
   "cell_type": "code",
   "execution_count": 14,
   "metadata": {},
   "outputs": [
    {
     "output_type": "execute_result",
     "data": {
      "text/plain": [
       "                   Total  Percent\n",
       "heart_disease        134    0.268\n",
       "height               124    0.248\n",
       "hypertension          45    0.090\n",
       "avg_glucose_level      6    0.012\n",
       "age_bin                0    0.000\n",
       "blood                  0    0.000\n",
       "smoking_status         0    0.000\n",
       "bmi                    0    0.000\n",
       "Residence_type         0    0.000\n",
       "work_type              0    0.000\n",
       "ever_married           0    0.000\n",
       "age                    0    0.000\n",
       "gender                 0    0.000"
      ],
      "text/html": "<div>\n<style scoped>\n    .dataframe tbody tr th:only-of-type {\n        vertical-align: middle;\n    }\n\n    .dataframe tbody tr th {\n        vertical-align: top;\n    }\n\n    .dataframe thead th {\n        text-align: right;\n    }\n</style>\n<table border=\"1\" class=\"dataframe\">\n  <thead>\n    <tr style=\"text-align: right;\">\n      <th></th>\n      <th>Total</th>\n      <th>Percent</th>\n    </tr>\n  </thead>\n  <tbody>\n    <tr>\n      <th>heart_disease</th>\n      <td>134</td>\n      <td>0.268</td>\n    </tr>\n    <tr>\n      <th>height</th>\n      <td>124</td>\n      <td>0.248</td>\n    </tr>\n    <tr>\n      <th>hypertension</th>\n      <td>45</td>\n      <td>0.090</td>\n    </tr>\n    <tr>\n      <th>avg_glucose_level</th>\n      <td>6</td>\n      <td>0.012</td>\n    </tr>\n    <tr>\n      <th>age_bin</th>\n      <td>0</td>\n      <td>0.000</td>\n    </tr>\n    <tr>\n      <th>blood</th>\n      <td>0</td>\n      <td>0.000</td>\n    </tr>\n    <tr>\n      <th>smoking_status</th>\n      <td>0</td>\n      <td>0.000</td>\n    </tr>\n    <tr>\n      <th>bmi</th>\n      <td>0</td>\n      <td>0.000</td>\n    </tr>\n    <tr>\n      <th>Residence_type</th>\n      <td>0</td>\n      <td>0.000</td>\n    </tr>\n    <tr>\n      <th>work_type</th>\n      <td>0</td>\n      <td>0.000</td>\n    </tr>\n    <tr>\n      <th>ever_married</th>\n      <td>0</td>\n      <td>0.000</td>\n    </tr>\n    <tr>\n      <th>age</th>\n      <td>0</td>\n      <td>0.000</td>\n    </tr>\n    <tr>\n      <th>gender</th>\n      <td>0</td>\n      <td>0.000</td>\n    </tr>\n  </tbody>\n</table>\n</div>"
     },
     "metadata": {},
     "execution_count": 14
    }
   ],
   "source": [
    "draw_missing_data_table(df)"
   ]
  },
  {
   "cell_type": "code",
   "execution_count": 15,
   "metadata": {},
   "outputs": [
    {
     "output_type": "execute_result",
     "data": {
      "text/plain": [
       "                   Total  Percent\n",
       "heart_disease        134    0.268\n",
       "height               124    0.248\n",
       "hypertension          45    0.090\n",
       "avg_glucose_level      6    0.012\n",
       "blood                  0    0.000\n",
       "smoking_status         0    0.000\n",
       "bmi                    0    0.000\n",
       "Residence_type         0    0.000\n",
       "work_type              0    0.000\n",
       "ever_married           0    0.000\n",
       "age                    0    0.000\n",
       "gender                 0    0.000"
      ],
      "text/html": "<div>\n<style scoped>\n    .dataframe tbody tr th:only-of-type {\n        vertical-align: middle;\n    }\n\n    .dataframe tbody tr th {\n        vertical-align: top;\n    }\n\n    .dataframe thead th {\n        text-align: right;\n    }\n</style>\n<table border=\"1\" class=\"dataframe\">\n  <thead>\n    <tr style=\"text-align: right;\">\n      <th></th>\n      <th>Total</th>\n      <th>Percent</th>\n    </tr>\n  </thead>\n  <tbody>\n    <tr>\n      <th>heart_disease</th>\n      <td>134</td>\n      <td>0.268</td>\n    </tr>\n    <tr>\n      <th>height</th>\n      <td>124</td>\n      <td>0.248</td>\n    </tr>\n    <tr>\n      <th>hypertension</th>\n      <td>45</td>\n      <td>0.090</td>\n    </tr>\n    <tr>\n      <th>avg_glucose_level</th>\n      <td>6</td>\n      <td>0.012</td>\n    </tr>\n    <tr>\n      <th>blood</th>\n      <td>0</td>\n      <td>0.000</td>\n    </tr>\n    <tr>\n      <th>smoking_status</th>\n      <td>0</td>\n      <td>0.000</td>\n    </tr>\n    <tr>\n      <th>bmi</th>\n      <td>0</td>\n      <td>0.000</td>\n    </tr>\n    <tr>\n      <th>Residence_type</th>\n      <td>0</td>\n      <td>0.000</td>\n    </tr>\n    <tr>\n      <th>work_type</th>\n      <td>0</td>\n      <td>0.000</td>\n    </tr>\n    <tr>\n      <th>ever_married</th>\n      <td>0</td>\n      <td>0.000</td>\n    </tr>\n    <tr>\n      <th>age</th>\n      <td>0</td>\n      <td>0.000</td>\n    </tr>\n    <tr>\n      <th>gender</th>\n      <td>0</td>\n      <td>0.000</td>\n    </tr>\n  </tbody>\n</table>\n</div>"
     },
     "metadata": {},
     "execution_count": 15
    }
   ],
   "source": [
    "df = df.drop(['age_bin'],axis=1)\n",
    "draw_missing_data_table(df)"
   ]
  },
  {
   "source": [
    "### Drop height"
   ],
   "cell_type": "markdown",
   "metadata": {}
  },
  {
   "cell_type": "code",
   "execution_count": 16,
   "metadata": {},
   "outputs": [],
   "source": [
    "df = df.drop(['height'],axis=1)"
   ]
  },
  {
   "cell_type": "code",
   "execution_count": 17,
   "metadata": {},
   "outputs": [
    {
     "output_type": "execute_result",
     "data": {
      "text/plain": [
       "                   Total  Percent\n",
       "heart_disease        134    0.268\n",
       "hypertension          45    0.090\n",
       "avg_glucose_level      6    0.012\n",
       "blood                  0    0.000\n",
       "smoking_status         0    0.000\n",
       "bmi                    0    0.000\n",
       "Residence_type         0    0.000\n",
       "work_type              0    0.000\n",
       "ever_married           0    0.000\n",
       "age                    0    0.000\n",
       "gender                 0    0.000"
      ],
      "text/html": "<div>\n<style scoped>\n    .dataframe tbody tr th:only-of-type {\n        vertical-align: middle;\n    }\n\n    .dataframe tbody tr th {\n        vertical-align: top;\n    }\n\n    .dataframe thead th {\n        text-align: right;\n    }\n</style>\n<table border=\"1\" class=\"dataframe\">\n  <thead>\n    <tr style=\"text-align: right;\">\n      <th></th>\n      <th>Total</th>\n      <th>Percent</th>\n    </tr>\n  </thead>\n  <tbody>\n    <tr>\n      <th>heart_disease</th>\n      <td>134</td>\n      <td>0.268</td>\n    </tr>\n    <tr>\n      <th>hypertension</th>\n      <td>45</td>\n      <td>0.090</td>\n    </tr>\n    <tr>\n      <th>avg_glucose_level</th>\n      <td>6</td>\n      <td>0.012</td>\n    </tr>\n    <tr>\n      <th>blood</th>\n      <td>0</td>\n      <td>0.000</td>\n    </tr>\n    <tr>\n      <th>smoking_status</th>\n      <td>0</td>\n      <td>0.000</td>\n    </tr>\n    <tr>\n      <th>bmi</th>\n      <td>0</td>\n      <td>0.000</td>\n    </tr>\n    <tr>\n      <th>Residence_type</th>\n      <td>0</td>\n      <td>0.000</td>\n    </tr>\n    <tr>\n      <th>work_type</th>\n      <td>0</td>\n      <td>0.000</td>\n    </tr>\n    <tr>\n      <th>ever_married</th>\n      <td>0</td>\n      <td>0.000</td>\n    </tr>\n    <tr>\n      <th>age</th>\n      <td>0</td>\n      <td>0.000</td>\n    </tr>\n    <tr>\n      <th>gender</th>\n      <td>0</td>\n      <td>0.000</td>\n    </tr>\n  </tbody>\n</table>\n</div>"
     },
     "metadata": {},
     "execution_count": 17
    }
   ],
   "source": [
    "draw_missing_data_table(df)"
   ]
  },
  {
   "source": [
    "### Fill avg_glucose_level with mean"
   ],
   "cell_type": "markdown",
   "metadata": {}
  },
  {
   "cell_type": "code",
   "execution_count": 18,
   "metadata": {},
   "outputs": [],
   "source": [
    "df['avg_glucose_level'] = df['avg_glucose_level'].fillna(np.mean(df['avg_glucose_level']))"
   ]
  },
  {
   "cell_type": "code",
   "execution_count": 19,
   "metadata": {},
   "outputs": [
    {
     "output_type": "execute_result",
     "data": {
      "text/plain": [
       "                   Total  Percent\n",
       "heart_disease        134    0.268\n",
       "hypertension          45    0.090\n",
       "blood                  0    0.000\n",
       "smoking_status         0    0.000\n",
       "bmi                    0    0.000\n",
       "avg_glucose_level      0    0.000\n",
       "Residence_type         0    0.000\n",
       "work_type              0    0.000\n",
       "ever_married           0    0.000\n",
       "age                    0    0.000\n",
       "gender                 0    0.000"
      ],
      "text/html": "<div>\n<style scoped>\n    .dataframe tbody tr th:only-of-type {\n        vertical-align: middle;\n    }\n\n    .dataframe tbody tr th {\n        vertical-align: top;\n    }\n\n    .dataframe thead th {\n        text-align: right;\n    }\n</style>\n<table border=\"1\" class=\"dataframe\">\n  <thead>\n    <tr style=\"text-align: right;\">\n      <th></th>\n      <th>Total</th>\n      <th>Percent</th>\n    </tr>\n  </thead>\n  <tbody>\n    <tr>\n      <th>heart_disease</th>\n      <td>134</td>\n      <td>0.268</td>\n    </tr>\n    <tr>\n      <th>hypertension</th>\n      <td>45</td>\n      <td>0.090</td>\n    </tr>\n    <tr>\n      <th>blood</th>\n      <td>0</td>\n      <td>0.000</td>\n    </tr>\n    <tr>\n      <th>smoking_status</th>\n      <td>0</td>\n      <td>0.000</td>\n    </tr>\n    <tr>\n      <th>bmi</th>\n      <td>0</td>\n      <td>0.000</td>\n    </tr>\n    <tr>\n      <th>avg_glucose_level</th>\n      <td>0</td>\n      <td>0.000</td>\n    </tr>\n    <tr>\n      <th>Residence_type</th>\n      <td>0</td>\n      <td>0.000</td>\n    </tr>\n    <tr>\n      <th>work_type</th>\n      <td>0</td>\n      <td>0.000</td>\n    </tr>\n    <tr>\n      <th>ever_married</th>\n      <td>0</td>\n      <td>0.000</td>\n    </tr>\n    <tr>\n      <th>age</th>\n      <td>0</td>\n      <td>0.000</td>\n    </tr>\n    <tr>\n      <th>gender</th>\n      <td>0</td>\n      <td>0.000</td>\n    </tr>\n  </tbody>\n</table>\n</div>"
     },
     "metadata": {},
     "execution_count": 19
    }
   ],
   "source": [
    "draw_missing_data_table(df)"
   ]
  },
  {
   "cell_type": "code",
   "execution_count": 20,
   "metadata": {},
   "outputs": [
    {
     "output_type": "stream",
     "name": "stdout",
     "text": [
      "Value counts: \n\nFemale    305\nMale      175\nOther      20\nName: gender, dtype: int64\n\n\n54.00    13\n43.00    12\n37.00    12\n66.00    11\n40.00    11\n         ..\n1.48      1\n1.72      1\n9.00      1\n0.72      1\n1.80      1\nName: age, Length: 87, dtype: int64\n\n\n0.0    404\n1.0     51\nName: hypertension, dtype: int64\n\n\n0.0    345\n1.0     21\nName: heart_disease, dtype: int64\n\n\nYes    327\nNo     173\nName: ever_married, dtype: int64\n\n\nPrivate          274\nSelf-employed     88\nchildren          71\nGovt_job          65\nNever_worked       2\nName: work_type, dtype: int64\n\n\nUrban      245\nRural      232\nUnknown     23\nName: Residence_type, dtype: int64\n\n\n106.47502    6\n112.02000    2\n90.11000     2\n91.89000     2\n81.51000     2\n            ..\n64.62000     1\n56.90000     1\n110.20000    1\n93.72000     1\n83.75000     1\nName: avg_glucose_level, Length: 481, dtype: int64\n\n\n29.695181    11\n30.884000    11\n28.552632    10\n32.456890     8\n23.500000     8\n             ..\n17.300000     1\n38.900000     1\n40.400000     1\n57.200000     1\n17.500000     1\nName: bmi, Length: 240, dtype: int64\n\n\nnever smoked       199\nUnknown            143\nformerly smoked     82\nsmokes              76\nName: smoking_status, dtype: int64\n\n\nAB    217\nO     200\nA      44\nB      39\nName: blood, dtype: int64\n\n\n"
     ]
    }
   ],
   "source": [
    "unknown_feature = df.columns\n",
    "print('Value counts: \\n')\n",
    "for i in unknown_feature:\n",
    "    print(df[i].value_counts())\n",
    "    print('\\n')"
   ]
  },
  {
   "source": [
    "### Fill hypertension and heart_disease with the value of the most value_count : 0"
   ],
   "cell_type": "markdown",
   "metadata": {}
  },
  {
   "cell_type": "code",
   "execution_count": 21,
   "metadata": {},
   "outputs": [],
   "source": [
    "df['hypertension'] = df['hypertension'].fillna(0.0)\n",
    "df['hypertension'] = df['hypertension'].astype(int)\n",
    "df['heart_disease'] = df['heart_disease'].fillna(0)\n",
    "df['heart_disease'] = df['heart_disease'].astype(int)"
   ]
  },
  {
   "cell_type": "code",
   "execution_count": 22,
   "metadata": {},
   "outputs": [
    {
     "output_type": "execute_result",
     "data": {
      "text/plain": [
       "                   Total  Percent\n",
       "blood                  0      0.0\n",
       "smoking_status         0      0.0\n",
       "bmi                    0      0.0\n",
       "avg_glucose_level      0      0.0\n",
       "Residence_type         0      0.0\n",
       "work_type              0      0.0\n",
       "ever_married           0      0.0\n",
       "heart_disease          0      0.0\n",
       "hypertension           0      0.0\n",
       "age                    0      0.0\n",
       "gender                 0      0.0"
      ],
      "text/html": "<div>\n<style scoped>\n    .dataframe tbody tr th:only-of-type {\n        vertical-align: middle;\n    }\n\n    .dataframe tbody tr th {\n        vertical-align: top;\n    }\n\n    .dataframe thead th {\n        text-align: right;\n    }\n</style>\n<table border=\"1\" class=\"dataframe\">\n  <thead>\n    <tr style=\"text-align: right;\">\n      <th></th>\n      <th>Total</th>\n      <th>Percent</th>\n    </tr>\n  </thead>\n  <tbody>\n    <tr>\n      <th>blood</th>\n      <td>0</td>\n      <td>0.0</td>\n    </tr>\n    <tr>\n      <th>smoking_status</th>\n      <td>0</td>\n      <td>0.0</td>\n    </tr>\n    <tr>\n      <th>bmi</th>\n      <td>0</td>\n      <td>0.0</td>\n    </tr>\n    <tr>\n      <th>avg_glucose_level</th>\n      <td>0</td>\n      <td>0.0</td>\n    </tr>\n    <tr>\n      <th>Residence_type</th>\n      <td>0</td>\n      <td>0.0</td>\n    </tr>\n    <tr>\n      <th>work_type</th>\n      <td>0</td>\n      <td>0.0</td>\n    </tr>\n    <tr>\n      <th>ever_married</th>\n      <td>0</td>\n      <td>0.0</td>\n    </tr>\n    <tr>\n      <th>heart_disease</th>\n      <td>0</td>\n      <td>0.0</td>\n    </tr>\n    <tr>\n      <th>hypertension</th>\n      <td>0</td>\n      <td>0.0</td>\n    </tr>\n    <tr>\n      <th>age</th>\n      <td>0</td>\n      <td>0.0</td>\n    </tr>\n    <tr>\n      <th>gender</th>\n      <td>0</td>\n      <td>0.0</td>\n    </tr>\n  </tbody>\n</table>\n</div>"
     },
     "metadata": {},
     "execution_count": 22
    }
   ],
   "source": [
    "draw_missing_data_table(df)"
   ]
  },
  {
   "source": [
    "## One-hot encode: 'gender', 'blood', 'smoking_status', 'Residence_type', 'work_type'\n",
    "## Categorical: 'ever_married'"
   ],
   "cell_type": "markdown",
   "metadata": {}
  },
  {
   "cell_type": "code",
   "execution_count": 23,
   "metadata": {},
   "outputs": [
    {
     "output_type": "stream",
     "name": "stdout",
     "text": [
      "gender= ['Female' 'Male' 'Other']\nage= [17.         81.          4.          5.         34.         32.\n 47.         31.         73.         20.          0.72       51.\n 60.         66.         55.         80.         79.         18.\n 42.88539877 37.          8.         42.         11.         49.\n 78.         12.         48.         35.         64.         52.\n 54.         57.         33.         50.         40.         67.\n 16.         74.         53.         58.          3.         19.\n 22.          2.         76.         46.         69.         68.\n 28.         45.         29.         61.         59.         38.\n 43.          7.         62.         71.         36.         63.\n 15.          9.         72.         44.         41.         82.\n 39.         30.         77.         24.          1.48       14.\n 56.         21.         25.          1.8        75.         13.\n  6.         10.         27.         26.         23.          1.72\n 65.         70.          0.24      ]\nhypertension= [0 1]\nheart_disease= [0 1]\never_married= ['No' 'Yes']\nwork_type= ['Private' 'Self-employed' 'children' 'Govt_job' 'Never_worked']\nResidence_type= ['Urban' 'Rural' 'Unknown']\navg_glucose_level= [ 92.97        91.54        98.56        92.96        81.77\n  75.1         83.75        85.18       101.81        70.66\n 101.58        79.53       112.19        82.31        95.19\n  80.67       100.2         70.28        80.35        73.87\n 230.74        83.7        101.12       106.47502024 232.29\n  71.18        78.48        67.97        92.74        99.01\n  94.77        98.9         89.42        87.          73.99\n 108.51       101.76       103.29        85.66       235.06\n  70.43       107.74        69.72       112.83        94.75\n  83.16        91.68        86.78       101.46        82.95\n  94.12       105.28       195.74        78.79        76.35\n  94.37        80.27        92.24        56.33        98.02\n 112.02        77.91        73.94        81.32       232.64\n 112.75       208.99       111.08        98.07        96.02\n 207.28        71.12        69.24       106.54        83.55\n 169.67        73.18        94.39        77.82       105.9\n 195.43       115.52        73.57        80.08        67.56\n  91.16       203.76       112.37        81.         115.68\n 227.23        77.2         88.          74.8         90.71\n  76.63        77.1        117.63        81.58        79.62\n  85.98        82.46        80.57       221.24        80.48\n  80.54        77.92       102.76        89.06        76.12\n  81.76       192.5        110.38       112.08       130.54\n 116.06        78.9         85.         221.79       101.66\n  93.52        86.06        81.38       108.32       108.96\n 121.66       168.68        84.43        99.44        71.77\n  97.05       104.9        206.09       103.68        90.11\n 110.1         93.3         70.13       103.72       117.03\n  75.13        82.63        77.99       116.62        82.94\n 118.55        82.62       125.43        74.43        77.95\n  95.23       194.75        75.          90.44       153.24\n  86.4         84.68       116.04        77.76        70.91\n 113.08       115.07       231.56        94.27        87.91\n  79.42       102.          91.32        93.72        79.98\n  83.84       201.96       119.9        100.8        103.22\n  78.04        92.75       103.78       213.43       104.16\n  86.92        86.19       115.71        73.          86.95\n 197.36        69.47        73.81        88.98        74.24\n 229.94        72.76       194.37        96.62        83.59\n 216.19       199.2         94.24        88.56        76.78\n 189.82       216.07       101.45        85.9         76.42\n  85.82        84.03        73.24        98.44        91.89\n  76.57       217.74        85.27        94.89       124.78\n  76.08        69.2         86.21        95.87        87.12\n  80.94       207.84        87.15       116.44        76.52\n  92.59        79.57        74.34        74.02        85.08\n 104.02       112.96       234.5        167.16        86.85\n 119.4        103.65       111.24       112.7         73.08\n  62.21        62.68        72.99       203.87       208.39\n  72.17        68.99       193.61       131.42        76.64\n 106.53       111.48        73.98        56.64       107.33\n  99.72        60.73        64.62        87.4        222.52\n  82.42        66.16       135.82        72.04        58.01\n  68.43        75.06        64.45       110.2         74.\n 247.87        94.92        57.46       200.66       145.18\n 102.16        55.79        59.62        63.74        63.49\n 253.93        80.2        207.37        95.24        66.3\n 126.57       141.37        83.03        61.13        76.09\n  57.79       142.63        60.64       203.27        78.8\n  63.57       106.8        196.58       228.5        197.06\n 223.83        57.52        76.47       110.42        88.62\n 111.76        58.89       125.63       191.94       256.74\n  56.94       190.67       120.22       120.56       112.55\n 106.52        70.87        78.5         74.39       123.89\n 236.04        78.98        81.51       261.67        91.3\n 113.41        96.47        57.92        68.01       138.44\n  77.94        78.85        57.4         81.36       114.46\n 123.08        56.9         77.72        85.77        89.68\n  78.11        60.32       131.81       205.78       254.95\n  98.14       228.26        63.9         63.98        58.42\n 190.14        88.79       125.32       100.47        69.45\n  58.66       103.5        106.76       128.61       116.98\n 119.13        65.29       126.12       202.06       140.1\n 129.66       108.82        83.8         88.97        65.58\n  65.36        57.56        60.7         69.94        77.77\n  84.04       248.24        92.98        70.56        61.42\n  59.11       102.97       134.65       132.46        89.41\n  60.67        81.24       239.07       108.63        68.66\n 126.09        79.22       150.74       221.89       229.73\n  86.07       121.15        76.19        68.68        99.96\n 221.08        57.38       105.72       130.07       122.23\n 117.77        68.07       144.14       151.26        78.05\n 101.06       102.03       115.98       108.38        78.43\n  70.38       100.54        67.29        79.33        61.8\n  80.55       110.33        87.71        76.34       146.1\n  55.93        87.39       200.25        62.66        76.03\n  71.79        60.17       131.05       141.84        82.26\n 123.98        89.14        86.67       195.71        82.57\n  69.46        94.14        85.33        80.8         88.85\n  55.35       151.16       111.84        83.73       103.08\n 134.76        62.44       149.8         83.2         86.3\n  57.09        56.48       182.99        63.42        66.69\n  88.06        76.98       179.14        57.96        70.19\n 179.67        82.64       263.32       200.91        85.07\n 144.33        77.16        77.43        81.73        67.41\n  89.73       212.92        84.93        74.66        64.37\n 102.92      ]\nbmi= [28.552632 31.4      17.5      22.2      44.7      20.7      37.\n 28.4      27.2      35.9      20.1      31.9      24.3      33.5\n 28.5      29.695181 28.7      33.7      30.2      34.2      40.8\n 23.9      16.1      23.8      25.5      22.7      35.5      24.1\n 19.       16.3      33.3      20.6      39.9      20.8      30.884\n 39.5      18.2      27.9      20.2      22.4      25.9      21.4\n 21.8      23.1      32.7      22.6      38.1      29.4      20.4\n 29.1      39.1      24.8      27.6      45.2      25.1      23.2\n 24.       34.9      27.3      16.7      28.3      27.5      28.6\n 28.9      33.9      19.6      38.       33.8      27.1      40.\n 23.4      30.6      50.6      45.8      17.3      55.9      36.2\n 21.6      28.       25.3      28.2      24.2      17.7      18.5\n 24.9      20.3      34.8      16.8      32.45689  29.       27.4\n 23.       16.       30.       35.4      31.5      34.1      14.2\n 32.4      27.7      26.9      45.7      25.       23.6      30.9\n 17.8      40.3      31.1      17.9      32.       29.3      38.4\n 32.2      35.2      21.190909 25.7      38.2      32.6      34.7\n 18.1      41.8      36.9      14.       40.4      20.9      41.4\n 35.       30.1      37.6      39.3      20.5      34.5      36.7\n 21.5      22.       26.2      18.9      19.8      23.5      18.8\n 27.       18.6      30.3      26.6      45.3      28.8      43.4\n 34.6      27.8      25.8      23.3      35.6      19.3      38.9\n 24.5      14.8      31.8      14.6      26.1      25.4      43.7\n 18.3      22.9      17.       38.8      29.6      18.4      46.4\n 26.4      36.       36.8      19.5      30.4      29.9      24.7\n 22.3      35.1      21.7      42.6      36.3      21.3      50.8\n 29.5      40.2      47.5      26.       32.9      29.7      41.9\n 31.6      32.1      55.7      31.       31.3      43.       25.6\n 43.2      48.8      92.       38.7      14.1      41.7      46.\n 45.4      26.8      32.8      36.5      24.4      41.3      32.3\n 19.1      42.4      37.3      32.5      25.2      57.2      33.1\n 30.5      29.8      24.6      15.       34.       22.8      57.9\n 37.9      33.2      46.1      41.5      37.2      47.6      21.2\n 19.4      35.3      64.4      30.7      21.9      29.2      26.3\n 16.2      17.6     ]\nsmoking_status= ['formerly smoked' 'never smoked' 'Unknown' 'smokes']\nblood= ['AB' 'A' 'O' 'B']\n"
     ]
    }
   ],
   "source": [
    "for i in df.columns:\n",
    "    print(str(i) + '= ' + str(df[i].unique()))"
   ]
  },
  {
   "cell_type": "code",
   "execution_count": 24,
   "metadata": {},
   "outputs": [],
   "source": [
    "marriage_mapping = {'No': 0, 'Yes': 1}\n",
    "df['ever_married'] = df['ever_married'].map(marriage_mapping)"
   ]
  },
  {
   "cell_type": "code",
   "execution_count": 25,
   "metadata": {},
   "outputs": [
    {
     "output_type": "execute_result",
     "data": {
      "text/plain": [
       "   gender   age  hypertension  heart_disease  ever_married      work_type  \\\n",
       "0  Female  17.0             0              0             0        Private   \n",
       "1    Male  81.0             0              0             1  Self-employed   \n",
       "2    Male   4.0             0              0             0       children   \n",
       "3    Male  81.0             0              0             1        Private   \n",
       "4    Male  17.0             0              0             0        Private   \n",
       "\n",
       "  Residence_type  avg_glucose_level        bmi   smoking_status blood  \n",
       "0          Urban              92.97  28.552632  formerly smoked    AB  \n",
       "1          Rural              91.54  31.400000     never smoked     A  \n",
       "2          Urban              98.56  17.500000          Unknown     O  \n",
       "3          Rural              92.96  22.200000     never smoked    AB  \n",
       "4          Rural              81.77  44.700000     never smoked     O  "
      ],
      "text/html": "<div>\n<style scoped>\n    .dataframe tbody tr th:only-of-type {\n        vertical-align: middle;\n    }\n\n    .dataframe tbody tr th {\n        vertical-align: top;\n    }\n\n    .dataframe thead th {\n        text-align: right;\n    }\n</style>\n<table border=\"1\" class=\"dataframe\">\n  <thead>\n    <tr style=\"text-align: right;\">\n      <th></th>\n      <th>gender</th>\n      <th>age</th>\n      <th>hypertension</th>\n      <th>heart_disease</th>\n      <th>ever_married</th>\n      <th>work_type</th>\n      <th>Residence_type</th>\n      <th>avg_glucose_level</th>\n      <th>bmi</th>\n      <th>smoking_status</th>\n      <th>blood</th>\n    </tr>\n  </thead>\n  <tbody>\n    <tr>\n      <th>0</th>\n      <td>Female</td>\n      <td>17.0</td>\n      <td>0</td>\n      <td>0</td>\n      <td>0</td>\n      <td>Private</td>\n      <td>Urban</td>\n      <td>92.97</td>\n      <td>28.552632</td>\n      <td>formerly smoked</td>\n      <td>AB</td>\n    </tr>\n    <tr>\n      <th>1</th>\n      <td>Male</td>\n      <td>81.0</td>\n      <td>0</td>\n      <td>0</td>\n      <td>1</td>\n      <td>Self-employed</td>\n      <td>Rural</td>\n      <td>91.54</td>\n      <td>31.400000</td>\n      <td>never smoked</td>\n      <td>A</td>\n    </tr>\n    <tr>\n      <th>2</th>\n      <td>Male</td>\n      <td>4.0</td>\n      <td>0</td>\n      <td>0</td>\n      <td>0</td>\n      <td>children</td>\n      <td>Urban</td>\n      <td>98.56</td>\n      <td>17.500000</td>\n      <td>Unknown</td>\n      <td>O</td>\n    </tr>\n    <tr>\n      <th>3</th>\n      <td>Male</td>\n      <td>81.0</td>\n      <td>0</td>\n      <td>0</td>\n      <td>1</td>\n      <td>Private</td>\n      <td>Rural</td>\n      <td>92.96</td>\n      <td>22.200000</td>\n      <td>never smoked</td>\n      <td>AB</td>\n    </tr>\n    <tr>\n      <th>4</th>\n      <td>Male</td>\n      <td>17.0</td>\n      <td>0</td>\n      <td>0</td>\n      <td>0</td>\n      <td>Private</td>\n      <td>Rural</td>\n      <td>81.77</td>\n      <td>44.700000</td>\n      <td>never smoked</td>\n      <td>O</td>\n    </tr>\n  </tbody>\n</table>\n</div>"
     },
     "metadata": {},
     "execution_count": 25
    }
   ],
   "source": [
    "df.head()"
   ]
  },
  {
   "cell_type": "code",
   "execution_count": 26,
   "metadata": {},
   "outputs": [],
   "source": [
    "oh = OneHotEncoder()"
   ]
  },
  {
   "cell_type": "code",
   "execution_count": 27,
   "metadata": {},
   "outputs": [],
   "source": [
    "categorical_features_oh = ['gender', 'blood', 'smoking_status', 'Residence_type', 'work_type']"
   ]
  },
  {
   "cell_type": "code",
   "execution_count": 28,
   "metadata": {},
   "outputs": [
    {
     "output_type": "execute_result",
     "data": {
      "text/plain": [
       "     gender   age  hypertension  heart_disease  ever_married      work_type  \\\n",
       "0    Female  17.0             0              0             0        Private   \n",
       "1      Male  81.0             0              0             1  Self-employed   \n",
       "2      Male   4.0             0              0             0       children   \n",
       "3      Male  81.0             0              0             1        Private   \n",
       "4      Male  17.0             0              0             0        Private   \n",
       "..      ...   ...           ...            ...           ...            ...   \n",
       "495  Female  23.0             0              0             1       Govt_job   \n",
       "496    Male  53.0             0              0             1        Private   \n",
       "497  Female  57.0             0              0             1        Private   \n",
       "498  Female  53.0             0              0             1        Private   \n",
       "499  Female   2.0             0              0             0       children   \n",
       "\n",
       "    Residence_type  avg_glucose_level        bmi   smoking_status  ...  \\\n",
       "0            Urban              92.97  28.552632  formerly smoked  ...   \n",
       "1            Rural              91.54  31.400000     never smoked  ...   \n",
       "2            Urban              98.56  17.500000          Unknown  ...   \n",
       "3            Rural              92.96  22.200000     never smoked  ...   \n",
       "4            Rural              81.77  44.700000     never smoked  ...   \n",
       "..             ...                ...        ...              ...  ...   \n",
       "495          Rural              84.93  24.200000     never smoked  ...   \n",
       "496          Urban              74.66  29.200000           smokes  ...   \n",
       "497          Rural              64.37  32.800000     never smoked  ...   \n",
       "498          Rural              77.94  30.884000     never smoked  ...   \n",
       "499          Urban             102.92  17.600000          Unknown  ...   \n",
       "\n",
       "    smoking_status_never smoked  smoking_status_smokes  Residence_type_Rural  \\\n",
       "0                             0                      0                     0   \n",
       "1                             1                      0                     1   \n",
       "2                             0                      0                     0   \n",
       "3                             1                      0                     1   \n",
       "4                             1                      0                     1   \n",
       "..                          ...                    ...                   ...   \n",
       "495                           1                      0                     1   \n",
       "496                           0                      1                     0   \n",
       "497                           1                      0                     1   \n",
       "498                           1                      0                     1   \n",
       "499                           0                      0                     0   \n",
       "\n",
       "     Residence_type_Unknown  Residence_type_Urban  work_type_Govt_job  \\\n",
       "0                         0                     1                   0   \n",
       "1                         0                     0                   0   \n",
       "2                         0                     1                   0   \n",
       "3                         0                     0                   0   \n",
       "4                         0                     0                   0   \n",
       "..                      ...                   ...                 ...   \n",
       "495                       0                     0                   1   \n",
       "496                       0                     1                   0   \n",
       "497                       0                     0                   0   \n",
       "498                       0                     0                   0   \n",
       "499                       0                     1                   0   \n",
       "\n",
       "     work_type_Never_worked  work_type_Private  work_type_Self-employed  \\\n",
       "0                         0                  1                        0   \n",
       "1                         0                  0                        1   \n",
       "2                         0                  0                        0   \n",
       "3                         0                  1                        0   \n",
       "4                         0                  1                        0   \n",
       "..                      ...                ...                      ...   \n",
       "495                       0                  0                        0   \n",
       "496                       0                  1                        0   \n",
       "497                       0                  1                        0   \n",
       "498                       0                  1                        0   \n",
       "499                       0                  0                        0   \n",
       "\n",
       "     work_type_children  \n",
       "0                     0  \n",
       "1                     0  \n",
       "2                     1  \n",
       "3                     0  \n",
       "4                     0  \n",
       "..                  ...  \n",
       "495                   0  \n",
       "496                   0  \n",
       "497                   0  \n",
       "498                   0  \n",
       "499                   1  \n",
       "\n",
       "[500 rows x 30 columns]"
      ],
      "text/html": "<div>\n<style scoped>\n    .dataframe tbody tr th:only-of-type {\n        vertical-align: middle;\n    }\n\n    .dataframe tbody tr th {\n        vertical-align: top;\n    }\n\n    .dataframe thead th {\n        text-align: right;\n    }\n</style>\n<table border=\"1\" class=\"dataframe\">\n  <thead>\n    <tr style=\"text-align: right;\">\n      <th></th>\n      <th>gender</th>\n      <th>age</th>\n      <th>hypertension</th>\n      <th>heart_disease</th>\n      <th>ever_married</th>\n      <th>work_type</th>\n      <th>Residence_type</th>\n      <th>avg_glucose_level</th>\n      <th>bmi</th>\n      <th>smoking_status</th>\n      <th>...</th>\n      <th>smoking_status_never smoked</th>\n      <th>smoking_status_smokes</th>\n      <th>Residence_type_Rural</th>\n      <th>Residence_type_Unknown</th>\n      <th>Residence_type_Urban</th>\n      <th>work_type_Govt_job</th>\n      <th>work_type_Never_worked</th>\n      <th>work_type_Private</th>\n      <th>work_type_Self-employed</th>\n      <th>work_type_children</th>\n    </tr>\n  </thead>\n  <tbody>\n    <tr>\n      <th>0</th>\n      <td>Female</td>\n      <td>17.0</td>\n      <td>0</td>\n      <td>0</td>\n      <td>0</td>\n      <td>Private</td>\n      <td>Urban</td>\n      <td>92.97</td>\n      <td>28.552632</td>\n      <td>formerly smoked</td>\n      <td>...</td>\n      <td>0</td>\n      <td>0</td>\n      <td>0</td>\n      <td>0</td>\n      <td>1</td>\n      <td>0</td>\n      <td>0</td>\n      <td>1</td>\n      <td>0</td>\n      <td>0</td>\n    </tr>\n    <tr>\n      <th>1</th>\n      <td>Male</td>\n      <td>81.0</td>\n      <td>0</td>\n      <td>0</td>\n      <td>1</td>\n      <td>Self-employed</td>\n      <td>Rural</td>\n      <td>91.54</td>\n      <td>31.400000</td>\n      <td>never smoked</td>\n      <td>...</td>\n      <td>1</td>\n      <td>0</td>\n      <td>1</td>\n      <td>0</td>\n      <td>0</td>\n      <td>0</td>\n      <td>0</td>\n      <td>0</td>\n      <td>1</td>\n      <td>0</td>\n    </tr>\n    <tr>\n      <th>2</th>\n      <td>Male</td>\n      <td>4.0</td>\n      <td>0</td>\n      <td>0</td>\n      <td>0</td>\n      <td>children</td>\n      <td>Urban</td>\n      <td>98.56</td>\n      <td>17.500000</td>\n      <td>Unknown</td>\n      <td>...</td>\n      <td>0</td>\n      <td>0</td>\n      <td>0</td>\n      <td>0</td>\n      <td>1</td>\n      <td>0</td>\n      <td>0</td>\n      <td>0</td>\n      <td>0</td>\n      <td>1</td>\n    </tr>\n    <tr>\n      <th>3</th>\n      <td>Male</td>\n      <td>81.0</td>\n      <td>0</td>\n      <td>0</td>\n      <td>1</td>\n      <td>Private</td>\n      <td>Rural</td>\n      <td>92.96</td>\n      <td>22.200000</td>\n      <td>never smoked</td>\n      <td>...</td>\n      <td>1</td>\n      <td>0</td>\n      <td>1</td>\n      <td>0</td>\n      <td>0</td>\n      <td>0</td>\n      <td>0</td>\n      <td>1</td>\n      <td>0</td>\n      <td>0</td>\n    </tr>\n    <tr>\n      <th>4</th>\n      <td>Male</td>\n      <td>17.0</td>\n      <td>0</td>\n      <td>0</td>\n      <td>0</td>\n      <td>Private</td>\n      <td>Rural</td>\n      <td>81.77</td>\n      <td>44.700000</td>\n      <td>never smoked</td>\n      <td>...</td>\n      <td>1</td>\n      <td>0</td>\n      <td>1</td>\n      <td>0</td>\n      <td>0</td>\n      <td>0</td>\n      <td>0</td>\n      <td>1</td>\n      <td>0</td>\n      <td>0</td>\n    </tr>\n    <tr>\n      <th>...</th>\n      <td>...</td>\n      <td>...</td>\n      <td>...</td>\n      <td>...</td>\n      <td>...</td>\n      <td>...</td>\n      <td>...</td>\n      <td>...</td>\n      <td>...</td>\n      <td>...</td>\n      <td>...</td>\n      <td>...</td>\n      <td>...</td>\n      <td>...</td>\n      <td>...</td>\n      <td>...</td>\n      <td>...</td>\n      <td>...</td>\n      <td>...</td>\n      <td>...</td>\n      <td>...</td>\n    </tr>\n    <tr>\n      <th>495</th>\n      <td>Female</td>\n      <td>23.0</td>\n      <td>0</td>\n      <td>0</td>\n      <td>1</td>\n      <td>Govt_job</td>\n      <td>Rural</td>\n      <td>84.93</td>\n      <td>24.200000</td>\n      <td>never smoked</td>\n      <td>...</td>\n      <td>1</td>\n      <td>0</td>\n      <td>1</td>\n      <td>0</td>\n      <td>0</td>\n      <td>1</td>\n      <td>0</td>\n      <td>0</td>\n      <td>0</td>\n      <td>0</td>\n    </tr>\n    <tr>\n      <th>496</th>\n      <td>Male</td>\n      <td>53.0</td>\n      <td>0</td>\n      <td>0</td>\n      <td>1</td>\n      <td>Private</td>\n      <td>Urban</td>\n      <td>74.66</td>\n      <td>29.200000</td>\n      <td>smokes</td>\n      <td>...</td>\n      <td>0</td>\n      <td>1</td>\n      <td>0</td>\n      <td>0</td>\n      <td>1</td>\n      <td>0</td>\n      <td>0</td>\n      <td>1</td>\n      <td>0</td>\n      <td>0</td>\n    </tr>\n    <tr>\n      <th>497</th>\n      <td>Female</td>\n      <td>57.0</td>\n      <td>0</td>\n      <td>0</td>\n      <td>1</td>\n      <td>Private</td>\n      <td>Rural</td>\n      <td>64.37</td>\n      <td>32.800000</td>\n      <td>never smoked</td>\n      <td>...</td>\n      <td>1</td>\n      <td>0</td>\n      <td>1</td>\n      <td>0</td>\n      <td>0</td>\n      <td>0</td>\n      <td>0</td>\n      <td>1</td>\n      <td>0</td>\n      <td>0</td>\n    </tr>\n    <tr>\n      <th>498</th>\n      <td>Female</td>\n      <td>53.0</td>\n      <td>0</td>\n      <td>0</td>\n      <td>1</td>\n      <td>Private</td>\n      <td>Rural</td>\n      <td>77.94</td>\n      <td>30.884000</td>\n      <td>never smoked</td>\n      <td>...</td>\n      <td>1</td>\n      <td>0</td>\n      <td>1</td>\n      <td>0</td>\n      <td>0</td>\n      <td>0</td>\n      <td>0</td>\n      <td>1</td>\n      <td>0</td>\n      <td>0</td>\n    </tr>\n    <tr>\n      <th>499</th>\n      <td>Female</td>\n      <td>2.0</td>\n      <td>0</td>\n      <td>0</td>\n      <td>0</td>\n      <td>children</td>\n      <td>Urban</td>\n      <td>102.92</td>\n      <td>17.600000</td>\n      <td>Unknown</td>\n      <td>...</td>\n      <td>0</td>\n      <td>0</td>\n      <td>0</td>\n      <td>0</td>\n      <td>1</td>\n      <td>0</td>\n      <td>0</td>\n      <td>0</td>\n      <td>0</td>\n      <td>1</td>\n    </tr>\n  </tbody>\n</table>\n<p>500 rows × 30 columns</p>\n</div>"
     },
     "metadata": {},
     "execution_count": 28
    }
   ],
   "source": [
    "for i in categorical_features_oh:\n",
    "    df[i] = pd.Categorical(df[i])\n",
    "    dfDummies = pd.get_dummies(df[i], prefix= i)\n",
    "    df = pd.concat([df, dfDummies], axis=1)\n",
    "df"
   ]
  },
  {
   "cell_type": "code",
   "execution_count": 29,
   "metadata": {},
   "outputs": [
    {
     "output_type": "execute_result",
     "data": {
      "text/plain": [
       "      age  hypertension  heart_disease  ever_married  avg_glucose_level  \\\n",
       "0    17.0             0              0             0              92.97   \n",
       "1    81.0             0              0             1              91.54   \n",
       "2     4.0             0              0             0              98.56   \n",
       "3    81.0             0              0             1              92.96   \n",
       "4    17.0             0              0             0              81.77   \n",
       "..    ...           ...            ...           ...                ...   \n",
       "495  23.0             0              0             1              84.93   \n",
       "496  53.0             0              0             1              74.66   \n",
       "497  57.0             0              0             1              64.37   \n",
       "498  53.0             0              0             1              77.94   \n",
       "499   2.0             0              0             0             102.92   \n",
       "\n",
       "           bmi  gender_Female  gender_Male  gender_Other  blood_A  ...  \\\n",
       "0    28.552632              1            0             0        0  ...   \n",
       "1    31.400000              0            1             0        1  ...   \n",
       "2    17.500000              0            1             0        0  ...   \n",
       "3    22.200000              0            1             0        0  ...   \n",
       "4    44.700000              0            1             0        0  ...   \n",
       "..         ...            ...          ...           ...      ...  ...   \n",
       "495  24.200000              1            0             0        1  ...   \n",
       "496  29.200000              0            1             0        0  ...   \n",
       "497  32.800000              1            0             0        0  ...   \n",
       "498  30.884000              1            0             0        0  ...   \n",
       "499  17.600000              1            0             0        0  ...   \n",
       "\n",
       "     smoking_status_never smoked  smoking_status_smokes  Residence_type_Rural  \\\n",
       "0                              0                      0                     0   \n",
       "1                              1                      0                     1   \n",
       "2                              0                      0                     0   \n",
       "3                              1                      0                     1   \n",
       "4                              1                      0                     1   \n",
       "..                           ...                    ...                   ...   \n",
       "495                            1                      0                     1   \n",
       "496                            0                      1                     0   \n",
       "497                            1                      0                     1   \n",
       "498                            1                      0                     1   \n",
       "499                            0                      0                     0   \n",
       "\n",
       "     Residence_type_Unknown  Residence_type_Urban  work_type_Govt_job  \\\n",
       "0                         0                     1                   0   \n",
       "1                         0                     0                   0   \n",
       "2                         0                     1                   0   \n",
       "3                         0                     0                   0   \n",
       "4                         0                     0                   0   \n",
       "..                      ...                   ...                 ...   \n",
       "495                       0                     0                   1   \n",
       "496                       0                     1                   0   \n",
       "497                       0                     0                   0   \n",
       "498                       0                     0                   0   \n",
       "499                       0                     1                   0   \n",
       "\n",
       "     work_type_Never_worked  work_type_Private  work_type_Self-employed  \\\n",
       "0                         0                  1                        0   \n",
       "1                         0                  0                        1   \n",
       "2                         0                  0                        0   \n",
       "3                         0                  1                        0   \n",
       "4                         0                  1                        0   \n",
       "..                      ...                ...                      ...   \n",
       "495                       0                  0                        0   \n",
       "496                       0                  1                        0   \n",
       "497                       0                  1                        0   \n",
       "498                       0                  1                        0   \n",
       "499                       0                  0                        0   \n",
       "\n",
       "     work_type_children  \n",
       "0                     0  \n",
       "1                     0  \n",
       "2                     1  \n",
       "3                     0  \n",
       "4                     0  \n",
       "..                  ...  \n",
       "495                   0  \n",
       "496                   0  \n",
       "497                   0  \n",
       "498                   0  \n",
       "499                   1  \n",
       "\n",
       "[500 rows x 25 columns]"
      ],
      "text/html": "<div>\n<style scoped>\n    .dataframe tbody tr th:only-of-type {\n        vertical-align: middle;\n    }\n\n    .dataframe tbody tr th {\n        vertical-align: top;\n    }\n\n    .dataframe thead th {\n        text-align: right;\n    }\n</style>\n<table border=\"1\" class=\"dataframe\">\n  <thead>\n    <tr style=\"text-align: right;\">\n      <th></th>\n      <th>age</th>\n      <th>hypertension</th>\n      <th>heart_disease</th>\n      <th>ever_married</th>\n      <th>avg_glucose_level</th>\n      <th>bmi</th>\n      <th>gender_Female</th>\n      <th>gender_Male</th>\n      <th>gender_Other</th>\n      <th>blood_A</th>\n      <th>...</th>\n      <th>smoking_status_never smoked</th>\n      <th>smoking_status_smokes</th>\n      <th>Residence_type_Rural</th>\n      <th>Residence_type_Unknown</th>\n      <th>Residence_type_Urban</th>\n      <th>work_type_Govt_job</th>\n      <th>work_type_Never_worked</th>\n      <th>work_type_Private</th>\n      <th>work_type_Self-employed</th>\n      <th>work_type_children</th>\n    </tr>\n  </thead>\n  <tbody>\n    <tr>\n      <th>0</th>\n      <td>17.0</td>\n      <td>0</td>\n      <td>0</td>\n      <td>0</td>\n      <td>92.97</td>\n      <td>28.552632</td>\n      <td>1</td>\n      <td>0</td>\n      <td>0</td>\n      <td>0</td>\n      <td>...</td>\n      <td>0</td>\n      <td>0</td>\n      <td>0</td>\n      <td>0</td>\n      <td>1</td>\n      <td>0</td>\n      <td>0</td>\n      <td>1</td>\n      <td>0</td>\n      <td>0</td>\n    </tr>\n    <tr>\n      <th>1</th>\n      <td>81.0</td>\n      <td>0</td>\n      <td>0</td>\n      <td>1</td>\n      <td>91.54</td>\n      <td>31.400000</td>\n      <td>0</td>\n      <td>1</td>\n      <td>0</td>\n      <td>1</td>\n      <td>...</td>\n      <td>1</td>\n      <td>0</td>\n      <td>1</td>\n      <td>0</td>\n      <td>0</td>\n      <td>0</td>\n      <td>0</td>\n      <td>0</td>\n      <td>1</td>\n      <td>0</td>\n    </tr>\n    <tr>\n      <th>2</th>\n      <td>4.0</td>\n      <td>0</td>\n      <td>0</td>\n      <td>0</td>\n      <td>98.56</td>\n      <td>17.500000</td>\n      <td>0</td>\n      <td>1</td>\n      <td>0</td>\n      <td>0</td>\n      <td>...</td>\n      <td>0</td>\n      <td>0</td>\n      <td>0</td>\n      <td>0</td>\n      <td>1</td>\n      <td>0</td>\n      <td>0</td>\n      <td>0</td>\n      <td>0</td>\n      <td>1</td>\n    </tr>\n    <tr>\n      <th>3</th>\n      <td>81.0</td>\n      <td>0</td>\n      <td>0</td>\n      <td>1</td>\n      <td>92.96</td>\n      <td>22.200000</td>\n      <td>0</td>\n      <td>1</td>\n      <td>0</td>\n      <td>0</td>\n      <td>...</td>\n      <td>1</td>\n      <td>0</td>\n      <td>1</td>\n      <td>0</td>\n      <td>0</td>\n      <td>0</td>\n      <td>0</td>\n      <td>1</td>\n      <td>0</td>\n      <td>0</td>\n    </tr>\n    <tr>\n      <th>4</th>\n      <td>17.0</td>\n      <td>0</td>\n      <td>0</td>\n      <td>0</td>\n      <td>81.77</td>\n      <td>44.700000</td>\n      <td>0</td>\n      <td>1</td>\n      <td>0</td>\n      <td>0</td>\n      <td>...</td>\n      <td>1</td>\n      <td>0</td>\n      <td>1</td>\n      <td>0</td>\n      <td>0</td>\n      <td>0</td>\n      <td>0</td>\n      <td>1</td>\n      <td>0</td>\n      <td>0</td>\n    </tr>\n    <tr>\n      <th>...</th>\n      <td>...</td>\n      <td>...</td>\n      <td>...</td>\n      <td>...</td>\n      <td>...</td>\n      <td>...</td>\n      <td>...</td>\n      <td>...</td>\n      <td>...</td>\n      <td>...</td>\n      <td>...</td>\n      <td>...</td>\n      <td>...</td>\n      <td>...</td>\n      <td>...</td>\n      <td>...</td>\n      <td>...</td>\n      <td>...</td>\n      <td>...</td>\n      <td>...</td>\n      <td>...</td>\n    </tr>\n    <tr>\n      <th>495</th>\n      <td>23.0</td>\n      <td>0</td>\n      <td>0</td>\n      <td>1</td>\n      <td>84.93</td>\n      <td>24.200000</td>\n      <td>1</td>\n      <td>0</td>\n      <td>0</td>\n      <td>1</td>\n      <td>...</td>\n      <td>1</td>\n      <td>0</td>\n      <td>1</td>\n      <td>0</td>\n      <td>0</td>\n      <td>1</td>\n      <td>0</td>\n      <td>0</td>\n      <td>0</td>\n      <td>0</td>\n    </tr>\n    <tr>\n      <th>496</th>\n      <td>53.0</td>\n      <td>0</td>\n      <td>0</td>\n      <td>1</td>\n      <td>74.66</td>\n      <td>29.200000</td>\n      <td>0</td>\n      <td>1</td>\n      <td>0</td>\n      <td>0</td>\n      <td>...</td>\n      <td>0</td>\n      <td>1</td>\n      <td>0</td>\n      <td>0</td>\n      <td>1</td>\n      <td>0</td>\n      <td>0</td>\n      <td>1</td>\n      <td>0</td>\n      <td>0</td>\n    </tr>\n    <tr>\n      <th>497</th>\n      <td>57.0</td>\n      <td>0</td>\n      <td>0</td>\n      <td>1</td>\n      <td>64.37</td>\n      <td>32.800000</td>\n      <td>1</td>\n      <td>0</td>\n      <td>0</td>\n      <td>0</td>\n      <td>...</td>\n      <td>1</td>\n      <td>0</td>\n      <td>1</td>\n      <td>0</td>\n      <td>0</td>\n      <td>0</td>\n      <td>0</td>\n      <td>1</td>\n      <td>0</td>\n      <td>0</td>\n    </tr>\n    <tr>\n      <th>498</th>\n      <td>53.0</td>\n      <td>0</td>\n      <td>0</td>\n      <td>1</td>\n      <td>77.94</td>\n      <td>30.884000</td>\n      <td>1</td>\n      <td>0</td>\n      <td>0</td>\n      <td>0</td>\n      <td>...</td>\n      <td>1</td>\n      <td>0</td>\n      <td>1</td>\n      <td>0</td>\n      <td>0</td>\n      <td>0</td>\n      <td>0</td>\n      <td>1</td>\n      <td>0</td>\n      <td>0</td>\n    </tr>\n    <tr>\n      <th>499</th>\n      <td>2.0</td>\n      <td>0</td>\n      <td>0</td>\n      <td>0</td>\n      <td>102.92</td>\n      <td>17.600000</td>\n      <td>1</td>\n      <td>0</td>\n      <td>0</td>\n      <td>0</td>\n      <td>...</td>\n      <td>0</td>\n      <td>0</td>\n      <td>0</td>\n      <td>0</td>\n      <td>1</td>\n      <td>0</td>\n      <td>0</td>\n      <td>0</td>\n      <td>0</td>\n      <td>1</td>\n    </tr>\n  </tbody>\n</table>\n<p>500 rows × 25 columns</p>\n</div>"
     },
     "metadata": {},
     "execution_count": 29
    }
   ],
   "source": [
    "for i in categorical_features_oh:\n",
    "    df.drop(columns=i, axis=1, inplace=True)\n",
    "df"
   ]
  },
  {
   "cell_type": "code",
   "execution_count": 30,
   "metadata": {},
   "outputs": [
    {
     "output_type": "execute_result",
     "data": {
      "text/plain": [
       "                                Total  Percent\n",
       "work_type_children                  0      0.0\n",
       "blood_B                             0      0.0\n",
       "hypertension                        0      0.0\n",
       "heart_disease                       0      0.0\n",
       "ever_married                        0      0.0\n",
       "avg_glucose_level                   0      0.0\n",
       "bmi                                 0      0.0\n",
       "gender_Female                       0      0.0\n",
       "gender_Male                         0      0.0\n",
       "gender_Other                        0      0.0\n",
       "blood_A                             0      0.0\n",
       "blood_AB                            0      0.0\n",
       "blood_O                             0      0.0\n",
       "work_type_Self-employed             0      0.0\n",
       "smoking_status_Unknown              0      0.0\n",
       "smoking_status_formerly smoked      0      0.0\n",
       "smoking_status_never smoked         0      0.0\n",
       "smoking_status_smokes               0      0.0\n",
       "Residence_type_Rural                0      0.0\n",
       "Residence_type_Unknown              0      0.0\n",
       "Residence_type_Urban                0      0.0\n",
       "work_type_Govt_job                  0      0.0\n",
       "work_type_Never_worked              0      0.0\n",
       "work_type_Private                   0      0.0\n",
       "age                                 0      0.0"
      ],
      "text/html": "<div>\n<style scoped>\n    .dataframe tbody tr th:only-of-type {\n        vertical-align: middle;\n    }\n\n    .dataframe tbody tr th {\n        vertical-align: top;\n    }\n\n    .dataframe thead th {\n        text-align: right;\n    }\n</style>\n<table border=\"1\" class=\"dataframe\">\n  <thead>\n    <tr style=\"text-align: right;\">\n      <th></th>\n      <th>Total</th>\n      <th>Percent</th>\n    </tr>\n  </thead>\n  <tbody>\n    <tr>\n      <th>work_type_children</th>\n      <td>0</td>\n      <td>0.0</td>\n    </tr>\n    <tr>\n      <th>blood_B</th>\n      <td>0</td>\n      <td>0.0</td>\n    </tr>\n    <tr>\n      <th>hypertension</th>\n      <td>0</td>\n      <td>0.0</td>\n    </tr>\n    <tr>\n      <th>heart_disease</th>\n      <td>0</td>\n      <td>0.0</td>\n    </tr>\n    <tr>\n      <th>ever_married</th>\n      <td>0</td>\n      <td>0.0</td>\n    </tr>\n    <tr>\n      <th>avg_glucose_level</th>\n      <td>0</td>\n      <td>0.0</td>\n    </tr>\n    <tr>\n      <th>bmi</th>\n      <td>0</td>\n      <td>0.0</td>\n    </tr>\n    <tr>\n      <th>gender_Female</th>\n      <td>0</td>\n      <td>0.0</td>\n    </tr>\n    <tr>\n      <th>gender_Male</th>\n      <td>0</td>\n      <td>0.0</td>\n    </tr>\n    <tr>\n      <th>gender_Other</th>\n      <td>0</td>\n      <td>0.0</td>\n    </tr>\n    <tr>\n      <th>blood_A</th>\n      <td>0</td>\n      <td>0.0</td>\n    </tr>\n    <tr>\n      <th>blood_AB</th>\n      <td>0</td>\n      <td>0.0</td>\n    </tr>\n    <tr>\n      <th>blood_O</th>\n      <td>0</td>\n      <td>0.0</td>\n    </tr>\n    <tr>\n      <th>work_type_Self-employed</th>\n      <td>0</td>\n      <td>0.0</td>\n    </tr>\n    <tr>\n      <th>smoking_status_Unknown</th>\n      <td>0</td>\n      <td>0.0</td>\n    </tr>\n    <tr>\n      <th>smoking_status_formerly smoked</th>\n      <td>0</td>\n      <td>0.0</td>\n    </tr>\n    <tr>\n      <th>smoking_status_never smoked</th>\n      <td>0</td>\n      <td>0.0</td>\n    </tr>\n    <tr>\n      <th>smoking_status_smokes</th>\n      <td>0</td>\n      <td>0.0</td>\n    </tr>\n    <tr>\n      <th>Residence_type_Rural</th>\n      <td>0</td>\n      <td>0.0</td>\n    </tr>\n    <tr>\n      <th>Residence_type_Unknown</th>\n      <td>0</td>\n      <td>0.0</td>\n    </tr>\n    <tr>\n      <th>Residence_type_Urban</th>\n      <td>0</td>\n      <td>0.0</td>\n    </tr>\n    <tr>\n      <th>work_type_Govt_job</th>\n      <td>0</td>\n      <td>0.0</td>\n    </tr>\n    <tr>\n      <th>work_type_Never_worked</th>\n      <td>0</td>\n      <td>0.0</td>\n    </tr>\n    <tr>\n      <th>work_type_Private</th>\n      <td>0</td>\n      <td>0.0</td>\n    </tr>\n    <tr>\n      <th>age</th>\n      <td>0</td>\n      <td>0.0</td>\n    </tr>\n  </tbody>\n</table>\n</div>"
     },
     "metadata": {},
     "execution_count": 30
    }
   ],
   "source": [
    "draw_missing_data_table(df)"
   ]
  },
  {
   "source": [
    "### Scaling data"
   ],
   "cell_type": "markdown",
   "metadata": {}
  },
  {
   "cell_type": "code",
   "execution_count": 31,
   "metadata": {},
   "outputs": [],
   "source": [
    "from sklearn.preprocessing import StandardScaler\n",
    "std = StandardScaler()\n",
    "columns = ['avg_glucose_level','bmi','age']\n",
    "scaled = std.fit_transform(df[columns])\n",
    "scaled = pd.DataFrame(scaled,columns=columns)\n",
    "df=df.drop(columns=columns,axis=1)"
   ]
  },
  {
   "cell_type": "code",
   "execution_count": 32,
   "metadata": {},
   "outputs": [
    {
     "output_type": "execute_result",
     "data": {
      "text/plain": [
       "     hypertension  heart_disease  ever_married  gender_Female  gender_Male  \\\n",
       "0               0              0             0              1            0   \n",
       "1               0              0             1              0            1   \n",
       "2               0              0             0              0            1   \n",
       "3               0              0             1              0            1   \n",
       "4               0              0             0              0            1   \n",
       "..            ...            ...           ...            ...          ...   \n",
       "495             0              0             1              1            0   \n",
       "496             0              0             1              0            1   \n",
       "497             0              0             1              1            0   \n",
       "498             0              0             1              1            0   \n",
       "499             0              0             0              1            0   \n",
       "\n",
       "     gender_Other  blood_A  blood_AB  blood_B  blood_O  ...  \\\n",
       "0               0        0         1        0        0  ...   \n",
       "1               0        1         0        0        0  ...   \n",
       "2               0        0         0        0        1  ...   \n",
       "3               0        0         1        0        0  ...   \n",
       "4               0        0         0        0        1  ...   \n",
       "..            ...      ...       ...      ...      ...  ...   \n",
       "495             0        1         0        0        0  ...   \n",
       "496             0        0         0        0        1  ...   \n",
       "497             0        0         1        0        0  ...   \n",
       "498             0        0         1        0        0  ...   \n",
       "499             0        0         1        0        0  ...   \n",
       "\n",
       "     Residence_type_Unknown  Residence_type_Urban  work_type_Govt_job  \\\n",
       "0                         0                     1                   0   \n",
       "1                         0                     0                   0   \n",
       "2                         0                     1                   0   \n",
       "3                         0                     0                   0   \n",
       "4                         0                     0                   0   \n",
       "..                      ...                   ...                 ...   \n",
       "495                       0                     0                   1   \n",
       "496                       0                     1                   0   \n",
       "497                       0                     0                   0   \n",
       "498                       0                     0                   0   \n",
       "499                       0                     1                   0   \n",
       "\n",
       "     work_type_Never_worked  work_type_Private  work_type_Self-employed  \\\n",
       "0                         0                  1                        0   \n",
       "1                         0                  0                        1   \n",
       "2                         0                  0                        0   \n",
       "3                         0                  1                        0   \n",
       "4                         0                  1                        0   \n",
       "..                      ...                ...                      ...   \n",
       "495                       0                  0                        0   \n",
       "496                       0                  1                        0   \n",
       "497                       0                  1                        0   \n",
       "498                       0                  1                        0   \n",
       "499                       0                  0                        0   \n",
       "\n",
       "     work_type_children  avg_glucose_level       bmi       age  \n",
       "0                     0          -0.288097 -0.071492 -1.162120  \n",
       "1                     0          -0.318603  0.286883  1.711148  \n",
       "2                     1          -0.168848 -1.462595 -1.745753  \n",
       "3                     0          -0.288311 -0.871045  1.711148  \n",
       "4                     0          -0.527022  1.960843 -1.162120  \n",
       "..                  ...                ...       ...       ...  \n",
       "495                   0          -0.459611 -0.619321 -0.892751  \n",
       "496                   0          -0.678697  0.009987  0.454093  \n",
       "497                   0          -0.898210  0.463089  0.633672  \n",
       "498                   0          -0.608726  0.221938  0.454093  \n",
       "499                   1          -0.075838 -1.450009 -1.835542  \n",
       "\n",
       "[500 rows x 25 columns]"
      ],
      "text/html": "<div>\n<style scoped>\n    .dataframe tbody tr th:only-of-type {\n        vertical-align: middle;\n    }\n\n    .dataframe tbody tr th {\n        vertical-align: top;\n    }\n\n    .dataframe thead th {\n        text-align: right;\n    }\n</style>\n<table border=\"1\" class=\"dataframe\">\n  <thead>\n    <tr style=\"text-align: right;\">\n      <th></th>\n      <th>hypertension</th>\n      <th>heart_disease</th>\n      <th>ever_married</th>\n      <th>gender_Female</th>\n      <th>gender_Male</th>\n      <th>gender_Other</th>\n      <th>blood_A</th>\n      <th>blood_AB</th>\n      <th>blood_B</th>\n      <th>blood_O</th>\n      <th>...</th>\n      <th>Residence_type_Unknown</th>\n      <th>Residence_type_Urban</th>\n      <th>work_type_Govt_job</th>\n      <th>work_type_Never_worked</th>\n      <th>work_type_Private</th>\n      <th>work_type_Self-employed</th>\n      <th>work_type_children</th>\n      <th>avg_glucose_level</th>\n      <th>bmi</th>\n      <th>age</th>\n    </tr>\n  </thead>\n  <tbody>\n    <tr>\n      <th>0</th>\n      <td>0</td>\n      <td>0</td>\n      <td>0</td>\n      <td>1</td>\n      <td>0</td>\n      <td>0</td>\n      <td>0</td>\n      <td>1</td>\n      <td>0</td>\n      <td>0</td>\n      <td>...</td>\n      <td>0</td>\n      <td>1</td>\n      <td>0</td>\n      <td>0</td>\n      <td>1</td>\n      <td>0</td>\n      <td>0</td>\n      <td>-0.288097</td>\n      <td>-0.071492</td>\n      <td>-1.162120</td>\n    </tr>\n    <tr>\n      <th>1</th>\n      <td>0</td>\n      <td>0</td>\n      <td>1</td>\n      <td>0</td>\n      <td>1</td>\n      <td>0</td>\n      <td>1</td>\n      <td>0</td>\n      <td>0</td>\n      <td>0</td>\n      <td>...</td>\n      <td>0</td>\n      <td>0</td>\n      <td>0</td>\n      <td>0</td>\n      <td>0</td>\n      <td>1</td>\n      <td>0</td>\n      <td>-0.318603</td>\n      <td>0.286883</td>\n      <td>1.711148</td>\n    </tr>\n    <tr>\n      <th>2</th>\n      <td>0</td>\n      <td>0</td>\n      <td>0</td>\n      <td>0</td>\n      <td>1</td>\n      <td>0</td>\n      <td>0</td>\n      <td>0</td>\n      <td>0</td>\n      <td>1</td>\n      <td>...</td>\n      <td>0</td>\n      <td>1</td>\n      <td>0</td>\n      <td>0</td>\n      <td>0</td>\n      <td>0</td>\n      <td>1</td>\n      <td>-0.168848</td>\n      <td>-1.462595</td>\n      <td>-1.745753</td>\n    </tr>\n    <tr>\n      <th>3</th>\n      <td>0</td>\n      <td>0</td>\n      <td>1</td>\n      <td>0</td>\n      <td>1</td>\n      <td>0</td>\n      <td>0</td>\n      <td>1</td>\n      <td>0</td>\n      <td>0</td>\n      <td>...</td>\n      <td>0</td>\n      <td>0</td>\n      <td>0</td>\n      <td>0</td>\n      <td>1</td>\n      <td>0</td>\n      <td>0</td>\n      <td>-0.288311</td>\n      <td>-0.871045</td>\n      <td>1.711148</td>\n    </tr>\n    <tr>\n      <th>4</th>\n      <td>0</td>\n      <td>0</td>\n      <td>0</td>\n      <td>0</td>\n      <td>1</td>\n      <td>0</td>\n      <td>0</td>\n      <td>0</td>\n      <td>0</td>\n      <td>1</td>\n      <td>...</td>\n      <td>0</td>\n      <td>0</td>\n      <td>0</td>\n      <td>0</td>\n      <td>1</td>\n      <td>0</td>\n      <td>0</td>\n      <td>-0.527022</td>\n      <td>1.960843</td>\n      <td>-1.162120</td>\n    </tr>\n    <tr>\n      <th>...</th>\n      <td>...</td>\n      <td>...</td>\n      <td>...</td>\n      <td>...</td>\n      <td>...</td>\n      <td>...</td>\n      <td>...</td>\n      <td>...</td>\n      <td>...</td>\n      <td>...</td>\n      <td>...</td>\n      <td>...</td>\n      <td>...</td>\n      <td>...</td>\n      <td>...</td>\n      <td>...</td>\n      <td>...</td>\n      <td>...</td>\n      <td>...</td>\n      <td>...</td>\n      <td>...</td>\n    </tr>\n    <tr>\n      <th>495</th>\n      <td>0</td>\n      <td>0</td>\n      <td>1</td>\n      <td>1</td>\n      <td>0</td>\n      <td>0</td>\n      <td>1</td>\n      <td>0</td>\n      <td>0</td>\n      <td>0</td>\n      <td>...</td>\n      <td>0</td>\n      <td>0</td>\n      <td>1</td>\n      <td>0</td>\n      <td>0</td>\n      <td>0</td>\n      <td>0</td>\n      <td>-0.459611</td>\n      <td>-0.619321</td>\n      <td>-0.892751</td>\n    </tr>\n    <tr>\n      <th>496</th>\n      <td>0</td>\n      <td>0</td>\n      <td>1</td>\n      <td>0</td>\n      <td>1</td>\n      <td>0</td>\n      <td>0</td>\n      <td>0</td>\n      <td>0</td>\n      <td>1</td>\n      <td>...</td>\n      <td>0</td>\n      <td>1</td>\n      <td>0</td>\n      <td>0</td>\n      <td>1</td>\n      <td>0</td>\n      <td>0</td>\n      <td>-0.678697</td>\n      <td>0.009987</td>\n      <td>0.454093</td>\n    </tr>\n    <tr>\n      <th>497</th>\n      <td>0</td>\n      <td>0</td>\n      <td>1</td>\n      <td>1</td>\n      <td>0</td>\n      <td>0</td>\n      <td>0</td>\n      <td>1</td>\n      <td>0</td>\n      <td>0</td>\n      <td>...</td>\n      <td>0</td>\n      <td>0</td>\n      <td>0</td>\n      <td>0</td>\n      <td>1</td>\n      <td>0</td>\n      <td>0</td>\n      <td>-0.898210</td>\n      <td>0.463089</td>\n      <td>0.633672</td>\n    </tr>\n    <tr>\n      <th>498</th>\n      <td>0</td>\n      <td>0</td>\n      <td>1</td>\n      <td>1</td>\n      <td>0</td>\n      <td>0</td>\n      <td>0</td>\n      <td>1</td>\n      <td>0</td>\n      <td>0</td>\n      <td>...</td>\n      <td>0</td>\n      <td>0</td>\n      <td>0</td>\n      <td>0</td>\n      <td>1</td>\n      <td>0</td>\n      <td>0</td>\n      <td>-0.608726</td>\n      <td>0.221938</td>\n      <td>0.454093</td>\n    </tr>\n    <tr>\n      <th>499</th>\n      <td>0</td>\n      <td>0</td>\n      <td>0</td>\n      <td>1</td>\n      <td>0</td>\n      <td>0</td>\n      <td>0</td>\n      <td>1</td>\n      <td>0</td>\n      <td>0</td>\n      <td>...</td>\n      <td>0</td>\n      <td>1</td>\n      <td>0</td>\n      <td>0</td>\n      <td>0</td>\n      <td>0</td>\n      <td>1</td>\n      <td>-0.075838</td>\n      <td>-1.450009</td>\n      <td>-1.835542</td>\n    </tr>\n  </tbody>\n</table>\n<p>500 rows × 25 columns</p>\n</div>"
     },
     "metadata": {},
     "execution_count": 32
    }
   ],
   "source": [
    "df = df.reset_index(drop=True)\n",
    "df = df.merge(scaled, left_index=True, right_index=True, how = \"left\")\n",
    "df"
   ]
  },
  {
   "cell_type": "code",
   "execution_count": 33,
   "metadata": {},
   "outputs": [
    {
     "output_type": "execute_result",
     "data": {
      "text/plain": [
       "                                Total  Percent\n",
       "age                                 0      0.0\n",
       "smoking_status_formerly smoked      0      0.0\n",
       "heart_disease                       0      0.0\n",
       "ever_married                        0      0.0\n",
       "gender_Female                       0      0.0\n",
       "gender_Male                         0      0.0\n",
       "gender_Other                        0      0.0\n",
       "blood_A                             0      0.0\n",
       "blood_AB                            0      0.0\n",
       "blood_B                             0      0.0\n",
       "blood_O                             0      0.0\n",
       "smoking_status_Unknown              0      0.0\n",
       "smoking_status_never smoked         0      0.0\n",
       "bmi                                 0      0.0\n",
       "smoking_status_smokes               0      0.0\n",
       "Residence_type_Rural                0      0.0\n",
       "Residence_type_Unknown              0      0.0\n",
       "Residence_type_Urban                0      0.0\n",
       "work_type_Govt_job                  0      0.0\n",
       "work_type_Never_worked              0      0.0\n",
       "work_type_Private                   0      0.0\n",
       "work_type_Self-employed             0      0.0\n",
       "work_type_children                  0      0.0\n",
       "avg_glucose_level                   0      0.0\n",
       "hypertension                        0      0.0"
      ],
      "text/html": "<div>\n<style scoped>\n    .dataframe tbody tr th:only-of-type {\n        vertical-align: middle;\n    }\n\n    .dataframe tbody tr th {\n        vertical-align: top;\n    }\n\n    .dataframe thead th {\n        text-align: right;\n    }\n</style>\n<table border=\"1\" class=\"dataframe\">\n  <thead>\n    <tr style=\"text-align: right;\">\n      <th></th>\n      <th>Total</th>\n      <th>Percent</th>\n    </tr>\n  </thead>\n  <tbody>\n    <tr>\n      <th>age</th>\n      <td>0</td>\n      <td>0.0</td>\n    </tr>\n    <tr>\n      <th>smoking_status_formerly smoked</th>\n      <td>0</td>\n      <td>0.0</td>\n    </tr>\n    <tr>\n      <th>heart_disease</th>\n      <td>0</td>\n      <td>0.0</td>\n    </tr>\n    <tr>\n      <th>ever_married</th>\n      <td>0</td>\n      <td>0.0</td>\n    </tr>\n    <tr>\n      <th>gender_Female</th>\n      <td>0</td>\n      <td>0.0</td>\n    </tr>\n    <tr>\n      <th>gender_Male</th>\n      <td>0</td>\n      <td>0.0</td>\n    </tr>\n    <tr>\n      <th>gender_Other</th>\n      <td>0</td>\n      <td>0.0</td>\n    </tr>\n    <tr>\n      <th>blood_A</th>\n      <td>0</td>\n      <td>0.0</td>\n    </tr>\n    <tr>\n      <th>blood_AB</th>\n      <td>0</td>\n      <td>0.0</td>\n    </tr>\n    <tr>\n      <th>blood_B</th>\n      <td>0</td>\n      <td>0.0</td>\n    </tr>\n    <tr>\n      <th>blood_O</th>\n      <td>0</td>\n      <td>0.0</td>\n    </tr>\n    <tr>\n      <th>smoking_status_Unknown</th>\n      <td>0</td>\n      <td>0.0</td>\n    </tr>\n    <tr>\n      <th>smoking_status_never smoked</th>\n      <td>0</td>\n      <td>0.0</td>\n    </tr>\n    <tr>\n      <th>bmi</th>\n      <td>0</td>\n      <td>0.0</td>\n    </tr>\n    <tr>\n      <th>smoking_status_smokes</th>\n      <td>0</td>\n      <td>0.0</td>\n    </tr>\n    <tr>\n      <th>Residence_type_Rural</th>\n      <td>0</td>\n      <td>0.0</td>\n    </tr>\n    <tr>\n      <th>Residence_type_Unknown</th>\n      <td>0</td>\n      <td>0.0</td>\n    </tr>\n    <tr>\n      <th>Residence_type_Urban</th>\n      <td>0</td>\n      <td>0.0</td>\n    </tr>\n    <tr>\n      <th>work_type_Govt_job</th>\n      <td>0</td>\n      <td>0.0</td>\n    </tr>\n    <tr>\n      <th>work_type_Never_worked</th>\n      <td>0</td>\n      <td>0.0</td>\n    </tr>\n    <tr>\n      <th>work_type_Private</th>\n      <td>0</td>\n      <td>0.0</td>\n    </tr>\n    <tr>\n      <th>work_type_Self-employed</th>\n      <td>0</td>\n      <td>0.0</td>\n    </tr>\n    <tr>\n      <th>work_type_children</th>\n      <td>0</td>\n      <td>0.0</td>\n    </tr>\n    <tr>\n      <th>avg_glucose_level</th>\n      <td>0</td>\n      <td>0.0</td>\n    </tr>\n    <tr>\n      <th>hypertension</th>\n      <td>0</td>\n      <td>0.0</td>\n    </tr>\n  </tbody>\n</table>\n</div>"
     },
     "metadata": {},
     "execution_count": 33
    }
   ],
   "source": [
    "draw_missing_data_table(df)"
   ]
  },
  {
   "source": [
    "### Reorder the dataframe"
   ],
   "cell_type": "markdown",
   "metadata": {}
  },
  {
   "cell_type": "code",
   "execution_count": 35,
   "metadata": {},
   "outputs": [
    {
     "output_type": "execute_result",
     "data": {
      "text/plain": [
       "   hypertension  heart_disease  ever_married  gender_Female  gender_Male  \\\n",
       "0             0              0             0              1            0   \n",
       "1             0              0             1              0            1   \n",
       "2             0              0             0              0            1   \n",
       "3             0              0             1              0            1   \n",
       "4             0              0             0              0            1   \n",
       "\n",
       "   gender_Other  blood_A  blood_AB  blood_B  blood_O  ...  \\\n",
       "0             0        0         1        0        0  ...   \n",
       "1             0        1         0        0        0  ...   \n",
       "2             0        0         0        0        1  ...   \n",
       "3             0        0         1        0        0  ...   \n",
       "4             0        0         0        0        1  ...   \n",
       "\n",
       "   Residence_type_Unknown  Residence_type_Urban  work_type_Govt_job  \\\n",
       "0                       0                     1                   0   \n",
       "1                       0                     0                   0   \n",
       "2                       0                     1                   0   \n",
       "3                       0                     0                   0   \n",
       "4                       0                     0                   0   \n",
       "\n",
       "   work_type_Never_worked  work_type_Private  work_type_Self-employed  \\\n",
       "0                       0                  1                        0   \n",
       "1                       0                  0                        1   \n",
       "2                       0                  0                        0   \n",
       "3                       0                  1                        0   \n",
       "4                       0                  1                        0   \n",
       "\n",
       "   work_type_children  avg_glucose_level       bmi       age  \n",
       "0                   0          -0.288097 -0.071492 -1.162120  \n",
       "1                   0          -0.318603  0.286883  1.711148  \n",
       "2                   1          -0.168848 -1.462595 -1.745753  \n",
       "3                   0          -0.288311 -0.871045  1.711148  \n",
       "4                   0          -0.527022  1.960843 -1.162120  \n",
       "\n",
       "[5 rows x 25 columns]"
      ],
      "text/html": "<div>\n<style scoped>\n    .dataframe tbody tr th:only-of-type {\n        vertical-align: middle;\n    }\n\n    .dataframe tbody tr th {\n        vertical-align: top;\n    }\n\n    .dataframe thead th {\n        text-align: right;\n    }\n</style>\n<table border=\"1\" class=\"dataframe\">\n  <thead>\n    <tr style=\"text-align: right;\">\n      <th></th>\n      <th>hypertension</th>\n      <th>heart_disease</th>\n      <th>ever_married</th>\n      <th>gender_Female</th>\n      <th>gender_Male</th>\n      <th>gender_Other</th>\n      <th>blood_A</th>\n      <th>blood_AB</th>\n      <th>blood_B</th>\n      <th>blood_O</th>\n      <th>...</th>\n      <th>Residence_type_Unknown</th>\n      <th>Residence_type_Urban</th>\n      <th>work_type_Govt_job</th>\n      <th>work_type_Never_worked</th>\n      <th>work_type_Private</th>\n      <th>work_type_Self-employed</th>\n      <th>work_type_children</th>\n      <th>avg_glucose_level</th>\n      <th>bmi</th>\n      <th>age</th>\n    </tr>\n  </thead>\n  <tbody>\n    <tr>\n      <th>0</th>\n      <td>0</td>\n      <td>0</td>\n      <td>0</td>\n      <td>1</td>\n      <td>0</td>\n      <td>0</td>\n      <td>0</td>\n      <td>1</td>\n      <td>0</td>\n      <td>0</td>\n      <td>...</td>\n      <td>0</td>\n      <td>1</td>\n      <td>0</td>\n      <td>0</td>\n      <td>1</td>\n      <td>0</td>\n      <td>0</td>\n      <td>-0.288097</td>\n      <td>-0.071492</td>\n      <td>-1.162120</td>\n    </tr>\n    <tr>\n      <th>1</th>\n      <td>0</td>\n      <td>0</td>\n      <td>1</td>\n      <td>0</td>\n      <td>1</td>\n      <td>0</td>\n      <td>1</td>\n      <td>0</td>\n      <td>0</td>\n      <td>0</td>\n      <td>...</td>\n      <td>0</td>\n      <td>0</td>\n      <td>0</td>\n      <td>0</td>\n      <td>0</td>\n      <td>1</td>\n      <td>0</td>\n      <td>-0.318603</td>\n      <td>0.286883</td>\n      <td>1.711148</td>\n    </tr>\n    <tr>\n      <th>2</th>\n      <td>0</td>\n      <td>0</td>\n      <td>0</td>\n      <td>0</td>\n      <td>1</td>\n      <td>0</td>\n      <td>0</td>\n      <td>0</td>\n      <td>0</td>\n      <td>1</td>\n      <td>...</td>\n      <td>0</td>\n      <td>1</td>\n      <td>0</td>\n      <td>0</td>\n      <td>0</td>\n      <td>0</td>\n      <td>1</td>\n      <td>-0.168848</td>\n      <td>-1.462595</td>\n      <td>-1.745753</td>\n    </tr>\n    <tr>\n      <th>3</th>\n      <td>0</td>\n      <td>0</td>\n      <td>1</td>\n      <td>0</td>\n      <td>1</td>\n      <td>0</td>\n      <td>0</td>\n      <td>1</td>\n      <td>0</td>\n      <td>0</td>\n      <td>...</td>\n      <td>0</td>\n      <td>0</td>\n      <td>0</td>\n      <td>0</td>\n      <td>1</td>\n      <td>0</td>\n      <td>0</td>\n      <td>-0.288311</td>\n      <td>-0.871045</td>\n      <td>1.711148</td>\n    </tr>\n    <tr>\n      <th>4</th>\n      <td>0</td>\n      <td>0</td>\n      <td>0</td>\n      <td>0</td>\n      <td>1</td>\n      <td>0</td>\n      <td>0</td>\n      <td>0</td>\n      <td>0</td>\n      <td>1</td>\n      <td>...</td>\n      <td>0</td>\n      <td>0</td>\n      <td>0</td>\n      <td>0</td>\n      <td>1</td>\n      <td>0</td>\n      <td>0</td>\n      <td>-0.527022</td>\n      <td>1.960843</td>\n      <td>-1.162120</td>\n    </tr>\n  </tbody>\n</table>\n<p>5 rows × 25 columns</p>\n</div>"
     },
     "metadata": {},
     "execution_count": 35
    }
   ],
   "source": [
    "df.head()"
   ]
  },
  {
   "cell_type": "code",
   "execution_count": 37,
   "metadata": {},
   "outputs": [
    {
     "output_type": "execute_result",
     "data": {
      "text/plain": [
       "Index(['hypertension', 'heart_disease', 'ever_married', 'gender_Female',\n",
       "       'gender_Male', 'gender_Other', 'blood_A', 'blood_AB', 'blood_B',\n",
       "       'blood_O', 'smoking_status_Unknown', 'smoking_status_formerly smoked',\n",
       "       'smoking_status_never smoked', 'smoking_status_smokes',\n",
       "       'Residence_type_Rural', 'Residence_type_Unknown',\n",
       "       'Residence_type_Urban', 'work_type_Govt_job', 'work_type_Never_worked',\n",
       "       'work_type_Private', 'work_type_Self-employed', 'work_type_children',\n",
       "       'avg_glucose_level', 'bmi', 'age'],\n",
       "      dtype='object')"
      ]
     },
     "metadata": {},
     "execution_count": 37
    }
   ],
   "source": [
    "df.columns"
   ]
  },
  {
   "cell_type": "code",
   "execution_count": 34,
   "metadata": {},
   "outputs": [],
   "source": [
    "df.to_csv(\"Dataset/processed_test.csv\")"
   ]
  },
  {
   "cell_type": "code",
   "execution_count": null,
   "metadata": {},
   "outputs": [],
   "source": []
  }
 ]
}