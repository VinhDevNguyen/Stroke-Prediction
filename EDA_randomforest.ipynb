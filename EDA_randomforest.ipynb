{
 "metadata": {
  "language_info": {
   "codemirror_mode": {
    "name": "ipython",
    "version": 3
   },
   "file_extension": ".py",
   "mimetype": "text/x-python",
   "name": "python",
   "nbconvert_exporter": "python",
   "pygments_lexer": "ipython3",
   "version": "3.8.3"
  },
  "orig_nbformat": 2,
  "kernelspec": {
   "name": "myenv",
   "display_name": "myenv",
   "language": "python"
  }
 },
 "nbformat": 4,
 "nbformat_minor": 2,
 "cells": [
  {
   "source": [
    "# Import package"
   ],
   "cell_type": "markdown",
   "metadata": {}
  },
  {
   "cell_type": "code",
   "execution_count": 21,
   "metadata": {},
   "outputs": [],
   "source": [
    "import pandas as pd\n",
    "import sklearn\n",
    "import matplotlib.pyplot as plt\n",
    "import seaborn as sns\n",
    "import numpy as np\n",
    "from sklearn.ensemble import RandomForestClassifier\n",
    "from sklearn.metrics import f1_score, roc_auc_score, confusion_matrix\n",
    "from sklearn.preprocessing import StandardScaler, OneHotEncoder\n",
    "from sklearn.model_selection import train_test_split\n",
    "from imblearn.over_sampling import SMOTE"
   ]
  },
  {
   "cell_type": "code",
   "execution_count": 22,
   "metadata": {},
   "outputs": [],
   "source": [
    "df = pd.read_csv(\"./Dataset/processed_train.csv\")"
   ]
  },
  {
   "cell_type": "code",
   "execution_count": 23,
   "metadata": {},
   "outputs": [
    {
     "output_type": "execute_result",
     "data": {
      "text/plain": [
       "      hypertension  heart_disease  ever_married  stroke  gender_Female  \\\n",
       "0                0              0             0       0              1   \n",
       "1                0              0             1       0              0   \n",
       "2                0              0             0       0              1   \n",
       "3                0              0             1       0              1   \n",
       "4                0              0             0       0              1   \n",
       "...            ...            ...           ...     ...            ...   \n",
       "3904             0              0             1       0              1   \n",
       "3905             0              0             1       0              1   \n",
       "3906             0              0             0       0              0   \n",
       "3907             0              0             1       0              0   \n",
       "3908             1              0             1       1              1   \n",
       "\n",
       "      gender_Male  gender_Other  blood_A  blood_AB  blood_B  ...  \\\n",
       "0               0             0        0         0        0  ...   \n",
       "1               1             0        0         0        1  ...   \n",
       "2               0             0        0         0        1  ...   \n",
       "3               0             0        0         0        0  ...   \n",
       "4               0             0        0         0        1  ...   \n",
       "...           ...           ...      ...       ...      ...  ...   \n",
       "3904            0             0        0         0        0  ...   \n",
       "3905            0             0        0         0        1  ...   \n",
       "3906            1             0        0         0        1  ...   \n",
       "3907            1             0        0         0        1  ...   \n",
       "3908            0             0        0         0        0  ...   \n",
       "\n",
       "      Residence_type_Unknown  Residence_type_Urban  work_type_Govt_job  \\\n",
       "0                          1                     0                   0   \n",
       "1                          0                     1                   0   \n",
       "2                          1                     0                   0   \n",
       "3                          1                     0                   0   \n",
       "4                          0                     1                   0   \n",
       "...                      ...                   ...                 ...   \n",
       "3904                       1                     0                   0   \n",
       "3905                       1                     0                   0   \n",
       "3906                       1                     0                   0   \n",
       "3907                       0                     0                   0   \n",
       "3908                       0                     1                   0   \n",
       "\n",
       "      work_type_Never_worked  work_type_Private  work_type_Self-employed  \\\n",
       "0                          0                  0                        0   \n",
       "1                          0                  1                        0   \n",
       "2                          0                  1                        0   \n",
       "3                          0                  1                        0   \n",
       "4                          0                  1                        0   \n",
       "...                      ...                ...                      ...   \n",
       "3904                       0                  1                        0   \n",
       "3905                       0                  1                        0   \n",
       "3906                       0                  1                        0   \n",
       "3907                       0                  1                        0   \n",
       "3908                       0                  1                        0   \n",
       "\n",
       "      work_type_children  avg_glucose_level       bmi       age  \n",
       "0                      1          -0.454391 -1.632301  0.000364  \n",
       "1                      0          -0.377299  0.528038  0.535819  \n",
       "2                      0          -0.162540 -1.649074 -0.047722  \n",
       "3                      0          -0.325215  0.450906 -0.227273  \n",
       "4                      0          -0.185025 -0.357567 -0.855701  \n",
       "...                  ...                ...       ...       ...  \n",
       "3904                   0          -0.909377  0.528038  0.715369  \n",
       "3905                   0          -0.833202  0.528038  0.401155  \n",
       "3906                   0          -0.140513 -1.062025 -1.214803  \n",
       "3907                   0          -0.695536 -0.558841  0.176717  \n",
       "3908                   0          -0.988076  0.330119  0.446043  \n",
       "\n",
       "[3909 rows x 26 columns]"
      ],
      "text/html": "<div>\n<style scoped>\n    .dataframe tbody tr th:only-of-type {\n        vertical-align: middle;\n    }\n\n    .dataframe tbody tr th {\n        vertical-align: top;\n    }\n\n    .dataframe thead th {\n        text-align: right;\n    }\n</style>\n<table border=\"1\" class=\"dataframe\">\n  <thead>\n    <tr style=\"text-align: right;\">\n      <th></th>\n      <th>hypertension</th>\n      <th>heart_disease</th>\n      <th>ever_married</th>\n      <th>stroke</th>\n      <th>gender_Female</th>\n      <th>gender_Male</th>\n      <th>gender_Other</th>\n      <th>blood_A</th>\n      <th>blood_AB</th>\n      <th>blood_B</th>\n      <th>...</th>\n      <th>Residence_type_Unknown</th>\n      <th>Residence_type_Urban</th>\n      <th>work_type_Govt_job</th>\n      <th>work_type_Never_worked</th>\n      <th>work_type_Private</th>\n      <th>work_type_Self-employed</th>\n      <th>work_type_children</th>\n      <th>avg_glucose_level</th>\n      <th>bmi</th>\n      <th>age</th>\n    </tr>\n  </thead>\n  <tbody>\n    <tr>\n      <th>0</th>\n      <td>0</td>\n      <td>0</td>\n      <td>0</td>\n      <td>0</td>\n      <td>1</td>\n      <td>0</td>\n      <td>0</td>\n      <td>0</td>\n      <td>0</td>\n      <td>0</td>\n      <td>...</td>\n      <td>1</td>\n      <td>0</td>\n      <td>0</td>\n      <td>0</td>\n      <td>0</td>\n      <td>0</td>\n      <td>1</td>\n      <td>-0.454391</td>\n      <td>-1.632301</td>\n      <td>0.000364</td>\n    </tr>\n    <tr>\n      <th>1</th>\n      <td>0</td>\n      <td>0</td>\n      <td>1</td>\n      <td>0</td>\n      <td>0</td>\n      <td>1</td>\n      <td>0</td>\n      <td>0</td>\n      <td>0</td>\n      <td>1</td>\n      <td>...</td>\n      <td>0</td>\n      <td>1</td>\n      <td>0</td>\n      <td>0</td>\n      <td>1</td>\n      <td>0</td>\n      <td>0</td>\n      <td>-0.377299</td>\n      <td>0.528038</td>\n      <td>0.535819</td>\n    </tr>\n    <tr>\n      <th>2</th>\n      <td>0</td>\n      <td>0</td>\n      <td>0</td>\n      <td>0</td>\n      <td>1</td>\n      <td>0</td>\n      <td>0</td>\n      <td>0</td>\n      <td>0</td>\n      <td>1</td>\n      <td>...</td>\n      <td>1</td>\n      <td>0</td>\n      <td>0</td>\n      <td>0</td>\n      <td>1</td>\n      <td>0</td>\n      <td>0</td>\n      <td>-0.162540</td>\n      <td>-1.649074</td>\n      <td>-0.047722</td>\n    </tr>\n    <tr>\n      <th>3</th>\n      <td>0</td>\n      <td>0</td>\n      <td>1</td>\n      <td>0</td>\n      <td>1</td>\n      <td>0</td>\n      <td>0</td>\n      <td>0</td>\n      <td>0</td>\n      <td>0</td>\n      <td>...</td>\n      <td>1</td>\n      <td>0</td>\n      <td>0</td>\n      <td>0</td>\n      <td>1</td>\n      <td>0</td>\n      <td>0</td>\n      <td>-0.325215</td>\n      <td>0.450906</td>\n      <td>-0.227273</td>\n    </tr>\n    <tr>\n      <th>4</th>\n      <td>0</td>\n      <td>0</td>\n      <td>0</td>\n      <td>0</td>\n      <td>1</td>\n      <td>0</td>\n      <td>0</td>\n      <td>0</td>\n      <td>0</td>\n      <td>1</td>\n      <td>...</td>\n      <td>0</td>\n      <td>1</td>\n      <td>0</td>\n      <td>0</td>\n      <td>1</td>\n      <td>0</td>\n      <td>0</td>\n      <td>-0.185025</td>\n      <td>-0.357567</td>\n      <td>-0.855701</td>\n    </tr>\n    <tr>\n      <th>...</th>\n      <td>...</td>\n      <td>...</td>\n      <td>...</td>\n      <td>...</td>\n      <td>...</td>\n      <td>...</td>\n      <td>...</td>\n      <td>...</td>\n      <td>...</td>\n      <td>...</td>\n      <td>...</td>\n      <td>...</td>\n      <td>...</td>\n      <td>...</td>\n      <td>...</td>\n      <td>...</td>\n      <td>...</td>\n      <td>...</td>\n      <td>...</td>\n      <td>...</td>\n      <td>...</td>\n    </tr>\n    <tr>\n      <th>3904</th>\n      <td>0</td>\n      <td>0</td>\n      <td>1</td>\n      <td>0</td>\n      <td>1</td>\n      <td>0</td>\n      <td>0</td>\n      <td>0</td>\n      <td>0</td>\n      <td>0</td>\n      <td>...</td>\n      <td>1</td>\n      <td>0</td>\n      <td>0</td>\n      <td>0</td>\n      <td>1</td>\n      <td>0</td>\n      <td>0</td>\n      <td>-0.909377</td>\n      <td>0.528038</td>\n      <td>0.715369</td>\n    </tr>\n    <tr>\n      <th>3905</th>\n      <td>0</td>\n      <td>0</td>\n      <td>1</td>\n      <td>0</td>\n      <td>1</td>\n      <td>0</td>\n      <td>0</td>\n      <td>0</td>\n      <td>0</td>\n      <td>1</td>\n      <td>...</td>\n      <td>1</td>\n      <td>0</td>\n      <td>0</td>\n      <td>0</td>\n      <td>1</td>\n      <td>0</td>\n      <td>0</td>\n      <td>-0.833202</td>\n      <td>0.528038</td>\n      <td>0.401155</td>\n    </tr>\n    <tr>\n      <th>3906</th>\n      <td>0</td>\n      <td>0</td>\n      <td>0</td>\n      <td>0</td>\n      <td>0</td>\n      <td>1</td>\n      <td>0</td>\n      <td>0</td>\n      <td>0</td>\n      <td>1</td>\n      <td>...</td>\n      <td>1</td>\n      <td>0</td>\n      <td>0</td>\n      <td>0</td>\n      <td>1</td>\n      <td>0</td>\n      <td>0</td>\n      <td>-0.140513</td>\n      <td>-1.062025</td>\n      <td>-1.214803</td>\n    </tr>\n    <tr>\n      <th>3907</th>\n      <td>0</td>\n      <td>0</td>\n      <td>1</td>\n      <td>0</td>\n      <td>0</td>\n      <td>1</td>\n      <td>0</td>\n      <td>0</td>\n      <td>0</td>\n      <td>1</td>\n      <td>...</td>\n      <td>0</td>\n      <td>0</td>\n      <td>0</td>\n      <td>0</td>\n      <td>1</td>\n      <td>0</td>\n      <td>0</td>\n      <td>-0.695536</td>\n      <td>-0.558841</td>\n      <td>0.176717</td>\n    </tr>\n    <tr>\n      <th>3908</th>\n      <td>1</td>\n      <td>0</td>\n      <td>1</td>\n      <td>1</td>\n      <td>1</td>\n      <td>0</td>\n      <td>0</td>\n      <td>0</td>\n      <td>0</td>\n      <td>0</td>\n      <td>...</td>\n      <td>0</td>\n      <td>1</td>\n      <td>0</td>\n      <td>0</td>\n      <td>1</td>\n      <td>0</td>\n      <td>0</td>\n      <td>-0.988076</td>\n      <td>0.330119</td>\n      <td>0.446043</td>\n    </tr>\n  </tbody>\n</table>\n<p>3909 rows × 26 columns</p>\n</div>"
     },
     "metadata": {},
     "execution_count": 23
    }
   ],
   "source": [
    "df"
   ]
  },
  {
   "cell_type": "code",
   "execution_count": 24,
   "metadata": {},
   "outputs": [],
   "source": [
    "x = df.copy()\n",
    "x = x.drop(columns='stroke')\n",
    "y = df['stroke']"
   ]
  },
  {
   "cell_type": "code",
   "execution_count": 25,
   "metadata": {},
   "outputs": [],
   "source": [
    "smote = SMOTE()\n",
    "x_smote, y_smote = smote.fit_resample(x, y)"
   ]
  },
  {
   "cell_type": "code",
   "execution_count": 26,
   "metadata": {},
   "outputs": [],
   "source": [
    "x_train, x_test, y_train, y_test = train_test_split(x_smote, y_smote, test_size= 0.2, random_state= 42)"
   ]
  },
  {
   "cell_type": "code",
   "execution_count": 27,
   "metadata": {},
   "outputs": [
    {
     "output_type": "stream",
     "name": "stdout",
     "text": [
      "6052\n6052\n1514\n1514\n"
     ]
    }
   ],
   "source": [
    "print(len(x_train))\n",
    "print(len(y_train))\n",
    "print(len(x_test))\n",
    "print(len(y_test))"
   ]
  },
  {
   "source": [
    "## Training Model"
   ],
   "cell_type": "markdown",
   "metadata": {}
  },
  {
   "cell_type": "code",
   "execution_count": 28,
   "metadata": {},
   "outputs": [
    {
     "output_type": "execute_result",
     "data": {
      "text/plain": [
       "stroke                            1.000000\n",
       "blood_O                           0.206690\n",
       "age                               0.192354\n",
       "Residence_type_Urban              0.116430\n",
       "avg_glucose_level                 0.102858\n",
       "heart_disease                     0.095742\n",
       "ever_married                      0.087278\n",
       "Residence_type_Rural              0.070189\n",
       "hypertension                      0.064028\n",
       "smoking_status_formerly smoked    0.051671\n",
       "bmi                               0.037239\n",
       "work_type_Self-employed           0.024138\n",
       "work_type_Private                 0.022925\n",
       "work_type_Govt_job                0.017460\n",
       "gender_Male                       0.012944\n",
       "smoking_status_smokes             0.006403\n",
       "gender_Other                      0.001244\n",
       "smoking_status_never smoked      -0.003192\n",
       "work_type_Never_worked           -0.012062\n",
       "gender_Female                    -0.013280\n",
       "blood_A                          -0.037011\n",
       "smoking_status_Unknown           -0.043779\n",
       "blood_B                          -0.047782\n",
       "work_type_children               -0.072987\n",
       "blood_AB                         -0.095569\n",
       "Residence_type_Unknown           -0.161897\n",
       "Name: stroke, dtype: float64"
      ]
     },
     "metadata": {},
     "execution_count": 28
    }
   ],
   "source": [
    "df.corr()['stroke'].sort_values(ascending=False)"
   ]
  },
  {
   "source": [
    "## smoking_status"
   ],
   "cell_type": "markdown",
   "metadata": {}
  },
  {
   "cell_type": "code",
   "execution_count": 29,
   "metadata": {},
   "outputs": [
    {
     "output_type": "execute_result",
     "data": {
      "text/plain": [
       "array([1, 0, 0, ..., 0, 1, 0], dtype=int64)"
      ]
     },
     "metadata": {},
     "execution_count": 29
    }
   ],
   "source": [
    "randomFor = RandomForestClassifier()\n",
    "randomFor.fit(x_train,y_train)\n",
    "y_randomFor_pred = randomFor.predict(x_test)\n",
    "y_randomFor_pred"
   ]
  },
  {
   "cell_type": "code",
   "execution_count": 30,
   "metadata": {},
   "outputs": [
    {
     "output_type": "execute_result",
     "data": {
      "text/plain": [
       "array([[762,   9],\n",
       "       [  8, 735]], dtype=int64)"
      ]
     },
     "metadata": {},
     "execution_count": 30
    }
   ],
   "source": [
    "cm = confusion_matrix(y_test, y_randomFor_pred)\n",
    "cm"
   ]
  },
  {
   "cell_type": "code",
   "execution_count": 31,
   "metadata": {},
   "outputs": [
    {
     "output_type": "stream",
     "name": "stdout",
     "text": [
      "0.988567585743107\n0.9887714663143989\n"
     ]
    }
   ],
   "source": [
    "tn = cm[0,0]\n",
    "fp = cm[0,1]\n",
    "tp = cm[1,1]\n",
    "fn = cm[1,0]\n",
    "accuracy  = (tp + tn) / (tp + fp + tn + fn)\n",
    "precision = tp / (tp + fp)\n",
    "recall    = tp / (tp + fn)\n",
    "f1score  = 2 * precision * recall / (precision + recall)\n",
    "print(f1score)\n",
    "print(accuracy)"
   ]
  },
  {
   "source": [
    "## Test Submission"
   ],
   "cell_type": "markdown",
   "metadata": {}
  },
  {
   "cell_type": "code",
   "execution_count": 32,
   "metadata": {},
   "outputs": [
    {
     "output_type": "execute_result",
     "data": {
      "text/plain": [
       "     Unnamed: 0     id  hypertension  heart_disease  ever_married  \\\n",
       "0             0     67             0              0             0   \n",
       "1             1    210             0              0             1   \n",
       "2             2    242             0              0             0   \n",
       "3             3    711             0              0             1   \n",
       "4             4    724             0              0             0   \n",
       "..          ...    ...           ...            ...           ...   \n",
       "495         495  72393             0              0             1   \n",
       "496         496  72491             0              0             1   \n",
       "497         497  72562             0              0             1   \n",
       "498         498  72792             0              0             1   \n",
       "499         499  72940             0              0             0   \n",
       "\n",
       "     gender_Female  gender_Male  gender_Other  blood_A  blood_AB  ...  \\\n",
       "0                1            0             0        0         1  ...   \n",
       "1                0            1             0        1         0  ...   \n",
       "2                0            1             0        0         0  ...   \n",
       "3                0            1             0        0         1  ...   \n",
       "4                0            1             0        0         0  ...   \n",
       "..             ...          ...           ...      ...       ...  ...   \n",
       "495              1            0             0        1         0  ...   \n",
       "496              0            1             0        0         0  ...   \n",
       "497              1            0             0        0         1  ...   \n",
       "498              1            0             0        0         1  ...   \n",
       "499              1            0             0        0         1  ...   \n",
       "\n",
       "     Residence_type_Unknown  Residence_type_Urban  work_type_Govt_job  \\\n",
       "0                         0                     1                   0   \n",
       "1                         0                     0                   0   \n",
       "2                         0                     1                   0   \n",
       "3                         0                     0                   0   \n",
       "4                         0                     0                   0   \n",
       "..                      ...                   ...                 ...   \n",
       "495                       0                     0                   1   \n",
       "496                       0                     1                   0   \n",
       "497                       0                     0                   0   \n",
       "498                       0                     0                   0   \n",
       "499                       0                     1                   0   \n",
       "\n",
       "     work_type_Never_worked  work_type_Private  work_type_Self-employed  \\\n",
       "0                         0                  1                        0   \n",
       "1                         0                  0                        1   \n",
       "2                         0                  0                        0   \n",
       "3                         0                  1                        0   \n",
       "4                         0                  1                        0   \n",
       "..                      ...                ...                      ...   \n",
       "495                       0                  0                        0   \n",
       "496                       0                  1                        0   \n",
       "497                       0                  1                        0   \n",
       "498                       0                  1                        0   \n",
       "499                       0                  0                        0   \n",
       "\n",
       "     work_type_children  avg_glucose_level       bmi       age  \n",
       "0                     0          -0.288097 -0.071492 -1.162120  \n",
       "1                     0          -0.318603  0.286883  1.711148  \n",
       "2                     1          -0.168848 -1.462595 -1.745753  \n",
       "3                     0          -0.288311 -0.871045  1.711148  \n",
       "4                     0          -0.527022  1.960843 -1.162120  \n",
       "..                  ...                ...       ...       ...  \n",
       "495                   0          -0.459611 -0.619321 -0.892751  \n",
       "496                   0          -0.678697  0.009987  0.454093  \n",
       "497                   0          -0.898210  0.463089  0.633672  \n",
       "498                   0          -0.608726  0.221938  0.454093  \n",
       "499                   1          -0.075838 -1.450009 -1.835542  \n",
       "\n",
       "[500 rows x 27 columns]"
      ],
      "text/html": "<div>\n<style scoped>\n    .dataframe tbody tr th:only-of-type {\n        vertical-align: middle;\n    }\n\n    .dataframe tbody tr th {\n        vertical-align: top;\n    }\n\n    .dataframe thead th {\n        text-align: right;\n    }\n</style>\n<table border=\"1\" class=\"dataframe\">\n  <thead>\n    <tr style=\"text-align: right;\">\n      <th></th>\n      <th>Unnamed: 0</th>\n      <th>id</th>\n      <th>hypertension</th>\n      <th>heart_disease</th>\n      <th>ever_married</th>\n      <th>gender_Female</th>\n      <th>gender_Male</th>\n      <th>gender_Other</th>\n      <th>blood_A</th>\n      <th>blood_AB</th>\n      <th>...</th>\n      <th>Residence_type_Unknown</th>\n      <th>Residence_type_Urban</th>\n      <th>work_type_Govt_job</th>\n      <th>work_type_Never_worked</th>\n      <th>work_type_Private</th>\n      <th>work_type_Self-employed</th>\n      <th>work_type_children</th>\n      <th>avg_glucose_level</th>\n      <th>bmi</th>\n      <th>age</th>\n    </tr>\n  </thead>\n  <tbody>\n    <tr>\n      <th>0</th>\n      <td>0</td>\n      <td>67</td>\n      <td>0</td>\n      <td>0</td>\n      <td>0</td>\n      <td>1</td>\n      <td>0</td>\n      <td>0</td>\n      <td>0</td>\n      <td>1</td>\n      <td>...</td>\n      <td>0</td>\n      <td>1</td>\n      <td>0</td>\n      <td>0</td>\n      <td>1</td>\n      <td>0</td>\n      <td>0</td>\n      <td>-0.288097</td>\n      <td>-0.071492</td>\n      <td>-1.162120</td>\n    </tr>\n    <tr>\n      <th>1</th>\n      <td>1</td>\n      <td>210</td>\n      <td>0</td>\n      <td>0</td>\n      <td>1</td>\n      <td>0</td>\n      <td>1</td>\n      <td>0</td>\n      <td>1</td>\n      <td>0</td>\n      <td>...</td>\n      <td>0</td>\n      <td>0</td>\n      <td>0</td>\n      <td>0</td>\n      <td>0</td>\n      <td>1</td>\n      <td>0</td>\n      <td>-0.318603</td>\n      <td>0.286883</td>\n      <td>1.711148</td>\n    </tr>\n    <tr>\n      <th>2</th>\n      <td>2</td>\n      <td>242</td>\n      <td>0</td>\n      <td>0</td>\n      <td>0</td>\n      <td>0</td>\n      <td>1</td>\n      <td>0</td>\n      <td>0</td>\n      <td>0</td>\n      <td>...</td>\n      <td>0</td>\n      <td>1</td>\n      <td>0</td>\n      <td>0</td>\n      <td>0</td>\n      <td>0</td>\n      <td>1</td>\n      <td>-0.168848</td>\n      <td>-1.462595</td>\n      <td>-1.745753</td>\n    </tr>\n    <tr>\n      <th>3</th>\n      <td>3</td>\n      <td>711</td>\n      <td>0</td>\n      <td>0</td>\n      <td>1</td>\n      <td>0</td>\n      <td>1</td>\n      <td>0</td>\n      <td>0</td>\n      <td>1</td>\n      <td>...</td>\n      <td>0</td>\n      <td>0</td>\n      <td>0</td>\n      <td>0</td>\n      <td>1</td>\n      <td>0</td>\n      <td>0</td>\n      <td>-0.288311</td>\n      <td>-0.871045</td>\n      <td>1.711148</td>\n    </tr>\n    <tr>\n      <th>4</th>\n      <td>4</td>\n      <td>724</td>\n      <td>0</td>\n      <td>0</td>\n      <td>0</td>\n      <td>0</td>\n      <td>1</td>\n      <td>0</td>\n      <td>0</td>\n      <td>0</td>\n      <td>...</td>\n      <td>0</td>\n      <td>0</td>\n      <td>0</td>\n      <td>0</td>\n      <td>1</td>\n      <td>0</td>\n      <td>0</td>\n      <td>-0.527022</td>\n      <td>1.960843</td>\n      <td>-1.162120</td>\n    </tr>\n    <tr>\n      <th>...</th>\n      <td>...</td>\n      <td>...</td>\n      <td>...</td>\n      <td>...</td>\n      <td>...</td>\n      <td>...</td>\n      <td>...</td>\n      <td>...</td>\n      <td>...</td>\n      <td>...</td>\n      <td>...</td>\n      <td>...</td>\n      <td>...</td>\n      <td>...</td>\n      <td>...</td>\n      <td>...</td>\n      <td>...</td>\n      <td>...</td>\n      <td>...</td>\n      <td>...</td>\n      <td>...</td>\n    </tr>\n    <tr>\n      <th>495</th>\n      <td>495</td>\n      <td>72393</td>\n      <td>0</td>\n      <td>0</td>\n      <td>1</td>\n      <td>1</td>\n      <td>0</td>\n      <td>0</td>\n      <td>1</td>\n      <td>0</td>\n      <td>...</td>\n      <td>0</td>\n      <td>0</td>\n      <td>1</td>\n      <td>0</td>\n      <td>0</td>\n      <td>0</td>\n      <td>0</td>\n      <td>-0.459611</td>\n      <td>-0.619321</td>\n      <td>-0.892751</td>\n    </tr>\n    <tr>\n      <th>496</th>\n      <td>496</td>\n      <td>72491</td>\n      <td>0</td>\n      <td>0</td>\n      <td>1</td>\n      <td>0</td>\n      <td>1</td>\n      <td>0</td>\n      <td>0</td>\n      <td>0</td>\n      <td>...</td>\n      <td>0</td>\n      <td>1</td>\n      <td>0</td>\n      <td>0</td>\n      <td>1</td>\n      <td>0</td>\n      <td>0</td>\n      <td>-0.678697</td>\n      <td>0.009987</td>\n      <td>0.454093</td>\n    </tr>\n    <tr>\n      <th>497</th>\n      <td>497</td>\n      <td>72562</td>\n      <td>0</td>\n      <td>0</td>\n      <td>1</td>\n      <td>1</td>\n      <td>0</td>\n      <td>0</td>\n      <td>0</td>\n      <td>1</td>\n      <td>...</td>\n      <td>0</td>\n      <td>0</td>\n      <td>0</td>\n      <td>0</td>\n      <td>1</td>\n      <td>0</td>\n      <td>0</td>\n      <td>-0.898210</td>\n      <td>0.463089</td>\n      <td>0.633672</td>\n    </tr>\n    <tr>\n      <th>498</th>\n      <td>498</td>\n      <td>72792</td>\n      <td>0</td>\n      <td>0</td>\n      <td>1</td>\n      <td>1</td>\n      <td>0</td>\n      <td>0</td>\n      <td>0</td>\n      <td>1</td>\n      <td>...</td>\n      <td>0</td>\n      <td>0</td>\n      <td>0</td>\n      <td>0</td>\n      <td>1</td>\n      <td>0</td>\n      <td>0</td>\n      <td>-0.608726</td>\n      <td>0.221938</td>\n      <td>0.454093</td>\n    </tr>\n    <tr>\n      <th>499</th>\n      <td>499</td>\n      <td>72940</td>\n      <td>0</td>\n      <td>0</td>\n      <td>0</td>\n      <td>1</td>\n      <td>0</td>\n      <td>0</td>\n      <td>0</td>\n      <td>1</td>\n      <td>...</td>\n      <td>0</td>\n      <td>1</td>\n      <td>0</td>\n      <td>0</td>\n      <td>0</td>\n      <td>0</td>\n      <td>1</td>\n      <td>-0.075838</td>\n      <td>-1.450009</td>\n      <td>-1.835542</td>\n    </tr>\n  </tbody>\n</table>\n<p>500 rows × 27 columns</p>\n</div>"
     },
     "metadata": {},
     "execution_count": 32
    }
   ],
   "source": [
    "test_df = pd.read_csv(\"./Dataset/processed_test.csv\")\n",
    "test_df"
   ]
  },
  {
   "cell_type": "code",
   "execution_count": 33,
   "metadata": {},
   "outputs": [],
   "source": [
    "test_df.drop(columns= 'Unnamed: 0', inplace=True)"
   ]
  },
  {
   "cell_type": "code",
   "execution_count": 34,
   "metadata": {},
   "outputs": [],
   "source": [
    "x = test_df.copy()\n",
    "x.drop(columns='id', inplace=True)\n",
    "id_test = test_df['id']"
   ]
  },
  {
   "cell_type": "code",
   "execution_count": 35,
   "metadata": {},
   "outputs": [],
   "source": [
    "y_randomFor_test = randomFor.predict(x)"
   ]
  },
  {
   "cell_type": "code",
   "execution_count": 36,
   "metadata": {},
   "outputs": [
    {
     "output_type": "execute_result",
     "data": {
      "text/plain": [
       "array([0, 0, 0, 0, 0, 0, 0, 0, 0, 0, 0, 0, 0, 0, 0, 0, 0, 1, 0, 0, 0, 0,\n",
       "       0, 0, 0, 0, 0, 0, 0, 0, 0, 0, 0, 0, 0, 0, 0, 0, 1, 0, 0, 0, 0, 0,\n",
       "       0, 0, 0, 0, 0, 0, 1, 0, 0, 1, 0, 0, 0, 0, 0, 0, 0, 0, 0, 0, 0, 0,\n",
       "       0, 1, 0, 0, 1, 1, 0, 0, 0, 0, 0, 0, 0, 0, 0, 1, 0, 0, 0, 0, 0, 0,\n",
       "       1, 0, 0, 0, 0, 0, 0, 0, 0, 0, 1, 0, 0, 1, 0, 0, 0, 0, 0, 0, 0, 1,\n",
       "       0, 0, 0, 0, 0, 1, 0, 0, 0, 1, 0, 0, 0, 0, 0, 0, 0, 0, 0, 0, 0, 0,\n",
       "       0, 1, 1, 0, 0, 0, 0, 0, 0, 0, 0, 0, 0, 0, 0, 0, 0, 0, 0, 0, 0, 0,\n",
       "       0, 0, 0, 0, 0, 0, 0, 0, 0, 0, 1, 0, 0, 0, 0, 0, 0, 1, 0, 0, 0, 0,\n",
       "       0, 0, 1, 0, 1, 0, 0, 0, 0, 0, 0, 0, 0, 0, 0, 0, 0, 0, 0, 0, 0, 0,\n",
       "       1, 0, 0, 0, 0, 0, 0, 0, 0, 0, 1, 0, 1, 0, 0, 0, 1, 0, 0, 0, 0, 0,\n",
       "       0, 0, 0, 0, 0, 0, 0, 0, 0, 0, 0, 0, 0, 1, 0, 0, 0, 0, 0, 0, 0, 0,\n",
       "       0, 0, 0, 0, 1, 0, 0, 1, 1, 0, 0, 0, 0, 1, 0, 0, 0, 1, 0, 0, 0, 0,\n",
       "       0, 0, 0, 0, 1, 0, 0, 0, 0, 0, 0, 0, 0, 0, 0, 0, 0, 0, 0, 1, 0, 0,\n",
       "       0, 1, 0, 1, 0, 0, 0, 0, 0, 0, 0, 0, 0, 0, 0, 1, 0, 0, 0, 0, 0, 0,\n",
       "       0, 0, 1, 1, 0, 0, 0, 0, 0, 0, 0, 0, 0, 0, 0, 0, 0, 0, 0, 0, 1, 0,\n",
       "       0, 1, 0, 0, 0, 1, 0, 0, 0, 0, 0, 0, 0, 0, 0, 0, 1, 0, 0, 0, 0, 0,\n",
       "       0, 0, 0, 0, 0, 1, 0, 0, 0, 0, 1, 0, 0, 0, 0, 0, 0, 0, 0, 0, 0, 0,\n",
       "       0, 0, 0, 0, 1, 0, 0, 0, 0, 0, 0, 1, 0, 0, 0, 0, 0, 1, 0, 0, 0, 0,\n",
       "       1, 0, 1, 0, 0, 1, 0, 0, 0, 0, 0, 0, 1, 1, 0, 0, 0, 0, 0, 0, 0, 0,\n",
       "       0, 1, 0, 0, 0, 1, 0, 0, 0, 0, 0, 0, 1, 0, 1, 0, 0, 0, 0, 1, 0, 0,\n",
       "       0, 0, 0, 0, 0, 0, 0, 1, 0, 0, 0, 0, 0, 0, 0, 1, 0, 0, 0, 0, 0, 0,\n",
       "       0, 1, 0, 0, 0, 1, 0, 0, 1, 0, 0, 0, 0, 0, 0, 0, 0, 0, 0, 0, 0, 1,\n",
       "       0, 1, 0, 0, 0, 0, 0, 0, 1, 0, 0, 0, 1, 0, 0, 0], dtype=int64)"
      ]
     },
     "metadata": {},
     "execution_count": 36
    }
   ],
   "source": [
    "y_randomFor_test"
   ]
  },
  {
   "cell_type": "code",
   "execution_count": 37,
   "metadata": {},
   "outputs": [
    {
     "output_type": "execute_result",
     "data": {
      "text/plain": [
       "        id  stroke\n",
       "0       67       0\n",
       "1      210       0\n",
       "2      242       0\n",
       "3      711       0\n",
       "4      724       0\n",
       "..     ...     ...\n",
       "495  72393       0\n",
       "496  72491       1\n",
       "497  72562       0\n",
       "498  72792       0\n",
       "499  72940       0\n",
       "\n",
       "[500 rows x 2 columns]"
      ],
      "text/html": "<div>\n<style scoped>\n    .dataframe tbody tr th:only-of-type {\n        vertical-align: middle;\n    }\n\n    .dataframe tbody tr th {\n        vertical-align: top;\n    }\n\n    .dataframe thead th {\n        text-align: right;\n    }\n</style>\n<table border=\"1\" class=\"dataframe\">\n  <thead>\n    <tr style=\"text-align: right;\">\n      <th></th>\n      <th>id</th>\n      <th>stroke</th>\n    </tr>\n  </thead>\n  <tbody>\n    <tr>\n      <th>0</th>\n      <td>67</td>\n      <td>0</td>\n    </tr>\n    <tr>\n      <th>1</th>\n      <td>210</td>\n      <td>0</td>\n    </tr>\n    <tr>\n      <th>2</th>\n      <td>242</td>\n      <td>0</td>\n    </tr>\n    <tr>\n      <th>3</th>\n      <td>711</td>\n      <td>0</td>\n    </tr>\n    <tr>\n      <th>4</th>\n      <td>724</td>\n      <td>0</td>\n    </tr>\n    <tr>\n      <th>...</th>\n      <td>...</td>\n      <td>...</td>\n    </tr>\n    <tr>\n      <th>495</th>\n      <td>72393</td>\n      <td>0</td>\n    </tr>\n    <tr>\n      <th>496</th>\n      <td>72491</td>\n      <td>1</td>\n    </tr>\n    <tr>\n      <th>497</th>\n      <td>72562</td>\n      <td>0</td>\n    </tr>\n    <tr>\n      <th>498</th>\n      <td>72792</td>\n      <td>0</td>\n    </tr>\n    <tr>\n      <th>499</th>\n      <td>72940</td>\n      <td>0</td>\n    </tr>\n  </tbody>\n</table>\n<p>500 rows × 2 columns</p>\n</div>"
     },
     "metadata": {},
     "execution_count": 37
    }
   ],
   "source": [
    "data_test_submit = {'id': id_test, 'stroke': y_randomFor_test}\n",
    "df_test_submit = pd.DataFrame(data= data_test_submit)\n",
    "df_test_submit"
   ]
  },
  {
   "cell_type": "code",
   "execution_count": 38,
   "metadata": {},
   "outputs": [],
   "source": [
    "#df_test_submit.to_csv('./Dataset/Submission_randomForest.csv', index= False)"
   ]
  },
  {
   "cell_type": "code",
   "execution_count": 39,
   "metadata": {},
   "outputs": [],
   "source": [
    "from model_utils import save_model, load_model\n",
    "save_model(randomFor, './models/random_forest')"
   ]
  },
  {
   "cell_type": "code",
   "execution_count": null,
   "metadata": {},
   "outputs": [],
   "source": []
  }
 ]
}