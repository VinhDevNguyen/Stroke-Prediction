{
 "metadata": {
  "language_info": {
   "codemirror_mode": {
    "name": "ipython",
    "version": 3
   },
   "file_extension": ".py",
   "mimetype": "text/x-python",
   "name": "python",
   "nbconvert_exporter": "python",
   "pygments_lexer": "ipython3",
   "version": "3.8.5"
  },
  "orig_nbformat": 2,
  "kernelspec": {
   "name": "python385jvsc74a57bd0d9886ceeb2860eaf8a8649d8072db18ad47f45e3f900e1d4079952e890e878b5",
   "display_name": "Python 3.8.5 64-bit ('base': conda)"
  },
  "metadata": {
   "interpreter": {
    "hash": "dcacb0086e9a4f4eabd41c33bf4faac5ea0a3337ed3f5eff0680afa930572c04"
   }
  }
 },
 "nbformat": 4,
 "nbformat_minor": 2,
 "cells": [
  {
   "source": [
    "## Import package"
   ],
   "cell_type": "markdown",
   "metadata": {}
  },
  {
   "cell_type": "code",
   "execution_count": 2,
   "metadata": {},
   "outputs": [],
   "source": [
    "import pandas as pd\n",
    "import sklearn\n",
    "import matplotlib.pyplot as plt\n",
    "import seaborn as sns\n",
    "import numpy as np\n",
    "from sklearn.linear_model import LinearRegression\n",
    "from sklearn.metrics import f1_score, roc_auc_score, confusion_matrix\n",
    "from sklearn.preprocessing import StandardScaler, OneHotEncoder\n",
    "from sklearn.model_selection import train_test_split\n",
    "from imblearn.over_sampling import SMOTE"
   ]
  },
  {
   "source": [
    "## Read dataset"
   ],
   "cell_type": "markdown",
   "metadata": {}
  },
  {
   "cell_type": "code",
   "execution_count": 3,
   "metadata": {},
   "outputs": [
    {
     "output_type": "execute_result",
     "data": {
      "text/plain": [
       "    id  gender   age  hypertension  heart_disease ever_married work_type  \\\n",
       "0   77  Female   NaN           0.0            0.0           No  children   \n",
       "1   84    Male  55.0           0.0            0.0          Yes   Private   \n",
       "2   91  Female  42.0           0.0            0.0           No   Private   \n",
       "3   99  Female  31.0           0.0            0.0           No   Private   \n",
       "4  121  Female  38.0           0.0            0.0          Yes   Private   \n",
       "\n",
       "  Residence_type  avg_glucose_level   bmi smoking_status blood  height  stroke  \n",
       "0        Unknown              85.81  18.6        Unknown     O     NaN       0  \n",
       "1          Urban              89.17   NaN   never smoked     B    1.59       0  \n",
       "2        Unknown              98.53  18.5   never smoked     B     NaN       0  \n",
       "3          Urban             108.89  52.3        Unknown     O    1.24       0  \n",
       "4        Unknown              91.44   NaN        Unknown     O     NaN       0  "
      ],
      "text/html": "<div>\n<style scoped>\n    .dataframe tbody tr th:only-of-type {\n        vertical-align: middle;\n    }\n\n    .dataframe tbody tr th {\n        vertical-align: top;\n    }\n\n    .dataframe thead th {\n        text-align: right;\n    }\n</style>\n<table border=\"1\" class=\"dataframe\">\n  <thead>\n    <tr style=\"text-align: right;\">\n      <th></th>\n      <th>id</th>\n      <th>gender</th>\n      <th>age</th>\n      <th>hypertension</th>\n      <th>heart_disease</th>\n      <th>ever_married</th>\n      <th>work_type</th>\n      <th>Residence_type</th>\n      <th>avg_glucose_level</th>\n      <th>bmi</th>\n      <th>smoking_status</th>\n      <th>blood</th>\n      <th>height</th>\n      <th>stroke</th>\n    </tr>\n  </thead>\n  <tbody>\n    <tr>\n      <th>0</th>\n      <td>77</td>\n      <td>Female</td>\n      <td>NaN</td>\n      <td>0.0</td>\n      <td>0.0</td>\n      <td>No</td>\n      <td>children</td>\n      <td>Unknown</td>\n      <td>85.81</td>\n      <td>18.6</td>\n      <td>Unknown</td>\n      <td>O</td>\n      <td>NaN</td>\n      <td>0</td>\n    </tr>\n    <tr>\n      <th>1</th>\n      <td>84</td>\n      <td>Male</td>\n      <td>55.0</td>\n      <td>0.0</td>\n      <td>0.0</td>\n      <td>Yes</td>\n      <td>Private</td>\n      <td>Urban</td>\n      <td>89.17</td>\n      <td>NaN</td>\n      <td>never smoked</td>\n      <td>B</td>\n      <td>1.59</td>\n      <td>0</td>\n    </tr>\n    <tr>\n      <th>2</th>\n      <td>91</td>\n      <td>Female</td>\n      <td>42.0</td>\n      <td>0.0</td>\n      <td>0.0</td>\n      <td>No</td>\n      <td>Private</td>\n      <td>Unknown</td>\n      <td>98.53</td>\n      <td>18.5</td>\n      <td>never smoked</td>\n      <td>B</td>\n      <td>NaN</td>\n      <td>0</td>\n    </tr>\n    <tr>\n      <th>3</th>\n      <td>99</td>\n      <td>Female</td>\n      <td>31.0</td>\n      <td>0.0</td>\n      <td>0.0</td>\n      <td>No</td>\n      <td>Private</td>\n      <td>Urban</td>\n      <td>108.89</td>\n      <td>52.3</td>\n      <td>Unknown</td>\n      <td>O</td>\n      <td>1.24</td>\n      <td>0</td>\n    </tr>\n    <tr>\n      <th>4</th>\n      <td>121</td>\n      <td>Female</td>\n      <td>38.0</td>\n      <td>0.0</td>\n      <td>0.0</td>\n      <td>Yes</td>\n      <td>Private</td>\n      <td>Unknown</td>\n      <td>91.44</td>\n      <td>NaN</td>\n      <td>Unknown</td>\n      <td>O</td>\n      <td>NaN</td>\n      <td>0</td>\n    </tr>\n  </tbody>\n</table>\n</div>"
     },
     "metadata": {},
     "execution_count": 3
    }
   ],
   "source": [
    "raw_df = pd.read_csv('./Dataset/train.csv')\n",
    "raw_df.head()"
   ]
  },
  {
   "source": [
    "Drop `id` feature because it's useless"
   ],
   "cell_type": "markdown",
   "metadata": {}
  },
  {
   "cell_type": "code",
   "execution_count": 4,
   "metadata": {},
   "outputs": [
    {
     "output_type": "execute_result",
     "data": {
      "text/plain": [
       "      gender   age  hypertension  heart_disease ever_married work_type  \\\n",
       "0     Female   NaN           0.0            0.0           No  children   \n",
       "1       Male  55.0           0.0            0.0          Yes   Private   \n",
       "2     Female  42.0           0.0            0.0           No   Private   \n",
       "3     Female  31.0           0.0            0.0           No   Private   \n",
       "4     Female  38.0           0.0            0.0          Yes   Private   \n",
       "...      ...   ...           ...            ...          ...       ...   \n",
       "3995    Male  16.0           0.0            0.0           No   Private   \n",
       "3996    Male  47.0           0.0            0.0          Yes   Private   \n",
       "3997   Other  57.0           1.0            0.0          Yes   Private   \n",
       "3998  Female  45.0           0.0            0.0          Yes   Private   \n",
       "3999  Female  53.0           1.0            0.0          Yes   Private   \n",
       "\n",
       "     Residence_type  avg_glucose_level   bmi   smoking_status blood  height  \\\n",
       "0           Unknown              85.81  18.6          Unknown     O     NaN   \n",
       "1             Urban              89.17   NaN     never smoked     B    1.59   \n",
       "2           Unknown              98.53  18.5     never smoked     B     NaN   \n",
       "3             Urban             108.89  52.3          Unknown     O    1.24   \n",
       "4           Unknown              91.44   NaN          Unknown     O     NaN   \n",
       "...             ...                ...   ...              ...   ...     ...   \n",
       "3995        Unknown              99.49  22.0          Unknown     B     NaN   \n",
       "3996          Rural              75.30  25.0  formerly smoked     B    1.79   \n",
       "3997          Rural             129.54  60.9           smokes    AB    1.15   \n",
       "3998        Unknown             172.33  45.3  formerly smoked     O    1.33   \n",
       "3999          Urban              62.55  30.3          Unknown     O    1.62   \n",
       "\n",
       "      stroke  \n",
       "0          0  \n",
       "1          0  \n",
       "2          0  \n",
       "3          0  \n",
       "4          0  \n",
       "...      ...  \n",
       "3995       0  \n",
       "3996       0  \n",
       "3997       0  \n",
       "3998       0  \n",
       "3999       1  \n",
       "\n",
       "[4000 rows x 13 columns]"
      ],
      "text/html": "<div>\n<style scoped>\n    .dataframe tbody tr th:only-of-type {\n        vertical-align: middle;\n    }\n\n    .dataframe tbody tr th {\n        vertical-align: top;\n    }\n\n    .dataframe thead th {\n        text-align: right;\n    }\n</style>\n<table border=\"1\" class=\"dataframe\">\n  <thead>\n    <tr style=\"text-align: right;\">\n      <th></th>\n      <th>gender</th>\n      <th>age</th>\n      <th>hypertension</th>\n      <th>heart_disease</th>\n      <th>ever_married</th>\n      <th>work_type</th>\n      <th>Residence_type</th>\n      <th>avg_glucose_level</th>\n      <th>bmi</th>\n      <th>smoking_status</th>\n      <th>blood</th>\n      <th>height</th>\n      <th>stroke</th>\n    </tr>\n  </thead>\n  <tbody>\n    <tr>\n      <th>0</th>\n      <td>Female</td>\n      <td>NaN</td>\n      <td>0.0</td>\n      <td>0.0</td>\n      <td>No</td>\n      <td>children</td>\n      <td>Unknown</td>\n      <td>85.81</td>\n      <td>18.6</td>\n      <td>Unknown</td>\n      <td>O</td>\n      <td>NaN</td>\n      <td>0</td>\n    </tr>\n    <tr>\n      <th>1</th>\n      <td>Male</td>\n      <td>55.0</td>\n      <td>0.0</td>\n      <td>0.0</td>\n      <td>Yes</td>\n      <td>Private</td>\n      <td>Urban</td>\n      <td>89.17</td>\n      <td>NaN</td>\n      <td>never smoked</td>\n      <td>B</td>\n      <td>1.59</td>\n      <td>0</td>\n    </tr>\n    <tr>\n      <th>2</th>\n      <td>Female</td>\n      <td>42.0</td>\n      <td>0.0</td>\n      <td>0.0</td>\n      <td>No</td>\n      <td>Private</td>\n      <td>Unknown</td>\n      <td>98.53</td>\n      <td>18.5</td>\n      <td>never smoked</td>\n      <td>B</td>\n      <td>NaN</td>\n      <td>0</td>\n    </tr>\n    <tr>\n      <th>3</th>\n      <td>Female</td>\n      <td>31.0</td>\n      <td>0.0</td>\n      <td>0.0</td>\n      <td>No</td>\n      <td>Private</td>\n      <td>Urban</td>\n      <td>108.89</td>\n      <td>52.3</td>\n      <td>Unknown</td>\n      <td>O</td>\n      <td>1.24</td>\n      <td>0</td>\n    </tr>\n    <tr>\n      <th>4</th>\n      <td>Female</td>\n      <td>38.0</td>\n      <td>0.0</td>\n      <td>0.0</td>\n      <td>Yes</td>\n      <td>Private</td>\n      <td>Unknown</td>\n      <td>91.44</td>\n      <td>NaN</td>\n      <td>Unknown</td>\n      <td>O</td>\n      <td>NaN</td>\n      <td>0</td>\n    </tr>\n    <tr>\n      <th>...</th>\n      <td>...</td>\n      <td>...</td>\n      <td>...</td>\n      <td>...</td>\n      <td>...</td>\n      <td>...</td>\n      <td>...</td>\n      <td>...</td>\n      <td>...</td>\n      <td>...</td>\n      <td>...</td>\n      <td>...</td>\n      <td>...</td>\n    </tr>\n    <tr>\n      <th>3995</th>\n      <td>Male</td>\n      <td>16.0</td>\n      <td>0.0</td>\n      <td>0.0</td>\n      <td>No</td>\n      <td>Private</td>\n      <td>Unknown</td>\n      <td>99.49</td>\n      <td>22.0</td>\n      <td>Unknown</td>\n      <td>B</td>\n      <td>NaN</td>\n      <td>0</td>\n    </tr>\n    <tr>\n      <th>3996</th>\n      <td>Male</td>\n      <td>47.0</td>\n      <td>0.0</td>\n      <td>0.0</td>\n      <td>Yes</td>\n      <td>Private</td>\n      <td>Rural</td>\n      <td>75.30</td>\n      <td>25.0</td>\n      <td>formerly smoked</td>\n      <td>B</td>\n      <td>1.79</td>\n      <td>0</td>\n    </tr>\n    <tr>\n      <th>3997</th>\n      <td>Other</td>\n      <td>57.0</td>\n      <td>1.0</td>\n      <td>0.0</td>\n      <td>Yes</td>\n      <td>Private</td>\n      <td>Rural</td>\n      <td>129.54</td>\n      <td>60.9</td>\n      <td>smokes</td>\n      <td>AB</td>\n      <td>1.15</td>\n      <td>0</td>\n    </tr>\n    <tr>\n      <th>3998</th>\n      <td>Female</td>\n      <td>45.0</td>\n      <td>0.0</td>\n      <td>0.0</td>\n      <td>Yes</td>\n      <td>Private</td>\n      <td>Unknown</td>\n      <td>172.33</td>\n      <td>45.3</td>\n      <td>formerly smoked</td>\n      <td>O</td>\n      <td>1.33</td>\n      <td>0</td>\n    </tr>\n    <tr>\n      <th>3999</th>\n      <td>Female</td>\n      <td>53.0</td>\n      <td>1.0</td>\n      <td>0.0</td>\n      <td>Yes</td>\n      <td>Private</td>\n      <td>Urban</td>\n      <td>62.55</td>\n      <td>30.3</td>\n      <td>Unknown</td>\n      <td>O</td>\n      <td>1.62</td>\n      <td>1</td>\n    </tr>\n  </tbody>\n</table>\n<p>4000 rows × 13 columns</p>\n</div>"
     },
     "metadata": {},
     "execution_count": 4
    }
   ],
   "source": [
    "df = raw_df.copy()\n",
    "df.drop(columns=['id'], inplace=True)\n",
    "df"
   ]
  },
  {
   "source": [
    "## Analyze Data"
   ],
   "cell_type": "markdown",
   "metadata": {}
  },
  {
   "cell_type": "code",
   "execution_count": 5,
   "metadata": {},
   "outputs": [
    {
     "output_type": "execute_result",
     "data": {
      "text/plain": [
       "                    count        mean        std    min    25%    50%  \\\n",
       "age                3893.0   43.071256  22.425944   0.08  25.00  45.00   \n",
       "hypertension       3770.0    0.097613   0.296830   0.00   0.00   0.00   \n",
       "heart_disease      3910.0    0.055243   0.228483   0.00   0.00   0.00   \n",
       "avg_glucose_level  3829.0  106.178062  45.048667  55.22  77.50  92.11   \n",
       "bmi                2884.0   28.887899   7.904179  11.30  23.50  28.00   \n",
       "height             2928.0    1.611831   0.149053   0.91   1.52   1.63   \n",
       "stroke             4000.0    0.032500   0.177346   0.00   0.00   0.00   \n",
       "\n",
       "                        75%     max  \n",
       "age                 61.0000   82.00  \n",
       "hypertension         0.0000    1.00  \n",
       "heart_disease        0.0000    1.00  \n",
       "avg_glucose_level  114.0900  267.76  \n",
       "bmi                 33.0000   97.60  \n",
       "height               1.7225    1.85  \n",
       "stroke               0.0000    1.00  "
      ],
      "text/html": "<div>\n<style scoped>\n    .dataframe tbody tr th:only-of-type {\n        vertical-align: middle;\n    }\n\n    .dataframe tbody tr th {\n        vertical-align: top;\n    }\n\n    .dataframe thead th {\n        text-align: right;\n    }\n</style>\n<table border=\"1\" class=\"dataframe\">\n  <thead>\n    <tr style=\"text-align: right;\">\n      <th></th>\n      <th>count</th>\n      <th>mean</th>\n      <th>std</th>\n      <th>min</th>\n      <th>25%</th>\n      <th>50%</th>\n      <th>75%</th>\n      <th>max</th>\n    </tr>\n  </thead>\n  <tbody>\n    <tr>\n      <th>age</th>\n      <td>3893.0</td>\n      <td>43.071256</td>\n      <td>22.425944</td>\n      <td>0.08</td>\n      <td>25.00</td>\n      <td>45.00</td>\n      <td>61.0000</td>\n      <td>82.00</td>\n    </tr>\n    <tr>\n      <th>hypertension</th>\n      <td>3770.0</td>\n      <td>0.097613</td>\n      <td>0.296830</td>\n      <td>0.00</td>\n      <td>0.00</td>\n      <td>0.00</td>\n      <td>0.0000</td>\n      <td>1.00</td>\n    </tr>\n    <tr>\n      <th>heart_disease</th>\n      <td>3910.0</td>\n      <td>0.055243</td>\n      <td>0.228483</td>\n      <td>0.00</td>\n      <td>0.00</td>\n      <td>0.00</td>\n      <td>0.0000</td>\n      <td>1.00</td>\n    </tr>\n    <tr>\n      <th>avg_glucose_level</th>\n      <td>3829.0</td>\n      <td>106.178062</td>\n      <td>45.048667</td>\n      <td>55.22</td>\n      <td>77.50</td>\n      <td>92.11</td>\n      <td>114.0900</td>\n      <td>267.76</td>\n    </tr>\n    <tr>\n      <th>bmi</th>\n      <td>2884.0</td>\n      <td>28.887899</td>\n      <td>7.904179</td>\n      <td>11.30</td>\n      <td>23.50</td>\n      <td>28.00</td>\n      <td>33.0000</td>\n      <td>97.60</td>\n    </tr>\n    <tr>\n      <th>height</th>\n      <td>2928.0</td>\n      <td>1.611831</td>\n      <td>0.149053</td>\n      <td>0.91</td>\n      <td>1.52</td>\n      <td>1.63</td>\n      <td>1.7225</td>\n      <td>1.85</td>\n    </tr>\n    <tr>\n      <th>stroke</th>\n      <td>4000.0</td>\n      <td>0.032500</td>\n      <td>0.177346</td>\n      <td>0.00</td>\n      <td>0.00</td>\n      <td>0.00</td>\n      <td>0.0000</td>\n      <td>1.00</td>\n    </tr>\n  </tbody>\n</table>\n</div>"
     },
     "metadata": {},
     "execution_count": 5
    }
   ],
   "source": [
    "df.describe().transpose()"
   ]
  },
  {
   "cell_type": "code",
   "execution_count": 6,
   "metadata": {},
   "outputs": [
    {
     "output_type": "stream",
     "name": "stdout",
     "text": [
      "<class 'pandas.core.frame.DataFrame'>\nRangeIndex: 4000 entries, 0 to 3999\nData columns (total 13 columns):\n #   Column             Non-Null Count  Dtype  \n---  ------             --------------  -----  \n 0   gender             4000 non-null   object \n 1   age                3893 non-null   float64\n 2   hypertension       3770 non-null   float64\n 3   heart_disease      3910 non-null   float64\n 4   ever_married       4000 non-null   object \n 5   work_type          4000 non-null   object \n 6   Residence_type     4000 non-null   object \n 7   avg_glucose_level  3829 non-null   float64\n 8   bmi                2884 non-null   float64\n 9   smoking_status     4000 non-null   object \n 10  blood              3990 non-null   object \n 11  height             2928 non-null   float64\n 12  stroke             4000 non-null   int64  \ndtypes: float64(6), int64(1), object(6)\nmemory usage: 406.4+ KB\n"
     ]
    }
   ],
   "source": [
    "df.info()"
   ]
  },
  {
   "cell_type": "code",
   "execution_count": 7,
   "metadata": {},
   "outputs": [],
   "source": [
    "def draw_missing_data_table(data):\n",
    "    total = data.isnull().sum().sort_values(ascending=False)\n",
    "    percent = (data.isnull().sum()/data.isnull().count()).sort_values(ascending=False)\n",
    "    missing_data = pd.concat([total, percent], axis=1, keys=['Total', 'Percent'])\n",
    "    return missing_data"
   ]
  },
  {
   "cell_type": "code",
   "execution_count": 8,
   "metadata": {},
   "outputs": [],
   "source": [
    "# sns.set(style=\"ticks\");\n",
    "# pal = [\"#FA5858\", \"#58D3F7\"]\n",
    "\n",
    "# sns.pairplot(df, hue=\"stroke\", palette=pal);\n",
    "# plt.title(\"stroke\");"
   ]
  },
  {
   "cell_type": "code",
   "execution_count": 9,
   "metadata": {},
   "outputs": [
    {
     "output_type": "execute_result",
     "data": {
      "text/plain": [
       "stroke               1.000000\n",
       "age                  0.196161\n",
       "heart_disease        0.116838\n",
       "avg_glucose_level    0.109547\n",
       "hypertension         0.084755\n",
       "bmi                  0.030560\n",
       "height               0.029482\n",
       "Name: stroke, dtype: float64"
      ]
     },
     "metadata": {},
     "execution_count": 9
    }
   ],
   "source": [
    "df.corr()[\"stroke\"].sort_values(ascending=False)"
   ]
  },
  {
   "cell_type": "code",
   "execution_count": 10,
   "metadata": {},
   "outputs": [
    {
     "output_type": "execute_result",
     "data": {
      "text/plain": [
       "bmi                  1.000000\n",
       "age                  0.323256\n",
       "avg_glucose_level    0.175999\n",
       "hypertension         0.173382\n",
       "stroke               0.030560\n",
       "heart_disease        0.028516\n",
       "height              -0.968677\n",
       "Name: bmi, dtype: float64"
      ]
     },
     "metadata": {},
     "execution_count": 10
    }
   ],
   "source": [
    "df.corr()[\"bmi\"].sort_values(ascending=False)"
   ]
  },
  {
   "cell_type": "code",
   "execution_count": 11,
   "metadata": {},
   "outputs": [
    {
     "output_type": "execute_result",
     "data": {
      "text/plain": [
       "<AxesSubplot:>"
      ]
     },
     "metadata": {},
     "execution_count": 11
    },
    {
     "output_type": "display_data",
     "data": {
      "text/plain": "<Figure size 864x504 with 2 Axes>",
      "image/svg+xml": "<?xml version=\"1.0\" encoding=\"utf-8\" standalone=\"no\"?>\r\n<!DOCTYPE svg PUBLIC \"-//W3C//DTD SVG 1.1//EN\"\r\n  \"http://www.w3.org/Graphics/SVG/1.1/DTD/svg11.dtd\">\r\n<!-- Created with matplotlib (https://matplotlib.org/) -->\r\n<svg height=\"527.853781pt\" version=\"1.1\" viewBox=\"0 0 779.256625 527.853781\" width=\"779.256625pt\" xmlns=\"http://www.w3.org/2000/svg\" xmlns:xlink=\"http://www.w3.org/1999/xlink\">\r\n <metadata>\r\n  <rdf:RDF xmlns:cc=\"http://creativecommons.org/ns#\" xmlns:dc=\"http://purl.org/dc/elements/1.1/\" xmlns:rdf=\"http://www.w3.org/1999/02/22-rdf-syntax-ns#\">\r\n   <cc:Work>\r\n    <dc:type rdf:resource=\"http://purl.org/dc/dcmitype/StillImage\"/>\r\n    <dc:date>2021-05-19T21:35:19.889741</dc:date>\r\n    <dc:format>image/svg+xml</dc:format>\r\n    <dc:creator>\r\n     <cc:Agent>\r\n      <dc:title>Matplotlib v3.3.2, https://matplotlib.org/</dc:title>\r\n     </cc:Agent>\r\n    </dc:creator>\r\n   </cc:Work>\r\n  </rdf:RDF>\r\n </metadata>\r\n <defs>\r\n  <style type=\"text/css\">*{stroke-linecap:butt;stroke-linejoin:round;}</style>\r\n </defs>\r\n <g id=\"figure_1\">\r\n  <g id=\"patch_1\">\r\n   <path d=\"M 0 527.853781 \r\nL 779.256625 527.853781 \r\nL 779.256625 0 \r\nL 0 0 \r\nz\r\n\" style=\"fill:none;\"/>\r\n  </g>\r\n  <g id=\"axes_1\">\r\n   <g id=\"patch_2\">\r\n    <path d=\"M 135.118812 392.734969 \r\nL 670.798813 392.734969 \r\nL 670.798813 12.214969 \r\nL 135.118812 12.214969 \r\nz\r\n\" style=\"fill:#ffffff;\"/>\r\n   </g>\r\n   <g id=\"QuadMesh_1\">\r\n    <path clip-path=\"url(#pd309bf1f52)\" d=\"M 135.118812 12.214969 \r\nL 211.644527 12.214969 \r\nL 211.644527 66.574969 \r\nL 135.118812 66.574969 \r\nL 135.118812 12.214969 \r\n\" style=\"fill:#fde725;\"/>\r\n    <path clip-path=\"url(#pd309bf1f52)\" d=\"M 211.644527 12.214969 \r\nL 288.170241 12.214969 \r\nL 288.170241 66.574969 \r\nL 211.644527 66.574969 \r\nL 211.644527 12.214969 \r\n\" style=\"fill:#28ae80;\"/>\r\n    <path clip-path=\"url(#pd309bf1f52)\" d=\"M 288.170241 12.214969 \r\nL 364.695955 12.214969 \r\nL 364.695955 66.574969 \r\nL 288.170241 66.574969 \r\nL 288.170241 12.214969 \r\n\" style=\"fill:#29af7f;\"/>\r\n    <path clip-path=\"url(#pd309bf1f52)\" d=\"M 364.695955 12.214969 \r\nL 441.22167 12.214969 \r\nL 441.22167 66.574969 \r\nL 364.695955 66.574969 \r\nL 364.695955 12.214969 \r\n\" style=\"fill:#25ab82;\"/>\r\n    <path clip-path=\"url(#pd309bf1f52)\" d=\"M 441.22167 12.214969 \r\nL 517.747384 12.214969 \r\nL 517.747384 66.574969 \r\nL 441.22167 66.574969 \r\nL 441.22167 12.214969 \r\n\" style=\"fill:#31b57b;\"/>\r\n    <path clip-path=\"url(#pd309bf1f52)\" d=\"M 517.747384 12.214969 \r\nL 594.273098 12.214969 \r\nL 594.273098 66.574969 \r\nL 517.747384 66.574969 \r\nL 517.747384 12.214969 \r\n\" style=\"fill:#238a8d;\"/>\r\n    <path clip-path=\"url(#pd309bf1f52)\" d=\"M 594.273098 12.214969 \r\nL 670.798813 12.214969 \r\nL 670.798813 66.574969 \r\nL 594.273098 66.574969 \r\nL 594.273098 12.214969 \r\n\" style=\"fill:#21a685;\"/>\r\n    <path clip-path=\"url(#pd309bf1f52)\" d=\"M 135.118812 66.574969 \r\nL 211.644527 66.574969 \r\nL 211.644527 120.934969 \r\nL 135.118812 120.934969 \r\nL 135.118812 66.574969 \r\n\" style=\"fill:#28ae80;\"/>\r\n    <path clip-path=\"url(#pd309bf1f52)\" d=\"M 211.644527 66.574969 \r\nL 288.170241 66.574969 \r\nL 288.170241 120.934969 \r\nL 211.644527 120.934969 \r\nL 211.644527 66.574969 \r\n\" style=\"fill:#fde725;\"/>\r\n    <path clip-path=\"url(#pd309bf1f52)\" d=\"M 288.170241 66.574969 \r\nL 364.695955 66.574969 \r\nL 364.695955 120.934969 \r\nL 288.170241 120.934969 \r\nL 288.170241 66.574969 \r\n\" style=\"fill:#1f9a8a;\"/>\r\n    <path clip-path=\"url(#pd309bf1f52)\" d=\"M 364.695955 66.574969 \r\nL 441.22167 66.574969 \r\nL 441.22167 120.934969 \r\nL 364.695955 120.934969 \r\nL 364.695955 66.574969 \r\n\" style=\"fill:#1fa187;\"/>\r\n    <path clip-path=\"url(#pd309bf1f52)\" d=\"M 441.22167 66.574969 \r\nL 517.747384 66.574969 \r\nL 517.747384 120.934969 \r\nL 441.22167 120.934969 \r\nL 441.22167 66.574969 \r\n\" style=\"fill:#20a386;\"/>\r\n    <path clip-path=\"url(#pd309bf1f52)\" d=\"M 517.747384 66.574969 \r\nL 594.273098 66.574969 \r\nL 594.273098 120.934969 \r\nL 517.747384 120.934969 \r\nL 517.747384 66.574969 \r\n\" style=\"fill:#26828e;\"/>\r\n    <path clip-path=\"url(#pd309bf1f52)\" d=\"M 594.273098 66.574969 \r\nL 670.798813 66.574969 \r\nL 670.798813 120.934969 \r\nL 594.273098 120.934969 \r\nL 594.273098 66.574969 \r\n\" style=\"fill:#1f988b;\"/>\r\n    <path clip-path=\"url(#pd309bf1f52)\" d=\"M 135.118812 120.934969 \r\nL 211.644527 120.934969 \r\nL 211.644527 175.294969 \r\nL 135.118812 175.294969 \r\nL 135.118812 120.934969 \r\n\" style=\"fill:#29af7f;\"/>\r\n    <path clip-path=\"url(#pd309bf1f52)\" d=\"M 211.644527 120.934969 \r\nL 288.170241 120.934969 \r\nL 288.170241 175.294969 \r\nL 211.644527 175.294969 \r\nL 211.644527 120.934969 \r\n\" style=\"fill:#1f9a8a;\"/>\r\n    <path clip-path=\"url(#pd309bf1f52)\" d=\"M 288.170241 120.934969 \r\nL 364.695955 120.934969 \r\nL 364.695955 175.294969 \r\nL 288.170241 175.294969 \r\nL 288.170241 120.934969 \r\n\" style=\"fill:#fde725;\"/>\r\n    <path clip-path=\"url(#pd309bf1f52)\" d=\"M 364.695955 120.934969 \r\nL 441.22167 120.934969 \r\nL 441.22167 175.294969 \r\nL 364.695955 175.294969 \r\nL 364.695955 120.934969 \r\n\" style=\"fill:#1fa187;\"/>\r\n    <path clip-path=\"url(#pd309bf1f52)\" d=\"M 441.22167 120.934969 \r\nL 517.747384 120.934969 \r\nL 517.747384 175.294969 \r\nL 441.22167 175.294969 \r\nL 441.22167 120.934969 \r\n\" style=\"fill:#20928c;\"/>\r\n    <path clip-path=\"url(#pd309bf1f52)\" d=\"M 517.747384 120.934969 \r\nL 594.273098 120.934969 \r\nL 594.273098 175.294969 \r\nL 517.747384 175.294969 \r\nL 517.747384 120.934969 \r\n\" style=\"fill:#21918c;\"/>\r\n    <path clip-path=\"url(#pd309bf1f52)\" d=\"M 594.273098 120.934969 \r\nL 670.798813 120.934969 \r\nL 670.798813 175.294969 \r\nL 594.273098 175.294969 \r\nL 594.273098 120.934969 \r\n\" style=\"fill:#1e9d89;\"/>\r\n    <path clip-path=\"url(#pd309bf1f52)\" d=\"M 135.118812 175.294969 \r\nL 211.644527 175.294969 \r\nL 211.644527 229.654969 \r\nL 135.118812 229.654969 \r\nL 135.118812 175.294969 \r\n\" style=\"fill:#25ab82;\"/>\r\n    <path clip-path=\"url(#pd309bf1f52)\" d=\"M 211.644527 175.294969 \r\nL 288.170241 175.294969 \r\nL 288.170241 229.654969 \r\nL 211.644527 229.654969 \r\nL 211.644527 175.294969 \r\n\" style=\"fill:#1fa187;\"/>\r\n    <path clip-path=\"url(#pd309bf1f52)\" d=\"M 288.170241 175.294969 \r\nL 364.695955 175.294969 \r\nL 364.695955 229.654969 \r\nL 288.170241 229.654969 \r\nL 288.170241 175.294969 \r\n\" style=\"fill:#1fa187;\"/>\r\n    <path clip-path=\"url(#pd309bf1f52)\" d=\"M 364.695955 175.294969 \r\nL 441.22167 175.294969 \r\nL 441.22167 229.654969 \r\nL 364.695955 229.654969 \r\nL 364.695955 175.294969 \r\n\" style=\"fill:#fde725;\"/>\r\n    <path clip-path=\"url(#pd309bf1f52)\" d=\"M 441.22167 175.294969 \r\nL 517.747384 175.294969 \r\nL 517.747384 229.654969 \r\nL 441.22167 229.654969 \r\nL 441.22167 175.294969 \r\n\" style=\"fill:#20a386;\"/>\r\n    <path clip-path=\"url(#pd309bf1f52)\" d=\"M 517.747384 175.294969 \r\nL 594.273098 175.294969 \r\nL 594.273098 229.654969 \r\nL 517.747384 229.654969 \r\nL 517.747384 175.294969 \r\n\" style=\"fill:#287d8e;\"/>\r\n    <path clip-path=\"url(#pd309bf1f52)\" d=\"M 594.273098 175.294969 \r\nL 670.798813 175.294969 \r\nL 670.798813 229.654969 \r\nL 594.273098 229.654969 \r\nL 594.273098 175.294969 \r\n\" style=\"fill:#1e9c89;\"/>\r\n    <path clip-path=\"url(#pd309bf1f52)\" d=\"M 135.118812 229.654969 \r\nL 211.644527 229.654969 \r\nL 211.644527 284.014969 \r\nL 135.118812 284.014969 \r\nL 135.118812 229.654969 \r\n\" style=\"fill:#31b57b;\"/>\r\n    <path clip-path=\"url(#pd309bf1f52)\" d=\"M 211.644527 229.654969 \r\nL 288.170241 229.654969 \r\nL 288.170241 284.014969 \r\nL 211.644527 284.014969 \r\nL 211.644527 229.654969 \r\n\" style=\"fill:#20a386;\"/>\r\n    <path clip-path=\"url(#pd309bf1f52)\" d=\"M 288.170241 229.654969 \r\nL 364.695955 229.654969 \r\nL 364.695955 284.014969 \r\nL 288.170241 284.014969 \r\nL 288.170241 229.654969 \r\n\" style=\"fill:#20928c;\"/>\r\n    <path clip-path=\"url(#pd309bf1f52)\" d=\"M 364.695955 229.654969 \r\nL 441.22167 229.654969 \r\nL 441.22167 284.014969 \r\nL 364.695955 284.014969 \r\nL 364.695955 229.654969 \r\n\" style=\"fill:#20a386;\"/>\r\n    <path clip-path=\"url(#pd309bf1f52)\" d=\"M 441.22167 229.654969 \r\nL 517.747384 229.654969 \r\nL 517.747384 284.014969 \r\nL 441.22167 284.014969 \r\nL 441.22167 229.654969 \r\n\" style=\"fill:#fde725;\"/>\r\n    <path clip-path=\"url(#pd309bf1f52)\" d=\"M 517.747384 229.654969 \r\nL 594.273098 229.654969 \r\nL 594.273098 284.014969 \r\nL 517.747384 284.014969 \r\nL 517.747384 229.654969 \r\n\" style=\"fill:#440154;\"/>\r\n    <path clip-path=\"url(#pd309bf1f52)\" d=\"M 594.273098 229.654969 \r\nL 670.798813 229.654969 \r\nL 670.798813 284.014969 \r\nL 594.273098 284.014969 \r\nL 594.273098 229.654969 \r\n\" style=\"fill:#20928c;\"/>\r\n    <path clip-path=\"url(#pd309bf1f52)\" d=\"M 135.118812 284.014969 \r\nL 211.644527 284.014969 \r\nL 211.644527 338.374969 \r\nL 135.118812 338.374969 \r\nL 135.118812 284.014969 \r\n\" style=\"fill:#238a8d;\"/>\r\n    <path clip-path=\"url(#pd309bf1f52)\" d=\"M 211.644527 284.014969 \r\nL 288.170241 284.014969 \r\nL 288.170241 338.374969 \r\nL 211.644527 338.374969 \r\nL 211.644527 284.014969 \r\n\" style=\"fill:#26828e;\"/>\r\n    <path clip-path=\"url(#pd309bf1f52)\" d=\"M 288.170241 284.014969 \r\nL 364.695955 284.014969 \r\nL 364.695955 338.374969 \r\nL 288.170241 338.374969 \r\nL 288.170241 284.014969 \r\n\" style=\"fill:#21918c;\"/>\r\n    <path clip-path=\"url(#pd309bf1f52)\" d=\"M 364.695955 284.014969 \r\nL 441.22167 284.014969 \r\nL 441.22167 338.374969 \r\nL 364.695955 338.374969 \r\nL 364.695955 284.014969 \r\n\" style=\"fill:#287d8e;\"/>\r\n    <path clip-path=\"url(#pd309bf1f52)\" d=\"M 441.22167 284.014969 \r\nL 517.747384 284.014969 \r\nL 517.747384 338.374969 \r\nL 441.22167 338.374969 \r\nL 441.22167 284.014969 \r\n\" style=\"fill:#440154;\"/>\r\n    <path clip-path=\"url(#pd309bf1f52)\" d=\"M 517.747384 284.014969 \r\nL 594.273098 284.014969 \r\nL 594.273098 338.374969 \r\nL 517.747384 338.374969 \r\nL 517.747384 284.014969 \r\n\" style=\"fill:#fde725;\"/>\r\n    <path clip-path=\"url(#pd309bf1f52)\" d=\"M 594.273098 284.014969 \r\nL 670.798813 284.014969 \r\nL 670.798813 338.374969 \r\nL 594.273098 338.374969 \r\nL 594.273098 284.014969 \r\n\" style=\"fill:#20928c;\"/>\r\n    <path clip-path=\"url(#pd309bf1f52)\" d=\"M 135.118812 338.374969 \r\nL 211.644527 338.374969 \r\nL 211.644527 392.734969 \r\nL 135.118812 392.734969 \r\nL 135.118812 338.374969 \r\n\" style=\"fill:#21a685;\"/>\r\n    <path clip-path=\"url(#pd309bf1f52)\" d=\"M 211.644527 338.374969 \r\nL 288.170241 338.374969 \r\nL 288.170241 392.734969 \r\nL 211.644527 392.734969 \r\nL 211.644527 338.374969 \r\n\" style=\"fill:#1f988b;\"/>\r\n    <path clip-path=\"url(#pd309bf1f52)\" d=\"M 288.170241 338.374969 \r\nL 364.695955 338.374969 \r\nL 364.695955 392.734969 \r\nL 288.170241 392.734969 \r\nL 288.170241 338.374969 \r\n\" style=\"fill:#1e9d89;\"/>\r\n    <path clip-path=\"url(#pd309bf1f52)\" d=\"M 364.695955 338.374969 \r\nL 441.22167 338.374969 \r\nL 441.22167 392.734969 \r\nL 364.695955 392.734969 \r\nL 364.695955 338.374969 \r\n\" style=\"fill:#1e9c89;\"/>\r\n    <path clip-path=\"url(#pd309bf1f52)\" d=\"M 441.22167 338.374969 \r\nL 517.747384 338.374969 \r\nL 517.747384 392.734969 \r\nL 441.22167 392.734969 \r\nL 441.22167 338.374969 \r\n\" style=\"fill:#20928c;\"/>\r\n    <path clip-path=\"url(#pd309bf1f52)\" d=\"M 517.747384 338.374969 \r\nL 594.273098 338.374969 \r\nL 594.273098 392.734969 \r\nL 517.747384 392.734969 \r\nL 517.747384 338.374969 \r\n\" style=\"fill:#20928c;\"/>\r\n    <path clip-path=\"url(#pd309bf1f52)\" d=\"M 594.273098 338.374969 \r\nL 670.798813 338.374969 \r\nL 670.798813 392.734969 \r\nL 594.273098 392.734969 \r\nL 594.273098 338.374969 \r\n\" style=\"fill:#fde725;\"/>\r\n   </g>\r\n   <g id=\"matplotlib.axis_1\">\r\n    <g id=\"xtick_1\">\r\n     <g id=\"line2d_1\">\r\n      <defs>\r\n       <path d=\"M 0 0 \r\nL 0 4.8 \r\n\" id=\"ma02799eca5\" style=\"stroke:#000000;\"/>\r\n      </defs>\r\n      <g>\r\n       <use style=\"stroke:#000000;\" x=\"173.38167\" xlink:href=\"#ma02799eca5\" y=\"392.734969\"/>\r\n      </g>\r\n     </g>\r\n     <g id=\"text_1\">\r\n      <!-- age -->\r\n      <g transform=\"translate(177.024045 425.626156)rotate(-90)scale(0.132 -0.132)\">\r\n       <defs>\r\n        <path d=\"M 34.28125 27.484375 \r\nQ 23.390625 27.484375 19.1875 25 \r\nQ 14.984375 22.515625 14.984375 16.5 \r\nQ 14.984375 11.71875 18.140625 8.90625 \r\nQ 21.296875 6.109375 26.703125 6.109375 \r\nQ 34.1875 6.109375 38.703125 11.40625 \r\nQ 43.21875 16.703125 43.21875 25.484375 \r\nL 43.21875 27.484375 \r\nz\r\nM 52.203125 31.203125 \r\nL 52.203125 0 \r\nL 43.21875 0 \r\nL 43.21875 8.296875 \r\nQ 40.140625 3.328125 35.546875 0.953125 \r\nQ 30.953125 -1.421875 24.3125 -1.421875 \r\nQ 15.921875 -1.421875 10.953125 3.296875 \r\nQ 6 8.015625 6 15.921875 \r\nQ 6 25.140625 12.171875 29.828125 \r\nQ 18.359375 34.515625 30.609375 34.515625 \r\nL 43.21875 34.515625 \r\nL 43.21875 35.40625 \r\nQ 43.21875 41.609375 39.140625 45 \r\nQ 35.0625 48.390625 27.6875 48.390625 \r\nQ 23 48.390625 18.546875 47.265625 \r\nQ 14.109375 46.140625 10.015625 43.890625 \r\nL 10.015625 52.203125 \r\nQ 14.9375 54.109375 19.578125 55.046875 \r\nQ 24.21875 56 28.609375 56 \r\nQ 40.484375 56 46.34375 49.84375 \r\nQ 52.203125 43.703125 52.203125 31.203125 \r\nz\r\n\" id=\"DejaVuSans-97\"/>\r\n        <path d=\"M 45.40625 27.984375 \r\nQ 45.40625 37.75 41.375 43.109375 \r\nQ 37.359375 48.484375 30.078125 48.484375 \r\nQ 22.859375 48.484375 18.828125 43.109375 \r\nQ 14.796875 37.75 14.796875 27.984375 \r\nQ 14.796875 18.265625 18.828125 12.890625 \r\nQ 22.859375 7.515625 30.078125 7.515625 \r\nQ 37.359375 7.515625 41.375 12.890625 \r\nQ 45.40625 18.265625 45.40625 27.984375 \r\nz\r\nM 54.390625 6.78125 \r\nQ 54.390625 -7.171875 48.1875 -13.984375 \r\nQ 42 -20.796875 29.203125 -20.796875 \r\nQ 24.46875 -20.796875 20.265625 -20.09375 \r\nQ 16.0625 -19.390625 12.109375 -17.921875 \r\nL 12.109375 -9.1875 \r\nQ 16.0625 -11.328125 19.921875 -12.34375 \r\nQ 23.78125 -13.375 27.78125 -13.375 \r\nQ 36.625 -13.375 41.015625 -8.765625 \r\nQ 45.40625 -4.15625 45.40625 5.171875 \r\nL 45.40625 9.625 \r\nQ 42.625 4.78125 38.28125 2.390625 \r\nQ 33.9375 0 27.875 0 \r\nQ 17.828125 0 11.671875 7.65625 \r\nQ 5.515625 15.328125 5.515625 27.984375 \r\nQ 5.515625 40.671875 11.671875 48.328125 \r\nQ 17.828125 56 27.875 56 \r\nQ 33.9375 56 38.28125 53.609375 \r\nQ 42.625 51.21875 45.40625 46.390625 \r\nL 45.40625 54.6875 \r\nL 54.390625 54.6875 \r\nz\r\n\" id=\"DejaVuSans-103\"/>\r\n        <path d=\"M 56.203125 29.59375 \r\nL 56.203125 25.203125 \r\nL 14.890625 25.203125 \r\nQ 15.484375 15.921875 20.484375 11.0625 \r\nQ 25.484375 6.203125 34.421875 6.203125 \r\nQ 39.59375 6.203125 44.453125 7.46875 \r\nQ 49.3125 8.734375 54.109375 11.28125 \r\nL 54.109375 2.78125 \r\nQ 49.265625 0.734375 44.1875 -0.34375 \r\nQ 39.109375 -1.421875 33.890625 -1.421875 \r\nQ 20.796875 -1.421875 13.15625 6.1875 \r\nQ 5.515625 13.8125 5.515625 26.8125 \r\nQ 5.515625 40.234375 12.765625 48.109375 \r\nQ 20.015625 56 32.328125 56 \r\nQ 43.359375 56 49.78125 48.890625 \r\nQ 56.203125 41.796875 56.203125 29.59375 \r\nz\r\nM 47.21875 32.234375 \r\nQ 47.125 39.59375 43.09375 43.984375 \r\nQ 39.0625 48.390625 32.421875 48.390625 \r\nQ 24.90625 48.390625 20.390625 44.140625 \r\nQ 15.875 39.890625 15.1875 32.171875 \r\nz\r\n\" id=\"DejaVuSans-101\"/>\r\n       </defs>\r\n       <use xlink:href=\"#DejaVuSans-97\"/>\r\n       <use x=\"61.279297\" xlink:href=\"#DejaVuSans-103\"/>\r\n       <use x=\"124.755859\" xlink:href=\"#DejaVuSans-101\"/>\r\n      </g>\r\n     </g>\r\n    </g>\r\n    <g id=\"xtick_2\">\r\n     <g id=\"line2d_2\">\r\n      <g>\r\n       <use style=\"stroke:#000000;\" x=\"249.907384\" xlink:href=\"#ma02799eca5\" y=\"392.734969\"/>\r\n      </g>\r\n     </g>\r\n     <g id=\"text_2\">\r\n      <!-- hypertension -->\r\n      <g transform=\"translate(253.549759 487.789906)rotate(-90)scale(0.132 -0.132)\">\r\n       <defs>\r\n        <path d=\"M 54.890625 33.015625 \r\nL 54.890625 0 \r\nL 45.90625 0 \r\nL 45.90625 32.71875 \r\nQ 45.90625 40.484375 42.875 44.328125 \r\nQ 39.84375 48.1875 33.796875 48.1875 \r\nQ 26.515625 48.1875 22.3125 43.546875 \r\nQ 18.109375 38.921875 18.109375 30.90625 \r\nL 18.109375 0 \r\nL 9.078125 0 \r\nL 9.078125 75.984375 \r\nL 18.109375 75.984375 \r\nL 18.109375 46.1875 \r\nQ 21.34375 51.125 25.703125 53.5625 \r\nQ 30.078125 56 35.796875 56 \r\nQ 45.21875 56 50.046875 50.171875 \r\nQ 54.890625 44.34375 54.890625 33.015625 \r\nz\r\n\" id=\"DejaVuSans-104\"/>\r\n        <path d=\"M 32.171875 -5.078125 \r\nQ 28.375 -14.84375 24.75 -17.8125 \r\nQ 21.140625 -20.796875 15.09375 -20.796875 \r\nL 7.90625 -20.796875 \r\nL 7.90625 -13.28125 \r\nL 13.1875 -13.28125 \r\nQ 16.890625 -13.28125 18.9375 -11.515625 \r\nQ 21 -9.765625 23.484375 -3.21875 \r\nL 25.09375 0.875 \r\nL 2.984375 54.6875 \r\nL 12.5 54.6875 \r\nL 29.59375 11.921875 \r\nL 46.6875 54.6875 \r\nL 56.203125 54.6875 \r\nz\r\n\" id=\"DejaVuSans-121\"/>\r\n        <path d=\"M 18.109375 8.203125 \r\nL 18.109375 -20.796875 \r\nL 9.078125 -20.796875 \r\nL 9.078125 54.6875 \r\nL 18.109375 54.6875 \r\nL 18.109375 46.390625 \r\nQ 20.953125 51.265625 25.265625 53.625 \r\nQ 29.59375 56 35.59375 56 \r\nQ 45.5625 56 51.78125 48.09375 \r\nQ 58.015625 40.1875 58.015625 27.296875 \r\nQ 58.015625 14.40625 51.78125 6.484375 \r\nQ 45.5625 -1.421875 35.59375 -1.421875 \r\nQ 29.59375 -1.421875 25.265625 0.953125 \r\nQ 20.953125 3.328125 18.109375 8.203125 \r\nz\r\nM 48.6875 27.296875 \r\nQ 48.6875 37.203125 44.609375 42.84375 \r\nQ 40.53125 48.484375 33.40625 48.484375 \r\nQ 26.265625 48.484375 22.1875 42.84375 \r\nQ 18.109375 37.203125 18.109375 27.296875 \r\nQ 18.109375 17.390625 22.1875 11.75 \r\nQ 26.265625 6.109375 33.40625 6.109375 \r\nQ 40.53125 6.109375 44.609375 11.75 \r\nQ 48.6875 17.390625 48.6875 27.296875 \r\nz\r\n\" id=\"DejaVuSans-112\"/>\r\n        <path d=\"M 41.109375 46.296875 \r\nQ 39.59375 47.171875 37.8125 47.578125 \r\nQ 36.03125 48 33.890625 48 \r\nQ 26.265625 48 22.1875 43.046875 \r\nQ 18.109375 38.09375 18.109375 28.8125 \r\nL 18.109375 0 \r\nL 9.078125 0 \r\nL 9.078125 54.6875 \r\nL 18.109375 54.6875 \r\nL 18.109375 46.1875 \r\nQ 20.953125 51.171875 25.484375 53.578125 \r\nQ 30.03125 56 36.53125 56 \r\nQ 37.453125 56 38.578125 55.875 \r\nQ 39.703125 55.765625 41.0625 55.515625 \r\nz\r\n\" id=\"DejaVuSans-114\"/>\r\n        <path d=\"M 18.3125 70.21875 \r\nL 18.3125 54.6875 \r\nL 36.8125 54.6875 \r\nL 36.8125 47.703125 \r\nL 18.3125 47.703125 \r\nL 18.3125 18.015625 \r\nQ 18.3125 11.328125 20.140625 9.421875 \r\nQ 21.96875 7.515625 27.59375 7.515625 \r\nL 36.8125 7.515625 \r\nL 36.8125 0 \r\nL 27.59375 0 \r\nQ 17.1875 0 13.234375 3.875 \r\nQ 9.28125 7.765625 9.28125 18.015625 \r\nL 9.28125 47.703125 \r\nL 2.6875 47.703125 \r\nL 2.6875 54.6875 \r\nL 9.28125 54.6875 \r\nL 9.28125 70.21875 \r\nz\r\n\" id=\"DejaVuSans-116\"/>\r\n        <path d=\"M 54.890625 33.015625 \r\nL 54.890625 0 \r\nL 45.90625 0 \r\nL 45.90625 32.71875 \r\nQ 45.90625 40.484375 42.875 44.328125 \r\nQ 39.84375 48.1875 33.796875 48.1875 \r\nQ 26.515625 48.1875 22.3125 43.546875 \r\nQ 18.109375 38.921875 18.109375 30.90625 \r\nL 18.109375 0 \r\nL 9.078125 0 \r\nL 9.078125 54.6875 \r\nL 18.109375 54.6875 \r\nL 18.109375 46.1875 \r\nQ 21.34375 51.125 25.703125 53.5625 \r\nQ 30.078125 56 35.796875 56 \r\nQ 45.21875 56 50.046875 50.171875 \r\nQ 54.890625 44.34375 54.890625 33.015625 \r\nz\r\n\" id=\"DejaVuSans-110\"/>\r\n        <path d=\"M 44.28125 53.078125 \r\nL 44.28125 44.578125 \r\nQ 40.484375 46.53125 36.375 47.5 \r\nQ 32.28125 48.484375 27.875 48.484375 \r\nQ 21.1875 48.484375 17.84375 46.4375 \r\nQ 14.5 44.390625 14.5 40.28125 \r\nQ 14.5 37.15625 16.890625 35.375 \r\nQ 19.28125 33.59375 26.515625 31.984375 \r\nL 29.59375 31.296875 \r\nQ 39.15625 29.25 43.1875 25.515625 \r\nQ 47.21875 21.78125 47.21875 15.09375 \r\nQ 47.21875 7.46875 41.1875 3.015625 \r\nQ 35.15625 -1.421875 24.609375 -1.421875 \r\nQ 20.21875 -1.421875 15.453125 -0.5625 \r\nQ 10.6875 0.296875 5.421875 2 \r\nL 5.421875 11.28125 \r\nQ 10.40625 8.6875 15.234375 7.390625 \r\nQ 20.0625 6.109375 24.8125 6.109375 \r\nQ 31.15625 6.109375 34.5625 8.28125 \r\nQ 37.984375 10.453125 37.984375 14.40625 \r\nQ 37.984375 18.0625 35.515625 20.015625 \r\nQ 33.0625 21.96875 24.703125 23.78125 \r\nL 21.578125 24.515625 \r\nQ 13.234375 26.265625 9.515625 29.90625 \r\nQ 5.8125 33.546875 5.8125 39.890625 \r\nQ 5.8125 47.609375 11.28125 51.796875 \r\nQ 16.75 56 26.8125 56 \r\nQ 31.78125 56 36.171875 55.265625 \r\nQ 40.578125 54.546875 44.28125 53.078125 \r\nz\r\n\" id=\"DejaVuSans-115\"/>\r\n        <path d=\"M 9.421875 54.6875 \r\nL 18.40625 54.6875 \r\nL 18.40625 0 \r\nL 9.421875 0 \r\nz\r\nM 9.421875 75.984375 \r\nL 18.40625 75.984375 \r\nL 18.40625 64.59375 \r\nL 9.421875 64.59375 \r\nz\r\n\" id=\"DejaVuSans-105\"/>\r\n        <path d=\"M 30.609375 48.390625 \r\nQ 23.390625 48.390625 19.1875 42.75 \r\nQ 14.984375 37.109375 14.984375 27.296875 \r\nQ 14.984375 17.484375 19.15625 11.84375 \r\nQ 23.34375 6.203125 30.609375 6.203125 \r\nQ 37.796875 6.203125 41.984375 11.859375 \r\nQ 46.1875 17.53125 46.1875 27.296875 \r\nQ 46.1875 37.015625 41.984375 42.703125 \r\nQ 37.796875 48.390625 30.609375 48.390625 \r\nz\r\nM 30.609375 56 \r\nQ 42.328125 56 49.015625 48.375 \r\nQ 55.71875 40.765625 55.71875 27.296875 \r\nQ 55.71875 13.875 49.015625 6.21875 \r\nQ 42.328125 -1.421875 30.609375 -1.421875 \r\nQ 18.84375 -1.421875 12.171875 6.21875 \r\nQ 5.515625 13.875 5.515625 27.296875 \r\nQ 5.515625 40.765625 12.171875 48.375 \r\nQ 18.84375 56 30.609375 56 \r\nz\r\n\" id=\"DejaVuSans-111\"/>\r\n       </defs>\r\n       <use xlink:href=\"#DejaVuSans-104\"/>\r\n       <use x=\"63.378906\" xlink:href=\"#DejaVuSans-121\"/>\r\n       <use x=\"122.558594\" xlink:href=\"#DejaVuSans-112\"/>\r\n       <use x=\"186.035156\" xlink:href=\"#DejaVuSans-101\"/>\r\n       <use x=\"247.558594\" xlink:href=\"#DejaVuSans-114\"/>\r\n       <use x=\"288.671875\" xlink:href=\"#DejaVuSans-116\"/>\r\n       <use x=\"327.880859\" xlink:href=\"#DejaVuSans-101\"/>\r\n       <use x=\"389.404297\" xlink:href=\"#DejaVuSans-110\"/>\r\n       <use x=\"452.783203\" xlink:href=\"#DejaVuSans-115\"/>\r\n       <use x=\"504.882812\" xlink:href=\"#DejaVuSans-105\"/>\r\n       <use x=\"532.666016\" xlink:href=\"#DejaVuSans-111\"/>\r\n       <use x=\"593.847656\" xlink:href=\"#DejaVuSans-110\"/>\r\n      </g>\r\n     </g>\r\n    </g>\r\n    <g id=\"xtick_3\">\r\n     <g id=\"line2d_3\">\r\n      <g>\r\n       <use style=\"stroke:#000000;\" x=\"326.433098\" xlink:href=\"#ma02799eca5\" y=\"392.734969\"/>\r\n      </g>\r\n     </g>\r\n     <g id=\"text_3\">\r\n      <!-- heart_disease -->\r\n      <g transform=\"translate(329.891911 492.946156)rotate(-90)scale(0.132 -0.132)\">\r\n       <defs>\r\n        <path d=\"M 50.984375 -16.609375 \r\nL 50.984375 -23.578125 \r\nL -0.984375 -23.578125 \r\nL -0.984375 -16.609375 \r\nz\r\n\" id=\"DejaVuSans-95\"/>\r\n        <path d=\"M 45.40625 46.390625 \r\nL 45.40625 75.984375 \r\nL 54.390625 75.984375 \r\nL 54.390625 0 \r\nL 45.40625 0 \r\nL 45.40625 8.203125 \r\nQ 42.578125 3.328125 38.25 0.953125 \r\nQ 33.9375 -1.421875 27.875 -1.421875 \r\nQ 17.96875 -1.421875 11.734375 6.484375 \r\nQ 5.515625 14.40625 5.515625 27.296875 \r\nQ 5.515625 40.1875 11.734375 48.09375 \r\nQ 17.96875 56 27.875 56 \r\nQ 33.9375 56 38.25 53.625 \r\nQ 42.578125 51.265625 45.40625 46.390625 \r\nz\r\nM 14.796875 27.296875 \r\nQ 14.796875 17.390625 18.875 11.75 \r\nQ 22.953125 6.109375 30.078125 6.109375 \r\nQ 37.203125 6.109375 41.296875 11.75 \r\nQ 45.40625 17.390625 45.40625 27.296875 \r\nQ 45.40625 37.203125 41.296875 42.84375 \r\nQ 37.203125 48.484375 30.078125 48.484375 \r\nQ 22.953125 48.484375 18.875 42.84375 \r\nQ 14.796875 37.203125 14.796875 27.296875 \r\nz\r\n\" id=\"DejaVuSans-100\"/>\r\n       </defs>\r\n       <use xlink:href=\"#DejaVuSans-104\"/>\r\n       <use x=\"63.378906\" xlink:href=\"#DejaVuSans-101\"/>\r\n       <use x=\"124.902344\" xlink:href=\"#DejaVuSans-97\"/>\r\n       <use x=\"186.181641\" xlink:href=\"#DejaVuSans-114\"/>\r\n       <use x=\"227.294922\" xlink:href=\"#DejaVuSans-116\"/>\r\n       <use x=\"266.503906\" xlink:href=\"#DejaVuSans-95\"/>\r\n       <use x=\"316.503906\" xlink:href=\"#DejaVuSans-100\"/>\r\n       <use x=\"379.980469\" xlink:href=\"#DejaVuSans-105\"/>\r\n       <use x=\"407.763672\" xlink:href=\"#DejaVuSans-115\"/>\r\n       <use x=\"459.863281\" xlink:href=\"#DejaVuSans-101\"/>\r\n       <use x=\"521.386719\" xlink:href=\"#DejaVuSans-97\"/>\r\n       <use x=\"582.666016\" xlink:href=\"#DejaVuSans-115\"/>\r\n       <use x=\"634.765625\" xlink:href=\"#DejaVuSans-101\"/>\r\n      </g>\r\n     </g>\r\n    </g>\r\n    <g id=\"xtick_4\">\r\n     <g id=\"line2d_4\">\r\n      <g>\r\n       <use style=\"stroke:#000000;\" x=\"402.958813\" xlink:href=\"#ma02799eca5\" y=\"392.734969\"/>\r\n      </g>\r\n     </g>\r\n     <g id=\"text_4\">\r\n      <!-- avg_glucose_level -->\r\n      <g transform=\"translate(406.417625 520.653781)rotate(-90)scale(0.132 -0.132)\">\r\n       <defs>\r\n        <path d=\"M 2.984375 54.6875 \r\nL 12.5 54.6875 \r\nL 29.59375 8.796875 \r\nL 46.6875 54.6875 \r\nL 56.203125 54.6875 \r\nL 35.6875 0 \r\nL 23.484375 0 \r\nz\r\n\" id=\"DejaVuSans-118\"/>\r\n        <path d=\"M 9.421875 75.984375 \r\nL 18.40625 75.984375 \r\nL 18.40625 0 \r\nL 9.421875 0 \r\nz\r\n\" id=\"DejaVuSans-108\"/>\r\n        <path d=\"M 8.5 21.578125 \r\nL 8.5 54.6875 \r\nL 17.484375 54.6875 \r\nL 17.484375 21.921875 \r\nQ 17.484375 14.15625 20.5 10.265625 \r\nQ 23.53125 6.390625 29.59375 6.390625 \r\nQ 36.859375 6.390625 41.078125 11.03125 \r\nQ 45.3125 15.671875 45.3125 23.6875 \r\nL 45.3125 54.6875 \r\nL 54.296875 54.6875 \r\nL 54.296875 0 \r\nL 45.3125 0 \r\nL 45.3125 8.40625 \r\nQ 42.046875 3.421875 37.71875 1 \r\nQ 33.40625 -1.421875 27.6875 -1.421875 \r\nQ 18.265625 -1.421875 13.375 4.4375 \r\nQ 8.5 10.296875 8.5 21.578125 \r\nz\r\nM 31.109375 56 \r\nz\r\n\" id=\"DejaVuSans-117\"/>\r\n        <path d=\"M 48.78125 52.59375 \r\nL 48.78125 44.1875 \r\nQ 44.96875 46.296875 41.140625 47.34375 \r\nQ 37.3125 48.390625 33.40625 48.390625 \r\nQ 24.65625 48.390625 19.8125 42.84375 \r\nQ 14.984375 37.3125 14.984375 27.296875 \r\nQ 14.984375 17.28125 19.8125 11.734375 \r\nQ 24.65625 6.203125 33.40625 6.203125 \r\nQ 37.3125 6.203125 41.140625 7.25 \r\nQ 44.96875 8.296875 48.78125 10.40625 \r\nL 48.78125 2.09375 \r\nQ 45.015625 0.34375 40.984375 -0.53125 \r\nQ 36.96875 -1.421875 32.421875 -1.421875 \r\nQ 20.0625 -1.421875 12.78125 6.34375 \r\nQ 5.515625 14.109375 5.515625 27.296875 \r\nQ 5.515625 40.671875 12.859375 48.328125 \r\nQ 20.21875 56 33.015625 56 \r\nQ 37.15625 56 41.109375 55.140625 \r\nQ 45.0625 54.296875 48.78125 52.59375 \r\nz\r\n\" id=\"DejaVuSans-99\"/>\r\n       </defs>\r\n       <use xlink:href=\"#DejaVuSans-97\"/>\r\n       <use x=\"61.279297\" xlink:href=\"#DejaVuSans-118\"/>\r\n       <use x=\"120.458984\" xlink:href=\"#DejaVuSans-103\"/>\r\n       <use x=\"183.935547\" xlink:href=\"#DejaVuSans-95\"/>\r\n       <use x=\"233.935547\" xlink:href=\"#DejaVuSans-103\"/>\r\n       <use x=\"297.412109\" xlink:href=\"#DejaVuSans-108\"/>\r\n       <use x=\"325.195312\" xlink:href=\"#DejaVuSans-117\"/>\r\n       <use x=\"388.574219\" xlink:href=\"#DejaVuSans-99\"/>\r\n       <use x=\"443.554688\" xlink:href=\"#DejaVuSans-111\"/>\r\n       <use x=\"504.736328\" xlink:href=\"#DejaVuSans-115\"/>\r\n       <use x=\"556.835938\" xlink:href=\"#DejaVuSans-101\"/>\r\n       <use x=\"618.359375\" xlink:href=\"#DejaVuSans-95\"/>\r\n       <use x=\"668.359375\" xlink:href=\"#DejaVuSans-108\"/>\r\n       <use x=\"696.142578\" xlink:href=\"#DejaVuSans-101\"/>\r\n       <use x=\"757.666016\" xlink:href=\"#DejaVuSans-118\"/>\r\n       <use x=\"816.845703\" xlink:href=\"#DejaVuSans-101\"/>\r\n       <use x=\"878.369141\" xlink:href=\"#DejaVuSans-108\"/>\r\n      </g>\r\n     </g>\r\n    </g>\r\n    <g id=\"xtick_5\">\r\n     <g id=\"line2d_5\">\r\n      <g>\r\n       <use style=\"stroke:#000000;\" x=\"479.484527\" xlink:href=\"#ma02799eca5\" y=\"392.734969\"/>\r\n      </g>\r\n     </g>\r\n     <g id=\"text_5\">\r\n      <!-- bmi -->\r\n      <g transform=\"translate(483.126902 425.939656)rotate(-90)scale(0.132 -0.132)\">\r\n       <defs>\r\n        <path d=\"M 48.6875 27.296875 \r\nQ 48.6875 37.203125 44.609375 42.84375 \r\nQ 40.53125 48.484375 33.40625 48.484375 \r\nQ 26.265625 48.484375 22.1875 42.84375 \r\nQ 18.109375 37.203125 18.109375 27.296875 \r\nQ 18.109375 17.390625 22.1875 11.75 \r\nQ 26.265625 6.109375 33.40625 6.109375 \r\nQ 40.53125 6.109375 44.609375 11.75 \r\nQ 48.6875 17.390625 48.6875 27.296875 \r\nz\r\nM 18.109375 46.390625 \r\nQ 20.953125 51.265625 25.265625 53.625 \r\nQ 29.59375 56 35.59375 56 \r\nQ 45.5625 56 51.78125 48.09375 \r\nQ 58.015625 40.1875 58.015625 27.296875 \r\nQ 58.015625 14.40625 51.78125 6.484375 \r\nQ 45.5625 -1.421875 35.59375 -1.421875 \r\nQ 29.59375 -1.421875 25.265625 0.953125 \r\nQ 20.953125 3.328125 18.109375 8.203125 \r\nL 18.109375 0 \r\nL 9.078125 0 \r\nL 9.078125 75.984375 \r\nL 18.109375 75.984375 \r\nz\r\n\" id=\"DejaVuSans-98\"/>\r\n        <path d=\"M 52 44.1875 \r\nQ 55.375 50.25 60.0625 53.125 \r\nQ 64.75 56 71.09375 56 \r\nQ 79.640625 56 84.28125 50.015625 \r\nQ 88.921875 44.046875 88.921875 33.015625 \r\nL 88.921875 0 \r\nL 79.890625 0 \r\nL 79.890625 32.71875 \r\nQ 79.890625 40.578125 77.09375 44.375 \r\nQ 74.3125 48.1875 68.609375 48.1875 \r\nQ 61.625 48.1875 57.5625 43.546875 \r\nQ 53.515625 38.921875 53.515625 30.90625 \r\nL 53.515625 0 \r\nL 44.484375 0 \r\nL 44.484375 32.71875 \r\nQ 44.484375 40.625 41.703125 44.40625 \r\nQ 38.921875 48.1875 33.109375 48.1875 \r\nQ 26.21875 48.1875 22.15625 43.53125 \r\nQ 18.109375 38.875 18.109375 30.90625 \r\nL 18.109375 0 \r\nL 9.078125 0 \r\nL 9.078125 54.6875 \r\nL 18.109375 54.6875 \r\nL 18.109375 46.1875 \r\nQ 21.1875 51.21875 25.484375 53.609375 \r\nQ 29.78125 56 35.6875 56 \r\nQ 41.65625 56 45.828125 52.96875 \r\nQ 50 49.953125 52 44.1875 \r\nz\r\n\" id=\"DejaVuSans-109\"/>\r\n       </defs>\r\n       <use xlink:href=\"#DejaVuSans-98\"/>\r\n       <use x=\"63.476562\" xlink:href=\"#DejaVuSans-109\"/>\r\n       <use x=\"160.888672\" xlink:href=\"#DejaVuSans-105\"/>\r\n      </g>\r\n     </g>\r\n    </g>\r\n    <g id=\"xtick_6\">\r\n     <g id=\"line2d_6\">\r\n      <g>\r\n       <use style=\"stroke:#000000;\" x=\"556.010241\" xlink:href=\"#ma02799eca5\" y=\"392.734969\"/>\r\n      </g>\r\n     </g>\r\n     <g id=\"text_6\">\r\n      <!-- height -->\r\n      <g transform=\"translate(559.652616 443.109969)rotate(-90)scale(0.132 -0.132)\">\r\n       <use xlink:href=\"#DejaVuSans-104\"/>\r\n       <use x=\"63.378906\" xlink:href=\"#DejaVuSans-101\"/>\r\n       <use x=\"124.902344\" xlink:href=\"#DejaVuSans-105\"/>\r\n       <use x=\"152.685547\" xlink:href=\"#DejaVuSans-103\"/>\r\n       <use x=\"216.162109\" xlink:href=\"#DejaVuSans-104\"/>\r\n       <use x=\"279.541016\" xlink:href=\"#DejaVuSans-116\"/>\r\n      </g>\r\n     </g>\r\n    </g>\r\n    <g id=\"xtick_7\">\r\n     <g id=\"line2d_7\">\r\n      <g>\r\n       <use style=\"stroke:#000000;\" x=\"632.535955\" xlink:href=\"#ma02799eca5\" y=\"392.734969\"/>\r\n      </g>\r\n     </g>\r\n     <g id=\"text_7\">\r\n      <!-- stroke -->\r\n      <g transform=\"translate(636.17833 441.579594)rotate(-90)scale(0.132 -0.132)\">\r\n       <defs>\r\n        <path d=\"M 9.078125 75.984375 \r\nL 18.109375 75.984375 \r\nL 18.109375 31.109375 \r\nL 44.921875 54.6875 \r\nL 56.390625 54.6875 \r\nL 27.390625 29.109375 \r\nL 57.625 0 \r\nL 45.90625 0 \r\nL 18.109375 26.703125 \r\nL 18.109375 0 \r\nL 9.078125 0 \r\nz\r\n\" id=\"DejaVuSans-107\"/>\r\n       </defs>\r\n       <use xlink:href=\"#DejaVuSans-115\"/>\r\n       <use x=\"52.099609\" xlink:href=\"#DejaVuSans-116\"/>\r\n       <use x=\"91.308594\" xlink:href=\"#DejaVuSans-114\"/>\r\n       <use x=\"130.171875\" xlink:href=\"#DejaVuSans-111\"/>\r\n       <use x=\"191.353516\" xlink:href=\"#DejaVuSans-107\"/>\r\n       <use x=\"245.638672\" xlink:href=\"#DejaVuSans-101\"/>\r\n      </g>\r\n     </g>\r\n    </g>\r\n   </g>\r\n   <g id=\"matplotlib.axis_2\">\r\n    <g id=\"ytick_1\">\r\n     <g id=\"line2d_8\">\r\n      <defs>\r\n       <path d=\"M 0 0 \r\nL -4.8 0 \r\n\" id=\"m2e1790ad5d\" style=\"stroke:#000000;\"/>\r\n      </defs>\r\n      <g>\r\n       <use style=\"stroke:#000000;\" x=\"135.118812\" xlink:href=\"#m2e1790ad5d\" y=\"39.394969\"/>\r\n      </g>\r\n     </g>\r\n     <g id=\"text_8\">\r\n      <!-- age -->\r\n      <g transform=\"translate(102.227625 44.409937)scale(0.132 -0.132)\">\r\n       <use xlink:href=\"#DejaVuSans-97\"/>\r\n       <use x=\"61.279297\" xlink:href=\"#DejaVuSans-103\"/>\r\n       <use x=\"124.755859\" xlink:href=\"#DejaVuSans-101\"/>\r\n      </g>\r\n     </g>\r\n    </g>\r\n    <g id=\"ytick_2\">\r\n     <g id=\"line2d_9\">\r\n      <g>\r\n       <use style=\"stroke:#000000;\" x=\"135.118812\" xlink:href=\"#m2e1790ad5d\" y=\"93.754969\"/>\r\n      </g>\r\n     </g>\r\n     <g id=\"text_9\">\r\n      <!-- hypertension -->\r\n      <g transform=\"translate(40.063875 98.769937)scale(0.132 -0.132)\">\r\n       <use xlink:href=\"#DejaVuSans-104\"/>\r\n       <use x=\"63.378906\" xlink:href=\"#DejaVuSans-121\"/>\r\n       <use x=\"122.558594\" xlink:href=\"#DejaVuSans-112\"/>\r\n       <use x=\"186.035156\" xlink:href=\"#DejaVuSans-101\"/>\r\n       <use x=\"247.558594\" xlink:href=\"#DejaVuSans-114\"/>\r\n       <use x=\"288.671875\" xlink:href=\"#DejaVuSans-116\"/>\r\n       <use x=\"327.880859\" xlink:href=\"#DejaVuSans-101\"/>\r\n       <use x=\"389.404297\" xlink:href=\"#DejaVuSans-110\"/>\r\n       <use x=\"452.783203\" xlink:href=\"#DejaVuSans-115\"/>\r\n       <use x=\"504.882812\" xlink:href=\"#DejaVuSans-105\"/>\r\n       <use x=\"532.666016\" xlink:href=\"#DejaVuSans-111\"/>\r\n       <use x=\"593.847656\" xlink:href=\"#DejaVuSans-110\"/>\r\n      </g>\r\n     </g>\r\n    </g>\r\n    <g id=\"ytick_3\">\r\n     <g id=\"line2d_10\">\r\n      <g>\r\n       <use style=\"stroke:#000000;\" x=\"135.118812\" xlink:href=\"#m2e1790ad5d\" y=\"148.114969\"/>\r\n      </g>\r\n     </g>\r\n     <g id=\"text_10\">\r\n      <!-- heart_disease -->\r\n      <g transform=\"translate(34.907625 153.129937)scale(0.132 -0.132)\">\r\n       <use xlink:href=\"#DejaVuSans-104\"/>\r\n       <use x=\"63.378906\" xlink:href=\"#DejaVuSans-101\"/>\r\n       <use x=\"124.902344\" xlink:href=\"#DejaVuSans-97\"/>\r\n       <use x=\"186.181641\" xlink:href=\"#DejaVuSans-114\"/>\r\n       <use x=\"227.294922\" xlink:href=\"#DejaVuSans-116\"/>\r\n       <use x=\"266.503906\" xlink:href=\"#DejaVuSans-95\"/>\r\n       <use x=\"316.503906\" xlink:href=\"#DejaVuSans-100\"/>\r\n       <use x=\"379.980469\" xlink:href=\"#DejaVuSans-105\"/>\r\n       <use x=\"407.763672\" xlink:href=\"#DejaVuSans-115\"/>\r\n       <use x=\"459.863281\" xlink:href=\"#DejaVuSans-101\"/>\r\n       <use x=\"521.386719\" xlink:href=\"#DejaVuSans-97\"/>\r\n       <use x=\"582.666016\" xlink:href=\"#DejaVuSans-115\"/>\r\n       <use x=\"634.765625\" xlink:href=\"#DejaVuSans-101\"/>\r\n      </g>\r\n     </g>\r\n    </g>\r\n    <g id=\"ytick_4\">\r\n     <g id=\"line2d_11\">\r\n      <g>\r\n       <use style=\"stroke:#000000;\" x=\"135.118812\" xlink:href=\"#m2e1790ad5d\" y=\"202.474969\"/>\r\n      </g>\r\n     </g>\r\n     <g id=\"text_11\">\r\n      <!-- avg_glucose_level -->\r\n      <g transform=\"translate(7.2 207.489937)scale(0.132 -0.132)\">\r\n       <use xlink:href=\"#DejaVuSans-97\"/>\r\n       <use x=\"61.279297\" xlink:href=\"#DejaVuSans-118\"/>\r\n       <use x=\"120.458984\" xlink:href=\"#DejaVuSans-103\"/>\r\n       <use x=\"183.935547\" xlink:href=\"#DejaVuSans-95\"/>\r\n       <use x=\"233.935547\" xlink:href=\"#DejaVuSans-103\"/>\r\n       <use x=\"297.412109\" xlink:href=\"#DejaVuSans-108\"/>\r\n       <use x=\"325.195312\" xlink:href=\"#DejaVuSans-117\"/>\r\n       <use x=\"388.574219\" xlink:href=\"#DejaVuSans-99\"/>\r\n       <use x=\"443.554688\" xlink:href=\"#DejaVuSans-111\"/>\r\n       <use x=\"504.736328\" xlink:href=\"#DejaVuSans-115\"/>\r\n       <use x=\"556.835938\" xlink:href=\"#DejaVuSans-101\"/>\r\n       <use x=\"618.359375\" xlink:href=\"#DejaVuSans-95\"/>\r\n       <use x=\"668.359375\" xlink:href=\"#DejaVuSans-108\"/>\r\n       <use x=\"696.142578\" xlink:href=\"#DejaVuSans-101\"/>\r\n       <use x=\"757.666016\" xlink:href=\"#DejaVuSans-118\"/>\r\n       <use x=\"816.845703\" xlink:href=\"#DejaVuSans-101\"/>\r\n       <use x=\"878.369141\" xlink:href=\"#DejaVuSans-108\"/>\r\n      </g>\r\n     </g>\r\n    </g>\r\n    <g id=\"ytick_5\">\r\n     <g id=\"line2d_12\">\r\n      <g>\r\n       <use style=\"stroke:#000000;\" x=\"135.118812\" xlink:href=\"#m2e1790ad5d\" y=\"256.834969\"/>\r\n      </g>\r\n     </g>\r\n     <g id=\"text_12\">\r\n      <!-- bmi -->\r\n      <g transform=\"translate(101.914125 261.849937)scale(0.132 -0.132)\">\r\n       <use xlink:href=\"#DejaVuSans-98\"/>\r\n       <use x=\"63.476562\" xlink:href=\"#DejaVuSans-109\"/>\r\n       <use x=\"160.888672\" xlink:href=\"#DejaVuSans-105\"/>\r\n      </g>\r\n     </g>\r\n    </g>\r\n    <g id=\"ytick_6\">\r\n     <g id=\"line2d_13\">\r\n      <g>\r\n       <use style=\"stroke:#000000;\" x=\"135.118812\" xlink:href=\"#m2e1790ad5d\" y=\"311.194969\"/>\r\n      </g>\r\n     </g>\r\n     <g id=\"text_13\">\r\n      <!-- height -->\r\n      <g transform=\"translate(84.743812 316.209937)scale(0.132 -0.132)\">\r\n       <use xlink:href=\"#DejaVuSans-104\"/>\r\n       <use x=\"63.378906\" xlink:href=\"#DejaVuSans-101\"/>\r\n       <use x=\"124.902344\" xlink:href=\"#DejaVuSans-105\"/>\r\n       <use x=\"152.685547\" xlink:href=\"#DejaVuSans-103\"/>\r\n       <use x=\"216.162109\" xlink:href=\"#DejaVuSans-104\"/>\r\n       <use x=\"279.541016\" xlink:href=\"#DejaVuSans-116\"/>\r\n      </g>\r\n     </g>\r\n    </g>\r\n    <g id=\"ytick_7\">\r\n     <g id=\"line2d_14\">\r\n      <g>\r\n       <use style=\"stroke:#000000;\" x=\"135.118812\" xlink:href=\"#m2e1790ad5d\" y=\"365.554969\"/>\r\n      </g>\r\n     </g>\r\n     <g id=\"text_14\">\r\n      <!-- stroke -->\r\n      <g transform=\"translate(86.274187 370.569937)scale(0.132 -0.132)\">\r\n       <use xlink:href=\"#DejaVuSans-115\"/>\r\n       <use x=\"52.099609\" xlink:href=\"#DejaVuSans-116\"/>\r\n       <use x=\"91.308594\" xlink:href=\"#DejaVuSans-114\"/>\r\n       <use x=\"130.171875\" xlink:href=\"#DejaVuSans-111\"/>\r\n       <use x=\"191.353516\" xlink:href=\"#DejaVuSans-107\"/>\r\n       <use x=\"245.638672\" xlink:href=\"#DejaVuSans-101\"/>\r\n      </g>\r\n     </g>\r\n    </g>\r\n   </g>\r\n  </g>\r\n  <g id=\"axes_2\">\r\n   <g id=\"patch_3\">\r\n    <path clip-path=\"url(#p7e0521c307)\" d=\"M 704.278813 392.734969 \r\nL 704.278813 391.248562 \r\nL 704.278813 13.701375 \r\nL 704.278813 12.214969 \r\nL 723.304813 12.214969 \r\nL 723.304813 13.701375 \r\nL 723.304813 391.248562 \r\nL 723.304813 392.734969 \r\nz\r\n\" style=\"fill:#ffffff;stroke:#ffffff;stroke-linejoin:miter;stroke-width:0.01;\"/>\r\n   </g>\r\n   <image height=\"381\" id=\"imageb8b34fff3c\" transform=\"scale(1 -1)translate(0 -381)\" width=\"19\" x=\"704\" xlink:href=\"data:image/png;base64,\r\niVBORw0KGgoAAAANSUhEUgAAABMAAAF9CAYAAADm2VNSAAAB/0lEQVR4nO2dgW0jQQwDtXdb2pfw/ZcSpwYFA3gAUgUQN0uKXjuGc/6d/5+B5s55KK3hlGbmnudwYsVcD4s5LCYnRrvJ6aGYd8Ang6PBYmqjAe6mGJN1U7vo5DqZMVPczMBsBX1VzIyZ4ebH6yYoFxNaLSaZMzQadXM/dfMPYuKm5R5MHVrrC8r9gAaIN4DMWftsPzCm2E1QTNxnLCYnJv4owty0oJgZs25uxcyYdXMrRl5DzZhiNxvarVgx11PM/dCY1qu71k3z+wDrmRVzP8X8slg/itjPxb5lOmrM7uZeLATTG9qQCmpo92IhmN7QZuym98wa2v2EhNaLeedw9+2QMxMvevtsPTQmt05eN73RUFeQtWljdhMVi3BTW0Fs03pDC/51LSa0XjdnQkJbzK2YGRMU81YQ6iZ5ZmJMtLbJJ4PPDBXzYmZswMNi1s3l1M393Ie8OdbN9RRzPywmuQHipiXPzOxmCKY2tHXzu2Li64EY8/yQYlpMq5uoAeyZvSm1HbEBL7sB1tCiu0luAN1nIaHNwEQrSNu0LKa2gkKaNgYzo4JITHLRxe8DzJiomxGhDakgr5twaCPcDOkz9q4BGiC+IJNnZn6P7nXT+pmjGNMcWlBMjEmKvdpvRbzg9+zQM6NfUFBM6+9SwW5qMVk3uYejKwjEfLX/SU9rwC+99438ZG2QNgAAAABJRU5ErkJggg==\" y=\"-11\"/>\r\n   <g id=\"matplotlib.axis_3\"/>\r\n   <g id=\"matplotlib.axis_4\">\r\n    <g id=\"ytick_8\">\r\n     <g id=\"line2d_15\">\r\n      <defs>\r\n       <path d=\"M 0 0 \r\nL 4.8 0 \r\n\" id=\"m703f0263ed\" style=\"stroke:#000000;\"/>\r\n      </defs>\r\n      <g>\r\n       <use style=\"stroke:#000000;\" x=\"723.304813\" xlink:href=\"#m703f0263ed\" y=\"350.46755\"/>\r\n      </g>\r\n     </g>\r\n     <g id=\"text_15\">\r\n      <!-- −0.75 -->\r\n      <g transform=\"translate(731.604813 355.482519)scale(0.132 -0.132)\">\r\n       <defs>\r\n        <path d=\"M 10.59375 35.5 \r\nL 73.1875 35.5 \r\nL 73.1875 27.203125 \r\nL 10.59375 27.203125 \r\nz\r\n\" id=\"DejaVuSans-8722\"/>\r\n        <path d=\"M 31.78125 66.40625 \r\nQ 24.171875 66.40625 20.328125 58.90625 \r\nQ 16.5 51.421875 16.5 36.375 \r\nQ 16.5 21.390625 20.328125 13.890625 \r\nQ 24.171875 6.390625 31.78125 6.390625 \r\nQ 39.453125 6.390625 43.28125 13.890625 \r\nQ 47.125 21.390625 47.125 36.375 \r\nQ 47.125 51.421875 43.28125 58.90625 \r\nQ 39.453125 66.40625 31.78125 66.40625 \r\nz\r\nM 31.78125 74.21875 \r\nQ 44.046875 74.21875 50.515625 64.515625 \r\nQ 56.984375 54.828125 56.984375 36.375 \r\nQ 56.984375 17.96875 50.515625 8.265625 \r\nQ 44.046875 -1.421875 31.78125 -1.421875 \r\nQ 19.53125 -1.421875 13.0625 8.265625 \r\nQ 6.59375 17.96875 6.59375 36.375 \r\nQ 6.59375 54.828125 13.0625 64.515625 \r\nQ 19.53125 74.21875 31.78125 74.21875 \r\nz\r\n\" id=\"DejaVuSans-48\"/>\r\n        <path d=\"M 10.6875 12.40625 \r\nL 21 12.40625 \r\nL 21 0 \r\nL 10.6875 0 \r\nz\r\n\" id=\"DejaVuSans-46\"/>\r\n        <path d=\"M 8.203125 72.90625 \r\nL 55.078125 72.90625 \r\nL 55.078125 68.703125 \r\nL 28.609375 0 \r\nL 18.3125 0 \r\nL 43.21875 64.59375 \r\nL 8.203125 64.59375 \r\nz\r\n\" id=\"DejaVuSans-55\"/>\r\n        <path d=\"M 10.796875 72.90625 \r\nL 49.515625 72.90625 \r\nL 49.515625 64.59375 \r\nL 19.828125 64.59375 \r\nL 19.828125 46.734375 \r\nQ 21.96875 47.46875 24.109375 47.828125 \r\nQ 26.265625 48.1875 28.421875 48.1875 \r\nQ 40.625 48.1875 47.75 41.5 \r\nQ 54.890625 34.8125 54.890625 23.390625 \r\nQ 54.890625 11.625 47.5625 5.09375 \r\nQ 40.234375 -1.421875 26.90625 -1.421875 \r\nQ 22.3125 -1.421875 17.546875 -0.640625 \r\nQ 12.796875 0.140625 7.71875 1.703125 \r\nL 7.71875 11.625 \r\nQ 12.109375 9.234375 16.796875 8.0625 \r\nQ 21.484375 6.890625 26.703125 6.890625 \r\nQ 35.15625 6.890625 40.078125 11.328125 \r\nQ 45.015625 15.765625 45.015625 23.390625 \r\nQ 45.015625 31 40.078125 35.4375 \r\nQ 35.15625 39.890625 26.703125 39.890625 \r\nQ 22.75 39.890625 18.8125 39.015625 \r\nQ 14.890625 38.140625 10.796875 36.28125 \r\nz\r\n\" id=\"DejaVuSans-53\"/>\r\n       </defs>\r\n       <use xlink:href=\"#DejaVuSans-8722\"/>\r\n       <use x=\"83.789062\" xlink:href=\"#DejaVuSans-48\"/>\r\n       <use x=\"147.412109\" xlink:href=\"#DejaVuSans-46\"/>\r\n       <use x=\"179.199219\" xlink:href=\"#DejaVuSans-55\"/>\r\n       <use x=\"242.822266\" xlink:href=\"#DejaVuSans-53\"/>\r\n      </g>\r\n     </g>\r\n    </g>\r\n    <g id=\"ytick_9\">\r\n     <g id=\"line2d_16\">\r\n      <g>\r\n       <use style=\"stroke:#000000;\" x=\"723.304813\" xlink:href=\"#m703f0263ed\" y=\"302.145753\"/>\r\n      </g>\r\n     </g>\r\n     <g id=\"text_16\">\r\n      <!-- −0.50 -->\r\n      <g transform=\"translate(731.604813 307.160722)scale(0.132 -0.132)\">\r\n       <use xlink:href=\"#DejaVuSans-8722\"/>\r\n       <use x=\"83.789062\" xlink:href=\"#DejaVuSans-48\"/>\r\n       <use x=\"147.412109\" xlink:href=\"#DejaVuSans-46\"/>\r\n       <use x=\"179.199219\" xlink:href=\"#DejaVuSans-53\"/>\r\n       <use x=\"242.822266\" xlink:href=\"#DejaVuSans-48\"/>\r\n      </g>\r\n     </g>\r\n    </g>\r\n    <g id=\"ytick_10\">\r\n     <g id=\"line2d_17\">\r\n      <g>\r\n       <use style=\"stroke:#000000;\" x=\"723.304813\" xlink:href=\"#m703f0263ed\" y=\"253.823955\"/>\r\n      </g>\r\n     </g>\r\n     <g id=\"text_17\">\r\n      <!-- −0.25 -->\r\n      <g transform=\"translate(731.604813 258.838924)scale(0.132 -0.132)\">\r\n       <defs>\r\n        <path d=\"M 19.1875 8.296875 \r\nL 53.609375 8.296875 \r\nL 53.609375 0 \r\nL 7.328125 0 \r\nL 7.328125 8.296875 \r\nQ 12.9375 14.109375 22.625 23.890625 \r\nQ 32.328125 33.6875 34.8125 36.53125 \r\nQ 39.546875 41.84375 41.421875 45.53125 \r\nQ 43.3125 49.21875 43.3125 52.78125 \r\nQ 43.3125 58.59375 39.234375 62.25 \r\nQ 35.15625 65.921875 28.609375 65.921875 \r\nQ 23.96875 65.921875 18.8125 64.3125 \r\nQ 13.671875 62.703125 7.8125 59.421875 \r\nL 7.8125 69.390625 \r\nQ 13.765625 71.78125 18.9375 73 \r\nQ 24.125 74.21875 28.421875 74.21875 \r\nQ 39.75 74.21875 46.484375 68.546875 \r\nQ 53.21875 62.890625 53.21875 53.421875 \r\nQ 53.21875 48.921875 51.53125 44.890625 \r\nQ 49.859375 40.875 45.40625 35.40625 \r\nQ 44.1875 33.984375 37.640625 27.21875 \r\nQ 31.109375 20.453125 19.1875 8.296875 \r\nz\r\n\" id=\"DejaVuSans-50\"/>\r\n       </defs>\r\n       <use xlink:href=\"#DejaVuSans-8722\"/>\r\n       <use x=\"83.789062\" xlink:href=\"#DejaVuSans-48\"/>\r\n       <use x=\"147.412109\" xlink:href=\"#DejaVuSans-46\"/>\r\n       <use x=\"179.199219\" xlink:href=\"#DejaVuSans-50\"/>\r\n       <use x=\"242.822266\" xlink:href=\"#DejaVuSans-53\"/>\r\n      </g>\r\n     </g>\r\n    </g>\r\n    <g id=\"ytick_11\">\r\n     <g id=\"line2d_18\">\r\n      <g>\r\n       <use style=\"stroke:#000000;\" x=\"723.304813\" xlink:href=\"#m703f0263ed\" y=\"205.502158\"/>\r\n      </g>\r\n     </g>\r\n     <g id=\"text_18\">\r\n      <!-- 0.00 -->\r\n      <g transform=\"translate(731.604813 210.517127)scale(0.132 -0.132)\">\r\n       <use xlink:href=\"#DejaVuSans-48\"/>\r\n       <use x=\"63.623047\" xlink:href=\"#DejaVuSans-46\"/>\r\n       <use x=\"95.410156\" xlink:href=\"#DejaVuSans-48\"/>\r\n       <use x=\"159.033203\" xlink:href=\"#DejaVuSans-48\"/>\r\n      </g>\r\n     </g>\r\n    </g>\r\n    <g id=\"ytick_12\">\r\n     <g id=\"line2d_19\">\r\n      <g>\r\n       <use style=\"stroke:#000000;\" x=\"723.304813\" xlink:href=\"#m703f0263ed\" y=\"157.180361\"/>\r\n      </g>\r\n     </g>\r\n     <g id=\"text_19\">\r\n      <!-- 0.25 -->\r\n      <g transform=\"translate(731.604813 162.19533)scale(0.132 -0.132)\">\r\n       <use xlink:href=\"#DejaVuSans-48\"/>\r\n       <use x=\"63.623047\" xlink:href=\"#DejaVuSans-46\"/>\r\n       <use x=\"95.410156\" xlink:href=\"#DejaVuSans-50\"/>\r\n       <use x=\"159.033203\" xlink:href=\"#DejaVuSans-53\"/>\r\n      </g>\r\n     </g>\r\n    </g>\r\n    <g id=\"ytick_13\">\r\n     <g id=\"line2d_20\">\r\n      <g>\r\n       <use style=\"stroke:#000000;\" x=\"723.304813\" xlink:href=\"#m703f0263ed\" y=\"108.858563\"/>\r\n      </g>\r\n     </g>\r\n     <g id=\"text_20\">\r\n      <!-- 0.50 -->\r\n      <g transform=\"translate(731.604813 113.873532)scale(0.132 -0.132)\">\r\n       <use xlink:href=\"#DejaVuSans-48\"/>\r\n       <use x=\"63.623047\" xlink:href=\"#DejaVuSans-46\"/>\r\n       <use x=\"95.410156\" xlink:href=\"#DejaVuSans-53\"/>\r\n       <use x=\"159.033203\" xlink:href=\"#DejaVuSans-48\"/>\r\n      </g>\r\n     </g>\r\n    </g>\r\n    <g id=\"ytick_14\">\r\n     <g id=\"line2d_21\">\r\n      <g>\r\n       <use style=\"stroke:#000000;\" x=\"723.304813\" xlink:href=\"#m703f0263ed\" y=\"60.536766\"/>\r\n      </g>\r\n     </g>\r\n     <g id=\"text_21\">\r\n      <!-- 0.75 -->\r\n      <g transform=\"translate(731.604813 65.551735)scale(0.132 -0.132)\">\r\n       <use xlink:href=\"#DejaVuSans-48\"/>\r\n       <use x=\"63.623047\" xlink:href=\"#DejaVuSans-46\"/>\r\n       <use x=\"95.410156\" xlink:href=\"#DejaVuSans-55\"/>\r\n       <use x=\"159.033203\" xlink:href=\"#DejaVuSans-53\"/>\r\n      </g>\r\n     </g>\r\n    </g>\r\n    <g id=\"ytick_15\">\r\n     <g id=\"line2d_22\">\r\n      <g>\r\n       <use style=\"stroke:#000000;\" x=\"723.304813\" xlink:href=\"#m703f0263ed\" y=\"12.214969\"/>\r\n      </g>\r\n     </g>\r\n     <g id=\"text_22\">\r\n      <!-- 1.00 -->\r\n      <g transform=\"translate(731.604813 17.229937)scale(0.132 -0.132)\">\r\n       <defs>\r\n        <path d=\"M 12.40625 8.296875 \r\nL 28.515625 8.296875 \r\nL 28.515625 63.921875 \r\nL 10.984375 60.40625 \r\nL 10.984375 69.390625 \r\nL 28.421875 72.90625 \r\nL 38.28125 72.90625 \r\nL 38.28125 8.296875 \r\nL 54.390625 8.296875 \r\nL 54.390625 0 \r\nL 12.40625 0 \r\nz\r\n\" id=\"DejaVuSans-49\"/>\r\n       </defs>\r\n       <use xlink:href=\"#DejaVuSans-49\"/>\r\n       <use x=\"63.623047\" xlink:href=\"#DejaVuSans-46\"/>\r\n       <use x=\"95.410156\" xlink:href=\"#DejaVuSans-48\"/>\r\n       <use x=\"159.033203\" xlink:href=\"#DejaVuSans-48\"/>\r\n      </g>\r\n     </g>\r\n    </g>\r\n   </g>\r\n   <g id=\"patch_4\">\r\n    <path d=\"M 704.278813 392.734969 \r\nL 704.278813 391.248562 \r\nL 704.278813 13.701375 \r\nL 704.278813 12.214969 \r\nL 723.304813 12.214969 \r\nL 723.304813 13.701375 \r\nL 723.304813 391.248562 \r\nL 723.304813 392.734969 \r\nz\r\n\" style=\"fill:none;\"/>\r\n   </g>\r\n  </g>\r\n </g>\r\n <defs>\r\n  <clipPath id=\"pd309bf1f52\">\r\n   <rect height=\"380.52\" width=\"535.68\" x=\"135.118812\" y=\"12.214969\"/>\r\n  </clipPath>\r\n  <clipPath id=\"p7e0521c307\">\r\n   <rect height=\"380.52\" width=\"19.026\" x=\"704.278813\" y=\"12.214969\"/>\r\n  </clipPath>\r\n </defs>\r\n</svg>\r\n",
      "image/png": "[encoded data removed]"
     },
     "metadata": {
      "needs_background": "light"
     }
    }
   ],
   "source": [
    "plt.figure(figsize=(12,7))\n",
    "sns.set_context(\"paper\", font_scale=1.5)\n",
    "sns.heatmap(df.corr(), cmap=\"viridis\")"
   ]
  },
  {
   "cell_type": "code",
   "execution_count": 12,
   "metadata": {},
   "outputs": [
    {
     "output_type": "execute_result",
     "data": {
      "text/plain": [
       "<AxesSubplot:xlabel='avg_glucose_level'>"
      ]
     },
     "metadata": {},
     "execution_count": 12
    },
    {
     "output_type": "display_data",
     "data": {
      "text/plain": "<Figure size 432x288 with 1 Axes>",
      "image/svg+xml": "<?xml version=\"1.0\" encoding=\"utf-8\" standalone=\"no\"?>\r\n<!DOCTYPE svg PUBLIC \"-//W3C//DTD SVG 1.1//EN\"\r\n  \"http://www.w3.org/Graphics/SVG/1.1/DTD/svg11.dtd\">\r\n<!-- Created with matplotlib (https://matplotlib.org/) -->\r\n<svg height=\"271.252125pt\" version=\"1.1\" viewBox=\"0 0 354 271.252125\" width=\"354pt\" xmlns=\"http://www.w3.org/2000/svg\" xmlns:xlink=\"http://www.w3.org/1999/xlink\">\r\n <metadata>\r\n  <rdf:RDF xmlns:cc=\"http://creativecommons.org/ns#\" xmlns:dc=\"http://purl.org/dc/elements/1.1/\" xmlns:rdf=\"http://www.w3.org/1999/02/22-rdf-syntax-ns#\">\r\n   <cc:Work>\r\n    <dc:type rdf:resource=\"http://purl.org/dc/dcmitype/StillImage\"/>\r\n    <dc:date>2021-05-19T21:35:20.496696</dc:date>\r\n    <dc:format>image/svg+xml</dc:format>\r\n    <dc:creator>\r\n     <cc:Agent>\r\n      <dc:title>Matplotlib v3.3.2, https://matplotlib.org/</dc:title>\r\n     </cc:Agent>\r\n    </dc:creator>\r\n   </cc:Work>\r\n  </rdf:RDF>\r\n </metadata>\r\n <defs>\r\n  <style type=\"text/css\">*{stroke-linecap:butt;stroke-linejoin:round;}</style>\r\n </defs>\r\n <g id=\"figure_1\">\r\n  <g id=\"patch_1\">\r\n   <path d=\"M 0 271.252125 \r\nL 354 271.252125 \r\nL 354 0 \r\nL 0 0 \r\nz\r\n\" style=\"fill:none;\"/>\r\n  </g>\r\n  <g id=\"axes_1\">\r\n   <g id=\"patch_2\">\r\n    <path d=\"M 12 224.64 \r\nL 346.8 224.64 \r\nL 346.8 7.2 \r\nL 12 7.2 \r\nz\r\n\" style=\"fill:#ffffff;\"/>\r\n   </g>\r\n   <g id=\"patch_3\">\r\n    <path clip-path=\"url(#p32e2ccf1d3)\" d=\"M 59.123808 28.944 \r\nL 59.123808 202.896 \r\nL 111.521782 202.896 \r\nL 111.521782 28.944 \r\nL 59.123808 28.944 \r\nz\r\n\" style=\"fill:#df2020;stroke:#4c4c4c;stroke-linejoin:miter;stroke-width:1.2;\"/>\r\n   </g>\r\n   <g id=\"matplotlib.axis_1\">\r\n    <g id=\"xtick_1\">\r\n     <g id=\"line2d_1\">\r\n      <defs>\r\n       <path d=\"M 0 0 \r\nL 0 4.8 \r\n\" id=\"m0ab727b23f\" style=\"stroke:#000000;\"/>\r\n      </defs>\r\n      <g>\r\n       <use style=\"stroke:#000000;\" x=\"19.742986\" xlink:href=\"#m0ab727b23f\" y=\"224.64\"/>\r\n      </g>\r\n     </g>\r\n     <g id=\"text_1\">\r\n      <!-- 50 -->\r\n      <g transform=\"translate(11.344486 242.969937)scale(0.132 -0.132)\">\r\n       <defs>\r\n        <path d=\"M 10.796875 72.90625 \r\nL 49.515625 72.90625 \r\nL 49.515625 64.59375 \r\nL 19.828125 64.59375 \r\nL 19.828125 46.734375 \r\nQ 21.96875 47.46875 24.109375 47.828125 \r\nQ 26.265625 48.1875 28.421875 48.1875 \r\nQ 40.625 48.1875 47.75 41.5 \r\nQ 54.890625 34.8125 54.890625 23.390625 \r\nQ 54.890625 11.625 47.5625 5.09375 \r\nQ 40.234375 -1.421875 26.90625 -1.421875 \r\nQ 22.3125 -1.421875 17.546875 -0.640625 \r\nQ 12.796875 0.140625 7.71875 1.703125 \r\nL 7.71875 11.625 \r\nQ 12.109375 9.234375 16.796875 8.0625 \r\nQ 21.484375 6.890625 26.703125 6.890625 \r\nQ 35.15625 6.890625 40.078125 11.328125 \r\nQ 45.015625 15.765625 45.015625 23.390625 \r\nQ 45.015625 31 40.078125 35.4375 \r\nQ 35.15625 39.890625 26.703125 39.890625 \r\nQ 22.75 39.890625 18.8125 39.015625 \r\nQ 14.890625 38.140625 10.796875 36.28125 \r\nz\r\n\" id=\"DejaVuSans-53\"/>\r\n        <path d=\"M 31.78125 66.40625 \r\nQ 24.171875 66.40625 20.328125 58.90625 \r\nQ 16.5 51.421875 16.5 36.375 \r\nQ 16.5 21.390625 20.328125 13.890625 \r\nQ 24.171875 6.390625 31.78125 6.390625 \r\nQ 39.453125 6.390625 43.28125 13.890625 \r\nQ 47.125 21.390625 47.125 36.375 \r\nQ 47.125 51.421875 43.28125 58.90625 \r\nQ 39.453125 66.40625 31.78125 66.40625 \r\nz\r\nM 31.78125 74.21875 \r\nQ 44.046875 74.21875 50.515625 64.515625 \r\nQ 56.984375 54.828125 56.984375 36.375 \r\nQ 56.984375 17.96875 50.515625 8.265625 \r\nQ 44.046875 -1.421875 31.78125 -1.421875 \r\nQ 19.53125 -1.421875 13.0625 8.265625 \r\nQ 6.59375 17.96875 6.59375 36.375 \r\nQ 6.59375 54.828125 13.0625 64.515625 \r\nQ 19.53125 74.21875 31.78125 74.21875 \r\nz\r\n\" id=\"DejaVuSans-48\"/>\r\n       </defs>\r\n       <use xlink:href=\"#DejaVuSans-53\"/>\r\n       <use x=\"63.623047\" xlink:href=\"#DejaVuSans-48\"/>\r\n      </g>\r\n     </g>\r\n    </g>\r\n    <g id=\"xtick_2\">\r\n     <g id=\"line2d_2\">\r\n      <g>\r\n       <use style=\"stroke:#000000;\" x=\"91.344481\" xlink:href=\"#m0ab727b23f\" y=\"224.64\"/>\r\n      </g>\r\n     </g>\r\n     <g id=\"text_2\">\r\n      <!-- 100 -->\r\n      <g transform=\"translate(78.746731 242.969937)scale(0.132 -0.132)\">\r\n       <defs>\r\n        <path d=\"M 12.40625 8.296875 \r\nL 28.515625 8.296875 \r\nL 28.515625 63.921875 \r\nL 10.984375 60.40625 \r\nL 10.984375 69.390625 \r\nL 28.421875 72.90625 \r\nL 38.28125 72.90625 \r\nL 38.28125 8.296875 \r\nL 54.390625 8.296875 \r\nL 54.390625 0 \r\nL 12.40625 0 \r\nz\r\n\" id=\"DejaVuSans-49\"/>\r\n       </defs>\r\n       <use xlink:href=\"#DejaVuSans-49\"/>\r\n       <use x=\"63.623047\" xlink:href=\"#DejaVuSans-48\"/>\r\n       <use x=\"127.246094\" xlink:href=\"#DejaVuSans-48\"/>\r\n      </g>\r\n     </g>\r\n    </g>\r\n    <g id=\"xtick_3\">\r\n     <g id=\"line2d_3\">\r\n      <g>\r\n       <use style=\"stroke:#000000;\" x=\"162.945976\" xlink:href=\"#m0ab727b23f\" y=\"224.64\"/>\r\n      </g>\r\n     </g>\r\n     <g id=\"text_3\">\r\n      <!-- 150 -->\r\n      <g transform=\"translate(150.348226 242.969937)scale(0.132 -0.132)\">\r\n       <use xlink:href=\"#DejaVuSans-49\"/>\r\n       <use x=\"63.623047\" xlink:href=\"#DejaVuSans-53\"/>\r\n       <use x=\"127.246094\" xlink:href=\"#DejaVuSans-48\"/>\r\n      </g>\r\n     </g>\r\n    </g>\r\n    <g id=\"xtick_4\">\r\n     <g id=\"line2d_4\">\r\n      <g>\r\n       <use style=\"stroke:#000000;\" x=\"234.547472\" xlink:href=\"#m0ab727b23f\" y=\"224.64\"/>\r\n      </g>\r\n     </g>\r\n     <g id=\"text_4\">\r\n      <!-- 200 -->\r\n      <g transform=\"translate(221.949722 242.969937)scale(0.132 -0.132)\">\r\n       <defs>\r\n        <path d=\"M 19.1875 8.296875 \r\nL 53.609375 8.296875 \r\nL 53.609375 0 \r\nL 7.328125 0 \r\nL 7.328125 8.296875 \r\nQ 12.9375 14.109375 22.625 23.890625 \r\nQ 32.328125 33.6875 34.8125 36.53125 \r\nQ 39.546875 41.84375 41.421875 45.53125 \r\nQ 43.3125 49.21875 43.3125 52.78125 \r\nQ 43.3125 58.59375 39.234375 62.25 \r\nQ 35.15625 65.921875 28.609375 65.921875 \r\nQ 23.96875 65.921875 18.8125 64.3125 \r\nQ 13.671875 62.703125 7.8125 59.421875 \r\nL 7.8125 69.390625 \r\nQ 13.765625 71.78125 18.9375 73 \r\nQ 24.125 74.21875 28.421875 74.21875 \r\nQ 39.75 74.21875 46.484375 68.546875 \r\nQ 53.21875 62.890625 53.21875 53.421875 \r\nQ 53.21875 48.921875 51.53125 44.890625 \r\nQ 49.859375 40.875 45.40625 35.40625 \r\nQ 44.1875 33.984375 37.640625 27.21875 \r\nQ 31.109375 20.453125 19.1875 8.296875 \r\nz\r\n\" id=\"DejaVuSans-50\"/>\r\n       </defs>\r\n       <use xlink:href=\"#DejaVuSans-50\"/>\r\n       <use x=\"63.623047\" xlink:href=\"#DejaVuSans-48\"/>\r\n       <use x=\"127.246094\" xlink:href=\"#DejaVuSans-48\"/>\r\n      </g>\r\n     </g>\r\n    </g>\r\n    <g id=\"xtick_5\">\r\n     <g id=\"line2d_5\">\r\n      <g>\r\n       <use style=\"stroke:#000000;\" x=\"306.148967\" xlink:href=\"#m0ab727b23f\" y=\"224.64\"/>\r\n      </g>\r\n     </g>\r\n     <g id=\"text_5\">\r\n      <!-- 250 -->\r\n      <g transform=\"translate(293.551217 242.969937)scale(0.132 -0.132)\">\r\n       <use xlink:href=\"#DejaVuSans-50\"/>\r\n       <use x=\"63.623047\" xlink:href=\"#DejaVuSans-53\"/>\r\n       <use x=\"127.246094\" xlink:href=\"#DejaVuSans-48\"/>\r\n      </g>\r\n     </g>\r\n    </g>\r\n    <g id=\"text_6\">\r\n     <!-- avg_glucose_level -->\r\n     <g transform=\"translate(114.153375 260.656875)scale(0.144 -0.144)\">\r\n      <defs>\r\n       <path d=\"M 34.28125 27.484375 \r\nQ 23.390625 27.484375 19.1875 25 \r\nQ 14.984375 22.515625 14.984375 16.5 \r\nQ 14.984375 11.71875 18.140625 8.90625 \r\nQ 21.296875 6.109375 26.703125 6.109375 \r\nQ 34.1875 6.109375 38.703125 11.40625 \r\nQ 43.21875 16.703125 43.21875 25.484375 \r\nL 43.21875 27.484375 \r\nz\r\nM 52.203125 31.203125 \r\nL 52.203125 0 \r\nL 43.21875 0 \r\nL 43.21875 8.296875 \r\nQ 40.140625 3.328125 35.546875 0.953125 \r\nQ 30.953125 -1.421875 24.3125 -1.421875 \r\nQ 15.921875 -1.421875 10.953125 3.296875 \r\nQ 6 8.015625 6 15.921875 \r\nQ 6 25.140625 12.171875 29.828125 \r\nQ 18.359375 34.515625 30.609375 34.515625 \r\nL 43.21875 34.515625 \r\nL 43.21875 35.40625 \r\nQ 43.21875 41.609375 39.140625 45 \r\nQ 35.0625 48.390625 27.6875 48.390625 \r\nQ 23 48.390625 18.546875 47.265625 \r\nQ 14.109375 46.140625 10.015625 43.890625 \r\nL 10.015625 52.203125 \r\nQ 14.9375 54.109375 19.578125 55.046875 \r\nQ 24.21875 56 28.609375 56 \r\nQ 40.484375 56 46.34375 49.84375 \r\nQ 52.203125 43.703125 52.203125 31.203125 \r\nz\r\n\" id=\"DejaVuSans-97\"/>\r\n       <path d=\"M 2.984375 54.6875 \r\nL 12.5 54.6875 \r\nL 29.59375 8.796875 \r\nL 46.6875 54.6875 \r\nL 56.203125 54.6875 \r\nL 35.6875 0 \r\nL 23.484375 0 \r\nz\r\n\" id=\"DejaVuSans-118\"/>\r\n       <path d=\"M 45.40625 27.984375 \r\nQ 45.40625 37.75 41.375 43.109375 \r\nQ 37.359375 48.484375 30.078125 48.484375 \r\nQ 22.859375 48.484375 18.828125 43.109375 \r\nQ 14.796875 37.75 14.796875 27.984375 \r\nQ 14.796875 18.265625 18.828125 12.890625 \r\nQ 22.859375 7.515625 30.078125 7.515625 \r\nQ 37.359375 7.515625 41.375 12.890625 \r\nQ 45.40625 18.265625 45.40625 27.984375 \r\nz\r\nM 54.390625 6.78125 \r\nQ 54.390625 -7.171875 48.1875 -13.984375 \r\nQ 42 -20.796875 29.203125 -20.796875 \r\nQ 24.46875 -20.796875 20.265625 -20.09375 \r\nQ 16.0625 -19.390625 12.109375 -17.921875 \r\nL 12.109375 -9.1875 \r\nQ 16.0625 -11.328125 19.921875 -12.34375 \r\nQ 23.78125 -13.375 27.78125 -13.375 \r\nQ 36.625 -13.375 41.015625 -8.765625 \r\nQ 45.40625 -4.15625 45.40625 5.171875 \r\nL 45.40625 9.625 \r\nQ 42.625 4.78125 38.28125 2.390625 \r\nQ 33.9375 0 27.875 0 \r\nQ 17.828125 0 11.671875 7.65625 \r\nQ 5.515625 15.328125 5.515625 27.984375 \r\nQ 5.515625 40.671875 11.671875 48.328125 \r\nQ 17.828125 56 27.875 56 \r\nQ 33.9375 56 38.28125 53.609375 \r\nQ 42.625 51.21875 45.40625 46.390625 \r\nL 45.40625 54.6875 \r\nL 54.390625 54.6875 \r\nz\r\n\" id=\"DejaVuSans-103\"/>\r\n       <path d=\"M 50.984375 -16.609375 \r\nL 50.984375 -23.578125 \r\nL -0.984375 -23.578125 \r\nL -0.984375 -16.609375 \r\nz\r\n\" id=\"DejaVuSans-95\"/>\r\n       <path d=\"M 9.421875 75.984375 \r\nL 18.40625 75.984375 \r\nL 18.40625 0 \r\nL 9.421875 0 \r\nz\r\n\" id=\"DejaVuSans-108\"/>\r\n       <path d=\"M 8.5 21.578125 \r\nL 8.5 54.6875 \r\nL 17.484375 54.6875 \r\nL 17.484375 21.921875 \r\nQ 17.484375 14.15625 20.5 10.265625 \r\nQ 23.53125 6.390625 29.59375 6.390625 \r\nQ 36.859375 6.390625 41.078125 11.03125 \r\nQ 45.3125 15.671875 45.3125 23.6875 \r\nL 45.3125 54.6875 \r\nL 54.296875 54.6875 \r\nL 54.296875 0 \r\nL 45.3125 0 \r\nL 45.3125 8.40625 \r\nQ 42.046875 3.421875 37.71875 1 \r\nQ 33.40625 -1.421875 27.6875 -1.421875 \r\nQ 18.265625 -1.421875 13.375 4.4375 \r\nQ 8.5 10.296875 8.5 21.578125 \r\nz\r\nM 31.109375 56 \r\nz\r\n\" id=\"DejaVuSans-117\"/>\r\n       <path d=\"M 48.78125 52.59375 \r\nL 48.78125 44.1875 \r\nQ 44.96875 46.296875 41.140625 47.34375 \r\nQ 37.3125 48.390625 33.40625 48.390625 \r\nQ 24.65625 48.390625 19.8125 42.84375 \r\nQ 14.984375 37.3125 14.984375 27.296875 \r\nQ 14.984375 17.28125 19.8125 11.734375 \r\nQ 24.65625 6.203125 33.40625 6.203125 \r\nQ 37.3125 6.203125 41.140625 7.25 \r\nQ 44.96875 8.296875 48.78125 10.40625 \r\nL 48.78125 2.09375 \r\nQ 45.015625 0.34375 40.984375 -0.53125 \r\nQ 36.96875 -1.421875 32.421875 -1.421875 \r\nQ 20.0625 -1.421875 12.78125 6.34375 \r\nQ 5.515625 14.109375 5.515625 27.296875 \r\nQ 5.515625 40.671875 12.859375 48.328125 \r\nQ 20.21875 56 33.015625 56 \r\nQ 37.15625 56 41.109375 55.140625 \r\nQ 45.0625 54.296875 48.78125 52.59375 \r\nz\r\n\" id=\"DejaVuSans-99\"/>\r\n       <path d=\"M 30.609375 48.390625 \r\nQ 23.390625 48.390625 19.1875 42.75 \r\nQ 14.984375 37.109375 14.984375 27.296875 \r\nQ 14.984375 17.484375 19.15625 11.84375 \r\nQ 23.34375 6.203125 30.609375 6.203125 \r\nQ 37.796875 6.203125 41.984375 11.859375 \r\nQ 46.1875 17.53125 46.1875 27.296875 \r\nQ 46.1875 37.015625 41.984375 42.703125 \r\nQ 37.796875 48.390625 30.609375 48.390625 \r\nz\r\nM 30.609375 56 \r\nQ 42.328125 56 49.015625 48.375 \r\nQ 55.71875 40.765625 55.71875 27.296875 \r\nQ 55.71875 13.875 49.015625 6.21875 \r\nQ 42.328125 -1.421875 30.609375 -1.421875 \r\nQ 18.84375 -1.421875 12.171875 6.21875 \r\nQ 5.515625 13.875 5.515625 27.296875 \r\nQ 5.515625 40.765625 12.171875 48.375 \r\nQ 18.84375 56 30.609375 56 \r\nz\r\n\" id=\"DejaVuSans-111\"/>\r\n       <path d=\"M 44.28125 53.078125 \r\nL 44.28125 44.578125 \r\nQ 40.484375 46.53125 36.375 47.5 \r\nQ 32.28125 48.484375 27.875 48.484375 \r\nQ 21.1875 48.484375 17.84375 46.4375 \r\nQ 14.5 44.390625 14.5 40.28125 \r\nQ 14.5 37.15625 16.890625 35.375 \r\nQ 19.28125 33.59375 26.515625 31.984375 \r\nL 29.59375 31.296875 \r\nQ 39.15625 29.25 43.1875 25.515625 \r\nQ 47.21875 21.78125 47.21875 15.09375 \r\nQ 47.21875 7.46875 41.1875 3.015625 \r\nQ 35.15625 -1.421875 24.609375 -1.421875 \r\nQ 20.21875 -1.421875 15.453125 -0.5625 \r\nQ 10.6875 0.296875 5.421875 2 \r\nL 5.421875 11.28125 \r\nQ 10.40625 8.6875 15.234375 7.390625 \r\nQ 20.0625 6.109375 24.8125 6.109375 \r\nQ 31.15625 6.109375 34.5625 8.28125 \r\nQ 37.984375 10.453125 37.984375 14.40625 \r\nQ 37.984375 18.0625 35.515625 20.015625 \r\nQ 33.0625 21.96875 24.703125 23.78125 \r\nL 21.578125 24.515625 \r\nQ 13.234375 26.265625 9.515625 29.90625 \r\nQ 5.8125 33.546875 5.8125 39.890625 \r\nQ 5.8125 47.609375 11.28125 51.796875 \r\nQ 16.75 56 26.8125 56 \r\nQ 31.78125 56 36.171875 55.265625 \r\nQ 40.578125 54.546875 44.28125 53.078125 \r\nz\r\n\" id=\"DejaVuSans-115\"/>\r\n       <path d=\"M 56.203125 29.59375 \r\nL 56.203125 25.203125 \r\nL 14.890625 25.203125 \r\nQ 15.484375 15.921875 20.484375 11.0625 \r\nQ 25.484375 6.203125 34.421875 6.203125 \r\nQ 39.59375 6.203125 44.453125 7.46875 \r\nQ 49.3125 8.734375 54.109375 11.28125 \r\nL 54.109375 2.78125 \r\nQ 49.265625 0.734375 44.1875 -0.34375 \r\nQ 39.109375 -1.421875 33.890625 -1.421875 \r\nQ 20.796875 -1.421875 13.15625 6.1875 \r\nQ 5.515625 13.8125 5.515625 26.8125 \r\nQ 5.515625 40.234375 12.765625 48.109375 \r\nQ 20.015625 56 32.328125 56 \r\nQ 43.359375 56 49.78125 48.890625 \r\nQ 56.203125 41.796875 56.203125 29.59375 \r\nz\r\nM 47.21875 32.234375 \r\nQ 47.125 39.59375 43.09375 43.984375 \r\nQ 39.0625 48.390625 32.421875 48.390625 \r\nQ 24.90625 48.390625 20.390625 44.140625 \r\nQ 15.875 39.890625 15.1875 32.171875 \r\nz\r\n\" id=\"DejaVuSans-101\"/>\r\n      </defs>\r\n      <use xlink:href=\"#DejaVuSans-97\"/>\r\n      <use x=\"61.279297\" xlink:href=\"#DejaVuSans-118\"/>\r\n      <use x=\"120.458984\" xlink:href=\"#DejaVuSans-103\"/>\r\n      <use x=\"183.935547\" xlink:href=\"#DejaVuSans-95\"/>\r\n      <use x=\"233.935547\" xlink:href=\"#DejaVuSans-103\"/>\r\n      <use x=\"297.412109\" xlink:href=\"#DejaVuSans-108\"/>\r\n      <use x=\"325.195312\" xlink:href=\"#DejaVuSans-117\"/>\r\n      <use x=\"388.574219\" xlink:href=\"#DejaVuSans-99\"/>\r\n      <use x=\"443.554688\" xlink:href=\"#DejaVuSans-111\"/>\r\n      <use x=\"504.736328\" xlink:href=\"#DejaVuSans-115\"/>\r\n      <use x=\"556.835938\" xlink:href=\"#DejaVuSans-101\"/>\r\n      <use x=\"618.359375\" xlink:href=\"#DejaVuSans-95\"/>\r\n      <use x=\"668.359375\" xlink:href=\"#DejaVuSans-108\"/>\r\n      <use x=\"696.142578\" xlink:href=\"#DejaVuSans-101\"/>\r\n      <use x=\"757.666016\" xlink:href=\"#DejaVuSans-118\"/>\r\n      <use x=\"816.845703\" xlink:href=\"#DejaVuSans-101\"/>\r\n      <use x=\"878.369141\" xlink:href=\"#DejaVuSans-108\"/>\r\n     </g>\r\n    </g>\r\n   </g>\r\n   <g id=\"matplotlib.axis_2\">\r\n    <g id=\"ytick_1\">\r\n     <g id=\"line2d_6\">\r\n      <defs>\r\n       <path d=\"M 0 0 \r\nL -4.8 0 \r\n\" id=\"m569a0b034f\" style=\"stroke:#000000;\"/>\r\n      </defs>\r\n      <g>\r\n       <use style=\"stroke:#000000;\" x=\"12\" xlink:href=\"#m569a0b034f\" y=\"115.92\"/>\r\n      </g>\r\n     </g>\r\n    </g>\r\n   </g>\r\n   <g id=\"line2d_7\">\r\n    <path clip-path=\"url(#p32e2ccf1d3)\" d=\"M 59.123808 115.92 \r\nL 27.218182 115.92 \r\n\" style=\"fill:none;stroke:#4c4c4c;stroke-linecap:square;stroke-width:1.2;\"/>\r\n   </g>\r\n   <g id=\"line2d_8\">\r\n    <path clip-path=\"url(#p32e2ccf1d3)\" d=\"M 111.521782 115.92 \r\nL 188.937319 115.92 \r\n\" style=\"fill:none;stroke:#4c4c4c;stroke-linecap:square;stroke-width:1.2;\"/>\r\n   </g>\r\n   <g id=\"line2d_9\">\r\n    <path clip-path=\"url(#p32e2ccf1d3)\" d=\"M 27.218182 72.432 \r\nL 27.218182 159.408 \r\n\" style=\"fill:none;stroke:#4c4c4c;stroke-linecap:square;stroke-width:1.2;\"/>\r\n   </g>\r\n   <g id=\"line2d_10\">\r\n    <path clip-path=\"url(#p32e2ccf1d3)\" d=\"M 188.937319 72.432 \r\nL 188.937319 159.408 \r\n\" style=\"fill:none;stroke:#4c4c4c;stroke-linecap:square;stroke-width:1.2;\"/>\r\n   </g>\r\n   <g id=\"line2d_11\">\r\n    <defs>\r\n     <path d=\"M 0 3.535534 \r\nL 2.12132 0 \r\nL 0 -3.535534 \r\nL -2.12132 0 \r\nz\r\n\" id=\"m7e2dd480ad\" style=\"stroke:#4c4c4c;stroke-linejoin:miter;\"/>\r\n    </defs>\r\n    <g clip-path=\"url(#p32e2ccf1d3)\">\r\n     <use style=\"fill:#4c4c4c;stroke:#4c4c4c;stroke-linejoin:miter;\" x=\"301.179823\" xlink:href=\"#m7e2dd480ad\" y=\"115.92\"/>\r\n     <use style=\"fill:#4c4c4c;stroke:#4c4c4c;stroke-linejoin:miter;\" x=\"232.814716\" xlink:href=\"#m7e2dd480ad\" y=\"115.92\"/>\r\n     <use style=\"fill:#4c4c4c;stroke:#4c4c4c;stroke-linejoin:miter;\" x=\"196.083148\" xlink:href=\"#m7e2dd480ad\" y=\"115.92\"/>\r\n     <use style=\"fill:#4c4c4c;stroke:#4c4c4c;stroke-linejoin:miter;\" x=\"249.555145\" xlink:href=\"#m7e2dd480ad\" y=\"115.92\"/>\r\n     <use style=\"fill:#4c4c4c;stroke:#4c4c4c;stroke-linejoin:miter;\" x=\"258.476691\" xlink:href=\"#m7e2dd480ad\" y=\"115.92\"/>\r\n     <use style=\"fill:#4c4c4c;stroke:#4c4c4c;stroke-linejoin:miter;\" x=\"241.378254\" xlink:href=\"#m7e2dd480ad\" y=\"115.92\"/>\r\n     <use style=\"fill:#4c4c4c;stroke:#4c4c4c;stroke-linejoin:miter;\" x=\"191.658176\" xlink:href=\"#m7e2dd480ad\" y=\"115.92\"/>\r\n     <use style=\"fill:#4c4c4c;stroke:#4c4c4c;stroke-linejoin:miter;\" x=\"276.377065\" xlink:href=\"#m7e2dd480ad\" y=\"115.92\"/>\r\n     <use style=\"fill:#4c4c4c;stroke:#4c4c4c;stroke-linejoin:miter;\" x=\"197.486538\" xlink:href=\"#m7e2dd480ad\" y=\"115.92\"/>\r\n     <use style=\"fill:#4c4c4c;stroke:#4c4c4c;stroke-linejoin:miter;\" x=\"238.199148\" xlink:href=\"#m7e2dd480ad\" y=\"115.92\"/>\r\n     <use style=\"fill:#4c4c4c;stroke:#4c4c4c;stroke-linejoin:miter;\" x=\"190.770317\" xlink:href=\"#m7e2dd480ad\" y=\"115.92\"/>\r\n     <use style=\"fill:#4c4c4c;stroke:#4c4c4c;stroke-linejoin:miter;\" x=\"260.32401\" xlink:href=\"#m7e2dd480ad\" y=\"115.92\"/>\r\n     <use style=\"fill:#4c4c4c;stroke:#4c4c4c;stroke-linejoin:miter;\" x=\"272.78267\" xlink:href=\"#m7e2dd480ad\" y=\"115.92\"/>\r\n     <use style=\"fill:#4c4c4c;stroke:#4c4c4c;stroke-linejoin:miter;\" x=\"204.646687\" xlink:href=\"#m7e2dd480ad\" y=\"115.92\"/>\r\n     <use style=\"fill:#4c4c4c;stroke:#4c4c4c;stroke-linejoin:miter;\" x=\"253.693712\" xlink:href=\"#m7e2dd480ad\" y=\"115.92\"/>\r\n     <use style=\"fill:#4c4c4c;stroke:#4c4c4c;stroke-linejoin:miter;\" x=\"285.570697\" xlink:href=\"#m7e2dd480ad\" y=\"115.92\"/>\r\n     <use style=\"fill:#4c4c4c;stroke:#4c4c4c;stroke-linejoin:miter;\" x=\"218.351213\" xlink:href=\"#m7e2dd480ad\" y=\"115.92\"/>\r\n     <use style=\"fill:#4c4c4c;stroke:#4c4c4c;stroke-linejoin:miter;\" x=\"247.220936\" xlink:href=\"#m7e2dd480ad\" y=\"115.92\"/>\r\n     <use style=\"fill:#4c4c4c;stroke:#4c4c4c;stroke-linejoin:miter;\" x=\"278.482149\" xlink:href=\"#m7e2dd480ad\" y=\"115.92\"/>\r\n     <use style=\"fill:#4c4c4c;stroke:#4c4c4c;stroke-linejoin:miter;\" x=\"285.885744\" xlink:href=\"#m7e2dd480ad\" y=\"115.92\"/>\r\n     <use style=\"fill:#4c4c4c;stroke:#4c4c4c;stroke-linejoin:miter;\" x=\"258.834699\" xlink:href=\"#m7e2dd480ad\" y=\"115.92\"/>\r\n     <use style=\"fill:#4c4c4c;stroke:#4c4c4c;stroke-linejoin:miter;\" x=\"231.239483\" xlink:href=\"#m7e2dd480ad\" y=\"115.92\"/>\r\n     <use style=\"fill:#4c4c4c;stroke:#4c4c4c;stroke-linejoin:miter;\" x=\"226.714268\" xlink:href=\"#m7e2dd480ad\" y=\"115.92\"/>\r\n     <use style=\"fill:#4c4c4c;stroke:#4c4c4c;stroke-linejoin:miter;\" x=\"281.532373\" xlink:href=\"#m7e2dd480ad\" y=\"115.92\"/>\r\n     <use style=\"fill:#4c4c4c;stroke:#4c4c4c;stroke-linejoin:miter;\" x=\"283.623137\" xlink:href=\"#m7e2dd480ad\" y=\"115.92\"/>\r\n     <use style=\"fill:#4c4c4c;stroke:#4c4c4c;stroke-linejoin:miter;\" x=\"231.984138\" xlink:href=\"#m7e2dd480ad\" y=\"115.92\"/>\r\n     <use style=\"fill:#4c4c4c;stroke:#4c4c4c;stroke-linejoin:miter;\" x=\"262.758461\" xlink:href=\"#m7e2dd480ad\" y=\"115.92\"/>\r\n     <use style=\"fill:#4c4c4c;stroke:#4c4c4c;stroke-linejoin:miter;\" x=\"267.684644\" xlink:href=\"#m7e2dd480ad\" y=\"115.92\"/>\r\n     <use style=\"fill:#4c4c4c;stroke:#4c4c4c;stroke-linejoin:miter;\" x=\"284.067066\" xlink:href=\"#m7e2dd480ad\" y=\"115.92\"/>\r\n     <use style=\"fill:#4c4c4c;stroke:#4c4c4c;stroke-linejoin:miter;\" x=\"241.678981\" xlink:href=\"#m7e2dd480ad\" y=\"115.92\"/>\r\n     <use style=\"fill:#4c4c4c;stroke:#4c4c4c;stroke-linejoin:miter;\" x=\"308.998707\" xlink:href=\"#m7e2dd480ad\" y=\"115.92\"/>\r\n     <use style=\"fill:#4c4c4c;stroke:#4c4c4c;stroke-linejoin:miter;\" x=\"275.961777\" xlink:href=\"#m7e2dd480ad\" y=\"115.92\"/>\r\n     <use style=\"fill:#4c4c4c;stroke:#4c4c4c;stroke-linejoin:miter;\" x=\"245.216095\" xlink:href=\"#m7e2dd480ad\" y=\"115.92\"/>\r\n     <use style=\"fill:#4c4c4c;stroke:#4c4c4c;stroke-linejoin:miter;\" x=\"234.747956\" xlink:href=\"#m7e2dd480ad\" y=\"115.92\"/>\r\n     <use style=\"fill:#4c4c4c;stroke:#4c4c4c;stroke-linejoin:miter;\" x=\"207.238661\" xlink:href=\"#m7e2dd480ad\" y=\"115.92\"/>\r\n     <use style=\"fill:#4c4c4c;stroke:#4c4c4c;stroke-linejoin:miter;\" x=\"248.867771\" xlink:href=\"#m7e2dd480ad\" y=\"115.92\"/>\r\n     <use style=\"fill:#4c4c4c;stroke:#4c4c4c;stroke-linejoin:miter;\" x=\"200.722925\" xlink:href=\"#m7e2dd480ad\" y=\"115.92\"/>\r\n     <use style=\"fill:#4c4c4c;stroke:#4c4c4c;stroke-linejoin:miter;\" x=\"254.724773\" xlink:href=\"#m7e2dd480ad\" y=\"115.92\"/>\r\n     <use style=\"fill:#4c4c4c;stroke:#4c4c4c;stroke-linejoin:miter;\" x=\"279.928499\" xlink:href=\"#m7e2dd480ad\" y=\"115.92\"/>\r\n     <use style=\"fill:#4c4c4c;stroke:#4c4c4c;stroke-linejoin:miter;\" x=\"238.900843\" xlink:href=\"#m7e2dd480ad\" y=\"115.92\"/>\r\n     <use style=\"fill:#4c4c4c;stroke:#4c4c4c;stroke-linejoin:miter;\" x=\"238.356671\" xlink:href=\"#m7e2dd480ad\" y=\"115.92\"/>\r\n     <use style=\"fill:#4c4c4c;stroke:#4c4c4c;stroke-linejoin:miter;\" x=\"229.69289\" xlink:href=\"#m7e2dd480ad\" y=\"115.92\"/>\r\n     <use style=\"fill:#4c4c4c;stroke:#4c4c4c;stroke-linejoin:miter;\" x=\"258.748777\" xlink:href=\"#m7e2dd480ad\" y=\"115.92\"/>\r\n     <use style=\"fill:#4c4c4c;stroke:#4c4c4c;stroke-linejoin:miter;\" x=\"259.450472\" xlink:href=\"#m7e2dd480ad\" y=\"115.92\"/>\r\n     <use style=\"fill:#4c4c4c;stroke:#4c4c4c;stroke-linejoin:miter;\" x=\"240.991606\" xlink:href=\"#m7e2dd480ad\" y=\"115.92\"/>\r\n     <use style=\"fill:#4c4c4c;stroke:#4c4c4c;stroke-linejoin:miter;\" x=\"292.988612\" xlink:href=\"#m7e2dd480ad\" y=\"115.92\"/>\r\n     <use style=\"fill:#4c4c4c;stroke:#4c4c4c;stroke-linejoin:miter;\" x=\"287.833305\" xlink:href=\"#m7e2dd480ad\" y=\"115.92\"/>\r\n     <use style=\"fill:#4c4c4c;stroke:#4c4c4c;stroke-linejoin:miter;\" x=\"236.810079\" xlink:href=\"#m7e2dd480ad\" y=\"115.92\"/>\r\n     <use style=\"fill:#4c4c4c;stroke:#4c4c4c;stroke-linejoin:miter;\" x=\"246.075312\" xlink:href=\"#m7e2dd480ad\" y=\"115.92\"/>\r\n     <use style=\"fill:#4c4c4c;stroke:#4c4c4c;stroke-linejoin:miter;\" x=\"282.8212\" xlink:href=\"#m7e2dd480ad\" y=\"115.92\"/>\r\n     <use style=\"fill:#4c4c4c;stroke:#4c4c4c;stroke-linejoin:miter;\" x=\"291.141294\" xlink:href=\"#m7e2dd480ad\" y=\"115.92\"/>\r\n     <use style=\"fill:#4c4c4c;stroke:#4c4c4c;stroke-linejoin:miter;\" x=\"235.592854\" xlink:href=\"#m7e2dd480ad\" y=\"115.92\"/>\r\n     <use style=\"fill:#4c4c4c;stroke:#4c4c4c;stroke-linejoin:miter;\" x=\"285.312932\" xlink:href=\"#m7e2dd480ad\" y=\"115.92\"/>\r\n     <use style=\"fill:#4c4c4c;stroke:#4c4c4c;stroke-linejoin:miter;\" x=\"257.316747\" xlink:href=\"#m7e2dd480ad\" y=\"115.92\"/>\r\n     <use style=\"fill:#4c4c4c;stroke:#4c4c4c;stroke-linejoin:miter;\" x=\"281.646935\" xlink:href=\"#m7e2dd480ad\" y=\"115.92\"/>\r\n     <use style=\"fill:#4c4c4c;stroke:#4c4c4c;stroke-linejoin:miter;\" x=\"288.59228\" xlink:href=\"#m7e2dd480ad\" y=\"115.92\"/>\r\n     <use style=\"fill:#4c4c4c;stroke:#4c4c4c;stroke-linejoin:miter;\" x=\"255.197343\" xlink:href=\"#m7e2dd480ad\" y=\"115.92\"/>\r\n     <use style=\"fill:#4c4c4c;stroke:#4c4c4c;stroke-linejoin:miter;\" x=\"245.430899\" xlink:href=\"#m7e2dd480ad\" y=\"115.92\"/>\r\n     <use style=\"fill:#4c4c4c;stroke:#4c4c4c;stroke-linejoin:miter;\" x=\"258.777418\" xlink:href=\"#m7e2dd480ad\" y=\"115.92\"/>\r\n     <use style=\"fill:#4c4c4c;stroke:#4c4c4c;stroke-linejoin:miter;\" x=\"239.473655\" xlink:href=\"#m7e2dd480ad\" y=\"115.92\"/>\r\n     <use style=\"fill:#4c4c4c;stroke:#4c4c4c;stroke-linejoin:miter;\" x=\"263.861124\" xlink:href=\"#m7e2dd480ad\" y=\"115.92\"/>\r\n     <use style=\"fill:#4c4c4c;stroke:#4c4c4c;stroke-linejoin:miter;\" x=\"253.206821\" xlink:href=\"#m7e2dd480ad\" y=\"115.92\"/>\r\n     <use style=\"fill:#4c4c4c;stroke:#4c4c4c;stroke-linejoin:miter;\" x=\"260.023284\" xlink:href=\"#m7e2dd480ad\" y=\"115.92\"/>\r\n     <use style=\"fill:#4c4c4c;stroke:#4c4c4c;stroke-linejoin:miter;\" x=\"262.958945\" xlink:href=\"#m7e2dd480ad\" y=\"115.92\"/>\r\n     <use style=\"fill:#4c4c4c;stroke:#4c4c4c;stroke-linejoin:miter;\" x=\"243.497659\" xlink:href=\"#m7e2dd480ad\" y=\"115.92\"/>\r\n     <use style=\"fill:#4c4c4c;stroke:#4c4c4c;stroke-linejoin:miter;\" x=\"274.515426\" xlink:href=\"#m7e2dd480ad\" y=\"115.92\"/>\r\n     <use style=\"fill:#4c4c4c;stroke:#4c4c4c;stroke-linejoin:miter;\" x=\"231.024678\" xlink:href=\"#m7e2dd480ad\" y=\"115.92\"/>\r\n     <use style=\"fill:#4c4c4c;stroke:#4c4c4c;stroke-linejoin:miter;\" x=\"256.50049\" xlink:href=\"#m7e2dd480ad\" y=\"115.92\"/>\r\n     <use style=\"fill:#4c4c4c;stroke:#4c4c4c;stroke-linejoin:miter;\" x=\"246.089633\" xlink:href=\"#m7e2dd480ad\" y=\"115.92\"/>\r\n     <use style=\"fill:#4c4c4c;stroke:#4c4c4c;stroke-linejoin:miter;\" x=\"222.131772\" xlink:href=\"#m7e2dd480ad\" y=\"115.92\"/>\r\n     <use style=\"fill:#4c4c4c;stroke:#4c4c4c;stroke-linejoin:miter;\" x=\"275.63241\" xlink:href=\"#m7e2dd480ad\" y=\"115.92\"/>\r\n     <use style=\"fill:#4c4c4c;stroke:#4c4c4c;stroke-linejoin:miter;\" x=\"237.712258\" xlink:href=\"#m7e2dd480ad\" y=\"115.92\"/>\r\n     <use style=\"fill:#4c4c4c;stroke:#4c4c4c;stroke-linejoin:miter;\" x=\"214.083764\" xlink:href=\"#m7e2dd480ad\" y=\"115.92\"/>\r\n     <use style=\"fill:#4c4c4c;stroke:#4c4c4c;stroke-linejoin:miter;\" x=\"192.947003\" xlink:href=\"#m7e2dd480ad\" y=\"115.92\"/>\r\n     <use style=\"fill:#4c4c4c;stroke:#4c4c4c;stroke-linejoin:miter;\" x=\"235.249166\" xlink:href=\"#m7e2dd480ad\" y=\"115.92\"/>\r\n     <use style=\"fill:#4c4c4c;stroke:#4c4c4c;stroke-linejoin:miter;\" x=\"233.659613\" xlink:href=\"#m7e2dd480ad\" y=\"115.92\"/>\r\n     <use style=\"fill:#4c4c4c;stroke:#4c4c4c;stroke-linejoin:miter;\" x=\"257.058982\" xlink:href=\"#m7e2dd480ad\" y=\"115.92\"/>\r\n     <use style=\"fill:#4c4c4c;stroke:#4c4c4c;stroke-linejoin:miter;\" x=\"227.430283\" xlink:href=\"#m7e2dd480ad\" y=\"115.92\"/>\r\n     <use style=\"fill:#4c4c4c;stroke:#4c4c4c;stroke-linejoin:miter;\" x=\"213.310468\" xlink:href=\"#m7e2dd480ad\" y=\"115.92\"/>\r\n     <use style=\"fill:#4c4c4c;stroke:#4c4c4c;stroke-linejoin:miter;\" x=\"241.721942\" xlink:href=\"#m7e2dd480ad\" y=\"115.92\"/>\r\n     <use style=\"fill:#4c4c4c;stroke:#4c4c4c;stroke-linejoin:miter;\" x=\"260.982744\" xlink:href=\"#m7e2dd480ad\" y=\"115.92\"/>\r\n     <use style=\"fill:#4c4c4c;stroke:#4c4c4c;stroke-linejoin:miter;\" x=\"260.467213\" xlink:href=\"#m7e2dd480ad\" y=\"115.92\"/>\r\n     <use style=\"fill:#4c4c4c;stroke:#4c4c4c;stroke-linejoin:miter;\" x=\"274.18606\" xlink:href=\"#m7e2dd480ad\" y=\"115.92\"/>\r\n     <use style=\"fill:#4c4c4c;stroke:#4c4c4c;stroke-linejoin:miter;\" x=\"284.410753\" xlink:href=\"#m7e2dd480ad\" y=\"115.92\"/>\r\n     <use style=\"fill:#4c4c4c;stroke:#4c4c4c;stroke-linejoin:miter;\" x=\"255.240304\" xlink:href=\"#m7e2dd480ad\" y=\"115.92\"/>\r\n     <use style=\"fill:#4c4c4c;stroke:#4c4c4c;stroke-linejoin:miter;\" x=\"272.825631\" xlink:href=\"#m7e2dd480ad\" y=\"115.92\"/>\r\n     <use style=\"fill:#4c4c4c;stroke:#4c4c4c;stroke-linejoin:miter;\" x=\"222.833467\" xlink:href=\"#m7e2dd480ad\" y=\"115.92\"/>\r\n     <use style=\"fill:#4c4c4c;stroke:#4c4c4c;stroke-linejoin:miter;\" x=\"215.143466\" xlink:href=\"#m7e2dd480ad\" y=\"115.92\"/>\r\n     <use style=\"fill:#4c4c4c;stroke:#4c4c4c;stroke-linejoin:miter;\" x=\"274.558387\" xlink:href=\"#m7e2dd480ad\" y=\"115.92\"/>\r\n     <use style=\"fill:#4c4c4c;stroke:#4c4c4c;stroke-linejoin:miter;\" x=\"234.94844\" xlink:href=\"#m7e2dd480ad\" y=\"115.92\"/>\r\n     <use style=\"fill:#4c4c4c;stroke:#4c4c4c;stroke-linejoin:miter;\" x=\"253.937157\" xlink:href=\"#m7e2dd480ad\" y=\"115.92\"/>\r\n     <use style=\"fill:#4c4c4c;stroke:#4c4c4c;stroke-linejoin:miter;\" x=\"214.742498\" xlink:href=\"#m7e2dd480ad\" y=\"115.92\"/>\r\n     <use style=\"fill:#4c4c4c;stroke:#4c4c4c;stroke-linejoin:miter;\" x=\"271.021273\" xlink:href=\"#m7e2dd480ad\" y=\"115.92\"/>\r\n     <use style=\"fill:#4c4c4c;stroke:#4c4c4c;stroke-linejoin:miter;\" x=\"325.567293\" xlink:href=\"#m7e2dd480ad\" y=\"115.92\"/>\r\n     <use style=\"fill:#4c4c4c;stroke:#4c4c4c;stroke-linejoin:miter;\" x=\"221.501679\" xlink:href=\"#m7e2dd480ad\" y=\"115.92\"/>\r\n     <use style=\"fill:#4c4c4c;stroke:#4c4c4c;stroke-linejoin:miter;\" x=\"255.698553\" xlink:href=\"#m7e2dd480ad\" y=\"115.92\"/>\r\n     <use style=\"fill:#4c4c4c;stroke:#4c4c4c;stroke-linejoin:miter;\" x=\"245.45954\" xlink:href=\"#m7e2dd480ad\" y=\"115.92\"/>\r\n     <use style=\"fill:#4c4c4c;stroke:#4c4c4c;stroke-linejoin:miter;\" x=\"319.939415\" xlink:href=\"#m7e2dd480ad\" y=\"115.92\"/>\r\n     <use style=\"fill:#4c4c4c;stroke:#4c4c4c;stroke-linejoin:miter;\" x=\"226.012573\" xlink:href=\"#m7e2dd480ad\" y=\"115.92\"/>\r\n     <use style=\"fill:#4c4c4c;stroke:#4c4c4c;stroke-linejoin:miter;\" x=\"282.219747\" xlink:href=\"#m7e2dd480ad\" y=\"115.92\"/>\r\n     <use style=\"fill:#4c4c4c;stroke:#4c4c4c;stroke-linejoin:miter;\" x=\"232.141661\" xlink:href=\"#m7e2dd480ad\" y=\"115.92\"/>\r\n     <use style=\"fill:#4c4c4c;stroke:#4c4c4c;stroke-linejoin:miter;\" x=\"214.957303\" xlink:href=\"#m7e2dd480ad\" y=\"115.92\"/>\r\n     <use style=\"fill:#4c4c4c;stroke:#4c4c4c;stroke-linejoin:miter;\" x=\"263.059187\" xlink:href=\"#m7e2dd480ad\" y=\"115.92\"/>\r\n     <use style=\"fill:#4c4c4c;stroke:#4c4c4c;stroke-linejoin:miter;\" x=\"227.616447\" xlink:href=\"#m7e2dd480ad\" y=\"115.92\"/>\r\n     <use style=\"fill:#4c4c4c;stroke:#4c4c4c;stroke-linejoin:miter;\" x=\"223.320357\" xlink:href=\"#m7e2dd480ad\" y=\"115.92\"/>\r\n     <use style=\"fill:#4c4c4c;stroke:#4c4c4c;stroke-linejoin:miter;\" x=\"217.191269\" xlink:href=\"#m7e2dd480ad\" y=\"115.92\"/>\r\n     <use style=\"fill:#4c4c4c;stroke:#4c4c4c;stroke-linejoin:miter;\" x=\"280.544272\" xlink:href=\"#m7e2dd480ad\" y=\"115.92\"/>\r\n     <use style=\"fill:#4c4c4c;stroke:#4c4c4c;stroke-linejoin:miter;\" x=\"290.668724\" xlink:href=\"#m7e2dd480ad\" y=\"115.92\"/>\r\n     <use style=\"fill:#4c4c4c;stroke:#4c4c4c;stroke-linejoin:miter;\" x=\"254.309484\" xlink:href=\"#m7e2dd480ad\" y=\"115.92\"/>\r\n     <use style=\"fill:#4c4c4c;stroke:#4c4c4c;stroke-linejoin:miter;\" x=\"249.197138\" xlink:href=\"#m7e2dd480ad\" y=\"115.92\"/>\r\n     <use style=\"fill:#4c4c4c;stroke:#4c4c4c;stroke-linejoin:miter;\" x=\"264.706022\" xlink:href=\"#m7e2dd480ad\" y=\"115.92\"/>\r\n     <use style=\"fill:#4c4c4c;stroke:#4c4c4c;stroke-linejoin:miter;\" x=\"210.202963\" xlink:href=\"#m7e2dd480ad\" y=\"115.92\"/>\r\n     <use style=\"fill:#4c4c4c;stroke:#4c4c4c;stroke-linejoin:miter;\" x=\"197.930467\" xlink:href=\"#m7e2dd480ad\" y=\"115.92\"/>\r\n     <use style=\"fill:#4c4c4c;stroke:#4c4c4c;stroke-linejoin:miter;\" x=\"246.290117\" xlink:href=\"#m7e2dd480ad\" y=\"115.92\"/>\r\n     <use style=\"fill:#4c4c4c;stroke:#4c4c4c;stroke-linejoin:miter;\" x=\"248.724568\" xlink:href=\"#m7e2dd480ad\" y=\"115.92\"/>\r\n     <use style=\"fill:#4c4c4c;stroke:#4c4c4c;stroke-linejoin:miter;\" x=\"267.99969\" xlink:href=\"#m7e2dd480ad\" y=\"115.92\"/>\r\n     <use style=\"fill:#4c4c4c;stroke:#4c4c4c;stroke-linejoin:miter;\" x=\"232.671513\" xlink:href=\"#m7e2dd480ad\" y=\"115.92\"/>\r\n     <use style=\"fill:#4c4c4c;stroke:#4c4c4c;stroke-linejoin:miter;\" x=\"225.711847\" xlink:href=\"#m7e2dd480ad\" y=\"115.92\"/>\r\n     <use style=\"fill:#4c4c4c;stroke:#4c4c4c;stroke-linejoin:miter;\" x=\"230.380265\" xlink:href=\"#m7e2dd480ad\" y=\"115.92\"/>\r\n     <use style=\"fill:#4c4c4c;stroke:#4c4c4c;stroke-linejoin:miter;\" x=\"220.055329\" xlink:href=\"#m7e2dd480ad\" y=\"115.92\"/>\r\n     <use style=\"fill:#4c4c4c;stroke:#4c4c4c;stroke-linejoin:miter;\" x=\"229.17736\" xlink:href=\"#m7e2dd480ad\" y=\"115.92\"/>\r\n     <use style=\"fill:#4c4c4c;stroke:#4c4c4c;stroke-linejoin:miter;\" x=\"219.439556\" xlink:href=\"#m7e2dd480ad\" y=\"115.92\"/>\r\n     <use style=\"fill:#4c4c4c;stroke:#4c4c4c;stroke-linejoin:miter;\" x=\"248.867771\" xlink:href=\"#m7e2dd480ad\" y=\"115.92\"/>\r\n     <use style=\"fill:#4c4c4c;stroke:#4c4c4c;stroke-linejoin:miter;\" x=\"237.955703\" xlink:href=\"#m7e2dd480ad\" y=\"115.92\"/>\r\n     <use style=\"fill:#4c4c4c;stroke:#4c4c4c;stroke-linejoin:miter;\" x=\"287.776023\" xlink:href=\"#m7e2dd480ad\" y=\"115.92\"/>\r\n     <use style=\"fill:#4c4c4c;stroke:#4c4c4c;stroke-linejoin:miter;\" x=\"226.843151\" xlink:href=\"#m7e2dd480ad\" y=\"115.92\"/>\r\n     <use style=\"fill:#4c4c4c;stroke:#4c4c4c;stroke-linejoin:miter;\" x=\"276.906916\" xlink:href=\"#m7e2dd480ad\" y=\"115.92\"/>\r\n     <use style=\"fill:#4c4c4c;stroke:#4c4c4c;stroke-linejoin:miter;\" x=\"253.1209\" xlink:href=\"#m7e2dd480ad\" y=\"115.92\"/>\r\n     <use style=\"fill:#4c4c4c;stroke:#4c4c4c;stroke-linejoin:miter;\" x=\"265.450677\" xlink:href=\"#m7e2dd480ad\" y=\"115.92\"/>\r\n     <use style=\"fill:#4c4c4c;stroke:#4c4c4c;stroke-linejoin:miter;\" x=\"219.6114\" xlink:href=\"#m7e2dd480ad\" y=\"115.92\"/>\r\n     <use style=\"fill:#4c4c4c;stroke:#4c4c4c;stroke-linejoin:miter;\" x=\"273.355482\" xlink:href=\"#m7e2dd480ad\" y=\"115.92\"/>\r\n     <use style=\"fill:#4c4c4c;stroke:#4c4c4c;stroke-linejoin:miter;\" x=\"243.984549\" xlink:href=\"#m7e2dd480ad\" y=\"115.92\"/>\r\n     <use style=\"fill:#4c4c4c;stroke:#4c4c4c;stroke-linejoin:miter;\" x=\"287.747383\" xlink:href=\"#m7e2dd480ad\" y=\"115.92\"/>\r\n     <use style=\"fill:#4c4c4c;stroke:#4c4c4c;stroke-linejoin:miter;\" x=\"241.091848\" xlink:href=\"#m7e2dd480ad\" y=\"115.92\"/>\r\n     <use style=\"fill:#4c4c4c;stroke:#4c4c4c;stroke-linejoin:miter;\" x=\"250.471644\" xlink:href=\"#m7e2dd480ad\" y=\"115.92\"/>\r\n     <use style=\"fill:#4c4c4c;stroke:#4c4c4c;stroke-linejoin:miter;\" x=\"312.736305\" xlink:href=\"#m7e2dd480ad\" y=\"115.92\"/>\r\n     <use style=\"fill:#4c4c4c;stroke:#4c4c4c;stroke-linejoin:miter;\" x=\"224.838309\" xlink:href=\"#m7e2dd480ad\" y=\"115.92\"/>\r\n     <use style=\"fill:#4c4c4c;stroke:#4c4c4c;stroke-linejoin:miter;\" x=\"295.122337\" xlink:href=\"#m7e2dd480ad\" y=\"115.92\"/>\r\n     <use style=\"fill:#4c4c4c;stroke:#4c4c4c;stroke-linejoin:miter;\" x=\"260.094885\" xlink:href=\"#m7e2dd480ad\" y=\"115.92\"/>\r\n     <use style=\"fill:#4c4c4c;stroke:#4c4c4c;stroke-linejoin:miter;\" x=\"273.112037\" xlink:href=\"#m7e2dd480ad\" y=\"115.92\"/>\r\n     <use style=\"fill:#4c4c4c;stroke:#4c4c4c;stroke-linejoin:miter;\" x=\"259.966003\" xlink:href=\"#m7e2dd480ad\" y=\"115.92\"/>\r\n     <use style=\"fill:#4c4c4c;stroke:#4c4c4c;stroke-linejoin:miter;\" x=\"240.519036\" xlink:href=\"#m7e2dd480ad\" y=\"115.92\"/>\r\n     <use style=\"fill:#4c4c4c;stroke:#4c4c4c;stroke-linejoin:miter;\" x=\"296.955335\" xlink:href=\"#m7e2dd480ad\" y=\"115.92\"/>\r\n     <use style=\"fill:#4c4c4c;stroke:#4c4c4c;stroke-linejoin:miter;\" x=\"263.560398\" xlink:href=\"#m7e2dd480ad\" y=\"115.92\"/>\r\n     <use style=\"fill:#4c4c4c;stroke:#4c4c4c;stroke-linejoin:miter;\" x=\"253.708032\" xlink:href=\"#m7e2dd480ad\" y=\"115.92\"/>\r\n     <use style=\"fill:#4c4c4c;stroke:#4c4c4c;stroke-linejoin:miter;\" x=\"241.593059\" xlink:href=\"#m7e2dd480ad\" y=\"115.92\"/>\r\n     <use style=\"fill:#4c4c4c;stroke:#4c4c4c;stroke-linejoin:miter;\" x=\"307.294591\" xlink:href=\"#m7e2dd480ad\" y=\"115.92\"/>\r\n     <use style=\"fill:#4c4c4c;stroke:#4c4c4c;stroke-linejoin:miter;\" x=\"262.314532\" xlink:href=\"#m7e2dd480ad\" y=\"115.92\"/>\r\n     <use style=\"fill:#4c4c4c;stroke:#4c4c4c;stroke-linejoin:miter;\" x=\"221.229594\" xlink:href=\"#m7e2dd480ad\" y=\"115.92\"/>\r\n     <use style=\"fill:#4c4c4c;stroke:#4c4c4c;stroke-linejoin:miter;\" x=\"277.393807\" xlink:href=\"#m7e2dd480ad\" y=\"115.92\"/>\r\n     <use style=\"fill:#4c4c4c;stroke:#4c4c4c;stroke-linejoin:miter;\" x=\"244.084791\" xlink:href=\"#m7e2dd480ad\" y=\"115.92\"/>\r\n     <use style=\"fill:#4c4c4c;stroke:#4c4c4c;stroke-linejoin:miter;\" x=\"253.321384\" xlink:href=\"#m7e2dd480ad\" y=\"115.92\"/>\r\n     <use style=\"fill:#4c4c4c;stroke:#4c4c4c;stroke-linejoin:miter;\" x=\"321.686492\" xlink:href=\"#m7e2dd480ad\" y=\"115.92\"/>\r\n     <use style=\"fill:#4c4c4c;stroke:#4c4c4c;stroke-linejoin:miter;\" x=\"274.715911\" xlink:href=\"#m7e2dd480ad\" y=\"115.92\"/>\r\n     <use style=\"fill:#4c4c4c;stroke:#4c4c4c;stroke-linejoin:miter;\" x=\"211.448829\" xlink:href=\"#m7e2dd480ad\" y=\"115.92\"/>\r\n     <use style=\"fill:#4c4c4c;stroke:#4c4c4c;stroke-linejoin:miter;\" x=\"207.66827\" xlink:href=\"#m7e2dd480ad\" y=\"115.92\"/>\r\n     <use style=\"fill:#4c4c4c;stroke:#4c4c4c;stroke-linejoin:miter;\" x=\"206.809052\" xlink:href=\"#m7e2dd480ad\" y=\"115.92\"/>\r\n     <use style=\"fill:#4c4c4c;stroke:#4c4c4c;stroke-linejoin:miter;\" x=\"233.716894\" xlink:href=\"#m7e2dd480ad\" y=\"115.92\"/>\r\n     <use style=\"fill:#4c4c4c;stroke:#4c4c4c;stroke-linejoin:miter;\" x=\"238.814921\" xlink:href=\"#m7e2dd480ad\" y=\"115.92\"/>\r\n     <use style=\"fill:#4c4c4c;stroke:#4c4c4c;stroke-linejoin:miter;\" x=\"240.003506\" xlink:href=\"#m7e2dd480ad\" y=\"115.92\"/>\r\n     <use style=\"fill:#4c4c4c;stroke:#4c4c4c;stroke-linejoin:miter;\" x=\"227.444603\" xlink:href=\"#m7e2dd480ad\" y=\"115.92\"/>\r\n     <use style=\"fill:#4c4c4c;stroke:#4c4c4c;stroke-linejoin:miter;\" x=\"331.581818\" xlink:href=\"#m7e2dd480ad\" y=\"115.92\"/>\r\n     <use style=\"fill:#4c4c4c;stroke:#4c4c4c;stroke-linejoin:miter;\" x=\"211.849798\" xlink:href=\"#m7e2dd480ad\" y=\"115.92\"/>\r\n     <use style=\"fill:#4c4c4c;stroke:#4c4c4c;stroke-linejoin:miter;\" x=\"230.394585\" xlink:href=\"#m7e2dd480ad\" y=\"115.92\"/>\r\n     <use style=\"fill:#4c4c4c;stroke:#4c4c4c;stroke-linejoin:miter;\" x=\"211.993001\" xlink:href=\"#m7e2dd480ad\" y=\"115.92\"/>\r\n     <use style=\"fill:#4c4c4c;stroke:#4c4c4c;stroke-linejoin:miter;\" x=\"262.300211\" xlink:href=\"#m7e2dd480ad\" y=\"115.92\"/>\r\n     <use style=\"fill:#4c4c4c;stroke:#4c4c4c;stroke-linejoin:miter;\" x=\"197.257413\" xlink:href=\"#m7e2dd480ad\" y=\"115.92\"/>\r\n     <use style=\"fill:#4c4c4c;stroke:#4c4c4c;stroke-linejoin:miter;\" x=\"290.797606\" xlink:href=\"#m7e2dd480ad\" y=\"115.92\"/>\r\n     <use style=\"fill:#4c4c4c;stroke:#4c4c4c;stroke-linejoin:miter;\" x=\"253.63643\" xlink:href=\"#m7e2dd480ad\" y=\"115.92\"/>\r\n     <use style=\"fill:#4c4c4c;stroke:#4c4c4c;stroke-linejoin:miter;\" x=\"269.818368\" xlink:href=\"#m7e2dd480ad\" y=\"115.92\"/>\r\n     <use style=\"fill:#4c4c4c;stroke:#4c4c4c;stroke-linejoin:miter;\" x=\"259.83712\" xlink:href=\"#m7e2dd480ad\" y=\"115.92\"/>\r\n     <use style=\"fill:#4c4c4c;stroke:#4c4c4c;stroke-linejoin:miter;\" x=\"267.269355\" xlink:href=\"#m7e2dd480ad\" y=\"115.92\"/>\r\n     <use style=\"fill:#4c4c4c;stroke:#4c4c4c;stroke-linejoin:miter;\" x=\"278.353267\" xlink:href=\"#m7e2dd480ad\" y=\"115.92\"/>\r\n     <use style=\"fill:#4c4c4c;stroke:#4c4c4c;stroke-linejoin:miter;\" x=\"258.89198\" xlink:href=\"#m7e2dd480ad\" y=\"115.92\"/>\r\n     <use style=\"fill:#4c4c4c;stroke:#4c4c4c;stroke-linejoin:miter;\" x=\"259.006543\" xlink:href=\"#m7e2dd480ad\" y=\"115.92\"/>\r\n     <use style=\"fill:#4c4c4c;stroke:#4c4c4c;stroke-linejoin:miter;\" x=\"266.352856\" xlink:href=\"#m7e2dd480ad\" y=\"115.92\"/>\r\n     <use style=\"fill:#4c4c4c;stroke:#4c4c4c;stroke-linejoin:miter;\" x=\"216.675738\" xlink:href=\"#m7e2dd480ad\" y=\"115.92\"/>\r\n     <use style=\"fill:#4c4c4c;stroke:#4c4c4c;stroke-linejoin:miter;\" x=\"256.944419\" xlink:href=\"#m7e2dd480ad\" y=\"115.92\"/>\r\n     <use style=\"fill:#4c4c4c;stroke:#4c4c4c;stroke-linejoin:miter;\" x=\"279.212484\" xlink:href=\"#m7e2dd480ad\" y=\"115.92\"/>\r\n     <use style=\"fill:#4c4c4c;stroke:#4c4c4c;stroke-linejoin:miter;\" x=\"229.836093\" xlink:href=\"#m7e2dd480ad\" y=\"115.92\"/>\r\n     <use style=\"fill:#4c4c4c;stroke:#4c4c4c;stroke-linejoin:miter;\" x=\"262.930304\" xlink:href=\"#m7e2dd480ad\" y=\"115.92\"/>\r\n     <use style=\"fill:#4c4c4c;stroke:#4c4c4c;stroke-linejoin:miter;\" x=\"331.367014\" xlink:href=\"#m7e2dd480ad\" y=\"115.92\"/>\r\n     <use style=\"fill:#4c4c4c;stroke:#4c4c4c;stroke-linejoin:miter;\" x=\"234.776596\" xlink:href=\"#m7e2dd480ad\" y=\"115.92\"/>\r\n     <use style=\"fill:#4c4c4c;stroke:#4c4c4c;stroke-linejoin:miter;\" x=\"235.521252\" xlink:href=\"#m7e2dd480ad\" y=\"115.92\"/>\r\n     <use style=\"fill:#4c4c4c;stroke:#4c4c4c;stroke-linejoin:miter;\" x=\"238.141867\" xlink:href=\"#m7e2dd480ad\" y=\"115.92\"/>\r\n     <use style=\"fill:#4c4c4c;stroke:#4c4c4c;stroke-linejoin:miter;\" x=\"216.246129\" xlink:href=\"#m7e2dd480ad\" y=\"115.92\"/>\r\n     <use style=\"fill:#4c4c4c;stroke:#4c4c4c;stroke-linejoin:miter;\" x=\"203.458102\" xlink:href=\"#m7e2dd480ad\" y=\"115.92\"/>\r\n     <use style=\"fill:#4c4c4c;stroke:#4c4c4c;stroke-linejoin:miter;\" x=\"286.301033\" xlink:href=\"#m7e2dd480ad\" y=\"115.92\"/>\r\n     <use style=\"fill:#4c4c4c;stroke:#4c4c4c;stroke-linejoin:miter;\" x=\"329.906343\" xlink:href=\"#m7e2dd480ad\" y=\"115.92\"/>\r\n     <use style=\"fill:#4c4c4c;stroke:#4c4c4c;stroke-linejoin:miter;\" x=\"232.113021\" xlink:href=\"#m7e2dd480ad\" y=\"115.92\"/>\r\n     <use style=\"fill:#4c4c4c;stroke:#4c4c4c;stroke-linejoin:miter;\" x=\"247.808069\" xlink:href=\"#m7e2dd480ad\" y=\"115.92\"/>\r\n     <use style=\"fill:#4c4c4c;stroke:#4c4c4c;stroke-linejoin:miter;\" x=\"206.995216\" xlink:href=\"#m7e2dd480ad\" y=\"115.92\"/>\r\n     <use style=\"fill:#4c4c4c;stroke:#4c4c4c;stroke-linejoin:miter;\" x=\"273.183639\" xlink:href=\"#m7e2dd480ad\" y=\"115.92\"/>\r\n     <use style=\"fill:#4c4c4c;stroke:#4c4c4c;stroke-linejoin:miter;\" x=\"241.707621\" xlink:href=\"#m7e2dd480ad\" y=\"115.92\"/>\r\n     <use style=\"fill:#4c4c4c;stroke:#4c4c4c;stroke-linejoin:miter;\" x=\"234.94844\" xlink:href=\"#m7e2dd480ad\" y=\"115.92\"/>\r\n     <use style=\"fill:#4c4c4c;stroke:#4c4c4c;stroke-linejoin:miter;\" x=\"258.720137\" xlink:href=\"#m7e2dd480ad\" y=\"115.92\"/>\r\n     <use style=\"fill:#4c4c4c;stroke:#4c4c4c;stroke-linejoin:miter;\" x=\"238.900843\" xlink:href=\"#m7e2dd480ad\" y=\"115.92\"/>\r\n     <use style=\"fill:#4c4c4c;stroke:#4c4c4c;stroke-linejoin:miter;\" x=\"228.833672\" xlink:href=\"#m7e2dd480ad\" y=\"115.92\"/>\r\n     <use style=\"fill:#4c4c4c;stroke:#4c4c4c;stroke-linejoin:miter;\" x=\"302.540252\" xlink:href=\"#m7e2dd480ad\" y=\"115.92\"/>\r\n     <use style=\"fill:#4c4c4c;stroke:#4c4c4c;stroke-linejoin:miter;\" x=\"242.910526\" xlink:href=\"#m7e2dd480ad\" y=\"115.92\"/>\r\n     <use style=\"fill:#4c4c4c;stroke:#4c4c4c;stroke-linejoin:miter;\" x=\"262.7155\" xlink:href=\"#m7e2dd480ad\" y=\"115.92\"/>\r\n     <use style=\"fill:#4c4c4c;stroke:#4c4c4c;stroke-linejoin:miter;\" x=\"244.54304\" xlink:href=\"#m7e2dd480ad\" y=\"115.92\"/>\r\n     <use style=\"fill:#4c4c4c;stroke:#4c4c4c;stroke-linejoin:miter;\" x=\"266.911348\" xlink:href=\"#m7e2dd480ad\" y=\"115.92\"/>\r\n     <use style=\"fill:#4c4c4c;stroke:#4c4c4c;stroke-linejoin:miter;\" x=\"237.483133\" xlink:href=\"#m7e2dd480ad\" y=\"115.92\"/>\r\n     <use style=\"fill:#4c4c4c;stroke:#4c4c4c;stroke-linejoin:miter;\" x=\"234.490191\" xlink:href=\"#m7e2dd480ad\" y=\"115.92\"/>\r\n     <use style=\"fill:#4c4c4c;stroke:#4c4c4c;stroke-linejoin:miter;\" x=\"199.806426\" xlink:href=\"#m7e2dd480ad\" y=\"115.92\"/>\r\n     <use style=\"fill:#4c4c4c;stroke:#4c4c4c;stroke-linejoin:miter;\" x=\"263.130789\" xlink:href=\"#m7e2dd480ad\" y=\"115.92\"/>\r\n     <use style=\"fill:#4c4c4c;stroke:#4c4c4c;stroke-linejoin:miter;\" x=\"265.235873\" xlink:href=\"#m7e2dd480ad\" y=\"115.92\"/>\r\n     <use style=\"fill:#4c4c4c;stroke:#4c4c4c;stroke-linejoin:miter;\" x=\"263.932725\" xlink:href=\"#m7e2dd480ad\" y=\"115.92\"/>\r\n     <use style=\"fill:#4c4c4c;stroke:#4c4c4c;stroke-linejoin:miter;\" x=\"242.423636\" xlink:href=\"#m7e2dd480ad\" y=\"115.92\"/>\r\n     <use style=\"fill:#4c4c4c;stroke:#4c4c4c;stroke-linejoin:miter;\" x=\"255.326226\" xlink:href=\"#m7e2dd480ad\" y=\"115.92\"/>\r\n     <use style=\"fill:#4c4c4c;stroke:#4c4c4c;stroke-linejoin:miter;\" x=\"245.702985\" xlink:href=\"#m7e2dd480ad\" y=\"115.92\"/>\r\n     <use style=\"fill:#4c4c4c;stroke:#4c4c4c;stroke-linejoin:miter;\" x=\"215.859481\" xlink:href=\"#m7e2dd480ad\" y=\"115.92\"/>\r\n     <use style=\"fill:#4c4c4c;stroke:#4c4c4c;stroke-linejoin:miter;\" x=\"259.908721\" xlink:href=\"#m7e2dd480ad\" y=\"115.92\"/>\r\n     <use style=\"fill:#4c4c4c;stroke:#4c4c4c;stroke-linejoin:miter;\" x=\"250.228199\" xlink:href=\"#m7e2dd480ad\" y=\"115.92\"/>\r\n     <use style=\"fill:#4c4c4c;stroke:#4c4c4c;stroke-linejoin:miter;\" x=\"232.027099\" xlink:href=\"#m7e2dd480ad\" y=\"115.92\"/>\r\n     <use style=\"fill:#4c4c4c;stroke:#4c4c4c;stroke-linejoin:miter;\" x=\"251.559987\" xlink:href=\"#m7e2dd480ad\" y=\"115.92\"/>\r\n     <use style=\"fill:#4c4c4c;stroke:#4c4c4c;stroke-linejoin:miter;\" x=\"257.187865\" xlink:href=\"#m7e2dd480ad\" y=\"115.92\"/>\r\n     <use style=\"fill:#4c4c4c;stroke:#4c4c4c;stroke-linejoin:miter;\" x=\"233.315926\" xlink:href=\"#m7e2dd480ad\" y=\"115.92\"/>\r\n     <use style=\"fill:#4c4c4c;stroke:#4c4c4c;stroke-linejoin:miter;\" x=\"250.242519\" xlink:href=\"#m7e2dd480ad\" y=\"115.92\"/>\r\n     <use style=\"fill:#4c4c4c;stroke:#4c4c4c;stroke-linejoin:miter;\" x=\"265.765724\" xlink:href=\"#m7e2dd480ad\" y=\"115.92\"/>\r\n     <use style=\"fill:#4c4c4c;stroke:#4c4c4c;stroke-linejoin:miter;\" x=\"236.337509\" xlink:href=\"#m7e2dd480ad\" y=\"115.92\"/>\r\n     <use style=\"fill:#4c4c4c;stroke:#4c4c4c;stroke-linejoin:miter;\" x=\"258.376449\" xlink:href=\"#m7e2dd480ad\" y=\"115.92\"/>\r\n     <use style=\"fill:#4c4c4c;stroke:#4c4c4c;stroke-linejoin:miter;\" x=\"306.435373\" xlink:href=\"#m7e2dd480ad\" y=\"115.92\"/>\r\n     <use style=\"fill:#4c4c4c;stroke:#4c4c4c;stroke-linejoin:miter;\" x=\"251.001495\" xlink:href=\"#m7e2dd480ad\" y=\"115.92\"/>\r\n     <use style=\"fill:#4c4c4c;stroke:#4c4c4c;stroke-linejoin:miter;\" x=\"243.612221\" xlink:href=\"#m7e2dd480ad\" y=\"115.92\"/>\r\n     <use style=\"fill:#4c4c4c;stroke:#4c4c4c;stroke-linejoin:miter;\" x=\"265.035388\" xlink:href=\"#m7e2dd480ad\" y=\"115.92\"/>\r\n     <use style=\"fill:#4c4c4c;stroke:#4c4c4c;stroke-linejoin:miter;\" x=\"243.09669\" xlink:href=\"#m7e2dd480ad\" y=\"115.92\"/>\r\n     <use style=\"fill:#4c4c4c;stroke:#4c4c4c;stroke-linejoin:miter;\" x=\"276.362745\" xlink:href=\"#m7e2dd480ad\" y=\"115.92\"/>\r\n     <use style=\"fill:#4c4c4c;stroke:#4c4c4c;stroke-linejoin:miter;\" x=\"201.195495\" xlink:href=\"#m7e2dd480ad\" y=\"115.92\"/>\r\n     <use style=\"fill:#4c4c4c;stroke:#4c4c4c;stroke-linejoin:miter;\" x=\"296.038836\" xlink:href=\"#m7e2dd480ad\" y=\"115.92\"/>\r\n     <use style=\"fill:#4c4c4c;stroke:#4c4c4c;stroke-linejoin:miter;\" x=\"310.674182\" xlink:href=\"#m7e2dd480ad\" y=\"115.92\"/>\r\n     <use style=\"fill:#4c4c4c;stroke:#4c4c4c;stroke-linejoin:miter;\" x=\"263.145109\" xlink:href=\"#m7e2dd480ad\" y=\"115.92\"/>\r\n     <use style=\"fill:#4c4c4c;stroke:#4c4c4c;stroke-linejoin:miter;\" x=\"213.067023\" xlink:href=\"#m7e2dd480ad\" y=\"115.92\"/>\r\n     <use style=\"fill:#4c4c4c;stroke:#4c4c4c;stroke-linejoin:miter;\" x=\"268.772986\" xlink:href=\"#m7e2dd480ad\" y=\"115.92\"/>\r\n     <use style=\"fill:#4c4c4c;stroke:#4c4c4c;stroke-linejoin:miter;\" x=\"250.213879\" xlink:href=\"#m7e2dd480ad\" y=\"115.92\"/>\r\n     <use style=\"fill:#4c4c4c;stroke:#4c4c4c;stroke-linejoin:miter;\" x=\"271.207437\" xlink:href=\"#m7e2dd480ad\" y=\"115.92\"/>\r\n     <use style=\"fill:#4c4c4c;stroke:#4c4c4c;stroke-linejoin:miter;\" x=\"238.370992\" xlink:href=\"#m7e2dd480ad\" y=\"115.92\"/>\r\n     <use style=\"fill:#4c4c4c;stroke:#4c4c4c;stroke-linejoin:miter;\" x=\"295.895633\" xlink:href=\"#m7e2dd480ad\" y=\"115.92\"/>\r\n     <use style=\"fill:#4c4c4c;stroke:#4c4c4c;stroke-linejoin:miter;\" x=\"259.321589\" xlink:href=\"#m7e2dd480ad\" y=\"115.92\"/>\r\n     <use style=\"fill:#4c4c4c;stroke:#4c4c4c;stroke-linejoin:miter;\" x=\"243.712463\" xlink:href=\"#m7e2dd480ad\" y=\"115.92\"/>\r\n     <use style=\"fill:#4c4c4c;stroke:#4c4c4c;stroke-linejoin:miter;\" x=\"297.17014\" xlink:href=\"#m7e2dd480ad\" y=\"115.92\"/>\r\n     <use style=\"fill:#4c4c4c;stroke:#4c4c4c;stroke-linejoin:miter;\" x=\"291.957551\" xlink:href=\"#m7e2dd480ad\" y=\"115.92\"/>\r\n     <use style=\"fill:#4c4c4c;stroke:#4c4c4c;stroke-linejoin:miter;\" x=\"244.170713\" xlink:href=\"#m7e2dd480ad\" y=\"115.92\"/>\r\n     <use style=\"fill:#4c4c4c;stroke:#4c4c4c;stroke-linejoin:miter;\" x=\"266.467418\" xlink:href=\"#m7e2dd480ad\" y=\"115.92\"/>\r\n     <use style=\"fill:#4c4c4c;stroke:#4c4c4c;stroke-linejoin:miter;\" x=\"290.697364\" xlink:href=\"#m7e2dd480ad\" y=\"115.92\"/>\r\n     <use style=\"fill:#4c4c4c;stroke:#4c4c4c;stroke-linejoin:miter;\" x=\"222.332257\" xlink:href=\"#m7e2dd480ad\" y=\"115.92\"/>\r\n     <use style=\"fill:#4c4c4c;stroke:#4c4c4c;stroke-linejoin:miter;\" x=\"207.052497\" xlink:href=\"#m7e2dd480ad\" y=\"115.92\"/>\r\n     <use style=\"fill:#4c4c4c;stroke:#4c4c4c;stroke-linejoin:miter;\" x=\"245.48818\" xlink:href=\"#m7e2dd480ad\" y=\"115.92\"/>\r\n     <use style=\"fill:#4c4c4c;stroke:#4c4c4c;stroke-linejoin:miter;\" x=\"191.214247\" xlink:href=\"#m7e2dd480ad\" y=\"115.92\"/>\r\n     <use style=\"fill:#4c4c4c;stroke:#4c4c4c;stroke-linejoin:miter;\" x=\"275.245762\" xlink:href=\"#m7e2dd480ad\" y=\"115.92\"/>\r\n     <use style=\"fill:#4c4c4c;stroke:#4c4c4c;stroke-linejoin:miter;\" x=\"235.392369\" xlink:href=\"#m7e2dd480ad\" y=\"115.92\"/>\r\n     <use style=\"fill:#4c4c4c;stroke:#4c4c4c;stroke-linejoin:miter;\" x=\"251.760471\" xlink:href=\"#m7e2dd480ad\" y=\"115.92\"/>\r\n     <use style=\"fill:#4c4c4c;stroke:#4c4c4c;stroke-linejoin:miter;\" x=\"287.303453\" xlink:href=\"#m7e2dd480ad\" y=\"115.92\"/>\r\n     <use style=\"fill:#4c4c4c;stroke:#4c4c4c;stroke-linejoin:miter;\" x=\"255.698553\" xlink:href=\"#m7e2dd480ad\" y=\"115.92\"/>\r\n     <use style=\"fill:#4c4c4c;stroke:#4c4c4c;stroke-linejoin:miter;\" x=\"261.183228\" xlink:href=\"#m7e2dd480ad\" y=\"115.92\"/>\r\n     <use style=\"fill:#4c4c4c;stroke:#4c4c4c;stroke-linejoin:miter;\" x=\"194.837282\" xlink:href=\"#m7e2dd480ad\" y=\"115.92\"/>\r\n     <use style=\"fill:#4c4c4c;stroke:#4c4c4c;stroke-linejoin:miter;\" x=\"235.993822\" xlink:href=\"#m7e2dd480ad\" y=\"115.92\"/>\r\n     <use style=\"fill:#4c4c4c;stroke:#4c4c4c;stroke-linejoin:miter;\" x=\"252.619689\" xlink:href=\"#m7e2dd480ad\" y=\"115.92\"/>\r\n     <use style=\"fill:#4c4c4c;stroke:#4c4c4c;stroke-linejoin:miter;\" x=\"247.650545\" xlink:href=\"#m7e2dd480ad\" y=\"115.92\"/>\r\n     <use style=\"fill:#4c4c4c;stroke:#4c4c4c;stroke-linejoin:miter;\" x=\"308.239731\" xlink:href=\"#m7e2dd480ad\" y=\"115.92\"/>\r\n     <use style=\"fill:#4c4c4c;stroke:#4c4c4c;stroke-linejoin:miter;\" x=\"288.363156\" xlink:href=\"#m7e2dd480ad\" y=\"115.92\"/>\r\n     <use style=\"fill:#4c4c4c;stroke:#4c4c4c;stroke-linejoin:miter;\" x=\"230.13682\" xlink:href=\"#m7e2dd480ad\" y=\"115.92\"/>\r\n     <use style=\"fill:#4c4c4c;stroke:#4c4c4c;stroke-linejoin:miter;\" x=\"263.703601\" xlink:href=\"#m7e2dd480ad\" y=\"115.92\"/>\r\n     <use style=\"fill:#4c4c4c;stroke:#4c4c4c;stroke-linejoin:miter;\" x=\"248.151756\" xlink:href=\"#m7e2dd480ad\" y=\"115.92\"/>\r\n     <use style=\"fill:#4c4c4c;stroke:#4c4c4c;stroke-linejoin:miter;\" x=\"217.520636\" xlink:href=\"#m7e2dd480ad\" y=\"115.92\"/>\r\n     <use style=\"fill:#4c4c4c;stroke:#4c4c4c;stroke-linejoin:miter;\" x=\"262.515016\" xlink:href=\"#m7e2dd480ad\" y=\"115.92\"/>\r\n     <use style=\"fill:#4c4c4c;stroke:#4c4c4c;stroke-linejoin:miter;\" x=\"277.307885\" xlink:href=\"#m7e2dd480ad\" y=\"115.92\"/>\r\n     <use style=\"fill:#4c4c4c;stroke:#4c4c4c;stroke-linejoin:miter;\" x=\"196.498437\" xlink:href=\"#m7e2dd480ad\" y=\"115.92\"/>\r\n     <use style=\"fill:#4c4c4c;stroke:#4c4c4c;stroke-linejoin:miter;\" x=\"244.02751\" xlink:href=\"#m7e2dd480ad\" y=\"115.92\"/>\r\n     <use style=\"fill:#4c4c4c;stroke:#4c4c4c;stroke-linejoin:miter;\" x=\"222.790506\" xlink:href=\"#m7e2dd480ad\" y=\"115.92\"/>\r\n     <use style=\"fill:#4c4c4c;stroke:#4c4c4c;stroke-linejoin:miter;\" x=\"269.059392\" xlink:href=\"#m7e2dd480ad\" y=\"115.92\"/>\r\n     <use style=\"fill:#4c4c4c;stroke:#4c4c4c;stroke-linejoin:miter;\" x=\"272.324421\" xlink:href=\"#m7e2dd480ad\" y=\"115.92\"/>\r\n     <use style=\"fill:#4c4c4c;stroke:#4c4c4c;stroke-linejoin:miter;\" x=\"266.467418\" xlink:href=\"#m7e2dd480ad\" y=\"115.92\"/>\r\n     <use style=\"fill:#4c4c4c;stroke:#4c4c4c;stroke-linejoin:miter;\" x=\"261.254829\" xlink:href=\"#m7e2dd480ad\" y=\"115.92\"/>\r\n     <use style=\"fill:#4c4c4c;stroke:#4c4c4c;stroke-linejoin:miter;\" x=\"296.883734\" xlink:href=\"#m7e2dd480ad\" y=\"115.92\"/>\r\n     <use style=\"fill:#4c4c4c;stroke:#4c4c4c;stroke-linejoin:miter;\" x=\"227.358682\" xlink:href=\"#m7e2dd480ad\" y=\"115.92\"/>\r\n     <use style=\"fill:#4c4c4c;stroke:#4c4c4c;stroke-linejoin:miter;\" x=\"207.66827\" xlink:href=\"#m7e2dd480ad\" y=\"115.92\"/>\r\n     <use style=\"fill:#4c4c4c;stroke:#4c4c4c;stroke-linejoin:miter;\" x=\"280.300827\" xlink:href=\"#m7e2dd480ad\" y=\"115.92\"/>\r\n     <use style=\"fill:#4c4c4c;stroke:#4c4c4c;stroke-linejoin:miter;\" x=\"258.720137\" xlink:href=\"#m7e2dd480ad\" y=\"115.92\"/>\r\n     <use style=\"fill:#4c4c4c;stroke:#4c4c4c;stroke-linejoin:miter;\" x=\"300.907738\" xlink:href=\"#m7e2dd480ad\" y=\"115.92\"/>\r\n     <use style=\"fill:#4c4c4c;stroke:#4c4c4c;stroke-linejoin:miter;\" x=\"225.167676\" xlink:href=\"#m7e2dd480ad\" y=\"115.92\"/>\r\n     <use style=\"fill:#4c4c4c;stroke:#4c4c4c;stroke-linejoin:miter;\" x=\"235.206205\" xlink:href=\"#m7e2dd480ad\" y=\"115.92\"/>\r\n     <use style=\"fill:#4c4c4c;stroke:#4c4c4c;stroke-linejoin:miter;\" x=\"263.889764\" xlink:href=\"#m7e2dd480ad\" y=\"115.92\"/>\r\n     <use style=\"fill:#4c4c4c;stroke:#4c4c4c;stroke-linejoin:miter;\" x=\"279.384328\" xlink:href=\"#m7e2dd480ad\" y=\"115.92\"/>\r\n     <use style=\"fill:#4c4c4c;stroke:#4c4c4c;stroke-linejoin:miter;\" x=\"217.176949\" xlink:href=\"#m7e2dd480ad\" y=\"115.92\"/>\r\n     <use style=\"fill:#4c4c4c;stroke:#4c4c4c;stroke-linejoin:miter;\" x=\"251.846393\" xlink:href=\"#m7e2dd480ad\" y=\"115.92\"/>\r\n     <use style=\"fill:#4c4c4c;stroke:#4c4c4c;stroke-linejoin:miter;\" x=\"305.160866\" xlink:href=\"#m7e2dd480ad\" y=\"115.92\"/>\r\n     <use style=\"fill:#4c4c4c;stroke:#4c4c4c;stroke-linejoin:miter;\" x=\"263.073507\" xlink:href=\"#m7e2dd480ad\" y=\"115.92\"/>\r\n     <use style=\"fill:#4c4c4c;stroke:#4c4c4c;stroke-linejoin:miter;\" x=\"210.002479\" xlink:href=\"#m7e2dd480ad\" y=\"115.92\"/>\r\n     <use style=\"fill:#4c4c4c;stroke:#4c4c4c;stroke-linejoin:miter;\" x=\"258.032762\" xlink:href=\"#m7e2dd480ad\" y=\"115.92\"/>\r\n     <use style=\"fill:#4c4c4c;stroke:#4c4c4c;stroke-linejoin:miter;\" x=\"257.345388\" xlink:href=\"#m7e2dd480ad\" y=\"115.92\"/>\r\n     <use style=\"fill:#4c4c4c;stroke:#4c4c4c;stroke-linejoin:miter;\" x=\"247.120694\" xlink:href=\"#m7e2dd480ad\" y=\"115.92\"/>\r\n     <use style=\"fill:#4c4c4c;stroke:#4c4c4c;stroke-linejoin:miter;\" x=\"246.075312\" xlink:href=\"#m7e2dd480ad\" y=\"115.92\"/>\r\n     <use style=\"fill:#4c4c4c;stroke:#4c4c4c;stroke-linejoin:miter;\" x=\"287.231852\" xlink:href=\"#m7e2dd480ad\" y=\"115.92\"/>\r\n     <use style=\"fill:#4c4c4c;stroke:#4c4c4c;stroke-linejoin:miter;\" x=\"257.45995\" xlink:href=\"#m7e2dd480ad\" y=\"115.92\"/>\r\n     <use style=\"fill:#4c4c4c;stroke:#4c4c4c;stroke-linejoin:miter;\" x=\"240.003506\" xlink:href=\"#m7e2dd480ad\" y=\"115.92\"/>\r\n     <use style=\"fill:#4c4c4c;stroke:#4c4c4c;stroke-linejoin:miter;\" x=\"291.313137\" xlink:href=\"#m7e2dd480ad\" y=\"115.92\"/>\r\n     <use style=\"fill:#4c4c4c;stroke:#4c4c4c;stroke-linejoin:miter;\" x=\"230.408905\" xlink:href=\"#m7e2dd480ad\" y=\"115.92\"/>\r\n     <use style=\"fill:#4c4c4c;stroke:#4c4c4c;stroke-linejoin:miter;\" x=\"236.523673\" xlink:href=\"#m7e2dd480ad\" y=\"115.92\"/>\r\n     <use style=\"fill:#4c4c4c;stroke:#4c4c4c;stroke-linejoin:miter;\" x=\"279.813937\" xlink:href=\"#m7e2dd480ad\" y=\"115.92\"/>\r\n     <use style=\"fill:#4c4c4c;stroke:#4c4c4c;stroke-linejoin:miter;\" x=\"262.472055\" xlink:href=\"#m7e2dd480ad\" y=\"115.92\"/>\r\n     <use style=\"fill:#4c4c4c;stroke:#4c4c4c;stroke-linejoin:miter;\" x=\"238.227789\" xlink:href=\"#m7e2dd480ad\" y=\"115.92\"/>\r\n     <use style=\"fill:#4c4c4c;stroke:#4c4c4c;stroke-linejoin:miter;\" x=\"231.382686\" xlink:href=\"#m7e2dd480ad\" y=\"115.92\"/>\r\n     <use style=\"fill:#4c4c4c;stroke:#4c4c4c;stroke-linejoin:miter;\" x=\"204.131156\" xlink:href=\"#m7e2dd480ad\" y=\"115.92\"/>\r\n     <use style=\"fill:#4c4c4c;stroke:#4c4c4c;stroke-linejoin:miter;\" x=\"192.918362\" xlink:href=\"#m7e2dd480ad\" y=\"115.92\"/>\r\n     <use style=\"fill:#4c4c4c;stroke:#4c4c4c;stroke-linejoin:miter;\" x=\"273.942614\" xlink:href=\"#m7e2dd480ad\" y=\"115.92\"/>\r\n     <use style=\"fill:#4c4c4c;stroke:#4c4c4c;stroke-linejoin:miter;\" x=\"191.543614\" xlink:href=\"#m7e2dd480ad\" y=\"115.92\"/>\r\n     <use style=\"fill:#4c4c4c;stroke:#4c4c4c;stroke-linejoin:miter;\" x=\"255.211663\" xlink:href=\"#m7e2dd480ad\" y=\"115.92\"/>\r\n     <use style=\"fill:#4c4c4c;stroke:#4c4c4c;stroke-linejoin:miter;\" x=\"266.710863\" xlink:href=\"#m7e2dd480ad\" y=\"115.92\"/>\r\n     <use style=\"fill:#4c4c4c;stroke:#4c4c4c;stroke-linejoin:miter;\" x=\"262.787101\" xlink:href=\"#m7e2dd480ad\" y=\"115.92\"/>\r\n     <use style=\"fill:#4c4c4c;stroke:#4c4c4c;stroke-linejoin:miter;\" x=\"215.071865\" xlink:href=\"#m7e2dd480ad\" y=\"115.92\"/>\r\n     <use style=\"fill:#4c4c4c;stroke:#4c4c4c;stroke-linejoin:miter;\" x=\"246.247156\" xlink:href=\"#m7e2dd480ad\" y=\"115.92\"/>\r\n     <use style=\"fill:#4c4c4c;stroke:#4c4c4c;stroke-linejoin:miter;\" x=\"275.64673\" xlink:href=\"#m7e2dd480ad\" y=\"115.92\"/>\r\n     <use style=\"fill:#4c4c4c;stroke:#4c4c4c;stroke-linejoin:miter;\" x=\"269.932931\" xlink:href=\"#m7e2dd480ad\" y=\"115.92\"/>\r\n     <use style=\"fill:#4c4c4c;stroke:#4c4c4c;stroke-linejoin:miter;\" x=\"201.295737\" xlink:href=\"#m7e2dd480ad\" y=\"115.92\"/>\r\n     <use style=\"fill:#4c4c4c;stroke:#4c4c4c;stroke-linejoin:miter;\" x=\"197.271733\" xlink:href=\"#m7e2dd480ad\" y=\"115.92\"/>\r\n     <use style=\"fill:#4c4c4c;stroke:#4c4c4c;stroke-linejoin:miter;\" x=\"291.570903\" xlink:href=\"#m7e2dd480ad\" y=\"115.92\"/>\r\n     <use style=\"fill:#4c4c4c;stroke:#4c4c4c;stroke-linejoin:miter;\" x=\"226.714268\" xlink:href=\"#m7e2dd480ad\" y=\"115.92\"/>\r\n     <use style=\"fill:#4c4c4c;stroke:#4c4c4c;stroke-linejoin:miter;\" x=\"267.98537\" xlink:href=\"#m7e2dd480ad\" y=\"115.92\"/>\r\n     <use style=\"fill:#4c4c4c;stroke:#4c4c4c;stroke-linejoin:miter;\" x=\"200.866128\" xlink:href=\"#m7e2dd480ad\" y=\"115.92\"/>\r\n     <use style=\"fill:#4c4c4c;stroke:#4c4c4c;stroke-linejoin:miter;\" x=\"236.079744\" xlink:href=\"#m7e2dd480ad\" y=\"115.92\"/>\r\n     <use style=\"fill:#4c4c4c;stroke:#4c4c4c;stroke-linejoin:miter;\" x=\"230.122499\" xlink:href=\"#m7e2dd480ad\" y=\"115.92\"/>\r\n     <use style=\"fill:#4c4c4c;stroke:#4c4c4c;stroke-linejoin:miter;\" x=\"223.764287\" xlink:href=\"#m7e2dd480ad\" y=\"115.92\"/>\r\n     <use style=\"fill:#4c4c4c;stroke:#4c4c4c;stroke-linejoin:miter;\" x=\"274.758871\" xlink:href=\"#m7e2dd480ad\" y=\"115.92\"/>\r\n     <use style=\"fill:#4c4c4c;stroke:#4c4c4c;stroke-linejoin:miter;\" x=\"240.347193\" xlink:href=\"#m7e2dd480ad\" y=\"115.92\"/>\r\n     <use style=\"fill:#4c4c4c;stroke:#4c4c4c;stroke-linejoin:miter;\" x=\"242.036988\" xlink:href=\"#m7e2dd480ad\" y=\"115.92\"/>\r\n     <use style=\"fill:#4c4c4c;stroke:#4c4c4c;stroke-linejoin:miter;\" x=\"273.26956\" xlink:href=\"#m7e2dd480ad\" y=\"115.92\"/>\r\n     <use style=\"fill:#4c4c4c;stroke:#4c4c4c;stroke-linejoin:miter;\" x=\"289.723584\" xlink:href=\"#m7e2dd480ad\" y=\"115.92\"/>\r\n     <use style=\"fill:#4c4c4c;stroke:#4c4c4c;stroke-linejoin:miter;\" x=\"292.845409\" xlink:href=\"#m7e2dd480ad\" y=\"115.92\"/>\r\n     <use style=\"fill:#4c4c4c;stroke:#4c4c4c;stroke-linejoin:miter;\" x=\"258.004122\" xlink:href=\"#m7e2dd480ad\" y=\"115.92\"/>\r\n     <use style=\"fill:#4c4c4c;stroke:#4c4c4c;stroke-linejoin:miter;\" x=\"215.272349\" xlink:href=\"#m7e2dd480ad\" y=\"115.92\"/>\r\n     <use style=\"fill:#4c4c4c;stroke:#4c4c4c;stroke-linejoin:miter;\" x=\"229.334883\" xlink:href=\"#m7e2dd480ad\" y=\"115.92\"/>\r\n     <use style=\"fill:#4c4c4c;stroke:#4c4c4c;stroke-linejoin:miter;\" x=\"265.808685\" xlink:href=\"#m7e2dd480ad\" y=\"115.92\"/>\r\n     <use style=\"fill:#4c4c4c;stroke:#4c4c4c;stroke-linejoin:miter;\" x=\"217.549277\" xlink:href=\"#m7e2dd480ad\" y=\"115.92\"/>\r\n     <use style=\"fill:#4c4c4c;stroke:#4c4c4c;stroke-linejoin:miter;\" x=\"242.079949\" xlink:href=\"#m7e2dd480ad\" y=\"115.92\"/>\r\n     <use style=\"fill:#4c4c4c;stroke:#4c4c4c;stroke-linejoin:miter;\" x=\"282.477513\" xlink:href=\"#m7e2dd480ad\" y=\"115.92\"/>\r\n     <use style=\"fill:#4c4c4c;stroke:#4c4c4c;stroke-linejoin:miter;\" x=\"245.932109\" xlink:href=\"#m7e2dd480ad\" y=\"115.92\"/>\r\n     <use style=\"fill:#4c4c4c;stroke:#4c4c4c;stroke-linejoin:miter;\" x=\"274.271981\" xlink:href=\"#m7e2dd480ad\" y=\"115.92\"/>\r\n     <use style=\"fill:#4c4c4c;stroke:#4c4c4c;stroke-linejoin:miter;\" x=\"291.757066\" xlink:href=\"#m7e2dd480ad\" y=\"115.92\"/>\r\n     <use style=\"fill:#4c4c4c;stroke:#4c4c4c;stroke-linejoin:miter;\" x=\"234.375628\" xlink:href=\"#m7e2dd480ad\" y=\"115.92\"/>\r\n     <use style=\"fill:#4c4c4c;stroke:#4c4c4c;stroke-linejoin:miter;\" x=\"275.446246\" xlink:href=\"#m7e2dd480ad\" y=\"115.92\"/>\r\n     <use style=\"fill:#4c4c4c;stroke:#4c4c4c;stroke-linejoin:miter;\" x=\"219.496837\" xlink:href=\"#m7e2dd480ad\" y=\"115.92\"/>\r\n     <use style=\"fill:#4c4c4c;stroke:#4c4c4c;stroke-linejoin:miter;\" x=\"222.346577\" xlink:href=\"#m7e2dd480ad\" y=\"115.92\"/>\r\n     <use style=\"fill:#4c4c4c;stroke:#4c4c4c;stroke-linejoin:miter;\" x=\"207.768512\" xlink:href=\"#m7e2dd480ad\" y=\"115.92\"/>\r\n     <use style=\"fill:#4c4c4c;stroke:#4c4c4c;stroke-linejoin:miter;\" x=\"202.913931\" xlink:href=\"#m7e2dd480ad\" y=\"115.92\"/>\r\n     <use style=\"fill:#4c4c4c;stroke:#4c4c4c;stroke-linejoin:miter;\" x=\"237.712258\" xlink:href=\"#m7e2dd480ad\" y=\"115.92\"/>\r\n     <use style=\"fill:#4c4c4c;stroke:#4c4c4c;stroke-linejoin:miter;\" x=\"197.171491\" xlink:href=\"#m7e2dd480ad\" y=\"115.92\"/>\r\n     <use style=\"fill:#4c4c4c;stroke:#4c4c4c;stroke-linejoin:miter;\" x=\"262.915984\" xlink:href=\"#m7e2dd480ad\" y=\"115.92\"/>\r\n     <use style=\"fill:#4c4c4c;stroke:#4c4c4c;stroke-linejoin:miter;\" x=\"213.467991\" xlink:href=\"#m7e2dd480ad\" y=\"115.92\"/>\r\n     <use style=\"fill:#4c4c4c;stroke:#4c4c4c;stroke-linejoin:miter;\" x=\"225.683207\" xlink:href=\"#m7e2dd480ad\" y=\"115.92\"/>\r\n     <use style=\"fill:#4c4c4c;stroke:#4c4c4c;stroke-linejoin:miter;\" x=\"278.625352\" xlink:href=\"#m7e2dd480ad\" y=\"115.92\"/>\r\n     <use style=\"fill:#4c4c4c;stroke:#4c4c4c;stroke-linejoin:miter;\" x=\"220.799985\" xlink:href=\"#m7e2dd480ad\" y=\"115.92\"/>\r\n     <use style=\"fill:#4c4c4c;stroke:#4c4c4c;stroke-linejoin:miter;\" x=\"279.155203\" xlink:href=\"#m7e2dd480ad\" y=\"115.92\"/>\r\n     <use style=\"fill:#4c4c4c;stroke:#4c4c4c;stroke-linejoin:miter;\" x=\"263.531757\" xlink:href=\"#m7e2dd480ad\" y=\"115.92\"/>\r\n     <use style=\"fill:#4c4c4c;stroke:#4c4c4c;stroke-linejoin:miter;\" x=\"258.806058\" xlink:href=\"#m7e2dd480ad\" y=\"115.92\"/>\r\n     <use style=\"fill:#4c4c4c;stroke:#4c4c4c;stroke-linejoin:miter;\" x=\"222.604342\" xlink:href=\"#m7e2dd480ad\" y=\"115.92\"/>\r\n     <use style=\"fill:#4c4c4c;stroke:#4c4c4c;stroke-linejoin:miter;\" x=\"254.667492\" xlink:href=\"#m7e2dd480ad\" y=\"115.92\"/>\r\n     <use style=\"fill:#4c4c4c;stroke:#4c4c4c;stroke-linejoin:miter;\" x=\"238.356671\" xlink:href=\"#m7e2dd480ad\" y=\"115.92\"/>\r\n     <use style=\"fill:#4c4c4c;stroke:#4c4c4c;stroke-linejoin:miter;\" x=\"250.801011\" xlink:href=\"#m7e2dd480ad\" y=\"115.92\"/>\r\n     <use style=\"fill:#4c4c4c;stroke:#4c4c4c;stroke-linejoin:miter;\" x=\"243.884307\" xlink:href=\"#m7e2dd480ad\" y=\"115.92\"/>\r\n     <use style=\"fill:#4c4c4c;stroke:#4c4c4c;stroke-linejoin:miter;\" x=\"248.266318\" xlink:href=\"#m7e2dd480ad\" y=\"115.92\"/>\r\n     <use style=\"fill:#4c4c4c;stroke:#4c4c4c;stroke-linejoin:miter;\" x=\"273.441404\" xlink:href=\"#m7e2dd480ad\" y=\"115.92\"/>\r\n     <use style=\"fill:#4c4c4c;stroke:#4c4c4c;stroke-linejoin:miter;\" x=\"310.044088\" xlink:href=\"#m7e2dd480ad\" y=\"115.92\"/>\r\n     <use style=\"fill:#4c4c4c;stroke:#4c4c4c;stroke-linejoin:miter;\" x=\"231.081959\" xlink:href=\"#m7e2dd480ad\" y=\"115.92\"/>\r\n     <use style=\"fill:#4c4c4c;stroke:#4c4c4c;stroke-linejoin:miter;\" x=\"200.536761\" xlink:href=\"#m7e2dd480ad\" y=\"115.92\"/>\r\n     <use style=\"fill:#4c4c4c;stroke:#4c4c4c;stroke-linejoin:miter;\" x=\"227.716689\" xlink:href=\"#m7e2dd480ad\" y=\"115.92\"/>\r\n     <use style=\"fill:#4c4c4c;stroke:#4c4c4c;stroke-linejoin:miter;\" x=\"261.097306\" xlink:href=\"#m7e2dd480ad\" y=\"115.92\"/>\r\n     <use style=\"fill:#4c4c4c;stroke:#4c4c4c;stroke-linejoin:miter;\" x=\"234.304027\" xlink:href=\"#m7e2dd480ad\" y=\"115.92\"/>\r\n     <use style=\"fill:#4c4c4c;stroke:#4c4c4c;stroke-linejoin:miter;\" x=\"267.856487\" xlink:href=\"#m7e2dd480ad\" y=\"115.92\"/>\r\n     <use style=\"fill:#4c4c4c;stroke:#4c4c4c;stroke-linejoin:miter;\" x=\"245.588422\" xlink:href=\"#m7e2dd480ad\" y=\"115.92\"/>\r\n     <use style=\"fill:#4c4c4c;stroke:#4c4c4c;stroke-linejoin:miter;\" x=\"229.291922\" xlink:href=\"#m7e2dd480ad\" y=\"115.92\"/>\r\n     <use style=\"fill:#4c4c4c;stroke:#4c4c4c;stroke-linejoin:miter;\" x=\"243.497659\" xlink:href=\"#m7e2dd480ad\" y=\"115.92\"/>\r\n     <use style=\"fill:#4c4c4c;stroke:#4c4c4c;stroke-linejoin:miter;\" x=\"279.656414\" xlink:href=\"#m7e2dd480ad\" y=\"115.92\"/>\r\n     <use style=\"fill:#4c4c4c;stroke:#4c4c4c;stroke-linejoin:miter;\" x=\"271.937773\" xlink:href=\"#m7e2dd480ad\" y=\"115.92\"/>\r\n     <use style=\"fill:#4c4c4c;stroke:#4c4c4c;stroke-linejoin:miter;\" x=\"312.779266\" xlink:href=\"#m7e2dd480ad\" y=\"115.92\"/>\r\n     <use style=\"fill:#4c4c4c;stroke:#4c4c4c;stroke-linejoin:miter;\" x=\"229.535367\" xlink:href=\"#m7e2dd480ad\" y=\"115.92\"/>\r\n     <use style=\"fill:#4c4c4c;stroke:#4c4c4c;stroke-linejoin:miter;\" x=\"222.532741\" xlink:href=\"#m7e2dd480ad\" y=\"115.92\"/>\r\n     <use style=\"fill:#4c4c4c;stroke:#4c4c4c;stroke-linejoin:miter;\" x=\"245.402258\" xlink:href=\"#m7e2dd480ad\" y=\"115.92\"/>\r\n     <use style=\"fill:#4c4c4c;stroke:#4c4c4c;stroke-linejoin:miter;\" x=\"225.769128\" xlink:href=\"#m7e2dd480ad\" y=\"115.92\"/>\r\n     <use style=\"fill:#4c4c4c;stroke:#4c4c4c;stroke-linejoin:miter;\" x=\"256.887138\" xlink:href=\"#m7e2dd480ad\" y=\"115.92\"/>\r\n     <use style=\"fill:#4c4c4c;stroke:#4c4c4c;stroke-linejoin:miter;\" x=\"290.081591\" xlink:href=\"#m7e2dd480ad\" y=\"115.92\"/>\r\n     <use style=\"fill:#4c4c4c;stroke:#4c4c4c;stroke-linejoin:miter;\" x=\"245.94643\" xlink:href=\"#m7e2dd480ad\" y=\"115.92\"/>\r\n     <use style=\"fill:#4c4c4c;stroke:#4c4c4c;stroke-linejoin:miter;\" x=\"214.799779\" xlink:href=\"#m7e2dd480ad\" y=\"115.92\"/>\r\n     <use style=\"fill:#4c4c4c;stroke:#4c4c4c;stroke-linejoin:miter;\" x=\"192.674917\" xlink:href=\"#m7e2dd480ad\" y=\"115.92\"/>\r\n     <use style=\"fill:#4c4c4c;stroke:#4c4c4c;stroke-linejoin:miter;\" x=\"292.673566\" xlink:href=\"#m7e2dd480ad\" y=\"115.92\"/>\r\n     <use style=\"fill:#4c4c4c;stroke:#4c4c4c;stroke-linejoin:miter;\" x=\"219.425236\" xlink:href=\"#m7e2dd480ad\" y=\"115.92\"/>\r\n     <use style=\"fill:#4c4c4c;stroke:#4c4c4c;stroke-linejoin:miter;\" x=\"282.649356\" xlink:href=\"#m7e2dd480ad\" y=\"115.92\"/>\r\n     <use style=\"fill:#4c4c4c;stroke:#4c4c4c;stroke-linejoin:miter;\" x=\"192.846761\" xlink:href=\"#m7e2dd480ad\" y=\"115.92\"/>\r\n     <use style=\"fill:#4c4c4c;stroke:#4c4c4c;stroke-linejoin:miter;\" x=\"220.413337\" xlink:href=\"#m7e2dd480ad\" y=\"115.92\"/>\r\n     <use style=\"fill:#4c4c4c;stroke:#4c4c4c;stroke-linejoin:miter;\" x=\"274.486786\" xlink:href=\"#m7e2dd480ad\" y=\"115.92\"/>\r\n     <use style=\"fill:#4c4c4c;stroke:#4c4c4c;stroke-linejoin:miter;\" x=\"282.549114\" xlink:href=\"#m7e2dd480ad\" y=\"115.92\"/>\r\n     <use style=\"fill:#4c4c4c;stroke:#4c4c4c;stroke-linejoin:miter;\" x=\"227.373002\" xlink:href=\"#m7e2dd480ad\" y=\"115.92\"/>\r\n     <use style=\"fill:#4c4c4c;stroke:#4c4c4c;stroke-linejoin:miter;\" x=\"239.072686\" xlink:href=\"#m7e2dd480ad\" y=\"115.92\"/>\r\n     <use style=\"fill:#4c4c4c;stroke:#4c4c4c;stroke-linejoin:miter;\" x=\"272.854272\" xlink:href=\"#m7e2dd480ad\" y=\"115.92\"/>\r\n     <use style=\"fill:#4c4c4c;stroke:#4c4c4c;stroke-linejoin:miter;\" x=\"296.840773\" xlink:href=\"#m7e2dd480ad\" y=\"115.92\"/>\r\n     <use style=\"fill:#4c4c4c;stroke:#4c4c4c;stroke-linejoin:miter;\" x=\"250.342762\" xlink:href=\"#m7e2dd480ad\" y=\"115.92\"/>\r\n     <use style=\"fill:#4c4c4c;stroke:#4c4c4c;stroke-linejoin:miter;\" x=\"283.737699\" xlink:href=\"#m7e2dd480ad\" y=\"115.92\"/>\r\n     <use style=\"fill:#4c4c4c;stroke:#4c4c4c;stroke-linejoin:miter;\" x=\"274.615668\" xlink:href=\"#m7e2dd480ad\" y=\"115.92\"/>\r\n     <use style=\"fill:#4c4c4c;stroke:#4c4c4c;stroke-linejoin:miter;\" x=\"235.950861\" xlink:href=\"#m7e2dd480ad\" y=\"115.92\"/>\r\n     <use style=\"fill:#4c4c4c;stroke:#4c4c4c;stroke-linejoin:miter;\" x=\"274.930715\" xlink:href=\"#m7e2dd480ad\" y=\"115.92\"/>\r\n     <use style=\"fill:#4c4c4c;stroke:#4c4c4c;stroke-linejoin:miter;\" x=\"193.347971\" xlink:href=\"#m7e2dd480ad\" y=\"115.92\"/>\r\n     <use style=\"fill:#4c4c4c;stroke:#4c4c4c;stroke-linejoin:miter;\" x=\"232.155982\" xlink:href=\"#m7e2dd480ad\" y=\"115.92\"/>\r\n     <use style=\"fill:#4c4c4c;stroke:#4c4c4c;stroke-linejoin:miter;\" x=\"233.373207\" xlink:href=\"#m7e2dd480ad\" y=\"115.92\"/>\r\n     <use style=\"fill:#4c4c4c;stroke:#4c4c4c;stroke-linejoin:miter;\" x=\"190.856239\" xlink:href=\"#m7e2dd480ad\" y=\"115.92\"/>\r\n     <use style=\"fill:#4c4c4c;stroke:#4c4c4c;stroke-linejoin:miter;\" x=\"228.933914\" xlink:href=\"#m7e2dd480ad\" y=\"115.92\"/>\r\n     <use style=\"fill:#4c4c4c;stroke:#4c4c4c;stroke-linejoin:miter;\" x=\"219.998048\" xlink:href=\"#m7e2dd480ad\" y=\"115.92\"/>\r\n     <use style=\"fill:#4c4c4c;stroke:#4c4c4c;stroke-linejoin:miter;\" x=\"263.861124\" xlink:href=\"#m7e2dd480ad\" y=\"115.92\"/>\r\n     <use style=\"fill:#4c4c4c;stroke:#4c4c4c;stroke-linejoin:miter;\" x=\"261.999485\" xlink:href=\"#m7e2dd480ad\" y=\"115.92\"/>\r\n     <use style=\"fill:#4c4c4c;stroke:#4c4c4c;stroke-linejoin:miter;\" x=\"204.31732\" xlink:href=\"#m7e2dd480ad\" y=\"115.92\"/>\r\n     <use style=\"fill:#4c4c4c;stroke:#4c4c4c;stroke-linejoin:miter;\" x=\"273.613248\" xlink:href=\"#m7e2dd480ad\" y=\"115.92\"/>\r\n     <use style=\"fill:#4c4c4c;stroke:#4c4c4c;stroke-linejoin:miter;\" x=\"273.040436\" xlink:href=\"#m7e2dd480ad\" y=\"115.92\"/>\r\n     <use style=\"fill:#4c4c4c;stroke:#4c4c4c;stroke-linejoin:miter;\" x=\"241.17777\" xlink:href=\"#m7e2dd480ad\" y=\"115.92\"/>\r\n     <use style=\"fill:#4c4c4c;stroke:#4c4c4c;stroke-linejoin:miter;\" x=\"231.712052\" xlink:href=\"#m7e2dd480ad\" y=\"115.92\"/>\r\n     <use style=\"fill:#4c4c4c;stroke:#4c4c4c;stroke-linejoin:miter;\" x=\"242.036988\" xlink:href=\"#m7e2dd480ad\" y=\"115.92\"/>\r\n     <use style=\"fill:#4c4c4c;stroke:#4c4c4c;stroke-linejoin:miter;\" x=\"210.346166\" xlink:href=\"#m7e2dd480ad\" y=\"115.92\"/>\r\n     <use style=\"fill:#4c4c4c;stroke:#4c4c4c;stroke-linejoin:miter;\" x=\"305.132226\" xlink:href=\"#m7e2dd480ad\" y=\"115.92\"/>\r\n     <use style=\"fill:#4c4c4c;stroke:#4c4c4c;stroke-linejoin:miter;\" x=\"213.510952\" xlink:href=\"#m7e2dd480ad\" y=\"115.92\"/>\r\n     <use style=\"fill:#4c4c4c;stroke:#4c4c4c;stroke-linejoin:miter;\" x=\"203.515384\" xlink:href=\"#m7e2dd480ad\" y=\"115.92\"/>\r\n     <use style=\"fill:#4c4c4c;stroke:#4c4c4c;stroke-linejoin:miter;\" x=\"308.440215\" xlink:href=\"#m7e2dd480ad\" y=\"115.92\"/>\r\n     <use style=\"fill:#4c4c4c;stroke:#4c4c4c;stroke-linejoin:miter;\" x=\"260.238088\" xlink:href=\"#m7e2dd480ad\" y=\"115.92\"/>\r\n     <use style=\"fill:#4c4c4c;stroke:#4c4c4c;stroke-linejoin:miter;\" x=\"293.060214\" xlink:href=\"#m7e2dd480ad\" y=\"115.92\"/>\r\n     <use style=\"fill:#4c4c4c;stroke:#4c4c4c;stroke-linejoin:miter;\" x=\"220.685422\" xlink:href=\"#m7e2dd480ad\" y=\"115.92\"/>\r\n     <use style=\"fill:#4c4c4c;stroke:#4c4c4c;stroke-linejoin:miter;\" x=\"242.810284\" xlink:href=\"#m7e2dd480ad\" y=\"115.92\"/>\r\n     <use style=\"fill:#4c4c4c;stroke:#4c4c4c;stroke-linejoin:miter;\" x=\"223.621084\" xlink:href=\"#m7e2dd480ad\" y=\"115.92\"/>\r\n     <use style=\"fill:#4c4c4c;stroke:#4c4c4c;stroke-linejoin:miter;\" x=\"241.507137\" xlink:href=\"#m7e2dd480ad\" y=\"115.92\"/>\r\n     <use style=\"fill:#4c4c4c;stroke:#4c4c4c;stroke-linejoin:miter;\" x=\"303.241946\" xlink:href=\"#m7e2dd480ad\" y=\"115.92\"/>\r\n     <use style=\"fill:#4c4c4c;stroke:#4c4c4c;stroke-linejoin:miter;\" x=\"251.746151\" xlink:href=\"#m7e2dd480ad\" y=\"115.92\"/>\r\n     <use style=\"fill:#4c4c4c;stroke:#4c4c4c;stroke-linejoin:miter;\" x=\"246.43332\" xlink:href=\"#m7e2dd480ad\" y=\"115.92\"/>\r\n     <use style=\"fill:#4c4c4c;stroke:#4c4c4c;stroke-linejoin:miter;\" x=\"236.623915\" xlink:href=\"#m7e2dd480ad\" y=\"115.92\"/>\r\n     <use style=\"fill:#4c4c4c;stroke:#4c4c4c;stroke-linejoin:miter;\" x=\"231.855255\" xlink:href=\"#m7e2dd480ad\" y=\"115.92\"/>\r\n     <use style=\"fill:#4c4c4c;stroke:#4c4c4c;stroke-linejoin:miter;\" x=\"274.372223\" xlink:href=\"#m7e2dd480ad\" y=\"115.92\"/>\r\n     <use style=\"fill:#4c4c4c;stroke:#4c4c4c;stroke-linejoin:miter;\" x=\"206.551287\" xlink:href=\"#m7e2dd480ad\" y=\"115.92\"/>\r\n     <use style=\"fill:#4c4c4c;stroke:#4c4c4c;stroke-linejoin:miter;\" x=\"209.057339\" xlink:href=\"#m7e2dd480ad\" y=\"115.92\"/>\r\n     <use style=\"fill:#4c4c4c;stroke:#4c4c4c;stroke-linejoin:miter;\" x=\"264.104569\" xlink:href=\"#m7e2dd480ad\" y=\"115.92\"/>\r\n     <use style=\"fill:#4c4c4c;stroke:#4c4c4c;stroke-linejoin:miter;\" x=\"222.776186\" xlink:href=\"#m7e2dd480ad\" y=\"115.92\"/>\r\n     <use style=\"fill:#4c4c4c;stroke:#4c4c4c;stroke-linejoin:miter;\" x=\"237.067844\" xlink:href=\"#m7e2dd480ad\" y=\"115.92\"/>\r\n     <use style=\"fill:#4c4c4c;stroke:#4c4c4c;stroke-linejoin:miter;\" x=\"288.606601\" xlink:href=\"#m7e2dd480ad\" y=\"115.92\"/>\r\n     <use style=\"fill:#4c4c4c;stroke:#4c4c4c;stroke-linejoin:miter;\" x=\"247.521663\" xlink:href=\"#m7e2dd480ad\" y=\"115.92\"/>\r\n     <use style=\"fill:#4c4c4c;stroke:#4c4c4c;stroke-linejoin:miter;\" x=\"243.354456\" xlink:href=\"#m7e2dd480ad\" y=\"115.92\"/>\r\n     <use style=\"fill:#4c4c4c;stroke:#4c4c4c;stroke-linejoin:miter;\" x=\"268.45794\" xlink:href=\"#m7e2dd480ad\" y=\"115.92\"/>\r\n     <use style=\"fill:#4c4c4c;stroke:#4c4c4c;stroke-linejoin:miter;\" x=\"210.847377\" xlink:href=\"#m7e2dd480ad\" y=\"115.92\"/>\r\n     <use style=\"fill:#4c4c4c;stroke:#4c4c4c;stroke-linejoin:miter;\" x=\"210.689853\" xlink:href=\"#m7e2dd480ad\" y=\"115.92\"/>\r\n     <use style=\"fill:#4c4c4c;stroke:#4c4c4c;stroke-linejoin:miter;\" x=\"285.441815\" xlink:href=\"#m7e2dd480ad\" y=\"115.92\"/>\r\n     <use style=\"fill:#4c4c4c;stroke:#4c4c4c;stroke-linejoin:miter;\" x=\"303.814758\" xlink:href=\"#m7e2dd480ad\" y=\"115.92\"/>\r\n     <use style=\"fill:#4c4c4c;stroke:#4c4c4c;stroke-linejoin:miter;\" x=\"248.151756\" xlink:href=\"#m7e2dd480ad\" y=\"115.92\"/>\r\n     <use style=\"fill:#4c4c4c;stroke:#4c4c4c;stroke-linejoin:miter;\" x=\"302.840978\" xlink:href=\"#m7e2dd480ad\" y=\"115.92\"/>\r\n     <use style=\"fill:#4c4c4c;stroke:#4c4c4c;stroke-linejoin:miter;\" x=\"191.901621\" xlink:href=\"#m7e2dd480ad\" y=\"115.92\"/>\r\n     <use style=\"fill:#4c4c4c;stroke:#4c4c4c;stroke-linejoin:miter;\" x=\"258.462371\" xlink:href=\"#m7e2dd480ad\" y=\"115.92\"/>\r\n     <use style=\"fill:#4c4c4c;stroke:#4c4c4c;stroke-linejoin:miter;\" x=\"275.64673\" xlink:href=\"#m7e2dd480ad\" y=\"115.92\"/>\r\n     <use style=\"fill:#4c4c4c;stroke:#4c4c4c;stroke-linejoin:miter;\" x=\"249.984754\" xlink:href=\"#m7e2dd480ad\" y=\"115.92\"/>\r\n     <use style=\"fill:#4c4c4c;stroke:#4c4c4c;stroke-linejoin:miter;\" x=\"251.416784\" xlink:href=\"#m7e2dd480ad\" y=\"115.92\"/>\r\n     <use style=\"fill:#4c4c4c;stroke:#4c4c4c;stroke-linejoin:miter;\" x=\"239.659818\" xlink:href=\"#m7e2dd480ad\" y=\"115.92\"/>\r\n     <use style=\"fill:#4c4c4c;stroke:#4c4c4c;stroke-linejoin:miter;\" x=\"279.556172\" xlink:href=\"#m7e2dd480ad\" y=\"115.92\"/>\r\n     <use style=\"fill:#4c4c4c;stroke:#4c4c4c;stroke-linejoin:miter;\" x=\"227.74533\" xlink:href=\"#m7e2dd480ad\" y=\"115.92\"/>\r\n     <use style=\"fill:#4c4c4c;stroke:#4c4c4c;stroke-linejoin:miter;\" x=\"272.983154\" xlink:href=\"#m7e2dd480ad\" y=\"115.92\"/>\r\n     <use style=\"fill:#4c4c4c;stroke:#4c4c4c;stroke-linejoin:miter;\" x=\"225.86937\" xlink:href=\"#m7e2dd480ad\" y=\"115.92\"/>\r\n     <use style=\"fill:#4c4c4c;stroke:#4c4c4c;stroke-linejoin:miter;\" x=\"232.198943\" xlink:href=\"#m7e2dd480ad\" y=\"115.92\"/>\r\n     <use style=\"fill:#4c4c4c;stroke:#4c4c4c;stroke-linejoin:miter;\" x=\"297.957756\" xlink:href=\"#m7e2dd480ad\" y=\"115.92\"/>\r\n     <use style=\"fill:#4c4c4c;stroke:#4c4c4c;stroke-linejoin:miter;\" x=\"229.105758\" xlink:href=\"#m7e2dd480ad\" y=\"115.92\"/>\r\n     <use style=\"fill:#4c4c4c;stroke:#4c4c4c;stroke-linejoin:miter;\" x=\"254.409727\" xlink:href=\"#m7e2dd480ad\" y=\"115.92\"/>\r\n     <use style=\"fill:#4c4c4c;stroke:#4c4c4c;stroke-linejoin:miter;\" x=\"245.029931\" xlink:href=\"#m7e2dd480ad\" y=\"115.92\"/>\r\n     <use style=\"fill:#4c4c4c;stroke:#4c4c4c;stroke-linejoin:miter;\" x=\"228.26086\" xlink:href=\"#m7e2dd480ad\" y=\"115.92\"/>\r\n     <use style=\"fill:#4c4c4c;stroke:#4c4c4c;stroke-linejoin:miter;\" x=\"280.028742\" xlink:href=\"#m7e2dd480ad\" y=\"115.92\"/>\r\n     <use style=\"fill:#4c4c4c;stroke:#4c4c4c;stroke-linejoin:miter;\" x=\"259.049503\" xlink:href=\"#m7e2dd480ad\" y=\"115.92\"/>\r\n     <use style=\"fill:#4c4c4c;stroke:#4c4c4c;stroke-linejoin:miter;\" x=\"296.969655\" xlink:href=\"#m7e2dd480ad\" y=\"115.92\"/>\r\n     <use style=\"fill:#4c4c4c;stroke:#4c4c4c;stroke-linejoin:miter;\" x=\"194.923204\" xlink:href=\"#m7e2dd480ad\" y=\"115.92\"/>\r\n    </g>\r\n   </g>\r\n   <g id=\"line2d_12\">\r\n    <path clip-path=\"url(#p32e2ccf1d3)\" d=\"M 80.045765 28.944 \r\nL 80.045765 202.896 \r\n\" style=\"fill:none;stroke:#4c4c4c;stroke-linecap:square;stroke-width:1.2;\"/>\r\n   </g>\r\n   <g id=\"patch_4\">\r\n    <path d=\"M 12 224.64 \r\nL 12 7.2 \r\n\" style=\"fill:none;stroke:#000000;stroke-linecap:square;stroke-linejoin:miter;\"/>\r\n   </g>\r\n   <g id=\"patch_5\">\r\n    <path d=\"M 346.8 224.64 \r\nL 346.8 7.2 \r\n\" style=\"fill:none;stroke:#000000;stroke-linecap:square;stroke-linejoin:miter;\"/>\r\n   </g>\r\n   <g id=\"patch_6\">\r\n    <path d=\"M 12 224.64 \r\nL 346.8 224.64 \r\n\" style=\"fill:none;stroke:#000000;stroke-linecap:square;stroke-linejoin:miter;\"/>\r\n   </g>\r\n   <g id=\"patch_7\">\r\n    <path d=\"M 12 7.2 \r\nL 346.8 7.2 \r\n\" style=\"fill:none;stroke:#000000;stroke-linecap:square;stroke-linejoin:miter;\"/>\r\n   </g>\r\n  </g>\r\n </g>\r\n <defs>\r\n  <clipPath id=\"p32e2ccf1d3\">\r\n   <rect height=\"217.44\" width=\"334.8\" x=\"12\" y=\"7.2\"/>\r\n  </clipPath>\r\n </defs>\r\n</svg>\r\n",
      "image/png": "[encoded data removed]"
     },
     "metadata": {
      "needs_background": "light"
     }
    }
   ],
   "source": [
    "sns.boxplot(x='avg_glucose_level',data=df, color='Red')"
   ]
  },
  {
   "cell_type": "code",
   "execution_count": 13,
   "metadata": {},
   "outputs": [
    {
     "output_type": "execute_result",
     "data": {
      "text/plain": [
       "<AxesSubplot:xlabel='bmi'>"
      ]
     },
     "metadata": {},
     "execution_count": 13
    },
    {
     "output_type": "display_data",
     "data": {
      "text/plain": "<Figure size 432x288 with 1 Axes>",
      "image/svg+xml": "<?xml version=\"1.0\" encoding=\"utf-8\" standalone=\"no\"?>\r\n<!DOCTYPE svg PUBLIC \"-//W3C//DTD SVG 1.1//EN\"\r\n  \"http://www.w3.org/Graphics/SVG/1.1/DTD/svg11.dtd\">\r\n<!-- Created with matplotlib (https://matplotlib.org/) -->\r\n<svg height=\"270.851625pt\" version=\"1.1\" viewBox=\"0 0 359.84391 270.851625\" width=\"359.84391pt\" xmlns=\"http://www.w3.org/2000/svg\" xmlns:xlink=\"http://www.w3.org/1999/xlink\">\r\n <metadata>\r\n  <rdf:RDF xmlns:cc=\"http://creativecommons.org/ns#\" xmlns:dc=\"http://purl.org/dc/elements/1.1/\" xmlns:rdf=\"http://www.w3.org/1999/02/22-rdf-syntax-ns#\">\r\n   <cc:Work>\r\n    <dc:type rdf:resource=\"http://purl.org/dc/dcmitype/StillImage\"/>\r\n    <dc:date>2021-05-19T21:35:20.788880</dc:date>\r\n    <dc:format>image/svg+xml</dc:format>\r\n    <dc:creator>\r\n     <cc:Agent>\r\n      <dc:title>Matplotlib v3.3.2, https://matplotlib.org/</dc:title>\r\n     </cc:Agent>\r\n    </dc:creator>\r\n   </cc:Work>\r\n  </rdf:RDF>\r\n </metadata>\r\n <defs>\r\n  <style type=\"text/css\">*{stroke-linecap:butt;stroke-linejoin:round;}</style>\r\n </defs>\r\n <g id=\"figure_1\">\r\n  <g id=\"patch_1\">\r\n   <path d=\"M 0 270.851625 \r\nL 359.84391 270.851625 \r\nL 359.84391 0 \r\nL 0 0 \r\nz\r\n\" style=\"fill:none;\"/>\r\n  </g>\r\n  <g id=\"axes_1\">\r\n   <g id=\"patch_2\">\r\n    <path d=\"M 12 224.64 \r\nL 346.8 224.64 \r\nL 346.8 7.2 \r\nL 12 7.2 \r\nz\r\n\" style=\"fill:#ffffff;\"/>\r\n   </g>\r\n   <g id=\"patch_3\">\r\n    <path clip-path=\"url(#p3ef1715264)\" d=\"M 70.245254 28.944 \r\nL 70.245254 202.896 \r\nL 103.749942 202.896 \r\nL 103.749942 28.944 \r\nL 70.245254 28.944 \r\nz\r\n\" style=\"fill:#107010;stroke:#262626;stroke-linejoin:miter;stroke-width:1.2;\"/>\r\n   </g>\r\n   <g id=\"matplotlib.axis_1\">\r\n    <g id=\"xtick_1\">\r\n     <g id=\"line2d_1\">\r\n      <defs>\r\n       <path d=\"M 0 0 \r\nL 0 4.8 \r\n\" id=\"m75adacc6d9\" style=\"stroke:#000000;\"/>\r\n      </defs>\r\n      <g>\r\n       <use style=\"stroke:#000000;\" x=\"57.901422\" xlink:href=\"#m75adacc6d9\" y=\"224.64\"/>\r\n      </g>\r\n     </g>\r\n     <g id=\"text_1\">\r\n      <!-- 20 -->\r\n      <g transform=\"translate(49.502922 242.969937)scale(0.132 -0.132)\">\r\n       <defs>\r\n        <path d=\"M 19.1875 8.296875 \r\nL 53.609375 8.296875 \r\nL 53.609375 0 \r\nL 7.328125 0 \r\nL 7.328125 8.296875 \r\nQ 12.9375 14.109375 22.625 23.890625 \r\nQ 32.328125 33.6875 34.8125 36.53125 \r\nQ 39.546875 41.84375 41.421875 45.53125 \r\nQ 43.3125 49.21875 43.3125 52.78125 \r\nQ 43.3125 58.59375 39.234375 62.25 \r\nQ 35.15625 65.921875 28.609375 65.921875 \r\nQ 23.96875 65.921875 18.8125 64.3125 \r\nQ 13.671875 62.703125 7.8125 59.421875 \r\nL 7.8125 69.390625 \r\nQ 13.765625 71.78125 18.9375 73 \r\nQ 24.125 74.21875 28.421875 74.21875 \r\nQ 39.75 74.21875 46.484375 68.546875 \r\nQ 53.21875 62.890625 53.21875 53.421875 \r\nQ 53.21875 48.921875 51.53125 44.890625 \r\nQ 49.859375 40.875 45.40625 35.40625 \r\nQ 44.1875 33.984375 37.640625 27.21875 \r\nQ 31.109375 20.453125 19.1875 8.296875 \r\nz\r\n\" id=\"DejaVuSans-50\"/>\r\n        <path d=\"M 31.78125 66.40625 \r\nQ 24.171875 66.40625 20.328125 58.90625 \r\nQ 16.5 51.421875 16.5 36.375 \r\nQ 16.5 21.390625 20.328125 13.890625 \r\nQ 24.171875 6.390625 31.78125 6.390625 \r\nQ 39.453125 6.390625 43.28125 13.890625 \r\nQ 47.125 21.390625 47.125 36.375 \r\nQ 47.125 51.421875 43.28125 58.90625 \r\nQ 39.453125 66.40625 31.78125 66.40625 \r\nz\r\nM 31.78125 74.21875 \r\nQ 44.046875 74.21875 50.515625 64.515625 \r\nQ 56.984375 54.828125 56.984375 36.375 \r\nQ 56.984375 17.96875 50.515625 8.265625 \r\nQ 44.046875 -1.421875 31.78125 -1.421875 \r\nQ 19.53125 -1.421875 13.0625 8.265625 \r\nQ 6.59375 17.96875 6.59375 36.375 \r\nQ 6.59375 54.828125 13.0625 64.515625 \r\nQ 19.53125 74.21875 31.78125 74.21875 \r\nz\r\n\" id=\"DejaVuSans-48\"/>\r\n       </defs>\r\n       <use xlink:href=\"#DejaVuSans-50\"/>\r\n       <use x=\"63.623047\" xlink:href=\"#DejaVuSans-48\"/>\r\n      </g>\r\n     </g>\r\n    </g>\r\n    <g id=\"xtick_2\">\r\n     <g id=\"line2d_2\">\r\n      <g>\r\n       <use style=\"stroke:#000000;\" x=\"128.437607\" xlink:href=\"#m75adacc6d9\" y=\"224.64\"/>\r\n      </g>\r\n     </g>\r\n     <g id=\"text_2\">\r\n      <!-- 40 -->\r\n      <g transform=\"translate(120.039107 242.969937)scale(0.132 -0.132)\">\r\n       <defs>\r\n        <path d=\"M 37.796875 64.3125 \r\nL 12.890625 25.390625 \r\nL 37.796875 25.390625 \r\nz\r\nM 35.203125 72.90625 \r\nL 47.609375 72.90625 \r\nL 47.609375 25.390625 \r\nL 58.015625 25.390625 \r\nL 58.015625 17.1875 \r\nL 47.609375 17.1875 \r\nL 47.609375 0 \r\nL 37.796875 0 \r\nL 37.796875 17.1875 \r\nL 4.890625 17.1875 \r\nL 4.890625 26.703125 \r\nz\r\n\" id=\"DejaVuSans-52\"/>\r\n       </defs>\r\n       <use xlink:href=\"#DejaVuSans-52\"/>\r\n       <use x=\"63.623047\" xlink:href=\"#DejaVuSans-48\"/>\r\n      </g>\r\n     </g>\r\n    </g>\r\n    <g id=\"xtick_3\">\r\n     <g id=\"line2d_3\">\r\n      <g>\r\n       <use style=\"stroke:#000000;\" x=\"198.973791\" xlink:href=\"#m75adacc6d9\" y=\"224.64\"/>\r\n      </g>\r\n     </g>\r\n     <g id=\"text_3\">\r\n      <!-- 60 -->\r\n      <g transform=\"translate(190.575291 242.969937)scale(0.132 -0.132)\">\r\n       <defs>\r\n        <path d=\"M 33.015625 40.375 \r\nQ 26.375 40.375 22.484375 35.828125 \r\nQ 18.609375 31.296875 18.609375 23.390625 \r\nQ 18.609375 15.53125 22.484375 10.953125 \r\nQ 26.375 6.390625 33.015625 6.390625 \r\nQ 39.65625 6.390625 43.53125 10.953125 \r\nQ 47.40625 15.53125 47.40625 23.390625 \r\nQ 47.40625 31.296875 43.53125 35.828125 \r\nQ 39.65625 40.375 33.015625 40.375 \r\nz\r\nM 52.59375 71.296875 \r\nL 52.59375 62.3125 \r\nQ 48.875 64.0625 45.09375 64.984375 \r\nQ 41.3125 65.921875 37.59375 65.921875 \r\nQ 27.828125 65.921875 22.671875 59.328125 \r\nQ 17.53125 52.734375 16.796875 39.40625 \r\nQ 19.671875 43.65625 24.015625 45.921875 \r\nQ 28.375 48.1875 33.59375 48.1875 \r\nQ 44.578125 48.1875 50.953125 41.515625 \r\nQ 57.328125 34.859375 57.328125 23.390625 \r\nQ 57.328125 12.15625 50.6875 5.359375 \r\nQ 44.046875 -1.421875 33.015625 -1.421875 \r\nQ 20.359375 -1.421875 13.671875 8.265625 \r\nQ 6.984375 17.96875 6.984375 36.375 \r\nQ 6.984375 53.65625 15.1875 63.9375 \r\nQ 23.390625 74.21875 37.203125 74.21875 \r\nQ 40.921875 74.21875 44.703125 73.484375 \r\nQ 48.484375 72.75 52.59375 71.296875 \r\nz\r\n\" id=\"DejaVuSans-54\"/>\r\n       </defs>\r\n       <use xlink:href=\"#DejaVuSans-54\"/>\r\n       <use x=\"63.623047\" xlink:href=\"#DejaVuSans-48\"/>\r\n      </g>\r\n     </g>\r\n    </g>\r\n    <g id=\"xtick_4\">\r\n     <g id=\"line2d_4\">\r\n      <g>\r\n       <use style=\"stroke:#000000;\" x=\"269.509976\" xlink:href=\"#m75adacc6d9\" y=\"224.64\"/>\r\n      </g>\r\n     </g>\r\n     <g id=\"text_4\">\r\n      <!-- 80 -->\r\n      <g transform=\"translate(261.111476 242.969937)scale(0.132 -0.132)\">\r\n       <defs>\r\n        <path d=\"M 31.78125 34.625 \r\nQ 24.75 34.625 20.71875 30.859375 \r\nQ 16.703125 27.09375 16.703125 20.515625 \r\nQ 16.703125 13.921875 20.71875 10.15625 \r\nQ 24.75 6.390625 31.78125 6.390625 \r\nQ 38.8125 6.390625 42.859375 10.171875 \r\nQ 46.921875 13.96875 46.921875 20.515625 \r\nQ 46.921875 27.09375 42.890625 30.859375 \r\nQ 38.875 34.625 31.78125 34.625 \r\nz\r\nM 21.921875 38.8125 \r\nQ 15.578125 40.375 12.03125 44.71875 \r\nQ 8.5 49.078125 8.5 55.328125 \r\nQ 8.5 64.0625 14.71875 69.140625 \r\nQ 20.953125 74.21875 31.78125 74.21875 \r\nQ 42.671875 74.21875 48.875 69.140625 \r\nQ 55.078125 64.0625 55.078125 55.328125 \r\nQ 55.078125 49.078125 51.53125 44.71875 \r\nQ 48 40.375 41.703125 38.8125 \r\nQ 48.828125 37.15625 52.796875 32.3125 \r\nQ 56.78125 27.484375 56.78125 20.515625 \r\nQ 56.78125 9.90625 50.3125 4.234375 \r\nQ 43.84375 -1.421875 31.78125 -1.421875 \r\nQ 19.734375 -1.421875 13.25 4.234375 \r\nQ 6.78125 9.90625 6.78125 20.515625 \r\nQ 6.78125 27.484375 10.78125 32.3125 \r\nQ 14.796875 37.15625 21.921875 38.8125 \r\nz\r\nM 18.3125 54.390625 \r\nQ 18.3125 48.734375 21.84375 45.5625 \r\nQ 25.390625 42.390625 31.78125 42.390625 \r\nQ 38.140625 42.390625 41.71875 45.5625 \r\nQ 45.3125 48.734375 45.3125 54.390625 \r\nQ 45.3125 60.0625 41.71875 63.234375 \r\nQ 38.140625 66.40625 31.78125 66.40625 \r\nQ 25.390625 66.40625 21.84375 63.234375 \r\nQ 18.3125 60.0625 18.3125 54.390625 \r\nz\r\n\" id=\"DejaVuSans-56\"/>\r\n       </defs>\r\n       <use xlink:href=\"#DejaVuSans-56\"/>\r\n       <use x=\"63.623047\" xlink:href=\"#DejaVuSans-48\"/>\r\n      </g>\r\n     </g>\r\n    </g>\r\n    <g id=\"xtick_5\">\r\n     <g id=\"line2d_5\">\r\n      <g>\r\n       <use style=\"stroke:#000000;\" x=\"340.04616\" xlink:href=\"#m75adacc6d9\" y=\"224.64\"/>\r\n      </g>\r\n     </g>\r\n     <g id=\"text_5\">\r\n      <!-- 100 -->\r\n      <g transform=\"translate(327.44841 242.969937)scale(0.132 -0.132)\">\r\n       <defs>\r\n        <path d=\"M 12.40625 8.296875 \r\nL 28.515625 8.296875 \r\nL 28.515625 63.921875 \r\nL 10.984375 60.40625 \r\nL 10.984375 69.390625 \r\nL 28.421875 72.90625 \r\nL 38.28125 72.90625 \r\nL 38.28125 8.296875 \r\nL 54.390625 8.296875 \r\nL 54.390625 0 \r\nL 12.40625 0 \r\nz\r\n\" id=\"DejaVuSans-49\"/>\r\n       </defs>\r\n       <use xlink:href=\"#DejaVuSans-49\"/>\r\n       <use x=\"63.623047\" xlink:href=\"#DejaVuSans-48\"/>\r\n       <use x=\"127.246094\" xlink:href=\"#DejaVuSans-48\"/>\r\n      </g>\r\n     </g>\r\n    </g>\r\n    <g id=\"text_6\">\r\n     <!-- bmi -->\r\n     <g transform=\"translate(165.815625 260.656875)scale(0.144 -0.144)\">\r\n      <defs>\r\n       <path d=\"M 48.6875 27.296875 \r\nQ 48.6875 37.203125 44.609375 42.84375 \r\nQ 40.53125 48.484375 33.40625 48.484375 \r\nQ 26.265625 48.484375 22.1875 42.84375 \r\nQ 18.109375 37.203125 18.109375 27.296875 \r\nQ 18.109375 17.390625 22.1875 11.75 \r\nQ 26.265625 6.109375 33.40625 6.109375 \r\nQ 40.53125 6.109375 44.609375 11.75 \r\nQ 48.6875 17.390625 48.6875 27.296875 \r\nz\r\nM 18.109375 46.390625 \r\nQ 20.953125 51.265625 25.265625 53.625 \r\nQ 29.59375 56 35.59375 56 \r\nQ 45.5625 56 51.78125 48.09375 \r\nQ 58.015625 40.1875 58.015625 27.296875 \r\nQ 58.015625 14.40625 51.78125 6.484375 \r\nQ 45.5625 -1.421875 35.59375 -1.421875 \r\nQ 29.59375 -1.421875 25.265625 0.953125 \r\nQ 20.953125 3.328125 18.109375 8.203125 \r\nL 18.109375 0 \r\nL 9.078125 0 \r\nL 9.078125 75.984375 \r\nL 18.109375 75.984375 \r\nz\r\n\" id=\"DejaVuSans-98\"/>\r\n       <path d=\"M 52 44.1875 \r\nQ 55.375 50.25 60.0625 53.125 \r\nQ 64.75 56 71.09375 56 \r\nQ 79.640625 56 84.28125 50.015625 \r\nQ 88.921875 44.046875 88.921875 33.015625 \r\nL 88.921875 0 \r\nL 79.890625 0 \r\nL 79.890625 32.71875 \r\nQ 79.890625 40.578125 77.09375 44.375 \r\nQ 74.3125 48.1875 68.609375 48.1875 \r\nQ 61.625 48.1875 57.5625 43.546875 \r\nQ 53.515625 38.921875 53.515625 30.90625 \r\nL 53.515625 0 \r\nL 44.484375 0 \r\nL 44.484375 32.71875 \r\nQ 44.484375 40.625 41.703125 44.40625 \r\nQ 38.921875 48.1875 33.109375 48.1875 \r\nQ 26.21875 48.1875 22.15625 43.53125 \r\nQ 18.109375 38.875 18.109375 30.90625 \r\nL 18.109375 0 \r\nL 9.078125 0 \r\nL 9.078125 54.6875 \r\nL 18.109375 54.6875 \r\nL 18.109375 46.1875 \r\nQ 21.1875 51.21875 25.484375 53.609375 \r\nQ 29.78125 56 35.6875 56 \r\nQ 41.65625 56 45.828125 52.96875 \r\nQ 50 49.953125 52 44.1875 \r\nz\r\n\" id=\"DejaVuSans-109\"/>\r\n       <path d=\"M 9.421875 54.6875 \r\nL 18.40625 54.6875 \r\nL 18.40625 0 \r\nL 9.421875 0 \r\nz\r\nM 9.421875 75.984375 \r\nL 18.40625 75.984375 \r\nL 18.40625 64.59375 \r\nL 9.421875 64.59375 \r\nz\r\n\" id=\"DejaVuSans-105\"/>\r\n      </defs>\r\n      <use xlink:href=\"#DejaVuSans-98\"/>\r\n      <use x=\"63.476562\" xlink:href=\"#DejaVuSans-109\"/>\r\n      <use x=\"160.888672\" xlink:href=\"#DejaVuSans-105\"/>\r\n     </g>\r\n    </g>\r\n   </g>\r\n   <g id=\"matplotlib.axis_2\">\r\n    <g id=\"ytick_1\">\r\n     <g id=\"line2d_6\">\r\n      <defs>\r\n       <path d=\"M 0 0 \r\nL -4.8 0 \r\n\" id=\"m9b2b384cb2\" style=\"stroke:#000000;\"/>\r\n      </defs>\r\n      <g>\r\n       <use style=\"stroke:#000000;\" x=\"12\" xlink:href=\"#m9b2b384cb2\" y=\"115.92\"/>\r\n      </g>\r\n     </g>\r\n    </g>\r\n   </g>\r\n   <g id=\"line2d_7\">\r\n    <path clip-path=\"url(#p3ef1715264)\" d=\"M 70.245254 115.92 \r\nL 27.218182 115.92 \r\n\" style=\"fill:none;stroke:#262626;stroke-linecap:square;stroke-width:1.2;\"/>\r\n   </g>\r\n   <g id=\"line2d_8\">\r\n    <path clip-path=\"url(#p3ef1715264)\" d=\"M 103.749942 115.92 \r\nL 152.419909 115.92 \r\n\" style=\"fill:none;stroke:#262626;stroke-linecap:square;stroke-width:1.2;\"/>\r\n   </g>\r\n   <g id=\"line2d_9\">\r\n    <path clip-path=\"url(#p3ef1715264)\" d=\"M 27.218182 72.432 \r\nL 27.218182 159.408 \r\n\" style=\"fill:none;stroke:#262626;stroke-linecap:square;stroke-width:1.2;\"/>\r\n   </g>\r\n   <g id=\"line2d_10\">\r\n    <path clip-path=\"url(#p3ef1715264)\" d=\"M 152.419909 72.432 \r\nL 152.419909 159.408 \r\n\" style=\"fill:none;stroke:#262626;stroke-linecap:square;stroke-width:1.2;\"/>\r\n   </g>\r\n   <g id=\"line2d_11\">\r\n    <defs>\r\n     <path d=\"M 0 3.535534 \r\nL 2.12132 0 \r\nL 0 -3.535534 \r\nL -2.12132 0 \r\nz\r\n\" id=\"m87036c4015\" style=\"stroke:#262626;stroke-linejoin:miter;\"/>\r\n    </defs>\r\n    <g clip-path=\"url(#p3ef1715264)\">\r\n     <use style=\"fill:#262626;stroke:#262626;stroke-linejoin:miter;\" x=\"171.81736\" xlink:href=\"#m87036c4015\" y=\"115.92\"/>\r\n     <use style=\"fill:#262626;stroke:#262626;stroke-linejoin:miter;\" x=\"240.942821\" xlink:href=\"#m87036c4015\" y=\"115.92\"/>\r\n     <use style=\"fill:#262626;stroke:#262626;stroke-linejoin:miter;\" x=\"199.679153\" xlink:href=\"#m87036c4015\" y=\"115.92\"/>\r\n     <use style=\"fill:#262626;stroke:#262626;stroke-linejoin:miter;\" x=\"180.281702\" xlink:href=\"#m87036c4015\" y=\"115.92\"/>\r\n     <use style=\"fill:#262626;stroke:#262626;stroke-linejoin:miter;\" x=\"179.929021\" xlink:href=\"#m87036c4015\" y=\"115.92\"/>\r\n     <use style=\"fill:#262626;stroke:#262626;stroke-linejoin:miter;\" x=\"190.156768\" xlink:href=\"#m87036c4015\" y=\"115.92\"/>\r\n     <use style=\"fill:#262626;stroke:#262626;stroke-linejoin:miter;\" x=\"173.228084\" xlink:href=\"#m87036c4015\" y=\"115.92\"/>\r\n     <use style=\"fill:#262626;stroke:#262626;stroke-linejoin:miter;\" x=\"159.473528\" xlink:href=\"#m87036c4015\" y=\"115.92\"/>\r\n     <use style=\"fill:#262626;stroke:#262626;stroke-linejoin:miter;\" x=\"177.107574\" xlink:href=\"#m87036c4015\" y=\"115.92\"/>\r\n     <use style=\"fill:#262626;stroke:#262626;stroke-linejoin:miter;\" x=\"178.518298\" xlink:href=\"#m87036c4015\" y=\"115.92\"/>\r\n     <use style=\"fill:#262626;stroke:#262626;stroke-linejoin:miter;\" x=\"156.65208\" xlink:href=\"#m87036c4015\" y=\"115.92\"/>\r\n     <use style=\"fill:#262626;stroke:#262626;stroke-linejoin:miter;\" x=\"185.219235\" xlink:href=\"#m87036c4015\" y=\"115.92\"/>\r\n     <use style=\"fill:#262626;stroke:#262626;stroke-linejoin:miter;\" x=\"183.808512\" xlink:href=\"#m87036c4015\" y=\"115.92\"/>\r\n     <use style=\"fill:#262626;stroke:#262626;stroke-linejoin:miter;\" x=\"180.281702\" xlink:href=\"#m87036c4015\" y=\"115.92\"/>\r\n     <use style=\"fill:#262626;stroke:#262626;stroke-linejoin:miter;\" x=\"163.353018\" xlink:href=\"#m87036c4015\" y=\"115.92\"/>\r\n     <use style=\"fill:#262626;stroke:#262626;stroke-linejoin:miter;\" x=\"154.183314\" xlink:href=\"#m87036c4015\" y=\"115.92\"/>\r\n     <use style=\"fill:#262626;stroke:#262626;stroke-linejoin:miter;\" x=\"173.228084\" xlink:href=\"#m87036c4015\" y=\"115.92\"/>\r\n     <use style=\"fill:#262626;stroke:#262626;stroke-linejoin:miter;\" x=\"181.339745\" xlink:href=\"#m87036c4015\" y=\"115.92\"/>\r\n     <use style=\"fill:#262626;stroke:#262626;stroke-linejoin:miter;\" x=\"159.826209\" xlink:href=\"#m87036c4015\" y=\"115.92\"/>\r\n     <use style=\"fill:#262626;stroke:#262626;stroke-linejoin:miter;\" x=\"172.522722\" xlink:href=\"#m87036c4015\" y=\"115.92\"/>\r\n     <use style=\"fill:#262626;stroke:#262626;stroke-linejoin:miter;\" x=\"163.000337\" xlink:href=\"#m87036c4015\" y=\"115.92\"/>\r\n     <use style=\"fill:#262626;stroke:#262626;stroke-linejoin:miter;\" x=\"154.888676\" xlink:href=\"#m87036c4015\" y=\"115.92\"/>\r\n     <use style=\"fill:#262626;stroke:#262626;stroke-linejoin:miter;\" x=\"163.000337\" xlink:href=\"#m87036c4015\" y=\"115.92\"/>\r\n     <use style=\"fill:#262626;stroke:#262626;stroke-linejoin:miter;\" x=\"164.763742\" xlink:href=\"#m87036c4015\" y=\"115.92\"/>\r\n     <use style=\"fill:#262626;stroke:#262626;stroke-linejoin:miter;\" x=\"173.580765\" xlink:href=\"#m87036c4015\" y=\"115.92\"/>\r\n     <use style=\"fill:#262626;stroke:#262626;stroke-linejoin:miter;\" x=\"210.612262\" xlink:href=\"#m87036c4015\" y=\"115.92\"/>\r\n     <use style=\"fill:#262626;stroke:#262626;stroke-linejoin:miter;\" x=\"170.406636\" xlink:href=\"#m87036c4015\" y=\"115.92\"/>\r\n     <use style=\"fill:#262626;stroke:#262626;stroke-linejoin:miter;\" x=\"157.710123\" xlink:href=\"#m87036c4015\" y=\"115.92\"/>\r\n     <use style=\"fill:#262626;stroke:#262626;stroke-linejoin:miter;\" x=\"197.915748\" xlink:href=\"#m87036c4015\" y=\"115.92\"/>\r\n     <use style=\"fill:#262626;stroke:#262626;stroke-linejoin:miter;\" x=\"183.808512\" xlink:href=\"#m87036c4015\" y=\"115.92\"/>\r\n     <use style=\"fill:#262626;stroke:#262626;stroke-linejoin:miter;\" x=\"161.236932\" xlink:href=\"#m87036c4015\" y=\"115.92\"/>\r\n     <use style=\"fill:#262626;stroke:#262626;stroke-linejoin:miter;\" x=\"154.183314\" xlink:href=\"#m87036c4015\" y=\"115.92\"/>\r\n     <use style=\"fill:#262626;stroke:#262626;stroke-linejoin:miter;\" x=\"178.870979\" xlink:href=\"#m87036c4015\" y=\"115.92\"/>\r\n     <use style=\"fill:#262626;stroke:#262626;stroke-linejoin:miter;\" x=\"179.929021\" xlink:href=\"#m87036c4015\" y=\"115.92\"/>\r\n     <use style=\"fill:#262626;stroke:#262626;stroke-linejoin:miter;\" x=\"164.763742\" xlink:href=\"#m87036c4015\" y=\"115.92\"/>\r\n     <use style=\"fill:#262626;stroke:#262626;stroke-linejoin:miter;\" x=\"183.808512\" xlink:href=\"#m87036c4015\" y=\"115.92\"/>\r\n     <use style=\"fill:#262626;stroke:#262626;stroke-linejoin:miter;\" x=\"170.406636\" xlink:href=\"#m87036c4015\" y=\"115.92\"/>\r\n     <use style=\"fill:#262626;stroke:#262626;stroke-linejoin:miter;\" x=\"164.05838\" xlink:href=\"#m87036c4015\" y=\"115.92\"/>\r\n     <use style=\"fill:#262626;stroke:#262626;stroke-linejoin:miter;\" x=\"177.107574\" xlink:href=\"#m87036c4015\" y=\"115.92\"/>\r\n     <use style=\"fill:#262626;stroke:#262626;stroke-linejoin:miter;\" x=\"192.272854\" xlink:href=\"#m87036c4015\" y=\"115.92\"/>\r\n     <use style=\"fill:#262626;stroke:#262626;stroke-linejoin:miter;\" x=\"166.879827\" xlink:href=\"#m87036c4015\" y=\"115.92\"/>\r\n     <use style=\"fill:#262626;stroke:#262626;stroke-linejoin:miter;\" x=\"158.415485\" xlink:href=\"#m87036c4015\" y=\"115.92\"/>\r\n     <use style=\"fill:#262626;stroke:#262626;stroke-linejoin:miter;\" x=\"165.469104\" xlink:href=\"#m87036c4015\" y=\"115.92\"/>\r\n     <use style=\"fill:#262626;stroke:#262626;stroke-linejoin:miter;\" x=\"156.2994\" xlink:href=\"#m87036c4015\" y=\"115.92\"/>\r\n     <use style=\"fill:#262626;stroke:#262626;stroke-linejoin:miter;\" x=\"173.933446\" xlink:href=\"#m87036c4015\" y=\"115.92\"/>\r\n     <use style=\"fill:#262626;stroke:#262626;stroke-linejoin:miter;\" x=\"157.357442\" xlink:href=\"#m87036c4015\" y=\"115.92\"/>\r\n     <use style=\"fill:#262626;stroke:#262626;stroke-linejoin:miter;\" x=\"155.946719\" xlink:href=\"#m87036c4015\" y=\"115.92\"/>\r\n     <use style=\"fill:#262626;stroke:#262626;stroke-linejoin:miter;\" x=\"164.411061\" xlink:href=\"#m87036c4015\" y=\"115.92\"/>\r\n     <use style=\"fill:#262626;stroke:#262626;stroke-linejoin:miter;\" x=\"168.995913\" xlink:href=\"#m87036c4015\" y=\"115.92\"/>\r\n     <use style=\"fill:#262626;stroke:#262626;stroke-linejoin:miter;\" x=\"186.98264\" xlink:href=\"#m87036c4015\" y=\"115.92\"/>\r\n     <use style=\"fill:#262626;stroke:#262626;stroke-linejoin:miter;\" x=\"262.456357\" xlink:href=\"#m87036c4015\" y=\"115.92\"/>\r\n     <use style=\"fill:#262626;stroke:#262626;stroke-linejoin:miter;\" x=\"154.535995\" xlink:href=\"#m87036c4015\" y=\"115.92\"/>\r\n     <use style=\"fill:#262626;stroke:#262626;stroke-linejoin:miter;\" x=\"161.236932\" xlink:href=\"#m87036c4015\" y=\"115.92\"/>\r\n     <use style=\"fill:#262626;stroke:#262626;stroke-linejoin:miter;\" x=\"161.589613\" xlink:href=\"#m87036c4015\" y=\"115.92\"/>\r\n     <use style=\"fill:#262626;stroke:#262626;stroke-linejoin:miter;\" x=\"164.05838\" xlink:href=\"#m87036c4015\" y=\"115.92\"/>\r\n     <use style=\"fill:#262626;stroke:#262626;stroke-linejoin:miter;\" x=\"165.116423\" xlink:href=\"#m87036c4015\" y=\"115.92\"/>\r\n     <use style=\"fill:#262626;stroke:#262626;stroke-linejoin:miter;\" x=\"173.580765\" xlink:href=\"#m87036c4015\" y=\"115.92\"/>\r\n     <use style=\"fill:#262626;stroke:#262626;stroke-linejoin:miter;\" x=\"180.281702\" xlink:href=\"#m87036c4015\" y=\"115.92\"/>\r\n     <use style=\"fill:#262626;stroke:#262626;stroke-linejoin:miter;\" x=\"331.581818\" xlink:href=\"#m87036c4015\" y=\"115.92\"/>\r\n     <use style=\"fill:#262626;stroke:#262626;stroke-linejoin:miter;\" x=\"159.826209\" xlink:href=\"#m87036c4015\" y=\"115.92\"/>\r\n     <use style=\"fill:#262626;stroke:#262626;stroke-linejoin:miter;\" x=\"177.460255\" xlink:href=\"#m87036c4015\" y=\"115.92\"/>\r\n     <use style=\"fill:#262626;stroke:#262626;stroke-linejoin:miter;\" x=\"161.236932\" xlink:href=\"#m87036c4015\" y=\"115.92\"/>\r\n     <use style=\"fill:#262626;stroke:#262626;stroke-linejoin:miter;\" x=\"177.812936\" xlink:href=\"#m87036c4015\" y=\"115.92\"/>\r\n     <use style=\"fill:#262626;stroke:#262626;stroke-linejoin:miter;\" x=\"159.120847\" xlink:href=\"#m87036c4015\" y=\"115.92\"/>\r\n     <use style=\"fill:#262626;stroke:#262626;stroke-linejoin:miter;\" x=\"160.884252\" xlink:href=\"#m87036c4015\" y=\"115.92\"/>\r\n     <use style=\"fill:#262626;stroke:#262626;stroke-linejoin:miter;\" x=\"175.69685\" xlink:href=\"#m87036c4015\" y=\"115.92\"/>\r\n     <use style=\"fill:#262626;stroke:#262626;stroke-linejoin:miter;\" x=\"176.049531\" xlink:href=\"#m87036c4015\" y=\"115.92\"/>\r\n     <use style=\"fill:#262626;stroke:#262626;stroke-linejoin:miter;\" x=\"203.205962\" xlink:href=\"#m87036c4015\" y=\"115.92\"/>\r\n     <use style=\"fill:#262626;stroke:#262626;stroke-linejoin:miter;\" x=\"215.902476\" xlink:href=\"#m87036c4015\" y=\"115.92\"/>\r\n     <use style=\"fill:#262626;stroke:#262626;stroke-linejoin:miter;\" x=\"167.232508\" xlink:href=\"#m87036c4015\" y=\"115.92\"/>\r\n     <use style=\"fill:#262626;stroke:#262626;stroke-linejoin:miter;\" x=\"157.710123\" xlink:href=\"#m87036c4015\" y=\"115.92\"/>\r\n     <use style=\"fill:#262626;stroke:#262626;stroke-linejoin:miter;\" x=\"204.616686\" xlink:href=\"#m87036c4015\" y=\"115.92\"/>\r\n     <use style=\"fill:#262626;stroke:#262626;stroke-linejoin:miter;\" x=\"202.14792\" xlink:href=\"#m87036c4015\" y=\"115.92\"/>\r\n    </g>\r\n   </g>\r\n   <g id=\"line2d_12\">\r\n    <path clip-path=\"url(#p3ef1715264)\" d=\"M 86.115896 28.944 \r\nL 86.115896 202.896 \r\n\" style=\"fill:none;stroke:#262626;stroke-linecap:square;stroke-width:1.2;\"/>\r\n   </g>\r\n   <g id=\"patch_4\">\r\n    <path d=\"M 12 224.64 \r\nL 12 7.2 \r\n\" style=\"fill:none;stroke:#000000;stroke-linecap:square;stroke-linejoin:miter;\"/>\r\n   </g>\r\n   <g id=\"patch_5\">\r\n    <path d=\"M 346.8 224.64 \r\nL 346.8 7.2 \r\n\" style=\"fill:none;stroke:#000000;stroke-linecap:square;stroke-linejoin:miter;\"/>\r\n   </g>\r\n   <g id=\"patch_6\">\r\n    <path d=\"M 12 224.64 \r\nL 346.8 224.64 \r\n\" style=\"fill:none;stroke:#000000;stroke-linecap:square;stroke-linejoin:miter;\"/>\r\n   </g>\r\n   <g id=\"patch_7\">\r\n    <path d=\"M 12 7.2 \r\nL 346.8 7.2 \r\n\" style=\"fill:none;stroke:#000000;stroke-linecap:square;stroke-linejoin:miter;\"/>\r\n   </g>\r\n  </g>\r\n </g>\r\n <defs>\r\n  <clipPath id=\"p3ef1715264\">\r\n   <rect height=\"217.44\" width=\"334.8\" x=\"12\" y=\"7.2\"/>\r\n  </clipPath>\r\n </defs>\r\n</svg>\r\n",
      "image/png": "[encoded data removed]"
     },
     "metadata": {
      "needs_background": "light"
     }
    }
   ],
   "source": [
    "sns.boxplot(x='bmi',data=df, color = 'Green')"
   ]
  },
  {
   "cell_type": "code",
   "execution_count": 14,
   "metadata": {},
   "outputs": [
    {
     "output_type": "execute_result",
     "data": {
      "text/plain": [
       "      gender   age  hypertension  heart_disease ever_married work_type  \\\n",
       "3     Female  31.0           0.0            0.0           No   Private   \n",
       "34      Male  42.0           0.0            0.0          Yes   Private   \n",
       "77    Female  61.0           1.0            0.0          Yes   Private   \n",
       "99     Other  52.0           0.0            0.0          Yes   Private   \n",
       "180   Female  56.0           0.0            0.0          Yes   Private   \n",
       "...      ...   ...           ...            ...          ...       ...   \n",
       "3705    Male  31.0           1.0            0.0          Yes   Private   \n",
       "3836  Female  57.0           0.0            0.0          Yes  Govt_job   \n",
       "3988  Female  52.0           0.0            NaN          Yes   Private   \n",
       "3997   Other  57.0           1.0            0.0          Yes   Private   \n",
       "3998  Female  45.0           0.0            0.0          Yes   Private   \n",
       "\n",
       "     Residence_type  avg_glucose_level   bmi   smoking_status blood  height  \\\n",
       "3             Urban             108.89  52.3          Unknown     O    1.24   \n",
       "34            Rural             210.48  71.9     never smoked     A    1.05   \n",
       "77            Rural             170.05  60.2           smokes    AB    1.15   \n",
       "99            Urban              82.24  54.7  formerly smoked     O    1.21   \n",
       "180           Rural             112.43  54.6     never smoked     A    1.21   \n",
       "...             ...                ...   ...              ...   ...     ...   \n",
       "3705        Unknown             149.68  45.1     never smoked     A    1.33   \n",
       "3836        Unknown              87.10  48.3           smokes    AB    1.29   \n",
       "3988          Rural             118.46  61.6           smokes     O    1.14   \n",
       "3997          Rural             129.54  60.9           smokes    AB    1.15   \n",
       "3998        Unknown             172.33  45.3  formerly smoked     O    1.33   \n",
       "\n",
       "      stroke  \n",
       "3          0  \n",
       "34         0  \n",
       "77         0  \n",
       "99         0  \n",
       "180        0  \n",
       "...      ...  \n",
       "3705       0  \n",
       "3836       0  \n",
       "3988       0  \n",
       "3997       0  \n",
       "3998       0  \n",
       "\n",
       "[90 rows x 13 columns]"
      ],
      "text/html": "<div>\n<style scoped>\n    .dataframe tbody tr th:only-of-type {\n        vertical-align: middle;\n    }\n\n    .dataframe tbody tr th {\n        vertical-align: top;\n    }\n\n    .dataframe thead th {\n        text-align: right;\n    }\n</style>\n<table border=\"1\" class=\"dataframe\">\n  <thead>\n    <tr style=\"text-align: right;\">\n      <th></th>\n      <th>gender</th>\n      <th>age</th>\n      <th>hypertension</th>\n      <th>heart_disease</th>\n      <th>ever_married</th>\n      <th>work_type</th>\n      <th>Residence_type</th>\n      <th>avg_glucose_level</th>\n      <th>bmi</th>\n      <th>smoking_status</th>\n      <th>blood</th>\n      <th>height</th>\n      <th>stroke</th>\n    </tr>\n  </thead>\n  <tbody>\n    <tr>\n      <th>3</th>\n      <td>Female</td>\n      <td>31.0</td>\n      <td>0.0</td>\n      <td>0.0</td>\n      <td>No</td>\n      <td>Private</td>\n      <td>Urban</td>\n      <td>108.89</td>\n      <td>52.3</td>\n      <td>Unknown</td>\n      <td>O</td>\n      <td>1.24</td>\n      <td>0</td>\n    </tr>\n    <tr>\n      <th>34</th>\n      <td>Male</td>\n      <td>42.0</td>\n      <td>0.0</td>\n      <td>0.0</td>\n      <td>Yes</td>\n      <td>Private</td>\n      <td>Rural</td>\n      <td>210.48</td>\n      <td>71.9</td>\n      <td>never smoked</td>\n      <td>A</td>\n      <td>1.05</td>\n      <td>0</td>\n    </tr>\n    <tr>\n      <th>77</th>\n      <td>Female</td>\n      <td>61.0</td>\n      <td>1.0</td>\n      <td>0.0</td>\n      <td>Yes</td>\n      <td>Private</td>\n      <td>Rural</td>\n      <td>170.05</td>\n      <td>60.2</td>\n      <td>smokes</td>\n      <td>AB</td>\n      <td>1.15</td>\n      <td>0</td>\n    </tr>\n    <tr>\n      <th>99</th>\n      <td>Other</td>\n      <td>52.0</td>\n      <td>0.0</td>\n      <td>0.0</td>\n      <td>Yes</td>\n      <td>Private</td>\n      <td>Urban</td>\n      <td>82.24</td>\n      <td>54.7</td>\n      <td>formerly smoked</td>\n      <td>O</td>\n      <td>1.21</td>\n      <td>0</td>\n    </tr>\n    <tr>\n      <th>180</th>\n      <td>Female</td>\n      <td>56.0</td>\n      <td>0.0</td>\n      <td>0.0</td>\n      <td>Yes</td>\n      <td>Private</td>\n      <td>Rural</td>\n      <td>112.43</td>\n      <td>54.6</td>\n      <td>never smoked</td>\n      <td>A</td>\n      <td>1.21</td>\n      <td>0</td>\n    </tr>\n    <tr>\n      <th>...</th>\n      <td>...</td>\n      <td>...</td>\n      <td>...</td>\n      <td>...</td>\n      <td>...</td>\n      <td>...</td>\n      <td>...</td>\n      <td>...</td>\n      <td>...</td>\n      <td>...</td>\n      <td>...</td>\n      <td>...</td>\n      <td>...</td>\n    </tr>\n    <tr>\n      <th>3705</th>\n      <td>Male</td>\n      <td>31.0</td>\n      <td>1.0</td>\n      <td>0.0</td>\n      <td>Yes</td>\n      <td>Private</td>\n      <td>Unknown</td>\n      <td>149.68</td>\n      <td>45.1</td>\n      <td>never smoked</td>\n      <td>A</td>\n      <td>1.33</td>\n      <td>0</td>\n    </tr>\n    <tr>\n      <th>3836</th>\n      <td>Female</td>\n      <td>57.0</td>\n      <td>0.0</td>\n      <td>0.0</td>\n      <td>Yes</td>\n      <td>Govt_job</td>\n      <td>Unknown</td>\n      <td>87.10</td>\n      <td>48.3</td>\n      <td>smokes</td>\n      <td>AB</td>\n      <td>1.29</td>\n      <td>0</td>\n    </tr>\n    <tr>\n      <th>3988</th>\n      <td>Female</td>\n      <td>52.0</td>\n      <td>0.0</td>\n      <td>NaN</td>\n      <td>Yes</td>\n      <td>Private</td>\n      <td>Rural</td>\n      <td>118.46</td>\n      <td>61.6</td>\n      <td>smokes</td>\n      <td>O</td>\n      <td>1.14</td>\n      <td>0</td>\n    </tr>\n    <tr>\n      <th>3997</th>\n      <td>Other</td>\n      <td>57.0</td>\n      <td>1.0</td>\n      <td>0.0</td>\n      <td>Yes</td>\n      <td>Private</td>\n      <td>Rural</td>\n      <td>129.54</td>\n      <td>60.9</td>\n      <td>smokes</td>\n      <td>AB</td>\n      <td>1.15</td>\n      <td>0</td>\n    </tr>\n    <tr>\n      <th>3998</th>\n      <td>Female</td>\n      <td>45.0</td>\n      <td>0.0</td>\n      <td>0.0</td>\n      <td>Yes</td>\n      <td>Private</td>\n      <td>Unknown</td>\n      <td>172.33</td>\n      <td>45.3</td>\n      <td>formerly smoked</td>\n      <td>O</td>\n      <td>1.33</td>\n      <td>0</td>\n    </tr>\n  </tbody>\n</table>\n<p>90 rows × 13 columns</p>\n</div>"
     },
     "metadata": {},
     "execution_count": 14
    }
   ],
   "source": [
    "df.loc[df['bmi'] > 45]"
   ]
  },
  {
   "cell_type": "code",
   "execution_count": 15,
   "metadata": {},
   "outputs": [
    {
     "output_type": "execute_result",
     "data": {
      "text/plain": [
       "<AxesSubplot:xlabel='age'>"
      ]
     },
     "metadata": {},
     "execution_count": 15
    },
    {
     "output_type": "display_data",
     "data": {
      "text/plain": "<Figure size 432x288 with 1 Axes>",
      "image/svg+xml": "<?xml version=\"1.0\" encoding=\"utf-8\" standalone=\"no\"?>\r\n<!DOCTYPE svg PUBLIC \"-//W3C//DTD SVG 1.1//EN\"\r\n  \"http://www.w3.org/Graphics/SVG/1.1/DTD/svg11.dtd\">\r\n<!-- Created with matplotlib (https://matplotlib.org/) -->\r\n<svg height=\"270.851625pt\" version=\"1.1\" viewBox=\"0 0 354 270.851625\" width=\"354pt\" xmlns=\"http://www.w3.org/2000/svg\" xmlns:xlink=\"http://www.w3.org/1999/xlink\">\r\n <metadata>\r\n  <rdf:RDF xmlns:cc=\"http://creativecommons.org/ns#\" xmlns:dc=\"http://purl.org/dc/elements/1.1/\" xmlns:rdf=\"http://www.w3.org/1999/02/22-rdf-syntax-ns#\">\r\n   <cc:Work>\r\n    <dc:type rdf:resource=\"http://purl.org/dc/dcmitype/StillImage\"/>\r\n    <dc:date>2021-05-19T21:35:21.366666</dc:date>\r\n    <dc:format>image/svg+xml</dc:format>\r\n    <dc:creator>\r\n     <cc:Agent>\r\n      <dc:title>Matplotlib v3.3.2, https://matplotlib.org/</dc:title>\r\n     </cc:Agent>\r\n    </dc:creator>\r\n   </cc:Work>\r\n  </rdf:RDF>\r\n </metadata>\r\n <defs>\r\n  <style type=\"text/css\">*{stroke-linecap:butt;stroke-linejoin:round;}</style>\r\n </defs>\r\n <g id=\"figure_1\">\r\n  <g id=\"patch_1\">\r\n   <path d=\"M 0 270.851625 \r\nL 354 270.851625 \r\nL 354 0 \r\nL 0 0 \r\nz\r\n\" style=\"fill:none;\"/>\r\n  </g>\r\n  <g id=\"axes_1\">\r\n   <g id=\"patch_2\">\r\n    <path d=\"M 12 224.64 \r\nL 346.8 224.64 \r\nL 346.8 7.2 \r\nL 12 7.2 \r\nz\r\n\" style=\"fill:#ffffff;\"/>\r\n   </g>\r\n   <g id=\"patch_3\">\r\n    <path clip-path=\"url(#pb83de2526f)\" d=\"M 119.805362 28.944 \r\nL 119.805362 202.896 \r\nL 253.558913 202.896 \r\nL 253.558913 28.944 \r\nL 119.805362 28.944 \r\nz\r\n\" style=\"fill:#2020df;stroke:#4c4c4c;stroke-linejoin:miter;stroke-width:1.2;\"/>\r\n   </g>\r\n   <g id=\"matplotlib.axis_1\">\r\n    <g id=\"xtick_1\">\r\n     <g id=\"line2d_1\">\r\n      <defs>\r\n       <path d=\"M 0 0 \r\nL 0 4.8 \r\n\" id=\"m77394d3404\" style=\"stroke:#000000;\"/>\r\n      </defs>\r\n      <g>\r\n       <use style=\"stroke:#000000;\" x=\"26.920952\" xlink:href=\"#m77394d3404\" y=\"224.64\"/>\r\n      </g>\r\n     </g>\r\n     <g id=\"text_1\">\r\n      <!-- 0 -->\r\n      <g transform=\"translate(22.721702 242.969937)scale(0.132 -0.132)\">\r\n       <defs>\r\n        <path d=\"M 31.78125 66.40625 \r\nQ 24.171875 66.40625 20.328125 58.90625 \r\nQ 16.5 51.421875 16.5 36.375 \r\nQ 16.5 21.390625 20.328125 13.890625 \r\nQ 24.171875 6.390625 31.78125 6.390625 \r\nQ 39.453125 6.390625 43.28125 13.890625 \r\nQ 47.125 21.390625 47.125 36.375 \r\nQ 47.125 51.421875 43.28125 58.90625 \r\nQ 39.453125 66.40625 31.78125 66.40625 \r\nz\r\nM 31.78125 74.21875 \r\nQ 44.046875 74.21875 50.515625 64.515625 \r\nQ 56.984375 54.828125 56.984375 36.375 \r\nQ 56.984375 17.96875 50.515625 8.265625 \r\nQ 44.046875 -1.421875 31.78125 -1.421875 \r\nQ 19.53125 -1.421875 13.0625 8.265625 \r\nQ 6.59375 17.96875 6.59375 36.375 \r\nQ 6.59375 54.828125 13.0625 64.515625 \r\nQ 19.53125 74.21875 31.78125 74.21875 \r\nz\r\n\" id=\"DejaVuSans-48\"/>\r\n       </defs>\r\n       <use xlink:href=\"#DejaVuSans-48\"/>\r\n      </g>\r\n     </g>\r\n    </g>\r\n    <g id=\"xtick_2\">\r\n     <g id=\"line2d_2\">\r\n      <g>\r\n       <use style=\"stroke:#000000;\" x=\"101.22848\" xlink:href=\"#m77394d3404\" y=\"224.64\"/>\r\n      </g>\r\n     </g>\r\n     <g id=\"text_2\">\r\n      <!-- 20 -->\r\n      <g transform=\"translate(92.82998 242.969937)scale(0.132 -0.132)\">\r\n       <defs>\r\n        <path d=\"M 19.1875 8.296875 \r\nL 53.609375 8.296875 \r\nL 53.609375 0 \r\nL 7.328125 0 \r\nL 7.328125 8.296875 \r\nQ 12.9375 14.109375 22.625 23.890625 \r\nQ 32.328125 33.6875 34.8125 36.53125 \r\nQ 39.546875 41.84375 41.421875 45.53125 \r\nQ 43.3125 49.21875 43.3125 52.78125 \r\nQ 43.3125 58.59375 39.234375 62.25 \r\nQ 35.15625 65.921875 28.609375 65.921875 \r\nQ 23.96875 65.921875 18.8125 64.3125 \r\nQ 13.671875 62.703125 7.8125 59.421875 \r\nL 7.8125 69.390625 \r\nQ 13.765625 71.78125 18.9375 73 \r\nQ 24.125 74.21875 28.421875 74.21875 \r\nQ 39.75 74.21875 46.484375 68.546875 \r\nQ 53.21875 62.890625 53.21875 53.421875 \r\nQ 53.21875 48.921875 51.53125 44.890625 \r\nQ 49.859375 40.875 45.40625 35.40625 \r\nQ 44.1875 33.984375 37.640625 27.21875 \r\nQ 31.109375 20.453125 19.1875 8.296875 \r\nz\r\n\" id=\"DejaVuSans-50\"/>\r\n       </defs>\r\n       <use xlink:href=\"#DejaVuSans-50\"/>\r\n       <use x=\"63.623047\" xlink:href=\"#DejaVuSans-48\"/>\r\n      </g>\r\n     </g>\r\n    </g>\r\n    <g id=\"xtick_3\">\r\n     <g id=\"line2d_3\">\r\n      <g>\r\n       <use style=\"stroke:#000000;\" x=\"175.536009\" xlink:href=\"#m77394d3404\" y=\"224.64\"/>\r\n      </g>\r\n     </g>\r\n     <g id=\"text_3\">\r\n      <!-- 40 -->\r\n      <g transform=\"translate(167.137509 242.969937)scale(0.132 -0.132)\">\r\n       <defs>\r\n        <path d=\"M 37.796875 64.3125 \r\nL 12.890625 25.390625 \r\nL 37.796875 25.390625 \r\nz\r\nM 35.203125 72.90625 \r\nL 47.609375 72.90625 \r\nL 47.609375 25.390625 \r\nL 58.015625 25.390625 \r\nL 58.015625 17.1875 \r\nL 47.609375 17.1875 \r\nL 47.609375 0 \r\nL 37.796875 0 \r\nL 37.796875 17.1875 \r\nL 4.890625 17.1875 \r\nL 4.890625 26.703125 \r\nz\r\n\" id=\"DejaVuSans-52\"/>\r\n       </defs>\r\n       <use xlink:href=\"#DejaVuSans-52\"/>\r\n       <use x=\"63.623047\" xlink:href=\"#DejaVuSans-48\"/>\r\n      </g>\r\n     </g>\r\n    </g>\r\n    <g id=\"xtick_4\">\r\n     <g id=\"line2d_4\">\r\n      <g>\r\n       <use style=\"stroke:#000000;\" x=\"249.843537\" xlink:href=\"#m77394d3404\" y=\"224.64\"/>\r\n      </g>\r\n     </g>\r\n     <g id=\"text_4\">\r\n      <!-- 60 -->\r\n      <g transform=\"translate(241.445037 242.969937)scale(0.132 -0.132)\">\r\n       <defs>\r\n        <path d=\"M 33.015625 40.375 \r\nQ 26.375 40.375 22.484375 35.828125 \r\nQ 18.609375 31.296875 18.609375 23.390625 \r\nQ 18.609375 15.53125 22.484375 10.953125 \r\nQ 26.375 6.390625 33.015625 6.390625 \r\nQ 39.65625 6.390625 43.53125 10.953125 \r\nQ 47.40625 15.53125 47.40625 23.390625 \r\nQ 47.40625 31.296875 43.53125 35.828125 \r\nQ 39.65625 40.375 33.015625 40.375 \r\nz\r\nM 52.59375 71.296875 \r\nL 52.59375 62.3125 \r\nQ 48.875 64.0625 45.09375 64.984375 \r\nQ 41.3125 65.921875 37.59375 65.921875 \r\nQ 27.828125 65.921875 22.671875 59.328125 \r\nQ 17.53125 52.734375 16.796875 39.40625 \r\nQ 19.671875 43.65625 24.015625 45.921875 \r\nQ 28.375 48.1875 33.59375 48.1875 \r\nQ 44.578125 48.1875 50.953125 41.515625 \r\nQ 57.328125 34.859375 57.328125 23.390625 \r\nQ 57.328125 12.15625 50.6875 5.359375 \r\nQ 44.046875 -1.421875 33.015625 -1.421875 \r\nQ 20.359375 -1.421875 13.671875 8.265625 \r\nQ 6.984375 17.96875 6.984375 36.375 \r\nQ 6.984375 53.65625 15.1875 63.9375 \r\nQ 23.390625 74.21875 37.203125 74.21875 \r\nQ 40.921875 74.21875 44.703125 73.484375 \r\nQ 48.484375 72.75 52.59375 71.296875 \r\nz\r\n\" id=\"DejaVuSans-54\"/>\r\n       </defs>\r\n       <use xlink:href=\"#DejaVuSans-54\"/>\r\n       <use x=\"63.623047\" xlink:href=\"#DejaVuSans-48\"/>\r\n      </g>\r\n     </g>\r\n    </g>\r\n    <g id=\"xtick_5\">\r\n     <g id=\"line2d_5\">\r\n      <g>\r\n       <use style=\"stroke:#000000;\" x=\"324.151065\" xlink:href=\"#m77394d3404\" y=\"224.64\"/>\r\n      </g>\r\n     </g>\r\n     <g id=\"text_5\">\r\n      <!-- 80 -->\r\n      <g transform=\"translate(315.752565 242.969937)scale(0.132 -0.132)\">\r\n       <defs>\r\n        <path d=\"M 31.78125 34.625 \r\nQ 24.75 34.625 20.71875 30.859375 \r\nQ 16.703125 27.09375 16.703125 20.515625 \r\nQ 16.703125 13.921875 20.71875 10.15625 \r\nQ 24.75 6.390625 31.78125 6.390625 \r\nQ 38.8125 6.390625 42.859375 10.171875 \r\nQ 46.921875 13.96875 46.921875 20.515625 \r\nQ 46.921875 27.09375 42.890625 30.859375 \r\nQ 38.875 34.625 31.78125 34.625 \r\nz\r\nM 21.921875 38.8125 \r\nQ 15.578125 40.375 12.03125 44.71875 \r\nQ 8.5 49.078125 8.5 55.328125 \r\nQ 8.5 64.0625 14.71875 69.140625 \r\nQ 20.953125 74.21875 31.78125 74.21875 \r\nQ 42.671875 74.21875 48.875 69.140625 \r\nQ 55.078125 64.0625 55.078125 55.328125 \r\nQ 55.078125 49.078125 51.53125 44.71875 \r\nQ 48 40.375 41.703125 38.8125 \r\nQ 48.828125 37.15625 52.796875 32.3125 \r\nQ 56.78125 27.484375 56.78125 20.515625 \r\nQ 56.78125 9.90625 50.3125 4.234375 \r\nQ 43.84375 -1.421875 31.78125 -1.421875 \r\nQ 19.734375 -1.421875 13.25 4.234375 \r\nQ 6.78125 9.90625 6.78125 20.515625 \r\nQ 6.78125 27.484375 10.78125 32.3125 \r\nQ 14.796875 37.15625 21.921875 38.8125 \r\nz\r\nM 18.3125 54.390625 \r\nQ 18.3125 48.734375 21.84375 45.5625 \r\nQ 25.390625 42.390625 31.78125 42.390625 \r\nQ 38.140625 42.390625 41.71875 45.5625 \r\nQ 45.3125 48.734375 45.3125 54.390625 \r\nQ 45.3125 60.0625 41.71875 63.234375 \r\nQ 38.140625 66.40625 31.78125 66.40625 \r\nQ 25.390625 66.40625 21.84375 63.234375 \r\nQ 18.3125 60.0625 18.3125 54.390625 \r\nz\r\n\" id=\"DejaVuSans-56\"/>\r\n       </defs>\r\n       <use xlink:href=\"#DejaVuSans-56\"/>\r\n       <use x=\"63.623047\" xlink:href=\"#DejaVuSans-48\"/>\r\n      </g>\r\n     </g>\r\n    </g>\r\n    <g id=\"text_6\">\r\n     <!-- age -->\r\n     <g transform=\"translate(165.986625 260.656875)scale(0.144 -0.144)\">\r\n      <defs>\r\n       <path d=\"M 34.28125 27.484375 \r\nQ 23.390625 27.484375 19.1875 25 \r\nQ 14.984375 22.515625 14.984375 16.5 \r\nQ 14.984375 11.71875 18.140625 8.90625 \r\nQ 21.296875 6.109375 26.703125 6.109375 \r\nQ 34.1875 6.109375 38.703125 11.40625 \r\nQ 43.21875 16.703125 43.21875 25.484375 \r\nL 43.21875 27.484375 \r\nz\r\nM 52.203125 31.203125 \r\nL 52.203125 0 \r\nL 43.21875 0 \r\nL 43.21875 8.296875 \r\nQ 40.140625 3.328125 35.546875 0.953125 \r\nQ 30.953125 -1.421875 24.3125 -1.421875 \r\nQ 15.921875 -1.421875 10.953125 3.296875 \r\nQ 6 8.015625 6 15.921875 \r\nQ 6 25.140625 12.171875 29.828125 \r\nQ 18.359375 34.515625 30.609375 34.515625 \r\nL 43.21875 34.515625 \r\nL 43.21875 35.40625 \r\nQ 43.21875 41.609375 39.140625 45 \r\nQ 35.0625 48.390625 27.6875 48.390625 \r\nQ 23 48.390625 18.546875 47.265625 \r\nQ 14.109375 46.140625 10.015625 43.890625 \r\nL 10.015625 52.203125 \r\nQ 14.9375 54.109375 19.578125 55.046875 \r\nQ 24.21875 56 28.609375 56 \r\nQ 40.484375 56 46.34375 49.84375 \r\nQ 52.203125 43.703125 52.203125 31.203125 \r\nz\r\n\" id=\"DejaVuSans-97\"/>\r\n       <path d=\"M 45.40625 27.984375 \r\nQ 45.40625 37.75 41.375 43.109375 \r\nQ 37.359375 48.484375 30.078125 48.484375 \r\nQ 22.859375 48.484375 18.828125 43.109375 \r\nQ 14.796875 37.75 14.796875 27.984375 \r\nQ 14.796875 18.265625 18.828125 12.890625 \r\nQ 22.859375 7.515625 30.078125 7.515625 \r\nQ 37.359375 7.515625 41.375 12.890625 \r\nQ 45.40625 18.265625 45.40625 27.984375 \r\nz\r\nM 54.390625 6.78125 \r\nQ 54.390625 -7.171875 48.1875 -13.984375 \r\nQ 42 -20.796875 29.203125 -20.796875 \r\nQ 24.46875 -20.796875 20.265625 -20.09375 \r\nQ 16.0625 -19.390625 12.109375 -17.921875 \r\nL 12.109375 -9.1875 \r\nQ 16.0625 -11.328125 19.921875 -12.34375 \r\nQ 23.78125 -13.375 27.78125 -13.375 \r\nQ 36.625 -13.375 41.015625 -8.765625 \r\nQ 45.40625 -4.15625 45.40625 5.171875 \r\nL 45.40625 9.625 \r\nQ 42.625 4.78125 38.28125 2.390625 \r\nQ 33.9375 0 27.875 0 \r\nQ 17.828125 0 11.671875 7.65625 \r\nQ 5.515625 15.328125 5.515625 27.984375 \r\nQ 5.515625 40.671875 11.671875 48.328125 \r\nQ 17.828125 56 27.875 56 \r\nQ 33.9375 56 38.28125 53.609375 \r\nQ 42.625 51.21875 45.40625 46.390625 \r\nL 45.40625 54.6875 \r\nL 54.390625 54.6875 \r\nz\r\n\" id=\"DejaVuSans-103\"/>\r\n       <path d=\"M 56.203125 29.59375 \r\nL 56.203125 25.203125 \r\nL 14.890625 25.203125 \r\nQ 15.484375 15.921875 20.484375 11.0625 \r\nQ 25.484375 6.203125 34.421875 6.203125 \r\nQ 39.59375 6.203125 44.453125 7.46875 \r\nQ 49.3125 8.734375 54.109375 11.28125 \r\nL 54.109375 2.78125 \r\nQ 49.265625 0.734375 44.1875 -0.34375 \r\nQ 39.109375 -1.421875 33.890625 -1.421875 \r\nQ 20.796875 -1.421875 13.15625 6.1875 \r\nQ 5.515625 13.8125 5.515625 26.8125 \r\nQ 5.515625 40.234375 12.765625 48.109375 \r\nQ 20.015625 56 32.328125 56 \r\nQ 43.359375 56 49.78125 48.890625 \r\nQ 56.203125 41.796875 56.203125 29.59375 \r\nz\r\nM 47.21875 32.234375 \r\nQ 47.125 39.59375 43.09375 43.984375 \r\nQ 39.0625 48.390625 32.421875 48.390625 \r\nQ 24.90625 48.390625 20.390625 44.140625 \r\nQ 15.875 39.890625 15.1875 32.171875 \r\nz\r\n\" id=\"DejaVuSans-101\"/>\r\n      </defs>\r\n      <use xlink:href=\"#DejaVuSans-97\"/>\r\n      <use x=\"61.279297\" xlink:href=\"#DejaVuSans-103\"/>\r\n      <use x=\"124.755859\" xlink:href=\"#DejaVuSans-101\"/>\r\n     </g>\r\n    </g>\r\n   </g>\r\n   <g id=\"matplotlib.axis_2\">\r\n    <g id=\"ytick_1\">\r\n     <g id=\"line2d_6\">\r\n      <defs>\r\n       <path d=\"M 0 0 \r\nL -4.8 0 \r\n\" id=\"ma4919e7506\" style=\"stroke:#000000;\"/>\r\n      </defs>\r\n      <g>\r\n       <use style=\"stroke:#000000;\" x=\"12\" xlink:href=\"#ma4919e7506\" y=\"115.92\"/>\r\n      </g>\r\n     </g>\r\n    </g>\r\n   </g>\r\n   <g id=\"line2d_7\">\r\n    <path clip-path=\"url(#pb83de2526f)\" d=\"M 119.805362 115.92 \r\nL 27.218182 115.92 \r\n\" style=\"fill:none;stroke:#4c4c4c;stroke-linecap:square;stroke-width:1.2;\"/>\r\n   </g>\r\n   <g id=\"line2d_8\">\r\n    <path clip-path=\"url(#pb83de2526f)\" d=\"M 253.558913 115.92 \r\nL 331.581818 115.92 \r\n\" style=\"fill:none;stroke:#4c4c4c;stroke-linecap:square;stroke-width:1.2;\"/>\r\n   </g>\r\n   <g id=\"line2d_9\">\r\n    <path clip-path=\"url(#pb83de2526f)\" d=\"M 27.218182 72.432 \r\nL 27.218182 159.408 \r\n\" style=\"fill:none;stroke:#4c4c4c;stroke-linecap:square;stroke-width:1.2;\"/>\r\n   </g>\r\n   <g id=\"line2d_10\">\r\n    <path clip-path=\"url(#pb83de2526f)\" d=\"M 331.581818 72.432 \r\nL 331.581818 159.408 \r\n\" style=\"fill:none;stroke:#4c4c4c;stroke-linecap:square;stroke-width:1.2;\"/>\r\n   </g>\r\n   <g id=\"line2d_11\"/>\r\n   <g id=\"line2d_12\">\r\n    <path clip-path=\"url(#pb83de2526f)\" d=\"M 194.112891 28.944 \r\nL 194.112891 202.896 \r\n\" style=\"fill:none;stroke:#4c4c4c;stroke-linecap:square;stroke-width:1.2;\"/>\r\n   </g>\r\n   <g id=\"patch_4\">\r\n    <path d=\"M 12 224.64 \r\nL 12 7.2 \r\n\" style=\"fill:none;stroke:#000000;stroke-linecap:square;stroke-linejoin:miter;\"/>\r\n   </g>\r\n   <g id=\"patch_5\">\r\n    <path d=\"M 346.8 224.64 \r\nL 346.8 7.2 \r\n\" style=\"fill:none;stroke:#000000;stroke-linecap:square;stroke-linejoin:miter;\"/>\r\n   </g>\r\n   <g id=\"patch_6\">\r\n    <path d=\"M 12 224.64 \r\nL 346.8 224.64 \r\n\" style=\"fill:none;stroke:#000000;stroke-linecap:square;stroke-linejoin:miter;\"/>\r\n   </g>\r\n   <g id=\"patch_7\">\r\n    <path d=\"M 12 7.2 \r\nL 346.8 7.2 \r\n\" style=\"fill:none;stroke:#000000;stroke-linecap:square;stroke-linejoin:miter;\"/>\r\n   </g>\r\n  </g>\r\n </g>\r\n <defs>\r\n  <clipPath id=\"pb83de2526f\">\r\n   <rect height=\"217.44\" width=\"334.8\" x=\"12\" y=\"7.2\"/>\r\n  </clipPath>\r\n </defs>\r\n</svg>\r\n",
      "image/png": "[encoded data removed]"
     },
     "metadata": {
      "needs_background": "light"
     }
    }
   ],
   "source": [
    "sns.boxplot(x='age',data=df , color = 'Blue')"
   ]
  },
  {
   "cell_type": "code",
   "execution_count": 16,
   "metadata": {},
   "outputs": [
    {
     "output_type": "execute_result",
     "data": {
      "text/plain": [
       "Index(['gender', 'age', 'hypertension', 'heart_disease', 'ever_married',\n",
       "       'work_type', 'Residence_type', 'avg_glucose_level', 'bmi',\n",
       "       'smoking_status', 'blood', 'height', 'stroke'],\n",
       "      dtype='object')"
      ]
     },
     "metadata": {},
     "execution_count": 16
    }
   ],
   "source": [
    "df.columns"
   ]
  },
  {
   "cell_type": "code",
   "execution_count": 17,
   "metadata": {},
   "outputs": [
    {
     "output_type": "stream",
     "name": "stdout",
     "text": [
      "Value counts: \n\nFemale    2218\nMale      1625\nOther      157\nName: gender, dtype: int64\n\n\n52.00    78\n57.00    71\n53.00    70\n78.00    69\n50.00    69\n         ..\n0.72      2\n0.08      2\n0.48      2\n1.16      2\n0.40      1\nName: age, Length: 104, dtype: int64\n\n\n0.0    3402\n1.0     368\nName: hypertension, dtype: int64\n\n\n0.0    3694\n1.0     216\nName: heart_disease, dtype: int64\n\n\nYes    2626\nNo     1374\nName: ever_married, dtype: int64\n\n\nPrivate          2305\nSelf-employed     631\nchildren          539\nGovt_job          508\nNever_worked       17\nName: work_type, dtype: int64\n\n\nUnknown    1987\nUrban      1018\nRural       995\nName: Residence_type, dtype: int64\n\n\n93.88     5\n91.85     5\n93.55     4\n71.06     4\n114.32    4\n         ..\n99.96     1\n69.88     1\n57.77     1\n210.78    1\n94.00     1\nName: avg_glucose_level, Length: 3179, dtype: int64\n\n\n27.6    25\n27.7    24\n27.0    24\n26.9    23\n28.7    23\n        ..\n44.3     1\n15.7     1\n39.8     1\n45.5     1\n47.5     1\nName: bmi, Length: 381, dtype: int64\n\n\nnever smoked       1467\nUnknown            1226\nformerly smoked     686\nsmokes              621\nName: smoking_status, dtype: int64\n\n\nAB    1544\nA      841\nB      829\nO      776\nName: blood, dtype: int64\n\n\n1.66    94\n1.68    91\n1.71    83\n1.64    81\n1.70    78\n        ..\n1.16     1\n1.11     1\n0.91     1\n1.05     1\n1.17     1\nName: height, Length: 78, dtype: int64\n\n\n0    3870\n1     130\nName: stroke, dtype: int64\n\n\n"
     ]
    }
   ],
   "source": [
    "# unknown_feature = ['gender', 'hypertension', 'heart_disease', 'Residence_type', 'smoking_status','ever_married', 'blood', 'work_type', 'stroke']\n",
    "unknown_feature = df.columns\n",
    "print('Value counts: \\n')\n",
    "for i in unknown_feature:\n",
    "    print(df[i].value_counts())\n",
    "    print('\\n')"
   ]
  },
  {
   "cell_type": "code",
   "execution_count": 18,
   "metadata": {},
   "outputs": [
    {
     "output_type": "stream",
     "name": "stdout",
     "text": [
      "Value percent: \nFemale    55.450\nMale      40.625\nOther      3.925\nName: gender, dtype: float64\n\n\n52.00    2.003596\n57.00    1.823786\n53.00    1.798099\n78.00    1.772412\n50.00    1.772412\n           ...   \n0.72     0.051374\n0.08     0.051374\n0.48     0.051374\n1.16     0.051374\n0.40     0.025687\nName: age, Length: 104, dtype: float64\n\n\n0.0    90.238727\n1.0     9.761273\nName: hypertension, dtype: float64\n\n\n0.0    94.475703\n1.0     5.524297\nName: heart_disease, dtype: float64\n\n\nYes    65.65\nNo     34.35\nName: ever_married, dtype: float64\n\n\nPrivate          57.625\nSelf-employed    15.775\nchildren         13.475\nGovt_job         12.700\nNever_worked      0.425\nName: work_type, dtype: float64\n\n\nUnknown    49.675\nUrban      25.450\nRural      24.875\nName: Residence_type, dtype: float64\n\n\n93.88     0.130582\n91.85     0.130582\n93.55     0.104466\n71.06     0.104466\n114.32    0.104466\n            ...   \n99.96     0.026116\n69.88     0.026116\n57.77     0.026116\n210.78    0.026116\n94.00     0.026116\nName: avg_glucose_level, Length: 3179, dtype: float64\n\n\n27.6    0.866852\n27.7    0.832178\n27.0    0.832178\n26.9    0.797503\n28.7    0.797503\n          ...   \n44.3    0.034674\n15.7    0.034674\n39.8    0.034674\n45.5    0.034674\n47.5    0.034674\nName: bmi, Length: 381, dtype: float64\n\n\nnever smoked       36.675\nUnknown            30.650\nformerly smoked    17.150\nsmokes             15.525\nName: smoking_status, dtype: float64\n\n\nAB    38.696742\nA     21.077694\nB     20.776942\nO     19.448622\nName: blood, dtype: float64\n\n\n1.66    3.210383\n1.68    3.107923\n1.71    2.834699\n1.64    2.766393\n1.70    2.663934\n          ...   \n1.16    0.034153\n1.11    0.034153\n0.91    0.034153\n1.05    0.034153\n1.17    0.034153\nName: height, Length: 78, dtype: float64\n\n\n0    96.75\n1     3.25\nName: stroke, dtype: float64\n\n\n"
     ]
    }
   ],
   "source": [
    "print('Value percent: ')\n",
    "for i in unknown_feature:\n",
    "    print(df[i].value_counts(normalize=True)*100)\n",
    "    print('\\n')"
   ]
  },
  {
   "source": [
    "## Preprocessing Data"
   ],
   "cell_type": "markdown",
   "metadata": {}
  },
  {
   "source": [
    "### fill 'age' and 'bmi' mean values"
   ],
   "cell_type": "markdown",
   "metadata": {}
  },
  {
   "cell_type": "code",
   "execution_count": 19,
   "metadata": {},
   "outputs": [
    {
     "output_type": "execute_result",
     "data": {
      "text/plain": [
       "      gender        age  hypertension  heart_disease ever_married work_type  \\\n",
       "0     Female  43.071256           0.0            0.0           No  children   \n",
       "1       Male  55.000000           0.0            0.0          Yes   Private   \n",
       "2     Female  42.000000           0.0            0.0           No   Private   \n",
       "3     Female  31.000000           0.0            0.0           No   Private   \n",
       "4     Female  38.000000           0.0            0.0          Yes   Private   \n",
       "...      ...        ...           ...            ...          ...       ...   \n",
       "3995    Male  16.000000           0.0            0.0           No   Private   \n",
       "3996    Male  47.000000           0.0            0.0          Yes   Private   \n",
       "3997   Other  57.000000           1.0            0.0          Yes   Private   \n",
       "3998  Female  45.000000           0.0            0.0          Yes   Private   \n",
       "3999  Female  53.000000           1.0            0.0          Yes   Private   \n",
       "\n",
       "     Residence_type  avg_glucose_level   bmi   smoking_status blood  height  \\\n",
       "0           Unknown              85.81  18.6          Unknown     O     NaN   \n",
       "1             Urban              89.17   NaN     never smoked     B    1.59   \n",
       "2           Unknown              98.53  18.5     never smoked     B     NaN   \n",
       "3             Urban             108.89  52.3          Unknown     O    1.24   \n",
       "4           Unknown              91.44   NaN          Unknown     O     NaN   \n",
       "...             ...                ...   ...              ...   ...     ...   \n",
       "3995        Unknown              99.49  22.0          Unknown     B     NaN   \n",
       "3996          Rural              75.30  25.0  formerly smoked     B    1.79   \n",
       "3997          Rural             129.54  60.9           smokes    AB    1.15   \n",
       "3998        Unknown             172.33  45.3  formerly smoked     O    1.33   \n",
       "3999          Urban              62.55  30.3          Unknown     O    1.62   \n",
       "\n",
       "      stroke  \n",
       "0          0  \n",
       "1          0  \n",
       "2          0  \n",
       "3          0  \n",
       "4          0  \n",
       "...      ...  \n",
       "3995       0  \n",
       "3996       0  \n",
       "3997       0  \n",
       "3998       0  \n",
       "3999       1  \n",
       "\n",
       "[4000 rows x 13 columns]"
      ],
      "text/html": "<div>\n<style scoped>\n    .dataframe tbody tr th:only-of-type {\n        vertical-align: middle;\n    }\n\n    .dataframe tbody tr th {\n        vertical-align: top;\n    }\n\n    .dataframe thead th {\n        text-align: right;\n    }\n</style>\n<table border=\"1\" class=\"dataframe\">\n  <thead>\n    <tr style=\"text-align: right;\">\n      <th></th>\n      <th>gender</th>\n      <th>age</th>\n      <th>hypertension</th>\n      <th>heart_disease</th>\n      <th>ever_married</th>\n      <th>work_type</th>\n      <th>Residence_type</th>\n      <th>avg_glucose_level</th>\n      <th>bmi</th>\n      <th>smoking_status</th>\n      <th>blood</th>\n      <th>height</th>\n      <th>stroke</th>\n    </tr>\n  </thead>\n  <tbody>\n    <tr>\n      <th>0</th>\n      <td>Female</td>\n      <td>43.071256</td>\n      <td>0.0</td>\n      <td>0.0</td>\n      <td>No</td>\n      <td>children</td>\n      <td>Unknown</td>\n      <td>85.81</td>\n      <td>18.6</td>\n      <td>Unknown</td>\n      <td>O</td>\n      <td>NaN</td>\n      <td>0</td>\n    </tr>\n    <tr>\n      <th>1</th>\n      <td>Male</td>\n      <td>55.000000</td>\n      <td>0.0</td>\n      <td>0.0</td>\n      <td>Yes</td>\n      <td>Private</td>\n      <td>Urban</td>\n      <td>89.17</td>\n      <td>NaN</td>\n      <td>never smoked</td>\n      <td>B</td>\n      <td>1.59</td>\n      <td>0</td>\n    </tr>\n    <tr>\n      <th>2</th>\n      <td>Female</td>\n      <td>42.000000</td>\n      <td>0.0</td>\n      <td>0.0</td>\n      <td>No</td>\n      <td>Private</td>\n      <td>Unknown</td>\n      <td>98.53</td>\n      <td>18.5</td>\n      <td>never smoked</td>\n      <td>B</td>\n      <td>NaN</td>\n      <td>0</td>\n    </tr>\n    <tr>\n      <th>3</th>\n      <td>Female</td>\n      <td>31.000000</td>\n      <td>0.0</td>\n      <td>0.0</td>\n      <td>No</td>\n      <td>Private</td>\n      <td>Urban</td>\n      <td>108.89</td>\n      <td>52.3</td>\n      <td>Unknown</td>\n      <td>O</td>\n      <td>1.24</td>\n      <td>0</td>\n    </tr>\n    <tr>\n      <th>4</th>\n      <td>Female</td>\n      <td>38.000000</td>\n      <td>0.0</td>\n      <td>0.0</td>\n      <td>Yes</td>\n      <td>Private</td>\n      <td>Unknown</td>\n      <td>91.44</td>\n      <td>NaN</td>\n      <td>Unknown</td>\n      <td>O</td>\n      <td>NaN</td>\n      <td>0</td>\n    </tr>\n    <tr>\n      <th>...</th>\n      <td>...</td>\n      <td>...</td>\n      <td>...</td>\n      <td>...</td>\n      <td>...</td>\n      <td>...</td>\n      <td>...</td>\n      <td>...</td>\n      <td>...</td>\n      <td>...</td>\n      <td>...</td>\n      <td>...</td>\n      <td>...</td>\n    </tr>\n    <tr>\n      <th>3995</th>\n      <td>Male</td>\n      <td>16.000000</td>\n      <td>0.0</td>\n      <td>0.0</td>\n      <td>No</td>\n      <td>Private</td>\n      <td>Unknown</td>\n      <td>99.49</td>\n      <td>22.0</td>\n      <td>Unknown</td>\n      <td>B</td>\n      <td>NaN</td>\n      <td>0</td>\n    </tr>\n    <tr>\n      <th>3996</th>\n      <td>Male</td>\n      <td>47.000000</td>\n      <td>0.0</td>\n      <td>0.0</td>\n      <td>Yes</td>\n      <td>Private</td>\n      <td>Rural</td>\n      <td>75.30</td>\n      <td>25.0</td>\n      <td>formerly smoked</td>\n      <td>B</td>\n      <td>1.79</td>\n      <td>0</td>\n    </tr>\n    <tr>\n      <th>3997</th>\n      <td>Other</td>\n      <td>57.000000</td>\n      <td>1.0</td>\n      <td>0.0</td>\n      <td>Yes</td>\n      <td>Private</td>\n      <td>Rural</td>\n      <td>129.54</td>\n      <td>60.9</td>\n      <td>smokes</td>\n      <td>AB</td>\n      <td>1.15</td>\n      <td>0</td>\n    </tr>\n    <tr>\n      <th>3998</th>\n      <td>Female</td>\n      <td>45.000000</td>\n      <td>0.0</td>\n      <td>0.0</td>\n      <td>Yes</td>\n      <td>Private</td>\n      <td>Unknown</td>\n      <td>172.33</td>\n      <td>45.3</td>\n      <td>formerly smoked</td>\n      <td>O</td>\n      <td>1.33</td>\n      <td>0</td>\n    </tr>\n    <tr>\n      <th>3999</th>\n      <td>Female</td>\n      <td>53.000000</td>\n      <td>1.0</td>\n      <td>0.0</td>\n      <td>Yes</td>\n      <td>Private</td>\n      <td>Urban</td>\n      <td>62.55</td>\n      <td>30.3</td>\n      <td>Unknown</td>\n      <td>O</td>\n      <td>1.62</td>\n      <td>1</td>\n    </tr>\n  </tbody>\n</table>\n<p>4000 rows × 13 columns</p>\n</div>"
     },
     "metadata": {},
     "execution_count": 19
    }
   ],
   "source": [
    "df['age'] = df['age'].fillna(np.mean(df['age']))\n",
    "df"
   ]
  },
  {
   "cell_type": "code",
   "execution_count": 20,
   "metadata": {},
   "outputs": [
    {
     "output_type": "execute_result",
     "data": {
      "text/plain": [
       "3    1001\n",
       "4     976\n",
       "2     711\n",
       "5     707\n",
       "1     605\n",
       "Name: age_bin, dtype: int64"
      ]
     },
     "metadata": {},
     "execution_count": 20
    }
   ],
   "source": [
    "labels = [1,2,3,4,5]\n",
    "df[\"age_bin\"] = pd.cut(df[\"age\"], 5, labels=labels)\n",
    "df['age_bin'].value_counts()"
   ]
  },
  {
   "cell_type": "code",
   "execution_count": 21,
   "metadata": {},
   "outputs": [
    {
     "output_type": "execute_result",
     "data": {
      "text/plain": [
       "age_bin\n",
       "1    20.715509\n",
       "2    28.814368\n",
       "3    31.020136\n",
       "4    31.480000\n",
       "5    29.288200\n",
       "Name: bmi, dtype: float64"
      ]
     },
     "metadata": {},
     "execution_count": 21
    }
   ],
   "source": [
    "gb_bmi = df.groupby(\"age_bin\")[\"bmi\"].mean()\n",
    "gb_bmi"
   ]
  },
  {
   "cell_type": "code",
   "execution_count": 22,
   "metadata": {},
   "outputs": [],
   "source": [
    "def impute_bmi(cols):\n",
    "    bmi = cols[0]\n",
    "    age_bin = cols[1]\n",
    "    \n",
    "    if pd.isnull(bmi):\n",
    "        if age_bin == 1:\n",
    "            return 20.715509\n",
    "        elif age_bin == 2:\n",
    "            return 28.814368\n",
    "        elif age_bin == 3:\n",
    "            return 31.020136\n",
    "        elif age_bin == 4:\n",
    "            return 31.480000\n",
    "        elif age_bin == 5:\n",
    "            return 29.288200\n",
    "    else:\n",
    "        return bmi"
   ]
  },
  {
   "cell_type": "code",
   "execution_count": 23,
   "metadata": {},
   "outputs": [
    {
     "output_type": "execute_result",
     "data": {
      "text/plain": [
       "0       18.600000\n",
       "1       31.480000\n",
       "2       18.500000\n",
       "3       52.300000\n",
       "4       31.020136\n",
       "          ...    \n",
       "3995    22.000000\n",
       "3996    25.000000\n",
       "3997    60.900000\n",
       "3998    45.300000\n",
       "3999    30.300000\n",
       "Name: bmi, Length: 4000, dtype: float64"
      ]
     },
     "metadata": {},
     "execution_count": 23
    }
   ],
   "source": [
    "df[\"bmi\"] = df[[\"bmi\",\"age_bin\"]].apply(impute_bmi, axis=1)\n",
    "df['bmi']"
   ]
  },
  {
   "cell_type": "code",
   "execution_count": 24,
   "metadata": {},
   "outputs": [
    {
     "output_type": "execute_result",
     "data": {
      "text/plain": [
       "                   Total  Percent\n",
       "height              1072  0.26800\n",
       "hypertension         230  0.05750\n",
       "avg_glucose_level    171  0.04275\n",
       "heart_disease         90  0.02250\n",
       "blood                 10  0.00250\n",
       "age_bin                0  0.00000\n",
       "stroke                 0  0.00000\n",
       "smoking_status         0  0.00000\n",
       "bmi                    0  0.00000\n",
       "Residence_type         0  0.00000\n",
       "work_type              0  0.00000\n",
       "ever_married           0  0.00000\n",
       "age                    0  0.00000\n",
       "gender                 0  0.00000"
      ],
      "text/html": "<div>\n<style scoped>\n    .dataframe tbody tr th:only-of-type {\n        vertical-align: middle;\n    }\n\n    .dataframe tbody tr th {\n        vertical-align: top;\n    }\n\n    .dataframe thead th {\n        text-align: right;\n    }\n</style>\n<table border=\"1\" class=\"dataframe\">\n  <thead>\n    <tr style=\"text-align: right;\">\n      <th></th>\n      <th>Total</th>\n      <th>Percent</th>\n    </tr>\n  </thead>\n  <tbody>\n    <tr>\n      <th>height</th>\n      <td>1072</td>\n      <td>0.26800</td>\n    </tr>\n    <tr>\n      <th>hypertension</th>\n      <td>230</td>\n      <td>0.05750</td>\n    </tr>\n    <tr>\n      <th>avg_glucose_level</th>\n      <td>171</td>\n      <td>0.04275</td>\n    </tr>\n    <tr>\n      <th>heart_disease</th>\n      <td>90</td>\n      <td>0.02250</td>\n    </tr>\n    <tr>\n      <th>blood</th>\n      <td>10</td>\n      <td>0.00250</td>\n    </tr>\n    <tr>\n      <th>age_bin</th>\n      <td>0</td>\n      <td>0.00000</td>\n    </tr>\n    <tr>\n      <th>stroke</th>\n      <td>0</td>\n      <td>0.00000</td>\n    </tr>\n    <tr>\n      <th>smoking_status</th>\n      <td>0</td>\n      <td>0.00000</td>\n    </tr>\n    <tr>\n      <th>bmi</th>\n      <td>0</td>\n      <td>0.00000</td>\n    </tr>\n    <tr>\n      <th>Residence_type</th>\n      <td>0</td>\n      <td>0.00000</td>\n    </tr>\n    <tr>\n      <th>work_type</th>\n      <td>0</td>\n      <td>0.00000</td>\n    </tr>\n    <tr>\n      <th>ever_married</th>\n      <td>0</td>\n      <td>0.00000</td>\n    </tr>\n    <tr>\n      <th>age</th>\n      <td>0</td>\n      <td>0.00000</td>\n    </tr>\n    <tr>\n      <th>gender</th>\n      <td>0</td>\n      <td>0.00000</td>\n    </tr>\n  </tbody>\n</table>\n</div>"
     },
     "metadata": {},
     "execution_count": 24
    }
   ],
   "source": [
    "draw_missing_data_table(df)"
   ]
  },
  {
   "cell_type": "code",
   "execution_count": 25,
   "metadata": {},
   "outputs": [
    {
     "output_type": "execute_result",
     "data": {
      "text/plain": [
       "               age  hypertension  heart_disease  avg_glucose_level  \\\n",
       "count  4000.000000   3770.000000    3910.000000        3829.000000   \n",
       "mean     43.071256      0.097613       0.055243         106.178062   \n",
       "std      22.123887      0.296830       0.228483          45.048667   \n",
       "min       0.080000      0.000000       0.000000          55.220000   \n",
       "25%      26.000000      0.000000       0.000000          77.500000   \n",
       "50%      44.000000      0.000000       0.000000          92.110000   \n",
       "75%      60.000000      0.000000       0.000000         114.090000   \n",
       "max      82.000000      1.000000       1.000000         267.760000   \n",
       "\n",
       "               bmi       height       stroke  \n",
       "count  4000.000000  2928.000000  4000.000000  \n",
       "mean     28.875573     1.611831     0.032500  \n",
       "std       6.979478     0.149053     0.177346  \n",
       "min      11.300000     0.910000     0.000000  \n",
       "25%      24.200000     1.520000     0.000000  \n",
       "50%      29.200000     1.630000     0.000000  \n",
       "75%      31.480000     1.722500     0.000000  \n",
       "max      97.600000     1.850000     1.000000  "
      ],
      "text/html": "<div>\n<style scoped>\n    .dataframe tbody tr th:only-of-type {\n        vertical-align: middle;\n    }\n\n    .dataframe tbody tr th {\n        vertical-align: top;\n    }\n\n    .dataframe thead th {\n        text-align: right;\n    }\n</style>\n<table border=\"1\" class=\"dataframe\">\n  <thead>\n    <tr style=\"text-align: right;\">\n      <th></th>\n      <th>age</th>\n      <th>hypertension</th>\n      <th>heart_disease</th>\n      <th>avg_glucose_level</th>\n      <th>bmi</th>\n      <th>height</th>\n      <th>stroke</th>\n    </tr>\n  </thead>\n  <tbody>\n    <tr>\n      <th>count</th>\n      <td>4000.000000</td>\n      <td>3770.000000</td>\n      <td>3910.000000</td>\n      <td>3829.000000</td>\n      <td>4000.000000</td>\n      <td>2928.000000</td>\n      <td>4000.000000</td>\n    </tr>\n    <tr>\n      <th>mean</th>\n      <td>43.071256</td>\n      <td>0.097613</td>\n      <td>0.055243</td>\n      <td>106.178062</td>\n      <td>28.875573</td>\n      <td>1.611831</td>\n      <td>0.032500</td>\n    </tr>\n    <tr>\n      <th>std</th>\n      <td>22.123887</td>\n      <td>0.296830</td>\n      <td>0.228483</td>\n      <td>45.048667</td>\n      <td>6.979478</td>\n      <td>0.149053</td>\n      <td>0.177346</td>\n    </tr>\n    <tr>\n      <th>min</th>\n      <td>0.080000</td>\n      <td>0.000000</td>\n      <td>0.000000</td>\n      <td>55.220000</td>\n      <td>11.300000</td>\n      <td>0.910000</td>\n      <td>0.000000</td>\n    </tr>\n    <tr>\n      <th>25%</th>\n      <td>26.000000</td>\n      <td>0.000000</td>\n      <td>0.000000</td>\n      <td>77.500000</td>\n      <td>24.200000</td>\n      <td>1.520000</td>\n      <td>0.000000</td>\n    </tr>\n    <tr>\n      <th>50%</th>\n      <td>44.000000</td>\n      <td>0.000000</td>\n      <td>0.000000</td>\n      <td>92.110000</td>\n      <td>29.200000</td>\n      <td>1.630000</td>\n      <td>0.000000</td>\n    </tr>\n    <tr>\n      <th>75%</th>\n      <td>60.000000</td>\n      <td>0.000000</td>\n      <td>0.000000</td>\n      <td>114.090000</td>\n      <td>31.480000</td>\n      <td>1.722500</td>\n      <td>0.000000</td>\n    </tr>\n    <tr>\n      <th>max</th>\n      <td>82.000000</td>\n      <td>1.000000</td>\n      <td>1.000000</td>\n      <td>267.760000</td>\n      <td>97.600000</td>\n      <td>1.850000</td>\n      <td>1.000000</td>\n    </tr>\n  </tbody>\n</table>\n</div>"
     },
     "metadata": {},
     "execution_count": 25
    }
   ],
   "source": [
    "df.describe()"
   ]
  },
  {
   "source": [
    "Xoá dữ liệu có `bmi` <= 45"
   ],
   "cell_type": "markdown",
   "metadata": {}
  },
  {
   "cell_type": "code",
   "execution_count": 26,
   "metadata": {},
   "outputs": [
    {
     "output_type": "execute_result",
     "data": {
      "text/plain": [
       "      gender        age  hypertension  heart_disease ever_married work_type  \\\n",
       "0     Female  43.071256           0.0            0.0           No  children   \n",
       "1       Male  55.000000           0.0            0.0          Yes   Private   \n",
       "2     Female  42.000000           0.0            0.0           No   Private   \n",
       "4     Female  38.000000           0.0            0.0          Yes   Private   \n",
       "5     Female  24.000000           0.0            0.0           No   Private   \n",
       "...      ...        ...           ...            ...          ...       ...   \n",
       "3993  Female  59.000000           0.0            0.0          Yes   Private   \n",
       "3994  Female  52.000000           0.0            0.0          Yes   Private   \n",
       "3995    Male  16.000000           0.0            0.0           No   Private   \n",
       "3996    Male  47.000000           0.0            0.0          Yes   Private   \n",
       "3999  Female  53.000000           1.0            0.0          Yes   Private   \n",
       "\n",
       "     Residence_type  avg_glucose_level        bmi   smoking_status blood  \\\n",
       "0           Unknown              85.81  18.600000          Unknown     O   \n",
       "1             Urban              89.17  31.480000     never smoked     B   \n",
       "2           Unknown              98.53  18.500000     never smoked     B   \n",
       "4           Unknown              91.44  31.020136          Unknown     O   \n",
       "5             Urban              97.55  26.200000     never smoked     B   \n",
       "...             ...                ...        ...              ...   ...   \n",
       "3993        Unknown              65.98  31.480000          Unknown     O   \n",
       "3994        Unknown              69.30  31.480000     never smoked     B   \n",
       "3995        Unknown              99.49  22.000000          Unknown     B   \n",
       "3996          Rural              75.30  25.000000  formerly smoked     B   \n",
       "3999          Urban              62.55  30.300000          Unknown     O   \n",
       "\n",
       "      height  stroke age_bin  \n",
       "0        NaN       0       3  \n",
       "1       1.59       0       4  \n",
       "2        NaN       0       3  \n",
       "4        NaN       0       3  \n",
       "5       1.75       0       2  \n",
       "...      ...     ...     ...  \n",
       "3993    1.60       0       4  \n",
       "3994     NaN       0       4  \n",
       "3995     NaN       0       1  \n",
       "3996    1.79       0       3  \n",
       "3999    1.62       1       4  \n",
       "\n",
       "[3909 rows x 14 columns]"
      ],
      "text/html": "<div>\n<style scoped>\n    .dataframe tbody tr th:only-of-type {\n        vertical-align: middle;\n    }\n\n    .dataframe tbody tr th {\n        vertical-align: top;\n    }\n\n    .dataframe thead th {\n        text-align: right;\n    }\n</style>\n<table border=\"1\" class=\"dataframe\">\n  <thead>\n    <tr style=\"text-align: right;\">\n      <th></th>\n      <th>gender</th>\n      <th>age</th>\n      <th>hypertension</th>\n      <th>heart_disease</th>\n      <th>ever_married</th>\n      <th>work_type</th>\n      <th>Residence_type</th>\n      <th>avg_glucose_level</th>\n      <th>bmi</th>\n      <th>smoking_status</th>\n      <th>blood</th>\n      <th>height</th>\n      <th>stroke</th>\n      <th>age_bin</th>\n    </tr>\n  </thead>\n  <tbody>\n    <tr>\n      <th>0</th>\n      <td>Female</td>\n      <td>43.071256</td>\n      <td>0.0</td>\n      <td>0.0</td>\n      <td>No</td>\n      <td>children</td>\n      <td>Unknown</td>\n      <td>85.81</td>\n      <td>18.600000</td>\n      <td>Unknown</td>\n      <td>O</td>\n      <td>NaN</td>\n      <td>0</td>\n      <td>3</td>\n    </tr>\n    <tr>\n      <th>1</th>\n      <td>Male</td>\n      <td>55.000000</td>\n      <td>0.0</td>\n      <td>0.0</td>\n      <td>Yes</td>\n      <td>Private</td>\n      <td>Urban</td>\n      <td>89.17</td>\n      <td>31.480000</td>\n      <td>never smoked</td>\n      <td>B</td>\n      <td>1.59</td>\n      <td>0</td>\n      <td>4</td>\n    </tr>\n    <tr>\n      <th>2</th>\n      <td>Female</td>\n      <td>42.000000</td>\n      <td>0.0</td>\n      <td>0.0</td>\n      <td>No</td>\n      <td>Private</td>\n      <td>Unknown</td>\n      <td>98.53</td>\n      <td>18.500000</td>\n      <td>never smoked</td>\n      <td>B</td>\n      <td>NaN</td>\n      <td>0</td>\n      <td>3</td>\n    </tr>\n    <tr>\n      <th>4</th>\n      <td>Female</td>\n      <td>38.000000</td>\n      <td>0.0</td>\n      <td>0.0</td>\n      <td>Yes</td>\n      <td>Private</td>\n      <td>Unknown</td>\n      <td>91.44</td>\n      <td>31.020136</td>\n      <td>Unknown</td>\n      <td>O</td>\n      <td>NaN</td>\n      <td>0</td>\n      <td>3</td>\n    </tr>\n    <tr>\n      <th>5</th>\n      <td>Female</td>\n      <td>24.000000</td>\n      <td>0.0</td>\n      <td>0.0</td>\n      <td>No</td>\n      <td>Private</td>\n      <td>Urban</td>\n      <td>97.55</td>\n      <td>26.200000</td>\n      <td>never smoked</td>\n      <td>B</td>\n      <td>1.75</td>\n      <td>0</td>\n      <td>2</td>\n    </tr>\n    <tr>\n      <th>...</th>\n      <td>...</td>\n      <td>...</td>\n      <td>...</td>\n      <td>...</td>\n      <td>...</td>\n      <td>...</td>\n      <td>...</td>\n      <td>...</td>\n      <td>...</td>\n      <td>...</td>\n      <td>...</td>\n      <td>...</td>\n      <td>...</td>\n      <td>...</td>\n    </tr>\n    <tr>\n      <th>3993</th>\n      <td>Female</td>\n      <td>59.000000</td>\n      <td>0.0</td>\n      <td>0.0</td>\n      <td>Yes</td>\n      <td>Private</td>\n      <td>Unknown</td>\n      <td>65.98</td>\n      <td>31.480000</td>\n      <td>Unknown</td>\n      <td>O</td>\n      <td>1.60</td>\n      <td>0</td>\n      <td>4</td>\n    </tr>\n    <tr>\n      <th>3994</th>\n      <td>Female</td>\n      <td>52.000000</td>\n      <td>0.0</td>\n      <td>0.0</td>\n      <td>Yes</td>\n      <td>Private</td>\n      <td>Unknown</td>\n      <td>69.30</td>\n      <td>31.480000</td>\n      <td>never smoked</td>\n      <td>B</td>\n      <td>NaN</td>\n      <td>0</td>\n      <td>4</td>\n    </tr>\n    <tr>\n      <th>3995</th>\n      <td>Male</td>\n      <td>16.000000</td>\n      <td>0.0</td>\n      <td>0.0</td>\n      <td>No</td>\n      <td>Private</td>\n      <td>Unknown</td>\n      <td>99.49</td>\n      <td>22.000000</td>\n      <td>Unknown</td>\n      <td>B</td>\n      <td>NaN</td>\n      <td>0</td>\n      <td>1</td>\n    </tr>\n    <tr>\n      <th>3996</th>\n      <td>Male</td>\n      <td>47.000000</td>\n      <td>0.0</td>\n      <td>0.0</td>\n      <td>Yes</td>\n      <td>Private</td>\n      <td>Rural</td>\n      <td>75.30</td>\n      <td>25.000000</td>\n      <td>formerly smoked</td>\n      <td>B</td>\n      <td>1.79</td>\n      <td>0</td>\n      <td>3</td>\n    </tr>\n    <tr>\n      <th>3999</th>\n      <td>Female</td>\n      <td>53.000000</td>\n      <td>1.0</td>\n      <td>0.0</td>\n      <td>Yes</td>\n      <td>Private</td>\n      <td>Urban</td>\n      <td>62.55</td>\n      <td>30.300000</td>\n      <td>Unknown</td>\n      <td>O</td>\n      <td>1.62</td>\n      <td>1</td>\n      <td>4</td>\n    </tr>\n  </tbody>\n</table>\n<p>3909 rows × 14 columns</p>\n</div>"
     },
     "metadata": {},
     "execution_count": 26
    }
   ],
   "source": [
    "df = df.loc[df['bmi'] < 45]\n",
    "df"
   ]
  },
  {
   "source": [],
   "cell_type": "markdown",
   "metadata": {}
  },
  {
   "cell_type": "code",
   "execution_count": 27,
   "metadata": {},
   "outputs": [
    {
     "output_type": "execute_result",
     "data": {
      "text/plain": [
       "                   Total   Percent\n",
       "height              1072  0.274239\n",
       "hypertension         221  0.056536\n",
       "avg_glucose_level    166  0.042466\n",
       "heart_disease         88  0.022512\n",
       "blood                  8  0.002047\n",
       "age_bin                0  0.000000\n",
       "stroke                 0  0.000000\n",
       "smoking_status         0  0.000000\n",
       "bmi                    0  0.000000\n",
       "Residence_type         0  0.000000\n",
       "work_type              0  0.000000\n",
       "ever_married           0  0.000000\n",
       "age                    0  0.000000\n",
       "gender                 0  0.000000"
      ],
      "text/html": "<div>\n<style scoped>\n    .dataframe tbody tr th:only-of-type {\n        vertical-align: middle;\n    }\n\n    .dataframe tbody tr th {\n        vertical-align: top;\n    }\n\n    .dataframe thead th {\n        text-align: right;\n    }\n</style>\n<table border=\"1\" class=\"dataframe\">\n  <thead>\n    <tr style=\"text-align: right;\">\n      <th></th>\n      <th>Total</th>\n      <th>Percent</th>\n    </tr>\n  </thead>\n  <tbody>\n    <tr>\n      <th>height</th>\n      <td>1072</td>\n      <td>0.274239</td>\n    </tr>\n    <tr>\n      <th>hypertension</th>\n      <td>221</td>\n      <td>0.056536</td>\n    </tr>\n    <tr>\n      <th>avg_glucose_level</th>\n      <td>166</td>\n      <td>0.042466</td>\n    </tr>\n    <tr>\n      <th>heart_disease</th>\n      <td>88</td>\n      <td>0.022512</td>\n    </tr>\n    <tr>\n      <th>blood</th>\n      <td>8</td>\n      <td>0.002047</td>\n    </tr>\n    <tr>\n      <th>age_bin</th>\n      <td>0</td>\n      <td>0.000000</td>\n    </tr>\n    <tr>\n      <th>stroke</th>\n      <td>0</td>\n      <td>0.000000</td>\n    </tr>\n    <tr>\n      <th>smoking_status</th>\n      <td>0</td>\n      <td>0.000000</td>\n    </tr>\n    <tr>\n      <th>bmi</th>\n      <td>0</td>\n      <td>0.000000</td>\n    </tr>\n    <tr>\n      <th>Residence_type</th>\n      <td>0</td>\n      <td>0.000000</td>\n    </tr>\n    <tr>\n      <th>work_type</th>\n      <td>0</td>\n      <td>0.000000</td>\n    </tr>\n    <tr>\n      <th>ever_married</th>\n      <td>0</td>\n      <td>0.000000</td>\n    </tr>\n    <tr>\n      <th>age</th>\n      <td>0</td>\n      <td>0.000000</td>\n    </tr>\n    <tr>\n      <th>gender</th>\n      <td>0</td>\n      <td>0.000000</td>\n    </tr>\n  </tbody>\n</table>\n</div>"
     },
     "metadata": {},
     "execution_count": 27
    }
   ],
   "source": [
    "draw_missing_data_table(df)"
   ]
  },
  {
   "source": [
    "## Drop height"
   ],
   "cell_type": "markdown",
   "metadata": {}
  },
  {
   "cell_type": "code",
   "execution_count": 28,
   "metadata": {},
   "outputs": [
    {
     "output_type": "stream",
     "name": "stderr",
     "text": [
      "C:\\Users\\razor\\anaconda3\\lib\\site-packages\\pandas\\core\\frame.py:4163: SettingWithCopyWarning: \nA value is trying to be set on a copy of a slice from a DataFrame\n\nSee the caveats in the documentation: https://pandas.pydata.org/pandas-docs/stable/user_guide/indexing.html#returning-a-view-versus-a-copy\n  return super().drop(\n"
     ]
    }
   ],
   "source": [
    "df.drop(columns=['height'], inplace=True)"
   ]
  },
  {
   "cell_type": "code",
   "execution_count": 29,
   "metadata": {},
   "outputs": [
    {
     "output_type": "execute_result",
     "data": {
      "text/plain": [
       "   gender        age  hypertension  heart_disease ever_married work_type  \\\n",
       "0  Female  43.071256           0.0            0.0           No  children   \n",
       "1    Male  55.000000           0.0            0.0          Yes   Private   \n",
       "2  Female  42.000000           0.0            0.0           No   Private   \n",
       "4  Female  38.000000           0.0            0.0          Yes   Private   \n",
       "5  Female  24.000000           0.0            0.0           No   Private   \n",
       "\n",
       "  Residence_type  avg_glucose_level        bmi smoking_status blood  stroke  \\\n",
       "0        Unknown              85.81  18.600000        Unknown     O       0   \n",
       "1          Urban              89.17  31.480000   never smoked     B       0   \n",
       "2        Unknown              98.53  18.500000   never smoked     B       0   \n",
       "4        Unknown              91.44  31.020136        Unknown     O       0   \n",
       "5          Urban              97.55  26.200000   never smoked     B       0   \n",
       "\n",
       "  age_bin  \n",
       "0       3  \n",
       "1       4  \n",
       "2       3  \n",
       "4       3  \n",
       "5       2  "
      ],
      "text/html": "<div>\n<style scoped>\n    .dataframe tbody tr th:only-of-type {\n        vertical-align: middle;\n    }\n\n    .dataframe tbody tr th {\n        vertical-align: top;\n    }\n\n    .dataframe thead th {\n        text-align: right;\n    }\n</style>\n<table border=\"1\" class=\"dataframe\">\n  <thead>\n    <tr style=\"text-align: right;\">\n      <th></th>\n      <th>gender</th>\n      <th>age</th>\n      <th>hypertension</th>\n      <th>heart_disease</th>\n      <th>ever_married</th>\n      <th>work_type</th>\n      <th>Residence_type</th>\n      <th>avg_glucose_level</th>\n      <th>bmi</th>\n      <th>smoking_status</th>\n      <th>blood</th>\n      <th>stroke</th>\n      <th>age_bin</th>\n    </tr>\n  </thead>\n  <tbody>\n    <tr>\n      <th>0</th>\n      <td>Female</td>\n      <td>43.071256</td>\n      <td>0.0</td>\n      <td>0.0</td>\n      <td>No</td>\n      <td>children</td>\n      <td>Unknown</td>\n      <td>85.81</td>\n      <td>18.600000</td>\n      <td>Unknown</td>\n      <td>O</td>\n      <td>0</td>\n      <td>3</td>\n    </tr>\n    <tr>\n      <th>1</th>\n      <td>Male</td>\n      <td>55.000000</td>\n      <td>0.0</td>\n      <td>0.0</td>\n      <td>Yes</td>\n      <td>Private</td>\n      <td>Urban</td>\n      <td>89.17</td>\n      <td>31.480000</td>\n      <td>never smoked</td>\n      <td>B</td>\n      <td>0</td>\n      <td>4</td>\n    </tr>\n    <tr>\n      <th>2</th>\n      <td>Female</td>\n      <td>42.000000</td>\n      <td>0.0</td>\n      <td>0.0</td>\n      <td>No</td>\n      <td>Private</td>\n      <td>Unknown</td>\n      <td>98.53</td>\n      <td>18.500000</td>\n      <td>never smoked</td>\n      <td>B</td>\n      <td>0</td>\n      <td>3</td>\n    </tr>\n    <tr>\n      <th>4</th>\n      <td>Female</td>\n      <td>38.000000</td>\n      <td>0.0</td>\n      <td>0.0</td>\n      <td>Yes</td>\n      <td>Private</td>\n      <td>Unknown</td>\n      <td>91.44</td>\n      <td>31.020136</td>\n      <td>Unknown</td>\n      <td>O</td>\n      <td>0</td>\n      <td>3</td>\n    </tr>\n    <tr>\n      <th>5</th>\n      <td>Female</td>\n      <td>24.000000</td>\n      <td>0.0</td>\n      <td>0.0</td>\n      <td>No</td>\n      <td>Private</td>\n      <td>Urban</td>\n      <td>97.55</td>\n      <td>26.200000</td>\n      <td>never smoked</td>\n      <td>B</td>\n      <td>0</td>\n      <td>2</td>\n    </tr>\n  </tbody>\n</table>\n</div>"
     },
     "metadata": {},
     "execution_count": 29
    }
   ],
   "source": [
    "df.head()"
   ]
  },
  {
   "cell_type": "code",
   "execution_count": 30,
   "metadata": {},
   "outputs": [
    {
     "output_type": "execute_result",
     "data": {
      "text/plain": [
       "                   Total   Percent\n",
       "hypertension         221  0.056536\n",
       "avg_glucose_level    166  0.042466\n",
       "heart_disease         88  0.022512\n",
       "blood                  8  0.002047\n",
       "age_bin                0  0.000000\n",
       "stroke                 0  0.000000\n",
       "smoking_status         0  0.000000\n",
       "bmi                    0  0.000000\n",
       "Residence_type         0  0.000000\n",
       "work_type              0  0.000000\n",
       "ever_married           0  0.000000\n",
       "age                    0  0.000000\n",
       "gender                 0  0.000000"
      ],
      "text/html": "<div>\n<style scoped>\n    .dataframe tbody tr th:only-of-type {\n        vertical-align: middle;\n    }\n\n    .dataframe tbody tr th {\n        vertical-align: top;\n    }\n\n    .dataframe thead th {\n        text-align: right;\n    }\n</style>\n<table border=\"1\" class=\"dataframe\">\n  <thead>\n    <tr style=\"text-align: right;\">\n      <th></th>\n      <th>Total</th>\n      <th>Percent</th>\n    </tr>\n  </thead>\n  <tbody>\n    <tr>\n      <th>hypertension</th>\n      <td>221</td>\n      <td>0.056536</td>\n    </tr>\n    <tr>\n      <th>avg_glucose_level</th>\n      <td>166</td>\n      <td>0.042466</td>\n    </tr>\n    <tr>\n      <th>heart_disease</th>\n      <td>88</td>\n      <td>0.022512</td>\n    </tr>\n    <tr>\n      <th>blood</th>\n      <td>8</td>\n      <td>0.002047</td>\n    </tr>\n    <tr>\n      <th>age_bin</th>\n      <td>0</td>\n      <td>0.000000</td>\n    </tr>\n    <tr>\n      <th>stroke</th>\n      <td>0</td>\n      <td>0.000000</td>\n    </tr>\n    <tr>\n      <th>smoking_status</th>\n      <td>0</td>\n      <td>0.000000</td>\n    </tr>\n    <tr>\n      <th>bmi</th>\n      <td>0</td>\n      <td>0.000000</td>\n    </tr>\n    <tr>\n      <th>Residence_type</th>\n      <td>0</td>\n      <td>0.000000</td>\n    </tr>\n    <tr>\n      <th>work_type</th>\n      <td>0</td>\n      <td>0.000000</td>\n    </tr>\n    <tr>\n      <th>ever_married</th>\n      <td>0</td>\n      <td>0.000000</td>\n    </tr>\n    <tr>\n      <th>age</th>\n      <td>0</td>\n      <td>0.000000</td>\n    </tr>\n    <tr>\n      <th>gender</th>\n      <td>0</td>\n      <td>0.000000</td>\n    </tr>\n  </tbody>\n</table>\n</div>"
     },
     "metadata": {},
     "execution_count": 30
    }
   ],
   "source": [
    "draw_missing_data_table(df)"
   ]
  },
  {
   "source": [
    "## Check correlation for avg_glucose_level"
   ],
   "cell_type": "markdown",
   "metadata": {}
  },
  {
   "cell_type": "code",
   "execution_count": 31,
   "metadata": {},
   "outputs": [
    {
     "output_type": "execute_result",
     "data": {
      "text/plain": [
       "avg_glucose_level    1.000000\n",
       "age                  0.228313\n",
       "heart_disease        0.166880\n",
       "hypertension         0.154387\n",
       "bmi                  0.147862\n",
       "stroke               0.102934\n",
       "Name: avg_glucose_level, dtype: float64"
      ]
     },
     "metadata": {},
     "execution_count": 31
    }
   ],
   "source": [
    "df.corr()['avg_glucose_level'].sort_values(ascending=False)"
   ]
  },
  {
   "source": [
    "### Hmm, this isn't really that much correlation so mean all time"
   ],
   "cell_type": "markdown",
   "metadata": {}
  },
  {
   "cell_type": "code",
   "execution_count": 32,
   "metadata": {},
   "outputs": [
    {
     "output_type": "stream",
     "name": "stderr",
     "text": [
      "<ipython-input-32-b004468c9408>:1: SettingWithCopyWarning: \nA value is trying to be set on a copy of a slice from a DataFrame.\nTry using .loc[row_indexer,col_indexer] = value instead\n\nSee the caveats in the documentation: https://pandas.pydata.org/pandas-docs/stable/user_guide/indexing.html#returning-a-view-versus-a-copy\n  df['avg_glucose_level'] = df['avg_glucose_level'].fillna(np.mean(df['avg_glucose_level']))\n"
     ]
    }
   ],
   "source": [
    "df['avg_glucose_level'] = df['avg_glucose_level'].fillna(np.mean(df['avg_glucose_level']))"
   ]
  },
  {
   "cell_type": "code",
   "execution_count": 33,
   "metadata": {},
   "outputs": [
    {
     "output_type": "execute_result",
     "data": {
      "text/plain": [
       "   gender        age  hypertension  heart_disease ever_married work_type  \\\n",
       "0  Female  43.071256           0.0            0.0           No  children   \n",
       "1    Male  55.000000           0.0            0.0          Yes   Private   \n",
       "2  Female  42.000000           0.0            0.0           No   Private   \n",
       "4  Female  38.000000           0.0            0.0          Yes   Private   \n",
       "5  Female  24.000000           0.0            0.0           No   Private   \n",
       "\n",
       "  Residence_type  avg_glucose_level        bmi smoking_status blood  stroke  \\\n",
       "0        Unknown              85.81  18.600000        Unknown     O       0   \n",
       "1          Urban              89.17  31.480000   never smoked     B       0   \n",
       "2        Unknown              98.53  18.500000   never smoked     B       0   \n",
       "4        Unknown              91.44  31.020136        Unknown     O       0   \n",
       "5          Urban              97.55  26.200000   never smoked     B       0   \n",
       "\n",
       "  age_bin  \n",
       "0       3  \n",
       "1       4  \n",
       "2       3  \n",
       "4       3  \n",
       "5       2  "
      ],
      "text/html": "<div>\n<style scoped>\n    .dataframe tbody tr th:only-of-type {\n        vertical-align: middle;\n    }\n\n    .dataframe tbody tr th {\n        vertical-align: top;\n    }\n\n    .dataframe thead th {\n        text-align: right;\n    }\n</style>\n<table border=\"1\" class=\"dataframe\">\n  <thead>\n    <tr style=\"text-align: right;\">\n      <th></th>\n      <th>gender</th>\n      <th>age</th>\n      <th>hypertension</th>\n      <th>heart_disease</th>\n      <th>ever_married</th>\n      <th>work_type</th>\n      <th>Residence_type</th>\n      <th>avg_glucose_level</th>\n      <th>bmi</th>\n      <th>smoking_status</th>\n      <th>blood</th>\n      <th>stroke</th>\n      <th>age_bin</th>\n    </tr>\n  </thead>\n  <tbody>\n    <tr>\n      <th>0</th>\n      <td>Female</td>\n      <td>43.071256</td>\n      <td>0.0</td>\n      <td>0.0</td>\n      <td>No</td>\n      <td>children</td>\n      <td>Unknown</td>\n      <td>85.81</td>\n      <td>18.600000</td>\n      <td>Unknown</td>\n      <td>O</td>\n      <td>0</td>\n      <td>3</td>\n    </tr>\n    <tr>\n      <th>1</th>\n      <td>Male</td>\n      <td>55.000000</td>\n      <td>0.0</td>\n      <td>0.0</td>\n      <td>Yes</td>\n      <td>Private</td>\n      <td>Urban</td>\n      <td>89.17</td>\n      <td>31.480000</td>\n      <td>never smoked</td>\n      <td>B</td>\n      <td>0</td>\n      <td>4</td>\n    </tr>\n    <tr>\n      <th>2</th>\n      <td>Female</td>\n      <td>42.000000</td>\n      <td>0.0</td>\n      <td>0.0</td>\n      <td>No</td>\n      <td>Private</td>\n      <td>Unknown</td>\n      <td>98.53</td>\n      <td>18.500000</td>\n      <td>never smoked</td>\n      <td>B</td>\n      <td>0</td>\n      <td>3</td>\n    </tr>\n    <tr>\n      <th>4</th>\n      <td>Female</td>\n      <td>38.000000</td>\n      <td>0.0</td>\n      <td>0.0</td>\n      <td>Yes</td>\n      <td>Private</td>\n      <td>Unknown</td>\n      <td>91.44</td>\n      <td>31.020136</td>\n      <td>Unknown</td>\n      <td>O</td>\n      <td>0</td>\n      <td>3</td>\n    </tr>\n    <tr>\n      <th>5</th>\n      <td>Female</td>\n      <td>24.000000</td>\n      <td>0.0</td>\n      <td>0.0</td>\n      <td>No</td>\n      <td>Private</td>\n      <td>Urban</td>\n      <td>97.55</td>\n      <td>26.200000</td>\n      <td>never smoked</td>\n      <td>B</td>\n      <td>0</td>\n      <td>2</td>\n    </tr>\n  </tbody>\n</table>\n</div>"
     },
     "metadata": {},
     "execution_count": 33
    }
   ],
   "source": [
    "df.head()"
   ]
  },
  {
   "cell_type": "code",
   "execution_count": 34,
   "metadata": {},
   "outputs": [
    {
     "output_type": "execute_result",
     "data": {
      "text/plain": [
       "                   Total   Percent\n",
       "hypertension         221  0.056536\n",
       "heart_disease         88  0.022512\n",
       "blood                  8  0.002047\n",
       "age_bin                0  0.000000\n",
       "stroke                 0  0.000000\n",
       "smoking_status         0  0.000000\n",
       "bmi                    0  0.000000\n",
       "avg_glucose_level      0  0.000000\n",
       "Residence_type         0  0.000000\n",
       "work_type              0  0.000000\n",
       "ever_married           0  0.000000\n",
       "age                    0  0.000000\n",
       "gender                 0  0.000000"
      ],
      "text/html": "<div>\n<style scoped>\n    .dataframe tbody tr th:only-of-type {\n        vertical-align: middle;\n    }\n\n    .dataframe tbody tr th {\n        vertical-align: top;\n    }\n\n    .dataframe thead th {\n        text-align: right;\n    }\n</style>\n<table border=\"1\" class=\"dataframe\">\n  <thead>\n    <tr style=\"text-align: right;\">\n      <th></th>\n      <th>Total</th>\n      <th>Percent</th>\n    </tr>\n  </thead>\n  <tbody>\n    <tr>\n      <th>hypertension</th>\n      <td>221</td>\n      <td>0.056536</td>\n    </tr>\n    <tr>\n      <th>heart_disease</th>\n      <td>88</td>\n      <td>0.022512</td>\n    </tr>\n    <tr>\n      <th>blood</th>\n      <td>8</td>\n      <td>0.002047</td>\n    </tr>\n    <tr>\n      <th>age_bin</th>\n      <td>0</td>\n      <td>0.000000</td>\n    </tr>\n    <tr>\n      <th>stroke</th>\n      <td>0</td>\n      <td>0.000000</td>\n    </tr>\n    <tr>\n      <th>smoking_status</th>\n      <td>0</td>\n      <td>0.000000</td>\n    </tr>\n    <tr>\n      <th>bmi</th>\n      <td>0</td>\n      <td>0.000000</td>\n    </tr>\n    <tr>\n      <th>avg_glucose_level</th>\n      <td>0</td>\n      <td>0.000000</td>\n    </tr>\n    <tr>\n      <th>Residence_type</th>\n      <td>0</td>\n      <td>0.000000</td>\n    </tr>\n    <tr>\n      <th>work_type</th>\n      <td>0</td>\n      <td>0.000000</td>\n    </tr>\n    <tr>\n      <th>ever_married</th>\n      <td>0</td>\n      <td>0.000000</td>\n    </tr>\n    <tr>\n      <th>age</th>\n      <td>0</td>\n      <td>0.000000</td>\n    </tr>\n    <tr>\n      <th>gender</th>\n      <td>0</td>\n      <td>0.000000</td>\n    </tr>\n  </tbody>\n</table>\n</div>"
     },
     "metadata": {},
     "execution_count": 34
    }
   ],
   "source": [
    "draw_missing_data_table(df)"
   ]
  },
  {
   "source": [
    "## Fill hypertension and blood with the one that has the most value count"
   ],
   "cell_type": "markdown",
   "metadata": {}
  },
  {
   "cell_type": "code",
   "execution_count": 35,
   "metadata": {},
   "outputs": [
    {
     "output_type": "stream",
     "name": "stderr",
     "text": [
      "<ipython-input-35-14d49c328501>:1: SettingWithCopyWarning: \nA value is trying to be set on a copy of a slice from a DataFrame.\nTry using .loc[row_indexer,col_indexer] = value instead\n\nSee the caveats in the documentation: https://pandas.pydata.org/pandas-docs/stable/user_guide/indexing.html#returning-a-view-versus-a-copy\n  df['hypertension'] = df['hypertension'].fillna(0.0)\n<ipython-input-35-14d49c328501>:2: SettingWithCopyWarning: \nA value is trying to be set on a copy of a slice from a DataFrame.\nTry using .loc[row_indexer,col_indexer] = value instead\n\nSee the caveats in the documentation: https://pandas.pydata.org/pandas-docs/stable/user_guide/indexing.html#returning-a-view-versus-a-copy\n  df['hypertension'] = df['hypertension'].astype(int)\n"
     ]
    },
    {
     "output_type": "execute_result",
     "data": {
      "text/plain": [
       "   gender        age  hypertension  heart_disease ever_married work_type  \\\n",
       "0  Female  43.071256             0            0.0           No  children   \n",
       "1    Male  55.000000             0            0.0          Yes   Private   \n",
       "2  Female  42.000000             0            0.0           No   Private   \n",
       "4  Female  38.000000             0            0.0          Yes   Private   \n",
       "5  Female  24.000000             0            0.0           No   Private   \n",
       "\n",
       "  Residence_type  avg_glucose_level        bmi smoking_status blood  stroke  \\\n",
       "0        Unknown              85.81  18.600000        Unknown     O       0   \n",
       "1          Urban              89.17  31.480000   never smoked     B       0   \n",
       "2        Unknown              98.53  18.500000   never smoked     B       0   \n",
       "4        Unknown              91.44  31.020136        Unknown     O       0   \n",
       "5          Urban              97.55  26.200000   never smoked     B       0   \n",
       "\n",
       "  age_bin  \n",
       "0       3  \n",
       "1       4  \n",
       "2       3  \n",
       "4       3  \n",
       "5       2  "
      ],
      "text/html": "<div>\n<style scoped>\n    .dataframe tbody tr th:only-of-type {\n        vertical-align: middle;\n    }\n\n    .dataframe tbody tr th {\n        vertical-align: top;\n    }\n\n    .dataframe thead th {\n        text-align: right;\n    }\n</style>\n<table border=\"1\" class=\"dataframe\">\n  <thead>\n    <tr style=\"text-align: right;\">\n      <th></th>\n      <th>gender</th>\n      <th>age</th>\n      <th>hypertension</th>\n      <th>heart_disease</th>\n      <th>ever_married</th>\n      <th>work_type</th>\n      <th>Residence_type</th>\n      <th>avg_glucose_level</th>\n      <th>bmi</th>\n      <th>smoking_status</th>\n      <th>blood</th>\n      <th>stroke</th>\n      <th>age_bin</th>\n    </tr>\n  </thead>\n  <tbody>\n    <tr>\n      <th>0</th>\n      <td>Female</td>\n      <td>43.071256</td>\n      <td>0</td>\n      <td>0.0</td>\n      <td>No</td>\n      <td>children</td>\n      <td>Unknown</td>\n      <td>85.81</td>\n      <td>18.600000</td>\n      <td>Unknown</td>\n      <td>O</td>\n      <td>0</td>\n      <td>3</td>\n    </tr>\n    <tr>\n      <th>1</th>\n      <td>Male</td>\n      <td>55.000000</td>\n      <td>0</td>\n      <td>0.0</td>\n      <td>Yes</td>\n      <td>Private</td>\n      <td>Urban</td>\n      <td>89.17</td>\n      <td>31.480000</td>\n      <td>never smoked</td>\n      <td>B</td>\n      <td>0</td>\n      <td>4</td>\n    </tr>\n    <tr>\n      <th>2</th>\n      <td>Female</td>\n      <td>42.000000</td>\n      <td>0</td>\n      <td>0.0</td>\n      <td>No</td>\n      <td>Private</td>\n      <td>Unknown</td>\n      <td>98.53</td>\n      <td>18.500000</td>\n      <td>never smoked</td>\n      <td>B</td>\n      <td>0</td>\n      <td>3</td>\n    </tr>\n    <tr>\n      <th>4</th>\n      <td>Female</td>\n      <td>38.000000</td>\n      <td>0</td>\n      <td>0.0</td>\n      <td>Yes</td>\n      <td>Private</td>\n      <td>Unknown</td>\n      <td>91.44</td>\n      <td>31.020136</td>\n      <td>Unknown</td>\n      <td>O</td>\n      <td>0</td>\n      <td>3</td>\n    </tr>\n    <tr>\n      <th>5</th>\n      <td>Female</td>\n      <td>24.000000</td>\n      <td>0</td>\n      <td>0.0</td>\n      <td>No</td>\n      <td>Private</td>\n      <td>Urban</td>\n      <td>97.55</td>\n      <td>26.200000</td>\n      <td>never smoked</td>\n      <td>B</td>\n      <td>0</td>\n      <td>2</td>\n    </tr>\n  </tbody>\n</table>\n</div>"
     },
     "metadata": {},
     "execution_count": 35
    }
   ],
   "source": [
    "df['hypertension'] = df['hypertension'].fillna(0.0)\n",
    "df['hypertension'] = df['hypertension'].astype(int)\n",
    "df.head()"
   ]
  },
  {
   "cell_type": "code",
   "execution_count": 36,
   "metadata": {},
   "outputs": [
    {
     "output_type": "execute_result",
     "data": {
      "text/plain": [
       "                   Total   Percent\n",
       "heart_disease         88  0.022512\n",
       "blood                  8  0.002047\n",
       "age_bin                0  0.000000\n",
       "stroke                 0  0.000000\n",
       "smoking_status         0  0.000000\n",
       "bmi                    0  0.000000\n",
       "avg_glucose_level      0  0.000000\n",
       "Residence_type         0  0.000000\n",
       "work_type              0  0.000000\n",
       "ever_married           0  0.000000\n",
       "hypertension           0  0.000000\n",
       "age                    0  0.000000\n",
       "gender                 0  0.000000"
      ],
      "text/html": "<div>\n<style scoped>\n    .dataframe tbody tr th:only-of-type {\n        vertical-align: middle;\n    }\n\n    .dataframe tbody tr th {\n        vertical-align: top;\n    }\n\n    .dataframe thead th {\n        text-align: right;\n    }\n</style>\n<table border=\"1\" class=\"dataframe\">\n  <thead>\n    <tr style=\"text-align: right;\">\n      <th></th>\n      <th>Total</th>\n      <th>Percent</th>\n    </tr>\n  </thead>\n  <tbody>\n    <tr>\n      <th>heart_disease</th>\n      <td>88</td>\n      <td>0.022512</td>\n    </tr>\n    <tr>\n      <th>blood</th>\n      <td>8</td>\n      <td>0.002047</td>\n    </tr>\n    <tr>\n      <th>age_bin</th>\n      <td>0</td>\n      <td>0.000000</td>\n    </tr>\n    <tr>\n      <th>stroke</th>\n      <td>0</td>\n      <td>0.000000</td>\n    </tr>\n    <tr>\n      <th>smoking_status</th>\n      <td>0</td>\n      <td>0.000000</td>\n    </tr>\n    <tr>\n      <th>bmi</th>\n      <td>0</td>\n      <td>0.000000</td>\n    </tr>\n    <tr>\n      <th>avg_glucose_level</th>\n      <td>0</td>\n      <td>0.000000</td>\n    </tr>\n    <tr>\n      <th>Residence_type</th>\n      <td>0</td>\n      <td>0.000000</td>\n    </tr>\n    <tr>\n      <th>work_type</th>\n      <td>0</td>\n      <td>0.000000</td>\n    </tr>\n    <tr>\n      <th>ever_married</th>\n      <td>0</td>\n      <td>0.000000</td>\n    </tr>\n    <tr>\n      <th>hypertension</th>\n      <td>0</td>\n      <td>0.000000</td>\n    </tr>\n    <tr>\n      <th>age</th>\n      <td>0</td>\n      <td>0.000000</td>\n    </tr>\n    <tr>\n      <th>gender</th>\n      <td>0</td>\n      <td>0.000000</td>\n    </tr>\n  </tbody>\n</table>\n</div>"
     },
     "metadata": {},
     "execution_count": 36
    }
   ],
   "source": [
    "draw_missing_data_table(df)"
   ]
  },
  {
   "cell_type": "code",
   "execution_count": 37,
   "metadata": {},
   "outputs": [
    {
     "output_type": "stream",
     "name": "stderr",
     "text": [
      "<ipython-input-37-4663f1d1a9e6>:1: SettingWithCopyWarning: \nA value is trying to be set on a copy of a slice from a DataFrame.\nTry using .loc[row_indexer,col_indexer] = value instead\n\nSee the caveats in the documentation: https://pandas.pydata.org/pandas-docs/stable/user_guide/indexing.html#returning-a-view-versus-a-copy\n  df['heart_disease'] = df['heart_disease'].fillna(0.0)\n<ipython-input-37-4663f1d1a9e6>:2: SettingWithCopyWarning: \nA value is trying to be set on a copy of a slice from a DataFrame.\nTry using .loc[row_indexer,col_indexer] = value instead\n\nSee the caveats in the documentation: https://pandas.pydata.org/pandas-docs/stable/user_guide/indexing.html#returning-a-view-versus-a-copy\n  df['heart_disease'] = df['heart_disease'].astype(int)\n"
     ]
    },
    {
     "output_type": "execute_result",
     "data": {
      "text/plain": [
       "   gender        age  hypertension  heart_disease ever_married work_type  \\\n",
       "0  Female  43.071256             0              0           No  children   \n",
       "1    Male  55.000000             0              0          Yes   Private   \n",
       "2  Female  42.000000             0              0           No   Private   \n",
       "4  Female  38.000000             0              0          Yes   Private   \n",
       "5  Female  24.000000             0              0           No   Private   \n",
       "\n",
       "  Residence_type  avg_glucose_level        bmi smoking_status blood  stroke  \\\n",
       "0        Unknown              85.81  18.600000        Unknown     O       0   \n",
       "1          Urban              89.17  31.480000   never smoked     B       0   \n",
       "2        Unknown              98.53  18.500000   never smoked     B       0   \n",
       "4        Unknown              91.44  31.020136        Unknown     O       0   \n",
       "5          Urban              97.55  26.200000   never smoked     B       0   \n",
       "\n",
       "  age_bin  \n",
       "0       3  \n",
       "1       4  \n",
       "2       3  \n",
       "4       3  \n",
       "5       2  "
      ],
      "text/html": "<div>\n<style scoped>\n    .dataframe tbody tr th:only-of-type {\n        vertical-align: middle;\n    }\n\n    .dataframe tbody tr th {\n        vertical-align: top;\n    }\n\n    .dataframe thead th {\n        text-align: right;\n    }\n</style>\n<table border=\"1\" class=\"dataframe\">\n  <thead>\n    <tr style=\"text-align: right;\">\n      <th></th>\n      <th>gender</th>\n      <th>age</th>\n      <th>hypertension</th>\n      <th>heart_disease</th>\n      <th>ever_married</th>\n      <th>work_type</th>\n      <th>Residence_type</th>\n      <th>avg_glucose_level</th>\n      <th>bmi</th>\n      <th>smoking_status</th>\n      <th>blood</th>\n      <th>stroke</th>\n      <th>age_bin</th>\n    </tr>\n  </thead>\n  <tbody>\n    <tr>\n      <th>0</th>\n      <td>Female</td>\n      <td>43.071256</td>\n      <td>0</td>\n      <td>0</td>\n      <td>No</td>\n      <td>children</td>\n      <td>Unknown</td>\n      <td>85.81</td>\n      <td>18.600000</td>\n      <td>Unknown</td>\n      <td>O</td>\n      <td>0</td>\n      <td>3</td>\n    </tr>\n    <tr>\n      <th>1</th>\n      <td>Male</td>\n      <td>55.000000</td>\n      <td>0</td>\n      <td>0</td>\n      <td>Yes</td>\n      <td>Private</td>\n      <td>Urban</td>\n      <td>89.17</td>\n      <td>31.480000</td>\n      <td>never smoked</td>\n      <td>B</td>\n      <td>0</td>\n      <td>4</td>\n    </tr>\n    <tr>\n      <th>2</th>\n      <td>Female</td>\n      <td>42.000000</td>\n      <td>0</td>\n      <td>0</td>\n      <td>No</td>\n      <td>Private</td>\n      <td>Unknown</td>\n      <td>98.53</td>\n      <td>18.500000</td>\n      <td>never smoked</td>\n      <td>B</td>\n      <td>0</td>\n      <td>3</td>\n    </tr>\n    <tr>\n      <th>4</th>\n      <td>Female</td>\n      <td>38.000000</td>\n      <td>0</td>\n      <td>0</td>\n      <td>Yes</td>\n      <td>Private</td>\n      <td>Unknown</td>\n      <td>91.44</td>\n      <td>31.020136</td>\n      <td>Unknown</td>\n      <td>O</td>\n      <td>0</td>\n      <td>3</td>\n    </tr>\n    <tr>\n      <th>5</th>\n      <td>Female</td>\n      <td>24.000000</td>\n      <td>0</td>\n      <td>0</td>\n      <td>No</td>\n      <td>Private</td>\n      <td>Urban</td>\n      <td>97.55</td>\n      <td>26.200000</td>\n      <td>never smoked</td>\n      <td>B</td>\n      <td>0</td>\n      <td>2</td>\n    </tr>\n  </tbody>\n</table>\n</div>"
     },
     "metadata": {},
     "execution_count": 37
    }
   ],
   "source": [
    "df['heart_disease'] = df['heart_disease'].fillna(0.0)\n",
    "df['heart_disease'] = df['heart_disease'].astype(int)\n",
    "df.head()"
   ]
  },
  {
   "cell_type": "code",
   "execution_count": 38,
   "metadata": {},
   "outputs": [
    {
     "output_type": "execute_result",
     "data": {
      "text/plain": [
       "                   Total   Percent\n",
       "blood                  8  0.002047\n",
       "age_bin                0  0.000000\n",
       "stroke                 0  0.000000\n",
       "smoking_status         0  0.000000\n",
       "bmi                    0  0.000000\n",
       "avg_glucose_level      0  0.000000\n",
       "Residence_type         0  0.000000\n",
       "work_type              0  0.000000\n",
       "ever_married           0  0.000000\n",
       "heart_disease          0  0.000000\n",
       "hypertension           0  0.000000\n",
       "age                    0  0.000000\n",
       "gender                 0  0.000000"
      ],
      "text/html": "<div>\n<style scoped>\n    .dataframe tbody tr th:only-of-type {\n        vertical-align: middle;\n    }\n\n    .dataframe tbody tr th {\n        vertical-align: top;\n    }\n\n    .dataframe thead th {\n        text-align: right;\n    }\n</style>\n<table border=\"1\" class=\"dataframe\">\n  <thead>\n    <tr style=\"text-align: right;\">\n      <th></th>\n      <th>Total</th>\n      <th>Percent</th>\n    </tr>\n  </thead>\n  <tbody>\n    <tr>\n      <th>blood</th>\n      <td>8</td>\n      <td>0.002047</td>\n    </tr>\n    <tr>\n      <th>age_bin</th>\n      <td>0</td>\n      <td>0.000000</td>\n    </tr>\n    <tr>\n      <th>stroke</th>\n      <td>0</td>\n      <td>0.000000</td>\n    </tr>\n    <tr>\n      <th>smoking_status</th>\n      <td>0</td>\n      <td>0.000000</td>\n    </tr>\n    <tr>\n      <th>bmi</th>\n      <td>0</td>\n      <td>0.000000</td>\n    </tr>\n    <tr>\n      <th>avg_glucose_level</th>\n      <td>0</td>\n      <td>0.000000</td>\n    </tr>\n    <tr>\n      <th>Residence_type</th>\n      <td>0</td>\n      <td>0.000000</td>\n    </tr>\n    <tr>\n      <th>work_type</th>\n      <td>0</td>\n      <td>0.000000</td>\n    </tr>\n    <tr>\n      <th>ever_married</th>\n      <td>0</td>\n      <td>0.000000</td>\n    </tr>\n    <tr>\n      <th>heart_disease</th>\n      <td>0</td>\n      <td>0.000000</td>\n    </tr>\n    <tr>\n      <th>hypertension</th>\n      <td>0</td>\n      <td>0.000000</td>\n    </tr>\n    <tr>\n      <th>age</th>\n      <td>0</td>\n      <td>0.000000</td>\n    </tr>\n    <tr>\n      <th>gender</th>\n      <td>0</td>\n      <td>0.000000</td>\n    </tr>\n  </tbody>\n</table>\n</div>"
     },
     "metadata": {},
     "execution_count": 38
    }
   ],
   "source": [
    "draw_missing_data_table(df)"
   ]
  },
  {
   "cell_type": "code",
   "execution_count": 39,
   "metadata": {},
   "outputs": [
    {
     "output_type": "execute_result",
     "data": {
      "text/plain": [
       "<AxesSubplot:xlabel='blood', ylabel='count'>"
      ]
     },
     "metadata": {},
     "execution_count": 39
    },
    {
     "output_type": "display_data",
     "data": {
      "text/plain": "<Figure size 432x288 with 1 Axes>",
      "image/svg+xml": "<?xml version=\"1.0\" encoding=\"utf-8\" standalone=\"no\"?>\r\n<!DOCTYPE svg PUBLIC \"-//W3C//DTD SVG 1.1//EN\"\r\n  \"http://www.w3.org/Graphics/SVG/1.1/DTD/svg11.dtd\">\r\n<!-- Created with matplotlib (https://matplotlib.org/) -->\r\n<svg height=\"270.851625pt\" version=\"1.1\" viewBox=\"0 0 409.0305 270.851625\" width=\"409.0305pt\" xmlns=\"http://www.w3.org/2000/svg\" xmlns:xlink=\"http://www.w3.org/1999/xlink\">\r\n <metadata>\r\n  <rdf:RDF xmlns:cc=\"http://creativecommons.org/ns#\" xmlns:dc=\"http://purl.org/dc/elements/1.1/\" xmlns:rdf=\"http://www.w3.org/1999/02/22-rdf-syntax-ns#\">\r\n   <cc:Work>\r\n    <dc:type rdf:resource=\"http://purl.org/dc/dcmitype/StillImage\"/>\r\n    <dc:date>2021-05-19T21:35:22.863697</dc:date>\r\n    <dc:format>image/svg+xml</dc:format>\r\n    <dc:creator>\r\n     <cc:Agent>\r\n      <dc:title>Matplotlib v3.3.2, https://matplotlib.org/</dc:title>\r\n     </cc:Agent>\r\n    </dc:creator>\r\n   </cc:Work>\r\n  </rdf:RDF>\r\n </metadata>\r\n <defs>\r\n  <style type=\"text/css\">*{stroke-linecap:butt;stroke-linejoin:round;}</style>\r\n </defs>\r\n <g id=\"figure_1\">\r\n  <g id=\"patch_1\">\r\n   <path d=\"M 0 270.851625 \r\nL 409.0305 270.851625 \r\nL 409.0305 0 \r\nL 0 0 \r\nz\r\n\" style=\"fill:none;\"/>\r\n  </g>\r\n  <g id=\"axes_1\">\r\n   <g id=\"patch_2\">\r\n    <path d=\"M 67.0305 224.64 \r\nL 401.8305 224.64 \r\nL 401.8305 7.2 \r\nL 67.0305 7.2 \r\nz\r\n\" style=\"fill:#ffffff;\"/>\r\n   </g>\r\n   <g id=\"patch_3\">\r\n    <path clip-path=\"url(#p63f0442f61)\" d=\"M 75.4005 224.64 \r\nL 108.8805 224.64 \r\nL 108.8805 133.03113 \r\nL 75.4005 133.03113 \r\nz\r\n\" style=\"fill:#3274a1;\"/>\r\n   </g>\r\n   <g id=\"patch_4\">\r\n    <path clip-path=\"url(#p63f0442f61)\" d=\"M 159.1005 224.64 \r\nL 192.5805 224.64 \r\nL 192.5805 113.302111 \r\nL 159.1005 113.302111 \r\nz\r\n\" style=\"fill:#3274a1;\"/>\r\n   </g>\r\n   <g id=\"patch_5\">\r\n    <path clip-path=\"url(#p63f0442f61)\" d=\"M 242.8005 224.64 \r\nL 276.2805 224.64 \r\nL 276.2805 17.554286 \r\nL 242.8005 17.554286 \r\nz\r\n\" style=\"fill:#3274a1;\"/>\r\n   </g>\r\n   <g id=\"patch_6\">\r\n    <path clip-path=\"url(#p63f0442f61)\" d=\"M 326.5005 224.64 \r\nL 359.9805 224.64 \r\nL 359.9805 113.853972 \r\nL 326.5005 113.853972 \r\nz\r\n\" style=\"fill:#3274a1;\"/>\r\n   </g>\r\n   <g id=\"patch_7\">\r\n    <path clip-path=\"url(#p63f0442f61)\" d=\"M 108.8805 224.64 \r\nL 142.3605 224.64 \r\nL 142.3605 213.602787 \r\nL 108.8805 213.602787 \r\nz\r\n\" style=\"fill:#e1812c;\"/>\r\n   </g>\r\n   <g id=\"patch_8\">\r\n    <path clip-path=\"url(#p63f0442f61)\" d=\"M 192.5805 224.64 \r\nL 226.0605 224.64 \r\nL 226.0605 222.846453 \r\nL 192.5805 222.846453 \r\nz\r\n\" style=\"fill:#e1812c;\"/>\r\n   </g>\r\n   <g id=\"patch_9\">\r\n    <path clip-path=\"url(#p63f0442f61)\" d=\"M 276.2805 224.64 \r\nL 309.7605 224.64 \r\nL 309.7605 222.294592 \r\nL 276.2805 222.294592 \r\nz\r\n\" style=\"fill:#e1812c;\"/>\r\n   </g>\r\n   <g id=\"patch_10\">\r\n    <path clip-path=\"url(#p63f0442f61)\" d=\"M 359.9805 224.64 \r\nL 393.4605 224.64 \r\nL 393.4605 222.432557 \r\nL 359.9805 222.432557 \r\nz\r\n\" style=\"fill:#e1812c;\"/>\r\n   </g>\r\n   <g id=\"matplotlib.axis_1\">\r\n    <g id=\"xtick_1\">\r\n     <g id=\"line2d_1\">\r\n      <defs>\r\n       <path d=\"M 0 0 \r\nL 0 4.8 \r\n\" id=\"m03b40018b5\" style=\"stroke:#000000;\"/>\r\n      </defs>\r\n      <g>\r\n       <use style=\"stroke:#000000;\" x=\"108.8805\" xlink:href=\"#m03b40018b5\" y=\"224.64\"/>\r\n      </g>\r\n     </g>\r\n     <g id=\"text_1\">\r\n      <!-- O -->\r\n      <g transform=\"translate(103.685063 242.969937)scale(0.132 -0.132)\">\r\n       <defs>\r\n        <path d=\"M 39.40625 66.21875 \r\nQ 28.65625 66.21875 22.328125 58.203125 \r\nQ 16.015625 50.203125 16.015625 36.375 \r\nQ 16.015625 22.609375 22.328125 14.59375 \r\nQ 28.65625 6.59375 39.40625 6.59375 \r\nQ 50.140625 6.59375 56.421875 14.59375 \r\nQ 62.703125 22.609375 62.703125 36.375 \r\nQ 62.703125 50.203125 56.421875 58.203125 \r\nQ 50.140625 66.21875 39.40625 66.21875 \r\nz\r\nM 39.40625 74.21875 \r\nQ 54.734375 74.21875 63.90625 63.9375 \r\nQ 73.09375 53.65625 73.09375 36.375 \r\nQ 73.09375 19.140625 63.90625 8.859375 \r\nQ 54.734375 -1.421875 39.40625 -1.421875 \r\nQ 24.03125 -1.421875 14.8125 8.828125 \r\nQ 5.609375 19.09375 5.609375 36.375 \r\nQ 5.609375 53.65625 14.8125 63.9375 \r\nQ 24.03125 74.21875 39.40625 74.21875 \r\nz\r\n\" id=\"DejaVuSans-79\"/>\r\n       </defs>\r\n       <use xlink:href=\"#DejaVuSans-79\"/>\r\n      </g>\r\n     </g>\r\n    </g>\r\n    <g id=\"xtick_2\">\r\n     <g id=\"line2d_2\">\r\n      <g>\r\n       <use style=\"stroke:#000000;\" x=\"192.5805\" xlink:href=\"#m03b40018b5\" y=\"224.64\"/>\r\n      </g>\r\n     </g>\r\n     <g id=\"text_2\">\r\n      <!-- B -->\r\n      <g transform=\"translate(188.052281 242.969937)scale(0.132 -0.132)\">\r\n       <defs>\r\n        <path d=\"M 19.671875 34.8125 \r\nL 19.671875 8.109375 \r\nL 35.5 8.109375 \r\nQ 43.453125 8.109375 47.28125 11.40625 \r\nQ 51.125 14.703125 51.125 21.484375 \r\nQ 51.125 28.328125 47.28125 31.5625 \r\nQ 43.453125 34.8125 35.5 34.8125 \r\nz\r\nM 19.671875 64.796875 \r\nL 19.671875 42.828125 \r\nL 34.28125 42.828125 \r\nQ 41.5 42.828125 45.03125 45.53125 \r\nQ 48.578125 48.25 48.578125 53.8125 \r\nQ 48.578125 59.328125 45.03125 62.0625 \r\nQ 41.5 64.796875 34.28125 64.796875 \r\nz\r\nM 9.8125 72.90625 \r\nL 35.015625 72.90625 \r\nQ 46.296875 72.90625 52.390625 68.21875 \r\nQ 58.5 63.53125 58.5 54.890625 \r\nQ 58.5 48.1875 55.375 44.234375 \r\nQ 52.25 40.28125 46.1875 39.3125 \r\nQ 53.46875 37.75 57.5 32.78125 \r\nQ 61.53125 27.828125 61.53125 20.40625 \r\nQ 61.53125 10.640625 54.890625 5.3125 \r\nQ 48.25 0 35.984375 0 \r\nL 9.8125 0 \r\nz\r\n\" id=\"DejaVuSans-66\"/>\r\n       </defs>\r\n       <use xlink:href=\"#DejaVuSans-66\"/>\r\n      </g>\r\n     </g>\r\n    </g>\r\n    <g id=\"xtick_3\">\r\n     <g id=\"line2d_3\">\r\n      <g>\r\n       <use style=\"stroke:#000000;\" x=\"276.2805\" xlink:href=\"#m03b40018b5\" y=\"224.64\"/>\r\n      </g>\r\n     </g>\r\n     <g id=\"text_3\">\r\n      <!-- AB -->\r\n      <g transform=\"translate(267.237469 242.969937)scale(0.132 -0.132)\">\r\n       <defs>\r\n        <path d=\"M 34.1875 63.1875 \r\nL 20.796875 26.90625 \r\nL 47.609375 26.90625 \r\nz\r\nM 28.609375 72.90625 \r\nL 39.796875 72.90625 \r\nL 67.578125 0 \r\nL 57.328125 0 \r\nL 50.6875 18.703125 \r\nL 17.828125 18.703125 \r\nL 11.1875 0 \r\nL 0.78125 0 \r\nz\r\n\" id=\"DejaVuSans-65\"/>\r\n       </defs>\r\n       <use xlink:href=\"#DejaVuSans-65\"/>\r\n       <use x=\"68.408203\" xlink:href=\"#DejaVuSans-66\"/>\r\n      </g>\r\n     </g>\r\n    </g>\r\n    <g id=\"xtick_4\">\r\n     <g id=\"line2d_4\">\r\n      <g>\r\n       <use style=\"stroke:#000000;\" x=\"359.9805\" xlink:href=\"#m03b40018b5\" y=\"224.64\"/>\r\n      </g>\r\n     </g>\r\n     <g id=\"text_4\">\r\n      <!-- A -->\r\n      <g transform=\"translate(355.465688 242.969937)scale(0.132 -0.132)\">\r\n       <use xlink:href=\"#DejaVuSans-65\"/>\r\n      </g>\r\n     </g>\r\n    </g>\r\n    <g id=\"text_5\">\r\n     <!-- blood -->\r\n     <g transform=\"translate(214.4775 260.656875)scale(0.144 -0.144)\">\r\n      <defs>\r\n       <path d=\"M 48.6875 27.296875 \r\nQ 48.6875 37.203125 44.609375 42.84375 \r\nQ 40.53125 48.484375 33.40625 48.484375 \r\nQ 26.265625 48.484375 22.1875 42.84375 \r\nQ 18.109375 37.203125 18.109375 27.296875 \r\nQ 18.109375 17.390625 22.1875 11.75 \r\nQ 26.265625 6.109375 33.40625 6.109375 \r\nQ 40.53125 6.109375 44.609375 11.75 \r\nQ 48.6875 17.390625 48.6875 27.296875 \r\nz\r\nM 18.109375 46.390625 \r\nQ 20.953125 51.265625 25.265625 53.625 \r\nQ 29.59375 56 35.59375 56 \r\nQ 45.5625 56 51.78125 48.09375 \r\nQ 58.015625 40.1875 58.015625 27.296875 \r\nQ 58.015625 14.40625 51.78125 6.484375 \r\nQ 45.5625 -1.421875 35.59375 -1.421875 \r\nQ 29.59375 -1.421875 25.265625 0.953125 \r\nQ 20.953125 3.328125 18.109375 8.203125 \r\nL 18.109375 0 \r\nL 9.078125 0 \r\nL 9.078125 75.984375 \r\nL 18.109375 75.984375 \r\nz\r\n\" id=\"DejaVuSans-98\"/>\r\n       <path d=\"M 9.421875 75.984375 \r\nL 18.40625 75.984375 \r\nL 18.40625 0 \r\nL 9.421875 0 \r\nz\r\n\" id=\"DejaVuSans-108\"/>\r\n       <path d=\"M 30.609375 48.390625 \r\nQ 23.390625 48.390625 19.1875 42.75 \r\nQ 14.984375 37.109375 14.984375 27.296875 \r\nQ 14.984375 17.484375 19.15625 11.84375 \r\nQ 23.34375 6.203125 30.609375 6.203125 \r\nQ 37.796875 6.203125 41.984375 11.859375 \r\nQ 46.1875 17.53125 46.1875 27.296875 \r\nQ 46.1875 37.015625 41.984375 42.703125 \r\nQ 37.796875 48.390625 30.609375 48.390625 \r\nz\r\nM 30.609375 56 \r\nQ 42.328125 56 49.015625 48.375 \r\nQ 55.71875 40.765625 55.71875 27.296875 \r\nQ 55.71875 13.875 49.015625 6.21875 \r\nQ 42.328125 -1.421875 30.609375 -1.421875 \r\nQ 18.84375 -1.421875 12.171875 6.21875 \r\nQ 5.515625 13.875 5.515625 27.296875 \r\nQ 5.515625 40.765625 12.171875 48.375 \r\nQ 18.84375 56 30.609375 56 \r\nz\r\n\" id=\"DejaVuSans-111\"/>\r\n       <path d=\"M 45.40625 46.390625 \r\nL 45.40625 75.984375 \r\nL 54.390625 75.984375 \r\nL 54.390625 0 \r\nL 45.40625 0 \r\nL 45.40625 8.203125 \r\nQ 42.578125 3.328125 38.25 0.953125 \r\nQ 33.9375 -1.421875 27.875 -1.421875 \r\nQ 17.96875 -1.421875 11.734375 6.484375 \r\nQ 5.515625 14.40625 5.515625 27.296875 \r\nQ 5.515625 40.1875 11.734375 48.09375 \r\nQ 17.96875 56 27.875 56 \r\nQ 33.9375 56 38.25 53.625 \r\nQ 42.578125 51.265625 45.40625 46.390625 \r\nz\r\nM 14.796875 27.296875 \r\nQ 14.796875 17.390625 18.875 11.75 \r\nQ 22.953125 6.109375 30.078125 6.109375 \r\nQ 37.203125 6.109375 41.296875 11.75 \r\nQ 45.40625 17.390625 45.40625 27.296875 \r\nQ 45.40625 37.203125 41.296875 42.84375 \r\nQ 37.203125 48.484375 30.078125 48.484375 \r\nQ 22.953125 48.484375 18.875 42.84375 \r\nQ 14.796875 37.203125 14.796875 27.296875 \r\nz\r\n\" id=\"DejaVuSans-100\"/>\r\n      </defs>\r\n      <use xlink:href=\"#DejaVuSans-98\"/>\r\n      <use x=\"63.476562\" xlink:href=\"#DejaVuSans-108\"/>\r\n      <use x=\"91.259766\" xlink:href=\"#DejaVuSans-111\"/>\r\n      <use x=\"152.441406\" xlink:href=\"#DejaVuSans-111\"/>\r\n      <use x=\"213.623047\" xlink:href=\"#DejaVuSans-100\"/>\r\n     </g>\r\n    </g>\r\n   </g>\r\n   <g id=\"matplotlib.axis_2\">\r\n    <g id=\"ytick_1\">\r\n     <g id=\"line2d_5\">\r\n      <defs>\r\n       <path d=\"M 0 0 \r\nL -4.8 0 \r\n\" id=\"me89f8d3980\" style=\"stroke:#000000;\"/>\r\n      </defs>\r\n      <g>\r\n       <use style=\"stroke:#000000;\" x=\"67.0305\" xlink:href=\"#me89f8d3980\" y=\"224.64\"/>\r\n      </g>\r\n     </g>\r\n     <g id=\"text_6\">\r\n      <!-- 0 -->\r\n      <g transform=\"translate(50.332 229.654969)scale(0.132 -0.132)\">\r\n       <defs>\r\n        <path d=\"M 31.78125 66.40625 \r\nQ 24.171875 66.40625 20.328125 58.90625 \r\nQ 16.5 51.421875 16.5 36.375 \r\nQ 16.5 21.390625 20.328125 13.890625 \r\nQ 24.171875 6.390625 31.78125 6.390625 \r\nQ 39.453125 6.390625 43.28125 13.890625 \r\nQ 47.125 21.390625 47.125 36.375 \r\nQ 47.125 51.421875 43.28125 58.90625 \r\nQ 39.453125 66.40625 31.78125 66.40625 \r\nz\r\nM 31.78125 74.21875 \r\nQ 44.046875 74.21875 50.515625 64.515625 \r\nQ 56.984375 54.828125 56.984375 36.375 \r\nQ 56.984375 17.96875 50.515625 8.265625 \r\nQ 44.046875 -1.421875 31.78125 -1.421875 \r\nQ 19.53125 -1.421875 13.0625 8.265625 \r\nQ 6.59375 17.96875 6.59375 36.375 \r\nQ 6.59375 54.828125 13.0625 64.515625 \r\nQ 19.53125 74.21875 31.78125 74.21875 \r\nz\r\n\" id=\"DejaVuSans-48\"/>\r\n       </defs>\r\n       <use xlink:href=\"#DejaVuSans-48\"/>\r\n      </g>\r\n     </g>\r\n    </g>\r\n    <g id=\"ytick_2\">\r\n     <g id=\"line2d_6\">\r\n      <g>\r\n       <use style=\"stroke:#000000;\" x=\"67.0305\" xlink:href=\"#me89f8d3980\" y=\"197.046967\"/>\r\n      </g>\r\n     </g>\r\n     <g id=\"text_7\">\r\n      <!-- 200 -->\r\n      <g transform=\"translate(33.535 202.061936)scale(0.132 -0.132)\">\r\n       <defs>\r\n        <path d=\"M 19.1875 8.296875 \r\nL 53.609375 8.296875 \r\nL 53.609375 0 \r\nL 7.328125 0 \r\nL 7.328125 8.296875 \r\nQ 12.9375 14.109375 22.625 23.890625 \r\nQ 32.328125 33.6875 34.8125 36.53125 \r\nQ 39.546875 41.84375 41.421875 45.53125 \r\nQ 43.3125 49.21875 43.3125 52.78125 \r\nQ 43.3125 58.59375 39.234375 62.25 \r\nQ 35.15625 65.921875 28.609375 65.921875 \r\nQ 23.96875 65.921875 18.8125 64.3125 \r\nQ 13.671875 62.703125 7.8125 59.421875 \r\nL 7.8125 69.390625 \r\nQ 13.765625 71.78125 18.9375 73 \r\nQ 24.125 74.21875 28.421875 74.21875 \r\nQ 39.75 74.21875 46.484375 68.546875 \r\nQ 53.21875 62.890625 53.21875 53.421875 \r\nQ 53.21875 48.921875 51.53125 44.890625 \r\nQ 49.859375 40.875 45.40625 35.40625 \r\nQ 44.1875 33.984375 37.640625 27.21875 \r\nQ 31.109375 20.453125 19.1875 8.296875 \r\nz\r\n\" id=\"DejaVuSans-50\"/>\r\n       </defs>\r\n       <use xlink:href=\"#DejaVuSans-50\"/>\r\n       <use x=\"63.623047\" xlink:href=\"#DejaVuSans-48\"/>\r\n       <use x=\"127.246094\" xlink:href=\"#DejaVuSans-48\"/>\r\n      </g>\r\n     </g>\r\n    </g>\r\n    <g id=\"ytick_3\">\r\n     <g id=\"line2d_7\">\r\n      <g>\r\n       <use style=\"stroke:#000000;\" x=\"67.0305\" xlink:href=\"#me89f8d3980\" y=\"169.453934\"/>\r\n      </g>\r\n     </g>\r\n     <g id=\"text_8\">\r\n      <!-- 400 -->\r\n      <g transform=\"translate(33.535 174.468902)scale(0.132 -0.132)\">\r\n       <defs>\r\n        <path d=\"M 37.796875 64.3125 \r\nL 12.890625 25.390625 \r\nL 37.796875 25.390625 \r\nz\r\nM 35.203125 72.90625 \r\nL 47.609375 72.90625 \r\nL 47.609375 25.390625 \r\nL 58.015625 25.390625 \r\nL 58.015625 17.1875 \r\nL 47.609375 17.1875 \r\nL 47.609375 0 \r\nL 37.796875 0 \r\nL 37.796875 17.1875 \r\nL 4.890625 17.1875 \r\nL 4.890625 26.703125 \r\nz\r\n\" id=\"DejaVuSans-52\"/>\r\n       </defs>\r\n       <use xlink:href=\"#DejaVuSans-52\"/>\r\n       <use x=\"63.623047\" xlink:href=\"#DejaVuSans-48\"/>\r\n       <use x=\"127.246094\" xlink:href=\"#DejaVuSans-48\"/>\r\n      </g>\r\n     </g>\r\n    </g>\r\n    <g id=\"ytick_4\">\r\n     <g id=\"line2d_8\">\r\n      <g>\r\n       <use style=\"stroke:#000000;\" x=\"67.0305\" xlink:href=\"#me89f8d3980\" y=\"141.8609\"/>\r\n      </g>\r\n     </g>\r\n     <g id=\"text_9\">\r\n      <!-- 600 -->\r\n      <g transform=\"translate(33.535 146.875869)scale(0.132 -0.132)\">\r\n       <defs>\r\n        <path d=\"M 33.015625 40.375 \r\nQ 26.375 40.375 22.484375 35.828125 \r\nQ 18.609375 31.296875 18.609375 23.390625 \r\nQ 18.609375 15.53125 22.484375 10.953125 \r\nQ 26.375 6.390625 33.015625 6.390625 \r\nQ 39.65625 6.390625 43.53125 10.953125 \r\nQ 47.40625 15.53125 47.40625 23.390625 \r\nQ 47.40625 31.296875 43.53125 35.828125 \r\nQ 39.65625 40.375 33.015625 40.375 \r\nz\r\nM 52.59375 71.296875 \r\nL 52.59375 62.3125 \r\nQ 48.875 64.0625 45.09375 64.984375 \r\nQ 41.3125 65.921875 37.59375 65.921875 \r\nQ 27.828125 65.921875 22.671875 59.328125 \r\nQ 17.53125 52.734375 16.796875 39.40625 \r\nQ 19.671875 43.65625 24.015625 45.921875 \r\nQ 28.375 48.1875 33.59375 48.1875 \r\nQ 44.578125 48.1875 50.953125 41.515625 \r\nQ 57.328125 34.859375 57.328125 23.390625 \r\nQ 57.328125 12.15625 50.6875 5.359375 \r\nQ 44.046875 -1.421875 33.015625 -1.421875 \r\nQ 20.359375 -1.421875 13.671875 8.265625 \r\nQ 6.984375 17.96875 6.984375 36.375 \r\nQ 6.984375 53.65625 15.1875 63.9375 \r\nQ 23.390625 74.21875 37.203125 74.21875 \r\nQ 40.921875 74.21875 44.703125 73.484375 \r\nQ 48.484375 72.75 52.59375 71.296875 \r\nz\r\n\" id=\"DejaVuSans-54\"/>\r\n       </defs>\r\n       <use xlink:href=\"#DejaVuSans-54\"/>\r\n       <use x=\"63.623047\" xlink:href=\"#DejaVuSans-48\"/>\r\n       <use x=\"127.246094\" xlink:href=\"#DejaVuSans-48\"/>\r\n      </g>\r\n     </g>\r\n    </g>\r\n    <g id=\"ytick_5\">\r\n     <g id=\"line2d_9\">\r\n      <g>\r\n       <use style=\"stroke:#000000;\" x=\"67.0305\" xlink:href=\"#me89f8d3980\" y=\"114.267867\"/>\r\n      </g>\r\n     </g>\r\n     <g id=\"text_10\">\r\n      <!-- 800 -->\r\n      <g transform=\"translate(33.535 119.282836)scale(0.132 -0.132)\">\r\n       <defs>\r\n        <path d=\"M 31.78125 34.625 \r\nQ 24.75 34.625 20.71875 30.859375 \r\nQ 16.703125 27.09375 16.703125 20.515625 \r\nQ 16.703125 13.921875 20.71875 10.15625 \r\nQ 24.75 6.390625 31.78125 6.390625 \r\nQ 38.8125 6.390625 42.859375 10.171875 \r\nQ 46.921875 13.96875 46.921875 20.515625 \r\nQ 46.921875 27.09375 42.890625 30.859375 \r\nQ 38.875 34.625 31.78125 34.625 \r\nz\r\nM 21.921875 38.8125 \r\nQ 15.578125 40.375 12.03125 44.71875 \r\nQ 8.5 49.078125 8.5 55.328125 \r\nQ 8.5 64.0625 14.71875 69.140625 \r\nQ 20.953125 74.21875 31.78125 74.21875 \r\nQ 42.671875 74.21875 48.875 69.140625 \r\nQ 55.078125 64.0625 55.078125 55.328125 \r\nQ 55.078125 49.078125 51.53125 44.71875 \r\nQ 48 40.375 41.703125 38.8125 \r\nQ 48.828125 37.15625 52.796875 32.3125 \r\nQ 56.78125 27.484375 56.78125 20.515625 \r\nQ 56.78125 9.90625 50.3125 4.234375 \r\nQ 43.84375 -1.421875 31.78125 -1.421875 \r\nQ 19.734375 -1.421875 13.25 4.234375 \r\nQ 6.78125 9.90625 6.78125 20.515625 \r\nQ 6.78125 27.484375 10.78125 32.3125 \r\nQ 14.796875 37.15625 21.921875 38.8125 \r\nz\r\nM 18.3125 54.390625 \r\nQ 18.3125 48.734375 21.84375 45.5625 \r\nQ 25.390625 42.390625 31.78125 42.390625 \r\nQ 38.140625 42.390625 41.71875 45.5625 \r\nQ 45.3125 48.734375 45.3125 54.390625 \r\nQ 45.3125 60.0625 41.71875 63.234375 \r\nQ 38.140625 66.40625 31.78125 66.40625 \r\nQ 25.390625 66.40625 21.84375 63.234375 \r\nQ 18.3125 60.0625 18.3125 54.390625 \r\nz\r\n\" id=\"DejaVuSans-56\"/>\r\n       </defs>\r\n       <use xlink:href=\"#DejaVuSans-56\"/>\r\n       <use x=\"63.623047\" xlink:href=\"#DejaVuSans-48\"/>\r\n       <use x=\"127.246094\" xlink:href=\"#DejaVuSans-48\"/>\r\n      </g>\r\n     </g>\r\n    </g>\r\n    <g id=\"ytick_6\">\r\n     <g id=\"line2d_10\">\r\n      <g>\r\n       <use style=\"stroke:#000000;\" x=\"67.0305\" xlink:href=\"#me89f8d3980\" y=\"86.674834\"/>\r\n      </g>\r\n     </g>\r\n     <g id=\"text_11\">\r\n      <!-- 1000 -->\r\n      <g transform=\"translate(25.1365 91.689803)scale(0.132 -0.132)\">\r\n       <defs>\r\n        <path d=\"M 12.40625 8.296875 \r\nL 28.515625 8.296875 \r\nL 28.515625 63.921875 \r\nL 10.984375 60.40625 \r\nL 10.984375 69.390625 \r\nL 28.421875 72.90625 \r\nL 38.28125 72.90625 \r\nL 38.28125 8.296875 \r\nL 54.390625 8.296875 \r\nL 54.390625 0 \r\nL 12.40625 0 \r\nz\r\n\" id=\"DejaVuSans-49\"/>\r\n       </defs>\r\n       <use xlink:href=\"#DejaVuSans-49\"/>\r\n       <use x=\"63.623047\" xlink:href=\"#DejaVuSans-48\"/>\r\n       <use x=\"127.246094\" xlink:href=\"#DejaVuSans-48\"/>\r\n       <use x=\"190.869141\" xlink:href=\"#DejaVuSans-48\"/>\r\n      </g>\r\n     </g>\r\n    </g>\r\n    <g id=\"ytick_7\">\r\n     <g id=\"line2d_11\">\r\n      <g>\r\n       <use style=\"stroke:#000000;\" x=\"67.0305\" xlink:href=\"#me89f8d3980\" y=\"59.081801\"/>\r\n      </g>\r\n     </g>\r\n     <g id=\"text_12\">\r\n      <!-- 1200 -->\r\n      <g transform=\"translate(25.1365 64.096769)scale(0.132 -0.132)\">\r\n       <use xlink:href=\"#DejaVuSans-49\"/>\r\n       <use x=\"63.623047\" xlink:href=\"#DejaVuSans-50\"/>\r\n       <use x=\"127.246094\" xlink:href=\"#DejaVuSans-48\"/>\r\n       <use x=\"190.869141\" xlink:href=\"#DejaVuSans-48\"/>\r\n      </g>\r\n     </g>\r\n    </g>\r\n    <g id=\"ytick_8\">\r\n     <g id=\"line2d_12\">\r\n      <g>\r\n       <use style=\"stroke:#000000;\" x=\"67.0305\" xlink:href=\"#me89f8d3980\" y=\"31.488767\"/>\r\n      </g>\r\n     </g>\r\n     <g id=\"text_13\">\r\n      <!-- 1400 -->\r\n      <g transform=\"translate(25.1365 36.503736)scale(0.132 -0.132)\">\r\n       <use xlink:href=\"#DejaVuSans-49\"/>\r\n       <use x=\"63.623047\" xlink:href=\"#DejaVuSans-52\"/>\r\n       <use x=\"127.246094\" xlink:href=\"#DejaVuSans-48\"/>\r\n       <use x=\"190.869141\" xlink:href=\"#DejaVuSans-48\"/>\r\n      </g>\r\n     </g>\r\n    </g>\r\n    <g id=\"text_14\">\r\n     <!-- count -->\r\n     <g transform=\"translate(18.14175 136.233)rotate(-90)scale(0.144 -0.144)\">\r\n      <defs>\r\n       <path d=\"M 48.78125 52.59375 \r\nL 48.78125 44.1875 \r\nQ 44.96875 46.296875 41.140625 47.34375 \r\nQ 37.3125 48.390625 33.40625 48.390625 \r\nQ 24.65625 48.390625 19.8125 42.84375 \r\nQ 14.984375 37.3125 14.984375 27.296875 \r\nQ 14.984375 17.28125 19.8125 11.734375 \r\nQ 24.65625 6.203125 33.40625 6.203125 \r\nQ 37.3125 6.203125 41.140625 7.25 \r\nQ 44.96875 8.296875 48.78125 10.40625 \r\nL 48.78125 2.09375 \r\nQ 45.015625 0.34375 40.984375 -0.53125 \r\nQ 36.96875 -1.421875 32.421875 -1.421875 \r\nQ 20.0625 -1.421875 12.78125 6.34375 \r\nQ 5.515625 14.109375 5.515625 27.296875 \r\nQ 5.515625 40.671875 12.859375 48.328125 \r\nQ 20.21875 56 33.015625 56 \r\nQ 37.15625 56 41.109375 55.140625 \r\nQ 45.0625 54.296875 48.78125 52.59375 \r\nz\r\n\" id=\"DejaVuSans-99\"/>\r\n       <path d=\"M 8.5 21.578125 \r\nL 8.5 54.6875 \r\nL 17.484375 54.6875 \r\nL 17.484375 21.921875 \r\nQ 17.484375 14.15625 20.5 10.265625 \r\nQ 23.53125 6.390625 29.59375 6.390625 \r\nQ 36.859375 6.390625 41.078125 11.03125 \r\nQ 45.3125 15.671875 45.3125 23.6875 \r\nL 45.3125 54.6875 \r\nL 54.296875 54.6875 \r\nL 54.296875 0 \r\nL 45.3125 0 \r\nL 45.3125 8.40625 \r\nQ 42.046875 3.421875 37.71875 1 \r\nQ 33.40625 -1.421875 27.6875 -1.421875 \r\nQ 18.265625 -1.421875 13.375 4.4375 \r\nQ 8.5 10.296875 8.5 21.578125 \r\nz\r\nM 31.109375 56 \r\nz\r\n\" id=\"DejaVuSans-117\"/>\r\n       <path d=\"M 54.890625 33.015625 \r\nL 54.890625 0 \r\nL 45.90625 0 \r\nL 45.90625 32.71875 \r\nQ 45.90625 40.484375 42.875 44.328125 \r\nQ 39.84375 48.1875 33.796875 48.1875 \r\nQ 26.515625 48.1875 22.3125 43.546875 \r\nQ 18.109375 38.921875 18.109375 30.90625 \r\nL 18.109375 0 \r\nL 9.078125 0 \r\nL 9.078125 54.6875 \r\nL 18.109375 54.6875 \r\nL 18.109375 46.1875 \r\nQ 21.34375 51.125 25.703125 53.5625 \r\nQ 30.078125 56 35.796875 56 \r\nQ 45.21875 56 50.046875 50.171875 \r\nQ 54.890625 44.34375 54.890625 33.015625 \r\nz\r\n\" id=\"DejaVuSans-110\"/>\r\n       <path d=\"M 18.3125 70.21875 \r\nL 18.3125 54.6875 \r\nL 36.8125 54.6875 \r\nL 36.8125 47.703125 \r\nL 18.3125 47.703125 \r\nL 18.3125 18.015625 \r\nQ 18.3125 11.328125 20.140625 9.421875 \r\nQ 21.96875 7.515625 27.59375 7.515625 \r\nL 36.8125 7.515625 \r\nL 36.8125 0 \r\nL 27.59375 0 \r\nQ 17.1875 0 13.234375 3.875 \r\nQ 9.28125 7.765625 9.28125 18.015625 \r\nL 9.28125 47.703125 \r\nL 2.6875 47.703125 \r\nL 2.6875 54.6875 \r\nL 9.28125 54.6875 \r\nL 9.28125 70.21875 \r\nz\r\n\" id=\"DejaVuSans-116\"/>\r\n      </defs>\r\n      <use xlink:href=\"#DejaVuSans-99\"/>\r\n      <use x=\"54.980469\" xlink:href=\"#DejaVuSans-111\"/>\r\n      <use x=\"116.162109\" xlink:href=\"#DejaVuSans-117\"/>\r\n      <use x=\"179.541016\" xlink:href=\"#DejaVuSans-110\"/>\r\n      <use x=\"242.919922\" xlink:href=\"#DejaVuSans-116\"/>\r\n     </g>\r\n    </g>\r\n   </g>\r\n   <g id=\"patch_11\">\r\n    <path d=\"M 67.0305 224.64 \r\nL 67.0305 7.2 \r\n\" style=\"fill:none;stroke:#000000;stroke-linecap:square;stroke-linejoin:miter;\"/>\r\n   </g>\r\n   <g id=\"patch_12\">\r\n    <path d=\"M 401.8305 224.64 \r\nL 401.8305 7.2 \r\n\" style=\"fill:none;stroke:#000000;stroke-linecap:square;stroke-linejoin:miter;\"/>\r\n   </g>\r\n   <g id=\"patch_13\">\r\n    <path d=\"M 67.0305 224.64 \r\nL 401.8305 224.64 \r\n\" style=\"fill:none;stroke:#000000;stroke-linecap:square;stroke-linejoin:miter;\"/>\r\n   </g>\r\n   <g id=\"patch_14\">\r\n    <path d=\"M 67.0305 7.2 \r\nL 401.8305 7.2 \r\n\" style=\"fill:none;stroke:#000000;stroke-linecap:square;stroke-linejoin:miter;\"/>\r\n   </g>\r\n   <g id=\"legend_1\">\r\n    <g id=\"patch_15\">\r\n     <path d=\"M 341.952 77.04675 \r\nL 392.5905 77.04675 \r\nQ 395.2305 77.04675 395.2305 74.40675 \r\nL 395.2305 16.44 \r\nQ 395.2305 13.8 392.5905 13.8 \r\nL 341.952 13.8 \r\nQ 339.312 13.8 339.312 16.44 \r\nL 339.312 74.40675 \r\nQ 339.312 77.04675 341.952 77.04675 \r\nz\r\n\" style=\"fill:#ffffff;opacity:0.8;stroke:#cccccc;stroke-linejoin:miter;stroke-width:0.8;\"/>\r\n    </g>\r\n    <g id=\"text_15\">\r\n     <!-- stroke -->\r\n     <g transform=\"translate(345.156 30.02175)scale(0.144 -0.144)\">\r\n      <defs>\r\n       <path d=\"M 44.28125 53.078125 \r\nL 44.28125 44.578125 \r\nQ 40.484375 46.53125 36.375 47.5 \r\nQ 32.28125 48.484375 27.875 48.484375 \r\nQ 21.1875 48.484375 17.84375 46.4375 \r\nQ 14.5 44.390625 14.5 40.28125 \r\nQ 14.5 37.15625 16.890625 35.375 \r\nQ 19.28125 33.59375 26.515625 31.984375 \r\nL 29.59375 31.296875 \r\nQ 39.15625 29.25 43.1875 25.515625 \r\nQ 47.21875 21.78125 47.21875 15.09375 \r\nQ 47.21875 7.46875 41.1875 3.015625 \r\nQ 35.15625 -1.421875 24.609375 -1.421875 \r\nQ 20.21875 -1.421875 15.453125 -0.5625 \r\nQ 10.6875 0.296875 5.421875 2 \r\nL 5.421875 11.28125 \r\nQ 10.40625 8.6875 15.234375 7.390625 \r\nQ 20.0625 6.109375 24.8125 6.109375 \r\nQ 31.15625 6.109375 34.5625 8.28125 \r\nQ 37.984375 10.453125 37.984375 14.40625 \r\nQ 37.984375 18.0625 35.515625 20.015625 \r\nQ 33.0625 21.96875 24.703125 23.78125 \r\nL 21.578125 24.515625 \r\nQ 13.234375 26.265625 9.515625 29.90625 \r\nQ 5.8125 33.546875 5.8125 39.890625 \r\nQ 5.8125 47.609375 11.28125 51.796875 \r\nQ 16.75 56 26.8125 56 \r\nQ 31.78125 56 36.171875 55.265625 \r\nQ 40.578125 54.546875 44.28125 53.078125 \r\nz\r\n\" id=\"DejaVuSans-115\"/>\r\n       <path d=\"M 41.109375 46.296875 \r\nQ 39.59375 47.171875 37.8125 47.578125 \r\nQ 36.03125 48 33.890625 48 \r\nQ 26.265625 48 22.1875 43.046875 \r\nQ 18.109375 38.09375 18.109375 28.8125 \r\nL 18.109375 0 \r\nL 9.078125 0 \r\nL 9.078125 54.6875 \r\nL 18.109375 54.6875 \r\nL 18.109375 46.1875 \r\nQ 20.953125 51.171875 25.484375 53.578125 \r\nQ 30.03125 56 36.53125 56 \r\nQ 37.453125 56 38.578125 55.875 \r\nQ 39.703125 55.765625 41.0625 55.515625 \r\nz\r\n\" id=\"DejaVuSans-114\"/>\r\n       <path d=\"M 9.078125 75.984375 \r\nL 18.109375 75.984375 \r\nL 18.109375 31.109375 \r\nL 44.921875 54.6875 \r\nL 56.390625 54.6875 \r\nL 27.390625 29.109375 \r\nL 57.625 0 \r\nL 45.90625 0 \r\nL 18.109375 26.703125 \r\nL 18.109375 0 \r\nL 9.078125 0 \r\nz\r\n\" id=\"DejaVuSans-107\"/>\r\n       <path d=\"M 56.203125 29.59375 \r\nL 56.203125 25.203125 \r\nL 14.890625 25.203125 \r\nQ 15.484375 15.921875 20.484375 11.0625 \r\nQ 25.484375 6.203125 34.421875 6.203125 \r\nQ 39.59375 6.203125 44.453125 7.46875 \r\nQ 49.3125 8.734375 54.109375 11.28125 \r\nL 54.109375 2.78125 \r\nQ 49.265625 0.734375 44.1875 -0.34375 \r\nQ 39.109375 -1.421875 33.890625 -1.421875 \r\nQ 20.796875 -1.421875 13.15625 6.1875 \r\nQ 5.515625 13.8125 5.515625 26.8125 \r\nQ 5.515625 40.234375 12.765625 48.109375 \r\nQ 20.015625 56 32.328125 56 \r\nQ 43.359375 56 49.78125 48.890625 \r\nQ 56.203125 41.796875 56.203125 29.59375 \r\nz\r\nM 47.21875 32.234375 \r\nQ 47.125 39.59375 43.09375 43.984375 \r\nQ 39.0625 48.390625 32.421875 48.390625 \r\nQ 24.90625 48.390625 20.390625 44.140625 \r\nQ 15.875 39.890625 15.1875 32.171875 \r\nz\r\n\" id=\"DejaVuSans-101\"/>\r\n      </defs>\r\n      <use xlink:href=\"#DejaVuSans-115\"/>\r\n      <use x=\"52.099609\" xlink:href=\"#DejaVuSans-116\"/>\r\n      <use x=\"91.308594\" xlink:href=\"#DejaVuSans-114\"/>\r\n      <use x=\"130.171875\" xlink:href=\"#DejaVuSans-111\"/>\r\n      <use x=\"191.353516\" xlink:href=\"#DejaVuSans-107\"/>\r\n      <use x=\"245.638672\" xlink:href=\"#DejaVuSans-101\"/>\r\n     </g>\r\n    </g>\r\n    <g id=\"patch_16\">\r\n     <path d=\"M 344.592 49.646437 \r\nL 370.992 49.646437 \r\nL 370.992 40.406437 \r\nL 344.592 40.406437 \r\nz\r\n\" style=\"fill:#3274a1;\"/>\r\n    </g>\r\n    <g id=\"text_16\">\r\n     <!-- 0 -->\r\n     <g transform=\"translate(381.552 49.646437)scale(0.132 -0.132)\">\r\n      <use xlink:href=\"#DejaVuSans-48\"/>\r\n     </g>\r\n    </g>\r\n    <g id=\"patch_17\">\r\n     <path d=\"M 344.592 69.021562 \r\nL 370.992 69.021562 \r\nL 370.992 59.781562 \r\nL 344.592 59.781562 \r\nz\r\n\" style=\"fill:#e1812c;\"/>\r\n    </g>\r\n    <g id=\"text_17\">\r\n     <!-- 1 -->\r\n     <g transform=\"translate(381.552 69.021562)scale(0.132 -0.132)\">\r\n      <use xlink:href=\"#DejaVuSans-49\"/>\r\n     </g>\r\n    </g>\r\n   </g>\r\n  </g>\r\n </g>\r\n <defs>\r\n  <clipPath id=\"p63f0442f61\">\r\n   <rect height=\"217.44\" width=\"334.8\" x=\"67.0305\" y=\"7.2\"/>\r\n  </clipPath>\r\n </defs>\r\n</svg>\r\n",
      "image/png": "[encoded data removed]"
     },
     "metadata": {
      "needs_background": "light"
     }
    }
   ],
   "source": [
    "sns.countplot(x=df['blood'], hue=df['stroke'])"
   ]
  },
  {
   "cell_type": "code",
   "execution_count": 40,
   "metadata": {},
   "outputs": [
    {
     "output_type": "stream",
     "name": "stderr",
     "text": [
      "<ipython-input-40-7d50f712a858>:1: SettingWithCopyWarning: \nA value is trying to be set on a copy of a slice from a DataFrame.\nTry using .loc[row_indexer,col_indexer] = value instead\n\nSee the caveats in the documentation: https://pandas.pydata.org/pandas-docs/stable/user_guide/indexing.html#returning-a-view-versus-a-copy\n  df['blood'] = df['blood'].fillna('AB')\n"
     ]
    }
   ],
   "source": [
    "df['blood'] = df['blood'].fillna('AB')"
   ]
  },
  {
   "cell_type": "code",
   "execution_count": 41,
   "metadata": {},
   "outputs": [
    {
     "output_type": "execute_result",
     "data": {
      "text/plain": [
       "   gender        age  hypertension  heart_disease ever_married work_type  \\\n",
       "0  Female  43.071256             0              0           No  children   \n",
       "1    Male  55.000000             0              0          Yes   Private   \n",
       "2  Female  42.000000             0              0           No   Private   \n",
       "4  Female  38.000000             0              0          Yes   Private   \n",
       "5  Female  24.000000             0              0           No   Private   \n",
       "\n",
       "  Residence_type  avg_glucose_level        bmi smoking_status blood  stroke  \\\n",
       "0        Unknown              85.81  18.600000        Unknown     O       0   \n",
       "1          Urban              89.17  31.480000   never smoked     B       0   \n",
       "2        Unknown              98.53  18.500000   never smoked     B       0   \n",
       "4        Unknown              91.44  31.020136        Unknown     O       0   \n",
       "5          Urban              97.55  26.200000   never smoked     B       0   \n",
       "\n",
       "  age_bin  \n",
       "0       3  \n",
       "1       4  \n",
       "2       3  \n",
       "4       3  \n",
       "5       2  "
      ],
      "text/html": "<div>\n<style scoped>\n    .dataframe tbody tr th:only-of-type {\n        vertical-align: middle;\n    }\n\n    .dataframe tbody tr th {\n        vertical-align: top;\n    }\n\n    .dataframe thead th {\n        text-align: right;\n    }\n</style>\n<table border=\"1\" class=\"dataframe\">\n  <thead>\n    <tr style=\"text-align: right;\">\n      <th></th>\n      <th>gender</th>\n      <th>age</th>\n      <th>hypertension</th>\n      <th>heart_disease</th>\n      <th>ever_married</th>\n      <th>work_type</th>\n      <th>Residence_type</th>\n      <th>avg_glucose_level</th>\n      <th>bmi</th>\n      <th>smoking_status</th>\n      <th>blood</th>\n      <th>stroke</th>\n      <th>age_bin</th>\n    </tr>\n  </thead>\n  <tbody>\n    <tr>\n      <th>0</th>\n      <td>Female</td>\n      <td>43.071256</td>\n      <td>0</td>\n      <td>0</td>\n      <td>No</td>\n      <td>children</td>\n      <td>Unknown</td>\n      <td>85.81</td>\n      <td>18.600000</td>\n      <td>Unknown</td>\n      <td>O</td>\n      <td>0</td>\n      <td>3</td>\n    </tr>\n    <tr>\n      <th>1</th>\n      <td>Male</td>\n      <td>55.000000</td>\n      <td>0</td>\n      <td>0</td>\n      <td>Yes</td>\n      <td>Private</td>\n      <td>Urban</td>\n      <td>89.17</td>\n      <td>31.480000</td>\n      <td>never smoked</td>\n      <td>B</td>\n      <td>0</td>\n      <td>4</td>\n    </tr>\n    <tr>\n      <th>2</th>\n      <td>Female</td>\n      <td>42.000000</td>\n      <td>0</td>\n      <td>0</td>\n      <td>No</td>\n      <td>Private</td>\n      <td>Unknown</td>\n      <td>98.53</td>\n      <td>18.500000</td>\n      <td>never smoked</td>\n      <td>B</td>\n      <td>0</td>\n      <td>3</td>\n    </tr>\n    <tr>\n      <th>4</th>\n      <td>Female</td>\n      <td>38.000000</td>\n      <td>0</td>\n      <td>0</td>\n      <td>Yes</td>\n      <td>Private</td>\n      <td>Unknown</td>\n      <td>91.44</td>\n      <td>31.020136</td>\n      <td>Unknown</td>\n      <td>O</td>\n      <td>0</td>\n      <td>3</td>\n    </tr>\n    <tr>\n      <th>5</th>\n      <td>Female</td>\n      <td>24.000000</td>\n      <td>0</td>\n      <td>0</td>\n      <td>No</td>\n      <td>Private</td>\n      <td>Urban</td>\n      <td>97.55</td>\n      <td>26.200000</td>\n      <td>never smoked</td>\n      <td>B</td>\n      <td>0</td>\n      <td>2</td>\n    </tr>\n  </tbody>\n</table>\n</div>"
     },
     "metadata": {},
     "execution_count": 41
    }
   ],
   "source": [
    "df.head()"
   ]
  },
  {
   "cell_type": "code",
   "execution_count": 42,
   "metadata": {},
   "outputs": [
    {
     "output_type": "execute_result",
     "data": {
      "text/plain": [
       "      gender        age  hypertension  heart_disease ever_married  \\\n",
       "0     Female  43.071256             0              0           No   \n",
       "2     Female  42.000000             0              0           No   \n",
       "4     Female  38.000000             0              0          Yes   \n",
       "6     Female  80.000000             0              0          Yes   \n",
       "7     Female  33.000000             0              0          Yes   \n",
       "...      ...        ...           ...            ...          ...   \n",
       "3990  Female  82.000000             0              0          Yes   \n",
       "3992    Male  46.000000             0              0          Yes   \n",
       "3993  Female  59.000000             0              0          Yes   \n",
       "3994  Female  52.000000             0              0          Yes   \n",
       "3995    Male  16.000000             0              0           No   \n",
       "\n",
       "          work_type Residence_type  avg_glucose_level        bmi  \\\n",
       "0          children        Unknown              85.81  18.600000   \n",
       "2           Private        Unknown              98.53  18.500000   \n",
       "4           Private        Unknown              91.44  31.020136   \n",
       "6          Govt_job        Unknown              84.86  29.288200   \n",
       "7           Private        Unknown              86.97  31.020136   \n",
       "...             ...            ...                ...        ...   \n",
       "3990  Self-employed        Unknown             243.59  24.300000   \n",
       "3992        Private        Unknown              59.05  31.020136   \n",
       "3993        Private        Unknown              65.98  31.480000   \n",
       "3994        Private        Unknown              69.30  31.480000   \n",
       "3995        Private        Unknown              99.49  22.000000   \n",
       "\n",
       "       smoking_status blood  stroke age_bin  \n",
       "0             Unknown     O       0       3  \n",
       "2        never smoked     B       0       3  \n",
       "4             Unknown     O       0       3  \n",
       "6             Unknown    AB       0       5  \n",
       "7        never smoked     A       0       3  \n",
       "...               ...   ...     ...     ...  \n",
       "3990     never smoked     B       0       5  \n",
       "3992  formerly smoked     B       0       3  \n",
       "3993          Unknown     O       0       4  \n",
       "3994     never smoked     B       0       4  \n",
       "3995          Unknown     B       0       1  \n",
       "\n",
       "[1951 rows x 13 columns]"
      ],
      "text/html": "<div>\n<style scoped>\n    .dataframe tbody tr th:only-of-type {\n        vertical-align: middle;\n    }\n\n    .dataframe tbody tr th {\n        vertical-align: top;\n    }\n\n    .dataframe thead th {\n        text-align: right;\n    }\n</style>\n<table border=\"1\" class=\"dataframe\">\n  <thead>\n    <tr style=\"text-align: right;\">\n      <th></th>\n      <th>gender</th>\n      <th>age</th>\n      <th>hypertension</th>\n      <th>heart_disease</th>\n      <th>ever_married</th>\n      <th>work_type</th>\n      <th>Residence_type</th>\n      <th>avg_glucose_level</th>\n      <th>bmi</th>\n      <th>smoking_status</th>\n      <th>blood</th>\n      <th>stroke</th>\n      <th>age_bin</th>\n    </tr>\n  </thead>\n  <tbody>\n    <tr>\n      <th>0</th>\n      <td>Female</td>\n      <td>43.071256</td>\n      <td>0</td>\n      <td>0</td>\n      <td>No</td>\n      <td>children</td>\n      <td>Unknown</td>\n      <td>85.81</td>\n      <td>18.600000</td>\n      <td>Unknown</td>\n      <td>O</td>\n      <td>0</td>\n      <td>3</td>\n    </tr>\n    <tr>\n      <th>2</th>\n      <td>Female</td>\n      <td>42.000000</td>\n      <td>0</td>\n      <td>0</td>\n      <td>No</td>\n      <td>Private</td>\n      <td>Unknown</td>\n      <td>98.53</td>\n      <td>18.500000</td>\n      <td>never smoked</td>\n      <td>B</td>\n      <td>0</td>\n      <td>3</td>\n    </tr>\n    <tr>\n      <th>4</th>\n      <td>Female</td>\n      <td>38.000000</td>\n      <td>0</td>\n      <td>0</td>\n      <td>Yes</td>\n      <td>Private</td>\n      <td>Unknown</td>\n      <td>91.44</td>\n      <td>31.020136</td>\n      <td>Unknown</td>\n      <td>O</td>\n      <td>0</td>\n      <td>3</td>\n    </tr>\n    <tr>\n      <th>6</th>\n      <td>Female</td>\n      <td>80.000000</td>\n      <td>0</td>\n      <td>0</td>\n      <td>Yes</td>\n      <td>Govt_job</td>\n      <td>Unknown</td>\n      <td>84.86</td>\n      <td>29.288200</td>\n      <td>Unknown</td>\n      <td>AB</td>\n      <td>0</td>\n      <td>5</td>\n    </tr>\n    <tr>\n      <th>7</th>\n      <td>Female</td>\n      <td>33.000000</td>\n      <td>0</td>\n      <td>0</td>\n      <td>Yes</td>\n      <td>Private</td>\n      <td>Unknown</td>\n      <td>86.97</td>\n      <td>31.020136</td>\n      <td>never smoked</td>\n      <td>A</td>\n      <td>0</td>\n      <td>3</td>\n    </tr>\n    <tr>\n      <th>...</th>\n      <td>...</td>\n      <td>...</td>\n      <td>...</td>\n      <td>...</td>\n      <td>...</td>\n      <td>...</td>\n      <td>...</td>\n      <td>...</td>\n      <td>...</td>\n      <td>...</td>\n      <td>...</td>\n      <td>...</td>\n      <td>...</td>\n    </tr>\n    <tr>\n      <th>3990</th>\n      <td>Female</td>\n      <td>82.000000</td>\n      <td>0</td>\n      <td>0</td>\n      <td>Yes</td>\n      <td>Self-employed</td>\n      <td>Unknown</td>\n      <td>243.59</td>\n      <td>24.300000</td>\n      <td>never smoked</td>\n      <td>B</td>\n      <td>0</td>\n      <td>5</td>\n    </tr>\n    <tr>\n      <th>3992</th>\n      <td>Male</td>\n      <td>46.000000</td>\n      <td>0</td>\n      <td>0</td>\n      <td>Yes</td>\n      <td>Private</td>\n      <td>Unknown</td>\n      <td>59.05</td>\n      <td>31.020136</td>\n      <td>formerly smoked</td>\n      <td>B</td>\n      <td>0</td>\n      <td>3</td>\n    </tr>\n    <tr>\n      <th>3993</th>\n      <td>Female</td>\n      <td>59.000000</td>\n      <td>0</td>\n      <td>0</td>\n      <td>Yes</td>\n      <td>Private</td>\n      <td>Unknown</td>\n      <td>65.98</td>\n      <td>31.480000</td>\n      <td>Unknown</td>\n      <td>O</td>\n      <td>0</td>\n      <td>4</td>\n    </tr>\n    <tr>\n      <th>3994</th>\n      <td>Female</td>\n      <td>52.000000</td>\n      <td>0</td>\n      <td>0</td>\n      <td>Yes</td>\n      <td>Private</td>\n      <td>Unknown</td>\n      <td>69.30</td>\n      <td>31.480000</td>\n      <td>never smoked</td>\n      <td>B</td>\n      <td>0</td>\n      <td>4</td>\n    </tr>\n    <tr>\n      <th>3995</th>\n      <td>Male</td>\n      <td>16.000000</td>\n      <td>0</td>\n      <td>0</td>\n      <td>No</td>\n      <td>Private</td>\n      <td>Unknown</td>\n      <td>99.49</td>\n      <td>22.000000</td>\n      <td>Unknown</td>\n      <td>B</td>\n      <td>0</td>\n      <td>1</td>\n    </tr>\n  </tbody>\n</table>\n<p>1951 rows × 13 columns</p>\n</div>"
     },
     "metadata": {},
     "execution_count": 42
    }
   ],
   "source": [
    "df['Residence_type'].unique()\n",
    "df.loc[df['Residence_type']=='Unknown']"
   ]
  },
  {
   "source": [
    "- We will convert ever_married to 0 and 1\n",
    "- We will one-hot-encode work_type, avg_glucose_level, blood\n",
    "- We will drop Residence_type\n",
    "- smoking_status????"
   ],
   "cell_type": "markdown",
   "metadata": {}
  },
  {
   "cell_type": "code",
   "execution_count": 43,
   "metadata": {},
   "outputs": [
    {
     "output_type": "stream",
     "name": "stderr",
     "text": [
      "C:\\Users\\razor\\anaconda3\\lib\\site-packages\\pandas\\core\\frame.py:4163: SettingWithCopyWarning: \nA value is trying to be set on a copy of a slice from a DataFrame\n\nSee the caveats in the documentation: https://pandas.pydata.org/pandas-docs/stable/user_guide/indexing.html#returning-a-view-versus-a-copy\n  return super().drop(\n"
     ]
    }
   ],
   "source": [
    "df.drop(columns='age_bin', inplace=True)"
   ]
  },
  {
   "cell_type": "code",
   "execution_count": 44,
   "metadata": {},
   "outputs": [
    {
     "output_type": "execute_result",
     "data": {
      "text/plain": [
       "      gender        age  hypertension  heart_disease ever_married work_type  \\\n",
       "0     Female  43.071256             0              0           No  children   \n",
       "1       Male  55.000000             0              0          Yes   Private   \n",
       "2     Female  42.000000             0              0           No   Private   \n",
       "4     Female  38.000000             0              0          Yes   Private   \n",
       "5     Female  24.000000             0              0           No   Private   \n",
       "...      ...        ...           ...            ...          ...       ...   \n",
       "3993  Female  59.000000             0              0          Yes   Private   \n",
       "3994  Female  52.000000             0              0          Yes   Private   \n",
       "3995    Male  16.000000             0              0           No   Private   \n",
       "3996    Male  47.000000             0              0          Yes   Private   \n",
       "3999  Female  53.000000             1              0          Yes   Private   \n",
       "\n",
       "     Residence_type  avg_glucose_level        bmi   smoking_status blood  \\\n",
       "0           Unknown              85.81  18.600000          Unknown     O   \n",
       "1             Urban              89.17  31.480000     never smoked     B   \n",
       "2           Unknown              98.53  18.500000     never smoked     B   \n",
       "4           Unknown              91.44  31.020136          Unknown     O   \n",
       "5             Urban              97.55  26.200000     never smoked     B   \n",
       "...             ...                ...        ...              ...   ...   \n",
       "3993        Unknown              65.98  31.480000          Unknown     O   \n",
       "3994        Unknown              69.30  31.480000     never smoked     B   \n",
       "3995        Unknown              99.49  22.000000          Unknown     B   \n",
       "3996          Rural              75.30  25.000000  formerly smoked     B   \n",
       "3999          Urban              62.55  30.300000          Unknown     O   \n",
       "\n",
       "      stroke  \n",
       "0          0  \n",
       "1          0  \n",
       "2          0  \n",
       "4          0  \n",
       "5          0  \n",
       "...      ...  \n",
       "3993       0  \n",
       "3994       0  \n",
       "3995       0  \n",
       "3996       0  \n",
       "3999       1  \n",
       "\n",
       "[3909 rows x 12 columns]"
      ],
      "text/html": "<div>\n<style scoped>\n    .dataframe tbody tr th:only-of-type {\n        vertical-align: middle;\n    }\n\n    .dataframe tbody tr th {\n        vertical-align: top;\n    }\n\n    .dataframe thead th {\n        text-align: right;\n    }\n</style>\n<table border=\"1\" class=\"dataframe\">\n  <thead>\n    <tr style=\"text-align: right;\">\n      <th></th>\n      <th>gender</th>\n      <th>age</th>\n      <th>hypertension</th>\n      <th>heart_disease</th>\n      <th>ever_married</th>\n      <th>work_type</th>\n      <th>Residence_type</th>\n      <th>avg_glucose_level</th>\n      <th>bmi</th>\n      <th>smoking_status</th>\n      <th>blood</th>\n      <th>stroke</th>\n    </tr>\n  </thead>\n  <tbody>\n    <tr>\n      <th>0</th>\n      <td>Female</td>\n      <td>43.071256</td>\n      <td>0</td>\n      <td>0</td>\n      <td>No</td>\n      <td>children</td>\n      <td>Unknown</td>\n      <td>85.81</td>\n      <td>18.600000</td>\n      <td>Unknown</td>\n      <td>O</td>\n      <td>0</td>\n    </tr>\n    <tr>\n      <th>1</th>\n      <td>Male</td>\n      <td>55.000000</td>\n      <td>0</td>\n      <td>0</td>\n      <td>Yes</td>\n      <td>Private</td>\n      <td>Urban</td>\n      <td>89.17</td>\n      <td>31.480000</td>\n      <td>never smoked</td>\n      <td>B</td>\n      <td>0</td>\n    </tr>\n    <tr>\n      <th>2</th>\n      <td>Female</td>\n      <td>42.000000</td>\n      <td>0</td>\n      <td>0</td>\n      <td>No</td>\n      <td>Private</td>\n      <td>Unknown</td>\n      <td>98.53</td>\n      <td>18.500000</td>\n      <td>never smoked</td>\n      <td>B</td>\n      <td>0</td>\n    </tr>\n    <tr>\n      <th>4</th>\n      <td>Female</td>\n      <td>38.000000</td>\n      <td>0</td>\n      <td>0</td>\n      <td>Yes</td>\n      <td>Private</td>\n      <td>Unknown</td>\n      <td>91.44</td>\n      <td>31.020136</td>\n      <td>Unknown</td>\n      <td>O</td>\n      <td>0</td>\n    </tr>\n    <tr>\n      <th>5</th>\n      <td>Female</td>\n      <td>24.000000</td>\n      <td>0</td>\n      <td>0</td>\n      <td>No</td>\n      <td>Private</td>\n      <td>Urban</td>\n      <td>97.55</td>\n      <td>26.200000</td>\n      <td>never smoked</td>\n      <td>B</td>\n      <td>0</td>\n    </tr>\n    <tr>\n      <th>...</th>\n      <td>...</td>\n      <td>...</td>\n      <td>...</td>\n      <td>...</td>\n      <td>...</td>\n      <td>...</td>\n      <td>...</td>\n      <td>...</td>\n      <td>...</td>\n      <td>...</td>\n      <td>...</td>\n      <td>...</td>\n    </tr>\n    <tr>\n      <th>3993</th>\n      <td>Female</td>\n      <td>59.000000</td>\n      <td>0</td>\n      <td>0</td>\n      <td>Yes</td>\n      <td>Private</td>\n      <td>Unknown</td>\n      <td>65.98</td>\n      <td>31.480000</td>\n      <td>Unknown</td>\n      <td>O</td>\n      <td>0</td>\n    </tr>\n    <tr>\n      <th>3994</th>\n      <td>Female</td>\n      <td>52.000000</td>\n      <td>0</td>\n      <td>0</td>\n      <td>Yes</td>\n      <td>Private</td>\n      <td>Unknown</td>\n      <td>69.30</td>\n      <td>31.480000</td>\n      <td>never smoked</td>\n      <td>B</td>\n      <td>0</td>\n    </tr>\n    <tr>\n      <th>3995</th>\n      <td>Male</td>\n      <td>16.000000</td>\n      <td>0</td>\n      <td>0</td>\n      <td>No</td>\n      <td>Private</td>\n      <td>Unknown</td>\n      <td>99.49</td>\n      <td>22.000000</td>\n      <td>Unknown</td>\n      <td>B</td>\n      <td>0</td>\n    </tr>\n    <tr>\n      <th>3996</th>\n      <td>Male</td>\n      <td>47.000000</td>\n      <td>0</td>\n      <td>0</td>\n      <td>Yes</td>\n      <td>Private</td>\n      <td>Rural</td>\n      <td>75.30</td>\n      <td>25.000000</td>\n      <td>formerly smoked</td>\n      <td>B</td>\n      <td>0</td>\n    </tr>\n    <tr>\n      <th>3999</th>\n      <td>Female</td>\n      <td>53.000000</td>\n      <td>1</td>\n      <td>0</td>\n      <td>Yes</td>\n      <td>Private</td>\n      <td>Urban</td>\n      <td>62.55</td>\n      <td>30.300000</td>\n      <td>Unknown</td>\n      <td>O</td>\n      <td>1</td>\n    </tr>\n  </tbody>\n</table>\n<p>3909 rows × 12 columns</p>\n</div>"
     },
     "metadata": {},
     "execution_count": 44
    }
   ],
   "source": [
    "df"
   ]
  },
  {
   "cell_type": "code",
   "execution_count": 45,
   "metadata": {},
   "outputs": [
    {
     "output_type": "stream",
     "name": "stdout",
     "text": [
      "gender= ['Female' 'Male' 'Other']\nage= [4.30712561e+01 5.50000000e+01 4.20000000e+01 3.80000000e+01\n 2.40000000e+01 8.00000000e+01 3.30000000e+01 8.00000000e+00\n 2.00000000e+01 4.30000000e+01 2.30000000e+01 5.90000000e+01\n 3.10000000e+01 7.90000000e+01 4.10000000e+01 4.50000000e+01\n 1.60000000e+01 6.50000000e+01 5.80000000e+01 4.40000000e+01\n 7.80000000e+01 4.90000000e+01 4.80000000e+01 3.70000000e+01\n 4.60000000e+01 2.80000000e+01 1.20000000e+01 3.00000000e+00\n 5.40000000e+01 1.30000000e+01 1.40000000e+01 6.90000000e+01\n 5.20000000e+01 8.20000000e+01 1.00000000e+01 7.30000000e+01\n 3.90000000e+01 8.00000000e-01 7.40000000e+01 3.20000000e+01\n 6.00000000e+01 7.00000000e+00 1.80000000e+01 7.00000000e+01\n 6.10000000e+01 1.50000000e+01 6.20000000e+01 1.88000000e+00\n 1.70000000e+01 3.50000000e+01 6.80000000e+01 2.90000000e+01\n 7.70000000e+01 6.40000000e+01 3.00000000e+01 6.30000000e+01\n 4.00000000e+01 4.70000000e+01 7.50000000e+01 6.70000000e+01\n 2.50000000e+01 4.00000000e+00 5.00000000e+00 1.90000000e+01\n 5.60000000e+01 3.40000000e+01 5.70000000e+01 5.00000000e+01\n 5.10000000e+01 7.20000000e+01 5.30000000e+01 8.10000000e+01\n 3.60000000e+01 2.60000000e+01 7.10000000e+01 6.60000000e+01\n 2.00000000e+00 2.20000000e+01 2.70000000e+01 2.10000000e+01\n 7.60000000e+01 9.00000000e+00 6.00000000e+00 5.60000000e-01\n 1.10000000e+01 6.40000000e-01 1.60000000e-01 1.80000000e+00\n 2.40000000e-01 1.08000000e+00 1.00000000e+00 1.32000000e+00\n 3.20000000e-01 1.56000000e+00 1.72000000e+00 1.64000000e+00\n 8.80000000e-01 1.48000000e+00 8.00000000e-02 1.16000000e+00\n 1.24000000e+00 4.80000000e-01 4.00000000e-01 1.40000000e+00\n 7.20000000e-01]\nhypertension= [0 1]\nheart_disease= [0 1]\never_married= ['No' 'Yes']\nwork_type= ['children' 'Private' 'Govt_job' 'Self-employed' 'Never_worked']\nResidence_type= ['Unknown' 'Urban' 'Rural']\navg_glucose_level= [85.81 89.17 98.53 ... 69.3  75.3  62.55]\nbmi= [18.6      31.48     18.5      31.020136 26.2      29.2882   20.715509\n 27.6      37.6      28.814368 31.6      24.9      39.7      25.7\n 26.8      41.3      37.       24.1      23.9      31.       23.1\n 20.9      31.5      36.2      20.1      22.8      40.1      26.5\n 24.3      33.1      27.3      23.4      24.2      30.       22.2\n 28.7      26.6      27.1      38.8      28.5      18.9      40.8\n 21.5      32.2      23.5      31.4      30.1      42.6      35.9\n 20.7      26.1      24.       42.2      31.7      38.       29.7\n 35.3      30.9      33.5      28.1      36.       29.8      29.6\n 32.3      26.7      21.4      24.4      34.5      32.       31.8\n 28.2      18.       36.1      29.       25.8      20.2      31.9\n 29.4      32.4      16.7      32.1      17.       23.8      17.3\n 35.8      22.9      18.1      30.5      28.4      32.7      27.8\n 17.1      33.       11.3      39.5      23.6      23.7      27.\n 20.4      30.4      22.4      24.6      32.8      15.3      28.8\n 23.3      26.9      26.       36.4      27.7      21.6      26.3\n 21.8      43.8      27.2      30.8      38.9      38.2      26.4\n 34.3      24.5      31.3      28.       37.8      20.8      25.5\n 19.4      30.2      27.9      29.1      30.7      35.2      16.6\n 30.3      22.1      21.2      21.7      28.3      37.7      35.7\n 31.2      32.5      35.5      23.       14.8      16.8      39.4\n 29.9      38.1      22.3      27.4      34.2      30.6      24.8\n 15.1      13.8      18.8      40.3      19.2      22.6      21.3\n 18.7      18.3      38.6      18.2      38.3      40.4      41.6\n 17.6      17.4      34.       25.1      34.7      23.2      28.9\n 33.9      20.3      19.5      34.4      18.4      22.7      13.9\n 40.6      24.7      17.8      17.9      33.4      16.4      27.5\n 19.8      36.6      39.3      17.5      20.6      31.1      35.6\n 37.9      25.4      22.       34.6      42.       39.       25.6\n 25.3      14.6      33.3      39.2      35.       44.6      29.5\n 33.6      15.9      32.9      32.6      20.       16.3      14.2\n 20.5      29.3      43.7      36.8      14.5      33.7      42.1\n 44.8      19.7      44.3      36.9      15.       15.8      41.2\n 39.1      29.2      41.8      25.2      28.6      42.4      43.6\n 40.9      41.1      17.7      19.9      43.9      41.5      36.7\n 21.       19.1      21.9      37.2      37.4      36.3      37.1\n 39.9      41.4      25.9      25.       33.8      14.1      21.1\n 34.1      43.3      39.6      12.       19.       38.4      40.\n 38.7      15.5      22.5      16.       33.2      34.8      16.2\n 41.       44.       36.5      40.2      16.5      43.1      37.5\n 42.7      17.2      42.3      16.9      19.3      41.7      44.7\n 14.3      43.       44.5      19.6      13.       40.5      34.9\n 44.2      16.1      12.3      15.2      42.8      41.9      35.1\n 43.2      13.7      38.5      37.3      43.4      35.4      13.2\n 14.4      15.4      12.8      13.5      15.7      11.5      40.7\n 42.9      39.8     ]\nsmoking_status= ['Unknown' 'never smoked' 'smokes' 'formerly smoked']\nblood= ['O' 'B' 'AB' 'A']\nstroke= [0 1]\n"
     ]
    }
   ],
   "source": [
    "for i in df.columns:\n",
    "    print(str(i) + '= ' + str(df[i].unique()))"
   ]
  },
  {
   "cell_type": "code",
   "execution_count": 46,
   "metadata": {},
   "outputs": [
    {
     "output_type": "stream",
     "name": "stderr",
     "text": [
      "<ipython-input-46-fd4effd14e13>:2: SettingWithCopyWarning: \nA value is trying to be set on a copy of a slice from a DataFrame.\nTry using .loc[row_indexer,col_indexer] = value instead\n\nSee the caveats in the documentation: https://pandas.pydata.org/pandas-docs/stable/user_guide/indexing.html#returning-a-view-versus-a-copy\n  df['ever_married'] = df['ever_married'].map(marriage_mapping)\n"
     ]
    }
   ],
   "source": [
    "marriage_mapping = {'No': 0, 'Yes': 1}\n",
    "df['ever_married'] = df['ever_married'].map(marriage_mapping)"
   ]
  },
  {
   "cell_type": "code",
   "execution_count": 47,
   "metadata": {},
   "outputs": [
    {
     "output_type": "execute_result",
     "data": {
      "text/plain": [
       "   gender        age  hypertension  heart_disease  ever_married work_type  \\\n",
       "0  Female  43.071256             0              0             0  children   \n",
       "1    Male  55.000000             0              0             1   Private   \n",
       "2  Female  42.000000             0              0             0   Private   \n",
       "4  Female  38.000000             0              0             1   Private   \n",
       "5  Female  24.000000             0              0             0   Private   \n",
       "\n",
       "  Residence_type  avg_glucose_level        bmi smoking_status blood  stroke  \n",
       "0        Unknown              85.81  18.600000        Unknown     O       0  \n",
       "1          Urban              89.17  31.480000   never smoked     B       0  \n",
       "2        Unknown              98.53  18.500000   never smoked     B       0  \n",
       "4        Unknown              91.44  31.020136        Unknown     O       0  \n",
       "5          Urban              97.55  26.200000   never smoked     B       0  "
      ],
      "text/html": "<div>\n<style scoped>\n    .dataframe tbody tr th:only-of-type {\n        vertical-align: middle;\n    }\n\n    .dataframe tbody tr th {\n        vertical-align: top;\n    }\n\n    .dataframe thead th {\n        text-align: right;\n    }\n</style>\n<table border=\"1\" class=\"dataframe\">\n  <thead>\n    <tr style=\"text-align: right;\">\n      <th></th>\n      <th>gender</th>\n      <th>age</th>\n      <th>hypertension</th>\n      <th>heart_disease</th>\n      <th>ever_married</th>\n      <th>work_type</th>\n      <th>Residence_type</th>\n      <th>avg_glucose_level</th>\n      <th>bmi</th>\n      <th>smoking_status</th>\n      <th>blood</th>\n      <th>stroke</th>\n    </tr>\n  </thead>\n  <tbody>\n    <tr>\n      <th>0</th>\n      <td>Female</td>\n      <td>43.071256</td>\n      <td>0</td>\n      <td>0</td>\n      <td>0</td>\n      <td>children</td>\n      <td>Unknown</td>\n      <td>85.81</td>\n      <td>18.600000</td>\n      <td>Unknown</td>\n      <td>O</td>\n      <td>0</td>\n    </tr>\n    <tr>\n      <th>1</th>\n      <td>Male</td>\n      <td>55.000000</td>\n      <td>0</td>\n      <td>0</td>\n      <td>1</td>\n      <td>Private</td>\n      <td>Urban</td>\n      <td>89.17</td>\n      <td>31.480000</td>\n      <td>never smoked</td>\n      <td>B</td>\n      <td>0</td>\n    </tr>\n    <tr>\n      <th>2</th>\n      <td>Female</td>\n      <td>42.000000</td>\n      <td>0</td>\n      <td>0</td>\n      <td>0</td>\n      <td>Private</td>\n      <td>Unknown</td>\n      <td>98.53</td>\n      <td>18.500000</td>\n      <td>never smoked</td>\n      <td>B</td>\n      <td>0</td>\n    </tr>\n    <tr>\n      <th>4</th>\n      <td>Female</td>\n      <td>38.000000</td>\n      <td>0</td>\n      <td>0</td>\n      <td>1</td>\n      <td>Private</td>\n      <td>Unknown</td>\n      <td>91.44</td>\n      <td>31.020136</td>\n      <td>Unknown</td>\n      <td>O</td>\n      <td>0</td>\n    </tr>\n    <tr>\n      <th>5</th>\n      <td>Female</td>\n      <td>24.000000</td>\n      <td>0</td>\n      <td>0</td>\n      <td>0</td>\n      <td>Private</td>\n      <td>Urban</td>\n      <td>97.55</td>\n      <td>26.200000</td>\n      <td>never smoked</td>\n      <td>B</td>\n      <td>0</td>\n    </tr>\n  </tbody>\n</table>\n</div>"
     },
     "metadata": {},
     "execution_count": 47
    }
   ],
   "source": [
    "df.head()"
   ]
  },
  {
   "cell_type": "code",
   "execution_count": 48,
   "metadata": {},
   "outputs": [],
   "source": [
    "oh = OneHotEncoder()"
   ]
  },
  {
   "source": [
    "categorical_features_oh = ['gender', 'blood', 'smoking_status', 'Residence_type', 'work_type']"
   ],
   "cell_type": "code",
   "metadata": {},
   "execution_count": 49,
   "outputs": []
  },
  {
   "cell_type": "code",
   "execution_count": 50,
   "metadata": {},
   "outputs": [
    {
     "output_type": "stream",
     "name": "stderr",
     "text": [
      "<ipython-input-50-d97b40af56c7>:2: SettingWithCopyWarning: \nA value is trying to be set on a copy of a slice from a DataFrame.\nTry using .loc[row_indexer,col_indexer] = value instead\n\nSee the caveats in the documentation: https://pandas.pydata.org/pandas-docs/stable/user_guide/indexing.html#returning-a-view-versus-a-copy\n  df[i] = pd.Categorical(df[i])\n"
     ]
    },
    {
     "output_type": "execute_result",
     "data": {
      "text/plain": [
       "      gender        age  hypertension  heart_disease  ever_married work_type  \\\n",
       "0     Female  43.071256             0              0             0  children   \n",
       "1       Male  55.000000             0              0             1   Private   \n",
       "2     Female  42.000000             0              0             0   Private   \n",
       "4     Female  38.000000             0              0             1   Private   \n",
       "5     Female  24.000000             0              0             0   Private   \n",
       "...      ...        ...           ...            ...           ...       ...   \n",
       "3993  Female  59.000000             0              0             1   Private   \n",
       "3994  Female  52.000000             0              0             1   Private   \n",
       "3995    Male  16.000000             0              0             0   Private   \n",
       "3996    Male  47.000000             0              0             1   Private   \n",
       "3999  Female  53.000000             1              0             1   Private   \n",
       "\n",
       "     Residence_type  avg_glucose_level        bmi   smoking_status  ...  \\\n",
       "0           Unknown              85.81  18.600000          Unknown  ...   \n",
       "1             Urban              89.17  31.480000     never smoked  ...   \n",
       "2           Unknown              98.53  18.500000     never smoked  ...   \n",
       "4           Unknown              91.44  31.020136          Unknown  ...   \n",
       "5             Urban              97.55  26.200000     never smoked  ...   \n",
       "...             ...                ...        ...              ...  ...   \n",
       "3993        Unknown              65.98  31.480000          Unknown  ...   \n",
       "3994        Unknown              69.30  31.480000     never smoked  ...   \n",
       "3995        Unknown              99.49  22.000000          Unknown  ...   \n",
       "3996          Rural              75.30  25.000000  formerly smoked  ...   \n",
       "3999          Urban              62.55  30.300000          Unknown  ...   \n",
       "\n",
       "     smoking_status_never smoked  smoking_status_smokes  Residence_type_Rural  \\\n",
       "0                              0                      0                     0   \n",
       "1                              1                      0                     0   \n",
       "2                              1                      0                     0   \n",
       "4                              0                      0                     0   \n",
       "5                              1                      0                     0   \n",
       "...                          ...                    ...                   ...   \n",
       "3993                           0                      0                     0   \n",
       "3994                           1                      0                     0   \n",
       "3995                           0                      0                     0   \n",
       "3996                           0                      0                     1   \n",
       "3999                           0                      0                     0   \n",
       "\n",
       "      Residence_type_Unknown  Residence_type_Urban  work_type_Govt_job  \\\n",
       "0                          1                     0                   0   \n",
       "1                          0                     1                   0   \n",
       "2                          1                     0                   0   \n",
       "4                          1                     0                   0   \n",
       "5                          0                     1                   0   \n",
       "...                      ...                   ...                 ...   \n",
       "3993                       1                     0                   0   \n",
       "3994                       1                     0                   0   \n",
       "3995                       1                     0                   0   \n",
       "3996                       0                     0                   0   \n",
       "3999                       0                     1                   0   \n",
       "\n",
       "      work_type_Never_worked  work_type_Private  work_type_Self-employed  \\\n",
       "0                          0                  0                        0   \n",
       "1                          0                  1                        0   \n",
       "2                          0                  1                        0   \n",
       "4                          0                  1                        0   \n",
       "5                          0                  1                        0   \n",
       "...                      ...                ...                      ...   \n",
       "3993                       0                  1                        0   \n",
       "3994                       0                  1                        0   \n",
       "3995                       0                  1                        0   \n",
       "3996                       0                  1                        0   \n",
       "3999                       0                  1                        0   \n",
       "\n",
       "      work_type_children  \n",
       "0                      1  \n",
       "1                      0  \n",
       "2                      0  \n",
       "4                      0  \n",
       "5                      0  \n",
       "...                  ...  \n",
       "3993                   0  \n",
       "3994                   0  \n",
       "3995                   0  \n",
       "3996                   0  \n",
       "3999                   0  \n",
       "\n",
       "[3909 rows x 31 columns]"
      ],
      "text/html": "<div>\n<style scoped>\n    .dataframe tbody tr th:only-of-type {\n        vertical-align: middle;\n    }\n\n    .dataframe tbody tr th {\n        vertical-align: top;\n    }\n\n    .dataframe thead th {\n        text-align: right;\n    }\n</style>\n<table border=\"1\" class=\"dataframe\">\n  <thead>\n    <tr style=\"text-align: right;\">\n      <th></th>\n      <th>gender</th>\n      <th>age</th>\n      <th>hypertension</th>\n      <th>heart_disease</th>\n      <th>ever_married</th>\n      <th>work_type</th>\n      <th>Residence_type</th>\n      <th>avg_glucose_level</th>\n      <th>bmi</th>\n      <th>smoking_status</th>\n      <th>...</th>\n      <th>smoking_status_never smoked</th>\n      <th>smoking_status_smokes</th>\n      <th>Residence_type_Rural</th>\n      <th>Residence_type_Unknown</th>\n      <th>Residence_type_Urban</th>\n      <th>work_type_Govt_job</th>\n      <th>work_type_Never_worked</th>\n      <th>work_type_Private</th>\n      <th>work_type_Self-employed</th>\n      <th>work_type_children</th>\n    </tr>\n  </thead>\n  <tbody>\n    <tr>\n      <th>0</th>\n      <td>Female</td>\n      <td>43.071256</td>\n      <td>0</td>\n      <td>0</td>\n      <td>0</td>\n      <td>children</td>\n      <td>Unknown</td>\n      <td>85.81</td>\n      <td>18.600000</td>\n      <td>Unknown</td>\n      <td>...</td>\n      <td>0</td>\n      <td>0</td>\n      <td>0</td>\n      <td>1</td>\n      <td>0</td>\n      <td>0</td>\n      <td>0</td>\n      <td>0</td>\n      <td>0</td>\n      <td>1</td>\n    </tr>\n    <tr>\n      <th>1</th>\n      <td>Male</td>\n      <td>55.000000</td>\n      <td>0</td>\n      <td>0</td>\n      <td>1</td>\n      <td>Private</td>\n      <td>Urban</td>\n      <td>89.17</td>\n      <td>31.480000</td>\n      <td>never smoked</td>\n      <td>...</td>\n      <td>1</td>\n      <td>0</td>\n      <td>0</td>\n      <td>0</td>\n      <td>1</td>\n      <td>0</td>\n      <td>0</td>\n      <td>1</td>\n      <td>0</td>\n      <td>0</td>\n    </tr>\n    <tr>\n      <th>2</th>\n      <td>Female</td>\n      <td>42.000000</td>\n      <td>0</td>\n      <td>0</td>\n      <td>0</td>\n      <td>Private</td>\n      <td>Unknown</td>\n      <td>98.53</td>\n      <td>18.500000</td>\n      <td>never smoked</td>\n      <td>...</td>\n      <td>1</td>\n      <td>0</td>\n      <td>0</td>\n      <td>1</td>\n      <td>0</td>\n      <td>0</td>\n      <td>0</td>\n      <td>1</td>\n      <td>0</td>\n      <td>0</td>\n    </tr>\n    <tr>\n      <th>4</th>\n      <td>Female</td>\n      <td>38.000000</td>\n      <td>0</td>\n      <td>0</td>\n      <td>1</td>\n      <td>Private</td>\n      <td>Unknown</td>\n      <td>91.44</td>\n      <td>31.020136</td>\n      <td>Unknown</td>\n      <td>...</td>\n      <td>0</td>\n      <td>0</td>\n      <td>0</td>\n      <td>1</td>\n      <td>0</td>\n      <td>0</td>\n      <td>0</td>\n      <td>1</td>\n      <td>0</td>\n      <td>0</td>\n    </tr>\n    <tr>\n      <th>5</th>\n      <td>Female</td>\n      <td>24.000000</td>\n      <td>0</td>\n      <td>0</td>\n      <td>0</td>\n      <td>Private</td>\n      <td>Urban</td>\n      <td>97.55</td>\n      <td>26.200000</td>\n      <td>never smoked</td>\n      <td>...</td>\n      <td>1</td>\n      <td>0</td>\n      <td>0</td>\n      <td>0</td>\n      <td>1</td>\n      <td>0</td>\n      <td>0</td>\n      <td>1</td>\n      <td>0</td>\n      <td>0</td>\n    </tr>\n    <tr>\n      <th>...</th>\n      <td>...</td>\n      <td>...</td>\n      <td>...</td>\n      <td>...</td>\n      <td>...</td>\n      <td>...</td>\n      <td>...</td>\n      <td>...</td>\n      <td>...</td>\n      <td>...</td>\n      <td>...</td>\n      <td>...</td>\n      <td>...</td>\n      <td>...</td>\n      <td>...</td>\n      <td>...</td>\n      <td>...</td>\n      <td>...</td>\n      <td>...</td>\n      <td>...</td>\n      <td>...</td>\n    </tr>\n    <tr>\n      <th>3993</th>\n      <td>Female</td>\n      <td>59.000000</td>\n      <td>0</td>\n      <td>0</td>\n      <td>1</td>\n      <td>Private</td>\n      <td>Unknown</td>\n      <td>65.98</td>\n      <td>31.480000</td>\n      <td>Unknown</td>\n      <td>...</td>\n      <td>0</td>\n      <td>0</td>\n      <td>0</td>\n      <td>1</td>\n      <td>0</td>\n      <td>0</td>\n      <td>0</td>\n      <td>1</td>\n      <td>0</td>\n      <td>0</td>\n    </tr>\n    <tr>\n      <th>3994</th>\n      <td>Female</td>\n      <td>52.000000</td>\n      <td>0</td>\n      <td>0</td>\n      <td>1</td>\n      <td>Private</td>\n      <td>Unknown</td>\n      <td>69.30</td>\n      <td>31.480000</td>\n      <td>never smoked</td>\n      <td>...</td>\n      <td>1</td>\n      <td>0</td>\n      <td>0</td>\n      <td>1</td>\n      <td>0</td>\n      <td>0</td>\n      <td>0</td>\n      <td>1</td>\n      <td>0</td>\n      <td>0</td>\n    </tr>\n    <tr>\n      <th>3995</th>\n      <td>Male</td>\n      <td>16.000000</td>\n      <td>0</td>\n      <td>0</td>\n      <td>0</td>\n      <td>Private</td>\n      <td>Unknown</td>\n      <td>99.49</td>\n      <td>22.000000</td>\n      <td>Unknown</td>\n      <td>...</td>\n      <td>0</td>\n      <td>0</td>\n      <td>0</td>\n      <td>1</td>\n      <td>0</td>\n      <td>0</td>\n      <td>0</td>\n      <td>1</td>\n      <td>0</td>\n      <td>0</td>\n    </tr>\n    <tr>\n      <th>3996</th>\n      <td>Male</td>\n      <td>47.000000</td>\n      <td>0</td>\n      <td>0</td>\n      <td>1</td>\n      <td>Private</td>\n      <td>Rural</td>\n      <td>75.30</td>\n      <td>25.000000</td>\n      <td>formerly smoked</td>\n      <td>...</td>\n      <td>0</td>\n      <td>0</td>\n      <td>1</td>\n      <td>0</td>\n      <td>0</td>\n      <td>0</td>\n      <td>0</td>\n      <td>1</td>\n      <td>0</td>\n      <td>0</td>\n    </tr>\n    <tr>\n      <th>3999</th>\n      <td>Female</td>\n      <td>53.000000</td>\n      <td>1</td>\n      <td>0</td>\n      <td>1</td>\n      <td>Private</td>\n      <td>Urban</td>\n      <td>62.55</td>\n      <td>30.300000</td>\n      <td>Unknown</td>\n      <td>...</td>\n      <td>0</td>\n      <td>0</td>\n      <td>0</td>\n      <td>0</td>\n      <td>1</td>\n      <td>0</td>\n      <td>0</td>\n      <td>1</td>\n      <td>0</td>\n      <td>0</td>\n    </tr>\n  </tbody>\n</table>\n<p>3909 rows × 31 columns</p>\n</div>"
     },
     "metadata": {},
     "execution_count": 50
    }
   ],
   "source": [
    "for i in categorical_features_oh:\n",
    "    df[i] = pd.Categorical(df[i])\n",
    "    dfDummies = pd.get_dummies(df[i], prefix= i)\n",
    "    df = pd.concat([df, dfDummies], axis=1)\n",
    "df"
   ]
  },
  {
   "cell_type": "code",
   "execution_count": 51,
   "metadata": {},
   "outputs": [
    {
     "output_type": "execute_result",
     "data": {
      "text/plain": [
       "            age  hypertension  heart_disease  ever_married  avg_glucose_level  \\\n",
       "0     43.071256             0              0             0              85.81   \n",
       "1     55.000000             0              0             1              89.17   \n",
       "2     42.000000             0              0             0              98.53   \n",
       "4     38.000000             0              0             1              91.44   \n",
       "5     24.000000             0              0             0              97.55   \n",
       "...         ...           ...            ...           ...                ...   \n",
       "3993  59.000000             0              0             1              65.98   \n",
       "3994  52.000000             0              0             1              69.30   \n",
       "3995  16.000000             0              0             0              99.49   \n",
       "3996  47.000000             0              0             1              75.30   \n",
       "3999  53.000000             1              0             1              62.55   \n",
       "\n",
       "            bmi  stroke  gender_Female  gender_Male  gender_Other  ...  \\\n",
       "0     18.600000       0              1            0             0  ...   \n",
       "1     31.480000       0              0            1             0  ...   \n",
       "2     18.500000       0              1            0             0  ...   \n",
       "4     31.020136       0              1            0             0  ...   \n",
       "5     26.200000       0              1            0             0  ...   \n",
       "...         ...     ...            ...          ...           ...  ...   \n",
       "3993  31.480000       0              1            0             0  ...   \n",
       "3994  31.480000       0              1            0             0  ...   \n",
       "3995  22.000000       0              0            1             0  ...   \n",
       "3996  25.000000       0              0            1             0  ...   \n",
       "3999  30.300000       1              1            0             0  ...   \n",
       "\n",
       "      smoking_status_never smoked  smoking_status_smokes  \\\n",
       "0                               0                      0   \n",
       "1                               1                      0   \n",
       "2                               1                      0   \n",
       "4                               0                      0   \n",
       "5                               1                      0   \n",
       "...                           ...                    ...   \n",
       "3993                            0                      0   \n",
       "3994                            1                      0   \n",
       "3995                            0                      0   \n",
       "3996                            0                      0   \n",
       "3999                            0                      0   \n",
       "\n",
       "      Residence_type_Rural  Residence_type_Unknown  Residence_type_Urban  \\\n",
       "0                        0                       1                     0   \n",
       "1                        0                       0                     1   \n",
       "2                        0                       1                     0   \n",
       "4                        0                       1                     0   \n",
       "5                        0                       0                     1   \n",
       "...                    ...                     ...                   ...   \n",
       "3993                     0                       1                     0   \n",
       "3994                     0                       1                     0   \n",
       "3995                     0                       1                     0   \n",
       "3996                     1                       0                     0   \n",
       "3999                     0                       0                     1   \n",
       "\n",
       "      work_type_Govt_job  work_type_Never_worked  work_type_Private  \\\n",
       "0                      0                       0                  0   \n",
       "1                      0                       0                  1   \n",
       "2                      0                       0                  1   \n",
       "4                      0                       0                  1   \n",
       "5                      0                       0                  1   \n",
       "...                  ...                     ...                ...   \n",
       "3993                   0                       0                  1   \n",
       "3994                   0                       0                  1   \n",
       "3995                   0                       0                  1   \n",
       "3996                   0                       0                  1   \n",
       "3999                   0                       0                  1   \n",
       "\n",
       "      work_type_Self-employed  work_type_children  \n",
       "0                           0                   1  \n",
       "1                           0                   0  \n",
       "2                           0                   0  \n",
       "4                           0                   0  \n",
       "5                           0                   0  \n",
       "...                       ...                 ...  \n",
       "3993                        0                   0  \n",
       "3994                        0                   0  \n",
       "3995                        0                   0  \n",
       "3996                        0                   0  \n",
       "3999                        0                   0  \n",
       "\n",
       "[3909 rows x 26 columns]"
      ],
      "text/html": "<div>\n<style scoped>\n    .dataframe tbody tr th:only-of-type {\n        vertical-align: middle;\n    }\n\n    .dataframe tbody tr th {\n        vertical-align: top;\n    }\n\n    .dataframe thead th {\n        text-align: right;\n    }\n</style>\n<table border=\"1\" class=\"dataframe\">\n  <thead>\n    <tr style=\"text-align: right;\">\n      <th></th>\n      <th>age</th>\n      <th>hypertension</th>\n      <th>heart_disease</th>\n      <th>ever_married</th>\n      <th>avg_glucose_level</th>\n      <th>bmi</th>\n      <th>stroke</th>\n      <th>gender_Female</th>\n      <th>gender_Male</th>\n      <th>gender_Other</th>\n      <th>...</th>\n      <th>smoking_status_never smoked</th>\n      <th>smoking_status_smokes</th>\n      <th>Residence_type_Rural</th>\n      <th>Residence_type_Unknown</th>\n      <th>Residence_type_Urban</th>\n      <th>work_type_Govt_job</th>\n      <th>work_type_Never_worked</th>\n      <th>work_type_Private</th>\n      <th>work_type_Self-employed</th>\n      <th>work_type_children</th>\n    </tr>\n  </thead>\n  <tbody>\n    <tr>\n      <th>0</th>\n      <td>43.071256</td>\n      <td>0</td>\n      <td>0</td>\n      <td>0</td>\n      <td>85.81</td>\n      <td>18.600000</td>\n      <td>0</td>\n      <td>1</td>\n      <td>0</td>\n      <td>0</td>\n      <td>...</td>\n      <td>0</td>\n      <td>0</td>\n      <td>0</td>\n      <td>1</td>\n      <td>0</td>\n      <td>0</td>\n      <td>0</td>\n      <td>0</td>\n      <td>0</td>\n      <td>1</td>\n    </tr>\n    <tr>\n      <th>1</th>\n      <td>55.000000</td>\n      <td>0</td>\n      <td>0</td>\n      <td>1</td>\n      <td>89.17</td>\n      <td>31.480000</td>\n      <td>0</td>\n      <td>0</td>\n      <td>1</td>\n      <td>0</td>\n      <td>...</td>\n      <td>1</td>\n      <td>0</td>\n      <td>0</td>\n      <td>0</td>\n      <td>1</td>\n      <td>0</td>\n      <td>0</td>\n      <td>1</td>\n      <td>0</td>\n      <td>0</td>\n    </tr>\n    <tr>\n      <th>2</th>\n      <td>42.000000</td>\n      <td>0</td>\n      <td>0</td>\n      <td>0</td>\n      <td>98.53</td>\n      <td>18.500000</td>\n      <td>0</td>\n      <td>1</td>\n      <td>0</td>\n      <td>0</td>\n      <td>...</td>\n      <td>1</td>\n      <td>0</td>\n      <td>0</td>\n      <td>1</td>\n      <td>0</td>\n      <td>0</td>\n      <td>0</td>\n      <td>1</td>\n      <td>0</td>\n      <td>0</td>\n    </tr>\n    <tr>\n      <th>4</th>\n      <td>38.000000</td>\n      <td>0</td>\n      <td>0</td>\n      <td>1</td>\n      <td>91.44</td>\n      <td>31.020136</td>\n      <td>0</td>\n      <td>1</td>\n      <td>0</td>\n      <td>0</td>\n      <td>...</td>\n      <td>0</td>\n      <td>0</td>\n      <td>0</td>\n      <td>1</td>\n      <td>0</td>\n      <td>0</td>\n      <td>0</td>\n      <td>1</td>\n      <td>0</td>\n      <td>0</td>\n    </tr>\n    <tr>\n      <th>5</th>\n      <td>24.000000</td>\n      <td>0</td>\n      <td>0</td>\n      <td>0</td>\n      <td>97.55</td>\n      <td>26.200000</td>\n      <td>0</td>\n      <td>1</td>\n      <td>0</td>\n      <td>0</td>\n      <td>...</td>\n      <td>1</td>\n      <td>0</td>\n      <td>0</td>\n      <td>0</td>\n      <td>1</td>\n      <td>0</td>\n      <td>0</td>\n      <td>1</td>\n      <td>0</td>\n      <td>0</td>\n    </tr>\n    <tr>\n      <th>...</th>\n      <td>...</td>\n      <td>...</td>\n      <td>...</td>\n      <td>...</td>\n      <td>...</td>\n      <td>...</td>\n      <td>...</td>\n      <td>...</td>\n      <td>...</td>\n      <td>...</td>\n      <td>...</td>\n      <td>...</td>\n      <td>...</td>\n      <td>...</td>\n      <td>...</td>\n      <td>...</td>\n      <td>...</td>\n      <td>...</td>\n      <td>...</td>\n      <td>...</td>\n      <td>...</td>\n    </tr>\n    <tr>\n      <th>3993</th>\n      <td>59.000000</td>\n      <td>0</td>\n      <td>0</td>\n      <td>1</td>\n      <td>65.98</td>\n      <td>31.480000</td>\n      <td>0</td>\n      <td>1</td>\n      <td>0</td>\n      <td>0</td>\n      <td>...</td>\n      <td>0</td>\n      <td>0</td>\n      <td>0</td>\n      <td>1</td>\n      <td>0</td>\n      <td>0</td>\n      <td>0</td>\n      <td>1</td>\n      <td>0</td>\n      <td>0</td>\n    </tr>\n    <tr>\n      <th>3994</th>\n      <td>52.000000</td>\n      <td>0</td>\n      <td>0</td>\n      <td>1</td>\n      <td>69.30</td>\n      <td>31.480000</td>\n      <td>0</td>\n      <td>1</td>\n      <td>0</td>\n      <td>0</td>\n      <td>...</td>\n      <td>1</td>\n      <td>0</td>\n      <td>0</td>\n      <td>1</td>\n      <td>0</td>\n      <td>0</td>\n      <td>0</td>\n      <td>1</td>\n      <td>0</td>\n      <td>0</td>\n    </tr>\n    <tr>\n      <th>3995</th>\n      <td>16.000000</td>\n      <td>0</td>\n      <td>0</td>\n      <td>0</td>\n      <td>99.49</td>\n      <td>22.000000</td>\n      <td>0</td>\n      <td>0</td>\n      <td>1</td>\n      <td>0</td>\n      <td>...</td>\n      <td>0</td>\n      <td>0</td>\n      <td>0</td>\n      <td>1</td>\n      <td>0</td>\n      <td>0</td>\n      <td>0</td>\n      <td>1</td>\n      <td>0</td>\n      <td>0</td>\n    </tr>\n    <tr>\n      <th>3996</th>\n      <td>47.000000</td>\n      <td>0</td>\n      <td>0</td>\n      <td>1</td>\n      <td>75.30</td>\n      <td>25.000000</td>\n      <td>0</td>\n      <td>0</td>\n      <td>1</td>\n      <td>0</td>\n      <td>...</td>\n      <td>0</td>\n      <td>0</td>\n      <td>1</td>\n      <td>0</td>\n      <td>0</td>\n      <td>0</td>\n      <td>0</td>\n      <td>1</td>\n      <td>0</td>\n      <td>0</td>\n    </tr>\n    <tr>\n      <th>3999</th>\n      <td>53.000000</td>\n      <td>1</td>\n      <td>0</td>\n      <td>1</td>\n      <td>62.55</td>\n      <td>30.300000</td>\n      <td>1</td>\n      <td>1</td>\n      <td>0</td>\n      <td>0</td>\n      <td>...</td>\n      <td>0</td>\n      <td>0</td>\n      <td>0</td>\n      <td>0</td>\n      <td>1</td>\n      <td>0</td>\n      <td>0</td>\n      <td>1</td>\n      <td>0</td>\n      <td>0</td>\n    </tr>\n  </tbody>\n</table>\n<p>3909 rows × 26 columns</p>\n</div>"
     },
     "metadata": {},
     "execution_count": 51
    }
   ],
   "source": [
    "for i in categorical_features_oh:\n",
    "    df.drop(columns=i, axis=1, inplace=True)\n",
    "df"
   ]
  },
  {
   "cell_type": "code",
   "execution_count": 52,
   "metadata": {},
   "outputs": [
    {
     "output_type": "execute_result",
     "data": {
      "text/plain": [
       "                                Total  Percent\n",
       "work_type_children                  0      0.0\n",
       "work_type_Self-employed             0      0.0\n",
       "hypertension                        0      0.0\n",
       "heart_disease                       0      0.0\n",
       "ever_married                        0      0.0\n",
       "avg_glucose_level                   0      0.0\n",
       "bmi                                 0      0.0\n",
       "stroke                              0      0.0\n",
       "gender_Female                       0      0.0\n",
       "gender_Male                         0      0.0\n",
       "gender_Other                        0      0.0\n",
       "blood_A                             0      0.0\n",
       "blood_AB                            0      0.0\n",
       "blood_B                             0      0.0\n",
       "blood_O                             0      0.0\n",
       "smoking_status_Unknown              0      0.0\n",
       "smoking_status_formerly smoked      0      0.0\n",
       "smoking_status_never smoked         0      0.0\n",
       "smoking_status_smokes               0      0.0\n",
       "Residence_type_Rural                0      0.0\n",
       "Residence_type_Unknown              0      0.0\n",
       "Residence_type_Urban                0      0.0\n",
       "work_type_Govt_job                  0      0.0\n",
       "work_type_Never_worked              0      0.0\n",
       "work_type_Private                   0      0.0\n",
       "age                                 0      0.0"
      ],
      "text/html": "<div>\n<style scoped>\n    .dataframe tbody tr th:only-of-type {\n        vertical-align: middle;\n    }\n\n    .dataframe tbody tr th {\n        vertical-align: top;\n    }\n\n    .dataframe thead th {\n        text-align: right;\n    }\n</style>\n<table border=\"1\" class=\"dataframe\">\n  <thead>\n    <tr style=\"text-align: right;\">\n      <th></th>\n      <th>Total</th>\n      <th>Percent</th>\n    </tr>\n  </thead>\n  <tbody>\n    <tr>\n      <th>work_type_children</th>\n      <td>0</td>\n      <td>0.0</td>\n    </tr>\n    <tr>\n      <th>work_type_Self-employed</th>\n      <td>0</td>\n      <td>0.0</td>\n    </tr>\n    <tr>\n      <th>hypertension</th>\n      <td>0</td>\n      <td>0.0</td>\n    </tr>\n    <tr>\n      <th>heart_disease</th>\n      <td>0</td>\n      <td>0.0</td>\n    </tr>\n    <tr>\n      <th>ever_married</th>\n      <td>0</td>\n      <td>0.0</td>\n    </tr>\n    <tr>\n      <th>avg_glucose_level</th>\n      <td>0</td>\n      <td>0.0</td>\n    </tr>\n    <tr>\n      <th>bmi</th>\n      <td>0</td>\n      <td>0.0</td>\n    </tr>\n    <tr>\n      <th>stroke</th>\n      <td>0</td>\n      <td>0.0</td>\n    </tr>\n    <tr>\n      <th>gender_Female</th>\n      <td>0</td>\n      <td>0.0</td>\n    </tr>\n    <tr>\n      <th>gender_Male</th>\n      <td>0</td>\n      <td>0.0</td>\n    </tr>\n    <tr>\n      <th>gender_Other</th>\n      <td>0</td>\n      <td>0.0</td>\n    </tr>\n    <tr>\n      <th>blood_A</th>\n      <td>0</td>\n      <td>0.0</td>\n    </tr>\n    <tr>\n      <th>blood_AB</th>\n      <td>0</td>\n      <td>0.0</td>\n    </tr>\n    <tr>\n      <th>blood_B</th>\n      <td>0</td>\n      <td>0.0</td>\n    </tr>\n    <tr>\n      <th>blood_O</th>\n      <td>0</td>\n      <td>0.0</td>\n    </tr>\n    <tr>\n      <th>smoking_status_Unknown</th>\n      <td>0</td>\n      <td>0.0</td>\n    </tr>\n    <tr>\n      <th>smoking_status_formerly smoked</th>\n      <td>0</td>\n      <td>0.0</td>\n    </tr>\n    <tr>\n      <th>smoking_status_never smoked</th>\n      <td>0</td>\n      <td>0.0</td>\n    </tr>\n    <tr>\n      <th>smoking_status_smokes</th>\n      <td>0</td>\n      <td>0.0</td>\n    </tr>\n    <tr>\n      <th>Residence_type_Rural</th>\n      <td>0</td>\n      <td>0.0</td>\n    </tr>\n    <tr>\n      <th>Residence_type_Unknown</th>\n      <td>0</td>\n      <td>0.0</td>\n    </tr>\n    <tr>\n      <th>Residence_type_Urban</th>\n      <td>0</td>\n      <td>0.0</td>\n    </tr>\n    <tr>\n      <th>work_type_Govt_job</th>\n      <td>0</td>\n      <td>0.0</td>\n    </tr>\n    <tr>\n      <th>work_type_Never_worked</th>\n      <td>0</td>\n      <td>0.0</td>\n    </tr>\n    <tr>\n      <th>work_type_Private</th>\n      <td>0</td>\n      <td>0.0</td>\n    </tr>\n    <tr>\n      <th>age</th>\n      <td>0</td>\n      <td>0.0</td>\n    </tr>\n  </tbody>\n</table>\n</div>"
     },
     "metadata": {},
     "execution_count": 52
    }
   ],
   "source": [
    "draw_missing_data_table(df)"
   ]
  },
  {
   "cell_type": "code",
   "execution_count": 53,
   "metadata": {},
   "outputs": [],
   "source": [
    "from sklearn.preprocessing import StandardScaler\n",
    "std = StandardScaler()\n",
    "columns = ['avg_glucose_level','bmi','age']\n",
    "scaled = std.fit_transform(df[columns])\n",
    "scaled = pd.DataFrame(scaled,columns=columns)\n",
    "df=df.drop(columns=columns,axis=1)"
   ]
  },
  {
   "cell_type": "code",
   "execution_count": 54,
   "metadata": {},
   "outputs": [
    {
     "output_type": "execute_result",
     "data": {
      "text/plain": [
       "      hypertension  heart_disease  ever_married  stroke  gender_Female  \\\n",
       "0                0              0             0       0              1   \n",
       "1                0              0             1       0              0   \n",
       "2                0              0             0       0              1   \n",
       "3                0              0             1       0              1   \n",
       "4                0              0             0       0              1   \n",
       "...            ...            ...           ...     ...            ...   \n",
       "3904             0              0             1       0              1   \n",
       "3905             0              0             1       0              1   \n",
       "3906             0              0             0       0              0   \n",
       "3907             0              0             1       0              0   \n",
       "3908             1              0             1       1              1   \n",
       "\n",
       "      gender_Male  gender_Other  blood_A  blood_AB  blood_B  ...  \\\n",
       "0               0             0        0         0        0  ...   \n",
       "1               1             0        0         0        1  ...   \n",
       "2               0             0        0         0        1  ...   \n",
       "3               0             0        0         0        0  ...   \n",
       "4               0             0        0         0        1  ...   \n",
       "...           ...           ...      ...       ...      ...  ...   \n",
       "3904            0             0        0         0        0  ...   \n",
       "3905            0             0        0         0        1  ...   \n",
       "3906            1             0        0         0        1  ...   \n",
       "3907            1             0        0         0        1  ...   \n",
       "3908            0             0        0         0        0  ...   \n",
       "\n",
       "      Residence_type_Unknown  Residence_type_Urban  work_type_Govt_job  \\\n",
       "0                          1                     0                   0   \n",
       "1                          0                     1                   0   \n",
       "2                          1                     0                   0   \n",
       "3                          1                     0                   0   \n",
       "4                          0                     1                   0   \n",
       "...                      ...                   ...                 ...   \n",
       "3904                       1                     0                   0   \n",
       "3905                       1                     0                   0   \n",
       "3906                       1                     0                   0   \n",
       "3907                       0                     0                   0   \n",
       "3908                       0                     1                   0   \n",
       "\n",
       "      work_type_Never_worked  work_type_Private  work_type_Self-employed  \\\n",
       "0                          0                  0                        0   \n",
       "1                          0                  1                        0   \n",
       "2                          0                  1                        0   \n",
       "3                          0                  1                        0   \n",
       "4                          0                  1                        0   \n",
       "...                      ...                ...                      ...   \n",
       "3904                       0                  1                        0   \n",
       "3905                       0                  1                        0   \n",
       "3906                       0                  1                        0   \n",
       "3907                       0                  1                        0   \n",
       "3908                       0                  1                        0   \n",
       "\n",
       "      work_type_children  avg_glucose_level       bmi       age  \n",
       "0                      1          -0.454391 -1.632301  0.000364  \n",
       "1                      0          -0.377299  0.528038  0.535819  \n",
       "2                      0          -0.162540 -1.649074 -0.047722  \n",
       "3                      0          -0.325215  0.450906 -0.227273  \n",
       "4                      0          -0.185025 -0.357567 -0.855701  \n",
       "...                  ...                ...       ...       ...  \n",
       "3904                   0          -0.909377  0.528038  0.715369  \n",
       "3905                   0          -0.833202  0.528038  0.401155  \n",
       "3906                   0          -0.140513 -1.062025 -1.214803  \n",
       "3907                   0          -0.695536 -0.558841  0.176717  \n",
       "3908                   0          -0.988076  0.330119  0.446043  \n",
       "\n",
       "[3909 rows x 26 columns]"
      ],
      "text/html": "<div>\n<style scoped>\n    .dataframe tbody tr th:only-of-type {\n        vertical-align: middle;\n    }\n\n    .dataframe tbody tr th {\n        vertical-align: top;\n    }\n\n    .dataframe thead th {\n        text-align: right;\n    }\n</style>\n<table border=\"1\" class=\"dataframe\">\n  <thead>\n    <tr style=\"text-align: right;\">\n      <th></th>\n      <th>hypertension</th>\n      <th>heart_disease</th>\n      <th>ever_married</th>\n      <th>stroke</th>\n      <th>gender_Female</th>\n      <th>gender_Male</th>\n      <th>gender_Other</th>\n      <th>blood_A</th>\n      <th>blood_AB</th>\n      <th>blood_B</th>\n      <th>...</th>\n      <th>Residence_type_Unknown</th>\n      <th>Residence_type_Urban</th>\n      <th>work_type_Govt_job</th>\n      <th>work_type_Never_worked</th>\n      <th>work_type_Private</th>\n      <th>work_type_Self-employed</th>\n      <th>work_type_children</th>\n      <th>avg_glucose_level</th>\n      <th>bmi</th>\n      <th>age</th>\n    </tr>\n  </thead>\n  <tbody>\n    <tr>\n      <th>0</th>\n      <td>0</td>\n      <td>0</td>\n      <td>0</td>\n      <td>0</td>\n      <td>1</td>\n      <td>0</td>\n      <td>0</td>\n      <td>0</td>\n      <td>0</td>\n      <td>0</td>\n      <td>...</td>\n      <td>1</td>\n      <td>0</td>\n      <td>0</td>\n      <td>0</td>\n      <td>0</td>\n      <td>0</td>\n      <td>1</td>\n      <td>-0.454391</td>\n      <td>-1.632301</td>\n      <td>0.000364</td>\n    </tr>\n    <tr>\n      <th>1</th>\n      <td>0</td>\n      <td>0</td>\n      <td>1</td>\n      <td>0</td>\n      <td>0</td>\n      <td>1</td>\n      <td>0</td>\n      <td>0</td>\n      <td>0</td>\n      <td>1</td>\n      <td>...</td>\n      <td>0</td>\n      <td>1</td>\n      <td>0</td>\n      <td>0</td>\n      <td>1</td>\n      <td>0</td>\n      <td>0</td>\n      <td>-0.377299</td>\n      <td>0.528038</td>\n      <td>0.535819</td>\n    </tr>\n    <tr>\n      <th>2</th>\n      <td>0</td>\n      <td>0</td>\n      <td>0</td>\n      <td>0</td>\n      <td>1</td>\n      <td>0</td>\n      <td>0</td>\n      <td>0</td>\n      <td>0</td>\n      <td>1</td>\n      <td>...</td>\n      <td>1</td>\n      <td>0</td>\n      <td>0</td>\n      <td>0</td>\n      <td>1</td>\n      <td>0</td>\n      <td>0</td>\n      <td>-0.162540</td>\n      <td>-1.649074</td>\n      <td>-0.047722</td>\n    </tr>\n    <tr>\n      <th>3</th>\n      <td>0</td>\n      <td>0</td>\n      <td>1</td>\n      <td>0</td>\n      <td>1</td>\n      <td>0</td>\n      <td>0</td>\n      <td>0</td>\n      <td>0</td>\n      <td>0</td>\n      <td>...</td>\n      <td>1</td>\n      <td>0</td>\n      <td>0</td>\n      <td>0</td>\n      <td>1</td>\n      <td>0</td>\n      <td>0</td>\n      <td>-0.325215</td>\n      <td>0.450906</td>\n      <td>-0.227273</td>\n    </tr>\n    <tr>\n      <th>4</th>\n      <td>0</td>\n      <td>0</td>\n      <td>0</td>\n      <td>0</td>\n      <td>1</td>\n      <td>0</td>\n      <td>0</td>\n      <td>0</td>\n      <td>0</td>\n      <td>1</td>\n      <td>...</td>\n      <td>0</td>\n      <td>1</td>\n      <td>0</td>\n      <td>0</td>\n      <td>1</td>\n      <td>0</td>\n      <td>0</td>\n      <td>-0.185025</td>\n      <td>-0.357567</td>\n      <td>-0.855701</td>\n    </tr>\n    <tr>\n      <th>...</th>\n      <td>...</td>\n      <td>...</td>\n      <td>...</td>\n      <td>...</td>\n      <td>...</td>\n      <td>...</td>\n      <td>...</td>\n      <td>...</td>\n      <td>...</td>\n      <td>...</td>\n      <td>...</td>\n      <td>...</td>\n      <td>...</td>\n      <td>...</td>\n      <td>...</td>\n      <td>...</td>\n      <td>...</td>\n      <td>...</td>\n      <td>...</td>\n      <td>...</td>\n      <td>...</td>\n    </tr>\n    <tr>\n      <th>3904</th>\n      <td>0</td>\n      <td>0</td>\n      <td>1</td>\n      <td>0</td>\n      <td>1</td>\n      <td>0</td>\n      <td>0</td>\n      <td>0</td>\n      <td>0</td>\n      <td>0</td>\n      <td>...</td>\n      <td>1</td>\n      <td>0</td>\n      <td>0</td>\n      <td>0</td>\n      <td>1</td>\n      <td>0</td>\n      <td>0</td>\n      <td>-0.909377</td>\n      <td>0.528038</td>\n      <td>0.715369</td>\n    </tr>\n    <tr>\n      <th>3905</th>\n      <td>0</td>\n      <td>0</td>\n      <td>1</td>\n      <td>0</td>\n      <td>1</td>\n      <td>0</td>\n      <td>0</td>\n      <td>0</td>\n      <td>0</td>\n      <td>1</td>\n      <td>...</td>\n      <td>1</td>\n      <td>0</td>\n      <td>0</td>\n      <td>0</td>\n      <td>1</td>\n      <td>0</td>\n      <td>0</td>\n      <td>-0.833202</td>\n      <td>0.528038</td>\n      <td>0.401155</td>\n    </tr>\n    <tr>\n      <th>3906</th>\n      <td>0</td>\n      <td>0</td>\n      <td>0</td>\n      <td>0</td>\n      <td>0</td>\n      <td>1</td>\n      <td>0</td>\n      <td>0</td>\n      <td>0</td>\n      <td>1</td>\n      <td>...</td>\n      <td>1</td>\n      <td>0</td>\n      <td>0</td>\n      <td>0</td>\n      <td>1</td>\n      <td>0</td>\n      <td>0</td>\n      <td>-0.140513</td>\n      <td>-1.062025</td>\n      <td>-1.214803</td>\n    </tr>\n    <tr>\n      <th>3907</th>\n      <td>0</td>\n      <td>0</td>\n      <td>1</td>\n      <td>0</td>\n      <td>0</td>\n      <td>1</td>\n      <td>0</td>\n      <td>0</td>\n      <td>0</td>\n      <td>1</td>\n      <td>...</td>\n      <td>0</td>\n      <td>0</td>\n      <td>0</td>\n      <td>0</td>\n      <td>1</td>\n      <td>0</td>\n      <td>0</td>\n      <td>-0.695536</td>\n      <td>-0.558841</td>\n      <td>0.176717</td>\n    </tr>\n    <tr>\n      <th>3908</th>\n      <td>1</td>\n      <td>0</td>\n      <td>1</td>\n      <td>1</td>\n      <td>1</td>\n      <td>0</td>\n      <td>0</td>\n      <td>0</td>\n      <td>0</td>\n      <td>0</td>\n      <td>...</td>\n      <td>0</td>\n      <td>1</td>\n      <td>0</td>\n      <td>0</td>\n      <td>1</td>\n      <td>0</td>\n      <td>0</td>\n      <td>-0.988076</td>\n      <td>0.330119</td>\n      <td>0.446043</td>\n    </tr>\n  </tbody>\n</table>\n<p>3909 rows × 26 columns</p>\n</div>"
     },
     "metadata": {},
     "execution_count": 54
    }
   ],
   "source": [
    "df = df.reset_index(drop=True)\n",
    "df = df.merge(scaled, left_index=True, right_index=True, how = \"left\")\n",
    "df"
   ]
  },
  {
   "cell_type": "code",
   "execution_count": 55,
   "metadata": {},
   "outputs": [
    {
     "output_type": "execute_result",
     "data": {
      "text/plain": [
       "                                Total  Percent\n",
       "age                                 0      0.0\n",
       "bmi                                 0      0.0\n",
       "heart_disease                       0      0.0\n",
       "ever_married                        0      0.0\n",
       "stroke                              0      0.0\n",
       "gender_Female                       0      0.0\n",
       "gender_Male                         0      0.0\n",
       "gender_Other                        0      0.0\n",
       "blood_A                             0      0.0\n",
       "blood_AB                            0      0.0\n",
       "blood_B                             0      0.0\n",
       "blood_O                             0      0.0\n",
       "smoking_status_Unknown              0      0.0\n",
       "smoking_status_formerly smoked      0      0.0\n",
       "smoking_status_never smoked         0      0.0\n",
       "smoking_status_smokes               0      0.0\n",
       "Residence_type_Rural                0      0.0\n",
       "Residence_type_Unknown              0      0.0\n",
       "Residence_type_Urban                0      0.0\n",
       "work_type_Govt_job                  0      0.0\n",
       "work_type_Never_worked              0      0.0\n",
       "work_type_Private                   0      0.0\n",
       "work_type_Self-employed             0      0.0\n",
       "work_type_children                  0      0.0\n",
       "avg_glucose_level                   0      0.0\n",
       "hypertension                        0      0.0"
      ],
      "text/html": "<div>\n<style scoped>\n    .dataframe tbody tr th:only-of-type {\n        vertical-align: middle;\n    }\n\n    .dataframe tbody tr th {\n        vertical-align: top;\n    }\n\n    .dataframe thead th {\n        text-align: right;\n    }\n</style>\n<table border=\"1\" class=\"dataframe\">\n  <thead>\n    <tr style=\"text-align: right;\">\n      <th></th>\n      <th>Total</th>\n      <th>Percent</th>\n    </tr>\n  </thead>\n  <tbody>\n    <tr>\n      <th>age</th>\n      <td>0</td>\n      <td>0.0</td>\n    </tr>\n    <tr>\n      <th>bmi</th>\n      <td>0</td>\n      <td>0.0</td>\n    </tr>\n    <tr>\n      <th>heart_disease</th>\n      <td>0</td>\n      <td>0.0</td>\n    </tr>\n    <tr>\n      <th>ever_married</th>\n      <td>0</td>\n      <td>0.0</td>\n    </tr>\n    <tr>\n      <th>stroke</th>\n      <td>0</td>\n      <td>0.0</td>\n    </tr>\n    <tr>\n      <th>gender_Female</th>\n      <td>0</td>\n      <td>0.0</td>\n    </tr>\n    <tr>\n      <th>gender_Male</th>\n      <td>0</td>\n      <td>0.0</td>\n    </tr>\n    <tr>\n      <th>gender_Other</th>\n      <td>0</td>\n      <td>0.0</td>\n    </tr>\n    <tr>\n      <th>blood_A</th>\n      <td>0</td>\n      <td>0.0</td>\n    </tr>\n    <tr>\n      <th>blood_AB</th>\n      <td>0</td>\n      <td>0.0</td>\n    </tr>\n    <tr>\n      <th>blood_B</th>\n      <td>0</td>\n      <td>0.0</td>\n    </tr>\n    <tr>\n      <th>blood_O</th>\n      <td>0</td>\n      <td>0.0</td>\n    </tr>\n    <tr>\n      <th>smoking_status_Unknown</th>\n      <td>0</td>\n      <td>0.0</td>\n    </tr>\n    <tr>\n      <th>smoking_status_formerly smoked</th>\n      <td>0</td>\n      <td>0.0</td>\n    </tr>\n    <tr>\n      <th>smoking_status_never smoked</th>\n      <td>0</td>\n      <td>0.0</td>\n    </tr>\n    <tr>\n      <th>smoking_status_smokes</th>\n      <td>0</td>\n      <td>0.0</td>\n    </tr>\n    <tr>\n      <th>Residence_type_Rural</th>\n      <td>0</td>\n      <td>0.0</td>\n    </tr>\n    <tr>\n      <th>Residence_type_Unknown</th>\n      <td>0</td>\n      <td>0.0</td>\n    </tr>\n    <tr>\n      <th>Residence_type_Urban</th>\n      <td>0</td>\n      <td>0.0</td>\n    </tr>\n    <tr>\n      <th>work_type_Govt_job</th>\n      <td>0</td>\n      <td>0.0</td>\n    </tr>\n    <tr>\n      <th>work_type_Never_worked</th>\n      <td>0</td>\n      <td>0.0</td>\n    </tr>\n    <tr>\n      <th>work_type_Private</th>\n      <td>0</td>\n      <td>0.0</td>\n    </tr>\n    <tr>\n      <th>work_type_Self-employed</th>\n      <td>0</td>\n      <td>0.0</td>\n    </tr>\n    <tr>\n      <th>work_type_children</th>\n      <td>0</td>\n      <td>0.0</td>\n    </tr>\n    <tr>\n      <th>avg_glucose_level</th>\n      <td>0</td>\n      <td>0.0</td>\n    </tr>\n    <tr>\n      <th>hypertension</th>\n      <td>0</td>\n      <td>0.0</td>\n    </tr>\n  </tbody>\n</table>\n</div>"
     },
     "metadata": {},
     "execution_count": 55
    }
   ],
   "source": [
    "draw_missing_data_table(df)"
   ]
  },
  {
   "cell_type": "code",
   "execution_count": 56,
   "metadata": {},
   "outputs": [],
   "source": [
    "x = df.copy()\n",
    "x = x.drop(columns='stroke')\n",
    "y = df['stroke']"
   ]
  },
  {
   "cell_type": "code",
   "execution_count": 57,
   "metadata": {},
   "outputs": [
    {
     "output_type": "execute_result",
     "data": {
      "text/plain": [
       "   hypertension  heart_disease  ever_married  gender_Female  gender_Male  \\\n",
       "0             0              0             0              1            0   \n",
       "1             0              0             1              0            1   \n",
       "2             0              0             0              1            0   \n",
       "3             0              0             1              1            0   \n",
       "4             0              0             0              1            0   \n",
       "\n",
       "   gender_Other  blood_A  blood_AB  blood_B  blood_O  ...  \\\n",
       "0             0        0         0        0        1  ...   \n",
       "1             0        0         0        1        0  ...   \n",
       "2             0        0         0        1        0  ...   \n",
       "3             0        0         0        0        1  ...   \n",
       "4             0        0         0        1        0  ...   \n",
       "\n",
       "   Residence_type_Unknown  Residence_type_Urban  work_type_Govt_job  \\\n",
       "0                       1                     0                   0   \n",
       "1                       0                     1                   0   \n",
       "2                       1                     0                   0   \n",
       "3                       1                     0                   0   \n",
       "4                       0                     1                   0   \n",
       "\n",
       "   work_type_Never_worked  work_type_Private  work_type_Self-employed  \\\n",
       "0                       0                  0                        0   \n",
       "1                       0                  1                        0   \n",
       "2                       0                  1                        0   \n",
       "3                       0                  1                        0   \n",
       "4                       0                  1                        0   \n",
       "\n",
       "   work_type_children  avg_glucose_level       bmi       age  \n",
       "0                   1          -0.454391 -1.632301  0.000364  \n",
       "1                   0          -0.377299  0.528038  0.535819  \n",
       "2                   0          -0.162540 -1.649074 -0.047722  \n",
       "3                   0          -0.325215  0.450906 -0.227273  \n",
       "4                   0          -0.185025 -0.357567 -0.855701  \n",
       "\n",
       "[5 rows x 25 columns]"
      ],
      "text/html": "<div>\n<style scoped>\n    .dataframe tbody tr th:only-of-type {\n        vertical-align: middle;\n    }\n\n    .dataframe tbody tr th {\n        vertical-align: top;\n    }\n\n    .dataframe thead th {\n        text-align: right;\n    }\n</style>\n<table border=\"1\" class=\"dataframe\">\n  <thead>\n    <tr style=\"text-align: right;\">\n      <th></th>\n      <th>hypertension</th>\n      <th>heart_disease</th>\n      <th>ever_married</th>\n      <th>gender_Female</th>\n      <th>gender_Male</th>\n      <th>gender_Other</th>\n      <th>blood_A</th>\n      <th>blood_AB</th>\n      <th>blood_B</th>\n      <th>blood_O</th>\n      <th>...</th>\n      <th>Residence_type_Unknown</th>\n      <th>Residence_type_Urban</th>\n      <th>work_type_Govt_job</th>\n      <th>work_type_Never_worked</th>\n      <th>work_type_Private</th>\n      <th>work_type_Self-employed</th>\n      <th>work_type_children</th>\n      <th>avg_glucose_level</th>\n      <th>bmi</th>\n      <th>age</th>\n    </tr>\n  </thead>\n  <tbody>\n    <tr>\n      <th>0</th>\n      <td>0</td>\n      <td>0</td>\n      <td>0</td>\n      <td>1</td>\n      <td>0</td>\n      <td>0</td>\n      <td>0</td>\n      <td>0</td>\n      <td>0</td>\n      <td>1</td>\n      <td>...</td>\n      <td>1</td>\n      <td>0</td>\n      <td>0</td>\n      <td>0</td>\n      <td>0</td>\n      <td>0</td>\n      <td>1</td>\n      <td>-0.454391</td>\n      <td>-1.632301</td>\n      <td>0.000364</td>\n    </tr>\n    <tr>\n      <th>1</th>\n      <td>0</td>\n      <td>0</td>\n      <td>1</td>\n      <td>0</td>\n      <td>1</td>\n      <td>0</td>\n      <td>0</td>\n      <td>0</td>\n      <td>1</td>\n      <td>0</td>\n      <td>...</td>\n      <td>0</td>\n      <td>1</td>\n      <td>0</td>\n      <td>0</td>\n      <td>1</td>\n      <td>0</td>\n      <td>0</td>\n      <td>-0.377299</td>\n      <td>0.528038</td>\n      <td>0.535819</td>\n    </tr>\n    <tr>\n      <th>2</th>\n      <td>0</td>\n      <td>0</td>\n      <td>0</td>\n      <td>1</td>\n      <td>0</td>\n      <td>0</td>\n      <td>0</td>\n      <td>0</td>\n      <td>1</td>\n      <td>0</td>\n      <td>...</td>\n      <td>1</td>\n      <td>0</td>\n      <td>0</td>\n      <td>0</td>\n      <td>1</td>\n      <td>0</td>\n      <td>0</td>\n      <td>-0.162540</td>\n      <td>-1.649074</td>\n      <td>-0.047722</td>\n    </tr>\n    <tr>\n      <th>3</th>\n      <td>0</td>\n      <td>0</td>\n      <td>1</td>\n      <td>1</td>\n      <td>0</td>\n      <td>0</td>\n      <td>0</td>\n      <td>0</td>\n      <td>0</td>\n      <td>1</td>\n      <td>...</td>\n      <td>1</td>\n      <td>0</td>\n      <td>0</td>\n      <td>0</td>\n      <td>1</td>\n      <td>0</td>\n      <td>0</td>\n      <td>-0.325215</td>\n      <td>0.450906</td>\n      <td>-0.227273</td>\n    </tr>\n    <tr>\n      <th>4</th>\n      <td>0</td>\n      <td>0</td>\n      <td>0</td>\n      <td>1</td>\n      <td>0</td>\n      <td>0</td>\n      <td>0</td>\n      <td>0</td>\n      <td>1</td>\n      <td>0</td>\n      <td>...</td>\n      <td>0</td>\n      <td>1</td>\n      <td>0</td>\n      <td>0</td>\n      <td>1</td>\n      <td>0</td>\n      <td>0</td>\n      <td>-0.185025</td>\n      <td>-0.357567</td>\n      <td>-0.855701</td>\n    </tr>\n  </tbody>\n</table>\n<p>5 rows × 25 columns</p>\n</div>"
     },
     "metadata": {},
     "execution_count": 57
    }
   ],
   "source": [
    "x[0:5]"
   ]
  },
  {
   "cell_type": "code",
   "execution_count": 58,
   "metadata": {},
   "outputs": [
    {
     "output_type": "execute_result",
     "data": {
      "text/plain": [
       "0    0\n",
       "1    0\n",
       "2    0\n",
       "3    0\n",
       "4    0\n",
       "Name: stroke, dtype: int64"
      ]
     },
     "metadata": {},
     "execution_count": 58
    }
   ],
   "source": [
    "y[0:5]"
   ]
  },
  {
   "source": [
    "## TREATING IMBALANCE CLASS USING SMOTE"
   ],
   "cell_type": "markdown",
   "metadata": {}
  },
  {
   "cell_type": "code",
   "execution_count": 59,
   "metadata": {},
   "outputs": [],
   "source": [
    "smote = SMOTE()\n",
    "x_smote, y_smote = smote.fit_resample(x, y)"
   ]
  },
  {
   "cell_type": "code",
   "execution_count": 60,
   "metadata": {},
   "outputs": [],
   "source": [
    "x_train, x_test, y_train, y_test = train_test_split(x_smote, y_smote, test_size= 0.2, random_state= 42)"
   ]
  },
  {
   "cell_type": "code",
   "execution_count": 61,
   "metadata": {},
   "outputs": [
    {
     "output_type": "stream",
     "name": "stdout",
     "text": [
      "6052\n6052\n1514\n1514\n"
     ]
    }
   ],
   "source": [
    "print(len(x_train))\n",
    "print(len(y_train))\n",
    "print(len(x_test))\n",
    "print(len(y_test))"
   ]
  },
  {
   "source": [
    "## Training model"
   ],
   "cell_type": "markdown",
   "metadata": {}
  },
  {
   "source": [
    "### Using XGBoost"
   ],
   "cell_type": "markdown",
   "metadata": {}
  },
  {
   "cell_type": "code",
   "execution_count": 62,
   "metadata": {},
   "outputs": [
    {
     "output_type": "stream",
     "name": "stdout",
     "text": [
      "[21:35:24] WARNING: C:/Users/Administrator/workspace/xgboost-win64_release_1.4.0/src/learner.cc:1095: Starting in XGBoost 1.3.0, the default evaluation metric used with the objective 'binary:logistic' was changed from 'error' to 'logloss'. Explicitly set eval_metric if you'd like to restore the old behavior.\n",
      "C:\\Users\\razor\\anaconda3\\lib\\site-packages\\xgboost\\sklearn.py:1146: UserWarning: The use of label encoder in XGBClassifier is deprecated and will be removed in a future release. To remove this warning, do the following: 1) Pass option use_label_encoder=False when constructing XGBClassifier object; and 2) Encode your labels (y) as integers starting with 0, i.e. 0, 1, 2, ..., [num_class - 1].\n",
      "  warnings.warn(label_encoder_deprecation_msg, UserWarning)\n"
     ]
    },
    {
     "output_type": "execute_result",
     "data": {
      "text/plain": [
       "0.9865591397849464"
      ]
     },
     "metadata": {},
     "execution_count": 62
    }
   ],
   "source": [
    "import xgboost as xgb\n",
    "model_xgb = xgb.XGBClassifier()\n",
    "model_xgb.fit(x_train, y_train)\n",
    "y_xgb_pred = model_xgb.predict(x_test)\n",
    "f1_score(y_test, y_xgb_pred)"
   ]
  },
  {
   "cell_type": "code",
   "execution_count": 63,
   "metadata": {},
   "outputs": [
    {
     "output_type": "execute_result",
     "data": {
      "text/plain": [
       "array([[760,  11],\n",
       "       [  9, 734]], dtype=int64)"
      ]
     },
     "metadata": {},
     "execution_count": 63
    }
   ],
   "source": [
    "cm = confusion_matrix(y_test, y_xgb_pred)\n",
    "cm"
   ]
  },
  {
   "cell_type": "code",
   "execution_count": 64,
   "metadata": {},
   "outputs": [
    {
     "output_type": "stream",
     "name": "stdout",
     "text": [
      "0.9865591397849464\n0.9867899603698811\n"
     ]
    }
   ],
   "source": [
    "tn = cm[0,0]\n",
    "fp = cm[0,1]\n",
    "tp = cm[1,1]\n",
    "fn = cm[1,0]\n",
    "accuracy  = (tp + tn) / (tp + fp + tn + fn)\n",
    "precision = tp / (tp + fp)\n",
    "recall    = tp / (tp + fn)\n",
    "f1score  = 2 * precision * recall / (precision + recall)\n",
    "print(f1score)\n",
    "print(accuracy)"
   ]
  },
  {
   "source": [
    "## Test submission"
   ],
   "cell_type": "markdown",
   "metadata": {}
  },
  {
   "cell_type": "code",
   "execution_count": 65,
   "metadata": {},
   "outputs": [
    {
     "output_type": "execute_result",
     "data": {
      "text/plain": [
       "     Unnamed: 0     id  hypertension  heart_disease  ever_married  \\\n",
       "0             0     67             0              0             0   \n",
       "1             1    210             0              0             1   \n",
       "2             2    242             0              0             0   \n",
       "3             3    711             0              0             1   \n",
       "4             4    724             0              0             0   \n",
       "..          ...    ...           ...            ...           ...   \n",
       "495         495  72393             0              0             1   \n",
       "496         496  72491             0              0             1   \n",
       "497         497  72562             0              0             1   \n",
       "498         498  72792             0              0             1   \n",
       "499         499  72940             0              0             0   \n",
       "\n",
       "     gender_Female  gender_Male  gender_Other  blood_A  blood_AB  ...  \\\n",
       "0                1            0             0        0         1  ...   \n",
       "1                0            1             0        1         0  ...   \n",
       "2                0            1             0        0         0  ...   \n",
       "3                0            1             0        0         1  ...   \n",
       "4                0            1             0        0         0  ...   \n",
       "..             ...          ...           ...      ...       ...  ...   \n",
       "495              1            0             0        1         0  ...   \n",
       "496              0            1             0        0         0  ...   \n",
       "497              1            0             0        0         1  ...   \n",
       "498              1            0             0        0         1  ...   \n",
       "499              1            0             0        0         1  ...   \n",
       "\n",
       "     Residence_type_Unknown  Residence_type_Urban  work_type_Govt_job  \\\n",
       "0                         0                     1                   0   \n",
       "1                         0                     0                   0   \n",
       "2                         0                     1                   0   \n",
       "3                         0                     0                   0   \n",
       "4                         0                     0                   0   \n",
       "..                      ...                   ...                 ...   \n",
       "495                       0                     0                   1   \n",
       "496                       0                     1                   0   \n",
       "497                       0                     0                   0   \n",
       "498                       0                     0                   0   \n",
       "499                       0                     1                   0   \n",
       "\n",
       "     work_type_Never_worked  work_type_Private  work_type_Self-employed  \\\n",
       "0                         0                  1                        0   \n",
       "1                         0                  0                        1   \n",
       "2                         0                  0                        0   \n",
       "3                         0                  1                        0   \n",
       "4                         0                  1                        0   \n",
       "..                      ...                ...                      ...   \n",
       "495                       0                  0                        0   \n",
       "496                       0                  1                        0   \n",
       "497                       0                  1                        0   \n",
       "498                       0                  1                        0   \n",
       "499                       0                  0                        0   \n",
       "\n",
       "     work_type_children  avg_glucose_level       bmi       age  \n",
       "0                     0          -0.288097 -0.071492 -1.162120  \n",
       "1                     0          -0.318603  0.286883  1.711148  \n",
       "2                     1          -0.168848 -1.462595 -1.745753  \n",
       "3                     0          -0.288311 -0.871045  1.711148  \n",
       "4                     0          -0.527022  1.960843 -1.162120  \n",
       "..                  ...                ...       ...       ...  \n",
       "495                   0          -0.459611 -0.619321 -0.892751  \n",
       "496                   0          -0.678697  0.009987  0.454093  \n",
       "497                   0          -0.898210  0.463089  0.633672  \n",
       "498                   0          -0.608726  0.221938  0.454093  \n",
       "499                   1          -0.075838 -1.450009 -1.835542  \n",
       "\n",
       "[500 rows x 27 columns]"
      ],
      "text/html": "<div>\n<style scoped>\n    .dataframe tbody tr th:only-of-type {\n        vertical-align: middle;\n    }\n\n    .dataframe tbody tr th {\n        vertical-align: top;\n    }\n\n    .dataframe thead th {\n        text-align: right;\n    }\n</style>\n<table border=\"1\" class=\"dataframe\">\n  <thead>\n    <tr style=\"text-align: right;\">\n      <th></th>\n      <th>Unnamed: 0</th>\n      <th>id</th>\n      <th>hypertension</th>\n      <th>heart_disease</th>\n      <th>ever_married</th>\n      <th>gender_Female</th>\n      <th>gender_Male</th>\n      <th>gender_Other</th>\n      <th>blood_A</th>\n      <th>blood_AB</th>\n      <th>...</th>\n      <th>Residence_type_Unknown</th>\n      <th>Residence_type_Urban</th>\n      <th>work_type_Govt_job</th>\n      <th>work_type_Never_worked</th>\n      <th>work_type_Private</th>\n      <th>work_type_Self-employed</th>\n      <th>work_type_children</th>\n      <th>avg_glucose_level</th>\n      <th>bmi</th>\n      <th>age</th>\n    </tr>\n  </thead>\n  <tbody>\n    <tr>\n      <th>0</th>\n      <td>0</td>\n      <td>67</td>\n      <td>0</td>\n      <td>0</td>\n      <td>0</td>\n      <td>1</td>\n      <td>0</td>\n      <td>0</td>\n      <td>0</td>\n      <td>1</td>\n      <td>...</td>\n      <td>0</td>\n      <td>1</td>\n      <td>0</td>\n      <td>0</td>\n      <td>1</td>\n      <td>0</td>\n      <td>0</td>\n      <td>-0.288097</td>\n      <td>-0.071492</td>\n      <td>-1.162120</td>\n    </tr>\n    <tr>\n      <th>1</th>\n      <td>1</td>\n      <td>210</td>\n      <td>0</td>\n      <td>0</td>\n      <td>1</td>\n      <td>0</td>\n      <td>1</td>\n      <td>0</td>\n      <td>1</td>\n      <td>0</td>\n      <td>...</td>\n      <td>0</td>\n      <td>0</td>\n      <td>0</td>\n      <td>0</td>\n      <td>0</td>\n      <td>1</td>\n      <td>0</td>\n      <td>-0.318603</td>\n      <td>0.286883</td>\n      <td>1.711148</td>\n    </tr>\n    <tr>\n      <th>2</th>\n      <td>2</td>\n      <td>242</td>\n      <td>0</td>\n      <td>0</td>\n      <td>0</td>\n      <td>0</td>\n      <td>1</td>\n      <td>0</td>\n      <td>0</td>\n      <td>0</td>\n      <td>...</td>\n      <td>0</td>\n      <td>1</td>\n      <td>0</td>\n      <td>0</td>\n      <td>0</td>\n      <td>0</td>\n      <td>1</td>\n      <td>-0.168848</td>\n      <td>-1.462595</td>\n      <td>-1.745753</td>\n    </tr>\n    <tr>\n      <th>3</th>\n      <td>3</td>\n      <td>711</td>\n      <td>0</td>\n      <td>0</td>\n      <td>1</td>\n      <td>0</td>\n      <td>1</td>\n      <td>0</td>\n      <td>0</td>\n      <td>1</td>\n      <td>...</td>\n      <td>0</td>\n      <td>0</td>\n      <td>0</td>\n      <td>0</td>\n      <td>1</td>\n      <td>0</td>\n      <td>0</td>\n      <td>-0.288311</td>\n      <td>-0.871045</td>\n      <td>1.711148</td>\n    </tr>\n    <tr>\n      <th>4</th>\n      <td>4</td>\n      <td>724</td>\n      <td>0</td>\n      <td>0</td>\n      <td>0</td>\n      <td>0</td>\n      <td>1</td>\n      <td>0</td>\n      <td>0</td>\n      <td>0</td>\n      <td>...</td>\n      <td>0</td>\n      <td>0</td>\n      <td>0</td>\n      <td>0</td>\n      <td>1</td>\n      <td>0</td>\n      <td>0</td>\n      <td>-0.527022</td>\n      <td>1.960843</td>\n      <td>-1.162120</td>\n    </tr>\n    <tr>\n      <th>...</th>\n      <td>...</td>\n      <td>...</td>\n      <td>...</td>\n      <td>...</td>\n      <td>...</td>\n      <td>...</td>\n      <td>...</td>\n      <td>...</td>\n      <td>...</td>\n      <td>...</td>\n      <td>...</td>\n      <td>...</td>\n      <td>...</td>\n      <td>...</td>\n      <td>...</td>\n      <td>...</td>\n      <td>...</td>\n      <td>...</td>\n      <td>...</td>\n      <td>...</td>\n      <td>...</td>\n    </tr>\n    <tr>\n      <th>495</th>\n      <td>495</td>\n      <td>72393</td>\n      <td>0</td>\n      <td>0</td>\n      <td>1</td>\n      <td>1</td>\n      <td>0</td>\n      <td>0</td>\n      <td>1</td>\n      <td>0</td>\n      <td>...</td>\n      <td>0</td>\n      <td>0</td>\n      <td>1</td>\n      <td>0</td>\n      <td>0</td>\n      <td>0</td>\n      <td>0</td>\n      <td>-0.459611</td>\n      <td>-0.619321</td>\n      <td>-0.892751</td>\n    </tr>\n    <tr>\n      <th>496</th>\n      <td>496</td>\n      <td>72491</td>\n      <td>0</td>\n      <td>0</td>\n      <td>1</td>\n      <td>0</td>\n      <td>1</td>\n      <td>0</td>\n      <td>0</td>\n      <td>0</td>\n      <td>...</td>\n      <td>0</td>\n      <td>1</td>\n      <td>0</td>\n      <td>0</td>\n      <td>1</td>\n      <td>0</td>\n      <td>0</td>\n      <td>-0.678697</td>\n      <td>0.009987</td>\n      <td>0.454093</td>\n    </tr>\n    <tr>\n      <th>497</th>\n      <td>497</td>\n      <td>72562</td>\n      <td>0</td>\n      <td>0</td>\n      <td>1</td>\n      <td>1</td>\n      <td>0</td>\n      <td>0</td>\n      <td>0</td>\n      <td>1</td>\n      <td>...</td>\n      <td>0</td>\n      <td>0</td>\n      <td>0</td>\n      <td>0</td>\n      <td>1</td>\n      <td>0</td>\n      <td>0</td>\n      <td>-0.898210</td>\n      <td>0.463089</td>\n      <td>0.633672</td>\n    </tr>\n    <tr>\n      <th>498</th>\n      <td>498</td>\n      <td>72792</td>\n      <td>0</td>\n      <td>0</td>\n      <td>1</td>\n      <td>1</td>\n      <td>0</td>\n      <td>0</td>\n      <td>0</td>\n      <td>1</td>\n      <td>...</td>\n      <td>0</td>\n      <td>0</td>\n      <td>0</td>\n      <td>0</td>\n      <td>1</td>\n      <td>0</td>\n      <td>0</td>\n      <td>-0.608726</td>\n      <td>0.221938</td>\n      <td>0.454093</td>\n    </tr>\n    <tr>\n      <th>499</th>\n      <td>499</td>\n      <td>72940</td>\n      <td>0</td>\n      <td>0</td>\n      <td>0</td>\n      <td>1</td>\n      <td>0</td>\n      <td>0</td>\n      <td>0</td>\n      <td>1</td>\n      <td>...</td>\n      <td>0</td>\n      <td>1</td>\n      <td>0</td>\n      <td>0</td>\n      <td>0</td>\n      <td>0</td>\n      <td>1</td>\n      <td>-0.075838</td>\n      <td>-1.450009</td>\n      <td>-1.835542</td>\n    </tr>\n  </tbody>\n</table>\n<p>500 rows × 27 columns</p>\n</div>"
     },
     "metadata": {},
     "execution_count": 65
    }
   ],
   "source": [
    "test_df = pd.read_csv(\"./Dataset/processed_test.csv\")\n",
    "test_df"
   ]
  },
  {
   "cell_type": "code",
   "execution_count": 66,
   "metadata": {},
   "outputs": [],
   "source": [
    "test_df.drop(columns= 'Unnamed: 0', inplace=True)"
   ]
  },
  {
   "cell_type": "code",
   "execution_count": 67,
   "metadata": {},
   "outputs": [],
   "source": [
    "x = test_df.copy()\n",
    "x.drop(columns='id', inplace=True)\n",
    "id_test = test_df['id']"
   ]
  },
  {
   "cell_type": "code",
   "execution_count": 68,
   "metadata": {},
   "outputs": [
    {
     "output_type": "execute_result",
     "data": {
      "text/plain": [
       "     hypertension  heart_disease  ever_married  gender_Female  gender_Male  \\\n",
       "0               0              0             0              1            0   \n",
       "1               0              0             1              0            1   \n",
       "2               0              0             0              0            1   \n",
       "3               0              0             1              0            1   \n",
       "4               0              0             0              0            1   \n",
       "..            ...            ...           ...            ...          ...   \n",
       "495             0              0             1              1            0   \n",
       "496             0              0             1              0            1   \n",
       "497             0              0             1              1            0   \n",
       "498             0              0             1              1            0   \n",
       "499             0              0             0              1            0   \n",
       "\n",
       "     gender_Other  blood_A  blood_AB  blood_B  blood_O  ...  \\\n",
       "0               0        0         1        0        0  ...   \n",
       "1               0        1         0        0        0  ...   \n",
       "2               0        0         0        0        1  ...   \n",
       "3               0        0         1        0        0  ...   \n",
       "4               0        0         0        0        1  ...   \n",
       "..            ...      ...       ...      ...      ...  ...   \n",
       "495             0        1         0        0        0  ...   \n",
       "496             0        0         0        0        1  ...   \n",
       "497             0        0         1        0        0  ...   \n",
       "498             0        0         1        0        0  ...   \n",
       "499             0        0         1        0        0  ...   \n",
       "\n",
       "     Residence_type_Unknown  Residence_type_Urban  work_type_Govt_job  \\\n",
       "0                         0                     1                   0   \n",
       "1                         0                     0                   0   \n",
       "2                         0                     1                   0   \n",
       "3                         0                     0                   0   \n",
       "4                         0                     0                   0   \n",
       "..                      ...                   ...                 ...   \n",
       "495                       0                     0                   1   \n",
       "496                       0                     1                   0   \n",
       "497                       0                     0                   0   \n",
       "498                       0                     0                   0   \n",
       "499                       0                     1                   0   \n",
       "\n",
       "     work_type_Never_worked  work_type_Private  work_type_Self-employed  \\\n",
       "0                         0                  1                        0   \n",
       "1                         0                  0                        1   \n",
       "2                         0                  0                        0   \n",
       "3                         0                  1                        0   \n",
       "4                         0                  1                        0   \n",
       "..                      ...                ...                      ...   \n",
       "495                       0                  0                        0   \n",
       "496                       0                  1                        0   \n",
       "497                       0                  1                        0   \n",
       "498                       0                  1                        0   \n",
       "499                       0                  0                        0   \n",
       "\n",
       "     work_type_children  avg_glucose_level       bmi       age  \n",
       "0                     0          -0.288097 -0.071492 -1.162120  \n",
       "1                     0          -0.318603  0.286883  1.711148  \n",
       "2                     1          -0.168848 -1.462595 -1.745753  \n",
       "3                     0          -0.288311 -0.871045  1.711148  \n",
       "4                     0          -0.527022  1.960843 -1.162120  \n",
       "..                  ...                ...       ...       ...  \n",
       "495                   0          -0.459611 -0.619321 -0.892751  \n",
       "496                   0          -0.678697  0.009987  0.454093  \n",
       "497                   0          -0.898210  0.463089  0.633672  \n",
       "498                   0          -0.608726  0.221938  0.454093  \n",
       "499                   1          -0.075838 -1.450009 -1.835542  \n",
       "\n",
       "[500 rows x 25 columns]"
      ],
      "text/html": "<div>\n<style scoped>\n    .dataframe tbody tr th:only-of-type {\n        vertical-align: middle;\n    }\n\n    .dataframe tbody tr th {\n        vertical-align: top;\n    }\n\n    .dataframe thead th {\n        text-align: right;\n    }\n</style>\n<table border=\"1\" class=\"dataframe\">\n  <thead>\n    <tr style=\"text-align: right;\">\n      <th></th>\n      <th>hypertension</th>\n      <th>heart_disease</th>\n      <th>ever_married</th>\n      <th>gender_Female</th>\n      <th>gender_Male</th>\n      <th>gender_Other</th>\n      <th>blood_A</th>\n      <th>blood_AB</th>\n      <th>blood_B</th>\n      <th>blood_O</th>\n      <th>...</th>\n      <th>Residence_type_Unknown</th>\n      <th>Residence_type_Urban</th>\n      <th>work_type_Govt_job</th>\n      <th>work_type_Never_worked</th>\n      <th>work_type_Private</th>\n      <th>work_type_Self-employed</th>\n      <th>work_type_children</th>\n      <th>avg_glucose_level</th>\n      <th>bmi</th>\n      <th>age</th>\n    </tr>\n  </thead>\n  <tbody>\n    <tr>\n      <th>0</th>\n      <td>0</td>\n      <td>0</td>\n      <td>0</td>\n      <td>1</td>\n      <td>0</td>\n      <td>0</td>\n      <td>0</td>\n      <td>1</td>\n      <td>0</td>\n      <td>0</td>\n      <td>...</td>\n      <td>0</td>\n      <td>1</td>\n      <td>0</td>\n      <td>0</td>\n      <td>1</td>\n      <td>0</td>\n      <td>0</td>\n      <td>-0.288097</td>\n      <td>-0.071492</td>\n      <td>-1.162120</td>\n    </tr>\n    <tr>\n      <th>1</th>\n      <td>0</td>\n      <td>0</td>\n      <td>1</td>\n      <td>0</td>\n      <td>1</td>\n      <td>0</td>\n      <td>1</td>\n      <td>0</td>\n      <td>0</td>\n      <td>0</td>\n      <td>...</td>\n      <td>0</td>\n      <td>0</td>\n      <td>0</td>\n      <td>0</td>\n      <td>0</td>\n      <td>1</td>\n      <td>0</td>\n      <td>-0.318603</td>\n      <td>0.286883</td>\n      <td>1.711148</td>\n    </tr>\n    <tr>\n      <th>2</th>\n      <td>0</td>\n      <td>0</td>\n      <td>0</td>\n      <td>0</td>\n      <td>1</td>\n      <td>0</td>\n      <td>0</td>\n      <td>0</td>\n      <td>0</td>\n      <td>1</td>\n      <td>...</td>\n      <td>0</td>\n      <td>1</td>\n      <td>0</td>\n      <td>0</td>\n      <td>0</td>\n      <td>0</td>\n      <td>1</td>\n      <td>-0.168848</td>\n      <td>-1.462595</td>\n      <td>-1.745753</td>\n    </tr>\n    <tr>\n      <th>3</th>\n      <td>0</td>\n      <td>0</td>\n      <td>1</td>\n      <td>0</td>\n      <td>1</td>\n      <td>0</td>\n      <td>0</td>\n      <td>1</td>\n      <td>0</td>\n      <td>0</td>\n      <td>...</td>\n      <td>0</td>\n      <td>0</td>\n      <td>0</td>\n      <td>0</td>\n      <td>1</td>\n      <td>0</td>\n      <td>0</td>\n      <td>-0.288311</td>\n      <td>-0.871045</td>\n      <td>1.711148</td>\n    </tr>\n    <tr>\n      <th>4</th>\n      <td>0</td>\n      <td>0</td>\n      <td>0</td>\n      <td>0</td>\n      <td>1</td>\n      <td>0</td>\n      <td>0</td>\n      <td>0</td>\n      <td>0</td>\n      <td>1</td>\n      <td>...</td>\n      <td>0</td>\n      <td>0</td>\n      <td>0</td>\n      <td>0</td>\n      <td>1</td>\n      <td>0</td>\n      <td>0</td>\n      <td>-0.527022</td>\n      <td>1.960843</td>\n      <td>-1.162120</td>\n    </tr>\n    <tr>\n      <th>...</th>\n      <td>...</td>\n      <td>...</td>\n      <td>...</td>\n      <td>...</td>\n      <td>...</td>\n      <td>...</td>\n      <td>...</td>\n      <td>...</td>\n      <td>...</td>\n      <td>...</td>\n      <td>...</td>\n      <td>...</td>\n      <td>...</td>\n      <td>...</td>\n      <td>...</td>\n      <td>...</td>\n      <td>...</td>\n      <td>...</td>\n      <td>...</td>\n      <td>...</td>\n      <td>...</td>\n    </tr>\n    <tr>\n      <th>495</th>\n      <td>0</td>\n      <td>0</td>\n      <td>1</td>\n      <td>1</td>\n      <td>0</td>\n      <td>0</td>\n      <td>1</td>\n      <td>0</td>\n      <td>0</td>\n      <td>0</td>\n      <td>...</td>\n      <td>0</td>\n      <td>0</td>\n      <td>1</td>\n      <td>0</td>\n      <td>0</td>\n      <td>0</td>\n      <td>0</td>\n      <td>-0.459611</td>\n      <td>-0.619321</td>\n      <td>-0.892751</td>\n    </tr>\n    <tr>\n      <th>496</th>\n      <td>0</td>\n      <td>0</td>\n      <td>1</td>\n      <td>0</td>\n      <td>1</td>\n      <td>0</td>\n      <td>0</td>\n      <td>0</td>\n      <td>0</td>\n      <td>1</td>\n      <td>...</td>\n      <td>0</td>\n      <td>1</td>\n      <td>0</td>\n      <td>0</td>\n      <td>1</td>\n      <td>0</td>\n      <td>0</td>\n      <td>-0.678697</td>\n      <td>0.009987</td>\n      <td>0.454093</td>\n    </tr>\n    <tr>\n      <th>497</th>\n      <td>0</td>\n      <td>0</td>\n      <td>1</td>\n      <td>1</td>\n      <td>0</td>\n      <td>0</td>\n      <td>0</td>\n      <td>1</td>\n      <td>0</td>\n      <td>0</td>\n      <td>...</td>\n      <td>0</td>\n      <td>0</td>\n      <td>0</td>\n      <td>0</td>\n      <td>1</td>\n      <td>0</td>\n      <td>0</td>\n      <td>-0.898210</td>\n      <td>0.463089</td>\n      <td>0.633672</td>\n    </tr>\n    <tr>\n      <th>498</th>\n      <td>0</td>\n      <td>0</td>\n      <td>1</td>\n      <td>1</td>\n      <td>0</td>\n      <td>0</td>\n      <td>0</td>\n      <td>1</td>\n      <td>0</td>\n      <td>0</td>\n      <td>...</td>\n      <td>0</td>\n      <td>0</td>\n      <td>0</td>\n      <td>0</td>\n      <td>1</td>\n      <td>0</td>\n      <td>0</td>\n      <td>-0.608726</td>\n      <td>0.221938</td>\n      <td>0.454093</td>\n    </tr>\n    <tr>\n      <th>499</th>\n      <td>0</td>\n      <td>0</td>\n      <td>0</td>\n      <td>1</td>\n      <td>0</td>\n      <td>0</td>\n      <td>0</td>\n      <td>1</td>\n      <td>0</td>\n      <td>0</td>\n      <td>...</td>\n      <td>0</td>\n      <td>1</td>\n      <td>0</td>\n      <td>0</td>\n      <td>0</td>\n      <td>0</td>\n      <td>1</td>\n      <td>-0.075838</td>\n      <td>-1.450009</td>\n      <td>-1.835542</td>\n    </tr>\n  </tbody>\n</table>\n<p>500 rows × 25 columns</p>\n</div>"
     },
     "metadata": {},
     "execution_count": 68
    }
   ],
   "source": [
    "x"
   ]
  },
  {
   "cell_type": "code",
   "execution_count": 69,
   "metadata": {},
   "outputs": [],
   "source": [
    "y_xgb_pred_test = model_xgb.predict(x)"
   ]
  },
  {
   "cell_type": "code",
   "execution_count": 70,
   "metadata": {},
   "outputs": [
    {
     "output_type": "execute_result",
     "data": {
      "text/plain": [
       "array([0, 0, 0, 0, 0, 0, 0, 0, 0, 0, 1, 0, 0, 0, 0, 0, 0, 1, 0, 0, 0, 0,\n",
       "       0, 0, 0, 0, 0, 0, 0, 0, 0, 0, 0, 0, 0, 0, 0, 0, 1, 0, 0, 0, 0, 0,\n",
       "       0, 0, 0, 0, 0, 0, 1, 0, 0, 1, 0, 0, 0, 0, 0, 0, 0, 0, 0, 0, 0, 0,\n",
       "       0, 1, 0, 0, 1, 0, 0, 0, 0, 0, 0, 0, 0, 0, 0, 1, 0, 0, 0, 0, 0, 0,\n",
       "       1, 0, 0, 0, 0, 0, 0, 0, 0, 0, 1, 0, 0, 1, 0, 0, 0, 0, 0, 0, 0, 1,\n",
       "       0, 0, 0, 0, 0, 1, 0, 0, 0, 1, 0, 0, 0, 0, 0, 0, 0, 0, 0, 1, 0, 0,\n",
       "       0, 1, 1, 0, 0, 0, 0, 0, 0, 0, 0, 0, 0, 0, 0, 0, 0, 0, 0, 0, 1, 0,\n",
       "       0, 0, 0, 0, 0, 0, 0, 0, 0, 0, 1, 0, 0, 0, 0, 0, 0, 1, 0, 0, 0, 0,\n",
       "       0, 0, 1, 0, 0, 0, 0, 0, 0, 0, 0, 0, 0, 0, 0, 0, 0, 0, 0, 0, 0, 0,\n",
       "       1, 0, 0, 0, 0, 0, 0, 0, 0, 0, 1, 0, 1, 0, 0, 0, 1, 0, 0, 0, 0, 0,\n",
       "       0, 0, 0, 0, 0, 0, 0, 0, 0, 0, 0, 0, 0, 1, 0, 0, 0, 0, 0, 0, 0, 0,\n",
       "       0, 0, 0, 1, 0, 0, 0, 0, 1, 0, 0, 0, 0, 1, 0, 0, 0, 1, 0, 0, 0, 0,\n",
       "       0, 0, 0, 0, 1, 0, 0, 0, 0, 0, 0, 0, 0, 0, 0, 0, 0, 0, 0, 1, 0, 0,\n",
       "       0, 1, 0, 1, 0, 0, 0, 0, 0, 0, 0, 0, 0, 0, 0, 1, 0, 0, 0, 0, 0, 0,\n",
       "       0, 0, 1, 1, 0, 0, 0, 0, 0, 0, 0, 0, 0, 0, 0, 0, 0, 0, 0, 0, 1, 0,\n",
       "       0, 1, 0, 0, 0, 1, 0, 0, 1, 0, 0, 0, 0, 0, 0, 0, 1, 0, 0, 0, 0, 0,\n",
       "       0, 0, 0, 0, 0, 1, 0, 0, 0, 0, 1, 0, 0, 0, 0, 0, 0, 0, 0, 0, 0, 0,\n",
       "       0, 0, 0, 0, 1, 0, 0, 0, 0, 0, 0, 1, 0, 0, 0, 0, 1, 1, 0, 0, 0, 0,\n",
       "       0, 1, 1, 1, 0, 1, 0, 0, 0, 0, 0, 1, 1, 1, 0, 0, 0, 0, 0, 1, 0, 0,\n",
       "       0, 1, 0, 0, 0, 1, 0, 0, 0, 0, 0, 0, 1, 0, 1, 0, 0, 0, 0, 1, 0, 0,\n",
       "       0, 0, 0, 0, 0, 0, 0, 1, 0, 0, 0, 1, 0, 0, 0, 0, 0, 0, 0, 0, 0, 0,\n",
       "       0, 0, 0, 0, 0, 1, 0, 0, 0, 0, 0, 0, 0, 0, 0, 1, 0, 0, 0, 0, 1, 1,\n",
       "       0, 1, 0, 0, 0, 0, 0, 0, 1, 0, 0, 0, 1, 0, 0, 0], dtype=int64)"
      ]
     },
     "metadata": {},
     "execution_count": 70
    }
   ],
   "source": [
    "y_xgb_pred_test"
   ]
  },
  {
   "cell_type": "code",
   "execution_count": 71,
   "metadata": {},
   "outputs": [
    {
     "output_type": "execute_result",
     "data": {
      "text/plain": [
       "        id  stroke\n",
       "0       67       0\n",
       "1      210       0\n",
       "2      242       0\n",
       "3      711       0\n",
       "4      724       0\n",
       "..     ...     ...\n",
       "495  72393       0\n",
       "496  72491       1\n",
       "497  72562       0\n",
       "498  72792       0\n",
       "499  72940       0\n",
       "\n",
       "[500 rows x 2 columns]"
      ],
      "text/html": "<div>\n<style scoped>\n    .dataframe tbody tr th:only-of-type {\n        vertical-align: middle;\n    }\n\n    .dataframe tbody tr th {\n        vertical-align: top;\n    }\n\n    .dataframe thead th {\n        text-align: right;\n    }\n</style>\n<table border=\"1\" class=\"dataframe\">\n  <thead>\n    <tr style=\"text-align: right;\">\n      <th></th>\n      <th>id</th>\n      <th>stroke</th>\n    </tr>\n  </thead>\n  <tbody>\n    <tr>\n      <th>0</th>\n      <td>67</td>\n      <td>0</td>\n    </tr>\n    <tr>\n      <th>1</th>\n      <td>210</td>\n      <td>0</td>\n    </tr>\n    <tr>\n      <th>2</th>\n      <td>242</td>\n      <td>0</td>\n    </tr>\n    <tr>\n      <th>3</th>\n      <td>711</td>\n      <td>0</td>\n    </tr>\n    <tr>\n      <th>4</th>\n      <td>724</td>\n      <td>0</td>\n    </tr>\n    <tr>\n      <th>...</th>\n      <td>...</td>\n      <td>...</td>\n    </tr>\n    <tr>\n      <th>495</th>\n      <td>72393</td>\n      <td>0</td>\n    </tr>\n    <tr>\n      <th>496</th>\n      <td>72491</td>\n      <td>1</td>\n    </tr>\n    <tr>\n      <th>497</th>\n      <td>72562</td>\n      <td>0</td>\n    </tr>\n    <tr>\n      <th>498</th>\n      <td>72792</td>\n      <td>0</td>\n    </tr>\n    <tr>\n      <th>499</th>\n      <td>72940</td>\n      <td>0</td>\n    </tr>\n  </tbody>\n</table>\n<p>500 rows × 2 columns</p>\n</div>"
     },
     "metadata": {},
     "execution_count": 71
    }
   ],
   "source": [
    "data_test_submit = {'id': id_test, 'stroke': y_xgb_pred_test}\n",
    "df_test_submit = pd.DataFrame(data= data_test_submit)\n",
    "df_test_submit"
   ]
  },
  {
   "cell_type": "code",
   "execution_count": 72,
   "metadata": {},
   "outputs": [],
   "source": [
    "df_test_submit.to_csv('./Dataset/Submission.csv', index= False)"
   ]
  },
  {
   "source": [
    "## Save Model"
   ],
   "cell_type": "markdown",
   "metadata": {}
  },
  {
   "cell_type": "code",
   "execution_count": 73,
   "metadata": {},
   "outputs": [
    {
     "output_type": "execute_result",
     "data": {
      "text/plain": [
       "XGBClassifier(base_score=0.5, booster='gbtree', colsample_bylevel=1,\n",
       "              colsample_bynode=1, colsample_bytree=1, gamma=0, gpu_id=-1,\n",
       "              importance_type='gain', interaction_constraints='',\n",
       "              learning_rate=0.300000012, max_delta_step=0, max_depth=6,\n",
       "              min_child_weight=1, missing=nan, monotone_constraints='()',\n",
       "              n_estimators=100, n_jobs=12, num_parallel_tree=1, random_state=0,\n",
       "              reg_alpha=0, reg_lambda=1, scale_pos_weight=1, subsample=1,\n",
       "              tree_method='exact', validate_parameters=1, verbosity=None)"
      ]
     },
     "metadata": {},
     "execution_count": 73
    }
   ],
   "source": [
    "from model_utils import save_model, load_model\n",
    "save_model(model_xgb, './models/xgb')"
   ]
  }
 ]
}