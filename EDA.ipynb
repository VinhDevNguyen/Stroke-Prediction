{
 "metadata": {
  "language_info": {
   "codemirror_mode": {
    "name": "ipython",
    "version": 3
   },
   "file_extension": ".py",
   "mimetype": "text/x-python",
   "name": "python",
   "nbconvert_exporter": "python",
   "pygments_lexer": "ipython3",
   "version": "3.8.3"
  },
  "orig_nbformat": 2,
  "kernelspec": {
   "name": "python383jvsc74a57bd0743122f284083c97ef6c7e4378c6167beb4e19e2ae03e2d7f15fa3b72661eea8",
   "display_name": "Python 3.8.3 64-bit ('Stroke_Predict': venv)"
  },
  "metadata": {
   "interpreter": {
    "hash": "d288bdf1c51c9be0d139cc3d1b1b1931f3733d0f21695e5e9a9e4c001d586c70"
   }
  }
 },
 "nbformat": 4,
 "nbformat_minor": 2,
 "cells": [
  {
   "cell_type": "code",
   "execution_count": 2,
   "metadata": {},
   "outputs": [],
   "source": [
    "import pandas as pd\n",
    "import sklearn\n",
    "import matplotlib.pyplot as plt\n",
    "import seaborn as sns\n",
    "import statsmodels.formula.api as smf\n",
    "import numpy as np\n",
    "from sklearn.linear_model import LinearRegression\n",
    "from sklearn.metrics import mean_squared_error,r2_score"
   ]
  },
  {
   "cell_type": "code",
   "execution_count": 3,
   "metadata": {},
   "outputs": [],
   "source": [
    "raw_df = df = pd.read_csv('./Dataset/train.csv')\n",
    "raw_df.drop(columns=['id'],inplace=True)"
   ]
  },
  {
   "source": [
    "### Delete data with unknown 'age'"
   ],
   "cell_type": "markdown",
   "metadata": {}
  },
  {
   "cell_type": "code",
   "execution_count": 4,
   "metadata": {},
   "outputs": [
    {
     "output_type": "execute_result",
     "data": {
      "text/plain": [
       "      gender   age  hypertension  heart_disease ever_married work_type  \\\n",
       "1       Male  55.0           0.0            0.0          Yes   Private   \n",
       "2     Female  42.0           0.0            0.0           No   Private   \n",
       "3     Female  31.0           0.0            0.0           No   Private   \n",
       "4     Female  38.0           0.0            0.0          Yes   Private   \n",
       "5     Female  24.0           0.0            0.0           No   Private   \n",
       "...      ...   ...           ...            ...          ...       ...   \n",
       "3995    Male  16.0           0.0            0.0           No   Private   \n",
       "3996    Male  47.0           0.0            0.0          Yes   Private   \n",
       "3997   Other  57.0           1.0            0.0          Yes   Private   \n",
       "3998  Female  45.0           0.0            0.0          Yes   Private   \n",
       "3999  Female  53.0           1.0            0.0          Yes   Private   \n",
       "\n",
       "     Residence_type  avg_glucose_level       bmi   smoking_status blood  \\\n",
       "1             Urban              89.17  28.91703     never smoked     B   \n",
       "2           Unknown              98.53  18.50000     never smoked     B   \n",
       "3             Urban             108.89  52.30000          Unknown     O   \n",
       "4           Unknown              91.44  28.91703          Unknown     O   \n",
       "5             Urban              97.55  26.20000     never smoked     B   \n",
       "...             ...                ...       ...              ...   ...   \n",
       "3995        Unknown              99.49  22.00000          Unknown     B   \n",
       "3996          Rural              75.30  25.00000  formerly smoked     B   \n",
       "3997          Rural             129.54  60.90000           smokes    AB   \n",
       "3998        Unknown             172.33  45.30000  formerly smoked     O   \n",
       "3999          Urban              62.55  30.30000          Unknown     O   \n",
       "\n",
       "        height  stroke  \n",
       "1      1.59000       0  \n",
       "2     28.91703       0  \n",
       "3      1.24000       0  \n",
       "4     28.91703       0  \n",
       "5      1.75000       0  \n",
       "...        ...     ...  \n",
       "3995  28.91703       0  \n",
       "3996   1.79000       0  \n",
       "3997   1.15000       0  \n",
       "3998   1.33000       0  \n",
       "3999   1.62000       1  \n",
       "\n",
       "[3663 rows x 13 columns]"
      ],
      "text/html": "<div>\n<style scoped>\n    .dataframe tbody tr th:only-of-type {\n        vertical-align: middle;\n    }\n\n    .dataframe tbody tr th {\n        vertical-align: top;\n    }\n\n    .dataframe thead th {\n        text-align: right;\n    }\n</style>\n<table border=\"1\" class=\"dataframe\">\n  <thead>\n    <tr style=\"text-align: right;\">\n      <th></th>\n      <th>gender</th>\n      <th>age</th>\n      <th>hypertension</th>\n      <th>heart_disease</th>\n      <th>ever_married</th>\n      <th>work_type</th>\n      <th>Residence_type</th>\n      <th>avg_glucose_level</th>\n      <th>bmi</th>\n      <th>smoking_status</th>\n      <th>blood</th>\n      <th>height</th>\n      <th>stroke</th>\n    </tr>\n  </thead>\n  <tbody>\n    <tr>\n      <th>1</th>\n      <td>Male</td>\n      <td>55.0</td>\n      <td>0.0</td>\n      <td>0.0</td>\n      <td>Yes</td>\n      <td>Private</td>\n      <td>Urban</td>\n      <td>89.17</td>\n      <td>28.91703</td>\n      <td>never smoked</td>\n      <td>B</td>\n      <td>1.59000</td>\n      <td>0</td>\n    </tr>\n    <tr>\n      <th>2</th>\n      <td>Female</td>\n      <td>42.0</td>\n      <td>0.0</td>\n      <td>0.0</td>\n      <td>No</td>\n      <td>Private</td>\n      <td>Unknown</td>\n      <td>98.53</td>\n      <td>18.50000</td>\n      <td>never smoked</td>\n      <td>B</td>\n      <td>28.91703</td>\n      <td>0</td>\n    </tr>\n    <tr>\n      <th>3</th>\n      <td>Female</td>\n      <td>31.0</td>\n      <td>0.0</td>\n      <td>0.0</td>\n      <td>No</td>\n      <td>Private</td>\n      <td>Urban</td>\n      <td>108.89</td>\n      <td>52.30000</td>\n      <td>Unknown</td>\n      <td>O</td>\n      <td>1.24000</td>\n      <td>0</td>\n    </tr>\n    <tr>\n      <th>4</th>\n      <td>Female</td>\n      <td>38.0</td>\n      <td>0.0</td>\n      <td>0.0</td>\n      <td>Yes</td>\n      <td>Private</td>\n      <td>Unknown</td>\n      <td>91.44</td>\n      <td>28.91703</td>\n      <td>Unknown</td>\n      <td>O</td>\n      <td>28.91703</td>\n      <td>0</td>\n    </tr>\n    <tr>\n      <th>5</th>\n      <td>Female</td>\n      <td>24.0</td>\n      <td>0.0</td>\n      <td>0.0</td>\n      <td>No</td>\n      <td>Private</td>\n      <td>Urban</td>\n      <td>97.55</td>\n      <td>26.20000</td>\n      <td>never smoked</td>\n      <td>B</td>\n      <td>1.75000</td>\n      <td>0</td>\n    </tr>\n    <tr>\n      <th>...</th>\n      <td>...</td>\n      <td>...</td>\n      <td>...</td>\n      <td>...</td>\n      <td>...</td>\n      <td>...</td>\n      <td>...</td>\n      <td>...</td>\n      <td>...</td>\n      <td>...</td>\n      <td>...</td>\n      <td>...</td>\n      <td>...</td>\n    </tr>\n    <tr>\n      <th>3995</th>\n      <td>Male</td>\n      <td>16.0</td>\n      <td>0.0</td>\n      <td>0.0</td>\n      <td>No</td>\n      <td>Private</td>\n      <td>Unknown</td>\n      <td>99.49</td>\n      <td>22.00000</td>\n      <td>Unknown</td>\n      <td>B</td>\n      <td>28.91703</td>\n      <td>0</td>\n    </tr>\n    <tr>\n      <th>3996</th>\n      <td>Male</td>\n      <td>47.0</td>\n      <td>0.0</td>\n      <td>0.0</td>\n      <td>Yes</td>\n      <td>Private</td>\n      <td>Rural</td>\n      <td>75.30</td>\n      <td>25.00000</td>\n      <td>formerly smoked</td>\n      <td>B</td>\n      <td>1.79000</td>\n      <td>0</td>\n    </tr>\n    <tr>\n      <th>3997</th>\n      <td>Other</td>\n      <td>57.0</td>\n      <td>1.0</td>\n      <td>0.0</td>\n      <td>Yes</td>\n      <td>Private</td>\n      <td>Rural</td>\n      <td>129.54</td>\n      <td>60.90000</td>\n      <td>smokes</td>\n      <td>AB</td>\n      <td>1.15000</td>\n      <td>0</td>\n    </tr>\n    <tr>\n      <th>3998</th>\n      <td>Female</td>\n      <td>45.0</td>\n      <td>0.0</td>\n      <td>0.0</td>\n      <td>Yes</td>\n      <td>Private</td>\n      <td>Unknown</td>\n      <td>172.33</td>\n      <td>45.30000</td>\n      <td>formerly smoked</td>\n      <td>O</td>\n      <td>1.33000</td>\n      <td>0</td>\n    </tr>\n    <tr>\n      <th>3999</th>\n      <td>Female</td>\n      <td>53.0</td>\n      <td>1.0</td>\n      <td>0.0</td>\n      <td>Yes</td>\n      <td>Private</td>\n      <td>Urban</td>\n      <td>62.55</td>\n      <td>30.30000</td>\n      <td>Unknown</td>\n      <td>O</td>\n      <td>1.62000</td>\n      <td>1</td>\n    </tr>\n  </tbody>\n</table>\n<p>3663 rows × 13 columns</p>\n</div>"
     },
     "metadata": {},
     "execution_count": 4
    }
   ],
   "source": [
    "df = raw_df.copy()\n",
    "df = df.loc[df.age.notnull() & df.hypertension.notnull()]\n",
    "df = df.fillna(np.mean(df['bmi']))\n",
    "df"
   ]
  },
  {
   "cell_type": "code",
   "execution_count": 5,
   "metadata": {},
   "outputs": [
    {
     "output_type": "execute_result",
     "data": {
      "text/plain": [
       "Female    2024\n",
       "Male      1482\n",
       "Other      157\n",
       "Name: gender, dtype: int64"
      ]
     },
     "metadata": {},
     "execution_count": 5
    }
   ],
   "source": [
    "df['gender'].value_counts()"
   ]
  },
  {
   "cell_type": "code",
   "execution_count": 6,
   "metadata": {},
   "outputs": [
    {
     "output_type": "execute_result",
     "data": {
      "text/plain": [
       "<class 'statsmodels.iolib.summary.Summary'>\n",
       "\"\"\"\n",
       "                            OLS Regression Results                            \n",
       "==============================================================================\n",
       "Dep. Variable:                 stroke   R-squared:                       0.020\n",
       "Model:                            OLS   Adj. R-squared:                  0.019\n",
       "Method:                 Least Squares   F-statistic:                     37.07\n",
       "Date:                Tue, 18 May 2021   Prob (F-statistic):           1.15e-16\n",
       "Time:                        12:46:54   Log-Likelihood:                 1614.2\n",
       "No. Observations:                3663   AIC:                            -3222.\n",
       "Df Residuals:                    3660   BIC:                            -3204.\n",
       "Df Model:                           2                                         \n",
       "Covariance Type:            nonrobust                                         \n",
       "=====================================================================================\n",
       "                        coef    std err          t      P>|t|      [0.025      0.975]\n",
       "-------------------------------------------------------------------------------------\n",
       "Intercept            -0.0179      0.006     -2.898      0.004      -0.030      -0.006\n",
       "avg_glucose_level     0.0004   5.56e-05      7.033      0.000       0.000       0.000\n",
       "hypertension          0.0333      0.009      3.792      0.000       0.016       0.051\n",
       "==============================================================================\n",
       "Omnibus:                     4013.890   Durbin-Watson:                   1.998\n",
       "Prob(Omnibus):                  0.000   Jarque-Bera (JB):           188750.784\n",
       "Skew:                           5.859   Prob(JB):                         0.00\n",
       "Kurtosis:                      36.157   Cond. No.                         385.\n",
       "==============================================================================\n",
       "\n",
       "Notes:\n",
       "[1] Standard Errors assume that the covariance matrix of the errors is correctly specified.\n",
       "\"\"\""
      ],
      "text/html": "<table class=\"simpletable\">\n<caption>OLS Regression Results</caption>\n<tr>\n  <th>Dep. Variable:</th>         <td>stroke</td>      <th>  R-squared:         </th> <td>   0.020</td>\n</tr>\n<tr>\n  <th>Model:</th>                   <td>OLS</td>       <th>  Adj. R-squared:    </th> <td>   0.019</td>\n</tr>\n<tr>\n  <th>Method:</th>             <td>Least Squares</td>  <th>  F-statistic:       </th> <td>   37.07</td>\n</tr>\n<tr>\n  <th>Date:</th>             <td>Tue, 18 May 2021</td> <th>  Prob (F-statistic):</th> <td>1.15e-16</td>\n</tr>\n<tr>\n  <th>Time:</th>                 <td>12:46:54</td>     <th>  Log-Likelihood:    </th> <td>  1614.2</td>\n</tr>\n<tr>\n  <th>No. Observations:</th>      <td>  3663</td>      <th>  AIC:               </th> <td>  -3222.</td>\n</tr>\n<tr>\n  <th>Df Residuals:</th>          <td>  3660</td>      <th>  BIC:               </th> <td>  -3204.</td>\n</tr>\n<tr>\n  <th>Df Model:</th>              <td>     2</td>      <th>                     </th>     <td> </td>   \n</tr>\n<tr>\n  <th>Covariance Type:</th>      <td>nonrobust</td>    <th>                     </th>     <td> </td>   \n</tr>\n</table>\n<table class=\"simpletable\">\n<tr>\n          <td></td>             <th>coef</th>     <th>std err</th>      <th>t</th>      <th>P>|t|</th>  <th>[0.025</th>    <th>0.975]</th>  \n</tr>\n<tr>\n  <th>Intercept</th>         <td>   -0.0179</td> <td>    0.006</td> <td>   -2.898</td> <td> 0.004</td> <td>   -0.030</td> <td>   -0.006</td>\n</tr>\n<tr>\n  <th>avg_glucose_level</th> <td>    0.0004</td> <td> 5.56e-05</td> <td>    7.033</td> <td> 0.000</td> <td>    0.000</td> <td>    0.000</td>\n</tr>\n<tr>\n  <th>hypertension</th>      <td>    0.0333</td> <td>    0.009</td> <td>    3.792</td> <td> 0.000</td> <td>    0.016</td> <td>    0.051</td>\n</tr>\n</table>\n<table class=\"simpletable\">\n<tr>\n  <th>Omnibus:</th>       <td>4013.890</td> <th>  Durbin-Watson:     </th>  <td>   1.998</td> \n</tr>\n<tr>\n  <th>Prob(Omnibus):</th>  <td> 0.000</td>  <th>  Jarque-Bera (JB):  </th> <td>188750.784</td>\n</tr>\n<tr>\n  <th>Skew:</th>           <td> 5.859</td>  <th>  Prob(JB):          </th>  <td>    0.00</td> \n</tr>\n<tr>\n  <th>Kurtosis:</th>       <td>36.157</td>  <th>  Cond. No.          </th>  <td>    385.</td> \n</tr>\n</table><br/><br/>Notes:<br/>[1] Standard Errors assume that the covariance matrix of the errors is correctly specified."
     },
     "metadata": {},
     "execution_count": 6
    }
   ],
   "source": [
    "res = smf.ols('stroke ~ avg_glucose_level + hypertension', data=df).fit()\n",
    "res.summary()"
   ]
  },
  {
   "cell_type": "code",
   "execution_count": 7,
   "metadata": {},
   "outputs": [
    {
     "output_type": "stream",
     "name": "stdout",
     "text": [
      "<class 'pandas.core.frame.DataFrame'>\nInt64Index: 3663 entries, 1 to 3999\nData columns (total 13 columns):\n #   Column             Non-Null Count  Dtype  \n---  ------             --------------  -----  \n 0   gender             3663 non-null   object \n 1   age                3663 non-null   float64\n 2   hypertension       3663 non-null   float64\n 3   heart_disease      3663 non-null   float64\n 4   ever_married       3663 non-null   object \n 5   work_type          3663 non-null   object \n 6   Residence_type     3663 non-null   object \n 7   avg_glucose_level  3663 non-null   float64\n 8   bmi                3663 non-null   float64\n 9   smoking_status     3663 non-null   object \n 10  blood              3663 non-null   object \n 11  height             3663 non-null   float64\n 12  stroke             3663 non-null   int64  \ndtypes: float64(6), int64(1), object(6)\nmemory usage: 400.6+ KB\n"
     ]
    }
   ],
   "source": [
    "col = df.columns\n",
    "df.info()"
   ]
  },
  {
   "cell_type": "code",
   "execution_count": 8,
   "metadata": {},
   "outputs": [
    {
     "output_type": "execute_result",
     "data": {
      "text/plain": [
       "   gender   age  hypertension  heart_disease ever_married work_type  \\\n",
       "1    Male  55.0           0.0            0.0          Yes   Private   \n",
       "2  Female  42.0           0.0            0.0           No   Private   \n",
       "3  Female  31.0           0.0            0.0           No   Private   \n",
       "4  Female  38.0           0.0            0.0          Yes   Private   \n",
       "5  Female  24.0           0.0            0.0           No   Private   \n",
       "\n",
       "  Residence_type  avg_glucose_level       bmi smoking_status blood    height  \\\n",
       "1          Urban              89.17  28.91703   never smoked     B   1.59000   \n",
       "2        Unknown              98.53  18.50000   never smoked     B  28.91703   \n",
       "3          Urban             108.89  52.30000        Unknown     O   1.24000   \n",
       "4        Unknown              91.44  28.91703        Unknown     O  28.91703   \n",
       "5          Urban              97.55  26.20000   never smoked     B   1.75000   \n",
       "\n",
       "   stroke  \n",
       "1       0  \n",
       "2       0  \n",
       "3       0  \n",
       "4       0  \n",
       "5       0  "
      ],
      "text/html": "<div>\n<style scoped>\n    .dataframe tbody tr th:only-of-type {\n        vertical-align: middle;\n    }\n\n    .dataframe tbody tr th {\n        vertical-align: top;\n    }\n\n    .dataframe thead th {\n        text-align: right;\n    }\n</style>\n<table border=\"1\" class=\"dataframe\">\n  <thead>\n    <tr style=\"text-align: right;\">\n      <th></th>\n      <th>gender</th>\n      <th>age</th>\n      <th>hypertension</th>\n      <th>heart_disease</th>\n      <th>ever_married</th>\n      <th>work_type</th>\n      <th>Residence_type</th>\n      <th>avg_glucose_level</th>\n      <th>bmi</th>\n      <th>smoking_status</th>\n      <th>blood</th>\n      <th>height</th>\n      <th>stroke</th>\n    </tr>\n  </thead>\n  <tbody>\n    <tr>\n      <th>1</th>\n      <td>Male</td>\n      <td>55.0</td>\n      <td>0.0</td>\n      <td>0.0</td>\n      <td>Yes</td>\n      <td>Private</td>\n      <td>Urban</td>\n      <td>89.17</td>\n      <td>28.91703</td>\n      <td>never smoked</td>\n      <td>B</td>\n      <td>1.59000</td>\n      <td>0</td>\n    </tr>\n    <tr>\n      <th>2</th>\n      <td>Female</td>\n      <td>42.0</td>\n      <td>0.0</td>\n      <td>0.0</td>\n      <td>No</td>\n      <td>Private</td>\n      <td>Unknown</td>\n      <td>98.53</td>\n      <td>18.50000</td>\n      <td>never smoked</td>\n      <td>B</td>\n      <td>28.91703</td>\n      <td>0</td>\n    </tr>\n    <tr>\n      <th>3</th>\n      <td>Female</td>\n      <td>31.0</td>\n      <td>0.0</td>\n      <td>0.0</td>\n      <td>No</td>\n      <td>Private</td>\n      <td>Urban</td>\n      <td>108.89</td>\n      <td>52.30000</td>\n      <td>Unknown</td>\n      <td>O</td>\n      <td>1.24000</td>\n      <td>0</td>\n    </tr>\n    <tr>\n      <th>4</th>\n      <td>Female</td>\n      <td>38.0</td>\n      <td>0.0</td>\n      <td>0.0</td>\n      <td>Yes</td>\n      <td>Private</td>\n      <td>Unknown</td>\n      <td>91.44</td>\n      <td>28.91703</td>\n      <td>Unknown</td>\n      <td>O</td>\n      <td>28.91703</td>\n      <td>0</td>\n    </tr>\n    <tr>\n      <th>5</th>\n      <td>Female</td>\n      <td>24.0</td>\n      <td>0.0</td>\n      <td>0.0</td>\n      <td>No</td>\n      <td>Private</td>\n      <td>Urban</td>\n      <td>97.55</td>\n      <td>26.20000</td>\n      <td>never smoked</td>\n      <td>B</td>\n      <td>1.75000</td>\n      <td>0</td>\n    </tr>\n  </tbody>\n</table>\n</div>"
     },
     "metadata": {},
     "execution_count": 8
    }
   ],
   "source": [
    "df.head()"
   ]
  },
  {
   "cell_type": "code",
   "execution_count": 9,
   "metadata": {},
   "outputs": [
    {
     "output_type": "execute_result",
     "data": {
      "text/plain": [
       "               age  hypertension  heart_disease  avg_glucose_level  \\\n",
       "count  3663.000000   3663.000000    3663.000000        3663.000000   \n",
       "mean     42.927808      0.097734       0.685330         102.554699   \n",
       "std      22.394200      0.296995       4.225102          46.937890   \n",
       "min       0.080000      0.000000       0.000000          28.917030   \n",
       "25%      25.000000      0.000000       0.000000          74.795000   \n",
       "50%      45.000000      0.000000       0.000000          90.550000   \n",
       "75%      60.000000      0.000000       0.000000         112.580000   \n",
       "max      82.000000      1.000000      28.917030         267.760000   \n",
       "\n",
       "               bmi       height       stroke  \n",
       "count  3663.000000  3663.000000  3663.000000  \n",
       "mean     28.917030     8.931781     0.025389  \n",
       "std       6.626813    12.097632     0.157325  \n",
       "min      11.300000     0.910000     0.000000  \n",
       "25%      25.600000     1.560000     0.000000  \n",
       "50%      28.917030     1.700000     0.000000  \n",
       "75%      30.700000    28.917030     0.000000  \n",
       "max      97.600000    28.917030     1.000000  "
      ],
      "text/html": "<div>\n<style scoped>\n    .dataframe tbody tr th:only-of-type {\n        vertical-align: middle;\n    }\n\n    .dataframe tbody tr th {\n        vertical-align: top;\n    }\n\n    .dataframe thead th {\n        text-align: right;\n    }\n</style>\n<table border=\"1\" class=\"dataframe\">\n  <thead>\n    <tr style=\"text-align: right;\">\n      <th></th>\n      <th>age</th>\n      <th>hypertension</th>\n      <th>heart_disease</th>\n      <th>avg_glucose_level</th>\n      <th>bmi</th>\n      <th>height</th>\n      <th>stroke</th>\n    </tr>\n  </thead>\n  <tbody>\n    <tr>\n      <th>count</th>\n      <td>3663.000000</td>\n      <td>3663.000000</td>\n      <td>3663.000000</td>\n      <td>3663.000000</td>\n      <td>3663.000000</td>\n      <td>3663.000000</td>\n      <td>3663.000000</td>\n    </tr>\n    <tr>\n      <th>mean</th>\n      <td>42.927808</td>\n      <td>0.097734</td>\n      <td>0.685330</td>\n      <td>102.554699</td>\n      <td>28.917030</td>\n      <td>8.931781</td>\n      <td>0.025389</td>\n    </tr>\n    <tr>\n      <th>std</th>\n      <td>22.394200</td>\n      <td>0.296995</td>\n      <td>4.225102</td>\n      <td>46.937890</td>\n      <td>6.626813</td>\n      <td>12.097632</td>\n      <td>0.157325</td>\n    </tr>\n    <tr>\n      <th>min</th>\n      <td>0.080000</td>\n      <td>0.000000</td>\n      <td>0.000000</td>\n      <td>28.917030</td>\n      <td>11.300000</td>\n      <td>0.910000</td>\n      <td>0.000000</td>\n    </tr>\n    <tr>\n      <th>25%</th>\n      <td>25.000000</td>\n      <td>0.000000</td>\n      <td>0.000000</td>\n      <td>74.795000</td>\n      <td>25.600000</td>\n      <td>1.560000</td>\n      <td>0.000000</td>\n    </tr>\n    <tr>\n      <th>50%</th>\n      <td>45.000000</td>\n      <td>0.000000</td>\n      <td>0.000000</td>\n      <td>90.550000</td>\n      <td>28.917030</td>\n      <td>1.700000</td>\n      <td>0.000000</td>\n    </tr>\n    <tr>\n      <th>75%</th>\n      <td>60.000000</td>\n      <td>0.000000</td>\n      <td>0.000000</td>\n      <td>112.580000</td>\n      <td>30.700000</td>\n      <td>28.917030</td>\n      <td>0.000000</td>\n    </tr>\n    <tr>\n      <th>max</th>\n      <td>82.000000</td>\n      <td>1.000000</td>\n      <td>28.917030</td>\n      <td>267.760000</td>\n      <td>97.600000</td>\n      <td>28.917030</td>\n      <td>1.000000</td>\n    </tr>\n  </tbody>\n</table>\n</div>"
     },
     "metadata": {},
     "execution_count": 9
    }
   ],
   "source": [
    "df.describe()"
   ]
  },
  {
   "cell_type": "code",
   "execution_count": 10,
   "metadata": {},
   "outputs": [
    {
     "output_type": "execute_result",
     "data": {
      "text/plain": [
       "                   Total  Percent\n",
       "gender                 0      0.0\n",
       "age                    0      0.0\n",
       "hypertension           0      0.0\n",
       "heart_disease          0      0.0\n",
       "ever_married           0      0.0\n",
       "work_type              0      0.0\n",
       "Residence_type         0      0.0\n",
       "avg_glucose_level      0      0.0\n",
       "bmi                    0      0.0\n",
       "smoking_status         0      0.0\n",
       "blood                  0      0.0\n",
       "height                 0      0.0\n",
       "stroke                 0      0.0"
      ],
      "text/html": "<div>\n<style scoped>\n    .dataframe tbody tr th:only-of-type {\n        vertical-align: middle;\n    }\n\n    .dataframe tbody tr th {\n        vertical-align: top;\n    }\n\n    .dataframe thead th {\n        text-align: right;\n    }\n</style>\n<table border=\"1\" class=\"dataframe\">\n  <thead>\n    <tr style=\"text-align: right;\">\n      <th></th>\n      <th>Total</th>\n      <th>Percent</th>\n    </tr>\n  </thead>\n  <tbody>\n    <tr>\n      <th>gender</th>\n      <td>0</td>\n      <td>0.0</td>\n    </tr>\n    <tr>\n      <th>age</th>\n      <td>0</td>\n      <td>0.0</td>\n    </tr>\n    <tr>\n      <th>hypertension</th>\n      <td>0</td>\n      <td>0.0</td>\n    </tr>\n    <tr>\n      <th>heart_disease</th>\n      <td>0</td>\n      <td>0.0</td>\n    </tr>\n    <tr>\n      <th>ever_married</th>\n      <td>0</td>\n      <td>0.0</td>\n    </tr>\n    <tr>\n      <th>work_type</th>\n      <td>0</td>\n      <td>0.0</td>\n    </tr>\n    <tr>\n      <th>Residence_type</th>\n      <td>0</td>\n      <td>0.0</td>\n    </tr>\n    <tr>\n      <th>avg_glucose_level</th>\n      <td>0</td>\n      <td>0.0</td>\n    </tr>\n    <tr>\n      <th>bmi</th>\n      <td>0</td>\n      <td>0.0</td>\n    </tr>\n    <tr>\n      <th>smoking_status</th>\n      <td>0</td>\n      <td>0.0</td>\n    </tr>\n    <tr>\n      <th>blood</th>\n      <td>0</td>\n      <td>0.0</td>\n    </tr>\n    <tr>\n      <th>height</th>\n      <td>0</td>\n      <td>0.0</td>\n    </tr>\n    <tr>\n      <th>stroke</th>\n      <td>0</td>\n      <td>0.0</td>\n    </tr>\n  </tbody>\n</table>\n</div>"
     },
     "metadata": {},
     "execution_count": 10
    }
   ],
   "source": [
    "def draw_missing_data_table(data):\n",
    "    total = data.isnull().sum().sort_values(ascending=False)\n",
    "    percent = (data.isnull().sum()/data.isnull().count()).sort_values(ascending=False)\n",
    "    missing_data = pd.concat([total, percent], axis=1, keys=['Total', 'Percent'])\n",
    "    return missing_data\n",
    "draw_missing_data_table(df)"
   ]
  },
  {
   "cell_type": "code",
   "execution_count": 11,
   "metadata": {},
   "outputs": [],
   "source": [
    "missing_data = ['bmi','height','hypertension','avg_glucose_level','age','heart_disease','blood']\n",
    "data_numerical = df[['age','avg_glucose_level','bmi']]\n",
    "data_categorical = df[['gender', 'hypertension', 'heart_disease', 'ever_married','work_type', 'Residence_type',\n",
    "                       'smoking_status', 'stroke']]"
   ]
  }
 ]
}