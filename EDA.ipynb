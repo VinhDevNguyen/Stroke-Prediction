{
 "metadata": {
  "language_info": {
   "codemirror_mode": {
    "name": "ipython",
    "version": 3
   },
   "file_extension": ".py",
   "mimetype": "text/x-python",
   "name": "python",
   "nbconvert_exporter": "python",
   "pygments_lexer": "ipython3",
   "version": "3.8.5"
  },
  "orig_nbformat": 2,
  "kernelspec": {
   "name": "python385jvsc74a57bd01f4e33760a034530d14b2a7b5c7f382bc2049024f7abe4fc2e79344349930bf9",
   "display_name": "Python 3.8.5 64-bit ('Stroke_Env': venv)"
  },
  "metadata": {
   "interpreter": {
    "hash": "dcacb0086e9a4f4eabd41c33bf4faac5ea0a3337ed3f5eff0680afa930572c04"
   }
  }
 },
 "nbformat": 4,
 "nbformat_minor": 2,
 "cells": [
  {
   "source": [
    "## Import package"
   ],
   "cell_type": "markdown",
   "metadata": {}
  },
  {
   "cell_type": "code",
   "execution_count": 3,
   "metadata": {},
   "outputs": [],
   "source": [
    "import pandas as pd\n",
    "import sklearn\n",
    "import matplotlib.pyplot as plt\n",
    "import seaborn as sns\n",
    "import numpy as np\n",
    "from imblearn.over_sampling import SMOTE\n",
    "from sklearn.linear_model import LinearRegression\n",
    "from sklearn.metrics import mean_squared_error,r2_score\n",
    "from sklearn.preprocessing import StandardScaler, OneHotEncoder\n",
    "from sklearn.model_selection import train_test_split"
   ]
  },
  {
   "source": [
    "## Read dataset"
   ],
   "cell_type": "markdown",
   "metadata": {}
  },
  {
   "cell_type": "code",
   "execution_count": 4,
   "metadata": {},
   "outputs": [
    {
     "output_type": "execute_result",
     "data": {
      "text/plain": [
       "    id  gender   age  hypertension  heart_disease ever_married work_type  \\\n",
       "0   77  Female   NaN           0.0            0.0           No  children   \n",
       "1   84    Male  55.0           0.0            0.0          Yes   Private   \n",
       "2   91  Female  42.0           0.0            0.0           No   Private   \n",
       "3   99  Female  31.0           0.0            0.0           No   Private   \n",
       "4  121  Female  38.0           0.0            0.0          Yes   Private   \n",
       "\n",
       "  Residence_type  avg_glucose_level   bmi smoking_status blood  height  stroke  \n",
       "0        Unknown              85.81  18.6        Unknown     O     NaN       0  \n",
       "1          Urban              89.17   NaN   never smoked     B    1.59       0  \n",
       "2        Unknown              98.53  18.5   never smoked     B     NaN       0  \n",
       "3          Urban             108.89  52.3        Unknown     O    1.24       0  \n",
       "4        Unknown              91.44   NaN        Unknown     O     NaN       0  "
      ],
      "text/html": "<div>\n<style scoped>\n    .dataframe tbody tr th:only-of-type {\n        vertical-align: middle;\n    }\n\n    .dataframe tbody tr th {\n        vertical-align: top;\n    }\n\n    .dataframe thead th {\n        text-align: right;\n    }\n</style>\n<table border=\"1\" class=\"dataframe\">\n  <thead>\n    <tr style=\"text-align: right;\">\n      <th></th>\n      <th>id</th>\n      <th>gender</th>\n      <th>age</th>\n      <th>hypertension</th>\n      <th>heart_disease</th>\n      <th>ever_married</th>\n      <th>work_type</th>\n      <th>Residence_type</th>\n      <th>avg_glucose_level</th>\n      <th>bmi</th>\n      <th>smoking_status</th>\n      <th>blood</th>\n      <th>height</th>\n      <th>stroke</th>\n    </tr>\n  </thead>\n  <tbody>\n    <tr>\n      <th>0</th>\n      <td>77</td>\n      <td>Female</td>\n      <td>NaN</td>\n      <td>0.0</td>\n      <td>0.0</td>\n      <td>No</td>\n      <td>children</td>\n      <td>Unknown</td>\n      <td>85.81</td>\n      <td>18.6</td>\n      <td>Unknown</td>\n      <td>O</td>\n      <td>NaN</td>\n      <td>0</td>\n    </tr>\n    <tr>\n      <th>1</th>\n      <td>84</td>\n      <td>Male</td>\n      <td>55.0</td>\n      <td>0.0</td>\n      <td>0.0</td>\n      <td>Yes</td>\n      <td>Private</td>\n      <td>Urban</td>\n      <td>89.17</td>\n      <td>NaN</td>\n      <td>never smoked</td>\n      <td>B</td>\n      <td>1.59</td>\n      <td>0</td>\n    </tr>\n    <tr>\n      <th>2</th>\n      <td>91</td>\n      <td>Female</td>\n      <td>42.0</td>\n      <td>0.0</td>\n      <td>0.0</td>\n      <td>No</td>\n      <td>Private</td>\n      <td>Unknown</td>\n      <td>98.53</td>\n      <td>18.5</td>\n      <td>never smoked</td>\n      <td>B</td>\n      <td>NaN</td>\n      <td>0</td>\n    </tr>\n    <tr>\n      <th>3</th>\n      <td>99</td>\n      <td>Female</td>\n      <td>31.0</td>\n      <td>0.0</td>\n      <td>0.0</td>\n      <td>No</td>\n      <td>Private</td>\n      <td>Urban</td>\n      <td>108.89</td>\n      <td>52.3</td>\n      <td>Unknown</td>\n      <td>O</td>\n      <td>1.24</td>\n      <td>0</td>\n    </tr>\n    <tr>\n      <th>4</th>\n      <td>121</td>\n      <td>Female</td>\n      <td>38.0</td>\n      <td>0.0</td>\n      <td>0.0</td>\n      <td>Yes</td>\n      <td>Private</td>\n      <td>Unknown</td>\n      <td>91.44</td>\n      <td>NaN</td>\n      <td>Unknown</td>\n      <td>O</td>\n      <td>NaN</td>\n      <td>0</td>\n    </tr>\n  </tbody>\n</table>\n</div>"
     },
     "metadata": {},
     "execution_count": 4
    }
   ],
   "source": [
    "raw_df = pd.read_csv('./Dataset/train.csv')\n",
    "raw_df.head()"
   ]
  },
  {
   "source": [
    "Drop `id` feature because it's useless"
   ],
   "cell_type": "markdown",
   "metadata": {}
  },
  {
   "cell_type": "code",
   "execution_count": 5,
   "metadata": {},
   "outputs": [
    {
     "output_type": "execute_result",
     "data": {
      "text/plain": [
       "      gender   age  hypertension  heart_disease ever_married work_type  \\\n",
       "0     Female   NaN           0.0            0.0           No  children   \n",
       "1       Male  55.0           0.0            0.0          Yes   Private   \n",
       "2     Female  42.0           0.0            0.0           No   Private   \n",
       "3     Female  31.0           0.0            0.0           No   Private   \n",
       "4     Female  38.0           0.0            0.0          Yes   Private   \n",
       "...      ...   ...           ...            ...          ...       ...   \n",
       "3995    Male  16.0           0.0            0.0           No   Private   \n",
       "3996    Male  47.0           0.0            0.0          Yes   Private   \n",
       "3997   Other  57.0           1.0            0.0          Yes   Private   \n",
       "3998  Female  45.0           0.0            0.0          Yes   Private   \n",
       "3999  Female  53.0           1.0            0.0          Yes   Private   \n",
       "\n",
       "     Residence_type  avg_glucose_level   bmi   smoking_status blood  height  \\\n",
       "0           Unknown              85.81  18.6          Unknown     O     NaN   \n",
       "1             Urban              89.17   NaN     never smoked     B    1.59   \n",
       "2           Unknown              98.53  18.5     never smoked     B     NaN   \n",
       "3             Urban             108.89  52.3          Unknown     O    1.24   \n",
       "4           Unknown              91.44   NaN          Unknown     O     NaN   \n",
       "...             ...                ...   ...              ...   ...     ...   \n",
       "3995        Unknown              99.49  22.0          Unknown     B     NaN   \n",
       "3996          Rural              75.30  25.0  formerly smoked     B    1.79   \n",
       "3997          Rural             129.54  60.9           smokes    AB    1.15   \n",
       "3998        Unknown             172.33  45.3  formerly smoked     O    1.33   \n",
       "3999          Urban              62.55  30.3          Unknown     O    1.62   \n",
       "\n",
       "      stroke  \n",
       "0          0  \n",
       "1          0  \n",
       "2          0  \n",
       "3          0  \n",
       "4          0  \n",
       "...      ...  \n",
       "3995       0  \n",
       "3996       0  \n",
       "3997       0  \n",
       "3998       0  \n",
       "3999       1  \n",
       "\n",
       "[4000 rows x 13 columns]"
      ],
      "text/html": "<div>\n<style scoped>\n    .dataframe tbody tr th:only-of-type {\n        vertical-align: middle;\n    }\n\n    .dataframe tbody tr th {\n        vertical-align: top;\n    }\n\n    .dataframe thead th {\n        text-align: right;\n    }\n</style>\n<table border=\"1\" class=\"dataframe\">\n  <thead>\n    <tr style=\"text-align: right;\">\n      <th></th>\n      <th>gender</th>\n      <th>age</th>\n      <th>hypertension</th>\n      <th>heart_disease</th>\n      <th>ever_married</th>\n      <th>work_type</th>\n      <th>Residence_type</th>\n      <th>avg_glucose_level</th>\n      <th>bmi</th>\n      <th>smoking_status</th>\n      <th>blood</th>\n      <th>height</th>\n      <th>stroke</th>\n    </tr>\n  </thead>\n  <tbody>\n    <tr>\n      <th>0</th>\n      <td>Female</td>\n      <td>NaN</td>\n      <td>0.0</td>\n      <td>0.0</td>\n      <td>No</td>\n      <td>children</td>\n      <td>Unknown</td>\n      <td>85.81</td>\n      <td>18.6</td>\n      <td>Unknown</td>\n      <td>O</td>\n      <td>NaN</td>\n      <td>0</td>\n    </tr>\n    <tr>\n      <th>1</th>\n      <td>Male</td>\n      <td>55.0</td>\n      <td>0.0</td>\n      <td>0.0</td>\n      <td>Yes</td>\n      <td>Private</td>\n      <td>Urban</td>\n      <td>89.17</td>\n      <td>NaN</td>\n      <td>never smoked</td>\n      <td>B</td>\n      <td>1.59</td>\n      <td>0</td>\n    </tr>\n    <tr>\n      <th>2</th>\n      <td>Female</td>\n      <td>42.0</td>\n      <td>0.0</td>\n      <td>0.0</td>\n      <td>No</td>\n      <td>Private</td>\n      <td>Unknown</td>\n      <td>98.53</td>\n      <td>18.5</td>\n      <td>never smoked</td>\n      <td>B</td>\n      <td>NaN</td>\n      <td>0</td>\n    </tr>\n    <tr>\n      <th>3</th>\n      <td>Female</td>\n      <td>31.0</td>\n      <td>0.0</td>\n      <td>0.0</td>\n      <td>No</td>\n      <td>Private</td>\n      <td>Urban</td>\n      <td>108.89</td>\n      <td>52.3</td>\n      <td>Unknown</td>\n      <td>O</td>\n      <td>1.24</td>\n      <td>0</td>\n    </tr>\n    <tr>\n      <th>4</th>\n      <td>Female</td>\n      <td>38.0</td>\n      <td>0.0</td>\n      <td>0.0</td>\n      <td>Yes</td>\n      <td>Private</td>\n      <td>Unknown</td>\n      <td>91.44</td>\n      <td>NaN</td>\n      <td>Unknown</td>\n      <td>O</td>\n      <td>NaN</td>\n      <td>0</td>\n    </tr>\n    <tr>\n      <th>...</th>\n      <td>...</td>\n      <td>...</td>\n      <td>...</td>\n      <td>...</td>\n      <td>...</td>\n      <td>...</td>\n      <td>...</td>\n      <td>...</td>\n      <td>...</td>\n      <td>...</td>\n      <td>...</td>\n      <td>...</td>\n      <td>...</td>\n    </tr>\n    <tr>\n      <th>3995</th>\n      <td>Male</td>\n      <td>16.0</td>\n      <td>0.0</td>\n      <td>0.0</td>\n      <td>No</td>\n      <td>Private</td>\n      <td>Unknown</td>\n      <td>99.49</td>\n      <td>22.0</td>\n      <td>Unknown</td>\n      <td>B</td>\n      <td>NaN</td>\n      <td>0</td>\n    </tr>\n    <tr>\n      <th>3996</th>\n      <td>Male</td>\n      <td>47.0</td>\n      <td>0.0</td>\n      <td>0.0</td>\n      <td>Yes</td>\n      <td>Private</td>\n      <td>Rural</td>\n      <td>75.30</td>\n      <td>25.0</td>\n      <td>formerly smoked</td>\n      <td>B</td>\n      <td>1.79</td>\n      <td>0</td>\n    </tr>\n    <tr>\n      <th>3997</th>\n      <td>Other</td>\n      <td>57.0</td>\n      <td>1.0</td>\n      <td>0.0</td>\n      <td>Yes</td>\n      <td>Private</td>\n      <td>Rural</td>\n      <td>129.54</td>\n      <td>60.9</td>\n      <td>smokes</td>\n      <td>AB</td>\n      <td>1.15</td>\n      <td>0</td>\n    </tr>\n    <tr>\n      <th>3998</th>\n      <td>Female</td>\n      <td>45.0</td>\n      <td>0.0</td>\n      <td>0.0</td>\n      <td>Yes</td>\n      <td>Private</td>\n      <td>Unknown</td>\n      <td>172.33</td>\n      <td>45.3</td>\n      <td>formerly smoked</td>\n      <td>O</td>\n      <td>1.33</td>\n      <td>0</td>\n    </tr>\n    <tr>\n      <th>3999</th>\n      <td>Female</td>\n      <td>53.0</td>\n      <td>1.0</td>\n      <td>0.0</td>\n      <td>Yes</td>\n      <td>Private</td>\n      <td>Urban</td>\n      <td>62.55</td>\n      <td>30.3</td>\n      <td>Unknown</td>\n      <td>O</td>\n      <td>1.62</td>\n      <td>1</td>\n    </tr>\n  </tbody>\n</table>\n<p>4000 rows × 13 columns</p>\n</div>"
     },
     "metadata": {},
     "execution_count": 5
    }
   ],
   "source": [
    "df = raw_df.copy()\n",
    "df.drop(columns=['id'], inplace=True)\n",
    "df"
   ]
  },
  {
   "source": [
    "## Analyze Data"
   ],
   "cell_type": "markdown",
   "metadata": {}
  },
  {
   "cell_type": "code",
   "execution_count": 6,
   "metadata": {},
   "outputs": [
    {
     "output_type": "execute_result",
     "data": {
      "text/plain": [
       "                    count        mean        std    min    25%    50%  \\\n",
       "age                3893.0   43.071256  22.425944   0.08  25.00  45.00   \n",
       "hypertension       3770.0    0.097613   0.296830   0.00   0.00   0.00   \n",
       "heart_disease      3910.0    0.055243   0.228483   0.00   0.00   0.00   \n",
       "avg_glucose_level  3829.0  106.178062  45.048667  55.22  77.50  92.11   \n",
       "bmi                2884.0   28.887899   7.904179  11.30  23.50  28.00   \n",
       "height             2928.0    1.611831   0.149053   0.91   1.52   1.63   \n",
       "stroke             4000.0    0.032500   0.177346   0.00   0.00   0.00   \n",
       "\n",
       "                        75%     max  \n",
       "age                 61.0000   82.00  \n",
       "hypertension         0.0000    1.00  \n",
       "heart_disease        0.0000    1.00  \n",
       "avg_glucose_level  114.0900  267.76  \n",
       "bmi                 33.0000   97.60  \n",
       "height               1.7225    1.85  \n",
       "stroke               0.0000    1.00  "
      ],
      "text/html": "<div>\n<style scoped>\n    .dataframe tbody tr th:only-of-type {\n        vertical-align: middle;\n    }\n\n    .dataframe tbody tr th {\n        vertical-align: top;\n    }\n\n    .dataframe thead th {\n        text-align: right;\n    }\n</style>\n<table border=\"1\" class=\"dataframe\">\n  <thead>\n    <tr style=\"text-align: right;\">\n      <th></th>\n      <th>count</th>\n      <th>mean</th>\n      <th>std</th>\n      <th>min</th>\n      <th>25%</th>\n      <th>50%</th>\n      <th>75%</th>\n      <th>max</th>\n    </tr>\n  </thead>\n  <tbody>\n    <tr>\n      <th>age</th>\n      <td>3893.0</td>\n      <td>43.071256</td>\n      <td>22.425944</td>\n      <td>0.08</td>\n      <td>25.00</td>\n      <td>45.00</td>\n      <td>61.0000</td>\n      <td>82.00</td>\n    </tr>\n    <tr>\n      <th>hypertension</th>\n      <td>3770.0</td>\n      <td>0.097613</td>\n      <td>0.296830</td>\n      <td>0.00</td>\n      <td>0.00</td>\n      <td>0.00</td>\n      <td>0.0000</td>\n      <td>1.00</td>\n    </tr>\n    <tr>\n      <th>heart_disease</th>\n      <td>3910.0</td>\n      <td>0.055243</td>\n      <td>0.228483</td>\n      <td>0.00</td>\n      <td>0.00</td>\n      <td>0.00</td>\n      <td>0.0000</td>\n      <td>1.00</td>\n    </tr>\n    <tr>\n      <th>avg_glucose_level</th>\n      <td>3829.0</td>\n      <td>106.178062</td>\n      <td>45.048667</td>\n      <td>55.22</td>\n      <td>77.50</td>\n      <td>92.11</td>\n      <td>114.0900</td>\n      <td>267.76</td>\n    </tr>\n    <tr>\n      <th>bmi</th>\n      <td>2884.0</td>\n      <td>28.887899</td>\n      <td>7.904179</td>\n      <td>11.30</td>\n      <td>23.50</td>\n      <td>28.00</td>\n      <td>33.0000</td>\n      <td>97.60</td>\n    </tr>\n    <tr>\n      <th>height</th>\n      <td>2928.0</td>\n      <td>1.611831</td>\n      <td>0.149053</td>\n      <td>0.91</td>\n      <td>1.52</td>\n      <td>1.63</td>\n      <td>1.7225</td>\n      <td>1.85</td>\n    </tr>\n    <tr>\n      <th>stroke</th>\n      <td>4000.0</td>\n      <td>0.032500</td>\n      <td>0.177346</td>\n      <td>0.00</td>\n      <td>0.00</td>\n      <td>0.00</td>\n      <td>0.0000</td>\n      <td>1.00</td>\n    </tr>\n  </tbody>\n</table>\n</div>"
     },
     "metadata": {},
     "execution_count": 6
    }
   ],
   "source": [
    "df.describe().transpose()"
   ]
  },
  {
   "cell_type": "code",
   "execution_count": 7,
   "metadata": {},
   "outputs": [
    {
     "output_type": "stream",
     "name": "stdout",
     "text": [
      "<class 'pandas.core.frame.DataFrame'>\nRangeIndex: 4000 entries, 0 to 3999\nData columns (total 13 columns):\n #   Column             Non-Null Count  Dtype  \n---  ------             --------------  -----  \n 0   gender             4000 non-null   object \n 1   age                3893 non-null   float64\n 2   hypertension       3770 non-null   float64\n 3   heart_disease      3910 non-null   float64\n 4   ever_married       4000 non-null   object \n 5   work_type          4000 non-null   object \n 6   Residence_type     4000 non-null   object \n 7   avg_glucose_level  3829 non-null   float64\n 8   bmi                2884 non-null   float64\n 9   smoking_status     4000 non-null   object \n 10  blood              3990 non-null   object \n 11  height             2928 non-null   float64\n 12  stroke             4000 non-null   int64  \ndtypes: float64(6), int64(1), object(6)\nmemory usage: 406.4+ KB\n"
     ]
    }
   ],
   "source": [
    "df.info()"
   ]
  },
  {
   "cell_type": "code",
   "execution_count": 8,
   "metadata": {},
   "outputs": [],
   "source": [
    "def draw_missing_data_table(data):\n",
    "    total = data.isnull().sum().sort_values(ascending=False)\n",
    "    percent = (data.isnull().sum()/data.isnull().count()).sort_values(ascending=False)\n",
    "    missing_data = pd.concat([total, percent], axis=1, keys=['Total', 'Percent'])\n",
    "    return missing_data"
   ]
  },
  {
   "cell_type": "code",
   "execution_count": 9,
   "metadata": {},
   "outputs": [],
   "source": [
    "# sns.set(style=\"ticks\");\n",
    "# pal = [\"#FA5858\", \"#58D3F7\"]\n",
    "\n",
    "# sns.pairplot(df, hue=\"stroke\", palette=pal);\n",
    "# plt.title(\"stroke\");"
   ]
  },
  {
   "cell_type": "code",
   "execution_count": 10,
   "metadata": {},
   "outputs": [
    {
     "output_type": "execute_result",
     "data": {
      "text/plain": [
       "stroke               1.000000\n",
       "age                  0.196161\n",
       "heart_disease        0.116838\n",
       "avg_glucose_level    0.109547\n",
       "hypertension         0.084755\n",
       "bmi                  0.030560\n",
       "height               0.029482\n",
       "Name: stroke, dtype: float64"
      ]
     },
     "metadata": {},
     "execution_count": 10
    }
   ],
   "source": [
    "df.corr()[\"stroke\"].sort_values(ascending=False)"
   ]
  },
  {
   "cell_type": "code",
   "execution_count": 11,
   "metadata": {},
   "outputs": [
    {
     "output_type": "execute_result",
     "data": {
      "text/plain": [
       "bmi                  1.000000\n",
       "age                  0.323256\n",
       "avg_glucose_level    0.175999\n",
       "hypertension         0.173382\n",
       "stroke               0.030560\n",
       "heart_disease        0.028516\n",
       "height              -0.968677\n",
       "Name: bmi, dtype: float64"
      ]
     },
     "metadata": {},
     "execution_count": 11
    }
   ],
   "source": [
    "df.corr()[\"bmi\"].sort_values(ascending=False)"
   ]
  },
  {
   "cell_type": "code",
   "execution_count": 12,
   "metadata": {},
   "outputs": [
    {
     "output_type": "execute_result",
     "data": {
      "text/plain": [
       "<AxesSubplot:>"
      ]
     },
     "metadata": {},
     "execution_count": 12
    },
    {
     "output_type": "display_data",
     "data": {
      "text/plain": "<Figure size 864x504 with 2 Axes>",
      "image/svg+xml": "<?xml version=\"1.0\" encoding=\"utf-8\" standalone=\"no\"?>\n<!DOCTYPE svg PUBLIC \"-//W3C//DTD SVG 1.1//EN\"\n  \"http://www.w3.org/Graphics/SVG/1.1/DTD/svg11.dtd\">\n<svg height=\"527.853781pt\" version=\"1.1\" viewBox=\"0 0 779.256625 527.853781\" width=\"779.256625pt\" xmlns=\"http://www.w3.org/2000/svg\" xmlns:xlink=\"http://www.w3.org/1999/xlink\">\n <metadata>\n  <rdf:RDF xmlns:cc=\"http://creativecommons.org/ns#\" xmlns:dc=\"http://purl.org/dc/elements/1.1/\" xmlns:rdf=\"http://www.w3.org/1999/02/22-rdf-syntax-ns#\">\n   <cc:Work>\n    <dc:type rdf:resource=\"http://purl.org/dc/dcmitype/StillImage\"/>\n    <dc:date>2021-05-19T16:07:58.611474</dc:date>\n    <dc:format>image/svg+xml</dc:format>\n    <dc:creator>\n     <cc:Agent>\n      <dc:title>Matplotlib v3.4.2, https://matplotlib.org/</dc:title>\n     </cc:Agent>\n    </dc:creator>\n   </cc:Work>\n  </rdf:RDF>\n </metadata>\n <defs>\n  <style type=\"text/css\">*{stroke-linecap:butt;stroke-linejoin:round;}</style>\n </defs>\n <g id=\"figure_1\">\n  <g id=\"patch_1\">\n   <path d=\"M 0 527.853781 \nL 779.256625 527.853781 \nL 779.256625 0 \nL 0 0 \nz\n\" style=\"fill:none;\"/>\n  </g>\n  <g id=\"axes_1\">\n   <g id=\"patch_2\">\n    <path d=\"M 135.118812 392.734969 \nL 670.798813 392.734969 \nL 670.798813 12.214969 \nL 135.118812 12.214969 \nz\n\" style=\"fill:#ffffff;\"/>\n   </g>\n   <g id=\"QuadMesh_1\">\n    <path clip-path=\"url(#pcbdfee9dae)\" d=\"M 135.118812 12.214969 \nL 211.644527 12.214969 \nL 211.644527 66.574969 \nL 135.118812 66.574969 \nL 135.118812 12.214969 \n\" style=\"fill:#fde725;\"/>\n    <path clip-path=\"url(#pcbdfee9dae)\" d=\"M 211.644527 12.214969 \nL 288.170241 12.214969 \nL 288.170241 66.574969 \nL 211.644527 66.574969 \nL 211.644527 12.214969 \n\" style=\"fill:#28ae80;\"/>\n    <path clip-path=\"url(#pcbdfee9dae)\" d=\"M 288.170241 12.214969 \nL 364.695955 12.214969 \nL 364.695955 66.574969 \nL 288.170241 66.574969 \nL 288.170241 12.214969 \n\" style=\"fill:#29af7f;\"/>\n    <path clip-path=\"url(#pcbdfee9dae)\" d=\"M 364.695955 12.214969 \nL 441.22167 12.214969 \nL 441.22167 66.574969 \nL 364.695955 66.574969 \nL 364.695955 12.214969 \n\" style=\"fill:#25ab82;\"/>\n    <path clip-path=\"url(#pcbdfee9dae)\" d=\"M 441.22167 12.214969 \nL 517.747384 12.214969 \nL 517.747384 66.574969 \nL 441.22167 66.574969 \nL 441.22167 12.214969 \n\" style=\"fill:#31b57b;\"/>\n    <path clip-path=\"url(#pcbdfee9dae)\" d=\"M 517.747384 12.214969 \nL 594.273098 12.214969 \nL 594.273098 66.574969 \nL 517.747384 66.574969 \nL 517.747384 12.214969 \n\" style=\"fill:#238a8d;\"/>\n    <path clip-path=\"url(#pcbdfee9dae)\" d=\"M 594.273098 12.214969 \nL 670.798813 12.214969 \nL 670.798813 66.574969 \nL 594.273098 66.574969 \nL 594.273098 12.214969 \n\" style=\"fill:#21a685;\"/>\n    <path clip-path=\"url(#pcbdfee9dae)\" d=\"M 135.118812 66.574969 \nL 211.644527 66.574969 \nL 211.644527 120.934969 \nL 135.118812 120.934969 \nL 135.118812 66.574969 \n\" style=\"fill:#28ae80;\"/>\n    <path clip-path=\"url(#pcbdfee9dae)\" d=\"M 211.644527 66.574969 \nL 288.170241 66.574969 \nL 288.170241 120.934969 \nL 211.644527 120.934969 \nL 211.644527 66.574969 \n\" style=\"fill:#fde725;\"/>\n    <path clip-path=\"url(#pcbdfee9dae)\" d=\"M 288.170241 66.574969 \nL 364.695955 66.574969 \nL 364.695955 120.934969 \nL 288.170241 120.934969 \nL 288.170241 66.574969 \n\" style=\"fill:#1f9a8a;\"/>\n    <path clip-path=\"url(#pcbdfee9dae)\" d=\"M 364.695955 66.574969 \nL 441.22167 66.574969 \nL 441.22167 120.934969 \nL 364.695955 120.934969 \nL 364.695955 66.574969 \n\" style=\"fill:#1fa187;\"/>\n    <path clip-path=\"url(#pcbdfee9dae)\" d=\"M 441.22167 66.574969 \nL 517.747384 66.574969 \nL 517.747384 120.934969 \nL 441.22167 120.934969 \nL 441.22167 66.574969 \n\" style=\"fill:#20a386;\"/>\n    <path clip-path=\"url(#pcbdfee9dae)\" d=\"M 517.747384 66.574969 \nL 594.273098 66.574969 \nL 594.273098 120.934969 \nL 517.747384 120.934969 \nL 517.747384 66.574969 \n\" style=\"fill:#26828e;\"/>\n    <path clip-path=\"url(#pcbdfee9dae)\" d=\"M 594.273098 66.574969 \nL 670.798813 66.574969 \nL 670.798813 120.934969 \nL 594.273098 120.934969 \nL 594.273098 66.574969 \n\" style=\"fill:#1f988b;\"/>\n    <path clip-path=\"url(#pcbdfee9dae)\" d=\"M 135.118812 120.934969 \nL 211.644527 120.934969 \nL 211.644527 175.294969 \nL 135.118812 175.294969 \nL 135.118812 120.934969 \n\" style=\"fill:#29af7f;\"/>\n    <path clip-path=\"url(#pcbdfee9dae)\" d=\"M 211.644527 120.934969 \nL 288.170241 120.934969 \nL 288.170241 175.294969 \nL 211.644527 175.294969 \nL 211.644527 120.934969 \n\" style=\"fill:#1f9a8a;\"/>\n    <path clip-path=\"url(#pcbdfee9dae)\" d=\"M 288.170241 120.934969 \nL 364.695955 120.934969 \nL 364.695955 175.294969 \nL 288.170241 175.294969 \nL 288.170241 120.934969 \n\" style=\"fill:#fde725;\"/>\n    <path clip-path=\"url(#pcbdfee9dae)\" d=\"M 364.695955 120.934969 \nL 441.22167 120.934969 \nL 441.22167 175.294969 \nL 364.695955 175.294969 \nL 364.695955 120.934969 \n\" style=\"fill:#1fa187;\"/>\n    <path clip-path=\"url(#pcbdfee9dae)\" d=\"M 441.22167 120.934969 \nL 517.747384 120.934969 \nL 517.747384 175.294969 \nL 441.22167 175.294969 \nL 441.22167 120.934969 \n\" style=\"fill:#20928c;\"/>\n    <path clip-path=\"url(#pcbdfee9dae)\" d=\"M 517.747384 120.934969 \nL 594.273098 120.934969 \nL 594.273098 175.294969 \nL 517.747384 175.294969 \nL 517.747384 120.934969 \n\" style=\"fill:#21918c;\"/>\n    <path clip-path=\"url(#pcbdfee9dae)\" d=\"M 594.273098 120.934969 \nL 670.798813 120.934969 \nL 670.798813 175.294969 \nL 594.273098 175.294969 \nL 594.273098 120.934969 \n\" style=\"fill:#1e9d89;\"/>\n    <path clip-path=\"url(#pcbdfee9dae)\" d=\"M 135.118812 175.294969 \nL 211.644527 175.294969 \nL 211.644527 229.654969 \nL 135.118812 229.654969 \nL 135.118812 175.294969 \n\" style=\"fill:#25ab82;\"/>\n    <path clip-path=\"url(#pcbdfee9dae)\" d=\"M 211.644527 175.294969 \nL 288.170241 175.294969 \nL 288.170241 229.654969 \nL 211.644527 229.654969 \nL 211.644527 175.294969 \n\" style=\"fill:#1fa187;\"/>\n    <path clip-path=\"url(#pcbdfee9dae)\" d=\"M 288.170241 175.294969 \nL 364.695955 175.294969 \nL 364.695955 229.654969 \nL 288.170241 229.654969 \nL 288.170241 175.294969 \n\" style=\"fill:#1fa187;\"/>\n    <path clip-path=\"url(#pcbdfee9dae)\" d=\"M 364.695955 175.294969 \nL 441.22167 175.294969 \nL 441.22167 229.654969 \nL 364.695955 229.654969 \nL 364.695955 175.294969 \n\" style=\"fill:#fde725;\"/>\n    <path clip-path=\"url(#pcbdfee9dae)\" d=\"M 441.22167 175.294969 \nL 517.747384 175.294969 \nL 517.747384 229.654969 \nL 441.22167 229.654969 \nL 441.22167 175.294969 \n\" style=\"fill:#20a386;\"/>\n    <path clip-path=\"url(#pcbdfee9dae)\" d=\"M 517.747384 175.294969 \nL 594.273098 175.294969 \nL 594.273098 229.654969 \nL 517.747384 229.654969 \nL 517.747384 175.294969 \n\" style=\"fill:#287d8e;\"/>\n    <path clip-path=\"url(#pcbdfee9dae)\" d=\"M 594.273098 175.294969 \nL 670.798813 175.294969 \nL 670.798813 229.654969 \nL 594.273098 229.654969 \nL 594.273098 175.294969 \n\" style=\"fill:#1e9c89;\"/>\n    <path clip-path=\"url(#pcbdfee9dae)\" d=\"M 135.118812 229.654969 \nL 211.644527 229.654969 \nL 211.644527 284.014969 \nL 135.118812 284.014969 \nL 135.118812 229.654969 \n\" style=\"fill:#31b57b;\"/>\n    <path clip-path=\"url(#pcbdfee9dae)\" d=\"M 211.644527 229.654969 \nL 288.170241 229.654969 \nL 288.170241 284.014969 \nL 211.644527 284.014969 \nL 211.644527 229.654969 \n\" style=\"fill:#20a386;\"/>\n    <path clip-path=\"url(#pcbdfee9dae)\" d=\"M 288.170241 229.654969 \nL 364.695955 229.654969 \nL 364.695955 284.014969 \nL 288.170241 284.014969 \nL 288.170241 229.654969 \n\" style=\"fill:#20928c;\"/>\n    <path clip-path=\"url(#pcbdfee9dae)\" d=\"M 364.695955 229.654969 \nL 441.22167 229.654969 \nL 441.22167 284.014969 \nL 364.695955 284.014969 \nL 364.695955 229.654969 \n\" style=\"fill:#20a386;\"/>\n    <path clip-path=\"url(#pcbdfee9dae)\" d=\"M 441.22167 229.654969 \nL 517.747384 229.654969 \nL 517.747384 284.014969 \nL 441.22167 284.014969 \nL 441.22167 229.654969 \n\" style=\"fill:#fde725;\"/>\n    <path clip-path=\"url(#pcbdfee9dae)\" d=\"M 517.747384 229.654969 \nL 594.273098 229.654969 \nL 594.273098 284.014969 \nL 517.747384 284.014969 \nL 517.747384 229.654969 \n\" style=\"fill:#440154;\"/>\n    <path clip-path=\"url(#pcbdfee9dae)\" d=\"M 594.273098 229.654969 \nL 670.798813 229.654969 \nL 670.798813 284.014969 \nL 594.273098 284.014969 \nL 594.273098 229.654969 \n\" style=\"fill:#20928c;\"/>\n    <path clip-path=\"url(#pcbdfee9dae)\" d=\"M 135.118812 284.014969 \nL 211.644527 284.014969 \nL 211.644527 338.374969 \nL 135.118812 338.374969 \nL 135.118812 284.014969 \n\" style=\"fill:#238a8d;\"/>\n    <path clip-path=\"url(#pcbdfee9dae)\" d=\"M 211.644527 284.014969 \nL 288.170241 284.014969 \nL 288.170241 338.374969 \nL 211.644527 338.374969 \nL 211.644527 284.014969 \n\" style=\"fill:#26828e;\"/>\n    <path clip-path=\"url(#pcbdfee9dae)\" d=\"M 288.170241 284.014969 \nL 364.695955 284.014969 \nL 364.695955 338.374969 \nL 288.170241 338.374969 \nL 288.170241 284.014969 \n\" style=\"fill:#21918c;\"/>\n    <path clip-path=\"url(#pcbdfee9dae)\" d=\"M 364.695955 284.014969 \nL 441.22167 284.014969 \nL 441.22167 338.374969 \nL 364.695955 338.374969 \nL 364.695955 284.014969 \n\" style=\"fill:#287d8e;\"/>\n    <path clip-path=\"url(#pcbdfee9dae)\" d=\"M 441.22167 284.014969 \nL 517.747384 284.014969 \nL 517.747384 338.374969 \nL 441.22167 338.374969 \nL 441.22167 284.014969 \n\" style=\"fill:#440154;\"/>\n    <path clip-path=\"url(#pcbdfee9dae)\" d=\"M 517.747384 284.014969 \nL 594.273098 284.014969 \nL 594.273098 338.374969 \nL 517.747384 338.374969 \nL 517.747384 284.014969 \n\" style=\"fill:#fde725;\"/>\n    <path clip-path=\"url(#pcbdfee9dae)\" d=\"M 594.273098 284.014969 \nL 670.798813 284.014969 \nL 670.798813 338.374969 \nL 594.273098 338.374969 \nL 594.273098 284.014969 \n\" style=\"fill:#20928c;\"/>\n    <path clip-path=\"url(#pcbdfee9dae)\" d=\"M 135.118812 338.374969 \nL 211.644527 338.374969 \nL 211.644527 392.734969 \nL 135.118812 392.734969 \nL 135.118812 338.374969 \n\" style=\"fill:#21a685;\"/>\n    <path clip-path=\"url(#pcbdfee9dae)\" d=\"M 211.644527 338.374969 \nL 288.170241 338.374969 \nL 288.170241 392.734969 \nL 211.644527 392.734969 \nL 211.644527 338.374969 \n\" style=\"fill:#1f988b;\"/>\n    <path clip-path=\"url(#pcbdfee9dae)\" d=\"M 288.170241 338.374969 \nL 364.695955 338.374969 \nL 364.695955 392.734969 \nL 288.170241 392.734969 \nL 288.170241 338.374969 \n\" style=\"fill:#1e9d89;\"/>\n    <path clip-path=\"url(#pcbdfee9dae)\" d=\"M 364.695955 338.374969 \nL 441.22167 338.374969 \nL 441.22167 392.734969 \nL 364.695955 392.734969 \nL 364.695955 338.374969 \n\" style=\"fill:#1e9c89;\"/>\n    <path clip-path=\"url(#pcbdfee9dae)\" d=\"M 441.22167 338.374969 \nL 517.747384 338.374969 \nL 517.747384 392.734969 \nL 441.22167 392.734969 \nL 441.22167 338.374969 \n\" style=\"fill:#20928c;\"/>\n    <path clip-path=\"url(#pcbdfee9dae)\" d=\"M 517.747384 338.374969 \nL 594.273098 338.374969 \nL 594.273098 392.734969 \nL 517.747384 392.734969 \nL 517.747384 338.374969 \n\" style=\"fill:#20928c;\"/>\n    <path clip-path=\"url(#pcbdfee9dae)\" d=\"M 594.273098 338.374969 \nL 670.798813 338.374969 \nL 670.798813 392.734969 \nL 594.273098 392.734969 \nL 594.273098 338.374969 \n\" style=\"fill:#fde725;\"/>\n   </g>\n   <g id=\"matplotlib.axis_1\">\n    <g id=\"xtick_1\">\n     <g id=\"line2d_1\">\n      <defs>\n       <path d=\"M 0 0 \nL 0 4.8 \n\" id=\"m7cfd9abdf4\" style=\"stroke:#000000;\"/>\n      </defs>\n      <g>\n       <use style=\"stroke:#000000;\" x=\"173.38167\" xlink:href=\"#m7cfd9abdf4\" y=\"392.734969\"/>\n      </g>\n     </g>\n     <g id=\"text_1\">\n      <!-- age -->\n      <g transform=\"translate(177.024045 425.626156)rotate(-90)scale(0.132 -0.132)\">\n       <defs>\n        <path d=\"M 2194 1759 \nQ 1497 1759 1228 1600 \nQ 959 1441 959 1056 \nQ 959 750 1161 570 \nQ 1363 391 1709 391 \nQ 2188 391 2477 730 \nQ 2766 1069 2766 1631 \nL 2766 1759 \nL 2194 1759 \nz\nM 3341 1997 \nL 3341 0 \nL 2766 0 \nL 2766 531 \nQ 2569 213 2275 61 \nQ 1981 -91 1556 -91 \nQ 1019 -91 701 211 \nQ 384 513 384 1019 \nQ 384 1609 779 1909 \nQ 1175 2209 1959 2209 \nL 2766 2209 \nL 2766 2266 \nQ 2766 2663 2505 2880 \nQ 2244 3097 1772 3097 \nQ 1472 3097 1187 3025 \nQ 903 2953 641 2809 \nL 641 3341 \nQ 956 3463 1253 3523 \nQ 1550 3584 1831 3584 \nQ 2591 3584 2966 3190 \nQ 3341 2797 3341 1997 \nz\n\" id=\"DejaVuSans-61\" transform=\"scale(0.015625)\"/>\n        <path d=\"M 2906 1791 \nQ 2906 2416 2648 2759 \nQ 2391 3103 1925 3103 \nQ 1463 3103 1205 2759 \nQ 947 2416 947 1791 \nQ 947 1169 1205 825 \nQ 1463 481 1925 481 \nQ 2391 481 2648 825 \nQ 2906 1169 2906 1791 \nz\nM 3481 434 \nQ 3481 -459 3084 -895 \nQ 2688 -1331 1869 -1331 \nQ 1566 -1331 1297 -1286 \nQ 1028 -1241 775 -1147 \nL 775 -588 \nQ 1028 -725 1275 -790 \nQ 1522 -856 1778 -856 \nQ 2344 -856 2625 -561 \nQ 2906 -266 2906 331 \nL 2906 616 \nQ 2728 306 2450 153 \nQ 2172 0 1784 0 \nQ 1141 0 747 490 \nQ 353 981 353 1791 \nQ 353 2603 747 3093 \nQ 1141 3584 1784 3584 \nQ 2172 3584 2450 3431 \nQ 2728 3278 2906 2969 \nL 2906 3500 \nL 3481 3500 \nL 3481 434 \nz\n\" id=\"DejaVuSans-67\" transform=\"scale(0.015625)\"/>\n        <path d=\"M 3597 1894 \nL 3597 1613 \nL 953 1613 \nQ 991 1019 1311 708 \nQ 1631 397 2203 397 \nQ 2534 397 2845 478 \nQ 3156 559 3463 722 \nL 3463 178 \nQ 3153 47 2828 -22 \nQ 2503 -91 2169 -91 \nQ 1331 -91 842 396 \nQ 353 884 353 1716 \nQ 353 2575 817 3079 \nQ 1281 3584 2069 3584 \nQ 2775 3584 3186 3129 \nQ 3597 2675 3597 1894 \nz\nM 3022 2063 \nQ 3016 2534 2758 2815 \nQ 2500 3097 2075 3097 \nQ 1594 3097 1305 2825 \nQ 1016 2553 972 2059 \nL 3022 2063 \nz\n\" id=\"DejaVuSans-65\" transform=\"scale(0.015625)\"/>\n       </defs>\n       <use xlink:href=\"#DejaVuSans-61\"/>\n       <use x=\"61.279297\" xlink:href=\"#DejaVuSans-67\"/>\n       <use x=\"124.755859\" xlink:href=\"#DejaVuSans-65\"/>\n      </g>\n     </g>\n    </g>\n    <g id=\"xtick_2\">\n     <g id=\"line2d_2\">\n      <g>\n       <use style=\"stroke:#000000;\" x=\"249.907384\" xlink:href=\"#m7cfd9abdf4\" y=\"392.734969\"/>\n      </g>\n     </g>\n     <g id=\"text_2\">\n      <!-- hypertension -->\n      <g transform=\"translate(253.549759 487.789906)rotate(-90)scale(0.132 -0.132)\">\n       <defs>\n        <path d=\"M 3513 2113 \nL 3513 0 \nL 2938 0 \nL 2938 2094 \nQ 2938 2591 2744 2837 \nQ 2550 3084 2163 3084 \nQ 1697 3084 1428 2787 \nQ 1159 2491 1159 1978 \nL 1159 0 \nL 581 0 \nL 581 4863 \nL 1159 4863 \nL 1159 2956 \nQ 1366 3272 1645 3428 \nQ 1925 3584 2291 3584 \nQ 2894 3584 3203 3211 \nQ 3513 2838 3513 2113 \nz\n\" id=\"DejaVuSans-68\" transform=\"scale(0.015625)\"/>\n        <path d=\"M 2059 -325 \nQ 1816 -950 1584 -1140 \nQ 1353 -1331 966 -1331 \nL 506 -1331 \nL 506 -850 \nL 844 -850 \nQ 1081 -850 1212 -737 \nQ 1344 -625 1503 -206 \nL 1606 56 \nL 191 3500 \nL 800 3500 \nL 1894 763 \nL 2988 3500 \nL 3597 3500 \nL 2059 -325 \nz\n\" id=\"DejaVuSans-79\" transform=\"scale(0.015625)\"/>\n        <path d=\"M 1159 525 \nL 1159 -1331 \nL 581 -1331 \nL 581 3500 \nL 1159 3500 \nL 1159 2969 \nQ 1341 3281 1617 3432 \nQ 1894 3584 2278 3584 \nQ 2916 3584 3314 3078 \nQ 3713 2572 3713 1747 \nQ 3713 922 3314 415 \nQ 2916 -91 2278 -91 \nQ 1894 -91 1617 61 \nQ 1341 213 1159 525 \nz\nM 3116 1747 \nQ 3116 2381 2855 2742 \nQ 2594 3103 2138 3103 \nQ 1681 3103 1420 2742 \nQ 1159 2381 1159 1747 \nQ 1159 1113 1420 752 \nQ 1681 391 2138 391 \nQ 2594 391 2855 752 \nQ 3116 1113 3116 1747 \nz\n\" id=\"DejaVuSans-70\" transform=\"scale(0.015625)\"/>\n        <path d=\"M 2631 2963 \nQ 2534 3019 2420 3045 \nQ 2306 3072 2169 3072 \nQ 1681 3072 1420 2755 \nQ 1159 2438 1159 1844 \nL 1159 0 \nL 581 0 \nL 581 3500 \nL 1159 3500 \nL 1159 2956 \nQ 1341 3275 1631 3429 \nQ 1922 3584 2338 3584 \nQ 2397 3584 2469 3576 \nQ 2541 3569 2628 3553 \nL 2631 2963 \nz\n\" id=\"DejaVuSans-72\" transform=\"scale(0.015625)\"/>\n        <path d=\"M 1172 4494 \nL 1172 3500 \nL 2356 3500 \nL 2356 3053 \nL 1172 3053 \nL 1172 1153 \nQ 1172 725 1289 603 \nQ 1406 481 1766 481 \nL 2356 481 \nL 2356 0 \nL 1766 0 \nQ 1100 0 847 248 \nQ 594 497 594 1153 \nL 594 3053 \nL 172 3053 \nL 172 3500 \nL 594 3500 \nL 594 4494 \nL 1172 4494 \nz\n\" id=\"DejaVuSans-74\" transform=\"scale(0.015625)\"/>\n        <path d=\"M 3513 2113 \nL 3513 0 \nL 2938 0 \nL 2938 2094 \nQ 2938 2591 2744 2837 \nQ 2550 3084 2163 3084 \nQ 1697 3084 1428 2787 \nQ 1159 2491 1159 1978 \nL 1159 0 \nL 581 0 \nL 581 3500 \nL 1159 3500 \nL 1159 2956 \nQ 1366 3272 1645 3428 \nQ 1925 3584 2291 3584 \nQ 2894 3584 3203 3211 \nQ 3513 2838 3513 2113 \nz\n\" id=\"DejaVuSans-6e\" transform=\"scale(0.015625)\"/>\n        <path d=\"M 2834 3397 \nL 2834 2853 \nQ 2591 2978 2328 3040 \nQ 2066 3103 1784 3103 \nQ 1356 3103 1142 2972 \nQ 928 2841 928 2578 \nQ 928 2378 1081 2264 \nQ 1234 2150 1697 2047 \nL 1894 2003 \nQ 2506 1872 2764 1633 \nQ 3022 1394 3022 966 \nQ 3022 478 2636 193 \nQ 2250 -91 1575 -91 \nQ 1294 -91 989 -36 \nQ 684 19 347 128 \nL 347 722 \nQ 666 556 975 473 \nQ 1284 391 1588 391 \nQ 1994 391 2212 530 \nQ 2431 669 2431 922 \nQ 2431 1156 2273 1281 \nQ 2116 1406 1581 1522 \nL 1381 1569 \nQ 847 1681 609 1914 \nQ 372 2147 372 2553 \nQ 372 3047 722 3315 \nQ 1072 3584 1716 3584 \nQ 2034 3584 2315 3537 \nQ 2597 3491 2834 3397 \nz\n\" id=\"DejaVuSans-73\" transform=\"scale(0.015625)\"/>\n        <path d=\"M 603 3500 \nL 1178 3500 \nL 1178 0 \nL 603 0 \nL 603 3500 \nz\nM 603 4863 \nL 1178 4863 \nL 1178 4134 \nL 603 4134 \nL 603 4863 \nz\n\" id=\"DejaVuSans-69\" transform=\"scale(0.015625)\"/>\n        <path d=\"M 1959 3097 \nQ 1497 3097 1228 2736 \nQ 959 2375 959 1747 \nQ 959 1119 1226 758 \nQ 1494 397 1959 397 \nQ 2419 397 2687 759 \nQ 2956 1122 2956 1747 \nQ 2956 2369 2687 2733 \nQ 2419 3097 1959 3097 \nz\nM 1959 3584 \nQ 2709 3584 3137 3096 \nQ 3566 2609 3566 1747 \nQ 3566 888 3137 398 \nQ 2709 -91 1959 -91 \nQ 1206 -91 779 398 \nQ 353 888 353 1747 \nQ 353 2609 779 3096 \nQ 1206 3584 1959 3584 \nz\n\" id=\"DejaVuSans-6f\" transform=\"scale(0.015625)\"/>\n       </defs>\n       <use xlink:href=\"#DejaVuSans-68\"/>\n       <use x=\"63.378906\" xlink:href=\"#DejaVuSans-79\"/>\n       <use x=\"122.558594\" xlink:href=\"#DejaVuSans-70\"/>\n       <use x=\"186.035156\" xlink:href=\"#DejaVuSans-65\"/>\n       <use x=\"247.558594\" xlink:href=\"#DejaVuSans-72\"/>\n       <use x=\"288.671875\" xlink:href=\"#DejaVuSans-74\"/>\n       <use x=\"327.880859\" xlink:href=\"#DejaVuSans-65\"/>\n       <use x=\"389.404297\" xlink:href=\"#DejaVuSans-6e\"/>\n       <use x=\"452.783203\" xlink:href=\"#DejaVuSans-73\"/>\n       <use x=\"504.882812\" xlink:href=\"#DejaVuSans-69\"/>\n       <use x=\"532.666016\" xlink:href=\"#DejaVuSans-6f\"/>\n       <use x=\"593.847656\" xlink:href=\"#DejaVuSans-6e\"/>\n      </g>\n     </g>\n    </g>\n    <g id=\"xtick_3\">\n     <g id=\"line2d_3\">\n      <g>\n       <use style=\"stroke:#000000;\" x=\"326.433098\" xlink:href=\"#m7cfd9abdf4\" y=\"392.734969\"/>\n      </g>\n     </g>\n     <g id=\"text_3\">\n      <!-- heart_disease -->\n      <g transform=\"translate(329.891911 492.946156)rotate(-90)scale(0.132 -0.132)\">\n       <defs>\n        <path d=\"M 3263 -1063 \nL 3263 -1509 \nL -63 -1509 \nL -63 -1063 \nL 3263 -1063 \nz\n\" id=\"DejaVuSans-5f\" transform=\"scale(0.015625)\"/>\n        <path d=\"M 2906 2969 \nL 2906 4863 \nL 3481 4863 \nL 3481 0 \nL 2906 0 \nL 2906 525 \nQ 2725 213 2448 61 \nQ 2172 -91 1784 -91 \nQ 1150 -91 751 415 \nQ 353 922 353 1747 \nQ 353 2572 751 3078 \nQ 1150 3584 1784 3584 \nQ 2172 3584 2448 3432 \nQ 2725 3281 2906 2969 \nz\nM 947 1747 \nQ 947 1113 1208 752 \nQ 1469 391 1925 391 \nQ 2381 391 2643 752 \nQ 2906 1113 2906 1747 \nQ 2906 2381 2643 2742 \nQ 2381 3103 1925 3103 \nQ 1469 3103 1208 2742 \nQ 947 2381 947 1747 \nz\n\" id=\"DejaVuSans-64\" transform=\"scale(0.015625)\"/>\n       </defs>\n       <use xlink:href=\"#DejaVuSans-68\"/>\n       <use x=\"63.378906\" xlink:href=\"#DejaVuSans-65\"/>\n       <use x=\"124.902344\" xlink:href=\"#DejaVuSans-61\"/>\n       <use x=\"186.181641\" xlink:href=\"#DejaVuSans-72\"/>\n       <use x=\"227.294922\" xlink:href=\"#DejaVuSans-74\"/>\n       <use x=\"266.503906\" xlink:href=\"#DejaVuSans-5f\"/>\n       <use x=\"316.503906\" xlink:href=\"#DejaVuSans-64\"/>\n       <use x=\"379.980469\" xlink:href=\"#DejaVuSans-69\"/>\n       <use x=\"407.763672\" xlink:href=\"#DejaVuSans-73\"/>\n       <use x=\"459.863281\" xlink:href=\"#DejaVuSans-65\"/>\n       <use x=\"521.386719\" xlink:href=\"#DejaVuSans-61\"/>\n       <use x=\"582.666016\" xlink:href=\"#DejaVuSans-73\"/>\n       <use x=\"634.765625\" xlink:href=\"#DejaVuSans-65\"/>\n      </g>\n     </g>\n    </g>\n    <g id=\"xtick_4\">\n     <g id=\"line2d_4\">\n      <g>\n       <use style=\"stroke:#000000;\" x=\"402.958813\" xlink:href=\"#m7cfd9abdf4\" y=\"392.734969\"/>\n      </g>\n     </g>\n     <g id=\"text_4\">\n      <!-- avg_glucose_level -->\n      <g transform=\"translate(406.417625 520.653781)rotate(-90)scale(0.132 -0.132)\">\n       <defs>\n        <path d=\"M 191 3500 \nL 800 3500 \nL 1894 563 \nL 2988 3500 \nL 3597 3500 \nL 2284 0 \nL 1503 0 \nL 191 3500 \nz\n\" id=\"DejaVuSans-76\" transform=\"scale(0.015625)\"/>\n        <path d=\"M 603 4863 \nL 1178 4863 \nL 1178 0 \nL 603 0 \nL 603 4863 \nz\n\" id=\"DejaVuSans-6c\" transform=\"scale(0.015625)\"/>\n        <path d=\"M 544 1381 \nL 544 3500 \nL 1119 3500 \nL 1119 1403 \nQ 1119 906 1312 657 \nQ 1506 409 1894 409 \nQ 2359 409 2629 706 \nQ 2900 1003 2900 1516 \nL 2900 3500 \nL 3475 3500 \nL 3475 0 \nL 2900 0 \nL 2900 538 \nQ 2691 219 2414 64 \nQ 2138 -91 1772 -91 \nQ 1169 -91 856 284 \nQ 544 659 544 1381 \nz\nM 1991 3584 \nL 1991 3584 \nz\n\" id=\"DejaVuSans-75\" transform=\"scale(0.015625)\"/>\n        <path d=\"M 3122 3366 \nL 3122 2828 \nQ 2878 2963 2633 3030 \nQ 2388 3097 2138 3097 \nQ 1578 3097 1268 2742 \nQ 959 2388 959 1747 \nQ 959 1106 1268 751 \nQ 1578 397 2138 397 \nQ 2388 397 2633 464 \nQ 2878 531 3122 666 \nL 3122 134 \nQ 2881 22 2623 -34 \nQ 2366 -91 2075 -91 \nQ 1284 -91 818 406 \nQ 353 903 353 1747 \nQ 353 2603 823 3093 \nQ 1294 3584 2113 3584 \nQ 2378 3584 2631 3529 \nQ 2884 3475 3122 3366 \nz\n\" id=\"DejaVuSans-63\" transform=\"scale(0.015625)\"/>\n       </defs>\n       <use xlink:href=\"#DejaVuSans-61\"/>\n       <use x=\"61.279297\" xlink:href=\"#DejaVuSans-76\"/>\n       <use x=\"120.458984\" xlink:href=\"#DejaVuSans-67\"/>\n       <use x=\"183.935547\" xlink:href=\"#DejaVuSans-5f\"/>\n       <use x=\"233.935547\" xlink:href=\"#DejaVuSans-67\"/>\n       <use x=\"297.412109\" xlink:href=\"#DejaVuSans-6c\"/>\n       <use x=\"325.195312\" xlink:href=\"#DejaVuSans-75\"/>\n       <use x=\"388.574219\" xlink:href=\"#DejaVuSans-63\"/>\n       <use x=\"443.554688\" xlink:href=\"#DejaVuSans-6f\"/>\n       <use x=\"504.736328\" xlink:href=\"#DejaVuSans-73\"/>\n       <use x=\"556.835938\" xlink:href=\"#DejaVuSans-65\"/>\n       <use x=\"618.359375\" xlink:href=\"#DejaVuSans-5f\"/>\n       <use x=\"668.359375\" xlink:href=\"#DejaVuSans-6c\"/>\n       <use x=\"696.142578\" xlink:href=\"#DejaVuSans-65\"/>\n       <use x=\"757.666016\" xlink:href=\"#DejaVuSans-76\"/>\n       <use x=\"816.845703\" xlink:href=\"#DejaVuSans-65\"/>\n       <use x=\"878.369141\" xlink:href=\"#DejaVuSans-6c\"/>\n      </g>\n     </g>\n    </g>\n    <g id=\"xtick_5\">\n     <g id=\"line2d_5\">\n      <g>\n       <use style=\"stroke:#000000;\" x=\"479.484527\" xlink:href=\"#m7cfd9abdf4\" y=\"392.734969\"/>\n      </g>\n     </g>\n     <g id=\"text_5\">\n      <!-- bmi -->\n      <g transform=\"translate(483.126902 425.939656)rotate(-90)scale(0.132 -0.132)\">\n       <defs>\n        <path d=\"M 3116 1747 \nQ 3116 2381 2855 2742 \nQ 2594 3103 2138 3103 \nQ 1681 3103 1420 2742 \nQ 1159 2381 1159 1747 \nQ 1159 1113 1420 752 \nQ 1681 391 2138 391 \nQ 2594 391 2855 752 \nQ 3116 1113 3116 1747 \nz\nM 1159 2969 \nQ 1341 3281 1617 3432 \nQ 1894 3584 2278 3584 \nQ 2916 3584 3314 3078 \nQ 3713 2572 3713 1747 \nQ 3713 922 3314 415 \nQ 2916 -91 2278 -91 \nQ 1894 -91 1617 61 \nQ 1341 213 1159 525 \nL 1159 0 \nL 581 0 \nL 581 4863 \nL 1159 4863 \nL 1159 2969 \nz\n\" id=\"DejaVuSans-62\" transform=\"scale(0.015625)\"/>\n        <path d=\"M 3328 2828 \nQ 3544 3216 3844 3400 \nQ 4144 3584 4550 3584 \nQ 5097 3584 5394 3201 \nQ 5691 2819 5691 2113 \nL 5691 0 \nL 5113 0 \nL 5113 2094 \nQ 5113 2597 4934 2840 \nQ 4756 3084 4391 3084 \nQ 3944 3084 3684 2787 \nQ 3425 2491 3425 1978 \nL 3425 0 \nL 2847 0 \nL 2847 2094 \nQ 2847 2600 2669 2842 \nQ 2491 3084 2119 3084 \nQ 1678 3084 1418 2786 \nQ 1159 2488 1159 1978 \nL 1159 0 \nL 581 0 \nL 581 3500 \nL 1159 3500 \nL 1159 2956 \nQ 1356 3278 1631 3431 \nQ 1906 3584 2284 3584 \nQ 2666 3584 2933 3390 \nQ 3200 3197 3328 2828 \nz\n\" id=\"DejaVuSans-6d\" transform=\"scale(0.015625)\"/>\n       </defs>\n       <use xlink:href=\"#DejaVuSans-62\"/>\n       <use x=\"63.476562\" xlink:href=\"#DejaVuSans-6d\"/>\n       <use x=\"160.888672\" xlink:href=\"#DejaVuSans-69\"/>\n      </g>\n     </g>\n    </g>\n    <g id=\"xtick_6\">\n     <g id=\"line2d_6\">\n      <g>\n       <use style=\"stroke:#000000;\" x=\"556.010241\" xlink:href=\"#m7cfd9abdf4\" y=\"392.734969\"/>\n      </g>\n     </g>\n     <g id=\"text_6\">\n      <!-- height -->\n      <g transform=\"translate(559.652616 443.109969)rotate(-90)scale(0.132 -0.132)\">\n       <use xlink:href=\"#DejaVuSans-68\"/>\n       <use x=\"63.378906\" xlink:href=\"#DejaVuSans-65\"/>\n       <use x=\"124.902344\" xlink:href=\"#DejaVuSans-69\"/>\n       <use x=\"152.685547\" xlink:href=\"#DejaVuSans-67\"/>\n       <use x=\"216.162109\" xlink:href=\"#DejaVuSans-68\"/>\n       <use x=\"279.541016\" xlink:href=\"#DejaVuSans-74\"/>\n      </g>\n     </g>\n    </g>\n    <g id=\"xtick_7\">\n     <g id=\"line2d_7\">\n      <g>\n       <use style=\"stroke:#000000;\" x=\"632.535955\" xlink:href=\"#m7cfd9abdf4\" y=\"392.734969\"/>\n      </g>\n     </g>\n     <g id=\"text_7\">\n      <!-- stroke -->\n      <g transform=\"translate(636.17833 441.579594)rotate(-90)scale(0.132 -0.132)\">\n       <defs>\n        <path d=\"M 581 4863 \nL 1159 4863 \nL 1159 1991 \nL 2875 3500 \nL 3609 3500 \nL 1753 1863 \nL 3688 0 \nL 2938 0 \nL 1159 1709 \nL 1159 0 \nL 581 0 \nL 581 4863 \nz\n\" id=\"DejaVuSans-6b\" transform=\"scale(0.015625)\"/>\n       </defs>\n       <use xlink:href=\"#DejaVuSans-73\"/>\n       <use x=\"52.099609\" xlink:href=\"#DejaVuSans-74\"/>\n       <use x=\"91.308594\" xlink:href=\"#DejaVuSans-72\"/>\n       <use x=\"130.171875\" xlink:href=\"#DejaVuSans-6f\"/>\n       <use x=\"191.353516\" xlink:href=\"#DejaVuSans-6b\"/>\n       <use x=\"245.638672\" xlink:href=\"#DejaVuSans-65\"/>\n      </g>\n     </g>\n    </g>\n   </g>\n   <g id=\"matplotlib.axis_2\">\n    <g id=\"ytick_1\">\n     <g id=\"line2d_8\">\n      <defs>\n       <path d=\"M 0 0 \nL -4.8 0 \n\" id=\"m56015839db\" style=\"stroke:#000000;\"/>\n      </defs>\n      <g>\n       <use style=\"stroke:#000000;\" x=\"135.118812\" xlink:href=\"#m56015839db\" y=\"39.394969\"/>\n      </g>\n     </g>\n     <g id=\"text_8\">\n      <!-- age -->\n      <g transform=\"translate(102.227625 44.409937)scale(0.132 -0.132)\">\n       <use xlink:href=\"#DejaVuSans-61\"/>\n       <use x=\"61.279297\" xlink:href=\"#DejaVuSans-67\"/>\n       <use x=\"124.755859\" xlink:href=\"#DejaVuSans-65\"/>\n      </g>\n     </g>\n    </g>\n    <g id=\"ytick_2\">\n     <g id=\"line2d_9\">\n      <g>\n       <use style=\"stroke:#000000;\" x=\"135.118812\" xlink:href=\"#m56015839db\" y=\"93.754969\"/>\n      </g>\n     </g>\n     <g id=\"text_9\">\n      <!-- hypertension -->\n      <g transform=\"translate(40.063875 98.769937)scale(0.132 -0.132)\">\n       <use xlink:href=\"#DejaVuSans-68\"/>\n       <use x=\"63.378906\" xlink:href=\"#DejaVuSans-79\"/>\n       <use x=\"122.558594\" xlink:href=\"#DejaVuSans-70\"/>\n       <use x=\"186.035156\" xlink:href=\"#DejaVuSans-65\"/>\n       <use x=\"247.558594\" xlink:href=\"#DejaVuSans-72\"/>\n       <use x=\"288.671875\" xlink:href=\"#DejaVuSans-74\"/>\n       <use x=\"327.880859\" xlink:href=\"#DejaVuSans-65\"/>\n       <use x=\"389.404297\" xlink:href=\"#DejaVuSans-6e\"/>\n       <use x=\"452.783203\" xlink:href=\"#DejaVuSans-73\"/>\n       <use x=\"504.882812\" xlink:href=\"#DejaVuSans-69\"/>\n       <use x=\"532.666016\" xlink:href=\"#DejaVuSans-6f\"/>\n       <use x=\"593.847656\" xlink:href=\"#DejaVuSans-6e\"/>\n      </g>\n     </g>\n    </g>\n    <g id=\"ytick_3\">\n     <g id=\"line2d_10\">\n      <g>\n       <use style=\"stroke:#000000;\" x=\"135.118812\" xlink:href=\"#m56015839db\" y=\"148.114969\"/>\n      </g>\n     </g>\n     <g id=\"text_10\">\n      <!-- heart_disease -->\n      <g transform=\"translate(34.907625 153.129937)scale(0.132 -0.132)\">\n       <use xlink:href=\"#DejaVuSans-68\"/>\n       <use x=\"63.378906\" xlink:href=\"#DejaVuSans-65\"/>\n       <use x=\"124.902344\" xlink:href=\"#DejaVuSans-61\"/>\n       <use x=\"186.181641\" xlink:href=\"#DejaVuSans-72\"/>\n       <use x=\"227.294922\" xlink:href=\"#DejaVuSans-74\"/>\n       <use x=\"266.503906\" xlink:href=\"#DejaVuSans-5f\"/>\n       <use x=\"316.503906\" xlink:href=\"#DejaVuSans-64\"/>\n       <use x=\"379.980469\" xlink:href=\"#DejaVuSans-69\"/>\n       <use x=\"407.763672\" xlink:href=\"#DejaVuSans-73\"/>\n       <use x=\"459.863281\" xlink:href=\"#DejaVuSans-65\"/>\n       <use x=\"521.386719\" xlink:href=\"#DejaVuSans-61\"/>\n       <use x=\"582.666016\" xlink:href=\"#DejaVuSans-73\"/>\n       <use x=\"634.765625\" xlink:href=\"#DejaVuSans-65\"/>\n      </g>\n     </g>\n    </g>\n    <g id=\"ytick_4\">\n     <g id=\"line2d_11\">\n      <g>\n       <use style=\"stroke:#000000;\" x=\"135.118812\" xlink:href=\"#m56015839db\" y=\"202.474969\"/>\n      </g>\n     </g>\n     <g id=\"text_11\">\n      <!-- avg_glucose_level -->\n      <g transform=\"translate(7.2 207.489937)scale(0.132 -0.132)\">\n       <use xlink:href=\"#DejaVuSans-61\"/>\n       <use x=\"61.279297\" xlink:href=\"#DejaVuSans-76\"/>\n       <use x=\"120.458984\" xlink:href=\"#DejaVuSans-67\"/>\n       <use x=\"183.935547\" xlink:href=\"#DejaVuSans-5f\"/>\n       <use x=\"233.935547\" xlink:href=\"#DejaVuSans-67\"/>\n       <use x=\"297.412109\" xlink:href=\"#DejaVuSans-6c\"/>\n       <use x=\"325.195312\" xlink:href=\"#DejaVuSans-75\"/>\n       <use x=\"388.574219\" xlink:href=\"#DejaVuSans-63\"/>\n       <use x=\"443.554688\" xlink:href=\"#DejaVuSans-6f\"/>\n       <use x=\"504.736328\" xlink:href=\"#DejaVuSans-73\"/>\n       <use x=\"556.835938\" xlink:href=\"#DejaVuSans-65\"/>\n       <use x=\"618.359375\" xlink:href=\"#DejaVuSans-5f\"/>\n       <use x=\"668.359375\" xlink:href=\"#DejaVuSans-6c\"/>\n       <use x=\"696.142578\" xlink:href=\"#DejaVuSans-65\"/>\n       <use x=\"757.666016\" xlink:href=\"#DejaVuSans-76\"/>\n       <use x=\"816.845703\" xlink:href=\"#DejaVuSans-65\"/>\n       <use x=\"878.369141\" xlink:href=\"#DejaVuSans-6c\"/>\n      </g>\n     </g>\n    </g>\n    <g id=\"ytick_5\">\n     <g id=\"line2d_12\">\n      <g>\n       <use style=\"stroke:#000000;\" x=\"135.118812\" xlink:href=\"#m56015839db\" y=\"256.834969\"/>\n      </g>\n     </g>\n     <g id=\"text_12\">\n      <!-- bmi -->\n      <g transform=\"translate(101.914125 261.849937)scale(0.132 -0.132)\">\n       <use xlink:href=\"#DejaVuSans-62\"/>\n       <use x=\"63.476562\" xlink:href=\"#DejaVuSans-6d\"/>\n       <use x=\"160.888672\" xlink:href=\"#DejaVuSans-69\"/>\n      </g>\n     </g>\n    </g>\n    <g id=\"ytick_6\">\n     <g id=\"line2d_13\">\n      <g>\n       <use style=\"stroke:#000000;\" x=\"135.118812\" xlink:href=\"#m56015839db\" y=\"311.194969\"/>\n      </g>\n     </g>\n     <g id=\"text_13\">\n      <!-- height -->\n      <g transform=\"translate(84.743812 316.209937)scale(0.132 -0.132)\">\n       <use xlink:href=\"#DejaVuSans-68\"/>\n       <use x=\"63.378906\" xlink:href=\"#DejaVuSans-65\"/>\n       <use x=\"124.902344\" xlink:href=\"#DejaVuSans-69\"/>\n       <use x=\"152.685547\" xlink:href=\"#DejaVuSans-67\"/>\n       <use x=\"216.162109\" xlink:href=\"#DejaVuSans-68\"/>\n       <use x=\"279.541016\" xlink:href=\"#DejaVuSans-74\"/>\n      </g>\n     </g>\n    </g>\n    <g id=\"ytick_7\">\n     <g id=\"line2d_14\">\n      <g>\n       <use style=\"stroke:#000000;\" x=\"135.118812\" xlink:href=\"#m56015839db\" y=\"365.554969\"/>\n      </g>\n     </g>\n     <g id=\"text_14\">\n      <!-- stroke -->\n      <g transform=\"translate(86.274187 370.569937)scale(0.132 -0.132)\">\n       <use xlink:href=\"#DejaVuSans-73\"/>\n       <use x=\"52.099609\" xlink:href=\"#DejaVuSans-74\"/>\n       <use x=\"91.308594\" xlink:href=\"#DejaVuSans-72\"/>\n       <use x=\"130.171875\" xlink:href=\"#DejaVuSans-6f\"/>\n       <use x=\"191.353516\" xlink:href=\"#DejaVuSans-6b\"/>\n       <use x=\"245.638672\" xlink:href=\"#DejaVuSans-65\"/>\n      </g>\n     </g>\n    </g>\n   </g>\n  </g>\n  <g id=\"axes_2\">\n   <g id=\"patch_3\">\n    <path d=\"M 704.278813 392.734969 \nL 723.304813 392.734969 \nL 723.304813 12.214969 \nL 704.278813 12.214969 \nz\n\" style=\"fill:#ffffff;\"/>\n   </g>\n   <g id=\"patch_4\">\n    <path clip-path=\"url(#p44aba5381f)\" d=\"M 704.278813 392.734969 \nL 704.278813 391.248562 \nL 704.278813 13.701375 \nL 704.278813 12.214969 \nL 723.304813 12.214969 \nL 723.304813 13.701375 \nL 723.304813 391.248562 \nL 723.304813 392.734969 \nL 723.304813 392.734969 \nz\n\" style=\"fill:#ffffff;stroke:#ffffff;stroke-linejoin:miter;stroke-width:0.01;\"/>\n   </g>\n   <image height=\"381\" id=\"image4e812400de\" transform=\"scale(1 -1)translate(0 -381)\" width=\"19\" x=\"704\" xlink:href=\"data:image/png;base64,\niVBORw0KGgoAAAANSUhEUgAAABMAAAF9CAYAAADm2VNSAAAB+UlEQVR4nO2dgY3CQBAD7y4pjRLovxSgho1GYiR7C7CY2Otc8ojfr/3+LmgOJbTWWvfanN69z8bEijkfFnOJMblPdu9DXjPwk8HXLAWTjAa4TmJMsZvkopMbYMZMcTMDsxU0HbWbWswMN79sBWFaDe2DYTHJaNC7SYp5MevmXEyLyTYtp6UObUo0QDEvJhnalD4TY7JucmLmPhNjkmLaVxFw03Jiasy6ORw1Zt0cDozJnmk5MbWbDe1wijmfYj4QM2NK37jEPAdoMWM2ABQr5njEuxlSQdi3TJca0xvakN0MwWwF/VesoZ1PCmZ3czzoJ2to59PQPhCLiQZ3eE+JhtfNmNCiYtwGeN0U34S1tS1u2pjd5MTq5nzoG4q1adHQgn8Qa2gfDFxBKyS0xRyOGpMTE1eQ103SABRTXNsoJkipxszYgCPGrJtTsRA3j/bkWDfnYsUcD4tJrpO4aUkDzG6GYJKhFWOGuJlxPIDd/GBiZsy6ORa7vIvO1nbEBlziDQBD6707ket0nxUS2gxMbwWRTSvGRO+bGU0bg+kNbUTTkq0hfg6AMb1uRoQ2pIJCzrTobnrd1B72zGcN0E3xAZk0wPyMjrrpDW3GiyU4tJiWGhOT4m/CpBj4PTv6hgKKXdrfjDugAWo3SUyxm5wees3oCkIxpf/E5weUi438bTlEugAAAABJRU5ErkJggg==\" y=\"-11\"/>\n   <g id=\"matplotlib.axis_3\"/>\n   <g id=\"matplotlib.axis_4\">\n    <g id=\"ytick_8\">\n     <g id=\"line2d_15\">\n      <defs>\n       <path d=\"M 0 0 \nL 4.8 0 \n\" id=\"m03864b3619\" style=\"stroke:#000000;\"/>\n      </defs>\n      <g>\n       <use style=\"stroke:#000000;\" x=\"723.304813\" xlink:href=\"#m03864b3619\" y=\"350.46755\"/>\n      </g>\n     </g>\n     <g id=\"text_15\">\n      <!-- −0.75 -->\n      <g transform=\"translate(731.604813 355.482519)scale(0.132 -0.132)\">\n       <defs>\n        <path d=\"M 678 2272 \nL 4684 2272 \nL 4684 1741 \nL 678 1741 \nL 678 2272 \nz\n\" id=\"DejaVuSans-2212\" transform=\"scale(0.015625)\"/>\n        <path d=\"M 2034 4250 \nQ 1547 4250 1301 3770 \nQ 1056 3291 1056 2328 \nQ 1056 1369 1301 889 \nQ 1547 409 2034 409 \nQ 2525 409 2770 889 \nQ 3016 1369 3016 2328 \nQ 3016 3291 2770 3770 \nQ 2525 4250 2034 4250 \nz\nM 2034 4750 \nQ 2819 4750 3233 4129 \nQ 3647 3509 3647 2328 \nQ 3647 1150 3233 529 \nQ 2819 -91 2034 -91 \nQ 1250 -91 836 529 \nQ 422 1150 422 2328 \nQ 422 3509 836 4129 \nQ 1250 4750 2034 4750 \nz\n\" id=\"DejaVuSans-30\" transform=\"scale(0.015625)\"/>\n        <path d=\"M 684 794 \nL 1344 794 \nL 1344 0 \nL 684 0 \nL 684 794 \nz\n\" id=\"DejaVuSans-2e\" transform=\"scale(0.015625)\"/>\n        <path d=\"M 525 4666 \nL 3525 4666 \nL 3525 4397 \nL 1831 0 \nL 1172 0 \nL 2766 4134 \nL 525 4134 \nL 525 4666 \nz\n\" id=\"DejaVuSans-37\" transform=\"scale(0.015625)\"/>\n        <path d=\"M 691 4666 \nL 3169 4666 \nL 3169 4134 \nL 1269 4134 \nL 1269 2991 \nQ 1406 3038 1543 3061 \nQ 1681 3084 1819 3084 \nQ 2600 3084 3056 2656 \nQ 3513 2228 3513 1497 \nQ 3513 744 3044 326 \nQ 2575 -91 1722 -91 \nQ 1428 -91 1123 -41 \nQ 819 9 494 109 \nL 494 744 \nQ 775 591 1075 516 \nQ 1375 441 1709 441 \nQ 2250 441 2565 725 \nQ 2881 1009 2881 1497 \nQ 2881 1984 2565 2268 \nQ 2250 2553 1709 2553 \nQ 1456 2553 1204 2497 \nQ 953 2441 691 2322 \nL 691 4666 \nz\n\" id=\"DejaVuSans-35\" transform=\"scale(0.015625)\"/>\n       </defs>\n       <use xlink:href=\"#DejaVuSans-2212\"/>\n       <use x=\"83.789062\" xlink:href=\"#DejaVuSans-30\"/>\n       <use x=\"147.412109\" xlink:href=\"#DejaVuSans-2e\"/>\n       <use x=\"179.199219\" xlink:href=\"#DejaVuSans-37\"/>\n       <use x=\"242.822266\" xlink:href=\"#DejaVuSans-35\"/>\n      </g>\n     </g>\n    </g>\n    <g id=\"ytick_9\">\n     <g id=\"line2d_16\">\n      <g>\n       <use style=\"stroke:#000000;\" x=\"723.304813\" xlink:href=\"#m03864b3619\" y=\"302.145753\"/>\n      </g>\n     </g>\n     <g id=\"text_16\">\n      <!-- −0.50 -->\n      <g transform=\"translate(731.604813 307.160722)scale(0.132 -0.132)\">\n       <use xlink:href=\"#DejaVuSans-2212\"/>\n       <use x=\"83.789062\" xlink:href=\"#DejaVuSans-30\"/>\n       <use x=\"147.412109\" xlink:href=\"#DejaVuSans-2e\"/>\n       <use x=\"179.199219\" xlink:href=\"#DejaVuSans-35\"/>\n       <use x=\"242.822266\" xlink:href=\"#DejaVuSans-30\"/>\n      </g>\n     </g>\n    </g>\n    <g id=\"ytick_10\">\n     <g id=\"line2d_17\">\n      <g>\n       <use style=\"stroke:#000000;\" x=\"723.304813\" xlink:href=\"#m03864b3619\" y=\"253.823955\"/>\n      </g>\n     </g>\n     <g id=\"text_17\">\n      <!-- −0.25 -->\n      <g transform=\"translate(731.604813 258.838924)scale(0.132 -0.132)\">\n       <defs>\n        <path d=\"M 1228 531 \nL 3431 531 \nL 3431 0 \nL 469 0 \nL 469 531 \nQ 828 903 1448 1529 \nQ 2069 2156 2228 2338 \nQ 2531 2678 2651 2914 \nQ 2772 3150 2772 3378 \nQ 2772 3750 2511 3984 \nQ 2250 4219 1831 4219 \nQ 1534 4219 1204 4116 \nQ 875 4013 500 3803 \nL 500 4441 \nQ 881 4594 1212 4672 \nQ 1544 4750 1819 4750 \nQ 2544 4750 2975 4387 \nQ 3406 4025 3406 3419 \nQ 3406 3131 3298 2873 \nQ 3191 2616 2906 2266 \nQ 2828 2175 2409 1742 \nQ 1991 1309 1228 531 \nz\n\" id=\"DejaVuSans-32\" transform=\"scale(0.015625)\"/>\n       </defs>\n       <use xlink:href=\"#DejaVuSans-2212\"/>\n       <use x=\"83.789062\" xlink:href=\"#DejaVuSans-30\"/>\n       <use x=\"147.412109\" xlink:href=\"#DejaVuSans-2e\"/>\n       <use x=\"179.199219\" xlink:href=\"#DejaVuSans-32\"/>\n       <use x=\"242.822266\" xlink:href=\"#DejaVuSans-35\"/>\n      </g>\n     </g>\n    </g>\n    <g id=\"ytick_11\">\n     <g id=\"line2d_18\">\n      <g>\n       <use style=\"stroke:#000000;\" x=\"723.304813\" xlink:href=\"#m03864b3619\" y=\"205.502158\"/>\n      </g>\n     </g>\n     <g id=\"text_18\">\n      <!-- 0.00 -->\n      <g transform=\"translate(731.604813 210.517127)scale(0.132 -0.132)\">\n       <use xlink:href=\"#DejaVuSans-30\"/>\n       <use x=\"63.623047\" xlink:href=\"#DejaVuSans-2e\"/>\n       <use x=\"95.410156\" xlink:href=\"#DejaVuSans-30\"/>\n       <use x=\"159.033203\" xlink:href=\"#DejaVuSans-30\"/>\n      </g>\n     </g>\n    </g>\n    <g id=\"ytick_12\">\n     <g id=\"line2d_19\">\n      <g>\n       <use style=\"stroke:#000000;\" x=\"723.304813\" xlink:href=\"#m03864b3619\" y=\"157.180361\"/>\n      </g>\n     </g>\n     <g id=\"text_19\">\n      <!-- 0.25 -->\n      <g transform=\"translate(731.604813 162.19533)scale(0.132 -0.132)\">\n       <use xlink:href=\"#DejaVuSans-30\"/>\n       <use x=\"63.623047\" xlink:href=\"#DejaVuSans-2e\"/>\n       <use x=\"95.410156\" xlink:href=\"#DejaVuSans-32\"/>\n       <use x=\"159.033203\" xlink:href=\"#DejaVuSans-35\"/>\n      </g>\n     </g>\n    </g>\n    <g id=\"ytick_13\">\n     <g id=\"line2d_20\">\n      <g>\n       <use style=\"stroke:#000000;\" x=\"723.304813\" xlink:href=\"#m03864b3619\" y=\"108.858563\"/>\n      </g>\n     </g>\n     <g id=\"text_20\">\n      <!-- 0.50 -->\n      <g transform=\"translate(731.604813 113.873532)scale(0.132 -0.132)\">\n       <use xlink:href=\"#DejaVuSans-30\"/>\n       <use x=\"63.623047\" xlink:href=\"#DejaVuSans-2e\"/>\n       <use x=\"95.410156\" xlink:href=\"#DejaVuSans-35\"/>\n       <use x=\"159.033203\" xlink:href=\"#DejaVuSans-30\"/>\n      </g>\n     </g>\n    </g>\n    <g id=\"ytick_14\">\n     <g id=\"line2d_21\">\n      <g>\n       <use style=\"stroke:#000000;\" x=\"723.304813\" xlink:href=\"#m03864b3619\" y=\"60.536766\"/>\n      </g>\n     </g>\n     <g id=\"text_21\">\n      <!-- 0.75 -->\n      <g transform=\"translate(731.604813 65.551735)scale(0.132 -0.132)\">\n       <use xlink:href=\"#DejaVuSans-30\"/>\n       <use x=\"63.623047\" xlink:href=\"#DejaVuSans-2e\"/>\n       <use x=\"95.410156\" xlink:href=\"#DejaVuSans-37\"/>\n       <use x=\"159.033203\" xlink:href=\"#DejaVuSans-35\"/>\n      </g>\n     </g>\n    </g>\n    <g id=\"ytick_15\">\n     <g id=\"line2d_22\">\n      <g>\n       <use style=\"stroke:#000000;\" x=\"723.304813\" xlink:href=\"#m03864b3619\" y=\"12.214969\"/>\n      </g>\n     </g>\n     <g id=\"text_22\">\n      <!-- 1.00 -->\n      <g transform=\"translate(731.604813 17.229937)scale(0.132 -0.132)\">\n       <defs>\n        <path d=\"M 794 531 \nL 1825 531 \nL 1825 4091 \nL 703 3866 \nL 703 4441 \nL 1819 4666 \nL 2450 4666 \nL 2450 531 \nL 3481 531 \nL 3481 0 \nL 794 0 \nL 794 531 \nz\n\" id=\"DejaVuSans-31\" transform=\"scale(0.015625)\"/>\n       </defs>\n       <use xlink:href=\"#DejaVuSans-31\"/>\n       <use x=\"63.623047\" xlink:href=\"#DejaVuSans-2e\"/>\n       <use x=\"95.410156\" xlink:href=\"#DejaVuSans-30\"/>\n       <use x=\"159.033203\" xlink:href=\"#DejaVuSans-30\"/>\n      </g>\n     </g>\n    </g>\n   </g>\n   <g id=\"LineCollection_1\"/>\n   <g id=\"patch_5\">\n    <path d=\"M 704.278813 392.734969 \nL 704.278813 391.248562 \nL 704.278813 13.701375 \nL 704.278813 12.214969 \nL 723.304813 12.214969 \nL 723.304813 13.701375 \nL 723.304813 391.248562 \nL 723.304813 392.734969 \nz\n\" style=\"fill:none;\"/>\n   </g>\n  </g>\n </g>\n <defs>\n  <clipPath id=\"pcbdfee9dae\">\n   <rect height=\"380.52\" width=\"535.68\" x=\"135.118812\" y=\"12.214969\"/>\n  </clipPath>\n  <clipPath id=\"p44aba5381f\">\n   <rect height=\"380.52\" width=\"19.026\" x=\"704.278813\" y=\"12.214969\"/>\n  </clipPath>\n </defs>\n</svg>\n",
      "image/png": "[encoded data removed]"
     },
     "metadata": {
      "needs_background": "light"
     }
    }
   ],
   "source": [
    "plt.figure(figsize=(12,7))\n",
    "sns.set_context(\"paper\", font_scale=1.5)\n",
    "sns.heatmap(df.corr(), cmap=\"viridis\")"
   ]
  },
  {
   "cell_type": "code",
   "execution_count": 13,
   "metadata": {},
   "outputs": [
    {
     "output_type": "execute_result",
     "data": {
      "text/plain": [
       "<AxesSubplot:xlabel='avg_glucose_level'>"
      ]
     },
     "metadata": {},
     "execution_count": 13
    },
    {
     "output_type": "display_data",
     "data": {
      "text/plain": "<Figure size 432x288 with 1 Axes>",
      "image/svg+xml": "<?xml version=\"1.0\" encoding=\"utf-8\" standalone=\"no\"?>\n<!DOCTYPE svg PUBLIC \"-//W3C//DTD SVG 1.1//EN\"\n  \"http://www.w3.org/Graphics/SVG/1.1/DTD/svg11.dtd\">\n<svg height=\"271.252125pt\" version=\"1.1\" viewBox=\"0 0 354 271.252125\" width=\"354pt\" xmlns=\"http://www.w3.org/2000/svg\" xmlns:xlink=\"http://www.w3.org/1999/xlink\">\n <metadata>\n  <rdf:RDF xmlns:cc=\"http://creativecommons.org/ns#\" xmlns:dc=\"http://purl.org/dc/elements/1.1/\" xmlns:rdf=\"http://www.w3.org/1999/02/22-rdf-syntax-ns#\">\n   <cc:Work>\n    <dc:type rdf:resource=\"http://purl.org/dc/dcmitype/StillImage\"/>\n    <dc:date>2021-05-19T16:07:58.857722</dc:date>\n    <dc:format>image/svg+xml</dc:format>\n    <dc:creator>\n     <cc:Agent>\n      <dc:title>Matplotlib v3.4.2, https://matplotlib.org/</dc:title>\n     </cc:Agent>\n    </dc:creator>\n   </cc:Work>\n  </rdf:RDF>\n </metadata>\n <defs>\n  <style type=\"text/css\">*{stroke-linecap:butt;stroke-linejoin:round;}</style>\n </defs>\n <g id=\"figure_1\">\n  <g id=\"patch_1\">\n   <path d=\"M 0 271.252125 \nL 354 271.252125 \nL 354 0 \nL 0 0 \nz\n\" style=\"fill:none;\"/>\n  </g>\n  <g id=\"axes_1\">\n   <g id=\"patch_2\">\n    <path d=\"M 12 224.64 \nL 346.8 224.64 \nL 346.8 7.2 \nL 12 7.2 \nz\n\" style=\"fill:#ffffff;\"/>\n   </g>\n   <g id=\"patch_3\">\n    <path clip-path=\"url(#p4216ce0c6b)\" d=\"M 59.123808 28.944 \nL 59.123808 202.896 \nL 111.521782 202.896 \nL 111.521782 28.944 \nL 59.123808 28.944 \nz\n\" style=\"fill:#df2020;stroke:#4c4c4c;stroke-linejoin:miter;stroke-width:1.2;\"/>\n   </g>\n   <g id=\"matplotlib.axis_1\">\n    <g id=\"xtick_1\">\n     <g id=\"line2d_1\">\n      <defs>\n       <path d=\"M 0 0 \nL 0 4.8 \n\" id=\"m13121a37b8\" style=\"stroke:#000000;\"/>\n      </defs>\n      <g>\n       <use style=\"stroke:#000000;\" x=\"19.742986\" xlink:href=\"#m13121a37b8\" y=\"224.64\"/>\n      </g>\n     </g>\n     <g id=\"text_1\">\n      <!-- 50 -->\n      <g transform=\"translate(11.344486 242.969937)scale(0.132 -0.132)\">\n       <defs>\n        <path d=\"M 691 4666 \nL 3169 4666 \nL 3169 4134 \nL 1269 4134 \nL 1269 2991 \nQ 1406 3038 1543 3061 \nQ 1681 3084 1819 3084 \nQ 2600 3084 3056 2656 \nQ 3513 2228 3513 1497 \nQ 3513 744 3044 326 \nQ 2575 -91 1722 -91 \nQ 1428 -91 1123 -41 \nQ 819 9 494 109 \nL 494 744 \nQ 775 591 1075 516 \nQ 1375 441 1709 441 \nQ 2250 441 2565 725 \nQ 2881 1009 2881 1497 \nQ 2881 1984 2565 2268 \nQ 2250 2553 1709 2553 \nQ 1456 2553 1204 2497 \nQ 953 2441 691 2322 \nL 691 4666 \nz\n\" id=\"DejaVuSans-35\" transform=\"scale(0.015625)\"/>\n        <path d=\"M 2034 4250 \nQ 1547 4250 1301 3770 \nQ 1056 3291 1056 2328 \nQ 1056 1369 1301 889 \nQ 1547 409 2034 409 \nQ 2525 409 2770 889 \nQ 3016 1369 3016 2328 \nQ 3016 3291 2770 3770 \nQ 2525 4250 2034 4250 \nz\nM 2034 4750 \nQ 2819 4750 3233 4129 \nQ 3647 3509 3647 2328 \nQ 3647 1150 3233 529 \nQ 2819 -91 2034 -91 \nQ 1250 -91 836 529 \nQ 422 1150 422 2328 \nQ 422 3509 836 4129 \nQ 1250 4750 2034 4750 \nz\n\" id=\"DejaVuSans-30\" transform=\"scale(0.015625)\"/>\n       </defs>\n       <use xlink:href=\"#DejaVuSans-35\"/>\n       <use x=\"63.623047\" xlink:href=\"#DejaVuSans-30\"/>\n      </g>\n     </g>\n    </g>\n    <g id=\"xtick_2\">\n     <g id=\"line2d_2\">\n      <g>\n       <use style=\"stroke:#000000;\" x=\"91.344481\" xlink:href=\"#m13121a37b8\" y=\"224.64\"/>\n      </g>\n     </g>\n     <g id=\"text_2\">\n      <!-- 100 -->\n      <g transform=\"translate(78.746731 242.969937)scale(0.132 -0.132)\">\n       <defs>\n        <path d=\"M 794 531 \nL 1825 531 \nL 1825 4091 \nL 703 3866 \nL 703 4441 \nL 1819 4666 \nL 2450 4666 \nL 2450 531 \nL 3481 531 \nL 3481 0 \nL 794 0 \nL 794 531 \nz\n\" id=\"DejaVuSans-31\" transform=\"scale(0.015625)\"/>\n       </defs>\n       <use xlink:href=\"#DejaVuSans-31\"/>\n       <use x=\"63.623047\" xlink:href=\"#DejaVuSans-30\"/>\n       <use x=\"127.246094\" xlink:href=\"#DejaVuSans-30\"/>\n      </g>\n     </g>\n    </g>\n    <g id=\"xtick_3\">\n     <g id=\"line2d_3\">\n      <g>\n       <use style=\"stroke:#000000;\" x=\"162.945976\" xlink:href=\"#m13121a37b8\" y=\"224.64\"/>\n      </g>\n     </g>\n     <g id=\"text_3\">\n      <!-- 150 -->\n      <g transform=\"translate(150.348226 242.969937)scale(0.132 -0.132)\">\n       <use xlink:href=\"#DejaVuSans-31\"/>\n       <use x=\"63.623047\" xlink:href=\"#DejaVuSans-35\"/>\n       <use x=\"127.246094\" xlink:href=\"#DejaVuSans-30\"/>\n      </g>\n     </g>\n    </g>\n    <g id=\"xtick_4\">\n     <g id=\"line2d_4\">\n      <g>\n       <use style=\"stroke:#000000;\" x=\"234.547472\" xlink:href=\"#m13121a37b8\" y=\"224.64\"/>\n      </g>\n     </g>\n     <g id=\"text_4\">\n      <!-- 200 -->\n      <g transform=\"translate(221.949722 242.969937)scale(0.132 -0.132)\">\n       <defs>\n        <path d=\"M 1228 531 \nL 3431 531 \nL 3431 0 \nL 469 0 \nL 469 531 \nQ 828 903 1448 1529 \nQ 2069 2156 2228 2338 \nQ 2531 2678 2651 2914 \nQ 2772 3150 2772 3378 \nQ 2772 3750 2511 3984 \nQ 2250 4219 1831 4219 \nQ 1534 4219 1204 4116 \nQ 875 4013 500 3803 \nL 500 4441 \nQ 881 4594 1212 4672 \nQ 1544 4750 1819 4750 \nQ 2544 4750 2975 4387 \nQ 3406 4025 3406 3419 \nQ 3406 3131 3298 2873 \nQ 3191 2616 2906 2266 \nQ 2828 2175 2409 1742 \nQ 1991 1309 1228 531 \nz\n\" id=\"DejaVuSans-32\" transform=\"scale(0.015625)\"/>\n       </defs>\n       <use xlink:href=\"#DejaVuSans-32\"/>\n       <use x=\"63.623047\" xlink:href=\"#DejaVuSans-30\"/>\n       <use x=\"127.246094\" xlink:href=\"#DejaVuSans-30\"/>\n      </g>\n     </g>\n    </g>\n    <g id=\"xtick_5\">\n     <g id=\"line2d_5\">\n      <g>\n       <use style=\"stroke:#000000;\" x=\"306.148967\" xlink:href=\"#m13121a37b8\" y=\"224.64\"/>\n      </g>\n     </g>\n     <g id=\"text_5\">\n      <!-- 250 -->\n      <g transform=\"translate(293.551217 242.969937)scale(0.132 -0.132)\">\n       <use xlink:href=\"#DejaVuSans-32\"/>\n       <use x=\"63.623047\" xlink:href=\"#DejaVuSans-35\"/>\n       <use x=\"127.246094\" xlink:href=\"#DejaVuSans-30\"/>\n      </g>\n     </g>\n    </g>\n    <g id=\"text_6\">\n     <!-- avg_glucose_level -->\n     <g transform=\"translate(114.153375 260.656875)scale(0.144 -0.144)\">\n      <defs>\n       <path d=\"M 2194 1759 \nQ 1497 1759 1228 1600 \nQ 959 1441 959 1056 \nQ 959 750 1161 570 \nQ 1363 391 1709 391 \nQ 2188 391 2477 730 \nQ 2766 1069 2766 1631 \nL 2766 1759 \nL 2194 1759 \nz\nM 3341 1997 \nL 3341 0 \nL 2766 0 \nL 2766 531 \nQ 2569 213 2275 61 \nQ 1981 -91 1556 -91 \nQ 1019 -91 701 211 \nQ 384 513 384 1019 \nQ 384 1609 779 1909 \nQ 1175 2209 1959 2209 \nL 2766 2209 \nL 2766 2266 \nQ 2766 2663 2505 2880 \nQ 2244 3097 1772 3097 \nQ 1472 3097 1187 3025 \nQ 903 2953 641 2809 \nL 641 3341 \nQ 956 3463 1253 3523 \nQ 1550 3584 1831 3584 \nQ 2591 3584 2966 3190 \nQ 3341 2797 3341 1997 \nz\n\" id=\"DejaVuSans-61\" transform=\"scale(0.015625)\"/>\n       <path d=\"M 191 3500 \nL 800 3500 \nL 1894 563 \nL 2988 3500 \nL 3597 3500 \nL 2284 0 \nL 1503 0 \nL 191 3500 \nz\n\" id=\"DejaVuSans-76\" transform=\"scale(0.015625)\"/>\n       <path d=\"M 2906 1791 \nQ 2906 2416 2648 2759 \nQ 2391 3103 1925 3103 \nQ 1463 3103 1205 2759 \nQ 947 2416 947 1791 \nQ 947 1169 1205 825 \nQ 1463 481 1925 481 \nQ 2391 481 2648 825 \nQ 2906 1169 2906 1791 \nz\nM 3481 434 \nQ 3481 -459 3084 -895 \nQ 2688 -1331 1869 -1331 \nQ 1566 -1331 1297 -1286 \nQ 1028 -1241 775 -1147 \nL 775 -588 \nQ 1028 -725 1275 -790 \nQ 1522 -856 1778 -856 \nQ 2344 -856 2625 -561 \nQ 2906 -266 2906 331 \nL 2906 616 \nQ 2728 306 2450 153 \nQ 2172 0 1784 0 \nQ 1141 0 747 490 \nQ 353 981 353 1791 \nQ 353 2603 747 3093 \nQ 1141 3584 1784 3584 \nQ 2172 3584 2450 3431 \nQ 2728 3278 2906 2969 \nL 2906 3500 \nL 3481 3500 \nL 3481 434 \nz\n\" id=\"DejaVuSans-67\" transform=\"scale(0.015625)\"/>\n       <path d=\"M 3263 -1063 \nL 3263 -1509 \nL -63 -1509 \nL -63 -1063 \nL 3263 -1063 \nz\n\" id=\"DejaVuSans-5f\" transform=\"scale(0.015625)\"/>\n       <path d=\"M 603 4863 \nL 1178 4863 \nL 1178 0 \nL 603 0 \nL 603 4863 \nz\n\" id=\"DejaVuSans-6c\" transform=\"scale(0.015625)\"/>\n       <path d=\"M 544 1381 \nL 544 3500 \nL 1119 3500 \nL 1119 1403 \nQ 1119 906 1312 657 \nQ 1506 409 1894 409 \nQ 2359 409 2629 706 \nQ 2900 1003 2900 1516 \nL 2900 3500 \nL 3475 3500 \nL 3475 0 \nL 2900 0 \nL 2900 538 \nQ 2691 219 2414 64 \nQ 2138 -91 1772 -91 \nQ 1169 -91 856 284 \nQ 544 659 544 1381 \nz\nM 1991 3584 \nL 1991 3584 \nz\n\" id=\"DejaVuSans-75\" transform=\"scale(0.015625)\"/>\n       <path d=\"M 3122 3366 \nL 3122 2828 \nQ 2878 2963 2633 3030 \nQ 2388 3097 2138 3097 \nQ 1578 3097 1268 2742 \nQ 959 2388 959 1747 \nQ 959 1106 1268 751 \nQ 1578 397 2138 397 \nQ 2388 397 2633 464 \nQ 2878 531 3122 666 \nL 3122 134 \nQ 2881 22 2623 -34 \nQ 2366 -91 2075 -91 \nQ 1284 -91 818 406 \nQ 353 903 353 1747 \nQ 353 2603 823 3093 \nQ 1294 3584 2113 3584 \nQ 2378 3584 2631 3529 \nQ 2884 3475 3122 3366 \nz\n\" id=\"DejaVuSans-63\" transform=\"scale(0.015625)\"/>\n       <path d=\"M 1959 3097 \nQ 1497 3097 1228 2736 \nQ 959 2375 959 1747 \nQ 959 1119 1226 758 \nQ 1494 397 1959 397 \nQ 2419 397 2687 759 \nQ 2956 1122 2956 1747 \nQ 2956 2369 2687 2733 \nQ 2419 3097 1959 3097 \nz\nM 1959 3584 \nQ 2709 3584 3137 3096 \nQ 3566 2609 3566 1747 \nQ 3566 888 3137 398 \nQ 2709 -91 1959 -91 \nQ 1206 -91 779 398 \nQ 353 888 353 1747 \nQ 353 2609 779 3096 \nQ 1206 3584 1959 3584 \nz\n\" id=\"DejaVuSans-6f\" transform=\"scale(0.015625)\"/>\n       <path d=\"M 2834 3397 \nL 2834 2853 \nQ 2591 2978 2328 3040 \nQ 2066 3103 1784 3103 \nQ 1356 3103 1142 2972 \nQ 928 2841 928 2578 \nQ 928 2378 1081 2264 \nQ 1234 2150 1697 2047 \nL 1894 2003 \nQ 2506 1872 2764 1633 \nQ 3022 1394 3022 966 \nQ 3022 478 2636 193 \nQ 2250 -91 1575 -91 \nQ 1294 -91 989 -36 \nQ 684 19 347 128 \nL 347 722 \nQ 666 556 975 473 \nQ 1284 391 1588 391 \nQ 1994 391 2212 530 \nQ 2431 669 2431 922 \nQ 2431 1156 2273 1281 \nQ 2116 1406 1581 1522 \nL 1381 1569 \nQ 847 1681 609 1914 \nQ 372 2147 372 2553 \nQ 372 3047 722 3315 \nQ 1072 3584 1716 3584 \nQ 2034 3584 2315 3537 \nQ 2597 3491 2834 3397 \nz\n\" id=\"DejaVuSans-73\" transform=\"scale(0.015625)\"/>\n       <path d=\"M 3597 1894 \nL 3597 1613 \nL 953 1613 \nQ 991 1019 1311 708 \nQ 1631 397 2203 397 \nQ 2534 397 2845 478 \nQ 3156 559 3463 722 \nL 3463 178 \nQ 3153 47 2828 -22 \nQ 2503 -91 2169 -91 \nQ 1331 -91 842 396 \nQ 353 884 353 1716 \nQ 353 2575 817 3079 \nQ 1281 3584 2069 3584 \nQ 2775 3584 3186 3129 \nQ 3597 2675 3597 1894 \nz\nM 3022 2063 \nQ 3016 2534 2758 2815 \nQ 2500 3097 2075 3097 \nQ 1594 3097 1305 2825 \nQ 1016 2553 972 2059 \nL 3022 2063 \nz\n\" id=\"DejaVuSans-65\" transform=\"scale(0.015625)\"/>\n      </defs>\n      <use xlink:href=\"#DejaVuSans-61\"/>\n      <use x=\"61.279297\" xlink:href=\"#DejaVuSans-76\"/>\n      <use x=\"120.458984\" xlink:href=\"#DejaVuSans-67\"/>\n      <use x=\"183.935547\" xlink:href=\"#DejaVuSans-5f\"/>\n      <use x=\"233.935547\" xlink:href=\"#DejaVuSans-67\"/>\n      <use x=\"297.412109\" xlink:href=\"#DejaVuSans-6c\"/>\n      <use x=\"325.195312\" xlink:href=\"#DejaVuSans-75\"/>\n      <use x=\"388.574219\" xlink:href=\"#DejaVuSans-63\"/>\n      <use x=\"443.554688\" xlink:href=\"#DejaVuSans-6f\"/>\n      <use x=\"504.736328\" xlink:href=\"#DejaVuSans-73\"/>\n      <use x=\"556.835938\" xlink:href=\"#DejaVuSans-65\"/>\n      <use x=\"618.359375\" xlink:href=\"#DejaVuSans-5f\"/>\n      <use x=\"668.359375\" xlink:href=\"#DejaVuSans-6c\"/>\n      <use x=\"696.142578\" xlink:href=\"#DejaVuSans-65\"/>\n      <use x=\"757.666016\" xlink:href=\"#DejaVuSans-76\"/>\n      <use x=\"816.845703\" xlink:href=\"#DejaVuSans-65\"/>\n      <use x=\"878.369141\" xlink:href=\"#DejaVuSans-6c\"/>\n     </g>\n    </g>\n   </g>\n   <g id=\"matplotlib.axis_2\">\n    <g id=\"ytick_1\">\n     <g id=\"line2d_6\">\n      <defs>\n       <path d=\"M 0 0 \nL -4.8 0 \n\" id=\"m87344dccec\" style=\"stroke:#000000;\"/>\n      </defs>\n      <g>\n       <use style=\"stroke:#000000;\" x=\"12\" xlink:href=\"#m87344dccec\" y=\"115.92\"/>\n      </g>\n     </g>\n    </g>\n   </g>\n   <g id=\"line2d_7\">\n    <path clip-path=\"url(#p4216ce0c6b)\" d=\"M 59.123808 115.92 \nL 27.218182 115.92 \n\" style=\"fill:none;stroke:#4c4c4c;stroke-linecap:square;stroke-width:1.2;\"/>\n   </g>\n   <g id=\"line2d_8\">\n    <path clip-path=\"url(#p4216ce0c6b)\" d=\"M 111.521782 115.92 \nL 188.937319 115.92 \n\" style=\"fill:none;stroke:#4c4c4c;stroke-linecap:square;stroke-width:1.2;\"/>\n   </g>\n   <g id=\"line2d_9\">\n    <path clip-path=\"url(#p4216ce0c6b)\" d=\"M 27.218182 72.432 \nL 27.218182 159.408 \n\" style=\"fill:none;stroke:#4c4c4c;stroke-linecap:square;stroke-width:1.2;\"/>\n   </g>\n   <g id=\"line2d_10\">\n    <path clip-path=\"url(#p4216ce0c6b)\" d=\"M 188.937319 72.432 \nL 188.937319 159.408 \n\" style=\"fill:none;stroke:#4c4c4c;stroke-linecap:square;stroke-width:1.2;\"/>\n   </g>\n   <g id=\"line2d_11\">\n    <defs>\n     <path d=\"M -0 3.535534 \nL 2.12132 0 \nL -0 -3.535534 \nL -2.12132 -0 \nz\n\" id=\"m0681977222\" style=\"stroke:#4c4c4c;stroke-linejoin:miter;\"/>\n    </defs>\n    <g clip-path=\"url(#p4216ce0c6b)\">\n     <use style=\"fill:#4c4c4c;stroke:#4c4c4c;stroke-linejoin:miter;\" x=\"301.179823\" xlink:href=\"#m0681977222\" y=\"115.92\"/>\n     <use style=\"fill:#4c4c4c;stroke:#4c4c4c;stroke-linejoin:miter;\" x=\"232.814716\" xlink:href=\"#m0681977222\" y=\"115.92\"/>\n     <use style=\"fill:#4c4c4c;stroke:#4c4c4c;stroke-linejoin:miter;\" x=\"196.083148\" xlink:href=\"#m0681977222\" y=\"115.92\"/>\n     <use style=\"fill:#4c4c4c;stroke:#4c4c4c;stroke-linejoin:miter;\" x=\"249.555145\" xlink:href=\"#m0681977222\" y=\"115.92\"/>\n     <use style=\"fill:#4c4c4c;stroke:#4c4c4c;stroke-linejoin:miter;\" x=\"258.476691\" xlink:href=\"#m0681977222\" y=\"115.92\"/>\n     <use style=\"fill:#4c4c4c;stroke:#4c4c4c;stroke-linejoin:miter;\" x=\"241.378254\" xlink:href=\"#m0681977222\" y=\"115.92\"/>\n     <use style=\"fill:#4c4c4c;stroke:#4c4c4c;stroke-linejoin:miter;\" x=\"191.658176\" xlink:href=\"#m0681977222\" y=\"115.92\"/>\n     <use style=\"fill:#4c4c4c;stroke:#4c4c4c;stroke-linejoin:miter;\" x=\"276.377065\" xlink:href=\"#m0681977222\" y=\"115.92\"/>\n     <use style=\"fill:#4c4c4c;stroke:#4c4c4c;stroke-linejoin:miter;\" x=\"197.486538\" xlink:href=\"#m0681977222\" y=\"115.92\"/>\n     <use style=\"fill:#4c4c4c;stroke:#4c4c4c;stroke-linejoin:miter;\" x=\"238.199148\" xlink:href=\"#m0681977222\" y=\"115.92\"/>\n     <use style=\"fill:#4c4c4c;stroke:#4c4c4c;stroke-linejoin:miter;\" x=\"190.770317\" xlink:href=\"#m0681977222\" y=\"115.92\"/>\n     <use style=\"fill:#4c4c4c;stroke:#4c4c4c;stroke-linejoin:miter;\" x=\"260.32401\" xlink:href=\"#m0681977222\" y=\"115.92\"/>\n     <use style=\"fill:#4c4c4c;stroke:#4c4c4c;stroke-linejoin:miter;\" x=\"272.78267\" xlink:href=\"#m0681977222\" y=\"115.92\"/>\n     <use style=\"fill:#4c4c4c;stroke:#4c4c4c;stroke-linejoin:miter;\" x=\"204.646687\" xlink:href=\"#m0681977222\" y=\"115.92\"/>\n     <use style=\"fill:#4c4c4c;stroke:#4c4c4c;stroke-linejoin:miter;\" x=\"253.693712\" xlink:href=\"#m0681977222\" y=\"115.92\"/>\n     <use style=\"fill:#4c4c4c;stroke:#4c4c4c;stroke-linejoin:miter;\" x=\"285.570697\" xlink:href=\"#m0681977222\" y=\"115.92\"/>\n     <use style=\"fill:#4c4c4c;stroke:#4c4c4c;stroke-linejoin:miter;\" x=\"218.351213\" xlink:href=\"#m0681977222\" y=\"115.92\"/>\n     <use style=\"fill:#4c4c4c;stroke:#4c4c4c;stroke-linejoin:miter;\" x=\"247.220936\" xlink:href=\"#m0681977222\" y=\"115.92\"/>\n     <use style=\"fill:#4c4c4c;stroke:#4c4c4c;stroke-linejoin:miter;\" x=\"278.482149\" xlink:href=\"#m0681977222\" y=\"115.92\"/>\n     <use style=\"fill:#4c4c4c;stroke:#4c4c4c;stroke-linejoin:miter;\" x=\"285.885744\" xlink:href=\"#m0681977222\" y=\"115.92\"/>\n     <use style=\"fill:#4c4c4c;stroke:#4c4c4c;stroke-linejoin:miter;\" x=\"258.834699\" xlink:href=\"#m0681977222\" y=\"115.92\"/>\n     <use style=\"fill:#4c4c4c;stroke:#4c4c4c;stroke-linejoin:miter;\" x=\"231.239483\" xlink:href=\"#m0681977222\" y=\"115.92\"/>\n     <use style=\"fill:#4c4c4c;stroke:#4c4c4c;stroke-linejoin:miter;\" x=\"226.714268\" xlink:href=\"#m0681977222\" y=\"115.92\"/>\n     <use style=\"fill:#4c4c4c;stroke:#4c4c4c;stroke-linejoin:miter;\" x=\"281.532373\" xlink:href=\"#m0681977222\" y=\"115.92\"/>\n     <use style=\"fill:#4c4c4c;stroke:#4c4c4c;stroke-linejoin:miter;\" x=\"283.623137\" xlink:href=\"#m0681977222\" y=\"115.92\"/>\n     <use style=\"fill:#4c4c4c;stroke:#4c4c4c;stroke-linejoin:miter;\" x=\"231.984138\" xlink:href=\"#m0681977222\" y=\"115.92\"/>\n     <use style=\"fill:#4c4c4c;stroke:#4c4c4c;stroke-linejoin:miter;\" x=\"262.758461\" xlink:href=\"#m0681977222\" y=\"115.92\"/>\n     <use style=\"fill:#4c4c4c;stroke:#4c4c4c;stroke-linejoin:miter;\" x=\"267.684644\" xlink:href=\"#m0681977222\" y=\"115.92\"/>\n     <use style=\"fill:#4c4c4c;stroke:#4c4c4c;stroke-linejoin:miter;\" x=\"284.067066\" xlink:href=\"#m0681977222\" y=\"115.92\"/>\n     <use style=\"fill:#4c4c4c;stroke:#4c4c4c;stroke-linejoin:miter;\" x=\"241.678981\" xlink:href=\"#m0681977222\" y=\"115.92\"/>\n     <use style=\"fill:#4c4c4c;stroke:#4c4c4c;stroke-linejoin:miter;\" x=\"308.998707\" xlink:href=\"#m0681977222\" y=\"115.92\"/>\n     <use style=\"fill:#4c4c4c;stroke:#4c4c4c;stroke-linejoin:miter;\" x=\"275.961777\" xlink:href=\"#m0681977222\" y=\"115.92\"/>\n     <use style=\"fill:#4c4c4c;stroke:#4c4c4c;stroke-linejoin:miter;\" x=\"245.216095\" xlink:href=\"#m0681977222\" y=\"115.92\"/>\n     <use style=\"fill:#4c4c4c;stroke:#4c4c4c;stroke-linejoin:miter;\" x=\"234.747956\" xlink:href=\"#m0681977222\" y=\"115.92\"/>\n     <use style=\"fill:#4c4c4c;stroke:#4c4c4c;stroke-linejoin:miter;\" x=\"207.238661\" xlink:href=\"#m0681977222\" y=\"115.92\"/>\n     <use style=\"fill:#4c4c4c;stroke:#4c4c4c;stroke-linejoin:miter;\" x=\"248.867771\" xlink:href=\"#m0681977222\" y=\"115.92\"/>\n     <use style=\"fill:#4c4c4c;stroke:#4c4c4c;stroke-linejoin:miter;\" x=\"200.722925\" xlink:href=\"#m0681977222\" y=\"115.92\"/>\n     <use style=\"fill:#4c4c4c;stroke:#4c4c4c;stroke-linejoin:miter;\" x=\"254.724773\" xlink:href=\"#m0681977222\" y=\"115.92\"/>\n     <use style=\"fill:#4c4c4c;stroke:#4c4c4c;stroke-linejoin:miter;\" x=\"279.928499\" xlink:href=\"#m0681977222\" y=\"115.92\"/>\n     <use style=\"fill:#4c4c4c;stroke:#4c4c4c;stroke-linejoin:miter;\" x=\"238.900843\" xlink:href=\"#m0681977222\" y=\"115.92\"/>\n     <use style=\"fill:#4c4c4c;stroke:#4c4c4c;stroke-linejoin:miter;\" x=\"238.356671\" xlink:href=\"#m0681977222\" y=\"115.92\"/>\n     <use style=\"fill:#4c4c4c;stroke:#4c4c4c;stroke-linejoin:miter;\" x=\"229.69289\" xlink:href=\"#m0681977222\" y=\"115.92\"/>\n     <use style=\"fill:#4c4c4c;stroke:#4c4c4c;stroke-linejoin:miter;\" x=\"258.748777\" xlink:href=\"#m0681977222\" y=\"115.92\"/>\n     <use style=\"fill:#4c4c4c;stroke:#4c4c4c;stroke-linejoin:miter;\" x=\"259.450472\" xlink:href=\"#m0681977222\" y=\"115.92\"/>\n     <use style=\"fill:#4c4c4c;stroke:#4c4c4c;stroke-linejoin:miter;\" x=\"240.991606\" xlink:href=\"#m0681977222\" y=\"115.92\"/>\n     <use style=\"fill:#4c4c4c;stroke:#4c4c4c;stroke-linejoin:miter;\" x=\"292.988612\" xlink:href=\"#m0681977222\" y=\"115.92\"/>\n     <use style=\"fill:#4c4c4c;stroke:#4c4c4c;stroke-linejoin:miter;\" x=\"287.833305\" xlink:href=\"#m0681977222\" y=\"115.92\"/>\n     <use style=\"fill:#4c4c4c;stroke:#4c4c4c;stroke-linejoin:miter;\" x=\"236.810079\" xlink:href=\"#m0681977222\" y=\"115.92\"/>\n     <use style=\"fill:#4c4c4c;stroke:#4c4c4c;stroke-linejoin:miter;\" x=\"246.075312\" xlink:href=\"#m0681977222\" y=\"115.92\"/>\n     <use style=\"fill:#4c4c4c;stroke:#4c4c4c;stroke-linejoin:miter;\" x=\"282.8212\" xlink:href=\"#m0681977222\" y=\"115.92\"/>\n     <use style=\"fill:#4c4c4c;stroke:#4c4c4c;stroke-linejoin:miter;\" x=\"291.141294\" xlink:href=\"#m0681977222\" y=\"115.92\"/>\n     <use style=\"fill:#4c4c4c;stroke:#4c4c4c;stroke-linejoin:miter;\" x=\"235.592854\" xlink:href=\"#m0681977222\" y=\"115.92\"/>\n     <use style=\"fill:#4c4c4c;stroke:#4c4c4c;stroke-linejoin:miter;\" x=\"285.312932\" xlink:href=\"#m0681977222\" y=\"115.92\"/>\n     <use style=\"fill:#4c4c4c;stroke:#4c4c4c;stroke-linejoin:miter;\" x=\"257.316747\" xlink:href=\"#m0681977222\" y=\"115.92\"/>\n     <use style=\"fill:#4c4c4c;stroke:#4c4c4c;stroke-linejoin:miter;\" x=\"281.646935\" xlink:href=\"#m0681977222\" y=\"115.92\"/>\n     <use style=\"fill:#4c4c4c;stroke:#4c4c4c;stroke-linejoin:miter;\" x=\"288.59228\" xlink:href=\"#m0681977222\" y=\"115.92\"/>\n     <use style=\"fill:#4c4c4c;stroke:#4c4c4c;stroke-linejoin:miter;\" x=\"255.197343\" xlink:href=\"#m0681977222\" y=\"115.92\"/>\n     <use style=\"fill:#4c4c4c;stroke:#4c4c4c;stroke-linejoin:miter;\" x=\"245.430899\" xlink:href=\"#m0681977222\" y=\"115.92\"/>\n     <use style=\"fill:#4c4c4c;stroke:#4c4c4c;stroke-linejoin:miter;\" x=\"258.777418\" xlink:href=\"#m0681977222\" y=\"115.92\"/>\n     <use style=\"fill:#4c4c4c;stroke:#4c4c4c;stroke-linejoin:miter;\" x=\"239.473655\" xlink:href=\"#m0681977222\" y=\"115.92\"/>\n     <use style=\"fill:#4c4c4c;stroke:#4c4c4c;stroke-linejoin:miter;\" x=\"263.861124\" xlink:href=\"#m0681977222\" y=\"115.92\"/>\n     <use style=\"fill:#4c4c4c;stroke:#4c4c4c;stroke-linejoin:miter;\" x=\"253.206821\" xlink:href=\"#m0681977222\" y=\"115.92\"/>\n     <use style=\"fill:#4c4c4c;stroke:#4c4c4c;stroke-linejoin:miter;\" x=\"260.023284\" xlink:href=\"#m0681977222\" y=\"115.92\"/>\n     <use style=\"fill:#4c4c4c;stroke:#4c4c4c;stroke-linejoin:miter;\" x=\"262.958945\" xlink:href=\"#m0681977222\" y=\"115.92\"/>\n     <use style=\"fill:#4c4c4c;stroke:#4c4c4c;stroke-linejoin:miter;\" x=\"243.497659\" xlink:href=\"#m0681977222\" y=\"115.92\"/>\n     <use style=\"fill:#4c4c4c;stroke:#4c4c4c;stroke-linejoin:miter;\" x=\"274.515426\" xlink:href=\"#m0681977222\" y=\"115.92\"/>\n     <use style=\"fill:#4c4c4c;stroke:#4c4c4c;stroke-linejoin:miter;\" x=\"231.024678\" xlink:href=\"#m0681977222\" y=\"115.92\"/>\n     <use style=\"fill:#4c4c4c;stroke:#4c4c4c;stroke-linejoin:miter;\" x=\"256.50049\" xlink:href=\"#m0681977222\" y=\"115.92\"/>\n     <use style=\"fill:#4c4c4c;stroke:#4c4c4c;stroke-linejoin:miter;\" x=\"246.089633\" xlink:href=\"#m0681977222\" y=\"115.92\"/>\n     <use style=\"fill:#4c4c4c;stroke:#4c4c4c;stroke-linejoin:miter;\" x=\"222.131772\" xlink:href=\"#m0681977222\" y=\"115.92\"/>\n     <use style=\"fill:#4c4c4c;stroke:#4c4c4c;stroke-linejoin:miter;\" x=\"275.63241\" xlink:href=\"#m0681977222\" y=\"115.92\"/>\n     <use style=\"fill:#4c4c4c;stroke:#4c4c4c;stroke-linejoin:miter;\" x=\"237.712258\" xlink:href=\"#m0681977222\" y=\"115.92\"/>\n     <use style=\"fill:#4c4c4c;stroke:#4c4c4c;stroke-linejoin:miter;\" x=\"214.083764\" xlink:href=\"#m0681977222\" y=\"115.92\"/>\n     <use style=\"fill:#4c4c4c;stroke:#4c4c4c;stroke-linejoin:miter;\" x=\"192.947003\" xlink:href=\"#m0681977222\" y=\"115.92\"/>\n     <use style=\"fill:#4c4c4c;stroke:#4c4c4c;stroke-linejoin:miter;\" x=\"235.249166\" xlink:href=\"#m0681977222\" y=\"115.92\"/>\n     <use style=\"fill:#4c4c4c;stroke:#4c4c4c;stroke-linejoin:miter;\" x=\"233.659613\" xlink:href=\"#m0681977222\" y=\"115.92\"/>\n     <use style=\"fill:#4c4c4c;stroke:#4c4c4c;stroke-linejoin:miter;\" x=\"257.058982\" xlink:href=\"#m0681977222\" y=\"115.92\"/>\n     <use style=\"fill:#4c4c4c;stroke:#4c4c4c;stroke-linejoin:miter;\" x=\"227.430283\" xlink:href=\"#m0681977222\" y=\"115.92\"/>\n     <use style=\"fill:#4c4c4c;stroke:#4c4c4c;stroke-linejoin:miter;\" x=\"213.310468\" xlink:href=\"#m0681977222\" y=\"115.92\"/>\n     <use style=\"fill:#4c4c4c;stroke:#4c4c4c;stroke-linejoin:miter;\" x=\"241.721942\" xlink:href=\"#m0681977222\" y=\"115.92\"/>\n     <use style=\"fill:#4c4c4c;stroke:#4c4c4c;stroke-linejoin:miter;\" x=\"260.982744\" xlink:href=\"#m0681977222\" y=\"115.92\"/>\n     <use style=\"fill:#4c4c4c;stroke:#4c4c4c;stroke-linejoin:miter;\" x=\"260.467213\" xlink:href=\"#m0681977222\" y=\"115.92\"/>\n     <use style=\"fill:#4c4c4c;stroke:#4c4c4c;stroke-linejoin:miter;\" x=\"274.18606\" xlink:href=\"#m0681977222\" y=\"115.92\"/>\n     <use style=\"fill:#4c4c4c;stroke:#4c4c4c;stroke-linejoin:miter;\" x=\"284.410753\" xlink:href=\"#m0681977222\" y=\"115.92\"/>\n     <use style=\"fill:#4c4c4c;stroke:#4c4c4c;stroke-linejoin:miter;\" x=\"255.240304\" xlink:href=\"#m0681977222\" y=\"115.92\"/>\n     <use style=\"fill:#4c4c4c;stroke:#4c4c4c;stroke-linejoin:miter;\" x=\"272.825631\" xlink:href=\"#m0681977222\" y=\"115.92\"/>\n     <use style=\"fill:#4c4c4c;stroke:#4c4c4c;stroke-linejoin:miter;\" x=\"222.833467\" xlink:href=\"#m0681977222\" y=\"115.92\"/>\n     <use style=\"fill:#4c4c4c;stroke:#4c4c4c;stroke-linejoin:miter;\" x=\"215.143466\" xlink:href=\"#m0681977222\" y=\"115.92\"/>\n     <use style=\"fill:#4c4c4c;stroke:#4c4c4c;stroke-linejoin:miter;\" x=\"274.558387\" xlink:href=\"#m0681977222\" y=\"115.92\"/>\n     <use style=\"fill:#4c4c4c;stroke:#4c4c4c;stroke-linejoin:miter;\" x=\"234.94844\" xlink:href=\"#m0681977222\" y=\"115.92\"/>\n     <use style=\"fill:#4c4c4c;stroke:#4c4c4c;stroke-linejoin:miter;\" x=\"253.937157\" xlink:href=\"#m0681977222\" y=\"115.92\"/>\n     <use style=\"fill:#4c4c4c;stroke:#4c4c4c;stroke-linejoin:miter;\" x=\"214.742498\" xlink:href=\"#m0681977222\" y=\"115.92\"/>\n     <use style=\"fill:#4c4c4c;stroke:#4c4c4c;stroke-linejoin:miter;\" x=\"271.021273\" xlink:href=\"#m0681977222\" y=\"115.92\"/>\n     <use style=\"fill:#4c4c4c;stroke:#4c4c4c;stroke-linejoin:miter;\" x=\"325.567293\" xlink:href=\"#m0681977222\" y=\"115.92\"/>\n     <use style=\"fill:#4c4c4c;stroke:#4c4c4c;stroke-linejoin:miter;\" x=\"221.501679\" xlink:href=\"#m0681977222\" y=\"115.92\"/>\n     <use style=\"fill:#4c4c4c;stroke:#4c4c4c;stroke-linejoin:miter;\" x=\"255.698553\" xlink:href=\"#m0681977222\" y=\"115.92\"/>\n     <use style=\"fill:#4c4c4c;stroke:#4c4c4c;stroke-linejoin:miter;\" x=\"245.45954\" xlink:href=\"#m0681977222\" y=\"115.92\"/>\n     <use style=\"fill:#4c4c4c;stroke:#4c4c4c;stroke-linejoin:miter;\" x=\"319.939415\" xlink:href=\"#m0681977222\" y=\"115.92\"/>\n     <use style=\"fill:#4c4c4c;stroke:#4c4c4c;stroke-linejoin:miter;\" x=\"226.012573\" xlink:href=\"#m0681977222\" y=\"115.92\"/>\n     <use style=\"fill:#4c4c4c;stroke:#4c4c4c;stroke-linejoin:miter;\" x=\"282.219747\" xlink:href=\"#m0681977222\" y=\"115.92\"/>\n     <use style=\"fill:#4c4c4c;stroke:#4c4c4c;stroke-linejoin:miter;\" x=\"232.141661\" xlink:href=\"#m0681977222\" y=\"115.92\"/>\n     <use style=\"fill:#4c4c4c;stroke:#4c4c4c;stroke-linejoin:miter;\" x=\"214.957303\" xlink:href=\"#m0681977222\" y=\"115.92\"/>\n     <use style=\"fill:#4c4c4c;stroke:#4c4c4c;stroke-linejoin:miter;\" x=\"263.059187\" xlink:href=\"#m0681977222\" y=\"115.92\"/>\n     <use style=\"fill:#4c4c4c;stroke:#4c4c4c;stroke-linejoin:miter;\" x=\"227.616447\" xlink:href=\"#m0681977222\" y=\"115.92\"/>\n     <use style=\"fill:#4c4c4c;stroke:#4c4c4c;stroke-linejoin:miter;\" x=\"223.320357\" xlink:href=\"#m0681977222\" y=\"115.92\"/>\n     <use style=\"fill:#4c4c4c;stroke:#4c4c4c;stroke-linejoin:miter;\" x=\"217.191269\" xlink:href=\"#m0681977222\" y=\"115.92\"/>\n     <use style=\"fill:#4c4c4c;stroke:#4c4c4c;stroke-linejoin:miter;\" x=\"280.544272\" xlink:href=\"#m0681977222\" y=\"115.92\"/>\n     <use style=\"fill:#4c4c4c;stroke:#4c4c4c;stroke-linejoin:miter;\" x=\"290.668724\" xlink:href=\"#m0681977222\" y=\"115.92\"/>\n     <use style=\"fill:#4c4c4c;stroke:#4c4c4c;stroke-linejoin:miter;\" x=\"254.309484\" xlink:href=\"#m0681977222\" y=\"115.92\"/>\n     <use style=\"fill:#4c4c4c;stroke:#4c4c4c;stroke-linejoin:miter;\" x=\"249.197138\" xlink:href=\"#m0681977222\" y=\"115.92\"/>\n     <use style=\"fill:#4c4c4c;stroke:#4c4c4c;stroke-linejoin:miter;\" x=\"264.706022\" xlink:href=\"#m0681977222\" y=\"115.92\"/>\n     <use style=\"fill:#4c4c4c;stroke:#4c4c4c;stroke-linejoin:miter;\" x=\"210.202963\" xlink:href=\"#m0681977222\" y=\"115.92\"/>\n     <use style=\"fill:#4c4c4c;stroke:#4c4c4c;stroke-linejoin:miter;\" x=\"197.930467\" xlink:href=\"#m0681977222\" y=\"115.92\"/>\n     <use style=\"fill:#4c4c4c;stroke:#4c4c4c;stroke-linejoin:miter;\" x=\"246.290117\" xlink:href=\"#m0681977222\" y=\"115.92\"/>\n     <use style=\"fill:#4c4c4c;stroke:#4c4c4c;stroke-linejoin:miter;\" x=\"248.724568\" xlink:href=\"#m0681977222\" y=\"115.92\"/>\n     <use style=\"fill:#4c4c4c;stroke:#4c4c4c;stroke-linejoin:miter;\" x=\"267.99969\" xlink:href=\"#m0681977222\" y=\"115.92\"/>\n     <use style=\"fill:#4c4c4c;stroke:#4c4c4c;stroke-linejoin:miter;\" x=\"232.671513\" xlink:href=\"#m0681977222\" y=\"115.92\"/>\n     <use style=\"fill:#4c4c4c;stroke:#4c4c4c;stroke-linejoin:miter;\" x=\"225.711847\" xlink:href=\"#m0681977222\" y=\"115.92\"/>\n     <use style=\"fill:#4c4c4c;stroke:#4c4c4c;stroke-linejoin:miter;\" x=\"230.380265\" xlink:href=\"#m0681977222\" y=\"115.92\"/>\n     <use style=\"fill:#4c4c4c;stroke:#4c4c4c;stroke-linejoin:miter;\" x=\"220.055329\" xlink:href=\"#m0681977222\" y=\"115.92\"/>\n     <use style=\"fill:#4c4c4c;stroke:#4c4c4c;stroke-linejoin:miter;\" x=\"229.17736\" xlink:href=\"#m0681977222\" y=\"115.92\"/>\n     <use style=\"fill:#4c4c4c;stroke:#4c4c4c;stroke-linejoin:miter;\" x=\"219.439556\" xlink:href=\"#m0681977222\" y=\"115.92\"/>\n     <use style=\"fill:#4c4c4c;stroke:#4c4c4c;stroke-linejoin:miter;\" x=\"248.867771\" xlink:href=\"#m0681977222\" y=\"115.92\"/>\n     <use style=\"fill:#4c4c4c;stroke:#4c4c4c;stroke-linejoin:miter;\" x=\"237.955703\" xlink:href=\"#m0681977222\" y=\"115.92\"/>\n     <use style=\"fill:#4c4c4c;stroke:#4c4c4c;stroke-linejoin:miter;\" x=\"287.776023\" xlink:href=\"#m0681977222\" y=\"115.92\"/>\n     <use style=\"fill:#4c4c4c;stroke:#4c4c4c;stroke-linejoin:miter;\" x=\"226.843151\" xlink:href=\"#m0681977222\" y=\"115.92\"/>\n     <use style=\"fill:#4c4c4c;stroke:#4c4c4c;stroke-linejoin:miter;\" x=\"276.906916\" xlink:href=\"#m0681977222\" y=\"115.92\"/>\n     <use style=\"fill:#4c4c4c;stroke:#4c4c4c;stroke-linejoin:miter;\" x=\"253.1209\" xlink:href=\"#m0681977222\" y=\"115.92\"/>\n     <use style=\"fill:#4c4c4c;stroke:#4c4c4c;stroke-linejoin:miter;\" x=\"265.450677\" xlink:href=\"#m0681977222\" y=\"115.92\"/>\n     <use style=\"fill:#4c4c4c;stroke:#4c4c4c;stroke-linejoin:miter;\" x=\"219.6114\" xlink:href=\"#m0681977222\" y=\"115.92\"/>\n     <use style=\"fill:#4c4c4c;stroke:#4c4c4c;stroke-linejoin:miter;\" x=\"273.355482\" xlink:href=\"#m0681977222\" y=\"115.92\"/>\n     <use style=\"fill:#4c4c4c;stroke:#4c4c4c;stroke-linejoin:miter;\" x=\"243.984549\" xlink:href=\"#m0681977222\" y=\"115.92\"/>\n     <use style=\"fill:#4c4c4c;stroke:#4c4c4c;stroke-linejoin:miter;\" x=\"287.747383\" xlink:href=\"#m0681977222\" y=\"115.92\"/>\n     <use style=\"fill:#4c4c4c;stroke:#4c4c4c;stroke-linejoin:miter;\" x=\"241.091848\" xlink:href=\"#m0681977222\" y=\"115.92\"/>\n     <use style=\"fill:#4c4c4c;stroke:#4c4c4c;stroke-linejoin:miter;\" x=\"250.471644\" xlink:href=\"#m0681977222\" y=\"115.92\"/>\n     <use style=\"fill:#4c4c4c;stroke:#4c4c4c;stroke-linejoin:miter;\" x=\"312.736305\" xlink:href=\"#m0681977222\" y=\"115.92\"/>\n     <use style=\"fill:#4c4c4c;stroke:#4c4c4c;stroke-linejoin:miter;\" x=\"224.838309\" xlink:href=\"#m0681977222\" y=\"115.92\"/>\n     <use style=\"fill:#4c4c4c;stroke:#4c4c4c;stroke-linejoin:miter;\" x=\"295.122337\" xlink:href=\"#m0681977222\" y=\"115.92\"/>\n     <use style=\"fill:#4c4c4c;stroke:#4c4c4c;stroke-linejoin:miter;\" x=\"260.094885\" xlink:href=\"#m0681977222\" y=\"115.92\"/>\n     <use style=\"fill:#4c4c4c;stroke:#4c4c4c;stroke-linejoin:miter;\" x=\"273.112037\" xlink:href=\"#m0681977222\" y=\"115.92\"/>\n     <use style=\"fill:#4c4c4c;stroke:#4c4c4c;stroke-linejoin:miter;\" x=\"259.966003\" xlink:href=\"#m0681977222\" y=\"115.92\"/>\n     <use style=\"fill:#4c4c4c;stroke:#4c4c4c;stroke-linejoin:miter;\" x=\"240.519036\" xlink:href=\"#m0681977222\" y=\"115.92\"/>\n     <use style=\"fill:#4c4c4c;stroke:#4c4c4c;stroke-linejoin:miter;\" x=\"296.955335\" xlink:href=\"#m0681977222\" y=\"115.92\"/>\n     <use style=\"fill:#4c4c4c;stroke:#4c4c4c;stroke-linejoin:miter;\" x=\"263.560398\" xlink:href=\"#m0681977222\" y=\"115.92\"/>\n     <use style=\"fill:#4c4c4c;stroke:#4c4c4c;stroke-linejoin:miter;\" x=\"253.708032\" xlink:href=\"#m0681977222\" y=\"115.92\"/>\n     <use style=\"fill:#4c4c4c;stroke:#4c4c4c;stroke-linejoin:miter;\" x=\"241.593059\" xlink:href=\"#m0681977222\" y=\"115.92\"/>\n     <use style=\"fill:#4c4c4c;stroke:#4c4c4c;stroke-linejoin:miter;\" x=\"307.294591\" xlink:href=\"#m0681977222\" y=\"115.92\"/>\n     <use style=\"fill:#4c4c4c;stroke:#4c4c4c;stroke-linejoin:miter;\" x=\"262.314532\" xlink:href=\"#m0681977222\" y=\"115.92\"/>\n     <use style=\"fill:#4c4c4c;stroke:#4c4c4c;stroke-linejoin:miter;\" x=\"221.229594\" xlink:href=\"#m0681977222\" y=\"115.92\"/>\n     <use style=\"fill:#4c4c4c;stroke:#4c4c4c;stroke-linejoin:miter;\" x=\"277.393807\" xlink:href=\"#m0681977222\" y=\"115.92\"/>\n     <use style=\"fill:#4c4c4c;stroke:#4c4c4c;stroke-linejoin:miter;\" x=\"244.084791\" xlink:href=\"#m0681977222\" y=\"115.92\"/>\n     <use style=\"fill:#4c4c4c;stroke:#4c4c4c;stroke-linejoin:miter;\" x=\"253.321384\" xlink:href=\"#m0681977222\" y=\"115.92\"/>\n     <use style=\"fill:#4c4c4c;stroke:#4c4c4c;stroke-linejoin:miter;\" x=\"321.686492\" xlink:href=\"#m0681977222\" y=\"115.92\"/>\n     <use style=\"fill:#4c4c4c;stroke:#4c4c4c;stroke-linejoin:miter;\" x=\"274.715911\" xlink:href=\"#m0681977222\" y=\"115.92\"/>\n     <use style=\"fill:#4c4c4c;stroke:#4c4c4c;stroke-linejoin:miter;\" x=\"211.448829\" xlink:href=\"#m0681977222\" y=\"115.92\"/>\n     <use style=\"fill:#4c4c4c;stroke:#4c4c4c;stroke-linejoin:miter;\" x=\"207.66827\" xlink:href=\"#m0681977222\" y=\"115.92\"/>\n     <use style=\"fill:#4c4c4c;stroke:#4c4c4c;stroke-linejoin:miter;\" x=\"206.809052\" xlink:href=\"#m0681977222\" y=\"115.92\"/>\n     <use style=\"fill:#4c4c4c;stroke:#4c4c4c;stroke-linejoin:miter;\" x=\"233.716894\" xlink:href=\"#m0681977222\" y=\"115.92\"/>\n     <use style=\"fill:#4c4c4c;stroke:#4c4c4c;stroke-linejoin:miter;\" x=\"238.814921\" xlink:href=\"#m0681977222\" y=\"115.92\"/>\n     <use style=\"fill:#4c4c4c;stroke:#4c4c4c;stroke-linejoin:miter;\" x=\"240.003506\" xlink:href=\"#m0681977222\" y=\"115.92\"/>\n     <use style=\"fill:#4c4c4c;stroke:#4c4c4c;stroke-linejoin:miter;\" x=\"227.444603\" xlink:href=\"#m0681977222\" y=\"115.92\"/>\n     <use style=\"fill:#4c4c4c;stroke:#4c4c4c;stroke-linejoin:miter;\" x=\"331.581818\" xlink:href=\"#m0681977222\" y=\"115.92\"/>\n     <use style=\"fill:#4c4c4c;stroke:#4c4c4c;stroke-linejoin:miter;\" x=\"211.849798\" xlink:href=\"#m0681977222\" y=\"115.92\"/>\n     <use style=\"fill:#4c4c4c;stroke:#4c4c4c;stroke-linejoin:miter;\" x=\"230.394585\" xlink:href=\"#m0681977222\" y=\"115.92\"/>\n     <use style=\"fill:#4c4c4c;stroke:#4c4c4c;stroke-linejoin:miter;\" x=\"211.993001\" xlink:href=\"#m0681977222\" y=\"115.92\"/>\n     <use style=\"fill:#4c4c4c;stroke:#4c4c4c;stroke-linejoin:miter;\" x=\"262.300211\" xlink:href=\"#m0681977222\" y=\"115.92\"/>\n     <use style=\"fill:#4c4c4c;stroke:#4c4c4c;stroke-linejoin:miter;\" x=\"197.257413\" xlink:href=\"#m0681977222\" y=\"115.92\"/>\n     <use style=\"fill:#4c4c4c;stroke:#4c4c4c;stroke-linejoin:miter;\" x=\"290.797606\" xlink:href=\"#m0681977222\" y=\"115.92\"/>\n     <use style=\"fill:#4c4c4c;stroke:#4c4c4c;stroke-linejoin:miter;\" x=\"253.63643\" xlink:href=\"#m0681977222\" y=\"115.92\"/>\n     <use style=\"fill:#4c4c4c;stroke:#4c4c4c;stroke-linejoin:miter;\" x=\"269.818368\" xlink:href=\"#m0681977222\" y=\"115.92\"/>\n     <use style=\"fill:#4c4c4c;stroke:#4c4c4c;stroke-linejoin:miter;\" x=\"259.83712\" xlink:href=\"#m0681977222\" y=\"115.92\"/>\n     <use style=\"fill:#4c4c4c;stroke:#4c4c4c;stroke-linejoin:miter;\" x=\"267.269355\" xlink:href=\"#m0681977222\" y=\"115.92\"/>\n     <use style=\"fill:#4c4c4c;stroke:#4c4c4c;stroke-linejoin:miter;\" x=\"278.353267\" xlink:href=\"#m0681977222\" y=\"115.92\"/>\n     <use style=\"fill:#4c4c4c;stroke:#4c4c4c;stroke-linejoin:miter;\" x=\"258.89198\" xlink:href=\"#m0681977222\" y=\"115.92\"/>\n     <use style=\"fill:#4c4c4c;stroke:#4c4c4c;stroke-linejoin:miter;\" x=\"259.006543\" xlink:href=\"#m0681977222\" y=\"115.92\"/>\n     <use style=\"fill:#4c4c4c;stroke:#4c4c4c;stroke-linejoin:miter;\" x=\"266.352856\" xlink:href=\"#m0681977222\" y=\"115.92\"/>\n     <use style=\"fill:#4c4c4c;stroke:#4c4c4c;stroke-linejoin:miter;\" x=\"216.675738\" xlink:href=\"#m0681977222\" y=\"115.92\"/>\n     <use style=\"fill:#4c4c4c;stroke:#4c4c4c;stroke-linejoin:miter;\" x=\"256.944419\" xlink:href=\"#m0681977222\" y=\"115.92\"/>\n     <use style=\"fill:#4c4c4c;stroke:#4c4c4c;stroke-linejoin:miter;\" x=\"279.212484\" xlink:href=\"#m0681977222\" y=\"115.92\"/>\n     <use style=\"fill:#4c4c4c;stroke:#4c4c4c;stroke-linejoin:miter;\" x=\"229.836093\" xlink:href=\"#m0681977222\" y=\"115.92\"/>\n     <use style=\"fill:#4c4c4c;stroke:#4c4c4c;stroke-linejoin:miter;\" x=\"262.930304\" xlink:href=\"#m0681977222\" y=\"115.92\"/>\n     <use style=\"fill:#4c4c4c;stroke:#4c4c4c;stroke-linejoin:miter;\" x=\"331.367014\" xlink:href=\"#m0681977222\" y=\"115.92\"/>\n     <use style=\"fill:#4c4c4c;stroke:#4c4c4c;stroke-linejoin:miter;\" x=\"234.776596\" xlink:href=\"#m0681977222\" y=\"115.92\"/>\n     <use style=\"fill:#4c4c4c;stroke:#4c4c4c;stroke-linejoin:miter;\" x=\"235.521252\" xlink:href=\"#m0681977222\" y=\"115.92\"/>\n     <use style=\"fill:#4c4c4c;stroke:#4c4c4c;stroke-linejoin:miter;\" x=\"238.141867\" xlink:href=\"#m0681977222\" y=\"115.92\"/>\n     <use style=\"fill:#4c4c4c;stroke:#4c4c4c;stroke-linejoin:miter;\" x=\"216.246129\" xlink:href=\"#m0681977222\" y=\"115.92\"/>\n     <use style=\"fill:#4c4c4c;stroke:#4c4c4c;stroke-linejoin:miter;\" x=\"203.458102\" xlink:href=\"#m0681977222\" y=\"115.92\"/>\n     <use style=\"fill:#4c4c4c;stroke:#4c4c4c;stroke-linejoin:miter;\" x=\"286.301033\" xlink:href=\"#m0681977222\" y=\"115.92\"/>\n     <use style=\"fill:#4c4c4c;stroke:#4c4c4c;stroke-linejoin:miter;\" x=\"329.906343\" xlink:href=\"#m0681977222\" y=\"115.92\"/>\n     <use style=\"fill:#4c4c4c;stroke:#4c4c4c;stroke-linejoin:miter;\" x=\"232.113021\" xlink:href=\"#m0681977222\" y=\"115.92\"/>\n     <use style=\"fill:#4c4c4c;stroke:#4c4c4c;stroke-linejoin:miter;\" x=\"247.808069\" xlink:href=\"#m0681977222\" y=\"115.92\"/>\n     <use style=\"fill:#4c4c4c;stroke:#4c4c4c;stroke-linejoin:miter;\" x=\"206.995216\" xlink:href=\"#m0681977222\" y=\"115.92\"/>\n     <use style=\"fill:#4c4c4c;stroke:#4c4c4c;stroke-linejoin:miter;\" x=\"273.183639\" xlink:href=\"#m0681977222\" y=\"115.92\"/>\n     <use style=\"fill:#4c4c4c;stroke:#4c4c4c;stroke-linejoin:miter;\" x=\"241.707621\" xlink:href=\"#m0681977222\" y=\"115.92\"/>\n     <use style=\"fill:#4c4c4c;stroke:#4c4c4c;stroke-linejoin:miter;\" x=\"234.94844\" xlink:href=\"#m0681977222\" y=\"115.92\"/>\n     <use style=\"fill:#4c4c4c;stroke:#4c4c4c;stroke-linejoin:miter;\" x=\"258.720137\" xlink:href=\"#m0681977222\" y=\"115.92\"/>\n     <use style=\"fill:#4c4c4c;stroke:#4c4c4c;stroke-linejoin:miter;\" x=\"238.900843\" xlink:href=\"#m0681977222\" y=\"115.92\"/>\n     <use style=\"fill:#4c4c4c;stroke:#4c4c4c;stroke-linejoin:miter;\" x=\"228.833672\" xlink:href=\"#m0681977222\" y=\"115.92\"/>\n     <use style=\"fill:#4c4c4c;stroke:#4c4c4c;stroke-linejoin:miter;\" x=\"302.540252\" xlink:href=\"#m0681977222\" y=\"115.92\"/>\n     <use style=\"fill:#4c4c4c;stroke:#4c4c4c;stroke-linejoin:miter;\" x=\"242.910526\" xlink:href=\"#m0681977222\" y=\"115.92\"/>\n     <use style=\"fill:#4c4c4c;stroke:#4c4c4c;stroke-linejoin:miter;\" x=\"262.7155\" xlink:href=\"#m0681977222\" y=\"115.92\"/>\n     <use style=\"fill:#4c4c4c;stroke:#4c4c4c;stroke-linejoin:miter;\" x=\"244.54304\" xlink:href=\"#m0681977222\" y=\"115.92\"/>\n     <use style=\"fill:#4c4c4c;stroke:#4c4c4c;stroke-linejoin:miter;\" x=\"266.911348\" xlink:href=\"#m0681977222\" y=\"115.92\"/>\n     <use style=\"fill:#4c4c4c;stroke:#4c4c4c;stroke-linejoin:miter;\" x=\"237.483133\" xlink:href=\"#m0681977222\" y=\"115.92\"/>\n     <use style=\"fill:#4c4c4c;stroke:#4c4c4c;stroke-linejoin:miter;\" x=\"234.490191\" xlink:href=\"#m0681977222\" y=\"115.92\"/>\n     <use style=\"fill:#4c4c4c;stroke:#4c4c4c;stroke-linejoin:miter;\" x=\"199.806426\" xlink:href=\"#m0681977222\" y=\"115.92\"/>\n     <use style=\"fill:#4c4c4c;stroke:#4c4c4c;stroke-linejoin:miter;\" x=\"263.130789\" xlink:href=\"#m0681977222\" y=\"115.92\"/>\n     <use style=\"fill:#4c4c4c;stroke:#4c4c4c;stroke-linejoin:miter;\" x=\"265.235873\" xlink:href=\"#m0681977222\" y=\"115.92\"/>\n     <use style=\"fill:#4c4c4c;stroke:#4c4c4c;stroke-linejoin:miter;\" x=\"263.932725\" xlink:href=\"#m0681977222\" y=\"115.92\"/>\n     <use style=\"fill:#4c4c4c;stroke:#4c4c4c;stroke-linejoin:miter;\" x=\"242.423636\" xlink:href=\"#m0681977222\" y=\"115.92\"/>\n     <use style=\"fill:#4c4c4c;stroke:#4c4c4c;stroke-linejoin:miter;\" x=\"255.326226\" xlink:href=\"#m0681977222\" y=\"115.92\"/>\n     <use style=\"fill:#4c4c4c;stroke:#4c4c4c;stroke-linejoin:miter;\" x=\"245.702985\" xlink:href=\"#m0681977222\" y=\"115.92\"/>\n     <use style=\"fill:#4c4c4c;stroke:#4c4c4c;stroke-linejoin:miter;\" x=\"215.859481\" xlink:href=\"#m0681977222\" y=\"115.92\"/>\n     <use style=\"fill:#4c4c4c;stroke:#4c4c4c;stroke-linejoin:miter;\" x=\"259.908721\" xlink:href=\"#m0681977222\" y=\"115.92\"/>\n     <use style=\"fill:#4c4c4c;stroke:#4c4c4c;stroke-linejoin:miter;\" x=\"250.228199\" xlink:href=\"#m0681977222\" y=\"115.92\"/>\n     <use style=\"fill:#4c4c4c;stroke:#4c4c4c;stroke-linejoin:miter;\" x=\"232.027099\" xlink:href=\"#m0681977222\" y=\"115.92\"/>\n     <use style=\"fill:#4c4c4c;stroke:#4c4c4c;stroke-linejoin:miter;\" x=\"251.559987\" xlink:href=\"#m0681977222\" y=\"115.92\"/>\n     <use style=\"fill:#4c4c4c;stroke:#4c4c4c;stroke-linejoin:miter;\" x=\"257.187865\" xlink:href=\"#m0681977222\" y=\"115.92\"/>\n     <use style=\"fill:#4c4c4c;stroke:#4c4c4c;stroke-linejoin:miter;\" x=\"233.315926\" xlink:href=\"#m0681977222\" y=\"115.92\"/>\n     <use style=\"fill:#4c4c4c;stroke:#4c4c4c;stroke-linejoin:miter;\" x=\"250.242519\" xlink:href=\"#m0681977222\" y=\"115.92\"/>\n     <use style=\"fill:#4c4c4c;stroke:#4c4c4c;stroke-linejoin:miter;\" x=\"265.765724\" xlink:href=\"#m0681977222\" y=\"115.92\"/>\n     <use style=\"fill:#4c4c4c;stroke:#4c4c4c;stroke-linejoin:miter;\" x=\"236.337509\" xlink:href=\"#m0681977222\" y=\"115.92\"/>\n     <use style=\"fill:#4c4c4c;stroke:#4c4c4c;stroke-linejoin:miter;\" x=\"258.376449\" xlink:href=\"#m0681977222\" y=\"115.92\"/>\n     <use style=\"fill:#4c4c4c;stroke:#4c4c4c;stroke-linejoin:miter;\" x=\"306.435373\" xlink:href=\"#m0681977222\" y=\"115.92\"/>\n     <use style=\"fill:#4c4c4c;stroke:#4c4c4c;stroke-linejoin:miter;\" x=\"251.001495\" xlink:href=\"#m0681977222\" y=\"115.92\"/>\n     <use style=\"fill:#4c4c4c;stroke:#4c4c4c;stroke-linejoin:miter;\" x=\"243.612221\" xlink:href=\"#m0681977222\" y=\"115.92\"/>\n     <use style=\"fill:#4c4c4c;stroke:#4c4c4c;stroke-linejoin:miter;\" x=\"265.035388\" xlink:href=\"#m0681977222\" y=\"115.92\"/>\n     <use style=\"fill:#4c4c4c;stroke:#4c4c4c;stroke-linejoin:miter;\" x=\"243.09669\" xlink:href=\"#m0681977222\" y=\"115.92\"/>\n     <use style=\"fill:#4c4c4c;stroke:#4c4c4c;stroke-linejoin:miter;\" x=\"276.362745\" xlink:href=\"#m0681977222\" y=\"115.92\"/>\n     <use style=\"fill:#4c4c4c;stroke:#4c4c4c;stroke-linejoin:miter;\" x=\"201.195495\" xlink:href=\"#m0681977222\" y=\"115.92\"/>\n     <use style=\"fill:#4c4c4c;stroke:#4c4c4c;stroke-linejoin:miter;\" x=\"296.038836\" xlink:href=\"#m0681977222\" y=\"115.92\"/>\n     <use style=\"fill:#4c4c4c;stroke:#4c4c4c;stroke-linejoin:miter;\" x=\"310.674182\" xlink:href=\"#m0681977222\" y=\"115.92\"/>\n     <use style=\"fill:#4c4c4c;stroke:#4c4c4c;stroke-linejoin:miter;\" x=\"263.145109\" xlink:href=\"#m0681977222\" y=\"115.92\"/>\n     <use style=\"fill:#4c4c4c;stroke:#4c4c4c;stroke-linejoin:miter;\" x=\"213.067023\" xlink:href=\"#m0681977222\" y=\"115.92\"/>\n     <use style=\"fill:#4c4c4c;stroke:#4c4c4c;stroke-linejoin:miter;\" x=\"268.772986\" xlink:href=\"#m0681977222\" y=\"115.92\"/>\n     <use style=\"fill:#4c4c4c;stroke:#4c4c4c;stroke-linejoin:miter;\" x=\"250.213879\" xlink:href=\"#m0681977222\" y=\"115.92\"/>\n     <use style=\"fill:#4c4c4c;stroke:#4c4c4c;stroke-linejoin:miter;\" x=\"271.207437\" xlink:href=\"#m0681977222\" y=\"115.92\"/>\n     <use style=\"fill:#4c4c4c;stroke:#4c4c4c;stroke-linejoin:miter;\" x=\"238.370992\" xlink:href=\"#m0681977222\" y=\"115.92\"/>\n     <use style=\"fill:#4c4c4c;stroke:#4c4c4c;stroke-linejoin:miter;\" x=\"295.895633\" xlink:href=\"#m0681977222\" y=\"115.92\"/>\n     <use style=\"fill:#4c4c4c;stroke:#4c4c4c;stroke-linejoin:miter;\" x=\"259.321589\" xlink:href=\"#m0681977222\" y=\"115.92\"/>\n     <use style=\"fill:#4c4c4c;stroke:#4c4c4c;stroke-linejoin:miter;\" x=\"243.712463\" xlink:href=\"#m0681977222\" y=\"115.92\"/>\n     <use style=\"fill:#4c4c4c;stroke:#4c4c4c;stroke-linejoin:miter;\" x=\"297.17014\" xlink:href=\"#m0681977222\" y=\"115.92\"/>\n     <use style=\"fill:#4c4c4c;stroke:#4c4c4c;stroke-linejoin:miter;\" x=\"291.957551\" xlink:href=\"#m0681977222\" y=\"115.92\"/>\n     <use style=\"fill:#4c4c4c;stroke:#4c4c4c;stroke-linejoin:miter;\" x=\"244.170713\" xlink:href=\"#m0681977222\" y=\"115.92\"/>\n     <use style=\"fill:#4c4c4c;stroke:#4c4c4c;stroke-linejoin:miter;\" x=\"266.467418\" xlink:href=\"#m0681977222\" y=\"115.92\"/>\n     <use style=\"fill:#4c4c4c;stroke:#4c4c4c;stroke-linejoin:miter;\" x=\"290.697364\" xlink:href=\"#m0681977222\" y=\"115.92\"/>\n     <use style=\"fill:#4c4c4c;stroke:#4c4c4c;stroke-linejoin:miter;\" x=\"222.332257\" xlink:href=\"#m0681977222\" y=\"115.92\"/>\n     <use style=\"fill:#4c4c4c;stroke:#4c4c4c;stroke-linejoin:miter;\" x=\"207.052497\" xlink:href=\"#m0681977222\" y=\"115.92\"/>\n     <use style=\"fill:#4c4c4c;stroke:#4c4c4c;stroke-linejoin:miter;\" x=\"245.48818\" xlink:href=\"#m0681977222\" y=\"115.92\"/>\n     <use style=\"fill:#4c4c4c;stroke:#4c4c4c;stroke-linejoin:miter;\" x=\"191.214247\" xlink:href=\"#m0681977222\" y=\"115.92\"/>\n     <use style=\"fill:#4c4c4c;stroke:#4c4c4c;stroke-linejoin:miter;\" x=\"275.245762\" xlink:href=\"#m0681977222\" y=\"115.92\"/>\n     <use style=\"fill:#4c4c4c;stroke:#4c4c4c;stroke-linejoin:miter;\" x=\"235.392369\" xlink:href=\"#m0681977222\" y=\"115.92\"/>\n     <use style=\"fill:#4c4c4c;stroke:#4c4c4c;stroke-linejoin:miter;\" x=\"251.760471\" xlink:href=\"#m0681977222\" y=\"115.92\"/>\n     <use style=\"fill:#4c4c4c;stroke:#4c4c4c;stroke-linejoin:miter;\" x=\"287.303453\" xlink:href=\"#m0681977222\" y=\"115.92\"/>\n     <use style=\"fill:#4c4c4c;stroke:#4c4c4c;stroke-linejoin:miter;\" x=\"255.698553\" xlink:href=\"#m0681977222\" y=\"115.92\"/>\n     <use style=\"fill:#4c4c4c;stroke:#4c4c4c;stroke-linejoin:miter;\" x=\"261.183228\" xlink:href=\"#m0681977222\" y=\"115.92\"/>\n     <use style=\"fill:#4c4c4c;stroke:#4c4c4c;stroke-linejoin:miter;\" x=\"194.837282\" xlink:href=\"#m0681977222\" y=\"115.92\"/>\n     <use style=\"fill:#4c4c4c;stroke:#4c4c4c;stroke-linejoin:miter;\" x=\"235.993822\" xlink:href=\"#m0681977222\" y=\"115.92\"/>\n     <use style=\"fill:#4c4c4c;stroke:#4c4c4c;stroke-linejoin:miter;\" x=\"252.619689\" xlink:href=\"#m0681977222\" y=\"115.92\"/>\n     <use style=\"fill:#4c4c4c;stroke:#4c4c4c;stroke-linejoin:miter;\" x=\"247.650545\" xlink:href=\"#m0681977222\" y=\"115.92\"/>\n     <use style=\"fill:#4c4c4c;stroke:#4c4c4c;stroke-linejoin:miter;\" x=\"308.239731\" xlink:href=\"#m0681977222\" y=\"115.92\"/>\n     <use style=\"fill:#4c4c4c;stroke:#4c4c4c;stroke-linejoin:miter;\" x=\"288.363156\" xlink:href=\"#m0681977222\" y=\"115.92\"/>\n     <use style=\"fill:#4c4c4c;stroke:#4c4c4c;stroke-linejoin:miter;\" x=\"230.13682\" xlink:href=\"#m0681977222\" y=\"115.92\"/>\n     <use style=\"fill:#4c4c4c;stroke:#4c4c4c;stroke-linejoin:miter;\" x=\"263.703601\" xlink:href=\"#m0681977222\" y=\"115.92\"/>\n     <use style=\"fill:#4c4c4c;stroke:#4c4c4c;stroke-linejoin:miter;\" x=\"248.151756\" xlink:href=\"#m0681977222\" y=\"115.92\"/>\n     <use style=\"fill:#4c4c4c;stroke:#4c4c4c;stroke-linejoin:miter;\" x=\"217.520636\" xlink:href=\"#m0681977222\" y=\"115.92\"/>\n     <use style=\"fill:#4c4c4c;stroke:#4c4c4c;stroke-linejoin:miter;\" x=\"262.515016\" xlink:href=\"#m0681977222\" y=\"115.92\"/>\n     <use style=\"fill:#4c4c4c;stroke:#4c4c4c;stroke-linejoin:miter;\" x=\"277.307885\" xlink:href=\"#m0681977222\" y=\"115.92\"/>\n     <use style=\"fill:#4c4c4c;stroke:#4c4c4c;stroke-linejoin:miter;\" x=\"196.498437\" xlink:href=\"#m0681977222\" y=\"115.92\"/>\n     <use style=\"fill:#4c4c4c;stroke:#4c4c4c;stroke-linejoin:miter;\" x=\"244.02751\" xlink:href=\"#m0681977222\" y=\"115.92\"/>\n     <use style=\"fill:#4c4c4c;stroke:#4c4c4c;stroke-linejoin:miter;\" x=\"222.790506\" xlink:href=\"#m0681977222\" y=\"115.92\"/>\n     <use style=\"fill:#4c4c4c;stroke:#4c4c4c;stroke-linejoin:miter;\" x=\"269.059392\" xlink:href=\"#m0681977222\" y=\"115.92\"/>\n     <use style=\"fill:#4c4c4c;stroke:#4c4c4c;stroke-linejoin:miter;\" x=\"272.324421\" xlink:href=\"#m0681977222\" y=\"115.92\"/>\n     <use style=\"fill:#4c4c4c;stroke:#4c4c4c;stroke-linejoin:miter;\" x=\"266.467418\" xlink:href=\"#m0681977222\" y=\"115.92\"/>\n     <use style=\"fill:#4c4c4c;stroke:#4c4c4c;stroke-linejoin:miter;\" x=\"261.254829\" xlink:href=\"#m0681977222\" y=\"115.92\"/>\n     <use style=\"fill:#4c4c4c;stroke:#4c4c4c;stroke-linejoin:miter;\" x=\"296.883734\" xlink:href=\"#m0681977222\" y=\"115.92\"/>\n     <use style=\"fill:#4c4c4c;stroke:#4c4c4c;stroke-linejoin:miter;\" x=\"227.358682\" xlink:href=\"#m0681977222\" y=\"115.92\"/>\n     <use style=\"fill:#4c4c4c;stroke:#4c4c4c;stroke-linejoin:miter;\" x=\"207.66827\" xlink:href=\"#m0681977222\" y=\"115.92\"/>\n     <use style=\"fill:#4c4c4c;stroke:#4c4c4c;stroke-linejoin:miter;\" x=\"280.300827\" xlink:href=\"#m0681977222\" y=\"115.92\"/>\n     <use style=\"fill:#4c4c4c;stroke:#4c4c4c;stroke-linejoin:miter;\" x=\"258.720137\" xlink:href=\"#m0681977222\" y=\"115.92\"/>\n     <use style=\"fill:#4c4c4c;stroke:#4c4c4c;stroke-linejoin:miter;\" x=\"300.907738\" xlink:href=\"#m0681977222\" y=\"115.92\"/>\n     <use style=\"fill:#4c4c4c;stroke:#4c4c4c;stroke-linejoin:miter;\" x=\"225.167676\" xlink:href=\"#m0681977222\" y=\"115.92\"/>\n     <use style=\"fill:#4c4c4c;stroke:#4c4c4c;stroke-linejoin:miter;\" x=\"235.206205\" xlink:href=\"#m0681977222\" y=\"115.92\"/>\n     <use style=\"fill:#4c4c4c;stroke:#4c4c4c;stroke-linejoin:miter;\" x=\"263.889764\" xlink:href=\"#m0681977222\" y=\"115.92\"/>\n     <use style=\"fill:#4c4c4c;stroke:#4c4c4c;stroke-linejoin:miter;\" x=\"279.384328\" xlink:href=\"#m0681977222\" y=\"115.92\"/>\n     <use style=\"fill:#4c4c4c;stroke:#4c4c4c;stroke-linejoin:miter;\" x=\"217.176949\" xlink:href=\"#m0681977222\" y=\"115.92\"/>\n     <use style=\"fill:#4c4c4c;stroke:#4c4c4c;stroke-linejoin:miter;\" x=\"251.846393\" xlink:href=\"#m0681977222\" y=\"115.92\"/>\n     <use style=\"fill:#4c4c4c;stroke:#4c4c4c;stroke-linejoin:miter;\" x=\"305.160866\" xlink:href=\"#m0681977222\" y=\"115.92\"/>\n     <use style=\"fill:#4c4c4c;stroke:#4c4c4c;stroke-linejoin:miter;\" x=\"263.073507\" xlink:href=\"#m0681977222\" y=\"115.92\"/>\n     <use style=\"fill:#4c4c4c;stroke:#4c4c4c;stroke-linejoin:miter;\" x=\"210.002479\" xlink:href=\"#m0681977222\" y=\"115.92\"/>\n     <use style=\"fill:#4c4c4c;stroke:#4c4c4c;stroke-linejoin:miter;\" x=\"258.032762\" xlink:href=\"#m0681977222\" y=\"115.92\"/>\n     <use style=\"fill:#4c4c4c;stroke:#4c4c4c;stroke-linejoin:miter;\" x=\"257.345388\" xlink:href=\"#m0681977222\" y=\"115.92\"/>\n     <use style=\"fill:#4c4c4c;stroke:#4c4c4c;stroke-linejoin:miter;\" x=\"247.120694\" xlink:href=\"#m0681977222\" y=\"115.92\"/>\n     <use style=\"fill:#4c4c4c;stroke:#4c4c4c;stroke-linejoin:miter;\" x=\"246.075312\" xlink:href=\"#m0681977222\" y=\"115.92\"/>\n     <use style=\"fill:#4c4c4c;stroke:#4c4c4c;stroke-linejoin:miter;\" x=\"287.231852\" xlink:href=\"#m0681977222\" y=\"115.92\"/>\n     <use style=\"fill:#4c4c4c;stroke:#4c4c4c;stroke-linejoin:miter;\" x=\"257.45995\" xlink:href=\"#m0681977222\" y=\"115.92\"/>\n     <use style=\"fill:#4c4c4c;stroke:#4c4c4c;stroke-linejoin:miter;\" x=\"240.003506\" xlink:href=\"#m0681977222\" y=\"115.92\"/>\n     <use style=\"fill:#4c4c4c;stroke:#4c4c4c;stroke-linejoin:miter;\" x=\"291.313137\" xlink:href=\"#m0681977222\" y=\"115.92\"/>\n     <use style=\"fill:#4c4c4c;stroke:#4c4c4c;stroke-linejoin:miter;\" x=\"230.408905\" xlink:href=\"#m0681977222\" y=\"115.92\"/>\n     <use style=\"fill:#4c4c4c;stroke:#4c4c4c;stroke-linejoin:miter;\" x=\"236.523673\" xlink:href=\"#m0681977222\" y=\"115.92\"/>\n     <use style=\"fill:#4c4c4c;stroke:#4c4c4c;stroke-linejoin:miter;\" x=\"279.813937\" xlink:href=\"#m0681977222\" y=\"115.92\"/>\n     <use style=\"fill:#4c4c4c;stroke:#4c4c4c;stroke-linejoin:miter;\" x=\"262.472055\" xlink:href=\"#m0681977222\" y=\"115.92\"/>\n     <use style=\"fill:#4c4c4c;stroke:#4c4c4c;stroke-linejoin:miter;\" x=\"238.227789\" xlink:href=\"#m0681977222\" y=\"115.92\"/>\n     <use style=\"fill:#4c4c4c;stroke:#4c4c4c;stroke-linejoin:miter;\" x=\"231.382686\" xlink:href=\"#m0681977222\" y=\"115.92\"/>\n     <use style=\"fill:#4c4c4c;stroke:#4c4c4c;stroke-linejoin:miter;\" x=\"204.131156\" xlink:href=\"#m0681977222\" y=\"115.92\"/>\n     <use style=\"fill:#4c4c4c;stroke:#4c4c4c;stroke-linejoin:miter;\" x=\"192.918362\" xlink:href=\"#m0681977222\" y=\"115.92\"/>\n     <use style=\"fill:#4c4c4c;stroke:#4c4c4c;stroke-linejoin:miter;\" x=\"273.942614\" xlink:href=\"#m0681977222\" y=\"115.92\"/>\n     <use style=\"fill:#4c4c4c;stroke:#4c4c4c;stroke-linejoin:miter;\" x=\"191.543614\" xlink:href=\"#m0681977222\" y=\"115.92\"/>\n     <use style=\"fill:#4c4c4c;stroke:#4c4c4c;stroke-linejoin:miter;\" x=\"255.211663\" xlink:href=\"#m0681977222\" y=\"115.92\"/>\n     <use style=\"fill:#4c4c4c;stroke:#4c4c4c;stroke-linejoin:miter;\" x=\"266.710863\" xlink:href=\"#m0681977222\" y=\"115.92\"/>\n     <use style=\"fill:#4c4c4c;stroke:#4c4c4c;stroke-linejoin:miter;\" x=\"262.787101\" xlink:href=\"#m0681977222\" y=\"115.92\"/>\n     <use style=\"fill:#4c4c4c;stroke:#4c4c4c;stroke-linejoin:miter;\" x=\"215.071865\" xlink:href=\"#m0681977222\" y=\"115.92\"/>\n     <use style=\"fill:#4c4c4c;stroke:#4c4c4c;stroke-linejoin:miter;\" x=\"246.247156\" xlink:href=\"#m0681977222\" y=\"115.92\"/>\n     <use style=\"fill:#4c4c4c;stroke:#4c4c4c;stroke-linejoin:miter;\" x=\"275.64673\" xlink:href=\"#m0681977222\" y=\"115.92\"/>\n     <use style=\"fill:#4c4c4c;stroke:#4c4c4c;stroke-linejoin:miter;\" x=\"269.932931\" xlink:href=\"#m0681977222\" y=\"115.92\"/>\n     <use style=\"fill:#4c4c4c;stroke:#4c4c4c;stroke-linejoin:miter;\" x=\"201.295737\" xlink:href=\"#m0681977222\" y=\"115.92\"/>\n     <use style=\"fill:#4c4c4c;stroke:#4c4c4c;stroke-linejoin:miter;\" x=\"197.271733\" xlink:href=\"#m0681977222\" y=\"115.92\"/>\n     <use style=\"fill:#4c4c4c;stroke:#4c4c4c;stroke-linejoin:miter;\" x=\"291.570903\" xlink:href=\"#m0681977222\" y=\"115.92\"/>\n     <use style=\"fill:#4c4c4c;stroke:#4c4c4c;stroke-linejoin:miter;\" x=\"226.714268\" xlink:href=\"#m0681977222\" y=\"115.92\"/>\n     <use style=\"fill:#4c4c4c;stroke:#4c4c4c;stroke-linejoin:miter;\" x=\"267.98537\" xlink:href=\"#m0681977222\" y=\"115.92\"/>\n     <use style=\"fill:#4c4c4c;stroke:#4c4c4c;stroke-linejoin:miter;\" x=\"200.866128\" xlink:href=\"#m0681977222\" y=\"115.92\"/>\n     <use style=\"fill:#4c4c4c;stroke:#4c4c4c;stroke-linejoin:miter;\" x=\"236.079744\" xlink:href=\"#m0681977222\" y=\"115.92\"/>\n     <use style=\"fill:#4c4c4c;stroke:#4c4c4c;stroke-linejoin:miter;\" x=\"230.122499\" xlink:href=\"#m0681977222\" y=\"115.92\"/>\n     <use style=\"fill:#4c4c4c;stroke:#4c4c4c;stroke-linejoin:miter;\" x=\"223.764287\" xlink:href=\"#m0681977222\" y=\"115.92\"/>\n     <use style=\"fill:#4c4c4c;stroke:#4c4c4c;stroke-linejoin:miter;\" x=\"274.758871\" xlink:href=\"#m0681977222\" y=\"115.92\"/>\n     <use style=\"fill:#4c4c4c;stroke:#4c4c4c;stroke-linejoin:miter;\" x=\"240.347193\" xlink:href=\"#m0681977222\" y=\"115.92\"/>\n     <use style=\"fill:#4c4c4c;stroke:#4c4c4c;stroke-linejoin:miter;\" x=\"242.036988\" xlink:href=\"#m0681977222\" y=\"115.92\"/>\n     <use style=\"fill:#4c4c4c;stroke:#4c4c4c;stroke-linejoin:miter;\" x=\"273.26956\" xlink:href=\"#m0681977222\" y=\"115.92\"/>\n     <use style=\"fill:#4c4c4c;stroke:#4c4c4c;stroke-linejoin:miter;\" x=\"289.723584\" xlink:href=\"#m0681977222\" y=\"115.92\"/>\n     <use style=\"fill:#4c4c4c;stroke:#4c4c4c;stroke-linejoin:miter;\" x=\"292.845409\" xlink:href=\"#m0681977222\" y=\"115.92\"/>\n     <use style=\"fill:#4c4c4c;stroke:#4c4c4c;stroke-linejoin:miter;\" x=\"258.004122\" xlink:href=\"#m0681977222\" y=\"115.92\"/>\n     <use style=\"fill:#4c4c4c;stroke:#4c4c4c;stroke-linejoin:miter;\" x=\"215.272349\" xlink:href=\"#m0681977222\" y=\"115.92\"/>\n     <use style=\"fill:#4c4c4c;stroke:#4c4c4c;stroke-linejoin:miter;\" x=\"229.334883\" xlink:href=\"#m0681977222\" y=\"115.92\"/>\n     <use style=\"fill:#4c4c4c;stroke:#4c4c4c;stroke-linejoin:miter;\" x=\"265.808685\" xlink:href=\"#m0681977222\" y=\"115.92\"/>\n     <use style=\"fill:#4c4c4c;stroke:#4c4c4c;stroke-linejoin:miter;\" x=\"217.549277\" xlink:href=\"#m0681977222\" y=\"115.92\"/>\n     <use style=\"fill:#4c4c4c;stroke:#4c4c4c;stroke-linejoin:miter;\" x=\"242.079949\" xlink:href=\"#m0681977222\" y=\"115.92\"/>\n     <use style=\"fill:#4c4c4c;stroke:#4c4c4c;stroke-linejoin:miter;\" x=\"282.477513\" xlink:href=\"#m0681977222\" y=\"115.92\"/>\n     <use style=\"fill:#4c4c4c;stroke:#4c4c4c;stroke-linejoin:miter;\" x=\"245.932109\" xlink:href=\"#m0681977222\" y=\"115.92\"/>\n     <use style=\"fill:#4c4c4c;stroke:#4c4c4c;stroke-linejoin:miter;\" x=\"274.271981\" xlink:href=\"#m0681977222\" y=\"115.92\"/>\n     <use style=\"fill:#4c4c4c;stroke:#4c4c4c;stroke-linejoin:miter;\" x=\"291.757066\" xlink:href=\"#m0681977222\" y=\"115.92\"/>\n     <use style=\"fill:#4c4c4c;stroke:#4c4c4c;stroke-linejoin:miter;\" x=\"234.375628\" xlink:href=\"#m0681977222\" y=\"115.92\"/>\n     <use style=\"fill:#4c4c4c;stroke:#4c4c4c;stroke-linejoin:miter;\" x=\"275.446246\" xlink:href=\"#m0681977222\" y=\"115.92\"/>\n     <use style=\"fill:#4c4c4c;stroke:#4c4c4c;stroke-linejoin:miter;\" x=\"219.496837\" xlink:href=\"#m0681977222\" y=\"115.92\"/>\n     <use style=\"fill:#4c4c4c;stroke:#4c4c4c;stroke-linejoin:miter;\" x=\"222.346577\" xlink:href=\"#m0681977222\" y=\"115.92\"/>\n     <use style=\"fill:#4c4c4c;stroke:#4c4c4c;stroke-linejoin:miter;\" x=\"207.768512\" xlink:href=\"#m0681977222\" y=\"115.92\"/>\n     <use style=\"fill:#4c4c4c;stroke:#4c4c4c;stroke-linejoin:miter;\" x=\"202.913931\" xlink:href=\"#m0681977222\" y=\"115.92\"/>\n     <use style=\"fill:#4c4c4c;stroke:#4c4c4c;stroke-linejoin:miter;\" x=\"237.712258\" xlink:href=\"#m0681977222\" y=\"115.92\"/>\n     <use style=\"fill:#4c4c4c;stroke:#4c4c4c;stroke-linejoin:miter;\" x=\"197.171491\" xlink:href=\"#m0681977222\" y=\"115.92\"/>\n     <use style=\"fill:#4c4c4c;stroke:#4c4c4c;stroke-linejoin:miter;\" x=\"262.915984\" xlink:href=\"#m0681977222\" y=\"115.92\"/>\n     <use style=\"fill:#4c4c4c;stroke:#4c4c4c;stroke-linejoin:miter;\" x=\"213.467991\" xlink:href=\"#m0681977222\" y=\"115.92\"/>\n     <use style=\"fill:#4c4c4c;stroke:#4c4c4c;stroke-linejoin:miter;\" x=\"225.683207\" xlink:href=\"#m0681977222\" y=\"115.92\"/>\n     <use style=\"fill:#4c4c4c;stroke:#4c4c4c;stroke-linejoin:miter;\" x=\"278.625352\" xlink:href=\"#m0681977222\" y=\"115.92\"/>\n     <use style=\"fill:#4c4c4c;stroke:#4c4c4c;stroke-linejoin:miter;\" x=\"220.799985\" xlink:href=\"#m0681977222\" y=\"115.92\"/>\n     <use style=\"fill:#4c4c4c;stroke:#4c4c4c;stroke-linejoin:miter;\" x=\"279.155203\" xlink:href=\"#m0681977222\" y=\"115.92\"/>\n     <use style=\"fill:#4c4c4c;stroke:#4c4c4c;stroke-linejoin:miter;\" x=\"263.531757\" xlink:href=\"#m0681977222\" y=\"115.92\"/>\n     <use style=\"fill:#4c4c4c;stroke:#4c4c4c;stroke-linejoin:miter;\" x=\"258.806058\" xlink:href=\"#m0681977222\" y=\"115.92\"/>\n     <use style=\"fill:#4c4c4c;stroke:#4c4c4c;stroke-linejoin:miter;\" x=\"222.604342\" xlink:href=\"#m0681977222\" y=\"115.92\"/>\n     <use style=\"fill:#4c4c4c;stroke:#4c4c4c;stroke-linejoin:miter;\" x=\"254.667492\" xlink:href=\"#m0681977222\" y=\"115.92\"/>\n     <use style=\"fill:#4c4c4c;stroke:#4c4c4c;stroke-linejoin:miter;\" x=\"238.356671\" xlink:href=\"#m0681977222\" y=\"115.92\"/>\n     <use style=\"fill:#4c4c4c;stroke:#4c4c4c;stroke-linejoin:miter;\" x=\"250.801011\" xlink:href=\"#m0681977222\" y=\"115.92\"/>\n     <use style=\"fill:#4c4c4c;stroke:#4c4c4c;stroke-linejoin:miter;\" x=\"243.884307\" xlink:href=\"#m0681977222\" y=\"115.92\"/>\n     <use style=\"fill:#4c4c4c;stroke:#4c4c4c;stroke-linejoin:miter;\" x=\"248.266318\" xlink:href=\"#m0681977222\" y=\"115.92\"/>\n     <use style=\"fill:#4c4c4c;stroke:#4c4c4c;stroke-linejoin:miter;\" x=\"273.441404\" xlink:href=\"#m0681977222\" y=\"115.92\"/>\n     <use style=\"fill:#4c4c4c;stroke:#4c4c4c;stroke-linejoin:miter;\" x=\"310.044088\" xlink:href=\"#m0681977222\" y=\"115.92\"/>\n     <use style=\"fill:#4c4c4c;stroke:#4c4c4c;stroke-linejoin:miter;\" x=\"231.081959\" xlink:href=\"#m0681977222\" y=\"115.92\"/>\n     <use style=\"fill:#4c4c4c;stroke:#4c4c4c;stroke-linejoin:miter;\" x=\"200.536761\" xlink:href=\"#m0681977222\" y=\"115.92\"/>\n     <use style=\"fill:#4c4c4c;stroke:#4c4c4c;stroke-linejoin:miter;\" x=\"227.716689\" xlink:href=\"#m0681977222\" y=\"115.92\"/>\n     <use style=\"fill:#4c4c4c;stroke:#4c4c4c;stroke-linejoin:miter;\" x=\"261.097306\" xlink:href=\"#m0681977222\" y=\"115.92\"/>\n     <use style=\"fill:#4c4c4c;stroke:#4c4c4c;stroke-linejoin:miter;\" x=\"234.304027\" xlink:href=\"#m0681977222\" y=\"115.92\"/>\n     <use style=\"fill:#4c4c4c;stroke:#4c4c4c;stroke-linejoin:miter;\" x=\"267.856487\" xlink:href=\"#m0681977222\" y=\"115.92\"/>\n     <use style=\"fill:#4c4c4c;stroke:#4c4c4c;stroke-linejoin:miter;\" x=\"245.588422\" xlink:href=\"#m0681977222\" y=\"115.92\"/>\n     <use style=\"fill:#4c4c4c;stroke:#4c4c4c;stroke-linejoin:miter;\" x=\"229.291922\" xlink:href=\"#m0681977222\" y=\"115.92\"/>\n     <use style=\"fill:#4c4c4c;stroke:#4c4c4c;stroke-linejoin:miter;\" x=\"243.497659\" xlink:href=\"#m0681977222\" y=\"115.92\"/>\n     <use style=\"fill:#4c4c4c;stroke:#4c4c4c;stroke-linejoin:miter;\" x=\"279.656414\" xlink:href=\"#m0681977222\" y=\"115.92\"/>\n     <use style=\"fill:#4c4c4c;stroke:#4c4c4c;stroke-linejoin:miter;\" x=\"271.937773\" xlink:href=\"#m0681977222\" y=\"115.92\"/>\n     <use style=\"fill:#4c4c4c;stroke:#4c4c4c;stroke-linejoin:miter;\" x=\"312.779266\" xlink:href=\"#m0681977222\" y=\"115.92\"/>\n     <use style=\"fill:#4c4c4c;stroke:#4c4c4c;stroke-linejoin:miter;\" x=\"229.535367\" xlink:href=\"#m0681977222\" y=\"115.92\"/>\n     <use style=\"fill:#4c4c4c;stroke:#4c4c4c;stroke-linejoin:miter;\" x=\"222.532741\" xlink:href=\"#m0681977222\" y=\"115.92\"/>\n     <use style=\"fill:#4c4c4c;stroke:#4c4c4c;stroke-linejoin:miter;\" x=\"245.402258\" xlink:href=\"#m0681977222\" y=\"115.92\"/>\n     <use style=\"fill:#4c4c4c;stroke:#4c4c4c;stroke-linejoin:miter;\" x=\"225.769128\" xlink:href=\"#m0681977222\" y=\"115.92\"/>\n     <use style=\"fill:#4c4c4c;stroke:#4c4c4c;stroke-linejoin:miter;\" x=\"256.887138\" xlink:href=\"#m0681977222\" y=\"115.92\"/>\n     <use style=\"fill:#4c4c4c;stroke:#4c4c4c;stroke-linejoin:miter;\" x=\"290.081591\" xlink:href=\"#m0681977222\" y=\"115.92\"/>\n     <use style=\"fill:#4c4c4c;stroke:#4c4c4c;stroke-linejoin:miter;\" x=\"245.94643\" xlink:href=\"#m0681977222\" y=\"115.92\"/>\n     <use style=\"fill:#4c4c4c;stroke:#4c4c4c;stroke-linejoin:miter;\" x=\"214.799779\" xlink:href=\"#m0681977222\" y=\"115.92\"/>\n     <use style=\"fill:#4c4c4c;stroke:#4c4c4c;stroke-linejoin:miter;\" x=\"192.674917\" xlink:href=\"#m0681977222\" y=\"115.92\"/>\n     <use style=\"fill:#4c4c4c;stroke:#4c4c4c;stroke-linejoin:miter;\" x=\"292.673566\" xlink:href=\"#m0681977222\" y=\"115.92\"/>\n     <use style=\"fill:#4c4c4c;stroke:#4c4c4c;stroke-linejoin:miter;\" x=\"219.425236\" xlink:href=\"#m0681977222\" y=\"115.92\"/>\n     <use style=\"fill:#4c4c4c;stroke:#4c4c4c;stroke-linejoin:miter;\" x=\"282.649356\" xlink:href=\"#m0681977222\" y=\"115.92\"/>\n     <use style=\"fill:#4c4c4c;stroke:#4c4c4c;stroke-linejoin:miter;\" x=\"192.846761\" xlink:href=\"#m0681977222\" y=\"115.92\"/>\n     <use style=\"fill:#4c4c4c;stroke:#4c4c4c;stroke-linejoin:miter;\" x=\"220.413337\" xlink:href=\"#m0681977222\" y=\"115.92\"/>\n     <use style=\"fill:#4c4c4c;stroke:#4c4c4c;stroke-linejoin:miter;\" x=\"274.486786\" xlink:href=\"#m0681977222\" y=\"115.92\"/>\n     <use style=\"fill:#4c4c4c;stroke:#4c4c4c;stroke-linejoin:miter;\" x=\"282.549114\" xlink:href=\"#m0681977222\" y=\"115.92\"/>\n     <use style=\"fill:#4c4c4c;stroke:#4c4c4c;stroke-linejoin:miter;\" x=\"227.373002\" xlink:href=\"#m0681977222\" y=\"115.92\"/>\n     <use style=\"fill:#4c4c4c;stroke:#4c4c4c;stroke-linejoin:miter;\" x=\"239.072686\" xlink:href=\"#m0681977222\" y=\"115.92\"/>\n     <use style=\"fill:#4c4c4c;stroke:#4c4c4c;stroke-linejoin:miter;\" x=\"272.854272\" xlink:href=\"#m0681977222\" y=\"115.92\"/>\n     <use style=\"fill:#4c4c4c;stroke:#4c4c4c;stroke-linejoin:miter;\" x=\"296.840773\" xlink:href=\"#m0681977222\" y=\"115.92\"/>\n     <use style=\"fill:#4c4c4c;stroke:#4c4c4c;stroke-linejoin:miter;\" x=\"250.342762\" xlink:href=\"#m0681977222\" y=\"115.92\"/>\n     <use style=\"fill:#4c4c4c;stroke:#4c4c4c;stroke-linejoin:miter;\" x=\"283.737699\" xlink:href=\"#m0681977222\" y=\"115.92\"/>\n     <use style=\"fill:#4c4c4c;stroke:#4c4c4c;stroke-linejoin:miter;\" x=\"274.615668\" xlink:href=\"#m0681977222\" y=\"115.92\"/>\n     <use style=\"fill:#4c4c4c;stroke:#4c4c4c;stroke-linejoin:miter;\" x=\"235.950861\" xlink:href=\"#m0681977222\" y=\"115.92\"/>\n     <use style=\"fill:#4c4c4c;stroke:#4c4c4c;stroke-linejoin:miter;\" x=\"274.930715\" xlink:href=\"#m0681977222\" y=\"115.92\"/>\n     <use style=\"fill:#4c4c4c;stroke:#4c4c4c;stroke-linejoin:miter;\" x=\"193.347971\" xlink:href=\"#m0681977222\" y=\"115.92\"/>\n     <use style=\"fill:#4c4c4c;stroke:#4c4c4c;stroke-linejoin:miter;\" x=\"232.155982\" xlink:href=\"#m0681977222\" y=\"115.92\"/>\n     <use style=\"fill:#4c4c4c;stroke:#4c4c4c;stroke-linejoin:miter;\" x=\"233.373207\" xlink:href=\"#m0681977222\" y=\"115.92\"/>\n     <use style=\"fill:#4c4c4c;stroke:#4c4c4c;stroke-linejoin:miter;\" x=\"190.856239\" xlink:href=\"#m0681977222\" y=\"115.92\"/>\n     <use style=\"fill:#4c4c4c;stroke:#4c4c4c;stroke-linejoin:miter;\" x=\"228.933914\" xlink:href=\"#m0681977222\" y=\"115.92\"/>\n     <use style=\"fill:#4c4c4c;stroke:#4c4c4c;stroke-linejoin:miter;\" x=\"219.998048\" xlink:href=\"#m0681977222\" y=\"115.92\"/>\n     <use style=\"fill:#4c4c4c;stroke:#4c4c4c;stroke-linejoin:miter;\" x=\"263.861124\" xlink:href=\"#m0681977222\" y=\"115.92\"/>\n     <use style=\"fill:#4c4c4c;stroke:#4c4c4c;stroke-linejoin:miter;\" x=\"261.999485\" xlink:href=\"#m0681977222\" y=\"115.92\"/>\n     <use style=\"fill:#4c4c4c;stroke:#4c4c4c;stroke-linejoin:miter;\" x=\"204.31732\" xlink:href=\"#m0681977222\" y=\"115.92\"/>\n     <use style=\"fill:#4c4c4c;stroke:#4c4c4c;stroke-linejoin:miter;\" x=\"273.613248\" xlink:href=\"#m0681977222\" y=\"115.92\"/>\n     <use style=\"fill:#4c4c4c;stroke:#4c4c4c;stroke-linejoin:miter;\" x=\"273.040436\" xlink:href=\"#m0681977222\" y=\"115.92\"/>\n     <use style=\"fill:#4c4c4c;stroke:#4c4c4c;stroke-linejoin:miter;\" x=\"241.17777\" xlink:href=\"#m0681977222\" y=\"115.92\"/>\n     <use style=\"fill:#4c4c4c;stroke:#4c4c4c;stroke-linejoin:miter;\" x=\"231.712052\" xlink:href=\"#m0681977222\" y=\"115.92\"/>\n     <use style=\"fill:#4c4c4c;stroke:#4c4c4c;stroke-linejoin:miter;\" x=\"242.036988\" xlink:href=\"#m0681977222\" y=\"115.92\"/>\n     <use style=\"fill:#4c4c4c;stroke:#4c4c4c;stroke-linejoin:miter;\" x=\"210.346166\" xlink:href=\"#m0681977222\" y=\"115.92\"/>\n     <use style=\"fill:#4c4c4c;stroke:#4c4c4c;stroke-linejoin:miter;\" x=\"305.132226\" xlink:href=\"#m0681977222\" y=\"115.92\"/>\n     <use style=\"fill:#4c4c4c;stroke:#4c4c4c;stroke-linejoin:miter;\" x=\"213.510952\" xlink:href=\"#m0681977222\" y=\"115.92\"/>\n     <use style=\"fill:#4c4c4c;stroke:#4c4c4c;stroke-linejoin:miter;\" x=\"203.515384\" xlink:href=\"#m0681977222\" y=\"115.92\"/>\n     <use style=\"fill:#4c4c4c;stroke:#4c4c4c;stroke-linejoin:miter;\" x=\"308.440215\" xlink:href=\"#m0681977222\" y=\"115.92\"/>\n     <use style=\"fill:#4c4c4c;stroke:#4c4c4c;stroke-linejoin:miter;\" x=\"260.238088\" xlink:href=\"#m0681977222\" y=\"115.92\"/>\n     <use style=\"fill:#4c4c4c;stroke:#4c4c4c;stroke-linejoin:miter;\" x=\"293.060214\" xlink:href=\"#m0681977222\" y=\"115.92\"/>\n     <use style=\"fill:#4c4c4c;stroke:#4c4c4c;stroke-linejoin:miter;\" x=\"220.685422\" xlink:href=\"#m0681977222\" y=\"115.92\"/>\n     <use style=\"fill:#4c4c4c;stroke:#4c4c4c;stroke-linejoin:miter;\" x=\"242.810284\" xlink:href=\"#m0681977222\" y=\"115.92\"/>\n     <use style=\"fill:#4c4c4c;stroke:#4c4c4c;stroke-linejoin:miter;\" x=\"223.621084\" xlink:href=\"#m0681977222\" y=\"115.92\"/>\n     <use style=\"fill:#4c4c4c;stroke:#4c4c4c;stroke-linejoin:miter;\" x=\"241.507137\" xlink:href=\"#m0681977222\" y=\"115.92\"/>\n     <use style=\"fill:#4c4c4c;stroke:#4c4c4c;stroke-linejoin:miter;\" x=\"303.241946\" xlink:href=\"#m0681977222\" y=\"115.92\"/>\n     <use style=\"fill:#4c4c4c;stroke:#4c4c4c;stroke-linejoin:miter;\" x=\"251.746151\" xlink:href=\"#m0681977222\" y=\"115.92\"/>\n     <use style=\"fill:#4c4c4c;stroke:#4c4c4c;stroke-linejoin:miter;\" x=\"246.43332\" xlink:href=\"#m0681977222\" y=\"115.92\"/>\n     <use style=\"fill:#4c4c4c;stroke:#4c4c4c;stroke-linejoin:miter;\" x=\"236.623915\" xlink:href=\"#m0681977222\" y=\"115.92\"/>\n     <use style=\"fill:#4c4c4c;stroke:#4c4c4c;stroke-linejoin:miter;\" x=\"231.855255\" xlink:href=\"#m0681977222\" y=\"115.92\"/>\n     <use style=\"fill:#4c4c4c;stroke:#4c4c4c;stroke-linejoin:miter;\" x=\"274.372223\" xlink:href=\"#m0681977222\" y=\"115.92\"/>\n     <use style=\"fill:#4c4c4c;stroke:#4c4c4c;stroke-linejoin:miter;\" x=\"206.551287\" xlink:href=\"#m0681977222\" y=\"115.92\"/>\n     <use style=\"fill:#4c4c4c;stroke:#4c4c4c;stroke-linejoin:miter;\" x=\"209.057339\" xlink:href=\"#m0681977222\" y=\"115.92\"/>\n     <use style=\"fill:#4c4c4c;stroke:#4c4c4c;stroke-linejoin:miter;\" x=\"264.104569\" xlink:href=\"#m0681977222\" y=\"115.92\"/>\n     <use style=\"fill:#4c4c4c;stroke:#4c4c4c;stroke-linejoin:miter;\" x=\"222.776186\" xlink:href=\"#m0681977222\" y=\"115.92\"/>\n     <use style=\"fill:#4c4c4c;stroke:#4c4c4c;stroke-linejoin:miter;\" x=\"237.067844\" xlink:href=\"#m0681977222\" y=\"115.92\"/>\n     <use style=\"fill:#4c4c4c;stroke:#4c4c4c;stroke-linejoin:miter;\" x=\"288.606601\" xlink:href=\"#m0681977222\" y=\"115.92\"/>\n     <use style=\"fill:#4c4c4c;stroke:#4c4c4c;stroke-linejoin:miter;\" x=\"247.521663\" xlink:href=\"#m0681977222\" y=\"115.92\"/>\n     <use style=\"fill:#4c4c4c;stroke:#4c4c4c;stroke-linejoin:miter;\" x=\"243.354456\" xlink:href=\"#m0681977222\" y=\"115.92\"/>\n     <use style=\"fill:#4c4c4c;stroke:#4c4c4c;stroke-linejoin:miter;\" x=\"268.45794\" xlink:href=\"#m0681977222\" y=\"115.92\"/>\n     <use style=\"fill:#4c4c4c;stroke:#4c4c4c;stroke-linejoin:miter;\" x=\"210.847377\" xlink:href=\"#m0681977222\" y=\"115.92\"/>\n     <use style=\"fill:#4c4c4c;stroke:#4c4c4c;stroke-linejoin:miter;\" x=\"210.689853\" xlink:href=\"#m0681977222\" y=\"115.92\"/>\n     <use style=\"fill:#4c4c4c;stroke:#4c4c4c;stroke-linejoin:miter;\" x=\"285.441815\" xlink:href=\"#m0681977222\" y=\"115.92\"/>\n     <use style=\"fill:#4c4c4c;stroke:#4c4c4c;stroke-linejoin:miter;\" x=\"303.814758\" xlink:href=\"#m0681977222\" y=\"115.92\"/>\n     <use style=\"fill:#4c4c4c;stroke:#4c4c4c;stroke-linejoin:miter;\" x=\"248.151756\" xlink:href=\"#m0681977222\" y=\"115.92\"/>\n     <use style=\"fill:#4c4c4c;stroke:#4c4c4c;stroke-linejoin:miter;\" x=\"302.840978\" xlink:href=\"#m0681977222\" y=\"115.92\"/>\n     <use style=\"fill:#4c4c4c;stroke:#4c4c4c;stroke-linejoin:miter;\" x=\"191.901621\" xlink:href=\"#m0681977222\" y=\"115.92\"/>\n     <use style=\"fill:#4c4c4c;stroke:#4c4c4c;stroke-linejoin:miter;\" x=\"258.462371\" xlink:href=\"#m0681977222\" y=\"115.92\"/>\n     <use style=\"fill:#4c4c4c;stroke:#4c4c4c;stroke-linejoin:miter;\" x=\"275.64673\" xlink:href=\"#m0681977222\" y=\"115.92\"/>\n     <use style=\"fill:#4c4c4c;stroke:#4c4c4c;stroke-linejoin:miter;\" x=\"249.984754\" xlink:href=\"#m0681977222\" y=\"115.92\"/>\n     <use style=\"fill:#4c4c4c;stroke:#4c4c4c;stroke-linejoin:miter;\" x=\"251.416784\" xlink:href=\"#m0681977222\" y=\"115.92\"/>\n     <use style=\"fill:#4c4c4c;stroke:#4c4c4c;stroke-linejoin:miter;\" x=\"239.659818\" xlink:href=\"#m0681977222\" y=\"115.92\"/>\n     <use style=\"fill:#4c4c4c;stroke:#4c4c4c;stroke-linejoin:miter;\" x=\"279.556172\" xlink:href=\"#m0681977222\" y=\"115.92\"/>\n     <use style=\"fill:#4c4c4c;stroke:#4c4c4c;stroke-linejoin:miter;\" x=\"227.74533\" xlink:href=\"#m0681977222\" y=\"115.92\"/>\n     <use style=\"fill:#4c4c4c;stroke:#4c4c4c;stroke-linejoin:miter;\" x=\"272.983154\" xlink:href=\"#m0681977222\" y=\"115.92\"/>\n     <use style=\"fill:#4c4c4c;stroke:#4c4c4c;stroke-linejoin:miter;\" x=\"225.86937\" xlink:href=\"#m0681977222\" y=\"115.92\"/>\n     <use style=\"fill:#4c4c4c;stroke:#4c4c4c;stroke-linejoin:miter;\" x=\"232.198943\" xlink:href=\"#m0681977222\" y=\"115.92\"/>\n     <use style=\"fill:#4c4c4c;stroke:#4c4c4c;stroke-linejoin:miter;\" x=\"297.957756\" xlink:href=\"#m0681977222\" y=\"115.92\"/>\n     <use style=\"fill:#4c4c4c;stroke:#4c4c4c;stroke-linejoin:miter;\" x=\"229.105758\" xlink:href=\"#m0681977222\" y=\"115.92\"/>\n     <use style=\"fill:#4c4c4c;stroke:#4c4c4c;stroke-linejoin:miter;\" x=\"254.409727\" xlink:href=\"#m0681977222\" y=\"115.92\"/>\n     <use style=\"fill:#4c4c4c;stroke:#4c4c4c;stroke-linejoin:miter;\" x=\"245.029931\" xlink:href=\"#m0681977222\" y=\"115.92\"/>\n     <use style=\"fill:#4c4c4c;stroke:#4c4c4c;stroke-linejoin:miter;\" x=\"228.26086\" xlink:href=\"#m0681977222\" y=\"115.92\"/>\n     <use style=\"fill:#4c4c4c;stroke:#4c4c4c;stroke-linejoin:miter;\" x=\"280.028742\" xlink:href=\"#m0681977222\" y=\"115.92\"/>\n     <use style=\"fill:#4c4c4c;stroke:#4c4c4c;stroke-linejoin:miter;\" x=\"259.049503\" xlink:href=\"#m0681977222\" y=\"115.92\"/>\n     <use style=\"fill:#4c4c4c;stroke:#4c4c4c;stroke-linejoin:miter;\" x=\"296.969655\" xlink:href=\"#m0681977222\" y=\"115.92\"/>\n     <use style=\"fill:#4c4c4c;stroke:#4c4c4c;stroke-linejoin:miter;\" x=\"194.923204\" xlink:href=\"#m0681977222\" y=\"115.92\"/>\n    </g>\n   </g>\n   <g id=\"line2d_12\">\n    <path clip-path=\"url(#p4216ce0c6b)\" d=\"M 80.045765 28.944 \nL 80.045765 202.896 \n\" style=\"fill:none;stroke:#4c4c4c;stroke-linecap:square;stroke-width:1.2;\"/>\n   </g>\n   <g id=\"patch_4\">\n    <path d=\"M 12 224.64 \nL 12 7.2 \n\" style=\"fill:none;stroke:#000000;stroke-linecap:square;stroke-linejoin:miter;\"/>\n   </g>\n   <g id=\"patch_5\">\n    <path d=\"M 346.8 224.64 \nL 346.8 7.2 \n\" style=\"fill:none;stroke:#000000;stroke-linecap:square;stroke-linejoin:miter;\"/>\n   </g>\n   <g id=\"patch_6\">\n    <path d=\"M 12 224.64 \nL 346.8 224.64 \n\" style=\"fill:none;stroke:#000000;stroke-linecap:square;stroke-linejoin:miter;\"/>\n   </g>\n   <g id=\"patch_7\">\n    <path d=\"M 12 7.2 \nL 346.8 7.2 \n\" style=\"fill:none;stroke:#000000;stroke-linecap:square;stroke-linejoin:miter;\"/>\n   </g>\n  </g>\n </g>\n <defs>\n  <clipPath id=\"p4216ce0c6b\">\n   <rect height=\"217.44\" width=\"334.8\" x=\"12\" y=\"7.2\"/>\n  </clipPath>\n </defs>\n</svg>\n",
      "image/png": "[encoded data removed]"
     },
     "metadata": {
      "needs_background": "light"
     }
    }
   ],
   "source": [
    "sns.boxplot(x='avg_glucose_level',data=df, color='Red')"
   ]
  },
  {
   "cell_type": "code",
   "execution_count": 14,
   "metadata": {},
   "outputs": [
    {
     "output_type": "execute_result",
     "data": {
      "text/plain": [
       "<AxesSubplot:xlabel='bmi'>"
      ]
     },
     "metadata": {},
     "execution_count": 14
    },
    {
     "output_type": "display_data",
     "data": {
      "text/plain": "<Figure size 432x288 with 1 Axes>",
      "image/svg+xml": "<?xml version=\"1.0\" encoding=\"utf-8\" standalone=\"no\"?>\n<!DOCTYPE svg PUBLIC \"-//W3C//DTD SVG 1.1//EN\"\n  \"http://www.w3.org/Graphics/SVG/1.1/DTD/svg11.dtd\">\n<svg height=\"270.851625pt\" version=\"1.1\" viewBox=\"0 0 359.84391 270.851625\" width=\"359.84391pt\" xmlns=\"http://www.w3.org/2000/svg\" xmlns:xlink=\"http://www.w3.org/1999/xlink\">\n <metadata>\n  <rdf:RDF xmlns:cc=\"http://creativecommons.org/ns#\" xmlns:dc=\"http://purl.org/dc/elements/1.1/\" xmlns:rdf=\"http://www.w3.org/1999/02/22-rdf-syntax-ns#\">\n   <cc:Work>\n    <dc:type rdf:resource=\"http://purl.org/dc/dcmitype/StillImage\"/>\n    <dc:date>2021-05-19T16:07:59.005323</dc:date>\n    <dc:format>image/svg+xml</dc:format>\n    <dc:creator>\n     <cc:Agent>\n      <dc:title>Matplotlib v3.4.2, https://matplotlib.org/</dc:title>\n     </cc:Agent>\n    </dc:creator>\n   </cc:Work>\n  </rdf:RDF>\n </metadata>\n <defs>\n  <style type=\"text/css\">*{stroke-linecap:butt;stroke-linejoin:round;}</style>\n </defs>\n <g id=\"figure_1\">\n  <g id=\"patch_1\">\n   <path d=\"M 0 270.851625 \nL 359.84391 270.851625 \nL 359.84391 0 \nL 0 0 \nz\n\" style=\"fill:none;\"/>\n  </g>\n  <g id=\"axes_1\">\n   <g id=\"patch_2\">\n    <path d=\"M 12 224.64 \nL 346.8 224.64 \nL 346.8 7.2 \nL 12 7.2 \nz\n\" style=\"fill:#ffffff;\"/>\n   </g>\n   <g id=\"patch_3\">\n    <path clip-path=\"url(#pf054a0308e)\" d=\"M 70.245254 28.944 \nL 70.245254 202.896 \nL 103.749942 202.896 \nL 103.749942 28.944 \nL 70.245254 28.944 \nz\n\" style=\"fill:#107010;stroke:#262626;stroke-linejoin:miter;stroke-width:1.2;\"/>\n   </g>\n   <g id=\"matplotlib.axis_1\">\n    <g id=\"xtick_1\">\n     <g id=\"line2d_1\">\n      <defs>\n       <path d=\"M 0 0 \nL 0 4.8 \n\" id=\"m30eee03434\" style=\"stroke:#000000;\"/>\n      </defs>\n      <g>\n       <use style=\"stroke:#000000;\" x=\"57.901422\" xlink:href=\"#m30eee03434\" y=\"224.64\"/>\n      </g>\n     </g>\n     <g id=\"text_1\">\n      <!-- 20 -->\n      <g transform=\"translate(49.502922 242.969937)scale(0.132 -0.132)\">\n       <defs>\n        <path d=\"M 1228 531 \nL 3431 531 \nL 3431 0 \nL 469 0 \nL 469 531 \nQ 828 903 1448 1529 \nQ 2069 2156 2228 2338 \nQ 2531 2678 2651 2914 \nQ 2772 3150 2772 3378 \nQ 2772 3750 2511 3984 \nQ 2250 4219 1831 4219 \nQ 1534 4219 1204 4116 \nQ 875 4013 500 3803 \nL 500 4441 \nQ 881 4594 1212 4672 \nQ 1544 4750 1819 4750 \nQ 2544 4750 2975 4387 \nQ 3406 4025 3406 3419 \nQ 3406 3131 3298 2873 \nQ 3191 2616 2906 2266 \nQ 2828 2175 2409 1742 \nQ 1991 1309 1228 531 \nz\n\" id=\"DejaVuSans-32\" transform=\"scale(0.015625)\"/>\n        <path d=\"M 2034 4250 \nQ 1547 4250 1301 3770 \nQ 1056 3291 1056 2328 \nQ 1056 1369 1301 889 \nQ 1547 409 2034 409 \nQ 2525 409 2770 889 \nQ 3016 1369 3016 2328 \nQ 3016 3291 2770 3770 \nQ 2525 4250 2034 4250 \nz\nM 2034 4750 \nQ 2819 4750 3233 4129 \nQ 3647 3509 3647 2328 \nQ 3647 1150 3233 529 \nQ 2819 -91 2034 -91 \nQ 1250 -91 836 529 \nQ 422 1150 422 2328 \nQ 422 3509 836 4129 \nQ 1250 4750 2034 4750 \nz\n\" id=\"DejaVuSans-30\" transform=\"scale(0.015625)\"/>\n       </defs>\n       <use xlink:href=\"#DejaVuSans-32\"/>\n       <use x=\"63.623047\" xlink:href=\"#DejaVuSans-30\"/>\n      </g>\n     </g>\n    </g>\n    <g id=\"xtick_2\">\n     <g id=\"line2d_2\">\n      <g>\n       <use style=\"stroke:#000000;\" x=\"128.437607\" xlink:href=\"#m30eee03434\" y=\"224.64\"/>\n      </g>\n     </g>\n     <g id=\"text_2\">\n      <!-- 40 -->\n      <g transform=\"translate(120.039107 242.969937)scale(0.132 -0.132)\">\n       <defs>\n        <path d=\"M 2419 4116 \nL 825 1625 \nL 2419 1625 \nL 2419 4116 \nz\nM 2253 4666 \nL 3047 4666 \nL 3047 1625 \nL 3713 1625 \nL 3713 1100 \nL 3047 1100 \nL 3047 0 \nL 2419 0 \nL 2419 1100 \nL 313 1100 \nL 313 1709 \nL 2253 4666 \nz\n\" id=\"DejaVuSans-34\" transform=\"scale(0.015625)\"/>\n       </defs>\n       <use xlink:href=\"#DejaVuSans-34\"/>\n       <use x=\"63.623047\" xlink:href=\"#DejaVuSans-30\"/>\n      </g>\n     </g>\n    </g>\n    <g id=\"xtick_3\">\n     <g id=\"line2d_3\">\n      <g>\n       <use style=\"stroke:#000000;\" x=\"198.973791\" xlink:href=\"#m30eee03434\" y=\"224.64\"/>\n      </g>\n     </g>\n     <g id=\"text_3\">\n      <!-- 60 -->\n      <g transform=\"translate(190.575291 242.969937)scale(0.132 -0.132)\">\n       <defs>\n        <path d=\"M 2113 2584 \nQ 1688 2584 1439 2293 \nQ 1191 2003 1191 1497 \nQ 1191 994 1439 701 \nQ 1688 409 2113 409 \nQ 2538 409 2786 701 \nQ 3034 994 3034 1497 \nQ 3034 2003 2786 2293 \nQ 2538 2584 2113 2584 \nz\nM 3366 4563 \nL 3366 3988 \nQ 3128 4100 2886 4159 \nQ 2644 4219 2406 4219 \nQ 1781 4219 1451 3797 \nQ 1122 3375 1075 2522 \nQ 1259 2794 1537 2939 \nQ 1816 3084 2150 3084 \nQ 2853 3084 3261 2657 \nQ 3669 2231 3669 1497 \nQ 3669 778 3244 343 \nQ 2819 -91 2113 -91 \nQ 1303 -91 875 529 \nQ 447 1150 447 2328 \nQ 447 3434 972 4092 \nQ 1497 4750 2381 4750 \nQ 2619 4750 2861 4703 \nQ 3103 4656 3366 4563 \nz\n\" id=\"DejaVuSans-36\" transform=\"scale(0.015625)\"/>\n       </defs>\n       <use xlink:href=\"#DejaVuSans-36\"/>\n       <use x=\"63.623047\" xlink:href=\"#DejaVuSans-30\"/>\n      </g>\n     </g>\n    </g>\n    <g id=\"xtick_4\">\n     <g id=\"line2d_4\">\n      <g>\n       <use style=\"stroke:#000000;\" x=\"269.509976\" xlink:href=\"#m30eee03434\" y=\"224.64\"/>\n      </g>\n     </g>\n     <g id=\"text_4\">\n      <!-- 80 -->\n      <g transform=\"translate(261.111476 242.969937)scale(0.132 -0.132)\">\n       <defs>\n        <path d=\"M 2034 2216 \nQ 1584 2216 1326 1975 \nQ 1069 1734 1069 1313 \nQ 1069 891 1326 650 \nQ 1584 409 2034 409 \nQ 2484 409 2743 651 \nQ 3003 894 3003 1313 \nQ 3003 1734 2745 1975 \nQ 2488 2216 2034 2216 \nz\nM 1403 2484 \nQ 997 2584 770 2862 \nQ 544 3141 544 3541 \nQ 544 4100 942 4425 \nQ 1341 4750 2034 4750 \nQ 2731 4750 3128 4425 \nQ 3525 4100 3525 3541 \nQ 3525 3141 3298 2862 \nQ 3072 2584 2669 2484 \nQ 3125 2378 3379 2068 \nQ 3634 1759 3634 1313 \nQ 3634 634 3220 271 \nQ 2806 -91 2034 -91 \nQ 1263 -91 848 271 \nQ 434 634 434 1313 \nQ 434 1759 690 2068 \nQ 947 2378 1403 2484 \nz\nM 1172 3481 \nQ 1172 3119 1398 2916 \nQ 1625 2713 2034 2713 \nQ 2441 2713 2670 2916 \nQ 2900 3119 2900 3481 \nQ 2900 3844 2670 4047 \nQ 2441 4250 2034 4250 \nQ 1625 4250 1398 4047 \nQ 1172 3844 1172 3481 \nz\n\" id=\"DejaVuSans-38\" transform=\"scale(0.015625)\"/>\n       </defs>\n       <use xlink:href=\"#DejaVuSans-38\"/>\n       <use x=\"63.623047\" xlink:href=\"#DejaVuSans-30\"/>\n      </g>\n     </g>\n    </g>\n    <g id=\"xtick_5\">\n     <g id=\"line2d_5\">\n      <g>\n       <use style=\"stroke:#000000;\" x=\"340.04616\" xlink:href=\"#m30eee03434\" y=\"224.64\"/>\n      </g>\n     </g>\n     <g id=\"text_5\">\n      <!-- 100 -->\n      <g transform=\"translate(327.44841 242.969937)scale(0.132 -0.132)\">\n       <defs>\n        <path d=\"M 794 531 \nL 1825 531 \nL 1825 4091 \nL 703 3866 \nL 703 4441 \nL 1819 4666 \nL 2450 4666 \nL 2450 531 \nL 3481 531 \nL 3481 0 \nL 794 0 \nL 794 531 \nz\n\" id=\"DejaVuSans-31\" transform=\"scale(0.015625)\"/>\n       </defs>\n       <use xlink:href=\"#DejaVuSans-31\"/>\n       <use x=\"63.623047\" xlink:href=\"#DejaVuSans-30\"/>\n       <use x=\"127.246094\" xlink:href=\"#DejaVuSans-30\"/>\n      </g>\n     </g>\n    </g>\n    <g id=\"text_6\">\n     <!-- bmi -->\n     <g transform=\"translate(165.815625 260.656875)scale(0.144 -0.144)\">\n      <defs>\n       <path d=\"M 3116 1747 \nQ 3116 2381 2855 2742 \nQ 2594 3103 2138 3103 \nQ 1681 3103 1420 2742 \nQ 1159 2381 1159 1747 \nQ 1159 1113 1420 752 \nQ 1681 391 2138 391 \nQ 2594 391 2855 752 \nQ 3116 1113 3116 1747 \nz\nM 1159 2969 \nQ 1341 3281 1617 3432 \nQ 1894 3584 2278 3584 \nQ 2916 3584 3314 3078 \nQ 3713 2572 3713 1747 \nQ 3713 922 3314 415 \nQ 2916 -91 2278 -91 \nQ 1894 -91 1617 61 \nQ 1341 213 1159 525 \nL 1159 0 \nL 581 0 \nL 581 4863 \nL 1159 4863 \nL 1159 2969 \nz\n\" id=\"DejaVuSans-62\" transform=\"scale(0.015625)\"/>\n       <path d=\"M 3328 2828 \nQ 3544 3216 3844 3400 \nQ 4144 3584 4550 3584 \nQ 5097 3584 5394 3201 \nQ 5691 2819 5691 2113 \nL 5691 0 \nL 5113 0 \nL 5113 2094 \nQ 5113 2597 4934 2840 \nQ 4756 3084 4391 3084 \nQ 3944 3084 3684 2787 \nQ 3425 2491 3425 1978 \nL 3425 0 \nL 2847 0 \nL 2847 2094 \nQ 2847 2600 2669 2842 \nQ 2491 3084 2119 3084 \nQ 1678 3084 1418 2786 \nQ 1159 2488 1159 1978 \nL 1159 0 \nL 581 0 \nL 581 3500 \nL 1159 3500 \nL 1159 2956 \nQ 1356 3278 1631 3431 \nQ 1906 3584 2284 3584 \nQ 2666 3584 2933 3390 \nQ 3200 3197 3328 2828 \nz\n\" id=\"DejaVuSans-6d\" transform=\"scale(0.015625)\"/>\n       <path d=\"M 603 3500 \nL 1178 3500 \nL 1178 0 \nL 603 0 \nL 603 3500 \nz\nM 603 4863 \nL 1178 4863 \nL 1178 4134 \nL 603 4134 \nL 603 4863 \nz\n\" id=\"DejaVuSans-69\" transform=\"scale(0.015625)\"/>\n      </defs>\n      <use xlink:href=\"#DejaVuSans-62\"/>\n      <use x=\"63.476562\" xlink:href=\"#DejaVuSans-6d\"/>\n      <use x=\"160.888672\" xlink:href=\"#DejaVuSans-69\"/>\n     </g>\n    </g>\n   </g>\n   <g id=\"matplotlib.axis_2\">\n    <g id=\"ytick_1\">\n     <g id=\"line2d_6\">\n      <defs>\n       <path d=\"M 0 0 \nL -4.8 0 \n\" id=\"mead20c2157\" style=\"stroke:#000000;\"/>\n      </defs>\n      <g>\n       <use style=\"stroke:#000000;\" x=\"12\" xlink:href=\"#mead20c2157\" y=\"115.92\"/>\n      </g>\n     </g>\n    </g>\n   </g>\n   <g id=\"line2d_7\">\n    <path clip-path=\"url(#pf054a0308e)\" d=\"M 70.245254 115.92 \nL 27.218182 115.92 \n\" style=\"fill:none;stroke:#262626;stroke-linecap:square;stroke-width:1.2;\"/>\n   </g>\n   <g id=\"line2d_8\">\n    <path clip-path=\"url(#pf054a0308e)\" d=\"M 103.749942 115.92 \nL 152.419909 115.92 \n\" style=\"fill:none;stroke:#262626;stroke-linecap:square;stroke-width:1.2;\"/>\n   </g>\n   <g id=\"line2d_9\">\n    <path clip-path=\"url(#pf054a0308e)\" d=\"M 27.218182 72.432 \nL 27.218182 159.408 \n\" style=\"fill:none;stroke:#262626;stroke-linecap:square;stroke-width:1.2;\"/>\n   </g>\n   <g id=\"line2d_10\">\n    <path clip-path=\"url(#pf054a0308e)\" d=\"M 152.419909 72.432 \nL 152.419909 159.408 \n\" style=\"fill:none;stroke:#262626;stroke-linecap:square;stroke-width:1.2;\"/>\n   </g>\n   <g id=\"line2d_11\">\n    <defs>\n     <path d=\"M -0 3.535534 \nL 2.12132 0 \nL -0 -3.535534 \nL -2.12132 -0 \nz\n\" id=\"mbfa10e3e14\" style=\"stroke:#262626;stroke-linejoin:miter;\"/>\n    </defs>\n    <g clip-path=\"url(#pf054a0308e)\">\n     <use style=\"fill:#262626;stroke:#262626;stroke-linejoin:miter;\" x=\"171.81736\" xlink:href=\"#mbfa10e3e14\" y=\"115.92\"/>\n     <use style=\"fill:#262626;stroke:#262626;stroke-linejoin:miter;\" x=\"240.942821\" xlink:href=\"#mbfa10e3e14\" y=\"115.92\"/>\n     <use style=\"fill:#262626;stroke:#262626;stroke-linejoin:miter;\" x=\"199.679153\" xlink:href=\"#mbfa10e3e14\" y=\"115.92\"/>\n     <use style=\"fill:#262626;stroke:#262626;stroke-linejoin:miter;\" x=\"180.281702\" xlink:href=\"#mbfa10e3e14\" y=\"115.92\"/>\n     <use style=\"fill:#262626;stroke:#262626;stroke-linejoin:miter;\" x=\"179.929021\" xlink:href=\"#mbfa10e3e14\" y=\"115.92\"/>\n     <use style=\"fill:#262626;stroke:#262626;stroke-linejoin:miter;\" x=\"190.156768\" xlink:href=\"#mbfa10e3e14\" y=\"115.92\"/>\n     <use style=\"fill:#262626;stroke:#262626;stroke-linejoin:miter;\" x=\"173.228084\" xlink:href=\"#mbfa10e3e14\" y=\"115.92\"/>\n     <use style=\"fill:#262626;stroke:#262626;stroke-linejoin:miter;\" x=\"159.473528\" xlink:href=\"#mbfa10e3e14\" y=\"115.92\"/>\n     <use style=\"fill:#262626;stroke:#262626;stroke-linejoin:miter;\" x=\"177.107574\" xlink:href=\"#mbfa10e3e14\" y=\"115.92\"/>\n     <use style=\"fill:#262626;stroke:#262626;stroke-linejoin:miter;\" x=\"178.518298\" xlink:href=\"#mbfa10e3e14\" y=\"115.92\"/>\n     <use style=\"fill:#262626;stroke:#262626;stroke-linejoin:miter;\" x=\"156.65208\" xlink:href=\"#mbfa10e3e14\" y=\"115.92\"/>\n     <use style=\"fill:#262626;stroke:#262626;stroke-linejoin:miter;\" x=\"185.219235\" xlink:href=\"#mbfa10e3e14\" y=\"115.92\"/>\n     <use style=\"fill:#262626;stroke:#262626;stroke-linejoin:miter;\" x=\"183.808512\" xlink:href=\"#mbfa10e3e14\" y=\"115.92\"/>\n     <use style=\"fill:#262626;stroke:#262626;stroke-linejoin:miter;\" x=\"180.281702\" xlink:href=\"#mbfa10e3e14\" y=\"115.92\"/>\n     <use style=\"fill:#262626;stroke:#262626;stroke-linejoin:miter;\" x=\"163.353018\" xlink:href=\"#mbfa10e3e14\" y=\"115.92\"/>\n     <use style=\"fill:#262626;stroke:#262626;stroke-linejoin:miter;\" x=\"154.183314\" xlink:href=\"#mbfa10e3e14\" y=\"115.92\"/>\n     <use style=\"fill:#262626;stroke:#262626;stroke-linejoin:miter;\" x=\"173.228084\" xlink:href=\"#mbfa10e3e14\" y=\"115.92\"/>\n     <use style=\"fill:#262626;stroke:#262626;stroke-linejoin:miter;\" x=\"181.339745\" xlink:href=\"#mbfa10e3e14\" y=\"115.92\"/>\n     <use style=\"fill:#262626;stroke:#262626;stroke-linejoin:miter;\" x=\"159.826209\" xlink:href=\"#mbfa10e3e14\" y=\"115.92\"/>\n     <use style=\"fill:#262626;stroke:#262626;stroke-linejoin:miter;\" x=\"172.522722\" xlink:href=\"#mbfa10e3e14\" y=\"115.92\"/>\n     <use style=\"fill:#262626;stroke:#262626;stroke-linejoin:miter;\" x=\"163.000337\" xlink:href=\"#mbfa10e3e14\" y=\"115.92\"/>\n     <use style=\"fill:#262626;stroke:#262626;stroke-linejoin:miter;\" x=\"154.888676\" xlink:href=\"#mbfa10e3e14\" y=\"115.92\"/>\n     <use style=\"fill:#262626;stroke:#262626;stroke-linejoin:miter;\" x=\"163.000337\" xlink:href=\"#mbfa10e3e14\" y=\"115.92\"/>\n     <use style=\"fill:#262626;stroke:#262626;stroke-linejoin:miter;\" x=\"164.763742\" xlink:href=\"#mbfa10e3e14\" y=\"115.92\"/>\n     <use style=\"fill:#262626;stroke:#262626;stroke-linejoin:miter;\" x=\"173.580765\" xlink:href=\"#mbfa10e3e14\" y=\"115.92\"/>\n     <use style=\"fill:#262626;stroke:#262626;stroke-linejoin:miter;\" x=\"210.612262\" xlink:href=\"#mbfa10e3e14\" y=\"115.92\"/>\n     <use style=\"fill:#262626;stroke:#262626;stroke-linejoin:miter;\" x=\"170.406636\" xlink:href=\"#mbfa10e3e14\" y=\"115.92\"/>\n     <use style=\"fill:#262626;stroke:#262626;stroke-linejoin:miter;\" x=\"157.710123\" xlink:href=\"#mbfa10e3e14\" y=\"115.92\"/>\n     <use style=\"fill:#262626;stroke:#262626;stroke-linejoin:miter;\" x=\"197.915748\" xlink:href=\"#mbfa10e3e14\" y=\"115.92\"/>\n     <use style=\"fill:#262626;stroke:#262626;stroke-linejoin:miter;\" x=\"183.808512\" xlink:href=\"#mbfa10e3e14\" y=\"115.92\"/>\n     <use style=\"fill:#262626;stroke:#262626;stroke-linejoin:miter;\" x=\"161.236932\" xlink:href=\"#mbfa10e3e14\" y=\"115.92\"/>\n     <use style=\"fill:#262626;stroke:#262626;stroke-linejoin:miter;\" x=\"154.183314\" xlink:href=\"#mbfa10e3e14\" y=\"115.92\"/>\n     <use style=\"fill:#262626;stroke:#262626;stroke-linejoin:miter;\" x=\"178.870979\" xlink:href=\"#mbfa10e3e14\" y=\"115.92\"/>\n     <use style=\"fill:#262626;stroke:#262626;stroke-linejoin:miter;\" x=\"179.929021\" xlink:href=\"#mbfa10e3e14\" y=\"115.92\"/>\n     <use style=\"fill:#262626;stroke:#262626;stroke-linejoin:miter;\" x=\"164.763742\" xlink:href=\"#mbfa10e3e14\" y=\"115.92\"/>\n     <use style=\"fill:#262626;stroke:#262626;stroke-linejoin:miter;\" x=\"183.808512\" xlink:href=\"#mbfa10e3e14\" y=\"115.92\"/>\n     <use style=\"fill:#262626;stroke:#262626;stroke-linejoin:miter;\" x=\"170.406636\" xlink:href=\"#mbfa10e3e14\" y=\"115.92\"/>\n     <use style=\"fill:#262626;stroke:#262626;stroke-linejoin:miter;\" x=\"164.05838\" xlink:href=\"#mbfa10e3e14\" y=\"115.92\"/>\n     <use style=\"fill:#262626;stroke:#262626;stroke-linejoin:miter;\" x=\"177.107574\" xlink:href=\"#mbfa10e3e14\" y=\"115.92\"/>\n     <use style=\"fill:#262626;stroke:#262626;stroke-linejoin:miter;\" x=\"192.272854\" xlink:href=\"#mbfa10e3e14\" y=\"115.92\"/>\n     <use style=\"fill:#262626;stroke:#262626;stroke-linejoin:miter;\" x=\"166.879827\" xlink:href=\"#mbfa10e3e14\" y=\"115.92\"/>\n     <use style=\"fill:#262626;stroke:#262626;stroke-linejoin:miter;\" x=\"158.415485\" xlink:href=\"#mbfa10e3e14\" y=\"115.92\"/>\n     <use style=\"fill:#262626;stroke:#262626;stroke-linejoin:miter;\" x=\"165.469104\" xlink:href=\"#mbfa10e3e14\" y=\"115.92\"/>\n     <use style=\"fill:#262626;stroke:#262626;stroke-linejoin:miter;\" x=\"156.2994\" xlink:href=\"#mbfa10e3e14\" y=\"115.92\"/>\n     <use style=\"fill:#262626;stroke:#262626;stroke-linejoin:miter;\" x=\"173.933446\" xlink:href=\"#mbfa10e3e14\" y=\"115.92\"/>\n     <use style=\"fill:#262626;stroke:#262626;stroke-linejoin:miter;\" x=\"157.357442\" xlink:href=\"#mbfa10e3e14\" y=\"115.92\"/>\n     <use style=\"fill:#262626;stroke:#262626;stroke-linejoin:miter;\" x=\"155.946719\" xlink:href=\"#mbfa10e3e14\" y=\"115.92\"/>\n     <use style=\"fill:#262626;stroke:#262626;stroke-linejoin:miter;\" x=\"164.411061\" xlink:href=\"#mbfa10e3e14\" y=\"115.92\"/>\n     <use style=\"fill:#262626;stroke:#262626;stroke-linejoin:miter;\" x=\"168.995913\" xlink:href=\"#mbfa10e3e14\" y=\"115.92\"/>\n     <use style=\"fill:#262626;stroke:#262626;stroke-linejoin:miter;\" x=\"186.98264\" xlink:href=\"#mbfa10e3e14\" y=\"115.92\"/>\n     <use style=\"fill:#262626;stroke:#262626;stroke-linejoin:miter;\" x=\"262.456357\" xlink:href=\"#mbfa10e3e14\" y=\"115.92\"/>\n     <use style=\"fill:#262626;stroke:#262626;stroke-linejoin:miter;\" x=\"154.535995\" xlink:href=\"#mbfa10e3e14\" y=\"115.92\"/>\n     <use style=\"fill:#262626;stroke:#262626;stroke-linejoin:miter;\" x=\"161.236932\" xlink:href=\"#mbfa10e3e14\" y=\"115.92\"/>\n     <use style=\"fill:#262626;stroke:#262626;stroke-linejoin:miter;\" x=\"161.589613\" xlink:href=\"#mbfa10e3e14\" y=\"115.92\"/>\n     <use style=\"fill:#262626;stroke:#262626;stroke-linejoin:miter;\" x=\"164.05838\" xlink:href=\"#mbfa10e3e14\" y=\"115.92\"/>\n     <use style=\"fill:#262626;stroke:#262626;stroke-linejoin:miter;\" x=\"165.116423\" xlink:href=\"#mbfa10e3e14\" y=\"115.92\"/>\n     <use style=\"fill:#262626;stroke:#262626;stroke-linejoin:miter;\" x=\"173.580765\" xlink:href=\"#mbfa10e3e14\" y=\"115.92\"/>\n     <use style=\"fill:#262626;stroke:#262626;stroke-linejoin:miter;\" x=\"180.281702\" xlink:href=\"#mbfa10e3e14\" y=\"115.92\"/>\n     <use style=\"fill:#262626;stroke:#262626;stroke-linejoin:miter;\" x=\"331.581818\" xlink:href=\"#mbfa10e3e14\" y=\"115.92\"/>\n     <use style=\"fill:#262626;stroke:#262626;stroke-linejoin:miter;\" x=\"159.826209\" xlink:href=\"#mbfa10e3e14\" y=\"115.92\"/>\n     <use style=\"fill:#262626;stroke:#262626;stroke-linejoin:miter;\" x=\"177.460255\" xlink:href=\"#mbfa10e3e14\" y=\"115.92\"/>\n     <use style=\"fill:#262626;stroke:#262626;stroke-linejoin:miter;\" x=\"161.236932\" xlink:href=\"#mbfa10e3e14\" y=\"115.92\"/>\n     <use style=\"fill:#262626;stroke:#262626;stroke-linejoin:miter;\" x=\"177.812936\" xlink:href=\"#mbfa10e3e14\" y=\"115.92\"/>\n     <use style=\"fill:#262626;stroke:#262626;stroke-linejoin:miter;\" x=\"159.120847\" xlink:href=\"#mbfa10e3e14\" y=\"115.92\"/>\n     <use style=\"fill:#262626;stroke:#262626;stroke-linejoin:miter;\" x=\"160.884252\" xlink:href=\"#mbfa10e3e14\" y=\"115.92\"/>\n     <use style=\"fill:#262626;stroke:#262626;stroke-linejoin:miter;\" x=\"175.69685\" xlink:href=\"#mbfa10e3e14\" y=\"115.92\"/>\n     <use style=\"fill:#262626;stroke:#262626;stroke-linejoin:miter;\" x=\"176.049531\" xlink:href=\"#mbfa10e3e14\" y=\"115.92\"/>\n     <use style=\"fill:#262626;stroke:#262626;stroke-linejoin:miter;\" x=\"203.205962\" xlink:href=\"#mbfa10e3e14\" y=\"115.92\"/>\n     <use style=\"fill:#262626;stroke:#262626;stroke-linejoin:miter;\" x=\"215.902476\" xlink:href=\"#mbfa10e3e14\" y=\"115.92\"/>\n     <use style=\"fill:#262626;stroke:#262626;stroke-linejoin:miter;\" x=\"167.232508\" xlink:href=\"#mbfa10e3e14\" y=\"115.92\"/>\n     <use style=\"fill:#262626;stroke:#262626;stroke-linejoin:miter;\" x=\"157.710123\" xlink:href=\"#mbfa10e3e14\" y=\"115.92\"/>\n     <use style=\"fill:#262626;stroke:#262626;stroke-linejoin:miter;\" x=\"204.616686\" xlink:href=\"#mbfa10e3e14\" y=\"115.92\"/>\n     <use style=\"fill:#262626;stroke:#262626;stroke-linejoin:miter;\" x=\"202.14792\" xlink:href=\"#mbfa10e3e14\" y=\"115.92\"/>\n    </g>\n   </g>\n   <g id=\"line2d_12\">\n    <path clip-path=\"url(#pf054a0308e)\" d=\"M 86.115896 28.944 \nL 86.115896 202.896 \n\" style=\"fill:none;stroke:#262626;stroke-linecap:square;stroke-width:1.2;\"/>\n   </g>\n   <g id=\"patch_4\">\n    <path d=\"M 12 224.64 \nL 12 7.2 \n\" style=\"fill:none;stroke:#000000;stroke-linecap:square;stroke-linejoin:miter;\"/>\n   </g>\n   <g id=\"patch_5\">\n    <path d=\"M 346.8 224.64 \nL 346.8 7.2 \n\" style=\"fill:none;stroke:#000000;stroke-linecap:square;stroke-linejoin:miter;\"/>\n   </g>\n   <g id=\"patch_6\">\n    <path d=\"M 12 224.64 \nL 346.8 224.64 \n\" style=\"fill:none;stroke:#000000;stroke-linecap:square;stroke-linejoin:miter;\"/>\n   </g>\n   <g id=\"patch_7\">\n    <path d=\"M 12 7.2 \nL 346.8 7.2 \n\" style=\"fill:none;stroke:#000000;stroke-linecap:square;stroke-linejoin:miter;\"/>\n   </g>\n  </g>\n </g>\n <defs>\n  <clipPath id=\"pf054a0308e\">\n   <rect height=\"217.44\" width=\"334.8\" x=\"12\" y=\"7.2\"/>\n  </clipPath>\n </defs>\n</svg>\n",
      "image/png": "[encoded data removed]"
     },
     "metadata": {
      "needs_background": "light"
     }
    }
   ],
   "source": [
    "sns.boxplot(x='bmi',data=df, color = 'Green')"
   ]
  },
  {
   "cell_type": "code",
   "execution_count": 15,
   "metadata": {},
   "outputs": [
    {
     "output_type": "execute_result",
     "data": {
      "text/plain": [
       "      gender   age  hypertension  heart_disease ever_married work_type  \\\n",
       "3     Female  31.0           0.0            0.0           No   Private   \n",
       "34      Male  42.0           0.0            0.0          Yes   Private   \n",
       "77    Female  61.0           1.0            0.0          Yes   Private   \n",
       "99     Other  52.0           0.0            0.0          Yes   Private   \n",
       "180   Female  56.0           0.0            0.0          Yes   Private   \n",
       "...      ...   ...           ...            ...          ...       ...   \n",
       "3705    Male  31.0           1.0            0.0          Yes   Private   \n",
       "3836  Female  57.0           0.0            0.0          Yes  Govt_job   \n",
       "3988  Female  52.0           0.0            NaN          Yes   Private   \n",
       "3997   Other  57.0           1.0            0.0          Yes   Private   \n",
       "3998  Female  45.0           0.0            0.0          Yes   Private   \n",
       "\n",
       "     Residence_type  avg_glucose_level   bmi   smoking_status blood  height  \\\n",
       "3             Urban             108.89  52.3          Unknown     O    1.24   \n",
       "34            Rural             210.48  71.9     never smoked     A    1.05   \n",
       "77            Rural             170.05  60.2           smokes    AB    1.15   \n",
       "99            Urban              82.24  54.7  formerly smoked     O    1.21   \n",
       "180           Rural             112.43  54.6     never smoked     A    1.21   \n",
       "...             ...                ...   ...              ...   ...     ...   \n",
       "3705        Unknown             149.68  45.1     never smoked     A    1.33   \n",
       "3836        Unknown              87.10  48.3           smokes    AB    1.29   \n",
       "3988          Rural             118.46  61.6           smokes     O    1.14   \n",
       "3997          Rural             129.54  60.9           smokes    AB    1.15   \n",
       "3998        Unknown             172.33  45.3  formerly smoked     O    1.33   \n",
       "\n",
       "      stroke  \n",
       "3          0  \n",
       "34         0  \n",
       "77         0  \n",
       "99         0  \n",
       "180        0  \n",
       "...      ...  \n",
       "3705       0  \n",
       "3836       0  \n",
       "3988       0  \n",
       "3997       0  \n",
       "3998       0  \n",
       "\n",
       "[90 rows x 13 columns]"
      ],
      "text/html": "<div>\n<style scoped>\n    .dataframe tbody tr th:only-of-type {\n        vertical-align: middle;\n    }\n\n    .dataframe tbody tr th {\n        vertical-align: top;\n    }\n\n    .dataframe thead th {\n        text-align: right;\n    }\n</style>\n<table border=\"1\" class=\"dataframe\">\n  <thead>\n    <tr style=\"text-align: right;\">\n      <th></th>\n      <th>gender</th>\n      <th>age</th>\n      <th>hypertension</th>\n      <th>heart_disease</th>\n      <th>ever_married</th>\n      <th>work_type</th>\n      <th>Residence_type</th>\n      <th>avg_glucose_level</th>\n      <th>bmi</th>\n      <th>smoking_status</th>\n      <th>blood</th>\n      <th>height</th>\n      <th>stroke</th>\n    </tr>\n  </thead>\n  <tbody>\n    <tr>\n      <th>3</th>\n      <td>Female</td>\n      <td>31.0</td>\n      <td>0.0</td>\n      <td>0.0</td>\n      <td>No</td>\n      <td>Private</td>\n      <td>Urban</td>\n      <td>108.89</td>\n      <td>52.3</td>\n      <td>Unknown</td>\n      <td>O</td>\n      <td>1.24</td>\n      <td>0</td>\n    </tr>\n    <tr>\n      <th>34</th>\n      <td>Male</td>\n      <td>42.0</td>\n      <td>0.0</td>\n      <td>0.0</td>\n      <td>Yes</td>\n      <td>Private</td>\n      <td>Rural</td>\n      <td>210.48</td>\n      <td>71.9</td>\n      <td>never smoked</td>\n      <td>A</td>\n      <td>1.05</td>\n      <td>0</td>\n    </tr>\n    <tr>\n      <th>77</th>\n      <td>Female</td>\n      <td>61.0</td>\n      <td>1.0</td>\n      <td>0.0</td>\n      <td>Yes</td>\n      <td>Private</td>\n      <td>Rural</td>\n      <td>170.05</td>\n      <td>60.2</td>\n      <td>smokes</td>\n      <td>AB</td>\n      <td>1.15</td>\n      <td>0</td>\n    </tr>\n    <tr>\n      <th>99</th>\n      <td>Other</td>\n      <td>52.0</td>\n      <td>0.0</td>\n      <td>0.0</td>\n      <td>Yes</td>\n      <td>Private</td>\n      <td>Urban</td>\n      <td>82.24</td>\n      <td>54.7</td>\n      <td>formerly smoked</td>\n      <td>O</td>\n      <td>1.21</td>\n      <td>0</td>\n    </tr>\n    <tr>\n      <th>180</th>\n      <td>Female</td>\n      <td>56.0</td>\n      <td>0.0</td>\n      <td>0.0</td>\n      <td>Yes</td>\n      <td>Private</td>\n      <td>Rural</td>\n      <td>112.43</td>\n      <td>54.6</td>\n      <td>never smoked</td>\n      <td>A</td>\n      <td>1.21</td>\n      <td>0</td>\n    </tr>\n    <tr>\n      <th>...</th>\n      <td>...</td>\n      <td>...</td>\n      <td>...</td>\n      <td>...</td>\n      <td>...</td>\n      <td>...</td>\n      <td>...</td>\n      <td>...</td>\n      <td>...</td>\n      <td>...</td>\n      <td>...</td>\n      <td>...</td>\n      <td>...</td>\n    </tr>\n    <tr>\n      <th>3705</th>\n      <td>Male</td>\n      <td>31.0</td>\n      <td>1.0</td>\n      <td>0.0</td>\n      <td>Yes</td>\n      <td>Private</td>\n      <td>Unknown</td>\n      <td>149.68</td>\n      <td>45.1</td>\n      <td>never smoked</td>\n      <td>A</td>\n      <td>1.33</td>\n      <td>0</td>\n    </tr>\n    <tr>\n      <th>3836</th>\n      <td>Female</td>\n      <td>57.0</td>\n      <td>0.0</td>\n      <td>0.0</td>\n      <td>Yes</td>\n      <td>Govt_job</td>\n      <td>Unknown</td>\n      <td>87.10</td>\n      <td>48.3</td>\n      <td>smokes</td>\n      <td>AB</td>\n      <td>1.29</td>\n      <td>0</td>\n    </tr>\n    <tr>\n      <th>3988</th>\n      <td>Female</td>\n      <td>52.0</td>\n      <td>0.0</td>\n      <td>NaN</td>\n      <td>Yes</td>\n      <td>Private</td>\n      <td>Rural</td>\n      <td>118.46</td>\n      <td>61.6</td>\n      <td>smokes</td>\n      <td>O</td>\n      <td>1.14</td>\n      <td>0</td>\n    </tr>\n    <tr>\n      <th>3997</th>\n      <td>Other</td>\n      <td>57.0</td>\n      <td>1.0</td>\n      <td>0.0</td>\n      <td>Yes</td>\n      <td>Private</td>\n      <td>Rural</td>\n      <td>129.54</td>\n      <td>60.9</td>\n      <td>smokes</td>\n      <td>AB</td>\n      <td>1.15</td>\n      <td>0</td>\n    </tr>\n    <tr>\n      <th>3998</th>\n      <td>Female</td>\n      <td>45.0</td>\n      <td>0.0</td>\n      <td>0.0</td>\n      <td>Yes</td>\n      <td>Private</td>\n      <td>Unknown</td>\n      <td>172.33</td>\n      <td>45.3</td>\n      <td>formerly smoked</td>\n      <td>O</td>\n      <td>1.33</td>\n      <td>0</td>\n    </tr>\n  </tbody>\n</table>\n<p>90 rows × 13 columns</p>\n</div>"
     },
     "metadata": {},
     "execution_count": 15
    }
   ],
   "source": [
    "df.loc[df['bmi'] > 45]"
   ]
  },
  {
   "cell_type": "code",
   "execution_count": 16,
   "metadata": {},
   "outputs": [
    {
     "output_type": "execute_result",
     "data": {
      "text/plain": [
       "<AxesSubplot:xlabel='age'>"
      ]
     },
     "metadata": {},
     "execution_count": 16
    },
    {
     "output_type": "display_data",
     "data": {
      "text/plain": "<Figure size 432x288 with 1 Axes>",
      "image/svg+xml": "<?xml version=\"1.0\" encoding=\"utf-8\" standalone=\"no\"?>\n<!DOCTYPE svg PUBLIC \"-//W3C//DTD SVG 1.1//EN\"\n  \"http://www.w3.org/Graphics/SVG/1.1/DTD/svg11.dtd\">\n<svg height=\"270.851625pt\" version=\"1.1\" viewBox=\"0 0 354 270.851625\" width=\"354pt\" xmlns=\"http://www.w3.org/2000/svg\" xmlns:xlink=\"http://www.w3.org/1999/xlink\">\n <metadata>\n  <rdf:RDF xmlns:cc=\"http://creativecommons.org/ns#\" xmlns:dc=\"http://purl.org/dc/elements/1.1/\" xmlns:rdf=\"http://www.w3.org/1999/02/22-rdf-syntax-ns#\">\n   <cc:Work>\n    <dc:type rdf:resource=\"http://purl.org/dc/dcmitype/StillImage\"/>\n    <dc:date>2021-05-19T16:07:59.166016</dc:date>\n    <dc:format>image/svg+xml</dc:format>\n    <dc:creator>\n     <cc:Agent>\n      <dc:title>Matplotlib v3.4.2, https://matplotlib.org/</dc:title>\n     </cc:Agent>\n    </dc:creator>\n   </cc:Work>\n  </rdf:RDF>\n </metadata>\n <defs>\n  <style type=\"text/css\">*{stroke-linecap:butt;stroke-linejoin:round;}</style>\n </defs>\n <g id=\"figure_1\">\n  <g id=\"patch_1\">\n   <path d=\"M 0 270.851625 \nL 354 270.851625 \nL 354 0 \nL 0 0 \nz\n\" style=\"fill:none;\"/>\n  </g>\n  <g id=\"axes_1\">\n   <g id=\"patch_2\">\n    <path d=\"M 12 224.64 \nL 346.8 224.64 \nL 346.8 7.2 \nL 12 7.2 \nz\n\" style=\"fill:#ffffff;\"/>\n   </g>\n   <g id=\"patch_3\">\n    <path clip-path=\"url(#pc4a828083b)\" d=\"M 119.805362 28.944 \nL 119.805362 202.896 \nL 253.558913 202.896 \nL 253.558913 28.944 \nL 119.805362 28.944 \nz\n\" style=\"fill:#2020df;stroke:#4c4c4c;stroke-linejoin:miter;stroke-width:1.2;\"/>\n   </g>\n   <g id=\"matplotlib.axis_1\">\n    <g id=\"xtick_1\">\n     <g id=\"line2d_1\">\n      <defs>\n       <path d=\"M 0 0 \nL 0 4.8 \n\" id=\"m53812f4d46\" style=\"stroke:#000000;\"/>\n      </defs>\n      <g>\n       <use style=\"stroke:#000000;\" x=\"26.920952\" xlink:href=\"#m53812f4d46\" y=\"224.64\"/>\n      </g>\n     </g>\n     <g id=\"text_1\">\n      <!-- 0 -->\n      <g transform=\"translate(22.721702 242.969937)scale(0.132 -0.132)\">\n       <defs>\n        <path d=\"M 2034 4250 \nQ 1547 4250 1301 3770 \nQ 1056 3291 1056 2328 \nQ 1056 1369 1301 889 \nQ 1547 409 2034 409 \nQ 2525 409 2770 889 \nQ 3016 1369 3016 2328 \nQ 3016 3291 2770 3770 \nQ 2525 4250 2034 4250 \nz\nM 2034 4750 \nQ 2819 4750 3233 4129 \nQ 3647 3509 3647 2328 \nQ 3647 1150 3233 529 \nQ 2819 -91 2034 -91 \nQ 1250 -91 836 529 \nQ 422 1150 422 2328 \nQ 422 3509 836 4129 \nQ 1250 4750 2034 4750 \nz\n\" id=\"DejaVuSans-30\" transform=\"scale(0.015625)\"/>\n       </defs>\n       <use xlink:href=\"#DejaVuSans-30\"/>\n      </g>\n     </g>\n    </g>\n    <g id=\"xtick_2\">\n     <g id=\"line2d_2\">\n      <g>\n       <use style=\"stroke:#000000;\" x=\"101.22848\" xlink:href=\"#m53812f4d46\" y=\"224.64\"/>\n      </g>\n     </g>\n     <g id=\"text_2\">\n      <!-- 20 -->\n      <g transform=\"translate(92.82998 242.969937)scale(0.132 -0.132)\">\n       <defs>\n        <path d=\"M 1228 531 \nL 3431 531 \nL 3431 0 \nL 469 0 \nL 469 531 \nQ 828 903 1448 1529 \nQ 2069 2156 2228 2338 \nQ 2531 2678 2651 2914 \nQ 2772 3150 2772 3378 \nQ 2772 3750 2511 3984 \nQ 2250 4219 1831 4219 \nQ 1534 4219 1204 4116 \nQ 875 4013 500 3803 \nL 500 4441 \nQ 881 4594 1212 4672 \nQ 1544 4750 1819 4750 \nQ 2544 4750 2975 4387 \nQ 3406 4025 3406 3419 \nQ 3406 3131 3298 2873 \nQ 3191 2616 2906 2266 \nQ 2828 2175 2409 1742 \nQ 1991 1309 1228 531 \nz\n\" id=\"DejaVuSans-32\" transform=\"scale(0.015625)\"/>\n       </defs>\n       <use xlink:href=\"#DejaVuSans-32\"/>\n       <use x=\"63.623047\" xlink:href=\"#DejaVuSans-30\"/>\n      </g>\n     </g>\n    </g>\n    <g id=\"xtick_3\">\n     <g id=\"line2d_3\">\n      <g>\n       <use style=\"stroke:#000000;\" x=\"175.536009\" xlink:href=\"#m53812f4d46\" y=\"224.64\"/>\n      </g>\n     </g>\n     <g id=\"text_3\">\n      <!-- 40 -->\n      <g transform=\"translate(167.137509 242.969937)scale(0.132 -0.132)\">\n       <defs>\n        <path d=\"M 2419 4116 \nL 825 1625 \nL 2419 1625 \nL 2419 4116 \nz\nM 2253 4666 \nL 3047 4666 \nL 3047 1625 \nL 3713 1625 \nL 3713 1100 \nL 3047 1100 \nL 3047 0 \nL 2419 0 \nL 2419 1100 \nL 313 1100 \nL 313 1709 \nL 2253 4666 \nz\n\" id=\"DejaVuSans-34\" transform=\"scale(0.015625)\"/>\n       </defs>\n       <use xlink:href=\"#DejaVuSans-34\"/>\n       <use x=\"63.623047\" xlink:href=\"#DejaVuSans-30\"/>\n      </g>\n     </g>\n    </g>\n    <g id=\"xtick_4\">\n     <g id=\"line2d_4\">\n      <g>\n       <use style=\"stroke:#000000;\" x=\"249.843537\" xlink:href=\"#m53812f4d46\" y=\"224.64\"/>\n      </g>\n     </g>\n     <g id=\"text_4\">\n      <!-- 60 -->\n      <g transform=\"translate(241.445037 242.969937)scale(0.132 -0.132)\">\n       <defs>\n        <path d=\"M 2113 2584 \nQ 1688 2584 1439 2293 \nQ 1191 2003 1191 1497 \nQ 1191 994 1439 701 \nQ 1688 409 2113 409 \nQ 2538 409 2786 701 \nQ 3034 994 3034 1497 \nQ 3034 2003 2786 2293 \nQ 2538 2584 2113 2584 \nz\nM 3366 4563 \nL 3366 3988 \nQ 3128 4100 2886 4159 \nQ 2644 4219 2406 4219 \nQ 1781 4219 1451 3797 \nQ 1122 3375 1075 2522 \nQ 1259 2794 1537 2939 \nQ 1816 3084 2150 3084 \nQ 2853 3084 3261 2657 \nQ 3669 2231 3669 1497 \nQ 3669 778 3244 343 \nQ 2819 -91 2113 -91 \nQ 1303 -91 875 529 \nQ 447 1150 447 2328 \nQ 447 3434 972 4092 \nQ 1497 4750 2381 4750 \nQ 2619 4750 2861 4703 \nQ 3103 4656 3366 4563 \nz\n\" id=\"DejaVuSans-36\" transform=\"scale(0.015625)\"/>\n       </defs>\n       <use xlink:href=\"#DejaVuSans-36\"/>\n       <use x=\"63.623047\" xlink:href=\"#DejaVuSans-30\"/>\n      </g>\n     </g>\n    </g>\n    <g id=\"xtick_5\">\n     <g id=\"line2d_5\">\n      <g>\n       <use style=\"stroke:#000000;\" x=\"324.151065\" xlink:href=\"#m53812f4d46\" y=\"224.64\"/>\n      </g>\n     </g>\n     <g id=\"text_5\">\n      <!-- 80 -->\n      <g transform=\"translate(315.752565 242.969937)scale(0.132 -0.132)\">\n       <defs>\n        <path d=\"M 2034 2216 \nQ 1584 2216 1326 1975 \nQ 1069 1734 1069 1313 \nQ 1069 891 1326 650 \nQ 1584 409 2034 409 \nQ 2484 409 2743 651 \nQ 3003 894 3003 1313 \nQ 3003 1734 2745 1975 \nQ 2488 2216 2034 2216 \nz\nM 1403 2484 \nQ 997 2584 770 2862 \nQ 544 3141 544 3541 \nQ 544 4100 942 4425 \nQ 1341 4750 2034 4750 \nQ 2731 4750 3128 4425 \nQ 3525 4100 3525 3541 \nQ 3525 3141 3298 2862 \nQ 3072 2584 2669 2484 \nQ 3125 2378 3379 2068 \nQ 3634 1759 3634 1313 \nQ 3634 634 3220 271 \nQ 2806 -91 2034 -91 \nQ 1263 -91 848 271 \nQ 434 634 434 1313 \nQ 434 1759 690 2068 \nQ 947 2378 1403 2484 \nz\nM 1172 3481 \nQ 1172 3119 1398 2916 \nQ 1625 2713 2034 2713 \nQ 2441 2713 2670 2916 \nQ 2900 3119 2900 3481 \nQ 2900 3844 2670 4047 \nQ 2441 4250 2034 4250 \nQ 1625 4250 1398 4047 \nQ 1172 3844 1172 3481 \nz\n\" id=\"DejaVuSans-38\" transform=\"scale(0.015625)\"/>\n       </defs>\n       <use xlink:href=\"#DejaVuSans-38\"/>\n       <use x=\"63.623047\" xlink:href=\"#DejaVuSans-30\"/>\n      </g>\n     </g>\n    </g>\n    <g id=\"text_6\">\n     <!-- age -->\n     <g transform=\"translate(165.986625 260.656875)scale(0.144 -0.144)\">\n      <defs>\n       <path d=\"M 2194 1759 \nQ 1497 1759 1228 1600 \nQ 959 1441 959 1056 \nQ 959 750 1161 570 \nQ 1363 391 1709 391 \nQ 2188 391 2477 730 \nQ 2766 1069 2766 1631 \nL 2766 1759 \nL 2194 1759 \nz\nM 3341 1997 \nL 3341 0 \nL 2766 0 \nL 2766 531 \nQ 2569 213 2275 61 \nQ 1981 -91 1556 -91 \nQ 1019 -91 701 211 \nQ 384 513 384 1019 \nQ 384 1609 779 1909 \nQ 1175 2209 1959 2209 \nL 2766 2209 \nL 2766 2266 \nQ 2766 2663 2505 2880 \nQ 2244 3097 1772 3097 \nQ 1472 3097 1187 3025 \nQ 903 2953 641 2809 \nL 641 3341 \nQ 956 3463 1253 3523 \nQ 1550 3584 1831 3584 \nQ 2591 3584 2966 3190 \nQ 3341 2797 3341 1997 \nz\n\" id=\"DejaVuSans-61\" transform=\"scale(0.015625)\"/>\n       <path d=\"M 2906 1791 \nQ 2906 2416 2648 2759 \nQ 2391 3103 1925 3103 \nQ 1463 3103 1205 2759 \nQ 947 2416 947 1791 \nQ 947 1169 1205 825 \nQ 1463 481 1925 481 \nQ 2391 481 2648 825 \nQ 2906 1169 2906 1791 \nz\nM 3481 434 \nQ 3481 -459 3084 -895 \nQ 2688 -1331 1869 -1331 \nQ 1566 -1331 1297 -1286 \nQ 1028 -1241 775 -1147 \nL 775 -588 \nQ 1028 -725 1275 -790 \nQ 1522 -856 1778 -856 \nQ 2344 -856 2625 -561 \nQ 2906 -266 2906 331 \nL 2906 616 \nQ 2728 306 2450 153 \nQ 2172 0 1784 0 \nQ 1141 0 747 490 \nQ 353 981 353 1791 \nQ 353 2603 747 3093 \nQ 1141 3584 1784 3584 \nQ 2172 3584 2450 3431 \nQ 2728 3278 2906 2969 \nL 2906 3500 \nL 3481 3500 \nL 3481 434 \nz\n\" id=\"DejaVuSans-67\" transform=\"scale(0.015625)\"/>\n       <path d=\"M 3597 1894 \nL 3597 1613 \nL 953 1613 \nQ 991 1019 1311 708 \nQ 1631 397 2203 397 \nQ 2534 397 2845 478 \nQ 3156 559 3463 722 \nL 3463 178 \nQ 3153 47 2828 -22 \nQ 2503 -91 2169 -91 \nQ 1331 -91 842 396 \nQ 353 884 353 1716 \nQ 353 2575 817 3079 \nQ 1281 3584 2069 3584 \nQ 2775 3584 3186 3129 \nQ 3597 2675 3597 1894 \nz\nM 3022 2063 \nQ 3016 2534 2758 2815 \nQ 2500 3097 2075 3097 \nQ 1594 3097 1305 2825 \nQ 1016 2553 972 2059 \nL 3022 2063 \nz\n\" id=\"DejaVuSans-65\" transform=\"scale(0.015625)\"/>\n      </defs>\n      <use xlink:href=\"#DejaVuSans-61\"/>\n      <use x=\"61.279297\" xlink:href=\"#DejaVuSans-67\"/>\n      <use x=\"124.755859\" xlink:href=\"#DejaVuSans-65\"/>\n     </g>\n    </g>\n   </g>\n   <g id=\"matplotlib.axis_2\">\n    <g id=\"ytick_1\">\n     <g id=\"line2d_6\">\n      <defs>\n       <path d=\"M 0 0 \nL -4.8 0 \n\" id=\"m7b864d4049\" style=\"stroke:#000000;\"/>\n      </defs>\n      <g>\n       <use style=\"stroke:#000000;\" x=\"12\" xlink:href=\"#m7b864d4049\" y=\"115.92\"/>\n      </g>\n     </g>\n    </g>\n   </g>\n   <g id=\"line2d_7\">\n    <path clip-path=\"url(#pc4a828083b)\" d=\"M 119.805362 115.92 \nL 27.218182 115.92 \n\" style=\"fill:none;stroke:#4c4c4c;stroke-linecap:square;stroke-width:1.2;\"/>\n   </g>\n   <g id=\"line2d_8\">\n    <path clip-path=\"url(#pc4a828083b)\" d=\"M 253.558913 115.92 \nL 331.581818 115.92 \n\" style=\"fill:none;stroke:#4c4c4c;stroke-linecap:square;stroke-width:1.2;\"/>\n   </g>\n   <g id=\"line2d_9\">\n    <path clip-path=\"url(#pc4a828083b)\" d=\"M 27.218182 72.432 \nL 27.218182 159.408 \n\" style=\"fill:none;stroke:#4c4c4c;stroke-linecap:square;stroke-width:1.2;\"/>\n   </g>\n   <g id=\"line2d_10\">\n    <path clip-path=\"url(#pc4a828083b)\" d=\"M 331.581818 72.432 \nL 331.581818 159.408 \n\" style=\"fill:none;stroke:#4c4c4c;stroke-linecap:square;stroke-width:1.2;\"/>\n   </g>\n   <g id=\"line2d_11\"/>\n   <g id=\"line2d_12\">\n    <path clip-path=\"url(#pc4a828083b)\" d=\"M 194.112891 28.944 \nL 194.112891 202.896 \n\" style=\"fill:none;stroke:#4c4c4c;stroke-linecap:square;stroke-width:1.2;\"/>\n   </g>\n   <g id=\"patch_4\">\n    <path d=\"M 12 224.64 \nL 12 7.2 \n\" style=\"fill:none;stroke:#000000;stroke-linecap:square;stroke-linejoin:miter;\"/>\n   </g>\n   <g id=\"patch_5\">\n    <path d=\"M 346.8 224.64 \nL 346.8 7.2 \n\" style=\"fill:none;stroke:#000000;stroke-linecap:square;stroke-linejoin:miter;\"/>\n   </g>\n   <g id=\"patch_6\">\n    <path d=\"M 12 224.64 \nL 346.8 224.64 \n\" style=\"fill:none;stroke:#000000;stroke-linecap:square;stroke-linejoin:miter;\"/>\n   </g>\n   <g id=\"patch_7\">\n    <path d=\"M 12 7.2 \nL 346.8 7.2 \n\" style=\"fill:none;stroke:#000000;stroke-linecap:square;stroke-linejoin:miter;\"/>\n   </g>\n  </g>\n </g>\n <defs>\n  <clipPath id=\"pc4a828083b\">\n   <rect height=\"217.44\" width=\"334.8\" x=\"12\" y=\"7.2\"/>\n  </clipPath>\n </defs>\n</svg>\n",
      "image/png": "[encoded data removed]"
     },
     "metadata": {
      "needs_background": "light"
     }
    }
   ],
   "source": [
    "sns.boxplot(x='age',data=df , color = 'Blue')"
   ]
  },
  {
   "cell_type": "code",
   "execution_count": 17,
   "metadata": {},
   "outputs": [
    {
     "output_type": "execute_result",
     "data": {
      "text/plain": [
       "Index(['gender', 'age', 'hypertension', 'heart_disease', 'ever_married',\n",
       "       'work_type', 'Residence_type', 'avg_glucose_level', 'bmi',\n",
       "       'smoking_status', 'blood', 'height', 'stroke'],\n",
       "      dtype='object')"
      ]
     },
     "metadata": {},
     "execution_count": 17
    }
   ],
   "source": [
    "df.columns"
   ]
  },
  {
   "cell_type": "code",
   "execution_count": 18,
   "metadata": {},
   "outputs": [
    {
     "output_type": "stream",
     "name": "stdout",
     "text": [
      "Value counts: \n\nFemale    2218\nMale      1625\nOther      157\nName: gender, dtype: int64\n\n\n52.00    78\n57.00    71\n53.00    70\n50.00    69\n78.00    69\n         ..\n0.48      2\n0.72      2\n0.08      2\n1.16      2\n0.40      1\nName: age, Length: 104, dtype: int64\n\n\n0.0    3402\n1.0     368\nName: hypertension, dtype: int64\n\n\n0.0    3694\n1.0     216\nName: heart_disease, dtype: int64\n\n\nYes    2626\nNo     1374\nName: ever_married, dtype: int64\n\n\nPrivate          2305\nSelf-employed     631\nchildren          539\nGovt_job          508\nNever_worked       17\nName: work_type, dtype: int64\n\n\nUnknown    1987\nUrban      1018\nRural       995\nName: Residence_type, dtype: int64\n\n\n91.85     5\n93.88     5\n79.89     4\n114.32    4\n93.55     4\n         ..\n68.38     1\n89.83     1\n147.50    1\n198.33    1\n60.50     1\nName: avg_glucose_level, Length: 3179, dtype: int64\n\n\n27.6    25\n27.0    24\n27.7    24\n28.7    23\n26.9    23\n        ..\n55.0     1\n40.0     1\n36.5     1\n44.6     1\n54.0     1\nName: bmi, Length: 381, dtype: int64\n\n\nnever smoked       1467\nUnknown            1226\nformerly smoked     686\nsmokes              621\nName: smoking_status, dtype: int64\n\n\nAB    1544\nA      841\nB      829\nO      776\nName: blood, dtype: int64\n\n\n1.66    94\n1.68    91\n1.71    83\n1.64    81\n1.70    78\n        ..\n0.91     1\n1.05     1\n1.01     1\n1.16     1\n1.09     1\nName: height, Length: 78, dtype: int64\n\n\n0    3870\n1     130\nName: stroke, dtype: int64\n\n\n"
     ]
    }
   ],
   "source": [
    "# unknown_feature = ['gender', 'hypertension', 'heart_disease', 'Residence_type', 'smoking_status','ever_married', 'blood', 'work_type', 'stroke']\n",
    "unknown_feature = df.columns\n",
    "print('Value counts: \\n')\n",
    "for i in unknown_feature:\n",
    "    print(df[i].value_counts())\n",
    "    print('\\n')"
   ]
  },
  {
   "cell_type": "code",
   "execution_count": 19,
   "metadata": {},
   "outputs": [
    {
     "output_type": "stream",
     "name": "stdout",
     "text": [
      "Value percent: \nFemale    55.450\nMale      40.625\nOther      3.925\nName: gender, dtype: float64\n\n\n52.00    2.003596\n57.00    1.823786\n53.00    1.798099\n50.00    1.772412\n78.00    1.772412\n           ...   \n0.48     0.051374\n0.72     0.051374\n0.08     0.051374\n1.16     0.051374\n0.40     0.025687\nName: age, Length: 104, dtype: float64\n\n\n0.0    90.238727\n1.0     9.761273\nName: hypertension, dtype: float64\n\n\n0.0    94.475703\n1.0     5.524297\nName: heart_disease, dtype: float64\n\n\nYes    65.65\nNo     34.35\nName: ever_married, dtype: float64\n\n\nPrivate          57.625\nSelf-employed    15.775\nchildren         13.475\nGovt_job         12.700\nNever_worked      0.425\nName: work_type, dtype: float64\n\n\nUnknown    49.675\nUrban      25.450\nRural      24.875\nName: Residence_type, dtype: float64\n\n\n91.85     0.130582\n93.88     0.130582\n79.89     0.104466\n114.32    0.104466\n93.55     0.104466\n            ...   \n68.38     0.026116\n89.83     0.026116\n147.50    0.026116\n198.33    0.026116\n60.50     0.026116\nName: avg_glucose_level, Length: 3179, dtype: float64\n\n\n27.6    0.866852\n27.0    0.832178\n27.7    0.832178\n28.7    0.797503\n26.9    0.797503\n          ...   \n55.0    0.034674\n40.0    0.034674\n36.5    0.034674\n44.6    0.034674\n54.0    0.034674\nName: bmi, Length: 381, dtype: float64\n\n\nnever smoked       36.675\nUnknown            30.650\nformerly smoked    17.150\nsmokes             15.525\nName: smoking_status, dtype: float64\n\n\nAB    38.696742\nA     21.077694\nB     20.776942\nO     19.448622\nName: blood, dtype: float64\n\n\n1.66    3.210383\n1.68    3.107923\n1.71    2.834699\n1.64    2.766393\n1.70    2.663934\n          ...   \n0.91    0.034153\n1.05    0.034153\n1.01    0.034153\n1.16    0.034153\n1.09    0.034153\nName: height, Length: 78, dtype: float64\n\n\n0    96.75\n1     3.25\nName: stroke, dtype: float64\n\n\n"
     ]
    }
   ],
   "source": [
    "print('Value percent: ')\n",
    "for i in unknown_feature:\n",
    "    print(df[i].value_counts(normalize=True)*100)\n",
    "    print('\\n')"
   ]
  },
  {
   "source": [
    "## Preprocessing Data"
   ],
   "cell_type": "markdown",
   "metadata": {}
  },
  {
   "source": [
    "### fill 'age' and 'bmi' mean values"
   ],
   "cell_type": "markdown",
   "metadata": {}
  },
  {
   "cell_type": "code",
   "execution_count": 20,
   "metadata": {},
   "outputs": [
    {
     "output_type": "execute_result",
     "data": {
      "text/plain": [
       "      gender        age  hypertension  heart_disease ever_married work_type  \\\n",
       "0     Female  43.071256           0.0            0.0           No  children   \n",
       "1       Male  55.000000           0.0            0.0          Yes   Private   \n",
       "2     Female  42.000000           0.0            0.0           No   Private   \n",
       "3     Female  31.000000           0.0            0.0           No   Private   \n",
       "4     Female  38.000000           0.0            0.0          Yes   Private   \n",
       "...      ...        ...           ...            ...          ...       ...   \n",
       "3995    Male  16.000000           0.0            0.0           No   Private   \n",
       "3996    Male  47.000000           0.0            0.0          Yes   Private   \n",
       "3997   Other  57.000000           1.0            0.0          Yes   Private   \n",
       "3998  Female  45.000000           0.0            0.0          Yes   Private   \n",
       "3999  Female  53.000000           1.0            0.0          Yes   Private   \n",
       "\n",
       "     Residence_type  avg_glucose_level   bmi   smoking_status blood  height  \\\n",
       "0           Unknown              85.81  18.6          Unknown     O     NaN   \n",
       "1             Urban              89.17   NaN     never smoked     B    1.59   \n",
       "2           Unknown              98.53  18.5     never smoked     B     NaN   \n",
       "3             Urban             108.89  52.3          Unknown     O    1.24   \n",
       "4           Unknown              91.44   NaN          Unknown     O     NaN   \n",
       "...             ...                ...   ...              ...   ...     ...   \n",
       "3995        Unknown              99.49  22.0          Unknown     B     NaN   \n",
       "3996          Rural              75.30  25.0  formerly smoked     B    1.79   \n",
       "3997          Rural             129.54  60.9           smokes    AB    1.15   \n",
       "3998        Unknown             172.33  45.3  formerly smoked     O    1.33   \n",
       "3999          Urban              62.55  30.3          Unknown     O    1.62   \n",
       "\n",
       "      stroke  \n",
       "0          0  \n",
       "1          0  \n",
       "2          0  \n",
       "3          0  \n",
       "4          0  \n",
       "...      ...  \n",
       "3995       0  \n",
       "3996       0  \n",
       "3997       0  \n",
       "3998       0  \n",
       "3999       1  \n",
       "\n",
       "[4000 rows x 13 columns]"
      ],
      "text/html": "<div>\n<style scoped>\n    .dataframe tbody tr th:only-of-type {\n        vertical-align: middle;\n    }\n\n    .dataframe tbody tr th {\n        vertical-align: top;\n    }\n\n    .dataframe thead th {\n        text-align: right;\n    }\n</style>\n<table border=\"1\" class=\"dataframe\">\n  <thead>\n    <tr style=\"text-align: right;\">\n      <th></th>\n      <th>gender</th>\n      <th>age</th>\n      <th>hypertension</th>\n      <th>heart_disease</th>\n      <th>ever_married</th>\n      <th>work_type</th>\n      <th>Residence_type</th>\n      <th>avg_glucose_level</th>\n      <th>bmi</th>\n      <th>smoking_status</th>\n      <th>blood</th>\n      <th>height</th>\n      <th>stroke</th>\n    </tr>\n  </thead>\n  <tbody>\n    <tr>\n      <th>0</th>\n      <td>Female</td>\n      <td>43.071256</td>\n      <td>0.0</td>\n      <td>0.0</td>\n      <td>No</td>\n      <td>children</td>\n      <td>Unknown</td>\n      <td>85.81</td>\n      <td>18.6</td>\n      <td>Unknown</td>\n      <td>O</td>\n      <td>NaN</td>\n      <td>0</td>\n    </tr>\n    <tr>\n      <th>1</th>\n      <td>Male</td>\n      <td>55.000000</td>\n      <td>0.0</td>\n      <td>0.0</td>\n      <td>Yes</td>\n      <td>Private</td>\n      <td>Urban</td>\n      <td>89.17</td>\n      <td>NaN</td>\n      <td>never smoked</td>\n      <td>B</td>\n      <td>1.59</td>\n      <td>0</td>\n    </tr>\n    <tr>\n      <th>2</th>\n      <td>Female</td>\n      <td>42.000000</td>\n      <td>0.0</td>\n      <td>0.0</td>\n      <td>No</td>\n      <td>Private</td>\n      <td>Unknown</td>\n      <td>98.53</td>\n      <td>18.5</td>\n      <td>never smoked</td>\n      <td>B</td>\n      <td>NaN</td>\n      <td>0</td>\n    </tr>\n    <tr>\n      <th>3</th>\n      <td>Female</td>\n      <td>31.000000</td>\n      <td>0.0</td>\n      <td>0.0</td>\n      <td>No</td>\n      <td>Private</td>\n      <td>Urban</td>\n      <td>108.89</td>\n      <td>52.3</td>\n      <td>Unknown</td>\n      <td>O</td>\n      <td>1.24</td>\n      <td>0</td>\n    </tr>\n    <tr>\n      <th>4</th>\n      <td>Female</td>\n      <td>38.000000</td>\n      <td>0.0</td>\n      <td>0.0</td>\n      <td>Yes</td>\n      <td>Private</td>\n      <td>Unknown</td>\n      <td>91.44</td>\n      <td>NaN</td>\n      <td>Unknown</td>\n      <td>O</td>\n      <td>NaN</td>\n      <td>0</td>\n    </tr>\n    <tr>\n      <th>...</th>\n      <td>...</td>\n      <td>...</td>\n      <td>...</td>\n      <td>...</td>\n      <td>...</td>\n      <td>...</td>\n      <td>...</td>\n      <td>...</td>\n      <td>...</td>\n      <td>...</td>\n      <td>...</td>\n      <td>...</td>\n      <td>...</td>\n    </tr>\n    <tr>\n      <th>3995</th>\n      <td>Male</td>\n      <td>16.000000</td>\n      <td>0.0</td>\n      <td>0.0</td>\n      <td>No</td>\n      <td>Private</td>\n      <td>Unknown</td>\n      <td>99.49</td>\n      <td>22.0</td>\n      <td>Unknown</td>\n      <td>B</td>\n      <td>NaN</td>\n      <td>0</td>\n    </tr>\n    <tr>\n      <th>3996</th>\n      <td>Male</td>\n      <td>47.000000</td>\n      <td>0.0</td>\n      <td>0.0</td>\n      <td>Yes</td>\n      <td>Private</td>\n      <td>Rural</td>\n      <td>75.30</td>\n      <td>25.0</td>\n      <td>formerly smoked</td>\n      <td>B</td>\n      <td>1.79</td>\n      <td>0</td>\n    </tr>\n    <tr>\n      <th>3997</th>\n      <td>Other</td>\n      <td>57.000000</td>\n      <td>1.0</td>\n      <td>0.0</td>\n      <td>Yes</td>\n      <td>Private</td>\n      <td>Rural</td>\n      <td>129.54</td>\n      <td>60.9</td>\n      <td>smokes</td>\n      <td>AB</td>\n      <td>1.15</td>\n      <td>0</td>\n    </tr>\n    <tr>\n      <th>3998</th>\n      <td>Female</td>\n      <td>45.000000</td>\n      <td>0.0</td>\n      <td>0.0</td>\n      <td>Yes</td>\n      <td>Private</td>\n      <td>Unknown</td>\n      <td>172.33</td>\n      <td>45.3</td>\n      <td>formerly smoked</td>\n      <td>O</td>\n      <td>1.33</td>\n      <td>0</td>\n    </tr>\n    <tr>\n      <th>3999</th>\n      <td>Female</td>\n      <td>53.000000</td>\n      <td>1.0</td>\n      <td>0.0</td>\n      <td>Yes</td>\n      <td>Private</td>\n      <td>Urban</td>\n      <td>62.55</td>\n      <td>30.3</td>\n      <td>Unknown</td>\n      <td>O</td>\n      <td>1.62</td>\n      <td>1</td>\n    </tr>\n  </tbody>\n</table>\n<p>4000 rows × 13 columns</p>\n</div>"
     },
     "metadata": {},
     "execution_count": 20
    }
   ],
   "source": [
    "df['age'] = df['age'].fillna(np.mean(df['age']))\n",
    "df"
   ]
  },
  {
   "cell_type": "code",
   "execution_count": 21,
   "metadata": {},
   "outputs": [
    {
     "output_type": "execute_result",
     "data": {
      "text/plain": [
       "3    1001\n",
       "4     976\n",
       "2     711\n",
       "5     707\n",
       "1     605\n",
       "Name: age_bin, dtype: int64"
      ]
     },
     "metadata": {},
     "execution_count": 21
    }
   ],
   "source": [
    "labels = [1,2,3,4,5]\n",
    "df[\"age_bin\"] = pd.cut(df[\"age\"], 5, labels=labels)\n",
    "df['age_bin'].value_counts()"
   ]
  },
  {
   "cell_type": "code",
   "execution_count": 22,
   "metadata": {},
   "outputs": [
    {
     "output_type": "execute_result",
     "data": {
      "text/plain": [
       "age_bin\n",
       "1    20.715509\n",
       "2    28.814368\n",
       "3    31.020136\n",
       "4    31.480000\n",
       "5    29.288200\n",
       "Name: bmi, dtype: float64"
      ]
     },
     "metadata": {},
     "execution_count": 22
    }
   ],
   "source": [
    "gb_bmi = df.groupby(\"age_bin\")[\"bmi\"].mean()\n",
    "gb_bmi"
   ]
  },
  {
   "cell_type": "code",
   "execution_count": 23,
   "metadata": {},
   "outputs": [],
   "source": [
    "def impute_bmi(cols):\n",
    "    bmi = cols[0]\n",
    "    age_bin = cols[1]\n",
    "    \n",
    "    if pd.isnull(bmi):\n",
    "        if age_bin == 1:\n",
    "            return 20.715509\n",
    "        elif age_bin == 2:\n",
    "            return 28.814368\n",
    "        elif age_bin == 3:\n",
    "            return 31.020136\n",
    "        elif age_bin == 4:\n",
    "            return 31.480000\n",
    "        elif age_bin == 5:\n",
    "            return 29.288200\n",
    "    else:\n",
    "        return bmi"
   ]
  },
  {
   "cell_type": "code",
   "execution_count": 24,
   "metadata": {},
   "outputs": [
    {
     "output_type": "execute_result",
     "data": {
      "text/plain": [
       "0       18.600000\n",
       "1       31.480000\n",
       "2       18.500000\n",
       "3       52.300000\n",
       "4       31.020136\n",
       "          ...    \n",
       "3995    22.000000\n",
       "3996    25.000000\n",
       "3997    60.900000\n",
       "3998    45.300000\n",
       "3999    30.300000\n",
       "Name: bmi, Length: 4000, dtype: float64"
      ]
     },
     "metadata": {},
     "execution_count": 24
    }
   ],
   "source": [
    "df[\"bmi\"] = df[[\"bmi\",\"age_bin\"]].apply(impute_bmi, axis=1)\n",
    "df['bmi']"
   ]
  },
  {
   "cell_type": "code",
   "execution_count": 25,
   "metadata": {},
   "outputs": [
    {
     "output_type": "execute_result",
     "data": {
      "text/plain": [
       "                   Total  Percent\n",
       "height              1072  0.26800\n",
       "hypertension         230  0.05750\n",
       "avg_glucose_level    171  0.04275\n",
       "heart_disease         90  0.02250\n",
       "blood                 10  0.00250\n",
       "gender                 0  0.00000\n",
       "age                    0  0.00000\n",
       "ever_married           0  0.00000\n",
       "work_type              0  0.00000\n",
       "Residence_type         0  0.00000\n",
       "bmi                    0  0.00000\n",
       "smoking_status         0  0.00000\n",
       "stroke                 0  0.00000\n",
       "age_bin                0  0.00000"
      ],
      "text/html": "<div>\n<style scoped>\n    .dataframe tbody tr th:only-of-type {\n        vertical-align: middle;\n    }\n\n    .dataframe tbody tr th {\n        vertical-align: top;\n    }\n\n    .dataframe thead th {\n        text-align: right;\n    }\n</style>\n<table border=\"1\" class=\"dataframe\">\n  <thead>\n    <tr style=\"text-align: right;\">\n      <th></th>\n      <th>Total</th>\n      <th>Percent</th>\n    </tr>\n  </thead>\n  <tbody>\n    <tr>\n      <th>height</th>\n      <td>1072</td>\n      <td>0.26800</td>\n    </tr>\n    <tr>\n      <th>hypertension</th>\n      <td>230</td>\n      <td>0.05750</td>\n    </tr>\n    <tr>\n      <th>avg_glucose_level</th>\n      <td>171</td>\n      <td>0.04275</td>\n    </tr>\n    <tr>\n      <th>heart_disease</th>\n      <td>90</td>\n      <td>0.02250</td>\n    </tr>\n    <tr>\n      <th>blood</th>\n      <td>10</td>\n      <td>0.00250</td>\n    </tr>\n    <tr>\n      <th>gender</th>\n      <td>0</td>\n      <td>0.00000</td>\n    </tr>\n    <tr>\n      <th>age</th>\n      <td>0</td>\n      <td>0.00000</td>\n    </tr>\n    <tr>\n      <th>ever_married</th>\n      <td>0</td>\n      <td>0.00000</td>\n    </tr>\n    <tr>\n      <th>work_type</th>\n      <td>0</td>\n      <td>0.00000</td>\n    </tr>\n    <tr>\n      <th>Residence_type</th>\n      <td>0</td>\n      <td>0.00000</td>\n    </tr>\n    <tr>\n      <th>bmi</th>\n      <td>0</td>\n      <td>0.00000</td>\n    </tr>\n    <tr>\n      <th>smoking_status</th>\n      <td>0</td>\n      <td>0.00000</td>\n    </tr>\n    <tr>\n      <th>stroke</th>\n      <td>0</td>\n      <td>0.00000</td>\n    </tr>\n    <tr>\n      <th>age_bin</th>\n      <td>0</td>\n      <td>0.00000</td>\n    </tr>\n  </tbody>\n</table>\n</div>"
     },
     "metadata": {},
     "execution_count": 25
    }
   ],
   "source": [
    "draw_missing_data_table(df)"
   ]
  },
  {
   "cell_type": "code",
   "execution_count": 26,
   "metadata": {},
   "outputs": [
    {
     "output_type": "execute_result",
     "data": {
      "text/plain": [
       "               age  hypertension  heart_disease  avg_glucose_level  \\\n",
       "count  4000.000000   3770.000000    3910.000000        3829.000000   \n",
       "mean     43.071256      0.097613       0.055243         106.178062   \n",
       "std      22.123887      0.296830       0.228483          45.048667   \n",
       "min       0.080000      0.000000       0.000000          55.220000   \n",
       "25%      26.000000      0.000000       0.000000          77.500000   \n",
       "50%      44.000000      0.000000       0.000000          92.110000   \n",
       "75%      60.000000      0.000000       0.000000         114.090000   \n",
       "max      82.000000      1.000000       1.000000         267.760000   \n",
       "\n",
       "               bmi       height       stroke  \n",
       "count  4000.000000  2928.000000  4000.000000  \n",
       "mean     28.875573     1.611831     0.032500  \n",
       "std       6.979478     0.149053     0.177346  \n",
       "min      11.300000     0.910000     0.000000  \n",
       "25%      24.200000     1.520000     0.000000  \n",
       "50%      29.200000     1.630000     0.000000  \n",
       "75%      31.480000     1.722500     0.000000  \n",
       "max      97.600000     1.850000     1.000000  "
      ],
      "text/html": "<div>\n<style scoped>\n    .dataframe tbody tr th:only-of-type {\n        vertical-align: middle;\n    }\n\n    .dataframe tbody tr th {\n        vertical-align: top;\n    }\n\n    .dataframe thead th {\n        text-align: right;\n    }\n</style>\n<table border=\"1\" class=\"dataframe\">\n  <thead>\n    <tr style=\"text-align: right;\">\n      <th></th>\n      <th>age</th>\n      <th>hypertension</th>\n      <th>heart_disease</th>\n      <th>avg_glucose_level</th>\n      <th>bmi</th>\n      <th>height</th>\n      <th>stroke</th>\n    </tr>\n  </thead>\n  <tbody>\n    <tr>\n      <th>count</th>\n      <td>4000.000000</td>\n      <td>3770.000000</td>\n      <td>3910.000000</td>\n      <td>3829.000000</td>\n      <td>4000.000000</td>\n      <td>2928.000000</td>\n      <td>4000.000000</td>\n    </tr>\n    <tr>\n      <th>mean</th>\n      <td>43.071256</td>\n      <td>0.097613</td>\n      <td>0.055243</td>\n      <td>106.178062</td>\n      <td>28.875573</td>\n      <td>1.611831</td>\n      <td>0.032500</td>\n    </tr>\n    <tr>\n      <th>std</th>\n      <td>22.123887</td>\n      <td>0.296830</td>\n      <td>0.228483</td>\n      <td>45.048667</td>\n      <td>6.979478</td>\n      <td>0.149053</td>\n      <td>0.177346</td>\n    </tr>\n    <tr>\n      <th>min</th>\n      <td>0.080000</td>\n      <td>0.000000</td>\n      <td>0.000000</td>\n      <td>55.220000</td>\n      <td>11.300000</td>\n      <td>0.910000</td>\n      <td>0.000000</td>\n    </tr>\n    <tr>\n      <th>25%</th>\n      <td>26.000000</td>\n      <td>0.000000</td>\n      <td>0.000000</td>\n      <td>77.500000</td>\n      <td>24.200000</td>\n      <td>1.520000</td>\n      <td>0.000000</td>\n    </tr>\n    <tr>\n      <th>50%</th>\n      <td>44.000000</td>\n      <td>0.000000</td>\n      <td>0.000000</td>\n      <td>92.110000</td>\n      <td>29.200000</td>\n      <td>1.630000</td>\n      <td>0.000000</td>\n    </tr>\n    <tr>\n      <th>75%</th>\n      <td>60.000000</td>\n      <td>0.000000</td>\n      <td>0.000000</td>\n      <td>114.090000</td>\n      <td>31.480000</td>\n      <td>1.722500</td>\n      <td>0.000000</td>\n    </tr>\n    <tr>\n      <th>max</th>\n      <td>82.000000</td>\n      <td>1.000000</td>\n      <td>1.000000</td>\n      <td>267.760000</td>\n      <td>97.600000</td>\n      <td>1.850000</td>\n      <td>1.000000</td>\n    </tr>\n  </tbody>\n</table>\n</div>"
     },
     "metadata": {},
     "execution_count": 26
    }
   ],
   "source": [
    "df.describe()"
   ]
  },
  {
   "source": [
    "Xoá dữ liệu có `bmi` <= 45"
   ],
   "cell_type": "markdown",
   "metadata": {}
  },
  {
   "cell_type": "code",
   "execution_count": 27,
   "metadata": {},
   "outputs": [
    {
     "output_type": "execute_result",
     "data": {
      "text/plain": [
       "      gender        age  hypertension  heart_disease ever_married work_type  \\\n",
       "0     Female  43.071256           0.0            0.0           No  children   \n",
       "1       Male  55.000000           0.0            0.0          Yes   Private   \n",
       "2     Female  42.000000           0.0            0.0           No   Private   \n",
       "4     Female  38.000000           0.0            0.0          Yes   Private   \n",
       "5     Female  24.000000           0.0            0.0           No   Private   \n",
       "...      ...        ...           ...            ...          ...       ...   \n",
       "3993  Female  59.000000           0.0            0.0          Yes   Private   \n",
       "3994  Female  52.000000           0.0            0.0          Yes   Private   \n",
       "3995    Male  16.000000           0.0            0.0           No   Private   \n",
       "3996    Male  47.000000           0.0            0.0          Yes   Private   \n",
       "3999  Female  53.000000           1.0            0.0          Yes   Private   \n",
       "\n",
       "     Residence_type  avg_glucose_level        bmi   smoking_status blood  \\\n",
       "0           Unknown              85.81  18.600000          Unknown     O   \n",
       "1             Urban              89.17  31.480000     never smoked     B   \n",
       "2           Unknown              98.53  18.500000     never smoked     B   \n",
       "4           Unknown              91.44  31.020136          Unknown     O   \n",
       "5             Urban              97.55  26.200000     never smoked     B   \n",
       "...             ...                ...        ...              ...   ...   \n",
       "3993        Unknown              65.98  31.480000          Unknown     O   \n",
       "3994        Unknown              69.30  31.480000     never smoked     B   \n",
       "3995        Unknown              99.49  22.000000          Unknown     B   \n",
       "3996          Rural              75.30  25.000000  formerly smoked     B   \n",
       "3999          Urban              62.55  30.300000          Unknown     O   \n",
       "\n",
       "      height  stroke age_bin  \n",
       "0        NaN       0       3  \n",
       "1       1.59       0       4  \n",
       "2        NaN       0       3  \n",
       "4        NaN       0       3  \n",
       "5       1.75       0       2  \n",
       "...      ...     ...     ...  \n",
       "3993    1.60       0       4  \n",
       "3994     NaN       0       4  \n",
       "3995     NaN       0       1  \n",
       "3996    1.79       0       3  \n",
       "3999    1.62       1       4  \n",
       "\n",
       "[3909 rows x 14 columns]"
      ],
      "text/html": "<div>\n<style scoped>\n    .dataframe tbody tr th:only-of-type {\n        vertical-align: middle;\n    }\n\n    .dataframe tbody tr th {\n        vertical-align: top;\n    }\n\n    .dataframe thead th {\n        text-align: right;\n    }\n</style>\n<table border=\"1\" class=\"dataframe\">\n  <thead>\n    <tr style=\"text-align: right;\">\n      <th></th>\n      <th>gender</th>\n      <th>age</th>\n      <th>hypertension</th>\n      <th>heart_disease</th>\n      <th>ever_married</th>\n      <th>work_type</th>\n      <th>Residence_type</th>\n      <th>avg_glucose_level</th>\n      <th>bmi</th>\n      <th>smoking_status</th>\n      <th>blood</th>\n      <th>height</th>\n      <th>stroke</th>\n      <th>age_bin</th>\n    </tr>\n  </thead>\n  <tbody>\n    <tr>\n      <th>0</th>\n      <td>Female</td>\n      <td>43.071256</td>\n      <td>0.0</td>\n      <td>0.0</td>\n      <td>No</td>\n      <td>children</td>\n      <td>Unknown</td>\n      <td>85.81</td>\n      <td>18.600000</td>\n      <td>Unknown</td>\n      <td>O</td>\n      <td>NaN</td>\n      <td>0</td>\n      <td>3</td>\n    </tr>\n    <tr>\n      <th>1</th>\n      <td>Male</td>\n      <td>55.000000</td>\n      <td>0.0</td>\n      <td>0.0</td>\n      <td>Yes</td>\n      <td>Private</td>\n      <td>Urban</td>\n      <td>89.17</td>\n      <td>31.480000</td>\n      <td>never smoked</td>\n      <td>B</td>\n      <td>1.59</td>\n      <td>0</td>\n      <td>4</td>\n    </tr>\n    <tr>\n      <th>2</th>\n      <td>Female</td>\n      <td>42.000000</td>\n      <td>0.0</td>\n      <td>0.0</td>\n      <td>No</td>\n      <td>Private</td>\n      <td>Unknown</td>\n      <td>98.53</td>\n      <td>18.500000</td>\n      <td>never smoked</td>\n      <td>B</td>\n      <td>NaN</td>\n      <td>0</td>\n      <td>3</td>\n    </tr>\n    <tr>\n      <th>4</th>\n      <td>Female</td>\n      <td>38.000000</td>\n      <td>0.0</td>\n      <td>0.0</td>\n      <td>Yes</td>\n      <td>Private</td>\n      <td>Unknown</td>\n      <td>91.44</td>\n      <td>31.020136</td>\n      <td>Unknown</td>\n      <td>O</td>\n      <td>NaN</td>\n      <td>0</td>\n      <td>3</td>\n    </tr>\n    <tr>\n      <th>5</th>\n      <td>Female</td>\n      <td>24.000000</td>\n      <td>0.0</td>\n      <td>0.0</td>\n      <td>No</td>\n      <td>Private</td>\n      <td>Urban</td>\n      <td>97.55</td>\n      <td>26.200000</td>\n      <td>never smoked</td>\n      <td>B</td>\n      <td>1.75</td>\n      <td>0</td>\n      <td>2</td>\n    </tr>\n    <tr>\n      <th>...</th>\n      <td>...</td>\n      <td>...</td>\n      <td>...</td>\n      <td>...</td>\n      <td>...</td>\n      <td>...</td>\n      <td>...</td>\n      <td>...</td>\n      <td>...</td>\n      <td>...</td>\n      <td>...</td>\n      <td>...</td>\n      <td>...</td>\n      <td>...</td>\n    </tr>\n    <tr>\n      <th>3993</th>\n      <td>Female</td>\n      <td>59.000000</td>\n      <td>0.0</td>\n      <td>0.0</td>\n      <td>Yes</td>\n      <td>Private</td>\n      <td>Unknown</td>\n      <td>65.98</td>\n      <td>31.480000</td>\n      <td>Unknown</td>\n      <td>O</td>\n      <td>1.60</td>\n      <td>0</td>\n      <td>4</td>\n    </tr>\n    <tr>\n      <th>3994</th>\n      <td>Female</td>\n      <td>52.000000</td>\n      <td>0.0</td>\n      <td>0.0</td>\n      <td>Yes</td>\n      <td>Private</td>\n      <td>Unknown</td>\n      <td>69.30</td>\n      <td>31.480000</td>\n      <td>never smoked</td>\n      <td>B</td>\n      <td>NaN</td>\n      <td>0</td>\n      <td>4</td>\n    </tr>\n    <tr>\n      <th>3995</th>\n      <td>Male</td>\n      <td>16.000000</td>\n      <td>0.0</td>\n      <td>0.0</td>\n      <td>No</td>\n      <td>Private</td>\n      <td>Unknown</td>\n      <td>99.49</td>\n      <td>22.000000</td>\n      <td>Unknown</td>\n      <td>B</td>\n      <td>NaN</td>\n      <td>0</td>\n      <td>1</td>\n    </tr>\n    <tr>\n      <th>3996</th>\n      <td>Male</td>\n      <td>47.000000</td>\n      <td>0.0</td>\n      <td>0.0</td>\n      <td>Yes</td>\n      <td>Private</td>\n      <td>Rural</td>\n      <td>75.30</td>\n      <td>25.000000</td>\n      <td>formerly smoked</td>\n      <td>B</td>\n      <td>1.79</td>\n      <td>0</td>\n      <td>3</td>\n    </tr>\n    <tr>\n      <th>3999</th>\n      <td>Female</td>\n      <td>53.000000</td>\n      <td>1.0</td>\n      <td>0.0</td>\n      <td>Yes</td>\n      <td>Private</td>\n      <td>Urban</td>\n      <td>62.55</td>\n      <td>30.300000</td>\n      <td>Unknown</td>\n      <td>O</td>\n      <td>1.62</td>\n      <td>1</td>\n      <td>4</td>\n    </tr>\n  </tbody>\n</table>\n<p>3909 rows × 14 columns</p>\n</div>"
     },
     "metadata": {},
     "execution_count": 27
    }
   ],
   "source": [
    "df = df.loc[df['bmi'] < 45]\n",
    "df"
   ]
  },
  {
   "source": [],
   "cell_type": "markdown",
   "metadata": {}
  },
  {
   "cell_type": "code",
   "execution_count": 28,
   "metadata": {},
   "outputs": [
    {
     "output_type": "execute_result",
     "data": {
      "text/plain": [
       "                   Total   Percent\n",
       "height              1072  0.274239\n",
       "hypertension         221  0.056536\n",
       "avg_glucose_level    166  0.042466\n",
       "heart_disease         88  0.022512\n",
       "blood                  8  0.002047\n",
       "gender                 0  0.000000\n",
       "age                    0  0.000000\n",
       "ever_married           0  0.000000\n",
       "work_type              0  0.000000\n",
       "Residence_type         0  0.000000\n",
       "bmi                    0  0.000000\n",
       "smoking_status         0  0.000000\n",
       "stroke                 0  0.000000\n",
       "age_bin                0  0.000000"
      ],
      "text/html": "<div>\n<style scoped>\n    .dataframe tbody tr th:only-of-type {\n        vertical-align: middle;\n    }\n\n    .dataframe tbody tr th {\n        vertical-align: top;\n    }\n\n    .dataframe thead th {\n        text-align: right;\n    }\n</style>\n<table border=\"1\" class=\"dataframe\">\n  <thead>\n    <tr style=\"text-align: right;\">\n      <th></th>\n      <th>Total</th>\n      <th>Percent</th>\n    </tr>\n  </thead>\n  <tbody>\n    <tr>\n      <th>height</th>\n      <td>1072</td>\n      <td>0.274239</td>\n    </tr>\n    <tr>\n      <th>hypertension</th>\n      <td>221</td>\n      <td>0.056536</td>\n    </tr>\n    <tr>\n      <th>avg_glucose_level</th>\n      <td>166</td>\n      <td>0.042466</td>\n    </tr>\n    <tr>\n      <th>heart_disease</th>\n      <td>88</td>\n      <td>0.022512</td>\n    </tr>\n    <tr>\n      <th>blood</th>\n      <td>8</td>\n      <td>0.002047</td>\n    </tr>\n    <tr>\n      <th>gender</th>\n      <td>0</td>\n      <td>0.000000</td>\n    </tr>\n    <tr>\n      <th>age</th>\n      <td>0</td>\n      <td>0.000000</td>\n    </tr>\n    <tr>\n      <th>ever_married</th>\n      <td>0</td>\n      <td>0.000000</td>\n    </tr>\n    <tr>\n      <th>work_type</th>\n      <td>0</td>\n      <td>0.000000</td>\n    </tr>\n    <tr>\n      <th>Residence_type</th>\n      <td>0</td>\n      <td>0.000000</td>\n    </tr>\n    <tr>\n      <th>bmi</th>\n      <td>0</td>\n      <td>0.000000</td>\n    </tr>\n    <tr>\n      <th>smoking_status</th>\n      <td>0</td>\n      <td>0.000000</td>\n    </tr>\n    <tr>\n      <th>stroke</th>\n      <td>0</td>\n      <td>0.000000</td>\n    </tr>\n    <tr>\n      <th>age_bin</th>\n      <td>0</td>\n      <td>0.000000</td>\n    </tr>\n  </tbody>\n</table>\n</div>"
     },
     "metadata": {},
     "execution_count": 28
    }
   ],
   "source": [
    "draw_missing_data_table(df)"
   ]
  },
  {
   "source": [
    "## Drop height"
   ],
   "cell_type": "markdown",
   "metadata": {}
  },
  {
   "cell_type": "code",
   "execution_count": 29,
   "metadata": {},
   "outputs": [
    {
     "output_type": "stream",
     "name": "stderr",
     "text": [
      "/mnt/A0320C7B320C58A4/Code/Python/Stroke-prediction/Stroke_Env/lib/python3.8/site-packages/pandas/core/frame.py:4308: SettingWithCopyWarning: \nA value is trying to be set on a copy of a slice from a DataFrame\n\nSee the caveats in the documentation: https://pandas.pydata.org/pandas-docs/stable/user_guide/indexing.html#returning-a-view-versus-a-copy\n  return super().drop(\n"
     ]
    }
   ],
   "source": [
    "df.drop(columns=['height'], inplace=True)"
   ]
  },
  {
   "cell_type": "code",
   "execution_count": 30,
   "metadata": {},
   "outputs": [
    {
     "output_type": "execute_result",
     "data": {
      "text/plain": [
       "   gender        age  hypertension  heart_disease ever_married work_type  \\\n",
       "0  Female  43.071256           0.0            0.0           No  children   \n",
       "1    Male  55.000000           0.0            0.0          Yes   Private   \n",
       "2  Female  42.000000           0.0            0.0           No   Private   \n",
       "4  Female  38.000000           0.0            0.0          Yes   Private   \n",
       "5  Female  24.000000           0.0            0.0           No   Private   \n",
       "\n",
       "  Residence_type  avg_glucose_level        bmi smoking_status blood  stroke  \\\n",
       "0        Unknown              85.81  18.600000        Unknown     O       0   \n",
       "1          Urban              89.17  31.480000   never smoked     B       0   \n",
       "2        Unknown              98.53  18.500000   never smoked     B       0   \n",
       "4        Unknown              91.44  31.020136        Unknown     O       0   \n",
       "5          Urban              97.55  26.200000   never smoked     B       0   \n",
       "\n",
       "  age_bin  \n",
       "0       3  \n",
       "1       4  \n",
       "2       3  \n",
       "4       3  \n",
       "5       2  "
      ],
      "text/html": "<div>\n<style scoped>\n    .dataframe tbody tr th:only-of-type {\n        vertical-align: middle;\n    }\n\n    .dataframe tbody tr th {\n        vertical-align: top;\n    }\n\n    .dataframe thead th {\n        text-align: right;\n    }\n</style>\n<table border=\"1\" class=\"dataframe\">\n  <thead>\n    <tr style=\"text-align: right;\">\n      <th></th>\n      <th>gender</th>\n      <th>age</th>\n      <th>hypertension</th>\n      <th>heart_disease</th>\n      <th>ever_married</th>\n      <th>work_type</th>\n      <th>Residence_type</th>\n      <th>avg_glucose_level</th>\n      <th>bmi</th>\n      <th>smoking_status</th>\n      <th>blood</th>\n      <th>stroke</th>\n      <th>age_bin</th>\n    </tr>\n  </thead>\n  <tbody>\n    <tr>\n      <th>0</th>\n      <td>Female</td>\n      <td>43.071256</td>\n      <td>0.0</td>\n      <td>0.0</td>\n      <td>No</td>\n      <td>children</td>\n      <td>Unknown</td>\n      <td>85.81</td>\n      <td>18.600000</td>\n      <td>Unknown</td>\n      <td>O</td>\n      <td>0</td>\n      <td>3</td>\n    </tr>\n    <tr>\n      <th>1</th>\n      <td>Male</td>\n      <td>55.000000</td>\n      <td>0.0</td>\n      <td>0.0</td>\n      <td>Yes</td>\n      <td>Private</td>\n      <td>Urban</td>\n      <td>89.17</td>\n      <td>31.480000</td>\n      <td>never smoked</td>\n      <td>B</td>\n      <td>0</td>\n      <td>4</td>\n    </tr>\n    <tr>\n      <th>2</th>\n      <td>Female</td>\n      <td>42.000000</td>\n      <td>0.0</td>\n      <td>0.0</td>\n      <td>No</td>\n      <td>Private</td>\n      <td>Unknown</td>\n      <td>98.53</td>\n      <td>18.500000</td>\n      <td>never smoked</td>\n      <td>B</td>\n      <td>0</td>\n      <td>3</td>\n    </tr>\n    <tr>\n      <th>4</th>\n      <td>Female</td>\n      <td>38.000000</td>\n      <td>0.0</td>\n      <td>0.0</td>\n      <td>Yes</td>\n      <td>Private</td>\n      <td>Unknown</td>\n      <td>91.44</td>\n      <td>31.020136</td>\n      <td>Unknown</td>\n      <td>O</td>\n      <td>0</td>\n      <td>3</td>\n    </tr>\n    <tr>\n      <th>5</th>\n      <td>Female</td>\n      <td>24.000000</td>\n      <td>0.0</td>\n      <td>0.0</td>\n      <td>No</td>\n      <td>Private</td>\n      <td>Urban</td>\n      <td>97.55</td>\n      <td>26.200000</td>\n      <td>never smoked</td>\n      <td>B</td>\n      <td>0</td>\n      <td>2</td>\n    </tr>\n  </tbody>\n</table>\n</div>"
     },
     "metadata": {},
     "execution_count": 30
    }
   ],
   "source": [
    "df.head()"
   ]
  },
  {
   "cell_type": "code",
   "execution_count": 31,
   "metadata": {},
   "outputs": [
    {
     "output_type": "execute_result",
     "data": {
      "text/plain": [
       "                   Total   Percent\n",
       "hypertension         221  0.056536\n",
       "avg_glucose_level    166  0.042466\n",
       "heart_disease         88  0.022512\n",
       "blood                  8  0.002047\n",
       "gender                 0  0.000000\n",
       "age                    0  0.000000\n",
       "ever_married           0  0.000000\n",
       "work_type              0  0.000000\n",
       "Residence_type         0  0.000000\n",
       "bmi                    0  0.000000\n",
       "smoking_status         0  0.000000\n",
       "stroke                 0  0.000000\n",
       "age_bin                0  0.000000"
      ],
      "text/html": "<div>\n<style scoped>\n    .dataframe tbody tr th:only-of-type {\n        vertical-align: middle;\n    }\n\n    .dataframe tbody tr th {\n        vertical-align: top;\n    }\n\n    .dataframe thead th {\n        text-align: right;\n    }\n</style>\n<table border=\"1\" class=\"dataframe\">\n  <thead>\n    <tr style=\"text-align: right;\">\n      <th></th>\n      <th>Total</th>\n      <th>Percent</th>\n    </tr>\n  </thead>\n  <tbody>\n    <tr>\n      <th>hypertension</th>\n      <td>221</td>\n      <td>0.056536</td>\n    </tr>\n    <tr>\n      <th>avg_glucose_level</th>\n      <td>166</td>\n      <td>0.042466</td>\n    </tr>\n    <tr>\n      <th>heart_disease</th>\n      <td>88</td>\n      <td>0.022512</td>\n    </tr>\n    <tr>\n      <th>blood</th>\n      <td>8</td>\n      <td>0.002047</td>\n    </tr>\n    <tr>\n      <th>gender</th>\n      <td>0</td>\n      <td>0.000000</td>\n    </tr>\n    <tr>\n      <th>age</th>\n      <td>0</td>\n      <td>0.000000</td>\n    </tr>\n    <tr>\n      <th>ever_married</th>\n      <td>0</td>\n      <td>0.000000</td>\n    </tr>\n    <tr>\n      <th>work_type</th>\n      <td>0</td>\n      <td>0.000000</td>\n    </tr>\n    <tr>\n      <th>Residence_type</th>\n      <td>0</td>\n      <td>0.000000</td>\n    </tr>\n    <tr>\n      <th>bmi</th>\n      <td>0</td>\n      <td>0.000000</td>\n    </tr>\n    <tr>\n      <th>smoking_status</th>\n      <td>0</td>\n      <td>0.000000</td>\n    </tr>\n    <tr>\n      <th>stroke</th>\n      <td>0</td>\n      <td>0.000000</td>\n    </tr>\n    <tr>\n      <th>age_bin</th>\n      <td>0</td>\n      <td>0.000000</td>\n    </tr>\n  </tbody>\n</table>\n</div>"
     },
     "metadata": {},
     "execution_count": 31
    }
   ],
   "source": [
    "draw_missing_data_table(df)"
   ]
  },
  {
   "source": [
    "## Check correlation for avg_glucose_level"
   ],
   "cell_type": "markdown",
   "metadata": {}
  },
  {
   "cell_type": "code",
   "execution_count": 32,
   "metadata": {},
   "outputs": [
    {
     "output_type": "execute_result",
     "data": {
      "text/plain": [
       "avg_glucose_level    1.000000\n",
       "age                  0.228313\n",
       "heart_disease        0.166880\n",
       "hypertension         0.154387\n",
       "bmi                  0.147862\n",
       "stroke               0.102934\n",
       "Name: avg_glucose_level, dtype: float64"
      ]
     },
     "metadata": {},
     "execution_count": 32
    }
   ],
   "source": [
    "df.corr()['avg_glucose_level'].sort_values(ascending=False)"
   ]
  },
  {
   "source": [
    "### Hmm, this isn't really that much correlation so mean all time"
   ],
   "cell_type": "markdown",
   "metadata": {}
  },
  {
   "cell_type": "code",
   "execution_count": 33,
   "metadata": {},
   "outputs": [
    {
     "output_type": "stream",
     "name": "stderr",
     "text": [
      "<ipython-input-33-b004468c9408>:1: SettingWithCopyWarning: \nA value is trying to be set on a copy of a slice from a DataFrame.\nTry using .loc[row_indexer,col_indexer] = value instead\n\nSee the caveats in the documentation: https://pandas.pydata.org/pandas-docs/stable/user_guide/indexing.html#returning-a-view-versus-a-copy\n  df['avg_glucose_level'] = df['avg_glucose_level'].fillna(np.mean(df['avg_glucose_level']))\n"
     ]
    }
   ],
   "source": [
    "df['avg_glucose_level'] = df['avg_glucose_level'].fillna(np.mean(df['avg_glucose_level']))"
   ]
  },
  {
   "cell_type": "code",
   "execution_count": 34,
   "metadata": {},
   "outputs": [
    {
     "output_type": "execute_result",
     "data": {
      "text/plain": [
       "   gender        age  hypertension  heart_disease ever_married work_type  \\\n",
       "0  Female  43.071256           0.0            0.0           No  children   \n",
       "1    Male  55.000000           0.0            0.0          Yes   Private   \n",
       "2  Female  42.000000           0.0            0.0           No   Private   \n",
       "4  Female  38.000000           0.0            0.0          Yes   Private   \n",
       "5  Female  24.000000           0.0            0.0           No   Private   \n",
       "\n",
       "  Residence_type  avg_glucose_level        bmi smoking_status blood  stroke  \\\n",
       "0        Unknown              85.81  18.600000        Unknown     O       0   \n",
       "1          Urban              89.17  31.480000   never smoked     B       0   \n",
       "2        Unknown              98.53  18.500000   never smoked     B       0   \n",
       "4        Unknown              91.44  31.020136        Unknown     O       0   \n",
       "5          Urban              97.55  26.200000   never smoked     B       0   \n",
       "\n",
       "  age_bin  \n",
       "0       3  \n",
       "1       4  \n",
       "2       3  \n",
       "4       3  \n",
       "5       2  "
      ],
      "text/html": "<div>\n<style scoped>\n    .dataframe tbody tr th:only-of-type {\n        vertical-align: middle;\n    }\n\n    .dataframe tbody tr th {\n        vertical-align: top;\n    }\n\n    .dataframe thead th {\n        text-align: right;\n    }\n</style>\n<table border=\"1\" class=\"dataframe\">\n  <thead>\n    <tr style=\"text-align: right;\">\n      <th></th>\n      <th>gender</th>\n      <th>age</th>\n      <th>hypertension</th>\n      <th>heart_disease</th>\n      <th>ever_married</th>\n      <th>work_type</th>\n      <th>Residence_type</th>\n      <th>avg_glucose_level</th>\n      <th>bmi</th>\n      <th>smoking_status</th>\n      <th>blood</th>\n      <th>stroke</th>\n      <th>age_bin</th>\n    </tr>\n  </thead>\n  <tbody>\n    <tr>\n      <th>0</th>\n      <td>Female</td>\n      <td>43.071256</td>\n      <td>0.0</td>\n      <td>0.0</td>\n      <td>No</td>\n      <td>children</td>\n      <td>Unknown</td>\n      <td>85.81</td>\n      <td>18.600000</td>\n      <td>Unknown</td>\n      <td>O</td>\n      <td>0</td>\n      <td>3</td>\n    </tr>\n    <tr>\n      <th>1</th>\n      <td>Male</td>\n      <td>55.000000</td>\n      <td>0.0</td>\n      <td>0.0</td>\n      <td>Yes</td>\n      <td>Private</td>\n      <td>Urban</td>\n      <td>89.17</td>\n      <td>31.480000</td>\n      <td>never smoked</td>\n      <td>B</td>\n      <td>0</td>\n      <td>4</td>\n    </tr>\n    <tr>\n      <th>2</th>\n      <td>Female</td>\n      <td>42.000000</td>\n      <td>0.0</td>\n      <td>0.0</td>\n      <td>No</td>\n      <td>Private</td>\n      <td>Unknown</td>\n      <td>98.53</td>\n      <td>18.500000</td>\n      <td>never smoked</td>\n      <td>B</td>\n      <td>0</td>\n      <td>3</td>\n    </tr>\n    <tr>\n      <th>4</th>\n      <td>Female</td>\n      <td>38.000000</td>\n      <td>0.0</td>\n      <td>0.0</td>\n      <td>Yes</td>\n      <td>Private</td>\n      <td>Unknown</td>\n      <td>91.44</td>\n      <td>31.020136</td>\n      <td>Unknown</td>\n      <td>O</td>\n      <td>0</td>\n      <td>3</td>\n    </tr>\n    <tr>\n      <th>5</th>\n      <td>Female</td>\n      <td>24.000000</td>\n      <td>0.0</td>\n      <td>0.0</td>\n      <td>No</td>\n      <td>Private</td>\n      <td>Urban</td>\n      <td>97.55</td>\n      <td>26.200000</td>\n      <td>never smoked</td>\n      <td>B</td>\n      <td>0</td>\n      <td>2</td>\n    </tr>\n  </tbody>\n</table>\n</div>"
     },
     "metadata": {},
     "execution_count": 34
    }
   ],
   "source": [
    "df.head()"
   ]
  },
  {
   "cell_type": "code",
   "execution_count": 35,
   "metadata": {},
   "outputs": [
    {
     "output_type": "execute_result",
     "data": {
      "text/plain": [
       "                   Total   Percent\n",
       "hypertension         221  0.056536\n",
       "heart_disease         88  0.022512\n",
       "blood                  8  0.002047\n",
       "gender                 0  0.000000\n",
       "age                    0  0.000000\n",
       "ever_married           0  0.000000\n",
       "work_type              0  0.000000\n",
       "Residence_type         0  0.000000\n",
       "avg_glucose_level      0  0.000000\n",
       "bmi                    0  0.000000\n",
       "smoking_status         0  0.000000\n",
       "stroke                 0  0.000000\n",
       "age_bin                0  0.000000"
      ],
      "text/html": "<div>\n<style scoped>\n    .dataframe tbody tr th:only-of-type {\n        vertical-align: middle;\n    }\n\n    .dataframe tbody tr th {\n        vertical-align: top;\n    }\n\n    .dataframe thead th {\n        text-align: right;\n    }\n</style>\n<table border=\"1\" class=\"dataframe\">\n  <thead>\n    <tr style=\"text-align: right;\">\n      <th></th>\n      <th>Total</th>\n      <th>Percent</th>\n    </tr>\n  </thead>\n  <tbody>\n    <tr>\n      <th>hypertension</th>\n      <td>221</td>\n      <td>0.056536</td>\n    </tr>\n    <tr>\n      <th>heart_disease</th>\n      <td>88</td>\n      <td>0.022512</td>\n    </tr>\n    <tr>\n      <th>blood</th>\n      <td>8</td>\n      <td>0.002047</td>\n    </tr>\n    <tr>\n      <th>gender</th>\n      <td>0</td>\n      <td>0.000000</td>\n    </tr>\n    <tr>\n      <th>age</th>\n      <td>0</td>\n      <td>0.000000</td>\n    </tr>\n    <tr>\n      <th>ever_married</th>\n      <td>0</td>\n      <td>0.000000</td>\n    </tr>\n    <tr>\n      <th>work_type</th>\n      <td>0</td>\n      <td>0.000000</td>\n    </tr>\n    <tr>\n      <th>Residence_type</th>\n      <td>0</td>\n      <td>0.000000</td>\n    </tr>\n    <tr>\n      <th>avg_glucose_level</th>\n      <td>0</td>\n      <td>0.000000</td>\n    </tr>\n    <tr>\n      <th>bmi</th>\n      <td>0</td>\n      <td>0.000000</td>\n    </tr>\n    <tr>\n      <th>smoking_status</th>\n      <td>0</td>\n      <td>0.000000</td>\n    </tr>\n    <tr>\n      <th>stroke</th>\n      <td>0</td>\n      <td>0.000000</td>\n    </tr>\n    <tr>\n      <th>age_bin</th>\n      <td>0</td>\n      <td>0.000000</td>\n    </tr>\n  </tbody>\n</table>\n</div>"
     },
     "metadata": {},
     "execution_count": 35
    }
   ],
   "source": [
    "draw_missing_data_table(df)"
   ]
  },
  {
   "source": [
    "## Fill hypertension and blood with the one that has the most value count"
   ],
   "cell_type": "markdown",
   "metadata": {}
  },
  {
   "cell_type": "code",
   "execution_count": 36,
   "metadata": {},
   "outputs": [
    {
     "output_type": "stream",
     "name": "stderr",
     "text": [
      "<ipython-input-36-14d49c328501>:1: SettingWithCopyWarning: \nA value is trying to be set on a copy of a slice from a DataFrame.\nTry using .loc[row_indexer,col_indexer] = value instead\n\nSee the caveats in the documentation: https://pandas.pydata.org/pandas-docs/stable/user_guide/indexing.html#returning-a-view-versus-a-copy\n  df['hypertension'] = df['hypertension'].fillna(0.0)\n<ipython-input-36-14d49c328501>:2: SettingWithCopyWarning: \nA value is trying to be set on a copy of a slice from a DataFrame.\nTry using .loc[row_indexer,col_indexer] = value instead\n\nSee the caveats in the documentation: https://pandas.pydata.org/pandas-docs/stable/user_guide/indexing.html#returning-a-view-versus-a-copy\n  df['hypertension'] = df['hypertension'].astype(int)\n"
     ]
    },
    {
     "output_type": "execute_result",
     "data": {
      "text/plain": [
       "   gender        age  hypertension  heart_disease ever_married work_type  \\\n",
       "0  Female  43.071256             0            0.0           No  children   \n",
       "1    Male  55.000000             0            0.0          Yes   Private   \n",
       "2  Female  42.000000             0            0.0           No   Private   \n",
       "4  Female  38.000000             0            0.0          Yes   Private   \n",
       "5  Female  24.000000             0            0.0           No   Private   \n",
       "\n",
       "  Residence_type  avg_glucose_level        bmi smoking_status blood  stroke  \\\n",
       "0        Unknown              85.81  18.600000        Unknown     O       0   \n",
       "1          Urban              89.17  31.480000   never smoked     B       0   \n",
       "2        Unknown              98.53  18.500000   never smoked     B       0   \n",
       "4        Unknown              91.44  31.020136        Unknown     O       0   \n",
       "5          Urban              97.55  26.200000   never smoked     B       0   \n",
       "\n",
       "  age_bin  \n",
       "0       3  \n",
       "1       4  \n",
       "2       3  \n",
       "4       3  \n",
       "5       2  "
      ],
      "text/html": "<div>\n<style scoped>\n    .dataframe tbody tr th:only-of-type {\n        vertical-align: middle;\n    }\n\n    .dataframe tbody tr th {\n        vertical-align: top;\n    }\n\n    .dataframe thead th {\n        text-align: right;\n    }\n</style>\n<table border=\"1\" class=\"dataframe\">\n  <thead>\n    <tr style=\"text-align: right;\">\n      <th></th>\n      <th>gender</th>\n      <th>age</th>\n      <th>hypertension</th>\n      <th>heart_disease</th>\n      <th>ever_married</th>\n      <th>work_type</th>\n      <th>Residence_type</th>\n      <th>avg_glucose_level</th>\n      <th>bmi</th>\n      <th>smoking_status</th>\n      <th>blood</th>\n      <th>stroke</th>\n      <th>age_bin</th>\n    </tr>\n  </thead>\n  <tbody>\n    <tr>\n      <th>0</th>\n      <td>Female</td>\n      <td>43.071256</td>\n      <td>0</td>\n      <td>0.0</td>\n      <td>No</td>\n      <td>children</td>\n      <td>Unknown</td>\n      <td>85.81</td>\n      <td>18.600000</td>\n      <td>Unknown</td>\n      <td>O</td>\n      <td>0</td>\n      <td>3</td>\n    </tr>\n    <tr>\n      <th>1</th>\n      <td>Male</td>\n      <td>55.000000</td>\n      <td>0</td>\n      <td>0.0</td>\n      <td>Yes</td>\n      <td>Private</td>\n      <td>Urban</td>\n      <td>89.17</td>\n      <td>31.480000</td>\n      <td>never smoked</td>\n      <td>B</td>\n      <td>0</td>\n      <td>4</td>\n    </tr>\n    <tr>\n      <th>2</th>\n      <td>Female</td>\n      <td>42.000000</td>\n      <td>0</td>\n      <td>0.0</td>\n      <td>No</td>\n      <td>Private</td>\n      <td>Unknown</td>\n      <td>98.53</td>\n      <td>18.500000</td>\n      <td>never smoked</td>\n      <td>B</td>\n      <td>0</td>\n      <td>3</td>\n    </tr>\n    <tr>\n      <th>4</th>\n      <td>Female</td>\n      <td>38.000000</td>\n      <td>0</td>\n      <td>0.0</td>\n      <td>Yes</td>\n      <td>Private</td>\n      <td>Unknown</td>\n      <td>91.44</td>\n      <td>31.020136</td>\n      <td>Unknown</td>\n      <td>O</td>\n      <td>0</td>\n      <td>3</td>\n    </tr>\n    <tr>\n      <th>5</th>\n      <td>Female</td>\n      <td>24.000000</td>\n      <td>0</td>\n      <td>0.0</td>\n      <td>No</td>\n      <td>Private</td>\n      <td>Urban</td>\n      <td>97.55</td>\n      <td>26.200000</td>\n      <td>never smoked</td>\n      <td>B</td>\n      <td>0</td>\n      <td>2</td>\n    </tr>\n  </tbody>\n</table>\n</div>"
     },
     "metadata": {},
     "execution_count": 36
    }
   ],
   "source": [
    "df['hypertension'] = df['hypertension'].fillna(0.0)\n",
    "df['hypertension'] = df['hypertension'].astype(int)\n",
    "df.head()"
   ]
  },
  {
   "cell_type": "code",
   "execution_count": 37,
   "metadata": {},
   "outputs": [
    {
     "output_type": "execute_result",
     "data": {
      "text/plain": [
       "                   Total   Percent\n",
       "heart_disease         88  0.022512\n",
       "blood                  8  0.002047\n",
       "gender                 0  0.000000\n",
       "age                    0  0.000000\n",
       "hypertension           0  0.000000\n",
       "ever_married           0  0.000000\n",
       "work_type              0  0.000000\n",
       "Residence_type         0  0.000000\n",
       "avg_glucose_level      0  0.000000\n",
       "bmi                    0  0.000000\n",
       "smoking_status         0  0.000000\n",
       "stroke                 0  0.000000\n",
       "age_bin                0  0.000000"
      ],
      "text/html": "<div>\n<style scoped>\n    .dataframe tbody tr th:only-of-type {\n        vertical-align: middle;\n    }\n\n    .dataframe tbody tr th {\n        vertical-align: top;\n    }\n\n    .dataframe thead th {\n        text-align: right;\n    }\n</style>\n<table border=\"1\" class=\"dataframe\">\n  <thead>\n    <tr style=\"text-align: right;\">\n      <th></th>\n      <th>Total</th>\n      <th>Percent</th>\n    </tr>\n  </thead>\n  <tbody>\n    <tr>\n      <th>heart_disease</th>\n      <td>88</td>\n      <td>0.022512</td>\n    </tr>\n    <tr>\n      <th>blood</th>\n      <td>8</td>\n      <td>0.002047</td>\n    </tr>\n    <tr>\n      <th>gender</th>\n      <td>0</td>\n      <td>0.000000</td>\n    </tr>\n    <tr>\n      <th>age</th>\n      <td>0</td>\n      <td>0.000000</td>\n    </tr>\n    <tr>\n      <th>hypertension</th>\n      <td>0</td>\n      <td>0.000000</td>\n    </tr>\n    <tr>\n      <th>ever_married</th>\n      <td>0</td>\n      <td>0.000000</td>\n    </tr>\n    <tr>\n      <th>work_type</th>\n      <td>0</td>\n      <td>0.000000</td>\n    </tr>\n    <tr>\n      <th>Residence_type</th>\n      <td>0</td>\n      <td>0.000000</td>\n    </tr>\n    <tr>\n      <th>avg_glucose_level</th>\n      <td>0</td>\n      <td>0.000000</td>\n    </tr>\n    <tr>\n      <th>bmi</th>\n      <td>0</td>\n      <td>0.000000</td>\n    </tr>\n    <tr>\n      <th>smoking_status</th>\n      <td>0</td>\n      <td>0.000000</td>\n    </tr>\n    <tr>\n      <th>stroke</th>\n      <td>0</td>\n      <td>0.000000</td>\n    </tr>\n    <tr>\n      <th>age_bin</th>\n      <td>0</td>\n      <td>0.000000</td>\n    </tr>\n  </tbody>\n</table>\n</div>"
     },
     "metadata": {},
     "execution_count": 37
    }
   ],
   "source": [
    "draw_missing_data_table(df)"
   ]
  },
  {
   "cell_type": "code",
   "execution_count": 38,
   "metadata": {},
   "outputs": [
    {
     "output_type": "stream",
     "name": "stderr",
     "text": [
      "<ipython-input-38-4663f1d1a9e6>:1: SettingWithCopyWarning: \nA value is trying to be set on a copy of a slice from a DataFrame.\nTry using .loc[row_indexer,col_indexer] = value instead\n\nSee the caveats in the documentation: https://pandas.pydata.org/pandas-docs/stable/user_guide/indexing.html#returning-a-view-versus-a-copy\n  df['heart_disease'] = df['heart_disease'].fillna(0.0)\n<ipython-input-38-4663f1d1a9e6>:2: SettingWithCopyWarning: \nA value is trying to be set on a copy of a slice from a DataFrame.\nTry using .loc[row_indexer,col_indexer] = value instead\n\nSee the caveats in the documentation: https://pandas.pydata.org/pandas-docs/stable/user_guide/indexing.html#returning-a-view-versus-a-copy\n  df['heart_disease'] = df['heart_disease'].astype(int)\n"
     ]
    },
    {
     "output_type": "execute_result",
     "data": {
      "text/plain": [
       "   gender        age  hypertension  heart_disease ever_married work_type  \\\n",
       "0  Female  43.071256             0              0           No  children   \n",
       "1    Male  55.000000             0              0          Yes   Private   \n",
       "2  Female  42.000000             0              0           No   Private   \n",
       "4  Female  38.000000             0              0          Yes   Private   \n",
       "5  Female  24.000000             0              0           No   Private   \n",
       "\n",
       "  Residence_type  avg_glucose_level        bmi smoking_status blood  stroke  \\\n",
       "0        Unknown              85.81  18.600000        Unknown     O       0   \n",
       "1          Urban              89.17  31.480000   never smoked     B       0   \n",
       "2        Unknown              98.53  18.500000   never smoked     B       0   \n",
       "4        Unknown              91.44  31.020136        Unknown     O       0   \n",
       "5          Urban              97.55  26.200000   never smoked     B       0   \n",
       "\n",
       "  age_bin  \n",
       "0       3  \n",
       "1       4  \n",
       "2       3  \n",
       "4       3  \n",
       "5       2  "
      ],
      "text/html": "<div>\n<style scoped>\n    .dataframe tbody tr th:only-of-type {\n        vertical-align: middle;\n    }\n\n    .dataframe tbody tr th {\n        vertical-align: top;\n    }\n\n    .dataframe thead th {\n        text-align: right;\n    }\n</style>\n<table border=\"1\" class=\"dataframe\">\n  <thead>\n    <tr style=\"text-align: right;\">\n      <th></th>\n      <th>gender</th>\n      <th>age</th>\n      <th>hypertension</th>\n      <th>heart_disease</th>\n      <th>ever_married</th>\n      <th>work_type</th>\n      <th>Residence_type</th>\n      <th>avg_glucose_level</th>\n      <th>bmi</th>\n      <th>smoking_status</th>\n      <th>blood</th>\n      <th>stroke</th>\n      <th>age_bin</th>\n    </tr>\n  </thead>\n  <tbody>\n    <tr>\n      <th>0</th>\n      <td>Female</td>\n      <td>43.071256</td>\n      <td>0</td>\n      <td>0</td>\n      <td>No</td>\n      <td>children</td>\n      <td>Unknown</td>\n      <td>85.81</td>\n      <td>18.600000</td>\n      <td>Unknown</td>\n      <td>O</td>\n      <td>0</td>\n      <td>3</td>\n    </tr>\n    <tr>\n      <th>1</th>\n      <td>Male</td>\n      <td>55.000000</td>\n      <td>0</td>\n      <td>0</td>\n      <td>Yes</td>\n      <td>Private</td>\n      <td>Urban</td>\n      <td>89.17</td>\n      <td>31.480000</td>\n      <td>never smoked</td>\n      <td>B</td>\n      <td>0</td>\n      <td>4</td>\n    </tr>\n    <tr>\n      <th>2</th>\n      <td>Female</td>\n      <td>42.000000</td>\n      <td>0</td>\n      <td>0</td>\n      <td>No</td>\n      <td>Private</td>\n      <td>Unknown</td>\n      <td>98.53</td>\n      <td>18.500000</td>\n      <td>never smoked</td>\n      <td>B</td>\n      <td>0</td>\n      <td>3</td>\n    </tr>\n    <tr>\n      <th>4</th>\n      <td>Female</td>\n      <td>38.000000</td>\n      <td>0</td>\n      <td>0</td>\n      <td>Yes</td>\n      <td>Private</td>\n      <td>Unknown</td>\n      <td>91.44</td>\n      <td>31.020136</td>\n      <td>Unknown</td>\n      <td>O</td>\n      <td>0</td>\n      <td>3</td>\n    </tr>\n    <tr>\n      <th>5</th>\n      <td>Female</td>\n      <td>24.000000</td>\n      <td>0</td>\n      <td>0</td>\n      <td>No</td>\n      <td>Private</td>\n      <td>Urban</td>\n      <td>97.55</td>\n      <td>26.200000</td>\n      <td>never smoked</td>\n      <td>B</td>\n      <td>0</td>\n      <td>2</td>\n    </tr>\n  </tbody>\n</table>\n</div>"
     },
     "metadata": {},
     "execution_count": 38
    }
   ],
   "source": [
    "df['heart_disease'] = df['heart_disease'].fillna(0.0)\n",
    "df['heart_disease'] = df['heart_disease'].astype(int)\n",
    "df.head()"
   ]
  },
  {
   "cell_type": "code",
   "execution_count": 39,
   "metadata": {},
   "outputs": [
    {
     "output_type": "execute_result",
     "data": {
      "text/plain": [
       "                   Total   Percent\n",
       "blood                  8  0.002047\n",
       "gender                 0  0.000000\n",
       "age                    0  0.000000\n",
       "hypertension           0  0.000000\n",
       "heart_disease          0  0.000000\n",
       "ever_married           0  0.000000\n",
       "work_type              0  0.000000\n",
       "Residence_type         0  0.000000\n",
       "avg_glucose_level      0  0.000000\n",
       "bmi                    0  0.000000\n",
       "smoking_status         0  0.000000\n",
       "stroke                 0  0.000000\n",
       "age_bin                0  0.000000"
      ],
      "text/html": "<div>\n<style scoped>\n    .dataframe tbody tr th:only-of-type {\n        vertical-align: middle;\n    }\n\n    .dataframe tbody tr th {\n        vertical-align: top;\n    }\n\n    .dataframe thead th {\n        text-align: right;\n    }\n</style>\n<table border=\"1\" class=\"dataframe\">\n  <thead>\n    <tr style=\"text-align: right;\">\n      <th></th>\n      <th>Total</th>\n      <th>Percent</th>\n    </tr>\n  </thead>\n  <tbody>\n    <tr>\n      <th>blood</th>\n      <td>8</td>\n      <td>0.002047</td>\n    </tr>\n    <tr>\n      <th>gender</th>\n      <td>0</td>\n      <td>0.000000</td>\n    </tr>\n    <tr>\n      <th>age</th>\n      <td>0</td>\n      <td>0.000000</td>\n    </tr>\n    <tr>\n      <th>hypertension</th>\n      <td>0</td>\n      <td>0.000000</td>\n    </tr>\n    <tr>\n      <th>heart_disease</th>\n      <td>0</td>\n      <td>0.000000</td>\n    </tr>\n    <tr>\n      <th>ever_married</th>\n      <td>0</td>\n      <td>0.000000</td>\n    </tr>\n    <tr>\n      <th>work_type</th>\n      <td>0</td>\n      <td>0.000000</td>\n    </tr>\n    <tr>\n      <th>Residence_type</th>\n      <td>0</td>\n      <td>0.000000</td>\n    </tr>\n    <tr>\n      <th>avg_glucose_level</th>\n      <td>0</td>\n      <td>0.000000</td>\n    </tr>\n    <tr>\n      <th>bmi</th>\n      <td>0</td>\n      <td>0.000000</td>\n    </tr>\n    <tr>\n      <th>smoking_status</th>\n      <td>0</td>\n      <td>0.000000</td>\n    </tr>\n    <tr>\n      <th>stroke</th>\n      <td>0</td>\n      <td>0.000000</td>\n    </tr>\n    <tr>\n      <th>age_bin</th>\n      <td>0</td>\n      <td>0.000000</td>\n    </tr>\n  </tbody>\n</table>\n</div>"
     },
     "metadata": {},
     "execution_count": 39
    }
   ],
   "source": [
    "draw_missing_data_table(df)"
   ]
  },
  {
   "cell_type": "code",
   "execution_count": 40,
   "metadata": {},
   "outputs": [
    {
     "output_type": "execute_result",
     "data": {
      "text/plain": [
       "<AxesSubplot:xlabel='blood', ylabel='count'>"
      ]
     },
     "metadata": {},
     "execution_count": 40
    },
    {
     "output_type": "display_data",
     "data": {
      "text/plain": "<Figure size 432x288 with 1 Axes>",
      "image/svg+xml": "<?xml version=\"1.0\" encoding=\"utf-8\" standalone=\"no\"?>\n<!DOCTYPE svg PUBLIC \"-//W3C//DTD SVG 1.1//EN\"\n  \"http://www.w3.org/Graphics/SVG/1.1/DTD/svg11.dtd\">\n<svg height=\"270.851625pt\" version=\"1.1\" viewBox=\"0 0 409.0305 270.851625\" width=\"409.0305pt\" xmlns=\"http://www.w3.org/2000/svg\" xmlns:xlink=\"http://www.w3.org/1999/xlink\">\n <metadata>\n  <rdf:RDF xmlns:cc=\"http://creativecommons.org/ns#\" xmlns:dc=\"http://purl.org/dc/elements/1.1/\" xmlns:rdf=\"http://www.w3.org/1999/02/22-rdf-syntax-ns#\">\n   <cc:Work>\n    <dc:type rdf:resource=\"http://purl.org/dc/dcmitype/StillImage\"/>\n    <dc:date>2021-05-19T16:07:59.782999</dc:date>\n    <dc:format>image/svg+xml</dc:format>\n    <dc:creator>\n     <cc:Agent>\n      <dc:title>Matplotlib v3.4.2, https://matplotlib.org/</dc:title>\n     </cc:Agent>\n    </dc:creator>\n   </cc:Work>\n  </rdf:RDF>\n </metadata>\n <defs>\n  <style type=\"text/css\">*{stroke-linecap:butt;stroke-linejoin:round;}</style>\n </defs>\n <g id=\"figure_1\">\n  <g id=\"patch_1\">\n   <path d=\"M 0 270.851625 \nL 409.0305 270.851625 \nL 409.0305 0 \nL 0 0 \nz\n\" style=\"fill:none;\"/>\n  </g>\n  <g id=\"axes_1\">\n   <g id=\"patch_2\">\n    <path d=\"M 67.0305 224.64 \nL 401.8305 224.64 \nL 401.8305 7.2 \nL 67.0305 7.2 \nz\n\" style=\"fill:#ffffff;\"/>\n   </g>\n   <g id=\"patch_3\">\n    <path clip-path=\"url(#p1d0670f700)\" d=\"M 75.4005 224.64 \nL 108.8805 224.64 \nL 108.8805 133.03113 \nL 75.4005 133.03113 \nz\n\" style=\"fill:#3274a1;\"/>\n   </g>\n   <g id=\"patch_4\">\n    <path clip-path=\"url(#p1d0670f700)\" d=\"M 159.1005 224.64 \nL 192.5805 224.64 \nL 192.5805 113.302111 \nL 159.1005 113.302111 \nz\n\" style=\"fill:#3274a1;\"/>\n   </g>\n   <g id=\"patch_5\">\n    <path clip-path=\"url(#p1d0670f700)\" d=\"M 242.8005 224.64 \nL 276.2805 224.64 \nL 276.2805 17.554286 \nL 242.8005 17.554286 \nz\n\" style=\"fill:#3274a1;\"/>\n   </g>\n   <g id=\"patch_6\">\n    <path clip-path=\"url(#p1d0670f700)\" d=\"M 326.5005 224.64 \nL 359.9805 224.64 \nL 359.9805 113.853972 \nL 326.5005 113.853972 \nz\n\" style=\"fill:#3274a1;\"/>\n   </g>\n   <g id=\"patch_7\">\n    <path clip-path=\"url(#p1d0670f700)\" d=\"M 108.8805 224.64 \nL 142.3605 224.64 \nL 142.3605 213.602787 \nL 108.8805 213.602787 \nz\n\" style=\"fill:#e1812c;\"/>\n   </g>\n   <g id=\"patch_8\">\n    <path clip-path=\"url(#p1d0670f700)\" d=\"M 192.5805 224.64 \nL 226.0605 224.64 \nL 226.0605 222.846453 \nL 192.5805 222.846453 \nz\n\" style=\"fill:#e1812c;\"/>\n   </g>\n   <g id=\"patch_9\">\n    <path clip-path=\"url(#p1d0670f700)\" d=\"M 276.2805 224.64 \nL 309.7605 224.64 \nL 309.7605 222.294592 \nL 276.2805 222.294592 \nz\n\" style=\"fill:#e1812c;\"/>\n   </g>\n   <g id=\"patch_10\">\n    <path clip-path=\"url(#p1d0670f700)\" d=\"M 359.9805 224.64 \nL 393.4605 224.64 \nL 393.4605 222.432557 \nL 359.9805 222.432557 \nz\n\" style=\"fill:#e1812c;\"/>\n   </g>\n   <g id=\"matplotlib.axis_1\">\n    <g id=\"xtick_1\">\n     <g id=\"line2d_1\">\n      <defs>\n       <path d=\"M 0 0 \nL 0 4.8 \n\" id=\"mb31332fb89\" style=\"stroke:#000000;\"/>\n      </defs>\n      <g>\n       <use style=\"stroke:#000000;\" x=\"108.8805\" xlink:href=\"#mb31332fb89\" y=\"224.64\"/>\n      </g>\n     </g>\n     <g id=\"text_1\">\n      <!-- O -->\n      <g transform=\"translate(103.685063 242.969937)scale(0.132 -0.132)\">\n       <defs>\n        <path d=\"M 2522 4238 \nQ 1834 4238 1429 3725 \nQ 1025 3213 1025 2328 \nQ 1025 1447 1429 934 \nQ 1834 422 2522 422 \nQ 3209 422 3611 934 \nQ 4013 1447 4013 2328 \nQ 4013 3213 3611 3725 \nQ 3209 4238 2522 4238 \nz\nM 2522 4750 \nQ 3503 4750 4090 4092 \nQ 4678 3434 4678 2328 \nQ 4678 1225 4090 567 \nQ 3503 -91 2522 -91 \nQ 1538 -91 948 565 \nQ 359 1222 359 2328 \nQ 359 3434 948 4092 \nQ 1538 4750 2522 4750 \nz\n\" id=\"DejaVuSans-4f\" transform=\"scale(0.015625)\"/>\n       </defs>\n       <use xlink:href=\"#DejaVuSans-4f\"/>\n      </g>\n     </g>\n    </g>\n    <g id=\"xtick_2\">\n     <g id=\"line2d_2\">\n      <g>\n       <use style=\"stroke:#000000;\" x=\"192.5805\" xlink:href=\"#mb31332fb89\" y=\"224.64\"/>\n      </g>\n     </g>\n     <g id=\"text_2\">\n      <!-- B -->\n      <g transform=\"translate(188.052281 242.969937)scale(0.132 -0.132)\">\n       <defs>\n        <path d=\"M 1259 2228 \nL 1259 519 \nL 2272 519 \nQ 2781 519 3026 730 \nQ 3272 941 3272 1375 \nQ 3272 1813 3026 2020 \nQ 2781 2228 2272 2228 \nL 1259 2228 \nz\nM 1259 4147 \nL 1259 2741 \nL 2194 2741 \nQ 2656 2741 2882 2914 \nQ 3109 3088 3109 3444 \nQ 3109 3797 2882 3972 \nQ 2656 4147 2194 4147 \nL 1259 4147 \nz\nM 628 4666 \nL 2241 4666 \nQ 2963 4666 3353 4366 \nQ 3744 4066 3744 3513 \nQ 3744 3084 3544 2831 \nQ 3344 2578 2956 2516 \nQ 3422 2416 3680 2098 \nQ 3938 1781 3938 1306 \nQ 3938 681 3513 340 \nQ 3088 0 2303 0 \nL 628 0 \nL 628 4666 \nz\n\" id=\"DejaVuSans-42\" transform=\"scale(0.015625)\"/>\n       </defs>\n       <use xlink:href=\"#DejaVuSans-42\"/>\n      </g>\n     </g>\n    </g>\n    <g id=\"xtick_3\">\n     <g id=\"line2d_3\">\n      <g>\n       <use style=\"stroke:#000000;\" x=\"276.2805\" xlink:href=\"#mb31332fb89\" y=\"224.64\"/>\n      </g>\n     </g>\n     <g id=\"text_3\">\n      <!-- AB -->\n      <g transform=\"translate(267.237469 242.969937)scale(0.132 -0.132)\">\n       <defs>\n        <path d=\"M 2188 4044 \nL 1331 1722 \nL 3047 1722 \nL 2188 4044 \nz\nM 1831 4666 \nL 2547 4666 \nL 4325 0 \nL 3669 0 \nL 3244 1197 \nL 1141 1197 \nL 716 0 \nL 50 0 \nL 1831 4666 \nz\n\" id=\"DejaVuSans-41\" transform=\"scale(0.015625)\"/>\n       </defs>\n       <use xlink:href=\"#DejaVuSans-41\"/>\n       <use x=\"68.408203\" xlink:href=\"#DejaVuSans-42\"/>\n      </g>\n     </g>\n    </g>\n    <g id=\"xtick_4\">\n     <g id=\"line2d_4\">\n      <g>\n       <use style=\"stroke:#000000;\" x=\"359.9805\" xlink:href=\"#mb31332fb89\" y=\"224.64\"/>\n      </g>\n     </g>\n     <g id=\"text_4\">\n      <!-- A -->\n      <g transform=\"translate(355.465688 242.969937)scale(0.132 -0.132)\">\n       <use xlink:href=\"#DejaVuSans-41\"/>\n      </g>\n     </g>\n    </g>\n    <g id=\"text_5\">\n     <!-- blood -->\n     <g transform=\"translate(214.4775 260.656875)scale(0.144 -0.144)\">\n      <defs>\n       <path d=\"M 3116 1747 \nQ 3116 2381 2855 2742 \nQ 2594 3103 2138 3103 \nQ 1681 3103 1420 2742 \nQ 1159 2381 1159 1747 \nQ 1159 1113 1420 752 \nQ 1681 391 2138 391 \nQ 2594 391 2855 752 \nQ 3116 1113 3116 1747 \nz\nM 1159 2969 \nQ 1341 3281 1617 3432 \nQ 1894 3584 2278 3584 \nQ 2916 3584 3314 3078 \nQ 3713 2572 3713 1747 \nQ 3713 922 3314 415 \nQ 2916 -91 2278 -91 \nQ 1894 -91 1617 61 \nQ 1341 213 1159 525 \nL 1159 0 \nL 581 0 \nL 581 4863 \nL 1159 4863 \nL 1159 2969 \nz\n\" id=\"DejaVuSans-62\" transform=\"scale(0.015625)\"/>\n       <path d=\"M 603 4863 \nL 1178 4863 \nL 1178 0 \nL 603 0 \nL 603 4863 \nz\n\" id=\"DejaVuSans-6c\" transform=\"scale(0.015625)\"/>\n       <path d=\"M 1959 3097 \nQ 1497 3097 1228 2736 \nQ 959 2375 959 1747 \nQ 959 1119 1226 758 \nQ 1494 397 1959 397 \nQ 2419 397 2687 759 \nQ 2956 1122 2956 1747 \nQ 2956 2369 2687 2733 \nQ 2419 3097 1959 3097 \nz\nM 1959 3584 \nQ 2709 3584 3137 3096 \nQ 3566 2609 3566 1747 \nQ 3566 888 3137 398 \nQ 2709 -91 1959 -91 \nQ 1206 -91 779 398 \nQ 353 888 353 1747 \nQ 353 2609 779 3096 \nQ 1206 3584 1959 3584 \nz\n\" id=\"DejaVuSans-6f\" transform=\"scale(0.015625)\"/>\n       <path d=\"M 2906 2969 \nL 2906 4863 \nL 3481 4863 \nL 3481 0 \nL 2906 0 \nL 2906 525 \nQ 2725 213 2448 61 \nQ 2172 -91 1784 -91 \nQ 1150 -91 751 415 \nQ 353 922 353 1747 \nQ 353 2572 751 3078 \nQ 1150 3584 1784 3584 \nQ 2172 3584 2448 3432 \nQ 2725 3281 2906 2969 \nz\nM 947 1747 \nQ 947 1113 1208 752 \nQ 1469 391 1925 391 \nQ 2381 391 2643 752 \nQ 2906 1113 2906 1747 \nQ 2906 2381 2643 2742 \nQ 2381 3103 1925 3103 \nQ 1469 3103 1208 2742 \nQ 947 2381 947 1747 \nz\n\" id=\"DejaVuSans-64\" transform=\"scale(0.015625)\"/>\n      </defs>\n      <use xlink:href=\"#DejaVuSans-62\"/>\n      <use x=\"63.476562\" xlink:href=\"#DejaVuSans-6c\"/>\n      <use x=\"91.259766\" xlink:href=\"#DejaVuSans-6f\"/>\n      <use x=\"152.441406\" xlink:href=\"#DejaVuSans-6f\"/>\n      <use x=\"213.623047\" xlink:href=\"#DejaVuSans-64\"/>\n     </g>\n    </g>\n   </g>\n   <g id=\"matplotlib.axis_2\">\n    <g id=\"ytick_1\">\n     <g id=\"line2d_5\">\n      <defs>\n       <path d=\"M 0 0 \nL -4.8 0 \n\" id=\"m49fba907c2\" style=\"stroke:#000000;\"/>\n      </defs>\n      <g>\n       <use style=\"stroke:#000000;\" x=\"67.0305\" xlink:href=\"#m49fba907c2\" y=\"224.64\"/>\n      </g>\n     </g>\n     <g id=\"text_6\">\n      <!-- 0 -->\n      <g transform=\"translate(50.332 229.654969)scale(0.132 -0.132)\">\n       <defs>\n        <path d=\"M 2034 4250 \nQ 1547 4250 1301 3770 \nQ 1056 3291 1056 2328 \nQ 1056 1369 1301 889 \nQ 1547 409 2034 409 \nQ 2525 409 2770 889 \nQ 3016 1369 3016 2328 \nQ 3016 3291 2770 3770 \nQ 2525 4250 2034 4250 \nz\nM 2034 4750 \nQ 2819 4750 3233 4129 \nQ 3647 3509 3647 2328 \nQ 3647 1150 3233 529 \nQ 2819 -91 2034 -91 \nQ 1250 -91 836 529 \nQ 422 1150 422 2328 \nQ 422 3509 836 4129 \nQ 1250 4750 2034 4750 \nz\n\" id=\"DejaVuSans-30\" transform=\"scale(0.015625)\"/>\n       </defs>\n       <use xlink:href=\"#DejaVuSans-30\"/>\n      </g>\n     </g>\n    </g>\n    <g id=\"ytick_2\">\n     <g id=\"line2d_6\">\n      <g>\n       <use style=\"stroke:#000000;\" x=\"67.0305\" xlink:href=\"#m49fba907c2\" y=\"197.046967\"/>\n      </g>\n     </g>\n     <g id=\"text_7\">\n      <!-- 200 -->\n      <g transform=\"translate(33.535 202.061936)scale(0.132 -0.132)\">\n       <defs>\n        <path d=\"M 1228 531 \nL 3431 531 \nL 3431 0 \nL 469 0 \nL 469 531 \nQ 828 903 1448 1529 \nQ 2069 2156 2228 2338 \nQ 2531 2678 2651 2914 \nQ 2772 3150 2772 3378 \nQ 2772 3750 2511 3984 \nQ 2250 4219 1831 4219 \nQ 1534 4219 1204 4116 \nQ 875 4013 500 3803 \nL 500 4441 \nQ 881 4594 1212 4672 \nQ 1544 4750 1819 4750 \nQ 2544 4750 2975 4387 \nQ 3406 4025 3406 3419 \nQ 3406 3131 3298 2873 \nQ 3191 2616 2906 2266 \nQ 2828 2175 2409 1742 \nQ 1991 1309 1228 531 \nz\n\" id=\"DejaVuSans-32\" transform=\"scale(0.015625)\"/>\n       </defs>\n       <use xlink:href=\"#DejaVuSans-32\"/>\n       <use x=\"63.623047\" xlink:href=\"#DejaVuSans-30\"/>\n       <use x=\"127.246094\" xlink:href=\"#DejaVuSans-30\"/>\n      </g>\n     </g>\n    </g>\n    <g id=\"ytick_3\">\n     <g id=\"line2d_7\">\n      <g>\n       <use style=\"stroke:#000000;\" x=\"67.0305\" xlink:href=\"#m49fba907c2\" y=\"169.453934\"/>\n      </g>\n     </g>\n     <g id=\"text_8\">\n      <!-- 400 -->\n      <g transform=\"translate(33.535 174.468902)scale(0.132 -0.132)\">\n       <defs>\n        <path d=\"M 2419 4116 \nL 825 1625 \nL 2419 1625 \nL 2419 4116 \nz\nM 2253 4666 \nL 3047 4666 \nL 3047 1625 \nL 3713 1625 \nL 3713 1100 \nL 3047 1100 \nL 3047 0 \nL 2419 0 \nL 2419 1100 \nL 313 1100 \nL 313 1709 \nL 2253 4666 \nz\n\" id=\"DejaVuSans-34\" transform=\"scale(0.015625)\"/>\n       </defs>\n       <use xlink:href=\"#DejaVuSans-34\"/>\n       <use x=\"63.623047\" xlink:href=\"#DejaVuSans-30\"/>\n       <use x=\"127.246094\" xlink:href=\"#DejaVuSans-30\"/>\n      </g>\n     </g>\n    </g>\n    <g id=\"ytick_4\">\n     <g id=\"line2d_8\">\n      <g>\n       <use style=\"stroke:#000000;\" x=\"67.0305\" xlink:href=\"#m49fba907c2\" y=\"141.8609\"/>\n      </g>\n     </g>\n     <g id=\"text_9\">\n      <!-- 600 -->\n      <g transform=\"translate(33.535 146.875869)scale(0.132 -0.132)\">\n       <defs>\n        <path d=\"M 2113 2584 \nQ 1688 2584 1439 2293 \nQ 1191 2003 1191 1497 \nQ 1191 994 1439 701 \nQ 1688 409 2113 409 \nQ 2538 409 2786 701 \nQ 3034 994 3034 1497 \nQ 3034 2003 2786 2293 \nQ 2538 2584 2113 2584 \nz\nM 3366 4563 \nL 3366 3988 \nQ 3128 4100 2886 4159 \nQ 2644 4219 2406 4219 \nQ 1781 4219 1451 3797 \nQ 1122 3375 1075 2522 \nQ 1259 2794 1537 2939 \nQ 1816 3084 2150 3084 \nQ 2853 3084 3261 2657 \nQ 3669 2231 3669 1497 \nQ 3669 778 3244 343 \nQ 2819 -91 2113 -91 \nQ 1303 -91 875 529 \nQ 447 1150 447 2328 \nQ 447 3434 972 4092 \nQ 1497 4750 2381 4750 \nQ 2619 4750 2861 4703 \nQ 3103 4656 3366 4563 \nz\n\" id=\"DejaVuSans-36\" transform=\"scale(0.015625)\"/>\n       </defs>\n       <use xlink:href=\"#DejaVuSans-36\"/>\n       <use x=\"63.623047\" xlink:href=\"#DejaVuSans-30\"/>\n       <use x=\"127.246094\" xlink:href=\"#DejaVuSans-30\"/>\n      </g>\n     </g>\n    </g>\n    <g id=\"ytick_5\">\n     <g id=\"line2d_9\">\n      <g>\n       <use style=\"stroke:#000000;\" x=\"67.0305\" xlink:href=\"#m49fba907c2\" y=\"114.267867\"/>\n      </g>\n     </g>\n     <g id=\"text_10\">\n      <!-- 800 -->\n      <g transform=\"translate(33.535 119.282836)scale(0.132 -0.132)\">\n       <defs>\n        <path d=\"M 2034 2216 \nQ 1584 2216 1326 1975 \nQ 1069 1734 1069 1313 \nQ 1069 891 1326 650 \nQ 1584 409 2034 409 \nQ 2484 409 2743 651 \nQ 3003 894 3003 1313 \nQ 3003 1734 2745 1975 \nQ 2488 2216 2034 2216 \nz\nM 1403 2484 \nQ 997 2584 770 2862 \nQ 544 3141 544 3541 \nQ 544 4100 942 4425 \nQ 1341 4750 2034 4750 \nQ 2731 4750 3128 4425 \nQ 3525 4100 3525 3541 \nQ 3525 3141 3298 2862 \nQ 3072 2584 2669 2484 \nQ 3125 2378 3379 2068 \nQ 3634 1759 3634 1313 \nQ 3634 634 3220 271 \nQ 2806 -91 2034 -91 \nQ 1263 -91 848 271 \nQ 434 634 434 1313 \nQ 434 1759 690 2068 \nQ 947 2378 1403 2484 \nz\nM 1172 3481 \nQ 1172 3119 1398 2916 \nQ 1625 2713 2034 2713 \nQ 2441 2713 2670 2916 \nQ 2900 3119 2900 3481 \nQ 2900 3844 2670 4047 \nQ 2441 4250 2034 4250 \nQ 1625 4250 1398 4047 \nQ 1172 3844 1172 3481 \nz\n\" id=\"DejaVuSans-38\" transform=\"scale(0.015625)\"/>\n       </defs>\n       <use xlink:href=\"#DejaVuSans-38\"/>\n       <use x=\"63.623047\" xlink:href=\"#DejaVuSans-30\"/>\n       <use x=\"127.246094\" xlink:href=\"#DejaVuSans-30\"/>\n      </g>\n     </g>\n    </g>\n    <g id=\"ytick_6\">\n     <g id=\"line2d_10\">\n      <g>\n       <use style=\"stroke:#000000;\" x=\"67.0305\" xlink:href=\"#m49fba907c2\" y=\"86.674834\"/>\n      </g>\n     </g>\n     <g id=\"text_11\">\n      <!-- 1000 -->\n      <g transform=\"translate(25.1365 91.689803)scale(0.132 -0.132)\">\n       <defs>\n        <path d=\"M 794 531 \nL 1825 531 \nL 1825 4091 \nL 703 3866 \nL 703 4441 \nL 1819 4666 \nL 2450 4666 \nL 2450 531 \nL 3481 531 \nL 3481 0 \nL 794 0 \nL 794 531 \nz\n\" id=\"DejaVuSans-31\" transform=\"scale(0.015625)\"/>\n       </defs>\n       <use xlink:href=\"#DejaVuSans-31\"/>\n       <use x=\"63.623047\" xlink:href=\"#DejaVuSans-30\"/>\n       <use x=\"127.246094\" xlink:href=\"#DejaVuSans-30\"/>\n       <use x=\"190.869141\" xlink:href=\"#DejaVuSans-30\"/>\n      </g>\n     </g>\n    </g>\n    <g id=\"ytick_7\">\n     <g id=\"line2d_11\">\n      <g>\n       <use style=\"stroke:#000000;\" x=\"67.0305\" xlink:href=\"#m49fba907c2\" y=\"59.081801\"/>\n      </g>\n     </g>\n     <g id=\"text_12\">\n      <!-- 1200 -->\n      <g transform=\"translate(25.1365 64.096769)scale(0.132 -0.132)\">\n       <use xlink:href=\"#DejaVuSans-31\"/>\n       <use x=\"63.623047\" xlink:href=\"#DejaVuSans-32\"/>\n       <use x=\"127.246094\" xlink:href=\"#DejaVuSans-30\"/>\n       <use x=\"190.869141\" xlink:href=\"#DejaVuSans-30\"/>\n      </g>\n     </g>\n    </g>\n    <g id=\"ytick_8\">\n     <g id=\"line2d_12\">\n      <g>\n       <use style=\"stroke:#000000;\" x=\"67.0305\" xlink:href=\"#m49fba907c2\" y=\"31.488767\"/>\n      </g>\n     </g>\n     <g id=\"text_13\">\n      <!-- 1400 -->\n      <g transform=\"translate(25.1365 36.503736)scale(0.132 -0.132)\">\n       <use xlink:href=\"#DejaVuSans-31\"/>\n       <use x=\"63.623047\" xlink:href=\"#DejaVuSans-34\"/>\n       <use x=\"127.246094\" xlink:href=\"#DejaVuSans-30\"/>\n       <use x=\"190.869141\" xlink:href=\"#DejaVuSans-30\"/>\n      </g>\n     </g>\n    </g>\n    <g id=\"text_14\">\n     <!-- count -->\n     <g transform=\"translate(18.14175 136.233)rotate(-90)scale(0.144 -0.144)\">\n      <defs>\n       <path d=\"M 3122 3366 \nL 3122 2828 \nQ 2878 2963 2633 3030 \nQ 2388 3097 2138 3097 \nQ 1578 3097 1268 2742 \nQ 959 2388 959 1747 \nQ 959 1106 1268 751 \nQ 1578 397 2138 397 \nQ 2388 397 2633 464 \nQ 2878 531 3122 666 \nL 3122 134 \nQ 2881 22 2623 -34 \nQ 2366 -91 2075 -91 \nQ 1284 -91 818 406 \nQ 353 903 353 1747 \nQ 353 2603 823 3093 \nQ 1294 3584 2113 3584 \nQ 2378 3584 2631 3529 \nQ 2884 3475 3122 3366 \nz\n\" id=\"DejaVuSans-63\" transform=\"scale(0.015625)\"/>\n       <path d=\"M 544 1381 \nL 544 3500 \nL 1119 3500 \nL 1119 1403 \nQ 1119 906 1312 657 \nQ 1506 409 1894 409 \nQ 2359 409 2629 706 \nQ 2900 1003 2900 1516 \nL 2900 3500 \nL 3475 3500 \nL 3475 0 \nL 2900 0 \nL 2900 538 \nQ 2691 219 2414 64 \nQ 2138 -91 1772 -91 \nQ 1169 -91 856 284 \nQ 544 659 544 1381 \nz\nM 1991 3584 \nL 1991 3584 \nz\n\" id=\"DejaVuSans-75\" transform=\"scale(0.015625)\"/>\n       <path d=\"M 3513 2113 \nL 3513 0 \nL 2938 0 \nL 2938 2094 \nQ 2938 2591 2744 2837 \nQ 2550 3084 2163 3084 \nQ 1697 3084 1428 2787 \nQ 1159 2491 1159 1978 \nL 1159 0 \nL 581 0 \nL 581 3500 \nL 1159 3500 \nL 1159 2956 \nQ 1366 3272 1645 3428 \nQ 1925 3584 2291 3584 \nQ 2894 3584 3203 3211 \nQ 3513 2838 3513 2113 \nz\n\" id=\"DejaVuSans-6e\" transform=\"scale(0.015625)\"/>\n       <path d=\"M 1172 4494 \nL 1172 3500 \nL 2356 3500 \nL 2356 3053 \nL 1172 3053 \nL 1172 1153 \nQ 1172 725 1289 603 \nQ 1406 481 1766 481 \nL 2356 481 \nL 2356 0 \nL 1766 0 \nQ 1100 0 847 248 \nQ 594 497 594 1153 \nL 594 3053 \nL 172 3053 \nL 172 3500 \nL 594 3500 \nL 594 4494 \nL 1172 4494 \nz\n\" id=\"DejaVuSans-74\" transform=\"scale(0.015625)\"/>\n      </defs>\n      <use xlink:href=\"#DejaVuSans-63\"/>\n      <use x=\"54.980469\" xlink:href=\"#DejaVuSans-6f\"/>\n      <use x=\"116.162109\" xlink:href=\"#DejaVuSans-75\"/>\n      <use x=\"179.541016\" xlink:href=\"#DejaVuSans-6e\"/>\n      <use x=\"242.919922\" xlink:href=\"#DejaVuSans-74\"/>\n     </g>\n    </g>\n   </g>\n   <g id=\"patch_11\">\n    <path d=\"M 67.0305 224.64 \nL 67.0305 7.2 \n\" style=\"fill:none;stroke:#000000;stroke-linecap:square;stroke-linejoin:miter;\"/>\n   </g>\n   <g id=\"patch_12\">\n    <path d=\"M 401.8305 224.64 \nL 401.8305 7.2 \n\" style=\"fill:none;stroke:#000000;stroke-linecap:square;stroke-linejoin:miter;\"/>\n   </g>\n   <g id=\"patch_13\">\n    <path d=\"M 67.0305 224.64 \nL 401.8305 224.64 \n\" style=\"fill:none;stroke:#000000;stroke-linecap:square;stroke-linejoin:miter;\"/>\n   </g>\n   <g id=\"patch_14\">\n    <path d=\"M 67.0305 7.2 \nL 401.8305 7.2 \n\" style=\"fill:none;stroke:#000000;stroke-linecap:square;stroke-linejoin:miter;\"/>\n   </g>\n   <g id=\"legend_1\">\n    <g id=\"patch_15\">\n     <path d=\"M 341.952 77.04675 \nL 392.5905 77.04675 \nQ 395.2305 77.04675 395.2305 74.40675 \nL 395.2305 16.44 \nQ 395.2305 13.8 392.5905 13.8 \nL 341.952 13.8 \nQ 339.312 13.8 339.312 16.44 \nL 339.312 74.40675 \nQ 339.312 77.04675 341.952 77.04675 \nz\n\" style=\"fill:#ffffff;opacity:0.8;stroke:#cccccc;stroke-linejoin:miter;stroke-width:0.8;\"/>\n    </g>\n    <g id=\"text_15\">\n     <!-- stroke -->\n     <g transform=\"translate(345.156 30.02175)scale(0.144 -0.144)\">\n      <defs>\n       <path d=\"M 2834 3397 \nL 2834 2853 \nQ 2591 2978 2328 3040 \nQ 2066 3103 1784 3103 \nQ 1356 3103 1142 2972 \nQ 928 2841 928 2578 \nQ 928 2378 1081 2264 \nQ 1234 2150 1697 2047 \nL 1894 2003 \nQ 2506 1872 2764 1633 \nQ 3022 1394 3022 966 \nQ 3022 478 2636 193 \nQ 2250 -91 1575 -91 \nQ 1294 -91 989 -36 \nQ 684 19 347 128 \nL 347 722 \nQ 666 556 975 473 \nQ 1284 391 1588 391 \nQ 1994 391 2212 530 \nQ 2431 669 2431 922 \nQ 2431 1156 2273 1281 \nQ 2116 1406 1581 1522 \nL 1381 1569 \nQ 847 1681 609 1914 \nQ 372 2147 372 2553 \nQ 372 3047 722 3315 \nQ 1072 3584 1716 3584 \nQ 2034 3584 2315 3537 \nQ 2597 3491 2834 3397 \nz\n\" id=\"DejaVuSans-73\" transform=\"scale(0.015625)\"/>\n       <path d=\"M 2631 2963 \nQ 2534 3019 2420 3045 \nQ 2306 3072 2169 3072 \nQ 1681 3072 1420 2755 \nQ 1159 2438 1159 1844 \nL 1159 0 \nL 581 0 \nL 581 3500 \nL 1159 3500 \nL 1159 2956 \nQ 1341 3275 1631 3429 \nQ 1922 3584 2338 3584 \nQ 2397 3584 2469 3576 \nQ 2541 3569 2628 3553 \nL 2631 2963 \nz\n\" id=\"DejaVuSans-72\" transform=\"scale(0.015625)\"/>\n       <path d=\"M 581 4863 \nL 1159 4863 \nL 1159 1991 \nL 2875 3500 \nL 3609 3500 \nL 1753 1863 \nL 3688 0 \nL 2938 0 \nL 1159 1709 \nL 1159 0 \nL 581 0 \nL 581 4863 \nz\n\" id=\"DejaVuSans-6b\" transform=\"scale(0.015625)\"/>\n       <path d=\"M 3597 1894 \nL 3597 1613 \nL 953 1613 \nQ 991 1019 1311 708 \nQ 1631 397 2203 397 \nQ 2534 397 2845 478 \nQ 3156 559 3463 722 \nL 3463 178 \nQ 3153 47 2828 -22 \nQ 2503 -91 2169 -91 \nQ 1331 -91 842 396 \nQ 353 884 353 1716 \nQ 353 2575 817 3079 \nQ 1281 3584 2069 3584 \nQ 2775 3584 3186 3129 \nQ 3597 2675 3597 1894 \nz\nM 3022 2063 \nQ 3016 2534 2758 2815 \nQ 2500 3097 2075 3097 \nQ 1594 3097 1305 2825 \nQ 1016 2553 972 2059 \nL 3022 2063 \nz\n\" id=\"DejaVuSans-65\" transform=\"scale(0.015625)\"/>\n      </defs>\n      <use xlink:href=\"#DejaVuSans-73\"/>\n      <use x=\"52.099609\" xlink:href=\"#DejaVuSans-74\"/>\n      <use x=\"91.308594\" xlink:href=\"#DejaVuSans-72\"/>\n      <use x=\"130.171875\" xlink:href=\"#DejaVuSans-6f\"/>\n      <use x=\"191.353516\" xlink:href=\"#DejaVuSans-6b\"/>\n      <use x=\"245.638672\" xlink:href=\"#DejaVuSans-65\"/>\n     </g>\n    </g>\n    <g id=\"patch_16\">\n     <path d=\"M 344.592 49.646437 \nL 370.992 49.646437 \nL 370.992 40.406437 \nL 344.592 40.406437 \nz\n\" style=\"fill:#3274a1;\"/>\n    </g>\n    <g id=\"text_16\">\n     <!-- 0 -->\n     <g transform=\"translate(381.552 49.646437)scale(0.132 -0.132)\">\n      <use xlink:href=\"#DejaVuSans-30\"/>\n     </g>\n    </g>\n    <g id=\"patch_17\">\n     <path d=\"M 344.592 69.021562 \nL 370.992 69.021562 \nL 370.992 59.781562 \nL 344.592 59.781562 \nz\n\" style=\"fill:#e1812c;\"/>\n    </g>\n    <g id=\"text_17\">\n     <!-- 1 -->\n     <g transform=\"translate(381.552 69.021562)scale(0.132 -0.132)\">\n      <use xlink:href=\"#DejaVuSans-31\"/>\n     </g>\n    </g>\n   </g>\n  </g>\n </g>\n <defs>\n  <clipPath id=\"p1d0670f700\">\n   <rect height=\"217.44\" width=\"334.8\" x=\"67.0305\" y=\"7.2\"/>\n  </clipPath>\n </defs>\n</svg>\n",
      "image/png": "[encoded data removed]"
     },
     "metadata": {
      "needs_background": "light"
     }
    }
   ],
   "source": [
    "sns.countplot(x=df['blood'], hue=df['stroke'])"
   ]
  },
  {
   "cell_type": "code",
   "execution_count": 41,
   "metadata": {},
   "outputs": [
    {
     "output_type": "stream",
     "name": "stderr",
     "text": [
      "<ipython-input-41-7d50f712a858>:1: SettingWithCopyWarning: \nA value is trying to be set on a copy of a slice from a DataFrame.\nTry using .loc[row_indexer,col_indexer] = value instead\n\nSee the caveats in the documentation: https://pandas.pydata.org/pandas-docs/stable/user_guide/indexing.html#returning-a-view-versus-a-copy\n  df['blood'] = df['blood'].fillna('AB')\n"
     ]
    }
   ],
   "source": [
    "df['blood'] = df['blood'].fillna('AB')"
   ]
  },
  {
   "cell_type": "code",
   "execution_count": 42,
   "metadata": {},
   "outputs": [
    {
     "output_type": "execute_result",
     "data": {
      "text/plain": [
       "   gender        age  hypertension  heart_disease ever_married work_type  \\\n",
       "0  Female  43.071256             0              0           No  children   \n",
       "1    Male  55.000000             0              0          Yes   Private   \n",
       "2  Female  42.000000             0              0           No   Private   \n",
       "4  Female  38.000000             0              0          Yes   Private   \n",
       "5  Female  24.000000             0              0           No   Private   \n",
       "\n",
       "  Residence_type  avg_glucose_level        bmi smoking_status blood  stroke  \\\n",
       "0        Unknown              85.81  18.600000        Unknown     O       0   \n",
       "1          Urban              89.17  31.480000   never smoked     B       0   \n",
       "2        Unknown              98.53  18.500000   never smoked     B       0   \n",
       "4        Unknown              91.44  31.020136        Unknown     O       0   \n",
       "5          Urban              97.55  26.200000   never smoked     B       0   \n",
       "\n",
       "  age_bin  \n",
       "0       3  \n",
       "1       4  \n",
       "2       3  \n",
       "4       3  \n",
       "5       2  "
      ],
      "text/html": "<div>\n<style scoped>\n    .dataframe tbody tr th:only-of-type {\n        vertical-align: middle;\n    }\n\n    .dataframe tbody tr th {\n        vertical-align: top;\n    }\n\n    .dataframe thead th {\n        text-align: right;\n    }\n</style>\n<table border=\"1\" class=\"dataframe\">\n  <thead>\n    <tr style=\"text-align: right;\">\n      <th></th>\n      <th>gender</th>\n      <th>age</th>\n      <th>hypertension</th>\n      <th>heart_disease</th>\n      <th>ever_married</th>\n      <th>work_type</th>\n      <th>Residence_type</th>\n      <th>avg_glucose_level</th>\n      <th>bmi</th>\n      <th>smoking_status</th>\n      <th>blood</th>\n      <th>stroke</th>\n      <th>age_bin</th>\n    </tr>\n  </thead>\n  <tbody>\n    <tr>\n      <th>0</th>\n      <td>Female</td>\n      <td>43.071256</td>\n      <td>0</td>\n      <td>0</td>\n      <td>No</td>\n      <td>children</td>\n      <td>Unknown</td>\n      <td>85.81</td>\n      <td>18.600000</td>\n      <td>Unknown</td>\n      <td>O</td>\n      <td>0</td>\n      <td>3</td>\n    </tr>\n    <tr>\n      <th>1</th>\n      <td>Male</td>\n      <td>55.000000</td>\n      <td>0</td>\n      <td>0</td>\n      <td>Yes</td>\n      <td>Private</td>\n      <td>Urban</td>\n      <td>89.17</td>\n      <td>31.480000</td>\n      <td>never smoked</td>\n      <td>B</td>\n      <td>0</td>\n      <td>4</td>\n    </tr>\n    <tr>\n      <th>2</th>\n      <td>Female</td>\n      <td>42.000000</td>\n      <td>0</td>\n      <td>0</td>\n      <td>No</td>\n      <td>Private</td>\n      <td>Unknown</td>\n      <td>98.53</td>\n      <td>18.500000</td>\n      <td>never smoked</td>\n      <td>B</td>\n      <td>0</td>\n      <td>3</td>\n    </tr>\n    <tr>\n      <th>4</th>\n      <td>Female</td>\n      <td>38.000000</td>\n      <td>0</td>\n      <td>0</td>\n      <td>Yes</td>\n      <td>Private</td>\n      <td>Unknown</td>\n      <td>91.44</td>\n      <td>31.020136</td>\n      <td>Unknown</td>\n      <td>O</td>\n      <td>0</td>\n      <td>3</td>\n    </tr>\n    <tr>\n      <th>5</th>\n      <td>Female</td>\n      <td>24.000000</td>\n      <td>0</td>\n      <td>0</td>\n      <td>No</td>\n      <td>Private</td>\n      <td>Urban</td>\n      <td>97.55</td>\n      <td>26.200000</td>\n      <td>never smoked</td>\n      <td>B</td>\n      <td>0</td>\n      <td>2</td>\n    </tr>\n  </tbody>\n</table>\n</div>"
     },
     "metadata": {},
     "execution_count": 42
    }
   ],
   "source": [
    "df.head()"
   ]
  },
  {
   "cell_type": "code",
   "execution_count": 43,
   "metadata": {},
   "outputs": [
    {
     "output_type": "execute_result",
     "data": {
      "text/plain": [
       "      gender        age  hypertension  heart_disease ever_married  \\\n",
       "0     Female  43.071256             0              0           No   \n",
       "2     Female  42.000000             0              0           No   \n",
       "4     Female  38.000000             0              0          Yes   \n",
       "6     Female  80.000000             0              0          Yes   \n",
       "7     Female  33.000000             0              0          Yes   \n",
       "...      ...        ...           ...            ...          ...   \n",
       "3990  Female  82.000000             0              0          Yes   \n",
       "3992    Male  46.000000             0              0          Yes   \n",
       "3993  Female  59.000000             0              0          Yes   \n",
       "3994  Female  52.000000             0              0          Yes   \n",
       "3995    Male  16.000000             0              0           No   \n",
       "\n",
       "          work_type Residence_type  avg_glucose_level        bmi  \\\n",
       "0          children        Unknown              85.81  18.600000   \n",
       "2           Private        Unknown              98.53  18.500000   \n",
       "4           Private        Unknown              91.44  31.020136   \n",
       "6          Govt_job        Unknown              84.86  29.288200   \n",
       "7           Private        Unknown              86.97  31.020136   \n",
       "...             ...            ...                ...        ...   \n",
       "3990  Self-employed        Unknown             243.59  24.300000   \n",
       "3992        Private        Unknown              59.05  31.020136   \n",
       "3993        Private        Unknown              65.98  31.480000   \n",
       "3994        Private        Unknown              69.30  31.480000   \n",
       "3995        Private        Unknown              99.49  22.000000   \n",
       "\n",
       "       smoking_status blood  stroke age_bin  \n",
       "0             Unknown     O       0       3  \n",
       "2        never smoked     B       0       3  \n",
       "4             Unknown     O       0       3  \n",
       "6             Unknown    AB       0       5  \n",
       "7        never smoked     A       0       3  \n",
       "...               ...   ...     ...     ...  \n",
       "3990     never smoked     B       0       5  \n",
       "3992  formerly smoked     B       0       3  \n",
       "3993          Unknown     O       0       4  \n",
       "3994     never smoked     B       0       4  \n",
       "3995          Unknown     B       0       1  \n",
       "\n",
       "[1951 rows x 13 columns]"
      ],
      "text/html": "<div>\n<style scoped>\n    .dataframe tbody tr th:only-of-type {\n        vertical-align: middle;\n    }\n\n    .dataframe tbody tr th {\n        vertical-align: top;\n    }\n\n    .dataframe thead th {\n        text-align: right;\n    }\n</style>\n<table border=\"1\" class=\"dataframe\">\n  <thead>\n    <tr style=\"text-align: right;\">\n      <th></th>\n      <th>gender</th>\n      <th>age</th>\n      <th>hypertension</th>\n      <th>heart_disease</th>\n      <th>ever_married</th>\n      <th>work_type</th>\n      <th>Residence_type</th>\n      <th>avg_glucose_level</th>\n      <th>bmi</th>\n      <th>smoking_status</th>\n      <th>blood</th>\n      <th>stroke</th>\n      <th>age_bin</th>\n    </tr>\n  </thead>\n  <tbody>\n    <tr>\n      <th>0</th>\n      <td>Female</td>\n      <td>43.071256</td>\n      <td>0</td>\n      <td>0</td>\n      <td>No</td>\n      <td>children</td>\n      <td>Unknown</td>\n      <td>85.81</td>\n      <td>18.600000</td>\n      <td>Unknown</td>\n      <td>O</td>\n      <td>0</td>\n      <td>3</td>\n    </tr>\n    <tr>\n      <th>2</th>\n      <td>Female</td>\n      <td>42.000000</td>\n      <td>0</td>\n      <td>0</td>\n      <td>No</td>\n      <td>Private</td>\n      <td>Unknown</td>\n      <td>98.53</td>\n      <td>18.500000</td>\n      <td>never smoked</td>\n      <td>B</td>\n      <td>0</td>\n      <td>3</td>\n    </tr>\n    <tr>\n      <th>4</th>\n      <td>Female</td>\n      <td>38.000000</td>\n      <td>0</td>\n      <td>0</td>\n      <td>Yes</td>\n      <td>Private</td>\n      <td>Unknown</td>\n      <td>91.44</td>\n      <td>31.020136</td>\n      <td>Unknown</td>\n      <td>O</td>\n      <td>0</td>\n      <td>3</td>\n    </tr>\n    <tr>\n      <th>6</th>\n      <td>Female</td>\n      <td>80.000000</td>\n      <td>0</td>\n      <td>0</td>\n      <td>Yes</td>\n      <td>Govt_job</td>\n      <td>Unknown</td>\n      <td>84.86</td>\n      <td>29.288200</td>\n      <td>Unknown</td>\n      <td>AB</td>\n      <td>0</td>\n      <td>5</td>\n    </tr>\n    <tr>\n      <th>7</th>\n      <td>Female</td>\n      <td>33.000000</td>\n      <td>0</td>\n      <td>0</td>\n      <td>Yes</td>\n      <td>Private</td>\n      <td>Unknown</td>\n      <td>86.97</td>\n      <td>31.020136</td>\n      <td>never smoked</td>\n      <td>A</td>\n      <td>0</td>\n      <td>3</td>\n    </tr>\n    <tr>\n      <th>...</th>\n      <td>...</td>\n      <td>...</td>\n      <td>...</td>\n      <td>...</td>\n      <td>...</td>\n      <td>...</td>\n      <td>...</td>\n      <td>...</td>\n      <td>...</td>\n      <td>...</td>\n      <td>...</td>\n      <td>...</td>\n      <td>...</td>\n    </tr>\n    <tr>\n      <th>3990</th>\n      <td>Female</td>\n      <td>82.000000</td>\n      <td>0</td>\n      <td>0</td>\n      <td>Yes</td>\n      <td>Self-employed</td>\n      <td>Unknown</td>\n      <td>243.59</td>\n      <td>24.300000</td>\n      <td>never smoked</td>\n      <td>B</td>\n      <td>0</td>\n      <td>5</td>\n    </tr>\n    <tr>\n      <th>3992</th>\n      <td>Male</td>\n      <td>46.000000</td>\n      <td>0</td>\n      <td>0</td>\n      <td>Yes</td>\n      <td>Private</td>\n      <td>Unknown</td>\n      <td>59.05</td>\n      <td>31.020136</td>\n      <td>formerly smoked</td>\n      <td>B</td>\n      <td>0</td>\n      <td>3</td>\n    </tr>\n    <tr>\n      <th>3993</th>\n      <td>Female</td>\n      <td>59.000000</td>\n      <td>0</td>\n      <td>0</td>\n      <td>Yes</td>\n      <td>Private</td>\n      <td>Unknown</td>\n      <td>65.98</td>\n      <td>31.480000</td>\n      <td>Unknown</td>\n      <td>O</td>\n      <td>0</td>\n      <td>4</td>\n    </tr>\n    <tr>\n      <th>3994</th>\n      <td>Female</td>\n      <td>52.000000</td>\n      <td>0</td>\n      <td>0</td>\n      <td>Yes</td>\n      <td>Private</td>\n      <td>Unknown</td>\n      <td>69.30</td>\n      <td>31.480000</td>\n      <td>never smoked</td>\n      <td>B</td>\n      <td>0</td>\n      <td>4</td>\n    </tr>\n    <tr>\n      <th>3995</th>\n      <td>Male</td>\n      <td>16.000000</td>\n      <td>0</td>\n      <td>0</td>\n      <td>No</td>\n      <td>Private</td>\n      <td>Unknown</td>\n      <td>99.49</td>\n      <td>22.000000</td>\n      <td>Unknown</td>\n      <td>B</td>\n      <td>0</td>\n      <td>1</td>\n    </tr>\n  </tbody>\n</table>\n<p>1951 rows × 13 columns</p>\n</div>"
     },
     "metadata": {},
     "execution_count": 43
    }
   ],
   "source": [
    "df['Residence_type'].unique()\n",
    "df.loc[df['Residence_type']=='Unknown']"
   ]
  },
  {
   "source": [
    "- We will convert ever_married to 0 and 1\n",
    "- We will one-hot-encode work_type, avg_glucose_level, blood\n",
    "- We will drop Residence_type\n",
    "- smoking_status????"
   ],
   "cell_type": "markdown",
   "metadata": {}
  },
  {
   "cell_type": "code",
   "execution_count": 44,
   "metadata": {},
   "outputs": [
    {
     "output_type": "stream",
     "name": "stderr",
     "text": [
      "/mnt/A0320C7B320C58A4/Code/Python/Stroke-prediction/Stroke_Env/lib/python3.8/site-packages/pandas/core/frame.py:4308: SettingWithCopyWarning: \nA value is trying to be set on a copy of a slice from a DataFrame\n\nSee the caveats in the documentation: https://pandas.pydata.org/pandas-docs/stable/user_guide/indexing.html#returning-a-view-versus-a-copy\n  return super().drop(\n"
     ]
    }
   ],
   "source": [
    "df.drop(columns='age_bin', inplace=True)"
   ]
  },
  {
   "cell_type": "code",
   "execution_count": 45,
   "metadata": {},
   "outputs": [
    {
     "output_type": "execute_result",
     "data": {
      "text/plain": [
       "      gender        age  hypertension  heart_disease ever_married work_type  \\\n",
       "0     Female  43.071256             0              0           No  children   \n",
       "1       Male  55.000000             0              0          Yes   Private   \n",
       "2     Female  42.000000             0              0           No   Private   \n",
       "4     Female  38.000000             0              0          Yes   Private   \n",
       "5     Female  24.000000             0              0           No   Private   \n",
       "...      ...        ...           ...            ...          ...       ...   \n",
       "3993  Female  59.000000             0              0          Yes   Private   \n",
       "3994  Female  52.000000             0              0          Yes   Private   \n",
       "3995    Male  16.000000             0              0           No   Private   \n",
       "3996    Male  47.000000             0              0          Yes   Private   \n",
       "3999  Female  53.000000             1              0          Yes   Private   \n",
       "\n",
       "     Residence_type  avg_glucose_level        bmi   smoking_status blood  \\\n",
       "0           Unknown              85.81  18.600000          Unknown     O   \n",
       "1             Urban              89.17  31.480000     never smoked     B   \n",
       "2           Unknown              98.53  18.500000     never smoked     B   \n",
       "4           Unknown              91.44  31.020136          Unknown     O   \n",
       "5             Urban              97.55  26.200000     never smoked     B   \n",
       "...             ...                ...        ...              ...   ...   \n",
       "3993        Unknown              65.98  31.480000          Unknown     O   \n",
       "3994        Unknown              69.30  31.480000     never smoked     B   \n",
       "3995        Unknown              99.49  22.000000          Unknown     B   \n",
       "3996          Rural              75.30  25.000000  formerly smoked     B   \n",
       "3999          Urban              62.55  30.300000          Unknown     O   \n",
       "\n",
       "      stroke  \n",
       "0          0  \n",
       "1          0  \n",
       "2          0  \n",
       "4          0  \n",
       "5          0  \n",
       "...      ...  \n",
       "3993       0  \n",
       "3994       0  \n",
       "3995       0  \n",
       "3996       0  \n",
       "3999       1  \n",
       "\n",
       "[3909 rows x 12 columns]"
      ],
      "text/html": "<div>\n<style scoped>\n    .dataframe tbody tr th:only-of-type {\n        vertical-align: middle;\n    }\n\n    .dataframe tbody tr th {\n        vertical-align: top;\n    }\n\n    .dataframe thead th {\n        text-align: right;\n    }\n</style>\n<table border=\"1\" class=\"dataframe\">\n  <thead>\n    <tr style=\"text-align: right;\">\n      <th></th>\n      <th>gender</th>\n      <th>age</th>\n      <th>hypertension</th>\n      <th>heart_disease</th>\n      <th>ever_married</th>\n      <th>work_type</th>\n      <th>Residence_type</th>\n      <th>avg_glucose_level</th>\n      <th>bmi</th>\n      <th>smoking_status</th>\n      <th>blood</th>\n      <th>stroke</th>\n    </tr>\n  </thead>\n  <tbody>\n    <tr>\n      <th>0</th>\n      <td>Female</td>\n      <td>43.071256</td>\n      <td>0</td>\n      <td>0</td>\n      <td>No</td>\n      <td>children</td>\n      <td>Unknown</td>\n      <td>85.81</td>\n      <td>18.600000</td>\n      <td>Unknown</td>\n      <td>O</td>\n      <td>0</td>\n    </tr>\n    <tr>\n      <th>1</th>\n      <td>Male</td>\n      <td>55.000000</td>\n      <td>0</td>\n      <td>0</td>\n      <td>Yes</td>\n      <td>Private</td>\n      <td>Urban</td>\n      <td>89.17</td>\n      <td>31.480000</td>\n      <td>never smoked</td>\n      <td>B</td>\n      <td>0</td>\n    </tr>\n    <tr>\n      <th>2</th>\n      <td>Female</td>\n      <td>42.000000</td>\n      <td>0</td>\n      <td>0</td>\n      <td>No</td>\n      <td>Private</td>\n      <td>Unknown</td>\n      <td>98.53</td>\n      <td>18.500000</td>\n      <td>never smoked</td>\n      <td>B</td>\n      <td>0</td>\n    </tr>\n    <tr>\n      <th>4</th>\n      <td>Female</td>\n      <td>38.000000</td>\n      <td>0</td>\n      <td>0</td>\n      <td>Yes</td>\n      <td>Private</td>\n      <td>Unknown</td>\n      <td>91.44</td>\n      <td>31.020136</td>\n      <td>Unknown</td>\n      <td>O</td>\n      <td>0</td>\n    </tr>\n    <tr>\n      <th>5</th>\n      <td>Female</td>\n      <td>24.000000</td>\n      <td>0</td>\n      <td>0</td>\n      <td>No</td>\n      <td>Private</td>\n      <td>Urban</td>\n      <td>97.55</td>\n      <td>26.200000</td>\n      <td>never smoked</td>\n      <td>B</td>\n      <td>0</td>\n    </tr>\n    <tr>\n      <th>...</th>\n      <td>...</td>\n      <td>...</td>\n      <td>...</td>\n      <td>...</td>\n      <td>...</td>\n      <td>...</td>\n      <td>...</td>\n      <td>...</td>\n      <td>...</td>\n      <td>...</td>\n      <td>...</td>\n      <td>...</td>\n    </tr>\n    <tr>\n      <th>3993</th>\n      <td>Female</td>\n      <td>59.000000</td>\n      <td>0</td>\n      <td>0</td>\n      <td>Yes</td>\n      <td>Private</td>\n      <td>Unknown</td>\n      <td>65.98</td>\n      <td>31.480000</td>\n      <td>Unknown</td>\n      <td>O</td>\n      <td>0</td>\n    </tr>\n    <tr>\n      <th>3994</th>\n      <td>Female</td>\n      <td>52.000000</td>\n      <td>0</td>\n      <td>0</td>\n      <td>Yes</td>\n      <td>Private</td>\n      <td>Unknown</td>\n      <td>69.30</td>\n      <td>31.480000</td>\n      <td>never smoked</td>\n      <td>B</td>\n      <td>0</td>\n    </tr>\n    <tr>\n      <th>3995</th>\n      <td>Male</td>\n      <td>16.000000</td>\n      <td>0</td>\n      <td>0</td>\n      <td>No</td>\n      <td>Private</td>\n      <td>Unknown</td>\n      <td>99.49</td>\n      <td>22.000000</td>\n      <td>Unknown</td>\n      <td>B</td>\n      <td>0</td>\n    </tr>\n    <tr>\n      <th>3996</th>\n      <td>Male</td>\n      <td>47.000000</td>\n      <td>0</td>\n      <td>0</td>\n      <td>Yes</td>\n      <td>Private</td>\n      <td>Rural</td>\n      <td>75.30</td>\n      <td>25.000000</td>\n      <td>formerly smoked</td>\n      <td>B</td>\n      <td>0</td>\n    </tr>\n    <tr>\n      <th>3999</th>\n      <td>Female</td>\n      <td>53.000000</td>\n      <td>1</td>\n      <td>0</td>\n      <td>Yes</td>\n      <td>Private</td>\n      <td>Urban</td>\n      <td>62.55</td>\n      <td>30.300000</td>\n      <td>Unknown</td>\n      <td>O</td>\n      <td>1</td>\n    </tr>\n  </tbody>\n</table>\n<p>3909 rows × 12 columns</p>\n</div>"
     },
     "metadata": {},
     "execution_count": 45
    }
   ],
   "source": [
    "df"
   ]
  },
  {
   "cell_type": "code",
   "execution_count": 46,
   "metadata": {},
   "outputs": [
    {
     "output_type": "stream",
     "name": "stdout",
     "text": [
      "gender= ['Female' 'Male' 'Other']\nage= [4.30712561e+01 5.50000000e+01 4.20000000e+01 3.80000000e+01\n 2.40000000e+01 8.00000000e+01 3.30000000e+01 8.00000000e+00\n 2.00000000e+01 4.30000000e+01 2.30000000e+01 5.90000000e+01\n 3.10000000e+01 7.90000000e+01 4.10000000e+01 4.50000000e+01\n 1.60000000e+01 6.50000000e+01 5.80000000e+01 4.40000000e+01\n 7.80000000e+01 4.90000000e+01 4.80000000e+01 3.70000000e+01\n 4.60000000e+01 2.80000000e+01 1.20000000e+01 3.00000000e+00\n 5.40000000e+01 1.30000000e+01 1.40000000e+01 6.90000000e+01\n 5.20000000e+01 8.20000000e+01 1.00000000e+01 7.30000000e+01\n 3.90000000e+01 8.00000000e-01 7.40000000e+01 3.20000000e+01\n 6.00000000e+01 7.00000000e+00 1.80000000e+01 7.00000000e+01\n 6.10000000e+01 1.50000000e+01 6.20000000e+01 1.88000000e+00\n 1.70000000e+01 3.50000000e+01 6.80000000e+01 2.90000000e+01\n 7.70000000e+01 6.40000000e+01 3.00000000e+01 6.30000000e+01\n 4.00000000e+01 4.70000000e+01 7.50000000e+01 6.70000000e+01\n 2.50000000e+01 4.00000000e+00 5.00000000e+00 1.90000000e+01\n 5.60000000e+01 3.40000000e+01 5.70000000e+01 5.00000000e+01\n 5.10000000e+01 7.20000000e+01 5.30000000e+01 8.10000000e+01\n 3.60000000e+01 2.60000000e+01 7.10000000e+01 6.60000000e+01\n 2.00000000e+00 2.20000000e+01 2.70000000e+01 2.10000000e+01\n 7.60000000e+01 9.00000000e+00 6.00000000e+00 5.60000000e-01\n 1.10000000e+01 6.40000000e-01 1.60000000e-01 1.80000000e+00\n 2.40000000e-01 1.08000000e+00 1.00000000e+00 1.32000000e+00\n 3.20000000e-01 1.56000000e+00 1.72000000e+00 1.64000000e+00\n 8.80000000e-01 1.48000000e+00 8.00000000e-02 1.16000000e+00\n 1.24000000e+00 4.80000000e-01 4.00000000e-01 1.40000000e+00\n 7.20000000e-01]\nhypertension= [0 1]\nheart_disease= [0 1]\never_married= ['No' 'Yes']\nwork_type= ['children' 'Private' 'Govt_job' 'Self-employed' 'Never_worked']\nResidence_type= ['Unknown' 'Urban' 'Rural']\navg_glucose_level= [85.81 89.17 98.53 ... 69.3  75.3  62.55]\nbmi= [18.6      31.48     18.5      31.020136 26.2      29.2882   20.715509\n 27.6      37.6      28.814368 31.6      24.9      39.7      25.7\n 26.8      41.3      37.       24.1      23.9      31.       23.1\n 20.9      31.5      36.2      20.1      22.8      40.1      26.5\n 24.3      33.1      27.3      23.4      24.2      30.       22.2\n 28.7      26.6      27.1      38.8      28.5      18.9      40.8\n 21.5      32.2      23.5      31.4      30.1      42.6      35.9\n 20.7      26.1      24.       42.2      31.7      38.       29.7\n 35.3      30.9      33.5      28.1      36.       29.8      29.6\n 32.3      26.7      21.4      24.4      34.5      32.       31.8\n 28.2      18.       36.1      29.       25.8      20.2      31.9\n 29.4      32.4      16.7      32.1      17.       23.8      17.3\n 35.8      22.9      18.1      30.5      28.4      32.7      27.8\n 17.1      33.       11.3      39.5      23.6      23.7      27.\n 20.4      30.4      22.4      24.6      32.8      15.3      28.8\n 23.3      26.9      26.       36.4      27.7      21.6      26.3\n 21.8      43.8      27.2      30.8      38.9      38.2      26.4\n 34.3      24.5      31.3      28.       37.8      20.8      25.5\n 19.4      30.2      27.9      29.1      30.7      35.2      16.6\n 30.3      22.1      21.2      21.7      28.3      37.7      35.7\n 31.2      32.5      35.5      23.       14.8      16.8      39.4\n 29.9      38.1      22.3      27.4      34.2      30.6      24.8\n 15.1      13.8      18.8      40.3      19.2      22.6      21.3\n 18.7      18.3      38.6      18.2      38.3      40.4      41.6\n 17.6      17.4      34.       25.1      34.7      23.2      28.9\n 33.9      20.3      19.5      34.4      18.4      22.7      13.9\n 40.6      24.7      17.8      17.9      33.4      16.4      27.5\n 19.8      36.6      39.3      17.5      20.6      31.1      35.6\n 37.9      25.4      22.       34.6      42.       39.       25.6\n 25.3      14.6      33.3      39.2      35.       44.6      29.5\n 33.6      15.9      32.9      32.6      20.       16.3      14.2\n 20.5      29.3      43.7      36.8      14.5      33.7      42.1\n 44.8      19.7      44.3      36.9      15.       15.8      41.2\n 39.1      29.2      41.8      25.2      28.6      42.4      43.6\n 40.9      41.1      17.7      19.9      43.9      41.5      36.7\n 21.       19.1      21.9      37.2      37.4      36.3      37.1\n 39.9      41.4      25.9      25.       33.8      14.1      21.1\n 34.1      43.3      39.6      12.       19.       38.4      40.\n 38.7      15.5      22.5      16.       33.2      34.8      16.2\n 41.       44.       36.5      40.2      16.5      43.1      37.5\n 42.7      17.2      42.3      16.9      19.3      41.7      44.7\n 14.3      43.       44.5      19.6      13.       40.5      34.9\n 44.2      16.1      12.3      15.2      42.8      41.9      35.1\n 43.2      13.7      38.5      37.3      43.4      35.4      13.2\n 14.4      15.4      12.8      13.5      15.7      11.5      40.7\n 42.9      39.8     ]\nsmoking_status= ['Unknown' 'never smoked' 'smokes' 'formerly smoked']\nblood= ['O' 'B' 'AB' 'A']\nstroke= [0 1]\n"
     ]
    }
   ],
   "source": [
    "for i in df.columns:\n",
    "    print(str(i) + '= ' + str(df[i].unique()))"
   ]
  },
  {
   "cell_type": "code",
   "execution_count": 47,
   "metadata": {},
   "outputs": [
    {
     "output_type": "stream",
     "name": "stderr",
     "text": [
      "<ipython-input-47-fd4effd14e13>:2: SettingWithCopyWarning: \nA value is trying to be set on a copy of a slice from a DataFrame.\nTry using .loc[row_indexer,col_indexer] = value instead\n\nSee the caveats in the documentation: https://pandas.pydata.org/pandas-docs/stable/user_guide/indexing.html#returning-a-view-versus-a-copy\n  df['ever_married'] = df['ever_married'].map(marriage_mapping)\n"
     ]
    }
   ],
   "source": [
    "marriage_mapping = {'No': 0, 'Yes': 1}\n",
    "df['ever_married'] = df['ever_married'].map(marriage_mapping)"
   ]
  },
  {
   "cell_type": "code",
   "execution_count": 48,
   "metadata": {},
   "outputs": [
    {
     "output_type": "execute_result",
     "data": {
      "text/plain": [
       "   gender        age  hypertension  heart_disease  ever_married work_type  \\\n",
       "0  Female  43.071256             0              0             0  children   \n",
       "1    Male  55.000000             0              0             1   Private   \n",
       "2  Female  42.000000             0              0             0   Private   \n",
       "4  Female  38.000000             0              0             1   Private   \n",
       "5  Female  24.000000             0              0             0   Private   \n",
       "\n",
       "  Residence_type  avg_glucose_level        bmi smoking_status blood  stroke  \n",
       "0        Unknown              85.81  18.600000        Unknown     O       0  \n",
       "1          Urban              89.17  31.480000   never smoked     B       0  \n",
       "2        Unknown              98.53  18.500000   never smoked     B       0  \n",
       "4        Unknown              91.44  31.020136        Unknown     O       0  \n",
       "5          Urban              97.55  26.200000   never smoked     B       0  "
      ],
      "text/html": "<div>\n<style scoped>\n    .dataframe tbody tr th:only-of-type {\n        vertical-align: middle;\n    }\n\n    .dataframe tbody tr th {\n        vertical-align: top;\n    }\n\n    .dataframe thead th {\n        text-align: right;\n    }\n</style>\n<table border=\"1\" class=\"dataframe\">\n  <thead>\n    <tr style=\"text-align: right;\">\n      <th></th>\n      <th>gender</th>\n      <th>age</th>\n      <th>hypertension</th>\n      <th>heart_disease</th>\n      <th>ever_married</th>\n      <th>work_type</th>\n      <th>Residence_type</th>\n      <th>avg_glucose_level</th>\n      <th>bmi</th>\n      <th>smoking_status</th>\n      <th>blood</th>\n      <th>stroke</th>\n    </tr>\n  </thead>\n  <tbody>\n    <tr>\n      <th>0</th>\n      <td>Female</td>\n      <td>43.071256</td>\n      <td>0</td>\n      <td>0</td>\n      <td>0</td>\n      <td>children</td>\n      <td>Unknown</td>\n      <td>85.81</td>\n      <td>18.600000</td>\n      <td>Unknown</td>\n      <td>O</td>\n      <td>0</td>\n    </tr>\n    <tr>\n      <th>1</th>\n      <td>Male</td>\n      <td>55.000000</td>\n      <td>0</td>\n      <td>0</td>\n      <td>1</td>\n      <td>Private</td>\n      <td>Urban</td>\n      <td>89.17</td>\n      <td>31.480000</td>\n      <td>never smoked</td>\n      <td>B</td>\n      <td>0</td>\n    </tr>\n    <tr>\n      <th>2</th>\n      <td>Female</td>\n      <td>42.000000</td>\n      <td>0</td>\n      <td>0</td>\n      <td>0</td>\n      <td>Private</td>\n      <td>Unknown</td>\n      <td>98.53</td>\n      <td>18.500000</td>\n      <td>never smoked</td>\n      <td>B</td>\n      <td>0</td>\n    </tr>\n    <tr>\n      <th>4</th>\n      <td>Female</td>\n      <td>38.000000</td>\n      <td>0</td>\n      <td>0</td>\n      <td>1</td>\n      <td>Private</td>\n      <td>Unknown</td>\n      <td>91.44</td>\n      <td>31.020136</td>\n      <td>Unknown</td>\n      <td>O</td>\n      <td>0</td>\n    </tr>\n    <tr>\n      <th>5</th>\n      <td>Female</td>\n      <td>24.000000</td>\n      <td>0</td>\n      <td>0</td>\n      <td>0</td>\n      <td>Private</td>\n      <td>Urban</td>\n      <td>97.55</td>\n      <td>26.200000</td>\n      <td>never smoked</td>\n      <td>B</td>\n      <td>0</td>\n    </tr>\n  </tbody>\n</table>\n</div>"
     },
     "metadata": {},
     "execution_count": 48
    }
   ],
   "source": [
    "df.head()"
   ]
  },
  {
   "cell_type": "code",
   "execution_count": 49,
   "metadata": {},
   "outputs": [],
   "source": [
    "oh = OneHotEncoder()"
   ]
  },
  {
   "source": [
    "categorical_features_oh = ['gender', 'blood', 'smoking_status', 'Residence_type', 'work_type']"
   ],
   "cell_type": "code",
   "metadata": {},
   "execution_count": 50,
   "outputs": []
  },
  {
   "cell_type": "code",
   "execution_count": 51,
   "metadata": {},
   "outputs": [
    {
     "output_type": "stream",
     "name": "stderr",
     "text": [
      "<ipython-input-51-d97b40af56c7>:2: SettingWithCopyWarning: \nA value is trying to be set on a copy of a slice from a DataFrame.\nTry using .loc[row_indexer,col_indexer] = value instead\n\nSee the caveats in the documentation: https://pandas.pydata.org/pandas-docs/stable/user_guide/indexing.html#returning-a-view-versus-a-copy\n  df[i] = pd.Categorical(df[i])\n"
     ]
    },
    {
     "output_type": "execute_result",
     "data": {
      "text/plain": [
       "      gender        age  hypertension  heart_disease  ever_married work_type  \\\n",
       "0     Female  43.071256             0              0             0  children   \n",
       "1       Male  55.000000             0              0             1   Private   \n",
       "2     Female  42.000000             0              0             0   Private   \n",
       "4     Female  38.000000             0              0             1   Private   \n",
       "5     Female  24.000000             0              0             0   Private   \n",
       "...      ...        ...           ...            ...           ...       ...   \n",
       "3993  Female  59.000000             0              0             1   Private   \n",
       "3994  Female  52.000000             0              0             1   Private   \n",
       "3995    Male  16.000000             0              0             0   Private   \n",
       "3996    Male  47.000000             0              0             1   Private   \n",
       "3999  Female  53.000000             1              0             1   Private   \n",
       "\n",
       "     Residence_type  avg_glucose_level        bmi   smoking_status  ...  \\\n",
       "0           Unknown              85.81  18.600000          Unknown  ...   \n",
       "1             Urban              89.17  31.480000     never smoked  ...   \n",
       "2           Unknown              98.53  18.500000     never smoked  ...   \n",
       "4           Unknown              91.44  31.020136          Unknown  ...   \n",
       "5             Urban              97.55  26.200000     never smoked  ...   \n",
       "...             ...                ...        ...              ...  ...   \n",
       "3993        Unknown              65.98  31.480000          Unknown  ...   \n",
       "3994        Unknown              69.30  31.480000     never smoked  ...   \n",
       "3995        Unknown              99.49  22.000000          Unknown  ...   \n",
       "3996          Rural              75.30  25.000000  formerly smoked  ...   \n",
       "3999          Urban              62.55  30.300000          Unknown  ...   \n",
       "\n",
       "     smoking_status_never smoked  smoking_status_smokes  Residence_type_Rural  \\\n",
       "0                              0                      0                     0   \n",
       "1                              1                      0                     0   \n",
       "2                              1                      0                     0   \n",
       "4                              0                      0                     0   \n",
       "5                              1                      0                     0   \n",
       "...                          ...                    ...                   ...   \n",
       "3993                           0                      0                     0   \n",
       "3994                           1                      0                     0   \n",
       "3995                           0                      0                     0   \n",
       "3996                           0                      0                     1   \n",
       "3999                           0                      0                     0   \n",
       "\n",
       "      Residence_type_Unknown  Residence_type_Urban  work_type_Govt_job  \\\n",
       "0                          1                     0                   0   \n",
       "1                          0                     1                   0   \n",
       "2                          1                     0                   0   \n",
       "4                          1                     0                   0   \n",
       "5                          0                     1                   0   \n",
       "...                      ...                   ...                 ...   \n",
       "3993                       1                     0                   0   \n",
       "3994                       1                     0                   0   \n",
       "3995                       1                     0                   0   \n",
       "3996                       0                     0                   0   \n",
       "3999                       0                     1                   0   \n",
       "\n",
       "      work_type_Never_worked  work_type_Private  work_type_Self-employed  \\\n",
       "0                          0                  0                        0   \n",
       "1                          0                  1                        0   \n",
       "2                          0                  1                        0   \n",
       "4                          0                  1                        0   \n",
       "5                          0                  1                        0   \n",
       "...                      ...                ...                      ...   \n",
       "3993                       0                  1                        0   \n",
       "3994                       0                  1                        0   \n",
       "3995                       0                  1                        0   \n",
       "3996                       0                  1                        0   \n",
       "3999                       0                  1                        0   \n",
       "\n",
       "      work_type_children  \n",
       "0                      1  \n",
       "1                      0  \n",
       "2                      0  \n",
       "4                      0  \n",
       "5                      0  \n",
       "...                  ...  \n",
       "3993                   0  \n",
       "3994                   0  \n",
       "3995                   0  \n",
       "3996                   0  \n",
       "3999                   0  \n",
       "\n",
       "[3909 rows x 31 columns]"
      ],
      "text/html": "<div>\n<style scoped>\n    .dataframe tbody tr th:only-of-type {\n        vertical-align: middle;\n    }\n\n    .dataframe tbody tr th {\n        vertical-align: top;\n    }\n\n    .dataframe thead th {\n        text-align: right;\n    }\n</style>\n<table border=\"1\" class=\"dataframe\">\n  <thead>\n    <tr style=\"text-align: right;\">\n      <th></th>\n      <th>gender</th>\n      <th>age</th>\n      <th>hypertension</th>\n      <th>heart_disease</th>\n      <th>ever_married</th>\n      <th>work_type</th>\n      <th>Residence_type</th>\n      <th>avg_glucose_level</th>\n      <th>bmi</th>\n      <th>smoking_status</th>\n      <th>...</th>\n      <th>smoking_status_never smoked</th>\n      <th>smoking_status_smokes</th>\n      <th>Residence_type_Rural</th>\n      <th>Residence_type_Unknown</th>\n      <th>Residence_type_Urban</th>\n      <th>work_type_Govt_job</th>\n      <th>work_type_Never_worked</th>\n      <th>work_type_Private</th>\n      <th>work_type_Self-employed</th>\n      <th>work_type_children</th>\n    </tr>\n  </thead>\n  <tbody>\n    <tr>\n      <th>0</th>\n      <td>Female</td>\n      <td>43.071256</td>\n      <td>0</td>\n      <td>0</td>\n      <td>0</td>\n      <td>children</td>\n      <td>Unknown</td>\n      <td>85.81</td>\n      <td>18.600000</td>\n      <td>Unknown</td>\n      <td>...</td>\n      <td>0</td>\n      <td>0</td>\n      <td>0</td>\n      <td>1</td>\n      <td>0</td>\n      <td>0</td>\n      <td>0</td>\n      <td>0</td>\n      <td>0</td>\n      <td>1</td>\n    </tr>\n    <tr>\n      <th>1</th>\n      <td>Male</td>\n      <td>55.000000</td>\n      <td>0</td>\n      <td>0</td>\n      <td>1</td>\n      <td>Private</td>\n      <td>Urban</td>\n      <td>89.17</td>\n      <td>31.480000</td>\n      <td>never smoked</td>\n      <td>...</td>\n      <td>1</td>\n      <td>0</td>\n      <td>0</td>\n      <td>0</td>\n      <td>1</td>\n      <td>0</td>\n      <td>0</td>\n      <td>1</td>\n      <td>0</td>\n      <td>0</td>\n    </tr>\n    <tr>\n      <th>2</th>\n      <td>Female</td>\n      <td>42.000000</td>\n      <td>0</td>\n      <td>0</td>\n      <td>0</td>\n      <td>Private</td>\n      <td>Unknown</td>\n      <td>98.53</td>\n      <td>18.500000</td>\n      <td>never smoked</td>\n      <td>...</td>\n      <td>1</td>\n      <td>0</td>\n      <td>0</td>\n      <td>1</td>\n      <td>0</td>\n      <td>0</td>\n      <td>0</td>\n      <td>1</td>\n      <td>0</td>\n      <td>0</td>\n    </tr>\n    <tr>\n      <th>4</th>\n      <td>Female</td>\n      <td>38.000000</td>\n      <td>0</td>\n      <td>0</td>\n      <td>1</td>\n      <td>Private</td>\n      <td>Unknown</td>\n      <td>91.44</td>\n      <td>31.020136</td>\n      <td>Unknown</td>\n      <td>...</td>\n      <td>0</td>\n      <td>0</td>\n      <td>0</td>\n      <td>1</td>\n      <td>0</td>\n      <td>0</td>\n      <td>0</td>\n      <td>1</td>\n      <td>0</td>\n      <td>0</td>\n    </tr>\n    <tr>\n      <th>5</th>\n      <td>Female</td>\n      <td>24.000000</td>\n      <td>0</td>\n      <td>0</td>\n      <td>0</td>\n      <td>Private</td>\n      <td>Urban</td>\n      <td>97.55</td>\n      <td>26.200000</td>\n      <td>never smoked</td>\n      <td>...</td>\n      <td>1</td>\n      <td>0</td>\n      <td>0</td>\n      <td>0</td>\n      <td>1</td>\n      <td>0</td>\n      <td>0</td>\n      <td>1</td>\n      <td>0</td>\n      <td>0</td>\n    </tr>\n    <tr>\n      <th>...</th>\n      <td>...</td>\n      <td>...</td>\n      <td>...</td>\n      <td>...</td>\n      <td>...</td>\n      <td>...</td>\n      <td>...</td>\n      <td>...</td>\n      <td>...</td>\n      <td>...</td>\n      <td>...</td>\n      <td>...</td>\n      <td>...</td>\n      <td>...</td>\n      <td>...</td>\n      <td>...</td>\n      <td>...</td>\n      <td>...</td>\n      <td>...</td>\n      <td>...</td>\n      <td>...</td>\n    </tr>\n    <tr>\n      <th>3993</th>\n      <td>Female</td>\n      <td>59.000000</td>\n      <td>0</td>\n      <td>0</td>\n      <td>1</td>\n      <td>Private</td>\n      <td>Unknown</td>\n      <td>65.98</td>\n      <td>31.480000</td>\n      <td>Unknown</td>\n      <td>...</td>\n      <td>0</td>\n      <td>0</td>\n      <td>0</td>\n      <td>1</td>\n      <td>0</td>\n      <td>0</td>\n      <td>0</td>\n      <td>1</td>\n      <td>0</td>\n      <td>0</td>\n    </tr>\n    <tr>\n      <th>3994</th>\n      <td>Female</td>\n      <td>52.000000</td>\n      <td>0</td>\n      <td>0</td>\n      <td>1</td>\n      <td>Private</td>\n      <td>Unknown</td>\n      <td>69.30</td>\n      <td>31.480000</td>\n      <td>never smoked</td>\n      <td>...</td>\n      <td>1</td>\n      <td>0</td>\n      <td>0</td>\n      <td>1</td>\n      <td>0</td>\n      <td>0</td>\n      <td>0</td>\n      <td>1</td>\n      <td>0</td>\n      <td>0</td>\n    </tr>\n    <tr>\n      <th>3995</th>\n      <td>Male</td>\n      <td>16.000000</td>\n      <td>0</td>\n      <td>0</td>\n      <td>0</td>\n      <td>Private</td>\n      <td>Unknown</td>\n      <td>99.49</td>\n      <td>22.000000</td>\n      <td>Unknown</td>\n      <td>...</td>\n      <td>0</td>\n      <td>0</td>\n      <td>0</td>\n      <td>1</td>\n      <td>0</td>\n      <td>0</td>\n      <td>0</td>\n      <td>1</td>\n      <td>0</td>\n      <td>0</td>\n    </tr>\n    <tr>\n      <th>3996</th>\n      <td>Male</td>\n      <td>47.000000</td>\n      <td>0</td>\n      <td>0</td>\n      <td>1</td>\n      <td>Private</td>\n      <td>Rural</td>\n      <td>75.30</td>\n      <td>25.000000</td>\n      <td>formerly smoked</td>\n      <td>...</td>\n      <td>0</td>\n      <td>0</td>\n      <td>1</td>\n      <td>0</td>\n      <td>0</td>\n      <td>0</td>\n      <td>0</td>\n      <td>1</td>\n      <td>0</td>\n      <td>0</td>\n    </tr>\n    <tr>\n      <th>3999</th>\n      <td>Female</td>\n      <td>53.000000</td>\n      <td>1</td>\n      <td>0</td>\n      <td>1</td>\n      <td>Private</td>\n      <td>Urban</td>\n      <td>62.55</td>\n      <td>30.300000</td>\n      <td>Unknown</td>\n      <td>...</td>\n      <td>0</td>\n      <td>0</td>\n      <td>0</td>\n      <td>0</td>\n      <td>1</td>\n      <td>0</td>\n      <td>0</td>\n      <td>1</td>\n      <td>0</td>\n      <td>0</td>\n    </tr>\n  </tbody>\n</table>\n<p>3909 rows × 31 columns</p>\n</div>"
     },
     "metadata": {},
     "execution_count": 51
    }
   ],
   "source": [
    "for i in categorical_features_oh:\n",
    "    df[i] = pd.Categorical(df[i])\n",
    "    dfDummies = pd.get_dummies(df[i], prefix= i)\n",
    "    df = pd.concat([df, dfDummies], axis=1)\n",
    "df"
   ]
  },
  {
   "cell_type": "code",
   "execution_count": 52,
   "metadata": {},
   "outputs": [
    {
     "output_type": "execute_result",
     "data": {
      "text/plain": [
       "            age  hypertension  heart_disease  ever_married  avg_glucose_level  \\\n",
       "0     43.071256             0              0             0              85.81   \n",
       "1     55.000000             0              0             1              89.17   \n",
       "2     42.000000             0              0             0              98.53   \n",
       "4     38.000000             0              0             1              91.44   \n",
       "5     24.000000             0              0             0              97.55   \n",
       "...         ...           ...            ...           ...                ...   \n",
       "3993  59.000000             0              0             1              65.98   \n",
       "3994  52.000000             0              0             1              69.30   \n",
       "3995  16.000000             0              0             0              99.49   \n",
       "3996  47.000000             0              0             1              75.30   \n",
       "3999  53.000000             1              0             1              62.55   \n",
       "\n",
       "            bmi  stroke  gender_Female  gender_Male  gender_Other  ...  \\\n",
       "0     18.600000       0              1            0             0  ...   \n",
       "1     31.480000       0              0            1             0  ...   \n",
       "2     18.500000       0              1            0             0  ...   \n",
       "4     31.020136       0              1            0             0  ...   \n",
       "5     26.200000       0              1            0             0  ...   \n",
       "...         ...     ...            ...          ...           ...  ...   \n",
       "3993  31.480000       0              1            0             0  ...   \n",
       "3994  31.480000       0              1            0             0  ...   \n",
       "3995  22.000000       0              0            1             0  ...   \n",
       "3996  25.000000       0              0            1             0  ...   \n",
       "3999  30.300000       1              1            0             0  ...   \n",
       "\n",
       "      smoking_status_never smoked  smoking_status_smokes  \\\n",
       "0                               0                      0   \n",
       "1                               1                      0   \n",
       "2                               1                      0   \n",
       "4                               0                      0   \n",
       "5                               1                      0   \n",
       "...                           ...                    ...   \n",
       "3993                            0                      0   \n",
       "3994                            1                      0   \n",
       "3995                            0                      0   \n",
       "3996                            0                      0   \n",
       "3999                            0                      0   \n",
       "\n",
       "      Residence_type_Rural  Residence_type_Unknown  Residence_type_Urban  \\\n",
       "0                        0                       1                     0   \n",
       "1                        0                       0                     1   \n",
       "2                        0                       1                     0   \n",
       "4                        0                       1                     0   \n",
       "5                        0                       0                     1   \n",
       "...                    ...                     ...                   ...   \n",
       "3993                     0                       1                     0   \n",
       "3994                     0                       1                     0   \n",
       "3995                     0                       1                     0   \n",
       "3996                     1                       0                     0   \n",
       "3999                     0                       0                     1   \n",
       "\n",
       "      work_type_Govt_job  work_type_Never_worked  work_type_Private  \\\n",
       "0                      0                       0                  0   \n",
       "1                      0                       0                  1   \n",
       "2                      0                       0                  1   \n",
       "4                      0                       0                  1   \n",
       "5                      0                       0                  1   \n",
       "...                  ...                     ...                ...   \n",
       "3993                   0                       0                  1   \n",
       "3994                   0                       0                  1   \n",
       "3995                   0                       0                  1   \n",
       "3996                   0                       0                  1   \n",
       "3999                   0                       0                  1   \n",
       "\n",
       "      work_type_Self-employed  work_type_children  \n",
       "0                           0                   1  \n",
       "1                           0                   0  \n",
       "2                           0                   0  \n",
       "4                           0                   0  \n",
       "5                           0                   0  \n",
       "...                       ...                 ...  \n",
       "3993                        0                   0  \n",
       "3994                        0                   0  \n",
       "3995                        0                   0  \n",
       "3996                        0                   0  \n",
       "3999                        0                   0  \n",
       "\n",
       "[3909 rows x 26 columns]"
      ],
      "text/html": "<div>\n<style scoped>\n    .dataframe tbody tr th:only-of-type {\n        vertical-align: middle;\n    }\n\n    .dataframe tbody tr th {\n        vertical-align: top;\n    }\n\n    .dataframe thead th {\n        text-align: right;\n    }\n</style>\n<table border=\"1\" class=\"dataframe\">\n  <thead>\n    <tr style=\"text-align: right;\">\n      <th></th>\n      <th>age</th>\n      <th>hypertension</th>\n      <th>heart_disease</th>\n      <th>ever_married</th>\n      <th>avg_glucose_level</th>\n      <th>bmi</th>\n      <th>stroke</th>\n      <th>gender_Female</th>\n      <th>gender_Male</th>\n      <th>gender_Other</th>\n      <th>...</th>\n      <th>smoking_status_never smoked</th>\n      <th>smoking_status_smokes</th>\n      <th>Residence_type_Rural</th>\n      <th>Residence_type_Unknown</th>\n      <th>Residence_type_Urban</th>\n      <th>work_type_Govt_job</th>\n      <th>work_type_Never_worked</th>\n      <th>work_type_Private</th>\n      <th>work_type_Self-employed</th>\n      <th>work_type_children</th>\n    </tr>\n  </thead>\n  <tbody>\n    <tr>\n      <th>0</th>\n      <td>43.071256</td>\n      <td>0</td>\n      <td>0</td>\n      <td>0</td>\n      <td>85.81</td>\n      <td>18.600000</td>\n      <td>0</td>\n      <td>1</td>\n      <td>0</td>\n      <td>0</td>\n      <td>...</td>\n      <td>0</td>\n      <td>0</td>\n      <td>0</td>\n      <td>1</td>\n      <td>0</td>\n      <td>0</td>\n      <td>0</td>\n      <td>0</td>\n      <td>0</td>\n      <td>1</td>\n    </tr>\n    <tr>\n      <th>1</th>\n      <td>55.000000</td>\n      <td>0</td>\n      <td>0</td>\n      <td>1</td>\n      <td>89.17</td>\n      <td>31.480000</td>\n      <td>0</td>\n      <td>0</td>\n      <td>1</td>\n      <td>0</td>\n      <td>...</td>\n      <td>1</td>\n      <td>0</td>\n      <td>0</td>\n      <td>0</td>\n      <td>1</td>\n      <td>0</td>\n      <td>0</td>\n      <td>1</td>\n      <td>0</td>\n      <td>0</td>\n    </tr>\n    <tr>\n      <th>2</th>\n      <td>42.000000</td>\n      <td>0</td>\n      <td>0</td>\n      <td>0</td>\n      <td>98.53</td>\n      <td>18.500000</td>\n      <td>0</td>\n      <td>1</td>\n      <td>0</td>\n      <td>0</td>\n      <td>...</td>\n      <td>1</td>\n      <td>0</td>\n      <td>0</td>\n      <td>1</td>\n      <td>0</td>\n      <td>0</td>\n      <td>0</td>\n      <td>1</td>\n      <td>0</td>\n      <td>0</td>\n    </tr>\n    <tr>\n      <th>4</th>\n      <td>38.000000</td>\n      <td>0</td>\n      <td>0</td>\n      <td>1</td>\n      <td>91.44</td>\n      <td>31.020136</td>\n      <td>0</td>\n      <td>1</td>\n      <td>0</td>\n      <td>0</td>\n      <td>...</td>\n      <td>0</td>\n      <td>0</td>\n      <td>0</td>\n      <td>1</td>\n      <td>0</td>\n      <td>0</td>\n      <td>0</td>\n      <td>1</td>\n      <td>0</td>\n      <td>0</td>\n    </tr>\n    <tr>\n      <th>5</th>\n      <td>24.000000</td>\n      <td>0</td>\n      <td>0</td>\n      <td>0</td>\n      <td>97.55</td>\n      <td>26.200000</td>\n      <td>0</td>\n      <td>1</td>\n      <td>0</td>\n      <td>0</td>\n      <td>...</td>\n      <td>1</td>\n      <td>0</td>\n      <td>0</td>\n      <td>0</td>\n      <td>1</td>\n      <td>0</td>\n      <td>0</td>\n      <td>1</td>\n      <td>0</td>\n      <td>0</td>\n    </tr>\n    <tr>\n      <th>...</th>\n      <td>...</td>\n      <td>...</td>\n      <td>...</td>\n      <td>...</td>\n      <td>...</td>\n      <td>...</td>\n      <td>...</td>\n      <td>...</td>\n      <td>...</td>\n      <td>...</td>\n      <td>...</td>\n      <td>...</td>\n      <td>...</td>\n      <td>...</td>\n      <td>...</td>\n      <td>...</td>\n      <td>...</td>\n      <td>...</td>\n      <td>...</td>\n      <td>...</td>\n      <td>...</td>\n    </tr>\n    <tr>\n      <th>3993</th>\n      <td>59.000000</td>\n      <td>0</td>\n      <td>0</td>\n      <td>1</td>\n      <td>65.98</td>\n      <td>31.480000</td>\n      <td>0</td>\n      <td>1</td>\n      <td>0</td>\n      <td>0</td>\n      <td>...</td>\n      <td>0</td>\n      <td>0</td>\n      <td>0</td>\n      <td>1</td>\n      <td>0</td>\n      <td>0</td>\n      <td>0</td>\n      <td>1</td>\n      <td>0</td>\n      <td>0</td>\n    </tr>\n    <tr>\n      <th>3994</th>\n      <td>52.000000</td>\n      <td>0</td>\n      <td>0</td>\n      <td>1</td>\n      <td>69.30</td>\n      <td>31.480000</td>\n      <td>0</td>\n      <td>1</td>\n      <td>0</td>\n      <td>0</td>\n      <td>...</td>\n      <td>1</td>\n      <td>0</td>\n      <td>0</td>\n      <td>1</td>\n      <td>0</td>\n      <td>0</td>\n      <td>0</td>\n      <td>1</td>\n      <td>0</td>\n      <td>0</td>\n    </tr>\n    <tr>\n      <th>3995</th>\n      <td>16.000000</td>\n      <td>0</td>\n      <td>0</td>\n      <td>0</td>\n      <td>99.49</td>\n      <td>22.000000</td>\n      <td>0</td>\n      <td>0</td>\n      <td>1</td>\n      <td>0</td>\n      <td>...</td>\n      <td>0</td>\n      <td>0</td>\n      <td>0</td>\n      <td>1</td>\n      <td>0</td>\n      <td>0</td>\n      <td>0</td>\n      <td>1</td>\n      <td>0</td>\n      <td>0</td>\n    </tr>\n    <tr>\n      <th>3996</th>\n      <td>47.000000</td>\n      <td>0</td>\n      <td>0</td>\n      <td>1</td>\n      <td>75.30</td>\n      <td>25.000000</td>\n      <td>0</td>\n      <td>0</td>\n      <td>1</td>\n      <td>0</td>\n      <td>...</td>\n      <td>0</td>\n      <td>0</td>\n      <td>1</td>\n      <td>0</td>\n      <td>0</td>\n      <td>0</td>\n      <td>0</td>\n      <td>1</td>\n      <td>0</td>\n      <td>0</td>\n    </tr>\n    <tr>\n      <th>3999</th>\n      <td>53.000000</td>\n      <td>1</td>\n      <td>0</td>\n      <td>1</td>\n      <td>62.55</td>\n      <td>30.300000</td>\n      <td>1</td>\n      <td>1</td>\n      <td>0</td>\n      <td>0</td>\n      <td>...</td>\n      <td>0</td>\n      <td>0</td>\n      <td>0</td>\n      <td>0</td>\n      <td>1</td>\n      <td>0</td>\n      <td>0</td>\n      <td>1</td>\n      <td>0</td>\n      <td>0</td>\n    </tr>\n  </tbody>\n</table>\n<p>3909 rows × 26 columns</p>\n</div>"
     },
     "metadata": {},
     "execution_count": 52
    }
   ],
   "source": [
    "for i in categorical_features_oh:\n",
    "    df.drop(columns=i, axis=1, inplace=True)\n",
    "df"
   ]
  },
  {
   "cell_type": "code",
   "execution_count": 53,
   "metadata": {},
   "outputs": [
    {
     "output_type": "execute_result",
     "data": {
      "text/plain": [
       "                                Total  Percent\n",
       "age                                 0      0.0\n",
       "hypertension                        0      0.0\n",
       "work_type_Self-employed             0      0.0\n",
       "work_type_Private                   0      0.0\n",
       "work_type_Never_worked              0      0.0\n",
       "work_type_Govt_job                  0      0.0\n",
       "Residence_type_Urban                0      0.0\n",
       "Residence_type_Unknown              0      0.0\n",
       "Residence_type_Rural                0      0.0\n",
       "smoking_status_smokes               0      0.0\n",
       "smoking_status_never smoked         0      0.0\n",
       "smoking_status_formerly smoked      0      0.0\n",
       "smoking_status_Unknown              0      0.0\n",
       "blood_O                             0      0.0\n",
       "blood_B                             0      0.0\n",
       "blood_AB                            0      0.0\n",
       "blood_A                             0      0.0\n",
       "gender_Other                        0      0.0\n",
       "gender_Male                         0      0.0\n",
       "gender_Female                       0      0.0\n",
       "stroke                              0      0.0\n",
       "bmi                                 0      0.0\n",
       "avg_glucose_level                   0      0.0\n",
       "ever_married                        0      0.0\n",
       "heart_disease                       0      0.0\n",
       "work_type_children                  0      0.0"
      ],
      "text/html": "<div>\n<style scoped>\n    .dataframe tbody tr th:only-of-type {\n        vertical-align: middle;\n    }\n\n    .dataframe tbody tr th {\n        vertical-align: top;\n    }\n\n    .dataframe thead th {\n        text-align: right;\n    }\n</style>\n<table border=\"1\" class=\"dataframe\">\n  <thead>\n    <tr style=\"text-align: right;\">\n      <th></th>\n      <th>Total</th>\n      <th>Percent</th>\n    </tr>\n  </thead>\n  <tbody>\n    <tr>\n      <th>age</th>\n      <td>0</td>\n      <td>0.0</td>\n    </tr>\n    <tr>\n      <th>hypertension</th>\n      <td>0</td>\n      <td>0.0</td>\n    </tr>\n    <tr>\n      <th>work_type_Self-employed</th>\n      <td>0</td>\n      <td>0.0</td>\n    </tr>\n    <tr>\n      <th>work_type_Private</th>\n      <td>0</td>\n      <td>0.0</td>\n    </tr>\n    <tr>\n      <th>work_type_Never_worked</th>\n      <td>0</td>\n      <td>0.0</td>\n    </tr>\n    <tr>\n      <th>work_type_Govt_job</th>\n      <td>0</td>\n      <td>0.0</td>\n    </tr>\n    <tr>\n      <th>Residence_type_Urban</th>\n      <td>0</td>\n      <td>0.0</td>\n    </tr>\n    <tr>\n      <th>Residence_type_Unknown</th>\n      <td>0</td>\n      <td>0.0</td>\n    </tr>\n    <tr>\n      <th>Residence_type_Rural</th>\n      <td>0</td>\n      <td>0.0</td>\n    </tr>\n    <tr>\n      <th>smoking_status_smokes</th>\n      <td>0</td>\n      <td>0.0</td>\n    </tr>\n    <tr>\n      <th>smoking_status_never smoked</th>\n      <td>0</td>\n      <td>0.0</td>\n    </tr>\n    <tr>\n      <th>smoking_status_formerly smoked</th>\n      <td>0</td>\n      <td>0.0</td>\n    </tr>\n    <tr>\n      <th>smoking_status_Unknown</th>\n      <td>0</td>\n      <td>0.0</td>\n    </tr>\n    <tr>\n      <th>blood_O</th>\n      <td>0</td>\n      <td>0.0</td>\n    </tr>\n    <tr>\n      <th>blood_B</th>\n      <td>0</td>\n      <td>0.0</td>\n    </tr>\n    <tr>\n      <th>blood_AB</th>\n      <td>0</td>\n      <td>0.0</td>\n    </tr>\n    <tr>\n      <th>blood_A</th>\n      <td>0</td>\n      <td>0.0</td>\n    </tr>\n    <tr>\n      <th>gender_Other</th>\n      <td>0</td>\n      <td>0.0</td>\n    </tr>\n    <tr>\n      <th>gender_Male</th>\n      <td>0</td>\n      <td>0.0</td>\n    </tr>\n    <tr>\n      <th>gender_Female</th>\n      <td>0</td>\n      <td>0.0</td>\n    </tr>\n    <tr>\n      <th>stroke</th>\n      <td>0</td>\n      <td>0.0</td>\n    </tr>\n    <tr>\n      <th>bmi</th>\n      <td>0</td>\n      <td>0.0</td>\n    </tr>\n    <tr>\n      <th>avg_glucose_level</th>\n      <td>0</td>\n      <td>0.0</td>\n    </tr>\n    <tr>\n      <th>ever_married</th>\n      <td>0</td>\n      <td>0.0</td>\n    </tr>\n    <tr>\n      <th>heart_disease</th>\n      <td>0</td>\n      <td>0.0</td>\n    </tr>\n    <tr>\n      <th>work_type_children</th>\n      <td>0</td>\n      <td>0.0</td>\n    </tr>\n  </tbody>\n</table>\n</div>"
     },
     "metadata": {},
     "execution_count": 53
    }
   ],
   "source": [
    "draw_missing_data_table(df)"
   ]
  },
  {
   "cell_type": "code",
   "execution_count": 54,
   "metadata": {},
   "outputs": [],
   "source": [
    "from sklearn.preprocessing import StandardScaler\n",
    "std = StandardScaler()\n",
    "columns = ['avg_glucose_level','bmi','age']\n",
    "scaled = std.fit_transform(df[columns])\n",
    "scaled = pd.DataFrame(scaled,columns=columns)\n",
    "df=df.drop(columns=columns,axis=1)"
   ]
  },
  {
   "cell_type": "code",
   "execution_count": 55,
   "metadata": {},
   "outputs": [
    {
     "output_type": "execute_result",
     "data": {
      "text/plain": [
       "      hypertension  heart_disease  ever_married  stroke  gender_Female  \\\n",
       "0                0              0             0       0              1   \n",
       "1                0              0             1       0              0   \n",
       "2                0              0             0       0              1   \n",
       "3                0              0             1       0              1   \n",
       "4                0              0             0       0              1   \n",
       "...            ...            ...           ...     ...            ...   \n",
       "3904             0              0             1       0              1   \n",
       "3905             0              0             1       0              1   \n",
       "3906             0              0             0       0              0   \n",
       "3907             0              0             1       0              0   \n",
       "3908             1              0             1       1              1   \n",
       "\n",
       "      gender_Male  gender_Other  blood_A  blood_AB  blood_B  ...  \\\n",
       "0               0             0        0         0        0  ...   \n",
       "1               1             0        0         0        1  ...   \n",
       "2               0             0        0         0        1  ...   \n",
       "3               0             0        0         0        0  ...   \n",
       "4               0             0        0         0        1  ...   \n",
       "...           ...           ...      ...       ...      ...  ...   \n",
       "3904            0             0        0         0        0  ...   \n",
       "3905            0             0        0         0        1  ...   \n",
       "3906            1             0        0         0        1  ...   \n",
       "3907            1             0        0         0        1  ...   \n",
       "3908            0             0        0         0        0  ...   \n",
       "\n",
       "      Residence_type_Unknown  Residence_type_Urban  work_type_Govt_job  \\\n",
       "0                          1                     0                   0   \n",
       "1                          0                     1                   0   \n",
       "2                          1                     0                   0   \n",
       "3                          1                     0                   0   \n",
       "4                          0                     1                   0   \n",
       "...                      ...                   ...                 ...   \n",
       "3904                       1                     0                   0   \n",
       "3905                       1                     0                   0   \n",
       "3906                       1                     0                   0   \n",
       "3907                       0                     0                   0   \n",
       "3908                       0                     1                   0   \n",
       "\n",
       "      work_type_Never_worked  work_type_Private  work_type_Self-employed  \\\n",
       "0                          0                  0                        0   \n",
       "1                          0                  1                        0   \n",
       "2                          0                  1                        0   \n",
       "3                          0                  1                        0   \n",
       "4                          0                  1                        0   \n",
       "...                      ...                ...                      ...   \n",
       "3904                       0                  1                        0   \n",
       "3905                       0                  1                        0   \n",
       "3906                       0                  1                        0   \n",
       "3907                       0                  1                        0   \n",
       "3908                       0                  1                        0   \n",
       "\n",
       "      work_type_children  avg_glucose_level       bmi       age  \n",
       "0                      1          -0.454391 -1.632301  0.000364  \n",
       "1                      0          -0.377299  0.528038  0.535819  \n",
       "2                      0          -0.162540 -1.649074 -0.047722  \n",
       "3                      0          -0.325215  0.450906 -0.227273  \n",
       "4                      0          -0.185025 -0.357567 -0.855701  \n",
       "...                  ...                ...       ...       ...  \n",
       "3904                   0          -0.909377  0.528038  0.715369  \n",
       "3905                   0          -0.833202  0.528038  0.401155  \n",
       "3906                   0          -0.140513 -1.062025 -1.214803  \n",
       "3907                   0          -0.695536 -0.558841  0.176717  \n",
       "3908                   0          -0.988076  0.330119  0.446043  \n",
       "\n",
       "[3909 rows x 26 columns]"
      ],
      "text/html": "<div>\n<style scoped>\n    .dataframe tbody tr th:only-of-type {\n        vertical-align: middle;\n    }\n\n    .dataframe tbody tr th {\n        vertical-align: top;\n    }\n\n    .dataframe thead th {\n        text-align: right;\n    }\n</style>\n<table border=\"1\" class=\"dataframe\">\n  <thead>\n    <tr style=\"text-align: right;\">\n      <th></th>\n      <th>hypertension</th>\n      <th>heart_disease</th>\n      <th>ever_married</th>\n      <th>stroke</th>\n      <th>gender_Female</th>\n      <th>gender_Male</th>\n      <th>gender_Other</th>\n      <th>blood_A</th>\n      <th>blood_AB</th>\n      <th>blood_B</th>\n      <th>...</th>\n      <th>Residence_type_Unknown</th>\n      <th>Residence_type_Urban</th>\n      <th>work_type_Govt_job</th>\n      <th>work_type_Never_worked</th>\n      <th>work_type_Private</th>\n      <th>work_type_Self-employed</th>\n      <th>work_type_children</th>\n      <th>avg_glucose_level</th>\n      <th>bmi</th>\n      <th>age</th>\n    </tr>\n  </thead>\n  <tbody>\n    <tr>\n      <th>0</th>\n      <td>0</td>\n      <td>0</td>\n      <td>0</td>\n      <td>0</td>\n      <td>1</td>\n      <td>0</td>\n      <td>0</td>\n      <td>0</td>\n      <td>0</td>\n      <td>0</td>\n      <td>...</td>\n      <td>1</td>\n      <td>0</td>\n      <td>0</td>\n      <td>0</td>\n      <td>0</td>\n      <td>0</td>\n      <td>1</td>\n      <td>-0.454391</td>\n      <td>-1.632301</td>\n      <td>0.000364</td>\n    </tr>\n    <tr>\n      <th>1</th>\n      <td>0</td>\n      <td>0</td>\n      <td>1</td>\n      <td>0</td>\n      <td>0</td>\n      <td>1</td>\n      <td>0</td>\n      <td>0</td>\n      <td>0</td>\n      <td>1</td>\n      <td>...</td>\n      <td>0</td>\n      <td>1</td>\n      <td>0</td>\n      <td>0</td>\n      <td>1</td>\n      <td>0</td>\n      <td>0</td>\n      <td>-0.377299</td>\n      <td>0.528038</td>\n      <td>0.535819</td>\n    </tr>\n    <tr>\n      <th>2</th>\n      <td>0</td>\n      <td>0</td>\n      <td>0</td>\n      <td>0</td>\n      <td>1</td>\n      <td>0</td>\n      <td>0</td>\n      <td>0</td>\n      <td>0</td>\n      <td>1</td>\n      <td>...</td>\n      <td>1</td>\n      <td>0</td>\n      <td>0</td>\n      <td>0</td>\n      <td>1</td>\n      <td>0</td>\n      <td>0</td>\n      <td>-0.162540</td>\n      <td>-1.649074</td>\n      <td>-0.047722</td>\n    </tr>\n    <tr>\n      <th>3</th>\n      <td>0</td>\n      <td>0</td>\n      <td>1</td>\n      <td>0</td>\n      <td>1</td>\n      <td>0</td>\n      <td>0</td>\n      <td>0</td>\n      <td>0</td>\n      <td>0</td>\n      <td>...</td>\n      <td>1</td>\n      <td>0</td>\n      <td>0</td>\n      <td>0</td>\n      <td>1</td>\n      <td>0</td>\n      <td>0</td>\n      <td>-0.325215</td>\n      <td>0.450906</td>\n      <td>-0.227273</td>\n    </tr>\n    <tr>\n      <th>4</th>\n      <td>0</td>\n      <td>0</td>\n      <td>0</td>\n      <td>0</td>\n      <td>1</td>\n      <td>0</td>\n      <td>0</td>\n      <td>0</td>\n      <td>0</td>\n      <td>1</td>\n      <td>...</td>\n      <td>0</td>\n      <td>1</td>\n      <td>0</td>\n      <td>0</td>\n      <td>1</td>\n      <td>0</td>\n      <td>0</td>\n      <td>-0.185025</td>\n      <td>-0.357567</td>\n      <td>-0.855701</td>\n    </tr>\n    <tr>\n      <th>...</th>\n      <td>...</td>\n      <td>...</td>\n      <td>...</td>\n      <td>...</td>\n      <td>...</td>\n      <td>...</td>\n      <td>...</td>\n      <td>...</td>\n      <td>...</td>\n      <td>...</td>\n      <td>...</td>\n      <td>...</td>\n      <td>...</td>\n      <td>...</td>\n      <td>...</td>\n      <td>...</td>\n      <td>...</td>\n      <td>...</td>\n      <td>...</td>\n      <td>...</td>\n      <td>...</td>\n    </tr>\n    <tr>\n      <th>3904</th>\n      <td>0</td>\n      <td>0</td>\n      <td>1</td>\n      <td>0</td>\n      <td>1</td>\n      <td>0</td>\n      <td>0</td>\n      <td>0</td>\n      <td>0</td>\n      <td>0</td>\n      <td>...</td>\n      <td>1</td>\n      <td>0</td>\n      <td>0</td>\n      <td>0</td>\n      <td>1</td>\n      <td>0</td>\n      <td>0</td>\n      <td>-0.909377</td>\n      <td>0.528038</td>\n      <td>0.715369</td>\n    </tr>\n    <tr>\n      <th>3905</th>\n      <td>0</td>\n      <td>0</td>\n      <td>1</td>\n      <td>0</td>\n      <td>1</td>\n      <td>0</td>\n      <td>0</td>\n      <td>0</td>\n      <td>0</td>\n      <td>1</td>\n      <td>...</td>\n      <td>1</td>\n      <td>0</td>\n      <td>0</td>\n      <td>0</td>\n      <td>1</td>\n      <td>0</td>\n      <td>0</td>\n      <td>-0.833202</td>\n      <td>0.528038</td>\n      <td>0.401155</td>\n    </tr>\n    <tr>\n      <th>3906</th>\n      <td>0</td>\n      <td>0</td>\n      <td>0</td>\n      <td>0</td>\n      <td>0</td>\n      <td>1</td>\n      <td>0</td>\n      <td>0</td>\n      <td>0</td>\n      <td>1</td>\n      <td>...</td>\n      <td>1</td>\n      <td>0</td>\n      <td>0</td>\n      <td>0</td>\n      <td>1</td>\n      <td>0</td>\n      <td>0</td>\n      <td>-0.140513</td>\n      <td>-1.062025</td>\n      <td>-1.214803</td>\n    </tr>\n    <tr>\n      <th>3907</th>\n      <td>0</td>\n      <td>0</td>\n      <td>1</td>\n      <td>0</td>\n      <td>0</td>\n      <td>1</td>\n      <td>0</td>\n      <td>0</td>\n      <td>0</td>\n      <td>1</td>\n      <td>...</td>\n      <td>0</td>\n      <td>0</td>\n      <td>0</td>\n      <td>0</td>\n      <td>1</td>\n      <td>0</td>\n      <td>0</td>\n      <td>-0.695536</td>\n      <td>-0.558841</td>\n      <td>0.176717</td>\n    </tr>\n    <tr>\n      <th>3908</th>\n      <td>1</td>\n      <td>0</td>\n      <td>1</td>\n      <td>1</td>\n      <td>1</td>\n      <td>0</td>\n      <td>0</td>\n      <td>0</td>\n      <td>0</td>\n      <td>0</td>\n      <td>...</td>\n      <td>0</td>\n      <td>1</td>\n      <td>0</td>\n      <td>0</td>\n      <td>1</td>\n      <td>0</td>\n      <td>0</td>\n      <td>-0.988076</td>\n      <td>0.330119</td>\n      <td>0.446043</td>\n    </tr>\n  </tbody>\n</table>\n<p>3909 rows × 26 columns</p>\n</div>"
     },
     "metadata": {},
     "execution_count": 55
    }
   ],
   "source": [
    "df = df.reset_index(drop=True)\n",
    "df = df.merge(scaled, left_index=True, right_index=True, how = \"left\")\n",
    "df"
   ]
  },
  {
   "cell_type": "code",
   "execution_count": 56,
   "metadata": {},
   "outputs": [
    {
     "output_type": "execute_result",
     "data": {
      "text/plain": [
       "                                Total  Percent\n",
       "hypertension                        0      0.0\n",
       "heart_disease                       0      0.0\n",
       "bmi                                 0      0.0\n",
       "avg_glucose_level                   0      0.0\n",
       "work_type_children                  0      0.0\n",
       "work_type_Self-employed             0      0.0\n",
       "work_type_Private                   0      0.0\n",
       "work_type_Never_worked              0      0.0\n",
       "work_type_Govt_job                  0      0.0\n",
       "Residence_type_Urban                0      0.0\n",
       "Residence_type_Unknown              0      0.0\n",
       "Residence_type_Rural                0      0.0\n",
       "smoking_status_smokes               0      0.0\n",
       "smoking_status_never smoked         0      0.0\n",
       "smoking_status_formerly smoked      0      0.0\n",
       "smoking_status_Unknown              0      0.0\n",
       "blood_O                             0      0.0\n",
       "blood_B                             0      0.0\n",
       "blood_AB                            0      0.0\n",
       "blood_A                             0      0.0\n",
       "gender_Other                        0      0.0\n",
       "gender_Male                         0      0.0\n",
       "gender_Female                       0      0.0\n",
       "stroke                              0      0.0\n",
       "ever_married                        0      0.0\n",
       "age                                 0      0.0"
      ],
      "text/html": "<div>\n<style scoped>\n    .dataframe tbody tr th:only-of-type {\n        vertical-align: middle;\n    }\n\n    .dataframe tbody tr th {\n        vertical-align: top;\n    }\n\n    .dataframe thead th {\n        text-align: right;\n    }\n</style>\n<table border=\"1\" class=\"dataframe\">\n  <thead>\n    <tr style=\"text-align: right;\">\n      <th></th>\n      <th>Total</th>\n      <th>Percent</th>\n    </tr>\n  </thead>\n  <tbody>\n    <tr>\n      <th>hypertension</th>\n      <td>0</td>\n      <td>0.0</td>\n    </tr>\n    <tr>\n      <th>heart_disease</th>\n      <td>0</td>\n      <td>0.0</td>\n    </tr>\n    <tr>\n      <th>bmi</th>\n      <td>0</td>\n      <td>0.0</td>\n    </tr>\n    <tr>\n      <th>avg_glucose_level</th>\n      <td>0</td>\n      <td>0.0</td>\n    </tr>\n    <tr>\n      <th>work_type_children</th>\n      <td>0</td>\n      <td>0.0</td>\n    </tr>\n    <tr>\n      <th>work_type_Self-employed</th>\n      <td>0</td>\n      <td>0.0</td>\n    </tr>\n    <tr>\n      <th>work_type_Private</th>\n      <td>0</td>\n      <td>0.0</td>\n    </tr>\n    <tr>\n      <th>work_type_Never_worked</th>\n      <td>0</td>\n      <td>0.0</td>\n    </tr>\n    <tr>\n      <th>work_type_Govt_job</th>\n      <td>0</td>\n      <td>0.0</td>\n    </tr>\n    <tr>\n      <th>Residence_type_Urban</th>\n      <td>0</td>\n      <td>0.0</td>\n    </tr>\n    <tr>\n      <th>Residence_type_Unknown</th>\n      <td>0</td>\n      <td>0.0</td>\n    </tr>\n    <tr>\n      <th>Residence_type_Rural</th>\n      <td>0</td>\n      <td>0.0</td>\n    </tr>\n    <tr>\n      <th>smoking_status_smokes</th>\n      <td>0</td>\n      <td>0.0</td>\n    </tr>\n    <tr>\n      <th>smoking_status_never smoked</th>\n      <td>0</td>\n      <td>0.0</td>\n    </tr>\n    <tr>\n      <th>smoking_status_formerly smoked</th>\n      <td>0</td>\n      <td>0.0</td>\n    </tr>\n    <tr>\n      <th>smoking_status_Unknown</th>\n      <td>0</td>\n      <td>0.0</td>\n    </tr>\n    <tr>\n      <th>blood_O</th>\n      <td>0</td>\n      <td>0.0</td>\n    </tr>\n    <tr>\n      <th>blood_B</th>\n      <td>0</td>\n      <td>0.0</td>\n    </tr>\n    <tr>\n      <th>blood_AB</th>\n      <td>0</td>\n      <td>0.0</td>\n    </tr>\n    <tr>\n      <th>blood_A</th>\n      <td>0</td>\n      <td>0.0</td>\n    </tr>\n    <tr>\n      <th>gender_Other</th>\n      <td>0</td>\n      <td>0.0</td>\n    </tr>\n    <tr>\n      <th>gender_Male</th>\n      <td>0</td>\n      <td>0.0</td>\n    </tr>\n    <tr>\n      <th>gender_Female</th>\n      <td>0</td>\n      <td>0.0</td>\n    </tr>\n    <tr>\n      <th>stroke</th>\n      <td>0</td>\n      <td>0.0</td>\n    </tr>\n    <tr>\n      <th>ever_married</th>\n      <td>0</td>\n      <td>0.0</td>\n    </tr>\n    <tr>\n      <th>age</th>\n      <td>0</td>\n      <td>0.0</td>\n    </tr>\n  </tbody>\n</table>\n</div>"
     },
     "metadata": {},
     "execution_count": 56
    }
   ],
   "source": [
    "draw_missing_data_table(df)"
   ]
  },
  {
   "cell_type": "code",
   "execution_count": 57,
   "metadata": {},
   "outputs": [],
   "source": [
    "x = df.copy()\n",
    "x = x.drop(columns='stroke')\n",
    "y = df['stroke']"
   ]
  },
  {
   "cell_type": "code",
   "execution_count": 58,
   "metadata": {},
   "outputs": [
    {
     "output_type": "execute_result",
     "data": {
      "text/plain": [
       "   hypertension  heart_disease  ever_married  gender_Female  gender_Male  \\\n",
       "0             0              0             0              1            0   \n",
       "1             0              0             1              0            1   \n",
       "2             0              0             0              1            0   \n",
       "3             0              0             1              1            0   \n",
       "4             0              0             0              1            0   \n",
       "\n",
       "   gender_Other  blood_A  blood_AB  blood_B  blood_O  ...  \\\n",
       "0             0        0         0        0        1  ...   \n",
       "1             0        0         0        1        0  ...   \n",
       "2             0        0         0        1        0  ...   \n",
       "3             0        0         0        0        1  ...   \n",
       "4             0        0         0        1        0  ...   \n",
       "\n",
       "   Residence_type_Unknown  Residence_type_Urban  work_type_Govt_job  \\\n",
       "0                       1                     0                   0   \n",
       "1                       0                     1                   0   \n",
       "2                       1                     0                   0   \n",
       "3                       1                     0                   0   \n",
       "4                       0                     1                   0   \n",
       "\n",
       "   work_type_Never_worked  work_type_Private  work_type_Self-employed  \\\n",
       "0                       0                  0                        0   \n",
       "1                       0                  1                        0   \n",
       "2                       0                  1                        0   \n",
       "3                       0                  1                        0   \n",
       "4                       0                  1                        0   \n",
       "\n",
       "   work_type_children  avg_glucose_level       bmi       age  \n",
       "0                   1          -0.454391 -1.632301  0.000364  \n",
       "1                   0          -0.377299  0.528038  0.535819  \n",
       "2                   0          -0.162540 -1.649074 -0.047722  \n",
       "3                   0          -0.325215  0.450906 -0.227273  \n",
       "4                   0          -0.185025 -0.357567 -0.855701  \n",
       "\n",
       "[5 rows x 25 columns]"
      ],
      "text/html": "<div>\n<style scoped>\n    .dataframe tbody tr th:only-of-type {\n        vertical-align: middle;\n    }\n\n    .dataframe tbody tr th {\n        vertical-align: top;\n    }\n\n    .dataframe thead th {\n        text-align: right;\n    }\n</style>\n<table border=\"1\" class=\"dataframe\">\n  <thead>\n    <tr style=\"text-align: right;\">\n      <th></th>\n      <th>hypertension</th>\n      <th>heart_disease</th>\n      <th>ever_married</th>\n      <th>gender_Female</th>\n      <th>gender_Male</th>\n      <th>gender_Other</th>\n      <th>blood_A</th>\n      <th>blood_AB</th>\n      <th>blood_B</th>\n      <th>blood_O</th>\n      <th>...</th>\n      <th>Residence_type_Unknown</th>\n      <th>Residence_type_Urban</th>\n      <th>work_type_Govt_job</th>\n      <th>work_type_Never_worked</th>\n      <th>work_type_Private</th>\n      <th>work_type_Self-employed</th>\n      <th>work_type_children</th>\n      <th>avg_glucose_level</th>\n      <th>bmi</th>\n      <th>age</th>\n    </tr>\n  </thead>\n  <tbody>\n    <tr>\n      <th>0</th>\n      <td>0</td>\n      <td>0</td>\n      <td>0</td>\n      <td>1</td>\n      <td>0</td>\n      <td>0</td>\n      <td>0</td>\n      <td>0</td>\n      <td>0</td>\n      <td>1</td>\n      <td>...</td>\n      <td>1</td>\n      <td>0</td>\n      <td>0</td>\n      <td>0</td>\n      <td>0</td>\n      <td>0</td>\n      <td>1</td>\n      <td>-0.454391</td>\n      <td>-1.632301</td>\n      <td>0.000364</td>\n    </tr>\n    <tr>\n      <th>1</th>\n      <td>0</td>\n      <td>0</td>\n      <td>1</td>\n      <td>0</td>\n      <td>1</td>\n      <td>0</td>\n      <td>0</td>\n      <td>0</td>\n      <td>1</td>\n      <td>0</td>\n      <td>...</td>\n      <td>0</td>\n      <td>1</td>\n      <td>0</td>\n      <td>0</td>\n      <td>1</td>\n      <td>0</td>\n      <td>0</td>\n      <td>-0.377299</td>\n      <td>0.528038</td>\n      <td>0.535819</td>\n    </tr>\n    <tr>\n      <th>2</th>\n      <td>0</td>\n      <td>0</td>\n      <td>0</td>\n      <td>1</td>\n      <td>0</td>\n      <td>0</td>\n      <td>0</td>\n      <td>0</td>\n      <td>1</td>\n      <td>0</td>\n      <td>...</td>\n      <td>1</td>\n      <td>0</td>\n      <td>0</td>\n      <td>0</td>\n      <td>1</td>\n      <td>0</td>\n      <td>0</td>\n      <td>-0.162540</td>\n      <td>-1.649074</td>\n      <td>-0.047722</td>\n    </tr>\n    <tr>\n      <th>3</th>\n      <td>0</td>\n      <td>0</td>\n      <td>1</td>\n      <td>1</td>\n      <td>0</td>\n      <td>0</td>\n      <td>0</td>\n      <td>0</td>\n      <td>0</td>\n      <td>1</td>\n      <td>...</td>\n      <td>1</td>\n      <td>0</td>\n      <td>0</td>\n      <td>0</td>\n      <td>1</td>\n      <td>0</td>\n      <td>0</td>\n      <td>-0.325215</td>\n      <td>0.450906</td>\n      <td>-0.227273</td>\n    </tr>\n    <tr>\n      <th>4</th>\n      <td>0</td>\n      <td>0</td>\n      <td>0</td>\n      <td>1</td>\n      <td>0</td>\n      <td>0</td>\n      <td>0</td>\n      <td>0</td>\n      <td>1</td>\n      <td>0</td>\n      <td>...</td>\n      <td>0</td>\n      <td>1</td>\n      <td>0</td>\n      <td>0</td>\n      <td>1</td>\n      <td>0</td>\n      <td>0</td>\n      <td>-0.185025</td>\n      <td>-0.357567</td>\n      <td>-0.855701</td>\n    </tr>\n  </tbody>\n</table>\n<p>5 rows × 25 columns</p>\n</div>"
     },
     "metadata": {},
     "execution_count": 58
    }
   ],
   "source": [
    "x[0:5]"
   ]
  },
  {
   "cell_type": "code",
   "execution_count": 57,
   "metadata": {},
   "outputs": [
    {
     "output_type": "execute_result",
     "data": {
      "text/plain": [
       "0    0\n",
       "1    0\n",
       "2    0\n",
       "3    0\n",
       "4    0\n",
       "Name: stroke, dtype: int64"
      ]
     },
     "metadata": {},
     "execution_count": 57
    }
   ],
   "source": [
    "y[0:5]"
   ]
  },
  {
   "source": [
    "## TREATING IMBALANCE CLASS USING SMOTE"
   ],
   "cell_type": "markdown",
   "metadata": {}
  },
  {
   "cell_type": "code",
   "execution_count": 59,
   "metadata": {},
   "outputs": [],
   "source": [
    "smote = SMOTE()\n",
    "x_smote, y_smote = smote.fit_resample(x, y)"
   ]
  },
  {
   "cell_type": "code",
   "execution_count": 60,
   "metadata": {},
   "outputs": [],
   "source": [
    "x_train, x_test, y_train, y_test = train_test_split(x, y, test_size= 0.2, random_state= 42)"
   ]
  },
  {
   "cell_type": "code",
   "execution_count": 61,
   "metadata": {},
   "outputs": [
    {
     "output_type": "stream",
     "name": "stdout",
     "text": [
      "3127\n3127\n782\n782\n"
     ]
    }
   ],
   "source": [
    "print(len(x_train))\n",
    "print(len(y_train))\n",
    "print(len(x_test))\n",
    "print(len(y_test))"
   ]
  },
  {
   "source": [],
   "cell_type": "markdown",
   "metadata": {}
  }
 ]
}