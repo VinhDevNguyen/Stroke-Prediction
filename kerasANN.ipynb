{
 "metadata": {
  "language_info": {
   "codemirror_mode": {
    "name": "ipython",
    "version": 3
   },
   "file_extension": ".py",
   "mimetype": "text/x-python",
   "name": "python",
   "nbconvert_exporter": "python",
   "pygments_lexer": "ipython3",
   "version": "3.8.8"
  },
  "orig_nbformat": 2,
  "kernelspec": {
   "name": "python388jvsc74a57bd0918239cf1a1c459f43dfa950158b4bf1e247c339d2b804cd9b69216ef854cd2c",
   "display_name": "Python 3.8.8 64-bit ('GPU': conda)"
  }
 },
 "nbformat": 4,
 "nbformat_minor": 2,
 "cells": [
  {
   "source": [
    "# Neural Network Approach\n"
   ],
   "cell_type": "markdown",
   "metadata": {}
  },
  {
   "source": [
    "# Import libraries & Load Dataset"
   ],
   "cell_type": "markdown",
   "metadata": {}
  },
  {
   "cell_type": "code",
   "execution_count": 1,
   "metadata": {},
   "outputs": [],
   "source": [
    "import pandas as pd\n",
    "import sklearn\n",
    "import matplotlib.pyplot as plt\n",
    "import seaborn as sns\n",
    "import numpy as np\n",
    "from sklearn.linear_model import LinearRegression\n",
    "from sklearn.metrics import f1_score, roc_auc_score, confusion_matrix\n",
    "from sklearn.preprocessing import StandardScaler, OneHotEncoder\n",
    "from sklearn.model_selection import train_test_split\n",
    "from imblearn.over_sampling import SMOTE\n",
    "import xgboost as xgb"
   ]
  },
  {
   "cell_type": "code",
   "execution_count": 2,
   "metadata": {},
   "outputs": [],
   "source": [
    "df = pd.read_csv(\"./Dataset/processed_train.csv\")\n",
    "x = df.copy()\n",
    "x = x.drop(columns='stroke')\n",
    "y = df['stroke']\n",
    "smote = SMOTE()\n",
    "x_smote, y_smote = smote.fit_resample(x, y)\n",
    "x_train, x_test, y_train, y_test = train_test_split(x_smote, y_smote, test_size= 0.2, random_state= 42)"
   ]
  },
  {
   "source": [
    "## NN Classifier"
   ],
   "cell_type": "markdown",
   "metadata": {}
  },
  {
   "cell_type": "code",
   "execution_count": 3,
   "metadata": {},
   "outputs": [],
   "source": [
    "from keras.models import Sequential\n",
    "from keras.layers import Dense"
   ]
  },
  {
   "cell_type": "code",
   "execution_count": 4,
   "metadata": {},
   "outputs": [],
   "source": [
    "# define the keras model\n",
    "model = Sequential()\n",
    "model.add(Dense(12, input_dim=25, activation='relu'))\n",
    "model.add(Dense(8, activation='relu'))\n",
    "model.add(Dense(1, activation='sigmoid'))\n",
    "\n",
    "# compile the keras model\n",
    "model.compile(loss='binary_crossentropy', optimizer='adam', metrics=['accuracy'])"
   ]
  },
  {
   "cell_type": "code",
   "execution_count": 5,
   "metadata": {},
   "outputs": [
    {
     "output_type": "stream",
     "name": "stdout",
     "text": [
      "Model: \"sequential\"\n_________________________________________________________________\nLayer (type)                 Output Shape              Param #   \n=================================================================\ndense (Dense)                (None, 12)                312       \n_________________________________________________________________\ndense_1 (Dense)              (None, 8)                 104       \n_________________________________________________________________\ndense_2 (Dense)              (None, 1)                 9         \n=================================================================\nTotal params: 425\nTrainable params: 425\nNon-trainable params: 0\n_________________________________________________________________\n"
     ]
    }
   ],
   "source": [
    "model.summary()"
   ]
  },
  {
   "source": [
    "### Training"
   ],
   "cell_type": "markdown",
   "metadata": {}
  },
  {
   "cell_type": "code",
   "execution_count": 6,
   "metadata": {},
   "outputs": [
    {
     "output_type": "stream",
     "name": "stdout",
     "text": [
      "Epoch 1/150\n",
      "190/190 [==============================] - 0s 757us/step - loss: 0.4944 - accuracy: 0.7906\n",
      "Epoch 2/150\n",
      "190/190 [==============================] - 0s 737us/step - loss: 0.2309 - accuracy: 0.9182\n",
      "Epoch 3/150\n",
      "190/190 [==============================] - 0s 747us/step - loss: 0.1707 - accuracy: 0.9375\n",
      "Epoch 4/150\n",
      "190/190 [==============================] - 0s 786us/step - loss: 0.1468 - accuracy: 0.9460\n",
      "Epoch 5/150\n",
      "190/190 [==============================] - 0s 742us/step - loss: 0.1303 - accuracy: 0.9531\n",
      "Epoch 6/150\n",
      "190/190 [==============================] - 0s 721us/step - loss: 0.1170 - accuracy: 0.9577\n",
      "Epoch 7/150\n",
      "190/190 [==============================] - 0s 716us/step - loss: 0.1075 - accuracy: 0.9613\n",
      "Epoch 8/150\n",
      "190/190 [==============================] - 0s 747us/step - loss: 0.0991 - accuracy: 0.9650\n",
      "Epoch 9/150\n",
      "190/190 [==============================] - 0s 758us/step - loss: 0.0917 - accuracy: 0.9666\n",
      "Epoch 10/150\n",
      "190/190 [==============================] - 0s 742us/step - loss: 0.0868 - accuracy: 0.9689\n",
      "Epoch 11/150\n",
      "190/190 [==============================] - 0s 727us/step - loss: 0.0826 - accuracy: 0.9689\n",
      "Epoch 12/150\n",
      "190/190 [==============================] - 0s 721us/step - loss: 0.0790 - accuracy: 0.9704\n",
      "Epoch 13/150\n",
      "190/190 [==============================] - 0s 716us/step - loss: 0.0751 - accuracy: 0.9749\n",
      "Epoch 14/150\n",
      "190/190 [==============================] - 0s 705us/step - loss: 0.0739 - accuracy: 0.9749\n",
      "Epoch 15/150\n",
      "190/190 [==============================] - 0s 784us/step - loss: 0.0716 - accuracy: 0.9752\n",
      "Epoch 16/150\n",
      "190/190 [==============================] - 0s 732us/step - loss: 0.0704 - accuracy: 0.9742\n",
      "Epoch 17/150\n",
      "190/190 [==============================] - 0s 716us/step - loss: 0.0669 - accuracy: 0.9772\n",
      "Epoch 18/150\n",
      "190/190 [==============================] - 0s 721us/step - loss: 0.0656 - accuracy: 0.9775\n",
      "Epoch 19/150\n",
      "190/190 [==============================] - 0s 726us/step - loss: 0.0640 - accuracy: 0.9790\n",
      "Epoch 20/150\n",
      "190/190 [==============================] - 0s 737us/step - loss: 0.0629 - accuracy: 0.9787\n",
      "Epoch 21/150\n",
      "190/190 [==============================] - 0s 732us/step - loss: 0.0632 - accuracy: 0.9792\n",
      "Epoch 22/150\n",
      "190/190 [==============================] - 0s 747us/step - loss: 0.0612 - accuracy: 0.9795\n",
      "Epoch 23/150\n",
      "190/190 [==============================] - 0s 721us/step - loss: 0.0591 - accuracy: 0.9797\n",
      "Epoch 24/150\n",
      "190/190 [==============================] - 0s 721us/step - loss: 0.0590 - accuracy: 0.9797\n",
      "Epoch 25/150\n",
      "190/190 [==============================] - 0s 710us/step - loss: 0.0577 - accuracy: 0.9797\n",
      "Epoch 26/150\n",
      "190/190 [==============================] - 0s 721us/step - loss: 0.0574 - accuracy: 0.9812\n",
      "Epoch 27/150\n",
      "190/190 [==============================] - 0s 726us/step - loss: 0.0569 - accuracy: 0.9808\n",
      "Epoch 28/150\n",
      "190/190 [==============================] - 0s 703us/step - loss: 0.0564 - accuracy: 0.9807\n",
      "Epoch 29/150\n",
      "190/190 [==============================] - 0s 729us/step - loss: 0.0552 - accuracy: 0.9808\n",
      "Epoch 30/150\n",
      "190/190 [==============================] - 0s 758us/step - loss: 0.0544 - accuracy: 0.9798\n",
      "Epoch 31/150\n",
      "190/190 [==============================] - 0s 721us/step - loss: 0.0550 - accuracy: 0.9807\n",
      "Epoch 32/150\n",
      "190/190 [==============================] - 0s 789us/step - loss: 0.0532 - accuracy: 0.9828\n",
      "Epoch 33/150\n",
      "190/190 [==============================] - 0s 747us/step - loss: 0.0525 - accuracy: 0.9822\n",
      "Epoch 34/150\n",
      "190/190 [==============================] - 0s 768us/step - loss: 0.0525 - accuracy: 0.9831\n",
      "Epoch 35/150\n",
      "190/190 [==============================] - 0s 816us/step - loss: 0.0509 - accuracy: 0.9828\n",
      "Epoch 36/150\n",
      "190/190 [==============================] - 0s 1ms/step - loss: 0.0521 - accuracy: 0.9820\n",
      "Epoch 37/150\n",
      "190/190 [==============================] - 0s 742us/step - loss: 0.0505 - accuracy: 0.9827\n",
      "Epoch 38/150\n",
      "190/190 [==============================] - 0s 740us/step - loss: 0.0495 - accuracy: 0.9833\n",
      "Epoch 39/150\n",
      "190/190 [==============================] - 0s 832us/step - loss: 0.0490 - accuracy: 0.9828\n",
      "Epoch 40/150\n",
      "190/190 [==============================] - 0s 771us/step - loss: 0.0502 - accuracy: 0.9813\n",
      "Epoch 41/150\n",
      "190/190 [==============================] - 0s 721us/step - loss: 0.0491 - accuracy: 0.9843\n",
      "Epoch 42/150\n",
      "190/190 [==============================] - 0s 774us/step - loss: 0.0487 - accuracy: 0.9825\n",
      "Epoch 43/150\n",
      "190/190 [==============================] - 0s 716us/step - loss: 0.0483 - accuracy: 0.9833\n",
      "Epoch 44/150\n",
      "190/190 [==============================] - 0s 720us/step - loss: 0.0478 - accuracy: 0.9835\n",
      "Epoch 45/150\n",
      "190/190 [==============================] - 0s 705us/step - loss: 0.0481 - accuracy: 0.9835\n",
      "Epoch 46/150\n",
      "190/190 [==============================] - 0s 732us/step - loss: 0.0492 - accuracy: 0.9833\n",
      "Epoch 47/150\n",
      "190/190 [==============================] - 0s 714us/step - loss: 0.0457 - accuracy: 0.9836\n",
      "Epoch 48/150\n",
      "190/190 [==============================] - 0s 729us/step - loss: 0.0452 - accuracy: 0.9846\n",
      "Epoch 49/150\n",
      "190/190 [==============================] - 0s 740us/step - loss: 0.0463 - accuracy: 0.9846\n",
      "Epoch 50/150\n",
      "190/190 [==============================] - 0s 734us/step - loss: 0.0458 - accuracy: 0.9840\n",
      "Epoch 51/150\n",
      "190/190 [==============================] - 0s 719us/step - loss: 0.0464 - accuracy: 0.9833\n",
      "Epoch 52/150\n",
      "190/190 [==============================] - 0s 852us/step - loss: 0.0445 - accuracy: 0.9851\n",
      "Epoch 53/150\n",
      "190/190 [==============================] - 0s 712us/step - loss: 0.0429 - accuracy: 0.9863\n",
      "Epoch 54/150\n",
      "190/190 [==============================] - 0s 716us/step - loss: 0.0450 - accuracy: 0.9835\n",
      "Epoch 55/150\n",
      "190/190 [==============================] - 0s 743us/step - loss: 0.0434 - accuracy: 0.9856\n",
      "Epoch 56/150\n",
      "190/190 [==============================] - 0s 736us/step - loss: 0.0426 - accuracy: 0.9850\n",
      "Epoch 57/150\n",
      "190/190 [==============================] - 0s 737us/step - loss: 0.0429 - accuracy: 0.9856\n",
      "Epoch 58/150\n",
      "190/190 [==============================] - 0s 716us/step - loss: 0.0429 - accuracy: 0.9853\n",
      "Epoch 59/150\n",
      "190/190 [==============================] - 0s 715us/step - loss: 0.0425 - accuracy: 0.9855\n",
      "Epoch 60/150\n",
      "190/190 [==============================] - 0s 736us/step - loss: 0.0420 - accuracy: 0.9850\n",
      "Epoch 61/150\n",
      "190/190 [==============================] - 0s 727us/step - loss: 0.0425 - accuracy: 0.9851\n",
      "Epoch 62/150\n",
      "190/190 [==============================] - 0s 734us/step - loss: 0.0421 - accuracy: 0.9861\n",
      "Epoch 63/150\n",
      "190/190 [==============================] - 0s 779us/step - loss: 0.0420 - accuracy: 0.9855\n",
      "Epoch 64/150\n",
      "190/190 [==============================] - 0s 766us/step - loss: 0.0449 - accuracy: 0.9846\n",
      "Epoch 65/150\n",
      "190/190 [==============================] - 0s 905us/step - loss: 0.0406 - accuracy: 0.9869\n",
      "Epoch 66/150\n",
      "190/190 [==============================] - 0s 716us/step - loss: 0.0423 - accuracy: 0.9853\n",
      "Epoch 67/150\n",
      "190/190 [==============================] - 0s 789us/step - loss: 0.0419 - accuracy: 0.9853\n",
      "Epoch 68/150\n",
      "190/190 [==============================] - 0s 779us/step - loss: 0.0429 - accuracy: 0.9850\n",
      "Epoch 69/150\n",
      "190/190 [==============================] - 0s 780us/step - loss: 0.0407 - accuracy: 0.9873\n",
      "Epoch 70/150\n",
      "190/190 [==============================] - 0s 1ms/step - loss: 0.0406 - accuracy: 0.9865\n",
      "Epoch 71/150\n",
      "190/190 [==============================] - 0s 761us/step - loss: 0.0404 - accuracy: 0.9863\n",
      "Epoch 72/150\n",
      "190/190 [==============================] - 0s 847us/step - loss: 0.0404 - accuracy: 0.9860\n",
      "Epoch 73/150\n",
      "190/190 [==============================] - 0s 821us/step - loss: 0.0394 - accuracy: 0.9863\n",
      "Epoch 74/150\n",
      "190/190 [==============================] - 0s 776us/step - loss: 0.0401 - accuracy: 0.9871\n",
      "Epoch 75/150\n",
      "190/190 [==============================] - 0s 866us/step - loss: 0.0385 - accuracy: 0.9861\n",
      "Epoch 76/150\n",
      "190/190 [==============================] - 0s 845us/step - loss: 0.0398 - accuracy: 0.9874\n",
      "Epoch 77/150\n",
      "190/190 [==============================] - 0s 758us/step - loss: 0.0405 - accuracy: 0.9855\n",
      "Epoch 78/150\n",
      "190/190 [==============================] - 0s 716us/step - loss: 0.0395 - accuracy: 0.9873\n",
      "Epoch 79/150\n",
      "190/190 [==============================] - 0s 753us/step - loss: 0.0390 - accuracy: 0.9876\n",
      "Epoch 80/150\n",
      "190/190 [==============================] - 0s 732us/step - loss: 0.0388 - accuracy: 0.9873\n",
      "Epoch 81/150\n",
      "190/190 [==============================] - 0s 721us/step - loss: 0.0393 - accuracy: 0.9863\n",
      "Epoch 82/150\n",
      "190/190 [==============================] - 0s 705us/step - loss: 0.0397 - accuracy: 0.9856\n",
      "Epoch 83/150\n",
      "190/190 [==============================] - 0s 771us/step - loss: 0.0386 - accuracy: 0.9874\n",
      "Epoch 84/150\n",
      "190/190 [==============================] - 0s 784us/step - loss: 0.0384 - accuracy: 0.9865\n",
      "Epoch 85/150\n",
      "190/190 [==============================] - 0s 740us/step - loss: 0.0391 - accuracy: 0.9869\n",
      "Epoch 86/150\n",
      "190/190 [==============================] - 0s 716us/step - loss: 0.0384 - accuracy: 0.9874\n",
      "Epoch 87/150\n",
      "190/190 [==============================] - 0s 763us/step - loss: 0.0388 - accuracy: 0.9869\n",
      "Epoch 88/150\n",
      "190/190 [==============================] - 0s 900us/step - loss: 0.0387 - accuracy: 0.9868\n",
      "Epoch 89/150\n",
      "190/190 [==============================] - 0s 779us/step - loss: 0.0372 - accuracy: 0.9879\n",
      "Epoch 90/150\n",
      "190/190 [==============================] - 0s 842us/step - loss: 0.0371 - accuracy: 0.9871\n",
      "Epoch 91/150\n",
      "190/190 [==============================] - 0s 758us/step - loss: 0.0372 - accuracy: 0.9871\n",
      "Epoch 92/150\n",
      "190/190 [==============================] - 0s 737us/step - loss: 0.0364 - accuracy: 0.9883\n",
      "Epoch 93/150\n",
      "190/190 [==============================] - 0s 758us/step - loss: 0.0380 - accuracy: 0.9874\n",
      "Epoch 94/150\n",
      "190/190 [==============================] - 0s 889us/step - loss: 0.0365 - accuracy: 0.9894\n",
      "Epoch 95/150\n",
      "190/190 [==============================] - 0s 905us/step - loss: 0.0372 - accuracy: 0.9879\n",
      "Epoch 96/150\n",
      "190/190 [==============================] - 0s 942us/step - loss: 0.0362 - accuracy: 0.9874\n",
      "Epoch 97/150\n",
      "190/190 [==============================] - 0s 789us/step - loss: 0.0359 - accuracy: 0.9881\n",
      "Epoch 98/150\n",
      "190/190 [==============================] - 0s 763us/step - loss: 0.0365 - accuracy: 0.9876\n",
      "Epoch 99/150\n",
      "190/190 [==============================] - 0s 926us/step - loss: 0.0361 - accuracy: 0.9883\n",
      "Epoch 100/150\n",
      "190/190 [==============================] - 0s 826us/step - loss: 0.0353 - accuracy: 0.9881\n",
      "Epoch 101/150\n",
      "190/190 [==============================] - 0s 776us/step - loss: 0.0370 - accuracy: 0.9873\n",
      "Epoch 102/150\n",
      "190/190 [==============================] - 0s 797us/step - loss: 0.0351 - accuracy: 0.9881\n",
      "Epoch 103/150\n",
      "190/190 [==============================] - 0s 847us/step - loss: 0.0356 - accuracy: 0.9878\n",
      "Epoch 104/150\n",
      "190/190 [==============================] - 0s 740us/step - loss: 0.0357 - accuracy: 0.9883\n",
      "Epoch 105/150\n",
      "190/190 [==============================] - 0s 779us/step - loss: 0.0357 - accuracy: 0.9881\n",
      "Epoch 106/150\n",
      "190/190 [==============================] - 0s 732us/step - loss: 0.0352 - accuracy: 0.9881\n",
      "Epoch 107/150\n",
      "190/190 [==============================] - 0s 853us/step - loss: 0.0355 - accuracy: 0.9876\n",
      "Epoch 108/150\n",
      "190/190 [==============================] - 0s 1ms/step - loss: 0.0347 - accuracy: 0.9886\n",
      "Epoch 109/150\n",
      "190/190 [==============================] - 0s 827us/step - loss: 0.0355 - accuracy: 0.9871\n",
      "Epoch 110/150\n",
      "190/190 [==============================] - 0s 826us/step - loss: 0.0347 - accuracy: 0.9881\n",
      "Epoch 111/150\n",
      "190/190 [==============================] - 0s 792us/step - loss: 0.0349 - accuracy: 0.9888\n",
      "Epoch 112/150\n",
      "190/190 [==============================] - 0s 832us/step - loss: 0.0343 - accuracy: 0.9888\n",
      "Epoch 113/150\n",
      "190/190 [==============================] - 0s 779us/step - loss: 0.0353 - accuracy: 0.9879\n",
      "Epoch 114/150\n",
      "190/190 [==============================] - 0s 805us/step - loss: 0.0341 - accuracy: 0.9883\n",
      "Epoch 115/150\n",
      "190/190 [==============================] - 0s 816us/step - loss: 0.0348 - accuracy: 0.9878\n",
      "Epoch 116/150\n",
      "190/190 [==============================] - 0s 721us/step - loss: 0.0333 - accuracy: 0.9891\n",
      "Epoch 117/150\n",
      "190/190 [==============================] - 0s 811us/step - loss: 0.0354 - accuracy: 0.9888\n",
      "Epoch 118/150\n",
      "190/190 [==============================] - 0s 768us/step - loss: 0.0345 - accuracy: 0.9888\n",
      "Epoch 119/150\n",
      "190/190 [==============================] - 0s 737us/step - loss: 0.0345 - accuracy: 0.9886\n",
      "Epoch 120/150\n",
      "190/190 [==============================] - 0s 774us/step - loss: 0.0337 - accuracy: 0.9896\n",
      "Epoch 121/150\n",
      "190/190 [==============================] - 0s 826us/step - loss: 0.0353 - accuracy: 0.9888\n",
      "Epoch 122/150\n",
      "190/190 [==============================] - 0s 768us/step - loss: 0.0336 - accuracy: 0.9883\n",
      "Epoch 123/150\n",
      "190/190 [==============================] - 0s 732us/step - loss: 0.0327 - accuracy: 0.9891\n",
      "Epoch 124/150\n",
      "190/190 [==============================] - 0s 753us/step - loss: 0.0335 - accuracy: 0.9889\n",
      "Epoch 125/150\n",
      "190/190 [==============================] - 0s 774us/step - loss: 0.0334 - accuracy: 0.9899\n",
      "Epoch 126/150\n",
      "190/190 [==============================] - 0s 722us/step - loss: 0.0336 - accuracy: 0.9894\n",
      "Epoch 127/150\n",
      "190/190 [==============================] - 0s 758us/step - loss: 0.0336 - accuracy: 0.9879\n",
      "Epoch 128/150\n",
      "190/190 [==============================] - 0s 784us/step - loss: 0.0328 - accuracy: 0.9889\n",
      "Epoch 129/150\n",
      "190/190 [==============================] - 0s 779us/step - loss: 0.0329 - accuracy: 0.9889\n",
      "Epoch 130/150\n",
      "190/190 [==============================] - 0s 771us/step - loss: 0.0340 - accuracy: 0.9894\n",
      "Epoch 131/150\n",
      "190/190 [==============================] - 0s 740us/step - loss: 0.0342 - accuracy: 0.9881\n",
      "Epoch 132/150\n",
      "190/190 [==============================] - 0s 753us/step - loss: 0.0341 - accuracy: 0.9876\n",
      "Epoch 133/150\n",
      "190/190 [==============================] - 0s 753us/step - loss: 0.0329 - accuracy: 0.9886\n",
      "Epoch 134/150\n",
      "190/190 [==============================] - 0s 737us/step - loss: 0.0328 - accuracy: 0.9888\n",
      "Epoch 135/150\n",
      "190/190 [==============================] - 0s 750us/step - loss: 0.0327 - accuracy: 0.9891\n",
      "Epoch 136/150\n",
      "190/190 [==============================] - 0s 835us/step - loss: 0.0328 - accuracy: 0.9884\n",
      "Epoch 137/150\n",
      "190/190 [==============================] - 0s 750us/step - loss: 0.0316 - accuracy: 0.9898\n",
      "Epoch 138/150\n",
      "190/190 [==============================] - 0s 721us/step - loss: 0.0333 - accuracy: 0.9884\n",
      "Epoch 139/150\n",
      "190/190 [==============================] - 0s 748us/step - loss: 0.0319 - accuracy: 0.9889\n",
      "Epoch 140/150\n",
      "190/190 [==============================] - 0s 742us/step - loss: 0.0315 - accuracy: 0.9898\n",
      "Epoch 141/150\n",
      "190/190 [==============================] - 0s 725us/step - loss: 0.0316 - accuracy: 0.9899\n",
      "Epoch 142/150\n",
      "190/190 [==============================] - 0s 784us/step - loss: 0.0376 - accuracy: 0.9873\n",
      "Epoch 143/150\n",
      "190/190 [==============================] - 0s 753us/step - loss: 0.0321 - accuracy: 0.9903\n",
      "Epoch 144/150\n",
      "190/190 [==============================] - 0s 770us/step - loss: 0.0317 - accuracy: 0.9889\n",
      "Epoch 145/150\n",
      "190/190 [==============================] - 0s 753us/step - loss: 0.0316 - accuracy: 0.9893\n",
      "Epoch 146/150\n",
      "190/190 [==============================] - 0s 737us/step - loss: 0.0317 - accuracy: 0.9896\n",
      "Epoch 147/150\n",
      "190/190 [==============================] - 0s 758us/step - loss: 0.0307 - accuracy: 0.9898\n",
      "Epoch 148/150\n",
      "190/190 [==============================] - 0s 742us/step - loss: 0.0321 - accuracy: 0.9893\n",
      "Epoch 149/150\n",
      "190/190 [==============================] - 0s 753us/step - loss: 0.0336 - accuracy: 0.9881\n",
      "Epoch 150/150\n",
      "190/190 [==============================] - 0s 784us/step - loss: 0.0311 - accuracy: 0.9893\n"
     ]
    },
    {
     "output_type": "execute_result",
     "data": {
      "text/plain": [
       "<tensorflow.python.keras.callbacks.History at 0x28d3c49fdc0>"
      ]
     },
     "metadata": {},
     "execution_count": 6
    }
   ],
   "source": [
    "model.fit(x_train, y_train, epochs=150, batch_size=32)"
   ]
  },
  {
   "source": [
    "### Prediction"
   ],
   "cell_type": "markdown",
   "metadata": {}
  },
  {
   "cell_type": "code",
   "execution_count": 7,
   "metadata": {},
   "outputs": [
    {
     "output_type": "stream",
     "name": "stdout",
     "text": [
      "WARNING:tensorflow:From <ipython-input-7-41a58b04bb02>:1: Sequential.predict_classes (from tensorflow.python.keras.engine.sequential) is deprecated and will be removed after 2021-01-01.\nInstructions for updating:\nPlease use instead:* `np.argmax(model.predict(x), axis=-1)`,   if your model does multi-class classification   (e.g. if it uses a `softmax` last-layer activation).* `(model.predict(x) > 0.5).astype(\"int32\")`,   if your model does binary classification   (e.g. if it uses a `sigmoid` last-layer activation).\n"
     ]
    },
    {
     "output_type": "execute_result",
     "data": {
      "text/plain": [
       "array([[1],\n",
       "       [0],\n",
       "       [0],\n",
       "       ...,\n",
       "       [0],\n",
       "       [1],\n",
       "       [0]])"
      ]
     },
     "metadata": {},
     "execution_count": 7
    }
   ],
   "source": [
    "y_pred = model.predict_classes(x_test)\n",
    "y_pred"
   ]
  },
  {
   "source": [],
   "cell_type": "markdown",
   "metadata": {}
  },
  {
   "cell_type": "code",
   "execution_count": 8,
   "metadata": {},
   "outputs": [
    {
     "output_type": "execute_result",
     "data": {
      "text/plain": [
       "0.9792085848423878"
      ]
     },
     "metadata": {},
     "execution_count": 8
    }
   ],
   "source": [
    "f1_score(y_test,y_pred)"
   ]
  },
  {
   "source": [
    "## Generate Submission"
   ],
   "cell_type": "markdown",
   "metadata": {}
  },
  {
   "cell_type": "code",
   "execution_count": 40,
   "metadata": {},
   "outputs": [],
   "source": [
    "def generate_submission(model, test_data, model_name = \"\"): \n",
    "    ''' \n",
    "    Generate submission based on given model and test set \n",
    "    param: \n",
    "        model: model must have predict method \n",
    "        test_data: dataframe \n",
    "        model_name  \n",
    "    return: \n",
    "        None\n",
    "    '''  \n",
    "    test_data.drop(columns= 'Unnamed: 0', inplace=True)\n",
    "    x = test_data.copy()\n",
    "    x.drop(columns='id', inplace=True)\n",
    "    id_test = test_data['id']\n",
    "    y_pred = model.predict_classes(x)\n",
    "    # y_pred = pd.DataFrame(y_pred)\n",
    "    y_pred = y_pred.reshape(-1)\n",
    "    data_test_submit = {'id': id_test, 'stroke': y_pred}\n",
    "    df_test_submit = pd.DataFrame(data= data_test_submit)\n",
    "    df_test_submit.to_csv('./Submission/submission_' + model_name + '.csv', index= False)\n",
    "\n",
    "    return "
   ]
  },
  {
   "cell_type": "code",
   "execution_count": 41,
   "metadata": {},
   "outputs": [],
   "source": [
    "test_df = pd.read_csv(\"./Dataset/processed_test.csv\")\n",
    "generate_submission(model, test_df, 'ANN')"
   ]
  },
  {
   "cell_type": "code",
   "execution_count": 37,
   "metadata": {},
   "outputs": [
    {
     "output_type": "execute_result",
     "data": {
      "text/plain": [
       "array([0, 0, 0, 0, 0, 0, 0, 0, 0, 0, 0, 0, 0, 0, 0, 0, 0, 1, 0, 0, 0, 0,\n",
       "       0, 0, 1, 0, 0, 0, 0, 0, 0, 0, 0, 0, 0, 0, 0, 0, 1, 1, 0, 0, 0, 0,\n",
       "       0, 0, 0, 0, 0, 0, 1, 0, 0, 0, 0, 0, 0, 0, 0, 0, 0, 0, 0, 0, 0, 0,\n",
       "       0, 1, 0, 0, 1, 0, 0, 0, 0, 0, 0, 0, 0, 0, 0, 1, 1, 0, 0, 0, 0, 0,\n",
       "       0, 0, 0, 0, 0, 0, 0, 0, 0, 0, 1, 0, 0, 1, 0, 0, 0, 0, 0, 0, 0, 1,\n",
       "       0, 0, 0, 0, 0, 1, 0, 0, 0, 1, 0, 0, 0, 0, 0, 0, 0, 0, 0, 0, 0, 0,\n",
       "       0, 1, 1, 0, 0, 0, 0, 0, 0, 1, 0, 0, 0, 0, 0, 0, 0, 0, 0, 0, 1, 0,\n",
       "       0, 0, 0, 0, 0, 0, 0, 0, 0, 0, 1, 0, 0, 0, 0, 0, 0, 1, 0, 0, 1, 0,\n",
       "       0, 0, 0, 0, 1, 0, 0, 0, 0, 0, 0, 0, 0, 0, 0, 0, 0, 0, 0, 0, 0, 0,\n",
       "       1, 0, 0, 0, 0, 0, 0, 1, 0, 0, 1, 0, 0, 0, 0, 1, 1, 0, 0, 0, 0, 0,\n",
       "       0, 0, 0, 0, 0, 0, 0, 0, 1, 0, 0, 0, 0, 1, 0, 0, 0, 0, 0, 0, 0, 0,\n",
       "       0, 0, 0, 1, 0, 0, 0, 1, 0, 0, 0, 0, 0, 1, 0, 0, 0, 1, 0, 0, 0, 0,\n",
       "       0, 0, 0, 0, 1, 0, 0, 0, 0, 0, 0, 0, 0, 0, 0, 0, 0, 0, 0, 1, 0, 0,\n",
       "       0, 1, 0, 1, 0, 0, 0, 1, 0, 0, 0, 0, 0, 0, 0, 0, 0, 0, 0, 0, 0, 0,\n",
       "       0, 1, 1, 0, 0, 1, 0, 0, 0, 0, 0, 0, 0, 0, 0, 0, 0, 0, 0, 0, 1, 0,\n",
       "       0, 1, 0, 0, 0, 1, 0, 0, 0, 0, 0, 0, 0, 0, 0, 0, 1, 0, 0, 0, 0, 1,\n",
       "       0, 0, 0, 0, 0, 0, 0, 0, 0, 0, 1, 0, 1, 0, 0, 0, 0, 0, 0, 0, 0, 0,\n",
       "       0, 0, 0, 0, 1, 0, 0, 0, 0, 0, 0, 0, 0, 0, 0, 0, 1, 1, 0, 0, 0, 0,\n",
       "       1, 0, 1, 0, 0, 1, 0, 0, 0, 0, 0, 1, 1, 1, 0, 0, 0, 1, 0, 1, 0, 0,\n",
       "       0, 1, 0, 0, 0, 1, 0, 1, 0, 0, 0, 0, 1, 0, 1, 0, 0, 0, 0, 1, 0, 0,\n",
       "       0, 0, 0, 0, 0, 0, 1, 1, 0, 0, 0, 1, 0, 0, 0, 1, 0, 0, 0, 0, 0, 0,\n",
       "       0, 1, 1, 0, 0, 1, 0, 0, 0, 0, 0, 0, 0, 0, 0, 0, 1, 0, 0, 0, 0, 1,\n",
       "       0, 1, 0, 1, 0, 0, 0, 0, 1, 0, 0, 0, 0, 0, 0, 0])"
      ]
     },
     "metadata": {},
     "execution_count": 37
    }
   ],
   "source": [
    "y_pred.reshape(-1)"
   ]
  }
 ]
}